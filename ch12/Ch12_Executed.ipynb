{
 "cells": [
  {
   "cell_type": "markdown",
   "metadata": {},
   "source": [
    "&copy; 2019 by Pearson Education, Inc. All Rights Reserved. The content in this notebook is based on the book [**Python for Programmers**](https://amzn.to/2VvdnxE)."
   ]
  },
  {
   "cell_type": "code",
   "execution_count": 1,
   "metadata": {},
   "outputs": [],
   "source": [
    "# enable high-res images in notebook \n",
    "%config InlineBackend.figure_format = 'retina'"
   ]
  },
  {
   "cell_type": "markdown",
   "metadata": {},
   "source": [
    "# 12. Data Mining Twitter \n",
    "# Objectives\n",
    "* **Data-mine Twitter** with **Tweepy** library\n",
    "* Search **past tweets** with the **Twitter Search API**\n",
    "* Sample the **live tweet stream** with the **Twitter Streaming API**\n",
    "* Tweet object **meta data** \n",
    "* Use **NLP** to **clean and preprocess tweets** for analysis\n",
    "* Perform **sentiment analysis** on tweets\n",
    "* **Spot trends** with **Twitter’s Trends API**\n",
    "* **Map tweets** using **folium** and **OpenStreetMap**"
   ]
  },
  {
   "cell_type": "markdown",
   "metadata": {},
   "source": [
    "<hr style=\"height:2px; border:none; color:#000; background-color:#000;\">"
   ]
  },
  {
   "cell_type": "markdown",
   "metadata": {},
   "source": [
    "# 12.1 Introduction \n",
    "* Popular **big-data source**  \n",
    "* **Data mining** &mdash; searching large collections of data for **insights**\n",
    "* **Sentiment** in tweets can help **make predictions**  \n",
    "    * **Stock prices**\n",
    "    * **Election results**\n",
    "    * Likely **revenues** for a **new movie**\n",
    "    * **Success** of a company’s **marketing campaign**\n",
    "* Spot **faults in competitors’ products** \n",
    "* Spot **trending topics**\n",
    "* **Connect to Twitter** with easy-to-use **Web services**"
   ]
  },
  {
   "cell_type": "markdown",
   "metadata": {},
   "source": [
    "<hr style=\"height:2px; border:none; color:#000; background-color:#000;\">"
   ]
  },
  {
   "cell_type": "markdown",
   "metadata": {},
   "source": [
    "### What Is Twitter? \n",
    "* **Tweets**\n",
    "    * Short messages\n",
    "    * Initially limited to **140 characters**\n",
    "    * Increased in 2017 for most languages to **280 characters**\n",
    "* **Most open social network**&mdash;anyone can generally choose to follow anyone else\n",
    "* **Free programmatic access** to a small portion of **last 7 days' tweets**\n",
    "    * Can get **paid access** to larger portions the **all-time tweets database**\n",
    "* [**Hundreds of millions of tweets are sent every day** with many thousands sent per second](http://www.internetlivestats.com/twitter-statistics/)\n",
    "* Can tap into the **live stream** and get up to 1% of live tweets\n",
    "    * **Like “drinking from a fire hose”** "
   ]
  },
  {
   "cell_type": "markdown",
   "metadata": {},
   "source": [
    "<hr style=\"height:2px; border:none; color:#000; background-color:#000;\">"
   ]
  },
  {
   "cell_type": "markdown",
   "metadata": {},
   "source": [
    "# 12.2 Overview of the Twitter APIs \n",
    "* **Web services** are **methods** that you call in the **cloud**\n",
    "* Each **method** has a **web service endpoint** represented by a **URL**\n",
    "* **Caution**: **apps can be brittle**\n",
    "    * Internet connections can be lost, services can change, some services not available everywhere, ... \n",
    "* [Twitter API categories, subcategories and individual methods](https://developer.twitter.com/en/docs/api-reference-index.html)"
   ]
  },
  {
   "cell_type": "markdown",
   "metadata": {},
   "source": [
    "<hr style=\"height:2px; border:none; color:#000; background-color:#000;\">"
   ]
  },
  {
   "cell_type": "markdown",
   "metadata": {},
   "source": [
    "### Rate Limits and Restrictions\n",
    "* Twitter expects developers to **use its services responsibly**\n",
    "* **Understand rate limits** before using any method or you could get **blocked**\n",
    "* Some methods list both **user rate limits** and **app rate limits**\n",
    "    * We use **app rate limits** in the demos\n",
    "    * **User rate limits** for apps in which individuals to log into own Twitter accounts\n",
    "    * [Details on rate limiting](https://developer.twitter.com/en/docs/basics/rate-limiting)\n",
    "    * [Specific rate limits on individual API methods](https://developer.twitter.com/en/docs/basics/rate-limits) — also see each API method’s docs\n",
    "* **Follow Twitter’s rules/regulations or your developer account could be terminated.** \n",
    "\t* [Terms of Service](https://twitter.com/tos), [Developer Agreement](https://developer.twitter.com/en/developer-terms/agreement-and-policy.html), [Developer Policy](https://developer.twitter.com/en/developer-terms/policy.html), [Other restrictions](https://developer.twitter.com/en/developer-terms/more-on-restricted-use-cases)"
   ]
  },
  {
   "cell_type": "markdown",
   "metadata": {},
   "source": [
    "<hr style=\"height:2px; border:none; color:#000; background-color:#000;\">"
   ]
  },
  {
   "cell_type": "markdown",
   "metadata": {},
   "source": [
    "# 12.4 Getting Twitter Credentials—Creating an App \n",
    "* [Apply for a developer account](https://developer.twitter.com/en/apply-for-access) to use the APIs\n",
    "* Must get **credentials** to use Twitter APIs\n",
    "    * Part of the **OAuth 2.0 authentication process**\n",
    "    * **Tweepy handles OAuth 2.0 authentication details for you**\n",
    "* To get credentials, you’ll [**create an app**](https://developer.twitter.com) \n",
    "    * **Each app has separate credentials**\n",
    "    * I present **details on creating apps** in my [**Python Fundamentals LiveLessons videos for Section 12.4**](https://learning.oreilly.com/videos/python-fundamentals/9780135917411/9780135917411-PFLL_Lesson12_04) and [**Python for Programmers Section 12.4**](https://learning.oreilly.com/library/view/Python+for+Programmers,+First+Edition/9780135231364/ch12.xhtml#ch12lev1sec4)"
   ]
  },
  {
   "cell_type": "markdown",
   "metadata": {},
   "source": [
    "<hr style=\"height:2px; border:none; color:#000; background-color:#000;\">"
   ]
  },
  {
   "cell_type": "markdown",
   "metadata": {},
   "source": [
    "# 12.5 What’s in a Tweet? \n",
    "* Twitter API returns **JSON (JavaScript Object Notation)** objects\n",
    "* Text-based, human and computer readable\n",
    "* Like Python **dictionaries**\n",
    "* **JSON object format** &mdash; **all strings in double quotes (\")**\n",
    ">```python\n",
    "{propertyName1: value1, propertyName2: value2}\n",
    "```\n",
    "* **JSON array format (like Python list)**:\n",
    ">```python\n",
    "[value1, value2, value3]\n",
    "```\n",
    "* **Tweepy handles the JSON for you** behind the scenes"
   ]
  },
  {
   "cell_type": "markdown",
   "metadata": {},
   "source": [
    "<hr style=\"height:2px; border:none; color:#000; background-color:#000;\">"
   ]
  },
  {
   "cell_type": "markdown",
   "metadata": {},
   "source": [
    "### Key Properties of a Tweet Object \n",
    "* **Tweet object** contains **metadata**, including\n",
    "    * **text** of the tweet\n",
    "    * **extended tweet** for tweets up to **280 characters**\n",
    "\t* **when** it was created \n",
    "\t* **who** created it,\n",
    "\t* lists of **hashtags**, **URLs**, **`@`-mentions**, **images**, **videos** and more\n",
    "* [Our table of many key **tweet metadata attributes**](https://learning.oreilly.com/library/view/python-for-programmers/9780135231364/ch12.xhtml#ch12lev1sec5)\n",
    "* [Complete list of the tweet object attributes](https://developer.twitter.com/en/docs/tweets/data-dictionary/overview/tweet-object.html)\n",
    "* [General overview of all the JSON objects that Twitter APIs return, and links to the specific object details](https://developer.twitter.com/en/docs/tweets/data-dictionary/overview/intro-to-tweet-json)"
   ]
  },
  {
   "cell_type": "markdown",
   "metadata": {},
   "source": [
    "<hr style=\"height:2px; border:none; color:#000; background-color:#000;\">"
   ]
  },
  {
   "cell_type": "markdown",
   "metadata": {},
   "source": [
    "### Sample Tweet JSON\n",
    "* **Sample JSON** for this tweet from the **`@nasa`** account: \n",
    ">```\n",
    "@NoFear1075 Great question, Anthony! Throughout its seven-year \n",
    "mission, our Parker #SolarProbe spacecraft... https://t.co/xKd6ym8waT'\n",
    "```"
   ]
  },
  {
   "cell_type": "markdown",
   "metadata": {},
   "source": [
    "<hr style=\"height:2px; border:none; color:#000; background-color:#000;\">"
   ]
  },
  {
   "cell_type": "markdown",
   "metadata": {},
   "source": [
    "```python\n",
    "{'created_at': 'Wed Sep 05 18:19:34 +0000 2018',\n",
    " 'id': 1037404890354606082,\n",
    " 'id_str': '1037404890354606082',\n",
    " 'text': '@NoFear1075 Great question, Anthony! Throughout its seven-year \n",
    "          mission, our Parker #SolarProbe spacecraft… https://t.co/xKd6ym8waT',\n",
    " 'truncated': True,\n",
    " 'entities': {'hashtags': [{'text': 'SolarProbe', 'indices': [84, 95]}],\n",
    "    'symbols': [],\n",
    "    'user_mentions': [{'screen_name': 'NoFear1075',\n",
    "        'name': 'Anthony Perrone',\n",
    "        'id': 284339791,\n",
    "        'id_str': '284339791',\n",
    "        'indices': [0, 11]}],\n",
    "    'urls': [{'url': 'https://t.co/xKd6ym8waT',\n",
    "        'expanded_url': 'https://twitter.com/i/web/status/1037404890354606082',\n",
    "        'display_url': 'twitter.com/i/web/status/1…',\n",
    "        'indices': [117, 140]}]},\n",
    " 'source': '<a href=\"http://twitter.com\" rel=\"nofollow\">Twitter Web Client</a>',\n",
    "```"
   ]
  },
  {
   "cell_type": "markdown",
   "metadata": {},
   "source": [
    "```python\n",
    " 'in_reply_to_status_id': 1037390542424956928,\n",
    " 'in_reply_to_status_id_str': '1037390542424956928',\n",
    " 'in_reply_to_user_id': 284339791,\n",
    " 'in_reply_to_user_id_str': '284339791',\n",
    " 'in_reply_to_screen_name': 'NoFear1075',\n",
    " 'user': {'id': 11348282,\n",
    "    'id_str': '11348282',\n",
    "    'name': 'NASA',\n",
    "    'screen_name': 'NASA',\n",
    "    'location': '',\n",
    "    'description': 'Explore the universe and discover our home planet with \n",
    "            @NASA. We usually post in EST (UTC-5)',\n",
    "    'url': 'https://t.co/TcEE6NS8nD',\n",
    "    'entities': {'url': {'urls': [{'url': 'https://t.co/TcEE6NS8nD',\n",
    "            'expanded_url': 'http://www.nasa.gov',\n",
    "            'display_url': 'nasa.gov',\n",
    "            'indices': [0, 23]}]},\n",
    "    'description': {'urls': []}},\n",
    "    'protected': False,\n",
    "    'followers_count': 29486081,\n",
    "    'friends_count': 287,\n",
    "    'listed_count': 91928,\n",
    "    'created_at': 'Wed Dec 19 20:20:32 +0000 2007',\n",
    "    'favourites_count': 3963,\n",
    "    'time_zone': None,\n",
    "    'geo_enabled': False,\n",
    "    'verified': True,\n",
    "    'statuses_count': 53147,\n",
    "    'lang': 'en',\n",
    "```"
   ]
  },
  {
   "cell_type": "markdown",
   "metadata": {},
   "source": [
    "```python\n",
    "    'contributors_enabled': False,\n",
    "    'is_translator': False,\n",
    "    'is_translation_enabled': False,\n",
    "    'profile_background_color': '000000',\n",
    "    'profile_background_image_url': 'http://abs.twimg.com/images/themes/theme1/bg.png',\n",
    "    'profile_background_image_url_https': 'https://abs.twimg.com/images/themes/theme1/bg.png',\n",
    "    'profile_image_url': 'http://pbs.twimg.com/profile_images/188302352/nasalogo_twitter_normal.jpg',\n",
    "    'profile_image_url_https': 'https://pbs.twimg.com/profile_images/188302352/nasalogo_twitter_normal.jpg',\n",
    "    'profile_banner_url': 'https://pbs.twimg.com/profile_banners/11348282/1535145490',\n",
    "    'profile_link_color': '205BA7',\n",
    "    'profile_sidebar_border_color': '000000',\n",
    "    'profile_sidebar_fill_color': 'F3F2F2',\n",
    "    'profile_text_color': '000000',\n",
    "    'profile_use_background_image': True,\n",
    "    'has_extended_profile': True,\n",
    "    'default_profile': False,\n",
    "    'default_profile_image': False,\n",
    "    'following': True,\n",
    "    'follow_request_sent': False,\n",
    "    'notifications': False,\n",
    "    'translator_type': 'regular'},\n",
    " 'geo': None,\n",
    " 'coordinates': None,\n",
    " 'place': None,\n",
    " 'contributors': None,\n",
    " 'is_quote_status': False,\n",
    " 'retweet_count': 7,\n",
    " 'favorite_count': 19,\n",
    " 'favorited': False,\n",
    " 'retweeted': False,\n",
    " 'possibly_sensitive': False,\n",
    " 'lang': 'en'}\n",
    "\n",
    "```"
   ]
  },
  {
   "cell_type": "markdown",
   "metadata": {},
   "source": [
    "<hr style=\"height:2px; border:none; color:#000; background-color:#000;\">"
   ]
  },
  {
   "cell_type": "markdown",
   "metadata": {},
   "source": [
    "# 12.6 Tweepy\n",
    "* [**Tweepy library**](http://www.tweepy.org/)—**one of the most popular Python Twitter clients**\n",
    "> `pip install tweepy>=4.3`\n",
    "* Easy access to Twitter’s capabilities\n",
    "* [Tweepy’s documentation](http://docs.tweepy.org/en/latest/)\n",
    "* One function in `tweetutilities.py` file depends on [**geopy**](https://github.com/geopy/geopy) (used later to **plot tweet locations**)\n",
    ">`conda install -c conda-forge geopy`"
   ]
  },
  {
   "cell_type": "markdown",
   "metadata": {},
   "source": [
    "<hr style=\"height:2px; border:none; color:#000; background-color:#000;\">"
   ]
  },
  {
   "cell_type": "markdown",
   "metadata": {},
   "source": [
    "# 12.7 Authenticating with Twitter Via Tweepy\n",
    "* **Authentication API**—Authenticate with your **Twitter credentials** to use other Twitter APIs\n",
    "* **`keys.py`** must contain your credentials"
   ]
  },
  {
   "cell_type": "code",
   "execution_count": 2,
   "metadata": {},
   "outputs": [],
   "source": [
    "import tweepy"
   ]
  },
  {
   "cell_type": "code",
   "execution_count": 3,
   "metadata": {},
   "outputs": [],
   "source": [
    "import keys"
   ]
  },
  {
   "cell_type": "code",
   "execution_count": 4,
   "metadata": {},
   "outputs": [],
   "source": [
    "auth = tweepy.OAuthHandler(keys.consumer_key,\n",
    "                           keys.consumer_secret)"
   ]
  },
  {
   "cell_type": "code",
   "execution_count": 5,
   "metadata": {},
   "outputs": [],
   "source": [
    "auth.set_access_token(keys.access_token,\n",
    "                      keys.access_token_secret)"
   ]
  },
  {
   "cell_type": "markdown",
   "metadata": {},
   "source": [
    "<hr style=\"height:2px; border:none; color:#000; background-color:#000;\">"
   ]
  },
  {
   "cell_type": "markdown",
   "metadata": {},
   "source": [
    "### Creating the Tweepy API Object\n",
    "* A **Tweepy `API` object** is your **gateway** to Twitter APIs"
   ]
  },
  {
   "cell_type": "markdown",
   "metadata": {},
   "source": [
    "* **CHANGE:** `wait_on_rate_limit_notify=True` (all errors are now reported, so they removed this)"
   ]
  },
  {
   "cell_type": "code",
   "execution_count": 6,
   "metadata": {},
   "outputs": [],
   "source": [
    "api = tweepy.API(auth, wait_on_rate_limit=True) # , wait_on_rate_limit_notify=True)"
   ]
  },
  {
   "cell_type": "markdown",
   "metadata": {},
   "source": [
    "* **`auth`** is the **`OAuthHandler`**\n",
    "* **`wait_on_rate_limit=True`** &mdash; **wait 15 minutes** when app reaches an API method’s rate limit\n",
    "    * prevents violations\n",
    "* **`wait_on_rate_limit_notify=True`** &mdash; **display a command-line message** when you hit a rate limit"
   ]
  },
  {
   "cell_type": "markdown",
   "metadata": {},
   "source": [
    "<hr style=\"height:2px; border:none; color:#000; background-color:#000;\">"
   ]
  },
  {
   "cell_type": "markdown",
   "metadata": {},
   "source": [
    "# 12.8 Getting Information About a Twitter Account\n",
    "* **Accounts and Users API**—Access information about an account\n",
    "* `API` object’s **`get_user` method** returns a **`tweepy.models.User` object** for an account"
   ]
  },
  {
   "cell_type": "code",
   "execution_count": 7,
   "metadata": {},
   "outputs": [],
   "source": [
    "nasa = api.get_user(screen_name='nasa')"
   ]
  },
  {
   "cell_type": "markdown",
   "metadata": {},
   "source": [
    "* Calls the **Twitter API’s [`users/show` method](https://developer.twitter.com/en/docs/accounts-and-users/follow-search-get-users/api-reference/get-users-show)**\n",
    "* **`tweepy.models` classes** correspond to returned **JSON objects**\n",
    "* **`User` class** corresponds to a Twitter [**user object**](https://developer.twitter.com/en/docs/tweets/data-dictionary/overview/user-object)\n",
    "* **`tweepy.models` classes** turn **JSON** into **Tweepy objects** "
   ]
  },
  {
   "cell_type": "markdown",
   "metadata": {},
   "source": [
    "<hr style=\"height:2px; border:none; color:#000; background-color:#000;\">"
   ]
  },
  {
   "cell_type": "markdown",
   "metadata": {},
   "source": [
    "### Getting Basic Account Information for `@nasa`\n",
    "* IDs and twitter handles can be used to **track tweets to, from and about users**"
   ]
  },
  {
   "cell_type": "code",
   "execution_count": 8,
   "metadata": {},
   "outputs": [
    {
     "data": {
      "text/plain": [
       "11348282"
      ]
     },
     "execution_count": 8,
     "metadata": {},
     "output_type": "execute_result"
    }
   ],
   "source": [
    "nasa.id  # account ID created when the user joined Twitter"
   ]
  },
  {
   "cell_type": "code",
   "execution_count": 9,
   "metadata": {},
   "outputs": [
    {
     "data": {
      "text/plain": [
       "'NASA'"
      ]
     },
     "execution_count": 9,
     "metadata": {},
     "output_type": "execute_result"
    }
   ],
   "source": [
    "nasa.screen_name  # user’s Twitter handle"
   ]
  },
  {
   "cell_type": "code",
   "execution_count": 10,
   "metadata": {},
   "outputs": [
    {
     "data": {
      "text/plain": [
       "\"There's space for everybody. ✨\""
      ]
     },
     "execution_count": 10,
     "metadata": {},
     "output_type": "execute_result"
    }
   ],
   "source": [
    "nasa.description  # description from the user’s profile"
   ]
  },
  {
   "cell_type": "markdown",
   "metadata": {},
   "source": [
    "* Lots of additional attributes, like `name`, `description`, `followers_count`, `friends_count`, etc."
   ]
  },
  {
   "cell_type": "code",
   "execution_count": 11,
   "metadata": {},
   "outputs": [
    {
     "data": {
      "text/plain": [
       "58258957"
      ]
     },
     "execution_count": 11,
     "metadata": {},
     "output_type": "execute_result"
    }
   ],
   "source": [
    "nasa.followers_count"
   ]
  },
  {
   "cell_type": "markdown",
   "metadata": {},
   "source": [
    "<hr style=\"height:2px; border:none; color:#000; background-color:#000;\">"
   ]
  },
  {
   "cell_type": "markdown",
   "metadata": {},
   "source": [
    "### Getting `@nasa`'s Most Recent Status Update\n",
    "* `User` object’s **`status` property** returns a **`tweepy.models.Status`** object\n",
    "* Corresponds to a Twitter [**tweet object**](https://developer.twitter.com/en/docs/tweets/data-dictionary/overview/tweet-object)"
   ]
  },
  {
   "cell_type": "code",
   "execution_count": 12,
   "metadata": {},
   "outputs": [
    {
     "data": {
      "text/plain": [
       "\"We're sharing the latest scientific findings from across our universe this week at #AAS240, the 240th meeting of th… https://t.co/YtNRllaEck\""
      ]
     },
     "execution_count": 12,
     "metadata": {},
     "output_type": "execute_result"
    }
   ],
   "source": [
    "nasa.status.text  # most recent tweet's text"
   ]
  },
  {
   "cell_type": "markdown",
   "metadata": {},
   "source": [
    "* **...** indicates **truncated** tweet text\n",
    "* **`extended_tweet` property** for tweets between 141 and 280 characters (as of Nov. 2017) \n",
    "* **Retweeting** often results in truncation"
   ]
  },
  {
   "cell_type": "markdown",
   "metadata": {},
   "source": [
    "<hr style=\"height:2px; border:none; color:#000; background-color:#000;\">"
   ]
  },
  {
   "cell_type": "markdown",
   "metadata": {},
   "source": [
    "# 12.9 Introduction to Tweepy Cursors: Getting an Account’s Followers \n",
    "* Twitter API methods often return collections of objects \n",
    "    * E.g., list of tweets that match specified search criteria \n",
    "* Each method has **maximum number of items returned by one call**\n",
    "    * A **\"page\"** of results\n",
    "* **JSON responses** indicate whether there are **more pages**\n",
    "* A **`Cursor`** handles **paging** \n",
    "    * Invokes a method and **checks for more pages**\n",
    "    * If so, **calls the method again**  \n",
    "    * Continues until there are no more results to process\n",
    "    * If `API` object configured to **wait on rate limits**, **`Cursor`s wait as needed**\n",
    "* [Tweepy `Cursor` tutorial](http://docs.tweepy.org/en/latest/cursor_tutorial.html)"
   ]
  },
  {
   "cell_type": "markdown",
   "metadata": {},
   "source": [
    "<hr style=\"height:2px; border:none; color:#000; background-color:#000;\">"
   ]
  },
  {
   "cell_type": "markdown",
   "metadata": {},
   "source": [
    "## 12.9.1 Determining an Account’s Followers  Via the `API` object’s **`get_followers` Method**\n",
    "* Calls Twitter’s [**followers/list** method](https://developer.twitter.com/en/docs/accounts-and-users/follow-search-get-users/api-reference/get-followers-list.html)\n",
    "* Returns groups of 20 by default, but can request up to 200 \n",
    "* For demonstration purposes, we’ll grab 10 of NASA’s followers"
   ]
  },
  {
   "cell_type": "markdown",
   "metadata": {},
   "source": [
    "<hr style=\"height:2px; border:none; color:#000; background-color:#000;\">"
   ]
  },
  {
   "cell_type": "markdown",
   "metadata": {},
   "source": [
    "### Creating a Cursor That Will Call the `get_followers` Method for NASA’s account"
   ]
  },
  {
   "cell_type": "code",
   "execution_count": 13,
   "metadata": {},
   "outputs": [],
   "source": [
    "followers = []  # for storing followers' User objects"
   ]
  },
  {
   "cell_type": "markdown",
   "metadata": {},
   "source": [
    "**CHANGE:** `api.get_followers` used to be `api.followers`"
   ]
  },
  {
   "cell_type": "code",
   "execution_count": 14,
   "metadata": {},
   "outputs": [],
   "source": [
    "cursor = tweepy.Cursor(api.get_followers, screen_name='nasa')"
   ]
  },
  {
   "cell_type": "markdown",
   "metadata": {},
   "source": [
    "* First argument is **name of Tweepy method to call**\n",
    "* Additional keyword arguments are passed to method named in first argument"
   ]
  },
  {
   "cell_type": "markdown",
   "metadata": {},
   "source": [
    "<hr style=\"height:2px; border:none; color:#000; background-color:#000;\">"
   ]
  },
  {
   "cell_type": "markdown",
   "metadata": {},
   "source": [
    "### Get Results from `Cursor` and Display in Ascending Alphabetical Order  \n",
    "* Cursor’s **`items` method** calls `api.get_followers` and returns the `get_followers`s method’s results"
   ]
  },
  {
   "cell_type": "code",
   "execution_count": 15,
   "metadata": {},
   "outputs": [],
   "source": [
    "for account in cursor.items(100):  # request only 100 results\n",
    "    followers.append(account.screen_name)"
   ]
  },
  {
   "cell_type": "code",
   "execution_count": 16,
   "metadata": {},
   "outputs": [
    {
     "data": {
      "text/plain": [
       "['Dotty18910686',\n",
       " '_S__Blue_',\n",
       " 'LisaPay97615851',\n",
       " 'belindaclara332',\n",
       " 'jamesrhowe79',\n",
       " 'RoXy23017201',\n",
       " 'htoolae8',\n",
       " 'usanmaz27176',\n",
       " 'RocioNdee',\n",
       " 'SaadHam88804808',\n",
       " 'usalan14486',\n",
       " 'usal41767',\n",
       " 'Catalin01255900',\n",
       " 'fabiocarmonash1',\n",
       " 'Wnnfred8',\n",
       " 'SusanEveland7',\n",
       " 'usanmaz42514',\n",
       " 'Teriminho1',\n",
       " 'luismartine293',\n",
       " 'dangmynameslong',\n",
       " 'RizSM86',\n",
       " 'lordofrivers765',\n",
       " 'Bertha48608716',\n",
       " 'GiancolaTorres',\n",
       " 'MarieMoncayo1',\n",
       " 'KasaRaju1441',\n",
       " 'Merdeth12',\n",
       " 'rare_pay',\n",
       " 'Riteeshvnsp',\n",
       " 'Muhamme83240024',\n",
       " 'beso_gelovani',\n",
       " 'Arane42121486',\n",
       " 'urumur47501',\n",
       " 'lorenarojash_',\n",
       " 'NicolasPalomba7',\n",
       " 'Abhinav232005',\n",
       " 'LuizHMaiaD',\n",
       " 'Sascry',\n",
       " 'usandirmaz98264',\n",
       " 'uruz70134',\n",
       " 'Lachell31166691',\n",
       " 'MohanadEid16',\n",
       " 'heyuche08747365',\n",
       " 'HskduaH',\n",
       " 'SurochanCH',\n",
       " 'GabrielAyoola7',\n",
       " 'Justyn58430145',\n",
       " 'uruz52338',\n",
       " 'Eduardo56315266',\n",
       " 'missyou31928977',\n",
       " 'raiyanibnekamal',\n",
       " 'Y_yyyLllll_',\n",
       " 'MohammedRooshan',\n",
       " 'MGBraed',\n",
       " 'jas_yara',\n",
       " 'NikolasCecchini',\n",
       " 'PetrenkoRusik',\n",
       " 'DeepakD88218556',\n",
       " 'Yonrodfig308',\n",
       " 'damerfoehn286',\n",
       " 'Jude03151393',\n",
       " 'W_Ahmed978',\n",
       " 'Domenic91652279',\n",
       " 'urturk80854',\n",
       " 'cool_girl_eater',\n",
       " 'InbarEG',\n",
       " 'Zangooch124',\n",
       " 'GG85858624',\n",
       " 'youngkiller2396',\n",
       " 'Kamlah26730579',\n",
       " 'Px_90_90',\n",
       " 'Noe24182017',\n",
       " 'canal_pacheco',\n",
       " 'urturk24751',\n",
       " 'luna0rion',\n",
       " 'BWil96364644',\n",
       " 'Gaming12Dafa',\n",
       " 'YasumiYazu',\n",
       " 'VestigeAssam',\n",
       " 'AmyLizotte_yk',\n",
       " 'RadiomasterRad',\n",
       " 'Carolyn13003065',\n",
       " 'JacobB065',\n",
       " 'hamidulislam387',\n",
       " 'niggiecoon',\n",
       " 'Karon46978106',\n",
       " 'dennisidaferra',\n",
       " 'Andres18608692',\n",
       " 'Vitor_twr',\n",
       " 'QWRIXYP',\n",
       " 'davong_tha',\n",
       " 'JuanLoz79022073',\n",
       " 'Alexand00214218',\n",
       " 'mdNeyaj03942219',\n",
       " 'DarkKnight9950',\n",
       " 'JuanCar34081431',\n",
       " '101_simao',\n",
       " 'JavierR88666626',\n",
       " 'layaayoubb',\n",
       " 'muhamma57961957']"
      ]
     },
     "execution_count": 16,
     "metadata": {},
     "output_type": "execute_result"
    }
   ],
   "source": [
    "followers"
   ]
  },
  {
   "cell_type": "markdown",
   "metadata": {},
   "source": [
    "<hr style=\"height:2px; border:none; color:#000; background-color:#000;\">"
   ]
  },
  {
   "cell_type": "markdown",
   "metadata": {},
   "source": [
    "### Automatic Paging\n",
    "* To **get up to 200 followers at a time**, create the `Cursor` with the **`count`** keyword argument\n",
    ">```python\n",
    "cursor = tweepy.Cursor(api.get_followers, screen_name='nasa', count=200)\n",
    "```\n",
    "* Calling `Cursor` method **`items`** with no argument attempts to get **all followers**\n",
    "    * Could **take significant time** due to **rate limits**"
   ]
  },
  {
   "cell_type": "markdown",
   "metadata": {},
   "source": [
    "<hr style=\"height:2px; border:none; color:#000; background-color:#000;\">"
   ]
  },
  {
   "cell_type": "markdown",
   "metadata": {},
   "source": [
    "# 12.10 Searching Recent Tweets with Tweepy `API` method **`search_tweets`** \n",
    "* **Tweets API**—Search **past 7 days' tweets**, access **live tweet streams** and more\n",
    "* Returns tweets that **match a query string**\n",
    "* Only for the **previous seven days’ tweets**\n",
    "* **Not guaranteed to return all matching tweets**\n",
    "* Calls Twitter’s **`search/tweets` method**\n",
    "* Returns 15 tweets at a time by default, but can return up to 100"
   ]
  },
  {
   "cell_type": "markdown",
   "metadata": {},
   "source": [
    "<hr style=\"height:2px; border:none; color:#000; background-color:#000;\">"
   ]
  },
  {
   "cell_type": "markdown",
   "metadata": {},
   "source": [
    "### Utility Function `print_tweets` from `tweetutilities.py` "
   ]
  },
  {
   "cell_type": "code",
   "execution_count": 17,
   "metadata": {},
   "outputs": [],
   "source": [
    "from tweetutilities import print_tweets"
   ]
  },
  {
   "cell_type": "markdown",
   "metadata": {},
   "source": [
    "```python\n",
    "def print_tweets(tweets):\n",
    "    \"\"\"For each Tweepy Status object in tweets, display the \n",
    "    user's screen_name and tweet text. If the language is not\n",
    "    English, translate the text with TextBlob.\"\"\"\n",
    "    for tweet in tweets:\n",
    "        print(f'{tweet.user.screen_name}:', end=' ')\n",
    "        print(f'{tweet.text}\\n')\n",
    "```"
   ]
  },
  {
   "cell_type": "markdown",
   "metadata": {},
   "source": [
    "<hr style=\"height:2px; border:none; color:#000; background-color:#000;\">"
   ]
  },
  {
   "cell_type": "markdown",
   "metadata": {},
   "source": [
    "### Searching for Specific Words\n",
    "* **`q` keyword argument** specifies the **query string**\n",
    "* Should use **`Cursor`** for more than max results"
   ]
  },
  {
   "cell_type": "markdown",
   "metadata": {},
   "source": [
    "**NOTE: Modified to search only English due to current known issue in TextBlob**\n",
    "* **CHANGE:** `api.search_tweets` used to be `api.search`"
   ]
  },
  {
   "cell_type": "code",
   "execution_count": 18,
   "metadata": {},
   "outputs": [],
   "source": [
    "tweets = api.search_tweets(q='football', count=10) #lang='en',"
   ]
  },
  {
   "cell_type": "code",
   "execution_count": 19,
   "metadata": {},
   "outputs": [
    {
     "name": "stdout",
     "output_type": "stream",
     "text": [
      "ShadyReg: RT @nyambenis: The day we find platforms to watch football, DSTV will become MUSICA stores overnight.\n",
      "\n",
      "HabibAbdelazi10: @Babamoustapha8 Cette humilité et cet amour m'ont fait aimer le football❤❤❤❤👌🏾👌🏽👌🏽👌🏽\n",
      "\n",
      "GuyFawkes1111: @azdesert_lover @TheFreds I'm not sure I trust many politicians, regardless of affiliation\n",
      "\n",
      "They seem to be no diff… https://t.co/MzL1j3AixT\n",
      "\n",
      "TheIbrahima: RT @Winston91: Les deux plus gros cracks actuels, le vilain Real voulait enrôler les deux à coup de billets mais ils ont décidé de jouer po…\n",
      "\n",
      "Surprise_Sports: At his farewell ceremony and press conference on Monday, he started off by speaking from the podium and fighting ba… https://t.co/daIl1cEcIZ\n",
      "\n",
      "Gandivdhariarj1: RT @ARanganathan72: Hindus can form a football team but they won’t be able to give it a name as they are not united.\n",
      "\n",
      "ArsenalNewsApp: Transfer latest: Leeds chase Bayern’s Roca, Ebiowei wanted by Man Utd: https://t.co/KtHZ3Ic9Lu\n",
      "\n",
      "ArsenalNewsApp: How Arsenal could line-up with Marquinhos after first summer signing announced: https://t.co/1HeV6MLSWS\n",
      "\n",
      "ArsenalNewsApp: Arsenal youngster Mazeed Ogungbo set for loan spell after Gunners make transfer decision: https://t.co/6CQspKspAx\n",
      "\n",
      "LFCNewsApp: Darwin Nunez's former coach makes '100%' prediction Liverpool fans will love: https://t.co/OuOQ5bO7k6\n",
      "\n"
     ]
    }
   ],
   "source": [
    "print_tweets(tweets)"
   ]
  },
  {
   "cell_type": "markdown",
   "metadata": {},
   "source": [
    "<hr style=\"height:2px; border:none; color:#000; background-color:#000;\">"
   ]
  },
  {
   "cell_type": "markdown",
   "metadata": {},
   "source": [
    "### Searching with Twitter Search Operators (1 of 2)\n",
    "* Use **Twitter search operators** to refine search results\n",
    "* The following table shows several Twitter search operators. \n",
    "* [For all the operators, click the `operators` link here](https://twitter.com/search-home)\n",
    "* ```python\n",
    "tweets = api.search(q='from:nasa since:2019-11-15', count=3)\n",
    "```\n",
    "\n",
    "|Example|Finds tweets containing|\n",
    "|----|----|\n",
    "| `python twitter` \t| **Implicit _logical and_ operator**—Finds tweets containing `python` _and_ `twitter`.|\n",
    "| `python OR twitter` \t| **Logical `OR` operator**—Finds tweets containing `python` or `twitter` or both.|\n",
    "| `python ?` \t| `?` (question mark)—Finds tweets asking questions about `python`.|\n",
    "| `planets -mars` \t| `-` (minus sign)—Finds tweets containing `planets` but not `mars`.|\n",
    "| `python :)` \t| `:)` (happy face)—Finds **positive sentiment** tweets containing `python`.|\n",
    "| `python :(` \t| `:(` (sad face)—Finds **negative sentiment** tweets containing `python`.|\n",
    "| `since:2018-09-01` \t| **Finds tweets **on or after** the specified date**, which must be in the form **`YYYY-MM-DD`**.|\n",
    "| `near:\"New York City\" `\t| **Finds tweets that were sent near `\"New York City\"`**.|\n",
    "| `from:nasa` \t| **Finds tweets from the account `@nasa`**.|\n",
    "| `to:nasa` \t| **Finds tweets to the account `@nasa`**.|"
   ]
  },
  {
   "cell_type": "markdown",
   "metadata": {},
   "source": [
    "<hr style=\"height:2px; border:none; color:#000; background-color:#000;\">"
   ]
  },
  {
   "cell_type": "markdown",
   "metadata": {},
   "source": [
    "# 12.11 Spotting Trends: Twitter Trends API\n",
    "* **“Going viral”** &mdash; thousands or millions of people tweeting at once \n",
    "* Twitter maintains a list of **trending topics** worldwide \n",
    "* **Twitter Trends API** can return lists of **trending-topic locations** and the **top 50 trending topics** for each **location**"
   ]
  },
  {
   "cell_type": "markdown",
   "metadata": {},
   "source": [
    "<hr style=\"height:2px; border:none; color:#000; background-color:#000;\">"
   ]
  },
  {
   "cell_type": "markdown",
   "metadata": {},
   "source": [
    "## 12.11.1 Places with Trending Topics \n",
    "* See how to find places with trending topics: https://learning.oreilly.com/videos/python-fundamentals/9780135917411/9780135917411-PFLL_Lesson12_15"
   ]
  },
  {
   "cell_type": "markdown",
   "metadata": {},
   "source": [
    "<hr style=\"height:2px; border:none; color:#000; background-color:#000;\">"
   ]
  },
  {
   "cell_type": "markdown",
   "metadata": {},
   "source": [
    "## 12.11.2 Getting a List of Trending Topics with the Tweepy `API`’s **`get_place_trends` Method** \n",
    "* Calls **Twitter Trends API’s [`trends/place` method](https://developer.twitter.com/en/docs/trends/trends-for-location/api-reference/get-trends-place)**\n",
    "* Returns top **50 trending topics for the location**\n",
    "* [Look up WOEIDs](http://www.woeidlookup.com) (**Yahoo! Where on Earth IDs**)\n",
    "* Look up WOEID’s programmatically using **Yahoo!’s web services** via [Python libraries like `woeid`](https://github.com/Ray-SunR/woeid)"
   ]
  },
  {
   "cell_type": "markdown",
   "metadata": {},
   "source": [
    "<hr style=\"height:2px; border:none; color:#000; background-color:#000;\">"
   ]
  },
  {
   "cell_type": "markdown",
   "metadata": {},
   "source": [
    "### Get Today's Worldwide Trending Topics (1 of 3)"
   ]
  },
  {
   "cell_type": "markdown",
   "metadata": {},
   "source": [
    "* **CHANGE:** `api.get_place_trends` used to be `api.trends_place`"
   ]
  },
  {
   "cell_type": "code",
   "execution_count": 20,
   "metadata": {},
   "outputs": [],
   "source": [
    "world_trends = api.get_place_trends(id=1)  # list containing one dictionary"
   ]
  },
  {
   "cell_type": "markdown",
   "metadata": {},
   "source": [
    "* **`'trends'` key** refers to a **list of dictionaries representing each trend**"
   ]
  },
  {
   "cell_type": "code",
   "execution_count": 21,
   "metadata": {},
   "outputs": [],
   "source": [
    "trends_list = world_trends[0]['trends']"
   ]
  },
  {
   "cell_type": "markdown",
   "metadata": {},
   "source": [
    "<hr style=\"height:2px; border:none; color:#000; background-color:#000;\">"
   ]
  },
  {
   "cell_type": "markdown",
   "metadata": {},
   "source": [
    "### Get Today's Worldwide Trending Topics (2 of 3)\n",
    "* Each trend has **`name`**, **`url`**, **`promoted_content`** (whether it's an **advertisement**), **`query`** and **`tweet_volume`** keys"
   ]
  },
  {
   "cell_type": "code",
   "execution_count": 22,
   "metadata": {},
   "outputs": [
    {
     "data": {
      "text/plain": [
       "{'name': 'Perú',\n",
       " 'url': 'http://twitter.com/search?q=Per%C3%BA',\n",
       " 'promoted_content': None,\n",
       " 'query': 'Per%C3%BA',\n",
       " 'tweet_volume': 143078}"
      ]
     },
     "execution_count": 22,
     "metadata": {},
     "output_type": "execute_result"
    }
   ],
   "source": [
    "trends_list[0]"
   ]
  },
  {
   "cell_type": "markdown",
   "metadata": {},
   "source": [
    "<hr style=\"height:2px; border:none; color:#000; background-color:#000;\">"
   ]
  },
  {
   "cell_type": "markdown",
   "metadata": {},
   "source": [
    "### Get Today's Worldwide Trending Topics (3 of 3)\n",
    "* For **trends with more than 10,000 tweets**, the **`tweet_volume`** is the **number of tweets**; otherwise, it’s `None`\n",
    "* Filter the list so that it contains only trends with more than 10,000 tweets:"
   ]
  },
  {
   "cell_type": "code",
   "execution_count": 23,
   "metadata": {},
   "outputs": [],
   "source": [
    "trends_list = [t for t in trends_list if t['tweet_volume']]"
   ]
  },
  {
   "cell_type": "code",
   "execution_count": 24,
   "metadata": {},
   "outputs": [],
   "source": [
    "from operator import itemgetter "
   ]
  },
  {
   "cell_type": "code",
   "execution_count": 25,
   "metadata": {},
   "outputs": [],
   "source": [
    "trends_list.sort(key=itemgetter('tweet_volume'), reverse=True) "
   ]
  },
  {
   "cell_type": "code",
   "execution_count": 26,
   "metadata": {},
   "outputs": [
    {
     "name": "stdout",
     "output_type": "stream",
     "text": [
      "#แฉxอาโปไบเบิ้ล\n",
      "tzuyu\n",
      "#OurStarlightTAEILDay\n",
      "#생일축하_태일이가_받아야대\n",
      "Marcelo\n",
      "Perú\n",
      "#이쯔쯔하_해피쯔위데이\n",
      "#ThinkAboutTzu\n",
      "Dom e Bruno\n",
      "Bruno Pereira\n",
      "Big Lie\n",
      "Amazônia\n",
      "Support Sushant Singh Rajput\n",
      "Bill Barr\n",
      "Rudy Giuliani\n",
      "#January6thHearings\n",
      "#ThorLoveAndThunder\n",
      "Karadeniz Gazı\n",
      "Election Defense Fund\n",
      "Bachelet\n",
      "Santo Antônio\n",
      "Dinesh\n",
      "Super Eagles\n",
      "HASTA QUE SE NOS HIZO\n",
      "Knives Out\n",
      "키스데이\n",
      "Abdülhamid Han\n",
      "Al Ahly\n"
     ]
    }
   ],
   "source": [
    "for trend in trends_list:  # show top trending topics\n",
    "    print(trend['name'])"
   ]
  },
  {
   "cell_type": "markdown",
   "metadata": {},
   "source": [
    "<hr style=\"height:2px; border:none; color:#000; background-color:#000;\">"
   ]
  },
  {
   "cell_type": "markdown",
   "metadata": {},
   "source": [
    "# 12.12 Cleaning/Preprocessing Tweets for Analysis\n",
    "* **Data cleaning** is one of data scientists' most common tasks \n",
    "* Some **NLP tasks** for **normalizing tweets**\n",
    "    * Converting text to **same case**\n",
    "    * Removing **`#` from hashtags**, **`@`-mentions**, **duplicates**, **hashtags**\n",
    "    * Removing **excess whitespace**, **punctuation**, **stop words**, **URLs**\n",
    "    * Removing tweet keywords **`RT`** (retweet) and **`FAV`** (favorite) \n",
    "    * **Stemming** and **lemmatization**\n",
    "    * **Tokenization**"
   ]
  },
  {
   "cell_type": "markdown",
   "metadata": {},
   "source": [
    "<hr style=\"height:2px; border:none; color:#000; background-color:#000;\">"
   ]
  },
  {
   "cell_type": "markdown",
   "metadata": {},
   "source": [
    "### [**tweet-preprocessor**](https://github.com/s/preprocessor) Library and TextBlob Utility Functions\n",
    "* `pip install tweet-preprocessor`\n",
    "* Can automatically remove any combination of:\n",
    "\n",
    "| Option\t| Option constant\n",
    "| :---\t| :---\n",
    "| **`OPT.MENTION`** | @-Mentions (e.g., `@nasa`)\t\n",
    "| **`OPT.EMOJI`** | Emoji\t\n",
    "| **`OPT.HASHTAG`** | Hashtag (e.g., `#mars`)\t\n",
    "| **`OPT.NUMBER`** | Number\t\n",
    "| **`OPT.RESERVED`** | Reserved Words (`RT` and `FAV`)\t\n",
    "| **`OPT.SMILEY`** | Smiley\t\n",
    "| **`OPT.URL`** | URL\t"
   ]
  },
  {
   "cell_type": "markdown",
   "metadata": {},
   "source": [
    "<hr style=\"height:2px; border:none; color:#000; background-color:#000;\">"
   ]
  },
  {
   "cell_type": "markdown",
   "metadata": {},
   "source": [
    "### Cleaning a Tweet Containing a Reserved Word and a URL\n",
    "* The tweet-preprocessor library’s module name is **`preprocessor`** "
   ]
  },
  {
   "cell_type": "code",
   "execution_count": 27,
   "metadata": {},
   "outputs": [],
   "source": [
    "import preprocessor as p  # p recommended by docs"
   ]
  },
  {
   "cell_type": "code",
   "execution_count": 28,
   "metadata": {},
   "outputs": [],
   "source": [
    "p.set_options(p.OPT.URL, p.OPT.RESERVED)  # specify what to clean"
   ]
  },
  {
   "cell_type": "code",
   "execution_count": 29,
   "metadata": {},
   "outputs": [],
   "source": [
    "tweet_text = 'RT A sample retweet with a URL https://nasa.gov'"
   ]
  },
  {
   "cell_type": "code",
   "execution_count": 30,
   "metadata": {},
   "outputs": [
    {
     "data": {
      "text/plain": [
       "'A sample retweet with a URL'"
      ]
     },
     "execution_count": 30,
     "metadata": {},
     "output_type": "execute_result"
    }
   ],
   "source": [
    "p.clean(tweet_text)"
   ]
  },
  {
   "cell_type": "markdown",
   "metadata": {},
   "source": [
    "<hr style=\"height:2px; border:none; color:#000; background-color:#000;\">"
   ]
  },
  {
   "cell_type": "markdown",
   "metadata": {},
   "source": [
    "# 12.13 Twitter Streaming API\n",
    "* Streams **randomly selected** live tweets up to a **maximum of 1% of the tweets per day**\n",
    "* According to https://InternetLiveStats.com\n",
    "    * **~8500 tweets per second**\n",
    "    * Nearly **750 million tweets per day**\n",
    "* So Streaming API gives you **free access to approximately 7.5 million tweets/day**"
   ]
  },
  {
   "cell_type": "markdown",
   "metadata": {},
   "source": [
    "<hr style=\"height:2px; border:none; color:#000; background-color:#000;\">"
   ]
  },
  {
   "cell_type": "markdown",
   "metadata": {},
   "source": [
    "## 12.13.1 Creating a Subclass of `Stream` \n",
    "* A stream **pushes** tweets to your app via a **persistent connection** \n",
    "* **Streaming rate** varies tremendously, based on search criteria\n",
    "* Subclass of Tweepy’s **`Stream`** listens for tweets\n",
    "    * **Notified** when each **new tweet** or other **Twitter message** **arrives**\n",
    "    * Each message results in a call to a **`Stream` method**\n",
    "    * **Override** only the **methods you need**\n"
   ]
  },
  {
   "cell_type": "markdown",
   "metadata": {},
   "source": [
    "<hr style=\"height:2px; border:none; color:#000; background-color:#000;\">"
   ]
  },
  {
   "cell_type": "markdown",
   "metadata": {},
   "source": [
    "### `Stream` Methods\n",
    "* [`Stream` methods](https://github.com/tweepy/tweepy/blob/master/tweepy/streaming.py)  \n",
    "\n",
    "|Method&nbsp;&nbsp;&nbsp;&nbsp;&nbsp;&nbsp;&nbsp;&nbsp;&nbsp;&nbsp;&nbsp;&nbsp;&nbsp;&nbsp;&nbsp;&nbsp;&nbsp;&nbsp;&nbsp;&nbsp;&nbsp;&nbsp;&nbsp;&nbsp;&nbsp;&nbsp;&nbsp;&nbsp;&nbsp;&nbsp;&nbsp;&nbsp;&nbsp;&nbsp;&nbsp;&nbsp;&nbsp;&nbsp;&nbsp;&nbsp;&nbsp;&nbsp;&nbsp;&nbsp;&nbsp;&nbsp;&nbsp;&nbsp;&nbsp;&nbsp;&nbsp;|Called when...|\n",
    "|----|----|\n",
    "| **`on_connect(self)`** \t| App **successfully connects** to the Twitter stream. This is for statements that should execute only if your app is connected to the stream.|\n",
    "| **`on_status(self, status)`** \t| A **tweet arrives**—**`status`** is a Tweepy **`Status`** object.|\n",
    "| **`on_data(self, data)`** \t| A **tweet arrives**—**`data`** is the **raw JSON** of a Twitter status (tweet).|\n",
    "| **`on_limit(self, track)`** \t| A **limit notice** arrives. This occurs if your search matches more tweets than Twitter can deliver based on its current streaming rate limits. In this case, the limit notice contains the number of matching tweets that could not be delivered.|\n",
    "| **`on_error(self, status_code)`** \t| An **error code** arrives. |\n",
    "| **`on_timeout(self)`** \t| The **connection times out**—that is, the Twitter server is not responding.|\n",
    "| **`on_warning(self, notice)`** \t| **Twitter sends a disconnect warning** to indicate that the connection might be closed. For example, Twitter maintains a queue of the tweets it’s pushing to your app. If the app does not read the tweets fast enough, `on_warning`’s notice argument will contain a warning message indicating that the connection will terminate if the queue becomes full. |"
   ]
  },
  {
   "cell_type": "markdown",
   "metadata": {},
   "source": [
    "<hr style=\"height:2px; border:none; color:#000; background-color:#000;\">"
   ]
  },
  {
   "cell_type": "markdown",
   "metadata": {},
   "source": [
    "### Class `TweetListener` Defined in `tweetlistener.py`\n"
   ]
  },
  {
   "cell_type": "markdown",
   "metadata": {},
   "source": [
    "<hr style=\"height:2px; border:none; color:#000; background-color:#000;\">"
   ]
  },
  {
   "cell_type": "markdown",
   "metadata": {},
   "source": [
    "## 12.13.2 Initiating Stream Processing\n",
    "\n",
    "### Subclass of `tweepy.Stream` Receives Tweets"
   ]
  },
  {
   "cell_type": "code",
   "execution_count": 31,
   "metadata": {},
   "outputs": [],
   "source": [
    "import sys\n",
    "sys.stderr = sys.stdout"
   ]
  },
  {
   "cell_type": "code",
   "execution_count": 32,
   "metadata": {},
   "outputs": [],
   "source": [
    "from tweetlistener import TweetListener"
   ]
  },
  {
   "cell_type": "code",
   "execution_count": 33,
   "metadata": {},
   "outputs": [],
   "source": [
    "tweet_listener = TweetListener(keys.consumer_key, keys.consumer_secret, \n",
    "                               keys.access_token, keys.access_token_secret, limit=5)"
   ]
  },
  {
   "cell_type": "markdown",
   "metadata": {},
   "source": [
    "<hr style=\"height:2px; border:none; color:#000; background-color:#000;\">"
   ]
  },
  {
   "cell_type": "markdown",
   "metadata": {},
   "source": [
    "<!--### Creating a Tweepy **`Stream`** Object to Manage the Connection to the Twitter Stream\n",
    "* Passes the messages to your `TweetListener` \n",
    "\n",
    "# OLD: tweet_stream = tweepy.Stream(auth=api.auth, listener=tweet_listener)\n",
    "\n",
    "<hr style=\"height:2px; border:none; color:#000; background-color:#000;\">\n",
    "-->"
   ]
  },
  {
   "cell_type": "markdown",
   "metadata": {},
   "source": [
    "### Starting the Tweet Stream with the `Stream` Object’s **`filter` Method** \n",
    "* `track` parameter specifies a list of search terms\n",
    "* [Other `filter` method parameters](https://developer.twitter.com/en/docs/tweets/filter-realtime/guides/basic-stream-parameters) for refining your tweet searches\n",
    "* Streaming API returns full tweet **JSON objects** for tweets that match any of the terms, **not just in the tweet’s text, but also in @-mentions, hashtags, expanded URLs and other information**  \n",
    "* Might not see search terms in **tweets' text**"
   ]
  },
  {
   "cell_type": "code",
   "execution_count": 34,
   "metadata": {},
   "outputs": [
    {
     "name": "stdout",
     "output_type": "stream",
     "text": [
      "Connection successful\n",
      "\n",
      "Screen name: realDailyWire:\n",
      "   Language: en\n",
      "     Status: Sports Illustrated Slams Right-Wing Christians Supporting HS Football Coach Fired After Praying On Field https://t.co/ROzSgdP1Hf https://t.co/7zEcedIJxd\n",
      "\n",
      "Screen name: DFWfastpitch:\n",
      "   Language: en\n",
      "     Status: RT @RealNolanRuth: I’ve got one more softball event to do before my attention flips to football! @MacyGraf1 @_kayleighhsmith and @TexasRay3…\n",
      "\n",
      "Screen name: RobertPaul1:\n",
      "   Language: en\n",
      "     Status: RT @lilygrutcher: Five Ukrainian boys playing football were severally beaten with belts by a gang of 12 Arab immigrants in Sweden, local po…\n",
      "\n",
      "Screen name: campariwithice:\n",
      "   Language: en\n",
      "     Status: @bellesareblue @thejoedoe1 @TTEBROT1 Not even the football team 😞\n",
      "\n",
      "Screen name: EvanRSpencer:\n",
      "   Language: en\n",
      "     Status: RT @RedditCFB: A reader has made a really cool series envisioning what modern football jerseys might look like for D1 non-Football schools.…\n",
      "\n",
      "Stream connection closed by Twitter\n"
     ]
    }
   ],
   "source": [
    "tweet_listener.filter(track=['football'])  #, is_async=True) "
   ]
  },
  {
   "cell_type": "markdown",
   "metadata": {},
   "source": [
    "<hr style=\"height:2px; border:none; color:#000; background-color:#000;\">"
   ]
  },
  {
   "cell_type": "markdown",
   "metadata": {
    "tags": []
   },
   "source": [
    "### **Lecture note: Run remaining cells now so we don't have to wait for streamed tweets later.**\n",
    "\n",
    "### Asynchronous vs. Synchronous Streams\n",
    "* **`is_async=True`** &mdash; would initiate an **asynchronous tweet stream** \n",
    "* Without `is_async=True`, the stream is **synchronous** and the next In [] prompt appears **after the stream terminates**    \n",
    "* in Jupyter, we used a **synchronous stream** ensure that all tweets display\n",
    "* In IPython, can terminate an asynchronous tweet stream early:  \n",
    ">`tweet_stream.running=False`    \n"
   ]
  },
  {
   "cell_type": "markdown",
   "metadata": {},
   "source": [
    "<hr style=\"height:2px; border:none; color:#000; background-color:#000;\">"
   ]
  },
  {
   "cell_type": "markdown",
   "metadata": {},
   "source": [
    "# 12.14 Tweet Sentiment Analysis \n",
    "* Political researchers might use to understand **how people are likely to vote**\n",
    "* Companies might use to see what people are saying about **their products** and **competitors’ products**\n",
    "* Script **`sentimentlistener.py`** checks **sentiment** on a specified topic for a specified number of tweets\n",
    "* The script in this example is substantially the same as the previous example, but uses TextBlob to check the sentiment of each tweet as we did in the NLP presentation"
   ]
  },
  {
   "cell_type": "code",
   "execution_count": 35,
   "metadata": {},
   "outputs": [
    {
     "name": "stdout",
     "output_type": "stream",
     "text": [
      "  GuyFawkes1111: @azdesert_lover @TheFreds I'm not sure I trust many politicians, regardless of affiliation They seem to be no different to, say, football teams They both benefit from our ticket sales, need one another to keep us distracted, and only oppose one another when observed\n",
      "\n",
      "  Mathope_19: sm and stats has ruined football tbh\n",
      "\n",
      "  inplayfeed: #BET #INPLAY #LIVENOW 🏆 Football 🚩 Denmark 🆚 Austria ⭐️ ODDS: 1.77 / 3.56 / 4.8 🎯 Bet now: ⚡️ Follow: @InPlayFeed ⏱ 15-min poll:\n",
      "\n",
      "- Petite_midget_: @scottylfc13 @TheCzechLad @7Eliteanalysis @gngrgeek It was a lie🤡 do u have a video or you read it somewhere like how people believe football fake quotes\n",
      "\n",
      "  KilbourneFB: “THANK YOU to our Hole Sponsors – Katie Kline, Realtor, Keslar Contracting, Asbury-Frollini Family, Bartram Family, Kilbourne Football Senior Parents, Future Finances, Signarama - 2nd Annual Kilbourne Golf Outing.\n",
      "\n",
      "  C__Ezeokoli: @Omojuwa Interesting. Isn't the only African to have won FIFA highest individual award, George Weah, their current President? And they don't have a single standard football stadium?\n",
      "\n",
      "  silayin25: Jamie Carragher ‘intrigued’ by Erling Haaland transfer to Man City and says Darwin Nunez refreshes Liverpool’s front three | Football News\n",
      "\n",
      "  nickbruff: @cskirchner This prick has potentially just killed an English football establishment. Wow.\n",
      "\n",
      "+ OglesbyEmily: Special Olympics @OleMiss Unified Flag football brought home the Bronze medal at the @2022USAGames ! This team fought so hard &amp; is so deserving! I’m honored to play alongside athletes that represent the millions of special Olympics athletes around the world! #gorebs #shineasone\n",
      "\n",
      "  IslandDiggs: @LegionHoops @FrankCaliendo Why do old heads only talk physicality &amp; not skills ? This isn’t football 😂\n",
      "\n",
      "Stream connection closed by Twitter\n",
      "Tweet sentiment for \"football\"\n",
      "Positive: 1\n",
      " Neutral: 8\n",
      "Negative: 1\n"
     ]
    }
   ],
   "source": [
    "run sentimentlistener.py football 10"
   ]
  },
  {
   "cell_type": "markdown",
   "metadata": {},
   "source": [
    "<hr style=\"height:2px; border:none; color:#000; background-color:#000;\">"
   ]
  },
  {
   "cell_type": "markdown",
   "metadata": {},
   "source": [
    "# 12.15 Geocoding and Mapping\n",
    "* Collect **streaming tweets**, then **plot** their **locations** on an **interactive map**\n",
    "* **Twitter disables precise location info (latitude/longitude) by default** (users must opt in to allowing Twitter to track locations) \n",
    "* Large percentage include the user’s home location information\n",
    "    * Sometimes invalid or fictitious \n",
    "* **Map markers** will show `location` from each tweet’s `User` object"
   ]
  },
  {
   "cell_type": "markdown",
   "metadata": {},
   "source": [
    "<hr style=\"height:2px; border:none; color:#000; background-color:#000;\">"
   ]
  },
  {
   "cell_type": "markdown",
   "metadata": {},
   "source": [
    "### [**geopy** library](https://github.com/geopy/geopy)\n",
    "* **Geocoding**&mdash;translate locations into **latitude** and **longitude**\n",
    "* **geopy** supports dozens of **geocoding web services**, many with **free or lite tiers**\n",
    "* We’ll use **OpenMapQuest geocoding service** "
   ]
  },
  {
   "cell_type": "markdown",
   "metadata": {},
   "source": [
    "<hr style=\"height:2px; border:none; color:#000; background-color:#000;\">"
   ]
  },
  {
   "cell_type": "markdown",
   "metadata": {},
   "source": [
    "### OpenMapQuest Geocoding API (1 of 2)\n",
    "* Convert locations, such as **Boston, MA** into their **latitudes** and **longitudes**, such as **42.3602534** and **-71.0582912**, for plotting on maps\n",
    "* Currently allows **15,000 transactions per month** on their free tier\n",
    "* [Sign up](https://developer.mapquest.com/)\n",
    "* For a presentation of **signing up** and **getting your credentials**, see my [**Python Fundamentals LiveLessons video**](https://learning.oreilly.com/videos/python-fundamentals/9780135917411/9780135917411-PFLL_Lesson12_24) or the [**beginning of Section 12.15 in Python for Programmers**](https://learning.oreilly.com/library/view/python-for-programmers/9780135231364/ch12.xhtml#ch12lev1sec15)"
   ]
  },
  {
   "cell_type": "markdown",
   "metadata": {},
   "source": [
    "<hr style=\"height:2px; border:none; color:#000; background-color:#000;\">"
   ]
  },
  {
   "cell_type": "markdown",
   "metadata": {},
   "source": [
    "### [**folium library**](https://github.com/python-visualization/folium) and Leaflet.js JavaScript Mapping Library\n",
    "* Uses **Leaflet.js JavaScript mapping library** to display maps in a web page \n",
    "* Folium can output **HTML documents** for viewing in a **web browser**\n",
    "* `pip install folium`"
   ]
  },
  {
   "cell_type": "markdown",
   "metadata": {},
   "source": [
    "<hr style=\"height:2px; border:none; color:#000; background-color:#000;\">"
   ]
  },
  {
   "cell_type": "markdown",
   "metadata": {},
   "source": [
    "### Maps from OpenStreetMap.org\n",
    "By default, **Leaflet.js** uses **open source maps** from **`OpenStreetMap.org`**\n",
    "* To use these maps, **they require the following copyright notice**:\n",
    "\n",
    "> `Map data © OpenStreetMap contributors`\n",
    "\n",
    "* They also say: **You must make it clear that the data is available under the Open Database License. This can be achieved by providing a “License” or “Terms” link which links to https://www.openstreetmap.org/copyright or https://www.opendatacommons.org/licenses/odbl/index.html**"
   ]
  },
  {
   "cell_type": "markdown",
   "metadata": {},
   "source": [
    "<hr style=\"height:2px; border:none; color:#000; background-color:#000;\">"
   ]
  },
  {
   "cell_type": "markdown",
   "metadata": {},
   "source": [
    "### Collections Required By `LocationListener`\n",
    "* Requires two collections\n",
    "    * A **list (`tweets`)** to store the tweets we collect \n",
    "    * A **dictionary (`counts`)** to track the **total number of tweets** we collect and the **number that have location data**"
   ]
  },
  {
   "cell_type": "code",
   "execution_count": 36,
   "metadata": {},
   "outputs": [],
   "source": [
    "tweets = [] "
   ]
  },
  {
   "cell_type": "code",
   "execution_count": 37,
   "metadata": {},
   "outputs": [],
   "source": [
    "counts = {'total_tweets': 0, 'locations': 0}"
   ]
  },
  {
   "cell_type": "markdown",
   "metadata": {},
   "source": [
    "<hr style=\"height:2px; border:none; color:#000; background-color:#000;\">"
   ]
  },
  {
   "cell_type": "markdown",
   "metadata": {},
   "source": [
    "### Creating the LocationListener "
   ]
  },
  {
   "cell_type": "code",
   "execution_count": 38,
   "metadata": {},
   "outputs": [],
   "source": [
    "from locationlistener import LocationListener"
   ]
  },
  {
   "cell_type": "code",
   "execution_count": 39,
   "metadata": {},
   "outputs": [],
   "source": [
    "location_listener = LocationListener(keys.consumer_key, keys.consumer_secret, \n",
    "    keys.access_token, keys.access_token_secret, counts_dict=counts, \n",
    "    tweets_list=tweets, topic='football', limit=50)"
   ]
  },
  {
   "cell_type": "markdown",
   "metadata": {},
   "source": [
    "* **`LocationListener`** uses our **utility function `get_tweet_content`** to place each tweets **screen name**, **tweet text** and **location** into a **dictionary**"
   ]
  },
  {
   "cell_type": "markdown",
   "metadata": {},
   "source": [
    "<hr style=\"height:2px; border:none; color:#000; background-color:#000;\">"
   ]
  },
  {
   "cell_type": "markdown",
   "metadata": {},
   "source": [
    "### Configure and Start the Stream of Tweets"
   ]
  },
  {
   "cell_type": "code",
   "execution_count": 40,
   "metadata": {},
   "outputs": [],
   "source": [
    "import tweepy"
   ]
  },
  {
   "cell_type": "code",
   "execution_count": 41,
   "metadata": {},
   "outputs": [
    {
     "name": "stdout",
     "output_type": "stream",
     "text": [
      "50: Tomo_scfc: @Jamiefishing14 @FootyAccums Haven't been arsenal for a few years either now! I think lower league football has better fans everyone who goes could support any bigger club but they are loyal to them good atmospheres as well! Always a good laugh at the football I think mate\n",
      "\n",
      "Stream connection closed by Twitter\n"
     ]
    }
   ],
   "source": [
    "location_listener.filter(track=['football'], languages=['en'])"
   ]
  },
  {
   "cell_type": "markdown",
   "metadata": {},
   "source": [
    "<hr style=\"height:2px; border:none; color:#000; background-color:#000;\">"
   ]
  },
  {
   "cell_type": "markdown",
   "metadata": {},
   "source": [
    "### Displaying the Location Statistics "
   ]
  },
  {
   "cell_type": "code",
   "execution_count": 42,
   "metadata": {
    "tags": []
   },
   "outputs": [
    {
     "data": {
      "text/plain": [
       "87"
      ]
     },
     "execution_count": 42,
     "metadata": {},
     "output_type": "execute_result"
    }
   ],
   "source": [
    "counts['total_tweets']"
   ]
  },
  {
   "cell_type": "code",
   "execution_count": 43,
   "metadata": {},
   "outputs": [
    {
     "data": {
      "text/plain": [
       "50"
      ]
     },
     "execution_count": 43,
     "metadata": {},
     "output_type": "execute_result"
    }
   ],
   "source": [
    "counts['locations']"
   ]
  },
  {
   "cell_type": "code",
   "execution_count": 44,
   "metadata": {},
   "outputs": [
    {
     "name": "stdout",
     "output_type": "stream",
     "text": [
      "57.5%\n"
     ]
    }
   ],
   "source": [
    "print(f'{counts[\"locations\"] / counts[\"total_tweets\"]:.1%}')"
   ]
  },
  {
   "cell_type": "markdown",
   "metadata": {},
   "source": [
    "<hr style=\"height:2px; border:none; color:#000; background-color:#000;\">"
   ]
  },
  {
   "cell_type": "markdown",
   "metadata": {},
   "source": [
    "### Geocoding the Locations with Our `get_geocodes` Utility Function \n",
    "* **OpenMapQuest** geocoding service **times out** when it **cannot handle your request immediately**\n",
    "* If so, **`get_geocodes`** **notifies** you, **waits**, then **retries** the request"
   ]
  },
  {
   "cell_type": "code",
   "execution_count": 45,
   "metadata": {},
   "outputs": [],
   "source": [
    "from tweetutilities import get_geocodes"
   ]
  },
  {
   "cell_type": "code",
   "execution_count": 46,
   "metadata": {},
   "outputs": [
    {
     "name": "stdout",
     "output_type": "stream",
     "text": [
      "Getting coordinates for tweet locations...\n",
      "Done geocoding\n"
     ]
    }
   ],
   "source": [
    "bad_locations = get_geocodes(tweets)"
   ]
  },
  {
   "cell_type": "markdown",
   "metadata": {},
   "source": [
    "<hr style=\"height:2px; border:none; color:#000; background-color:#000;\">"
   ]
  },
  {
   "cell_type": "markdown",
   "metadata": {},
   "source": [
    "### Displaying the Bad Location Statistics"
   ]
  },
  {
   "cell_type": "code",
   "execution_count": 47,
   "metadata": {},
   "outputs": [
    {
     "data": {
      "text/plain": [
       "5"
      ]
     },
     "execution_count": 47,
     "metadata": {},
     "output_type": "execute_result"
    }
   ],
   "source": [
    "bad_locations"
   ]
  },
  {
   "cell_type": "code",
   "execution_count": 48,
   "metadata": {},
   "outputs": [
    {
     "name": "stdout",
     "output_type": "stream",
     "text": [
      "10.0%\n"
     ]
    }
   ],
   "source": [
    "print(f'{bad_locations / counts[\"locations\"]:.1%}')"
   ]
  },
  {
   "cell_type": "markdown",
   "metadata": {},
   "source": [
    "<hr style=\"height:2px; border:none; color:#000; background-color:#000;\">"
   ]
  },
  {
   "cell_type": "markdown",
   "metadata": {},
   "source": [
    "### Cleaning the Data with a pandas `DataFrame` Before Displaying the Data on a Map\n",
    "* `DataFrame` will contain **`NaN`** for the **`latitude`** and **`longitude`** of any tweet that **did not have a valid location**\n",
    "* Remove any such via `DataFrame`’s **`dropna` method** "
   ]
  },
  {
   "cell_type": "code",
   "execution_count": 49,
   "metadata": {},
   "outputs": [],
   "source": [
    "import pandas as pd"
   ]
  },
  {
   "cell_type": "code",
   "execution_count": 50,
   "metadata": {},
   "outputs": [],
   "source": [
    "df = pd.DataFrame(tweets)"
   ]
  },
  {
   "cell_type": "code",
   "execution_count": 51,
   "metadata": {},
   "outputs": [
    {
     "data": {
      "text/html": [
       "<div>\n",
       "<style scoped>\n",
       "    .dataframe tbody tr th:only-of-type {\n",
       "        vertical-align: middle;\n",
       "    }\n",
       "\n",
       "    .dataframe tbody tr th {\n",
       "        vertical-align: top;\n",
       "    }\n",
       "\n",
       "    .dataframe thead th {\n",
       "        text-align: right;\n",
       "    }\n",
       "</style>\n",
       "<table border=\"1\" class=\"dataframe\">\n",
       "  <thead>\n",
       "    <tr style=\"text-align: right;\">\n",
       "      <th></th>\n",
       "      <th>screen_name</th>\n",
       "      <th>text</th>\n",
       "      <th>location</th>\n",
       "      <th>latitude</th>\n",
       "      <th>longitude</th>\n",
       "    </tr>\n",
       "  </thead>\n",
       "  <tbody>\n",
       "    <tr>\n",
       "      <th>0</th>\n",
       "      <td>RolandB3</td>\n",
       "      <td>Wichita State should bring back football.</td>\n",
       "      <td>The Republic of Houston</td>\n",
       "      <td>29.827958</td>\n",
       "      <td>-95.239813</td>\n",
       "    </tr>\n",
       "    <tr>\n",
       "      <th>1</th>\n",
       "      <td>StoriedRivals</td>\n",
       "      <td>MVL Football has a handful of big shifts.\\n\\n@...</td>\n",
       "      <td>Central Ohio</td>\n",
       "      <td>40.225357</td>\n",
       "      <td>-82.688140</td>\n",
       "    </tr>\n",
       "    <tr>\n",
       "      <th>2</th>\n",
       "      <td>jakenisse</td>\n",
       "      <td>David Lee says Nick Cushing is \"absolutely ing...</td>\n",
       "      <td>Alphabet City, Manhattan</td>\n",
       "      <td>40.725102</td>\n",
       "      <td>-73.979583</td>\n",
       "    </tr>\n",
       "    <tr>\n",
       "      <th>3</th>\n",
       "      <td>KJnoswag</td>\n",
       "      <td>@Will_Sefik @JackKennedy Spot on Billy footbal...</td>\n",
       "      <td>Colorado, USA</td>\n",
       "      <td>38.725178</td>\n",
       "      <td>-105.607717</td>\n",
       "    </tr>\n",
       "    <tr>\n",
       "      <th>4</th>\n",
       "      <td>solarpunkgirl</td>\n",
       "      <td>my new responses\\n\\ntouchpoint: \"don't touch m...</td>\n",
       "      <td>🪐</td>\n",
       "      <td>NaN</td>\n",
       "      <td>NaN</td>\n",
       "    </tr>\n",
       "    <tr>\n",
       "      <th>5</th>\n",
       "      <td>DanSabio1</td>\n",
       "      <td>Big thank you to @jeff_knarr and @Coach_Bakana...</td>\n",
       "      <td>New Jersey, USA</td>\n",
       "      <td>40.075738</td>\n",
       "      <td>-74.404162</td>\n",
       "    </tr>\n",
       "    <tr>\n",
       "      <th>6</th>\n",
       "      <td>micky31</td>\n",
       "      <td>The @OHSAASports released its fall sports divi...</td>\n",
       "      <td>Ashtabula</td>\n",
       "      <td>41.716723</td>\n",
       "      <td>-80.749470</td>\n",
       "    </tr>\n",
       "    <tr>\n",
       "      <th>7</th>\n",
       "      <td>LansleyA</td>\n",
       "      <td>@PippaCrerar It’s two football tickets! How ab...</td>\n",
       "      <td>UK</td>\n",
       "      <td>54.702354</td>\n",
       "      <td>-3.276575</td>\n",
       "    </tr>\n",
       "    <tr>\n",
       "      <th>8</th>\n",
       "      <td>supiandi_m</td>\n",
       "      <td>Australia vs Peru\\nWorld Cup Qualification AFC...</td>\n",
       "      <td>Kota Sukabumi, Jawa Barat</td>\n",
       "      <td>-0.618792</td>\n",
       "      <td>100.145295</td>\n",
       "    </tr>\n",
       "    <tr>\n",
       "      <th>9</th>\n",
       "      <td>CunningSports</td>\n",
       "      <td>Chelsea Set to Beat Real Madrid to the Signing...</td>\n",
       "      <td>Metaverse</td>\n",
       "      <td>NaN</td>\n",
       "      <td>NaN</td>\n",
       "    </tr>\n",
       "    <tr>\n",
       "      <th>10</th>\n",
       "      <td>Whistlers_AEWFC</td>\n",
       "      <td>We are getting ready for Season 2021/22 AEWFC ...</td>\n",
       "      <td>Ealing, London</td>\n",
       "      <td>51.512655</td>\n",
       "      <td>-0.305195</td>\n",
       "    </tr>\n",
       "    <tr>\n",
       "      <th>11</th>\n",
       "      <td>WHIZscores</td>\n",
       "      <td>It's All-Star week! And this Friday we'll have...</td>\n",
       "      <td>Zanesville, Ohio</td>\n",
       "      <td>39.940345</td>\n",
       "      <td>-82.013192</td>\n",
       "    </tr>\n",
       "    <tr>\n",
       "      <th>12</th>\n",
       "      <td>carlychoc2</td>\n",
       "      <td>I've entered to #win a Smart Football with @Od...</td>\n",
       "      <td>South East, England</td>\n",
       "      <td>51.464263</td>\n",
       "      <td>-0.651715</td>\n",
       "    </tr>\n",
       "    <tr>\n",
       "      <th>13</th>\n",
       "      <td>daily_msu</td>\n",
       "      <td>Not even close honestly. Football is hard enou...</td>\n",
       "      <td>East Lansing, MI</td>\n",
       "      <td>42.735542</td>\n",
       "      <td>-84.485247</td>\n",
       "    </tr>\n",
       "    <tr>\n",
       "      <th>14</th>\n",
       "      <td>bigwa30</td>\n",
       "      <td>Let's GOOOOOOOOOOO @JrSydir... That @CanesFoot...</td>\n",
       "      <td>Passaic, NJ</td>\n",
       "      <td>40.819584</td>\n",
       "      <td>-74.333557</td>\n",
       "    </tr>\n",
       "    <tr>\n",
       "      <th>15</th>\n",
       "      <td>GavinNelson85</td>\n",
       "      <td>It’s #MensHealthWeek , a big shout out to all ...</td>\n",
       "      <td>Lurgan, Northern Ireland</td>\n",
       "      <td>54.460791</td>\n",
       "      <td>-6.329320</td>\n",
       "    </tr>\n",
       "    <tr>\n",
       "      <th>16</th>\n",
       "      <td>CubFan082</td>\n",
       "      <td>@robertkschmitz They don't have DL/OL talent t...</td>\n",
       "      <td>Joliet, IL</td>\n",
       "      <td>41.526360</td>\n",
       "      <td>-88.084021</td>\n",
       "    </tr>\n",
       "    <tr>\n",
       "      <th>17</th>\n",
       "      <td>CasualsNorthern</td>\n",
       "      <td>He hasn’t f**king got any. Absolute time waste...</td>\n",
       "      <td>The Glorious North</td>\n",
       "      <td>51.439761</td>\n",
       "      <td>-0.051939</td>\n",
       "    </tr>\n",
       "    <tr>\n",
       "      <th>18</th>\n",
       "      <td>dreamerwestAG</td>\n",
       "      <td>@BoltDadPodcast Been there done this. She does...</td>\n",
       "      <td>Sun Diego</td>\n",
       "      <td>32.768053</td>\n",
       "      <td>-117.166898</td>\n",
       "    </tr>\n",
       "    <tr>\n",
       "      <th>19</th>\n",
       "      <td>JonFosterMUFC</td>\n",
       "      <td>@AdamReapa @StourbridgeLFC @AllForUnitedWFC @N...</td>\n",
       "      <td>West Midlands, England</td>\n",
       "      <td>52.505003</td>\n",
       "      <td>-1.964396</td>\n",
       "    </tr>\n",
       "    <tr>\n",
       "      <th>20</th>\n",
       "      <td>kenbahler2004</td>\n",
       "      <td>@BDrogosh Please come to Bowling Green State U...</td>\n",
       "      <td>2309 Westmoor Rd., Findlay, OH</td>\n",
       "      <td>41.069970</td>\n",
       "      <td>-83.666091</td>\n",
       "    </tr>\n",
       "    <tr>\n",
       "      <th>21</th>\n",
       "      <td>Ziberation</td>\n",
       "      <td>@geey2210 @TheRealPitso U ddnt know him becaus...</td>\n",
       "      <td>Port Elizabeth, South Africa</td>\n",
       "      <td>-33.961705</td>\n",
       "      <td>25.620752</td>\n",
       "    </tr>\n",
       "    <tr>\n",
       "      <th>22</th>\n",
       "      <td>AvitajMitra</td>\n",
       "      <td>@xonlr PR football trying to come up with an o...</td>\n",
       "      <td>Leuven, België</td>\n",
       "      <td>50.879202</td>\n",
       "      <td>4.701168</td>\n",
       "    </tr>\n",
       "    <tr>\n",
       "      <th>23</th>\n",
       "      <td>trimble_mason</td>\n",
       "      <td>Great day at the University of Louisville’s fo...</td>\n",
       "      <td>Louisville, KY</td>\n",
       "      <td>38.254238</td>\n",
       "      <td>-85.759407</td>\n",
       "    </tr>\n",
       "    <tr>\n",
       "      <th>24</th>\n",
       "      <td>SirAkPandey</td>\n",
       "      <td>Hindus can form a football team but they won’t...</td>\n",
       "      <td>India</td>\n",
       "      <td>22.351115</td>\n",
       "      <td>78.667743</td>\n",
       "    </tr>\n",
       "    <tr>\n",
       "      <th>25</th>\n",
       "      <td>KofiAwagar</td>\n",
       "      <td>…2 weeks without Premier league football. I al...</td>\n",
       "      <td>Accra, Ghana</td>\n",
       "      <td>5.560014</td>\n",
       "      <td>-0.205744</td>\n",
       "    </tr>\n",
       "    <tr>\n",
       "      <th>26</th>\n",
       "      <td>nik8000</td>\n",
       "      <td>@Olawuyi_Ramos @GodzillaNuke @summers_says @FP...</td>\n",
       "      <td>Bournemouth, England</td>\n",
       "      <td>50.744670</td>\n",
       "      <td>-1.857981</td>\n",
       "    </tr>\n",
       "    <tr>\n",
       "      <th>27</th>\n",
       "      <td>ShenandoahSport</td>\n",
       "      <td>Parents......don't put it off until August.......</td>\n",
       "      <td>Middletown, IN</td>\n",
       "      <td>40.057267</td>\n",
       "      <td>-85.537197</td>\n",
       "    </tr>\n",
       "    <tr>\n",
       "      <th>28</th>\n",
       "      <td>ValenciaVillain</td>\n",
       "      <td>@Total_Villa https://t.co/aejRAvNrJE\\nIt's so ...</td>\n",
       "      <td>Valencia</td>\n",
       "      <td>39.469901</td>\n",
       "      <td>-0.375951</td>\n",
       "    </tr>\n",
       "    <tr>\n",
       "      <th>29</th>\n",
       "      <td>marksmithccfc</td>\n",
       "      <td>@JustinPeach27 @SkyFootball @ramsreview1 Reall...</td>\n",
       "      <td>Fairfield, Hitchin</td>\n",
       "      <td>52.007869</td>\n",
       "      <td>-0.240870</td>\n",
       "    </tr>\n",
       "    <tr>\n",
       "      <th>30</th>\n",
       "      <td>McquainRichard</td>\n",
       "      <td>@kdeemac13 I'm very concerned about Warnock's ...</td>\n",
       "      <td>Atascocita, TX</td>\n",
       "      <td>29.999007</td>\n",
       "      <td>-95.162014</td>\n",
       "    </tr>\n",
       "    <tr>\n",
       "      <th>31</th>\n",
       "      <td>coachBSanders18</td>\n",
       "      <td>Wildcats Alumni presence at JF High School Foo...</td>\n",
       "      <td>Tucson, AZ</td>\n",
       "      <td>32.221892</td>\n",
       "      <td>-110.926235</td>\n",
       "    </tr>\n",
       "    <tr>\n",
       "      <th>32</th>\n",
       "      <td>M2KaN3</td>\n",
       "      <td>For all the delusional Arsenal fans in the com...</td>\n",
       "      <td>South Africa</td>\n",
       "      <td>-28.816624</td>\n",
       "      <td>24.991639</td>\n",
       "    </tr>\n",
       "    <tr>\n",
       "      <th>33</th>\n",
       "      <td>georgey_doors</td>\n",
       "      <td>@erroneousSock @_robo68 @sophielouisecc That's...</td>\n",
       "      <td>London, England</td>\n",
       "      <td>51.507322</td>\n",
       "      <td>-0.127647</td>\n",
       "    </tr>\n",
       "    <tr>\n",
       "      <th>34</th>\n",
       "      <td>coachgeathers</td>\n",
       "      <td>Facts. Football is played in pads. Want to sho...</td>\n",
       "      <td>Suwanee, GA</td>\n",
       "      <td>34.051490</td>\n",
       "      <td>-84.071300</td>\n",
       "    </tr>\n",
       "    <tr>\n",
       "      <th>35</th>\n",
       "      <td>rlhh___</td>\n",
       "      <td>this man said , “choose your favorite college ...</td>\n",
       "      <td>$$$</td>\n",
       "      <td>NaN</td>\n",
       "      <td>NaN</td>\n",
       "    </tr>\n",
       "    <tr>\n",
       "      <th>36</th>\n",
       "      <td>matyinger14</td>\n",
       "      <td>A guy from the 50s loool he would play in the ...</td>\n",
       "      <td>Budapest, Magyarország</td>\n",
       "      <td>47.481390</td>\n",
       "      <td>19.146073</td>\n",
       "    </tr>\n",
       "    <tr>\n",
       "      <th>37</th>\n",
       "      <td>JaSoN_Mileskid</td>\n",
       "      <td>@DornN99 @AwoshieRudiger1 @SaddickAdams He doe...</td>\n",
       "      <td>Tema, Ghana</td>\n",
       "      <td>5.659644</td>\n",
       "      <td>-0.009659</td>\n",
       "    </tr>\n",
       "    <tr>\n",
       "      <th>38</th>\n",
       "      <td>crbrendemuehl</td>\n",
       "      <td>I expect both football and basketball to be ma...</td>\n",
       "      <td>Ohio (ex-pat cheesehead)</td>\n",
       "      <td>NaN</td>\n",
       "      <td>NaN</td>\n",
       "    </tr>\n",
       "    <tr>\n",
       "      <th>39</th>\n",
       "      <td>Tsholoo341</td>\n",
       "      <td>The only football he's playing next season is ...</td>\n",
       "      <td>JHB//Potch//PTA</td>\n",
       "      <td>NaN</td>\n",
       "      <td>NaN</td>\n",
       "    </tr>\n",
       "    <tr>\n",
       "      <th>40</th>\n",
       "      <td>DeaconSports</td>\n",
       "      <td>The 2022-2023 Wake Forest sports calendar feat...</td>\n",
       "      <td>Winston-Salem, NC</td>\n",
       "      <td>36.099813</td>\n",
       "      <td>-80.244052</td>\n",
       "    </tr>\n",
       "    <tr>\n",
       "      <th>41</th>\n",
       "      <td>BucNastyLives</td>\n",
       "      <td>@TylerFFCreator @Zeallor27 I like D Smith too ...</td>\n",
       "      <td>Knoxville, TN</td>\n",
       "      <td>35.960395</td>\n",
       "      <td>-83.921026</td>\n",
       "    </tr>\n",
       "    <tr>\n",
       "      <th>42</th>\n",
       "      <td>Ricky_Bobby1971</td>\n",
       "      <td>@CFCLenny @Chris_Mills_ @_ChelseaLB @Tonycabby...</td>\n",
       "      <td>Mangotsfield, Bristol</td>\n",
       "      <td>51.475705</td>\n",
       "      <td>-2.483421</td>\n",
       "    </tr>\n",
       "    <tr>\n",
       "      <th>43</th>\n",
       "      <td>oklamode</td>\n",
       "      <td>@kyleumlang Looks like the future football pod</td>\n",
       "      <td>Edmond, OK</td>\n",
       "      <td>35.657137</td>\n",
       "      <td>-97.464904</td>\n",
       "    </tr>\n",
       "    <tr>\n",
       "      <th>44</th>\n",
       "      <td>mcooperwrites</td>\n",
       "      <td>@AliHolding @ReservoirJogs @TalkingWolves @dav...</td>\n",
       "      <td>Birmingham</td>\n",
       "      <td>52.477540</td>\n",
       "      <td>-1.894053</td>\n",
       "    </tr>\n",
       "    <tr>\n",
       "      <th>45</th>\n",
       "      <td>Mustxkim</td>\n",
       "      <td>I’m transitioning to a Football and F1 twitter</td>\n",
       "      <td>London, England</td>\n",
       "      <td>51.507322</td>\n",
       "      <td>-0.127647</td>\n",
       "    </tr>\n",
       "    <tr>\n",
       "      <th>46</th>\n",
       "      <td>ErnestoMalchino</td>\n",
       "      <td>@YouPlaque @Reuters But less professional foot...</td>\n",
       "      <td>Lamezia Terme</td>\n",
       "      <td>38.964212</td>\n",
       "      <td>16.303199</td>\n",
       "    </tr>\n",
       "    <tr>\n",
       "      <th>47</th>\n",
       "      <td>cribby2468</td>\n",
       "      <td>Meanwhile sky sports announce United made a hi...</td>\n",
       "      <td>Hunstanton, England</td>\n",
       "      <td>52.939384</td>\n",
       "      <td>0.490174</td>\n",
       "    </tr>\n",
       "    <tr>\n",
       "      <th>48</th>\n",
       "      <td>CraigBeazley85</td>\n",
       "      <td>@ACW52 @dcfcstephen I agree the owners have be...</td>\n",
       "      <td>Bournemouth, England</td>\n",
       "      <td>50.744670</td>\n",
       "      <td>-1.857981</td>\n",
       "    </tr>\n",
       "    <tr>\n",
       "      <th>49</th>\n",
       "      <td>Tomo_scfc</td>\n",
       "      <td>@Jamiefishing14 @FootyAccums Haven't been arse...</td>\n",
       "      <td>Stoke-on-Trent, England</td>\n",
       "      <td>53.016201</td>\n",
       "      <td>-2.181261</td>\n",
       "    </tr>\n",
       "  </tbody>\n",
       "</table>\n",
       "</div>"
      ],
      "text/plain": [
       "        screen_name                                               text  \\\n",
       "0          RolandB3          Wichita State should bring back football.   \n",
       "1     StoriedRivals  MVL Football has a handful of big shifts.\\n\\n@...   \n",
       "2         jakenisse  David Lee says Nick Cushing is \"absolutely ing...   \n",
       "3          KJnoswag  @Will_Sefik @JackKennedy Spot on Billy footbal...   \n",
       "4     solarpunkgirl  my new responses\\n\\ntouchpoint: \"don't touch m...   \n",
       "5         DanSabio1  Big thank you to @jeff_knarr and @Coach_Bakana...   \n",
       "6           micky31  The @OHSAASports released its fall sports divi...   \n",
       "7          LansleyA  @PippaCrerar It’s two football tickets! How ab...   \n",
       "8        supiandi_m  Australia vs Peru\\nWorld Cup Qualification AFC...   \n",
       "9     CunningSports  Chelsea Set to Beat Real Madrid to the Signing...   \n",
       "10  Whistlers_AEWFC  We are getting ready for Season 2021/22 AEWFC ...   \n",
       "11       WHIZscores  It's All-Star week! And this Friday we'll have...   \n",
       "12       carlychoc2  I've entered to #win a Smart Football with @Od...   \n",
       "13        daily_msu  Not even close honestly. Football is hard enou...   \n",
       "14          bigwa30  Let's GOOOOOOOOOOO @JrSydir... That @CanesFoot...   \n",
       "15    GavinNelson85  It’s #MensHealthWeek , a big shout out to all ...   \n",
       "16        CubFan082  @robertkschmitz They don't have DL/OL talent t...   \n",
       "17  CasualsNorthern  He hasn’t f**king got any. Absolute time waste...   \n",
       "18    dreamerwestAG  @BoltDadPodcast Been there done this. She does...   \n",
       "19    JonFosterMUFC  @AdamReapa @StourbridgeLFC @AllForUnitedWFC @N...   \n",
       "20    kenbahler2004  @BDrogosh Please come to Bowling Green State U...   \n",
       "21       Ziberation  @geey2210 @TheRealPitso U ddnt know him becaus...   \n",
       "22      AvitajMitra  @xonlr PR football trying to come up with an o...   \n",
       "23    trimble_mason  Great day at the University of Louisville’s fo...   \n",
       "24      SirAkPandey  Hindus can form a football team but they won’t...   \n",
       "25       KofiAwagar  …2 weeks without Premier league football. I al...   \n",
       "26          nik8000  @Olawuyi_Ramos @GodzillaNuke @summers_says @FP...   \n",
       "27  ShenandoahSport  Parents......don't put it off until August.......   \n",
       "28  ValenciaVillain  @Total_Villa https://t.co/aejRAvNrJE\\nIt's so ...   \n",
       "29    marksmithccfc  @JustinPeach27 @SkyFootball @ramsreview1 Reall...   \n",
       "30   McquainRichard  @kdeemac13 I'm very concerned about Warnock's ...   \n",
       "31  coachBSanders18  Wildcats Alumni presence at JF High School Foo...   \n",
       "32           M2KaN3  For all the delusional Arsenal fans in the com...   \n",
       "33    georgey_doors  @erroneousSock @_robo68 @sophielouisecc That's...   \n",
       "34    coachgeathers  Facts. Football is played in pads. Want to sho...   \n",
       "35          rlhh___  this man said , “choose your favorite college ...   \n",
       "36      matyinger14  A guy from the 50s loool he would play in the ...   \n",
       "37   JaSoN_Mileskid  @DornN99 @AwoshieRudiger1 @SaddickAdams He doe...   \n",
       "38    crbrendemuehl  I expect both football and basketball to be ma...   \n",
       "39       Tsholoo341  The only football he's playing next season is ...   \n",
       "40     DeaconSports  The 2022-2023 Wake Forest sports calendar feat...   \n",
       "41    BucNastyLives  @TylerFFCreator @Zeallor27 I like D Smith too ...   \n",
       "42  Ricky_Bobby1971  @CFCLenny @Chris_Mills_ @_ChelseaLB @Tonycabby...   \n",
       "43         oklamode     @kyleumlang Looks like the future football pod   \n",
       "44    mcooperwrites  @AliHolding @ReservoirJogs @TalkingWolves @dav...   \n",
       "45         Mustxkim     I’m transitioning to a Football and F1 twitter   \n",
       "46  ErnestoMalchino  @YouPlaque @Reuters But less professional foot...   \n",
       "47       cribby2468  Meanwhile sky sports announce United made a hi...   \n",
       "48   CraigBeazley85  @ACW52 @dcfcstephen I agree the owners have be...   \n",
       "49        Tomo_scfc  @Jamiefishing14 @FootyAccums Haven't been arse...   \n",
       "\n",
       "                          location   latitude   longitude  \n",
       "0          The Republic of Houston  29.827958  -95.239813  \n",
       "1                     Central Ohio  40.225357  -82.688140  \n",
       "2         Alphabet City, Manhattan  40.725102  -73.979583  \n",
       "3                    Colorado, USA  38.725178 -105.607717  \n",
       "4                                🪐        NaN         NaN  \n",
       "5                  New Jersey, USA  40.075738  -74.404162  \n",
       "6                        Ashtabula  41.716723  -80.749470  \n",
       "7                               UK  54.702354   -3.276575  \n",
       "8        Kota Sukabumi, Jawa Barat  -0.618792  100.145295  \n",
       "9                        Metaverse        NaN         NaN  \n",
       "10                  Ealing, London  51.512655   -0.305195  \n",
       "11                Zanesville, Ohio  39.940345  -82.013192  \n",
       "12             South East, England  51.464263   -0.651715  \n",
       "13                East Lansing, MI  42.735542  -84.485247  \n",
       "14                     Passaic, NJ  40.819584  -74.333557  \n",
       "15        Lurgan, Northern Ireland  54.460791   -6.329320  \n",
       "16                      Joliet, IL  41.526360  -88.084021  \n",
       "17              The Glorious North  51.439761   -0.051939  \n",
       "18                       Sun Diego  32.768053 -117.166898  \n",
       "19          West Midlands, England  52.505003   -1.964396  \n",
       "20  2309 Westmoor Rd., Findlay, OH  41.069970  -83.666091  \n",
       "21    Port Elizabeth, South Africa -33.961705   25.620752  \n",
       "22                  Leuven, België  50.879202    4.701168  \n",
       "23                  Louisville, KY  38.254238  -85.759407  \n",
       "24                           India  22.351115   78.667743  \n",
       "25                    Accra, Ghana   5.560014   -0.205744  \n",
       "26            Bournemouth, England  50.744670   -1.857981  \n",
       "27                  Middletown, IN  40.057267  -85.537197  \n",
       "28                       Valencia   39.469901   -0.375951  \n",
       "29              Fairfield, Hitchin  52.007869   -0.240870  \n",
       "30                  Atascocita, TX  29.999007  -95.162014  \n",
       "31                      Tucson, AZ  32.221892 -110.926235  \n",
       "32                    South Africa -28.816624   24.991639  \n",
       "33                 London, England  51.507322   -0.127647  \n",
       "34                     Suwanee, GA  34.051490  -84.071300  \n",
       "35                             $$$        NaN         NaN  \n",
       "36          Budapest, Magyarország  47.481390   19.146073  \n",
       "37                     Tema, Ghana   5.659644   -0.009659  \n",
       "38        Ohio (ex-pat cheesehead)        NaN         NaN  \n",
       "39                 JHB//Potch//PTA        NaN         NaN  \n",
       "40               Winston-Salem, NC  36.099813  -80.244052  \n",
       "41                   Knoxville, TN  35.960395  -83.921026  \n",
       "42           Mangotsfield, Bristol  51.475705   -2.483421  \n",
       "43                      Edmond, OK  35.657137  -97.464904  \n",
       "44                      Birmingham  52.477540   -1.894053  \n",
       "45                 London, England  51.507322   -0.127647  \n",
       "46                  Lamezia Terme   38.964212   16.303199  \n",
       "47             Hunstanton, England  52.939384    0.490174  \n",
       "48            Bournemouth, England  50.744670   -1.857981  \n",
       "49         Stoke-on-Trent, England  53.016201   -2.181261  "
      ]
     },
     "execution_count": 51,
     "metadata": {},
     "output_type": "execute_result"
    }
   ],
   "source": [
    "df"
   ]
  },
  {
   "cell_type": "code",
   "execution_count": 52,
   "metadata": {},
   "outputs": [],
   "source": [
    "df = df.dropna()"
   ]
  },
  {
   "cell_type": "code",
   "execution_count": 53,
   "metadata": {},
   "outputs": [
    {
     "data": {
      "text/html": [
       "<div>\n",
       "<style scoped>\n",
       "    .dataframe tbody tr th:only-of-type {\n",
       "        vertical-align: middle;\n",
       "    }\n",
       "\n",
       "    .dataframe tbody tr th {\n",
       "        vertical-align: top;\n",
       "    }\n",
       "\n",
       "    .dataframe thead th {\n",
       "        text-align: right;\n",
       "    }\n",
       "</style>\n",
       "<table border=\"1\" class=\"dataframe\">\n",
       "  <thead>\n",
       "    <tr style=\"text-align: right;\">\n",
       "      <th></th>\n",
       "      <th>screen_name</th>\n",
       "      <th>text</th>\n",
       "      <th>location</th>\n",
       "      <th>latitude</th>\n",
       "      <th>longitude</th>\n",
       "    </tr>\n",
       "  </thead>\n",
       "  <tbody>\n",
       "    <tr>\n",
       "      <th>0</th>\n",
       "      <td>RolandB3</td>\n",
       "      <td>Wichita State should bring back football.</td>\n",
       "      <td>The Republic of Houston</td>\n",
       "      <td>29.827958</td>\n",
       "      <td>-95.239813</td>\n",
       "    </tr>\n",
       "    <tr>\n",
       "      <th>1</th>\n",
       "      <td>StoriedRivals</td>\n",
       "      <td>MVL Football has a handful of big shifts.\\n\\n@...</td>\n",
       "      <td>Central Ohio</td>\n",
       "      <td>40.225357</td>\n",
       "      <td>-82.688140</td>\n",
       "    </tr>\n",
       "    <tr>\n",
       "      <th>2</th>\n",
       "      <td>jakenisse</td>\n",
       "      <td>David Lee says Nick Cushing is \"absolutely ing...</td>\n",
       "      <td>Alphabet City, Manhattan</td>\n",
       "      <td>40.725102</td>\n",
       "      <td>-73.979583</td>\n",
       "    </tr>\n",
       "    <tr>\n",
       "      <th>3</th>\n",
       "      <td>KJnoswag</td>\n",
       "      <td>@Will_Sefik @JackKennedy Spot on Billy footbal...</td>\n",
       "      <td>Colorado, USA</td>\n",
       "      <td>38.725178</td>\n",
       "      <td>-105.607717</td>\n",
       "    </tr>\n",
       "    <tr>\n",
       "      <th>5</th>\n",
       "      <td>DanSabio1</td>\n",
       "      <td>Big thank you to @jeff_knarr and @Coach_Bakana...</td>\n",
       "      <td>New Jersey, USA</td>\n",
       "      <td>40.075738</td>\n",
       "      <td>-74.404162</td>\n",
       "    </tr>\n",
       "    <tr>\n",
       "      <th>6</th>\n",
       "      <td>micky31</td>\n",
       "      <td>The @OHSAASports released its fall sports divi...</td>\n",
       "      <td>Ashtabula</td>\n",
       "      <td>41.716723</td>\n",
       "      <td>-80.749470</td>\n",
       "    </tr>\n",
       "    <tr>\n",
       "      <th>7</th>\n",
       "      <td>LansleyA</td>\n",
       "      <td>@PippaCrerar It’s two football tickets! How ab...</td>\n",
       "      <td>UK</td>\n",
       "      <td>54.702354</td>\n",
       "      <td>-3.276575</td>\n",
       "    </tr>\n",
       "    <tr>\n",
       "      <th>8</th>\n",
       "      <td>supiandi_m</td>\n",
       "      <td>Australia vs Peru\\nWorld Cup Qualification AFC...</td>\n",
       "      <td>Kota Sukabumi, Jawa Barat</td>\n",
       "      <td>-0.618792</td>\n",
       "      <td>100.145295</td>\n",
       "    </tr>\n",
       "    <tr>\n",
       "      <th>10</th>\n",
       "      <td>Whistlers_AEWFC</td>\n",
       "      <td>We are getting ready for Season 2021/22 AEWFC ...</td>\n",
       "      <td>Ealing, London</td>\n",
       "      <td>51.512655</td>\n",
       "      <td>-0.305195</td>\n",
       "    </tr>\n",
       "    <tr>\n",
       "      <th>11</th>\n",
       "      <td>WHIZscores</td>\n",
       "      <td>It's All-Star week! And this Friday we'll have...</td>\n",
       "      <td>Zanesville, Ohio</td>\n",
       "      <td>39.940345</td>\n",
       "      <td>-82.013192</td>\n",
       "    </tr>\n",
       "    <tr>\n",
       "      <th>12</th>\n",
       "      <td>carlychoc2</td>\n",
       "      <td>I've entered to #win a Smart Football with @Od...</td>\n",
       "      <td>South East, England</td>\n",
       "      <td>51.464263</td>\n",
       "      <td>-0.651715</td>\n",
       "    </tr>\n",
       "    <tr>\n",
       "      <th>13</th>\n",
       "      <td>daily_msu</td>\n",
       "      <td>Not even close honestly. Football is hard enou...</td>\n",
       "      <td>East Lansing, MI</td>\n",
       "      <td>42.735542</td>\n",
       "      <td>-84.485247</td>\n",
       "    </tr>\n",
       "    <tr>\n",
       "      <th>14</th>\n",
       "      <td>bigwa30</td>\n",
       "      <td>Let's GOOOOOOOOOOO @JrSydir... That @CanesFoot...</td>\n",
       "      <td>Passaic, NJ</td>\n",
       "      <td>40.819584</td>\n",
       "      <td>-74.333557</td>\n",
       "    </tr>\n",
       "    <tr>\n",
       "      <th>15</th>\n",
       "      <td>GavinNelson85</td>\n",
       "      <td>It’s #MensHealthWeek , a big shout out to all ...</td>\n",
       "      <td>Lurgan, Northern Ireland</td>\n",
       "      <td>54.460791</td>\n",
       "      <td>-6.329320</td>\n",
       "    </tr>\n",
       "    <tr>\n",
       "      <th>16</th>\n",
       "      <td>CubFan082</td>\n",
       "      <td>@robertkschmitz They don't have DL/OL talent t...</td>\n",
       "      <td>Joliet, IL</td>\n",
       "      <td>41.526360</td>\n",
       "      <td>-88.084021</td>\n",
       "    </tr>\n",
       "    <tr>\n",
       "      <th>17</th>\n",
       "      <td>CasualsNorthern</td>\n",
       "      <td>He hasn’t f**king got any. Absolute time waste...</td>\n",
       "      <td>The Glorious North</td>\n",
       "      <td>51.439761</td>\n",
       "      <td>-0.051939</td>\n",
       "    </tr>\n",
       "    <tr>\n",
       "      <th>18</th>\n",
       "      <td>dreamerwestAG</td>\n",
       "      <td>@BoltDadPodcast Been there done this. She does...</td>\n",
       "      <td>Sun Diego</td>\n",
       "      <td>32.768053</td>\n",
       "      <td>-117.166898</td>\n",
       "    </tr>\n",
       "    <tr>\n",
       "      <th>19</th>\n",
       "      <td>JonFosterMUFC</td>\n",
       "      <td>@AdamReapa @StourbridgeLFC @AllForUnitedWFC @N...</td>\n",
       "      <td>West Midlands, England</td>\n",
       "      <td>52.505003</td>\n",
       "      <td>-1.964396</td>\n",
       "    </tr>\n",
       "    <tr>\n",
       "      <th>20</th>\n",
       "      <td>kenbahler2004</td>\n",
       "      <td>@BDrogosh Please come to Bowling Green State U...</td>\n",
       "      <td>2309 Westmoor Rd., Findlay, OH</td>\n",
       "      <td>41.069970</td>\n",
       "      <td>-83.666091</td>\n",
       "    </tr>\n",
       "    <tr>\n",
       "      <th>21</th>\n",
       "      <td>Ziberation</td>\n",
       "      <td>@geey2210 @TheRealPitso U ddnt know him becaus...</td>\n",
       "      <td>Port Elizabeth, South Africa</td>\n",
       "      <td>-33.961705</td>\n",
       "      <td>25.620752</td>\n",
       "    </tr>\n",
       "    <tr>\n",
       "      <th>22</th>\n",
       "      <td>AvitajMitra</td>\n",
       "      <td>@xonlr PR football trying to come up with an o...</td>\n",
       "      <td>Leuven, België</td>\n",
       "      <td>50.879202</td>\n",
       "      <td>4.701168</td>\n",
       "    </tr>\n",
       "    <tr>\n",
       "      <th>23</th>\n",
       "      <td>trimble_mason</td>\n",
       "      <td>Great day at the University of Louisville’s fo...</td>\n",
       "      <td>Louisville, KY</td>\n",
       "      <td>38.254238</td>\n",
       "      <td>-85.759407</td>\n",
       "    </tr>\n",
       "    <tr>\n",
       "      <th>24</th>\n",
       "      <td>SirAkPandey</td>\n",
       "      <td>Hindus can form a football team but they won’t...</td>\n",
       "      <td>India</td>\n",
       "      <td>22.351115</td>\n",
       "      <td>78.667743</td>\n",
       "    </tr>\n",
       "    <tr>\n",
       "      <th>25</th>\n",
       "      <td>KofiAwagar</td>\n",
       "      <td>…2 weeks without Premier league football. I al...</td>\n",
       "      <td>Accra, Ghana</td>\n",
       "      <td>5.560014</td>\n",
       "      <td>-0.205744</td>\n",
       "    </tr>\n",
       "    <tr>\n",
       "      <th>26</th>\n",
       "      <td>nik8000</td>\n",
       "      <td>@Olawuyi_Ramos @GodzillaNuke @summers_says @FP...</td>\n",
       "      <td>Bournemouth, England</td>\n",
       "      <td>50.744670</td>\n",
       "      <td>-1.857981</td>\n",
       "    </tr>\n",
       "    <tr>\n",
       "      <th>27</th>\n",
       "      <td>ShenandoahSport</td>\n",
       "      <td>Parents......don't put it off until August.......</td>\n",
       "      <td>Middletown, IN</td>\n",
       "      <td>40.057267</td>\n",
       "      <td>-85.537197</td>\n",
       "    </tr>\n",
       "    <tr>\n",
       "      <th>28</th>\n",
       "      <td>ValenciaVillain</td>\n",
       "      <td>@Total_Villa https://t.co/aejRAvNrJE\\nIt's so ...</td>\n",
       "      <td>Valencia</td>\n",
       "      <td>39.469901</td>\n",
       "      <td>-0.375951</td>\n",
       "    </tr>\n",
       "    <tr>\n",
       "      <th>29</th>\n",
       "      <td>marksmithccfc</td>\n",
       "      <td>@JustinPeach27 @SkyFootball @ramsreview1 Reall...</td>\n",
       "      <td>Fairfield, Hitchin</td>\n",
       "      <td>52.007869</td>\n",
       "      <td>-0.240870</td>\n",
       "    </tr>\n",
       "    <tr>\n",
       "      <th>30</th>\n",
       "      <td>McquainRichard</td>\n",
       "      <td>@kdeemac13 I'm very concerned about Warnock's ...</td>\n",
       "      <td>Atascocita, TX</td>\n",
       "      <td>29.999007</td>\n",
       "      <td>-95.162014</td>\n",
       "    </tr>\n",
       "    <tr>\n",
       "      <th>31</th>\n",
       "      <td>coachBSanders18</td>\n",
       "      <td>Wildcats Alumni presence at JF High School Foo...</td>\n",
       "      <td>Tucson, AZ</td>\n",
       "      <td>32.221892</td>\n",
       "      <td>-110.926235</td>\n",
       "    </tr>\n",
       "    <tr>\n",
       "      <th>32</th>\n",
       "      <td>M2KaN3</td>\n",
       "      <td>For all the delusional Arsenal fans in the com...</td>\n",
       "      <td>South Africa</td>\n",
       "      <td>-28.816624</td>\n",
       "      <td>24.991639</td>\n",
       "    </tr>\n",
       "    <tr>\n",
       "      <th>33</th>\n",
       "      <td>georgey_doors</td>\n",
       "      <td>@erroneousSock @_robo68 @sophielouisecc That's...</td>\n",
       "      <td>London, England</td>\n",
       "      <td>51.507322</td>\n",
       "      <td>-0.127647</td>\n",
       "    </tr>\n",
       "    <tr>\n",
       "      <th>34</th>\n",
       "      <td>coachgeathers</td>\n",
       "      <td>Facts. Football is played in pads. Want to sho...</td>\n",
       "      <td>Suwanee, GA</td>\n",
       "      <td>34.051490</td>\n",
       "      <td>-84.071300</td>\n",
       "    </tr>\n",
       "    <tr>\n",
       "      <th>36</th>\n",
       "      <td>matyinger14</td>\n",
       "      <td>A guy from the 50s loool he would play in the ...</td>\n",
       "      <td>Budapest, Magyarország</td>\n",
       "      <td>47.481390</td>\n",
       "      <td>19.146073</td>\n",
       "    </tr>\n",
       "    <tr>\n",
       "      <th>37</th>\n",
       "      <td>JaSoN_Mileskid</td>\n",
       "      <td>@DornN99 @AwoshieRudiger1 @SaddickAdams He doe...</td>\n",
       "      <td>Tema, Ghana</td>\n",
       "      <td>5.659644</td>\n",
       "      <td>-0.009659</td>\n",
       "    </tr>\n",
       "    <tr>\n",
       "      <th>40</th>\n",
       "      <td>DeaconSports</td>\n",
       "      <td>The 2022-2023 Wake Forest sports calendar feat...</td>\n",
       "      <td>Winston-Salem, NC</td>\n",
       "      <td>36.099813</td>\n",
       "      <td>-80.244052</td>\n",
       "    </tr>\n",
       "    <tr>\n",
       "      <th>41</th>\n",
       "      <td>BucNastyLives</td>\n",
       "      <td>@TylerFFCreator @Zeallor27 I like D Smith too ...</td>\n",
       "      <td>Knoxville, TN</td>\n",
       "      <td>35.960395</td>\n",
       "      <td>-83.921026</td>\n",
       "    </tr>\n",
       "    <tr>\n",
       "      <th>42</th>\n",
       "      <td>Ricky_Bobby1971</td>\n",
       "      <td>@CFCLenny @Chris_Mills_ @_ChelseaLB @Tonycabby...</td>\n",
       "      <td>Mangotsfield, Bristol</td>\n",
       "      <td>51.475705</td>\n",
       "      <td>-2.483421</td>\n",
       "    </tr>\n",
       "    <tr>\n",
       "      <th>43</th>\n",
       "      <td>oklamode</td>\n",
       "      <td>@kyleumlang Looks like the future football pod</td>\n",
       "      <td>Edmond, OK</td>\n",
       "      <td>35.657137</td>\n",
       "      <td>-97.464904</td>\n",
       "    </tr>\n",
       "    <tr>\n",
       "      <th>44</th>\n",
       "      <td>mcooperwrites</td>\n",
       "      <td>@AliHolding @ReservoirJogs @TalkingWolves @dav...</td>\n",
       "      <td>Birmingham</td>\n",
       "      <td>52.477540</td>\n",
       "      <td>-1.894053</td>\n",
       "    </tr>\n",
       "    <tr>\n",
       "      <th>45</th>\n",
       "      <td>Mustxkim</td>\n",
       "      <td>I’m transitioning to a Football and F1 twitter</td>\n",
       "      <td>London, England</td>\n",
       "      <td>51.507322</td>\n",
       "      <td>-0.127647</td>\n",
       "    </tr>\n",
       "    <tr>\n",
       "      <th>46</th>\n",
       "      <td>ErnestoMalchino</td>\n",
       "      <td>@YouPlaque @Reuters But less professional foot...</td>\n",
       "      <td>Lamezia Terme</td>\n",
       "      <td>38.964212</td>\n",
       "      <td>16.303199</td>\n",
       "    </tr>\n",
       "    <tr>\n",
       "      <th>47</th>\n",
       "      <td>cribby2468</td>\n",
       "      <td>Meanwhile sky sports announce United made a hi...</td>\n",
       "      <td>Hunstanton, England</td>\n",
       "      <td>52.939384</td>\n",
       "      <td>0.490174</td>\n",
       "    </tr>\n",
       "    <tr>\n",
       "      <th>48</th>\n",
       "      <td>CraigBeazley85</td>\n",
       "      <td>@ACW52 @dcfcstephen I agree the owners have be...</td>\n",
       "      <td>Bournemouth, England</td>\n",
       "      <td>50.744670</td>\n",
       "      <td>-1.857981</td>\n",
       "    </tr>\n",
       "    <tr>\n",
       "      <th>49</th>\n",
       "      <td>Tomo_scfc</td>\n",
       "      <td>@Jamiefishing14 @FootyAccums Haven't been arse...</td>\n",
       "      <td>Stoke-on-Trent, England</td>\n",
       "      <td>53.016201</td>\n",
       "      <td>-2.181261</td>\n",
       "    </tr>\n",
       "  </tbody>\n",
       "</table>\n",
       "</div>"
      ],
      "text/plain": [
       "        screen_name                                               text  \\\n",
       "0          RolandB3          Wichita State should bring back football.   \n",
       "1     StoriedRivals  MVL Football has a handful of big shifts.\\n\\n@...   \n",
       "2         jakenisse  David Lee says Nick Cushing is \"absolutely ing...   \n",
       "3          KJnoswag  @Will_Sefik @JackKennedy Spot on Billy footbal...   \n",
       "5         DanSabio1  Big thank you to @jeff_knarr and @Coach_Bakana...   \n",
       "6           micky31  The @OHSAASports released its fall sports divi...   \n",
       "7          LansleyA  @PippaCrerar It’s two football tickets! How ab...   \n",
       "8        supiandi_m  Australia vs Peru\\nWorld Cup Qualification AFC...   \n",
       "10  Whistlers_AEWFC  We are getting ready for Season 2021/22 AEWFC ...   \n",
       "11       WHIZscores  It's All-Star week! And this Friday we'll have...   \n",
       "12       carlychoc2  I've entered to #win a Smart Football with @Od...   \n",
       "13        daily_msu  Not even close honestly. Football is hard enou...   \n",
       "14          bigwa30  Let's GOOOOOOOOOOO @JrSydir... That @CanesFoot...   \n",
       "15    GavinNelson85  It’s #MensHealthWeek , a big shout out to all ...   \n",
       "16        CubFan082  @robertkschmitz They don't have DL/OL talent t...   \n",
       "17  CasualsNorthern  He hasn’t f**king got any. Absolute time waste...   \n",
       "18    dreamerwestAG  @BoltDadPodcast Been there done this. She does...   \n",
       "19    JonFosterMUFC  @AdamReapa @StourbridgeLFC @AllForUnitedWFC @N...   \n",
       "20    kenbahler2004  @BDrogosh Please come to Bowling Green State U...   \n",
       "21       Ziberation  @geey2210 @TheRealPitso U ddnt know him becaus...   \n",
       "22      AvitajMitra  @xonlr PR football trying to come up with an o...   \n",
       "23    trimble_mason  Great day at the University of Louisville’s fo...   \n",
       "24      SirAkPandey  Hindus can form a football team but they won’t...   \n",
       "25       KofiAwagar  …2 weeks without Premier league football. I al...   \n",
       "26          nik8000  @Olawuyi_Ramos @GodzillaNuke @summers_says @FP...   \n",
       "27  ShenandoahSport  Parents......don't put it off until August.......   \n",
       "28  ValenciaVillain  @Total_Villa https://t.co/aejRAvNrJE\\nIt's so ...   \n",
       "29    marksmithccfc  @JustinPeach27 @SkyFootball @ramsreview1 Reall...   \n",
       "30   McquainRichard  @kdeemac13 I'm very concerned about Warnock's ...   \n",
       "31  coachBSanders18  Wildcats Alumni presence at JF High School Foo...   \n",
       "32           M2KaN3  For all the delusional Arsenal fans in the com...   \n",
       "33    georgey_doors  @erroneousSock @_robo68 @sophielouisecc That's...   \n",
       "34    coachgeathers  Facts. Football is played in pads. Want to sho...   \n",
       "36      matyinger14  A guy from the 50s loool he would play in the ...   \n",
       "37   JaSoN_Mileskid  @DornN99 @AwoshieRudiger1 @SaddickAdams He doe...   \n",
       "40     DeaconSports  The 2022-2023 Wake Forest sports calendar feat...   \n",
       "41    BucNastyLives  @TylerFFCreator @Zeallor27 I like D Smith too ...   \n",
       "42  Ricky_Bobby1971  @CFCLenny @Chris_Mills_ @_ChelseaLB @Tonycabby...   \n",
       "43         oklamode     @kyleumlang Looks like the future football pod   \n",
       "44    mcooperwrites  @AliHolding @ReservoirJogs @TalkingWolves @dav...   \n",
       "45         Mustxkim     I’m transitioning to a Football and F1 twitter   \n",
       "46  ErnestoMalchino  @YouPlaque @Reuters But less professional foot...   \n",
       "47       cribby2468  Meanwhile sky sports announce United made a hi...   \n",
       "48   CraigBeazley85  @ACW52 @dcfcstephen I agree the owners have be...   \n",
       "49        Tomo_scfc  @Jamiefishing14 @FootyAccums Haven't been arse...   \n",
       "\n",
       "                          location   latitude   longitude  \n",
       "0          The Republic of Houston  29.827958  -95.239813  \n",
       "1                     Central Ohio  40.225357  -82.688140  \n",
       "2         Alphabet City, Manhattan  40.725102  -73.979583  \n",
       "3                    Colorado, USA  38.725178 -105.607717  \n",
       "5                  New Jersey, USA  40.075738  -74.404162  \n",
       "6                        Ashtabula  41.716723  -80.749470  \n",
       "7                               UK  54.702354   -3.276575  \n",
       "8        Kota Sukabumi, Jawa Barat  -0.618792  100.145295  \n",
       "10                  Ealing, London  51.512655   -0.305195  \n",
       "11                Zanesville, Ohio  39.940345  -82.013192  \n",
       "12             South East, England  51.464263   -0.651715  \n",
       "13                East Lansing, MI  42.735542  -84.485247  \n",
       "14                     Passaic, NJ  40.819584  -74.333557  \n",
       "15        Lurgan, Northern Ireland  54.460791   -6.329320  \n",
       "16                      Joliet, IL  41.526360  -88.084021  \n",
       "17              The Glorious North  51.439761   -0.051939  \n",
       "18                       Sun Diego  32.768053 -117.166898  \n",
       "19          West Midlands, England  52.505003   -1.964396  \n",
       "20  2309 Westmoor Rd., Findlay, OH  41.069970  -83.666091  \n",
       "21    Port Elizabeth, South Africa -33.961705   25.620752  \n",
       "22                  Leuven, België  50.879202    4.701168  \n",
       "23                  Louisville, KY  38.254238  -85.759407  \n",
       "24                           India  22.351115   78.667743  \n",
       "25                    Accra, Ghana   5.560014   -0.205744  \n",
       "26            Bournemouth, England  50.744670   -1.857981  \n",
       "27                  Middletown, IN  40.057267  -85.537197  \n",
       "28                       Valencia   39.469901   -0.375951  \n",
       "29              Fairfield, Hitchin  52.007869   -0.240870  \n",
       "30                  Atascocita, TX  29.999007  -95.162014  \n",
       "31                      Tucson, AZ  32.221892 -110.926235  \n",
       "32                    South Africa -28.816624   24.991639  \n",
       "33                 London, England  51.507322   -0.127647  \n",
       "34                     Suwanee, GA  34.051490  -84.071300  \n",
       "36          Budapest, Magyarország  47.481390   19.146073  \n",
       "37                     Tema, Ghana   5.659644   -0.009659  \n",
       "40               Winston-Salem, NC  36.099813  -80.244052  \n",
       "41                   Knoxville, TN  35.960395  -83.921026  \n",
       "42           Mangotsfield, Bristol  51.475705   -2.483421  \n",
       "43                      Edmond, OK  35.657137  -97.464904  \n",
       "44                      Birmingham  52.477540   -1.894053  \n",
       "45                 London, England  51.507322   -0.127647  \n",
       "46                  Lamezia Terme   38.964212   16.303199  \n",
       "47             Hunstanton, England  52.939384    0.490174  \n",
       "48            Bournemouth, England  50.744670   -1.857981  \n",
       "49         Stoke-on-Trent, England  53.016201   -2.181261  "
      ]
     },
     "execution_count": 53,
     "metadata": {},
     "output_type": "execute_result"
    }
   ],
   "source": [
    "df"
   ]
  },
  {
   "cell_type": "markdown",
   "metadata": {},
   "source": [
    "<hr style=\"height:2px; border:none; color:#000; background-color:#000;\">"
   ]
  },
  {
   "cell_type": "markdown",
   "metadata": {},
   "source": [
    "### Creating a Map with Folium"
   ]
  },
  {
   "cell_type": "code",
   "execution_count": 54,
   "metadata": {},
   "outputs": [],
   "source": [
    "import folium"
   ]
  },
  {
   "cell_type": "code",
   "execution_count": 55,
   "metadata": {},
   "outputs": [],
   "source": [
    "usmap = folium.Map(location=[39.8283, -98.5795],  # center of U.S.\n",
    "                   tiles='Stamen Terrain',\n",
    "                   zoom_start=4, detect_retina=True)"
   ]
  },
  {
   "cell_type": "markdown",
   "metadata": {},
   "source": [
    "* **`location`** &mdash; sequence containing **latitude** and **longitude** of **map center point**\n",
    "    * [Geographic center of the continental United States](http://bit.ly/CenterOfTheUS) \n",
    "* **`zoom_start`** &mdash; **map’s initial zoom level**\n",
    "* **`detect_retina`** &mdash; enables folium to use **higher-resolution maps**"
   ]
  },
  {
   "cell_type": "markdown",
   "metadata": {},
   "source": [
    "<hr style=\"height:2px; border:none; color:#000; background-color:#000;\">"
   ]
  },
  {
   "cell_type": "markdown",
   "metadata": {},
   "source": [
    "### Creating Folium `Popup` Objects for the Tweet Locations\n",
    "* **`itertuples`** creates **tuples** from **each row** of the **`DataFrame`**\n",
    "* Each **tuple** contains a **property** for each **`DataFrame` column**"
   ]
  },
  {
   "cell_type": "code",
   "execution_count": 56,
   "metadata": {},
   "outputs": [],
   "source": [
    "for t in df.itertuples():\n",
    "    text = ': '.join([t.screen_name, t.text])\n",
    "    popup = folium.Popup(text)\n",
    "    marker = folium.Marker((t.latitude, t.longitude), \n",
    "                           popup=popup)\n",
    "    marker.add_to(usmap)"
   ]
  },
  {
   "cell_type": "markdown",
   "metadata": {},
   "source": [
    "<hr style=\"height:2px; border:none; color:#000; background-color:#000;\">"
   ]
  },
  {
   "cell_type": "markdown",
   "metadata": {},
   "source": [
    "### Saving the Map with Map’s **`save`** Method "
   ]
  },
  {
   "cell_type": "code",
   "execution_count": 57,
   "metadata": {},
   "outputs": [],
   "source": [
    "usmap.save('tweet_map.html')"
   ]
  },
  {
   "cell_type": "markdown",
   "metadata": {},
   "source": [
    "<hr style=\"height:2px; border:none; color:#000; background-color:#000;\">"
   ]
  },
  {
   "cell_type": "markdown",
   "metadata": {},
   "source": [
    "### Displaying the Map in Jupyter \n",
    "* The resulting map follows. \n",
    "<a href=\"./tweet_map.html\">Interactive tweet map</a>"
   ]
  },
  {
   "cell_type": "code",
   "execution_count": 58,
   "metadata": {},
   "outputs": [
    {
     "data": {
      "text/html": [
       "<div style=\"width:100%;\"><div style=\"position:relative;width:100%;height:0;padding-bottom:60%;\"><span style=\"color:#565656\">Make this Notebook Trusted to load map: File -> Trust Notebook</span><iframe srcdoc=\"&lt;!DOCTYPE html&gt;\n",
       "&lt;head&gt;    \n",
       "    &lt;meta http-equiv=&quot;content-type&quot; content=&quot;text/html; charset=UTF-8&quot; /&gt;\n",
       "    \n",
       "        &lt;script&gt;\n",
       "            L_NO_TOUCH = false;\n",
       "            L_DISABLE_3D = false;\n",
       "        &lt;/script&gt;\n",
       "    \n",
       "    &lt;style&gt;html, body {width: 100%;height: 100%;margin: 0;padding: 0;}&lt;/style&gt;\n",
       "    &lt;style&gt;#map {position:absolute;top:0;bottom:0;right:0;left:0;}&lt;/style&gt;\n",
       "    &lt;script src=&quot;https://cdn.jsdelivr.net/npm/leaflet@1.6.0/dist/leaflet.js&quot;&gt;&lt;/script&gt;\n",
       "    &lt;script src=&quot;https://code.jquery.com/jquery-1.12.4.min.js&quot;&gt;&lt;/script&gt;\n",
       "    &lt;script src=&quot;https://maxcdn.bootstrapcdn.com/bootstrap/3.2.0/js/bootstrap.min.js&quot;&gt;&lt;/script&gt;\n",
       "    &lt;script src=&quot;https://cdnjs.cloudflare.com/ajax/libs/Leaflet.awesome-markers/2.0.2/leaflet.awesome-markers.js&quot;&gt;&lt;/script&gt;\n",
       "    &lt;link rel=&quot;stylesheet&quot; href=&quot;https://cdn.jsdelivr.net/npm/leaflet@1.6.0/dist/leaflet.css&quot;/&gt;\n",
       "    &lt;link rel=&quot;stylesheet&quot; href=&quot;https://maxcdn.bootstrapcdn.com/bootstrap/3.2.0/css/bootstrap.min.css&quot;/&gt;\n",
       "    &lt;link rel=&quot;stylesheet&quot; href=&quot;https://maxcdn.bootstrapcdn.com/bootstrap/3.2.0/css/bootstrap-theme.min.css&quot;/&gt;\n",
       "    &lt;link rel=&quot;stylesheet&quot; href=&quot;https://maxcdn.bootstrapcdn.com/font-awesome/4.6.3/css/font-awesome.min.css&quot;/&gt;\n",
       "    &lt;link rel=&quot;stylesheet&quot; href=&quot;https://cdnjs.cloudflare.com/ajax/libs/Leaflet.awesome-markers/2.0.2/leaflet.awesome-markers.css&quot;/&gt;\n",
       "    &lt;link rel=&quot;stylesheet&quot; href=&quot;https://cdn.jsdelivr.net/gh/python-visualization/folium/folium/templates/leaflet.awesome.rotate.min.css&quot;/&gt;\n",
       "    \n",
       "            &lt;meta name=&quot;viewport&quot; content=&quot;width=device-width,\n",
       "                initial-scale=1.0, maximum-scale=1.0, user-scalable=no&quot; /&gt;\n",
       "            &lt;style&gt;\n",
       "                #map_9a8b88588ef0437d8c6e88b591017c14 {\n",
       "                    position: relative;\n",
       "                    width: 100.0%;\n",
       "                    height: 100.0%;\n",
       "                    left: 0.0%;\n",
       "                    top: 0.0%;\n",
       "                }\n",
       "            &lt;/style&gt;\n",
       "        \n",
       "&lt;/head&gt;\n",
       "&lt;body&gt;    \n",
       "    \n",
       "            &lt;div class=&quot;folium-map&quot; id=&quot;map_9a8b88588ef0437d8c6e88b591017c14&quot; &gt;&lt;/div&gt;\n",
       "        \n",
       "&lt;/body&gt;\n",
       "&lt;script&gt;    \n",
       "    \n",
       "            var map_9a8b88588ef0437d8c6e88b591017c14 = L.map(\n",
       "                &quot;map_9a8b88588ef0437d8c6e88b591017c14&quot;,\n",
       "                {\n",
       "                    center: [39.8283, -98.5795],\n",
       "                    crs: L.CRS.EPSG3857,\n",
       "                    zoom: 4,\n",
       "                    zoomControl: true,\n",
       "                    preferCanvas: false,\n",
       "                    detectRetina: true,\n",
       "                }\n",
       "            );\n",
       "\n",
       "            \n",
       "\n",
       "        \n",
       "    \n",
       "            var tile_layer_ea97bc0442cde7c0eabc002182991cb4 = L.tileLayer(\n",
       "                &quot;https://stamen-tiles-{s}.a.ssl.fastly.net/terrain/{z}/{x}/{y}.jpg&quot;,\n",
       "                {&quot;attribution&quot;: &quot;Map tiles by \\u003ca href=\\&quot;http://stamen.com\\&quot;\\u003eStamen Design\\u003c/a\\u003e, under \\u003ca href=\\&quot;http://creativecommons.org/licenses/by/3.0\\&quot;\\u003eCC BY 3.0\\u003c/a\\u003e. Data by \\u0026copy; \\u003ca href=\\&quot;http://openstreetmap.org\\&quot;\\u003eOpenStreetMap\\u003c/a\\u003e, under \\u003ca href=\\&quot;http://creativecommons.org/licenses/by-sa/3.0\\&quot;\\u003eCC BY SA\\u003c/a\\u003e.&quot;, &quot;detectRetina&quot;: false, &quot;maxNativeZoom&quot;: 18, &quot;maxZoom&quot;: 18, &quot;minZoom&quot;: 0, &quot;noWrap&quot;: false, &quot;opacity&quot;: 1, &quot;subdomains&quot;: &quot;abc&quot;, &quot;tms&quot;: false}\n",
       "            ).addTo(map_9a8b88588ef0437d8c6e88b591017c14);\n",
       "        \n",
       "    \n",
       "            var marker_3d99ecf2674d27f0bd5d473982ec903e = L.marker(\n",
       "                [29.82795795, -95.2398132468198],\n",
       "                {}\n",
       "            ).addTo(map_9a8b88588ef0437d8c6e88b591017c14);\n",
       "        \n",
       "    \n",
       "        var popup_b7b3c1d6743089848bab1079fbd25317 = L.popup({&quot;maxWidth&quot;: &quot;100%&quot;});\n",
       "\n",
       "        \n",
       "            var html_65f37b0fe4dfb6955f26ced6eb6f6d2a = $(`&lt;div id=&quot;html_65f37b0fe4dfb6955f26ced6eb6f6d2a&quot; style=&quot;width: 100.0%; height: 100.0%;&quot;&gt;RolandB3: Wichita State should bring back football.&lt;/div&gt;`)[0];\n",
       "            popup_b7b3c1d6743089848bab1079fbd25317.setContent(html_65f37b0fe4dfb6955f26ced6eb6f6d2a);\n",
       "        \n",
       "\n",
       "        marker_3d99ecf2674d27f0bd5d473982ec903e.bindPopup(popup_b7b3c1d6743089848bab1079fbd25317)\n",
       "        ;\n",
       "\n",
       "        \n",
       "    \n",
       "    \n",
       "            var marker_5bb3388b4932f4a9720ca8036ceecc2b = L.marker(\n",
       "                [40.2253569, -82.6881395],\n",
       "                {}\n",
       "            ).addTo(map_9a8b88588ef0437d8c6e88b591017c14);\n",
       "        \n",
       "    \n",
       "        var popup_3ea303d2abdb1ba1bcb741b1e115f58f = L.popup({&quot;maxWidth&quot;: &quot;100%&quot;});\n",
       "\n",
       "        \n",
       "            var html_f1b634ccfbfda6b1c1241716d3ce0d74 = $(`&lt;div id=&quot;html_f1b634ccfbfda6b1c1241716d3ce0d74&quot; style=&quot;width: 100.0%; height: 100.0%;&quot;&gt;StoriedRivals: MVL Football has a handful of big shifts.  @JGHSMUSKIES1 ⬆️ to D3 @NewLexAthletics ⬆️ to D4 @Morganraiderad1 ⬆️ to D4  This now puts 3 of the Small School Divisions in D4 with West M + Coshocton in D5, Crooksville in D6  Big School Division now half D3 and half D4&lt;/div&gt;`)[0];\n",
       "            popup_3ea303d2abdb1ba1bcb741b1e115f58f.setContent(html_f1b634ccfbfda6b1c1241716d3ce0d74);\n",
       "        \n",
       "\n",
       "        marker_5bb3388b4932f4a9720ca8036ceecc2b.bindPopup(popup_3ea303d2abdb1ba1bcb741b1e115f58f)\n",
       "        ;\n",
       "\n",
       "        \n",
       "    \n",
       "    \n",
       "            var marker_e18bd7dbca365147e0666541167714de = L.marker(\n",
       "                [40.7251022, -73.9795833],\n",
       "                {}\n",
       "            ).addTo(map_9a8b88588ef0437d8c6e88b591017c14);\n",
       "        \n",
       "    \n",
       "        var popup_b3157925b53525ab54295b53176d238a = L.popup({&quot;maxWidth&quot;: &quot;100%&quot;});\n",
       "\n",
       "        \n",
       "            var html_14033be3bf2764cdb2a9d1459a809894 = $(`&lt;div id=&quot;html_14033be3bf2764cdb2a9d1459a809894&quot; style=&quot;width: 100.0%; height: 100.0%;&quot;&gt;jakenisse: David Lee says Nick Cushing is &quot;absolutely ingrained&quot; in how #NYCFC want to play, mentions how long Nick has been a part of City Football Group.&lt;/div&gt;`)[0];\n",
       "            popup_b3157925b53525ab54295b53176d238a.setContent(html_14033be3bf2764cdb2a9d1459a809894);\n",
       "        \n",
       "\n",
       "        marker_e18bd7dbca365147e0666541167714de.bindPopup(popup_b3157925b53525ab54295b53176d238a)\n",
       "        ;\n",
       "\n",
       "        \n",
       "    \n",
       "    \n",
       "            var marker_bcb4276070e32e4f80f789a5f054fd02 = L.marker(\n",
       "                [38.7251776, -105.6077167],\n",
       "                {}\n",
       "            ).addTo(map_9a8b88588ef0437d8c6e88b591017c14);\n",
       "        \n",
       "    \n",
       "        var popup_a844319ab4cd4fc0d7e0917851fb07aa = L.popup({&quot;maxWidth&quot;: &quot;100%&quot;});\n",
       "\n",
       "        \n",
       "            var html_ce43ee9c85c069ff42f200c249a13304 = $(`&lt;div id=&quot;html_ce43ee9c85c069ff42f200c249a13304&quot; style=&quot;width: 100.0%; height: 100.0%;&quot;&gt;KJnoswag: @Will_Sefik @JackKennedy Spot on Billy football impression even tho it’s just a tweet&lt;/div&gt;`)[0];\n",
       "            popup_a844319ab4cd4fc0d7e0917851fb07aa.setContent(html_ce43ee9c85c069ff42f200c249a13304);\n",
       "        \n",
       "\n",
       "        marker_bcb4276070e32e4f80f789a5f054fd02.bindPopup(popup_a844319ab4cd4fc0d7e0917851fb07aa)\n",
       "        ;\n",
       "\n",
       "        \n",
       "    \n",
       "    \n",
       "            var marker_41a57409c38a764bec8f9bfa19ed326d = L.marker(\n",
       "                [40.0757384, -74.4041622],\n",
       "                {}\n",
       "            ).addTo(map_9a8b88588ef0437d8c6e88b591017c14);\n",
       "        \n",
       "    \n",
       "        var popup_47a352ea0dfd1f8508c4e61317a22c27 = L.popup({&quot;maxWidth&quot;: &quot;100%&quot;});\n",
       "\n",
       "        \n",
       "            var html_7c604a285432bfec5500624874c947f3 = $(`&lt;div id=&quot;html_7c604a285432bfec5500624874c947f3&quot; style=&quot;width: 100.0%; height: 100.0%;&quot;&gt;DanSabio1: Big thank you to @jeff_knarr and @Coach_Bakanas  for my first Division 3 offer! Glad I will be able to continue my football career! https://t.co/WB0X7EDSHY&lt;/div&gt;`)[0];\n",
       "            popup_47a352ea0dfd1f8508c4e61317a22c27.setContent(html_7c604a285432bfec5500624874c947f3);\n",
       "        \n",
       "\n",
       "        marker_41a57409c38a764bec8f9bfa19ed326d.bindPopup(popup_47a352ea0dfd1f8508c4e61317a22c27)\n",
       "        ;\n",
       "\n",
       "        \n",
       "    \n",
       "    \n",
       "            var marker_077f623fcabfcc0dcbf306ded73fc434 = L.marker(\n",
       "                [41.7167229, -80.74947],\n",
       "                {}\n",
       "            ).addTo(map_9a8b88588ef0437d8c6e88b591017c14);\n",
       "        \n",
       "    \n",
       "        var popup_6edc6f2eb3f91dabd0aef9fc83531a4c = L.popup({&quot;maxWidth&quot;: &quot;100%&quot;});\n",
       "\n",
       "        \n",
       "            var html_c4ede8dc20a6c0d85080f9bd054c9344 = $(`&lt;div id=&quot;html_c4ede8dc20a6c0d85080f9bd054c9344&quot; style=&quot;width: 100.0%; height: 100.0%;&quot;&gt;micky31: The @OHSAASports released its fall sports divisional breakdowns. In football, @MadFootball212 drops from DII to III; @GVFREAKS goes from V to VI and @JAFalcons moves up from DV to IV.&lt;/div&gt;`)[0];\n",
       "            popup_6edc6f2eb3f91dabd0aef9fc83531a4c.setContent(html_c4ede8dc20a6c0d85080f9bd054c9344);\n",
       "        \n",
       "\n",
       "        marker_077f623fcabfcc0dcbf306ded73fc434.bindPopup(popup_6edc6f2eb3f91dabd0aef9fc83531a4c)\n",
       "        ;\n",
       "\n",
       "        \n",
       "    \n",
       "    \n",
       "            var marker_8c25a50acebc4aeb1db4862a22927cc4 = L.marker(\n",
       "                [54.7023545, -3.2765753],\n",
       "                {}\n",
       "            ).addTo(map_9a8b88588ef0437d8c6e88b591017c14);\n",
       "        \n",
       "    \n",
       "        var popup_b7758e8c8e1b995d25aed623f2a85569 = L.popup({&quot;maxWidth&quot;: &quot;100%&quot;});\n",
       "\n",
       "        \n",
       "            var html_17437563e44055a6d32c1b168d217034 = $(`&lt;div id=&quot;html_17437563e44055a6d32c1b168d217034&quot; style=&quot;width: 100.0%; height: 100.0%;&quot;&gt;LansleyA: @PippaCrerar It’s two football tickets! How about you look at all the conservative ministers who got Russian bribes…&lt;/div&gt;`)[0];\n",
       "            popup_b7758e8c8e1b995d25aed623f2a85569.setContent(html_17437563e44055a6d32c1b168d217034);\n",
       "        \n",
       "\n",
       "        marker_8c25a50acebc4aeb1db4862a22927cc4.bindPopup(popup_b7758e8c8e1b995d25aed623f2a85569)\n",
       "        ;\n",
       "\n",
       "        \n",
       "    \n",
       "    \n",
       "            var marker_4b10281f77f5b4e555aebd2f4049eb49 = L.marker(\n",
       "                [-0.6187924, 100.1452945],\n",
       "                {}\n",
       "            ).addTo(map_9a8b88588ef0437d8c6e88b591017c14);\n",
       "        \n",
       "    \n",
       "        var popup_e037712060240701fd9724ed2ed17224 = L.popup({&quot;maxWidth&quot;: &quot;100%&quot;});\n",
       "\n",
       "        \n",
       "            var html_c6390aa769e32137ac28541bb9a06878 = $(`&lt;div id=&quot;html_c6390aa769e32137ac28541bb9a06878&quot; style=&quot;width: 100.0%; height: 100.0%;&quot;&gt;supiandi_m: Australia vs Peru World Cup Qualification AFC/CONMEBOL Playoffs Final Full Game Live Stream: https://t.co/H1ZvWpj8OK date: June 13,2022- 2:00pm EDT Location: Al Rayyan Stadium #sports #soccer #football #LIVE #Australia #Peru #PeruvsAustralia #AFCONQualifiers #AFCON2023Qualifiers https://t.co/qtISPcv9sK&lt;/div&gt;`)[0];\n",
       "            popup_e037712060240701fd9724ed2ed17224.setContent(html_c6390aa769e32137ac28541bb9a06878);\n",
       "        \n",
       "\n",
       "        marker_4b10281f77f5b4e555aebd2f4049eb49.bindPopup(popup_e037712060240701fd9724ed2ed17224)\n",
       "        ;\n",
       "\n",
       "        \n",
       "    \n",
       "    \n",
       "            var marker_922230479f7f6d97614a28816867c3b4 = L.marker(\n",
       "                [51.5126553, -0.3051952],\n",
       "                {}\n",
       "            ).addTo(map_9a8b88588ef0437d8c6e88b591017c14);\n",
       "        \n",
       "    \n",
       "        var popup_6489ac0573692c4afc8608e8b23bb13d = L.popup({&quot;maxWidth&quot;: &quot;100%&quot;});\n",
       "\n",
       "        \n",
       "            var html_a378c1f4d5be6b21202d84dda26ef6f2 = $(`&lt;div id=&quot;html_a378c1f4d5be6b21202d84dda26ef6f2&quot; style=&quot;width: 100.0%; height: 100.0%;&quot;&gt;Whistlers_AEWFC: We are getting ready for Season 2021/22 AEWFC Members&#x27; Presentation Day on Saturday 9th July 2022 at our Home Ground.  There will be trophies for all our Members!!  See the poster for your time slots.  See you all there!!  #Acton #Ealing #Whistlers #Football #Club https://t.co/idRJJNgbhn&lt;/div&gt;`)[0];\n",
       "            popup_6489ac0573692c4afc8608e8b23bb13d.setContent(html_a378c1f4d5be6b21202d84dda26ef6f2);\n",
       "        \n",
       "\n",
       "        marker_922230479f7f6d97614a28816867c3b4.bindPopup(popup_6489ac0573692c4afc8608e8b23bb13d)\n",
       "        ;\n",
       "\n",
       "        \n",
       "    \n",
       "    \n",
       "            var marker_64629257f9bf4e4764b502410f0604e9 = L.marker(\n",
       "                [39.9403453, -82.0131924],\n",
       "                {}\n",
       "            ).addTo(map_9a8b88588ef0437d8c6e88b591017c14);\n",
       "        \n",
       "    \n",
       "        var popup_54638e35f5b7a5800cc5fc8699ef747a = L.popup({&quot;maxWidth&quot;: &quot;100%&quot;});\n",
       "\n",
       "        \n",
       "            var html_4698e413bac239ff8d278febbf24bc55 = $(`&lt;div id=&quot;html_4698e413bac239ff8d278febbf24bc55&quot; style=&quot;width: 100.0%; height: 100.0%;&quot;&gt;WHIZscores: It&#x27;s All-Star week! And this Friday we&#x27;ll have the Licking County-Muskingum Valley All-Star football game on Z92 Radio. @davidkinderii and @GregMitts10 will have the call Friday at 7! https://t.co/C2FTNKNGQI&lt;/div&gt;`)[0];\n",
       "            popup_54638e35f5b7a5800cc5fc8699ef747a.setContent(html_4698e413bac239ff8d278febbf24bc55);\n",
       "        \n",
       "\n",
       "        marker_64629257f9bf4e4764b502410f0604e9.bindPopup(popup_54638e35f5b7a5800cc5fc8699ef747a)\n",
       "        ;\n",
       "\n",
       "        \n",
       "    \n",
       "    \n",
       "            var marker_44c85095f0f37f6a7218a5b8d4cb0246 = L.marker(\n",
       "                [51.46426255, -0.651714721140142],\n",
       "                {}\n",
       "            ).addTo(map_9a8b88588ef0437d8c6e88b591017c14);\n",
       "        \n",
       "    \n",
       "        var popup_eaeb7cdc5a70ceecce609cf5b9a97075 = L.popup({&quot;maxWidth&quot;: &quot;100%&quot;});\n",
       "\n",
       "        \n",
       "            var html_dfba0b1e7bd14d689324027e384ce1be = $(`&lt;div id=&quot;html_dfba0b1e7bd14d689324027e384ce1be&quot; style=&quot;width: 100.0%; height: 100.0%;&quot;&gt;carlychoc2: I&#x27;ve entered to #win a Smart Football with @OddHogg and @wickeduncle #competition #giveaway https://t.co/Nh2EtgqKkF Fab&lt;/div&gt;`)[0];\n",
       "            popup_eaeb7cdc5a70ceecce609cf5b9a97075.setContent(html_dfba0b1e7bd14d689324027e384ce1be);\n",
       "        \n",
       "\n",
       "        marker_44c85095f0f37f6a7218a5b8d4cb0246.bindPopup(popup_eaeb7cdc5a70ceecce609cf5b9a97075)\n",
       "        ;\n",
       "\n",
       "        \n",
       "    \n",
       "    \n",
       "            var marker_2a55ec6db00be72f5f55d00172589332 = L.marker(\n",
       "                [42.7355416, -84.4852469],\n",
       "                {}\n",
       "            ).addTo(map_9a8b88588ef0437d8c6e88b591017c14);\n",
       "        \n",
       "    \n",
       "        var popup_69beb41869b1ec10c28e739f7d390601 = L.popup({&quot;maxWidth&quot;: &quot;100%&quot;});\n",
       "\n",
       "        \n",
       "            var html_12562352dc40028c1a7d6bf84e6eab7c = $(`&lt;div id=&quot;html_12562352dc40028c1a7d6bf84e6eab7c&quot; style=&quot;width: 100.0%; height: 100.0%;&quot;&gt;daily_msu: Not even close honestly. Football is hard enough to even make the Playoffs, let alone beat two elite teams. We make the NCAA Tourney every year and just need to get hot for 6 games to get a natty&lt;/div&gt;`)[0];\n",
       "            popup_69beb41869b1ec10c28e739f7d390601.setContent(html_12562352dc40028c1a7d6bf84e6eab7c);\n",
       "        \n",
       "\n",
       "        marker_2a55ec6db00be72f5f55d00172589332.bindPopup(popup_69beb41869b1ec10c28e739f7d390601)\n",
       "        ;\n",
       "\n",
       "        \n",
       "    \n",
       "    \n",
       "            var marker_ba94d67167eb7cc0237e2a03dcefb433 = L.marker(\n",
       "                [40.8195845, -74.3335571838196],\n",
       "                {}\n",
       "            ).addTo(map_9a8b88588ef0437d8c6e88b591017c14);\n",
       "        \n",
       "    \n",
       "        var popup_6fb799bfbdd709d56a8ba1804501eca1 = L.popup({&quot;maxWidth&quot;: &quot;100%&quot;});\n",
       "\n",
       "        \n",
       "            var html_c9d4b5aa55a82d2661a971668cb3b283 = $(`&lt;div id=&quot;html_c9d4b5aa55a82d2661a971668cb3b283&quot; style=&quot;width: 100.0%; height: 100.0%;&quot;&gt;bigwa30: Let&#x27;s GOOOOOOOOOOO @JrSydir... That @CanesFootball looks good on you Young Fella... Start your own legacy while helping to rebuild the what was once one of the most dominant College Football Programs EVER!!! #DAU 🙌&lt;/div&gt;`)[0];\n",
       "            popup_6fb799bfbdd709d56a8ba1804501eca1.setContent(html_c9d4b5aa55a82d2661a971668cb3b283);\n",
       "        \n",
       "\n",
       "        marker_ba94d67167eb7cc0237e2a03dcefb433.bindPopup(popup_6fb799bfbdd709d56a8ba1804501eca1)\n",
       "        ;\n",
       "\n",
       "        \n",
       "    \n",
       "    \n",
       "            var marker_94ea393ea128f598f9d7f2ff45ec6850 = L.marker(\n",
       "                [54.460791, -6.3293204],\n",
       "                {}\n",
       "            ).addTo(map_9a8b88588ef0437d8c6e88b591017c14);\n",
       "        \n",
       "    \n",
       "        var popup_68247e9ad69c1a05e44c3cc7ecd79f51 = L.popup({&quot;maxWidth&quot;: &quot;100%&quot;});\n",
       "\n",
       "        \n",
       "            var html_b01839fd331935b6509ce508ca40eb5b = $(`&lt;div id=&quot;html_b01839fd331935b6509ce508ca40eb5b&quot; style=&quot;width: 100.0%; height: 100.0%;&quot;&gt;GavinNelson85: It’s #MensHealthWeek , a big shout out to all of the football clubs and volunteers across Northern Ireland who offer so much to people in their communities.&lt;/div&gt;`)[0];\n",
       "            popup_68247e9ad69c1a05e44c3cc7ecd79f51.setContent(html_b01839fd331935b6509ce508ca40eb5b);\n",
       "        \n",
       "\n",
       "        marker_94ea393ea128f598f9d7f2ff45ec6850.bindPopup(popup_68247e9ad69c1a05e44c3cc7ecd79f51)\n",
       "        ;\n",
       "\n",
       "        \n",
       "    \n",
       "    \n",
       "            var marker_c8300a0f2d013374f0a62376a304c440 = L.marker(\n",
       "                [41.5263603, -88.0840212],\n",
       "                {}\n",
       "            ).addTo(map_9a8b88588ef0437d8c6e88b591017c14);\n",
       "        \n",
       "    \n",
       "        var popup_e440210da15a85975524ee01492c7957 = L.popup({&quot;maxWidth&quot;: &quot;100%&quot;});\n",
       "\n",
       "        \n",
       "            var html_e239b676b14252adbab2d99726a4b4cd = $(`&lt;div id=&quot;html_e239b676b14252adbab2d99726a4b4cd&quot; style=&quot;width: 100.0%; height: 100.0%;&quot;&gt;CubFan082: @robertkschmitz They don&#x27;t have DL/OL talent to compete where the game is won.  I am a big Bears fan,  football is my favorite sport, but they are not a few pieces away.  Eddie Jackson needs to step up or they need to move off of him aswell&lt;/div&gt;`)[0];\n",
       "            popup_e440210da15a85975524ee01492c7957.setContent(html_e239b676b14252adbab2d99726a4b4cd);\n",
       "        \n",
       "\n",
       "        marker_c8300a0f2d013374f0a62376a304c440.bindPopup(popup_e440210da15a85975524ee01492c7957)\n",
       "        ;\n",
       "\n",
       "        \n",
       "    \n",
       "    \n",
       "            var marker_e0f546210625f49b6585b6082084ad54 = L.marker(\n",
       "                [51.43976105, -0.0519394829593279],\n",
       "                {}\n",
       "            ).addTo(map_9a8b88588ef0437d8c6e88b591017c14);\n",
       "        \n",
       "    \n",
       "        var popup_057dbc41cdef84716727bb1cfa4f7f93 = L.popup({&quot;maxWidth&quot;: &quot;100%&quot;});\n",
       "\n",
       "        \n",
       "            var html_e01ca0dc4988511f7ac2ad8c7a086f5e = $(`&lt;div id=&quot;html_e01ca0dc4988511f7ac2ad8c7a086f5e&quot; style=&quot;width: 100.0%; height: 100.0%;&quot;&gt;CasualsNorthern: He hasn’t f**king got any. Absolute time waster for two Founder Members for the Football League this year #dcfc #dcfcfans #pnefc https://t.co/Uqo1Mni2aB&lt;/div&gt;`)[0];\n",
       "            popup_057dbc41cdef84716727bb1cfa4f7f93.setContent(html_e01ca0dc4988511f7ac2ad8c7a086f5e);\n",
       "        \n",
       "\n",
       "        marker_e0f546210625f49b6585b6082084ad54.bindPopup(popup_057dbc41cdef84716727bb1cfa4f7f93)\n",
       "        ;\n",
       "\n",
       "        \n",
       "    \n",
       "    \n",
       "            var marker_03a0b704bba8fe5da9f50dfb6b6fe89f = L.marker(\n",
       "                [32.7680526, -117.1668977],\n",
       "                {}\n",
       "            ).addTo(map_9a8b88588ef0437d8c6e88b591017c14);\n",
       "        \n",
       "    \n",
       "        var popup_c76528401498441a4a69d9a36782611e = L.popup({&quot;maxWidth&quot;: &quot;100%&quot;});\n",
       "\n",
       "        \n",
       "            var html_3c3a12adca7cf3be10f210015d17a858 = $(`&lt;div id=&quot;html_3c3a12adca7cf3be10f210015d17a858&quot; style=&quot;width: 100.0%; height: 100.0%;&quot;&gt;dreamerwestAG: @BoltDadPodcast Been there done this. She doesn’t like football and see’s an opportunity to sell the team an get paid. The truth is, all the money Dean spent, will be repaid from stadium revenue, not his pocket. Plus he pays $1 in rent. Don’t forget his cut of viewer revenue.&lt;/div&gt;`)[0];\n",
       "            popup_c76528401498441a4a69d9a36782611e.setContent(html_3c3a12adca7cf3be10f210015d17a858);\n",
       "        \n",
       "\n",
       "        marker_03a0b704bba8fe5da9f50dfb6b6fe89f.bindPopup(popup_c76528401498441a4a69d9a36782611e)\n",
       "        ;\n",
       "\n",
       "        \n",
       "    \n",
       "    \n",
       "            var marker_f88ffbb485dffe69651cec7045b0e4d5 = L.marker(\n",
       "                [52.5050033, -1.96439612333127],\n",
       "                {}\n",
       "            ).addTo(map_9a8b88588ef0437d8c6e88b591017c14);\n",
       "        \n",
       "    \n",
       "        var popup_a0423312e24d9d89bdc6fbae4146f055 = L.popup({&quot;maxWidth&quot;: &quot;100%&quot;});\n",
       "\n",
       "        \n",
       "            var html_58ad05379818830693453acdf57362f9 = $(`&lt;div id=&quot;html_58ad05379818830693453acdf57362f9&quot; style=&quot;width: 100.0%; height: 100.0%;&quot;&gt;JonFosterMUFC: @AdamReapa @StourbridgeLFC @AllForUnitedWFC @NewsUnitedStand @Since71Blog @ManUtd Need to go back like i did before lockdown... I even played football tonight lol, drinking a pint now hahah&lt;/div&gt;`)[0];\n",
       "            popup_a0423312e24d9d89bdc6fbae4146f055.setContent(html_58ad05379818830693453acdf57362f9);\n",
       "        \n",
       "\n",
       "        marker_f88ffbb485dffe69651cec7045b0e4d5.bindPopup(popup_a0423312e24d9d89bdc6fbae4146f055)\n",
       "        ;\n",
       "\n",
       "        \n",
       "    \n",
       "    \n",
       "            var marker_bfff128047543fe521fc6f2ded596828 = L.marker(\n",
       "                [41.06997, -83.666091],\n",
       "                {}\n",
       "            ).addTo(map_9a8b88588ef0437d8c6e88b591017c14);\n",
       "        \n",
       "    \n",
       "        var popup_3b90a4212223a6a58ffb170b7f3bfdb2 = L.popup({&quot;maxWidth&quot;: &quot;100%&quot;});\n",
       "\n",
       "        \n",
       "            var html_06514230fc2107a549a805c8597f654b = $(`&lt;div id=&quot;html_06514230fc2107a549a805c8597f654b&quot; style=&quot;width: 100.0%; height: 100.0%;&quot;&gt;kenbahler2004: @BDrogosh Please come to Bowling Green State University and being apart of the football family and showing us what you can do. I truly enjoy your commitment and providing excellent leadership. https://t.co/hO0jrn75dA&lt;/div&gt;`)[0];\n",
       "            popup_3b90a4212223a6a58ffb170b7f3bfdb2.setContent(html_06514230fc2107a549a805c8597f654b);\n",
       "        \n",
       "\n",
       "        marker_bfff128047543fe521fc6f2ded596828.bindPopup(popup_3b90a4212223a6a58ffb170b7f3bfdb2)\n",
       "        ;\n",
       "\n",
       "        \n",
       "    \n",
       "    \n",
       "            var marker_d4d81eae1d6ccd87e479cec2302b5e73 = L.marker(\n",
       "                [-33.9617051, 25.6207519],\n",
       "                {}\n",
       "            ).addTo(map_9a8b88588ef0437d8c6e88b591017c14);\n",
       "        \n",
       "    \n",
       "        var popup_0d353235e301d69001b31a830e364359 = L.popup({&quot;maxWidth&quot;: &quot;100%&quot;});\n",
       "\n",
       "        \n",
       "            var html_8133d536742ba21e3bd4c312ca5adda2 = $(`&lt;div id=&quot;html_8133d536742ba21e3bd4c312ca5adda2&quot; style=&quot;width: 100.0%; height: 100.0%;&quot;&gt;Ziberation: @geey2210 @TheRealPitso U ddnt know him because u dont know football;&lt;/div&gt;`)[0];\n",
       "            popup_0d353235e301d69001b31a830e364359.setContent(html_8133d536742ba21e3bd4c312ca5adda2);\n",
       "        \n",
       "\n",
       "        marker_d4d81eae1d6ccd87e479cec2302b5e73.bindPopup(popup_0d353235e301d69001b31a830e364359)\n",
       "        ;\n",
       "\n",
       "        \n",
       "    \n",
       "    \n",
       "            var marker_c2a2ccf55b7744f8f18c76243d2ef1e8 = L.marker(\n",
       "                [50.879202, 4.7011675],\n",
       "                {}\n",
       "            ).addTo(map_9a8b88588ef0437d8c6e88b591017c14);\n",
       "        \n",
       "    \n",
       "        var popup_c56f31bb50f63b9fbb6e77d0363e6025 = L.popup({&quot;maxWidth&quot;: &quot;100%&quot;});\n",
       "\n",
       "        \n",
       "            var html_355c99994938289657f546349396a553 = $(`&lt;div id=&quot;html_355c99994938289657f546349396a553&quot; style=&quot;width: 100.0%; height: 100.0%;&quot;&gt;AvitajMitra: @xonlr PR football trying to come up with an original tweet https://t.co/LZl3CPzpri&lt;/div&gt;`)[0];\n",
       "            popup_c56f31bb50f63b9fbb6e77d0363e6025.setContent(html_355c99994938289657f546349396a553);\n",
       "        \n",
       "\n",
       "        marker_c2a2ccf55b7744f8f18c76243d2ef1e8.bindPopup(popup_c56f31bb50f63b9fbb6e77d0363e6025)\n",
       "        ;\n",
       "\n",
       "        \n",
       "    \n",
       "    \n",
       "            var marker_22ea1e2784cc7c58b1aa09234c4177d4 = L.marker(\n",
       "                [38.2542376, -85.759407],\n",
       "                {}\n",
       "            ).addTo(map_9a8b88588ef0437d8c6e88b591017c14);\n",
       "        \n",
       "    \n",
       "        var popup_00139f996ce3a59285ed5a12e956d359 = L.popup({&quot;maxWidth&quot;: &quot;100%&quot;});\n",
       "\n",
       "        \n",
       "            var html_d79032068f27249000a618abbfb9cad6 = $(`&lt;div id=&quot;html_d79032068f27249000a618abbfb9cad6&quot; style=&quot;width: 100.0%; height: 100.0%;&quot;&gt;trimble_mason: Great day at the University of Louisville’s football camp. Great coaches and players all around. Thanks for the opportunity to get better. #gocards @CoachSattUofL @ULFBRecruiting @CoachPeteThomas @LouisvilleFB @CoachCFitch17 @StXTigersBSB @247Louisville https://t.co/MHeaU7kxJn&lt;/div&gt;`)[0];\n",
       "            popup_00139f996ce3a59285ed5a12e956d359.setContent(html_d79032068f27249000a618abbfb9cad6);\n",
       "        \n",
       "\n",
       "        marker_22ea1e2784cc7c58b1aa09234c4177d4.bindPopup(popup_00139f996ce3a59285ed5a12e956d359)\n",
       "        ;\n",
       "\n",
       "        \n",
       "    \n",
       "    \n",
       "            var marker_5a35c71e9ebf78e91dc75ebd50607ea8 = L.marker(\n",
       "                [22.3511148, 78.6677428],\n",
       "                {}\n",
       "            ).addTo(map_9a8b88588ef0437d8c6e88b591017c14);\n",
       "        \n",
       "    \n",
       "        var popup_92120a180109e07d91b920fe9055bc12 = L.popup({&quot;maxWidth&quot;: &quot;100%&quot;});\n",
       "\n",
       "        \n",
       "            var html_f16f0465d718d453b1246ffae4d5fcd0 = $(`&lt;div id=&quot;html_f16f0465d718d453b1246ffae4d5fcd0&quot; style=&quot;width: 100.0%; height: 100.0%;&quot;&gt;SirAkPandey: Hindus can form a football team but they won’t be able to give it a name as they are not united&lt;/div&gt;`)[0];\n",
       "            popup_92120a180109e07d91b920fe9055bc12.setContent(html_f16f0465d718d453b1246ffae4d5fcd0);\n",
       "        \n",
       "\n",
       "        marker_5a35c71e9ebf78e91dc75ebd50607ea8.bindPopup(popup_92120a180109e07d91b920fe9055bc12)\n",
       "        ;\n",
       "\n",
       "        \n",
       "    \n",
       "    \n",
       "            var marker_6efb20e9d082b7846b77310fb8f01660 = L.marker(\n",
       "                [5.5600141, -0.2057437],\n",
       "                {}\n",
       "            ).addTo(map_9a8b88588ef0437d8c6e88b591017c14);\n",
       "        \n",
       "    \n",
       "        var popup_d81f1f6befe42cd49a7eb6f11754eb6e = L.popup({&quot;maxWidth&quot;: &quot;100%&quot;});\n",
       "\n",
       "        \n",
       "            var html_532fcda4c3fa5d5e64359deb1d146f45 = $(`&lt;div id=&quot;html_532fcda4c3fa5d5e64359deb1d146f45&quot; style=&quot;width: 100.0%; height: 100.0%;&quot;&gt;KofiAwagar: …2 weeks without Premier league football. I almost video called my Ex just to see a player🤣&lt;/div&gt;`)[0];\n",
       "            popup_d81f1f6befe42cd49a7eb6f11754eb6e.setContent(html_532fcda4c3fa5d5e64359deb1d146f45);\n",
       "        \n",
       "\n",
       "        marker_6efb20e9d082b7846b77310fb8f01660.bindPopup(popup_d81f1f6befe42cd49a7eb6f11754eb6e)\n",
       "        ;\n",
       "\n",
       "        \n",
       "    \n",
       "    \n",
       "            var marker_f74cc62787c288a3f3e445403933ffef = L.marker(\n",
       "                [50.74467035, -1.85798090318094],\n",
       "                {}\n",
       "            ).addTo(map_9a8b88588ef0437d8c6e88b591017c14);\n",
       "        \n",
       "    \n",
       "        var popup_3b98575a1139e750236a4cabb8ddebd3 = L.popup({&quot;maxWidth&quot;: &quot;100%&quot;});\n",
       "\n",
       "        \n",
       "            var html_a8265419c52e7136f1c4fb75d4299097 = $(`&lt;div id=&quot;html_a8265419c52e7136f1c4fb75d4299097&quot; style=&quot;width: 100.0%; height: 100.0%;&quot;&gt;nik8000: @Olawuyi_Ramos @GodzillaNuke @summers_says @FPLJossy @bigjlfc Loads of interviews where pep complains. But then you wouldn’t care for facts being an “objective football fan” whilst supporting Manchester United 😂&lt;/div&gt;`)[0];\n",
       "            popup_3b98575a1139e750236a4cabb8ddebd3.setContent(html_a8265419c52e7136f1c4fb75d4299097);\n",
       "        \n",
       "\n",
       "        marker_f74cc62787c288a3f3e445403933ffef.bindPopup(popup_3b98575a1139e750236a4cabb8ddebd3)\n",
       "        ;\n",
       "\n",
       "        \n",
       "    \n",
       "    \n",
       "            var marker_59af03e8ddc5d9b2d148eedca8d66bef = L.marker(\n",
       "                [40.0572668, -85.537197],\n",
       "                {}\n",
       "            ).addTo(map_9a8b88588ef0437d8c6e88b591017c14);\n",
       "        \n",
       "    \n",
       "        var popup_edb080ed52f1c9f974eb9ad1bce3fb1f = L.popup({&quot;maxWidth&quot;: &quot;100%&quot;});\n",
       "\n",
       "        \n",
       "            var html_e2a30de90df9e0e40902f2f5e2a58968 = $(`&lt;div id=&quot;html_e2a30de90df9e0e40902f2f5e2a58968&quot; style=&quot;width: 100.0%; height: 100.0%;&quot;&gt;ShenandoahSport: Parents......don&#x27;t put it off until August....create your student/athlete&#x27;s @FinalForms  account ASAP. All info must be entered before practices begin: Golf-July 29th, Football, Cross Country, Tennis, and Volleyball August 1st. https://t.co/o4TNlYeVG2&lt;/div&gt;`)[0];\n",
       "            popup_edb080ed52f1c9f974eb9ad1bce3fb1f.setContent(html_e2a30de90df9e0e40902f2f5e2a58968);\n",
       "        \n",
       "\n",
       "        marker_59af03e8ddc5d9b2d148eedca8d66bef.bindPopup(popup_edb080ed52f1c9f974eb9ad1bce3fb1f)\n",
       "        ;\n",
       "\n",
       "        \n",
       "    \n",
       "    \n",
       "            var marker_bb1c1d31096d3e26d3ca35ac1fa016bf = L.marker(\n",
       "                [39.4699014, -0.3759513],\n",
       "                {}\n",
       "            ).addTo(map_9a8b88588ef0437d8c6e88b591017c14);\n",
       "        \n",
       "    \n",
       "        var popup_3993e7292727c4d4b90cce3e1fda8d8c = L.popup({&quot;maxWidth&quot;: &quot;100%&quot;});\n",
       "\n",
       "        \n",
       "            var html_a19a3bf1fa48f06219b883f8f1a24260 = $(`&lt;div id=&quot;html_a19a3bf1fa48f06219b883f8f1a24260&quot; style=&quot;width: 100.0%; height: 100.0%;&quot;&gt;ValenciaVillain: @Total_Villa https://t.co/aejRAvNrJE It&#x27;s so funny because it&#x27;s the blues, but you&#x27;re right, this guy shouldn&#x27;t be anywhere near a football club. https://t.co/oJGJ6tJppF&lt;/div&gt;`)[0];\n",
       "            popup_3993e7292727c4d4b90cce3e1fda8d8c.setContent(html_a19a3bf1fa48f06219b883f8f1a24260);\n",
       "        \n",
       "\n",
       "        marker_bb1c1d31096d3e26d3ca35ac1fa016bf.bindPopup(popup_3993e7292727c4d4b90cce3e1fda8d8c)\n",
       "        ;\n",
       "\n",
       "        \n",
       "    \n",
       "    \n",
       "            var marker_548d6ca7225d6a5fe4e0befdea19028c = L.marker(\n",
       "                [52.0078693, -0.2408703],\n",
       "                {}\n",
       "            ).addTo(map_9a8b88588ef0437d8c6e88b591017c14);\n",
       "        \n",
       "    \n",
       "        var popup_e1e6e844949f83c31cc06b55707b1b70 = L.popup({&quot;maxWidth&quot;: &quot;100%&quot;});\n",
       "\n",
       "        \n",
       "            var html_6f82787d9d2a7999f916c0388e2d4c97 = $(`&lt;div id=&quot;html_6f82787d9d2a7999f916c0388e2d4c97&quot; style=&quot;width: 100.0%; height: 100.0%;&quot;&gt;marksmithccfc: @JustinPeach27 @SkyFootball @ramsreview1 Really Bad for Football putting rivalries aside&lt;/div&gt;`)[0];\n",
       "            popup_e1e6e844949f83c31cc06b55707b1b70.setContent(html_6f82787d9d2a7999f916c0388e2d4c97);\n",
       "        \n",
       "\n",
       "        marker_548d6ca7225d6a5fe4e0befdea19028c.bindPopup(popup_e1e6e844949f83c31cc06b55707b1b70)\n",
       "        ;\n",
       "\n",
       "        \n",
       "    \n",
       "    \n",
       "            var marker_62982cb05c9381171d794af934b03f8f = L.marker(\n",
       "                [29.9990074, -95.1620137],\n",
       "                {}\n",
       "            ).addTo(map_9a8b88588ef0437d8c6e88b591017c14);\n",
       "        \n",
       "    \n",
       "        var popup_ef8ef99a49e04b0fda28472cb936cdbe = L.popup({&quot;maxWidth&quot;: &quot;100%&quot;});\n",
       "\n",
       "        \n",
       "            var html_ebef040de8ab06be4625baa691b84e66 = $(`&lt;div id=&quot;html_ebef040de8ab06be4625baa691b84e66&quot; style=&quot;width: 100.0%; height: 100.0%;&quot;&gt;McquainRichard: @kdeemac13 I&#x27;m very concerned about Warnock&#x27;s chances; Republicans are so cynical to run a football star from yesteryear.&lt;/div&gt;`)[0];\n",
       "            popup_ef8ef99a49e04b0fda28472cb936cdbe.setContent(html_ebef040de8ab06be4625baa691b84e66);\n",
       "        \n",
       "\n",
       "        marker_62982cb05c9381171d794af934b03f8f.bindPopup(popup_ef8ef99a49e04b0fda28472cb936cdbe)\n",
       "        ;\n",
       "\n",
       "        \n",
       "    \n",
       "    \n",
       "            var marker_f59d6665e2fab8f4a8f798104722ed70 = L.marker(\n",
       "                [32.2218917, -110.9262353],\n",
       "                {}\n",
       "            ).addTo(map_9a8b88588ef0437d8c6e88b591017c14);\n",
       "        \n",
       "    \n",
       "        var popup_f5f3876c7d184006b0d82b09ef08d202 = L.popup({&quot;maxWidth&quot;: &quot;100%&quot;});\n",
       "\n",
       "        \n",
       "            var html_83e17e94d41897fadaecfb12daa50652 = $(`&lt;div id=&quot;html_83e17e94d41897fadaecfb12daa50652&quot; style=&quot;width: 100.0%; height: 100.0%;&quot;&gt;coachBSanders18: Wildcats Alumni presence at JF High School Football Camp yesterday.. Doors open Wildcat Football Alumni.. I can show you better than I can tell you.. Even @ArizonaWBB Alumni Felecity Willis stepped into the building! 🐻⬇️ #ItsPersonal #WildcatsAreFamily https://t.co/jbzGAy03FK&lt;/div&gt;`)[0];\n",
       "            popup_f5f3876c7d184006b0d82b09ef08d202.setContent(html_83e17e94d41897fadaecfb12daa50652);\n",
       "        \n",
       "\n",
       "        marker_f59d6665e2fab8f4a8f798104722ed70.bindPopup(popup_f5f3876c7d184006b0d82b09ef08d202)\n",
       "        ;\n",
       "\n",
       "        \n",
       "    \n",
       "    \n",
       "            var marker_ed59bbf2d13232fc4e17990414276535 = L.marker(\n",
       "                [-28.8166236, 24.991639],\n",
       "                {}\n",
       "            ).addTo(map_9a8b88588ef0437d8c6e88b591017c14);\n",
       "        \n",
       "    \n",
       "        var popup_bac3d0f52b5d16c30a35e25da439e9b4 = L.popup({&quot;maxWidth&quot;: &quot;100%&quot;});\n",
       "\n",
       "        \n",
       "            var html_ae6a7c0b6bf745917b7f8aef05524a91 = $(`&lt;div id=&quot;html_ae6a7c0b6bf745917b7f8aef05524a91&quot; style=&quot;width: 100.0%; height: 100.0%;&quot;&gt;M2KaN3: For all the delusional Arsenal fans in the comments....this actually means that the football club didn&#x27;t really make an offer for him...  THEY are the ones that lied to you&lt;/div&gt;`)[0];\n",
       "            popup_bac3d0f52b5d16c30a35e25da439e9b4.setContent(html_ae6a7c0b6bf745917b7f8aef05524a91);\n",
       "        \n",
       "\n",
       "        marker_ed59bbf2d13232fc4e17990414276535.bindPopup(popup_bac3d0f52b5d16c30a35e25da439e9b4)\n",
       "        ;\n",
       "\n",
       "        \n",
       "    \n",
       "    \n",
       "            var marker_afb6c924de3308fcb13aa2303dc85ea0 = L.marker(\n",
       "                [51.5073219, -0.1276474],\n",
       "                {}\n",
       "            ).addTo(map_9a8b88588ef0437d8c6e88b591017c14);\n",
       "        \n",
       "    \n",
       "        var popup_5a89b2b4deddcd319e1f07f39f3304d9 = L.popup({&quot;maxWidth&quot;: &quot;100%&quot;});\n",
       "\n",
       "        \n",
       "            var html_0805d4720474da8812807c53c5c0b097 = $(`&lt;div id=&quot;html_0805d4720474da8812807c53c5c0b097&quot; style=&quot;width: 100.0%; height: 100.0%;&quot;&gt;georgey_doors: @erroneousSock @_robo68 @sophielouisecc That&#x27;s why you have family sections at football clubs. If you honestly can&#x27;t comprehend what&#x27;s wrong with that picture then there&#x27;s honestly no hope for you.&lt;/div&gt;`)[0];\n",
       "            popup_5a89b2b4deddcd319e1f07f39f3304d9.setContent(html_0805d4720474da8812807c53c5c0b097);\n",
       "        \n",
       "\n",
       "        marker_afb6c924de3308fcb13aa2303dc85ea0.bindPopup(popup_5a89b2b4deddcd319e1f07f39f3304d9)\n",
       "        ;\n",
       "\n",
       "        \n",
       "    \n",
       "    \n",
       "            var marker_63b66025ea3eb803244962e1cda82cac = L.marker(\n",
       "                [34.0514898, -84.0712997],\n",
       "                {}\n",
       "            ).addTo(map_9a8b88588ef0437d8c6e88b591017c14);\n",
       "        \n",
       "    \n",
       "        var popup_86feebf09266048e6da4efa1fca58660 = L.popup({&quot;maxWidth&quot;: &quot;100%&quot;});\n",
       "\n",
       "        \n",
       "            var html_26552c148731fd792b3e8f65a5fd42b8 = $(`&lt;div id=&quot;html_26552c148731fd792b3e8f65a5fd42b8&quot; style=&quot;width: 100.0%; height: 100.0%;&quot;&gt;coachgeathers: Facts. Football is played in pads. Want to show a college coach something…do something on Friday nights. If you’ve lifted and done the things your hs coaches ask you to do it will show on Friday nights.&lt;/div&gt;`)[0];\n",
       "            popup_86feebf09266048e6da4efa1fca58660.setContent(html_26552c148731fd792b3e8f65a5fd42b8);\n",
       "        \n",
       "\n",
       "        marker_63b66025ea3eb803244962e1cda82cac.bindPopup(popup_86feebf09266048e6da4efa1fca58660)\n",
       "        ;\n",
       "\n",
       "        \n",
       "    \n",
       "    \n",
       "            var marker_b08bf256441febff364fac4d3fb06fa9 = L.marker(\n",
       "                [47.48138955, 19.146072784482],\n",
       "                {}\n",
       "            ).addTo(map_9a8b88588ef0437d8c6e88b591017c14);\n",
       "        \n",
       "    \n",
       "        var popup_b36a4954892a22f2caee3e9797d4100a = L.popup({&quot;maxWidth&quot;: &quot;100%&quot;});\n",
       "\n",
       "        \n",
       "            var html_81b4205204dafa9d5de2a3bc47688545 = $(`&lt;div id=&quot;html_81b4205204dafa9d5de2a3bc47688545&quot; style=&quot;width: 100.0%; height: 100.0%;&quot;&gt;matyinger14: A guy from the 50s loool he would play in the Brazilian 4th division in the modern football&lt;/div&gt;`)[0];\n",
       "            popup_b36a4954892a22f2caee3e9797d4100a.setContent(html_81b4205204dafa9d5de2a3bc47688545);\n",
       "        \n",
       "\n",
       "        marker_b08bf256441febff364fac4d3fb06fa9.bindPopup(popup_b36a4954892a22f2caee3e9797d4100a)\n",
       "        ;\n",
       "\n",
       "        \n",
       "    \n",
       "    \n",
       "            var marker_87c319258aba6f40b6626b7ed87a7e22 = L.marker(\n",
       "                [5.6596441, -0.0096592],\n",
       "                {}\n",
       "            ).addTo(map_9a8b88588ef0437d8c6e88b591017c14);\n",
       "        \n",
       "    \n",
       "        var popup_1b702831d972ea8d9b34f88995e565f6 = L.popup({&quot;maxWidth&quot;: &quot;100%&quot;});\n",
       "\n",
       "        \n",
       "            var html_36e77f1504bac9a2553f4d40009a95f0 = $(`&lt;div id=&quot;html_36e77f1504bac9a2553f4d40009a95f0&quot; style=&quot;width: 100.0%; height: 100.0%;&quot;&gt;JaSoN_Mileskid: @DornN99 @AwoshieRudiger1 @SaddickAdams He doesn&#x27;t have power in football Stop being shadow minded&lt;/div&gt;`)[0];\n",
       "            popup_1b702831d972ea8d9b34f88995e565f6.setContent(html_36e77f1504bac9a2553f4d40009a95f0);\n",
       "        \n",
       "\n",
       "        marker_87c319258aba6f40b6626b7ed87a7e22.bindPopup(popup_1b702831d972ea8d9b34f88995e565f6)\n",
       "        ;\n",
       "\n",
       "        \n",
       "    \n",
       "    \n",
       "            var marker_17d22837d9ff1e5275b005010534eef5 = L.marker(\n",
       "                [36.0998131, -80.2440518],\n",
       "                {}\n",
       "            ).addTo(map_9a8b88588ef0437d8c6e88b591017c14);\n",
       "        \n",
       "    \n",
       "        var popup_b04775c94c5f08b5cd88e2cf29a002d1 = L.popup({&quot;maxWidth&quot;: &quot;100%&quot;});\n",
       "\n",
       "        \n",
       "            var html_7bc8fd33a134643fcf67fcca39ab0f67 = $(`&lt;div id=&quot;html_7bc8fd33a134643fcf67fcca39ab0f67&quot; style=&quot;width: 100.0%; height: 100.0%;&quot;&gt;DeaconSports: The 2022-2023 Wake Forest sports calendar features football matchups and home-and-home men’s basketball games against ALL our Big Four rivals. Increasingly rare these days, should be a fun one!&lt;/div&gt;`)[0];\n",
       "            popup_b04775c94c5f08b5cd88e2cf29a002d1.setContent(html_7bc8fd33a134643fcf67fcca39ab0f67);\n",
       "        \n",
       "\n",
       "        marker_17d22837d9ff1e5275b005010534eef5.bindPopup(popup_b04775c94c5f08b5cd88e2cf29a002d1)\n",
       "        ;\n",
       "\n",
       "        \n",
       "    \n",
       "    \n",
       "            var marker_9df5d6acf5b4aa7b832db9dde95bc107 = L.marker(\n",
       "                [35.9603948, -83.9210261],\n",
       "                {}\n",
       "            ).addTo(map_9a8b88588ef0437d8c6e88b591017c14);\n",
       "        \n",
       "    \n",
       "        var popup_d47f89cf0f120b30ba4185d9234a0667 = L.popup({&quot;maxWidth&quot;: &quot;100%&quot;});\n",
       "\n",
       "        \n",
       "            var html_4bde850db69e4fae1fc7f7e3612fc782 = $(`&lt;div id=&quot;html_4bde850db69e4fae1fc7f7e3612fc782&quot; style=&quot;width: 100.0%; height: 100.0%;&quot;&gt;BucNastyLives: @TylerFFCreator @Zeallor27 I like D Smith too but he&#x27;s now the #2 WR on a run heavy offense. Hes a better actual football player than a FF option imo.&lt;/div&gt;`)[0];\n",
       "            popup_d47f89cf0f120b30ba4185d9234a0667.setContent(html_4bde850db69e4fae1fc7f7e3612fc782);\n",
       "        \n",
       "\n",
       "        marker_9df5d6acf5b4aa7b832db9dde95bc107.bindPopup(popup_d47f89cf0f120b30ba4185d9234a0667)\n",
       "        ;\n",
       "\n",
       "        \n",
       "    \n",
       "    \n",
       "            var marker_48f51dff69dc74e34ca43a9737105aaa = L.marker(\n",
       "                [51.4757049, -2.4834211],\n",
       "                {}\n",
       "            ).addTo(map_9a8b88588ef0437d8c6e88b591017c14);\n",
       "        \n",
       "    \n",
       "        var popup_91af63dcfc113f30ef0ba1efcab04885 = L.popup({&quot;maxWidth&quot;: &quot;100%&quot;});\n",
       "\n",
       "        \n",
       "            var html_8e9b54319c0585f39816ee5ec9cb81c2 = $(`&lt;div id=&quot;html_8e9b54319c0585f39816ee5ec9cb81c2&quot; style=&quot;width: 100.0%; height: 100.0%;&quot;&gt;Ricky_Bobby1971: @CFCLenny @Chris_Mills_ @_ChelseaLB @Tonycabby1961 @ZiizoCfc @_DeclanRice I’m a West Ham born in east London, I now work in bristol… I also put money into my village football team yeah.   You don’t find many West Ham glory hunters bud&lt;/div&gt;`)[0];\n",
       "            popup_91af63dcfc113f30ef0ba1efcab04885.setContent(html_8e9b54319c0585f39816ee5ec9cb81c2);\n",
       "        \n",
       "\n",
       "        marker_48f51dff69dc74e34ca43a9737105aaa.bindPopup(popup_91af63dcfc113f30ef0ba1efcab04885)\n",
       "        ;\n",
       "\n",
       "        \n",
       "    \n",
       "    \n",
       "            var marker_28b0fe66e07ab2ac6ab40f73c92726f6 = L.marker(\n",
       "                [35.6571367, -97.4649038],\n",
       "                {}\n",
       "            ).addTo(map_9a8b88588ef0437d8c6e88b591017c14);\n",
       "        \n",
       "    \n",
       "        var popup_be0855b298eb882de7677dc699f11c64 = L.popup({&quot;maxWidth&quot;: &quot;100%&quot;});\n",
       "\n",
       "        \n",
       "            var html_ec099ec73f6ee09d5a5a9d3873736c24 = $(`&lt;div id=&quot;html_ec099ec73f6ee09d5a5a9d3873736c24&quot; style=&quot;width: 100.0%; height: 100.0%;&quot;&gt;oklamode: @kyleumlang Looks like the future football pod&lt;/div&gt;`)[0];\n",
       "            popup_be0855b298eb882de7677dc699f11c64.setContent(html_ec099ec73f6ee09d5a5a9d3873736c24);\n",
       "        \n",
       "\n",
       "        marker_28b0fe66e07ab2ac6ab40f73c92726f6.bindPopup(popup_be0855b298eb882de7677dc699f11c64)\n",
       "        ;\n",
       "\n",
       "        \n",
       "    \n",
       "    \n",
       "            var marker_c9973d52132377c8ed0561f90d1efe0f = L.marker(\n",
       "                [52.4775396, -1.894053],\n",
       "                {}\n",
       "            ).addTo(map_9a8b88588ef0437d8c6e88b591017c14);\n",
       "        \n",
       "    \n",
       "        var popup_b7d4d8c33da38c51ebb18692b4a1ec9f = L.popup({&quot;maxWidth&quot;: &quot;100%&quot;});\n",
       "\n",
       "        \n",
       "            var html_89de8797bcb1a8fa145ac97581004099 = $(`&lt;div id=&quot;html_89de8797bcb1a8fa145ac97581004099&quot; style=&quot;width: 100.0%; height: 100.0%;&quot;&gt;mcooperwrites: @AliHolding @ReservoirJogs @TalkingWolves @daveazzopardi We’ve got a big excel sheet with every football on the continent and we just randomise it every morning&lt;/div&gt;`)[0];\n",
       "            popup_b7d4d8c33da38c51ebb18692b4a1ec9f.setContent(html_89de8797bcb1a8fa145ac97581004099);\n",
       "        \n",
       "\n",
       "        marker_c9973d52132377c8ed0561f90d1efe0f.bindPopup(popup_b7d4d8c33da38c51ebb18692b4a1ec9f)\n",
       "        ;\n",
       "\n",
       "        \n",
       "    \n",
       "    \n",
       "            var marker_1f2c75053289199338dcd48c1667bcff = L.marker(\n",
       "                [51.5073219, -0.1276474],\n",
       "                {}\n",
       "            ).addTo(map_9a8b88588ef0437d8c6e88b591017c14);\n",
       "        \n",
       "    \n",
       "        var popup_b4d395158faf256dec0df3b2b5ea1cb7 = L.popup({&quot;maxWidth&quot;: &quot;100%&quot;});\n",
       "\n",
       "        \n",
       "            var html_36c74b3279b1755b14d7f77be154b2bb = $(`&lt;div id=&quot;html_36c74b3279b1755b14d7f77be154b2bb&quot; style=&quot;width: 100.0%; height: 100.0%;&quot;&gt;Mustxkim: I’m transitioning to a Football and F1 twitter&lt;/div&gt;`)[0];\n",
       "            popup_b4d395158faf256dec0df3b2b5ea1cb7.setContent(html_36c74b3279b1755b14d7f77be154b2bb);\n",
       "        \n",
       "\n",
       "        marker_1f2c75053289199338dcd48c1667bcff.bindPopup(popup_b4d395158faf256dec0df3b2b5ea1cb7)\n",
       "        ;\n",
       "\n",
       "        \n",
       "    \n",
       "    \n",
       "            var marker_f08c35c6a83884a4a3117335352fbdd5 = L.marker(\n",
       "                [38.9642117, 16.3031985],\n",
       "                {}\n",
       "            ).addTo(map_9a8b88588ef0437d8c6e88b591017c14);\n",
       "        \n",
       "    \n",
       "        var popup_5a37ec988ef3c67fc721f10118eb09d1 = L.popup({&quot;maxWidth&quot;: &quot;100%&quot;});\n",
       "\n",
       "        \n",
       "            var html_c902cf75b3927397a65c2c8f62caa1d5 = $(`&lt;div id=&quot;html_c902cf75b3927397a65c2c8f62caa1d5&quot; style=&quot;width: 100.0%; height: 100.0%;&quot;&gt;ErnestoMalchino: @YouPlaque @Reuters But less professional football teams&lt;/div&gt;`)[0];\n",
       "            popup_5a37ec988ef3c67fc721f10118eb09d1.setContent(html_c902cf75b3927397a65c2c8f62caa1d5);\n",
       "        \n",
       "\n",
       "        marker_f08c35c6a83884a4a3117335352fbdd5.bindPopup(popup_5a37ec988ef3c67fc721f10118eb09d1)\n",
       "        ;\n",
       "\n",
       "        \n",
       "    \n",
       "    \n",
       "            var marker_96536143f0f522fa9c5ea95c349aef6f = L.marker(\n",
       "                [52.9393841, 0.4901743],\n",
       "                {}\n",
       "            ).addTo(map_9a8b88588ef0437d8c6e88b591017c14);\n",
       "        \n",
       "    \n",
       "        var popup_072102de27b1e8176d6687cfca75a2f6 = L.popup({&quot;maxWidth&quot;: &quot;100%&quot;});\n",
       "\n",
       "        \n",
       "            var html_bbc62a370ed9c16710f7de9dd0af691f = $(`&lt;div id=&quot;html_bbc62a370ed9c16710f7de9dd0af691f&quot; style=&quot;width: 100.0%; height: 100.0%;&quot;&gt;cribby2468: Meanwhile sky sports announce United made a higher bid but he wanted to be part of a project and UCL football 🤣🤣&lt;/div&gt;`)[0];\n",
       "            popup_072102de27b1e8176d6687cfca75a2f6.setContent(html_bbc62a370ed9c16710f7de9dd0af691f);\n",
       "        \n",
       "\n",
       "        marker_96536143f0f522fa9c5ea95c349aef6f.bindPopup(popup_072102de27b1e8176d6687cfca75a2f6)\n",
       "        ;\n",
       "\n",
       "        \n",
       "    \n",
       "    \n",
       "            var marker_906c8f9542ee66c4140180f02baaab3f = L.marker(\n",
       "                [50.74467035, -1.85798090318094],\n",
       "                {}\n",
       "            ).addTo(map_9a8b88588ef0437d8c6e88b591017c14);\n",
       "        \n",
       "    \n",
       "        var popup_64a50ccdfd2faca91317ef7a66dd29d6 = L.popup({&quot;maxWidth&quot;: &quot;100%&quot;});\n",
       "\n",
       "        \n",
       "            var html_db555ce48d7f8a339a6a770dfc3eceb4 = $(`&lt;div id=&quot;html_db555ce48d7f8a339a6a770dfc3eceb4&quot; style=&quot;width: 100.0%; height: 100.0%;&quot;&gt;CraigBeazley85: @ACW52 @dcfcstephen I agree the owners have been rotten to the core. But the fans are the club and there the ones who football should save the club for. The EFL need to be so much stricter on owners across the Championship in particular to stop situations like this happening&lt;/div&gt;`)[0];\n",
       "            popup_64a50ccdfd2faca91317ef7a66dd29d6.setContent(html_db555ce48d7f8a339a6a770dfc3eceb4);\n",
       "        \n",
       "\n",
       "        marker_906c8f9542ee66c4140180f02baaab3f.bindPopup(popup_64a50ccdfd2faca91317ef7a66dd29d6)\n",
       "        ;\n",
       "\n",
       "        \n",
       "    \n",
       "    \n",
       "            var marker_50a4eeffdcf1bd10ca31dc50378e21fd = L.marker(\n",
       "                [53.0162014, -2.1812607],\n",
       "                {}\n",
       "            ).addTo(map_9a8b88588ef0437d8c6e88b591017c14);\n",
       "        \n",
       "    \n",
       "        var popup_54c1a9c7c8a02fd239a56af7bbbb9e4a = L.popup({&quot;maxWidth&quot;: &quot;100%&quot;});\n",
       "\n",
       "        \n",
       "            var html_c43812157396602f88cf73cb04f55c2f = $(`&lt;div id=&quot;html_c43812157396602f88cf73cb04f55c2f&quot; style=&quot;width: 100.0%; height: 100.0%;&quot;&gt;Tomo_scfc: @Jamiefishing14 @FootyAccums Haven&#x27;t been arsenal for a few years either now! I think lower league football has better fans everyone who goes could support any bigger club but they are loyal to them good atmospheres as well! Always a good laugh at the football I think mate&lt;/div&gt;`)[0];\n",
       "            popup_54c1a9c7c8a02fd239a56af7bbbb9e4a.setContent(html_c43812157396602f88cf73cb04f55c2f);\n",
       "        \n",
       "\n",
       "        marker_50a4eeffdcf1bd10ca31dc50378e21fd.bindPopup(popup_54c1a9c7c8a02fd239a56af7bbbb9e4a)\n",
       "        ;\n",
       "\n",
       "        \n",
       "    \n",
       "&lt;/script&gt;\" style=\"position:absolute;width:100%;height:100%;left:0;top:0;border:none !important;\" allowfullscreen webkitallowfullscreen mozallowfullscreen></iframe></div></div>"
      ],
      "text/plain": [
       "<folium.folium.Map at 0x1a1d2bbe0>"
      ]
     },
     "execution_count": 58,
     "metadata": {},
     "output_type": "execute_result"
    }
   ],
   "source": [
    "usmap"
   ]
  },
  {
   "cell_type": "markdown",
   "metadata": {},
   "source": [
    "<!--\n",
    "#from IPython.display import IFrame\n",
    "#IFrame(src=\"./tweet_map.html\", width=800, height=450)\n",
    "-->"
   ]
  },
  {
   "cell_type": "markdown",
   "metadata": {},
   "source": [
    "<hr style=\"height:2px; border:none; color:#000; background-color:#000;\">"
   ]
  },
  {
   "cell_type": "markdown",
   "metadata": {},
   "source": [
    "## Utility Functions\n",
    "See the following for details: \n",
    "* [**Python Fundamentals LiveLessons video**](https://learning.oreilly.com/videos/python-fundamentals/9780135917411/9780135917411-PFLL_Lesson12_26) \n",
    "* [Sections 12.5.2-12.5.3 in **Python for Programmers**](https://learning.oreilly.com/library/view/python-for-programmers/9780135231364/ch12.xhtml#ch12lev2sec10)\n",
    "\n",
    "### `get_tweet_content` Utility Function (2 of 2)\n",
    "```python\n",
    "def get_tweet_content(tweet, location=False):\n",
    "    \"\"\"Return dictionary with data from tweet (a Status object).\"\"\"\n",
    "    fields = {}\n",
    "    fields['screen_name'] = tweet.user.screen_name\n",
    "\n",
    "    # get the tweet's text\n",
    "    try:  \n",
    "        fields['text'] = tweet.extended_tweet[\"full_text\"]\n",
    "    except: \n",
    "        fields['text'] = tweet.text\n",
    "\n",
    "    if location:\n",
    "        fields['location'] = tweet.user.location\n",
    "\n",
    "    return fields\n",
    "\n",
    "```"
   ]
  },
  {
   "cell_type": "markdown",
   "metadata": {},
   "source": [
    "<hr style=\"height:2px; border:none; color:#000; background-color:#000;\">"
   ]
  },
  {
   "cell_type": "markdown",
   "metadata": {},
   "source": [
    "### `get_geocodes` Utility Function (1 of 3)\n",
    "* Receives a **list of dictionaries** containing tweets and **geocodes their locations**\n",
    "* If **geocoding** is **successful** for a tweet, adds the **latitude** and **longitude** to the tweet’s **dictionary in `tweet_list`**\n",
    "* Requires class **`OpenMapQuest`** from the **geopy module**"
   ]
  },
  {
   "cell_type": "markdown",
   "metadata": {},
   "source": [
    "<hr style=\"height:2px; border:none; color:#000; background-color:#000;\">"
   ]
  },
  {
   "cell_type": "markdown",
   "metadata": {},
   "source": [
    "### `get_geocodes` Utility Function (2 of 3)\n",
    "```python\n",
    "from geopy import OpenMapQuest\n",
    "```\n",
    "\n",
    "```python\n",
    "def get_geocodes(tweet_list):\n",
    "    \"\"\"Get the latitude and longitude for each tweet's location.\n",
    "    Returns the number of tweets with invalid location data.\"\"\"\n",
    "    print('Getting coordinates for tweet locations...')\n",
    "    geo = OpenMapQuest(api_key=keys.mapquest_key)  # geocoder\n",
    "    bad_locations = 0  \n",
    "\n",
    "    for tweet in tweet_list:\n",
    "        processed = False\n",
    "        delay = .1  # used if OpenMapQuest times out to delay next call\n",
    "        while not processed:\n",
    "            try:  # get coordinates for tweet['location']\n",
    "                geo_location = geo.geocode(tweet['location'])\n",
    "                processed = True\n",
    "            except:  # timed out, so wait before trying again\n",
    "                print('OpenMapQuest service timed out. Waiting.')\n",
    "                time.sleep(delay)\n",
    "                delay += .1\n",
    "\n",
    "        if geo_location:  \n",
    "            tweet['latitude'] = geo_location.latitude\n",
    "            tweet['longitude'] = geo_location.longitude\n",
    "        else:  \n",
    "            bad_locations += 1  # tweet['location'] was invalid\n",
    "    \n",
    "    print('Done geocoding')\n",
    "    return bad_locations\n",
    "\n",
    "```"
   ]
  },
  {
   "cell_type": "markdown",
   "metadata": {},
   "source": [
    "<hr style=\"height:2px; border:none; color:#000; background-color:#000;\">"
   ]
  },
  {
   "cell_type": "markdown",
   "metadata": {},
   "source": [
    "## 12.15.3 Class `LocationListener`\n",
    "See the file `LocationListener.py` in this chapter's folder\n"
   ]
  },
  {
   "cell_type": "markdown",
   "metadata": {},
   "source": [
    "<hr style=\"height:2px; border:none; color:#000; background-color:#000;\">"
   ]
  },
  {
   "cell_type": "markdown",
   "metadata": {},
   "source": [
    "# More Info \n",
    "* See Lesson 12 in [**Python Fundamentals LiveLessons** here on O'Reilly Online Learning](https://learning.oreilly.com/videos/python-fundamentals/9780135917411)\n",
    "* See Chapter 12 in [**Python for Programmers** on O'Reilly Online Learning](https://learning.oreilly.com/library/view/python-for-programmers/9780135231364/)\n",
    "* See Chapter 13 in [**Intro Python for Computer Science and Data Science** on O'Reilly Online Learning](https://learning.oreilly.com/library/view/intro-to-python/9780135404799/)\n",
    "* Interested in a print book? Check out:\n",
    "\n",
    "| Python for Programmers<br>(640-page professional book) | Intro to Python for Computer<br>Science and Data Science<br>(880-page college textbook)\n",
    "| :------ | :------\n",
    "| <a href=\"https://amzn.to/2VvdnxE\"><img alt=\"Python for Programmers cover\" src=\"../images/PyFPCover.png\" width=\"150\" border=\"1\"/></a> | <a href=\"https://amzn.to/2LiDCmt\"><img alt=\"Intro to Python for Computer Science and Data Science: Learning to Program with AI, Big Data and the Cloud\" src=\"../images/IntroToPythonCover.png\" width=\"159\" border=\"1\"></a>\n",
    "\n",
    ">Please **do not** purchase both books&mdash;_Python for Programmers_ is a subset of _Intro to Python for Computer Science and Data Science_"
   ]
  },
  {
   "cell_type": "markdown",
   "metadata": {},
   "source": [
    "&copy; 2019 by Pearson Education, Inc. All Rights Reserved. The content in this notebook is based on the book [**Python for Programmers**](https://amzn.to/2VvdnxE)."
   ]
  }
 ],
 "metadata": {
  "kernelspec": {
   "display_name": "Python 3 (ipykernel)",
   "language": "python",
   "name": "python3"
  },
  "language_info": {
   "codemirror_mode": {
    "name": "ipython",
    "version": 3
   },
   "file_extension": ".py",
   "mimetype": "text/x-python",
   "name": "python",
   "nbconvert_exporter": "python",
   "pygments_lexer": "ipython3",
   "version": "3.10.4"
  }
 },
 "nbformat": 4,
 "nbformat_minor": 4
}
