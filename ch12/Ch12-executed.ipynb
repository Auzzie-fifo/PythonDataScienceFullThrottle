{
 "cells": [
  {
   "cell_type": "markdown",
   "metadata": {},
   "source": [
    "&copy; 2019 by Pearson Education, Inc. All Rights Reserved. The content in this notebook is based on the book [**Python for Programmers**](https://amzn.to/2VvdnxE)."
   ]
  },
  {
   "cell_type": "code",
   "execution_count": 1,
   "metadata": {},
   "outputs": [],
   "source": [
    "# enable high-res images in notebook \n",
    "%config InlineBackend.figure_format = 'retina'"
   ]
  },
  {
   "cell_type": "markdown",
   "metadata": {},
   "source": [
    "# 12. Data Mining Twitter \n",
    "# Objectives\n",
    "* **Data-mine Twitter** with **Tweepy** library\n",
    "* Search **past tweets** with the **Twitter Search API**\n",
    "* Sample the **live tweet stream** with the **Twitter Streaming API**\n",
    "* Tweet object **meta data** \n",
    "* Use **NLP** to **clean and preprocess tweets** for analysis\n",
    "* Perform **sentiment analysis** on tweets\n",
    "* **Spot trends** with **Twitter’s Trends API**\n",
    "* **Map tweets** using **folium** and **OpenStreetMap**"
   ]
  },
  {
   "cell_type": "markdown",
   "metadata": {},
   "source": [
    "<hr style=\"height:2px; border:none; color:#000; background-color:#000;\">"
   ]
  },
  {
   "cell_type": "markdown",
   "metadata": {},
   "source": [
    "# 12.1 Introduction \n",
    "* Popular **big-data source**  \n",
    "* **Data mining** &mdash; searching large collections of data for **insights**\n",
    "* **Sentiment** in tweets can help **make predictions**  \n",
    "    * **Stock prices**\n",
    "    * **Election results**\n",
    "    * Likely **revenues** for a **new movie**\n",
    "    * **Success** of a company’s **marketing campaign**\n",
    "* Spot **faults in competitors’ products** \n",
    "* Spot **trending topics**\n",
    "* **Connect to Twitter** with easy-to-use **Web services**"
   ]
  },
  {
   "cell_type": "markdown",
   "metadata": {},
   "source": [
    "<hr style=\"height:2px; border:none; color:#000; background-color:#000;\">"
   ]
  },
  {
   "cell_type": "markdown",
   "metadata": {},
   "source": [
    "### What Is Twitter? \n",
    "* **Tweets**\n",
    "    * Short messages\n",
    "    * Initially limited to **140 characters**\n",
    "    * Increased in 2017 for most languages to **280 characters**\n",
    "* **Most open social network**&mdash;anyone can generally choose to follow anyone else\n",
    "* **Free programmatic access** to a small portion of **last 7 days' tweets**\n",
    "    * Can get **paid access** to larger portions the **all-time tweets database**\n",
    "* [**Hundreds of millions of tweets are sent every day** with many thousands sent per second](http://www.internetlivestats.com/twitter-statistics/)\n",
    "* Can tap into the **live stream** and get up to 1% of live tweets\n",
    "    * **Like “drinking from a fire hose”** "
   ]
  },
  {
   "cell_type": "markdown",
   "metadata": {},
   "source": [
    "<hr style=\"height:2px; border:none; color:#000; background-color:#000;\">"
   ]
  },
  {
   "cell_type": "markdown",
   "metadata": {},
   "source": [
    "# 12.2 Overview of the Twitter APIs \n",
    "* **Web services** are **methods** that you call in the **cloud**\n",
    "* Each **method** has a **web service endpoint** represented by a **URL**\n",
    "* **Caution**: **apps can be brittle**\n",
    "    * Internet connections can be lost, services can change, some services not available everywhere, ... \n",
    "* [Twitter API categories, subcategories and individual methods](https://developer.twitter.com/en/docs/api-reference-index.html)"
   ]
  },
  {
   "cell_type": "markdown",
   "metadata": {},
   "source": [
    "<hr style=\"height:2px; border:none; color:#000; background-color:#000;\">"
   ]
  },
  {
   "cell_type": "markdown",
   "metadata": {},
   "source": [
    "### Rate Limits and Restrictions\n",
    "* Twitter expects developers to **use its services responsibly**\n",
    "* **Understand rate limits** before using any method or you could get **blocked**\n",
    "* Some methods list both **user rate limits** and **app rate limits**\n",
    "    * We use **app rate limits** in the demos\n",
    "    * **User rate limits** for apps in which individuals to log into own Twitter accounts\n",
    "    * [Details on rate limiting](https://developer.twitter.com/en/docs/basics/rate-limiting)\n",
    "    * [Specific rate limits on individual API methods](https://developer.twitter.com/en/docs/basics/rate-limits) — also see each API method’s docs\n",
    "* **Follow Twitter’s rules/regulations or your developer account could be terminated.** \n",
    "\t* [Terms of Service](https://twitter.com/tos), [Developer Agreement](https://developer.twitter.com/en/developer-terms/agreement-and-policy.html), [Developer Policy](https://developer.twitter.com/en/developer-terms/policy.html), [Other restrictions](https://developer.twitter.com/en/developer-terms/more-on-restricted-use-cases)"
   ]
  },
  {
   "cell_type": "markdown",
   "metadata": {},
   "source": [
    "<hr style=\"height:2px; border:none; color:#000; background-color:#000;\">"
   ]
  },
  {
   "cell_type": "markdown",
   "metadata": {},
   "source": [
    "# 12.4 Getting Twitter Credentials—Creating an App \n",
    "* [Apply for a developer account](https://developer.twitter.com/en/apply-for-access) to use the APIs\n",
    "* Must get **credentials** to use Twitter APIs\n",
    "    * Part of the **OAuth 2.0 authentication process**\n",
    "    * **Tweepy handles OAuth 2.0 authentication details for you**\n",
    "* To get credentials, you’ll [**create an app**](https://developer.twitter.com) \n",
    "    * **Each app has separate credentials**\n",
    "    * I present **details on creating apps** in my [**Python Fundamentals LiveLessons videos for Section 12.4**](https://learning.oreilly.com/videos/python-fundamentals/9780135917411/9780135917411-PFLL_Lesson12_04) and [**Python for Programmers Section 12.4**](https://learning.oreilly.com/library/view/Python+for+Programmers,+First+Edition/9780135231364/ch12.xhtml#ch12lev1sec4)"
   ]
  },
  {
   "cell_type": "markdown",
   "metadata": {},
   "source": [
    "<hr style=\"height:2px; border:none; color:#000; background-color:#000;\">"
   ]
  },
  {
   "cell_type": "markdown",
   "metadata": {},
   "source": [
    "# 12.5 What’s in a Tweet? \n",
    "* Twitter API returns **JSON (JavaScript Object Notation)** objects\n",
    "* Text-based, human and computer readable\n",
    "* Like Python **dictionaries**\n",
    "* **JSON object format** &mdash; **all strings in double quotes (\")**\n",
    ">```python\n",
    "{propertyName1: value1, propertyName2: value2}\n",
    "```\n",
    "* **JSON array format (like Python list)**:\n",
    ">```python\n",
    "[value1, value2, value3]\n",
    "```\n",
    "* **Tweepy handles the JSON for you** behind the scenes"
   ]
  },
  {
   "cell_type": "markdown",
   "metadata": {},
   "source": [
    "<hr style=\"height:2px; border:none; color:#000; background-color:#000;\">"
   ]
  },
  {
   "cell_type": "markdown",
   "metadata": {},
   "source": [
    "### Key Properties of a Tweet Object \n",
    "* **Tweet object** contains **metadata**, including\n",
    "    * **text** of the tweet\n",
    "    * **extended tweet** for tweets up to **280 characters**\n",
    "\t* **when** it was created \n",
    "\t* **who** created it,\n",
    "\t* lists of **hashtags**, **URLs**, **`@`-mentions**, **images**, **videos** and more\n",
    "* [Our table of many key **tweet metadata attributes**](https://learning.oreilly.com/library/view/python-for-programmers/9780135231364/ch12.xhtml#ch12lev1sec5)\n",
    "* [Complete list of the tweet object attributes](https://developer.twitter.com/en/docs/tweets/data-dictionary/overview/tweet-object.html)\n",
    "* [General overview of all the JSON objects that Twitter APIs return, and links to the specific object details](https://developer.twitter.com/en/docs/tweets/data-dictionary/overview/intro-to-tweet-json)"
   ]
  },
  {
   "cell_type": "markdown",
   "metadata": {},
   "source": [
    "<hr style=\"height:2px; border:none; color:#000; background-color:#000;\">"
   ]
  },
  {
   "cell_type": "markdown",
   "metadata": {},
   "source": [
    "### Sample Tweet JSON\n",
    "* **Sample JSON** for this tweet from the **`@nasa`** account: \n",
    ">```\n",
    "@NoFear1075 Great question, Anthony! Throughout its seven-year \n",
    "mission, our Parker #SolarProbe spacecraft... https://t.co/xKd6ym8waT'\n",
    "```"
   ]
  },
  {
   "cell_type": "markdown",
   "metadata": {},
   "source": [
    "<hr style=\"height:2px; border:none; color:#000; background-color:#000;\">"
   ]
  },
  {
   "cell_type": "markdown",
   "metadata": {},
   "source": [
    "```python\n",
    "{'created_at': 'Wed Sep 05 18:19:34 +0000 2018',\n",
    " 'id': 1037404890354606082,\n",
    " 'id_str': '1037404890354606082',\n",
    " 'text': '@NoFear1075 Great question, Anthony! Throughout its seven-year \n",
    "          mission, our Parker #SolarProbe spacecraft… https://t.co/xKd6ym8waT',\n",
    " 'truncated': True,\n",
    " 'entities': {'hashtags': [{'text': 'SolarProbe', 'indices': [84, 95]}],\n",
    "    'symbols': [],\n",
    "    'user_mentions': [{'screen_name': 'NoFear1075',\n",
    "        'name': 'Anthony Perrone',\n",
    "        'id': 284339791,\n",
    "        'id_str': '284339791',\n",
    "        'indices': [0, 11]}],\n",
    "    'urls': [{'url': 'https://t.co/xKd6ym8waT',\n",
    "        'expanded_url': 'https://twitter.com/i/web/status/1037404890354606082',\n",
    "        'display_url': 'twitter.com/i/web/status/1…',\n",
    "        'indices': [117, 140]}]},\n",
    " 'source': '<a href=\"http://twitter.com\" rel=\"nofollow\">Twitter Web Client</a>',\n",
    "```"
   ]
  },
  {
   "cell_type": "markdown",
   "metadata": {},
   "source": [
    "```python\n",
    " 'in_reply_to_status_id': 1037390542424956928,\n",
    " 'in_reply_to_status_id_str': '1037390542424956928',\n",
    " 'in_reply_to_user_id': 284339791,\n",
    " 'in_reply_to_user_id_str': '284339791',\n",
    " 'in_reply_to_screen_name': 'NoFear1075',\n",
    " 'user': {'id': 11348282,\n",
    "    'id_str': '11348282',\n",
    "    'name': 'NASA',\n",
    "    'screen_name': 'NASA',\n",
    "    'location': '',\n",
    "    'description': 'Explore the universe and discover our home planet with \n",
    "            @NASA. We usually post in EST (UTC-5)',\n",
    "    'url': 'https://t.co/TcEE6NS8nD',\n",
    "    'entities': {'url': {'urls': [{'url': 'https://t.co/TcEE6NS8nD',\n",
    "            'expanded_url': 'http://www.nasa.gov',\n",
    "            'display_url': 'nasa.gov',\n",
    "            'indices': [0, 23]}]},\n",
    "    'description': {'urls': []}},\n",
    "    'protected': False,\n",
    "    'followers_count': 29486081,\n",
    "    'friends_count': 287,\n",
    "    'listed_count': 91928,\n",
    "    'created_at': 'Wed Dec 19 20:20:32 +0000 2007',\n",
    "    'favourites_count': 3963,\n",
    "    'time_zone': None,\n",
    "    'geo_enabled': False,\n",
    "    'verified': True,\n",
    "    'statuses_count': 53147,\n",
    "    'lang': 'en',\n",
    "```"
   ]
  },
  {
   "cell_type": "markdown",
   "metadata": {},
   "source": [
    "```python\n",
    "    'contributors_enabled': False,\n",
    "    'is_translator': False,\n",
    "    'is_translation_enabled': False,\n",
    "    'profile_background_color': '000000',\n",
    "    'profile_background_image_url': 'http://abs.twimg.com/images/themes/theme1/bg.png',\n",
    "    'profile_background_image_url_https': 'https://abs.twimg.com/images/themes/theme1/bg.png',\n",
    "    'profile_image_url': 'http://pbs.twimg.com/profile_images/188302352/nasalogo_twitter_normal.jpg',\n",
    "    'profile_image_url_https': 'https://pbs.twimg.com/profile_images/188302352/nasalogo_twitter_normal.jpg',\n",
    "    'profile_banner_url': 'https://pbs.twimg.com/profile_banners/11348282/1535145490',\n",
    "    'profile_link_color': '205BA7',\n",
    "    'profile_sidebar_border_color': '000000',\n",
    "    'profile_sidebar_fill_color': 'F3F2F2',\n",
    "    'profile_text_color': '000000',\n",
    "    'profile_use_background_image': True,\n",
    "    'has_extended_profile': True,\n",
    "    'default_profile': False,\n",
    "    'default_profile_image': False,\n",
    "    'following': True,\n",
    "    'follow_request_sent': False,\n",
    "    'notifications': False,\n",
    "    'translator_type': 'regular'},\n",
    " 'geo': None,\n",
    " 'coordinates': None,\n",
    " 'place': None,\n",
    " 'contributors': None,\n",
    " 'is_quote_status': False,\n",
    " 'retweet_count': 7,\n",
    " 'favorite_count': 19,\n",
    " 'favorited': False,\n",
    " 'retweeted': False,\n",
    " 'possibly_sensitive': False,\n",
    " 'lang': 'en'}\n",
    "\n",
    "```"
   ]
  },
  {
   "cell_type": "markdown",
   "metadata": {},
   "source": [
    "<hr style=\"height:2px; border:none; color:#000; background-color:#000;\">"
   ]
  },
  {
   "cell_type": "markdown",
   "metadata": {},
   "source": [
    "# 12.6 Tweepy\n",
    "* [**Tweepy library**](http://www.tweepy.org/)—**one of the most popular Python Twitter clients**\n",
    "> `pip install tweepy>=3.7`\n",
    "* Easy access to Twitter’s capabilities\n",
    "* [Tweepy’s documentation](http://docs.tweepy.org/en/latest/)\n",
    "* One function in `tweetutilities.py` file depends on [**geopy**](https://github.com/geopy/geopy) (used later to **plot tweet locations**)\n",
    ">`conda install -c conda-forge geopy`"
   ]
  },
  {
   "cell_type": "markdown",
   "metadata": {},
   "source": [
    "<hr style=\"height:2px; border:none; color:#000; background-color:#000;\">"
   ]
  },
  {
   "cell_type": "markdown",
   "metadata": {},
   "source": [
    "# 12.7 Authenticating with Twitter Via Tweepy\n",
    "* **Authentication API**—Authenticate with your **Twitter credentials** to use other Twitter APIs\n",
    "* **`keys.py`** must contain your credentials"
   ]
  },
  {
   "cell_type": "code",
   "execution_count": 2,
   "metadata": {},
   "outputs": [],
   "source": [
    "import tweepy"
   ]
  },
  {
   "cell_type": "code",
   "execution_count": 3,
   "metadata": {},
   "outputs": [],
   "source": [
    "import keys  "
   ]
  },
  {
   "cell_type": "code",
   "execution_count": 4,
   "metadata": {},
   "outputs": [],
   "source": [
    "auth = tweepy.OAuthHandler(keys.consumer_key,\n",
    "                           keys.consumer_secret)"
   ]
  },
  {
   "cell_type": "code",
   "execution_count": 5,
   "metadata": {},
   "outputs": [],
   "source": [
    "auth.set_access_token(keys.access_token,\n",
    "                      keys.access_token_secret)"
   ]
  },
  {
   "cell_type": "markdown",
   "metadata": {},
   "source": [
    "<hr style=\"height:2px; border:none; color:#000; background-color:#000;\">"
   ]
  },
  {
   "cell_type": "markdown",
   "metadata": {},
   "source": [
    "### Creating the Tweepy API Object\n",
    "* A **Tweepy `API` object** is your **gateway** to Twitter APIs"
   ]
  },
  {
   "cell_type": "code",
   "execution_count": 6,
   "metadata": {},
   "outputs": [],
   "source": [
    "api = tweepy.API(auth, wait_on_rate_limit=True, \n",
    "                 wait_on_rate_limit_notify=True)"
   ]
  },
  {
   "cell_type": "markdown",
   "metadata": {},
   "source": [
    "* **`auth`** is the **`OAuthHandler`**\n",
    "* **`wait_on_rate_limit=True`** &mdash; **wait 15 minutes** when app reaches an API method’s rate limit\n",
    "    * prevents violations\n",
    "* **`wait_on_rate_limit_notify=True`** &mdash; **display a command-line message** when you hit a rate limit"
   ]
  },
  {
   "cell_type": "markdown",
   "metadata": {},
   "source": [
    "<hr style=\"height:2px; border:none; color:#000; background-color:#000;\">"
   ]
  },
  {
   "cell_type": "markdown",
   "metadata": {},
   "source": [
    "# 12.8 Getting Information About a Twitter Account\n",
    "* **Accounts and Users API**—Access information about an account\n",
    "* `API` object’s **`get_user` method** returns a **`tweepy.models.User` object** for an account"
   ]
  },
  {
   "cell_type": "code",
   "execution_count": 7,
   "metadata": {},
   "outputs": [],
   "source": [
    "nasa = api.get_user('nasa')"
   ]
  },
  {
   "cell_type": "markdown",
   "metadata": {},
   "source": [
    "* Calls the **Twitter API’s [`users/show` method](https://developer.twitter.com/en/docs/accounts-and-users/follow-search-get-users/api-reference/get-users-show)**\n",
    "* **`tweepy.models` classes** correspond to returned **JSON objects**\n",
    "* **`User` class** corresponds to a Twitter [**user object**](https://developer.twitter.com/en/docs/tweets/data-dictionary/overview/user-object)\n",
    "* **`tweepy.models` classes** turn **JSON** into **Tweepy objects** "
   ]
  },
  {
   "cell_type": "markdown",
   "metadata": {},
   "source": [
    "<hr style=\"height:2px; border:none; color:#000; background-color:#000;\">"
   ]
  },
  {
   "cell_type": "markdown",
   "metadata": {},
   "source": [
    "### Getting Basic Account Information for `@nasa`\n",
    "* IDs and twitter handles can be used to **track tweets to, from and about users**"
   ]
  },
  {
   "cell_type": "code",
   "execution_count": 8,
   "metadata": {},
   "outputs": [
    {
     "data": {
      "text/plain": [
       "11348282"
      ]
     },
     "execution_count": 8,
     "metadata": {},
     "output_type": "execute_result"
    }
   ],
   "source": [
    "nasa.id  # account ID created when the user joined Twitter"
   ]
  },
  {
   "cell_type": "code",
   "execution_count": 9,
   "metadata": {},
   "outputs": [
    {
     "data": {
      "text/plain": [
       "'NASA'"
      ]
     },
     "execution_count": 9,
     "metadata": {},
     "output_type": "execute_result"
    }
   ],
   "source": [
    "nasa.screen_name  # user’s Twitter handle"
   ]
  },
  {
   "cell_type": "code",
   "execution_count": 10,
   "metadata": {},
   "outputs": [
    {
     "data": {
      "text/plain": [
       "\"There's space for everybody. ✨\""
      ]
     },
     "execution_count": 10,
     "metadata": {},
     "output_type": "execute_result"
    }
   ],
   "source": [
    "nasa.description  # description from the user’s profile"
   ]
  },
  {
   "cell_type": "markdown",
   "metadata": {},
   "source": [
    "* Lots of additional attributes, like `name`, `description`, `followers_count`, `friends_count`, etc."
   ]
  },
  {
   "cell_type": "markdown",
   "metadata": {},
   "source": [
    "<hr style=\"height:2px; border:none; color:#000; background-color:#000;\">"
   ]
  },
  {
   "cell_type": "markdown",
   "metadata": {},
   "source": [
    "### Getting `@nasa`'s Most Recent Status Update\n",
    "* `User` object’s **`status` property** returns a **`tweepy.models.Status`** object\n",
    "* Corresponds to a Twitter [**tweet object**](https://developer.twitter.com/en/docs/tweets/data-dictionary/overview/tweet-object)"
   ]
  },
  {
   "cell_type": "code",
   "execution_count": 11,
   "metadata": {},
   "outputs": [
    {
     "data": {
      "text/plain": [
       "'This week...\\n\\n👩\\u200d🚀 Kayla Barron of @NASA_Astronauts joins the SpaceX Crew-3 mission\\n📊 Administrator @SenBillNelson d… https://t.co/Fo3hshvjpO'"
      ]
     },
     "execution_count": 11,
     "metadata": {},
     "output_type": "execute_result"
    }
   ],
   "source": [
    "nasa.status.text  # most recent tweet's text"
   ]
  },
  {
   "cell_type": "markdown",
   "metadata": {},
   "source": [
    "* **...** indicates **truncated** tweet text\n",
    "* **`extended_tweet` property** for tweets between 141 and 280 characters (as of Nov. 2017) \n",
    "* **Retweeting** often results in truncation"
   ]
  },
  {
   "cell_type": "markdown",
   "metadata": {},
   "source": [
    "<hr style=\"height:2px; border:none; color:#000; background-color:#000;\">"
   ]
  },
  {
   "cell_type": "markdown",
   "metadata": {},
   "source": [
    "# 12.9 Introduction to Tweepy Cursors: Getting an Account’s Followers \n",
    "* Twitter API methods often return collections of objects \n",
    "    * E.g., list of tweets that match specified search criteria \n",
    "* Each method has **maximum number of items returned by one call**\n",
    "    * A **\"page\"** of results\n",
    "* **JSON responses** indicate whether there are **more pages**\n",
    "* A **`Cursor`** handles **paging** \n",
    "    * Invokes a method and **checks for more pages**\n",
    "    * If so, **calls the method again**  \n",
    "    * Continues until there are no more results to process\n",
    "    * If `API` object configured to **wait on rate limits**, **`Cursor`s wait as needed**\n",
    "* [Tweepy `Cursor` tutorial](http://docs.tweepy.org/en/latest/cursor_tutorial.html)"
   ]
  },
  {
   "cell_type": "markdown",
   "metadata": {},
   "source": [
    "<hr style=\"height:2px; border:none; color:#000; background-color:#000;\">"
   ]
  },
  {
   "cell_type": "markdown",
   "metadata": {},
   "source": [
    "## 12.9.1 Determining an Account’s Followers  Via the `API` object’s **`followers` Method**\n",
    "* Calls Twitter’s [**followers/list** method](https://developer.twitter.com/en/docs/accounts-and-users/follow-search-get-users/api-reference/get-followers-list.html)\n",
    "* Returns groups of 20 by default, but can request up to 200 \n",
    "* For demonstration purposes, we’ll grab 10 of NASA’s followers"
   ]
  },
  {
   "cell_type": "markdown",
   "metadata": {},
   "source": [
    "<hr style=\"height:2px; border:none; color:#000; background-color:#000;\">"
   ]
  },
  {
   "cell_type": "markdown",
   "metadata": {},
   "source": [
    "### Creating a Cursor That Will Call the `followers` Method for NASA’s account"
   ]
  },
  {
   "cell_type": "code",
   "execution_count": 12,
   "metadata": {},
   "outputs": [],
   "source": [
    "followers = []  # for storing followers' User objects"
   ]
  },
  {
   "cell_type": "code",
   "execution_count": 13,
   "metadata": {},
   "outputs": [],
   "source": [
    "cursor = tweepy.Cursor(api.followers, screen_name='nasa')"
   ]
  },
  {
   "cell_type": "markdown",
   "metadata": {},
   "source": [
    "* First argument is **name of Tweepy method to call**\n",
    "* Additional keyword arguments are passed to method named in first argument"
   ]
  },
  {
   "cell_type": "markdown",
   "metadata": {},
   "source": [
    "<hr style=\"height:2px; border:none; color:#000; background-color:#000;\">"
   ]
  },
  {
   "cell_type": "markdown",
   "metadata": {},
   "source": [
    "### Get Results from `Cursor` and Display in Ascending Alphabetical Order  \n",
    "* Cursor’s **`items` method** calls `api.followers` and returns the `follower`s method’s results"
   ]
  },
  {
   "cell_type": "code",
   "execution_count": 14,
   "metadata": {},
   "outputs": [],
   "source": [
    "for account in cursor.items(100):  # request only 100 results\n",
    "    followers.append(account.screen_name)"
   ]
  },
  {
   "cell_type": "code",
   "execution_count": 15,
   "metadata": {},
   "outputs": [
    {
     "data": {
      "text/plain": [
       "['zzhuu4',\n",
       " 'Shwetavishwas7',\n",
       " '61Hyou',\n",
       " 'yasirja19801572',\n",
       " 'SahadevChavan6',\n",
       " 'SagarSo51991447',\n",
       " 'emma_suue',\n",
       " 'VivekJa35843318',\n",
       " 'ErgLong',\n",
       " 'AkshayBhartia2',\n",
       " 'BHARATP25155454',\n",
       " 'AnindraMondal2',\n",
       " 'MEthioia',\n",
       " 'PDhanakan',\n",
       " 'DanielL34048936',\n",
       " 'Rishika12793965',\n",
       " 'Pravinkumar360',\n",
       " 'MartinCarcao4',\n",
       " 'Abolfaz35146696',\n",
       " 'habermajer',\n",
       " 'Jithin63930081',\n",
       " 'cc4f09bad4c54f9',\n",
       " 'Narayan38555062',\n",
       " 'Kris88189945',\n",
       " 'FaizaKh19545787',\n",
       " 'jandrewpowell',\n",
       " 'Christy71188512',\n",
       " 'Javiert30689565',\n",
       " 'RakeshS08181261',\n",
       " 'i3OvQDSwiOJCjz4',\n",
       " 'maybelyn_18',\n",
       " 'chethan98289411',\n",
       " 'QureshiTahaseen',\n",
       " 'gouthamchary8',\n",
       " 'Garvitsinghbha2',\n",
       " 'Dany26887085',\n",
       " 'BittuKu11642155',\n",
       " 'MaxDegliEsposti',\n",
       " 'Zayaan88975314',\n",
       " 'Technology2202',\n",
       " 'JanaThoennissen',\n",
       " 'Lakshya46406725',\n",
       " 'Zz27819584',\n",
       " 'Kristianqbafw',\n",
       " 'EmWattad',\n",
       " 'huluwa08742982',\n",
       " 'HimanchalaJ',\n",
       " 'leiqiang14',\n",
       " 'MdjahirHusain12',\n",
       " 'Param82512096',\n",
       " 'sheng_zsr',\n",
       " 'KhshGrv1',\n",
       " 'yan_inn',\n",
       " 'Rajdeep49694797',\n",
       " 'sash0styles',\n",
       " 'juice_pto',\n",
       " 'qa5iyst6uuWSTpp',\n",
       " 'daavincii1',\n",
       " 'fafa62824781',\n",
       " 'ABBAS29023289',\n",
       " 'IGautoparts',\n",
       " 'Daphnie60186937',\n",
       " 'YusufAb52139931',\n",
       " 'Santosh64683104',\n",
       " 'FerozAbbas14',\n",
       " 'Anandvi03163264',\n",
       " 'DilipYa93953769',\n",
       " 'skytobeno',\n",
       " 'A2678693232',\n",
       " 'planetwisdom194',\n",
       " 'Mukesh66913836',\n",
       " 'Rahman39315506',\n",
       " 'AbhayKu78546122',\n",
       " 'QQ8pydCA8u98PnR',\n",
       " 'sam_campanelli',\n",
       " 'BET3nVG93TyScLv',\n",
       " 'Sutharnihar1',\n",
       " 'RipunjayaSingh',\n",
       " 'AneedIbn',\n",
       " 'Vijay30836910',\n",
       " 'heyakbarkhan',\n",
       " 'TenzinW02522804',\n",
       " '8888Roooh',\n",
       " 'lukas_trepanier',\n",
       " 'YKaopu',\n",
       " 'yaelmaykel',\n",
       " 'Mohamma90704166',\n",
       " 'Uday_Pratpsingh',\n",
       " 'tassadi54186978',\n",
       " 'AyoubBenmabrou2',\n",
       " 'Eliaz39515204',\n",
       " 'ellejuliano',\n",
       " 'Mohamme48202468',\n",
       " 'NadeemBari19',\n",
       " 'AreenPal1',\n",
       " 'koii223',\n",
       " 'Krome331',\n",
       " 'GadOo24969474',\n",
       " 'GogSwamy',\n",
       " 'GhabrielMOlive2']"
      ]
     },
     "execution_count": 15,
     "metadata": {},
     "output_type": "execute_result"
    }
   ],
   "source": [
    "followers"
   ]
  },
  {
   "cell_type": "markdown",
   "metadata": {},
   "source": [
    "<hr style=\"height:2px; border:none; color:#000; background-color:#000;\">"
   ]
  },
  {
   "cell_type": "markdown",
   "metadata": {},
   "source": [
    "### Automatic Paging\n",
    "* To **get up to 200 followers at a time**, create the `Cursor` with the **`count`** keyword argument\n",
    ">```python\n",
    "cursor = tweepy.Cursor(api.followers, screen_name='nasa', count=200)\n",
    "```\n",
    "* Calling `Cursor` method **`items`** with no argument attempts to get **all followers**\n",
    "    * Could **take significant time** due to **rate limits**"
   ]
  },
  {
   "cell_type": "markdown",
   "metadata": {},
   "source": [
    "<hr style=\"height:2px; border:none; color:#000; background-color:#000;\">"
   ]
  },
  {
   "cell_type": "markdown",
   "metadata": {},
   "source": [
    "# 12.10 Searching Recent Tweets with Tweepy `API` method **`search`** \n",
    "* **Tweets API**—Search **past 7 days' tweets**, access **live tweet streams** and more\n",
    "* Returns tweets that **match a query string**\n",
    "* Only for the **previous seven days’ tweets**\n",
    "* **Not guaranteed to return all matching tweets**\n",
    "* Calls Twitter’s **`search/tweets` method**\n",
    "* Returns 15 tweets at a time by default, but can return up to 100"
   ]
  },
  {
   "cell_type": "markdown",
   "metadata": {},
   "source": [
    "<hr style=\"height:2px; border:none; color:#000; background-color:#000;\">"
   ]
  },
  {
   "cell_type": "markdown",
   "metadata": {},
   "source": [
    "### Utility Function `print_tweets` from `tweetutilities.py` "
   ]
  },
  {
   "cell_type": "code",
   "execution_count": 16,
   "metadata": {},
   "outputs": [],
   "source": [
    "from tweetutilities import print_tweets"
   ]
  },
  {
   "cell_type": "markdown",
   "metadata": {},
   "source": [
    "```python\n",
    "def print_tweets(tweets):\n",
    "    \"\"\"For each Tweepy Status object in tweets, display the \n",
    "    user's screen_name and tweet text. If the language is not\n",
    "    English, translate the text with TextBlob.\"\"\"\n",
    "    for tweet in tweets:\n",
    "        print(f'{tweet.screen_name}:', end=' ')\n",
    "    \n",
    "        if 'en' in tweet.lang:\n",
    "            print(f'{tweet.text}\\n')\n",
    "        elif 'und' not in tweet.lang:  # translate to English first\n",
    "            print(f'\\n  ORIGINAL: {tweet.text}')\n",
    "            print(f'TRANSLATED: {TextBlob(tweet.text).translate()}\\n')\n",
    "\n",
    "```"
   ]
  },
  {
   "cell_type": "markdown",
   "metadata": {},
   "source": [
    "<hr style=\"height:2px; border:none; color:#000; background-color:#000;\">"
   ]
  },
  {
   "cell_type": "markdown",
   "metadata": {},
   "source": [
    "### Searching for Specific Words\n",
    "* **`q` keyword argument** specifies the **query string**\n",
    "* Should use **`Cursor`** for more than max results"
   ]
  },
  {
   "cell_type": "code",
   "execution_count": 17,
   "metadata": {},
   "outputs": [],
   "source": [
    "tweets = api.search(q='football', count=10)"
   ]
  },
  {
   "cell_type": "code",
   "execution_count": 18,
   "metadata": {},
   "outputs": [
    {
     "name": "stdout",
     "output_type": "stream",
     "text": [
      "crit_gen: RT @BashanahHaBaAh: @policescotland In the last month alone @policescotland have ignored rioting football fans in the city centre, and been…\n",
      "\n",
      "rikesh_kc: @Nishan_LFC @BrentfordFC The best game in football is championship Play-offs\n",
      "True emotions and players fighting for… https://t.co/WZ2NjojxD7\n",
      "\n",
      "brxnocardoso: \n",
      "  ORIGINAL: RT @STpontocom: Isso é Fluminense Football Club! https://t.co/uCZ8NV4Jy1\n",
      "TRANSLATED: RT @STpontocom: This is Fluminense Football Club! https://t.co/uCZ8NV4Jy1\n",
      "\n",
      "PSG24hours: RT @alkassdigital: Barcelona have not begun contract renewal negotiations with Lionel #Messi and #Psg are \"looking closely\" at the situatio…\n",
      "\n",
      "abeanery: \n",
      "  ORIGINAL: RT @STpontocom: Isso é Fluminense Football Club! https://t.co/uCZ8NV4Jy1\n",
      "TRANSLATED: RT @STpontocom: This is Fluminense Football Club! https://t.co/uCZ8NV4Jy1\n",
      "\n",
      "Prodigalangelo: @_SirBash @UtdOptimist @AidanWalshMUFC Price him and see if he will come. Yall better allow the young man enjoy foo… https://t.co/91UVeIMLkN\n",
      "\n",
      "ponginho7: RT @MicahRichards: I’ve written a tribute to my friend @aguerosergiokun - in my opinion the greatest striker in @ManCity’s history... an ho…\n",
      "\n",
      "SVC_Football: Join us in celebrating our Class of 2021 Bearcat Football Seniors. Congratulations Micah Harris! #RiseTogether https://t.co/0icfUENAo9\n",
      "\n",
      "K0UWASTAKEN: @MED1CINEBURN WELL THEY SHOULDBE MADE IT CLEAR. WE PLAY MINECRAFT NIT FOOTBALL\n",
      "\n",
      "Curtis__94: These play off games are a breath of fresh air \n",
      "\n",
      "Fans in the ground and no VAR this is proper football\n",
      "\n"
     ]
    }
   ],
   "source": [
    "print_tweets(tweets)"
   ]
  },
  {
   "cell_type": "markdown",
   "metadata": {},
   "source": [
    "<hr style=\"height:2px; border:none; color:#000; background-color:#000;\">"
   ]
  },
  {
   "cell_type": "markdown",
   "metadata": {},
   "source": [
    "### Searching with Twitter Search Operators (1 of 2)\n",
    "* Use **Twitter search operators** to refine search results\n",
    "* The following table shows several Twitter search operators. \n",
    "* [For all the operators, click the `operators` link here](https://twitter.com/search-home)\n",
    "* ```python\n",
    "tweets = api.search(q='from:nasa since:2019-11-15', count=3)\n",
    "```\n",
    "\n",
    "| Example&nbsp;&nbsp;&nbsp;&nbsp;&nbsp;&nbsp;&nbsp;&nbsp;&nbsp;&nbsp;&nbsp;&nbsp;&nbsp;&nbsp;&nbsp;&nbsp;&nbsp;&nbsp;&nbsp;&nbsp;&nbsp;&nbsp;&nbsp;&nbsp;&nbsp;&nbsp;&nbsp;&nbsp;&nbsp;&nbsp;&nbsp;&nbsp;&nbsp;&nbsp;&nbsp;&nbsp;&nbsp;&nbsp;\t| Finds tweets containing\n",
    "| :---\t| :---\n",
    "| `python twitter` \t| **Implicit _logical and_ operator**—Finds tweets containing `python` _and_ `twitter`.\n",
    "| `python OR twitter` \t| **Logical `OR` operator**—Finds tweets containing `python` or `twitter` or both.\n",
    "| `python ?` \t| **`?` (question mark)**—Finds tweets asking questions about `python`.\n",
    "| `planets -mars` \t| **`-` (minus sign)**—Finds tweets containing `planets` but not `mars`.\n",
    "| `python :)` \t| **`:)` (happy face)**—Finds **positive sentiment** tweets containing `python`.\n",
    "| `python :(` \t| **`:(` (sad face)**—Finds **negative sentiment** tweets containing `python`.\n",
    "| `since:2018-09-01` \t| **Finds tweets **on or after** the specified date**, which must be in the form **`YYYY-MM-DD`**.\n",
    "| `near:\"New York City\" `\t| **Finds tweets that were sent near `\"New York City\"`**.\n",
    "| `from:nasa` \t| **Finds tweets from the account `@nasa`**.\n",
    "| `to:nasa` \t| **Finds tweets to the account `@nasa`**."
   ]
  },
  {
   "cell_type": "markdown",
   "metadata": {},
   "source": [
    "<hr style=\"height:2px; border:none; color:#000; background-color:#000;\">"
   ]
  },
  {
   "cell_type": "markdown",
   "metadata": {},
   "source": [
    "# 12.11 Spotting Trends: Twitter Trends API\n",
    "* **“Going viral”** &mdash; thousands or millions of people tweeting at once \n",
    "* Twitter maintains a list of **trending topics** worldwide \n",
    "* **Twitter Trends API** can return lists of **trending-topic locations** and the **top 50 trending topics** for each **location**"
   ]
  },
  {
   "cell_type": "markdown",
   "metadata": {},
   "source": [
    "<hr style=\"height:2px; border:none; color:#000; background-color:#000;\">"
   ]
  },
  {
   "cell_type": "markdown",
   "metadata": {},
   "source": [
    "## 12.11.1 Places with Trending Topics \n",
    "* See how to find places with trending topics: https://learning.oreilly.com/videos/python-fundamentals/9780135917411/9780135917411-PFLL_Lesson12_15"
   ]
  },
  {
   "cell_type": "markdown",
   "metadata": {},
   "source": [
    "<hr style=\"height:2px; border:none; color:#000; background-color:#000;\">"
   ]
  },
  {
   "cell_type": "markdown",
   "metadata": {},
   "source": [
    "## 12.11.2 Getting a List of Trending Topics with the Tweepy `API`’s **`trends_place` Method** \n",
    "* Calls **Twitter Trends API’s [`trends/place` method](https://developer.twitter.com/en/docs/trends/trends-for-location/api-reference/get-trends-place)**\n",
    "* Returns top **50 trending topics for the location**\n",
    "* [Look up WOEIDs](http://www.woeidlookup.com) (**Yahoo! Where on Earth IDs**)\n",
    "* Look up WOEID’s programmatically using **Yahoo!’s web services** via [Python libraries like `woeid`](https://github.com/Ray-SunR/woeid)"
   ]
  },
  {
   "cell_type": "markdown",
   "metadata": {},
   "source": [
    "<hr style=\"height:2px; border:none; color:#000; background-color:#000;\">"
   ]
  },
  {
   "cell_type": "markdown",
   "metadata": {},
   "source": [
    "### Get Today's Worldwide Trending Topics (1 of 3)"
   ]
  },
  {
   "cell_type": "code",
   "execution_count": 19,
   "metadata": {},
   "outputs": [],
   "source": [
    "world_trends = api.trends_place(id=1)  # list containing one dictionary"
   ]
  },
  {
   "cell_type": "markdown",
   "metadata": {},
   "source": [
    "* **`'trends'` key** refers to a **list of dictionaries representing each trend**"
   ]
  },
  {
   "cell_type": "code",
   "execution_count": 20,
   "metadata": {},
   "outputs": [],
   "source": [
    "trends_list = world_trends[0]['trends']"
   ]
  },
  {
   "cell_type": "markdown",
   "metadata": {},
   "source": [
    "<hr style=\"height:2px; border:none; color:#000; background-color:#000;\">"
   ]
  },
  {
   "cell_type": "markdown",
   "metadata": {},
   "source": [
    "### Get Today's Worldwide Trending Topics (2 of 3)\n",
    "* Each trend has **`name`**, **`url`**, **`promoted_content`** (whether it's an **advertisement**), **`query`** and **`tweet_volume`** keys"
   ]
  },
  {
   "cell_type": "code",
   "execution_count": 21,
   "metadata": {},
   "outputs": [
    {
     "data": {
      "text/plain": [
       "{'name': '#MonacoGP',\n",
       " 'url': 'http://twitter.com/search?q=%23MonacoGP',\n",
       " 'promoted_content': None,\n",
       " 'query': '%23MonacoGP',\n",
       " 'tweet_volume': 113150}"
      ]
     },
     "execution_count": 21,
     "metadata": {},
     "output_type": "execute_result"
    }
   ],
   "source": [
    "trends_list[0]"
   ]
  },
  {
   "cell_type": "markdown",
   "metadata": {},
   "source": [
    "<hr style=\"height:2px; border:none; color:#000; background-color:#000;\">"
   ]
  },
  {
   "cell_type": "markdown",
   "metadata": {},
   "source": [
    "### Get Today's Worldwide Trending Topics (3 of 3)\n",
    "* For **trends with more than 10,000 tweets**, the **`tweet_volume`** is the **number of tweets**; otherwise, it’s `None`\n",
    "* Filter the list so that it contains only trends with more than 10,000 tweets:"
   ]
  },
  {
   "cell_type": "code",
   "execution_count": 22,
   "metadata": {},
   "outputs": [],
   "source": [
    "trends_list = [t for t in trends_list if t['tweet_volume']]"
   ]
  },
  {
   "cell_type": "code",
   "execution_count": 23,
   "metadata": {},
   "outputs": [],
   "source": [
    "from operator import itemgetter "
   ]
  },
  {
   "cell_type": "code",
   "execution_count": 24,
   "metadata": {},
   "outputs": [],
   "source": [
    "trends_list.sort(key=itemgetter('tweet_volume'), reverse=True) "
   ]
  },
  {
   "cell_type": "code",
   "execution_count": 25,
   "metadata": {},
   "outputs": [
    {
     "name": "stdout",
     "output_type": "stream",
     "text": [
      "#후즈팬_1주년_축하해\n",
      "#Whosfan_1st_Anniversary\n",
      "FinaleDoğru AleynaKalaycıoğlu\n",
      "#MonacoGP\n",
      "#여자친구_밥잘먹어\n",
      "Pole\n",
      "Leclerc\n",
      "STREAM FOR LISA\n",
      "#IPPONグランプリ\n",
      "#SixTONESANN\n",
      "Ferrari\n",
      "#PetroBastaYa\n",
      "No Truth No Wiki Donations\n",
      "Hamilton\n",
      "Brentford\n",
      "García Carneiro\n",
      "#f1jp\n",
      "#コントが始まる\n",
      "Lewandowski\n",
      "thais\n",
      "#シブヤノオト\n",
      "Bournemouth\n",
      "La Guaira\n",
      "Verstappen\n",
      "Sainz\n",
      "キスの日\n"
     ]
    }
   ],
   "source": [
    "for trend in trends_list:  # show top trending topics\n",
    "    print(trend['name'])"
   ]
  },
  {
   "cell_type": "markdown",
   "metadata": {},
   "source": [
    "<hr style=\"height:2px; border:none; color:#000; background-color:#000;\">"
   ]
  },
  {
   "cell_type": "markdown",
   "metadata": {},
   "source": [
    "# 12.12 Cleaning/Preprocessing Tweets for Analysis\n",
    "* **Data cleaning** is one of data scientists' most common tasks \n",
    "* Some **NLP tasks** for **normalizing tweets**\n",
    "    * Converting text to **same case**\n",
    "    * Removing **`#` from hashtags**, **`@`-mentions**, **duplicates**, **hashtags**\n",
    "    * Removing **excess whitespace**, **punctuation**, **stop words**, **URLs**\n",
    "    * Removing tweet keywords **`RT`** (retweet) and **`FAV`** (favorite) \n",
    "    * **Stemming** and **lemmatization**\n",
    "    * **Tokenization**"
   ]
  },
  {
   "cell_type": "markdown",
   "metadata": {},
   "source": [
    "<hr style=\"height:2px; border:none; color:#000; background-color:#000;\">"
   ]
  },
  {
   "cell_type": "markdown",
   "metadata": {},
   "source": [
    "### [**tweet-preprocessor**](https://github.com/s/preprocessor) Library and TextBlob Utility Functions\n",
    "* `pip install tweet-preprocessor`\n",
    "* Can automatically remove any combination of:\n",
    "\n",
    "| Option\t| Option constant\n",
    "| :---\t| :---\n",
    "| **`OPT.MENTION`** | @-Mentions (e.g., `@nasa`)\t\n",
    "| **`OPT.EMOJI`** | Emoji\t\n",
    "| **`OPT.HASHTAG`** | Hashtag (e.g., `#mars`)\t\n",
    "| **`OPT.NUMBER`** | Number\t\n",
    "| **`OPT.RESERVED`** | Reserved Words (`RT` and `FAV`)\t\n",
    "| **`OPT.SMILEY`** | Smiley\t\n",
    "| **`OPT.URL`** | URL\t"
   ]
  },
  {
   "cell_type": "markdown",
   "metadata": {},
   "source": [
    "<hr style=\"height:2px; border:none; color:#000; background-color:#000;\">"
   ]
  },
  {
   "cell_type": "markdown",
   "metadata": {},
   "source": [
    "### Cleaning a Tweet Containing a Reserved Word and a URL\n",
    "* The tweet-preprocessor library’s module name is **`preprocessor`** "
   ]
  },
  {
   "cell_type": "code",
   "execution_count": 26,
   "metadata": {},
   "outputs": [],
   "source": [
    "import preprocessor as p  # p recommended by docs"
   ]
  },
  {
   "cell_type": "code",
   "execution_count": 27,
   "metadata": {},
   "outputs": [],
   "source": [
    "p.set_options(p.OPT.URL, p.OPT.RESERVED)  # specify what to clean"
   ]
  },
  {
   "cell_type": "code",
   "execution_count": 28,
   "metadata": {},
   "outputs": [],
   "source": [
    "tweet_text = 'RT A sample retweet with a URL https://nasa.gov'"
   ]
  },
  {
   "cell_type": "code",
   "execution_count": 29,
   "metadata": {},
   "outputs": [
    {
     "data": {
      "text/plain": [
       "'A sample retweet with a URL'"
      ]
     },
     "execution_count": 29,
     "metadata": {},
     "output_type": "execute_result"
    }
   ],
   "source": [
    "p.clean(tweet_text)\n"
   ]
  },
  {
   "cell_type": "markdown",
   "metadata": {},
   "source": [
    "<hr style=\"height:2px; border:none; color:#000; background-color:#000;\">"
   ]
  },
  {
   "cell_type": "markdown",
   "metadata": {},
   "source": [
    "# 12.13 Twitter Streaming API\n",
    "* Streams **randomly selected** live tweets up to a **maximum of 1% of the tweets per day**\n",
    "* According to https://InternetLiveStats.com\n",
    "    * **~8500 tweets per second**\n",
    "    * Nearly **750 million tweets per day**\n",
    "* So Streaming API gives you **free access to approximately 7.5 million tweets/day**"
   ]
  },
  {
   "cell_type": "markdown",
   "metadata": {},
   "source": [
    "<hr style=\"height:2px; border:none; color:#000; background-color:#000;\">"
   ]
  },
  {
   "cell_type": "markdown",
   "metadata": {},
   "source": [
    "## 12.13.1 Creating a Subclass of `StreamListener` \n",
    "* A stream **pushes** tweets to your app via a **persistent connection** \n",
    "* **Streaming rate** varies tremendously, based on search criteria\n",
    "* Subclass of Tweepy’s **`StreamListener`** listens for tweets\n",
    "    * **Notified** when each **new tweet** or other **Twitter message** **arrives**\n",
    "    * Each message results in a call to a **`StreamListener` method**\n",
    "    * **Override** only the **methods you need**\n"
   ]
  },
  {
   "cell_type": "markdown",
   "metadata": {},
   "source": [
    "<hr style=\"height:2px; border:none; color:#000; background-color:#000;\">"
   ]
  },
  {
   "cell_type": "markdown",
   "metadata": {},
   "source": [
    "### `StreamListener` Methods\n",
    "* [`StreamListener` methods](https://github.com/tweepy/tweepy/blob/master/tweepy/streaming.py)  \n",
    "\n",
    "| Method&nbsp;&nbsp;&nbsp;&nbsp;&nbsp;&nbsp;&nbsp;&nbsp;&nbsp;&nbsp;&nbsp;&nbsp;&nbsp;&nbsp;&nbsp;&nbsp;&nbsp;&nbsp;&nbsp;&nbsp;&nbsp;&nbsp;&nbsp;&nbsp;&nbsp;&nbsp;&nbsp;&nbsp;&nbsp;&nbsp;&nbsp;&nbsp;&nbsp;&nbsp;&nbsp;&nbsp;&nbsp;&nbsp;&nbsp;&nbsp;&nbsp;&nbsp;&nbsp;&nbsp;&nbsp;&nbsp;&nbsp;&nbsp;&nbsp;&nbsp;&nbsp;&nbsp;&nbsp;&nbsp;&nbsp;&nbsp;&nbsp;&nbsp;| Called when...\n",
    "| :---\t| :---\n",
    "| **`on_connect(self)`** \t| App **successfully connects** to the Twitter stream. This is for statements that should execute only if your app is connected to the stream.\n",
    "| **`on_status(self, status)`** \t| A **tweet arrives**—**`status`** is a Tweepy **`Status`** object.\n",
    "| **`on_data(self, data)`** \t| A **tweet arrives**—**`data`** is the **raw JSON** of a Twitter status (tweet).\n",
    "| **`on_limit(self, track)`** \t| A **limit notice** arrives. This occurs if your search matches more tweets than Twitter can deliver based on its current streaming rate limits. In this case, the limit notice contains the number of matching tweets that could not be delivered.\n",
    "| **`on_error(self, status_code)`** \t| An **error code** arrives. \n",
    "| **`on_timeout(self)`** \t| The **connection times out**—that is, the Twitter server is not responding.\n",
    "| **`on_warning(self, notice)`** \t| **Twitter sends a disconnect warning** to indicate that the connection might be closed. For example, Twitter maintains a queue of the tweets it’s pushing to your app. If the app does not read the tweets fast enough, `on_warning`’s notice argument will contain a warning message indicating that the connection will terminate if the queue becomes full. "
   ]
  },
  {
   "cell_type": "markdown",
   "metadata": {},
   "source": [
    "<hr style=\"height:2px; border:none; color:#000; background-color:#000;\">"
   ]
  },
  {
   "cell_type": "markdown",
   "metadata": {},
   "source": [
    "### Class `TweetListener` Defined in `tweetlistener.py`\n",
    "```python  \n",
    "# tweetlistener.py\n",
    "\"\"\"tweepy.StreamListener subclass that processes tweets as they arrive.\"\"\"\n",
    "import tweepy\n",
    "from textblob import TextBlob\n",
    "\n",
    "class TweetListener(tweepy.StreamListener):\n",
    "    \"\"\"Handles incoming Tweet stream.\"\"\"\n",
    "```"
   ]
  },
  {
   "cell_type": "markdown",
   "metadata": {},
   "source": [
    "```python  \n",
    "    def __init__(self, api, limit=10):\n",
    "        \"\"\"Create instance variables for tracking number of tweets.\"\"\"\n",
    "        self.tweet_count = 0\n",
    "        self.TWEET_LIMIT = limit  # max number of tweets; None for no max\n",
    "        super().__init__(api)  # call superclass's init\n",
    "\n",
    "    def on_connect(self):\n",
    "        \"\"\"Called when your connection attempt is successful, enabling \n",
    "        you to perform appropriate application tasks at that point.\"\"\"\n",
    "        print('Connection successful\\n')\n",
    "```"
   ]
  },
  {
   "cell_type": "markdown",
   "metadata": {},
   "source": [
    "```python  \n",
    "    def on_status(self, status):\n",
    "        \"\"\"Called when Twitter pushes a new tweet to you.\"\"\"\n",
    "        # get the tweet text\n",
    "        try:  \n",
    "            tweet_text = status.extended_tweet[\"full_text\"]\n",
    "        except: \n",
    "            tweet_text = status.text\n",
    "\n",
    "        print(f'Screen name: {status.user.screen_name}:')\n",
    "        print(f'   Language: {status.lang}')\n",
    "        print(f'     Status: {tweet_text}')\n",
    "\n",
    "        if status.lang != 'en' and status.lang != 'und':\n",
    "            print(f' Translated: {TextBlob(tweet_text).translate()}')\n",
    "\n",
    "        print()\n",
    "        self.tweet_count += 1  # track number of tweets processed\n",
    "\n",
    "        # if TWEET_LIMIT is reached, return False to terminate streaming\n",
    "        return self.tweet_count < self.TWEET_LIMIT\n",
    "```"
   ]
  },
  {
   "cell_type": "markdown",
   "metadata": {},
   "source": [
    "<hr style=\"height:2px; border:none; color:#000; background-color:#000;\">"
   ]
  },
  {
   "cell_type": "markdown",
   "metadata": {},
   "source": [
    "## 12.13.2 Initiating Stream Processing\n",
    "\n",
    "### Creating a `TweetListener` Initializing It with the `api` Object"
   ]
  },
  {
   "cell_type": "code",
   "execution_count": 30,
   "metadata": {},
   "outputs": [],
   "source": [
    "from tweetlistener import TweetListener"
   ]
  },
  {
   "cell_type": "code",
   "execution_count": 31,
   "metadata": {},
   "outputs": [],
   "source": [
    "tweet_listener = TweetListener(api, limit=5)"
   ]
  },
  {
   "cell_type": "markdown",
   "metadata": {},
   "source": [
    "<hr style=\"height:2px; border:none; color:#000; background-color:#000;\">"
   ]
  },
  {
   "cell_type": "markdown",
   "metadata": {},
   "source": [
    "### Creating a Tweepy **`Stream`** Object to Manage the Connection to the Twitter Stream\n",
    "* Passes the messages to your `TweetListener` "
   ]
  },
  {
   "cell_type": "code",
   "execution_count": 32,
   "metadata": {},
   "outputs": [],
   "source": [
    "tweet_stream = tweepy.Stream(auth=api.auth, listener=tweet_listener)"
   ]
  },
  {
   "cell_type": "markdown",
   "metadata": {},
   "source": [
    "<hr style=\"height:2px; border:none; color:#000; background-color:#000;\">"
   ]
  },
  {
   "cell_type": "markdown",
   "metadata": {},
   "source": [
    "### Starting the Tweet Stream with the `Stream` Object’s **`filter` Method** \n",
    "* `track` parameter specifies a list of search terms\n",
    "* [Other `filter` method parameters](https://developer.twitter.com/en/docs/tweets/filter-realtime/guides/basic-stream-parameters) for refining your tweet searches\n",
    "* Streaming API returns full tweet **JSON objects** for tweets that match any of the terms, **not just in the tweet’s text, but also in @-mentions, hashtags, expanded URLs and other information**  \n",
    "* Might not see search terms in **tweets' text**"
   ]
  },
  {
   "cell_type": "code",
   "execution_count": 33,
   "metadata": {},
   "outputs": [
    {
     "name": "stdout",
     "output_type": "stream",
     "text": [
      "Connection successful\n",
      "\n",
      "Screen name: Curtis__94:\n",
      "   Language: en\n",
      "     Status: These play off games are a breath of fresh air \n",
      "\n",
      "Fans in the ground and no VAR this is proper football\n",
      "\n",
      "Screen name: K0UWASTAKEN:\n",
      "   Language: en\n",
      "     Status: @MED1CINEBURN WELL THEY SHOULDBE MADE IT CLEAR. WE PLAY MINECRAFT NIT FOOTBALL\n",
      "\n",
      "Screen name: SVC_Football:\n",
      "   Language: en\n",
      "     Status: Join us in celebrating our Class of 2021 Bearcat Football Seniors. Congratulations Micah Harris! #RiseTogether https://t.co/0icfUENAo9\n",
      "\n",
      "Screen name: ponginho7:\n",
      "   Language: en\n",
      "     Status: RT @MicahRichards: I’ve written a tribute to my friend @aguerosergiokun - in my opinion the greatest striker in @ManCity’s history... an ho…\n",
      "\n",
      "Screen name: Prodigalangelo:\n",
      "   Language: en\n",
      "     Status: @_SirBash @UtdOptimist @AidanWalshMUFC Price him and see if he will come. Yall better allow the young man enjoy football and success at Leicester.\n",
      "\n"
     ]
    }
   ],
   "source": [
    "tweet_stream.filter(track=['football'])  #, is_async=True) "
   ]
  },
  {
   "cell_type": "markdown",
   "metadata": {},
   "source": [
    "<hr style=\"height:2px; border:none; color:#000; background-color:#000;\">"
   ]
  },
  {
   "cell_type": "markdown",
   "metadata": {},
   "source": [
    "### **Lecture note: Run remaining cells now so we don't have to wait for streamed tweets later.**\n",
    "\n",
    "### Asynchronous vs. Synchronous Streams\n",
    "* **`is_async=True`** &mdash; would initiate an **asynchronous tweet stream** \n",
    "* Without `is_async=True`, the stream is **synchronous** and the next In [] prompt appears **after the stream terminates**    \n",
    "* in Jupyter, we used a **synchronous stream** ensure that all tweets display\n",
    "* In IPython, can terminate an asynchronous tweet stream early:  \n",
    ">`tweet_stream.running=False`    \n"
   ]
  },
  {
   "cell_type": "markdown",
   "metadata": {},
   "source": [
    "<hr style=\"height:2px; border:none; color:#000; background-color:#000;\">"
   ]
  },
  {
   "cell_type": "markdown",
   "metadata": {},
   "source": [
    "# 12.14 Tweet Sentiment Analysis \n",
    "* Political researchers might use to understand **how people are likely to vote**\n",
    "* Companies might use to see what people are saying about **their products** and **competitors’ products**\n",
    "* Script **`sentimentlistener.py`** checks **sentiment** on a specified topic for a specified number of tweets\n",
    "* The script in this example is substantially the same as the previous example, but uses TextBlob to check the sentiment of each tweet as we did in the NLP presentation"
   ]
  },
  {
   "cell_type": "code",
   "execution_count": 34,
   "metadata": {},
   "outputs": [
    {
     "name": "stdout",
     "output_type": "stream",
     "text": [
      "  rikesh_kc: @Nishan_LFC @BrentfordFC The best game in football is championship Play-offs True emotions and players fighting for life and prize money is bigger than champions league final\n",
      "\n",
      "  RifleEton: @TheScotsman @johnmclellan Tell me you know nothing about football and anti catholic hatred without telling me anything truthful about football and anti catholic hatred\n",
      "\n",
      "+ McMeowDynastyff: @DFWB2012 @YZR_Fantasy @tyfmnfl @DynastyNerds Yea I can tell you don't watch football lol\n",
      "\n",
      "- WillyLumpLump22: @OOOthree @ESPNFC European Football/NBA fans are the most vile disgusting fans on internet platforms. Extremely angry and immature.\n",
      "\n",
      "  BTFC: HALF TIME Billericay Town 1-3 Leiston An entertaining half of football sees us trail at the break. Listen live via @btfcliveradio 📻\n",
      "\n",
      "+ zamagembe: @babalwa_mvuleni @Masandawana Indeed.. dts what football is all about. We win some n we lose some.❤❤\n",
      "\n",
      "+ tmakhubu: @Masandawana Our build up of play is too slow to beat formidable teams, maybe in the DSTV premiership its best suited. For our us to compete and thrive at this football stage we need some sense of urgency in our attach.\n",
      "\n",
      "  clarencesdb: @MohauSam Football will kill you\n",
      "\n",
      "+ ChrisBramms: @AlanBiggs1 @talkSPORT Just glad Bournemouth didn't go up, nothing against them but I think I'd have given up football if last season's bottom 3 in the Premier all went back up again straight away. Championship's great selling point is its unpredictability and we can't lose that.\n",
      "\n",
      "  Koollegah: @Handstand__ @cfcayoubo @ManMilk2 You keep asking as if being a football fan is like being a terrorist\n",
      "\n",
      "Tweet sentiment for \"football\"\n",
      "Positive: 4\n",
      " Neutral: 5\n",
      "Negative: 1\n"
     ]
    }
   ],
   "source": [
    "run sentimentlistener.py football 10"
   ]
  },
  {
   "cell_type": "markdown",
   "metadata": {},
   "source": [
    "<hr style=\"height:2px; border:none; color:#000; background-color:#000;\">"
   ]
  },
  {
   "cell_type": "markdown",
   "metadata": {},
   "source": [
    "# 12.15 Geocoding and Mapping\n",
    "* Collect **streaming tweets**, then **plot** their **locations** on an **interactive map**\n",
    "* **Twitter disables precise location info (latitude/longitude) by default** (users must opt in to allowing Twitter to track locations) \n",
    "* Large percentage include the user’s home location information\n",
    "    * Sometimes invalid or fictitious \n",
    "* **Map markers** will show `location` from each tweet’s `User` object"
   ]
  },
  {
   "cell_type": "markdown",
   "metadata": {},
   "source": [
    "<hr style=\"height:2px; border:none; color:#000; background-color:#000;\">"
   ]
  },
  {
   "cell_type": "markdown",
   "metadata": {},
   "source": [
    "### [**geopy** library](https://github.com/geopy/geopy)\n",
    "* **Geocoding**&mdash;translate locations into **latitude** and **longitude**\n",
    "* **geopy** supports dozens of **geocoding web services**, many with **free or lite tiers**\n",
    "* We’ll use **OpenMapQuest geocoding service** "
   ]
  },
  {
   "cell_type": "markdown",
   "metadata": {},
   "source": [
    "<hr style=\"height:2px; border:none; color:#000; background-color:#000;\">"
   ]
  },
  {
   "cell_type": "markdown",
   "metadata": {},
   "source": [
    "### OpenMapQuest Geocoding API (1 of 2)\n",
    "* Convert locations, such as **Boston, MA** into their **latitudes** and **longitudes**, such as **42.3602534** and **-71.0582912**, for plotting on maps\n",
    "* Currently allows **15,000 transactions per month** on their free tier\n",
    "* [Sign up](https://developer.mapquest.com/)\n",
    "* For a presentation of **signing up** and **getting your credentials**, see my [**Python Fundamentals LiveLessons video**](https://learning.oreilly.com/videos/python-fundamentals/9780135917411/9780135917411-PFLL_Lesson12_24) or the [**beginning of Section 12.15 in Python for Programmers**](https://learning.oreilly.com/library/view/python-for-programmers/9780135231364/ch12.xhtml#ch12lev1sec15)"
   ]
  },
  {
   "cell_type": "markdown",
   "metadata": {},
   "source": [
    "<hr style=\"height:2px; border:none; color:#000; background-color:#000;\">"
   ]
  },
  {
   "cell_type": "markdown",
   "metadata": {},
   "source": [
    "### [**folium library**](https://github.com/python-visualization/folium) and Leaflet.js JavaScript Mapping Library\n",
    "* Uses **Leaflet.js JavaScript mapping library** to display maps in a web page \n",
    "* Folium can output **HTML documents** for viewing in a **web browser**\n",
    "* `pip install folium`"
   ]
  },
  {
   "cell_type": "markdown",
   "metadata": {},
   "source": [
    "<hr style=\"height:2px; border:none; color:#000; background-color:#000;\">"
   ]
  },
  {
   "cell_type": "markdown",
   "metadata": {},
   "source": [
    "### Maps from OpenStreetMap.org\n",
    "By default, **Leaflet.js** uses **open source maps** from **`OpenStreetMap.org`**\n",
    "* To use these maps, **they require the following copyright notice**:\n",
    "\n",
    "> `Map data © OpenStreetMap contributors`\n",
    "\n",
    "* They also say: **You must make it clear that the data is available under the Open Database License. This can be achieved by providing a “License” or “Terms” link which links to https://www.openstreetmap.org/copyright or https://www.opendatacommons.org/licenses/odbl/index.html**"
   ]
  },
  {
   "cell_type": "markdown",
   "metadata": {},
   "source": [
    "<hr style=\"height:2px; border:none; color:#000; background-color:#000;\">"
   ]
  },
  {
   "cell_type": "markdown",
   "metadata": {},
   "source": [
    "### Collections Required By `LocationListener`\n",
    "* Requires two collections\n",
    "    * A **list (`tweets`)** to store the tweets we collect \n",
    "    * A **dictionary (`counts`)** to track the **total number of tweets** we collect and the **number that have location data**"
   ]
  },
  {
   "cell_type": "code",
   "execution_count": 35,
   "metadata": {},
   "outputs": [],
   "source": [
    "tweets = [] "
   ]
  },
  {
   "cell_type": "code",
   "execution_count": 36,
   "metadata": {},
   "outputs": [],
   "source": [
    "counts = {'total_tweets': 0, 'locations': 0}"
   ]
  },
  {
   "cell_type": "markdown",
   "metadata": {},
   "source": [
    "<hr style=\"height:2px; border:none; color:#000; background-color:#000;\">"
   ]
  },
  {
   "cell_type": "markdown",
   "metadata": {},
   "source": [
    "### Creating the LocationListener "
   ]
  },
  {
   "cell_type": "code",
   "execution_count": 37,
   "metadata": {},
   "outputs": [],
   "source": [
    "from locationlistener import LocationListener"
   ]
  },
  {
   "cell_type": "code",
   "execution_count": 38,
   "metadata": {},
   "outputs": [],
   "source": [
    "location_listener = LocationListener(api, counts_dict=counts, \n",
    "    tweets_list=tweets, topic='football', limit=50)"
   ]
  },
  {
   "cell_type": "markdown",
   "metadata": {},
   "source": [
    "* **`LocationListener`** uses our **utility function `get_tweet_content`** to place each tweets **screen name**, **tweet text** and **location** into a **dictionary**"
   ]
  },
  {
   "cell_type": "markdown",
   "metadata": {},
   "source": [
    "<hr style=\"height:2px; border:none; color:#000; background-color:#000;\">"
   ]
  },
  {
   "cell_type": "markdown",
   "metadata": {},
   "source": [
    "### Configure and Start the `Stream` of Tweets"
   ]
  },
  {
   "cell_type": "code",
   "execution_count": 39,
   "metadata": {},
   "outputs": [],
   "source": [
    "import tweepy"
   ]
  },
  {
   "cell_type": "code",
   "execution_count": 40,
   "metadata": {},
   "outputs": [],
   "source": [
    "stream = tweepy.Stream(auth=api.auth, listener=location_listener)"
   ]
  },
  {
   "cell_type": "code",
   "execution_count": 41,
   "metadata": {},
   "outputs": [
    {
     "name": "stdout",
     "output_type": "stream",
     "text": [
      "jmarti201: OFFICIAL GLASGOW RANGERS Away Shirt 2015/16 32Red (SIZE UK XL)\n",
      "\n",
      "#Rangers #RangersFC #Football #RFC #ebay #ebayfinds #ebaydeals #ebayshopping #ebayuk\n",
      "\n",
      "https://t.co/E7JwBzw4Aq\n",
      "\n"
     ]
    }
   ],
   "source": [
    "stream.filter(track=['football'], languages=['en'], is_async=False)"
   ]
  },
  {
   "cell_type": "markdown",
   "metadata": {},
   "source": [
    "<hr style=\"height:2px; border:none; color:#000; background-color:#000;\">"
   ]
  },
  {
   "cell_type": "markdown",
   "metadata": {},
   "source": [
    "### Displaying the Location Statistics "
   ]
  },
  {
   "cell_type": "code",
   "execution_count": 42,
   "metadata": {},
   "outputs": [
    {
     "data": {
      "text/plain": [
       "70"
      ]
     },
     "execution_count": 42,
     "metadata": {},
     "output_type": "execute_result"
    }
   ],
   "source": [
    "counts['total_tweets']"
   ]
  },
  {
   "cell_type": "code",
   "execution_count": 43,
   "metadata": {},
   "outputs": [
    {
     "data": {
      "text/plain": [
       "50"
      ]
     },
     "execution_count": 43,
     "metadata": {},
     "output_type": "execute_result"
    }
   ],
   "source": [
    "counts['locations']"
   ]
  },
  {
   "cell_type": "code",
   "execution_count": 44,
   "metadata": {},
   "outputs": [
    {
     "name": "stdout",
     "output_type": "stream",
     "text": [
      "71.4%\n"
     ]
    }
   ],
   "source": [
    "print(f'{counts[\"locations\"] / counts[\"total_tweets\"]:.1%}')"
   ]
  },
  {
   "cell_type": "markdown",
   "metadata": {},
   "source": [
    "<hr style=\"height:2px; border:none; color:#000; background-color:#000;\">"
   ]
  },
  {
   "cell_type": "markdown",
   "metadata": {},
   "source": [
    "### Geocoding the Locations with Our `get_geocodes` Utility Function \n",
    "* **OpenMapQuest** geocoding service **times out** when it **cannot handle your request immediately**\n",
    "* If so, **`get_geocodes`** **notifies** you, **waits**, then **retries** the request"
   ]
  },
  {
   "cell_type": "code",
   "execution_count": 45,
   "metadata": {},
   "outputs": [],
   "source": [
    "from tweetutilities import get_geocodes"
   ]
  },
  {
   "cell_type": "code",
   "execution_count": 46,
   "metadata": {},
   "outputs": [
    {
     "name": "stdout",
     "output_type": "stream",
     "text": [
      "Getting coordinates for tweet locations...\n",
      "Done geocoding\n"
     ]
    }
   ],
   "source": [
    "bad_locations = get_geocodes(tweets)"
   ]
  },
  {
   "cell_type": "markdown",
   "metadata": {},
   "source": [
    "<hr style=\"height:2px; border:none; color:#000; background-color:#000;\">"
   ]
  },
  {
   "cell_type": "markdown",
   "metadata": {},
   "source": [
    "### Displaying the Bad Location Statistics"
   ]
  },
  {
   "cell_type": "code",
   "execution_count": 47,
   "metadata": {},
   "outputs": [
    {
     "data": {
      "text/plain": [
       "10"
      ]
     },
     "execution_count": 47,
     "metadata": {},
     "output_type": "execute_result"
    }
   ],
   "source": [
    "bad_locations"
   ]
  },
  {
   "cell_type": "code",
   "execution_count": 48,
   "metadata": {},
   "outputs": [
    {
     "name": "stdout",
     "output_type": "stream",
     "text": [
      "20.0%\n"
     ]
    }
   ],
   "source": [
    "print(f'{bad_locations / counts[\"locations\"]:.1%}')"
   ]
  },
  {
   "cell_type": "markdown",
   "metadata": {},
   "source": [
    "<hr style=\"height:2px; border:none; color:#000; background-color:#000;\">"
   ]
  },
  {
   "cell_type": "markdown",
   "metadata": {},
   "source": [
    "### Cleaning the Data with a pandas `DataFrame` Before Displaying the Data on a Map\n",
    "* `DataFrame` will contain **`NaN`** for the **`latitude`** and **`longitude`** of any tweet that **did not have a valid location**\n",
    "* Remove any such via `DataFrame`’s **`dropna` method** "
   ]
  },
  {
   "cell_type": "code",
   "execution_count": 49,
   "metadata": {},
   "outputs": [],
   "source": [
    "import pandas as pd"
   ]
  },
  {
   "cell_type": "code",
   "execution_count": 50,
   "metadata": {},
   "outputs": [],
   "source": [
    "df = pd.DataFrame(tweets)"
   ]
  },
  {
   "cell_type": "code",
   "execution_count": 51,
   "metadata": {},
   "outputs": [
    {
     "data": {
      "text/html": [
       "<div>\n",
       "<style scoped>\n",
       "    .dataframe tbody tr th:only-of-type {\n",
       "        vertical-align: middle;\n",
       "    }\n",
       "\n",
       "    .dataframe tbody tr th {\n",
       "        vertical-align: top;\n",
       "    }\n",
       "\n",
       "    .dataframe thead th {\n",
       "        text-align: right;\n",
       "    }\n",
       "</style>\n",
       "<table border=\"1\" class=\"dataframe\">\n",
       "  <thead>\n",
       "    <tr style=\"text-align: right;\">\n",
       "      <th></th>\n",
       "      <th>screen_name</th>\n",
       "      <th>text</th>\n",
       "      <th>location</th>\n",
       "      <th>latitude</th>\n",
       "      <th>longitude</th>\n",
       "    </tr>\n",
       "  </thead>\n",
       "  <tbody>\n",
       "    <tr>\n",
       "      <th>0</th>\n",
       "      <td>SarahB1874</td>\n",
       "      <td>Always go with your gut when choosing your foo...</td>\n",
       "      <td>Leven, Scotland</td>\n",
       "      <td>56.195435</td>\n",
       "      <td>-2.996920</td>\n",
       "    </tr>\n",
       "    <tr>\n",
       "      <th>1</th>\n",
       "      <td>easeallwell</td>\n",
       "      <td>Because I don’t like football at all. Honestly...</td>\n",
       "      <td>🏳️‍🌈 미풍양속을 따르는 트위터 룰루</td>\n",
       "      <td>NaN</td>\n",
       "      <td>NaN</td>\n",
       "    </tr>\n",
       "    <tr>\n",
       "      <th>2</th>\n",
       "      <td>RileyBenzenberg</td>\n",
       "      <td>Field Training🔥🔥🏈 @Rivals @CamNewton7v7 @goget...</td>\n",
       "      <td>Deerfield Beach, FL</td>\n",
       "      <td>26.318342</td>\n",
       "      <td>-80.099631</td>\n",
       "    </tr>\n",
       "    <tr>\n",
       "      <th>3</th>\n",
       "      <td>dreamuzzie</td>\n",
       "      <td>WHY THE FUCK THEYRE CALLED FOOTBALL????</td>\n",
       "      <td>Xe Faen They</td>\n",
       "      <td>NaN</td>\n",
       "      <td>NaN</td>\n",
       "    </tr>\n",
       "    <tr>\n",
       "      <th>4</th>\n",
       "      <td>football_majin</td>\n",
       "      <td>I'm football fetish and football gear fetish.\\...</td>\n",
       "      <td>saitama japan</td>\n",
       "      <td>35.975417</td>\n",
       "      <td>139.416011</td>\n",
       "    </tr>\n",
       "    <tr>\n",
       "      <th>5</th>\n",
       "      <td>eiffel_71</td>\n",
       "      <td>@daisy_wildsmith @Hanniba29757400 @SkySports E...</td>\n",
       "      <td>Gosport, England</td>\n",
       "      <td>50.795207</td>\n",
       "      <td>-1.121085</td>\n",
       "    </tr>\n",
       "    <tr>\n",
       "      <th>6</th>\n",
       "      <td>luxensy</td>\n",
       "      <td>@dreamuzzie football....american football http...</td>\n",
       "      <td>she they</td>\n",
       "      <td>46.737862</td>\n",
       "      <td>-60.919660</td>\n",
       "    </tr>\n",
       "    <tr>\n",
       "      <th>7</th>\n",
       "      <td>FCBMarkinhoo</td>\n",
       "      <td>@IstrianJak @CroatianScout2 Sorry daddy, but f...</td>\n",
       "      <td>🇸🇪</td>\n",
       "      <td>NaN</td>\n",
       "      <td>NaN</td>\n",
       "    </tr>\n",
       "    <tr>\n",
       "      <th>8</th>\n",
       "      <td>mrjamesob</td>\n",
       "      <td>@eurostep48454 @OborneTweets Against Theresa M...</td>\n",
       "      <td>London</td>\n",
       "      <td>51.507322</td>\n",
       "      <td>-0.127647</td>\n",
       "    </tr>\n",
       "    <tr>\n",
       "      <th>9</th>\n",
       "      <td>undilutedmedia1</td>\n",
       "      <td>Bayern Munich pay tribute to their departing l...</td>\n",
       "      <td>London, England</td>\n",
       "      <td>51.507322</td>\n",
       "      <td>-0.127647</td>\n",
       "    </tr>\n",
       "    <tr>\n",
       "      <th>10</th>\n",
       "      <td>YoudyKTM</td>\n",
       "      <td>@flakingplaster @__Donx @Independent There’s n...</td>\n",
       "      <td>United Kingdom</td>\n",
       "      <td>25.223228</td>\n",
       "      <td>55.159493</td>\n",
       "    </tr>\n",
       "    <tr>\n",
       "      <th>11</th>\n",
       "      <td>DundeeWestFC</td>\n",
       "      <td>Another fantastic morning for our fun 4s/super...</td>\n",
       "      <td>Charlotte St, Dundee DD3 8PF</td>\n",
       "      <td>56.485087</td>\n",
       "      <td>-2.995659</td>\n",
       "    </tr>\n",
       "    <tr>\n",
       "      <th>12</th>\n",
       "      <td>gotdamn_ace</td>\n",
       "      <td>The fact that Africa got a pro bball league ju...</td>\n",
       "      <td>BK, NY</td>\n",
       "      <td>40.650104</td>\n",
       "      <td>-73.949582</td>\n",
       "    </tr>\n",
       "    <tr>\n",
       "      <th>13</th>\n",
       "      <td>GoodCopBabcock</td>\n",
       "      <td>@MrSusannaHoffs Couldn't watch either of these...</td>\n",
       "      <td>Glasgow, Scotland</td>\n",
       "      <td>55.856656</td>\n",
       "      <td>-4.243582</td>\n",
       "    </tr>\n",
       "    <tr>\n",
       "      <th>14</th>\n",
       "      <td>thefield_in</td>\n",
       "      <td>#Ligue1 #FrenchFootball \\n\\nLille look to deth...</td>\n",
       "      <td>Where sport happens.</td>\n",
       "      <td>NaN</td>\n",
       "      <td>NaN</td>\n",
       "    </tr>\n",
       "    <tr>\n",
       "      <th>15</th>\n",
       "      <td>S_iele</td>\n",
       "      <td>Currently at the local and the screens are sho...</td>\n",
       "      <td>Up</td>\n",
       "      <td>27.130334</td>\n",
       "      <td>80.859666</td>\n",
       "    </tr>\n",
       "    <tr>\n",
       "      <th>16</th>\n",
       "      <td>BonesTheHaunted</td>\n",
       "      <td>Congratulations to Captain Fantastic. The grea...</td>\n",
       "      <td>Midwest, USA</td>\n",
       "      <td>43.411391</td>\n",
       "      <td>-106.280075</td>\n",
       "    </tr>\n",
       "    <tr>\n",
       "      <th>17</th>\n",
       "      <td>Handstand__</td>\n",
       "      <td>@Koollegah @cfcayoubo @ManMilk2 What we're tal...</td>\n",
       "      <td>Melbourne, Victoria</td>\n",
       "      <td>-37.814218</td>\n",
       "      <td>144.963161</td>\n",
       "    </tr>\n",
       "    <tr>\n",
       "      <th>18</th>\n",
       "      <td>pharrellelogram</td>\n",
       "      <td>@kediePakose @TheRealPitso Yep! Its frustratin...</td>\n",
       "      <td>gqeberha , southy 🇿🇦</td>\n",
       "      <td>NaN</td>\n",
       "      <td>NaN</td>\n",
       "    </tr>\n",
       "    <tr>\n",
       "      <th>19</th>\n",
       "      <td>LiveBettingTip2</td>\n",
       "      <td>I ll try some picks for the night.\\n\\nGood luc...</td>\n",
       "      <td>Greece</td>\n",
       "      <td>38.995368</td>\n",
       "      <td>21.987713</td>\n",
       "    </tr>\n",
       "    <tr>\n",
       "      <th>20</th>\n",
       "      <td>ugIyguy</td>\n",
       "      <td>pieface is literally bigger than football you ...</td>\n",
       "      <td>he/him pan</td>\n",
       "      <td>20.183710</td>\n",
       "      <td>104.255640</td>\n",
       "    </tr>\n",
       "    <tr>\n",
       "      <th>21</th>\n",
       "      <td>TheRealTakuza</td>\n",
       "      <td>@Shimaninkillale Pitso is leaving behind emoti...</td>\n",
       "      <td>World wide</td>\n",
       "      <td>22.282303</td>\n",
       "      <td>114.157861</td>\n",
       "    </tr>\n",
       "    <tr>\n",
       "      <th>22</th>\n",
       "      <td>charliegillies0</td>\n",
       "      <td>The Rugby League HQ: The Rugby Football League...</td>\n",
       "      <td>Yorkshire and The Humber</td>\n",
       "      <td>53.931899</td>\n",
       "      <td>-1.166472</td>\n",
       "    </tr>\n",
       "    <tr>\n",
       "      <th>23</th>\n",
       "      <td>TimBonino</td>\n",
       "      <td>@hungryhipp0e @ziptrip31 @AnonAnon98765 @Breit...</td>\n",
       "      <td>Santa Clarita, CA</td>\n",
       "      <td>34.391664</td>\n",
       "      <td>-118.542586</td>\n",
       "    </tr>\n",
       "    <tr>\n",
       "      <th>24</th>\n",
       "      <td>leemiknows</td>\n",
       "      <td>I'm watching football, I should be preoccupied...</td>\n",
       "      <td>she/they ⋆ cabin #7</td>\n",
       "      <td>NaN</td>\n",
       "      <td>NaN</td>\n",
       "    </tr>\n",
       "    <tr>\n",
       "      <th>25</th>\n",
       "      <td>EvaCaletkova</td>\n",
       "      <td>Imagine being Marcus Rashford. You’re just goi...</td>\n",
       "      <td>London, England</td>\n",
       "      <td>51.507322</td>\n",
       "      <td>-0.127647</td>\n",
       "    </tr>\n",
       "    <tr>\n",
       "      <th>26</th>\n",
       "      <td>lesbiansforgnf</td>\n",
       "      <td>@iHugHyeju He's reffering to football stans</td>\n",
       "      <td>Regret</td>\n",
       "      <td>49.147972</td>\n",
       "      <td>5.342812</td>\n",
       "    </tr>\n",
       "    <tr>\n",
       "      <th>27</th>\n",
       "      <td>Greavesie86</td>\n",
       "      <td>@FootyRustling @PeterCrouchPod we need a late ...</td>\n",
       "      <td>Newcastle Upon Tyne</td>\n",
       "      <td>54.977092</td>\n",
       "      <td>-1.614206</td>\n",
       "    </tr>\n",
       "    <tr>\n",
       "      <th>28</th>\n",
       "      <td>SaIibinho</td>\n",
       "      <td>@afcpintcheur Talent wise yes but the problem ...</td>\n",
       "      <td>Constant Pain</td>\n",
       "      <td>41.602983</td>\n",
       "      <td>2.291126</td>\n",
       "    </tr>\n",
       "    <tr>\n",
       "      <th>29</th>\n",
       "      <td>Flannyballs</td>\n",
       "      <td>@1Walid1 @arse2mouse @paolinho14 Well this is ...</td>\n",
       "      <td>The Midgar Slums</td>\n",
       "      <td>NaN</td>\n",
       "      <td>NaN</td>\n",
       "    </tr>\n",
       "    <tr>\n",
       "      <th>30</th>\n",
       "      <td>shodamolaJR</td>\n",
       "      <td>I want to play flag football but to travel to ...</td>\n",
       "      <td>Georgia, USA</td>\n",
       "      <td>32.329381</td>\n",
       "      <td>-83.113737</td>\n",
       "    </tr>\n",
       "    <tr>\n",
       "      <th>31</th>\n",
       "      <td>Prodigalangelo</td>\n",
       "      <td>@NkwontahInnocen @_SirBash @UtdOptimist @Aidan...</td>\n",
       "      <td>World wide</td>\n",
       "      <td>22.282303</td>\n",
       "      <td>114.157861</td>\n",
       "    </tr>\n",
       "    <tr>\n",
       "      <th>32</th>\n",
       "      <td>Savage_T_Raw</td>\n",
       "      <td>@kusssman No footballer plays football for fre...</td>\n",
       "      <td>Nigeria</td>\n",
       "      <td>9.600036</td>\n",
       "      <td>7.999972</td>\n",
       "    </tr>\n",
       "    <tr>\n",
       "      <th>33</th>\n",
       "      <td>GE_1970</td>\n",
       "      <td>Football fans in the @Sunderlanduk city and pu...</td>\n",
       "      <td>North East, England</td>\n",
       "      <td>52.795479</td>\n",
       "      <td>-0.540240</td>\n",
       "    </tr>\n",
       "    <tr>\n",
       "      <th>34</th>\n",
       "      <td>Anatadaephobia</td>\n",
       "      <td>@IainColledge @stevedeg1 @wobski421 @NiekBuurm...</td>\n",
       "      <td>Right. Behind. You.</td>\n",
       "      <td>NaN</td>\n",
       "      <td>NaN</td>\n",
       "    </tr>\n",
       "    <tr>\n",
       "      <th>35</th>\n",
       "      <td>moshirisboys</td>\n",
       "      <td>@Alakshendra @CanaryTourist @SkySportsNews Oh ...</td>\n",
       "      <td>Banks of the royal blue mersey</td>\n",
       "      <td>NaN</td>\n",
       "      <td>NaN</td>\n",
       "    </tr>\n",
       "    <tr>\n",
       "      <th>36</th>\n",
       "      <td>SaIibinho</td>\n",
       "      <td>@afcpintcheur The football legend thing</td>\n",
       "      <td>Constant Pain</td>\n",
       "      <td>41.602983</td>\n",
       "      <td>2.291126</td>\n",
       "    </tr>\n",
       "    <tr>\n",
       "      <th>37</th>\n",
       "      <td>ConsrvativeVato</td>\n",
       "      <td>Not sure but I may actually watch some footbal...</td>\n",
       "      <td>San Antonio, TX</td>\n",
       "      <td>29.424600</td>\n",
       "      <td>-98.495141</td>\n",
       "    </tr>\n",
       "    <tr>\n",
       "      <th>38</th>\n",
       "      <td>SVC_Football</td>\n",
       "      <td>Join us in celebrating our Class of 2021 Bearc...</td>\n",
       "      <td>Latrobe, PA</td>\n",
       "      <td>40.317287</td>\n",
       "      <td>-79.384030</td>\n",
       "    </tr>\n",
       "    <tr>\n",
       "      <th>39</th>\n",
       "      <td>BBCSport</td>\n",
       "      <td>Barcelona are yet to begin contract renewal ne...</td>\n",
       "      <td>MediaCityUK, Salford</td>\n",
       "      <td>53.471320</td>\n",
       "      <td>-2.299083</td>\n",
       "    </tr>\n",
       "    <tr>\n",
       "      <th>40</th>\n",
       "      <td>DiscountFK</td>\n",
       "      <td>£120 for 12 x Nike Park Team Training Football...</td>\n",
       "      <td>UK</td>\n",
       "      <td>54.702354</td>\n",
       "      <td>-3.276575</td>\n",
       "    </tr>\n",
       "    <tr>\n",
       "      <th>41</th>\n",
       "      <td>NigeriaInfoPH</td>\n",
       "      <td>#FootballFrenzyPH: The final showdown of the E...</td>\n",
       "      <td>Port Harcourt</td>\n",
       "      <td>4.767658</td>\n",
       "      <td>7.018853</td>\n",
       "    </tr>\n",
       "    <tr>\n",
       "      <th>42</th>\n",
       "      <td>JboyAllDayBoi</td>\n",
       "      <td>@RedditBills @DM3_BIB You call it soft I call ...</td>\n",
       "      <td>Florida, USA</td>\n",
       "      <td>27.756767</td>\n",
       "      <td>-81.463983</td>\n",
       "    </tr>\n",
       "    <tr>\n",
       "      <th>43</th>\n",
       "      <td>YidVids</td>\n",
       "      <td>Jose was a shit managerial appointment under t...</td>\n",
       "      <td>Bilbao, Spain</td>\n",
       "      <td>43.262949</td>\n",
       "      <td>-2.934946</td>\n",
       "    </tr>\n",
       "    <tr>\n",
       "      <th>44</th>\n",
       "      <td>jaziz1989</td>\n",
       "      <td>@MelissaReddy_ Nd ppl beleived when FA said th...</td>\n",
       "      <td>India</td>\n",
       "      <td>22.351115</td>\n",
       "      <td>78.667743</td>\n",
       "    </tr>\n",
       "    <tr>\n",
       "      <th>45</th>\n",
       "      <td>michaelwhite</td>\n",
       "      <td>You are free to be angry about BBC, yet not of...</td>\n",
       "      <td>UK</td>\n",
       "      <td>54.702354</td>\n",
       "      <td>-3.276575</td>\n",
       "    </tr>\n",
       "    <tr>\n",
       "      <th>46</th>\n",
       "      <td>Jordan4Cigars</td>\n",
       "      <td>Great cigar for football https://t.co/zniWr2m3Bb</td>\n",
       "      <td>Bristol, England</td>\n",
       "      <td>51.453802</td>\n",
       "      <td>-2.597298</td>\n",
       "    </tr>\n",
       "    <tr>\n",
       "      <th>47</th>\n",
       "      <td>Koollegah</td>\n",
       "      <td>@Handstand__ @cfcayoubo @ManMilk2 Soccer = foo...</td>\n",
       "      <td>Grammatik ist meine Stärke</td>\n",
       "      <td>NaN</td>\n",
       "      <td>NaN</td>\n",
       "    </tr>\n",
       "    <tr>\n",
       "      <th>48</th>\n",
       "      <td>DmannyL</td>\n",
       "      <td>Don't you just love football!</td>\n",
       "      <td>Lagos</td>\n",
       "      <td>20.017111</td>\n",
       "      <td>103.378253</td>\n",
       "    </tr>\n",
       "    <tr>\n",
       "      <th>49</th>\n",
       "      <td>jmarti201</td>\n",
       "      <td>OFFICIAL GLASGOW RANGERS Away Shirt 2015/16 32...</td>\n",
       "      <td>United Kingdom</td>\n",
       "      <td>25.223228</td>\n",
       "      <td>55.159493</td>\n",
       "    </tr>\n",
       "  </tbody>\n",
       "</table>\n",
       "</div>"
      ],
      "text/plain": [
       "        screen_name                                               text  \\\n",
       "0        SarahB1874  Always go with your gut when choosing your foo...   \n",
       "1       easeallwell  Because I don’t like football at all. Honestly...   \n",
       "2   RileyBenzenberg  Field Training🔥🔥🏈 @Rivals @CamNewton7v7 @goget...   \n",
       "3        dreamuzzie            WHY THE FUCK THEYRE CALLED FOOTBALL????   \n",
       "4    football_majin  I'm football fetish and football gear fetish.\\...   \n",
       "5         eiffel_71  @daisy_wildsmith @Hanniba29757400 @SkySports E...   \n",
       "6           luxensy  @dreamuzzie football....american football http...   \n",
       "7      FCBMarkinhoo  @IstrianJak @CroatianScout2 Sorry daddy, but f...   \n",
       "8         mrjamesob  @eurostep48454 @OborneTweets Against Theresa M...   \n",
       "9   undilutedmedia1  Bayern Munich pay tribute to their departing l...   \n",
       "10         YoudyKTM  @flakingplaster @__Donx @Independent There’s n...   \n",
       "11     DundeeWestFC  Another fantastic morning for our fun 4s/super...   \n",
       "12      gotdamn_ace  The fact that Africa got a pro bball league ju...   \n",
       "13   GoodCopBabcock  @MrSusannaHoffs Couldn't watch either of these...   \n",
       "14      thefield_in  #Ligue1 #FrenchFootball \\n\\nLille look to deth...   \n",
       "15           S_iele  Currently at the local and the screens are sho...   \n",
       "16  BonesTheHaunted  Congratulations to Captain Fantastic. The grea...   \n",
       "17      Handstand__  @Koollegah @cfcayoubo @ManMilk2 What we're tal...   \n",
       "18  pharrellelogram  @kediePakose @TheRealPitso Yep! Its frustratin...   \n",
       "19  LiveBettingTip2  I ll try some picks for the night.\\n\\nGood luc...   \n",
       "20          ugIyguy  pieface is literally bigger than football you ...   \n",
       "21    TheRealTakuza  @Shimaninkillale Pitso is leaving behind emoti...   \n",
       "22  charliegillies0  The Rugby League HQ: The Rugby Football League...   \n",
       "23        TimBonino  @hungryhipp0e @ziptrip31 @AnonAnon98765 @Breit...   \n",
       "24       leemiknows  I'm watching football, I should be preoccupied...   \n",
       "25     EvaCaletkova  Imagine being Marcus Rashford. You’re just goi...   \n",
       "26   lesbiansforgnf        @iHugHyeju He's reffering to football stans   \n",
       "27      Greavesie86  @FootyRustling @PeterCrouchPod we need a late ...   \n",
       "28        SaIibinho  @afcpintcheur Talent wise yes but the problem ...   \n",
       "29      Flannyballs  @1Walid1 @arse2mouse @paolinho14 Well this is ...   \n",
       "30      shodamolaJR  I want to play flag football but to travel to ...   \n",
       "31   Prodigalangelo  @NkwontahInnocen @_SirBash @UtdOptimist @Aidan...   \n",
       "32     Savage_T_Raw  @kusssman No footballer plays football for fre...   \n",
       "33          GE_1970  Football fans in the @Sunderlanduk city and pu...   \n",
       "34   Anatadaephobia  @IainColledge @stevedeg1 @wobski421 @NiekBuurm...   \n",
       "35     moshirisboys  @Alakshendra @CanaryTourist @SkySportsNews Oh ...   \n",
       "36        SaIibinho            @afcpintcheur The football legend thing   \n",
       "37  ConsrvativeVato  Not sure but I may actually watch some footbal...   \n",
       "38     SVC_Football  Join us in celebrating our Class of 2021 Bearc...   \n",
       "39         BBCSport  Barcelona are yet to begin contract renewal ne...   \n",
       "40       DiscountFK  £120 for 12 x Nike Park Team Training Football...   \n",
       "41    NigeriaInfoPH  #FootballFrenzyPH: The final showdown of the E...   \n",
       "42    JboyAllDayBoi  @RedditBills @DM3_BIB You call it soft I call ...   \n",
       "43          YidVids  Jose was a shit managerial appointment under t...   \n",
       "44        jaziz1989  @MelissaReddy_ Nd ppl beleived when FA said th...   \n",
       "45     michaelwhite  You are free to be angry about BBC, yet not of...   \n",
       "46    Jordan4Cigars   Great cigar for football https://t.co/zniWr2m3Bb   \n",
       "47        Koollegah  @Handstand__ @cfcayoubo @ManMilk2 Soccer = foo...   \n",
       "48          DmannyL                      Don't you just love football!   \n",
       "49        jmarti201  OFFICIAL GLASGOW RANGERS Away Shirt 2015/16 32...   \n",
       "\n",
       "                          location   latitude   longitude  \n",
       "0                  Leven, Scotland  56.195435   -2.996920  \n",
       "1            🏳️‍🌈 미풍양속을 따르는 트위터 룰루        NaN         NaN  \n",
       "2              Deerfield Beach, FL  26.318342  -80.099631  \n",
       "3                     Xe Faen They        NaN         NaN  \n",
       "4                    saitama japan  35.975417  139.416011  \n",
       "5                 Gosport, England  50.795207   -1.121085  \n",
       "6                        she they   46.737862  -60.919660  \n",
       "7                               🇸🇪        NaN         NaN  \n",
       "8                           London  51.507322   -0.127647  \n",
       "9                  London, England  51.507322   -0.127647  \n",
       "10                  United Kingdom  25.223228   55.159493  \n",
       "11    Charlotte St, Dundee DD3 8PF  56.485087   -2.995659  \n",
       "12                         BK, NY   40.650104  -73.949582  \n",
       "13               Glasgow, Scotland  55.856656   -4.243582  \n",
       "14            Where sport happens.        NaN         NaN  \n",
       "15                              Up  27.130334   80.859666  \n",
       "16                    Midwest, USA  43.411391 -106.280075  \n",
       "17             Melbourne, Victoria -37.814218  144.963161  \n",
       "18            gqeberha , southy 🇿🇦        NaN         NaN  \n",
       "19                          Greece  38.995368   21.987713  \n",
       "20                      he/him pan  20.183710  104.255640  \n",
       "21                      World wide  22.282303  114.157861  \n",
       "22        Yorkshire and The Humber  53.931899   -1.166472  \n",
       "23               Santa Clarita, CA  34.391664 -118.542586  \n",
       "24             she/they ⋆ cabin #7        NaN         NaN  \n",
       "25                 London, England  51.507322   -0.127647  \n",
       "26                          Regret  49.147972    5.342812  \n",
       "27             Newcastle Upon Tyne  54.977092   -1.614206  \n",
       "28                   Constant Pain  41.602983    2.291126  \n",
       "29                The Midgar Slums        NaN         NaN  \n",
       "30                    Georgia, USA  32.329381  -83.113737  \n",
       "31                      World wide  22.282303  114.157861  \n",
       "32                         Nigeria   9.600036    7.999972  \n",
       "33             North East, England  52.795479   -0.540240  \n",
       "34             Right. Behind. You.        NaN         NaN  \n",
       "35  Banks of the royal blue mersey        NaN         NaN  \n",
       "36                   Constant Pain  41.602983    2.291126  \n",
       "37                 San Antonio, TX  29.424600  -98.495141  \n",
       "38                     Latrobe, PA  40.317287  -79.384030  \n",
       "39            MediaCityUK, Salford  53.471320   -2.299083  \n",
       "40                              UK  54.702354   -3.276575  \n",
       "41                   Port Harcourt   4.767658    7.018853  \n",
       "42                    Florida, USA  27.756767  -81.463983  \n",
       "43                   Bilbao, Spain  43.262949   -2.934946  \n",
       "44                           India  22.351115   78.667743  \n",
       "45                              UK  54.702354   -3.276575  \n",
       "46                Bristol, England  51.453802   -2.597298  \n",
       "47      Grammatik ist meine Stärke        NaN         NaN  \n",
       "48                           Lagos  20.017111  103.378253  \n",
       "49                  United Kingdom  25.223228   55.159493  "
      ]
     },
     "execution_count": 51,
     "metadata": {},
     "output_type": "execute_result"
    }
   ],
   "source": [
    "df"
   ]
  },
  {
   "cell_type": "code",
   "execution_count": 52,
   "metadata": {},
   "outputs": [],
   "source": [
    "df = df.dropna()"
   ]
  },
  {
   "cell_type": "code",
   "execution_count": 53,
   "metadata": {},
   "outputs": [
    {
     "data": {
      "text/html": [
       "<div>\n",
       "<style scoped>\n",
       "    .dataframe tbody tr th:only-of-type {\n",
       "        vertical-align: middle;\n",
       "    }\n",
       "\n",
       "    .dataframe tbody tr th {\n",
       "        vertical-align: top;\n",
       "    }\n",
       "\n",
       "    .dataframe thead th {\n",
       "        text-align: right;\n",
       "    }\n",
       "</style>\n",
       "<table border=\"1\" class=\"dataframe\">\n",
       "  <thead>\n",
       "    <tr style=\"text-align: right;\">\n",
       "      <th></th>\n",
       "      <th>screen_name</th>\n",
       "      <th>text</th>\n",
       "      <th>location</th>\n",
       "      <th>latitude</th>\n",
       "      <th>longitude</th>\n",
       "    </tr>\n",
       "  </thead>\n",
       "  <tbody>\n",
       "    <tr>\n",
       "      <th>0</th>\n",
       "      <td>SarahB1874</td>\n",
       "      <td>Always go with your gut when choosing your foo...</td>\n",
       "      <td>Leven, Scotland</td>\n",
       "      <td>56.195435</td>\n",
       "      <td>-2.996920</td>\n",
       "    </tr>\n",
       "    <tr>\n",
       "      <th>2</th>\n",
       "      <td>RileyBenzenberg</td>\n",
       "      <td>Field Training🔥🔥🏈 @Rivals @CamNewton7v7 @goget...</td>\n",
       "      <td>Deerfield Beach, FL</td>\n",
       "      <td>26.318342</td>\n",
       "      <td>-80.099631</td>\n",
       "    </tr>\n",
       "    <tr>\n",
       "      <th>4</th>\n",
       "      <td>football_majin</td>\n",
       "      <td>I'm football fetish and football gear fetish.\\...</td>\n",
       "      <td>saitama japan</td>\n",
       "      <td>35.975417</td>\n",
       "      <td>139.416011</td>\n",
       "    </tr>\n",
       "    <tr>\n",
       "      <th>5</th>\n",
       "      <td>eiffel_71</td>\n",
       "      <td>@daisy_wildsmith @Hanniba29757400 @SkySports E...</td>\n",
       "      <td>Gosport, England</td>\n",
       "      <td>50.795207</td>\n",
       "      <td>-1.121085</td>\n",
       "    </tr>\n",
       "    <tr>\n",
       "      <th>6</th>\n",
       "      <td>luxensy</td>\n",
       "      <td>@dreamuzzie football....american football http...</td>\n",
       "      <td>she they</td>\n",
       "      <td>46.737862</td>\n",
       "      <td>-60.919660</td>\n",
       "    </tr>\n",
       "    <tr>\n",
       "      <th>8</th>\n",
       "      <td>mrjamesob</td>\n",
       "      <td>@eurostep48454 @OborneTweets Against Theresa M...</td>\n",
       "      <td>London</td>\n",
       "      <td>51.507322</td>\n",
       "      <td>-0.127647</td>\n",
       "    </tr>\n",
       "    <tr>\n",
       "      <th>9</th>\n",
       "      <td>undilutedmedia1</td>\n",
       "      <td>Bayern Munich pay tribute to their departing l...</td>\n",
       "      <td>London, England</td>\n",
       "      <td>51.507322</td>\n",
       "      <td>-0.127647</td>\n",
       "    </tr>\n",
       "    <tr>\n",
       "      <th>10</th>\n",
       "      <td>YoudyKTM</td>\n",
       "      <td>@flakingplaster @__Donx @Independent There’s n...</td>\n",
       "      <td>United Kingdom</td>\n",
       "      <td>25.223228</td>\n",
       "      <td>55.159493</td>\n",
       "    </tr>\n",
       "    <tr>\n",
       "      <th>11</th>\n",
       "      <td>DundeeWestFC</td>\n",
       "      <td>Another fantastic morning for our fun 4s/super...</td>\n",
       "      <td>Charlotte St, Dundee DD3 8PF</td>\n",
       "      <td>56.485087</td>\n",
       "      <td>-2.995659</td>\n",
       "    </tr>\n",
       "    <tr>\n",
       "      <th>12</th>\n",
       "      <td>gotdamn_ace</td>\n",
       "      <td>The fact that Africa got a pro bball league ju...</td>\n",
       "      <td>BK, NY</td>\n",
       "      <td>40.650104</td>\n",
       "      <td>-73.949582</td>\n",
       "    </tr>\n",
       "    <tr>\n",
       "      <th>13</th>\n",
       "      <td>GoodCopBabcock</td>\n",
       "      <td>@MrSusannaHoffs Couldn't watch either of these...</td>\n",
       "      <td>Glasgow, Scotland</td>\n",
       "      <td>55.856656</td>\n",
       "      <td>-4.243582</td>\n",
       "    </tr>\n",
       "    <tr>\n",
       "      <th>15</th>\n",
       "      <td>S_iele</td>\n",
       "      <td>Currently at the local and the screens are sho...</td>\n",
       "      <td>Up</td>\n",
       "      <td>27.130334</td>\n",
       "      <td>80.859666</td>\n",
       "    </tr>\n",
       "    <tr>\n",
       "      <th>16</th>\n",
       "      <td>BonesTheHaunted</td>\n",
       "      <td>Congratulations to Captain Fantastic. The grea...</td>\n",
       "      <td>Midwest, USA</td>\n",
       "      <td>43.411391</td>\n",
       "      <td>-106.280075</td>\n",
       "    </tr>\n",
       "    <tr>\n",
       "      <th>17</th>\n",
       "      <td>Handstand__</td>\n",
       "      <td>@Koollegah @cfcayoubo @ManMilk2 What we're tal...</td>\n",
       "      <td>Melbourne, Victoria</td>\n",
       "      <td>-37.814218</td>\n",
       "      <td>144.963161</td>\n",
       "    </tr>\n",
       "    <tr>\n",
       "      <th>19</th>\n",
       "      <td>LiveBettingTip2</td>\n",
       "      <td>I ll try some picks for the night.\\n\\nGood luc...</td>\n",
       "      <td>Greece</td>\n",
       "      <td>38.995368</td>\n",
       "      <td>21.987713</td>\n",
       "    </tr>\n",
       "    <tr>\n",
       "      <th>20</th>\n",
       "      <td>ugIyguy</td>\n",
       "      <td>pieface is literally bigger than football you ...</td>\n",
       "      <td>he/him pan</td>\n",
       "      <td>20.183710</td>\n",
       "      <td>104.255640</td>\n",
       "    </tr>\n",
       "    <tr>\n",
       "      <th>21</th>\n",
       "      <td>TheRealTakuza</td>\n",
       "      <td>@Shimaninkillale Pitso is leaving behind emoti...</td>\n",
       "      <td>World wide</td>\n",
       "      <td>22.282303</td>\n",
       "      <td>114.157861</td>\n",
       "    </tr>\n",
       "    <tr>\n",
       "      <th>22</th>\n",
       "      <td>charliegillies0</td>\n",
       "      <td>The Rugby League HQ: The Rugby Football League...</td>\n",
       "      <td>Yorkshire and The Humber</td>\n",
       "      <td>53.931899</td>\n",
       "      <td>-1.166472</td>\n",
       "    </tr>\n",
       "    <tr>\n",
       "      <th>23</th>\n",
       "      <td>TimBonino</td>\n",
       "      <td>@hungryhipp0e @ziptrip31 @AnonAnon98765 @Breit...</td>\n",
       "      <td>Santa Clarita, CA</td>\n",
       "      <td>34.391664</td>\n",
       "      <td>-118.542586</td>\n",
       "    </tr>\n",
       "    <tr>\n",
       "      <th>25</th>\n",
       "      <td>EvaCaletkova</td>\n",
       "      <td>Imagine being Marcus Rashford. You’re just goi...</td>\n",
       "      <td>London, England</td>\n",
       "      <td>51.507322</td>\n",
       "      <td>-0.127647</td>\n",
       "    </tr>\n",
       "    <tr>\n",
       "      <th>26</th>\n",
       "      <td>lesbiansforgnf</td>\n",
       "      <td>@iHugHyeju He's reffering to football stans</td>\n",
       "      <td>Regret</td>\n",
       "      <td>49.147972</td>\n",
       "      <td>5.342812</td>\n",
       "    </tr>\n",
       "    <tr>\n",
       "      <th>27</th>\n",
       "      <td>Greavesie86</td>\n",
       "      <td>@FootyRustling @PeterCrouchPod we need a late ...</td>\n",
       "      <td>Newcastle Upon Tyne</td>\n",
       "      <td>54.977092</td>\n",
       "      <td>-1.614206</td>\n",
       "    </tr>\n",
       "    <tr>\n",
       "      <th>28</th>\n",
       "      <td>SaIibinho</td>\n",
       "      <td>@afcpintcheur Talent wise yes but the problem ...</td>\n",
       "      <td>Constant Pain</td>\n",
       "      <td>41.602983</td>\n",
       "      <td>2.291126</td>\n",
       "    </tr>\n",
       "    <tr>\n",
       "      <th>30</th>\n",
       "      <td>shodamolaJR</td>\n",
       "      <td>I want to play flag football but to travel to ...</td>\n",
       "      <td>Georgia, USA</td>\n",
       "      <td>32.329381</td>\n",
       "      <td>-83.113737</td>\n",
       "    </tr>\n",
       "    <tr>\n",
       "      <th>31</th>\n",
       "      <td>Prodigalangelo</td>\n",
       "      <td>@NkwontahInnocen @_SirBash @UtdOptimist @Aidan...</td>\n",
       "      <td>World wide</td>\n",
       "      <td>22.282303</td>\n",
       "      <td>114.157861</td>\n",
       "    </tr>\n",
       "    <tr>\n",
       "      <th>32</th>\n",
       "      <td>Savage_T_Raw</td>\n",
       "      <td>@kusssman No footballer plays football for fre...</td>\n",
       "      <td>Nigeria</td>\n",
       "      <td>9.600036</td>\n",
       "      <td>7.999972</td>\n",
       "    </tr>\n",
       "    <tr>\n",
       "      <th>33</th>\n",
       "      <td>GE_1970</td>\n",
       "      <td>Football fans in the @Sunderlanduk city and pu...</td>\n",
       "      <td>North East, England</td>\n",
       "      <td>52.795479</td>\n",
       "      <td>-0.540240</td>\n",
       "    </tr>\n",
       "    <tr>\n",
       "      <th>36</th>\n",
       "      <td>SaIibinho</td>\n",
       "      <td>@afcpintcheur The football legend thing</td>\n",
       "      <td>Constant Pain</td>\n",
       "      <td>41.602983</td>\n",
       "      <td>2.291126</td>\n",
       "    </tr>\n",
       "    <tr>\n",
       "      <th>37</th>\n",
       "      <td>ConsrvativeVato</td>\n",
       "      <td>Not sure but I may actually watch some footbal...</td>\n",
       "      <td>San Antonio, TX</td>\n",
       "      <td>29.424600</td>\n",
       "      <td>-98.495141</td>\n",
       "    </tr>\n",
       "    <tr>\n",
       "      <th>38</th>\n",
       "      <td>SVC_Football</td>\n",
       "      <td>Join us in celebrating our Class of 2021 Bearc...</td>\n",
       "      <td>Latrobe, PA</td>\n",
       "      <td>40.317287</td>\n",
       "      <td>-79.384030</td>\n",
       "    </tr>\n",
       "    <tr>\n",
       "      <th>39</th>\n",
       "      <td>BBCSport</td>\n",
       "      <td>Barcelona are yet to begin contract renewal ne...</td>\n",
       "      <td>MediaCityUK, Salford</td>\n",
       "      <td>53.471320</td>\n",
       "      <td>-2.299083</td>\n",
       "    </tr>\n",
       "    <tr>\n",
       "      <th>40</th>\n",
       "      <td>DiscountFK</td>\n",
       "      <td>£120 for 12 x Nike Park Team Training Football...</td>\n",
       "      <td>UK</td>\n",
       "      <td>54.702354</td>\n",
       "      <td>-3.276575</td>\n",
       "    </tr>\n",
       "    <tr>\n",
       "      <th>41</th>\n",
       "      <td>NigeriaInfoPH</td>\n",
       "      <td>#FootballFrenzyPH: The final showdown of the E...</td>\n",
       "      <td>Port Harcourt</td>\n",
       "      <td>4.767658</td>\n",
       "      <td>7.018853</td>\n",
       "    </tr>\n",
       "    <tr>\n",
       "      <th>42</th>\n",
       "      <td>JboyAllDayBoi</td>\n",
       "      <td>@RedditBills @DM3_BIB You call it soft I call ...</td>\n",
       "      <td>Florida, USA</td>\n",
       "      <td>27.756767</td>\n",
       "      <td>-81.463983</td>\n",
       "    </tr>\n",
       "    <tr>\n",
       "      <th>43</th>\n",
       "      <td>YidVids</td>\n",
       "      <td>Jose was a shit managerial appointment under t...</td>\n",
       "      <td>Bilbao, Spain</td>\n",
       "      <td>43.262949</td>\n",
       "      <td>-2.934946</td>\n",
       "    </tr>\n",
       "    <tr>\n",
       "      <th>44</th>\n",
       "      <td>jaziz1989</td>\n",
       "      <td>@MelissaReddy_ Nd ppl beleived when FA said th...</td>\n",
       "      <td>India</td>\n",
       "      <td>22.351115</td>\n",
       "      <td>78.667743</td>\n",
       "    </tr>\n",
       "    <tr>\n",
       "      <th>45</th>\n",
       "      <td>michaelwhite</td>\n",
       "      <td>You are free to be angry about BBC, yet not of...</td>\n",
       "      <td>UK</td>\n",
       "      <td>54.702354</td>\n",
       "      <td>-3.276575</td>\n",
       "    </tr>\n",
       "    <tr>\n",
       "      <th>46</th>\n",
       "      <td>Jordan4Cigars</td>\n",
       "      <td>Great cigar for football https://t.co/zniWr2m3Bb</td>\n",
       "      <td>Bristol, England</td>\n",
       "      <td>51.453802</td>\n",
       "      <td>-2.597298</td>\n",
       "    </tr>\n",
       "    <tr>\n",
       "      <th>48</th>\n",
       "      <td>DmannyL</td>\n",
       "      <td>Don't you just love football!</td>\n",
       "      <td>Lagos</td>\n",
       "      <td>20.017111</td>\n",
       "      <td>103.378253</td>\n",
       "    </tr>\n",
       "    <tr>\n",
       "      <th>49</th>\n",
       "      <td>jmarti201</td>\n",
       "      <td>OFFICIAL GLASGOW RANGERS Away Shirt 2015/16 32...</td>\n",
       "      <td>United Kingdom</td>\n",
       "      <td>25.223228</td>\n",
       "      <td>55.159493</td>\n",
       "    </tr>\n",
       "  </tbody>\n",
       "</table>\n",
       "</div>"
      ],
      "text/plain": [
       "        screen_name                                               text  \\\n",
       "0        SarahB1874  Always go with your gut when choosing your foo...   \n",
       "2   RileyBenzenberg  Field Training🔥🔥🏈 @Rivals @CamNewton7v7 @goget...   \n",
       "4    football_majin  I'm football fetish and football gear fetish.\\...   \n",
       "5         eiffel_71  @daisy_wildsmith @Hanniba29757400 @SkySports E...   \n",
       "6           luxensy  @dreamuzzie football....american football http...   \n",
       "8         mrjamesob  @eurostep48454 @OborneTweets Against Theresa M...   \n",
       "9   undilutedmedia1  Bayern Munich pay tribute to their departing l...   \n",
       "10         YoudyKTM  @flakingplaster @__Donx @Independent There’s n...   \n",
       "11     DundeeWestFC  Another fantastic morning for our fun 4s/super...   \n",
       "12      gotdamn_ace  The fact that Africa got a pro bball league ju...   \n",
       "13   GoodCopBabcock  @MrSusannaHoffs Couldn't watch either of these...   \n",
       "15           S_iele  Currently at the local and the screens are sho...   \n",
       "16  BonesTheHaunted  Congratulations to Captain Fantastic. The grea...   \n",
       "17      Handstand__  @Koollegah @cfcayoubo @ManMilk2 What we're tal...   \n",
       "19  LiveBettingTip2  I ll try some picks for the night.\\n\\nGood luc...   \n",
       "20          ugIyguy  pieface is literally bigger than football you ...   \n",
       "21    TheRealTakuza  @Shimaninkillale Pitso is leaving behind emoti...   \n",
       "22  charliegillies0  The Rugby League HQ: The Rugby Football League...   \n",
       "23        TimBonino  @hungryhipp0e @ziptrip31 @AnonAnon98765 @Breit...   \n",
       "25     EvaCaletkova  Imagine being Marcus Rashford. You’re just goi...   \n",
       "26   lesbiansforgnf        @iHugHyeju He's reffering to football stans   \n",
       "27      Greavesie86  @FootyRustling @PeterCrouchPod we need a late ...   \n",
       "28        SaIibinho  @afcpintcheur Talent wise yes but the problem ...   \n",
       "30      shodamolaJR  I want to play flag football but to travel to ...   \n",
       "31   Prodigalangelo  @NkwontahInnocen @_SirBash @UtdOptimist @Aidan...   \n",
       "32     Savage_T_Raw  @kusssman No footballer plays football for fre...   \n",
       "33          GE_1970  Football fans in the @Sunderlanduk city and pu...   \n",
       "36        SaIibinho            @afcpintcheur The football legend thing   \n",
       "37  ConsrvativeVato  Not sure but I may actually watch some footbal...   \n",
       "38     SVC_Football  Join us in celebrating our Class of 2021 Bearc...   \n",
       "39         BBCSport  Barcelona are yet to begin contract renewal ne...   \n",
       "40       DiscountFK  £120 for 12 x Nike Park Team Training Football...   \n",
       "41    NigeriaInfoPH  #FootballFrenzyPH: The final showdown of the E...   \n",
       "42    JboyAllDayBoi  @RedditBills @DM3_BIB You call it soft I call ...   \n",
       "43          YidVids  Jose was a shit managerial appointment under t...   \n",
       "44        jaziz1989  @MelissaReddy_ Nd ppl beleived when FA said th...   \n",
       "45     michaelwhite  You are free to be angry about BBC, yet not of...   \n",
       "46    Jordan4Cigars   Great cigar for football https://t.co/zniWr2m3Bb   \n",
       "48          DmannyL                      Don't you just love football!   \n",
       "49        jmarti201  OFFICIAL GLASGOW RANGERS Away Shirt 2015/16 32...   \n",
       "\n",
       "                        location   latitude   longitude  \n",
       "0                Leven, Scotland  56.195435   -2.996920  \n",
       "2            Deerfield Beach, FL  26.318342  -80.099631  \n",
       "4                  saitama japan  35.975417  139.416011  \n",
       "5               Gosport, England  50.795207   -1.121085  \n",
       "6                      she they   46.737862  -60.919660  \n",
       "8                         London  51.507322   -0.127647  \n",
       "9                London, England  51.507322   -0.127647  \n",
       "10                United Kingdom  25.223228   55.159493  \n",
       "11  Charlotte St, Dundee DD3 8PF  56.485087   -2.995659  \n",
       "12                       BK, NY   40.650104  -73.949582  \n",
       "13             Glasgow, Scotland  55.856656   -4.243582  \n",
       "15                            Up  27.130334   80.859666  \n",
       "16                  Midwest, USA  43.411391 -106.280075  \n",
       "17           Melbourne, Victoria -37.814218  144.963161  \n",
       "19                        Greece  38.995368   21.987713  \n",
       "20                    he/him pan  20.183710  104.255640  \n",
       "21                    World wide  22.282303  114.157861  \n",
       "22      Yorkshire and The Humber  53.931899   -1.166472  \n",
       "23             Santa Clarita, CA  34.391664 -118.542586  \n",
       "25               London, England  51.507322   -0.127647  \n",
       "26                        Regret  49.147972    5.342812  \n",
       "27           Newcastle Upon Tyne  54.977092   -1.614206  \n",
       "28                 Constant Pain  41.602983    2.291126  \n",
       "30                  Georgia, USA  32.329381  -83.113737  \n",
       "31                    World wide  22.282303  114.157861  \n",
       "32                       Nigeria   9.600036    7.999972  \n",
       "33           North East, England  52.795479   -0.540240  \n",
       "36                 Constant Pain  41.602983    2.291126  \n",
       "37               San Antonio, TX  29.424600  -98.495141  \n",
       "38                   Latrobe, PA  40.317287  -79.384030  \n",
       "39          MediaCityUK, Salford  53.471320   -2.299083  \n",
       "40                            UK  54.702354   -3.276575  \n",
       "41                 Port Harcourt   4.767658    7.018853  \n",
       "42                  Florida, USA  27.756767  -81.463983  \n",
       "43                 Bilbao, Spain  43.262949   -2.934946  \n",
       "44                         India  22.351115   78.667743  \n",
       "45                            UK  54.702354   -3.276575  \n",
       "46              Bristol, England  51.453802   -2.597298  \n",
       "48                         Lagos  20.017111  103.378253  \n",
       "49                United Kingdom  25.223228   55.159493  "
      ]
     },
     "execution_count": 53,
     "metadata": {},
     "output_type": "execute_result"
    }
   ],
   "source": [
    "df"
   ]
  },
  {
   "cell_type": "markdown",
   "metadata": {},
   "source": [
    "<hr style=\"height:2px; border:none; color:#000; background-color:#000;\">"
   ]
  },
  {
   "cell_type": "markdown",
   "metadata": {},
   "source": [
    "### Creating a Map with Folium"
   ]
  },
  {
   "cell_type": "code",
   "execution_count": 54,
   "metadata": {},
   "outputs": [],
   "source": [
    "import folium"
   ]
  },
  {
   "cell_type": "code",
   "execution_count": 55,
   "metadata": {},
   "outputs": [],
   "source": [
    "usmap = folium.Map(location=[39.8283, -98.5795],  # center of U.S.\n",
    "                   tiles='Stamen Terrain',\n",
    "                   zoom_start=4, detect_retina=True)"
   ]
  },
  {
   "cell_type": "markdown",
   "metadata": {},
   "source": [
    "* **`location`** &mdash; sequence containing **latitude** and **longitude** of **map center point**\n",
    "    * [Geographic center of the continental United States](http://bit.ly/CenterOfTheUS) \n",
    "* **`zoom_start`** &mdash; **map’s initial zoom level**\n",
    "* **`detect_retina`** &mdash; enables folium to use **higher-resolution maps**"
   ]
  },
  {
   "cell_type": "markdown",
   "metadata": {},
   "source": [
    "<hr style=\"height:2px; border:none; color:#000; background-color:#000;\">"
   ]
  },
  {
   "cell_type": "markdown",
   "metadata": {},
   "source": [
    "### Creating Folium `Popup` Objects for the Tweet Locations\n",
    "* **`itertuples`** creates **tuples** from **each row** of the **`DataFrame`**\n",
    "* Each **tuple** contains a **property** for each **`DataFrame` column**"
   ]
  },
  {
   "cell_type": "code",
   "execution_count": 56,
   "metadata": {},
   "outputs": [],
   "source": [
    "for t in df.itertuples():\n",
    "    text = ': '.join([t.screen_name, t.text])\n",
    "    popup = folium.Popup(text)\n",
    "    marker = folium.Marker((t.latitude, t.longitude), \n",
    "                           popup=popup)\n",
    "    marker.add_to(usmap)"
   ]
  },
  {
   "cell_type": "markdown",
   "metadata": {},
   "source": [
    "<hr style=\"height:2px; border:none; color:#000; background-color:#000;\">"
   ]
  },
  {
   "cell_type": "markdown",
   "metadata": {},
   "source": [
    "### Saving the Map with Map’s **`save`** Method "
   ]
  },
  {
   "cell_type": "code",
   "execution_count": 57,
   "metadata": {},
   "outputs": [],
   "source": [
    "usmap.save('tweet_map.html')"
   ]
  },
  {
   "cell_type": "markdown",
   "metadata": {},
   "source": [
    "<hr style=\"height:2px; border:none; color:#000; background-color:#000;\">"
   ]
  },
  {
   "cell_type": "markdown",
   "metadata": {},
   "source": [
    "### Displaying the Map in Jupyter \n",
    "* The resulting map follows. \n",
    "<a href=\"./tweet_map.html\">Interactive tweet map</a>"
   ]
  },
  {
   "cell_type": "code",
   "execution_count": 58,
   "metadata": {},
   "outputs": [
    {
     "data": {
      "text/html": [
       "<div style=\"width:100%;\"><div style=\"position:relative;width:100%;height:0;padding-bottom:60%;\"><span style=\"color:#565656\">Make this Notebook Trusted to load map: File -> Trust Notebook</span><iframe src=\"about:blank\" style=\"position:absolute;width:100%;height:100%;left:0;top:0;border:none !important;\" data-html=%3C%21DOCTYPE%20html%3E%0A%3Chead%3E%20%20%20%20%0A%20%20%20%20%3Cmeta%20http-equiv%3D%22content-type%22%20content%3D%22text/html%3B%20charset%3DUTF-8%22%20/%3E%0A%20%20%20%20%0A%20%20%20%20%20%20%20%20%3Cscript%3E%0A%20%20%20%20%20%20%20%20%20%20%20%20L_NO_TOUCH%20%3D%20false%3B%0A%20%20%20%20%20%20%20%20%20%20%20%20L_DISABLE_3D%20%3D%20false%3B%0A%20%20%20%20%20%20%20%20%3C/script%3E%0A%20%20%20%20%0A%20%20%20%20%3Cstyle%3Ehtml%2C%20body%20%7Bwidth%3A%20100%25%3Bheight%3A%20100%25%3Bmargin%3A%200%3Bpadding%3A%200%3B%7D%3C/style%3E%0A%20%20%20%20%3Cstyle%3E%23map%20%7Bposition%3Aabsolute%3Btop%3A0%3Bbottom%3A0%3Bright%3A0%3Bleft%3A0%3B%7D%3C/style%3E%0A%20%20%20%20%3Cscript%20src%3D%22https%3A//cdn.jsdelivr.net/npm/leaflet%401.6.0/dist/leaflet.js%22%3E%3C/script%3E%0A%20%20%20%20%3Cscript%20src%3D%22https%3A//code.jquery.com/jquery-1.12.4.min.js%22%3E%3C/script%3E%0A%20%20%20%20%3Cscript%20src%3D%22https%3A//maxcdn.bootstrapcdn.com/bootstrap/3.2.0/js/bootstrap.min.js%22%3E%3C/script%3E%0A%20%20%20%20%3Cscript%20src%3D%22https%3A//cdnjs.cloudflare.com/ajax/libs/Leaflet.awesome-markers/2.0.2/leaflet.awesome-markers.js%22%3E%3C/script%3E%0A%20%20%20%20%3Clink%20rel%3D%22stylesheet%22%20href%3D%22https%3A//cdn.jsdelivr.net/npm/leaflet%401.6.0/dist/leaflet.css%22/%3E%0A%20%20%20%20%3Clink%20rel%3D%22stylesheet%22%20href%3D%22https%3A//maxcdn.bootstrapcdn.com/bootstrap/3.2.0/css/bootstrap.min.css%22/%3E%0A%20%20%20%20%3Clink%20rel%3D%22stylesheet%22%20href%3D%22https%3A//maxcdn.bootstrapcdn.com/bootstrap/3.2.0/css/bootstrap-theme.min.css%22/%3E%0A%20%20%20%20%3Clink%20rel%3D%22stylesheet%22%20href%3D%22https%3A//maxcdn.bootstrapcdn.com/font-awesome/4.6.3/css/font-awesome.min.css%22/%3E%0A%20%20%20%20%3Clink%20rel%3D%22stylesheet%22%20href%3D%22https%3A//cdnjs.cloudflare.com/ajax/libs/Leaflet.awesome-markers/2.0.2/leaflet.awesome-markers.css%22/%3E%0A%20%20%20%20%3Clink%20rel%3D%22stylesheet%22%20href%3D%22https%3A//cdn.jsdelivr.net/gh/python-visualization/folium/folium/templates/leaflet.awesome.rotate.min.css%22/%3E%0A%20%20%20%20%0A%20%20%20%20%20%20%20%20%20%20%20%20%3Cmeta%20name%3D%22viewport%22%20content%3D%22width%3Ddevice-width%2C%0A%20%20%20%20%20%20%20%20%20%20%20%20%20%20%20%20initial-scale%3D1.0%2C%20maximum-scale%3D1.0%2C%20user-scalable%3Dno%22%20/%3E%0A%20%20%20%20%20%20%20%20%20%20%20%20%3Cstyle%3E%0A%20%20%20%20%20%20%20%20%20%20%20%20%20%20%20%20%23map_fd30f1bd390248bda4f04bc5f1ec1a4c%20%7B%0A%20%20%20%20%20%20%20%20%20%20%20%20%20%20%20%20%20%20%20%20position%3A%20relative%3B%0A%20%20%20%20%20%20%20%20%20%20%20%20%20%20%20%20%20%20%20%20width%3A%20100.0%25%3B%0A%20%20%20%20%20%20%20%20%20%20%20%20%20%20%20%20%20%20%20%20height%3A%20100.0%25%3B%0A%20%20%20%20%20%20%20%20%20%20%20%20%20%20%20%20%20%20%20%20left%3A%200.0%25%3B%0A%20%20%20%20%20%20%20%20%20%20%20%20%20%20%20%20%20%20%20%20top%3A%200.0%25%3B%0A%20%20%20%20%20%20%20%20%20%20%20%20%20%20%20%20%7D%0A%20%20%20%20%20%20%20%20%20%20%20%20%3C/style%3E%0A%20%20%20%20%20%20%20%20%0A%3C/head%3E%0A%3Cbody%3E%20%20%20%20%0A%20%20%20%20%0A%20%20%20%20%20%20%20%20%20%20%20%20%3Cdiv%20class%3D%22folium-map%22%20id%3D%22map_fd30f1bd390248bda4f04bc5f1ec1a4c%22%20%3E%3C/div%3E%0A%20%20%20%20%20%20%20%20%0A%3C/body%3E%0A%3Cscript%3E%20%20%20%20%0A%20%20%20%20%0A%20%20%20%20%20%20%20%20%20%20%20%20var%20map_fd30f1bd390248bda4f04bc5f1ec1a4c%20%3D%20L.map%28%0A%20%20%20%20%20%20%20%20%20%20%20%20%20%20%20%20%22map_fd30f1bd390248bda4f04bc5f1ec1a4c%22%2C%0A%20%20%20%20%20%20%20%20%20%20%20%20%20%20%20%20%7B%0A%20%20%20%20%20%20%20%20%20%20%20%20%20%20%20%20%20%20%20%20center%3A%20%5B39.8283%2C%20-98.5795%5D%2C%0A%20%20%20%20%20%20%20%20%20%20%20%20%20%20%20%20%20%20%20%20crs%3A%20L.CRS.EPSG3857%2C%0A%20%20%20%20%20%20%20%20%20%20%20%20%20%20%20%20%20%20%20%20zoom%3A%204%2C%0A%20%20%20%20%20%20%20%20%20%20%20%20%20%20%20%20%20%20%20%20zoomControl%3A%20true%2C%0A%20%20%20%20%20%20%20%20%20%20%20%20%20%20%20%20%20%20%20%20preferCanvas%3A%20false%2C%0A%20%20%20%20%20%20%20%20%20%20%20%20%20%20%20%20%20%20%20%20detectRetina%3A%20true%2C%0A%20%20%20%20%20%20%20%20%20%20%20%20%20%20%20%20%7D%0A%20%20%20%20%20%20%20%20%20%20%20%20%29%3B%0A%0A%20%20%20%20%20%20%20%20%20%20%20%20%0A%0A%20%20%20%20%20%20%20%20%0A%20%20%20%20%0A%20%20%20%20%20%20%20%20%20%20%20%20var%20tile_layer_f4fbaf9e20ec4019aa52bd6cf34cf176%20%3D%20L.tileLayer%28%0A%20%20%20%20%20%20%20%20%20%20%20%20%20%20%20%20%22https%3A//stamen-tiles-%7Bs%7D.a.ssl.fastly.net/terrain/%7Bz%7D/%7Bx%7D/%7By%7D.jpg%22%2C%0A%20%20%20%20%20%20%20%20%20%20%20%20%20%20%20%20%7B%22attribution%22%3A%20%22Map%20tiles%20by%20%5Cu003ca%20href%3D%5C%22http%3A//stamen.com%5C%22%5Cu003eStamen%20Design%5Cu003c/a%5Cu003e%2C%20under%20%5Cu003ca%20href%3D%5C%22http%3A//creativecommons.org/licenses/by/3.0%5C%22%5Cu003eCC%20BY%203.0%5Cu003c/a%5Cu003e.%20Data%20by%20%5Cu0026copy%3B%20%5Cu003ca%20href%3D%5C%22http%3A//openstreetmap.org%5C%22%5Cu003eOpenStreetMap%5Cu003c/a%5Cu003e%2C%20under%20%5Cu003ca%20href%3D%5C%22http%3A//creativecommons.org/licenses/by-sa/3.0%5C%22%5Cu003eCC%20BY%20SA%5Cu003c/a%5Cu003e.%22%2C%20%22detectRetina%22%3A%20false%2C%20%22maxNativeZoom%22%3A%2018%2C%20%22maxZoom%22%3A%2018%2C%20%22minZoom%22%3A%200%2C%20%22noWrap%22%3A%20false%2C%20%22opacity%22%3A%201%2C%20%22subdomains%22%3A%20%22abc%22%2C%20%22tms%22%3A%20false%7D%0A%20%20%20%20%20%20%20%20%20%20%20%20%29.addTo%28map_fd30f1bd390248bda4f04bc5f1ec1a4c%29%3B%0A%20%20%20%20%20%20%20%20%0A%20%20%20%20%0A%20%20%20%20%20%20%20%20%20%20%20%20var%20marker_2ec4b0a1491b40afa642435740ca682e%20%3D%20L.marker%28%0A%20%20%20%20%20%20%20%20%20%20%20%20%20%20%20%20%5B56.1954351%2C%20-2.99692%5D%2C%0A%20%20%20%20%20%20%20%20%20%20%20%20%20%20%20%20%7B%7D%0A%20%20%20%20%20%20%20%20%20%20%20%20%29.addTo%28map_fd30f1bd390248bda4f04bc5f1ec1a4c%29%3B%0A%20%20%20%20%20%20%20%20%0A%20%20%20%20%0A%20%20%20%20%20%20%20%20var%20popup_b3a39dccbe454a838dd78af4ec2ed611%20%3D%20L.popup%28%7B%22maxWidth%22%3A%20%22100%25%22%7D%29%3B%0A%0A%20%20%20%20%20%20%20%20%0A%20%20%20%20%20%20%20%20%20%20%20%20var%20html_356a3ed371144568b3e9b0f8077c5a10%20%3D%20%24%28%60%3Cdiv%20id%3D%22html_356a3ed371144568b3e9b0f8077c5a10%22%20style%3D%22width%3A%20100.0%25%3B%20height%3A%20100.0%25%3B%22%3ESarahB1874%3A%20Always%20go%20with%20your%20gut%20when%20choosing%20your%20football%20coupons%20don%27t%20let%20anyone%20put%20doubt%20in%20your%20mind.%20I%27d%20like%20to%20take%20this%20opportunity%20to%20tell%20%40KG367919716%20to%20never%20mention%20football%20to%20me%20again%20this%20is%20TWICE%20I%27ve%20lost%20money%20because%20of%20you%20%F0%9F%98%AD%20https%3A//t.co/QVJig55owI%3C/div%3E%60%29%5B0%5D%3B%0A%20%20%20%20%20%20%20%20%20%20%20%20popup_b3a39dccbe454a838dd78af4ec2ed611.setContent%28html_356a3ed371144568b3e9b0f8077c5a10%29%3B%0A%20%20%20%20%20%20%20%20%0A%0A%20%20%20%20%20%20%20%20marker_2ec4b0a1491b40afa642435740ca682e.bindPopup%28popup_b3a39dccbe454a838dd78af4ec2ed611%29%0A%20%20%20%20%20%20%20%20%3B%0A%0A%20%20%20%20%20%20%20%20%0A%20%20%20%20%0A%20%20%20%20%0A%20%20%20%20%20%20%20%20%20%20%20%20var%20marker_f34401661fcf4de4aaeae43ef6744b48%20%3D%20L.marker%28%0A%20%20%20%20%20%20%20%20%20%20%20%20%20%20%20%20%5B26.318342%2C%20-80.0996306%5D%2C%0A%20%20%20%20%20%20%20%20%20%20%20%20%20%20%20%20%7B%7D%0A%20%20%20%20%20%20%20%20%20%20%20%20%29.addTo%28map_fd30f1bd390248bda4f04bc5f1ec1a4c%29%3B%0A%20%20%20%20%20%20%20%20%0A%20%20%20%20%0A%20%20%20%20%20%20%20%20var%20popup_8142cee2f08e47b3a7fd986269b2408e%20%3D%20L.popup%28%7B%22maxWidth%22%3A%20%22100%25%22%7D%29%3B%0A%0A%20%20%20%20%20%20%20%20%0A%20%20%20%20%20%20%20%20%20%20%20%20var%20html_c4cc3654440b4ebb8b0750af1c1cdfae%20%3D%20%24%28%60%3Cdiv%20id%3D%22html_c4cc3654440b4ebb8b0750af1c1cdfae%22%20style%3D%22width%3A%20100.0%25%3B%20height%3A%20100.0%25%3B%22%3ERileyBenzenberg%3A%20Field%20Training%F0%9F%94%A5%F0%9F%94%A5%F0%9F%8F%88%20%40Rivals%20%40CamNewton7v7%20%40gogetityft%20%20%40coachmarroquin%20%40TEAMGOGETIT7v7%20%40elitefootballac%20%40defcon%20%40SouthFLExpress%20%40REIGN_7on7%20%23Football%20%238thgrade%20%23Classof2025%20https%3A//t.co/RigXevEdt5%3C/div%3E%60%29%5B0%5D%3B%0A%20%20%20%20%20%20%20%20%20%20%20%20popup_8142cee2f08e47b3a7fd986269b2408e.setContent%28html_c4cc3654440b4ebb8b0750af1c1cdfae%29%3B%0A%20%20%20%20%20%20%20%20%0A%0A%20%20%20%20%20%20%20%20marker_f34401661fcf4de4aaeae43ef6744b48.bindPopup%28popup_8142cee2f08e47b3a7fd986269b2408e%29%0A%20%20%20%20%20%20%20%20%3B%0A%0A%20%20%20%20%20%20%20%20%0A%20%20%20%20%0A%20%20%20%20%0A%20%20%20%20%20%20%20%20%20%20%20%20var%20marker_1c7f5723bbc944848027a9654d170eaa%20%3D%20L.marker%28%0A%20%20%20%20%20%20%20%20%20%20%20%20%20%20%20%20%5B35.9754168%2C%20139.4160114%5D%2C%0A%20%20%20%20%20%20%20%20%20%20%20%20%20%20%20%20%7B%7D%0A%20%20%20%20%20%20%20%20%20%20%20%20%29.addTo%28map_fd30f1bd390248bda4f04bc5f1ec1a4c%29%3B%0A%20%20%20%20%20%20%20%20%0A%20%20%20%20%0A%20%20%20%20%20%20%20%20var%20popup_b8c5ce207edc4627bc800f5fda5da78d%20%3D%20L.popup%28%7B%22maxWidth%22%3A%20%22100%25%22%7D%29%3B%0A%0A%20%20%20%20%20%20%20%20%0A%20%20%20%20%20%20%20%20%20%20%20%20var%20html_91043037ef9b493ea6974939f1ad6b25%20%3D%20%24%28%60%3Cdiv%20id%3D%22html_91043037ef9b493ea6974939f1ad6b25%22%20style%3D%22width%3A%20100.0%25%3B%20height%3A%20100.0%25%3B%22%3Efootball_majin%3A%20I%27m%20football%20fetish%20and%20football%20gear%20fetish.%20%23footballfetish%20%23gearfetish%20%23footballgear%20https%3A//t.co/RGBTox7Qvu%3C/div%3E%60%29%5B0%5D%3B%0A%20%20%20%20%20%20%20%20%20%20%20%20popup_b8c5ce207edc4627bc800f5fda5da78d.setContent%28html_91043037ef9b493ea6974939f1ad6b25%29%3B%0A%20%20%20%20%20%20%20%20%0A%0A%20%20%20%20%20%20%20%20marker_1c7f5723bbc944848027a9654d170eaa.bindPopup%28popup_b8c5ce207edc4627bc800f5fda5da78d%29%0A%20%20%20%20%20%20%20%20%3B%0A%0A%20%20%20%20%20%20%20%20%0A%20%20%20%20%0A%20%20%20%20%0A%20%20%20%20%20%20%20%20%20%20%20%20var%20marker_7c22a8a4ab8a4578abdf71450e221748%20%3D%20L.marker%28%0A%20%20%20%20%20%20%20%20%20%20%20%20%20%20%20%20%5B50.7952074%2C%20-1.1210853%5D%2C%0A%20%20%20%20%20%20%20%20%20%20%20%20%20%20%20%20%7B%7D%0A%20%20%20%20%20%20%20%20%20%20%20%20%29.addTo%28map_fd30f1bd390248bda4f04bc5f1ec1a4c%29%3B%0A%20%20%20%20%20%20%20%20%0A%20%20%20%20%0A%20%20%20%20%20%20%20%20var%20popup_840ac8cd4500460e9e76ac94ea53c2f9%20%3D%20L.popup%28%7B%22maxWidth%22%3A%20%22100%25%22%7D%29%3B%0A%0A%20%20%20%20%20%20%20%20%0A%20%20%20%20%20%20%20%20%20%20%20%20var%20html_a22a132390004524803dd774f0ef9535%20%3D%20%24%28%60%3Cdiv%20id%3D%22html_a22a132390004524803dd774f0ef9535%22%20style%3D%22width%3A%20100.0%25%3B%20height%3A%20100.0%25%3B%22%3Eeiffel_71%3A%20%40daisy_wildsmith%20%40Hanniba29757400%20%40SkySports%20Exactly.%20An%20overdue%20debt%20being%20paid.%20Remember%20women%27s%20football%20was%20very%20popular%2C%20and%20self-financing%2C%20from%201916%20until%20the%20ban%20in%201921.%3C/div%3E%60%29%5B0%5D%3B%0A%20%20%20%20%20%20%20%20%20%20%20%20popup_840ac8cd4500460e9e76ac94ea53c2f9.setContent%28html_a22a132390004524803dd774f0ef9535%29%3B%0A%20%20%20%20%20%20%20%20%0A%0A%20%20%20%20%20%20%20%20marker_7c22a8a4ab8a4578abdf71450e221748.bindPopup%28popup_840ac8cd4500460e9e76ac94ea53c2f9%29%0A%20%20%20%20%20%20%20%20%3B%0A%0A%20%20%20%20%20%20%20%20%0A%20%20%20%20%0A%20%20%20%20%0A%20%20%20%20%20%20%20%20%20%20%20%20var%20marker_6293b2324485483bac710bcc678299e9%20%3D%20L.marker%28%0A%20%20%20%20%20%20%20%20%20%20%20%20%20%20%20%20%5B46.7378618%2C%20-60.9196599127907%5D%2C%0A%20%20%20%20%20%20%20%20%20%20%20%20%20%20%20%20%7B%7D%0A%20%20%20%20%20%20%20%20%20%20%20%20%29.addTo%28map_fd30f1bd390248bda4f04bc5f1ec1a4c%29%3B%0A%20%20%20%20%20%20%20%20%0A%20%20%20%20%0A%20%20%20%20%20%20%20%20var%20popup_d8cd99a5df4945b4879a7c2e420fe4f0%20%3D%20L.popup%28%7B%22maxWidth%22%3A%20%22100%25%22%7D%29%3B%0A%0A%20%20%20%20%20%20%20%20%0A%20%20%20%20%20%20%20%20%20%20%20%20var%20html_68c1ae0bf17d473894a05bd18c1c4cef%20%3D%20%24%28%60%3Cdiv%20id%3D%22html_68c1ae0bf17d473894a05bd18c1c4cef%22%20style%3D%22width%3A%20100.0%25%3B%20height%3A%20100.0%25%3B%22%3Eluxensy%3A%20%40dreamuzzie%20football....american%20football%20https%3A//t.co/5g2zdBTY5k%3C/div%3E%60%29%5B0%5D%3B%0A%20%20%20%20%20%20%20%20%20%20%20%20popup_d8cd99a5df4945b4879a7c2e420fe4f0.setContent%28html_68c1ae0bf17d473894a05bd18c1c4cef%29%3B%0A%20%20%20%20%20%20%20%20%0A%0A%20%20%20%20%20%20%20%20marker_6293b2324485483bac710bcc678299e9.bindPopup%28popup_d8cd99a5df4945b4879a7c2e420fe4f0%29%0A%20%20%20%20%20%20%20%20%3B%0A%0A%20%20%20%20%20%20%20%20%0A%20%20%20%20%0A%20%20%20%20%0A%20%20%20%20%20%20%20%20%20%20%20%20var%20marker_c28ed87aa0324927a58e0c4b2c479d89%20%3D%20L.marker%28%0A%20%20%20%20%20%20%20%20%20%20%20%20%20%20%20%20%5B51.5073219%2C%20-0.1276474%5D%2C%0A%20%20%20%20%20%20%20%20%20%20%20%20%20%20%20%20%7B%7D%0A%20%20%20%20%20%20%20%20%20%20%20%20%29.addTo%28map_fd30f1bd390248bda4f04bc5f1ec1a4c%29%3B%0A%20%20%20%20%20%20%20%20%0A%20%20%20%20%0A%20%20%20%20%20%20%20%20var%20popup_bbcd7e757f954db9bf48d8bc5599f988%20%3D%20L.popup%28%7B%22maxWidth%22%3A%20%22100%25%22%7D%29%3B%0A%0A%20%20%20%20%20%20%20%20%0A%20%20%20%20%20%20%20%20%20%20%20%20var%20html_f32042a95d5a431cbafd7877dbb8e7a7%20%3D%20%24%28%60%3Cdiv%20id%3D%22html_f32042a95d5a431cbafd7877dbb8e7a7%22%20style%3D%22width%3A%20100.0%25%3B%20height%3A%20100.0%25%3B%22%3Emrjamesob%3A%20%40eurostep48454%20%40OborneTweets%20Against%20Theresa%20May%20in%202018.%20Do%20you%20really%20not%20understand%20the%20difference%3F%20Imagine%20predicting%20a%20football%20score%20between%20two%20teams%20%26amp%3B%20then%20being%20told%20that%20your%20prediction%20has%20been%20disproved%20by%20the%20result%20of%20a%20completely%20different%20match.%20I%20genuinely%20hope%20this%20helps%21%3C/div%3E%60%29%5B0%5D%3B%0A%20%20%20%20%20%20%20%20%20%20%20%20popup_bbcd7e757f954db9bf48d8bc5599f988.setContent%28html_f32042a95d5a431cbafd7877dbb8e7a7%29%3B%0A%20%20%20%20%20%20%20%20%0A%0A%20%20%20%20%20%20%20%20marker_c28ed87aa0324927a58e0c4b2c479d89.bindPopup%28popup_bbcd7e757f954db9bf48d8bc5599f988%29%0A%20%20%20%20%20%20%20%20%3B%0A%0A%20%20%20%20%20%20%20%20%0A%20%20%20%20%0A%20%20%20%20%0A%20%20%20%20%20%20%20%20%20%20%20%20var%20marker_314a4052c4ff4ea8bf7d08a5dca59848%20%3D%20L.marker%28%0A%20%20%20%20%20%20%20%20%20%20%20%20%20%20%20%20%5B51.5073219%2C%20-0.1276474%5D%2C%0A%20%20%20%20%20%20%20%20%20%20%20%20%20%20%20%20%7B%7D%0A%20%20%20%20%20%20%20%20%20%20%20%20%29.addTo%28map_fd30f1bd390248bda4f04bc5f1ec1a4c%29%3B%0A%20%20%20%20%20%20%20%20%0A%20%20%20%20%0A%20%20%20%20%20%20%20%20var%20popup_a2ca55483748478eae369d4ad3593dac%20%3D%20L.popup%28%7B%22maxWidth%22%3A%20%22100%25%22%7D%29%3B%0A%0A%20%20%20%20%20%20%20%20%0A%20%20%20%20%20%20%20%20%20%20%20%20var%20html_f703f4c1adfd420cba49f92c1977045d%20%3D%20%24%28%60%3Cdiv%20id%3D%22html_f703f4c1adfd420cba49f92c1977045d%22%20style%3D%22width%3A%20100.0%25%3B%20height%3A%20100.0%25%3B%22%3Eundilutedmedia1%3A%20Bayern%20Munich%20pay%20tribute%20to%20their%20departing%20legends%20%F0%9F%91%8F%20%23bayern%20%23football%20%23soccer%20https%3A//t.co/Us7aK4KNq0%3C/div%3E%60%29%5B0%5D%3B%0A%20%20%20%20%20%20%20%20%20%20%20%20popup_a2ca55483748478eae369d4ad3593dac.setContent%28html_f703f4c1adfd420cba49f92c1977045d%29%3B%0A%20%20%20%20%20%20%20%20%0A%0A%20%20%20%20%20%20%20%20marker_314a4052c4ff4ea8bf7d08a5dca59848.bindPopup%28popup_a2ca55483748478eae369d4ad3593dac%29%0A%20%20%20%20%20%20%20%20%3B%0A%0A%20%20%20%20%20%20%20%20%0A%20%20%20%20%0A%20%20%20%20%0A%20%20%20%20%20%20%20%20%20%20%20%20var%20marker_1697eff9d40444babccdfc28673be198%20%3D%20L.marker%28%0A%20%20%20%20%20%20%20%20%20%20%20%20%20%20%20%20%5B25.2232283%2C%2055.1594933008754%5D%2C%0A%20%20%20%20%20%20%20%20%20%20%20%20%20%20%20%20%7B%7D%0A%20%20%20%20%20%20%20%20%20%20%20%20%29.addTo%28map_fd30f1bd390248bda4f04bc5f1ec1a4c%29%3B%0A%20%20%20%20%20%20%20%20%0A%20%20%20%20%0A%20%20%20%20%20%20%20%20var%20popup_21ffd866aa2544b9900f90271a0d4fc5%20%3D%20L.popup%28%7B%22maxWidth%22%3A%20%22100%25%22%7D%29%3B%0A%0A%20%20%20%20%20%20%20%20%0A%20%20%20%20%20%20%20%20%20%20%20%20var%20html_49d0825a61524a9f93a9465eebef266f%20%3D%20%24%28%60%3Cdiv%20id%3D%22html_49d0825a61524a9f93a9465eebef266f%22%20style%3D%22width%3A%20100.0%25%3B%20height%3A%20100.0%25%3B%22%3EYoudyKTM%3A%20%40flakingplaster%20%40__Donx%20%40Independent%20There%E2%80%99s%20no%20hypocrisy.%20I%20didn%E2%80%99t%20make%20the%20laws%20regarding%20football.%20With%20respect%20to%20my%20comments%20about%20the%20ability%20of%20women%20to%20play%20to%20the%20the%20level%20where%20they%E2%80%99re%20strong%20enough%20to%20play%20with%20men%2C%20well%2C%20it%E2%80%99s%20not%20just%20my%20opinion.%20It%E2%80%99s%20just%20about%20everyone%E2%80%99s.%3C/div%3E%60%29%5B0%5D%3B%0A%20%20%20%20%20%20%20%20%20%20%20%20popup_21ffd866aa2544b9900f90271a0d4fc5.setContent%28html_49d0825a61524a9f93a9465eebef266f%29%3B%0A%20%20%20%20%20%20%20%20%0A%0A%20%20%20%20%20%20%20%20marker_1697eff9d40444babccdfc28673be198.bindPopup%28popup_21ffd866aa2544b9900f90271a0d4fc5%29%0A%20%20%20%20%20%20%20%20%3B%0A%0A%20%20%20%20%20%20%20%20%0A%20%20%20%20%0A%20%20%20%20%0A%20%20%20%20%20%20%20%20%20%20%20%20var%20marker_5448217036f542d285ad20afd20ae1d8%20%3D%20L.marker%28%0A%20%20%20%20%20%20%20%20%20%20%20%20%20%20%20%20%5B56.4850874%2C%20-2.9956587%5D%2C%0A%20%20%20%20%20%20%20%20%20%20%20%20%20%20%20%20%7B%7D%0A%20%20%20%20%20%20%20%20%20%20%20%20%29.addTo%28map_fd30f1bd390248bda4f04bc5f1ec1a4c%29%3B%0A%20%20%20%20%20%20%20%20%0A%20%20%20%20%0A%20%20%20%20%20%20%20%20var%20popup_bd7b7818aa1e43ddb48e7e18040a4a80%20%3D%20L.popup%28%7B%22maxWidth%22%3A%20%22100%25%22%7D%29%3B%0A%0A%20%20%20%20%20%20%20%20%0A%20%20%20%20%20%20%20%20%20%20%20%20var%20html_6f0be48b578f4dd8ba9a8d5e0e7a38b9%20%3D%20%24%28%60%3Cdiv%20id%3D%22html_6f0be48b578f4dd8ba9a8d5e0e7a38b9%22%20style%3D%22width%3A%20100.0%25%3B%20height%3A%20100.0%25%3B%22%3EDundeeWestFC%3A%20Another%20fantastic%20morning%20for%20our%20fun%204s/super%205s%20section%20at%20RPC%20%26amp%3B%20%40BaldragonAcad%20%E2%9A%BD%EF%B8%8F%F0%9F%99%8C%F0%9F%8F%BB%20Our%20boys%20are%20coming%20on%20each%20week%20and%20playing%20some%20great%20football%20%F0%9F%91%8F%F0%9F%8F%BB%F0%9F%91%8F%F0%9F%8F%BB%F0%9F%91%8F%F0%9F%8F%BB%20Thank%20you%20%40footballdundee%20for%20a%20great%20morning%20of%20activity%F0%9F%91%8F%F0%9F%8F%BB%E2%9A%BD%EF%B8%8F%F0%9F%91%8F%F0%9F%8F%BB%23TheWeeWesties%20https%3A//t.co/Sko60c1QDK%3C/div%3E%60%29%5B0%5D%3B%0A%20%20%20%20%20%20%20%20%20%20%20%20popup_bd7b7818aa1e43ddb48e7e18040a4a80.setContent%28html_6f0be48b578f4dd8ba9a8d5e0e7a38b9%29%3B%0A%20%20%20%20%20%20%20%20%0A%0A%20%20%20%20%20%20%20%20marker_5448217036f542d285ad20afd20ae1d8.bindPopup%28popup_bd7b7818aa1e43ddb48e7e18040a4a80%29%0A%20%20%20%20%20%20%20%20%3B%0A%0A%20%20%20%20%20%20%20%20%0A%20%20%20%20%0A%20%20%20%20%0A%20%20%20%20%20%20%20%20%20%20%20%20var%20marker_e91ade063ea6415aaea1ee7c1d658a7b%20%3D%20L.marker%28%0A%20%20%20%20%20%20%20%20%20%20%20%20%20%20%20%20%5B40.6501038%2C%20-73.9495823%5D%2C%0A%20%20%20%20%20%20%20%20%20%20%20%20%20%20%20%20%7B%7D%0A%20%20%20%20%20%20%20%20%20%20%20%20%29.addTo%28map_fd30f1bd390248bda4f04bc5f1ec1a4c%29%3B%0A%20%20%20%20%20%20%20%20%0A%20%20%20%20%0A%20%20%20%20%20%20%20%20var%20popup_9be681a9a46b4db788487b8a67c624c3%20%3D%20L.popup%28%7B%22maxWidth%22%3A%20%22100%25%22%7D%29%3B%0A%0A%20%20%20%20%20%20%20%20%0A%20%20%20%20%20%20%20%20%20%20%20%20var%20html_962e1195fb47491ba9eceb4cadc10860%20%3D%20%24%28%60%3Cdiv%20id%3D%22html_962e1195fb47491ba9eceb4cadc10860%22%20style%3D%22width%3A%20100.0%25%3B%20height%3A%20100.0%25%3B%22%3Egotdamn_ace%3A%20The%20fact%20that%20Africa%20got%20a%20pro%20bball%20league%20just%20furthers%20the%20point%20that%20Football%20sucks%20lmao%3C/div%3E%60%29%5B0%5D%3B%0A%20%20%20%20%20%20%20%20%20%20%20%20popup_9be681a9a46b4db788487b8a67c624c3.setContent%28html_962e1195fb47491ba9eceb4cadc10860%29%3B%0A%20%20%20%20%20%20%20%20%0A%0A%20%20%20%20%20%20%20%20marker_e91ade063ea6415aaea1ee7c1d658a7b.bindPopup%28popup_9be681a9a46b4db788487b8a67c624c3%29%0A%20%20%20%20%20%20%20%20%3B%0A%0A%20%20%20%20%20%20%20%20%0A%20%20%20%20%0A%20%20%20%20%0A%20%20%20%20%20%20%20%20%20%20%20%20var%20marker_44c8a60465dd4e99b522b848fe75d590%20%3D%20L.marker%28%0A%20%20%20%20%20%20%20%20%20%20%20%20%20%20%20%20%5B55.856656%2C%20-4.2435817%5D%2C%0A%20%20%20%20%20%20%20%20%20%20%20%20%20%20%20%20%7B%7D%0A%20%20%20%20%20%20%20%20%20%20%20%20%29.addTo%28map_fd30f1bd390248bda4f04bc5f1ec1a4c%29%3B%0A%20%20%20%20%20%20%20%20%0A%20%20%20%20%0A%20%20%20%20%20%20%20%20var%20popup_1a4e394aac7f434daaf3e95b0e548ffc%20%3D%20L.popup%28%7B%22maxWidth%22%3A%20%22100%25%22%7D%29%3B%0A%0A%20%20%20%20%20%20%20%20%0A%20%20%20%20%20%20%20%20%20%20%20%20var%20html_af1cbdf0729948049f58f89b37d55e9f%20%3D%20%24%28%60%3Cdiv%20id%3D%22html_af1cbdf0729948049f58f89b37d55e9f%22%20style%3D%22width%3A%20100.0%25%3B%20height%3A%20100.0%25%3B%22%3EGoodCopBabcock%3A%20%40MrSusannaHoffs%20Couldn%27t%20watch%20either%20of%20these%20teams%20Stiles%20of%20football%20for%20a%20season.%3C/div%3E%60%29%5B0%5D%3B%0A%20%20%20%20%20%20%20%20%20%20%20%20popup_1a4e394aac7f434daaf3e95b0e548ffc.setContent%28html_af1cbdf0729948049f58f89b37d55e9f%29%3B%0A%20%20%20%20%20%20%20%20%0A%0A%20%20%20%20%20%20%20%20marker_44c8a60465dd4e99b522b848fe75d590.bindPopup%28popup_1a4e394aac7f434daaf3e95b0e548ffc%29%0A%20%20%20%20%20%20%20%20%3B%0A%0A%20%20%20%20%20%20%20%20%0A%20%20%20%20%0A%20%20%20%20%0A%20%20%20%20%20%20%20%20%20%20%20%20var%20marker_72e784fea6144a1fb3646f0acd6c564a%20%3D%20L.marker%28%0A%20%20%20%20%20%20%20%20%20%20%20%20%20%20%20%20%5B27.1303344%2C%2080.859666%5D%2C%0A%20%20%20%20%20%20%20%20%20%20%20%20%20%20%20%20%7B%7D%0A%20%20%20%20%20%20%20%20%20%20%20%20%29.addTo%28map_fd30f1bd390248bda4f04bc5f1ec1a4c%29%3B%0A%20%20%20%20%20%20%20%20%0A%20%20%20%20%0A%20%20%20%20%20%20%20%20var%20popup_67f855f1fe86494fa759393d36779dd0%20%3D%20L.popup%28%7B%22maxWidth%22%3A%20%22100%25%22%7D%29%3B%0A%0A%20%20%20%20%20%20%20%20%0A%20%20%20%20%20%20%20%20%20%20%20%20var%20html_b0968e2b74fe48eaa67a53d7259d2820%20%3D%20%24%28%60%3Cdiv%20id%3D%22html_b0968e2b74fe48eaa67a53d7259d2820%22%20style%3D%22width%3A%20100.0%25%3B%20height%3A%20100.0%25%3B%22%3ES_iele%3A%20Currently%20at%20the%20local%20and%20the%20screens%20are%20showing%20Simba%20vs%20Kaizer%20Chiefs%20%F0%9F%92%A5%20Normalize%20watching%20African%20football%3C/div%3E%60%29%5B0%5D%3B%0A%20%20%20%20%20%20%20%20%20%20%20%20popup_67f855f1fe86494fa759393d36779dd0.setContent%28html_b0968e2b74fe48eaa67a53d7259d2820%29%3B%0A%20%20%20%20%20%20%20%20%0A%0A%20%20%20%20%20%20%20%20marker_72e784fea6144a1fb3646f0acd6c564a.bindPopup%28popup_67f855f1fe86494fa759393d36779dd0%29%0A%20%20%20%20%20%20%20%20%3B%0A%0A%20%20%20%20%20%20%20%20%0A%20%20%20%20%0A%20%20%20%20%0A%20%20%20%20%20%20%20%20%20%20%20%20var%20marker_9aa3b6d91a9a432998ce3b9887fca115%20%3D%20L.marker%28%0A%20%20%20%20%20%20%20%20%20%20%20%20%20%20%20%20%5B43.411391%2C%20-106.280075%5D%2C%0A%20%20%20%20%20%20%20%20%20%20%20%20%20%20%20%20%7B%7D%0A%20%20%20%20%20%20%20%20%20%20%20%20%29.addTo%28map_fd30f1bd390248bda4f04bc5f1ec1a4c%29%3B%0A%20%20%20%20%20%20%20%20%0A%20%20%20%20%0A%20%20%20%20%20%20%20%20var%20popup_21f20f4def684cb2b6b51131307afefa%20%3D%20L.popup%28%7B%22maxWidth%22%3A%20%22100%25%22%7D%29%3B%0A%0A%20%20%20%20%20%20%20%20%0A%20%20%20%20%20%20%20%20%20%20%20%20var%20html_980628f46233447c9f8ffe0a36a0912e%20%3D%20%24%28%60%3Cdiv%20id%3D%22html_980628f46233447c9f8ffe0a36a0912e%22%20style%3D%22width%3A%20100.0%25%3B%20height%3A%20100.0%25%3B%22%3EBonesTheHaunted%3A%20Congratulations%20to%20Captain%20Fantastic.%20The%20greatest%20midfielder%20of%20all%20time.%20The%20reason%20I%20love%20football.%20%23LFC%20%23YNWA%20https%3A//t.co/vC9w9Tx5mk%3C/div%3E%60%29%5B0%5D%3B%0A%20%20%20%20%20%20%20%20%20%20%20%20popup_21f20f4def684cb2b6b51131307afefa.setContent%28html_980628f46233447c9f8ffe0a36a0912e%29%3B%0A%20%20%20%20%20%20%20%20%0A%0A%20%20%20%20%20%20%20%20marker_9aa3b6d91a9a432998ce3b9887fca115.bindPopup%28popup_21f20f4def684cb2b6b51131307afefa%29%0A%20%20%20%20%20%20%20%20%3B%0A%0A%20%20%20%20%20%20%20%20%0A%20%20%20%20%0A%20%20%20%20%0A%20%20%20%20%20%20%20%20%20%20%20%20var%20marker_e704dbbee4224853a29f9b68bb08ea11%20%3D%20L.marker%28%0A%20%20%20%20%20%20%20%20%20%20%20%20%20%20%20%20%5B-37.8142176%2C%20144.9631608%5D%2C%0A%20%20%20%20%20%20%20%20%20%20%20%20%20%20%20%20%7B%7D%0A%20%20%20%20%20%20%20%20%20%20%20%20%29.addTo%28map_fd30f1bd390248bda4f04bc5f1ec1a4c%29%3B%0A%20%20%20%20%20%20%20%20%0A%20%20%20%20%0A%20%20%20%20%20%20%20%20var%20popup_29a97cb2f9fa457e9504a5360a09e570%20%3D%20L.popup%28%7B%22maxWidth%22%3A%20%22100%25%22%7D%29%3B%0A%0A%20%20%20%20%20%20%20%20%0A%20%20%20%20%20%20%20%20%20%20%20%20var%20html_3d0a2a413bd74f76a0890226fcd26d6a%20%3D%20%24%28%60%3Cdiv%20id%3D%22html_3d0a2a413bd74f76a0890226fcd26d6a%22%20style%3D%22width%3A%20100.0%25%3B%20height%3A%20100.0%25%3B%22%3EHandstand__%3A%20%40Koollegah%20%40cfcayoubo%20%40ManMilk2%20What%20we%27re%20talking%20about%20soccer%20not%20football%3F%3C/div%3E%60%29%5B0%5D%3B%0A%20%20%20%20%20%20%20%20%20%20%20%20popup_29a97cb2f9fa457e9504a5360a09e570.setContent%28html_3d0a2a413bd74f76a0890226fcd26d6a%29%3B%0A%20%20%20%20%20%20%20%20%0A%0A%20%20%20%20%20%20%20%20marker_e704dbbee4224853a29f9b68bb08ea11.bindPopup%28popup_29a97cb2f9fa457e9504a5360a09e570%29%0A%20%20%20%20%20%20%20%20%3B%0A%0A%20%20%20%20%20%20%20%20%0A%20%20%20%20%0A%20%20%20%20%0A%20%20%20%20%20%20%20%20%20%20%20%20var%20marker_52fb72c076174ed1a0755fc4ce44cf05%20%3D%20L.marker%28%0A%20%20%20%20%20%20%20%20%20%20%20%20%20%20%20%20%5B38.9953683%2C%2021.9877132%5D%2C%0A%20%20%20%20%20%20%20%20%20%20%20%20%20%20%20%20%7B%7D%0A%20%20%20%20%20%20%20%20%20%20%20%20%29.addTo%28map_fd30f1bd390248bda4f04bc5f1ec1a4c%29%3B%0A%20%20%20%20%20%20%20%20%0A%20%20%20%20%0A%20%20%20%20%20%20%20%20var%20popup_797634f7d324437e9d4cc3f1b7bbb703%20%3D%20L.popup%28%7B%22maxWidth%22%3A%20%22100%25%22%7D%29%3B%0A%0A%20%20%20%20%20%20%20%20%0A%20%20%20%20%20%20%20%20%20%20%20%20var%20html_aabea2fed69a46aaad7b46ada1c62e70%20%3D%20%24%28%60%3Cdiv%20id%3D%22html_aabea2fed69a46aaad7b46ada1c62e70%22%20style%3D%22width%3A%20100.0%25%3B%20height%3A%20100.0%25%3B%22%3ELiveBettingTip2%3A%20I%20ll%20try%20some%20picks%20for%20the%20night.%20%20Good%20luck%20all%20%F0%9F%92%B0%20%20%23bettingtips%20%23predictions%20%23odds%20%23football%20%23tips%20https%3A//t.co/IzBu7EpH2G%3C/div%3E%60%29%5B0%5D%3B%0A%20%20%20%20%20%20%20%20%20%20%20%20popup_797634f7d324437e9d4cc3f1b7bbb703.setContent%28html_aabea2fed69a46aaad7b46ada1c62e70%29%3B%0A%20%20%20%20%20%20%20%20%0A%0A%20%20%20%20%20%20%20%20marker_52fb72c076174ed1a0755fc4ce44cf05.bindPopup%28popup_797634f7d324437e9d4cc3f1b7bbb703%29%0A%20%20%20%20%20%20%20%20%3B%0A%0A%20%20%20%20%20%20%20%20%0A%20%20%20%20%0A%20%20%20%20%0A%20%20%20%20%20%20%20%20%20%20%20%20var%20marker_3dea7d72d31141e1b7545c25d9e8d0a8%20%3D%20L.marker%28%0A%20%20%20%20%20%20%20%20%20%20%20%20%20%20%20%20%5B20.18371%2C%20104.25564%5D%2C%0A%20%20%20%20%20%20%20%20%20%20%20%20%20%20%20%20%7B%7D%0A%20%20%20%20%20%20%20%20%20%20%20%20%29.addTo%28map_fd30f1bd390248bda4f04bc5f1ec1a4c%29%3B%0A%20%20%20%20%20%20%20%20%0A%20%20%20%20%0A%20%20%20%20%20%20%20%20var%20popup_600a55d1e3cf4a9e9fdbde1756e353fa%20%3D%20L.popup%28%7B%22maxWidth%22%3A%20%22100%25%22%7D%29%3B%0A%0A%20%20%20%20%20%20%20%20%0A%20%20%20%20%20%20%20%20%20%20%20%20var%20html_a84e4d209a5e4db99b3b3e86ee8dd8cd%20%3D%20%24%28%60%3Cdiv%20id%3D%22html_a84e4d209a5e4db99b3b3e86ee8dd8cd%22%20style%3D%22width%3A%20100.0%25%3B%20height%3A%20100.0%25%3B%22%3EugIyguy%3A%20pieface%20is%20literally%20bigger%20than%20football%20you%20love%20to%20see%20it%20%F0%9F%98%AD%3C/div%3E%60%29%5B0%5D%3B%0A%20%20%20%20%20%20%20%20%20%20%20%20popup_600a55d1e3cf4a9e9fdbde1756e353fa.setContent%28html_a84e4d209a5e4db99b3b3e86ee8dd8cd%29%3B%0A%20%20%20%20%20%20%20%20%0A%0A%20%20%20%20%20%20%20%20marker_3dea7d72d31141e1b7545c25d9e8d0a8.bindPopup%28popup_600a55d1e3cf4a9e9fdbde1756e353fa%29%0A%20%20%20%20%20%20%20%20%3B%0A%0A%20%20%20%20%20%20%20%20%0A%20%20%20%20%0A%20%20%20%20%0A%20%20%20%20%20%20%20%20%20%20%20%20var%20marker_3691f75bdf7043188e54222b0d614571%20%3D%20L.marker%28%0A%20%20%20%20%20%20%20%20%20%20%20%20%20%20%20%20%5B22.2823025%2C%20114.157860633904%5D%2C%0A%20%20%20%20%20%20%20%20%20%20%20%20%20%20%20%20%7B%7D%0A%20%20%20%20%20%20%20%20%20%20%20%20%29.addTo%28map_fd30f1bd390248bda4f04bc5f1ec1a4c%29%3B%0A%20%20%20%20%20%20%20%20%0A%20%20%20%20%0A%20%20%20%20%20%20%20%20var%20popup_c4d075a4151f47ebbd60fe892afec97a%20%3D%20L.popup%28%7B%22maxWidth%22%3A%20%22100%25%22%7D%29%3B%0A%0A%20%20%20%20%20%20%20%20%0A%20%20%20%20%20%20%20%20%20%20%20%20var%20html_aac4e9e769e34698b02e4107c7369229%20%3D%20%24%28%60%3Cdiv%20id%3D%22html_aac4e9e769e34698b02e4107c7369229%22%20style%3D%22width%3A%20100.0%25%3B%20height%3A%20100.0%25%3B%22%3ETheRealTakuza%3A%20%40Shimaninkillale%20Pitso%20is%20leaving%20behind%20emotional%20scars%3F%20%22Pretty%20football%20doesn%27t%20win%20matches%22%20%22Sundowns%20has%20been%20playing%20beautiful%20football%20even%20before%20I%20came%20to%20Sundowns%20%22-%20Pitso%3C/div%3E%60%29%5B0%5D%3B%0A%20%20%20%20%20%20%20%20%20%20%20%20popup_c4d075a4151f47ebbd60fe892afec97a.setContent%28html_aac4e9e769e34698b02e4107c7369229%29%3B%0A%20%20%20%20%20%20%20%20%0A%0A%20%20%20%20%20%20%20%20marker_3691f75bdf7043188e54222b0d614571.bindPopup%28popup_c4d075a4151f47ebbd60fe892afec97a%29%0A%20%20%20%20%20%20%20%20%3B%0A%0A%20%20%20%20%20%20%20%20%0A%20%20%20%20%0A%20%20%20%20%0A%20%20%20%20%20%20%20%20%20%20%20%20var%20marker_564a51cbba0449f7b9736946fb185750%20%3D%20L.marker%28%0A%20%20%20%20%20%20%20%20%20%20%20%20%20%20%20%20%5B53.9318994%2C%20-1.1664716608886%5D%2C%0A%20%20%20%20%20%20%20%20%20%20%20%20%20%20%20%20%7B%7D%0A%20%20%20%20%20%20%20%20%20%20%20%20%29.addTo%28map_fd30f1bd390248bda4f04bc5f1ec1a4c%29%3B%0A%20%20%20%20%20%20%20%20%0A%20%20%20%20%0A%20%20%20%20%20%20%20%20var%20popup_1acd894d9e5f4cb39ff84f582be390fb%20%3D%20L.popup%28%7B%22maxWidth%22%3A%20%22100%25%22%7D%29%3B%0A%0A%20%20%20%20%20%20%20%20%0A%20%20%20%20%20%20%20%20%20%20%20%20var%20html_d8c7df9d13d74472bf0f44a613df392d%20%3D%20%24%28%60%3Cdiv%20id%3D%22html_d8c7df9d13d74472bf0f44a613df392d%22%20style%3D%22width%3A%20100.0%25%3B%20height%3A%20100.0%25%3B%22%3Echarliegillies0%3A%20The%20Rugby%20League%20HQ%3A%20The%20Rugby%20Football%20League%20to%20change%20the%20Academy%20rule-enable%20them%20to%20ALL%20professional%20Rugby%20Clubs%20-%20Sign%20the%20Petition%21%20https%3A//t.co/iXFdOz4Rmi%20via%20%40UKChange%3C/div%3E%60%29%5B0%5D%3B%0A%20%20%20%20%20%20%20%20%20%20%20%20popup_1acd894d9e5f4cb39ff84f582be390fb.setContent%28html_d8c7df9d13d74472bf0f44a613df392d%29%3B%0A%20%20%20%20%20%20%20%20%0A%0A%20%20%20%20%20%20%20%20marker_564a51cbba0449f7b9736946fb185750.bindPopup%28popup_1acd894d9e5f4cb39ff84f582be390fb%29%0A%20%20%20%20%20%20%20%20%3B%0A%0A%20%20%20%20%20%20%20%20%0A%20%20%20%20%0A%20%20%20%20%0A%20%20%20%20%20%20%20%20%20%20%20%20var%20marker_aa6b3b59dd0145708ab08d70ca6e8cbe%20%3D%20L.marker%28%0A%20%20%20%20%20%20%20%20%20%20%20%20%20%20%20%20%5B34.3916641%2C%20-118.542586%5D%2C%0A%20%20%20%20%20%20%20%20%20%20%20%20%20%20%20%20%7B%7D%0A%20%20%20%20%20%20%20%20%20%20%20%20%29.addTo%28map_fd30f1bd390248bda4f04bc5f1ec1a4c%29%3B%0A%20%20%20%20%20%20%20%20%0A%20%20%20%20%0A%20%20%20%20%20%20%20%20var%20popup_83139e75e76a4c2fa2ed4402b57f787d%20%3D%20L.popup%28%7B%22maxWidth%22%3A%20%22100%25%22%7D%29%3B%0A%0A%20%20%20%20%20%20%20%20%0A%20%20%20%20%20%20%20%20%20%20%20%20var%20html_464f5468653b4b3d896c60022ed08d3d%20%3D%20%24%28%60%3Cdiv%20id%3D%22html_464f5468653b4b3d896c60022ed08d3d%22%20style%3D%22width%3A%20100.0%25%3B%20height%3A%20100.0%25%3B%22%3ETimBonino%3A%20%40hungryhipp0e%20%40ziptrip31%20%40AnonAnon98765%20%40BreitbartNews%20I%20also%20like%20hockey%2C%20baseball%20and%20football%20what%E2%80%99s%20your%20point%3F%3C/div%3E%60%29%5B0%5D%3B%0A%20%20%20%20%20%20%20%20%20%20%20%20popup_83139e75e76a4c2fa2ed4402b57f787d.setContent%28html_464f5468653b4b3d896c60022ed08d3d%29%3B%0A%20%20%20%20%20%20%20%20%0A%0A%20%20%20%20%20%20%20%20marker_aa6b3b59dd0145708ab08d70ca6e8cbe.bindPopup%28popup_83139e75e76a4c2fa2ed4402b57f787d%29%0A%20%20%20%20%20%20%20%20%3B%0A%0A%20%20%20%20%20%20%20%20%0A%20%20%20%20%0A%20%20%20%20%0A%20%20%20%20%20%20%20%20%20%20%20%20var%20marker_496b1b60c6aa42e68ae9158ffaa8d4a9%20%3D%20L.marker%28%0A%20%20%20%20%20%20%20%20%20%20%20%20%20%20%20%20%5B51.5073219%2C%20-0.1276474%5D%2C%0A%20%20%20%20%20%20%20%20%20%20%20%20%20%20%20%20%7B%7D%0A%20%20%20%20%20%20%20%20%20%20%20%20%29.addTo%28map_fd30f1bd390248bda4f04bc5f1ec1a4c%29%3B%0A%20%20%20%20%20%20%20%20%0A%20%20%20%20%0A%20%20%20%20%20%20%20%20var%20popup_5858c17f03c947589e9a68d889997eb7%20%3D%20L.popup%28%7B%22maxWidth%22%3A%20%22100%25%22%7D%29%3B%0A%0A%20%20%20%20%20%20%20%20%0A%20%20%20%20%20%20%20%20%20%20%20%20var%20html_9f9db6ce2aa344df98bc9031a84fed5b%20%3D%20%24%28%60%3Cdiv%20id%3D%22html_9f9db6ce2aa344df98bc9031a84fed5b%22%20style%3D%22width%3A%20100.0%25%3B%20height%3A%20100.0%25%3B%22%3EEvaCaletkova%3A%20Imagine%20being%20Marcus%20Rashford.%20You%E2%80%99re%20just%20going%20about%20your%20business%2C%20playing%20football%20for%20MUFC%20%26amp%3B%20England..%20Then%20you%20put%20out%20a%20Twitter%20thread%20suggesting%20that%20the%20country%E2%80%99s%20poorest%20%23children%20need%20to%20be%20supported%20better%20in%20the%20pandemic..%20https%3A//t.co/vxR04ZacrU%20%23poverty%20%23books%3C/div%3E%60%29%5B0%5D%3B%0A%20%20%20%20%20%20%20%20%20%20%20%20popup_5858c17f03c947589e9a68d889997eb7.setContent%28html_9f9db6ce2aa344df98bc9031a84fed5b%29%3B%0A%20%20%20%20%20%20%20%20%0A%0A%20%20%20%20%20%20%20%20marker_496b1b60c6aa42e68ae9158ffaa8d4a9.bindPopup%28popup_5858c17f03c947589e9a68d889997eb7%29%0A%20%20%20%20%20%20%20%20%3B%0A%0A%20%20%20%20%20%20%20%20%0A%20%20%20%20%0A%20%20%20%20%0A%20%20%20%20%20%20%20%20%20%20%20%20var%20marker_dfee2660a053426ea937b228929493c8%20%3D%20L.marker%28%0A%20%20%20%20%20%20%20%20%20%20%20%20%20%20%20%20%5B49.1479721%2C%205.3428125%5D%2C%0A%20%20%20%20%20%20%20%20%20%20%20%20%20%20%20%20%7B%7D%0A%20%20%20%20%20%20%20%20%20%20%20%20%29.addTo%28map_fd30f1bd390248bda4f04bc5f1ec1a4c%29%3B%0A%20%20%20%20%20%20%20%20%0A%20%20%20%20%0A%20%20%20%20%20%20%20%20var%20popup_ced3d64d96964c2cb49f0851fcf5b565%20%3D%20L.popup%28%7B%22maxWidth%22%3A%20%22100%25%22%7D%29%3B%0A%0A%20%20%20%20%20%20%20%20%0A%20%20%20%20%20%20%20%20%20%20%20%20var%20html_7e72e2c7b51c4f8a9ffbace1f7585cef%20%3D%20%24%28%60%3Cdiv%20id%3D%22html_7e72e2c7b51c4f8a9ffbace1f7585cef%22%20style%3D%22width%3A%20100.0%25%3B%20height%3A%20100.0%25%3B%22%3Elesbiansforgnf%3A%20%40iHugHyeju%20He%27s%20reffering%20to%20football%20stans%3C/div%3E%60%29%5B0%5D%3B%0A%20%20%20%20%20%20%20%20%20%20%20%20popup_ced3d64d96964c2cb49f0851fcf5b565.setContent%28html_7e72e2c7b51c4f8a9ffbace1f7585cef%29%3B%0A%20%20%20%20%20%20%20%20%0A%0A%20%20%20%20%20%20%20%20marker_dfee2660a053426ea937b228929493c8.bindPopup%28popup_ced3d64d96964c2cb49f0851fcf5b565%29%0A%20%20%20%20%20%20%20%20%3B%0A%0A%20%20%20%20%20%20%20%20%0A%20%20%20%20%0A%20%20%20%20%0A%20%20%20%20%20%20%20%20%20%20%20%20var%20marker_e2315b4d2a4f497b92d844c14172a9d7%20%3D%20L.marker%28%0A%20%20%20%20%20%20%20%20%20%20%20%20%20%20%20%20%5B54.9770924%2C%20-1.6142059%5D%2C%0A%20%20%20%20%20%20%20%20%20%20%20%20%20%20%20%20%7B%7D%0A%20%20%20%20%20%20%20%20%20%20%20%20%29.addTo%28map_fd30f1bd390248bda4f04bc5f1ec1a4c%29%3B%0A%20%20%20%20%20%20%20%20%0A%20%20%20%20%0A%20%20%20%20%20%20%20%20var%20popup_3f92f183ce1648c886010a025f62f5f5%20%3D%20L.popup%28%7B%22maxWidth%22%3A%20%22100%25%22%7D%29%3B%0A%0A%20%20%20%20%20%20%20%20%0A%20%20%20%20%20%20%20%20%20%20%20%20var%20html_f76ef9d573204e5fb0171d746badcc40%20%3D%20%24%28%60%3Cdiv%20id%3D%22html_f76ef9d573204e5fb0171d746badcc40%22%20style%3D%22width%3A%20100.0%25%3B%20height%3A%20100.0%25%3B%22%3EGreavesie86%3A%20%40FootyRustling%20%40PeterCrouchPod%20we%20need%20a%20late%20entry%20for%20football%20club%20shithousery.%20Or%20whenshithousery%20goes%20wrong.%3C/div%3E%60%29%5B0%5D%3B%0A%20%20%20%20%20%20%20%20%20%20%20%20popup_3f92f183ce1648c886010a025f62f5f5.setContent%28html_f76ef9d573204e5fb0171d746badcc40%29%3B%0A%20%20%20%20%20%20%20%20%0A%0A%20%20%20%20%20%20%20%20marker_e2315b4d2a4f497b92d844c14172a9d7.bindPopup%28popup_3f92f183ce1648c886010a025f62f5f5%29%0A%20%20%20%20%20%20%20%20%3B%0A%0A%20%20%20%20%20%20%20%20%0A%20%20%20%20%0A%20%20%20%20%0A%20%20%20%20%20%20%20%20%20%20%20%20var%20marker_4c2f0b213cfa4e168c67d42cd0fdb846%20%3D%20L.marker%28%0A%20%20%20%20%20%20%20%20%20%20%20%20%20%20%20%20%5B41.6029829%2C%202.2911261%5D%2C%0A%20%20%20%20%20%20%20%20%20%20%20%20%20%20%20%20%7B%7D%0A%20%20%20%20%20%20%20%20%20%20%20%20%29.addTo%28map_fd30f1bd390248bda4f04bc5f1ec1a4c%29%3B%0A%20%20%20%20%20%20%20%20%0A%20%20%20%20%0A%20%20%20%20%20%20%20%20var%20popup_c1778117b0d343feb0c7290f55cdf00f%20%3D%20L.popup%28%7B%22maxWidth%22%3A%20%22100%25%22%7D%29%3B%0A%0A%20%20%20%20%20%20%20%20%0A%20%20%20%20%20%20%20%20%20%20%20%20var%20html_fa5485c5f0974cda9c82d7856d8cebfe%20%3D%20%24%28%60%3Cdiv%20id%3D%22html_fa5485c5f0974cda9c82d7856d8cebfe%22%20style%3D%22width%3A%20100.0%25%3B%20height%3A%20100.0%25%3B%22%3ESaIibinho%3A%20%40afcpintcheur%20Talent%20wise%20yes%20but%20the%20problem%20is%20that%20one%20is%20consistently%20unreal%20and%20a%20football%20legend%20while%20the%20other%20isnt%20%20Pogba%20is%20still%20only%2026%20tho%20he%20can%20pick%20it%20up%3C/div%3E%60%29%5B0%5D%3B%0A%20%20%20%20%20%20%20%20%20%20%20%20popup_c1778117b0d343feb0c7290f55cdf00f.setContent%28html_fa5485c5f0974cda9c82d7856d8cebfe%29%3B%0A%20%20%20%20%20%20%20%20%0A%0A%20%20%20%20%20%20%20%20marker_4c2f0b213cfa4e168c67d42cd0fdb846.bindPopup%28popup_c1778117b0d343feb0c7290f55cdf00f%29%0A%20%20%20%20%20%20%20%20%3B%0A%0A%20%20%20%20%20%20%20%20%0A%20%20%20%20%0A%20%20%20%20%0A%20%20%20%20%20%20%20%20%20%20%20%20var%20marker_523abee7f76846e8b9ea0d1a13d73201%20%3D%20L.marker%28%0A%20%20%20%20%20%20%20%20%20%20%20%20%20%20%20%20%5B32.3293809%2C%20-83.1137366%5D%2C%0A%20%20%20%20%20%20%20%20%20%20%20%20%20%20%20%20%7B%7D%0A%20%20%20%20%20%20%20%20%20%20%20%20%29.addTo%28map_fd30f1bd390248bda4f04bc5f1ec1a4c%29%3B%0A%20%20%20%20%20%20%20%20%0A%20%20%20%20%0A%20%20%20%20%20%20%20%20var%20popup_dfb1e8c57edd4ff08442e86a9da72382%20%3D%20L.popup%28%7B%22maxWidth%22%3A%20%22100%25%22%7D%29%3B%0A%0A%20%20%20%20%20%20%20%20%0A%20%20%20%20%20%20%20%20%20%20%20%20var%20html_51764b46b9f143958152390f63dc4059%20%3D%20%24%28%60%3Cdiv%20id%3D%22html_51764b46b9f143958152390f63dc4059%22%20style%3D%22width%3A%20100.0%25%3B%20height%3A%20100.0%25%3B%22%3EshodamolaJR%3A%20I%20want%20to%20play%20flag%20football%20but%20to%20travel%20to%20the%20south%20side%20%F0%9F%98%95%F0%9F%A5%B4%3C/div%3E%60%29%5B0%5D%3B%0A%20%20%20%20%20%20%20%20%20%20%20%20popup_dfb1e8c57edd4ff08442e86a9da72382.setContent%28html_51764b46b9f143958152390f63dc4059%29%3B%0A%20%20%20%20%20%20%20%20%0A%0A%20%20%20%20%20%20%20%20marker_523abee7f76846e8b9ea0d1a13d73201.bindPopup%28popup_dfb1e8c57edd4ff08442e86a9da72382%29%0A%20%20%20%20%20%20%20%20%3B%0A%0A%20%20%20%20%20%20%20%20%0A%20%20%20%20%0A%20%20%20%20%0A%20%20%20%20%20%20%20%20%20%20%20%20var%20marker_aea0da1f0cbf41f6b3a30a4b12dc70be%20%3D%20L.marker%28%0A%20%20%20%20%20%20%20%20%20%20%20%20%20%20%20%20%5B22.2823025%2C%20114.157860633904%5D%2C%0A%20%20%20%20%20%20%20%20%20%20%20%20%20%20%20%20%7B%7D%0A%20%20%20%20%20%20%20%20%20%20%20%20%29.addTo%28map_fd30f1bd390248bda4f04bc5f1ec1a4c%29%3B%0A%20%20%20%20%20%20%20%20%0A%20%20%20%20%0A%20%20%20%20%20%20%20%20var%20popup_0d4da9aa67704b14aec27748e3de280c%20%3D%20L.popup%28%7B%22maxWidth%22%3A%20%22100%25%22%7D%29%3B%0A%0A%20%20%20%20%20%20%20%20%0A%20%20%20%20%20%20%20%20%20%20%20%20var%20html_67e6b130c9c54f16b842f9b33518ca2f%20%3D%20%24%28%60%3Cdiv%20id%3D%22html_67e6b130c9c54f16b842f9b33518ca2f%22%20style%3D%22width%3A%20100.0%25%3B%20height%3A%20100.0%25%3B%22%3EProdigalangelo%3A%20%40NkwontahInnocen%20%40_SirBash%20%40UtdOptimist%20%40AidanWalshMUFC%20Price%20him%20and%20see%20if%20he%20will%20come.%20Yall%20better%20allow%20the%20ndidi%20enjoy%20football%20and%20success%20at%20Leicester.%3C/div%3E%60%29%5B0%5D%3B%0A%20%20%20%20%20%20%20%20%20%20%20%20popup_0d4da9aa67704b14aec27748e3de280c.setContent%28html_67e6b130c9c54f16b842f9b33518ca2f%29%3B%0A%20%20%20%20%20%20%20%20%0A%0A%20%20%20%20%20%20%20%20marker_aea0da1f0cbf41f6b3a30a4b12dc70be.bindPopup%28popup_0d4da9aa67704b14aec27748e3de280c%29%0A%20%20%20%20%20%20%20%20%3B%0A%0A%20%20%20%20%20%20%20%20%0A%20%20%20%20%0A%20%20%20%20%0A%20%20%20%20%20%20%20%20%20%20%20%20var%20marker_8cc6fe5090d64415b70361e04249b1ac%20%3D%20L.marker%28%0A%20%20%20%20%20%20%20%20%20%20%20%20%20%20%20%20%5B9.6000359%2C%207.9999721%5D%2C%0A%20%20%20%20%20%20%20%20%20%20%20%20%20%20%20%20%7B%7D%0A%20%20%20%20%20%20%20%20%20%20%20%20%29.addTo%28map_fd30f1bd390248bda4f04bc5f1ec1a4c%29%3B%0A%20%20%20%20%20%20%20%20%0A%20%20%20%20%0A%20%20%20%20%20%20%20%20var%20popup_c6d7c24c7a6246d193ef6ffc74c358e6%20%3D%20L.popup%28%7B%22maxWidth%22%3A%20%22100%25%22%7D%29%3B%0A%0A%20%20%20%20%20%20%20%20%0A%20%20%20%20%20%20%20%20%20%20%20%20var%20html_b5675c1c7b0f483ea59643185c27fa4e%20%3D%20%24%28%60%3Cdiv%20id%3D%22html_b5675c1c7b0f483ea59643185c27fa4e%22%20style%3D%22width%3A%20100.0%25%3B%20height%3A%20100.0%25%3B%22%3ESavage_T_Raw%3A%20%40kusssman%20No%20footballer%20plays%20football%20for%20free%2C%20Tottie%20stayed%20at%20Roma%20when%20he%20had%20offers%20from%20all%20over%20the%20world.%20You%20want%20to%20tell%20me%20Totti%20wasn%E2%80%99t%20loyal%3F%3C/div%3E%60%29%5B0%5D%3B%0A%20%20%20%20%20%20%20%20%20%20%20%20popup_c6d7c24c7a6246d193ef6ffc74c358e6.setContent%28html_b5675c1c7b0f483ea59643185c27fa4e%29%3B%0A%20%20%20%20%20%20%20%20%0A%0A%20%20%20%20%20%20%20%20marker_8cc6fe5090d64415b70361e04249b1ac.bindPopup%28popup_c6d7c24c7a6246d193ef6ffc74c358e6%29%0A%20%20%20%20%20%20%20%20%3B%0A%0A%20%20%20%20%20%20%20%20%0A%20%20%20%20%0A%20%20%20%20%0A%20%20%20%20%20%20%20%20%20%20%20%20var%20marker_9b554d452171478ba44c05673f6c083c%20%3D%20L.marker%28%0A%20%20%20%20%20%20%20%20%20%20%20%20%20%20%20%20%5B52.7954791%2C%20-0.540240286617432%5D%2C%0A%20%20%20%20%20%20%20%20%20%20%20%20%20%20%20%20%7B%7D%0A%20%20%20%20%20%20%20%20%20%20%20%20%29.addTo%28map_fd30f1bd390248bda4f04bc5f1ec1a4c%29%3B%0A%20%20%20%20%20%20%20%20%0A%20%20%20%20%0A%20%20%20%20%20%20%20%20var%20popup_68f29dd4da9247b6939a1619c740a175%20%3D%20L.popup%28%7B%22maxWidth%22%3A%20%22100%25%22%7D%29%3B%0A%0A%20%20%20%20%20%20%20%20%0A%20%20%20%20%20%20%20%20%20%20%20%20var%20html_94ca46b47333463b9da67f95abea2058%20%3D%20%24%28%60%3Cdiv%20id%3D%22html_94ca46b47333463b9da67f95abea2058%22%20style%3D%22width%3A%20100.0%25%3B%20height%3A%20100.0%25%3B%22%3EGE_1970%3A%20Football%20fans%20in%20the%20%40Sunderlanduk%20city%20and%20pubs.%20Groups%20wandering%20from%20pub%20to%20pub.%20People%20shopping.%20Almost%20normal.%20%20%20Masks%20are%20the%20only%20real%20sign%20and%20thinner%20crowds.%20%20Both%20exciting%20and%20a%20worry%20%40melia_pat%3C/div%3E%60%29%5B0%5D%3B%0A%20%20%20%20%20%20%20%20%20%20%20%20popup_68f29dd4da9247b6939a1619c740a175.setContent%28html_94ca46b47333463b9da67f95abea2058%29%3B%0A%20%20%20%20%20%20%20%20%0A%0A%20%20%20%20%20%20%20%20marker_9b554d452171478ba44c05673f6c083c.bindPopup%28popup_68f29dd4da9247b6939a1619c740a175%29%0A%20%20%20%20%20%20%20%20%3B%0A%0A%20%20%20%20%20%20%20%20%0A%20%20%20%20%0A%20%20%20%20%0A%20%20%20%20%20%20%20%20%20%20%20%20var%20marker_011d91daad2148648db333edf774b68e%20%3D%20L.marker%28%0A%20%20%20%20%20%20%20%20%20%20%20%20%20%20%20%20%5B41.6029829%2C%202.2911261%5D%2C%0A%20%20%20%20%20%20%20%20%20%20%20%20%20%20%20%20%7B%7D%0A%20%20%20%20%20%20%20%20%20%20%20%20%29.addTo%28map_fd30f1bd390248bda4f04bc5f1ec1a4c%29%3B%0A%20%20%20%20%20%20%20%20%0A%20%20%20%20%0A%20%20%20%20%20%20%20%20var%20popup_137f881b071f40fdb10912d9add90545%20%3D%20L.popup%28%7B%22maxWidth%22%3A%20%22100%25%22%7D%29%3B%0A%0A%20%20%20%20%20%20%20%20%0A%20%20%20%20%20%20%20%20%20%20%20%20var%20html_dc9aaf6530bd428381aed52ed98238ad%20%3D%20%24%28%60%3Cdiv%20id%3D%22html_dc9aaf6530bd428381aed52ed98238ad%22%20style%3D%22width%3A%20100.0%25%3B%20height%3A%20100.0%25%3B%22%3ESaIibinho%3A%20%40afcpintcheur%20The%20football%20legend%20thing%3C/div%3E%60%29%5B0%5D%3B%0A%20%20%20%20%20%20%20%20%20%20%20%20popup_137f881b071f40fdb10912d9add90545.setContent%28html_dc9aaf6530bd428381aed52ed98238ad%29%3B%0A%20%20%20%20%20%20%20%20%0A%0A%20%20%20%20%20%20%20%20marker_011d91daad2148648db333edf774b68e.bindPopup%28popup_137f881b071f40fdb10912d9add90545%29%0A%20%20%20%20%20%20%20%20%3B%0A%0A%20%20%20%20%20%20%20%20%0A%20%20%20%20%0A%20%20%20%20%0A%20%20%20%20%20%20%20%20%20%20%20%20var%20marker_72613977a9aa4ae0ae5c502cefd4eb67%20%3D%20L.marker%28%0A%20%20%20%20%20%20%20%20%20%20%20%20%20%20%20%20%5B29.4246002%2C%20-98.4951405%5D%2C%0A%20%20%20%20%20%20%20%20%20%20%20%20%20%20%20%20%7B%7D%0A%20%20%20%20%20%20%20%20%20%20%20%20%29.addTo%28map_fd30f1bd390248bda4f04bc5f1ec1a4c%29%3B%0A%20%20%20%20%20%20%20%20%0A%20%20%20%20%0A%20%20%20%20%20%20%20%20var%20popup_6a5bee661a0e43c3960d49780e93fd9d%20%3D%20L.popup%28%7B%22maxWidth%22%3A%20%22100%25%22%7D%29%3B%0A%0A%20%20%20%20%20%20%20%20%0A%20%20%20%20%20%20%20%20%20%20%20%20var%20html_df622e9844354603bec48ae8985c5046%20%3D%20%24%28%60%3Cdiv%20id%3D%22html_df622e9844354603bec48ae8985c5046%22%20style%3D%22width%3A%20100.0%25%3B%20height%3A%20100.0%25%3B%22%3EConsrvativeVato%3A%20Not%20sure%20but%20I%20may%20actually%20watch%20some%20football%20next%20time%20around.%20%20First%20time%20since%20the%20kneeling%20fiasco.%20%20But%2C%20maybe%20not.%20%20Good%20luck%20Tim%21%20%20%20%23NFL%3C/div%3E%60%29%5B0%5D%3B%0A%20%20%20%20%20%20%20%20%20%20%20%20popup_6a5bee661a0e43c3960d49780e93fd9d.setContent%28html_df622e9844354603bec48ae8985c5046%29%3B%0A%20%20%20%20%20%20%20%20%0A%0A%20%20%20%20%20%20%20%20marker_72613977a9aa4ae0ae5c502cefd4eb67.bindPopup%28popup_6a5bee661a0e43c3960d49780e93fd9d%29%0A%20%20%20%20%20%20%20%20%3B%0A%0A%20%20%20%20%20%20%20%20%0A%20%20%20%20%0A%20%20%20%20%0A%20%20%20%20%20%20%20%20%20%20%20%20var%20marker_2c6790c75fce4a9f9338ebc6bc7b5d99%20%3D%20L.marker%28%0A%20%20%20%20%20%20%20%20%20%20%20%20%20%20%20%20%5B40.317287%2C%20-79.3840301%5D%2C%0A%20%20%20%20%20%20%20%20%20%20%20%20%20%20%20%20%7B%7D%0A%20%20%20%20%20%20%20%20%20%20%20%20%29.addTo%28map_fd30f1bd390248bda4f04bc5f1ec1a4c%29%3B%0A%20%20%20%20%20%20%20%20%0A%20%20%20%20%0A%20%20%20%20%20%20%20%20var%20popup_df70343caa7a4129ba8ed7bb95b8a325%20%3D%20L.popup%28%7B%22maxWidth%22%3A%20%22100%25%22%7D%29%3B%0A%0A%20%20%20%20%20%20%20%20%0A%20%20%20%20%20%20%20%20%20%20%20%20var%20html_24bc6840f20047a6bb20365556276856%20%3D%20%24%28%60%3Cdiv%20id%3D%22html_24bc6840f20047a6bb20365556276856%22%20style%3D%22width%3A%20100.0%25%3B%20height%3A%20100.0%25%3B%22%3ESVC_Football%3A%20Join%20us%20in%20celebrating%20our%20Class%20of%202021%20Bearcat%20Football%20Seniors.%20Congratulations%20Bruce%20Johnson%21%20%23RiseTogether%20https%3A//t.co/AbM2dtVGZK%3C/div%3E%60%29%5B0%5D%3B%0A%20%20%20%20%20%20%20%20%20%20%20%20popup_df70343caa7a4129ba8ed7bb95b8a325.setContent%28html_24bc6840f20047a6bb20365556276856%29%3B%0A%20%20%20%20%20%20%20%20%0A%0A%20%20%20%20%20%20%20%20marker_2c6790c75fce4a9f9338ebc6bc7b5d99.bindPopup%28popup_df70343caa7a4129ba8ed7bb95b8a325%29%0A%20%20%20%20%20%20%20%20%3B%0A%0A%20%20%20%20%20%20%20%20%0A%20%20%20%20%0A%20%20%20%20%0A%20%20%20%20%20%20%20%20%20%20%20%20var%20marker_45ae4f2fb6eb4d95beef1977072b52df%20%3D%20L.marker%28%0A%20%20%20%20%20%20%20%20%20%20%20%20%20%20%20%20%5B53.4713198%2C%20-2.299083%5D%2C%0A%20%20%20%20%20%20%20%20%20%20%20%20%20%20%20%20%7B%7D%0A%20%20%20%20%20%20%20%20%20%20%20%20%29.addTo%28map_fd30f1bd390248bda4f04bc5f1ec1a4c%29%3B%0A%20%20%20%20%20%20%20%20%0A%20%20%20%20%0A%20%20%20%20%20%20%20%20var%20popup_465e2a4dd2da4677819557f64929f2fb%20%3D%20L.popup%28%7B%22maxWidth%22%3A%20%22100%25%22%7D%29%3B%0A%0A%20%20%20%20%20%20%20%20%0A%20%20%20%20%20%20%20%20%20%20%20%20var%20html_b41ebee72eaf49fcb93f3c64861e04c9%20%3D%20%24%28%60%3Cdiv%20id%3D%22html_b41ebee72eaf49fcb93f3c64861e04c9%22%20style%3D%22width%3A%20100.0%25%3B%20height%3A%20100.0%25%3B%22%3EBBCSport%3A%20Barcelona%20are%20yet%20to%20begin%20contract%20renewal%20negotiations%20with%20Lionel%20Messi%20and%20PSG%20are%20%22looking%20closely%22%20at%20the%20situation%2C%20writes%20Spanish%20football%20expert%20%40GuillemBalague.%20%20%23bbcfootball%3C/div%3E%60%29%5B0%5D%3B%0A%20%20%20%20%20%20%20%20%20%20%20%20popup_465e2a4dd2da4677819557f64929f2fb.setContent%28html_b41ebee72eaf49fcb93f3c64861e04c9%29%3B%0A%20%20%20%20%20%20%20%20%0A%0A%20%20%20%20%20%20%20%20marker_45ae4f2fb6eb4d95beef1977072b52df.bindPopup%28popup_465e2a4dd2da4677819557f64929f2fb%29%0A%20%20%20%20%20%20%20%20%3B%0A%0A%20%20%20%20%20%20%20%20%0A%20%20%20%20%0A%20%20%20%20%0A%20%20%20%20%20%20%20%20%20%20%20%20var%20marker_b10a77335a144995ae2261da27d181b2%20%3D%20L.marker%28%0A%20%20%20%20%20%20%20%20%20%20%20%20%20%20%20%20%5B54.7023545%2C%20-3.2765753%5D%2C%0A%20%20%20%20%20%20%20%20%20%20%20%20%20%20%20%20%7B%7D%0A%20%20%20%20%20%20%20%20%20%20%20%20%29.addTo%28map_fd30f1bd390248bda4f04bc5f1ec1a4c%29%3B%0A%20%20%20%20%20%20%20%20%0A%20%20%20%20%0A%20%20%20%20%20%20%20%20var%20popup_918468e581c941b4b185a190275db370%20%3D%20L.popup%28%7B%22maxWidth%22%3A%20%22100%25%22%7D%29%3B%0A%0A%20%20%20%20%20%20%20%20%0A%20%20%20%20%20%20%20%20%20%20%20%20var%20html_557f6f56754b4a9c9627a82b25454c0d%20%3D%20%24%28%60%3Cdiv%20id%3D%22html_557f6f56754b4a9c9627a82b25454c0d%22%20style%3D%22width%3A%20100.0%25%3B%20height%3A%20100.0%25%3B%22%3EDiscountFK%3A%20%C2%A3120%20for%2012%20x%20Nike%20Park%20Team%20Training%20Footballs%20%2B%20FREE%20Mesh%20Bag.%20%E2%9A%BD%E2%9A%BD%E2%9A%BD%20%20Order%20yours%20today%20%E2%AC%87%20https%3A//t.co/Oo3kWc2tza%20https%3A//t.co/crZG74WVSB%3C/div%3E%60%29%5B0%5D%3B%0A%20%20%20%20%20%20%20%20%20%20%20%20popup_918468e581c941b4b185a190275db370.setContent%28html_557f6f56754b4a9c9627a82b25454c0d%29%3B%0A%20%20%20%20%20%20%20%20%0A%0A%20%20%20%20%20%20%20%20marker_b10a77335a144995ae2261da27d181b2.bindPopup%28popup_918468e581c941b4b185a190275db370%29%0A%20%20%20%20%20%20%20%20%3B%0A%0A%20%20%20%20%20%20%20%20%0A%20%20%20%20%0A%20%20%20%20%0A%20%20%20%20%20%20%20%20%20%20%20%20var%20marker_f9770d828109416d98b60e99c23f32cb%20%3D%20L.marker%28%0A%20%20%20%20%20%20%20%20%20%20%20%20%20%20%20%20%5B4.7676576%2C%207.0188527%5D%2C%0A%20%20%20%20%20%20%20%20%20%20%20%20%20%20%20%20%7B%7D%0A%20%20%20%20%20%20%20%20%20%20%20%20%29.addTo%28map_fd30f1bd390248bda4f04bc5f1ec1a4c%29%3B%0A%20%20%20%20%20%20%20%20%0A%20%20%20%20%0A%20%20%20%20%20%20%20%20var%20popup_56d3a083abf4416da9109bc4af31b680%20%3D%20L.popup%28%7B%22maxWidth%22%3A%20%22100%25%22%7D%29%3B%0A%0A%20%20%20%20%20%20%20%20%0A%20%20%20%20%20%20%20%20%20%20%20%20var%20html_d23228032f8d4a88895a49f5c7f8bc07%20%3D%20%24%28%60%3Cdiv%20id%3D%22html_d23228032f8d4a88895a49f5c7f8bc07%22%20style%3D%22width%3A%20100.0%25%3B%20height%3A%20100.0%25%3B%22%3ENigeriaInfoPH%3A%20%23FootballFrenzyPH%3A%20The%20final%20showdown%20of%20the%20European%20football%20season%20%20%F0%9F%93%8CWho%20wins%20%F0%9F%87%AA%F0%9F%87%B8La%20Liga%3F%20%20%23LetsTalk%20with%20%40ngkhalela%20%26amp%3B%20%40Onahkosi%20%20%20%E2%8F%B04pm%20%20%F0%9F%93%BBListen%20online%3A%20https%3A//t.co/tBtTcflTAR%20%20%23NigeriaInfoPH%20https%3A//t.co/YT6XLM0ma7%3C/div%3E%60%29%5B0%5D%3B%0A%20%20%20%20%20%20%20%20%20%20%20%20popup_56d3a083abf4416da9109bc4af31b680.setContent%28html_d23228032f8d4a88895a49f5c7f8bc07%29%3B%0A%20%20%20%20%20%20%20%20%0A%0A%20%20%20%20%20%20%20%20marker_f9770d828109416d98b60e99c23f32cb.bindPopup%28popup_56d3a083abf4416da9109bc4af31b680%29%0A%20%20%20%20%20%20%20%20%3B%0A%0A%20%20%20%20%20%20%20%20%0A%20%20%20%20%0A%20%20%20%20%0A%20%20%20%20%20%20%20%20%20%20%20%20var%20marker_70ee698cf5e04f9591a88ef5ef850b62%20%3D%20L.marker%28%0A%20%20%20%20%20%20%20%20%20%20%20%20%20%20%20%20%5B27.7567667%2C%20-81.4639835%5D%2C%0A%20%20%20%20%20%20%20%20%20%20%20%20%20%20%20%20%7B%7D%0A%20%20%20%20%20%20%20%20%20%20%20%20%29.addTo%28map_fd30f1bd390248bda4f04bc5f1ec1a4c%29%3B%0A%20%20%20%20%20%20%20%20%0A%20%20%20%20%0A%20%20%20%20%20%20%20%20var%20popup_2bd52976a4d34bd2879eb197c45bd3cb%20%3D%20L.popup%28%7B%22maxWidth%22%3A%20%22100%25%22%7D%29%3B%0A%0A%20%20%20%20%20%20%20%20%0A%20%20%20%20%20%20%20%20%20%20%20%20var%20html_16750ad4b0ad40348145d88ee66f4c65%20%3D%20%24%28%60%3Cdiv%20id%3D%22html_16750ad4b0ad40348145d88ee66f4c65%22%20style%3D%22width%3A%20100.0%25%3B%20height%3A%20100.0%25%3B%22%3EJboyAllDayBoi%3A%20%40RedditBills%20%40DM3_BIB%20You%20call%20it%20soft%20I%20call%20it%20you%20getting%20triggered%20over%20nothing.%20Also%20Tua%20was%20never%20mentioned%20here%20and%20I%20gave%20Allen%20his%20props%3F%20Btw%20two%20things%20that%20make%200%20sense%20as%20a%20football%20fan%20would%20be%20defending%20Adam%20Gase%20or%20doubting/hating%20on%20Brian%20Flores.%20Ya%E2%80%99ll%20are%20crazy%3C/div%3E%60%29%5B0%5D%3B%0A%20%20%20%20%20%20%20%20%20%20%20%20popup_2bd52976a4d34bd2879eb197c45bd3cb.setContent%28html_16750ad4b0ad40348145d88ee66f4c65%29%3B%0A%20%20%20%20%20%20%20%20%0A%0A%20%20%20%20%20%20%20%20marker_70ee698cf5e04f9591a88ef5ef850b62.bindPopup%28popup_2bd52976a4d34bd2879eb197c45bd3cb%29%0A%20%20%20%20%20%20%20%20%3B%0A%0A%20%20%20%20%20%20%20%20%0A%20%20%20%20%0A%20%20%20%20%0A%20%20%20%20%20%20%20%20%20%20%20%20var%20marker_f909de094f664807befbfcf2d5711dd7%20%3D%20L.marker%28%0A%20%20%20%20%20%20%20%20%20%20%20%20%20%20%20%20%5B43.2629489%2C%20-2.9349459%5D%2C%0A%20%20%20%20%20%20%20%20%20%20%20%20%20%20%20%20%7B%7D%0A%20%20%20%20%20%20%20%20%20%20%20%20%29.addTo%28map_fd30f1bd390248bda4f04bc5f1ec1a4c%29%3B%0A%20%20%20%20%20%20%20%20%0A%20%20%20%20%0A%20%20%20%20%20%20%20%20var%20popup_134b0086069a4543ac372af3ce85c43c%20%3D%20L.popup%28%7B%22maxWidth%22%3A%20%22100%25%22%7D%29%3B%0A%0A%20%20%20%20%20%20%20%20%0A%20%20%20%20%20%20%20%20%20%20%20%20var%20html_0a43edf68d5c47bc93b5f61f145dc7d3%20%3D%20%24%28%60%3Cdiv%20id%3D%22html_0a43edf68d5c47bc93b5f61f145dc7d3%22%20style%3D%22width%3A%20100.0%25%3B%20height%3A%20100.0%25%3B%22%3EYidVids%3A%20Jose%20was%20a%20shit%20managerial%20appointment%20under%20the%20way%20the%20football%20club%20operates%20whether%20Jose%20was%20right%20all%20along%20or%20wasn%E2%80%99t.%20It%20doesn%E2%80%99t%20matter.%20It%20has%20contributed%20to%20how%20shit%20we%20are%20and%20that%E2%80%99s%20Levy%E2%80%99s%20fault.%20%20And%20has%20made%20Harry%E2%80%99s%20mind%20up%20for%20him.%20So%20that%E2%80%99s%20that.%3C/div%3E%60%29%5B0%5D%3B%0A%20%20%20%20%20%20%20%20%20%20%20%20popup_134b0086069a4543ac372af3ce85c43c.setContent%28html_0a43edf68d5c47bc93b5f61f145dc7d3%29%3B%0A%20%20%20%20%20%20%20%20%0A%0A%20%20%20%20%20%20%20%20marker_f909de094f664807befbfcf2d5711dd7.bindPopup%28popup_134b0086069a4543ac372af3ce85c43c%29%0A%20%20%20%20%20%20%20%20%3B%0A%0A%20%20%20%20%20%20%20%20%0A%20%20%20%20%0A%20%20%20%20%0A%20%20%20%20%20%20%20%20%20%20%20%20var%20marker_ee7a7f99794a41ef888fd74bc455a11e%20%3D%20L.marker%28%0A%20%20%20%20%20%20%20%20%20%20%20%20%20%20%20%20%5B22.3511148%2C%2078.6677428%5D%2C%0A%20%20%20%20%20%20%20%20%20%20%20%20%20%20%20%20%7B%7D%0A%20%20%20%20%20%20%20%20%20%20%20%20%29.addTo%28map_fd30f1bd390248bda4f04bc5f1ec1a4c%29%3B%0A%20%20%20%20%20%20%20%20%0A%20%20%20%20%0A%20%20%20%20%20%20%20%20var%20popup_ee145c44f90846059c1bb4b011c74c67%20%3D%20L.popup%28%7B%22maxWidth%22%3A%20%22100%25%22%7D%29%3B%0A%0A%20%20%20%20%20%20%20%20%0A%20%20%20%20%20%20%20%20%20%20%20%20var%20html_ffdc8fcf2b6f462b9ee286e15ccec3eb%20%3D%20%24%28%60%3Cdiv%20id%3D%22html_ffdc8fcf2b6f462b9ee286e15ccec3eb%22%20style%3D%22width%3A%20100.0%25%3B%20height%3A%20100.0%25%3B%22%3Ejaziz1989%3A%20%40MelissaReddy_%20Nd%20ppl%20beleived%20when%20FA%20said%20they%20care%20about%20football..%3C/div%3E%60%29%5B0%5D%3B%0A%20%20%20%20%20%20%20%20%20%20%20%20popup_ee145c44f90846059c1bb4b011c74c67.setContent%28html_ffdc8fcf2b6f462b9ee286e15ccec3eb%29%3B%0A%20%20%20%20%20%20%20%20%0A%0A%20%20%20%20%20%20%20%20marker_ee7a7f99794a41ef888fd74bc455a11e.bindPopup%28popup_ee145c44f90846059c1bb4b011c74c67%29%0A%20%20%20%20%20%20%20%20%3B%0A%0A%20%20%20%20%20%20%20%20%0A%20%20%20%20%0A%20%20%20%20%0A%20%20%20%20%20%20%20%20%20%20%20%20var%20marker_8a5fc1173159436db32e5440dadbf2c4%20%3D%20L.marker%28%0A%20%20%20%20%20%20%20%20%20%20%20%20%20%20%20%20%5B54.7023545%2C%20-3.2765753%5D%2C%0A%20%20%20%20%20%20%20%20%20%20%20%20%20%20%20%20%7B%7D%0A%20%20%20%20%20%20%20%20%20%20%20%20%29.addTo%28map_fd30f1bd390248bda4f04bc5f1ec1a4c%29%3B%0A%20%20%20%20%20%20%20%20%0A%20%20%20%20%0A%20%20%20%20%20%20%20%20var%20popup_45dc72399ee4461cbe9e48d84e9a94a6%20%3D%20L.popup%28%7B%22maxWidth%22%3A%20%22100%25%22%7D%29%3B%0A%0A%20%20%20%20%20%20%20%20%0A%20%20%20%20%20%20%20%20%20%20%20%20var%20html_20b2259ee7ae4170b0e393bec109bd50%20%3D%20%24%28%60%3Cdiv%20id%3D%22html_20b2259ee7ae4170b0e393bec109bd50%22%20style%3D%22width%3A%20100.0%25%3B%20height%3A%20100.0%25%3B%22%3Emichaelwhite%3A%20You%20are%20free%20to%20be%20angry%20about%20BBC%2C%20yet%20not%20offended%20that%20you%20are%20expected%20to%20pay%20far%20more%20for%20pay%20tv%20channels%20who%20have%20corrupted%20football%20to%20make%20fortunes%20for%20US%20billionaires%20and%20players%20paid%20%E2%80%9Cvast%20salaries%E2%80%9D%20%28weekly%29%20while%20fans%20%26amp%3B%20poorer%20games%20are%20bled%20dry.%3C/div%3E%60%29%5B0%5D%3B%0A%20%20%20%20%20%20%20%20%20%20%20%20popup_45dc72399ee4461cbe9e48d84e9a94a6.setContent%28html_20b2259ee7ae4170b0e393bec109bd50%29%3B%0A%20%20%20%20%20%20%20%20%0A%0A%20%20%20%20%20%20%20%20marker_8a5fc1173159436db32e5440dadbf2c4.bindPopup%28popup_45dc72399ee4461cbe9e48d84e9a94a6%29%0A%20%20%20%20%20%20%20%20%3B%0A%0A%20%20%20%20%20%20%20%20%0A%20%20%20%20%0A%20%20%20%20%0A%20%20%20%20%20%20%20%20%20%20%20%20var%20marker_dc1fd346ca7d49f0a3b9e88da517f67f%20%3D%20L.marker%28%0A%20%20%20%20%20%20%20%20%20%20%20%20%20%20%20%20%5B51.4538022%2C%20-2.5972985%5D%2C%0A%20%20%20%20%20%20%20%20%20%20%20%20%20%20%20%20%7B%7D%0A%20%20%20%20%20%20%20%20%20%20%20%20%29.addTo%28map_fd30f1bd390248bda4f04bc5f1ec1a4c%29%3B%0A%20%20%20%20%20%20%20%20%0A%20%20%20%20%0A%20%20%20%20%20%20%20%20var%20popup_3c87aaa0a7ce458fab7f19eefad5c4f3%20%3D%20L.popup%28%7B%22maxWidth%22%3A%20%22100%25%22%7D%29%3B%0A%0A%20%20%20%20%20%20%20%20%0A%20%20%20%20%20%20%20%20%20%20%20%20var%20html_bcef4a721dc14c03979b3cd64a1944a2%20%3D%20%24%28%60%3Cdiv%20id%3D%22html_bcef4a721dc14c03979b3cd64a1944a2%22%20style%3D%22width%3A%20100.0%25%3B%20height%3A%20100.0%25%3B%22%3EJordan4Cigars%3A%20Great%20cigar%20for%20football%20https%3A//t.co/zniWr2m3Bb%3C/div%3E%60%29%5B0%5D%3B%0A%20%20%20%20%20%20%20%20%20%20%20%20popup_3c87aaa0a7ce458fab7f19eefad5c4f3.setContent%28html_bcef4a721dc14c03979b3cd64a1944a2%29%3B%0A%20%20%20%20%20%20%20%20%0A%0A%20%20%20%20%20%20%20%20marker_dc1fd346ca7d49f0a3b9e88da517f67f.bindPopup%28popup_3c87aaa0a7ce458fab7f19eefad5c4f3%29%0A%20%20%20%20%20%20%20%20%3B%0A%0A%20%20%20%20%20%20%20%20%0A%20%20%20%20%0A%20%20%20%20%0A%20%20%20%20%20%20%20%20%20%20%20%20var%20marker_704b264113bd429895c956ef4c40259d%20%3D%20L.marker%28%0A%20%20%20%20%20%20%20%20%20%20%20%20%20%20%20%20%5B20.0171109%2C%20103.378253%5D%2C%0A%20%20%20%20%20%20%20%20%20%20%20%20%20%20%20%20%7B%7D%0A%20%20%20%20%20%20%20%20%20%20%20%20%29.addTo%28map_fd30f1bd390248bda4f04bc5f1ec1a4c%29%3B%0A%20%20%20%20%20%20%20%20%0A%20%20%20%20%0A%20%20%20%20%20%20%20%20var%20popup_28e8f372db3a4b1589b90dd609c21e77%20%3D%20L.popup%28%7B%22maxWidth%22%3A%20%22100%25%22%7D%29%3B%0A%0A%20%20%20%20%20%20%20%20%0A%20%20%20%20%20%20%20%20%20%20%20%20var%20html_cdbc5f99c9fb442cb1c80fe2403874c3%20%3D%20%24%28%60%3Cdiv%20id%3D%22html_cdbc5f99c9fb442cb1c80fe2403874c3%22%20style%3D%22width%3A%20100.0%25%3B%20height%3A%20100.0%25%3B%22%3EDmannyL%3A%20Don%27t%20you%20just%20love%20football%21%3C/div%3E%60%29%5B0%5D%3B%0A%20%20%20%20%20%20%20%20%20%20%20%20popup_28e8f372db3a4b1589b90dd609c21e77.setContent%28html_cdbc5f99c9fb442cb1c80fe2403874c3%29%3B%0A%20%20%20%20%20%20%20%20%0A%0A%20%20%20%20%20%20%20%20marker_704b264113bd429895c956ef4c40259d.bindPopup%28popup_28e8f372db3a4b1589b90dd609c21e77%29%0A%20%20%20%20%20%20%20%20%3B%0A%0A%20%20%20%20%20%20%20%20%0A%20%20%20%20%0A%20%20%20%20%0A%20%20%20%20%20%20%20%20%20%20%20%20var%20marker_45dc6ba944dc4fb29a3e18d8721fa1ad%20%3D%20L.marker%28%0A%20%20%20%20%20%20%20%20%20%20%20%20%20%20%20%20%5B25.2232283%2C%2055.1594933008754%5D%2C%0A%20%20%20%20%20%20%20%20%20%20%20%20%20%20%20%20%7B%7D%0A%20%20%20%20%20%20%20%20%20%20%20%20%29.addTo%28map_fd30f1bd390248bda4f04bc5f1ec1a4c%29%3B%0A%20%20%20%20%20%20%20%20%0A%20%20%20%20%0A%20%20%20%20%20%20%20%20var%20popup_ece1d12cbbc349e7a51338f471244732%20%3D%20L.popup%28%7B%22maxWidth%22%3A%20%22100%25%22%7D%29%3B%0A%0A%20%20%20%20%20%20%20%20%0A%20%20%20%20%20%20%20%20%20%20%20%20var%20html_507ac2a64d574297a966e175f7ef9a2c%20%3D%20%24%28%60%3Cdiv%20id%3D%22html_507ac2a64d574297a966e175f7ef9a2c%22%20style%3D%22width%3A%20100.0%25%3B%20height%3A%20100.0%25%3B%22%3Ejmarti201%3A%20OFFICIAL%20GLASGOW%20RANGERS%20Away%20Shirt%202015/16%2032Red%20%28SIZE%20UK%20XL%29%20%20%23Rangers%20%23RangersFC%20%23Football%20%23RFC%20%23ebay%20%23ebayfinds%20%23ebaydeals%20%23ebayshopping%20%23ebayuk%20%20https%3A//t.co/E7JwBzw4Aq%3C/div%3E%60%29%5B0%5D%3B%0A%20%20%20%20%20%20%20%20%20%20%20%20popup_ece1d12cbbc349e7a51338f471244732.setContent%28html_507ac2a64d574297a966e175f7ef9a2c%29%3B%0A%20%20%20%20%20%20%20%20%0A%0A%20%20%20%20%20%20%20%20marker_45dc6ba944dc4fb29a3e18d8721fa1ad.bindPopup%28popup_ece1d12cbbc349e7a51338f471244732%29%0A%20%20%20%20%20%20%20%20%3B%0A%0A%20%20%20%20%20%20%20%20%0A%20%20%20%20%0A%3C/script%3E onload=\"this.contentDocument.open();this.contentDocument.write(    decodeURIComponent(this.getAttribute('data-html')));this.contentDocument.close();\" allowfullscreen webkitallowfullscreen mozallowfullscreen></iframe></div></div>"
      ],
      "text/plain": [
       "<folium.folium.Map at 0x7fc8d0e9d430>"
      ]
     },
     "execution_count": 58,
     "metadata": {},
     "output_type": "execute_result"
    }
   ],
   "source": [
    "usmap"
   ]
  },
  {
   "cell_type": "markdown",
   "metadata": {},
   "source": [
    "<!--\n",
    "#from IPython.display import IFrame\n",
    "#IFrame(src=\"./tweet_map.html\", width=800, height=450)\n",
    "-->"
   ]
  },
  {
   "cell_type": "markdown",
   "metadata": {},
   "source": [
    "<hr style=\"height:2px; border:none; color:#000; background-color:#000;\">"
   ]
  },
  {
   "cell_type": "markdown",
   "metadata": {},
   "source": [
    "## Utility Functions\n",
    "See the following for details: \n",
    "* [**Python Fundamentals LiveLessons video**](https://learning.oreilly.com/videos/python-fundamentals/9780135917411/9780135917411-PFLL_Lesson12_26) \n",
    "* [Sections 12.5.2-12.5.3 in **Python for Programmers**](https://learning.oreilly.com/library/view/python-for-programmers/9780135231364/ch12.xhtml#ch12lev2sec10)\n",
    "\n",
    "### `get_tweet_content` Utility Function (2 of 2)\n",
    "```python\n",
    "def get_tweet_content(tweet, location=False):\n",
    "    \"\"\"Return dictionary with data from tweet (a Status object).\"\"\"\n",
    "    fields = {}\n",
    "    fields['screen_name'] = tweet.user.screen_name\n",
    "\n",
    "    # get the tweet's text\n",
    "    try:  \n",
    "        fields['text'] = tweet.extended_tweet[\"full_text\"]\n",
    "    except: \n",
    "        fields['text'] = tweet.text\n",
    "\n",
    "    if location:\n",
    "        fields['location'] = tweet.user.location\n",
    "\n",
    "    return fields\n",
    "\n",
    "```"
   ]
  },
  {
   "cell_type": "markdown",
   "metadata": {},
   "source": [
    "<hr style=\"height:2px; border:none; color:#000; background-color:#000;\">"
   ]
  },
  {
   "cell_type": "markdown",
   "metadata": {},
   "source": [
    "### `get_geocodes` Utility Function (1 of 3)\n",
    "* Receives a **list of dictionaries** containing tweets and **geocodes their locations**\n",
    "* If **geocoding** is **successful** for a tweet, adds the **latitude** and **longitude** to the tweet’s **dictionary in `tweet_list`**\n",
    "* Requires class **`OpenMapQuest`** from the **geopy module**"
   ]
  },
  {
   "cell_type": "markdown",
   "metadata": {},
   "source": [
    "<hr style=\"height:2px; border:none; color:#000; background-color:#000;\">"
   ]
  },
  {
   "cell_type": "markdown",
   "metadata": {},
   "source": [
    "### `get_geocodes` Utility Function (2 of 3)\n",
    "```python\n",
    "from geopy import OpenMapQuest\n",
    "```\n",
    "\n",
    "```python\n",
    "def get_geocodes(tweet_list):\n",
    "    \"\"\"Get the latitude and longitude for each tweet's location.\n",
    "    Returns the number of tweets with invalid location data.\"\"\"\n",
    "    print('Getting coordinates for tweet locations...')\n",
    "    geo = OpenMapQuest(api_key=keys.mapquest_key)  # geocoder\n",
    "    bad_locations = 0  \n",
    "\n",
    "    for tweet in tweet_list:\n",
    "        processed = False\n",
    "        delay = .1  # used if OpenMapQuest times out to delay next call\n",
    "        while not processed:\n",
    "            try:  # get coordinates for tweet['location']\n",
    "                geo_location = geo.geocode(tweet['location'])\n",
    "                processed = True\n",
    "            except:  # timed out, so wait before trying again\n",
    "                print('OpenMapQuest service timed out. Waiting.')\n",
    "                time.sleep(delay)\n",
    "                delay += .1\n",
    "\n",
    "        if geo_location:  \n",
    "            tweet['latitude'] = geo_location.latitude\n",
    "            tweet['longitude'] = geo_location.longitude\n",
    "        else:  \n",
    "            bad_locations += 1  # tweet['location'] was invalid\n",
    "    \n",
    "    print('Done geocoding')\n",
    "    return bad_locations\n",
    "\n",
    "```"
   ]
  },
  {
   "cell_type": "markdown",
   "metadata": {},
   "source": [
    "<hr style=\"height:2px; border:none; color:#000; background-color:#000;\">"
   ]
  },
  {
   "cell_type": "markdown",
   "metadata": {},
   "source": [
    "## 12.15.3 Class `LocationListener`\n",
    "```python\n",
    "# locationlistener.py\n",
    "\"\"\"Receives tweets matching a search string and stores a list of\n",
    "dictionaries containing each tweet's screen_name/text/location.\"\"\"\n",
    "import tweepy\n",
    "from tweetutilities import get_tweet_content\n",
    "from IPython.display import clear_output\n",
    "\n",
    "class LocationListener(tweepy.StreamListener):\n",
    "    \"\"\"Handles incoming Tweet stream to get location data.\"\"\"\n",
    "```"
   ]
  },
  {
   "cell_type": "markdown",
   "metadata": {},
   "source": [
    "```python\n",
    "    def __init__(self, api, counts_dict, tweets_list, topic, limit=10):\n",
    "        \"\"\"Configure the LocationListener.\"\"\"\n",
    "        self.tweets_list = tweets_list\n",
    "        self.counts_dict = counts_dict\n",
    "        self.topic = topic\n",
    "        self.TWEET_LIMIT = limit\n",
    "        super().__init__(api)  # call superclass's init\n",
    "```"
   ]
  },
  {
   "cell_type": "markdown",
   "metadata": {},
   "source": [
    "```python\n",
    "    def on_status(self, status):\n",
    "        \"\"\"Called when Twitter pushes a new tweet to you.\"\"\"\n",
    "        # get each tweet's screen_name, text and location\n",
    "        tweet_data = get_tweet_content(status, location=True)  \n",
    "\n",
    "        # ignore retweets and tweets that do not contain the topic\n",
    "        if (tweet_data['text'].startswith('RT') or\n",
    "            self.topic.lower() not in tweet_data['text'].lower()):\n",
    "            return\n",
    "\n",
    "        self.counts_dict['total_tweets'] += 1  # original tweet\n",
    "\n",
    "        # ignore tweets with no location \n",
    "        if not status.user.location:  \n",
    "            return\n",
    "\n",
    "        self.counts_dict['locations'] += 1  # tweet with location\n",
    "        self.tweets_list.append(tweet_data)  # store the tweet\n",
    "        clear_output()\n",
    "        print(f'{status.user.screen_name}: {tweet_data[\"text\"]}\\n')\n",
    "        \n",
    "        # if TWEET_LIMIT is reached, return False to terminate streaming\n",
    "        return self.counts_dict['locations'] < self.TWEET_LIMIT\n",
    "\n",
    "```"
   ]
  },
  {
   "cell_type": "markdown",
   "metadata": {},
   "source": [
    "<hr style=\"height:2px; border:none; color:#000; background-color:#000;\">"
   ]
  },
  {
   "cell_type": "markdown",
   "metadata": {},
   "source": [
    "# More Info \n",
    "* See Lesson 12 in [**Python Fundamentals LiveLessons** here on O'Reilly Online Learning](https://learning.oreilly.com/videos/python-fundamentals/9780135917411)\n",
    "* See Chapter 12 in [**Python for Programmers** on O'Reilly Online Learning](https://learning.oreilly.com/library/view/python-for-programmers/9780135231364/)\n",
    "* See Chapter 13 in [**Intro Python for Computer Science and Data Science** on O'Reilly Online Learning](https://learning.oreilly.com/library/view/intro-to-python/9780135404799/)\n",
    "* Interested in a print book? Check out:\n",
    "\n",
    "| Python for Programmers<br>(640-page professional book) | Intro to Python for Computer<br>Science and Data Science<br>(880-page college textbook)\n",
    "| :------ | :------\n",
    "| <a href=\"https://amzn.to/2VvdnxE\"><img alt=\"Python for Programmers cover\" src=\"../images/PyFPCover.png\" width=\"150\" border=\"1\"/></a> | <a href=\"https://amzn.to/2LiDCmt\"><img alt=\"Intro to Python for Computer Science and Data Science: Learning to Program with AI, Big Data and the Cloud\" src=\"../images/IntroToPythonCover.png\" width=\"159\" border=\"1\"></a>\n",
    "\n",
    ">Please **do not** purchase both books&mdash;_Python for Programmers_ is a subset of _Intro to Python for Computer Science and Data Science_"
   ]
  },
  {
   "cell_type": "markdown",
   "metadata": {},
   "source": [
    "&copy; 2019 by Pearson Education, Inc. All Rights Reserved. The content in this notebook is based on the book [**Python for Programmers**](https://amzn.to/2VvdnxE)."
   ]
  }
 ],
 "metadata": {
  "kernelspec": {
   "display_name": "Python 3",
   "language": "python",
   "name": "python3"
  },
  "language_info": {
   "codemirror_mode": {
    "name": "ipython",
    "version": 3
   },
   "file_extension": ".py",
   "mimetype": "text/x-python",
   "name": "python",
   "nbconvert_exporter": "python",
   "pygments_lexer": "ipython3",
   "version": "3.8.6"
  }
 },
 "nbformat": 4,
 "nbformat_minor": 4
}
