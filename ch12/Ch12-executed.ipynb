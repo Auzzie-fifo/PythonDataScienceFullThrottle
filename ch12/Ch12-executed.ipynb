{
 "cells": [
  {
   "cell_type": "markdown",
   "metadata": {},
   "source": [
    "&copy; 2019 by Pearson Education, Inc. All Rights Reserved. The content in this notebook is based on the book [**Python for Programmers**](https://amzn.to/2VvdnxE)."
   ]
  },
  {
   "cell_type": "code",
   "execution_count": 1,
   "metadata": {},
   "outputs": [],
   "source": [
    "# enable high-res images in notebook \n",
    "%config InlineBackend.figure_format = 'retina'"
   ]
  },
  {
   "cell_type": "markdown",
   "metadata": {},
   "source": [
    "# 12. Data Mining Twitter \n",
    "# Objectives\n",
    "* **Data-mine Twitter** with **Tweepy** library\n",
    "* Search **past tweets** with the **Twitter Search API**\n",
    "* Sample the **live tweet stream** with the **Twitter Streaming API**\n",
    "* Tweet object **meta data** \n",
    "* Use **NLP** to **clean and preprocess tweets** for analysis\n",
    "* Perform **sentiment analysis** on tweets\n",
    "* **Spot trends** with **Twitter’s Trends API**\n",
    "* **Map tweets** using **folium** and **OpenStreetMap**"
   ]
  },
  {
   "cell_type": "markdown",
   "metadata": {},
   "source": [
    "<hr style=\"height:2px; border:none; color:#000; background-color:#000;\">"
   ]
  },
  {
   "cell_type": "markdown",
   "metadata": {},
   "source": [
    "# 12.1 Introduction \n",
    "* Popular **big-data source**  \n",
    "* **Data mining** &mdash; searching large collections of data for **insights**\n",
    "* **Sentiment** in tweets can help **make predictions**  \n",
    "    * **Stock prices**\n",
    "    * **Election results**\n",
    "    * Likely **revenues** for a **new movie**\n",
    "    * **Success** of a company’s **marketing campaign**\n",
    "* Spot **faults in competitors’ products** \n",
    "* Spot **trending topics**\n",
    "* **Connect to Twitter** with easy-to-use **Web services**"
   ]
  },
  {
   "cell_type": "markdown",
   "metadata": {},
   "source": [
    "<hr style=\"height:2px; border:none; color:#000; background-color:#000;\">"
   ]
  },
  {
   "cell_type": "markdown",
   "metadata": {},
   "source": [
    "### What Is Twitter? \n",
    "* **Tweets**\n",
    "    * Short messages\n",
    "    * Initially limited to **140 characters**\n",
    "    * Increased in 2017 for most languages to **280 characters**\n",
    "* **Most open social network**&mdash;anyone can generally choose to follow anyone else\n",
    "* **Free programmatic access** to a small portion of **last 7 days' tweets**\n",
    "    * Can get **paid access** to larger portions the **all-time tweets database**\n",
    "* [**Hundreds of millions of tweets are sent every day** with many thousands sent per second](http://www.internetlivestats.com/twitter-statistics/)\n",
    "* Can tap into the **live stream** and get up to 1% of live tweets\n",
    "    * **Like “drinking from a fire hose”** "
   ]
  },
  {
   "cell_type": "markdown",
   "metadata": {},
   "source": [
    "<hr style=\"height:2px; border:none; color:#000; background-color:#000;\">"
   ]
  },
  {
   "cell_type": "markdown",
   "metadata": {},
   "source": [
    "# 12.2 Overview of the Twitter APIs \n",
    "* **Web services** are **methods** that you call in the **cloud**\n",
    "* Each **method** has a **web service endpoint** represented by a **URL**\n",
    "* **Caution**: **apps can be brittle**\n",
    "    * Internet connections can be lost, services can change, some services not available everywhere, ... \n",
    "* [Twitter API categories, subcategories and individual methods](https://developer.twitter.com/en/docs/api-reference-index.html)"
   ]
  },
  {
   "cell_type": "markdown",
   "metadata": {},
   "source": [
    "<hr style=\"height:2px; border:none; color:#000; background-color:#000;\">"
   ]
  },
  {
   "cell_type": "markdown",
   "metadata": {},
   "source": [
    "### Rate Limits and Restrictions\n",
    "* Twitter expects developers to **use its services responsibly**\n",
    "* **Understand rate limits** before using any method or you could get **blocked**\n",
    "* Some methods list both **user rate limits** and **app rate limits**\n",
    "    * We use **app rate limits** in the demos\n",
    "    * **User rate limits** for apps in which individuals to log into own Twitter accounts\n",
    "    * [Details on rate limiting](https://developer.twitter.com/en/docs/basics/rate-limiting)\n",
    "    * [Specific rate limits on individual API methods](https://developer.twitter.com/en/docs/basics/rate-limits) — also see each API method’s docs\n",
    "* **Follow Twitter’s rules/regulations or your developer account could be terminated.** \n",
    "\t* [Terms of Service](https://twitter.com/tos), [Developer Agreement](https://developer.twitter.com/en/developer-terms/agreement-and-policy.html), [Developer Policy](https://developer.twitter.com/en/developer-terms/policy.html), [Other restrictions](https://developer.twitter.com/en/developer-terms/more-on-restricted-use-cases)"
   ]
  },
  {
   "cell_type": "markdown",
   "metadata": {},
   "source": [
    "<hr style=\"height:2px; border:none; color:#000; background-color:#000;\">"
   ]
  },
  {
   "cell_type": "markdown",
   "metadata": {},
   "source": [
    "# 12.4 Getting Twitter Credentials—Creating an App \n",
    "* [Apply for a developer account](https://developer.twitter.com/en/apply-for-access) to use the APIs\n",
    "* Must get **credentials** to use Twitter APIs\n",
    "    * Part of the **OAuth 2.0 authentication process**\n",
    "    * **Tweepy handles OAuth 2.0 authentication details for you**\n",
    "* To get credentials, you’ll [**create an app**](https://developer.twitter.com) \n",
    "    * **Each app has separate credentials**\n",
    "    * I present **details on creating apps** in my [**Python Fundamentals LiveLessons videos for Section 12.4**](https://learning.oreilly.com/videos/python-fundamentals/9780135917411/9780135917411-PFLL_Lesson12_04) and [**Python for Programmers Section 12.4**](https://learning.oreilly.com/library/view/Python+for+Programmers,+First+Edition/9780135231364/ch12.xhtml#ch12lev1sec4)"
   ]
  },
  {
   "cell_type": "markdown",
   "metadata": {},
   "source": [
    "<hr style=\"height:2px; border:none; color:#000; background-color:#000;\">"
   ]
  },
  {
   "cell_type": "markdown",
   "metadata": {},
   "source": [
    "# 12.5 What’s in a Tweet? \n",
    "* Twitter API returns **JSON (JavaScript Object Notation)** objects\n",
    "* Text-based, human and computer readable\n",
    "* Like Python **dictionaries**\n",
    "* **JSON object format** &mdash; **all strings in double quotes (\")**\n",
    ">```python\n",
    "{propertyName1: value1, propertyName2: value2}\n",
    "```\n",
    "* **JSON array format (like Python list)**:\n",
    ">```python\n",
    "[value1, value2, value3]\n",
    "```\n",
    "* **Tweepy handles the JSON for you** behind the scenes"
   ]
  },
  {
   "cell_type": "markdown",
   "metadata": {},
   "source": [
    "<hr style=\"height:2px; border:none; color:#000; background-color:#000;\">"
   ]
  },
  {
   "cell_type": "markdown",
   "metadata": {},
   "source": [
    "### Key Properties of a Tweet Object \n",
    "* **Tweet object** contains **metadata**, including\n",
    "    * **text** of the tweet\n",
    "    * **extended tweet** for tweets up to **280 characters**\n",
    "\t* **when** it was created \n",
    "\t* **who** created it,\n",
    "\t* lists of **hashtags**, **URLs**, **`@`-mentions**, **images**, **videos** and more\n",
    "* [Our table of many key **tweet metadata attributes**](https://learning.oreilly.com/library/view/python-for-programmers/9780135231364/ch12.xhtml#ch12lev1sec5)\n",
    "* [Complete list of the tweet object attributes](https://developer.twitter.com/en/docs/tweets/data-dictionary/overview/tweet-object.html)\n",
    "* [General overview of all the JSON objects that Twitter APIs return, and links to the specific object details](https://developer.twitter.com/en/docs/tweets/data-dictionary/overview/intro-to-tweet-json)"
   ]
  },
  {
   "cell_type": "markdown",
   "metadata": {},
   "source": [
    "<hr style=\"height:2px; border:none; color:#000; background-color:#000;\">"
   ]
  },
  {
   "cell_type": "markdown",
   "metadata": {},
   "source": [
    "### Sample Tweet JSON\n",
    "* **Sample JSON** for this tweet from the **`@nasa`** account: \n",
    ">```\n",
    "@NoFear1075 Great question, Anthony! Throughout its seven-year \n",
    "mission, our Parker #SolarProbe spacecraft... https://t.co/xKd6ym8waT'\n",
    "```"
   ]
  },
  {
   "cell_type": "markdown",
   "metadata": {},
   "source": [
    "<hr style=\"height:2px; border:none; color:#000; background-color:#000;\">"
   ]
  },
  {
   "cell_type": "markdown",
   "metadata": {},
   "source": [
    "```python\n",
    "{'created_at': 'Wed Sep 05 18:19:34 +0000 2018',\n",
    " 'id': 1037404890354606082,\n",
    " 'id_str': '1037404890354606082',\n",
    " 'text': '@NoFear1075 Great question, Anthony! Throughout its seven-year \n",
    "          mission, our Parker #SolarProbe spacecraft… https://t.co/xKd6ym8waT',\n",
    " 'truncated': True,\n",
    " 'entities': {'hashtags': [{'text': 'SolarProbe', 'indices': [84, 95]}],\n",
    "    'symbols': [],\n",
    "    'user_mentions': [{'screen_name': 'NoFear1075',\n",
    "        'name': 'Anthony Perrone',\n",
    "        'id': 284339791,\n",
    "        'id_str': '284339791',\n",
    "        'indices': [0, 11]}],\n",
    "    'urls': [{'url': 'https://t.co/xKd6ym8waT',\n",
    "        'expanded_url': 'https://twitter.com/i/web/status/1037404890354606082',\n",
    "        'display_url': 'twitter.com/i/web/status/1…',\n",
    "        'indices': [117, 140]}]},\n",
    " 'source': '<a href=\"http://twitter.com\" rel=\"nofollow\">Twitter Web Client</a>',\n",
    "```"
   ]
  },
  {
   "cell_type": "markdown",
   "metadata": {},
   "source": [
    "```python\n",
    " 'in_reply_to_status_id': 1037390542424956928,\n",
    " 'in_reply_to_status_id_str': '1037390542424956928',\n",
    " 'in_reply_to_user_id': 284339791,\n",
    " 'in_reply_to_user_id_str': '284339791',\n",
    " 'in_reply_to_screen_name': 'NoFear1075',\n",
    " 'user': {'id': 11348282,\n",
    "    'id_str': '11348282',\n",
    "    'name': 'NASA',\n",
    "    'screen_name': 'NASA',\n",
    "    'location': '',\n",
    "    'description': 'Explore the universe and discover our home planet with \n",
    "            @NASA. We usually post in EST (UTC-5)',\n",
    "    'url': 'https://t.co/TcEE6NS8nD',\n",
    "    'entities': {'url': {'urls': [{'url': 'https://t.co/TcEE6NS8nD',\n",
    "            'expanded_url': 'http://www.nasa.gov',\n",
    "            'display_url': 'nasa.gov',\n",
    "            'indices': [0, 23]}]},\n",
    "    'description': {'urls': []}},\n",
    "    'protected': False,\n",
    "    'followers_count': 29486081,\n",
    "    'friends_count': 287,\n",
    "    'listed_count': 91928,\n",
    "    'created_at': 'Wed Dec 19 20:20:32 +0000 2007',\n",
    "    'favourites_count': 3963,\n",
    "    'time_zone': None,\n",
    "    'geo_enabled': False,\n",
    "    'verified': True,\n",
    "    'statuses_count': 53147,\n",
    "    'lang': 'en',\n",
    "```"
   ]
  },
  {
   "cell_type": "markdown",
   "metadata": {},
   "source": [
    "```python\n",
    "    'contributors_enabled': False,\n",
    "    'is_translator': False,\n",
    "    'is_translation_enabled': False,\n",
    "    'profile_background_color': '000000',\n",
    "    'profile_background_image_url': 'http://abs.twimg.com/images/themes/theme1/bg.png',\n",
    "    'profile_background_image_url_https': 'https://abs.twimg.com/images/themes/theme1/bg.png',\n",
    "    'profile_image_url': 'http://pbs.twimg.com/profile_images/188302352/nasalogo_twitter_normal.jpg',\n",
    "    'profile_image_url_https': 'https://pbs.twimg.com/profile_images/188302352/nasalogo_twitter_normal.jpg',\n",
    "    'profile_banner_url': 'https://pbs.twimg.com/profile_banners/11348282/1535145490',\n",
    "    'profile_link_color': '205BA7',\n",
    "    'profile_sidebar_border_color': '000000',\n",
    "    'profile_sidebar_fill_color': 'F3F2F2',\n",
    "    'profile_text_color': '000000',\n",
    "    'profile_use_background_image': True,\n",
    "    'has_extended_profile': True,\n",
    "    'default_profile': False,\n",
    "    'default_profile_image': False,\n",
    "    'following': True,\n",
    "    'follow_request_sent': False,\n",
    "    'notifications': False,\n",
    "    'translator_type': 'regular'},\n",
    " 'geo': None,\n",
    " 'coordinates': None,\n",
    " 'place': None,\n",
    " 'contributors': None,\n",
    " 'is_quote_status': False,\n",
    " 'retweet_count': 7,\n",
    " 'favorite_count': 19,\n",
    " 'favorited': False,\n",
    " 'retweeted': False,\n",
    " 'possibly_sensitive': False,\n",
    " 'lang': 'en'}\n",
    "\n",
    "```"
   ]
  },
  {
   "cell_type": "markdown",
   "metadata": {},
   "source": [
    "<hr style=\"height:2px; border:none; color:#000; background-color:#000;\">"
   ]
  },
  {
   "cell_type": "markdown",
   "metadata": {},
   "source": [
    "# 12.6 Tweepy\n",
    "* [**Tweepy library**](http://www.tweepy.org/)—**one of the most popular Python Twitter clients**\n",
    "> `pip install tweepy>=4.3`\n",
    "* Easy access to Twitter’s capabilities\n",
    "* [Tweepy’s documentation](http://docs.tweepy.org/en/latest/)\n",
    "* One function in `tweetutilities.py` file depends on [**geopy**](https://github.com/geopy/geopy) (used later to **plot tweet locations**)\n",
    ">`conda install -c conda-forge geopy`"
   ]
  },
  {
   "cell_type": "markdown",
   "metadata": {},
   "source": [
    "<hr style=\"height:2px; border:none; color:#000; background-color:#000;\">"
   ]
  },
  {
   "cell_type": "markdown",
   "metadata": {},
   "source": [
    "# 12.7 Authenticating with Twitter Via Tweepy\n",
    "* **Authentication API**—Authenticate with your **Twitter credentials** to use other Twitter APIs\n",
    "* **`keys.py`** must contain your credentials"
   ]
  },
  {
   "cell_type": "code",
   "execution_count": 2,
   "metadata": {},
   "outputs": [],
   "source": [
    "import tweepy"
   ]
  },
  {
   "cell_type": "code",
   "execution_count": 3,
   "metadata": {},
   "outputs": [],
   "source": [
    "import keys  "
   ]
  },
  {
   "cell_type": "code",
   "execution_count": 4,
   "metadata": {},
   "outputs": [],
   "source": [
    "auth = tweepy.OAuthHandler(keys.consumer_key,\n",
    "                           keys.consumer_secret)"
   ]
  },
  {
   "cell_type": "code",
   "execution_count": 5,
   "metadata": {},
   "outputs": [],
   "source": [
    "auth.set_access_token(keys.access_token,\n",
    "                      keys.access_token_secret)"
   ]
  },
  {
   "cell_type": "markdown",
   "metadata": {},
   "source": [
    "<hr style=\"height:2px; border:none; color:#000; background-color:#000;\">"
   ]
  },
  {
   "cell_type": "markdown",
   "metadata": {},
   "source": [
    "### Creating the Tweepy API Object\n",
    "* A **Tweepy `API` object** is your **gateway** to Twitter APIs"
   ]
  },
  {
   "cell_type": "markdown",
   "metadata": {},
   "source": [
    "* **CHANGE:** `wait_on_rate_limit_notify=True` (all errors are now reported, so they removed this)"
   ]
  },
  {
   "cell_type": "code",
   "execution_count": 6,
   "metadata": {},
   "outputs": [],
   "source": [
    "api = tweepy.API(auth, wait_on_rate_limit=True) # , wait_on_rate_limit_notify=True)"
   ]
  },
  {
   "cell_type": "markdown",
   "metadata": {},
   "source": [
    "* **`auth`** is the **`OAuthHandler`**\n",
    "* **`wait_on_rate_limit=True`** &mdash; **wait 15 minutes** when app reaches an API method’s rate limit\n",
    "    * prevents violations\n",
    "* **`wait_on_rate_limit_notify=True`** &mdash; **display a command-line message** when you hit a rate limit"
   ]
  },
  {
   "cell_type": "markdown",
   "metadata": {},
   "source": [
    "<hr style=\"height:2px; border:none; color:#000; background-color:#000;\">"
   ]
  },
  {
   "cell_type": "markdown",
   "metadata": {},
   "source": [
    "# 12.8 Getting Information About a Twitter Account\n",
    "* **Accounts and Users API**—Access information about an account\n",
    "* `API` object’s **`get_user` method** returns a **`tweepy.models.User` object** for an account"
   ]
  },
  {
   "cell_type": "markdown",
   "metadata": {},
   "source": [
    "* **CHANGE:** Now must specify parameter name `screen_name`"
   ]
  },
  {
   "cell_type": "code",
   "execution_count": 7,
   "metadata": {},
   "outputs": [],
   "source": [
    "nasa = api.get_user(screen_name='nasa')"
   ]
  },
  {
   "cell_type": "markdown",
   "metadata": {},
   "source": [
    "* Calls the **Twitter API’s [`users/show` method](https://developer.twitter.com/en/docs/accounts-and-users/follow-search-get-users/api-reference/get-users-show)**\n",
    "* **`tweepy.models` classes** correspond to returned **JSON objects**\n",
    "* **`User` class** corresponds to a Twitter [**user object**](https://developer.twitter.com/en/docs/tweets/data-dictionary/overview/user-object)\n",
    "* **`tweepy.models` classes** turn **JSON** into **Tweepy objects** "
   ]
  },
  {
   "cell_type": "markdown",
   "metadata": {},
   "source": [
    "<hr style=\"height:2px; border:none; color:#000; background-color:#000;\">"
   ]
  },
  {
   "cell_type": "markdown",
   "metadata": {},
   "source": [
    "### Getting Basic Account Information for `@nasa`\n",
    "* IDs and twitter handles can be used to **track tweets to, from and about users**"
   ]
  },
  {
   "cell_type": "code",
   "execution_count": 8,
   "metadata": {},
   "outputs": [
    {
     "data": {
      "text/plain": [
       "11348282"
      ]
     },
     "execution_count": 8,
     "metadata": {},
     "output_type": "execute_result"
    }
   ],
   "source": [
    "nasa.id  # account ID created when the user joined Twitter"
   ]
  },
  {
   "cell_type": "code",
   "execution_count": 9,
   "metadata": {},
   "outputs": [
    {
     "data": {
      "text/plain": [
       "'NASA'"
      ]
     },
     "execution_count": 9,
     "metadata": {},
     "output_type": "execute_result"
    }
   ],
   "source": [
    "nasa.screen_name  # user’s Twitter handle"
   ]
  },
  {
   "cell_type": "code",
   "execution_count": 10,
   "metadata": {},
   "outputs": [
    {
     "data": {
      "text/plain": [
       "\"There's space for everybody. ✨\""
      ]
     },
     "execution_count": 10,
     "metadata": {},
     "output_type": "execute_result"
    }
   ],
   "source": [
    "nasa.description  # description from the user’s profile"
   ]
  },
  {
   "cell_type": "markdown",
   "metadata": {},
   "source": [
    "* Lots of additional attributes, like `name`, `description`, `followers_count`, `friends_count`, etc."
   ]
  },
  {
   "cell_type": "code",
   "execution_count": 11,
   "metadata": {},
   "outputs": [
    {
     "data": {
      "text/plain": [
       "53334054"
      ]
     },
     "execution_count": 11,
     "metadata": {},
     "output_type": "execute_result"
    }
   ],
   "source": [
    "nasa.followers_count"
   ]
  },
  {
   "cell_type": "markdown",
   "metadata": {},
   "source": [
    "<hr style=\"height:2px; border:none; color:#000; background-color:#000;\">"
   ]
  },
  {
   "cell_type": "markdown",
   "metadata": {},
   "source": [
    "### Getting `@nasa`'s Most Recent Status Update\n",
    "* `User` object’s **`status` property** returns a **`tweepy.models.Status`** object\n",
    "* Corresponds to a Twitter [**tweet object**](https://developer.twitter.com/en/docs/tweets/data-dictionary/overview/tweet-object)"
   ]
  },
  {
   "cell_type": "code",
   "execution_count": 12,
   "metadata": {},
   "outputs": [
    {
     "data": {
      "text/plain": [
       "'@ohcatherinemayi Beautiful! ✨'"
      ]
     },
     "execution_count": 12,
     "metadata": {},
     "output_type": "execute_result"
    }
   ],
   "source": [
    "nasa.status.text  # most recent tweet's text"
   ]
  },
  {
   "cell_type": "markdown",
   "metadata": {},
   "source": [
    "* **...** indicates **truncated** tweet text\n",
    "* **`extended_tweet` property** for tweets between 141 and 280 characters (as of Nov. 2017) \n",
    "* **Retweeting** often results in truncation"
   ]
  },
  {
   "cell_type": "markdown",
   "metadata": {},
   "source": [
    "<hr style=\"height:2px; border:none; color:#000; background-color:#000;\">"
   ]
  },
  {
   "cell_type": "markdown",
   "metadata": {},
   "source": [
    "# 12.9 Introduction to Tweepy Cursors: Getting an Account’s Followers \n",
    "* Twitter API methods often return collections of objects \n",
    "    * E.g., list of tweets that match specified search criteria \n",
    "* Each method has **maximum number of items returned by one call**\n",
    "    * A **\"page\"** of results\n",
    "* **JSON responses** indicate whether there are **more pages**\n",
    "* A **`Cursor`** handles **paging** \n",
    "    * Invokes a method and **checks for more pages**\n",
    "    * If so, **calls the method again**  \n",
    "    * Continues until there are no more results to process\n",
    "    * If `API` object configured to **wait on rate limits**, **`Cursor`s wait as needed**\n",
    "* [Tweepy `Cursor` tutorial](http://docs.tweepy.org/en/latest/cursor_tutorial.html)"
   ]
  },
  {
   "cell_type": "markdown",
   "metadata": {},
   "source": [
    "<hr style=\"height:2px; border:none; color:#000; background-color:#000;\">"
   ]
  },
  {
   "cell_type": "markdown",
   "metadata": {},
   "source": [
    "## 12.9.1 Determining an Account’s Followers  Via the `API` object’s **`followers` Method**\n",
    "* Calls Twitter’s [**followers/list** method](https://developer.twitter.com/en/docs/accounts-and-users/follow-search-get-users/api-reference/get-followers-list.html)\n",
    "* Returns groups of 20 by default, but can request up to 200 \n",
    "* For demonstration purposes, we’ll grab 10 of NASA’s followers"
   ]
  },
  {
   "cell_type": "markdown",
   "metadata": {},
   "source": [
    "<hr style=\"height:2px; border:none; color:#000; background-color:#000;\">"
   ]
  },
  {
   "cell_type": "markdown",
   "metadata": {},
   "source": [
    "### Creating a Cursor That Will Call the `followers` Method for NASA’s account"
   ]
  },
  {
   "cell_type": "code",
   "execution_count": 13,
   "metadata": {},
   "outputs": [],
   "source": [
    "followers = []  # for storing followers' User objects"
   ]
  },
  {
   "cell_type": "markdown",
   "metadata": {},
   "source": [
    "**CHANGE:** `api.followers` is now `api.get_followers`"
   ]
  },
  {
   "cell_type": "code",
   "execution_count": 14,
   "metadata": {},
   "outputs": [],
   "source": [
    "cursor = tweepy.Cursor(api.get_followers, screen_name='nasa')"
   ]
  },
  {
   "cell_type": "markdown",
   "metadata": {},
   "source": [
    "* First argument is **name of Tweepy method to call**\n",
    "* Additional keyword arguments are passed to method named in first argument"
   ]
  },
  {
   "cell_type": "markdown",
   "metadata": {},
   "source": [
    "<hr style=\"height:2px; border:none; color:#000; background-color:#000;\">"
   ]
  },
  {
   "cell_type": "markdown",
   "metadata": {},
   "source": [
    "### Get Results from `Cursor` and Display in Ascending Alphabetical Order  \n",
    "* Cursor’s **`items` method** calls `api.followers` and returns the `follower`s method’s results"
   ]
  },
  {
   "cell_type": "code",
   "execution_count": 15,
   "metadata": {},
   "outputs": [],
   "source": [
    "for account in cursor.items(100):  # request only 100 results\n",
    "    followers.append(account.screen_name)"
   ]
  },
  {
   "cell_type": "code",
   "execution_count": 16,
   "metadata": {},
   "outputs": [
    {
     "data": {
      "text/plain": [
       "['MateuszGoliat',\n",
       " 'p_solga2000',\n",
       " 'zhong88641298',\n",
       " 'pmandowara4',\n",
       " 'bl4nka00',\n",
       " 'Florea98543561',\n",
       " 'AntonDervishaj',\n",
       " '6_Night_Shade_9',\n",
       " 'hjtop83',\n",
       " 'AlmaEsq24061949',\n",
       " 'MarceVaccaro',\n",
       " 'ValeriaSerstne1',\n",
       " 'PaweBanach6',\n",
       " 'kauegaldino1912',\n",
       " 'Tavo_FTZ_Ruiz_7',\n",
       " 'SyPhanTT',\n",
       " 'Rudrara31039441',\n",
       " 'tiehanh03753515',\n",
       " 'FatimaShahbaz56',\n",
       " 'StavrosGeorgi17',\n",
       " 'RajnishKumar864',\n",
       " 'montse_canevas',\n",
       " '2hpv74xs29',\n",
       " 'MiLa8803',\n",
       " 'MunozDubiel',\n",
       " 'ZaporaSlawomir',\n",
       " 'IxMbaOx1U6xLobe',\n",
       " 'RizikiLiliane',\n",
       " 'kanaj96319709',\n",
       " 'GTK67',\n",
       " 'milliza2009',\n",
       " 'human73568198',\n",
       " 'hejtuwerka3144',\n",
       " 'AnaLilianaVill2',\n",
       " 'TunKhinMyint1',\n",
       " 'nasquz',\n",
       " 'Ett1ab',\n",
       " 'jasonal82168385',\n",
       " 'lotop',\n",
       " 'SklarenkoMariay',\n",
       " '20053816_lu',\n",
       " 'romarivvv',\n",
       " 'DenisaAlexxandr',\n",
       " 'AceWE1',\n",
       " 'eee_axe',\n",
       " 'Kaganates0',\n",
       " 'Daniel_Mozsar',\n",
       " 'Frank_NextStone',\n",
       " 'BhiPhira',\n",
       " 'bbizu13',\n",
       " 'GediminasKviet7',\n",
       " 'Vishnuk66060100',\n",
       " 'GiuselPerez',\n",
       " 'Luisobando777',\n",
       " 'giraffe728',\n",
       " 'StefanSiewier',\n",
       " 'yoy4198',\n",
       " 'OlaWeitch',\n",
       " 'vyomkulyal_',\n",
       " 'MihaelasGolea',\n",
       " 'hi6_sham',\n",
       " 'Urmi23354568',\n",
       " 'ValentinaJarpa8',\n",
       " 'GreekNatali',\n",
       " 'DIabloncsik',\n",
       " 'MarcelRebro',\n",
       " 'pihumishra035',\n",
       " 'ZglowaWszufladz',\n",
       " 'Anniina77953858',\n",
       " 'bk_hania',\n",
       " 'SANTOSWAGNER007',\n",
       " 'OlegTsuprik',\n",
       " 'Mercede47865639',\n",
       " 'KarthicK101987',\n",
       " 'Enrriqu61125358',\n",
       " 'EduardI63912933',\n",
       " 'pachko_giusha',\n",
       " 'Adela08508022',\n",
       " 'simpofrizki',\n",
       " 'wangtianliang5',\n",
       " 'INOSUKESAKE',\n",
       " 'CezaraSerban',\n",
       " 'zh_hz2020',\n",
       " 'lizi36292648',\n",
       " 'Ieva_Vaitkiene',\n",
       " 'MenoShamy',\n",
       " 'Sowson321',\n",
       " 'William90632298',\n",
       " 'isabelgrc37',\n",
       " 'emisario_p',\n",
       " 'FabianHLara1',\n",
       " '__individum__',\n",
       " 'JelqzkovaPetq',\n",
       " 'insix75',\n",
       " 'GGanadal',\n",
       " 'lindevanbeek',\n",
       " 'cara_caro_lina',\n",
       " 'maj9sharp11',\n",
       " 'successfulAgi',\n",
       " 'zayd5603']"
      ]
     },
     "execution_count": 16,
     "metadata": {},
     "output_type": "execute_result"
    }
   ],
   "source": [
    "followers"
   ]
  },
  {
   "cell_type": "markdown",
   "metadata": {},
   "source": [
    "<hr style=\"height:2px; border:none; color:#000; background-color:#000;\">"
   ]
  },
  {
   "cell_type": "markdown",
   "metadata": {},
   "source": [
    "### Automatic Paging\n",
    "* To **get up to 200 followers at a time**, create the `Cursor` with the **`count`** keyword argument\n",
    ">```python\n",
    "cursor = tweepy.Cursor(api.get_followers, screen_name='nasa', count=200)\n",
    "```\n",
    "* Calling `Cursor` method **`items`** with no argument attempts to get **all followers**\n",
    "    * Could **take significant time** due to **rate limits**"
   ]
  },
  {
   "cell_type": "markdown",
   "metadata": {},
   "source": [
    "<hr style=\"height:2px; border:none; color:#000; background-color:#000;\">"
   ]
  },
  {
   "cell_type": "markdown",
   "metadata": {},
   "source": [
    "# 12.10 Searching Recent Tweets with Tweepy `API` method **`search`** \n",
    "* **Tweets API**—Search **past 7 days' tweets**, access **live tweet streams** and more\n",
    "* Returns tweets that **match a query string**\n",
    "* Only for the **previous seven days’ tweets**\n",
    "* **Not guaranteed to return all matching tweets**\n",
    "* Calls Twitter’s **`search/tweets` method**\n",
    "* Returns 15 tweets at a time by default, but can return up to 100"
   ]
  },
  {
   "cell_type": "markdown",
   "metadata": {},
   "source": [
    "<hr style=\"height:2px; border:none; color:#000; background-color:#000;\">"
   ]
  },
  {
   "cell_type": "markdown",
   "metadata": {},
   "source": [
    "### Utility Function `print_tweets` from `tweetutilities.py` "
   ]
  },
  {
   "cell_type": "code",
   "execution_count": 17,
   "metadata": {},
   "outputs": [],
   "source": [
    "from tweetutilities import print_tweets"
   ]
  },
  {
   "cell_type": "markdown",
   "metadata": {},
   "source": [
    "```python\n",
    "def print_tweets(tweets):\n",
    "    \"\"\"For each Tweepy Status object in tweets, display the \n",
    "    user's screen_name and tweet text. If the language is not\n",
    "    English, translate the text with TextBlob.\"\"\"\n",
    "    for tweet in tweets:\n",
    "        print(f'{tweet.screen_name}:', end=' ')\n",
    "    \n",
    "        if 'en' in tweet.lang:\n",
    "            print(f'{tweet.text}\\n')\n",
    "        elif 'und' not in tweet.lang:  # translate to English first\n",
    "            print(f'\\n  ORIGINAL: {tweet.text}')\n",
    "            print(f'TRANSLATED: {TextBlob(tweet.text).translate()}\\n')\n",
    "\n",
    "```"
   ]
  },
  {
   "cell_type": "markdown",
   "metadata": {},
   "source": [
    "<hr style=\"height:2px; border:none; color:#000; background-color:#000;\">"
   ]
  },
  {
   "cell_type": "markdown",
   "metadata": {},
   "source": [
    "### Searching for Specific Words\n",
    "* **`q` keyword argument** specifies the **query string**\n",
    "* Should use **`Cursor`** for more than max results"
   ]
  },
  {
   "cell_type": "markdown",
   "metadata": {},
   "source": [
    "**NOTE: Modified to search only English due to current known issue in TextBlob**\n",
    "* **CHANGE:** `api.search` is now `api.search_tweets`"
   ]
  },
  {
   "cell_type": "code",
   "execution_count": 18,
   "metadata": {},
   "outputs": [],
   "source": [
    "tweets = api.search_tweets(q='football', count=10) #lang='en',"
   ]
  },
  {
   "cell_type": "code",
   "execution_count": 19,
   "metadata": {},
   "outputs": [
    {
     "name": "stdout",
     "output_type": "stream",
     "text": [
      "WhiteGaming__: RT @cafc_daniel: 1. Football\n",
      "2.f1\n",
      "3.indycar \n",
      "4. Rugby \n",
      "5. Cricket\n",
      "\n",
      "AthreyaSamyuk: @jackknight_txt @madvlad6 See, now it’s like watching a football game for us. Who scores first …. \n",
      "At the end of th… https://t.co/gZrOheoIGH\n",
      "\n",
      "thecaidenhill: RT @ArmyFB_Strength: Pound for Pound Top 10 from Testing Week\n",
      "#GOARMY #BEATnavy\n",
      "@ArmyWP_Football https://t.co/nQeWFyedIo\n",
      "\n",
      "kakoozajacque: RT @ItsPegasus__: No girl will be cool with you wearing a football short as boxers. It’s irritating, no de embarrass us bro.\n",
      "\n",
      "adrizamri: RT @Football_LDN: John Terry sends two-word message to Chelsea ahead of Carabao Cup final with Liverpool 🔵\n",
      "\n",
      "#CFC\n",
      "\n",
      "https://t.co/w32iPhxDOB\n",
      "\n",
      "scimet: @WelBeast This imagination that the entire football world is out to destroy Arsenal and their legacy is funny. Where is it coming from?\n",
      "\n",
      "burberryturbann: when messi is enjoying himself and his football, he posts the game\n",
      "\n",
      "Areebayykhan: RT @swilkinsonbc: Oh! so football is political then? I'm sure Celtic fans who were fined for flying THE Palestinian flag of freedom will be…\n",
      "\n",
      "Alpha_Drek: \n",
      "  ORIGINAL: RT @RMCsport: 🔵🔴 Thierry Henry a lancé un défi à Romain Faivre, la nouvelle recrue de l'OL, qui doit marquer six buts et donner six passes…\n",
      "TRANSLATED: RT @RMCsport: 🔵🔴 Thierry Henry has challenged Romain Faivre, OL&#39;s new recruit, to score six goals and give six assists...\n",
      "\n",
      "Adt525: \n",
      "  ORIGINAL: @football_ll55 و يجيك طاقية راسه مربع يقول الاتحاد يمشي بالتحكيم\n",
      "@abd_hfc1 هل تسمعني؟\n",
      "TRANSLATED: @football_ll55 and a square cap comes to your head saying the union walks with arbitration @abd_hfc1 Do you hear me?\n",
      "\n"
     ]
    }
   ],
   "source": [
    "print_tweets(tweets)"
   ]
  },
  {
   "cell_type": "markdown",
   "metadata": {},
   "source": [
    "<hr style=\"height:2px; border:none; color:#000; background-color:#000;\">"
   ]
  },
  {
   "cell_type": "markdown",
   "metadata": {},
   "source": [
    "### Searching with Twitter Search Operators (1 of 2)\n",
    "* Use **Twitter search operators** to refine search results\n",
    "* The following table shows several Twitter search operators. \n",
    "* [For all the operators, click the `operators` link here](https://twitter.com/search-home)\n",
    "* ```python\n",
    "tweets = api.search(q='from:nasa since:2019-11-15', count=3)\n",
    "```\n",
    "\n",
    "| Example&nbsp;&nbsp;&nbsp;&nbsp;&nbsp;&nbsp;&nbsp;&nbsp;&nbsp;&nbsp;&nbsp;&nbsp;&nbsp;&nbsp;&nbsp;&nbsp;&nbsp;&nbsp;&nbsp;&nbsp;&nbsp;&nbsp;&nbsp;&nbsp;&nbsp;&nbsp;&nbsp;&nbsp;&nbsp;&nbsp;&nbsp;&nbsp;&nbsp;&nbsp;&nbsp;&nbsp;&nbsp;&nbsp;\t| Finds tweets containing\n",
    "| :---\t| :---\n",
    "| `python twitter` \t| **Implicit _logical and_ operator**—Finds tweets containing `python` _and_ `twitter`.\n",
    "| `python OR twitter` \t| **Logical `OR` operator**—Finds tweets containing `python` or `twitter` or both.\n",
    "| `python ?` \t| **`?` (question mark)**—Finds tweets asking questions about `python`.\n",
    "| `planets -mars` \t| **`-` (minus sign)**—Finds tweets containing `planets` but not `mars`.\n",
    "| `python :)` \t| **`:)` (happy face)**—Finds **positive sentiment** tweets containing `python`.\n",
    "| `python :(` \t| **`:(` (sad face)**—Finds **negative sentiment** tweets containing `python`.\n",
    "| `since:2018-09-01` \t| **Finds tweets **on or after** the specified date**, which must be in the form **`YYYY-MM-DD`**.\n",
    "| `near:\"New York City\" `\t| **Finds tweets that were sent near `\"New York City\"`**.\n",
    "| `from:nasa` \t| **Finds tweets from the account `@nasa`**.\n",
    "| `to:nasa` \t| **Finds tweets to the account `@nasa`**."
   ]
  },
  {
   "cell_type": "markdown",
   "metadata": {},
   "source": [
    "<hr style=\"height:2px; border:none; color:#000; background-color:#000;\">"
   ]
  },
  {
   "cell_type": "markdown",
   "metadata": {},
   "source": [
    "# 12.11 Spotting Trends: Twitter Trends API\n",
    "* **“Going viral”** &mdash; thousands or millions of people tweeting at once \n",
    "* Twitter maintains a list of **trending topics** worldwide \n",
    "* **Twitter Trends API** can return lists of **trending-topic locations** and the **top 50 trending topics** for each **location**"
   ]
  },
  {
   "cell_type": "markdown",
   "metadata": {},
   "source": [
    "<hr style=\"height:2px; border:none; color:#000; background-color:#000;\">"
   ]
  },
  {
   "cell_type": "markdown",
   "metadata": {},
   "source": [
    "## 12.11.1 Places with Trending Topics \n",
    "* See how to find places with trending topics: https://learning.oreilly.com/videos/python-fundamentals/9780135917411/9780135917411-PFLL_Lesson12_15"
   ]
  },
  {
   "cell_type": "markdown",
   "metadata": {},
   "source": [
    "<hr style=\"height:2px; border:none; color:#000; background-color:#000;\">"
   ]
  },
  {
   "cell_type": "markdown",
   "metadata": {},
   "source": [
    "## 12.11.2 Getting a List of Trending Topics with the Tweepy `API`’s **`trends_place` Method** \n",
    "* Calls **Twitter Trends API’s [`trends/place` method](https://developer.twitter.com/en/docs/trends/trends-for-location/api-reference/get-trends-place)**\n",
    "* Returns top **50 trending topics for the location**\n",
    "* [Look up WOEIDs](http://www.woeidlookup.com) (**Yahoo! Where on Earth IDs**)\n",
    "* Look up WOEID’s programmatically using **Yahoo!’s web services** via [Python libraries like `woeid`](https://github.com/Ray-SunR/woeid)"
   ]
  },
  {
   "cell_type": "markdown",
   "metadata": {},
   "source": [
    "<hr style=\"height:2px; border:none; color:#000; background-color:#000;\">"
   ]
  },
  {
   "cell_type": "markdown",
   "metadata": {},
   "source": [
    "### Get Today's Worldwide Trending Topics (1 of 3)"
   ]
  },
  {
   "cell_type": "markdown",
   "metadata": {},
   "source": [
    "* **CHANGE:** `api.trends_place` is now `api.get_place_trends`"
   ]
  },
  {
   "cell_type": "code",
   "execution_count": 20,
   "metadata": {},
   "outputs": [],
   "source": [
    "world_trends = api.get_place_trends(id=1)  # list containing one dictionary"
   ]
  },
  {
   "cell_type": "markdown",
   "metadata": {},
   "source": [
    "* **`'trends'` key** refers to a **list of dictionaries representing each trend**"
   ]
  },
  {
   "cell_type": "code",
   "execution_count": 21,
   "metadata": {},
   "outputs": [],
   "source": [
    "trends_list = world_trends[0]['trends']"
   ]
  },
  {
   "cell_type": "markdown",
   "metadata": {},
   "source": [
    "<hr style=\"height:2px; border:none; color:#000; background-color:#000;\">"
   ]
  },
  {
   "cell_type": "markdown",
   "metadata": {},
   "source": [
    "### Get Today's Worldwide Trending Topics (2 of 3)\n",
    "* Each trend has **`name`**, **`url`**, **`promoted_content`** (whether it's an **advertisement**), **`query`** and **`tweet_volume`** keys"
   ]
  },
  {
   "cell_type": "code",
   "execution_count": 22,
   "metadata": {},
   "outputs": [
    {
     "data": {
      "text/plain": [
       "{'name': 'ポケモン新作',\n",
       " 'url': 'http://twitter.com/search?q=%E3%83%9D%E3%82%B1%E3%83%A2%E3%83%B3%E6%96%B0%E4%BD%9C',\n",
       " 'promoted_content': None,\n",
       " 'query': '%E3%83%9D%E3%82%B1%E3%83%A2%E3%83%B3%E6%96%B0%E4%BD%9C',\n",
       " 'tweet_volume': 136173}"
      ]
     },
     "execution_count": 22,
     "metadata": {},
     "output_type": "execute_result"
    }
   ],
   "source": [
    "trends_list[0]"
   ]
  },
  {
   "cell_type": "markdown",
   "metadata": {},
   "source": [
    "<hr style=\"height:2px; border:none; color:#000; background-color:#000;\">"
   ]
  },
  {
   "cell_type": "markdown",
   "metadata": {},
   "source": [
    "### Get Today's Worldwide Trending Topics (3 of 3)\n",
    "* For **trends with more than 10,000 tweets**, the **`tweet_volume`** is the **number of tweets**; otherwise, it’s `None`\n",
    "* Filter the list so that it contains only trends with more than 10,000 tweets:"
   ]
  },
  {
   "cell_type": "code",
   "execution_count": 23,
   "metadata": {},
   "outputs": [],
   "source": [
    "trends_list = [t for t in trends_list if t['tweet_volume']]"
   ]
  },
  {
   "cell_type": "code",
   "execution_count": 24,
   "metadata": {},
   "outputs": [],
   "source": [
    "from operator import itemgetter "
   ]
  },
  {
   "cell_type": "code",
   "execution_count": 25,
   "metadata": {},
   "outputs": [],
   "source": [
    "trends_list.sort(key=itemgetter('tweet_volume'), reverse=True) "
   ]
  },
  {
   "cell_type": "code",
   "execution_count": 26,
   "metadata": {},
   "outputs": [
    {
     "name": "stdout",
     "output_type": "stream",
     "text": [
      "#PokemonDay\n",
      "#NotMeSeriesEP11\n",
      "ポケットモンスター\n",
      "#NCTDREAM_GlitchMode\n",
      "アルセウス\n",
      "ポケモン新作\n",
      "オープンワールド\n",
      "ホゲータ\n",
      "HYUNJIN\n",
      "ニャオハ\n",
      "#Amici21\n",
      "7DREAM 2nd FULL ALBUM\n",
      "Grass\n",
      "#평생_지지않을_유태양_생일축하해\n",
      "#真犯人フラグ\n",
      "Gen 9\n",
      "Arceus\n",
      "スペイン\n",
      "#PSLFinal\n",
      "シェイミ\n",
      "最終進化\n",
      "ヒスイの夜明け\n",
      "ゲーフリ\n",
      "新作発表\n",
      "Sprigatito\n",
      "#乃木坂工事中\n",
      "ダイパリメイク\n",
      "Fuecoco\n",
      "Quaxly\n",
      "BDSP\n",
      "アローラ\n",
      "草タイプ\n",
      "新御三家\n"
     ]
    }
   ],
   "source": [
    "for trend in trends_list:  # show top trending topics\n",
    "    print(trend['name'])"
   ]
  },
  {
   "cell_type": "markdown",
   "metadata": {},
   "source": [
    "<hr style=\"height:2px; border:none; color:#000; background-color:#000;\">"
   ]
  },
  {
   "cell_type": "markdown",
   "metadata": {},
   "source": [
    "# 12.12 Cleaning/Preprocessing Tweets for Analysis\n",
    "* **Data cleaning** is one of data scientists' most common tasks \n",
    "* Some **NLP tasks** for **normalizing tweets**\n",
    "    * Converting text to **same case**\n",
    "    * Removing **`#` from hashtags**, **`@`-mentions**, **duplicates**, **hashtags**\n",
    "    * Removing **excess whitespace**, **punctuation**, **stop words**, **URLs**\n",
    "    * Removing tweet keywords **`RT`** (retweet) and **`FAV`** (favorite) \n",
    "    * **Stemming** and **lemmatization**\n",
    "    * **Tokenization**"
   ]
  },
  {
   "cell_type": "markdown",
   "metadata": {},
   "source": [
    "<hr style=\"height:2px; border:none; color:#000; background-color:#000;\">"
   ]
  },
  {
   "cell_type": "markdown",
   "metadata": {},
   "source": [
    "### [**tweet-preprocessor**](https://github.com/s/preprocessor) Library and TextBlob Utility Functions\n",
    "* `pip install tweet-preprocessor`\n",
    "* Can automatically remove any combination of:\n",
    "\n",
    "| Option\t| Option constant\n",
    "| :---\t| :---\n",
    "| **`OPT.MENTION`** | @-Mentions (e.g., `@nasa`)\t\n",
    "| **`OPT.EMOJI`** | Emoji\t\n",
    "| **`OPT.HASHTAG`** | Hashtag (e.g., `#mars`)\t\n",
    "| **`OPT.NUMBER`** | Number\t\n",
    "| **`OPT.RESERVED`** | Reserved Words (`RT` and `FAV`)\t\n",
    "| **`OPT.SMILEY`** | Smiley\t\n",
    "| **`OPT.URL`** | URL\t"
   ]
  },
  {
   "cell_type": "markdown",
   "metadata": {},
   "source": [
    "<hr style=\"height:2px; border:none; color:#000; background-color:#000;\">"
   ]
  },
  {
   "cell_type": "markdown",
   "metadata": {},
   "source": [
    "### Cleaning a Tweet Containing a Reserved Word and a URL\n",
    "* The tweet-preprocessor library’s module name is **`preprocessor`** "
   ]
  },
  {
   "cell_type": "code",
   "execution_count": 27,
   "metadata": {},
   "outputs": [],
   "source": [
    "import preprocessor as p  # p recommended by docs"
   ]
  },
  {
   "cell_type": "code",
   "execution_count": 28,
   "metadata": {},
   "outputs": [],
   "source": [
    "p.set_options(p.OPT.URL, p.OPT.RESERVED)  # specify what to clean"
   ]
  },
  {
   "cell_type": "code",
   "execution_count": 29,
   "metadata": {},
   "outputs": [],
   "source": [
    "tweet_text = 'RT A sample retweet with a URL https://nasa.gov'"
   ]
  },
  {
   "cell_type": "code",
   "execution_count": 30,
   "metadata": {},
   "outputs": [
    {
     "data": {
      "text/plain": [
       "'A sample retweet with a URL'"
      ]
     },
     "execution_count": 30,
     "metadata": {},
     "output_type": "execute_result"
    }
   ],
   "source": [
    "p.clean(tweet_text)"
   ]
  },
  {
   "cell_type": "markdown",
   "metadata": {},
   "source": [
    "<hr style=\"height:2px; border:none; color:#000; background-color:#000;\">"
   ]
  },
  {
   "cell_type": "markdown",
   "metadata": {},
   "source": [
    "# 12.13 Twitter Streaming API\n",
    "* Streams **randomly selected** live tweets up to a **maximum of 1% of the tweets per day**\n",
    "* According to https://InternetLiveStats.com\n",
    "    * **~8500 tweets per second**\n",
    "    * Nearly **750 million tweets per day**\n",
    "* So Streaming API gives you **free access to approximately 7.5 million tweets/day**"
   ]
  },
  {
   "cell_type": "markdown",
   "metadata": {},
   "source": [
    "<hr style=\"height:2px; border:none; color:#000; background-color:#000;\">"
   ]
  },
  {
   "cell_type": "markdown",
   "metadata": {},
   "source": [
    "## 12.13.1 Creating a Subclass of `StreamListener` \n",
    "* A stream **pushes** tweets to your app via a **persistent connection** \n",
    "* **Streaming rate** varies tremendously, based on search criteria\n",
    "* Subclass of Tweepy’s **`StreamListener`** listens for tweets\n",
    "    * **Notified** when each **new tweet** or other **Twitter message** **arrives**\n",
    "    * Each message results in a call to a **`StreamListener` method**\n",
    "    * **Override** only the **methods you need**\n"
   ]
  },
  {
   "cell_type": "markdown",
   "metadata": {},
   "source": [
    "<hr style=\"height:2px; border:none; color:#000; background-color:#000;\">"
   ]
  },
  {
   "cell_type": "markdown",
   "metadata": {},
   "source": [
    "### `StreamListener` Methods\n",
    "* [`StreamListener` methods](https://github.com/tweepy/tweepy/blob/master/tweepy/streaming.py)  \n",
    "\n",
    "| Method&nbsp;&nbsp;&nbsp;&nbsp;&nbsp;&nbsp;&nbsp;&nbsp;&nbsp;&nbsp;&nbsp;&nbsp;&nbsp;&nbsp;&nbsp;&nbsp;&nbsp;&nbsp;&nbsp;&nbsp;&nbsp;&nbsp;&nbsp;&nbsp;&nbsp;&nbsp;&nbsp;&nbsp;&nbsp;&nbsp;&nbsp;&nbsp;&nbsp;&nbsp;&nbsp;&nbsp;&nbsp;&nbsp;&nbsp;&nbsp;&nbsp;&nbsp;&nbsp;&nbsp;&nbsp;&nbsp;&nbsp;&nbsp;&nbsp;&nbsp;&nbsp;&nbsp;&nbsp;&nbsp;&nbsp;&nbsp;&nbsp;&nbsp;| Called when...\n",
    "| :---\t| :---\n",
    "| **`on_connect(self)`** \t| App **successfully connects** to the Twitter stream. This is for statements that should execute only if your app is connected to the stream.\n",
    "| **`on_status(self, status)`** \t| A **tweet arrives**—**`status`** is a Tweepy **`Status`** object.\n",
    "| **`on_data(self, data)`** \t| A **tweet arrives**—**`data`** is the **raw JSON** of a Twitter status (tweet).\n",
    "| **`on_limit(self, track)`** \t| A **limit notice** arrives. This occurs if your search matches more tweets than Twitter can deliver based on its current streaming rate limits. In this case, the limit notice contains the number of matching tweets that could not be delivered.\n",
    "| **`on_error(self, status_code)`** \t| An **error code** arrives. \n",
    "| **`on_timeout(self)`** \t| The **connection times out**—that is, the Twitter server is not responding.\n",
    "| **`on_warning(self, notice)`** \t| **Twitter sends a disconnect warning** to indicate that the connection might be closed. For example, Twitter maintains a queue of the tweets it’s pushing to your app. If the app does not read the tweets fast enough, `on_warning`’s notice argument will contain a warning message indicating that the connection will terminate if the queue becomes full. "
   ]
  },
  {
   "cell_type": "markdown",
   "metadata": {},
   "source": [
    "<hr style=\"height:2px; border:none; color:#000; background-color:#000;\">"
   ]
  },
  {
   "cell_type": "markdown",
   "metadata": {},
   "source": [
    "### Class `TweetListener` Defined in `tweetlistener.py`\n"
   ]
  },
  {
   "cell_type": "markdown",
   "metadata": {},
   "source": [
    "<hr style=\"height:2px; border:none; color:#000; background-color:#000;\">"
   ]
  },
  {
   "cell_type": "markdown",
   "metadata": {},
   "source": [
    "## 12.13.2 Initiating Stream Processing\n",
    "\n",
    "### Subclass of `tweepy.Stream` Receives Tweets\n",
    "* **CHANGE:** Previously, the subclass was initialized with the API object and registered as a listener. "
   ]
  },
  {
   "cell_type": "code",
   "execution_count": 31,
   "metadata": {},
   "outputs": [],
   "source": [
    "from tweetlistener import TweetListener"
   ]
  },
  {
   "cell_type": "code",
   "execution_count": 32,
   "metadata": {},
   "outputs": [],
   "source": [
    "tweet_listener = TweetListener(keys.consumer_key, keys.consumer_secret, keys.access_token, keys.access_token_secret, limit=5)"
   ]
  },
  {
   "cell_type": "markdown",
   "metadata": {},
   "source": [
    "<hr style=\"height:2px; border:none; color:#000; background-color:#000;\">"
   ]
  },
  {
   "cell_type": "markdown",
   "metadata": {
    "tags": []
   },
   "source": [
    "### Creating a Tweepy **`Stream`** Object to Manage the Connection to the Twitter Stream\n",
    "* Passes the messages to your `TweetListener` "
   ]
  },
  {
   "cell_type": "code",
   "execution_count": 33,
   "metadata": {},
   "outputs": [],
   "source": [
    "# OLD: tweet_stream = tweepy.Stream(auth=api.auth, listener=tweet_listener)"
   ]
  },
  {
   "cell_type": "markdown",
   "metadata": {},
   "source": [
    "<hr style=\"height:2px; border:none; color:#000; background-color:#000;\">"
   ]
  },
  {
   "cell_type": "markdown",
   "metadata": {},
   "source": [
    "### Starting the Tweet Stream with the `Stream` Object’s **`filter` Method** \n",
    "* `track` parameter specifies a list of search terms\n",
    "* [Other `filter` method parameters](https://developer.twitter.com/en/docs/tweets/filter-realtime/guides/basic-stream-parameters) for refining your tweet searches\n",
    "* Streaming API returns full tweet **JSON objects** for tweets that match any of the terms, **not just in the tweet’s text, but also in @-mentions, hashtags, expanded URLs and other information**  \n",
    "* Might not see search terms in **tweets' text**"
   ]
  },
  {
   "cell_type": "code",
   "execution_count": 34,
   "metadata": {},
   "outputs": [],
   "source": [
    "# OLD: tweet_stream.filter(track=['football'])  #, is_async=True) "
   ]
  },
  {
   "cell_type": "code",
   "execution_count": 35,
   "metadata": {},
   "outputs": [
    {
     "name": "stdout",
     "output_type": "stream",
     "text": [
      "Connection successful\n",
      "\n",
      "Screen name: Sagary178:\n",
      "   Language: en\n",
      "     Status: RT @ARanganathan72: When Russia attacks Ukraine: ban ordinary Russians from football tournaments &amp; singing contests; but when Pakistan atta…\n",
      "\n",
      "Screen name: DaleHayward1:\n",
      "   Language: en\n",
      "     Status: We must have been watching a different game today 😂 I adore ange but he’s that stubborn sometimes. Rogic Abada and hatate should have been off at half time\n",
      "\n",
      "Screen name: Tshepang_MUFC:\n",
      "   Language: en\n",
      "     Status: Otherwise Real Betis plays discipline total football\n",
      "\n"
     ]
    },
    {
     "name": "stderr",
     "output_type": "stream",
     "text": [
      "Stream connection closed by Twitter\n"
     ]
    },
    {
     "name": "stdout",
     "output_type": "stream",
     "text": [
      "Screen name: BR4ND4LORIAN:\n",
      "   Language: en\n",
      "     Status: @Kusku72 @Mike_Bundt This isn’t fantasy football there is human dynamics\n",
      "\n",
      "Screen name: SatwikBiswal:\n",
      "   Language: en\n",
      "     Status: RT @rebekkarnold: Someone at the bar asked me what I do and I said football writer, and no joke he straight up asked me to name the startin…\n",
      "\n"
     ]
    }
   ],
   "source": [
    "tweet_listener.filter(track=['football'])  #, is_async=True) "
   ]
  },
  {
   "cell_type": "markdown",
   "metadata": {},
   "source": [
    "<hr style=\"height:2px; border:none; color:#000; background-color:#000;\">"
   ]
  },
  {
   "cell_type": "markdown",
   "metadata": {
    "tags": []
   },
   "source": [
    "### **Lecture note: Run remaining cells now so we don't have to wait for streamed tweets later.**\n",
    "\n",
    "### Asynchronous vs. Synchronous Streams\n",
    "* **`is_async=True`** &mdash; would initiate an **asynchronous tweet stream** \n",
    "* Without `is_async=True`, the stream is **synchronous** and the next In [] prompt appears **after the stream terminates**    \n",
    "* in Jupyter, we used a **synchronous stream** ensure that all tweets display\n",
    "* In IPython, can terminate an asynchronous tweet stream early:  \n",
    ">`tweet_stream.running=False`    \n"
   ]
  },
  {
   "cell_type": "markdown",
   "metadata": {},
   "source": [
    "<hr style=\"height:2px; border:none; color:#000; background-color:#000;\">"
   ]
  },
  {
   "cell_type": "markdown",
   "metadata": {},
   "source": [
    "# 12.14 Tweet Sentiment Analysis \n",
    "* Political researchers might use to understand **how people are likely to vote**\n",
    "* Companies might use to see what people are saying about **their products** and **competitors’ products**\n",
    "* Script **`sentimentlistener.py`** checks **sentiment** on a specified topic for a specified number of tweets\n",
    "* The script in this example is substantially the same as the previous example, but uses TextBlob to check the sentiment of each tweet as we did in the NLP presentation"
   ]
  },
  {
   "cell_type": "code",
   "execution_count": 36,
   "metadata": {},
   "outputs": [
    {
     "name": "stdout",
     "output_type": "stream",
     "text": [
      "  LUFC_Harley2: 1. Football 2. NBA 3. NFL 4. Boxing i guess 5. Idk\n",
      "\n",
      "  ben_wosu: @ara__miday Asin like half time in football 😂\n",
      "\n",
      "  KungFu_Kyle: Is there a managerial position in world football that these two don’t think Sam Allardyce is the answer to?\n",
      "\n",
      "  iamAbdou_D: @Papii_Toure Terer na le gue mey @ si affaire football do degg ?\n",
      "\n",
      "+ _LenaVee_: @DanielMaithyaKE It's high time we revive Kenyan football glory. Soccer has nurtured so many young talents over the years. #FootballMattersKE Sports CS Statement\n",
      "\n",
      "  ShinRanFPL: a normal day in Indonesia football league\n",
      "\n",
      "+ chrisrhodes1326: …cont but what he does is make players better and give them a knowledge of the game and themselves that they didn’t know they had. We’ve had the best 3 years of football I’ve experienced since following Leeds from 4 yrs old and I’m nearly 60. Thank you Marcelo #lufc\n",
      "\n",
      "  RealTshemedi: Football has left Supersport United. #DStvPrem\n",
      "\n",
      "  MaxxSportsInc: #OnThisDay in 1987...The SMU Football Program is given the \"Death Penalty\" for frequent NCAA violations. The harshest ruling ever given in College Football history The program was stripped of all scholarships, and as a result was shutdown for the next 2 seasons.\n",
      "\n"
     ]
    },
    {
     "name": "stderr",
     "output_type": "stream",
     "text": [
      "Stream connection closed by Twitter\n"
     ]
    },
    {
     "name": "stdout",
     "output_type": "stream",
     "text": [
      "  CollinsLumsden: @Emerson_Royal22 @SpursOfficial Just keep going and forget about some of the fans football is like life some people don't want to give a brother a chance you haven't been here long but some of the fans have an agenda\n",
      "\n",
      "Tweet sentiment for \"football\"\n",
      "Positive: 2\n",
      " Neutral: 8\n",
      "Negative: 0\n"
     ]
    }
   ],
   "source": [
    "run sentimentlistener.py football 10"
   ]
  },
  {
   "cell_type": "markdown",
   "metadata": {},
   "source": [
    "<hr style=\"height:2px; border:none; color:#000; background-color:#000;\">"
   ]
  },
  {
   "cell_type": "markdown",
   "metadata": {},
   "source": [
    "# 12.15 Geocoding and Mapping\n",
    "* Collect **streaming tweets**, then **plot** their **locations** on an **interactive map**\n",
    "* **Twitter disables precise location info (latitude/longitude) by default** (users must opt in to allowing Twitter to track locations) \n",
    "* Large percentage include the user’s home location information\n",
    "    * Sometimes invalid or fictitious \n",
    "* **Map markers** will show `location` from each tweet’s `User` object"
   ]
  },
  {
   "cell_type": "markdown",
   "metadata": {},
   "source": [
    "<hr style=\"height:2px; border:none; color:#000; background-color:#000;\">"
   ]
  },
  {
   "cell_type": "markdown",
   "metadata": {},
   "source": [
    "### [**geopy** library](https://github.com/geopy/geopy)\n",
    "* **Geocoding**&mdash;translate locations into **latitude** and **longitude**\n",
    "* **geopy** supports dozens of **geocoding web services**, many with **free or lite tiers**\n",
    "* We’ll use **OpenMapQuest geocoding service** "
   ]
  },
  {
   "cell_type": "markdown",
   "metadata": {},
   "source": [
    "<hr style=\"height:2px; border:none; color:#000; background-color:#000;\">"
   ]
  },
  {
   "cell_type": "markdown",
   "metadata": {},
   "source": [
    "### OpenMapQuest Geocoding API (1 of 2)\n",
    "* Convert locations, such as **Boston, MA** into their **latitudes** and **longitudes**, such as **42.3602534** and **-71.0582912**, for plotting on maps\n",
    "* Currently allows **15,000 transactions per month** on their free tier\n",
    "* [Sign up](https://developer.mapquest.com/)\n",
    "* For a presentation of **signing up** and **getting your credentials**, see my [**Python Fundamentals LiveLessons video**](https://learning.oreilly.com/videos/python-fundamentals/9780135917411/9780135917411-PFLL_Lesson12_24) or the [**beginning of Section 12.15 in Python for Programmers**](https://learning.oreilly.com/library/view/python-for-programmers/9780135231364/ch12.xhtml#ch12lev1sec15)"
   ]
  },
  {
   "cell_type": "markdown",
   "metadata": {},
   "source": [
    "<hr style=\"height:2px; border:none; color:#000; background-color:#000;\">"
   ]
  },
  {
   "cell_type": "markdown",
   "metadata": {},
   "source": [
    "### [**folium library**](https://github.com/python-visualization/folium) and Leaflet.js JavaScript Mapping Library\n",
    "* Uses **Leaflet.js JavaScript mapping library** to display maps in a web page \n",
    "* Folium can output **HTML documents** for viewing in a **web browser**\n",
    "* `pip install folium`"
   ]
  },
  {
   "cell_type": "markdown",
   "metadata": {},
   "source": [
    "<hr style=\"height:2px; border:none; color:#000; background-color:#000;\">"
   ]
  },
  {
   "cell_type": "markdown",
   "metadata": {},
   "source": [
    "### Maps from OpenStreetMap.org\n",
    "By default, **Leaflet.js** uses **open source maps** from **`OpenStreetMap.org`**\n",
    "* To use these maps, **they require the following copyright notice**:\n",
    "\n",
    "> `Map data © OpenStreetMap contributors`\n",
    "\n",
    "* They also say: **You must make it clear that the data is available under the Open Database License. This can be achieved by providing a “License” or “Terms” link which links to https://www.openstreetmap.org/copyright or https://www.opendatacommons.org/licenses/odbl/index.html**"
   ]
  },
  {
   "cell_type": "markdown",
   "metadata": {},
   "source": [
    "<hr style=\"height:2px; border:none; color:#000; background-color:#000;\">"
   ]
  },
  {
   "cell_type": "markdown",
   "metadata": {},
   "source": [
    "### Collections Required By `LocationListener`\n",
    "* Requires two collections\n",
    "    * A **list (`tweets`)** to store the tweets we collect \n",
    "    * A **dictionary (`counts`)** to track the **total number of tweets** we collect and the **number that have location data**"
   ]
  },
  {
   "cell_type": "code",
   "execution_count": 37,
   "metadata": {},
   "outputs": [],
   "source": [
    "tweets = [] "
   ]
  },
  {
   "cell_type": "code",
   "execution_count": 38,
   "metadata": {},
   "outputs": [],
   "source": [
    "counts = {'total_tweets': 0, 'locations': 0}"
   ]
  },
  {
   "cell_type": "markdown",
   "metadata": {},
   "source": [
    "<hr style=\"height:2px; border:none; color:#000; background-color:#000;\">"
   ]
  },
  {
   "cell_type": "markdown",
   "metadata": {},
   "source": [
    "### Creating the LocationListener "
   ]
  },
  {
   "cell_type": "code",
   "execution_count": 39,
   "metadata": {},
   "outputs": [],
   "source": [
    "from locationlistener import LocationListener"
   ]
  },
  {
   "cell_type": "code",
   "execution_count": 40,
   "metadata": {},
   "outputs": [],
   "source": [
    "location_listener = LocationListener(keys.consumer_key, keys.consumer_secret, \n",
    "    keys.access_token, keys.access_token_secret, counts_dict=counts, \n",
    "    tweets_list=tweets, topic='football', limit=50)"
   ]
  },
  {
   "cell_type": "markdown",
   "metadata": {},
   "source": [
    "* **`LocationListener`** uses our **utility function `get_tweet_content`** to place each tweets **screen name**, **tweet text** and **location** into a **dictionary**"
   ]
  },
  {
   "cell_type": "markdown",
   "metadata": {},
   "source": [
    "<hr style=\"height:2px; border:none; color:#000; background-color:#000;\">"
   ]
  },
  {
   "cell_type": "markdown",
   "metadata": {},
   "source": [
    "### Configure and Start the `Stream` of Tweets"
   ]
  },
  {
   "cell_type": "code",
   "execution_count": 41,
   "metadata": {},
   "outputs": [],
   "source": [
    "import tweepy"
   ]
  },
  {
   "cell_type": "code",
   "execution_count": 42,
   "metadata": {},
   "outputs": [],
   "source": [
    "#stream = tweepy.Stream(auth=api.auth, listener=location_listener)"
   ]
  },
  {
   "cell_type": "code",
   "execution_count": 43,
   "metadata": {},
   "outputs": [
    {
     "name": "stderr",
     "output_type": "stream",
     "text": [
      "Stream connection closed by Twitter\n"
     ]
    },
    {
     "name": "stdout",
     "output_type": "stream",
     "text": [
      "50: bltravens10: Autographed/Signed Ray Lewis Baltimore White Football Jersey JSA COA\n",
      "Rating:🌕🌕🌕🌕🌕\n",
      "$199.99 👍\n",
      "#autographed/signed #ray #lewis #baltimore #white #football #BaltimoreRavens @bltravens10\n",
      "\n",
      "https://t.co/DYc99U8UdH https://t.co/tGgpKBLsaQ\n",
      "\n"
     ]
    }
   ],
   "source": [
    "location_listener.filter(track=['football'], languages=['en'])"
   ]
  },
  {
   "cell_type": "markdown",
   "metadata": {},
   "source": [
    "<hr style=\"height:2px; border:none; color:#000; background-color:#000;\">"
   ]
  },
  {
   "cell_type": "markdown",
   "metadata": {},
   "source": [
    "### Displaying the Location Statistics "
   ]
  },
  {
   "cell_type": "code",
   "execution_count": 44,
   "metadata": {
    "tags": []
   },
   "outputs": [
    {
     "data": {
      "text/plain": [
       "80"
      ]
     },
     "execution_count": 44,
     "metadata": {},
     "output_type": "execute_result"
    }
   ],
   "source": [
    "counts['total_tweets']"
   ]
  },
  {
   "cell_type": "code",
   "execution_count": 45,
   "metadata": {},
   "outputs": [
    {
     "data": {
      "text/plain": [
       "50"
      ]
     },
     "execution_count": 45,
     "metadata": {},
     "output_type": "execute_result"
    }
   ],
   "source": [
    "counts['locations']"
   ]
  },
  {
   "cell_type": "code",
   "execution_count": 46,
   "metadata": {},
   "outputs": [
    {
     "name": "stdout",
     "output_type": "stream",
     "text": [
      "62.5%\n"
     ]
    }
   ],
   "source": [
    "print(f'{counts[\"locations\"] / counts[\"total_tweets\"]:.1%}')"
   ]
  },
  {
   "cell_type": "markdown",
   "metadata": {},
   "source": [
    "<hr style=\"height:2px; border:none; color:#000; background-color:#000;\">"
   ]
  },
  {
   "cell_type": "markdown",
   "metadata": {},
   "source": [
    "### Geocoding the Locations with Our `get_geocodes` Utility Function \n",
    "* **OpenMapQuest** geocoding service **times out** when it **cannot handle your request immediately**\n",
    "* If so, **`get_geocodes`** **notifies** you, **waits**, then **retries** the request"
   ]
  },
  {
   "cell_type": "code",
   "execution_count": 47,
   "metadata": {},
   "outputs": [],
   "source": [
    "from tweetutilities import get_geocodes"
   ]
  },
  {
   "cell_type": "code",
   "execution_count": 48,
   "metadata": {},
   "outputs": [
    {
     "name": "stdout",
     "output_type": "stream",
     "text": [
      "Getting coordinates for tweet locations...\n",
      "Done geocoding\n"
     ]
    }
   ],
   "source": [
    "bad_locations = get_geocodes(tweets)"
   ]
  },
  {
   "cell_type": "markdown",
   "metadata": {},
   "source": [
    "<hr style=\"height:2px; border:none; color:#000; background-color:#000;\">"
   ]
  },
  {
   "cell_type": "markdown",
   "metadata": {},
   "source": [
    "### Displaying the Bad Location Statistics"
   ]
  },
  {
   "cell_type": "code",
   "execution_count": 49,
   "metadata": {},
   "outputs": [
    {
     "data": {
      "text/plain": [
       "11"
      ]
     },
     "execution_count": 49,
     "metadata": {},
     "output_type": "execute_result"
    }
   ],
   "source": [
    "bad_locations"
   ]
  },
  {
   "cell_type": "code",
   "execution_count": 50,
   "metadata": {},
   "outputs": [
    {
     "name": "stdout",
     "output_type": "stream",
     "text": [
      "22.0%\n"
     ]
    }
   ],
   "source": [
    "print(f'{bad_locations / counts[\"locations\"]:.1%}')"
   ]
  },
  {
   "cell_type": "markdown",
   "metadata": {},
   "source": [
    "<hr style=\"height:2px; border:none; color:#000; background-color:#000;\">"
   ]
  },
  {
   "cell_type": "markdown",
   "metadata": {},
   "source": [
    "### Cleaning the Data with a pandas `DataFrame` Before Displaying the Data on a Map\n",
    "* `DataFrame` will contain **`NaN`** for the **`latitude`** and **`longitude`** of any tweet that **did not have a valid location**\n",
    "* Remove any such via `DataFrame`’s **`dropna` method** "
   ]
  },
  {
   "cell_type": "code",
   "execution_count": 51,
   "metadata": {},
   "outputs": [],
   "source": [
    "import pandas as pd"
   ]
  },
  {
   "cell_type": "code",
   "execution_count": 52,
   "metadata": {},
   "outputs": [],
   "source": [
    "df = pd.DataFrame(tweets)"
   ]
  },
  {
   "cell_type": "code",
   "execution_count": 53,
   "metadata": {},
   "outputs": [
    {
     "data": {
      "text/html": [
       "<div>\n",
       "<style scoped>\n",
       "    .dataframe tbody tr th:only-of-type {\n",
       "        vertical-align: middle;\n",
       "    }\n",
       "\n",
       "    .dataframe tbody tr th {\n",
       "        vertical-align: top;\n",
       "    }\n",
       "\n",
       "    .dataframe thead th {\n",
       "        text-align: right;\n",
       "    }\n",
       "</style>\n",
       "<table border=\"1\" class=\"dataframe\">\n",
       "  <thead>\n",
       "    <tr style=\"text-align: right;\">\n",
       "      <th></th>\n",
       "      <th>screen_name</th>\n",
       "      <th>text</th>\n",
       "      <th>location</th>\n",
       "      <th>latitude</th>\n",
       "      <th>longitude</th>\n",
       "    </tr>\n",
       "  </thead>\n",
       "  <tbody>\n",
       "    <tr>\n",
       "      <th>0</th>\n",
       "      <td>Stevedaresx</td>\n",
       "      <td>The Seville derby is simply one of the best in...</td>\n",
       "      <td>Messi's shadow</td>\n",
       "      <td>NaN</td>\n",
       "      <td>NaN</td>\n",
       "    </tr>\n",
       "    <tr>\n",
       "      <th>1</th>\n",
       "      <td>TXLonghornPride</td>\n",
       "      <td>@WreckEmColt @HornSports Try putting up 70 poi...</td>\n",
       "      <td>austin, Tx</td>\n",
       "      <td>30.271129</td>\n",
       "      <td>-97.743700</td>\n",
       "    </tr>\n",
       "    <tr>\n",
       "      <th>2</th>\n",
       "      <td>mdahdal_</td>\n",
       "      <td>@WestSydney @wswanderersfc This the play right...</td>\n",
       "      <td>Sydney, New South Wales</td>\n",
       "      <td>-33.854816</td>\n",
       "      <td>151.216454</td>\n",
       "    </tr>\n",
       "    <tr>\n",
       "      <th>3</th>\n",
       "      <td>juleskewnde</td>\n",
       "      <td>win or lose i acc don’t care would only want i...</td>\n",
       "      <td>lh44</td>\n",
       "      <td>NaN</td>\n",
       "      <td>NaN</td>\n",
       "    </tr>\n",
       "    <tr>\n",
       "      <th>4</th>\n",
       "      <td>HorsemobileUK</td>\n",
       "      <td>@DavidGauke Can't we just boycott and let them...</td>\n",
       "      <td>N Yorks</td>\n",
       "      <td>-20.631568</td>\n",
       "      <td>29.842546</td>\n",
       "    </tr>\n",
       "    <tr>\n",
       "      <th>5</th>\n",
       "      <td>diwesh_kr</td>\n",
       "      <td>Only he can do it... First he has courage desp...</td>\n",
       "      <td>Pune, India</td>\n",
       "      <td>18.520306</td>\n",
       "      <td>73.854319</td>\n",
       "    </tr>\n",
       "    <tr>\n",
       "      <th>6</th>\n",
       "      <td>EggsonDaVinci</td>\n",
       "      <td>Not me though\\nI was fucking sick at football</td>\n",
       "      <td>This is Beyond Your Experience</td>\n",
       "      <td>NaN</td>\n",
       "      <td>NaN</td>\n",
       "    </tr>\n",
       "    <tr>\n",
       "      <th>7</th>\n",
       "      <td>MunsterGAA</td>\n",
       "      <td>Allianz Football League Division 1 (2nd half, ...</td>\n",
       "      <td>Munster, Ireland</td>\n",
       "      <td>52.307622</td>\n",
       "      <td>-8.570897</td>\n",
       "    </tr>\n",
       "    <tr>\n",
       "      <th>8</th>\n",
       "      <td>r_devadath</td>\n",
       "      <td>@Ella_CFC Wtf. Girls who watch football is the...</td>\n",
       "      <td>Kozhikode, India</td>\n",
       "      <td>11.244614</td>\n",
       "      <td>75.775937</td>\n",
       "    </tr>\n",
       "    <tr>\n",
       "      <th>9</th>\n",
       "      <td>CoachManuelNHS</td>\n",
       "      <td>We’ve hit $8,000 with 5 days left in our fundr...</td>\n",
       "      <td>Harbor City, Los Angeles</td>\n",
       "      <td>33.795200</td>\n",
       "      <td>-118.290829</td>\n",
       "    </tr>\n",
       "    <tr>\n",
       "      <th>10</th>\n",
       "      <td>KevinRohan3</td>\n",
       "      <td>Apart from that Declan Rice hit, this has been...</td>\n",
       "      <td>Aberdeen, Scotland</td>\n",
       "      <td>57.148228</td>\n",
       "      <td>-2.092678</td>\n",
       "    </tr>\n",
       "    <tr>\n",
       "      <th>11</th>\n",
       "      <td>Gregory10170810</td>\n",
       "      <td>@Itssan17 Don't say that because then they'll ...</td>\n",
       "      <td>New Jersey</td>\n",
       "      <td>40.075738</td>\n",
       "      <td>-74.404162</td>\n",
       "    </tr>\n",
       "    <tr>\n",
       "      <th>12</th>\n",
       "      <td>heavy_bondage</td>\n",
       "      <td>@slider40337 Football kit and bondage makes me...</td>\n",
       "      <td>Birmingham</td>\n",
       "      <td>52.477540</td>\n",
       "      <td>-1.894053</td>\n",
       "    </tr>\n",
       "    <tr>\n",
       "      <th>13</th>\n",
       "      <td>dannybenjoh1</td>\n",
       "      <td>@Baddiel Chelsea's recent football success was...</td>\n",
       "      <td>Melbourne, Victoria</td>\n",
       "      <td>-37.814218</td>\n",
       "      <td>144.963161</td>\n",
       "    </tr>\n",
       "    <tr>\n",
       "      <th>14</th>\n",
       "      <td>KildareGAA</td>\n",
       "      <td>Allianz National Football League Rd 4\\n34mins ...</td>\n",
       "      <td>Newbridge, Co.Kildare</td>\n",
       "      <td>53.180124</td>\n",
       "      <td>-6.798214</td>\n",
       "    </tr>\n",
       "    <tr>\n",
       "      <th>15</th>\n",
       "      <td>OD_DESIGNS46</td>\n",
       "      <td>Check out new work on my @Behance profile: \"Ja...</td>\n",
       "      <td>England</td>\n",
       "      <td>52.795479</td>\n",
       "      <td>-0.540240</td>\n",
       "    </tr>\n",
       "    <tr>\n",
       "      <th>16</th>\n",
       "      <td>filedownthenut</td>\n",
       "      <td>Errr…yeah. That’s how football works.</td>\n",
       "      <td>Belfast, Northern Ireland</td>\n",
       "      <td>54.596987</td>\n",
       "      <td>-5.930099</td>\n",
       "    </tr>\n",
       "    <tr>\n",
       "      <th>17</th>\n",
       "      <td>hud49624309</td>\n",
       "      <td>@toryboypierce Not just football, everything!!</td>\n",
       "      <td>England, United Kingdom</td>\n",
       "      <td>52.795479</td>\n",
       "      <td>-0.540240</td>\n",
       "    </tr>\n",
       "    <tr>\n",
       "      <th>18</th>\n",
       "      <td>NFFC_TrentEnd</td>\n",
       "      <td>#NFFC Steve Cook shares message as he reflects...</td>\n",
       "      <td>The City Ground, Nottingham</td>\n",
       "      <td>NaN</td>\n",
       "      <td>NaN</td>\n",
       "    </tr>\n",
       "    <tr>\n",
       "      <th>19</th>\n",
       "      <td>ChrisWa65152880</td>\n",
       "      <td>Lindsay, as a member of the W&amp;amp;J football t...</td>\n",
       "      <td>Odenton, MD</td>\n",
       "      <td>39.089720</td>\n",
       "      <td>-76.707353</td>\n",
       "    </tr>\n",
       "    <tr>\n",
       "      <th>20</th>\n",
       "      <td>phabfish</td>\n",
       "      <td>that was so obviously wrong. The premium footb...</td>\n",
       "      <td>Cairns, Australia</td>\n",
       "      <td>-16.920496</td>\n",
       "      <td>145.771901</td>\n",
       "    </tr>\n",
       "    <tr>\n",
       "      <th>21</th>\n",
       "      <td>stevedegich</td>\n",
       "      <td>My days routine have been simplified to online...</td>\n",
       "      <td>everywhere</td>\n",
       "      <td>52.136614</td>\n",
       "      <td>-0.469497</td>\n",
       "    </tr>\n",
       "    <tr>\n",
       "      <th>22</th>\n",
       "      <td>DardaisErben</td>\n",
       "      <td>Every Football Manager Player https://t.co/KgF...</td>\n",
       "      <td>Bei Köln</td>\n",
       "      <td>50.938361</td>\n",
       "      <td>6.959974</td>\n",
       "    </tr>\n",
       "    <tr>\n",
       "      <th>23</th>\n",
       "      <td>ed_liverpool</td>\n",
       "      <td>Main difference is china are who behind/respon...</td>\n",
       "      <td>United Kingdom</td>\n",
       "      <td>25.223228</td>\n",
       "      <td>55.159493</td>\n",
       "    </tr>\n",
       "    <tr>\n",
       "      <th>24</th>\n",
       "      <td>OfficialLDGAA</td>\n",
       "      <td>Allianz National Football League Division 3 Ro...</td>\n",
       "      <td>Longford, Ireland's</td>\n",
       "      <td>NaN</td>\n",
       "      <td>NaN</td>\n",
       "    </tr>\n",
       "    <tr>\n",
       "      <th>25</th>\n",
       "      <td>oneal_gh</td>\n",
       "      <td>The world picked 2008-2012 from football to mu...</td>\n",
       "      <td>Where the heart is</td>\n",
       "      <td>NaN</td>\n",
       "      <td>NaN</td>\n",
       "    </tr>\n",
       "    <tr>\n",
       "      <th>26</th>\n",
       "      <td>tocajuniorsfc</td>\n",
       "      <td>⚽️❄️ Winter Program\\n\\n◾️ For Girls &amp;amp; Boys...</td>\n",
       "      <td>Potomac, MD</td>\n",
       "      <td>39.017936</td>\n",
       "      <td>-77.209454</td>\n",
       "    </tr>\n",
       "    <tr>\n",
       "      <th>27</th>\n",
       "      <td>MchallV</td>\n",
       "      <td>Literally everything wrong with the modern day...</td>\n",
       "      <td>Preston, England</td>\n",
       "      <td>53.758994</td>\n",
       "      <td>-2.705162</td>\n",
       "    </tr>\n",
       "    <tr>\n",
       "      <th>28</th>\n",
       "      <td>iam_hars</td>\n",
       "      <td>Y’all are at roast and rhymes then there is me...</td>\n",
       "      <td>Wakiso, Uganda</td>\n",
       "      <td>0.218286</td>\n",
       "      <td>32.513030</td>\n",
       "    </tr>\n",
       "    <tr>\n",
       "      <th>29</th>\n",
       "      <td>timocon71443845</td>\n",
       "      <td>@TexansFanatic87 @MattWi77iams Yeah, world foo...</td>\n",
       "      <td>Mountain Top, PA</td>\n",
       "      <td>41.169527</td>\n",
       "      <td>-75.877419</td>\n",
       "    </tr>\n",
       "    <tr>\n",
       "      <th>30</th>\n",
       "      <td>mpickerel</td>\n",
       "      <td>@gavinesq He was the Don*ld Tr*mp of KU football.</td>\n",
       "      <td>Lawrence, KS</td>\n",
       "      <td>38.971938</td>\n",
       "      <td>-95.235950</td>\n",
       "    </tr>\n",
       "    <tr>\n",
       "      <th>31</th>\n",
       "      <td>UsmanMu82676663</td>\n",
       "      <td>@SaddickAdams this is Football</td>\n",
       "      <td>Old Tafo,  Kumasi ,Ghana</td>\n",
       "      <td>NaN</td>\n",
       "      <td>NaN</td>\n",
       "    </tr>\n",
       "    <tr>\n",
       "      <th>32</th>\n",
       "      <td>jsacktheauthor</td>\n",
       "      <td>Sunday evening watching football was always wh...</td>\n",
       "      <td>Surry, Maine and Malta, NY USA</td>\n",
       "      <td>NaN</td>\n",
       "      <td>NaN</td>\n",
       "    </tr>\n",
       "    <tr>\n",
       "      <th>33</th>\n",
       "      <td>Lord_Impaler_7</td>\n",
       "      <td>@oyekanmmi But he's a football purist .. a mad...</td>\n",
       "      <td>Oshawa, Ontario</td>\n",
       "      <td>43.917680</td>\n",
       "      <td>-78.862953</td>\n",
       "    </tr>\n",
       "    <tr>\n",
       "      <th>34</th>\n",
       "      <td>tr0y1291</td>\n",
       "      <td>@TEAMtalk @Rjunez7 imagine an actual football ...</td>\n",
       "      <td>West Midlands, England</td>\n",
       "      <td>52.505003</td>\n",
       "      <td>-1.964396</td>\n",
       "    </tr>\n",
       "    <tr>\n",
       "      <th>35</th>\n",
       "      <td>sensible_gunner</td>\n",
       "      <td>@_BurgessP @GunnerLoulou to happen…and yes it ...</td>\n",
       "      <td>Portland, OR</td>\n",
       "      <td>45.520247</td>\n",
       "      <td>-122.674195</td>\n",
       "    </tr>\n",
       "    <tr>\n",
       "      <th>36</th>\n",
       "      <td>thealchemistroc</td>\n",
       "      <td>@THooker83 @_NOMICS 1. Struggling with English...</td>\n",
       "      <td>Asgard</td>\n",
       "      <td>69.659024</td>\n",
       "      <td>18.913432</td>\n",
       "    </tr>\n",
       "    <tr>\n",
       "      <th>37</th>\n",
       "      <td>NotYourName</td>\n",
       "      <td>@WittyAsCharged Best feeling in the world. I h...</td>\n",
       "      <td>Boston</td>\n",
       "      <td>42.360253</td>\n",
       "      <td>-71.058291</td>\n",
       "    </tr>\n",
       "    <tr>\n",
       "      <th>38</th>\n",
       "      <td>JeffTalbot11</td>\n",
       "      <td>@BygoneBoatmen @TorontoArgos One half was to b...</td>\n",
       "      <td>Ontario, Canada</td>\n",
       "      <td>50.000678</td>\n",
       "      <td>-86.000977</td>\n",
       "    </tr>\n",
       "    <tr>\n",
       "      <th>39</th>\n",
       "      <td>Henry_Roberts10</td>\n",
       "      <td>Fuckin fat cunt who do they think they are at ...</td>\n",
       "      <td>LATICS</td>\n",
       "      <td>NaN</td>\n",
       "      <td>NaN</td>\n",
       "    </tr>\n",
       "    <tr>\n",
       "      <th>40</th>\n",
       "      <td>Rahul_Sampat</td>\n",
       "      <td>Never understood this about American football!...</td>\n",
       "      <td>Mumbai, India</td>\n",
       "      <td>18.938754</td>\n",
       "      <td>72.835238</td>\n",
       "    </tr>\n",
       "    <tr>\n",
       "      <th>41</th>\n",
       "      <td>T9LUFC</td>\n",
       "      <td>There was a reason I posted this 👇and low-and-...</td>\n",
       "      <td>In Spirit Everywhere</td>\n",
       "      <td>NaN</td>\n",
       "      <td>NaN</td>\n",
       "    </tr>\n",
       "    <tr>\n",
       "      <th>42</th>\n",
       "      <td>AFC_BucketHat</td>\n",
       "      <td>Just played 90mins against the best team in Me...</td>\n",
       "      <td>South East, England</td>\n",
       "      <td>51.464263</td>\n",
       "      <td>-0.651715</td>\n",
       "    </tr>\n",
       "    <tr>\n",
       "      <th>43</th>\n",
       "      <td>MickPCollins</td>\n",
       "      <td>Football is littered with half truths, deflect...</td>\n",
       "      <td>London</td>\n",
       "      <td>51.507322</td>\n",
       "      <td>-0.127647</td>\n",
       "    </tr>\n",
       "    <tr>\n",
       "      <th>44</th>\n",
       "      <td>Drewmac20AU</td>\n",
       "      <td>@au_trout @ShootyHoopsWill They beat alabama i...</td>\n",
       "      <td>Nashville, TN</td>\n",
       "      <td>36.162230</td>\n",
       "      <td>-86.774353</td>\n",
       "    </tr>\n",
       "    <tr>\n",
       "      <th>45</th>\n",
       "      <td>Lefoulhs</td>\n",
       "      <td>Ended the pain took us up football has it ups ...</td>\n",
       "      <td>Δαφνί</td>\n",
       "      <td>38.016034</td>\n",
       "      <td>23.635321</td>\n",
       "    </tr>\n",
       "    <tr>\n",
       "      <th>46</th>\n",
       "      <td>qnewscrunch</td>\n",
       "      <td>ISL 2021-22: ATK Mohun Bagan's Prabir Das Fine...</td>\n",
       "      <td>The magical land of articles!</td>\n",
       "      <td>NaN</td>\n",
       "      <td>NaN</td>\n",
       "    </tr>\n",
       "    <tr>\n",
       "      <th>47</th>\n",
       "      <td>guardianstage</td>\n",
       "      <td>Red Pitch review – football, friendship and th...</td>\n",
       "      <td>London</td>\n",
       "      <td>51.507322</td>\n",
       "      <td>-0.127647</td>\n",
       "    </tr>\n",
       "    <tr>\n",
       "      <th>48</th>\n",
       "      <td>ChrisLowes83</td>\n",
       "      <td>Very average game of football this. #WHWol</td>\n",
       "      <td>Newcastle Upon Tyne</td>\n",
       "      <td>54.977092</td>\n",
       "      <td>-1.614206</td>\n",
       "    </tr>\n",
       "    <tr>\n",
       "      <th>49</th>\n",
       "      <td>bltravens10</td>\n",
       "      <td>Autographed/Signed Ray Lewis Baltimore White F...</td>\n",
       "      <td>Baltimore</td>\n",
       "      <td>39.290882</td>\n",
       "      <td>-76.610759</td>\n",
       "    </tr>\n",
       "  </tbody>\n",
       "</table>\n",
       "</div>"
      ],
      "text/plain": [
       "        screen_name                                               text  \\\n",
       "0       Stevedaresx  The Seville derby is simply one of the best in...   \n",
       "1   TXLonghornPride  @WreckEmColt @HornSports Try putting up 70 poi...   \n",
       "2          mdahdal_  @WestSydney @wswanderersfc This the play right...   \n",
       "3       juleskewnde  win or lose i acc don’t care would only want i...   \n",
       "4     HorsemobileUK  @DavidGauke Can't we just boycott and let them...   \n",
       "5         diwesh_kr  Only he can do it... First he has courage desp...   \n",
       "6     EggsonDaVinci      Not me though\\nI was fucking sick at football   \n",
       "7        MunsterGAA  Allianz Football League Division 1 (2nd half, ...   \n",
       "8        r_devadath  @Ella_CFC Wtf. Girls who watch football is the...   \n",
       "9    CoachManuelNHS  We’ve hit $8,000 with 5 days left in our fundr...   \n",
       "10      KevinRohan3  Apart from that Declan Rice hit, this has been...   \n",
       "11  Gregory10170810  @Itssan17 Don't say that because then they'll ...   \n",
       "12    heavy_bondage  @slider40337 Football kit and bondage makes me...   \n",
       "13     dannybenjoh1  @Baddiel Chelsea's recent football success was...   \n",
       "14       KildareGAA  Allianz National Football League Rd 4\\n34mins ...   \n",
       "15     OD_DESIGNS46  Check out new work on my @Behance profile: \"Ja...   \n",
       "16   filedownthenut              Errr…yeah. That’s how football works.   \n",
       "17      hud49624309     @toryboypierce Not just football, everything!!   \n",
       "18    NFFC_TrentEnd  #NFFC Steve Cook shares message as he reflects...   \n",
       "19  ChrisWa65152880  Lindsay, as a member of the W&amp;J football t...   \n",
       "20         phabfish  that was so obviously wrong. The premium footb...   \n",
       "21      stevedegich  My days routine have been simplified to online...   \n",
       "22     DardaisErben  Every Football Manager Player https://t.co/KgF...   \n",
       "23     ed_liverpool  Main difference is china are who behind/respon...   \n",
       "24    OfficialLDGAA  Allianz National Football League Division 3 Ro...   \n",
       "25         oneal_gh  The world picked 2008-2012 from football to mu...   \n",
       "26    tocajuniorsfc  ⚽️❄️ Winter Program\\n\\n◾️ For Girls &amp; Boys...   \n",
       "27          MchallV  Literally everything wrong with the modern day...   \n",
       "28         iam_hars  Y’all are at roast and rhymes then there is me...   \n",
       "29  timocon71443845  @TexansFanatic87 @MattWi77iams Yeah, world foo...   \n",
       "30        mpickerel  @gavinesq He was the Don*ld Tr*mp of KU football.   \n",
       "31  UsmanMu82676663                     @SaddickAdams this is Football   \n",
       "32   jsacktheauthor  Sunday evening watching football was always wh...   \n",
       "33   Lord_Impaler_7  @oyekanmmi But he's a football purist .. a mad...   \n",
       "34         tr0y1291  @TEAMtalk @Rjunez7 imagine an actual football ...   \n",
       "35  sensible_gunner  @_BurgessP @GunnerLoulou to happen…and yes it ...   \n",
       "36  thealchemistroc  @THooker83 @_NOMICS 1. Struggling with English...   \n",
       "37      NotYourName  @WittyAsCharged Best feeling in the world. I h...   \n",
       "38     JeffTalbot11  @BygoneBoatmen @TorontoArgos One half was to b...   \n",
       "39  Henry_Roberts10  Fuckin fat cunt who do they think they are at ...   \n",
       "40     Rahul_Sampat  Never understood this about American football!...   \n",
       "41           T9LUFC  There was a reason I posted this 👇and low-and-...   \n",
       "42    AFC_BucketHat  Just played 90mins against the best team in Me...   \n",
       "43     MickPCollins  Football is littered with half truths, deflect...   \n",
       "44      Drewmac20AU  @au_trout @ShootyHoopsWill They beat alabama i...   \n",
       "45         Lefoulhs  Ended the pain took us up football has it ups ...   \n",
       "46      qnewscrunch  ISL 2021-22: ATK Mohun Bagan's Prabir Das Fine...   \n",
       "47    guardianstage  Red Pitch review – football, friendship and th...   \n",
       "48     ChrisLowes83         Very average game of football this. #WHWol   \n",
       "49      bltravens10  Autographed/Signed Ray Lewis Baltimore White F...   \n",
       "\n",
       "                          location   latitude   longitude  \n",
       "0                   Messi's shadow        NaN         NaN  \n",
       "1                       austin, Tx  30.271129  -97.743700  \n",
       "2          Sydney, New South Wales -33.854816  151.216454  \n",
       "3                             lh44        NaN         NaN  \n",
       "4                          N Yorks -20.631568   29.842546  \n",
       "5                      Pune, India  18.520306   73.854319  \n",
       "6   This is Beyond Your Experience        NaN         NaN  \n",
       "7                 Munster, Ireland  52.307622   -8.570897  \n",
       "8                 Kozhikode, India  11.244614   75.775937  \n",
       "9         Harbor City, Los Angeles  33.795200 -118.290829  \n",
       "10              Aberdeen, Scotland  57.148228   -2.092678  \n",
       "11                     New Jersey   40.075738  -74.404162  \n",
       "12                      Birmingham  52.477540   -1.894053  \n",
       "13             Melbourne, Victoria -37.814218  144.963161  \n",
       "14           Newbridge, Co.Kildare  53.180124   -6.798214  \n",
       "15                        England   52.795479   -0.540240  \n",
       "16       Belfast, Northern Ireland  54.596987   -5.930099  \n",
       "17         England, United Kingdom  52.795479   -0.540240  \n",
       "18     The City Ground, Nottingham        NaN         NaN  \n",
       "19                     Odenton, MD  39.089720  -76.707353  \n",
       "20               Cairns, Australia -16.920496  145.771901  \n",
       "21                      everywhere  52.136614   -0.469497  \n",
       "22                        Bei Köln  50.938361    6.959974  \n",
       "23                  United Kingdom  25.223228   55.159493  \n",
       "24             Longford, Ireland's        NaN         NaN  \n",
       "25             Where the heart is         NaN         NaN  \n",
       "26                     Potomac, MD  39.017936  -77.209454  \n",
       "27                Preston, England  53.758994   -2.705162  \n",
       "28                  Wakiso, Uganda   0.218286   32.513030  \n",
       "29                Mountain Top, PA  41.169527  -75.877419  \n",
       "30                    Lawrence, KS  38.971938  -95.235950  \n",
       "31        Old Tafo,  Kumasi ,Ghana        NaN         NaN  \n",
       "32  Surry, Maine and Malta, NY USA        NaN         NaN  \n",
       "33                 Oshawa, Ontario  43.917680  -78.862953  \n",
       "34          West Midlands, England  52.505003   -1.964396  \n",
       "35                    Portland, OR  45.520247 -122.674195  \n",
       "36                          Asgard  69.659024   18.913432  \n",
       "37                          Boston  42.360253  -71.058291  \n",
       "38                 Ontario, Canada  50.000678  -86.000977  \n",
       "39                         LATICS         NaN         NaN  \n",
       "40                   Mumbai, India  18.938754   72.835238  \n",
       "41           In Spirit Everywhere         NaN         NaN  \n",
       "42             South East, England  51.464263   -0.651715  \n",
       "43                          London  51.507322   -0.127647  \n",
       "44                   Nashville, TN  36.162230  -86.774353  \n",
       "45                          Δαφνί   38.016034   23.635321  \n",
       "46   The magical land of articles!        NaN         NaN  \n",
       "47                          London  51.507322   -0.127647  \n",
       "48             Newcastle Upon Tyne  54.977092   -1.614206  \n",
       "49                       Baltimore  39.290882  -76.610759  "
      ]
     },
     "execution_count": 53,
     "metadata": {},
     "output_type": "execute_result"
    }
   ],
   "source": [
    "df"
   ]
  },
  {
   "cell_type": "code",
   "execution_count": 54,
   "metadata": {},
   "outputs": [],
   "source": [
    "df = df.dropna()"
   ]
  },
  {
   "cell_type": "code",
   "execution_count": 55,
   "metadata": {},
   "outputs": [
    {
     "data": {
      "text/html": [
       "<div>\n",
       "<style scoped>\n",
       "    .dataframe tbody tr th:only-of-type {\n",
       "        vertical-align: middle;\n",
       "    }\n",
       "\n",
       "    .dataframe tbody tr th {\n",
       "        vertical-align: top;\n",
       "    }\n",
       "\n",
       "    .dataframe thead th {\n",
       "        text-align: right;\n",
       "    }\n",
       "</style>\n",
       "<table border=\"1\" class=\"dataframe\">\n",
       "  <thead>\n",
       "    <tr style=\"text-align: right;\">\n",
       "      <th></th>\n",
       "      <th>screen_name</th>\n",
       "      <th>text</th>\n",
       "      <th>location</th>\n",
       "      <th>latitude</th>\n",
       "      <th>longitude</th>\n",
       "    </tr>\n",
       "  </thead>\n",
       "  <tbody>\n",
       "    <tr>\n",
       "      <th>1</th>\n",
       "      <td>TXLonghornPride</td>\n",
       "      <td>@WreckEmColt @HornSports Try putting up 70 poi...</td>\n",
       "      <td>austin, Tx</td>\n",
       "      <td>30.271129</td>\n",
       "      <td>-97.743700</td>\n",
       "    </tr>\n",
       "    <tr>\n",
       "      <th>2</th>\n",
       "      <td>mdahdal_</td>\n",
       "      <td>@WestSydney @wswanderersfc This the play right...</td>\n",
       "      <td>Sydney, New South Wales</td>\n",
       "      <td>-33.854816</td>\n",
       "      <td>151.216454</td>\n",
       "    </tr>\n",
       "    <tr>\n",
       "      <th>4</th>\n",
       "      <td>HorsemobileUK</td>\n",
       "      <td>@DavidGauke Can't we just boycott and let them...</td>\n",
       "      <td>N Yorks</td>\n",
       "      <td>-20.631568</td>\n",
       "      <td>29.842546</td>\n",
       "    </tr>\n",
       "    <tr>\n",
       "      <th>5</th>\n",
       "      <td>diwesh_kr</td>\n",
       "      <td>Only he can do it... First he has courage desp...</td>\n",
       "      <td>Pune, India</td>\n",
       "      <td>18.520306</td>\n",
       "      <td>73.854319</td>\n",
       "    </tr>\n",
       "    <tr>\n",
       "      <th>7</th>\n",
       "      <td>MunsterGAA</td>\n",
       "      <td>Allianz Football League Division 1 (2nd half, ...</td>\n",
       "      <td>Munster, Ireland</td>\n",
       "      <td>52.307622</td>\n",
       "      <td>-8.570897</td>\n",
       "    </tr>\n",
       "    <tr>\n",
       "      <th>8</th>\n",
       "      <td>r_devadath</td>\n",
       "      <td>@Ella_CFC Wtf. Girls who watch football is the...</td>\n",
       "      <td>Kozhikode, India</td>\n",
       "      <td>11.244614</td>\n",
       "      <td>75.775937</td>\n",
       "    </tr>\n",
       "    <tr>\n",
       "      <th>9</th>\n",
       "      <td>CoachManuelNHS</td>\n",
       "      <td>We’ve hit $8,000 with 5 days left in our fundr...</td>\n",
       "      <td>Harbor City, Los Angeles</td>\n",
       "      <td>33.795200</td>\n",
       "      <td>-118.290829</td>\n",
       "    </tr>\n",
       "    <tr>\n",
       "      <th>10</th>\n",
       "      <td>KevinRohan3</td>\n",
       "      <td>Apart from that Declan Rice hit, this has been...</td>\n",
       "      <td>Aberdeen, Scotland</td>\n",
       "      <td>57.148228</td>\n",
       "      <td>-2.092678</td>\n",
       "    </tr>\n",
       "    <tr>\n",
       "      <th>11</th>\n",
       "      <td>Gregory10170810</td>\n",
       "      <td>@Itssan17 Don't say that because then they'll ...</td>\n",
       "      <td>New Jersey</td>\n",
       "      <td>40.075738</td>\n",
       "      <td>-74.404162</td>\n",
       "    </tr>\n",
       "    <tr>\n",
       "      <th>12</th>\n",
       "      <td>heavy_bondage</td>\n",
       "      <td>@slider40337 Football kit and bondage makes me...</td>\n",
       "      <td>Birmingham</td>\n",
       "      <td>52.477540</td>\n",
       "      <td>-1.894053</td>\n",
       "    </tr>\n",
       "    <tr>\n",
       "      <th>13</th>\n",
       "      <td>dannybenjoh1</td>\n",
       "      <td>@Baddiel Chelsea's recent football success was...</td>\n",
       "      <td>Melbourne, Victoria</td>\n",
       "      <td>-37.814218</td>\n",
       "      <td>144.963161</td>\n",
       "    </tr>\n",
       "    <tr>\n",
       "      <th>14</th>\n",
       "      <td>KildareGAA</td>\n",
       "      <td>Allianz National Football League Rd 4\\n34mins ...</td>\n",
       "      <td>Newbridge, Co.Kildare</td>\n",
       "      <td>53.180124</td>\n",
       "      <td>-6.798214</td>\n",
       "    </tr>\n",
       "    <tr>\n",
       "      <th>15</th>\n",
       "      <td>OD_DESIGNS46</td>\n",
       "      <td>Check out new work on my @Behance profile: \"Ja...</td>\n",
       "      <td>England</td>\n",
       "      <td>52.795479</td>\n",
       "      <td>-0.540240</td>\n",
       "    </tr>\n",
       "    <tr>\n",
       "      <th>16</th>\n",
       "      <td>filedownthenut</td>\n",
       "      <td>Errr…yeah. That’s how football works.</td>\n",
       "      <td>Belfast, Northern Ireland</td>\n",
       "      <td>54.596987</td>\n",
       "      <td>-5.930099</td>\n",
       "    </tr>\n",
       "    <tr>\n",
       "      <th>17</th>\n",
       "      <td>hud49624309</td>\n",
       "      <td>@toryboypierce Not just football, everything!!</td>\n",
       "      <td>England, United Kingdom</td>\n",
       "      <td>52.795479</td>\n",
       "      <td>-0.540240</td>\n",
       "    </tr>\n",
       "    <tr>\n",
       "      <th>19</th>\n",
       "      <td>ChrisWa65152880</td>\n",
       "      <td>Lindsay, as a member of the W&amp;amp;J football t...</td>\n",
       "      <td>Odenton, MD</td>\n",
       "      <td>39.089720</td>\n",
       "      <td>-76.707353</td>\n",
       "    </tr>\n",
       "    <tr>\n",
       "      <th>20</th>\n",
       "      <td>phabfish</td>\n",
       "      <td>that was so obviously wrong. The premium footb...</td>\n",
       "      <td>Cairns, Australia</td>\n",
       "      <td>-16.920496</td>\n",
       "      <td>145.771901</td>\n",
       "    </tr>\n",
       "    <tr>\n",
       "      <th>21</th>\n",
       "      <td>stevedegich</td>\n",
       "      <td>My days routine have been simplified to online...</td>\n",
       "      <td>everywhere</td>\n",
       "      <td>52.136614</td>\n",
       "      <td>-0.469497</td>\n",
       "    </tr>\n",
       "    <tr>\n",
       "      <th>22</th>\n",
       "      <td>DardaisErben</td>\n",
       "      <td>Every Football Manager Player https://t.co/KgF...</td>\n",
       "      <td>Bei Köln</td>\n",
       "      <td>50.938361</td>\n",
       "      <td>6.959974</td>\n",
       "    </tr>\n",
       "    <tr>\n",
       "      <th>23</th>\n",
       "      <td>ed_liverpool</td>\n",
       "      <td>Main difference is china are who behind/respon...</td>\n",
       "      <td>United Kingdom</td>\n",
       "      <td>25.223228</td>\n",
       "      <td>55.159493</td>\n",
       "    </tr>\n",
       "    <tr>\n",
       "      <th>26</th>\n",
       "      <td>tocajuniorsfc</td>\n",
       "      <td>⚽️❄️ Winter Program\\n\\n◾️ For Girls &amp;amp; Boys...</td>\n",
       "      <td>Potomac, MD</td>\n",
       "      <td>39.017936</td>\n",
       "      <td>-77.209454</td>\n",
       "    </tr>\n",
       "    <tr>\n",
       "      <th>27</th>\n",
       "      <td>MchallV</td>\n",
       "      <td>Literally everything wrong with the modern day...</td>\n",
       "      <td>Preston, England</td>\n",
       "      <td>53.758994</td>\n",
       "      <td>-2.705162</td>\n",
       "    </tr>\n",
       "    <tr>\n",
       "      <th>28</th>\n",
       "      <td>iam_hars</td>\n",
       "      <td>Y’all are at roast and rhymes then there is me...</td>\n",
       "      <td>Wakiso, Uganda</td>\n",
       "      <td>0.218286</td>\n",
       "      <td>32.513030</td>\n",
       "    </tr>\n",
       "    <tr>\n",
       "      <th>29</th>\n",
       "      <td>timocon71443845</td>\n",
       "      <td>@TexansFanatic87 @MattWi77iams Yeah, world foo...</td>\n",
       "      <td>Mountain Top, PA</td>\n",
       "      <td>41.169527</td>\n",
       "      <td>-75.877419</td>\n",
       "    </tr>\n",
       "    <tr>\n",
       "      <th>30</th>\n",
       "      <td>mpickerel</td>\n",
       "      <td>@gavinesq He was the Don*ld Tr*mp of KU football.</td>\n",
       "      <td>Lawrence, KS</td>\n",
       "      <td>38.971938</td>\n",
       "      <td>-95.235950</td>\n",
       "    </tr>\n",
       "    <tr>\n",
       "      <th>33</th>\n",
       "      <td>Lord_Impaler_7</td>\n",
       "      <td>@oyekanmmi But he's a football purist .. a mad...</td>\n",
       "      <td>Oshawa, Ontario</td>\n",
       "      <td>43.917680</td>\n",
       "      <td>-78.862953</td>\n",
       "    </tr>\n",
       "    <tr>\n",
       "      <th>34</th>\n",
       "      <td>tr0y1291</td>\n",
       "      <td>@TEAMtalk @Rjunez7 imagine an actual football ...</td>\n",
       "      <td>West Midlands, England</td>\n",
       "      <td>52.505003</td>\n",
       "      <td>-1.964396</td>\n",
       "    </tr>\n",
       "    <tr>\n",
       "      <th>35</th>\n",
       "      <td>sensible_gunner</td>\n",
       "      <td>@_BurgessP @GunnerLoulou to happen…and yes it ...</td>\n",
       "      <td>Portland, OR</td>\n",
       "      <td>45.520247</td>\n",
       "      <td>-122.674195</td>\n",
       "    </tr>\n",
       "    <tr>\n",
       "      <th>36</th>\n",
       "      <td>thealchemistroc</td>\n",
       "      <td>@THooker83 @_NOMICS 1. Struggling with English...</td>\n",
       "      <td>Asgard</td>\n",
       "      <td>69.659024</td>\n",
       "      <td>18.913432</td>\n",
       "    </tr>\n",
       "    <tr>\n",
       "      <th>37</th>\n",
       "      <td>NotYourName</td>\n",
       "      <td>@WittyAsCharged Best feeling in the world. I h...</td>\n",
       "      <td>Boston</td>\n",
       "      <td>42.360253</td>\n",
       "      <td>-71.058291</td>\n",
       "    </tr>\n",
       "    <tr>\n",
       "      <th>38</th>\n",
       "      <td>JeffTalbot11</td>\n",
       "      <td>@BygoneBoatmen @TorontoArgos One half was to b...</td>\n",
       "      <td>Ontario, Canada</td>\n",
       "      <td>50.000678</td>\n",
       "      <td>-86.000977</td>\n",
       "    </tr>\n",
       "    <tr>\n",
       "      <th>40</th>\n",
       "      <td>Rahul_Sampat</td>\n",
       "      <td>Never understood this about American football!...</td>\n",
       "      <td>Mumbai, India</td>\n",
       "      <td>18.938754</td>\n",
       "      <td>72.835238</td>\n",
       "    </tr>\n",
       "    <tr>\n",
       "      <th>42</th>\n",
       "      <td>AFC_BucketHat</td>\n",
       "      <td>Just played 90mins against the best team in Me...</td>\n",
       "      <td>South East, England</td>\n",
       "      <td>51.464263</td>\n",
       "      <td>-0.651715</td>\n",
       "    </tr>\n",
       "    <tr>\n",
       "      <th>43</th>\n",
       "      <td>MickPCollins</td>\n",
       "      <td>Football is littered with half truths, deflect...</td>\n",
       "      <td>London</td>\n",
       "      <td>51.507322</td>\n",
       "      <td>-0.127647</td>\n",
       "    </tr>\n",
       "    <tr>\n",
       "      <th>44</th>\n",
       "      <td>Drewmac20AU</td>\n",
       "      <td>@au_trout @ShootyHoopsWill They beat alabama i...</td>\n",
       "      <td>Nashville, TN</td>\n",
       "      <td>36.162230</td>\n",
       "      <td>-86.774353</td>\n",
       "    </tr>\n",
       "    <tr>\n",
       "      <th>45</th>\n",
       "      <td>Lefoulhs</td>\n",
       "      <td>Ended the pain took us up football has it ups ...</td>\n",
       "      <td>Δαφνί</td>\n",
       "      <td>38.016034</td>\n",
       "      <td>23.635321</td>\n",
       "    </tr>\n",
       "    <tr>\n",
       "      <th>47</th>\n",
       "      <td>guardianstage</td>\n",
       "      <td>Red Pitch review – football, friendship and th...</td>\n",
       "      <td>London</td>\n",
       "      <td>51.507322</td>\n",
       "      <td>-0.127647</td>\n",
       "    </tr>\n",
       "    <tr>\n",
       "      <th>48</th>\n",
       "      <td>ChrisLowes83</td>\n",
       "      <td>Very average game of football this. #WHWol</td>\n",
       "      <td>Newcastle Upon Tyne</td>\n",
       "      <td>54.977092</td>\n",
       "      <td>-1.614206</td>\n",
       "    </tr>\n",
       "    <tr>\n",
       "      <th>49</th>\n",
       "      <td>bltravens10</td>\n",
       "      <td>Autographed/Signed Ray Lewis Baltimore White F...</td>\n",
       "      <td>Baltimore</td>\n",
       "      <td>39.290882</td>\n",
       "      <td>-76.610759</td>\n",
       "    </tr>\n",
       "  </tbody>\n",
       "</table>\n",
       "</div>"
      ],
      "text/plain": [
       "        screen_name                                               text  \\\n",
       "1   TXLonghornPride  @WreckEmColt @HornSports Try putting up 70 poi...   \n",
       "2          mdahdal_  @WestSydney @wswanderersfc This the play right...   \n",
       "4     HorsemobileUK  @DavidGauke Can't we just boycott and let them...   \n",
       "5         diwesh_kr  Only he can do it... First he has courage desp...   \n",
       "7        MunsterGAA  Allianz Football League Division 1 (2nd half, ...   \n",
       "8        r_devadath  @Ella_CFC Wtf. Girls who watch football is the...   \n",
       "9    CoachManuelNHS  We’ve hit $8,000 with 5 days left in our fundr...   \n",
       "10      KevinRohan3  Apart from that Declan Rice hit, this has been...   \n",
       "11  Gregory10170810  @Itssan17 Don't say that because then they'll ...   \n",
       "12    heavy_bondage  @slider40337 Football kit and bondage makes me...   \n",
       "13     dannybenjoh1  @Baddiel Chelsea's recent football success was...   \n",
       "14       KildareGAA  Allianz National Football League Rd 4\\n34mins ...   \n",
       "15     OD_DESIGNS46  Check out new work on my @Behance profile: \"Ja...   \n",
       "16   filedownthenut              Errr…yeah. That’s how football works.   \n",
       "17      hud49624309     @toryboypierce Not just football, everything!!   \n",
       "19  ChrisWa65152880  Lindsay, as a member of the W&amp;J football t...   \n",
       "20         phabfish  that was so obviously wrong. The premium footb...   \n",
       "21      stevedegich  My days routine have been simplified to online...   \n",
       "22     DardaisErben  Every Football Manager Player https://t.co/KgF...   \n",
       "23     ed_liverpool  Main difference is china are who behind/respon...   \n",
       "26    tocajuniorsfc  ⚽️❄️ Winter Program\\n\\n◾️ For Girls &amp; Boys...   \n",
       "27          MchallV  Literally everything wrong with the modern day...   \n",
       "28         iam_hars  Y’all are at roast and rhymes then there is me...   \n",
       "29  timocon71443845  @TexansFanatic87 @MattWi77iams Yeah, world foo...   \n",
       "30        mpickerel  @gavinesq He was the Don*ld Tr*mp of KU football.   \n",
       "33   Lord_Impaler_7  @oyekanmmi But he's a football purist .. a mad...   \n",
       "34         tr0y1291  @TEAMtalk @Rjunez7 imagine an actual football ...   \n",
       "35  sensible_gunner  @_BurgessP @GunnerLoulou to happen…and yes it ...   \n",
       "36  thealchemistroc  @THooker83 @_NOMICS 1. Struggling with English...   \n",
       "37      NotYourName  @WittyAsCharged Best feeling in the world. I h...   \n",
       "38     JeffTalbot11  @BygoneBoatmen @TorontoArgos One half was to b...   \n",
       "40     Rahul_Sampat  Never understood this about American football!...   \n",
       "42    AFC_BucketHat  Just played 90mins against the best team in Me...   \n",
       "43     MickPCollins  Football is littered with half truths, deflect...   \n",
       "44      Drewmac20AU  @au_trout @ShootyHoopsWill They beat alabama i...   \n",
       "45         Lefoulhs  Ended the pain took us up football has it ups ...   \n",
       "47    guardianstage  Red Pitch review – football, friendship and th...   \n",
       "48     ChrisLowes83         Very average game of football this. #WHWol   \n",
       "49      bltravens10  Autographed/Signed Ray Lewis Baltimore White F...   \n",
       "\n",
       "                     location   latitude   longitude  \n",
       "1                  austin, Tx  30.271129  -97.743700  \n",
       "2     Sydney, New South Wales -33.854816  151.216454  \n",
       "4                     N Yorks -20.631568   29.842546  \n",
       "5                 Pune, India  18.520306   73.854319  \n",
       "7            Munster, Ireland  52.307622   -8.570897  \n",
       "8            Kozhikode, India  11.244614   75.775937  \n",
       "9    Harbor City, Los Angeles  33.795200 -118.290829  \n",
       "10         Aberdeen, Scotland  57.148228   -2.092678  \n",
       "11                New Jersey   40.075738  -74.404162  \n",
       "12                 Birmingham  52.477540   -1.894053  \n",
       "13        Melbourne, Victoria -37.814218  144.963161  \n",
       "14      Newbridge, Co.Kildare  53.180124   -6.798214  \n",
       "15                   England   52.795479   -0.540240  \n",
       "16  Belfast, Northern Ireland  54.596987   -5.930099  \n",
       "17    England, United Kingdom  52.795479   -0.540240  \n",
       "19                Odenton, MD  39.089720  -76.707353  \n",
       "20          Cairns, Australia -16.920496  145.771901  \n",
       "21                 everywhere  52.136614   -0.469497  \n",
       "22                   Bei Köln  50.938361    6.959974  \n",
       "23             United Kingdom  25.223228   55.159493  \n",
       "26                Potomac, MD  39.017936  -77.209454  \n",
       "27           Preston, England  53.758994   -2.705162  \n",
       "28             Wakiso, Uganda   0.218286   32.513030  \n",
       "29           Mountain Top, PA  41.169527  -75.877419  \n",
       "30               Lawrence, KS  38.971938  -95.235950  \n",
       "33            Oshawa, Ontario  43.917680  -78.862953  \n",
       "34     West Midlands, England  52.505003   -1.964396  \n",
       "35               Portland, OR  45.520247 -122.674195  \n",
       "36                     Asgard  69.659024   18.913432  \n",
       "37                     Boston  42.360253  -71.058291  \n",
       "38            Ontario, Canada  50.000678  -86.000977  \n",
       "40              Mumbai, India  18.938754   72.835238  \n",
       "42        South East, England  51.464263   -0.651715  \n",
       "43                     London  51.507322   -0.127647  \n",
       "44              Nashville, TN  36.162230  -86.774353  \n",
       "45                     Δαφνί   38.016034   23.635321  \n",
       "47                     London  51.507322   -0.127647  \n",
       "48        Newcastle Upon Tyne  54.977092   -1.614206  \n",
       "49                  Baltimore  39.290882  -76.610759  "
      ]
     },
     "execution_count": 55,
     "metadata": {},
     "output_type": "execute_result"
    }
   ],
   "source": [
    "df"
   ]
  },
  {
   "cell_type": "markdown",
   "metadata": {},
   "source": [
    "<hr style=\"height:2px; border:none; color:#000; background-color:#000;\">"
   ]
  },
  {
   "cell_type": "markdown",
   "metadata": {},
   "source": [
    "### Creating a Map with Folium"
   ]
  },
  {
   "cell_type": "code",
   "execution_count": 56,
   "metadata": {},
   "outputs": [],
   "source": [
    "import folium"
   ]
  },
  {
   "cell_type": "code",
   "execution_count": 57,
   "metadata": {},
   "outputs": [],
   "source": [
    "usmap = folium.Map(location=[39.8283, -98.5795],  # center of U.S.\n",
    "                   tiles='Stamen Terrain',\n",
    "                   zoom_start=4, detect_retina=True)"
   ]
  },
  {
   "cell_type": "markdown",
   "metadata": {},
   "source": [
    "* **`location`** &mdash; sequence containing **latitude** and **longitude** of **map center point**\n",
    "    * [Geographic center of the continental United States](http://bit.ly/CenterOfTheUS) \n",
    "* **`zoom_start`** &mdash; **map’s initial zoom level**\n",
    "* **`detect_retina`** &mdash; enables folium to use **higher-resolution maps**"
   ]
  },
  {
   "cell_type": "markdown",
   "metadata": {},
   "source": [
    "<hr style=\"height:2px; border:none; color:#000; background-color:#000;\">"
   ]
  },
  {
   "cell_type": "markdown",
   "metadata": {},
   "source": [
    "### Creating Folium `Popup` Objects for the Tweet Locations\n",
    "* **`itertuples`** creates **tuples** from **each row** of the **`DataFrame`**\n",
    "* Each **tuple** contains a **property** for each **`DataFrame` column**"
   ]
  },
  {
   "cell_type": "code",
   "execution_count": 58,
   "metadata": {},
   "outputs": [],
   "source": [
    "for t in df.itertuples():\n",
    "    text = ': '.join([t.screen_name, t.text])\n",
    "    popup = folium.Popup(text)\n",
    "    marker = folium.Marker((t.latitude, t.longitude), \n",
    "                           popup=popup)\n",
    "    marker.add_to(usmap)"
   ]
  },
  {
   "cell_type": "markdown",
   "metadata": {},
   "source": [
    "<hr style=\"height:2px; border:none; color:#000; background-color:#000;\">"
   ]
  },
  {
   "cell_type": "markdown",
   "metadata": {},
   "source": [
    "### Saving the Map with Map’s **`save`** Method "
   ]
  },
  {
   "cell_type": "code",
   "execution_count": 59,
   "metadata": {},
   "outputs": [],
   "source": [
    "usmap.save('tweet_map.html')"
   ]
  },
  {
   "cell_type": "markdown",
   "metadata": {},
   "source": [
    "<hr style=\"height:2px; border:none; color:#000; background-color:#000;\">"
   ]
  },
  {
   "cell_type": "markdown",
   "metadata": {},
   "source": [
    "### Displaying the Map in Jupyter \n",
    "* The resulting map follows. \n",
    "<a href=\"./tweet_map.html\">Interactive tweet map</a>"
   ]
  },
  {
   "cell_type": "code",
   "execution_count": 60,
   "metadata": {},
   "outputs": [
    {
     "data": {
      "text/html": [
       "<div style=\"width:100%;\"><div style=\"position:relative;width:100%;height:0;padding-bottom:60%;\"><span style=\"color:#565656\">Make this Notebook Trusted to load map: File -> Trust Notebook</span><iframe src=\"about:blank\" style=\"position:absolute;width:100%;height:100%;left:0;top:0;border:none !important;\" data-html=%3C%21DOCTYPE%20html%3E%0A%3Chead%3E%20%20%20%20%0A%20%20%20%20%3Cmeta%20http-equiv%3D%22content-type%22%20content%3D%22text/html%3B%20charset%3DUTF-8%22%20/%3E%0A%20%20%20%20%0A%20%20%20%20%20%20%20%20%3Cscript%3E%0A%20%20%20%20%20%20%20%20%20%20%20%20L_NO_TOUCH%20%3D%20false%3B%0A%20%20%20%20%20%20%20%20%20%20%20%20L_DISABLE_3D%20%3D%20false%3B%0A%20%20%20%20%20%20%20%20%3C/script%3E%0A%20%20%20%20%0A%20%20%20%20%3Cstyle%3Ehtml%2C%20body%20%7Bwidth%3A%20100%25%3Bheight%3A%20100%25%3Bmargin%3A%200%3Bpadding%3A%200%3B%7D%3C/style%3E%0A%20%20%20%20%3Cstyle%3E%23map%20%7Bposition%3Aabsolute%3Btop%3A0%3Bbottom%3A0%3Bright%3A0%3Bleft%3A0%3B%7D%3C/style%3E%0A%20%20%20%20%3Cscript%20src%3D%22https%3A//cdn.jsdelivr.net/npm/leaflet%401.6.0/dist/leaflet.js%22%3E%3C/script%3E%0A%20%20%20%20%3Cscript%20src%3D%22https%3A//code.jquery.com/jquery-1.12.4.min.js%22%3E%3C/script%3E%0A%20%20%20%20%3Cscript%20src%3D%22https%3A//maxcdn.bootstrapcdn.com/bootstrap/3.2.0/js/bootstrap.min.js%22%3E%3C/script%3E%0A%20%20%20%20%3Cscript%20src%3D%22https%3A//cdnjs.cloudflare.com/ajax/libs/Leaflet.awesome-markers/2.0.2/leaflet.awesome-markers.js%22%3E%3C/script%3E%0A%20%20%20%20%3Clink%20rel%3D%22stylesheet%22%20href%3D%22https%3A//cdn.jsdelivr.net/npm/leaflet%401.6.0/dist/leaflet.css%22/%3E%0A%20%20%20%20%3Clink%20rel%3D%22stylesheet%22%20href%3D%22https%3A//maxcdn.bootstrapcdn.com/bootstrap/3.2.0/css/bootstrap.min.css%22/%3E%0A%20%20%20%20%3Clink%20rel%3D%22stylesheet%22%20href%3D%22https%3A//maxcdn.bootstrapcdn.com/bootstrap/3.2.0/css/bootstrap-theme.min.css%22/%3E%0A%20%20%20%20%3Clink%20rel%3D%22stylesheet%22%20href%3D%22https%3A//maxcdn.bootstrapcdn.com/font-awesome/4.6.3/css/font-awesome.min.css%22/%3E%0A%20%20%20%20%3Clink%20rel%3D%22stylesheet%22%20href%3D%22https%3A//cdnjs.cloudflare.com/ajax/libs/Leaflet.awesome-markers/2.0.2/leaflet.awesome-markers.css%22/%3E%0A%20%20%20%20%3Clink%20rel%3D%22stylesheet%22%20href%3D%22https%3A//cdn.jsdelivr.net/gh/python-visualization/folium/folium/templates/leaflet.awesome.rotate.min.css%22/%3E%0A%20%20%20%20%0A%20%20%20%20%20%20%20%20%20%20%20%20%3Cmeta%20name%3D%22viewport%22%20content%3D%22width%3Ddevice-width%2C%0A%20%20%20%20%20%20%20%20%20%20%20%20%20%20%20%20initial-scale%3D1.0%2C%20maximum-scale%3D1.0%2C%20user-scalable%3Dno%22%20/%3E%0A%20%20%20%20%20%20%20%20%20%20%20%20%3Cstyle%3E%0A%20%20%20%20%20%20%20%20%20%20%20%20%20%20%20%20%23map_7218724a9c4f47ee84a719f9fd19dbf7%20%7B%0A%20%20%20%20%20%20%20%20%20%20%20%20%20%20%20%20%20%20%20%20position%3A%20relative%3B%0A%20%20%20%20%20%20%20%20%20%20%20%20%20%20%20%20%20%20%20%20width%3A%20100.0%25%3B%0A%20%20%20%20%20%20%20%20%20%20%20%20%20%20%20%20%20%20%20%20height%3A%20100.0%25%3B%0A%20%20%20%20%20%20%20%20%20%20%20%20%20%20%20%20%20%20%20%20left%3A%200.0%25%3B%0A%20%20%20%20%20%20%20%20%20%20%20%20%20%20%20%20%20%20%20%20top%3A%200.0%25%3B%0A%20%20%20%20%20%20%20%20%20%20%20%20%20%20%20%20%7D%0A%20%20%20%20%20%20%20%20%20%20%20%20%3C/style%3E%0A%20%20%20%20%20%20%20%20%0A%3C/head%3E%0A%3Cbody%3E%20%20%20%20%0A%20%20%20%20%0A%20%20%20%20%20%20%20%20%20%20%20%20%3Cdiv%20class%3D%22folium-map%22%20id%3D%22map_7218724a9c4f47ee84a719f9fd19dbf7%22%20%3E%3C/div%3E%0A%20%20%20%20%20%20%20%20%0A%3C/body%3E%0A%3Cscript%3E%20%20%20%20%0A%20%20%20%20%0A%20%20%20%20%20%20%20%20%20%20%20%20var%20map_7218724a9c4f47ee84a719f9fd19dbf7%20%3D%20L.map%28%0A%20%20%20%20%20%20%20%20%20%20%20%20%20%20%20%20%22map_7218724a9c4f47ee84a719f9fd19dbf7%22%2C%0A%20%20%20%20%20%20%20%20%20%20%20%20%20%20%20%20%7B%0A%20%20%20%20%20%20%20%20%20%20%20%20%20%20%20%20%20%20%20%20center%3A%20%5B39.8283%2C%20-98.5795%5D%2C%0A%20%20%20%20%20%20%20%20%20%20%20%20%20%20%20%20%20%20%20%20crs%3A%20L.CRS.EPSG3857%2C%0A%20%20%20%20%20%20%20%20%20%20%20%20%20%20%20%20%20%20%20%20zoom%3A%204%2C%0A%20%20%20%20%20%20%20%20%20%20%20%20%20%20%20%20%20%20%20%20zoomControl%3A%20true%2C%0A%20%20%20%20%20%20%20%20%20%20%20%20%20%20%20%20%20%20%20%20preferCanvas%3A%20false%2C%0A%20%20%20%20%20%20%20%20%20%20%20%20%20%20%20%20%20%20%20%20detectRetina%3A%20true%2C%0A%20%20%20%20%20%20%20%20%20%20%20%20%20%20%20%20%7D%0A%20%20%20%20%20%20%20%20%20%20%20%20%29%3B%0A%0A%20%20%20%20%20%20%20%20%20%20%20%20%0A%0A%20%20%20%20%20%20%20%20%0A%20%20%20%20%0A%20%20%20%20%20%20%20%20%20%20%20%20var%20tile_layer_25806aa37fd14c21a7599c8e1b88bbba%20%3D%20L.tileLayer%28%0A%20%20%20%20%20%20%20%20%20%20%20%20%20%20%20%20%22https%3A//stamen-tiles-%7Bs%7D.a.ssl.fastly.net/terrain/%7Bz%7D/%7Bx%7D/%7By%7D.jpg%22%2C%0A%20%20%20%20%20%20%20%20%20%20%20%20%20%20%20%20%7B%22attribution%22%3A%20%22Map%20tiles%20by%20%5Cu003ca%20href%3D%5C%22http%3A//stamen.com%5C%22%5Cu003eStamen%20Design%5Cu003c/a%5Cu003e%2C%20under%20%5Cu003ca%20href%3D%5C%22http%3A//creativecommons.org/licenses/by/3.0%5C%22%5Cu003eCC%20BY%203.0%5Cu003c/a%5Cu003e.%20Data%20by%20%5Cu0026copy%3B%20%5Cu003ca%20href%3D%5C%22http%3A//openstreetmap.org%5C%22%5Cu003eOpenStreetMap%5Cu003c/a%5Cu003e%2C%20under%20%5Cu003ca%20href%3D%5C%22http%3A//creativecommons.org/licenses/by-sa/3.0%5C%22%5Cu003eCC%20BY%20SA%5Cu003c/a%5Cu003e.%22%2C%20%22detectRetina%22%3A%20false%2C%20%22maxNativeZoom%22%3A%2018%2C%20%22maxZoom%22%3A%2018%2C%20%22minZoom%22%3A%200%2C%20%22noWrap%22%3A%20false%2C%20%22opacity%22%3A%201%2C%20%22subdomains%22%3A%20%22abc%22%2C%20%22tms%22%3A%20false%7D%0A%20%20%20%20%20%20%20%20%20%20%20%20%29.addTo%28map_7218724a9c4f47ee84a719f9fd19dbf7%29%3B%0A%20%20%20%20%20%20%20%20%0A%20%20%20%20%0A%20%20%20%20%20%20%20%20%20%20%20%20var%20marker_5c4a42d3626943438323d61c02e45e67%20%3D%20L.marker%28%0A%20%20%20%20%20%20%20%20%20%20%20%20%20%20%20%20%5B30.2711286%2C%20-97.7436995%5D%2C%0A%20%20%20%20%20%20%20%20%20%20%20%20%20%20%20%20%7B%7D%0A%20%20%20%20%20%20%20%20%20%20%20%20%29.addTo%28map_7218724a9c4f47ee84a719f9fd19dbf7%29%3B%0A%20%20%20%20%20%20%20%20%0A%20%20%20%20%0A%20%20%20%20%20%20%20%20var%20popup_422031ec0997486ca64917eb75b8a924%20%3D%20L.popup%28%7B%22maxWidth%22%3A%20%22100%25%22%7D%29%3B%0A%0A%20%20%20%20%20%20%20%20%0A%20%20%20%20%20%20%20%20%20%20%20%20var%20html_756c53324be44ccfb1f182ca06dc111a%20%3D%20%24%28%60%3Cdiv%20id%3D%22html_756c53324be44ccfb1f182ca06dc111a%22%20style%3D%22width%3A%20100.0%25%3B%20height%3A%20100.0%25%3B%22%3ETXLonghornPride%3A%20%40WreckEmColt%20%40HornSports%20Try%20putting%20up%2070%20points%20against%20us%20in%20football%21%F0%9F%A4%98%F0%9F%8F%BC%20%23HookEm%20%23NiceTry%3C/div%3E%60%29%5B0%5D%3B%0A%20%20%20%20%20%20%20%20%20%20%20%20popup_422031ec0997486ca64917eb75b8a924.setContent%28html_756c53324be44ccfb1f182ca06dc111a%29%3B%0A%20%20%20%20%20%20%20%20%0A%0A%20%20%20%20%20%20%20%20marker_5c4a42d3626943438323d61c02e45e67.bindPopup%28popup_422031ec0997486ca64917eb75b8a924%29%0A%20%20%20%20%20%20%20%20%3B%0A%0A%20%20%20%20%20%20%20%20%0A%20%20%20%20%0A%20%20%20%20%0A%20%20%20%20%20%20%20%20%20%20%20%20var%20marker_11ead3a851d744e69d05a3af271922fe%20%3D%20L.marker%28%0A%20%20%20%20%20%20%20%20%20%20%20%20%20%20%20%20%5B-33.8548157%2C%20151.2164539%5D%2C%0A%20%20%20%20%20%20%20%20%20%20%20%20%20%20%20%20%7B%7D%0A%20%20%20%20%20%20%20%20%20%20%20%20%29.addTo%28map_7218724a9c4f47ee84a719f9fd19dbf7%29%3B%0A%20%20%20%20%20%20%20%20%0A%20%20%20%20%0A%20%20%20%20%20%20%20%20var%20popup_e68773518b344be290a4327c857251cf%20%3D%20L.popup%28%7B%22maxWidth%22%3A%20%22100%25%22%7D%29%3B%0A%0A%20%20%20%20%20%20%20%20%0A%20%20%20%20%20%20%20%20%20%20%20%20var%20html_7a86fab9e7a44fb18ef874ce70a3e0c1%20%3D%20%24%28%60%3Cdiv%20id%3D%22html_7a86fab9e7a44fb18ef874ce70a3e0c1%22%20style%3D%22width%3A%20100.0%25%3B%20height%3A%20100.0%25%3B%22%3Emdahdal_%3A%20%40WestSydney%20%40wswanderersfc%20This%20the%20play%20right%20here.%20Exactly%20who%20we%20should%20be%20bringing%20in%20on%20a%206%20year%20deal%2C%20full%20control%20of%20Football%20department%3C/div%3E%60%29%5B0%5D%3B%0A%20%20%20%20%20%20%20%20%20%20%20%20popup_e68773518b344be290a4327c857251cf.setContent%28html_7a86fab9e7a44fb18ef874ce70a3e0c1%29%3B%0A%20%20%20%20%20%20%20%20%0A%0A%20%20%20%20%20%20%20%20marker_11ead3a851d744e69d05a3af271922fe.bindPopup%28popup_e68773518b344be290a4327c857251cf%29%0A%20%20%20%20%20%20%20%20%3B%0A%0A%20%20%20%20%20%20%20%20%0A%20%20%20%20%0A%20%20%20%20%0A%20%20%20%20%20%20%20%20%20%20%20%20var%20marker_d9e003958dbd487f98d40ecb135308f1%20%3D%20L.marker%28%0A%20%20%20%20%20%20%20%20%20%20%20%20%20%20%20%20%5B-20.6315684%2C%2029.8425463%5D%2C%0A%20%20%20%20%20%20%20%20%20%20%20%20%20%20%20%20%7B%7D%0A%20%20%20%20%20%20%20%20%20%20%20%20%29.addTo%28map_7218724a9c4f47ee84a719f9fd19dbf7%29%3B%0A%20%20%20%20%20%20%20%20%0A%20%20%20%20%0A%20%20%20%20%20%20%20%20var%20popup_663f47185ea14ce18796c5ec155a29c2%20%3D%20L.popup%28%7B%22maxWidth%22%3A%20%22100%25%22%7D%29%3B%0A%0A%20%20%20%20%20%20%20%20%0A%20%20%20%20%20%20%20%20%20%20%20%20var%20html_6858786b209b4b3c80169f009db57448%20%3D%20%24%28%60%3Cdiv%20id%3D%22html_6858786b209b4b3c80169f009db57448%22%20style%3D%22width%3A%20100.0%25%3B%20height%3A%20100.0%25%3B%22%3EHorsemobileUK%3A%20%40DavidGauke%20Can%27t%20we%20just%20boycott%20and%20let%20them%20play%20alone%3F%20Freedom%20from%20football.%20Bliss%20%3A%29%3C/div%3E%60%29%5B0%5D%3B%0A%20%20%20%20%20%20%20%20%20%20%20%20popup_663f47185ea14ce18796c5ec155a29c2.setContent%28html_6858786b209b4b3c80169f009db57448%29%3B%0A%20%20%20%20%20%20%20%20%0A%0A%20%20%20%20%20%20%20%20marker_d9e003958dbd487f98d40ecb135308f1.bindPopup%28popup_663f47185ea14ce18796c5ec155a29c2%29%0A%20%20%20%20%20%20%20%20%3B%0A%0A%20%20%20%20%20%20%20%20%0A%20%20%20%20%0A%20%20%20%20%0A%20%20%20%20%20%20%20%20%20%20%20%20var%20marker_2a8ca49f03c14d4ba726af2c3f0f9aca%20%3D%20L.marker%28%0A%20%20%20%20%20%20%20%20%20%20%20%20%20%20%20%20%5B18.5203062%2C%2073.8543185%5D%2C%0A%20%20%20%20%20%20%20%20%20%20%20%20%20%20%20%20%7B%7D%0A%20%20%20%20%20%20%20%20%20%20%20%20%29.addTo%28map_7218724a9c4f47ee84a719f9fd19dbf7%29%3B%0A%20%20%20%20%20%20%20%20%0A%20%20%20%20%0A%20%20%20%20%20%20%20%20var%20popup_7101e7b8580b45bdbd72daa8f82a8d28%20%3D%20L.popup%28%7B%22maxWidth%22%3A%20%22100%25%22%7D%29%3B%0A%0A%20%20%20%20%20%20%20%20%0A%20%20%20%20%20%20%20%20%20%20%20%20var%20html_81e9b283f4e04e97aaad7d3334a357a4%20%3D%20%24%28%60%3Cdiv%20id%3D%22html_81e9b283f4e04e97aaad7d3334a357a4%22%20style%3D%22width%3A%20100.0%25%3B%20height%3A%20100.0%25%3B%22%3Ediwesh_kr%3A%20Only%20he%20can%20do%20it...%20First%20he%20has%20courage%20despite%20still%20young%20in%20management%2C%20He%20is%20a%20football%20legend%20more%20than%20that%20He%20is%20english.%20Super%20Frank%20Lampard%21%3C/div%3E%60%29%5B0%5D%3B%0A%20%20%20%20%20%20%20%20%20%20%20%20popup_7101e7b8580b45bdbd72daa8f82a8d28.setContent%28html_81e9b283f4e04e97aaad7d3334a357a4%29%3B%0A%20%20%20%20%20%20%20%20%0A%0A%20%20%20%20%20%20%20%20marker_2a8ca49f03c14d4ba726af2c3f0f9aca.bindPopup%28popup_7101e7b8580b45bdbd72daa8f82a8d28%29%0A%20%20%20%20%20%20%20%20%3B%0A%0A%20%20%20%20%20%20%20%20%0A%20%20%20%20%0A%20%20%20%20%0A%20%20%20%20%20%20%20%20%20%20%20%20var%20marker_33df883c18ef41b98589ae1cba305a58%20%3D%20L.marker%28%0A%20%20%20%20%20%20%20%20%20%20%20%20%20%20%20%20%5B52.3076216%2C%20-8.57089727629267%5D%2C%0A%20%20%20%20%20%20%20%20%20%20%20%20%20%20%20%20%7B%7D%0A%20%20%20%20%20%20%20%20%20%20%20%20%29.addTo%28map_7218724a9c4f47ee84a719f9fd19dbf7%29%3B%0A%20%20%20%20%20%20%20%20%0A%20%20%20%20%0A%20%20%20%20%20%20%20%20var%20popup_0ea33b5d67ff4b258ca1fc96d3241905%20%3D%20L.popup%28%7B%22maxWidth%22%3A%20%22100%25%22%7D%29%3B%0A%0A%20%20%20%20%20%20%20%20%0A%20%20%20%20%20%20%20%20%20%20%20%20var%20html_87f5bec871f94cdba8edfb08bec451f2%20%3D%20%24%28%60%3Cdiv%20id%3D%22html_87f5bec871f94cdba8edfb08bec451f2%22%20style%3D%22width%3A%20100.0%25%3B%20height%3A%20100.0%25%3B%22%3EMunsterGAA%3A%20Allianz%20Football%20League%20Division%201%20%282nd%20half%2C%2055min%29%20Kerry%202-11%20%2817%29%20Monaghan%20%200-7%20%287%29%3C/div%3E%60%29%5B0%5D%3B%0A%20%20%20%20%20%20%20%20%20%20%20%20popup_0ea33b5d67ff4b258ca1fc96d3241905.setContent%28html_87f5bec871f94cdba8edfb08bec451f2%29%3B%0A%20%20%20%20%20%20%20%20%0A%0A%20%20%20%20%20%20%20%20marker_33df883c18ef41b98589ae1cba305a58.bindPopup%28popup_0ea33b5d67ff4b258ca1fc96d3241905%29%0A%20%20%20%20%20%20%20%20%3B%0A%0A%20%20%20%20%20%20%20%20%0A%20%20%20%20%0A%20%20%20%20%0A%20%20%20%20%20%20%20%20%20%20%20%20var%20marker_bf40bf9a77ad49f0bc55799cf3d76cdc%20%3D%20L.marker%28%0A%20%20%20%20%20%20%20%20%20%20%20%20%20%20%20%20%5B11.2446144%2C%2075.7759372%5D%2C%0A%20%20%20%20%20%20%20%20%20%20%20%20%20%20%20%20%7B%7D%0A%20%20%20%20%20%20%20%20%20%20%20%20%29.addTo%28map_7218724a9c4f47ee84a719f9fd19dbf7%29%3B%0A%20%20%20%20%20%20%20%20%0A%20%20%20%20%0A%20%20%20%20%20%20%20%20var%20popup_969639984415494e986b6d18bce540d9%20%3D%20L.popup%28%7B%22maxWidth%22%3A%20%22100%25%22%7D%29%3B%0A%0A%20%20%20%20%20%20%20%20%0A%20%20%20%20%20%20%20%20%20%20%20%20var%20html_f7c947696bba4d1291000d6a19d8d8b5%20%3D%20%24%28%60%3Cdiv%20id%3D%22html_f7c947696bba4d1291000d6a19d8d8b5%22%20style%3D%22width%3A%20100.0%25%3B%20height%3A%20100.0%25%3B%22%3Er_devadath%3A%20%40Ella_CFC%20Wtf.%20Girls%20who%20watch%20football%20is%20the%20most%20beautiful%20thing%20in%20the%20world.%20%20%20Dont%20believe%20anything%20else%21%3C/div%3E%60%29%5B0%5D%3B%0A%20%20%20%20%20%20%20%20%20%20%20%20popup_969639984415494e986b6d18bce540d9.setContent%28html_f7c947696bba4d1291000d6a19d8d8b5%29%3B%0A%20%20%20%20%20%20%20%20%0A%0A%20%20%20%20%20%20%20%20marker_bf40bf9a77ad49f0bc55799cf3d76cdc.bindPopup%28popup_969639984415494e986b6d18bce540d9%29%0A%20%20%20%20%20%20%20%20%3B%0A%0A%20%20%20%20%20%20%20%20%0A%20%20%20%20%0A%20%20%20%20%0A%20%20%20%20%20%20%20%20%20%20%20%20var%20marker_276164c559a64f08becc82d48dd6f9c3%20%3D%20L.marker%28%0A%20%20%20%20%20%20%20%20%20%20%20%20%20%20%20%20%5B33.7951998%2C%20-118.2908294%5D%2C%0A%20%20%20%20%20%20%20%20%20%20%20%20%20%20%20%20%7B%7D%0A%20%20%20%20%20%20%20%20%20%20%20%20%29.addTo%28map_7218724a9c4f47ee84a719f9fd19dbf7%29%3B%0A%20%20%20%20%20%20%20%20%0A%20%20%20%20%0A%20%20%20%20%20%20%20%20var%20popup_caaa1f7f833b4fe8832d6645ff5183e8%20%3D%20L.popup%28%7B%22maxWidth%22%3A%20%22100%25%22%7D%29%3B%0A%0A%20%20%20%20%20%20%20%20%0A%20%20%20%20%20%20%20%20%20%20%20%20var%20html_01136c9e84164afcb05367ac3dc78574%20%3D%20%24%28%60%3Cdiv%20id%3D%22html_01136c9e84164afcb05367ac3dc78574%22%20style%3D%22width%3A%20100.0%25%3B%20height%3A%20100.0%25%3B%22%3ECoachManuelNHS%3A%20We%E2%80%99ve%20hit%20%248%2C000%20with%205%20days%20left%20in%20our%20fundraiser.%20Our%20goal%20is%20to%20real%20%2410%2C000%20by%20the%20time%20the%20fundraiser%20is%20up%21%20Click%20the%20link%20below%2C%20get%20some%20popcorn%2C%20%26amp%3B%20support%20Narbonne%20Football%21%20%20Click%20Here%20to%20support%20the%20Narbonne%20High%20School%20Football%202022%20Fundraiser%20https%3A//t.co/veNZIe3LqA%3C/div%3E%60%29%5B0%5D%3B%0A%20%20%20%20%20%20%20%20%20%20%20%20popup_caaa1f7f833b4fe8832d6645ff5183e8.setContent%28html_01136c9e84164afcb05367ac3dc78574%29%3B%0A%20%20%20%20%20%20%20%20%0A%0A%20%20%20%20%20%20%20%20marker_276164c559a64f08becc82d48dd6f9c3.bindPopup%28popup_caaa1f7f833b4fe8832d6645ff5183e8%29%0A%20%20%20%20%20%20%20%20%3B%0A%0A%20%20%20%20%20%20%20%20%0A%20%20%20%20%0A%20%20%20%20%0A%20%20%20%20%20%20%20%20%20%20%20%20var%20marker_29812e4151934011b287f9fe76f99ca2%20%3D%20L.marker%28%0A%20%20%20%20%20%20%20%20%20%20%20%20%20%20%20%20%5B57.1482281%2C%20-2.0926781%5D%2C%0A%20%20%20%20%20%20%20%20%20%20%20%20%20%20%20%20%7B%7D%0A%20%20%20%20%20%20%20%20%20%20%20%20%29.addTo%28map_7218724a9c4f47ee84a719f9fd19dbf7%29%3B%0A%20%20%20%20%20%20%20%20%0A%20%20%20%20%0A%20%20%20%20%20%20%20%20var%20popup_47b8814b842643449fb2cad2bd287702%20%3D%20L.popup%28%7B%22maxWidth%22%3A%20%22100%25%22%7D%29%3B%0A%0A%20%20%20%20%20%20%20%20%0A%20%20%20%20%20%20%20%20%20%20%20%20var%20html_382b2449100e4260b34ec2b62047db3d%20%3D%20%24%28%60%3Cdiv%20id%3D%22html_382b2449100e4260b34ec2b62047db3d%22%20style%3D%22width%3A%20100.0%25%3B%20height%3A%20100.0%25%3B%22%3EKevinRohan3%3A%20Apart%20from%20that%20Declan%20Rice%20hit%2C%20this%20has%20been%20another%20awful%20game%20of%20football%20from%20the%20%E2%80%9CBest%20League%20In%20The%20World%E2%80%9D.%3C/div%3E%60%29%5B0%5D%3B%0A%20%20%20%20%20%20%20%20%20%20%20%20popup_47b8814b842643449fb2cad2bd287702.setContent%28html_382b2449100e4260b34ec2b62047db3d%29%3B%0A%20%20%20%20%20%20%20%20%0A%0A%20%20%20%20%20%20%20%20marker_29812e4151934011b287f9fe76f99ca2.bindPopup%28popup_47b8814b842643449fb2cad2bd287702%29%0A%20%20%20%20%20%20%20%20%3B%0A%0A%20%20%20%20%20%20%20%20%0A%20%20%20%20%0A%20%20%20%20%0A%20%20%20%20%20%20%20%20%20%20%20%20var%20marker_92666f5e78914cb0a51b666dce1d9762%20%3D%20L.marker%28%0A%20%20%20%20%20%20%20%20%20%20%20%20%20%20%20%20%5B40.0757384%2C%20-74.4041622%5D%2C%0A%20%20%20%20%20%20%20%20%20%20%20%20%20%20%20%20%7B%7D%0A%20%20%20%20%20%20%20%20%20%20%20%20%29.addTo%28map_7218724a9c4f47ee84a719f9fd19dbf7%29%3B%0A%20%20%20%20%20%20%20%20%0A%20%20%20%20%0A%20%20%20%20%20%20%20%20var%20popup_18c82c623fb0451cb0fc247a2b09712e%20%3D%20L.popup%28%7B%22maxWidth%22%3A%20%22100%25%22%7D%29%3B%0A%0A%20%20%20%20%20%20%20%20%0A%20%20%20%20%20%20%20%20%20%20%20%20var%20html_f555865471cd41c6ac0ceeac2d0d496a%20%3D%20%24%28%60%3Cdiv%20id%3D%22html_f555865471cd41c6ac0ceeac2d0d496a%22%20style%3D%22width%3A%20100.0%25%3B%20height%3A%20100.0%25%3B%22%3EGregory10170810%3A%20%40Itssan17%20Don%27t%20say%20that%20because%20then%20they%27ll%20stop%20voting%2C%20assuming%20it%27s%20in%20the%20bag%20already.%20It%27s%20how%20football%20teams%20lose%20after%20being%20up%2024%20points%20in%20the%20fourth%20quarter.%3C/div%3E%60%29%5B0%5D%3B%0A%20%20%20%20%20%20%20%20%20%20%20%20popup_18c82c623fb0451cb0fc247a2b09712e.setContent%28html_f555865471cd41c6ac0ceeac2d0d496a%29%3B%0A%20%20%20%20%20%20%20%20%0A%0A%20%20%20%20%20%20%20%20marker_92666f5e78914cb0a51b666dce1d9762.bindPopup%28popup_18c82c623fb0451cb0fc247a2b09712e%29%0A%20%20%20%20%20%20%20%20%3B%0A%0A%20%20%20%20%20%20%20%20%0A%20%20%20%20%0A%20%20%20%20%0A%20%20%20%20%20%20%20%20%20%20%20%20var%20marker_4bb27ff58bf34bd0b795f1ea4ef79648%20%3D%20L.marker%28%0A%20%20%20%20%20%20%20%20%20%20%20%20%20%20%20%20%5B52.4775396%2C%20-1.894053%5D%2C%0A%20%20%20%20%20%20%20%20%20%20%20%20%20%20%20%20%7B%7D%0A%20%20%20%20%20%20%20%20%20%20%20%20%29.addTo%28map_7218724a9c4f47ee84a719f9fd19dbf7%29%3B%0A%20%20%20%20%20%20%20%20%0A%20%20%20%20%0A%20%20%20%20%20%20%20%20var%20popup_dd551d78d0974d4c84e6ce2edaf5ca13%20%3D%20L.popup%28%7B%22maxWidth%22%3A%20%22100%25%22%7D%29%3B%0A%0A%20%20%20%20%20%20%20%20%0A%20%20%20%20%20%20%20%20%20%20%20%20var%20html_6197068009e34ba9baf6da8bfe5ecc1f%20%3D%20%24%28%60%3Cdiv%20id%3D%22html_6197068009e34ba9baf6da8bfe5ecc1f%22%20style%3D%22width%3A%20100.0%25%3B%20height%3A%20100.0%25%3B%22%3Eheavy_bondage%3A%20%40slider40337%20Football%20kit%20and%20bondage%20makes%20me%20happy%20as%20well.%20%F0%9F%99%82%3C/div%3E%60%29%5B0%5D%3B%0A%20%20%20%20%20%20%20%20%20%20%20%20popup_dd551d78d0974d4c84e6ce2edaf5ca13.setContent%28html_6197068009e34ba9baf6da8bfe5ecc1f%29%3B%0A%20%20%20%20%20%20%20%20%0A%0A%20%20%20%20%20%20%20%20marker_4bb27ff58bf34bd0b795f1ea4ef79648.bindPopup%28popup_dd551d78d0974d4c84e6ce2edaf5ca13%29%0A%20%20%20%20%20%20%20%20%3B%0A%0A%20%20%20%20%20%20%20%20%0A%20%20%20%20%0A%20%20%20%20%0A%20%20%20%20%20%20%20%20%20%20%20%20var%20marker_2b4a0de4eb27429ea70d6a41a26bdfda%20%3D%20L.marker%28%0A%20%20%20%20%20%20%20%20%20%20%20%20%20%20%20%20%5B-37.8142176%2C%20144.9631608%5D%2C%0A%20%20%20%20%20%20%20%20%20%20%20%20%20%20%20%20%7B%7D%0A%20%20%20%20%20%20%20%20%20%20%20%20%29.addTo%28map_7218724a9c4f47ee84a719f9fd19dbf7%29%3B%0A%20%20%20%20%20%20%20%20%0A%20%20%20%20%0A%20%20%20%20%20%20%20%20var%20popup_6b44cbc4361f4ec587105cb9ac7f43c6%20%3D%20L.popup%28%7B%22maxWidth%22%3A%20%22100%25%22%7D%29%3B%0A%0A%20%20%20%20%20%20%20%20%0A%20%20%20%20%20%20%20%20%20%20%20%20var%20html_c105cbee63164ce7b5d4fa729a79416a%20%3D%20%24%28%60%3Cdiv%20id%3D%22html_c105cbee63164ce7b5d4fa729a79416a%22%20style%3D%22width%3A%20100.0%25%3B%20height%3A%20100.0%25%3B%22%3Edannybenjoh1%3A%20%40Baddiel%20Chelsea%27s%20recent%20football%20success%20was%20achieved%20with%20the%20help%20of%20Russian%20blood%20money%2C%20coming%20from%20the%20pockets%20of%20Putin%20via%20the%20bank%20account%20of%20Abramowitz.%20Knowing%20all%20that%2C%20how%20can%20you%20continue%20to%20support%20Chelsea.%20All%20chelsea%27s%20season%20ticket%20holders%20have%20blood%20on%20their%20hands.%3C/div%3E%60%29%5B0%5D%3B%0A%20%20%20%20%20%20%20%20%20%20%20%20popup_6b44cbc4361f4ec587105cb9ac7f43c6.setContent%28html_c105cbee63164ce7b5d4fa729a79416a%29%3B%0A%20%20%20%20%20%20%20%20%0A%0A%20%20%20%20%20%20%20%20marker_2b4a0de4eb27429ea70d6a41a26bdfda.bindPopup%28popup_6b44cbc4361f4ec587105cb9ac7f43c6%29%0A%20%20%20%20%20%20%20%20%3B%0A%0A%20%20%20%20%20%20%20%20%0A%20%20%20%20%0A%20%20%20%20%0A%20%20%20%20%20%20%20%20%20%20%20%20var%20marker_30c86b594d414b1494a548b143e20481%20%3D%20L.marker%28%0A%20%20%20%20%20%20%20%20%20%20%20%20%20%20%20%20%5B53.180124%2C%20-6.7982137%5D%2C%0A%20%20%20%20%20%20%20%20%20%20%20%20%20%20%20%20%7B%7D%0A%20%20%20%20%20%20%20%20%20%20%20%20%29.addTo%28map_7218724a9c4f47ee84a719f9fd19dbf7%29%3B%0A%20%20%20%20%20%20%20%20%0A%20%20%20%20%0A%20%20%20%20%20%20%20%20var%20popup_9dc26df0749c4a3fa26947e3fa358da8%20%3D%20L.popup%28%7B%22maxWidth%22%3A%20%22100%25%22%7D%29%3B%0A%0A%20%20%20%20%20%20%20%20%0A%20%20%20%20%20%20%20%20%20%20%20%20var%20html_b5c082baf8864fdfa4b801a8a5556d17%20%3D%20%24%28%60%3Cdiv%20id%3D%22html_b5c082baf8864fdfa4b801a8a5556d17%22%20style%3D%22width%3A%20100.0%25%3B%20height%3A%20100.0%25%3B%22%3EKildareGAA%3A%20Allianz%20National%20Football%20League%20Rd%204%2034mins%202nd%20Half%20%20Kildare%3A%201-11%2814%29%20Dublin%3A%200-11%2811%29%3C/div%3E%60%29%5B0%5D%3B%0A%20%20%20%20%20%20%20%20%20%20%20%20popup_9dc26df0749c4a3fa26947e3fa358da8.setContent%28html_b5c082baf8864fdfa4b801a8a5556d17%29%3B%0A%20%20%20%20%20%20%20%20%0A%0A%20%20%20%20%20%20%20%20marker_30c86b594d414b1494a548b143e20481.bindPopup%28popup_9dc26df0749c4a3fa26947e3fa358da8%29%0A%20%20%20%20%20%20%20%20%3B%0A%0A%20%20%20%20%20%20%20%20%0A%20%20%20%20%0A%20%20%20%20%0A%20%20%20%20%20%20%20%20%20%20%20%20var%20marker_488b68ba02a5437abd46b3628090d3e1%20%3D%20L.marker%28%0A%20%20%20%20%20%20%20%20%20%20%20%20%20%20%20%20%5B52.7954791%2C%20-0.540240286617432%5D%2C%0A%20%20%20%20%20%20%20%20%20%20%20%20%20%20%20%20%7B%7D%0A%20%20%20%20%20%20%20%20%20%20%20%20%29.addTo%28map_7218724a9c4f47ee84a719f9fd19dbf7%29%3B%0A%20%20%20%20%20%20%20%20%0A%20%20%20%20%0A%20%20%20%20%20%20%20%20var%20popup_0859c581163c4f258be9036e7f3c38ca%20%3D%20L.popup%28%7B%22maxWidth%22%3A%20%22100%25%22%7D%29%3B%0A%0A%20%20%20%20%20%20%20%20%0A%20%20%20%20%20%20%20%20%20%20%20%20var%20html_95a4776adf0f4630a08c00b72022fc31%20%3D%20%24%28%60%3Cdiv%20id%3D%22html_95a4776adf0f4630a08c00b72022fc31%22%20style%3D%22width%3A%20100.0%25%3B%20height%3A%20100.0%25%3B%22%3EOD_DESIGNS46%3A%20Check%20out%20new%20work%20on%20my%20%40Behance%20profile%3A%20%22Jarrod%20Bowen%20Football%20Poster%20Design%21%22%20https%3A//t.co/dZXmVHUc2W%20https%3A//t.co/b8uCW5SjgX%3C/div%3E%60%29%5B0%5D%3B%0A%20%20%20%20%20%20%20%20%20%20%20%20popup_0859c581163c4f258be9036e7f3c38ca.setContent%28html_95a4776adf0f4630a08c00b72022fc31%29%3B%0A%20%20%20%20%20%20%20%20%0A%0A%20%20%20%20%20%20%20%20marker_488b68ba02a5437abd46b3628090d3e1.bindPopup%28popup_0859c581163c4f258be9036e7f3c38ca%29%0A%20%20%20%20%20%20%20%20%3B%0A%0A%20%20%20%20%20%20%20%20%0A%20%20%20%20%0A%20%20%20%20%0A%20%20%20%20%20%20%20%20%20%20%20%20var%20marker_2af4c5d13e334cb18019c7c03ca6dfcc%20%3D%20L.marker%28%0A%20%20%20%20%20%20%20%20%20%20%20%20%20%20%20%20%5B54.5969869%2C%20-5.9300992%5D%2C%0A%20%20%20%20%20%20%20%20%20%20%20%20%20%20%20%20%7B%7D%0A%20%20%20%20%20%20%20%20%20%20%20%20%29.addTo%28map_7218724a9c4f47ee84a719f9fd19dbf7%29%3B%0A%20%20%20%20%20%20%20%20%0A%20%20%20%20%0A%20%20%20%20%20%20%20%20var%20popup_f69ce03497d544d983881737d2755b28%20%3D%20L.popup%28%7B%22maxWidth%22%3A%20%22100%25%22%7D%29%3B%0A%0A%20%20%20%20%20%20%20%20%0A%20%20%20%20%20%20%20%20%20%20%20%20var%20html_3edd83485ee04a9dba931bc2f67b5ccc%20%3D%20%24%28%60%3Cdiv%20id%3D%22html_3edd83485ee04a9dba931bc2f67b5ccc%22%20style%3D%22width%3A%20100.0%25%3B%20height%3A%20100.0%25%3B%22%3Efiledownthenut%3A%20Errr%E2%80%A6yeah.%20That%E2%80%99s%20how%20football%20works.%3C/div%3E%60%29%5B0%5D%3B%0A%20%20%20%20%20%20%20%20%20%20%20%20popup_f69ce03497d544d983881737d2755b28.setContent%28html_3edd83485ee04a9dba931bc2f67b5ccc%29%3B%0A%20%20%20%20%20%20%20%20%0A%0A%20%20%20%20%20%20%20%20marker_2af4c5d13e334cb18019c7c03ca6dfcc.bindPopup%28popup_f69ce03497d544d983881737d2755b28%29%0A%20%20%20%20%20%20%20%20%3B%0A%0A%20%20%20%20%20%20%20%20%0A%20%20%20%20%0A%20%20%20%20%0A%20%20%20%20%20%20%20%20%20%20%20%20var%20marker_89881a27be14428f995ef2c7d13b4664%20%3D%20L.marker%28%0A%20%20%20%20%20%20%20%20%20%20%20%20%20%20%20%20%5B52.7954791%2C%20-0.540240286617432%5D%2C%0A%20%20%20%20%20%20%20%20%20%20%20%20%20%20%20%20%7B%7D%0A%20%20%20%20%20%20%20%20%20%20%20%20%29.addTo%28map_7218724a9c4f47ee84a719f9fd19dbf7%29%3B%0A%20%20%20%20%20%20%20%20%0A%20%20%20%20%0A%20%20%20%20%20%20%20%20var%20popup_50c464333bb94dbe8db745473b421cd4%20%3D%20L.popup%28%7B%22maxWidth%22%3A%20%22100%25%22%7D%29%3B%0A%0A%20%20%20%20%20%20%20%20%0A%20%20%20%20%20%20%20%20%20%20%20%20var%20html_ceebc430c4e945c7b83b8a13c45c3396%20%3D%20%24%28%60%3Cdiv%20id%3D%22html_ceebc430c4e945c7b83b8a13c45c3396%22%20style%3D%22width%3A%20100.0%25%3B%20height%3A%20100.0%25%3B%22%3Ehud49624309%3A%20%40toryboypierce%20Not%20just%20football%2C%20everything%21%21%3C/div%3E%60%29%5B0%5D%3B%0A%20%20%20%20%20%20%20%20%20%20%20%20popup_50c464333bb94dbe8db745473b421cd4.setContent%28html_ceebc430c4e945c7b83b8a13c45c3396%29%3B%0A%20%20%20%20%20%20%20%20%0A%0A%20%20%20%20%20%20%20%20marker_89881a27be14428f995ef2c7d13b4664.bindPopup%28popup_50c464333bb94dbe8db745473b421cd4%29%0A%20%20%20%20%20%20%20%20%3B%0A%0A%20%20%20%20%20%20%20%20%0A%20%20%20%20%0A%20%20%20%20%0A%20%20%20%20%20%20%20%20%20%20%20%20var%20marker_18e8f2af641b4d92a41505ed9976787c%20%3D%20L.marker%28%0A%20%20%20%20%20%20%20%20%20%20%20%20%20%20%20%20%5B39.0897199%2C%20-76.7073534%5D%2C%0A%20%20%20%20%20%20%20%20%20%20%20%20%20%20%20%20%7B%7D%0A%20%20%20%20%20%20%20%20%20%20%20%20%29.addTo%28map_7218724a9c4f47ee84a719f9fd19dbf7%29%3B%0A%20%20%20%20%20%20%20%20%0A%20%20%20%20%0A%20%20%20%20%20%20%20%20var%20popup_210e7efcdb224ca886ff1e12c36a071f%20%3D%20L.popup%28%7B%22maxWidth%22%3A%20%22100%25%22%7D%29%3B%0A%0A%20%20%20%20%20%20%20%20%0A%20%20%20%20%20%20%20%20%20%20%20%20var%20html_7697f631bed94b15b67280f83f56d6b7%20%3D%20%24%28%60%3Cdiv%20id%3D%22html_7697f631bed94b15b67280f83f56d6b7%22%20style%3D%22width%3A%20100.0%25%3B%20height%3A%20100.0%25%3B%22%3EChrisWa65152880%3A%20Lindsay%2C%20as%20a%20member%20of%20the%20W%26amp%3BJ%20football%20team%20I%20want%20to%20sincerely%20apologize%20for%20the%20actions%20of%20our%20former%20teammate.%20It%20does%20not%20reflect%20the%20values%2C%20morals%2C%20or%20character%20of%20our%20football%20program.%3C/div%3E%60%29%5B0%5D%3B%0A%20%20%20%20%20%20%20%20%20%20%20%20popup_210e7efcdb224ca886ff1e12c36a071f.setContent%28html_7697f631bed94b15b67280f83f56d6b7%29%3B%0A%20%20%20%20%20%20%20%20%0A%0A%20%20%20%20%20%20%20%20marker_18e8f2af641b4d92a41505ed9976787c.bindPopup%28popup_210e7efcdb224ca886ff1e12c36a071f%29%0A%20%20%20%20%20%20%20%20%3B%0A%0A%20%20%20%20%20%20%20%20%0A%20%20%20%20%0A%20%20%20%20%0A%20%20%20%20%20%20%20%20%20%20%20%20var%20marker_61ce0ec95e1940c787420e3b861a7111%20%3D%20L.marker%28%0A%20%20%20%20%20%20%20%20%20%20%20%20%20%20%20%20%5B-16.9204963%2C%20145.7719011%5D%2C%0A%20%20%20%20%20%20%20%20%20%20%20%20%20%20%20%20%7B%7D%0A%20%20%20%20%20%20%20%20%20%20%20%20%29.addTo%28map_7218724a9c4f47ee84a719f9fd19dbf7%29%3B%0A%20%20%20%20%20%20%20%20%0A%20%20%20%20%0A%20%20%20%20%20%20%20%20var%20popup_6074842b637449cdb156638971599bc9%20%3D%20L.popup%28%7B%22maxWidth%22%3A%20%22100%25%22%7D%29%3B%0A%0A%20%20%20%20%20%20%20%20%0A%20%20%20%20%20%20%20%20%20%20%20%20var%20html_558f1bffda0f43cd8a4f244ca513fa16%20%3D%20%24%28%60%3Cdiv%20id%3D%22html_558f1bffda0f43cd8a4f244ca513fa16%22%20style%3D%22width%3A%20100.0%25%3B%20height%3A%20100.0%25%3B%22%3Ephabfish%3A%20that%20was%20so%20obviously%20wrong.%20The%20premium%20football%20competition%20in%20the%20world%20is%20subject%20to%20suspicion%20and%20you%20provide%20no%20reaction%20and%20no%20response%20to%20the%20accusation%20%23EPL%20%23FA%20%23VAR%20%23EVEMCI%20%23Cheats%20%23PaulTierney%3C/div%3E%60%29%5B0%5D%3B%0A%20%20%20%20%20%20%20%20%20%20%20%20popup_6074842b637449cdb156638971599bc9.setContent%28html_558f1bffda0f43cd8a4f244ca513fa16%29%3B%0A%20%20%20%20%20%20%20%20%0A%0A%20%20%20%20%20%20%20%20marker_61ce0ec95e1940c787420e3b861a7111.bindPopup%28popup_6074842b637449cdb156638971599bc9%29%0A%20%20%20%20%20%20%20%20%3B%0A%0A%20%20%20%20%20%20%20%20%0A%20%20%20%20%0A%20%20%20%20%0A%20%20%20%20%20%20%20%20%20%20%20%20var%20marker_6ea1361be660494ab49e9764dfb05ee8%20%3D%20L.marker%28%0A%20%20%20%20%20%20%20%20%20%20%20%20%20%20%20%20%5B52.1366141%2C%20-0.4694972%5D%2C%0A%20%20%20%20%20%20%20%20%20%20%20%20%20%20%20%20%7B%7D%0A%20%20%20%20%20%20%20%20%20%20%20%20%29.addTo%28map_7218724a9c4f47ee84a719f9fd19dbf7%29%3B%0A%20%20%20%20%20%20%20%20%0A%20%20%20%20%0A%20%20%20%20%20%20%20%20var%20popup_016181d8e032421c84081426b9b0c5d8%20%3D%20L.popup%28%7B%22maxWidth%22%3A%20%22100%25%22%7D%29%3B%0A%0A%20%20%20%20%20%20%20%20%0A%20%20%20%20%20%20%20%20%20%20%20%20var%20html_accac4eb7c234f7c9c281757adcfd412%20%3D%20%24%28%60%3Cdiv%20id%3D%22html_accac4eb7c234f7c9c281757adcfd412%22%20style%3D%22width%3A%20100.0%25%3B%20height%3A%20100.0%25%3B%22%3Estevedegich%3A%20My%20days%20routine%20have%20been%20simplified%20to%20online%2C%20football%20and%20double%20black.%20Nitasaka%20girlfriend%20sasa.%3C/div%3E%60%29%5B0%5D%3B%0A%20%20%20%20%20%20%20%20%20%20%20%20popup_016181d8e032421c84081426b9b0c5d8.setContent%28html_accac4eb7c234f7c9c281757adcfd412%29%3B%0A%20%20%20%20%20%20%20%20%0A%0A%20%20%20%20%20%20%20%20marker_6ea1361be660494ab49e9764dfb05ee8.bindPopup%28popup_016181d8e032421c84081426b9b0c5d8%29%0A%20%20%20%20%20%20%20%20%3B%0A%0A%20%20%20%20%20%20%20%20%0A%20%20%20%20%0A%20%20%20%20%0A%20%20%20%20%20%20%20%20%20%20%20%20var%20marker_3674035420874067b94a2ae9d10608ce%20%3D%20L.marker%28%0A%20%20%20%20%20%20%20%20%20%20%20%20%20%20%20%20%5B50.938361%2C%206.959974%5D%2C%0A%20%20%20%20%20%20%20%20%20%20%20%20%20%20%20%20%7B%7D%0A%20%20%20%20%20%20%20%20%20%20%20%20%29.addTo%28map_7218724a9c4f47ee84a719f9fd19dbf7%29%3B%0A%20%20%20%20%20%20%20%20%0A%20%20%20%20%0A%20%20%20%20%20%20%20%20var%20popup_ec2d8267f9314d1fb8625a509d3b063c%20%3D%20L.popup%28%7B%22maxWidth%22%3A%20%22100%25%22%7D%29%3B%0A%0A%20%20%20%20%20%20%20%20%0A%20%20%20%20%20%20%20%20%20%20%20%20var%20html_96b4466685544df88f1d95caa192eb50%20%3D%20%24%28%60%3Cdiv%20id%3D%22html_96b4466685544df88f1d95caa192eb50%22%20style%3D%22width%3A%20100.0%25%3B%20height%3A%20100.0%25%3B%22%3EDardaisErben%3A%20Every%20Football%20Manager%20Player%20https%3A//t.co/KgFtJi2XRH%3C/div%3E%60%29%5B0%5D%3B%0A%20%20%20%20%20%20%20%20%20%20%20%20popup_ec2d8267f9314d1fb8625a509d3b063c.setContent%28html_96b4466685544df88f1d95caa192eb50%29%3B%0A%20%20%20%20%20%20%20%20%0A%0A%20%20%20%20%20%20%20%20marker_3674035420874067b94a2ae9d10608ce.bindPopup%28popup_ec2d8267f9314d1fb8625a509d3b063c%29%0A%20%20%20%20%20%20%20%20%3B%0A%0A%20%20%20%20%20%20%20%20%0A%20%20%20%20%0A%20%20%20%20%0A%20%20%20%20%20%20%20%20%20%20%20%20var%20marker_f76996e13d9d4c0eb6a45067470a7535%20%3D%20L.marker%28%0A%20%20%20%20%20%20%20%20%20%20%20%20%20%20%20%20%5B25.2232283%2C%2055.1594933008754%5D%2C%0A%20%20%20%20%20%20%20%20%20%20%20%20%20%20%20%20%7B%7D%0A%20%20%20%20%20%20%20%20%20%20%20%20%29.addTo%28map_7218724a9c4f47ee84a719f9fd19dbf7%29%3B%0A%20%20%20%20%20%20%20%20%0A%20%20%20%20%0A%20%20%20%20%20%20%20%20var%20popup_9c92fe7853214c48852433a5217f89e8%20%3D%20L.popup%28%7B%22maxWidth%22%3A%20%22100%25%22%7D%29%3B%0A%0A%20%20%20%20%20%20%20%20%0A%20%20%20%20%20%20%20%20%20%20%20%20var%20html_5ab2ab7715894f78b9848569ae30cbb5%20%3D%20%24%28%60%3Cdiv%20id%3D%22html_5ab2ab7715894f78b9848569ae30cbb5%22%20style%3D%22width%3A%20100.0%25%3B%20height%3A%20100.0%25%3B%22%3Eed_liverpool%3A%20Main%20difference%20is%20china%20are%20who%20behind/responsible%20for%20palestine%20and%20the%20ozil%20incident%2C%20which%20they%20are%20influential%20with%20money%2C%20football%20teams%20dont%20dare%20to%20say%20a%20thing%20to%20lose%20the%20so%20called%20%E2%80%9Cbig%20market%E2%80%9D%20in%20china%3C/div%3E%60%29%5B0%5D%3B%0A%20%20%20%20%20%20%20%20%20%20%20%20popup_9c92fe7853214c48852433a5217f89e8.setContent%28html_5ab2ab7715894f78b9848569ae30cbb5%29%3B%0A%20%20%20%20%20%20%20%20%0A%0A%20%20%20%20%20%20%20%20marker_f76996e13d9d4c0eb6a45067470a7535.bindPopup%28popup_9c92fe7853214c48852433a5217f89e8%29%0A%20%20%20%20%20%20%20%20%3B%0A%0A%20%20%20%20%20%20%20%20%0A%20%20%20%20%0A%20%20%20%20%0A%20%20%20%20%20%20%20%20%20%20%20%20var%20marker_55a21411711d4c68abac383ab7e8a2da%20%3D%20L.marker%28%0A%20%20%20%20%20%20%20%20%20%20%20%20%20%20%20%20%5B39.017936%2C%20-77.2094542%5D%2C%0A%20%20%20%20%20%20%20%20%20%20%20%20%20%20%20%20%7B%7D%0A%20%20%20%20%20%20%20%20%20%20%20%20%29.addTo%28map_7218724a9c4f47ee84a719f9fd19dbf7%29%3B%0A%20%20%20%20%20%20%20%20%0A%20%20%20%20%0A%20%20%20%20%20%20%20%20var%20popup_66f2e17e2c0e47c3ab13af8899d509c2%20%3D%20L.popup%28%7B%22maxWidth%22%3A%20%22100%25%22%7D%29%3B%0A%0A%20%20%20%20%20%20%20%20%0A%20%20%20%20%20%20%20%20%20%20%20%20var%20html_3afc7baf31934c88a89d7328268479c3%20%3D%20%24%28%60%3Cdiv%20id%3D%22html_3afc7baf31934c88a89d7328268479c3%22%20style%3D%22width%3A%20100.0%25%3B%20height%3A%20100.0%25%3B%22%3Etocajuniorsfc%3A%20%E2%9A%BD%EF%B8%8F%E2%9D%84%EF%B8%8F%20Winter%20Program%20%20%E2%97%BE%EF%B8%8F%20For%20Girls%20%26amp%3B%20Boys%20%28Ages%204%20to%2018%29%20%F0%9F%93%8D%20Potomac%2C%20MD%20%20ALL%20PLAYERS%20WELCOME%21%20%20%E2%9E%95Info%20%23OpenPractice%20Interested%3F%20Contact%20us%21%20https%3A//t.co/HhXs0e9oXa%20%20%F0%9F%94%B5%F0%9F%94%B4%20%23WeAreToca%20%23TOCA%20%23tocajuniors%20%23PLAYsimple%20%23Futbol%20%23Football%20%23soccer%20%23youthsoccer%20%23PotomacMD%20%23kids%20%23boys%20%23girls%20https%3A//t.co/hS8IAnhEDp%3C/div%3E%60%29%5B0%5D%3B%0A%20%20%20%20%20%20%20%20%20%20%20%20popup_66f2e17e2c0e47c3ab13af8899d509c2.setContent%28html_3afc7baf31934c88a89d7328268479c3%29%3B%0A%20%20%20%20%20%20%20%20%0A%0A%20%20%20%20%20%20%20%20marker_55a21411711d4c68abac383ab7e8a2da.bindPopup%28popup_66f2e17e2c0e47c3ab13af8899d509c2%29%0A%20%20%20%20%20%20%20%20%3B%0A%0A%20%20%20%20%20%20%20%20%0A%20%20%20%20%0A%20%20%20%20%0A%20%20%20%20%20%20%20%20%20%20%20%20var%20marker_fff773a247704b81b334251387df0631%20%3D%20L.marker%28%0A%20%20%20%20%20%20%20%20%20%20%20%20%20%20%20%20%5B53.7589938%2C%20-2.7051618%5D%2C%0A%20%20%20%20%20%20%20%20%20%20%20%20%20%20%20%20%7B%7D%0A%20%20%20%20%20%20%20%20%20%20%20%20%29.addTo%28map_7218724a9c4f47ee84a719f9fd19dbf7%29%3B%0A%20%20%20%20%20%20%20%20%0A%20%20%20%20%0A%20%20%20%20%20%20%20%20var%20popup_2429b41f1ae84075b81ce9b3c0683c7f%20%3D%20L.popup%28%7B%22maxWidth%22%3A%20%22100%25%22%7D%29%3B%0A%0A%20%20%20%20%20%20%20%20%0A%20%20%20%20%20%20%20%20%20%20%20%20var%20html_4428c976faa8483da5a164fe8bc8fa22%20%3D%20%24%28%60%3Cdiv%20id%3D%22html_4428c976faa8483da5a164fe8bc8fa22%22%20style%3D%22width%3A%20100.0%25%3B%20height%3A%20100.0%25%3B%22%3EMchallV%3A%20Literally%20everything%20wrong%20with%20the%20modern%20day%20football%20fan%3C/div%3E%60%29%5B0%5D%3B%0A%20%20%20%20%20%20%20%20%20%20%20%20popup_2429b41f1ae84075b81ce9b3c0683c7f.setContent%28html_4428c976faa8483da5a164fe8bc8fa22%29%3B%0A%20%20%20%20%20%20%20%20%0A%0A%20%20%20%20%20%20%20%20marker_fff773a247704b81b334251387df0631.bindPopup%28popup_2429b41f1ae84075b81ce9b3c0683c7f%29%0A%20%20%20%20%20%20%20%20%3B%0A%0A%20%20%20%20%20%20%20%20%0A%20%20%20%20%0A%20%20%20%20%0A%20%20%20%20%20%20%20%20%20%20%20%20var%20marker_ff5af49196d242cfa31072d09003003e%20%3D%20L.marker%28%0A%20%20%20%20%20%20%20%20%20%20%20%20%20%20%20%20%5B0.2182858%2C%2032.5130303800671%5D%2C%0A%20%20%20%20%20%20%20%20%20%20%20%20%20%20%20%20%7B%7D%0A%20%20%20%20%20%20%20%20%20%20%20%20%29.addTo%28map_7218724a9c4f47ee84a719f9fd19dbf7%29%3B%0A%20%20%20%20%20%20%20%20%0A%20%20%20%20%0A%20%20%20%20%20%20%20%20var%20popup_f1e6a6d6781e499599422ae6eb134bf3%20%3D%20L.popup%28%7B%22maxWidth%22%3A%20%22100%25%22%7D%29%3B%0A%0A%20%20%20%20%20%20%20%20%0A%20%20%20%20%20%20%20%20%20%20%20%20var%20html_fe8b0b47ebc84674b7ba9a0db45f48f0%20%3D%20%24%28%60%3Cdiv%20id%3D%22html_fe8b0b47ebc84674b7ba9a0db45f48f0%22%20style%3D%22width%3A%20100.0%25%3B%20height%3A%20100.0%25%3B%22%3Eiam_hars%3A%20Y%E2%80%99all%20are%20at%20roast%20and%20rhymes%20then%20there%20is%20me%20waiting%20for%20football%20matches%20%F0%9F%98%89%F0%9F%99%83%3C/div%3E%60%29%5B0%5D%3B%0A%20%20%20%20%20%20%20%20%20%20%20%20popup_f1e6a6d6781e499599422ae6eb134bf3.setContent%28html_fe8b0b47ebc84674b7ba9a0db45f48f0%29%3B%0A%20%20%20%20%20%20%20%20%0A%0A%20%20%20%20%20%20%20%20marker_ff5af49196d242cfa31072d09003003e.bindPopup%28popup_f1e6a6d6781e499599422ae6eb134bf3%29%0A%20%20%20%20%20%20%20%20%3B%0A%0A%20%20%20%20%20%20%20%20%0A%20%20%20%20%0A%20%20%20%20%0A%20%20%20%20%20%20%20%20%20%20%20%20var%20marker_815adae4c69142a5b37227d117c1cc84%20%3D%20L.marker%28%0A%20%20%20%20%20%20%20%20%20%20%20%20%20%20%20%20%5B41.1695269%2C%20-75.877419%5D%2C%0A%20%20%20%20%20%20%20%20%20%20%20%20%20%20%20%20%7B%7D%0A%20%20%20%20%20%20%20%20%20%20%20%20%29.addTo%28map_7218724a9c4f47ee84a719f9fd19dbf7%29%3B%0A%20%20%20%20%20%20%20%20%0A%20%20%20%20%0A%20%20%20%20%20%20%20%20var%20popup_08a64b3cad5e4030ae8832d8f80f8fac%20%3D%20L.popup%28%7B%22maxWidth%22%3A%20%22100%25%22%7D%29%3B%0A%0A%20%20%20%20%20%20%20%20%0A%20%20%20%20%20%20%20%20%20%20%20%20var%20html_11a6ca53a117489ab1dfcc743951e616%20%3D%20%24%28%60%3Cdiv%20id%3D%22html_11a6ca53a117489ab1dfcc743951e616%22%20style%3D%22width%3A%20100.0%25%3B%20height%3A%20100.0%25%3B%22%3Etimocon71443845%3A%20%40TexansFanatic87%20%40MattWi77iams%20Yeah%2C%20world%20football%20%28aka%20soccer%29%20is%20a%20hell%20of%20a%20game%21%21%3C/div%3E%60%29%5B0%5D%3B%0A%20%20%20%20%20%20%20%20%20%20%20%20popup_08a64b3cad5e4030ae8832d8f80f8fac.setContent%28html_11a6ca53a117489ab1dfcc743951e616%29%3B%0A%20%20%20%20%20%20%20%20%0A%0A%20%20%20%20%20%20%20%20marker_815adae4c69142a5b37227d117c1cc84.bindPopup%28popup_08a64b3cad5e4030ae8832d8f80f8fac%29%0A%20%20%20%20%20%20%20%20%3B%0A%0A%20%20%20%20%20%20%20%20%0A%20%20%20%20%0A%20%20%20%20%0A%20%20%20%20%20%20%20%20%20%20%20%20var%20marker_6cbd808201ce4725bd12c10f8649980e%20%3D%20L.marker%28%0A%20%20%20%20%20%20%20%20%20%20%20%20%20%20%20%20%5B38.9719384%2C%20-95.2359496%5D%2C%0A%20%20%20%20%20%20%20%20%20%20%20%20%20%20%20%20%7B%7D%0A%20%20%20%20%20%20%20%20%20%20%20%20%29.addTo%28map_7218724a9c4f47ee84a719f9fd19dbf7%29%3B%0A%20%20%20%20%20%20%20%20%0A%20%20%20%20%0A%20%20%20%20%20%20%20%20var%20popup_efd29ea1b71f4d4eb8e80fe1a350b9c2%20%3D%20L.popup%28%7B%22maxWidth%22%3A%20%22100%25%22%7D%29%3B%0A%0A%20%20%20%20%20%20%20%20%0A%20%20%20%20%20%20%20%20%20%20%20%20var%20html_e7495e2caf254fa3a8b113a9cead88a1%20%3D%20%24%28%60%3Cdiv%20id%3D%22html_e7495e2caf254fa3a8b113a9cead88a1%22%20style%3D%22width%3A%20100.0%25%3B%20height%3A%20100.0%25%3B%22%3Empickerel%3A%20%40gavinesq%20He%20was%20the%20Don%2Ald%20Tr%2Amp%20of%20KU%20football.%3C/div%3E%60%29%5B0%5D%3B%0A%20%20%20%20%20%20%20%20%20%20%20%20popup_efd29ea1b71f4d4eb8e80fe1a350b9c2.setContent%28html_e7495e2caf254fa3a8b113a9cead88a1%29%3B%0A%20%20%20%20%20%20%20%20%0A%0A%20%20%20%20%20%20%20%20marker_6cbd808201ce4725bd12c10f8649980e.bindPopup%28popup_efd29ea1b71f4d4eb8e80fe1a350b9c2%29%0A%20%20%20%20%20%20%20%20%3B%0A%0A%20%20%20%20%20%20%20%20%0A%20%20%20%20%0A%20%20%20%20%0A%20%20%20%20%20%20%20%20%20%20%20%20var%20marker_f37a199791b145639e3165f0039b4a73%20%3D%20L.marker%28%0A%20%20%20%20%20%20%20%20%20%20%20%20%20%20%20%20%5B43.91768%2C%20-78.862953%5D%2C%0A%20%20%20%20%20%20%20%20%20%20%20%20%20%20%20%20%7B%7D%0A%20%20%20%20%20%20%20%20%20%20%20%20%29.addTo%28map_7218724a9c4f47ee84a719f9fd19dbf7%29%3B%0A%20%20%20%20%20%20%20%20%0A%20%20%20%20%0A%20%20%20%20%20%20%20%20var%20popup_972683edb9de4a779f09dcfe8cb44024%20%3D%20L.popup%28%7B%22maxWidth%22%3A%20%22100%25%22%7D%29%3B%0A%0A%20%20%20%20%20%20%20%20%0A%20%20%20%20%20%20%20%20%20%20%20%20var%20html_b846d24795864c64abe3c2258456b802%20%3D%20%24%28%60%3Cdiv%20id%3D%22html_b846d24795864c64abe3c2258456b802%22%20style%3D%22width%3A%20100.0%25%3B%20height%3A%20100.0%25%3B%22%3ELord_Impaler_7%3A%20%40oyekanmmi%20But%20he%27s%20a%20football%20purist%20..%20a%20mad%20man%20..but%20a%20purist%20all%20the%20same%20..%20he%20did%20a%20solid%20job%20at%20Leeds%20..%20Skybet%20Championship%20League%20is%20a%20laurel%3C/div%3E%60%29%5B0%5D%3B%0A%20%20%20%20%20%20%20%20%20%20%20%20popup_972683edb9de4a779f09dcfe8cb44024.setContent%28html_b846d24795864c64abe3c2258456b802%29%3B%0A%20%20%20%20%20%20%20%20%0A%0A%20%20%20%20%20%20%20%20marker_f37a199791b145639e3165f0039b4a73.bindPopup%28popup_972683edb9de4a779f09dcfe8cb44024%29%0A%20%20%20%20%20%20%20%20%3B%0A%0A%20%20%20%20%20%20%20%20%0A%20%20%20%20%0A%20%20%20%20%0A%20%20%20%20%20%20%20%20%20%20%20%20var%20marker_2e6cb8a43fb542bf9a05f5361c28bcea%20%3D%20L.marker%28%0A%20%20%20%20%20%20%20%20%20%20%20%20%20%20%20%20%5B52.5050033%2C%20-1.96439612333127%5D%2C%0A%20%20%20%20%20%20%20%20%20%20%20%20%20%20%20%20%7B%7D%0A%20%20%20%20%20%20%20%20%20%20%20%20%29.addTo%28map_7218724a9c4f47ee84a719f9fd19dbf7%29%3B%0A%20%20%20%20%20%20%20%20%0A%20%20%20%20%0A%20%20%20%20%20%20%20%20var%20popup_1d2cce0950d84c93818ec4e2fa13d6dc%20%3D%20L.popup%28%7B%22maxWidth%22%3A%20%22100%25%22%7D%29%3B%0A%0A%20%20%20%20%20%20%20%20%0A%20%20%20%20%20%20%20%20%20%20%20%20var%20html_e93d0a1ae017405a9ec6c5ba794b49fc%20%3D%20%24%28%60%3Cdiv%20id%3D%22html_e93d0a1ae017405a9ec6c5ba794b49fc%22%20style%3D%22width%3A%20100.0%25%3B%20height%3A%20100.0%25%3B%22%3Etr0y1291%3A%20%40TEAMtalk%20%40Rjunez7%20imagine%20an%20actual%20football%20page%20putting%20Havertz%20in%20over%20Jota%20%F0%9F%98%82%F0%9F%98%82%F0%9F%98%82%3C/div%3E%60%29%5B0%5D%3B%0A%20%20%20%20%20%20%20%20%20%20%20%20popup_1d2cce0950d84c93818ec4e2fa13d6dc.setContent%28html_e93d0a1ae017405a9ec6c5ba794b49fc%29%3B%0A%20%20%20%20%20%20%20%20%0A%0A%20%20%20%20%20%20%20%20marker_2e6cb8a43fb542bf9a05f5361c28bcea.bindPopup%28popup_1d2cce0950d84c93818ec4e2fa13d6dc%29%0A%20%20%20%20%20%20%20%20%3B%0A%0A%20%20%20%20%20%20%20%20%0A%20%20%20%20%0A%20%20%20%20%0A%20%20%20%20%20%20%20%20%20%20%20%20var%20marker_2edd2a676d9340d9a2cdd1ddba82c571%20%3D%20L.marker%28%0A%20%20%20%20%20%20%20%20%20%20%20%20%20%20%20%20%5B45.5202471%2C%20-122.6741949%5D%2C%0A%20%20%20%20%20%20%20%20%20%20%20%20%20%20%20%20%7B%7D%0A%20%20%20%20%20%20%20%20%20%20%20%20%29.addTo%28map_7218724a9c4f47ee84a719f9fd19dbf7%29%3B%0A%20%20%20%20%20%20%20%20%0A%20%20%20%20%0A%20%20%20%20%20%20%20%20var%20popup_e9fe5a83067e4571a6597a76c526b7db%20%3D%20L.popup%28%7B%22maxWidth%22%3A%20%22100%25%22%7D%29%3B%0A%0A%20%20%20%20%20%20%20%20%0A%20%20%20%20%20%20%20%20%20%20%20%20var%20html_9b7f3ced510f4bab8e5efd59bb8474be%20%3D%20%24%28%60%3Cdiv%20id%3D%22html_9b7f3ced510f4bab8e5efd59bb8474be%22%20style%3D%22width%3A%20100.0%25%3B%20height%3A%20100.0%25%3B%22%3Esensible_gunner%3A%20%40_BurgessP%20%40GunnerLoulou%20to%20happen%E2%80%A6and%20yes%20it%20has%20happened%20at%20football%20more%20often%20than%20in%20normal%20life%29%20I%20know%20there%20are%20people%20going%20through%20the%20same%20thing.%20It%20tells%20me%20that%20people%20have%20had%20enough%20and%20want%20to%20fight%20against%20it.%20It%20offers%20me%20hope%2C%20not%20just%20for%20me%2C%20but%20for%20my%20children.%20I%E2%80%99m%20sorry%20it%E2%80%99s%20an%3C/div%3E%60%29%5B0%5D%3B%0A%20%20%20%20%20%20%20%20%20%20%20%20popup_e9fe5a83067e4571a6597a76c526b7db.setContent%28html_9b7f3ced510f4bab8e5efd59bb8474be%29%3B%0A%20%20%20%20%20%20%20%20%0A%0A%20%20%20%20%20%20%20%20marker_2edd2a676d9340d9a2cdd1ddba82c571.bindPopup%28popup_e9fe5a83067e4571a6597a76c526b7db%29%0A%20%20%20%20%20%20%20%20%3B%0A%0A%20%20%20%20%20%20%20%20%0A%20%20%20%20%0A%20%20%20%20%0A%20%20%20%20%20%20%20%20%20%20%20%20var%20marker_cf49f2ba383144d1bf17bcd528fee749%20%3D%20L.marker%28%0A%20%20%20%20%20%20%20%20%20%20%20%20%20%20%20%20%5B69.6590243%2C%2018.9134319%5D%2C%0A%20%20%20%20%20%20%20%20%20%20%20%20%20%20%20%20%7B%7D%0A%20%20%20%20%20%20%20%20%20%20%20%20%29.addTo%28map_7218724a9c4f47ee84a719f9fd19dbf7%29%3B%0A%20%20%20%20%20%20%20%20%0A%20%20%20%20%0A%20%20%20%20%20%20%20%20var%20popup_d16cbfdf26bc4b58918d55eb3f03a50a%20%3D%20L.popup%28%7B%22maxWidth%22%3A%20%22100%25%22%7D%29%3B%0A%0A%20%20%20%20%20%20%20%20%0A%20%20%20%20%20%20%20%20%20%20%20%20var%20html_6684ff78ca054e16bce5abcc4baa44d6%20%3D%20%24%28%60%3Cdiv%20id%3D%22html_6684ff78ca054e16bce5abcc4baa44d6%22%20style%3D%22width%3A%20100.0%25%3B%20height%3A%20100.0%25%3B%22%3Ethealchemistroc%3A%20%40THooker83%20%40_NOMICS%201.%20Struggling%20with%20English%3F%20%20The%20irony%20the%20individual%20upset%20about%20africans%20commenting%20on%20a%20post%20%20%20Is%20now%20struggling%20with%20English%20himself.%20%201.She%20got%20fired%2C2.%20had%20nothing%20to%20do%20with%20sponsors.%20%20%20In%20English%20football%20why%20do%20sponsors%20not%20leave%20due%20to%20racism%3F%3C/div%3E%60%29%5B0%5D%3B%0A%20%20%20%20%20%20%20%20%20%20%20%20popup_d16cbfdf26bc4b58918d55eb3f03a50a.setContent%28html_6684ff78ca054e16bce5abcc4baa44d6%29%3B%0A%20%20%20%20%20%20%20%20%0A%0A%20%20%20%20%20%20%20%20marker_cf49f2ba383144d1bf17bcd528fee749.bindPopup%28popup_d16cbfdf26bc4b58918d55eb3f03a50a%29%0A%20%20%20%20%20%20%20%20%3B%0A%0A%20%20%20%20%20%20%20%20%0A%20%20%20%20%0A%20%20%20%20%0A%20%20%20%20%20%20%20%20%20%20%20%20var%20marker_aaec6bd29e4d4770a0e4bc374109da9f%20%3D%20L.marker%28%0A%20%20%20%20%20%20%20%20%20%20%20%20%20%20%20%20%5B42.3602534%2C%20-71.0582912%5D%2C%0A%20%20%20%20%20%20%20%20%20%20%20%20%20%20%20%20%7B%7D%0A%20%20%20%20%20%20%20%20%20%20%20%20%29.addTo%28map_7218724a9c4f47ee84a719f9fd19dbf7%29%3B%0A%20%20%20%20%20%20%20%20%0A%20%20%20%20%0A%20%20%20%20%20%20%20%20var%20popup_edad672113fe47d893efb7e8bfb7cf0d%20%3D%20L.popup%28%7B%22maxWidth%22%3A%20%22100%25%22%7D%29%3B%0A%0A%20%20%20%20%20%20%20%20%0A%20%20%20%20%20%20%20%20%20%20%20%20var%20html_db1571e791f8407da45e52b559481bd8%20%3D%20%24%28%60%3Cdiv%20id%3D%22html_db1571e791f8407da45e52b559481bd8%22%20style%3D%22width%3A%20100.0%25%3B%20height%3A%20100.0%25%3B%22%3ENotYourName%3A%20%40WittyAsCharged%20Best%20feeling%20in%20the%20world.%20I%20had%20a%20chiropractor%20once%20who%20was%20an%20ex%20football%20player.%20He%20used%20to%20crack%20the%20hell%20out%20of%20my%20back%20%E2%9D%A4%EF%B8%8F%3C/div%3E%60%29%5B0%5D%3B%0A%20%20%20%20%20%20%20%20%20%20%20%20popup_edad672113fe47d893efb7e8bfb7cf0d.setContent%28html_db1571e791f8407da45e52b559481bd8%29%3B%0A%20%20%20%20%20%20%20%20%0A%0A%20%20%20%20%20%20%20%20marker_aaec6bd29e4d4770a0e4bc374109da9f.bindPopup%28popup_edad672113fe47d893efb7e8bfb7cf0d%29%0A%20%20%20%20%20%20%20%20%3B%0A%0A%20%20%20%20%20%20%20%20%0A%20%20%20%20%0A%20%20%20%20%0A%20%20%20%20%20%20%20%20%20%20%20%20var%20marker_e239b60502614cf8adb2b7b86f1fbd13%20%3D%20L.marker%28%0A%20%20%20%20%20%20%20%20%20%20%20%20%20%20%20%20%5B50.000678%2C%20-86.000977%5D%2C%0A%20%20%20%20%20%20%20%20%20%20%20%20%20%20%20%20%7B%7D%0A%20%20%20%20%20%20%20%20%20%20%20%20%29.addTo%28map_7218724a9c4f47ee84a719f9fd19dbf7%29%3B%0A%20%20%20%20%20%20%20%20%0A%20%20%20%20%0A%20%20%20%20%20%20%20%20var%20popup_3e6cea77d56e4936b8894ea13d932c42%20%3D%20L.popup%28%7B%22maxWidth%22%3A%20%22100%25%22%7D%29%3B%0A%0A%20%20%20%20%20%20%20%20%0A%20%20%20%20%20%20%20%20%20%20%20%20var%20html_97ddcb8d03604a5cb142b7d6bf480ecb%20%3D%20%24%28%60%3Cdiv%20id%3D%22html_97ddcb8d03604a5cb142b7d6bf480ecb%22%20style%3D%22width%3A%20100.0%25%3B%20height%3A%20100.0%25%3B%22%3EJeffTalbot11%3A%20%40BygoneBoatmen%20%40TorontoArgos%20One%20half%20was%20to%20be%20American%20Rules%20and%20the%20second%20half%20Canadian%20rules.%20In%20front%20of%2030%2C000%20fans%2C%20the%20Canadians%20won%20the%20game%2016-6%20with%20Jeff%20Nicklin%20scoring%20one%20of%20the%20touchdowns.%20This%20is%20all%20fairly%20well%20known%20with%20some%20footage%20of%20the%20game%20in%20the%20football%20hall%20of%20fame%20In%20Hamilton.%20/4%3C/div%3E%60%29%5B0%5D%3B%0A%20%20%20%20%20%20%20%20%20%20%20%20popup_3e6cea77d56e4936b8894ea13d932c42.setContent%28html_97ddcb8d03604a5cb142b7d6bf480ecb%29%3B%0A%20%20%20%20%20%20%20%20%0A%0A%20%20%20%20%20%20%20%20marker_e239b60502614cf8adb2b7b86f1fbd13.bindPopup%28popup_3e6cea77d56e4936b8894ea13d932c42%29%0A%20%20%20%20%20%20%20%20%3B%0A%0A%20%20%20%20%20%20%20%20%0A%20%20%20%20%0A%20%20%20%20%0A%20%20%20%20%20%20%20%20%20%20%20%20var%20marker_44539ce7c8ed4015ae384a1977426040%20%3D%20L.marker%28%0A%20%20%20%20%20%20%20%20%20%20%20%20%20%20%20%20%5B18.9387544%2C%2072.8352382%5D%2C%0A%20%20%20%20%20%20%20%20%20%20%20%20%20%20%20%20%7B%7D%0A%20%20%20%20%20%20%20%20%20%20%20%20%29.addTo%28map_7218724a9c4f47ee84a719f9fd19dbf7%29%3B%0A%20%20%20%20%20%20%20%20%0A%20%20%20%20%0A%20%20%20%20%20%20%20%20var%20popup_408624923e1440fd8e8f60ade97ed14d%20%3D%20L.popup%28%7B%22maxWidth%22%3A%20%22100%25%22%7D%29%3B%0A%0A%20%20%20%20%20%20%20%20%0A%20%20%20%20%20%20%20%20%20%20%20%20var%20html_875d31d368284db684d0ee322a716d27%20%3D%20%24%28%60%3Cdiv%20id%3D%22html_875d31d368284db684d0ee322a716d27%22%20style%3D%22width%3A%20100.0%25%3B%20height%3A%20100.0%25%3B%22%3ERahul_Sampat%3A%20Never%20understood%20this%20about%20American%20football%21%20Players%20celebrate%20every%20play%20like%20they%E2%80%99ve%20won%20the%20damn%20super%20bowl%21%20Embarrassing%3C/div%3E%60%29%5B0%5D%3B%0A%20%20%20%20%20%20%20%20%20%20%20%20popup_408624923e1440fd8e8f60ade97ed14d.setContent%28html_875d31d368284db684d0ee322a716d27%29%3B%0A%20%20%20%20%20%20%20%20%0A%0A%20%20%20%20%20%20%20%20marker_44539ce7c8ed4015ae384a1977426040.bindPopup%28popup_408624923e1440fd8e8f60ade97ed14d%29%0A%20%20%20%20%20%20%20%20%3B%0A%0A%20%20%20%20%20%20%20%20%0A%20%20%20%20%0A%20%20%20%20%0A%20%20%20%20%20%20%20%20%20%20%20%20var%20marker_6610a071c5554f65a3a633a18c7fd89b%20%3D%20L.marker%28%0A%20%20%20%20%20%20%20%20%20%20%20%20%20%20%20%20%5B51.46426255%2C%20-0.651714721140142%5D%2C%0A%20%20%20%20%20%20%20%20%20%20%20%20%20%20%20%20%7B%7D%0A%20%20%20%20%20%20%20%20%20%20%20%20%29.addTo%28map_7218724a9c4f47ee84a719f9fd19dbf7%29%3B%0A%20%20%20%20%20%20%20%20%0A%20%20%20%20%0A%20%20%20%20%20%20%20%20var%20popup_0ad4b540402d4c3bb9bc668874927c55%20%3D%20L.popup%28%7B%22maxWidth%22%3A%20%22100%25%22%7D%29%3B%0A%0A%20%20%20%20%20%20%20%20%0A%20%20%20%20%20%20%20%20%20%20%20%20var%20html_0146c46f58f2494182a43803ebbc999c%20%3D%20%24%28%60%3Cdiv%20id%3D%22html_0146c46f58f2494182a43803ebbc999c%22%20style%3D%22width%3A%20100.0%25%3B%20height%3A%20100.0%25%3B%22%3EAFC_BucketHat%3A%20Just%20played%2090mins%20against%20the%20best%20team%20in%20Medway%20with%20hardly%20any%20players%20..%20Lost%2011-0..%20when%20is%20it%20time%20to%20stop%20Sunday%20football%3F%20%F0%9F%98%82%F0%9F%98%82%20%23SundayLeague%20%23Shattered%20%23GetMeABeer%3C/div%3E%60%29%5B0%5D%3B%0A%20%20%20%20%20%20%20%20%20%20%20%20popup_0ad4b540402d4c3bb9bc668874927c55.setContent%28html_0146c46f58f2494182a43803ebbc999c%29%3B%0A%20%20%20%20%20%20%20%20%0A%0A%20%20%20%20%20%20%20%20marker_6610a071c5554f65a3a633a18c7fd89b.bindPopup%28popup_0ad4b540402d4c3bb9bc668874927c55%29%0A%20%20%20%20%20%20%20%20%3B%0A%0A%20%20%20%20%20%20%20%20%0A%20%20%20%20%0A%20%20%20%20%0A%20%20%20%20%20%20%20%20%20%20%20%20var%20marker_2907719896684d8c8e6f51796c103e5d%20%3D%20L.marker%28%0A%20%20%20%20%20%20%20%20%20%20%20%20%20%20%20%20%5B51.5073219%2C%20-0.1276474%5D%2C%0A%20%20%20%20%20%20%20%20%20%20%20%20%20%20%20%20%7B%7D%0A%20%20%20%20%20%20%20%20%20%20%20%20%29.addTo%28map_7218724a9c4f47ee84a719f9fd19dbf7%29%3B%0A%20%20%20%20%20%20%20%20%0A%20%20%20%20%0A%20%20%20%20%20%20%20%20var%20popup_e18bf512e9ef42f191f305ec0fc10337%20%3D%20L.popup%28%7B%22maxWidth%22%3A%20%22100%25%22%7D%29%3B%0A%0A%20%20%20%20%20%20%20%20%0A%20%20%20%20%20%20%20%20%20%20%20%20var%20html_0e371e16d7c6467b9fafe0d5a83fa291%20%3D%20%24%28%60%3Cdiv%20id%3D%22html_0e371e16d7c6467b9fafe0d5a83fa291%22%20style%3D%22width%3A%20100.0%25%3B%20height%3A%20100.0%25%3B%22%3EMickPCollins%3A%20Football%20is%20littered%20with%20half%20truths%2C%20deflections%20and%20outright%20lies%2C%20but%20Chelsea%E2%80%99s%20statement%20on%20Ukraine%2C%20bereft%20of%20condemnation%20and%20calling%20an%20invasion%20a%20%E2%80%9Cconflict%E2%80%9D%2C%20is%20the%20lowest%2C%20most%20cowardly%2C%20most%20cravenly%20self-serving%20yet.%3C/div%3E%60%29%5B0%5D%3B%0A%20%20%20%20%20%20%20%20%20%20%20%20popup_e18bf512e9ef42f191f305ec0fc10337.setContent%28html_0e371e16d7c6467b9fafe0d5a83fa291%29%3B%0A%20%20%20%20%20%20%20%20%0A%0A%20%20%20%20%20%20%20%20marker_2907719896684d8c8e6f51796c103e5d.bindPopup%28popup_e18bf512e9ef42f191f305ec0fc10337%29%0A%20%20%20%20%20%20%20%20%3B%0A%0A%20%20%20%20%20%20%20%20%0A%20%20%20%20%0A%20%20%20%20%0A%20%20%20%20%20%20%20%20%20%20%20%20var%20marker_6045ca45f48043b0aacacc8014816958%20%3D%20L.marker%28%0A%20%20%20%20%20%20%20%20%20%20%20%20%20%20%20%20%5B36.1622296%2C%20-86.7743531%5D%2C%0A%20%20%20%20%20%20%20%20%20%20%20%20%20%20%20%20%7B%7D%0A%20%20%20%20%20%20%20%20%20%20%20%20%29.addTo%28map_7218724a9c4f47ee84a719f9fd19dbf7%29%3B%0A%20%20%20%20%20%20%20%20%0A%20%20%20%20%0A%20%20%20%20%20%20%20%20var%20popup_82119429a4c24a75b56c14c63b462e20%20%3D%20L.popup%28%7B%22maxWidth%22%3A%20%22100%25%22%7D%29%3B%0A%0A%20%20%20%20%20%20%20%20%0A%20%20%20%20%20%20%20%20%20%20%20%20var%20html_3bebbe20c00e411a99fb71fa90df10b3%20%3D%20%24%28%60%3Cdiv%20id%3D%22html_3bebbe20c00e411a99fb71fa90df10b3%22%20style%3D%22width%3A%20100.0%25%3B%20height%3A%20100.0%25%3B%22%3EDrewmac20AU%3A%20%40au_trout%20%40ShootyHoopsWill%20They%20beat%20alabama%20in%20football%20one%20time%20and%20I%20didn%27t%20mind%20that...%20Otherwise%20no%3C/div%3E%60%29%5B0%5D%3B%0A%20%20%20%20%20%20%20%20%20%20%20%20popup_82119429a4c24a75b56c14c63b462e20.setContent%28html_3bebbe20c00e411a99fb71fa90df10b3%29%3B%0A%20%20%20%20%20%20%20%20%0A%0A%20%20%20%20%20%20%20%20marker_6045ca45f48043b0aacacc8014816958.bindPopup%28popup_82119429a4c24a75b56c14c63b462e20%29%0A%20%20%20%20%20%20%20%20%3B%0A%0A%20%20%20%20%20%20%20%20%0A%20%20%20%20%0A%20%20%20%20%0A%20%20%20%20%20%20%20%20%20%20%20%20var%20marker_d5760d7924064f589bddcfc4562a8680%20%3D%20L.marker%28%0A%20%20%20%20%20%20%20%20%20%20%20%20%20%20%20%20%5B38.0160343%2C%2023.6353215%5D%2C%0A%20%20%20%20%20%20%20%20%20%20%20%20%20%20%20%20%7B%7D%0A%20%20%20%20%20%20%20%20%20%20%20%20%29.addTo%28map_7218724a9c4f47ee84a719f9fd19dbf7%29%3B%0A%20%20%20%20%20%20%20%20%0A%20%20%20%20%0A%20%20%20%20%20%20%20%20var%20popup_4b620aec087b432bb42cec21f96d167e%20%3D%20L.popup%28%7B%22maxWidth%22%3A%20%22100%25%22%7D%29%3B%0A%0A%20%20%20%20%20%20%20%20%0A%20%20%20%20%20%20%20%20%20%20%20%20var%20html_4e78814f9b124017b95e4b6761a1ad66%20%3D%20%24%28%60%3Cdiv%20id%3D%22html_4e78814f9b124017b95e4b6761a1ad66%22%20style%3D%22width%3A%20100.0%25%3B%20height%3A%20100.0%25%3B%22%3ELefoulhs%3A%20Ended%20the%20pain%20took%20us%20up%20football%20has%20it%20ups%20and%20downs%20cheers%20boss%F0%9F%98%A2%F0%9F%92%9B%F0%9F%92%99%20%23LeedsUnited%20%23MarceloBielsa%20https%3A//t.co/0hvEKw3BHX%3C/div%3E%60%29%5B0%5D%3B%0A%20%20%20%20%20%20%20%20%20%20%20%20popup_4b620aec087b432bb42cec21f96d167e.setContent%28html_4e78814f9b124017b95e4b6761a1ad66%29%3B%0A%20%20%20%20%20%20%20%20%0A%0A%20%20%20%20%20%20%20%20marker_d5760d7924064f589bddcfc4562a8680.bindPopup%28popup_4b620aec087b432bb42cec21f96d167e%29%0A%20%20%20%20%20%20%20%20%3B%0A%0A%20%20%20%20%20%20%20%20%0A%20%20%20%20%0A%20%20%20%20%0A%20%20%20%20%20%20%20%20%20%20%20%20var%20marker_3dd95f5402d4426794fe3b05004546dd%20%3D%20L.marker%28%0A%20%20%20%20%20%20%20%20%20%20%20%20%20%20%20%20%5B51.5073219%2C%20-0.1276474%5D%2C%0A%20%20%20%20%20%20%20%20%20%20%20%20%20%20%20%20%7B%7D%0A%20%20%20%20%20%20%20%20%20%20%20%20%29.addTo%28map_7218724a9c4f47ee84a719f9fd19dbf7%29%3B%0A%20%20%20%20%20%20%20%20%0A%20%20%20%20%0A%20%20%20%20%20%20%20%20var%20popup_a431e7b7c18e4bdd85ef344f0ac23917%20%3D%20L.popup%28%7B%22maxWidth%22%3A%20%22100%25%22%7D%29%3B%0A%0A%20%20%20%20%20%20%20%20%0A%20%20%20%20%20%20%20%20%20%20%20%20var%20html_3754aef8f6dc4c4b8f7fb2857ff4b9c7%20%3D%20%24%28%60%3Cdiv%20id%3D%22html_3754aef8f6dc4c4b8f7fb2857ff4b9c7%22%20style%3D%22width%3A%20100.0%25%3B%20height%3A%20100.0%25%3B%22%3Eguardianstage%3A%20Red%20Pitch%20review%20%E2%80%93%20football%2C%20friendship%20and%20the%20fear%20of%20being%20left%20behind%20https%3A//t.co/guXcL6d5Zc%3C/div%3E%60%29%5B0%5D%3B%0A%20%20%20%20%20%20%20%20%20%20%20%20popup_a431e7b7c18e4bdd85ef344f0ac23917.setContent%28html_3754aef8f6dc4c4b8f7fb2857ff4b9c7%29%3B%0A%20%20%20%20%20%20%20%20%0A%0A%20%20%20%20%20%20%20%20marker_3dd95f5402d4426794fe3b05004546dd.bindPopup%28popup_a431e7b7c18e4bdd85ef344f0ac23917%29%0A%20%20%20%20%20%20%20%20%3B%0A%0A%20%20%20%20%20%20%20%20%0A%20%20%20%20%0A%20%20%20%20%0A%20%20%20%20%20%20%20%20%20%20%20%20var%20marker_8ddafef3b5f94f13b02d032125acf614%20%3D%20L.marker%28%0A%20%20%20%20%20%20%20%20%20%20%20%20%20%20%20%20%5B54.9770924%2C%20-1.6142059%5D%2C%0A%20%20%20%20%20%20%20%20%20%20%20%20%20%20%20%20%7B%7D%0A%20%20%20%20%20%20%20%20%20%20%20%20%29.addTo%28map_7218724a9c4f47ee84a719f9fd19dbf7%29%3B%0A%20%20%20%20%20%20%20%20%0A%20%20%20%20%0A%20%20%20%20%20%20%20%20var%20popup_dd7279813412452697e43d1a35185cc1%20%3D%20L.popup%28%7B%22maxWidth%22%3A%20%22100%25%22%7D%29%3B%0A%0A%20%20%20%20%20%20%20%20%0A%20%20%20%20%20%20%20%20%20%20%20%20var%20html_36cba1de037b4a29a491fa28a7cc59b0%20%3D%20%24%28%60%3Cdiv%20id%3D%22html_36cba1de037b4a29a491fa28a7cc59b0%22%20style%3D%22width%3A%20100.0%25%3B%20height%3A%20100.0%25%3B%22%3EChrisLowes83%3A%20Very%20average%20game%20of%20football%20this.%20%23WHWol%3C/div%3E%60%29%5B0%5D%3B%0A%20%20%20%20%20%20%20%20%20%20%20%20popup_dd7279813412452697e43d1a35185cc1.setContent%28html_36cba1de037b4a29a491fa28a7cc59b0%29%3B%0A%20%20%20%20%20%20%20%20%0A%0A%20%20%20%20%20%20%20%20marker_8ddafef3b5f94f13b02d032125acf614.bindPopup%28popup_dd7279813412452697e43d1a35185cc1%29%0A%20%20%20%20%20%20%20%20%3B%0A%0A%20%20%20%20%20%20%20%20%0A%20%20%20%20%0A%20%20%20%20%0A%20%20%20%20%20%20%20%20%20%20%20%20var%20marker_130a1b36c9e34ce58da4afc77c29c6ed%20%3D%20L.marker%28%0A%20%20%20%20%20%20%20%20%20%20%20%20%20%20%20%20%5B39.2908816%2C%20-76.610759%5D%2C%0A%20%20%20%20%20%20%20%20%20%20%20%20%20%20%20%20%7B%7D%0A%20%20%20%20%20%20%20%20%20%20%20%20%29.addTo%28map_7218724a9c4f47ee84a719f9fd19dbf7%29%3B%0A%20%20%20%20%20%20%20%20%0A%20%20%20%20%0A%20%20%20%20%20%20%20%20var%20popup_a5d50b10be7b453fa67a749144e413dd%20%3D%20L.popup%28%7B%22maxWidth%22%3A%20%22100%25%22%7D%29%3B%0A%0A%20%20%20%20%20%20%20%20%0A%20%20%20%20%20%20%20%20%20%20%20%20var%20html_8dd87768ae084cdfb38838cf5ce2ab1a%20%3D%20%24%28%60%3Cdiv%20id%3D%22html_8dd87768ae084cdfb38838cf5ce2ab1a%22%20style%3D%22width%3A%20100.0%25%3B%20height%3A%20100.0%25%3B%22%3Ebltravens10%3A%20Autographed/Signed%20Ray%20Lewis%20Baltimore%20White%20Football%20Jersey%20JSA%20COA%20Rating%3A%F0%9F%8C%95%F0%9F%8C%95%F0%9F%8C%95%F0%9F%8C%95%F0%9F%8C%95%20%24199.99%20%F0%9F%91%8D%20%23autographed/signed%20%23ray%20%23lewis%20%23baltimore%20%23white%20%23football%20%23BaltimoreRavens%20%40bltravens10%20%20https%3A//t.co/DYc99U8UdH%20https%3A//t.co/tGgpKBLsaQ%3C/div%3E%60%29%5B0%5D%3B%0A%20%20%20%20%20%20%20%20%20%20%20%20popup_a5d50b10be7b453fa67a749144e413dd.setContent%28html_8dd87768ae084cdfb38838cf5ce2ab1a%29%3B%0A%20%20%20%20%20%20%20%20%0A%0A%20%20%20%20%20%20%20%20marker_130a1b36c9e34ce58da4afc77c29c6ed.bindPopup%28popup_a5d50b10be7b453fa67a749144e413dd%29%0A%20%20%20%20%20%20%20%20%3B%0A%0A%20%20%20%20%20%20%20%20%0A%20%20%20%20%0A%3C/script%3E onload=\"this.contentDocument.open();this.contentDocument.write(    decodeURIComponent(this.getAttribute('data-html')));this.contentDocument.close();\" allowfullscreen webkitallowfullscreen mozallowfullscreen></iframe></div></div>"
      ],
      "text/plain": [
       "<folium.folium.Map at 0x1a701cd00>"
      ]
     },
     "execution_count": 60,
     "metadata": {},
     "output_type": "execute_result"
    }
   ],
   "source": [
    "usmap"
   ]
  },
  {
   "cell_type": "markdown",
   "metadata": {},
   "source": [
    "<!--\n",
    "#from IPython.display import IFrame\n",
    "#IFrame(src=\"./tweet_map.html\", width=800, height=450)\n",
    "-->"
   ]
  },
  {
   "cell_type": "markdown",
   "metadata": {},
   "source": [
    "<hr style=\"height:2px; border:none; color:#000; background-color:#000;\">"
   ]
  },
  {
   "cell_type": "markdown",
   "metadata": {},
   "source": [
    "## Utility Functions\n",
    "See the following for details: \n",
    "* [**Python Fundamentals LiveLessons video**](https://learning.oreilly.com/videos/python-fundamentals/9780135917411/9780135917411-PFLL_Lesson12_26) \n",
    "* [Sections 12.5.2-12.5.3 in **Python for Programmers**](https://learning.oreilly.com/library/view/python-for-programmers/9780135231364/ch12.xhtml#ch12lev2sec10)\n",
    "\n",
    "### `get_tweet_content` Utility Function (2 of 2)\n",
    "```python\n",
    "def get_tweet_content(tweet, location=False):\n",
    "    \"\"\"Return dictionary with data from tweet (a Status object).\"\"\"\n",
    "    fields = {}\n",
    "    fields['screen_name'] = tweet.user.screen_name\n",
    "\n",
    "    # get the tweet's text\n",
    "    try:  \n",
    "        fields['text'] = tweet.extended_tweet[\"full_text\"]\n",
    "    except: \n",
    "        fields['text'] = tweet.text\n",
    "\n",
    "    if location:\n",
    "        fields['location'] = tweet.user.location\n",
    "\n",
    "    return fields\n",
    "\n",
    "```"
   ]
  },
  {
   "cell_type": "markdown",
   "metadata": {},
   "source": [
    "<hr style=\"height:2px; border:none; color:#000; background-color:#000;\">"
   ]
  },
  {
   "cell_type": "markdown",
   "metadata": {},
   "source": [
    "### `get_geocodes` Utility Function (1 of 3)\n",
    "* Receives a **list of dictionaries** containing tweets and **geocodes their locations**\n",
    "* If **geocoding** is **successful** for a tweet, adds the **latitude** and **longitude** to the tweet’s **dictionary in `tweet_list`**\n",
    "* Requires class **`OpenMapQuest`** from the **geopy module**"
   ]
  },
  {
   "cell_type": "markdown",
   "metadata": {},
   "source": [
    "<hr style=\"height:2px; border:none; color:#000; background-color:#000;\">"
   ]
  },
  {
   "cell_type": "markdown",
   "metadata": {},
   "source": [
    "### `get_geocodes` Utility Function (2 of 3)\n",
    "```python\n",
    "from geopy import OpenMapQuest\n",
    "```\n",
    "\n",
    "```python\n",
    "def get_geocodes(tweet_list):\n",
    "    \"\"\"Get the latitude and longitude for each tweet's location.\n",
    "    Returns the number of tweets with invalid location data.\"\"\"\n",
    "    print('Getting coordinates for tweet locations...')\n",
    "    geo = OpenMapQuest(api_key=keys.mapquest_key)  # geocoder\n",
    "    bad_locations = 0  \n",
    "\n",
    "    for tweet in tweet_list:\n",
    "        processed = False\n",
    "        delay = .1  # used if OpenMapQuest times out to delay next call\n",
    "        while not processed:\n",
    "            try:  # get coordinates for tweet['location']\n",
    "                geo_location = geo.geocode(tweet['location'])\n",
    "                processed = True\n",
    "            except:  # timed out, so wait before trying again\n",
    "                print('OpenMapQuest service timed out. Waiting.')\n",
    "                time.sleep(delay)\n",
    "                delay += .1\n",
    "\n",
    "        if geo_location:  \n",
    "            tweet['latitude'] = geo_location.latitude\n",
    "            tweet['longitude'] = geo_location.longitude\n",
    "        else:  \n",
    "            bad_locations += 1  # tweet['location'] was invalid\n",
    "    \n",
    "    print('Done geocoding')\n",
    "    return bad_locations\n",
    "\n",
    "```"
   ]
  },
  {
   "cell_type": "markdown",
   "metadata": {},
   "source": [
    "<hr style=\"height:2px; border:none; color:#000; background-color:#000;\">"
   ]
  },
  {
   "cell_type": "markdown",
   "metadata": {},
   "source": [
    "## 12.15.3 Class `LocationListener`\n",
    "```python\n",
    "# locationlistener.py\n",
    "\"\"\"Receives tweets matching a search string and stores a list of\n",
    "dictionaries containing each tweet's screen_name/text/location.\"\"\"\n",
    "import tweepy\n",
    "from tweetutilities import get_tweet_content\n",
    "from IPython.display import clear_output\n",
    "\n",
    "class LocationListener(tweepy.StreamListener):\n",
    "    \"\"\"Handles incoming Tweet stream to get location data.\"\"\"\n",
    "```"
   ]
  },
  {
   "cell_type": "markdown",
   "metadata": {},
   "source": [
    "```python\n",
    "    def __init__(self, api, counts_dict, tweets_list, topic, limit=10):\n",
    "        \"\"\"Configure the LocationListener.\"\"\"\n",
    "        self.tweets_list = tweets_list\n",
    "        self.counts_dict = counts_dict\n",
    "        self.topic = topic\n",
    "        self.TWEET_LIMIT = limit\n",
    "        super().__init__(api)  # call superclass's init\n",
    "```"
   ]
  },
  {
   "cell_type": "markdown",
   "metadata": {},
   "source": [
    "```python\n",
    "    def on_status(self, status):\n",
    "        \"\"\"Called when Twitter pushes a new tweet to you.\"\"\"\n",
    "        # get each tweet's screen_name, text and location\n",
    "        tweet_data = get_tweet_content(status, location=True)  \n",
    "\n",
    "        # ignore retweets and tweets that do not contain the topic\n",
    "        if (tweet_data['text'].startswith('RT') or\n",
    "            self.topic.lower() not in tweet_data['text'].lower()):\n",
    "            return\n",
    "\n",
    "        self.counts_dict['total_tweets'] += 1  # original tweet\n",
    "\n",
    "        # ignore tweets with no location \n",
    "        if not status.user.location:  \n",
    "            return\n",
    "\n",
    "        self.counts_dict['locations'] += 1  # tweet with location\n",
    "        self.tweets_list.append(tweet_data)  # store the tweet\n",
    "        clear_output()\n",
    "        print(f'{self.counts_dict[\"locations\"]}: {status.user.screen_name}: {tweet_data[\"text\"]}\\n')\n",
    "        \n",
    "        # if TWEET_LIMIT is reached, return False to terminate streaming\n",
    "        return self.counts_dict['locations'] < self.TWEET_LIMIT\n",
    "\n",
    "```"
   ]
  },
  {
   "cell_type": "markdown",
   "metadata": {},
   "source": [
    "<hr style=\"height:2px; border:none; color:#000; background-color:#000;\">"
   ]
  },
  {
   "cell_type": "markdown",
   "metadata": {},
   "source": [
    "# More Info \n",
    "* See Lesson 12 in [**Python Fundamentals LiveLessons** here on O'Reilly Online Learning](https://learning.oreilly.com/videos/python-fundamentals/9780135917411)\n",
    "* See Chapter 12 in [**Python for Programmers** on O'Reilly Online Learning](https://learning.oreilly.com/library/view/python-for-programmers/9780135231364/)\n",
    "* See Chapter 13 in [**Intro Python for Computer Science and Data Science** on O'Reilly Online Learning](https://learning.oreilly.com/library/view/intro-to-python/9780135404799/)\n",
    "* Interested in a print book? Check out:\n",
    "\n",
    "| Python for Programmers<br>(640-page professional book) | Intro to Python for Computer<br>Science and Data Science<br>(880-page college textbook)\n",
    "| :------ | :------\n",
    "| <a href=\"https://amzn.to/2VvdnxE\"><img alt=\"Python for Programmers cover\" src=\"../images/PyFPCover.png\" width=\"150\" border=\"1\"/></a> | <a href=\"https://amzn.to/2LiDCmt\"><img alt=\"Intro to Python for Computer Science and Data Science: Learning to Program with AI, Big Data and the Cloud\" src=\"../images/IntroToPythonCover.png\" width=\"159\" border=\"1\"></a>\n",
    "\n",
    ">Please **do not** purchase both books&mdash;_Python for Programmers_ is a subset of _Intro to Python for Computer Science and Data Science_"
   ]
  },
  {
   "cell_type": "markdown",
   "metadata": {},
   "source": [
    "&copy; 2019 by Pearson Education, Inc. All Rights Reserved. The content in this notebook is based on the book [**Python for Programmers**](https://amzn.to/2VvdnxE)."
   ]
  }
 ],
 "metadata": {
  "kernelspec": {
   "display_name": "Python 3 (ipykernel)",
   "language": "python",
   "name": "python3"
  },
  "language_info": {
   "codemirror_mode": {
    "name": "ipython",
    "version": 3
   },
   "file_extension": ".py",
   "mimetype": "text/x-python",
   "name": "python",
   "nbconvert_exporter": "python",
   "pygments_lexer": "ipython3",
   "version": "3.9.7"
  }
 },
 "nbformat": 4,
 "nbformat_minor": 4
}
