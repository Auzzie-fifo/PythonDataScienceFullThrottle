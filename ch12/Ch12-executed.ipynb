{
 "cells": [
  {
   "cell_type": "markdown",
   "metadata": {},
   "source": [
    "&copy; 2019 by Pearson Education, Inc. All Rights Reserved. The content in this notebook is based on the book [**Python for Programmers**](https://amzn.to/2VvdnxE)."
   ]
  },
  {
   "cell_type": "code",
   "execution_count": 1,
   "metadata": {},
   "outputs": [],
   "source": [
    "# enable high-res images in notebook \n",
    "%config InlineBackend.figure_format = 'retina'"
   ]
  },
  {
   "cell_type": "markdown",
   "metadata": {},
   "source": [
    "# 12. Data Mining Twitter \n",
    "# Objectives\n",
    "* **Data-mine Twitter** with **Tweepy** library\n",
    "* Search **past tweets** with the **Twitter Search API**\n",
    "* Sample the **live tweet stream** with the **Twitter Streaming API**\n",
    "* Tweet object **meta data** \n",
    "* Use **NLP** to **clean and preprocess tweets** for analysis\n",
    "* Perform **sentiment analysis** on tweets\n",
    "* **Spot trends** with **Twitter’s Trends API**\n",
    "* **Map tweets** using **folium** and **OpenStreetMap**"
   ]
  },
  {
   "cell_type": "markdown",
   "metadata": {},
   "source": [
    "<hr style=\"height:2px; border:none; color:#000; background-color:#000;\">"
   ]
  },
  {
   "cell_type": "markdown",
   "metadata": {},
   "source": [
    "# 12.1 Introduction \n",
    "* Popular **big-data source**  \n",
    "* **Data mining** &mdash; searching large collections of data for **insights**\n",
    "* **Sentiment** in tweets can help **make predictions**  \n",
    "    * **Stock prices**\n",
    "    * **Election results**\n",
    "    * Likely **revenues** for a **new movie**\n",
    "    * **Success** of a company’s **marketing campaign**\n",
    "* Spot **faults in competitors’ products** \n",
    "* Spot **trending topics**\n",
    "* **Connect to Twitter** with easy-to-use **Web services**"
   ]
  },
  {
   "cell_type": "markdown",
   "metadata": {},
   "source": [
    "<hr style=\"height:2px; border:none; color:#000; background-color:#000;\">"
   ]
  },
  {
   "cell_type": "markdown",
   "metadata": {},
   "source": [
    "### What Is Twitter? \n",
    "* **Tweets**\n",
    "    * Short messages\n",
    "    * Initially limited to **140 characters**\n",
    "    * Increased in 2017 for most languages to **280 characters**\n",
    "* **Most open social network**&mdash;anyone can generally choose to follow anyone else\n",
    "* **Free programmatic access** to a small portion of **last 7 days' tweets**\n",
    "    * Can get **paid access** to larger portions the **all-time tweets database**\n",
    "* [**Hundreds of millions of tweets are sent every day** with many thousands sent per second](http://www.internetlivestats.com/twitter-statistics/)\n",
    "* Can tap into the **live stream** and get up to 1% of live tweets\n",
    "    * **Like “drinking from a fire hose”** "
   ]
  },
  {
   "cell_type": "markdown",
   "metadata": {},
   "source": [
    "<hr style=\"height:2px; border:none; color:#000; background-color:#000;\">"
   ]
  },
  {
   "cell_type": "markdown",
   "metadata": {},
   "source": [
    "# 12.2 Overview of the Twitter APIs \n",
    "* **Web services** are **methods** that you call in the **cloud**\n",
    "* Each **method** has a **web service endpoint** represented by a **URL**\n",
    "* **Caution**: **apps can be brittle**\n",
    "    * Internet connections can be lost, services can change, some services not available everywhere, ... \n",
    "* [Twitter API categories, subcategories and individual methods](https://developer.twitter.com/en/docs/api-reference-index.html)"
   ]
  },
  {
   "cell_type": "markdown",
   "metadata": {},
   "source": [
    "<hr style=\"height:2px; border:none; color:#000; background-color:#000;\">"
   ]
  },
  {
   "cell_type": "markdown",
   "metadata": {},
   "source": [
    "### Rate Limits and Restrictions\n",
    "* Twitter expects developers to **use its services responsibly**\n",
    "* **Understand rate limits** before using any method or you could get **blocked**\n",
    "* Some methods list both **user rate limits** and **app rate limits**\n",
    "    * We use **app rate limits** in the demos\n",
    "    * **User rate limits** for apps in which individuals to log into own Twitter accounts\n",
    "    * [Details on rate limiting](https://developer.twitter.com/en/docs/basics/rate-limiting)\n",
    "    * [Specific rate limits on individual API methods](https://developer.twitter.com/en/docs/basics/rate-limits) — also see each API method’s docs\n",
    "* **Follow Twitter’s rules/regulations or your developer account could be terminated.** \n",
    "\t* [Terms of Service](https://twitter.com/tos), [Developer Agreement](https://developer.twitter.com/en/developer-terms/agreement-and-policy.html), [Developer Policy](https://developer.twitter.com/en/developer-terms/policy.html), [Other restrictions](https://developer.twitter.com/en/developer-terms/more-on-restricted-use-cases)"
   ]
  },
  {
   "cell_type": "markdown",
   "metadata": {},
   "source": [
    "<hr style=\"height:2px; border:none; color:#000; background-color:#000;\">"
   ]
  },
  {
   "cell_type": "markdown",
   "metadata": {},
   "source": [
    "# 12.4 Getting Twitter Credentials—Creating an App \n",
    "* [Apply for a developer account](https://developer.twitter.com/en/apply-for-access) to use the APIs\n",
    "* Must get **credentials** to use Twitter APIs\n",
    "    * Part of the **OAuth 2.0 authentication process**\n",
    "    * **Tweepy handles OAuth 2.0 authentication details for you**\n",
    "* To get credentials, you’ll [**create an app**](https://developer.twitter.com) \n",
    "    * **Each app has separate credentials**\n",
    "    * I present **details on creating apps** in my [**Python Fundamentals LiveLessons videos for Section 12.4**](https://learning.oreilly.com/videos/python-fundamentals/9780135917411/9780135917411-PFLL_Lesson12_04) and [**Python for Programmers Section 12.4**](https://learning.oreilly.com/library/view/Python+for+Programmers,+First+Edition/9780135231364/ch12.xhtml#ch12lev1sec4)"
   ]
  },
  {
   "cell_type": "markdown",
   "metadata": {},
   "source": [
    "<hr style=\"height:2px; border:none; color:#000; background-color:#000;\">"
   ]
  },
  {
   "cell_type": "markdown",
   "metadata": {},
   "source": [
    "# 12.5 What’s in a Tweet? \n",
    "* Twitter API returns **JSON (JavaScript Object Notation)** objects\n",
    "* Text-based, human and computer readable\n",
    "* Like Python **dictionaries**\n",
    "* **JSON object format** &mdash; **all strings in double quotes (\")**\n",
    ">```python\n",
    "{propertyName1: value1, propertyName2: value2}\n",
    "```\n",
    "* **JSON array format (like Python list)**:\n",
    ">```python\n",
    "[value1, value2, value3]\n",
    "```\n",
    "* **Tweepy handles the JSON for you** behind the scenes"
   ]
  },
  {
   "cell_type": "markdown",
   "metadata": {},
   "source": [
    "<hr style=\"height:2px; border:none; color:#000; background-color:#000;\">"
   ]
  },
  {
   "cell_type": "markdown",
   "metadata": {},
   "source": [
    "### Key Properties of a Tweet Object \n",
    "* **Tweet object** contains **metadata**, including\n",
    "    * **text** of the tweet\n",
    "    * **extended tweet** for tweets up to **280 characters**\n",
    "\t* **when** it was created \n",
    "\t* **who** created it,\n",
    "\t* lists of **hashtags**, **URLs**, **`@`-mentions**, **images**, **videos** and more\n",
    "* [Our table of many key **tweet metadata attributes**](https://learning.oreilly.com/library/view/python-for-programmers/9780135231364/ch12.xhtml#ch12lev1sec5)\n",
    "* [Complete list of the tweet object attributes](https://developer.twitter.com/en/docs/tweets/data-dictionary/overview/tweet-object.html)\n",
    "* [General overview of all the JSON objects that Twitter APIs return, and links to the specific object details](https://developer.twitter.com/en/docs/tweets/data-dictionary/overview/intro-to-tweet-json)"
   ]
  },
  {
   "cell_type": "markdown",
   "metadata": {},
   "source": [
    "<hr style=\"height:2px; border:none; color:#000; background-color:#000;\">"
   ]
  },
  {
   "cell_type": "markdown",
   "metadata": {},
   "source": [
    "### Sample Tweet JSON\n",
    "* **Sample JSON** for this tweet from the **`@nasa`** account: \n",
    ">```\n",
    "@NoFear1075 Great question, Anthony! Throughout its seven-year \n",
    "mission, our Parker #SolarProbe spacecraft... https://t.co/xKd6ym8waT'\n",
    "```"
   ]
  },
  {
   "cell_type": "markdown",
   "metadata": {},
   "source": [
    "<hr style=\"height:2px; border:none; color:#000; background-color:#000;\">"
   ]
  },
  {
   "cell_type": "markdown",
   "metadata": {},
   "source": [
    "```python\n",
    "{'created_at': 'Wed Sep 05 18:19:34 +0000 2018',\n",
    " 'id': 1037404890354606082,\n",
    " 'id_str': '1037404890354606082',\n",
    " 'text': '@NoFear1075 Great question, Anthony! Throughout its seven-year \n",
    "          mission, our Parker #SolarProbe spacecraft… https://t.co/xKd6ym8waT',\n",
    " 'truncated': True,\n",
    " 'entities': {'hashtags': [{'text': 'SolarProbe', 'indices': [84, 95]}],\n",
    "    'symbols': [],\n",
    "    'user_mentions': [{'screen_name': 'NoFear1075',\n",
    "        'name': 'Anthony Perrone',\n",
    "        'id': 284339791,\n",
    "        'id_str': '284339791',\n",
    "        'indices': [0, 11]}],\n",
    "    'urls': [{'url': 'https://t.co/xKd6ym8waT',\n",
    "        'expanded_url': 'https://twitter.com/i/web/status/1037404890354606082',\n",
    "        'display_url': 'twitter.com/i/web/status/1…',\n",
    "        'indices': [117, 140]}]},\n",
    " 'source': '<a href=\"http://twitter.com\" rel=\"nofollow\">Twitter Web Client</a>',\n",
    "```"
   ]
  },
  {
   "cell_type": "markdown",
   "metadata": {},
   "source": [
    "```python\n",
    " 'in_reply_to_status_id': 1037390542424956928,\n",
    " 'in_reply_to_status_id_str': '1037390542424956928',\n",
    " 'in_reply_to_user_id': 284339791,\n",
    " 'in_reply_to_user_id_str': '284339791',\n",
    " 'in_reply_to_screen_name': 'NoFear1075',\n",
    " 'user': {'id': 11348282,\n",
    "    'id_str': '11348282',\n",
    "    'name': 'NASA',\n",
    "    'screen_name': 'NASA',\n",
    "    'location': '',\n",
    "    'description': 'Explore the universe and discover our home planet with \n",
    "            @NASA. We usually post in EST (UTC-5)',\n",
    "    'url': 'https://t.co/TcEE6NS8nD',\n",
    "    'entities': {'url': {'urls': [{'url': 'https://t.co/TcEE6NS8nD',\n",
    "            'expanded_url': 'http://www.nasa.gov',\n",
    "            'display_url': 'nasa.gov',\n",
    "            'indices': [0, 23]}]},\n",
    "    'description': {'urls': []}},\n",
    "    'protected': False,\n",
    "    'followers_count': 29486081,\n",
    "    'friends_count': 287,\n",
    "    'listed_count': 91928,\n",
    "    'created_at': 'Wed Dec 19 20:20:32 +0000 2007',\n",
    "    'favourites_count': 3963,\n",
    "    'time_zone': None,\n",
    "    'geo_enabled': False,\n",
    "    'verified': True,\n",
    "    'statuses_count': 53147,\n",
    "    'lang': 'en',\n",
    "```"
   ]
  },
  {
   "cell_type": "markdown",
   "metadata": {},
   "source": [
    "```python\n",
    "    'contributors_enabled': False,\n",
    "    'is_translator': False,\n",
    "    'is_translation_enabled': False,\n",
    "    'profile_background_color': '000000',\n",
    "    'profile_background_image_url': 'http://abs.twimg.com/images/themes/theme1/bg.png',\n",
    "    'profile_background_image_url_https': 'https://abs.twimg.com/images/themes/theme1/bg.png',\n",
    "    'profile_image_url': 'http://pbs.twimg.com/profile_images/188302352/nasalogo_twitter_normal.jpg',\n",
    "    'profile_image_url_https': 'https://pbs.twimg.com/profile_images/188302352/nasalogo_twitter_normal.jpg',\n",
    "    'profile_banner_url': 'https://pbs.twimg.com/profile_banners/11348282/1535145490',\n",
    "    'profile_link_color': '205BA7',\n",
    "    'profile_sidebar_border_color': '000000',\n",
    "    'profile_sidebar_fill_color': 'F3F2F2',\n",
    "    'profile_text_color': '000000',\n",
    "    'profile_use_background_image': True,\n",
    "    'has_extended_profile': True,\n",
    "    'default_profile': False,\n",
    "    'default_profile_image': False,\n",
    "    'following': True,\n",
    "    'follow_request_sent': False,\n",
    "    'notifications': False,\n",
    "    'translator_type': 'regular'},\n",
    " 'geo': None,\n",
    " 'coordinates': None,\n",
    " 'place': None,\n",
    " 'contributors': None,\n",
    " 'is_quote_status': False,\n",
    " 'retweet_count': 7,\n",
    " 'favorite_count': 19,\n",
    " 'favorited': False,\n",
    " 'retweeted': False,\n",
    " 'possibly_sensitive': False,\n",
    " 'lang': 'en'}\n",
    "\n",
    "```"
   ]
  },
  {
   "cell_type": "markdown",
   "metadata": {},
   "source": [
    "<hr style=\"height:2px; border:none; color:#000; background-color:#000;\">"
   ]
  },
  {
   "cell_type": "markdown",
   "metadata": {},
   "source": [
    "# 12.6 Tweepy\n",
    "* [**Tweepy library**](http://www.tweepy.org/)—**one of the most popular Python Twitter clients**\n",
    "> `pip install tweepy>=4.3`\n",
    "* Easy access to Twitter’s capabilities\n",
    "* [Tweepy’s documentation](http://docs.tweepy.org/en/latest/)\n",
    "* One function in `tweetutilities.py` file depends on [**geopy**](https://github.com/geopy/geopy) (used later to **plot tweet locations**)\n",
    ">`conda install -c conda-forge geopy`"
   ]
  },
  {
   "cell_type": "markdown",
   "metadata": {},
   "source": [
    "<hr style=\"height:2px; border:none; color:#000; background-color:#000;\">"
   ]
  },
  {
   "cell_type": "markdown",
   "metadata": {},
   "source": [
    "# 12.7 Authenticating with Twitter Via Tweepy\n",
    "* **Authentication API**—Authenticate with your **Twitter credentials** to use other Twitter APIs\n",
    "* **`keys.py`** must contain your credentials"
   ]
  },
  {
   "cell_type": "code",
   "execution_count": 2,
   "metadata": {},
   "outputs": [],
   "source": [
    "import tweepy"
   ]
  },
  {
   "cell_type": "code",
   "execution_count": 3,
   "metadata": {},
   "outputs": [],
   "source": [
    "import keys"
   ]
  },
  {
   "cell_type": "code",
   "execution_count": 4,
   "metadata": {},
   "outputs": [],
   "source": [
    "auth = tweepy.OAuthHandler(keys.consumer_key,\n",
    "                           keys.consumer_secret)"
   ]
  },
  {
   "cell_type": "code",
   "execution_count": 5,
   "metadata": {},
   "outputs": [],
   "source": [
    "auth.set_access_token(keys.access_token,\n",
    "                      keys.access_token_secret)"
   ]
  },
  {
   "cell_type": "markdown",
   "metadata": {},
   "source": [
    "<hr style=\"height:2px; border:none; color:#000; background-color:#000;\">"
   ]
  },
  {
   "cell_type": "markdown",
   "metadata": {},
   "source": [
    "### Creating the Tweepy API Object\n",
    "* A **Tweepy `API` object** is your **gateway** to Twitter APIs"
   ]
  },
  {
   "cell_type": "markdown",
   "metadata": {},
   "source": [
    "* **CHANGE:** `wait_on_rate_limit_notify=True` (all errors are now reported, so they removed this)"
   ]
  },
  {
   "cell_type": "code",
   "execution_count": 6,
   "metadata": {},
   "outputs": [],
   "source": [
    "api = tweepy.API(auth, wait_on_rate_limit=True) # , wait_on_rate_limit_notify=True)"
   ]
  },
  {
   "cell_type": "markdown",
   "metadata": {},
   "source": [
    "* **`auth`** is the **`OAuthHandler`**\n",
    "* **`wait_on_rate_limit=True`** &mdash; **wait 15 minutes** when app reaches an API method’s rate limit\n",
    "    * prevents violations\n",
    "* **`wait_on_rate_limit_notify=True`** &mdash; **display a command-line message** when you hit a rate limit"
   ]
  },
  {
   "cell_type": "markdown",
   "metadata": {},
   "source": [
    "<hr style=\"height:2px; border:none; color:#000; background-color:#000;\">"
   ]
  },
  {
   "cell_type": "markdown",
   "metadata": {},
   "source": [
    "# 12.8 Getting Information About a Twitter Account\n",
    "* **Accounts and Users API**—Access information about an account\n",
    "* `API` object’s **`get_user` method** returns a **`tweepy.models.User` object** for an account"
   ]
  },
  {
   "cell_type": "code",
   "execution_count": 7,
   "metadata": {},
   "outputs": [],
   "source": [
    "nasa = api.get_user(screen_name='nasa')"
   ]
  },
  {
   "cell_type": "markdown",
   "metadata": {},
   "source": [
    "* Calls the **Twitter API’s [`users/show` method](https://developer.twitter.com/en/docs/accounts-and-users/follow-search-get-users/api-reference/get-users-show)**\n",
    "* **`tweepy.models` classes** correspond to returned **JSON objects**\n",
    "* **`User` class** corresponds to a Twitter [**user object**](https://developer.twitter.com/en/docs/tweets/data-dictionary/overview/user-object)\n",
    "* **`tweepy.models` classes** turn **JSON** into **Tweepy objects** "
   ]
  },
  {
   "cell_type": "markdown",
   "metadata": {},
   "source": [
    "<hr style=\"height:2px; border:none; color:#000; background-color:#000;\">"
   ]
  },
  {
   "cell_type": "markdown",
   "metadata": {},
   "source": [
    "### Getting Basic Account Information for `@nasa`\n",
    "* IDs and twitter handles can be used to **track tweets to, from and about users**"
   ]
  },
  {
   "cell_type": "code",
   "execution_count": 8,
   "metadata": {},
   "outputs": [
    {
     "data": {
      "text/plain": [
       "11348282"
      ]
     },
     "execution_count": 8,
     "metadata": {},
     "output_type": "execute_result"
    }
   ],
   "source": [
    "nasa.id  # account ID created when the user joined Twitter"
   ]
  },
  {
   "cell_type": "code",
   "execution_count": 9,
   "metadata": {},
   "outputs": [
    {
     "data": {
      "text/plain": [
       "'NASA'"
      ]
     },
     "execution_count": 9,
     "metadata": {},
     "output_type": "execute_result"
    }
   ],
   "source": [
    "nasa.screen_name  # user’s Twitter handle"
   ]
  },
  {
   "cell_type": "code",
   "execution_count": 10,
   "metadata": {},
   "outputs": [
    {
     "data": {
      "text/plain": [
       "\"There's space for everybody. ✨\""
      ]
     },
     "execution_count": 10,
     "metadata": {},
     "output_type": "execute_result"
    }
   ],
   "source": [
    "nasa.description  # description from the user’s profile"
   ]
  },
  {
   "cell_type": "markdown",
   "metadata": {},
   "source": [
    "* Lots of additional attributes, like `name`, `description`, `followers_count`, `friends_count`, etc."
   ]
  },
  {
   "cell_type": "code",
   "execution_count": 11,
   "metadata": {},
   "outputs": [
    {
     "data": {
      "text/plain": [
       "57305806"
      ]
     },
     "execution_count": 11,
     "metadata": {},
     "output_type": "execute_result"
    }
   ],
   "source": [
    "nasa.followers_count"
   ]
  },
  {
   "cell_type": "markdown",
   "metadata": {},
   "source": [
    "<hr style=\"height:2px; border:none; color:#000; background-color:#000;\">"
   ]
  },
  {
   "cell_type": "markdown",
   "metadata": {},
   "source": [
    "### Getting `@nasa`'s Most Recent Status Update\n",
    "* `User` object’s **`status` property** returns a **`tweepy.models.Status`** object\n",
    "* Corresponds to a Twitter [**tweet object**](https://developer.twitter.com/en/docs/tweets/data-dictionary/overview/tweet-object)"
   ]
  },
  {
   "cell_type": "code",
   "execution_count": 12,
   "metadata": {},
   "outputs": [
    {
     "data": {
      "text/plain": [
       "'\"Welcome to #Starliner for the very first time ever, in space.\" @Astro_FarmerBob takes us on a tour inside the… https://t.co/7FfHi2SshF'"
      ]
     },
     "execution_count": 12,
     "metadata": {},
     "output_type": "execute_result"
    }
   ],
   "source": [
    "nasa.status.text  # most recent tweet's text"
   ]
  },
  {
   "cell_type": "markdown",
   "metadata": {},
   "source": [
    "* **...** indicates **truncated** tweet text\n",
    "* **`extended_tweet` property** for tweets between 141 and 280 characters (as of Nov. 2017) \n",
    "* **Retweeting** often results in truncation"
   ]
  },
  {
   "cell_type": "markdown",
   "metadata": {},
   "source": [
    "<hr style=\"height:2px; border:none; color:#000; background-color:#000;\">"
   ]
  },
  {
   "cell_type": "markdown",
   "metadata": {},
   "source": [
    "# 12.9 Introduction to Tweepy Cursors: Getting an Account’s Followers \n",
    "* Twitter API methods often return collections of objects \n",
    "    * E.g., list of tweets that match specified search criteria \n",
    "* Each method has **maximum number of items returned by one call**\n",
    "    * A **\"page\"** of results\n",
    "* **JSON responses** indicate whether there are **more pages**\n",
    "* A **`Cursor`** handles **paging** \n",
    "    * Invokes a method and **checks for more pages**\n",
    "    * If so, **calls the method again**  \n",
    "    * Continues until there are no more results to process\n",
    "    * If `API` object configured to **wait on rate limits**, **`Cursor`s wait as needed**\n",
    "* [Tweepy `Cursor` tutorial](http://docs.tweepy.org/en/latest/cursor_tutorial.html)"
   ]
  },
  {
   "cell_type": "markdown",
   "metadata": {},
   "source": [
    "<hr style=\"height:2px; border:none; color:#000; background-color:#000;\">"
   ]
  },
  {
   "cell_type": "markdown",
   "metadata": {},
   "source": [
    "## 12.9.1 Determining an Account’s Followers  Via the `API` object’s **`get_followers` Method**\n",
    "* Calls Twitter’s [**followers/list** method](https://developer.twitter.com/en/docs/accounts-and-users/follow-search-get-users/api-reference/get-followers-list.html)\n",
    "* Returns groups of 20 by default, but can request up to 200 \n",
    "* For demonstration purposes, we’ll grab 10 of NASA’s followers"
   ]
  },
  {
   "cell_type": "markdown",
   "metadata": {},
   "source": [
    "<hr style=\"height:2px; border:none; color:#000; background-color:#000;\">"
   ]
  },
  {
   "cell_type": "markdown",
   "metadata": {},
   "source": [
    "### Creating a Cursor That Will Call the `get_followers` Method for NASA’s account"
   ]
  },
  {
   "cell_type": "code",
   "execution_count": 13,
   "metadata": {},
   "outputs": [],
   "source": [
    "followers = []  # for storing followers' User objects"
   ]
  },
  {
   "cell_type": "markdown",
   "metadata": {},
   "source": [
    "**CHANGE:** `api.get_followers` used to be `api.followers`"
   ]
  },
  {
   "cell_type": "code",
   "execution_count": 14,
   "metadata": {},
   "outputs": [],
   "source": [
    "cursor = tweepy.Cursor(api.get_followers, screen_name='nasa')"
   ]
  },
  {
   "cell_type": "markdown",
   "metadata": {},
   "source": [
    "* First argument is **name of Tweepy method to call**\n",
    "* Additional keyword arguments are passed to method named in first argument"
   ]
  },
  {
   "cell_type": "markdown",
   "metadata": {},
   "source": [
    "<hr style=\"height:2px; border:none; color:#000; background-color:#000;\">"
   ]
  },
  {
   "cell_type": "markdown",
   "metadata": {},
   "source": [
    "### Get Results from `Cursor` and Display in Ascending Alphabetical Order  \n",
    "* Cursor’s **`items` method** calls `api.get_followers` and returns the `get_followers`s method’s results"
   ]
  },
  {
   "cell_type": "code",
   "execution_count": 15,
   "metadata": {},
   "outputs": [],
   "source": [
    "for account in cursor.items(100):  # request only 100 results\n",
    "    followers.append(account.screen_name)"
   ]
  },
  {
   "cell_type": "code",
   "execution_count": 16,
   "metadata": {},
   "outputs": [
    {
     "data": {
      "text/plain": [
       "['RickBlackmon2',\n",
       " 'salas118405',\n",
       " 'Kadiatuskoroma',\n",
       " '_swxh',\n",
       " 'Padmana98535201',\n",
       " 'yubanme72237603',\n",
       " 'bdaelldy',\n",
       " 'VietmeierAnna',\n",
       " 'ParkerW93545216',\n",
       " 'CookiiiieDOUGH',\n",
       " 'ThefirstTitel',\n",
       " 'ShahabuddinYmn',\n",
       " 'MubangiziDismus',\n",
       " 'akshat2998',\n",
       " 'Onur7Aliskan',\n",
       " 'Akbar7Gazi',\n",
       " 'Ela86826188',\n",
       " 'Lumalaki',\n",
       " 'JossNSA',\n",
       " 'DontfindMyname1',\n",
       " 'yurekli87390',\n",
       " 'DavidGa54996452',\n",
       " 'Brutak1980',\n",
       " 'nima__dadashi',\n",
       " 'lopezsarah0521',\n",
       " 'BKrupavicius1',\n",
       " 'ArteExpresar',\n",
       " 'sana463884305',\n",
       " 'FabioMe40948426',\n",
       " 'endeo1888',\n",
       " 'vpvvpnas',\n",
       " 'gb_nani',\n",
       " 'Jess23389965',\n",
       " 'i8true',\n",
       " 'ProyectoFAS',\n",
       " 'GalMathieu4',\n",
       " 'a15201859',\n",
       " 'Ogge133769',\n",
       " 'kenlimatma1987',\n",
       " 'ArielGI76748462',\n",
       " 'Usef19032265',\n",
       " 'whateveruwant86',\n",
       " 'edgradolen1979',\n",
       " 'Gambit_Jiang',\n",
       " 'ChinazIsrael',\n",
       " 'WHSwrk',\n",
       " 'timeworks15',\n",
       " 'DkDheerajsaini1',\n",
       " 'chensiy91891682',\n",
       " 'MeenuRaju4',\n",
       " 'jimgreenwald4',\n",
       " 'SheherYar07',\n",
       " 'nanat0x',\n",
       " 'mattymac_55',\n",
       " 'Ttttt02ttttT',\n",
       " 'fr2wendel',\n",
       " 'DeepakY94660159',\n",
       " 'SameerR48981440',\n",
       " 'Mayureshof25',\n",
       " 'gaojiaw42591891',\n",
       " 'K96280785Khan',\n",
       " '123_lawanda',\n",
       " 'soodajay1',\n",
       " 'Hassani73662528',\n",
       " 'Quince_HM',\n",
       " 'qclh1',\n",
       " 'AlexHindle9',\n",
       " 'allhakb46182609',\n",
       " 'MarkBraverman14',\n",
       " 'Peeyush55082023',\n",
       " 'tzocpascual72',\n",
       " 'su75660394',\n",
       " 'hengweeds',\n",
       " 'InitiativeKapil',\n",
       " 'MahmutO56139488',\n",
       " 'zhenghaodong14',\n",
       " 'Marcosvgf17',\n",
       " 'Rock32340053',\n",
       " 'arif_bed',\n",
       " 'srawdc',\n",
       " 'ArjunRangar21',\n",
       " 'vamtmermaid',\n",
       " 'Khadija02165540',\n",
       " 'xingyuxin4',\n",
       " 'Tripasssss',\n",
       " 'omeerabay',\n",
       " '1mirrorcc',\n",
       " 'elisha_350',\n",
       " 'linda_yepez',\n",
       " 'iyashwanthvasu',\n",
       " 'Cochi86463091',\n",
       " 'Shresh00861338',\n",
       " 'Meenusheokand25',\n",
       " 'AneleRSA5',\n",
       " 'SubashriSomasu1',\n",
       " 'LibusaSibiya1',\n",
       " 'sergiy_dude',\n",
       " 'Susu00040930',\n",
       " 'BgmiId46792642',\n",
       " 'yanez541']"
      ]
     },
     "execution_count": 16,
     "metadata": {},
     "output_type": "execute_result"
    }
   ],
   "source": [
    "followers"
   ]
  },
  {
   "cell_type": "markdown",
   "metadata": {},
   "source": [
    "<hr style=\"height:2px; border:none; color:#000; background-color:#000;\">"
   ]
  },
  {
   "cell_type": "markdown",
   "metadata": {},
   "source": [
    "### Automatic Paging\n",
    "* To **get up to 200 followers at a time**, create the `Cursor` with the **`count`** keyword argument\n",
    ">```python\n",
    "cursor = tweepy.Cursor(api.get_followers, screen_name='nasa', count=200)\n",
    "```\n",
    "* Calling `Cursor` method **`items`** with no argument attempts to get **all followers**\n",
    "    * Could **take significant time** due to **rate limits**"
   ]
  },
  {
   "cell_type": "markdown",
   "metadata": {},
   "source": [
    "<hr style=\"height:2px; border:none; color:#000; background-color:#000;\">"
   ]
  },
  {
   "cell_type": "markdown",
   "metadata": {},
   "source": [
    "# 12.10 Searching Recent Tweets with Tweepy `API` method **`search_tweets`** \n",
    "* **Tweets API**—Search **past 7 days' tweets**, access **live tweet streams** and more\n",
    "* Returns tweets that **match a query string**\n",
    "* Only for the **previous seven days’ tweets**\n",
    "* **Not guaranteed to return all matching tweets**\n",
    "* Calls Twitter’s **`search/tweets` method**\n",
    "* Returns 15 tweets at a time by default, but can return up to 100"
   ]
  },
  {
   "cell_type": "markdown",
   "metadata": {},
   "source": [
    "<hr style=\"height:2px; border:none; color:#000; background-color:#000;\">"
   ]
  },
  {
   "cell_type": "markdown",
   "metadata": {},
   "source": [
    "### Utility Function `print_tweets` from `tweetutilities.py` "
   ]
  },
  {
   "cell_type": "code",
   "execution_count": 17,
   "metadata": {},
   "outputs": [],
   "source": [
    "from tweetutilities import print_tweets"
   ]
  },
  {
   "cell_type": "markdown",
   "metadata": {},
   "source": [
    "```python\n",
    "def print_tweets(tweets):\n",
    "    \"\"\"For each Tweepy Status object in tweets, display the \n",
    "    user's screen_name and tweet text. If the language is not\n",
    "    English, translate the text with TextBlob.\"\"\"\n",
    "    for tweet in tweets:\n",
    "        print(f'{tweet.user.screen_name}:', end=' ')\n",
    "        print(f'{tweet.text}\\n')\n",
    "```"
   ]
  },
  {
   "cell_type": "markdown",
   "metadata": {},
   "source": [
    "<hr style=\"height:2px; border:none; color:#000; background-color:#000;\">"
   ]
  },
  {
   "cell_type": "markdown",
   "metadata": {},
   "source": [
    "### Searching for Specific Words\n",
    "* **`q` keyword argument** specifies the **query string**\n",
    "* Should use **`Cursor`** for more than max results"
   ]
  },
  {
   "cell_type": "markdown",
   "metadata": {},
   "source": [
    "**NOTE: Modified to search only English due to current known issue in TextBlob**\n",
    "* **CHANGE:** `api.search_tweets` used to be `api.search`"
   ]
  },
  {
   "cell_type": "code",
   "execution_count": 18,
   "metadata": {},
   "outputs": [],
   "source": [
    "tweets = api.search_tweets(q='football', count=10) #lang='en',"
   ]
  },
  {
   "cell_type": "code",
   "execution_count": 19,
   "metadata": {},
   "outputs": [
    {
     "name": "stdout",
     "output_type": "stream",
     "text": [
      "walejobbs: RT @Priceless_Silva: Cos deep down a majority of fans and 20 club captains that voted know that KDB is the better player. Put down the calc…\n",
      "\n",
      "RyanEasterling: The 2023 #illini football recruiting class is 100% homegrown so far, including today's commitment from Wheaton St.… https://t.co/zvoUEocHLV\n",
      "\n",
      "Paquito34434721: RT @gnxbrynho: We saved football... https://t.co/iMskk5wvKP\n",
      "\n",
      "norseman79skol: @JBfromMN If I am playing Madden or fantasy football I'm taking Jackson all day. But, I would take Cousins in a leg… https://t.co/jxrrbumSEU\n",
      "\n",
      "vamkrk: RT @Blue_Footy: I was only having fun with the Neymar tweets but realistically, he will need to make sacrifices to play for Chelsea. He's n…\n",
      "\n",
      "Dittol_SA: @football_ll55 هدف صحيح واضح \n",
      "لكن الرايد مدلل تحكيميا زي الهلال والاتحاد\n",
      "\n",
      "faustus66: @LyndaDBrown @stevenrobert56 it’s a complicated deal actually.. and football is americas religion.. they won’t go w… https://t.co/pwPyLNFQg3\n",
      "\n",
      "Altaaf_SY: “why did you choose money over football heritage?”\n",
      "\n",
      "Mbappe: https://t.co/2tmg3ICFkv\n",
      "\n",
      "AmazingTv_Ent: RT @datgreatnigga: Adidas makes cuter football jerseys than Nike https://t.co/HsbQyq29j0\n",
      "\n",
      "Football_Scot: Calvin Bassey dubbed '£20m' Rangers player as pundit demands end to transfer 'disrespect' of Scottish football… https://t.co/2tu1rGn1U7\n",
      "\n"
     ]
    }
   ],
   "source": [
    "print_tweets(tweets)"
   ]
  },
  {
   "cell_type": "markdown",
   "metadata": {},
   "source": [
    "<hr style=\"height:2px; border:none; color:#000; background-color:#000;\">"
   ]
  },
  {
   "cell_type": "markdown",
   "metadata": {},
   "source": [
    "### Searching with Twitter Search Operators (1 of 2)\n",
    "* Use **Twitter search operators** to refine search results\n",
    "* The following table shows several Twitter search operators. \n",
    "* [For all the operators, click the `operators` link here](https://twitter.com/search-home)\n",
    "* ```python\n",
    "tweets = api.search(q='from:nasa since:2019-11-15', count=3)\n",
    "```\n",
    "\n",
    "|Example|Finds tweets containing|\n",
    "|----|----|\n",
    "| `python twitter` \t| **Implicit _logical and_ operator**—Finds tweets containing `python` _and_ `twitter`.|\n",
    "| `python OR twitter` \t| **Logical `OR` operator**—Finds tweets containing `python` or `twitter` or both.|\n",
    "| `python ?` \t| `?` (question mark)—Finds tweets asking questions about `python`.|\n",
    "| `planets -mars` \t| `-` (minus sign)—Finds tweets containing `planets` but not `mars`.|\n",
    "| `python :)` \t| `:)` (happy face)—Finds **positive sentiment** tweets containing `python`.|\n",
    "| `python :(` \t| `:(` (sad face)—Finds **negative sentiment** tweets containing `python`.|\n",
    "| `since:2018-09-01` \t| **Finds tweets **on or after** the specified date**, which must be in the form **`YYYY-MM-DD`**.|\n",
    "| `near:\"New York City\" `\t| **Finds tweets that were sent near `\"New York City\"`**.|\n",
    "| `from:nasa` \t| **Finds tweets from the account `@nasa`**.|\n",
    "| `to:nasa` \t| **Finds tweets to the account `@nasa`**.|"
   ]
  },
  {
   "cell_type": "markdown",
   "metadata": {},
   "source": [
    "<hr style=\"height:2px; border:none; color:#000; background-color:#000;\">"
   ]
  },
  {
   "cell_type": "markdown",
   "metadata": {},
   "source": [
    "# 12.11 Spotting Trends: Twitter Trends API\n",
    "* **“Going viral”** &mdash; thousands or millions of people tweeting at once \n",
    "* Twitter maintains a list of **trending topics** worldwide \n",
    "* **Twitter Trends API** can return lists of **trending-topic locations** and the **top 50 trending topics** for each **location**"
   ]
  },
  {
   "cell_type": "markdown",
   "metadata": {},
   "source": [
    "<hr style=\"height:2px; border:none; color:#000; background-color:#000;\">"
   ]
  },
  {
   "cell_type": "markdown",
   "metadata": {},
   "source": [
    "## 12.11.1 Places with Trending Topics \n",
    "* See how to find places with trending topics: https://learning.oreilly.com/videos/python-fundamentals/9780135917411/9780135917411-PFLL_Lesson12_15"
   ]
  },
  {
   "cell_type": "markdown",
   "metadata": {},
   "source": [
    "<hr style=\"height:2px; border:none; color:#000; background-color:#000;\">"
   ]
  },
  {
   "cell_type": "markdown",
   "metadata": {},
   "source": [
    "## 12.11.2 Getting a List of Trending Topics with the Tweepy `API`’s **`get_place_trends` Method** \n",
    "* Calls **Twitter Trends API’s [`trends/place` method](https://developer.twitter.com/en/docs/trends/trends-for-location/api-reference/get-trends-place)**\n",
    "* Returns top **50 trending topics for the location**\n",
    "* [Look up WOEIDs](http://www.woeidlookup.com) (**Yahoo! Where on Earth IDs**)\n",
    "* Look up WOEID’s programmatically using **Yahoo!’s web services** via [Python libraries like `woeid`](https://github.com/Ray-SunR/woeid)"
   ]
  },
  {
   "cell_type": "markdown",
   "metadata": {},
   "source": [
    "<hr style=\"height:2px; border:none; color:#000; background-color:#000;\">"
   ]
  },
  {
   "cell_type": "markdown",
   "metadata": {},
   "source": [
    "### Get Today's Worldwide Trending Topics (1 of 3)"
   ]
  },
  {
   "cell_type": "markdown",
   "metadata": {},
   "source": [
    "* **CHANGE:** `api.get_place_trends` used to be `api.trends_place`"
   ]
  },
  {
   "cell_type": "code",
   "execution_count": 20,
   "metadata": {},
   "outputs": [],
   "source": [
    "world_trends = api.get_place_trends(id=1)  # list containing one dictionary"
   ]
  },
  {
   "cell_type": "markdown",
   "metadata": {},
   "source": [
    "* **`'trends'` key** refers to a **list of dictionaries representing each trend**"
   ]
  },
  {
   "cell_type": "code",
   "execution_count": 21,
   "metadata": {},
   "outputs": [],
   "source": [
    "trends_list = world_trends[0]['trends']"
   ]
  },
  {
   "cell_type": "markdown",
   "metadata": {},
   "source": [
    "<hr style=\"height:2px; border:none; color:#000; background-color:#000;\">"
   ]
  },
  {
   "cell_type": "markdown",
   "metadata": {},
   "source": [
    "### Get Today's Worldwide Trending Topics (2 of 3)\n",
    "* Each trend has **`name`**, **`url`**, **`promoted_content`** (whether it's an **advertisement**), **`query`** and **`tweet_volume`** keys"
   ]
  },
  {
   "cell_type": "code",
   "execution_count": 22,
   "metadata": {},
   "outputs": [
    {
     "data": {
      "text/plain": [
       "{'name': '#KinnPorscheEP7',\n",
       " 'url': 'http://twitter.com/search?q=%23KinnPorscheEP7',\n",
       " 'promoted_content': None,\n",
       " 'query': '%23KinnPorscheEP7',\n",
       " 'tweet_volume': 902461}"
      ]
     },
     "execution_count": 22,
     "metadata": {},
     "output_type": "execute_result"
    }
   ],
   "source": [
    "trends_list[0]"
   ]
  },
  {
   "cell_type": "markdown",
   "metadata": {},
   "source": [
    "<hr style=\"height:2px; border:none; color:#000; background-color:#000;\">"
   ]
  },
  {
   "cell_type": "markdown",
   "metadata": {},
   "source": [
    "### Get Today's Worldwide Trending Topics (3 of 3)\n",
    "* For **trends with more than 10,000 tweets**, the **`tweet_volume`** is the **number of tweets**; otherwise, it’s `None`\n",
    "* Filter the list so that it contains only trends with more than 10,000 tweets:"
   ]
  },
  {
   "cell_type": "code",
   "execution_count": 23,
   "metadata": {},
   "outputs": [],
   "source": [
    "trends_list = [t for t in trends_list if t['tweet_volume']]"
   ]
  },
  {
   "cell_type": "code",
   "execution_count": 24,
   "metadata": {},
   "outputs": [],
   "source": [
    "from operator import itemgetter "
   ]
  },
  {
   "cell_type": "code",
   "execution_count": 25,
   "metadata": {},
   "outputs": [],
   "source": [
    "trends_list.sort(key=itemgetter('tweet_volume'), reverse=True) "
   ]
  },
  {
   "cell_type": "code",
   "execution_count": 26,
   "metadata": {},
   "outputs": [
    {
     "name": "stdout",
     "output_type": "stream",
     "text": [
      "Mbappe\n",
      "#KinnPorscheEP7\n",
      "Madrid\n",
      "#ColorfulSuhoDay\n",
      "#끝없이_다채로운_수호데이\n",
      "Champions\n",
      "Perez\n",
      "RCB RCB\n",
      "Florentino\n",
      "Barcelona\n",
      "Barça\n",
      "junmyeon\n",
      "La Liga\n",
      "Haaland\n",
      "Neymar\n",
      "#MilletinSesiMaltepede\n",
      "Leclerc\n",
      "YOSHIKIさん\n",
      "Rohit\n",
      "Lyon\n",
      "#MIvsDC\n",
      "#UWCLfinal\n",
      "Sunderland\n",
      "Zidane\n",
      "Pant\n",
      "Bill Maher\n",
      "Serdar\n",
      "Tim David\n",
      "Alexia\n",
      "SARAH IN CANNES\n",
      "Wycombe\n",
      "#DCvsMI\n",
      "Sosa\n",
      "Scottish Cup\n",
      "brittany\n",
      "PINA\n"
     ]
    }
   ],
   "source": [
    "for trend in trends_list:  # show top trending topics\n",
    "    print(trend['name'])"
   ]
  },
  {
   "cell_type": "markdown",
   "metadata": {},
   "source": [
    "<hr style=\"height:2px; border:none; color:#000; background-color:#000;\">"
   ]
  },
  {
   "cell_type": "markdown",
   "metadata": {},
   "source": [
    "# 12.12 Cleaning/Preprocessing Tweets for Analysis\n",
    "* **Data cleaning** is one of data scientists' most common tasks \n",
    "* Some **NLP tasks** for **normalizing tweets**\n",
    "    * Converting text to **same case**\n",
    "    * Removing **`#` from hashtags**, **`@`-mentions**, **duplicates**, **hashtags**\n",
    "    * Removing **excess whitespace**, **punctuation**, **stop words**, **URLs**\n",
    "    * Removing tweet keywords **`RT`** (retweet) and **`FAV`** (favorite) \n",
    "    * **Stemming** and **lemmatization**\n",
    "    * **Tokenization**"
   ]
  },
  {
   "cell_type": "markdown",
   "metadata": {},
   "source": [
    "<hr style=\"height:2px; border:none; color:#000; background-color:#000;\">"
   ]
  },
  {
   "cell_type": "markdown",
   "metadata": {},
   "source": [
    "### [**tweet-preprocessor**](https://github.com/s/preprocessor) Library and TextBlob Utility Functions\n",
    "* `pip install tweet-preprocessor`\n",
    "* Can automatically remove any combination of:\n",
    "\n",
    "| Option\t| Option constant\n",
    "| :---\t| :---\n",
    "| **`OPT.MENTION`** | @-Mentions (e.g., `@nasa`)\t\n",
    "| **`OPT.EMOJI`** | Emoji\t\n",
    "| **`OPT.HASHTAG`** | Hashtag (e.g., `#mars`)\t\n",
    "| **`OPT.NUMBER`** | Number\t\n",
    "| **`OPT.RESERVED`** | Reserved Words (`RT` and `FAV`)\t\n",
    "| **`OPT.SMILEY`** | Smiley\t\n",
    "| **`OPT.URL`** | URL\t"
   ]
  },
  {
   "cell_type": "markdown",
   "metadata": {},
   "source": [
    "<hr style=\"height:2px; border:none; color:#000; background-color:#000;\">"
   ]
  },
  {
   "cell_type": "markdown",
   "metadata": {},
   "source": [
    "### Cleaning a Tweet Containing a Reserved Word and a URL\n",
    "* The tweet-preprocessor library’s module name is **`preprocessor`** "
   ]
  },
  {
   "cell_type": "code",
   "execution_count": 27,
   "metadata": {},
   "outputs": [],
   "source": [
    "import preprocessor as p  # p recommended by docs"
   ]
  },
  {
   "cell_type": "code",
   "execution_count": 28,
   "metadata": {},
   "outputs": [],
   "source": [
    "p.set_options(p.OPT.URL, p.OPT.RESERVED)  # specify what to clean"
   ]
  },
  {
   "cell_type": "code",
   "execution_count": 29,
   "metadata": {},
   "outputs": [],
   "source": [
    "tweet_text = 'RT A sample retweet with a URL https://nasa.gov'"
   ]
  },
  {
   "cell_type": "code",
   "execution_count": 30,
   "metadata": {},
   "outputs": [
    {
     "data": {
      "text/plain": [
       "'A sample retweet with a URL'"
      ]
     },
     "execution_count": 30,
     "metadata": {},
     "output_type": "execute_result"
    }
   ],
   "source": [
    "p.clean(tweet_text)"
   ]
  },
  {
   "cell_type": "markdown",
   "metadata": {},
   "source": [
    "<hr style=\"height:2px; border:none; color:#000; background-color:#000;\">"
   ]
  },
  {
   "cell_type": "markdown",
   "metadata": {},
   "source": [
    "# 12.13 Twitter Streaming API\n",
    "* Streams **randomly selected** live tweets up to a **maximum of 1% of the tweets per day**\n",
    "* According to https://InternetLiveStats.com\n",
    "    * **~8500 tweets per second**\n",
    "    * Nearly **750 million tweets per day**\n",
    "* So Streaming API gives you **free access to approximately 7.5 million tweets/day**"
   ]
  },
  {
   "cell_type": "markdown",
   "metadata": {},
   "source": [
    "<hr style=\"height:2px; border:none; color:#000; background-color:#000;\">"
   ]
  },
  {
   "cell_type": "markdown",
   "metadata": {},
   "source": [
    "## 12.13.1 Creating a Subclass of `Stream` \n",
    "* A stream **pushes** tweets to your app via a **persistent connection** \n",
    "* **Streaming rate** varies tremendously, based on search criteria\n",
    "* Subclass of Tweepy’s **`Stream`** listens for tweets\n",
    "    * **Notified** when each **new tweet** or other **Twitter message** **arrives**\n",
    "    * Each message results in a call to a **`Stream` method**\n",
    "    * **Override** only the **methods you need**\n"
   ]
  },
  {
   "cell_type": "markdown",
   "metadata": {},
   "source": [
    "<hr style=\"height:2px; border:none; color:#000; background-color:#000;\">"
   ]
  },
  {
   "cell_type": "markdown",
   "metadata": {},
   "source": [
    "### `Stream` Methods\n",
    "* [`Stream` methods](https://github.com/tweepy/tweepy/blob/master/tweepy/streaming.py)  \n",
    "\n",
    "|Method&nbsp;&nbsp;&nbsp;&nbsp;&nbsp;&nbsp;&nbsp;&nbsp;&nbsp;&nbsp;&nbsp;&nbsp;&nbsp;&nbsp;&nbsp;&nbsp;&nbsp;&nbsp;&nbsp;&nbsp;&nbsp;&nbsp;&nbsp;&nbsp;&nbsp;&nbsp;&nbsp;&nbsp;&nbsp;&nbsp;&nbsp;&nbsp;&nbsp;&nbsp;&nbsp;&nbsp;&nbsp;&nbsp;&nbsp;&nbsp;&nbsp;&nbsp;&nbsp;&nbsp;&nbsp;&nbsp;&nbsp;&nbsp;&nbsp;&nbsp;&nbsp;|Called when...|\n",
    "|----|----|\n",
    "| **`on_connect(self)`** \t| App **successfully connects** to the Twitter stream. This is for statements that should execute only if your app is connected to the stream.|\n",
    "| **`on_status(self, status)`** \t| A **tweet arrives**—**`status`** is a Tweepy **`Status`** object.|\n",
    "| **`on_data(self, data)`** \t| A **tweet arrives**—**`data`** is the **raw JSON** of a Twitter status (tweet).|\n",
    "| **`on_limit(self, track)`** \t| A **limit notice** arrives. This occurs if your search matches more tweets than Twitter can deliver based on its current streaming rate limits. In this case, the limit notice contains the number of matching tweets that could not be delivered.|\n",
    "| **`on_error(self, status_code)`** \t| An **error code** arrives. |\n",
    "| **`on_timeout(self)`** \t| The **connection times out**—that is, the Twitter server is not responding.|\n",
    "| **`on_warning(self, notice)`** \t| **Twitter sends a disconnect warning** to indicate that the connection might be closed. For example, Twitter maintains a queue of the tweets it’s pushing to your app. If the app does not read the tweets fast enough, `on_warning`’s notice argument will contain a warning message indicating that the connection will terminate if the queue becomes full. |"
   ]
  },
  {
   "cell_type": "markdown",
   "metadata": {},
   "source": [
    "<hr style=\"height:2px; border:none; color:#000; background-color:#000;\">"
   ]
  },
  {
   "cell_type": "markdown",
   "metadata": {},
   "source": [
    "### Class `TweetListener` Defined in `tweetlistener.py`\n"
   ]
  },
  {
   "cell_type": "markdown",
   "metadata": {},
   "source": [
    "<hr style=\"height:2px; border:none; color:#000; background-color:#000;\">"
   ]
  },
  {
   "cell_type": "markdown",
   "metadata": {},
   "source": [
    "## 12.13.2 Initiating Stream Processing\n",
    "\n",
    "### Subclass of `tweepy.Stream` Receives Tweets"
   ]
  },
  {
   "cell_type": "code",
   "execution_count": 31,
   "metadata": {},
   "outputs": [],
   "source": [
    "import sys\n",
    "sys.stderr = sys.stdout"
   ]
  },
  {
   "cell_type": "code",
   "execution_count": 32,
   "metadata": {},
   "outputs": [],
   "source": [
    "from tweetlistener import TweetListener"
   ]
  },
  {
   "cell_type": "code",
   "execution_count": 33,
   "metadata": {},
   "outputs": [],
   "source": [
    "tweet_listener = TweetListener(keys.consumer_key, keys.consumer_secret, \n",
    "                               keys.access_token, keys.access_token_secret, limit=5)"
   ]
  },
  {
   "cell_type": "markdown",
   "metadata": {},
   "source": [
    "<hr style=\"height:2px; border:none; color:#000; background-color:#000;\">"
   ]
  },
  {
   "cell_type": "markdown",
   "metadata": {},
   "source": [
    "<!--### Creating a Tweepy **`Stream`** Object to Manage the Connection to the Twitter Stream\n",
    "* Passes the messages to your `TweetListener` \n",
    "\n",
    "# OLD: tweet_stream = tweepy.Stream(auth=api.auth, listener=tweet_listener)\n",
    "\n",
    "<hr style=\"height:2px; border:none; color:#000; background-color:#000;\">\n",
    "-->"
   ]
  },
  {
   "cell_type": "markdown",
   "metadata": {},
   "source": [
    "### Starting the Tweet Stream with the `Stream` Object’s **`filter` Method** \n",
    "* `track` parameter specifies a list of search terms\n",
    "* [Other `filter` method parameters](https://developer.twitter.com/en/docs/tweets/filter-realtime/guides/basic-stream-parameters) for refining your tweet searches\n",
    "* Streaming API returns full tweet **JSON objects** for tweets that match any of the terms, **not just in the tweet’s text, but also in @-mentions, hashtags, expanded URLs and other information**  \n",
    "* Might not see search terms in **tweets' text**"
   ]
  },
  {
   "cell_type": "code",
   "execution_count": 34,
   "metadata": {},
   "outputs": [
    {
     "name": "stdout",
     "output_type": "stream",
     "text": [
      "Connection successful\n",
      "\n",
      "Screen name: LawrenceHurts:\n",
      "   Language: en\n",
      "     Status: RT @datgreatnigga: Adidas makes cuter football jerseys than Nike https://t.co/HsbQyq29j0\n",
      "\n",
      "Screen name: EJ_Will2:\n",
      "   Language: en\n",
      "     Status: Investigation for what?\n",
      "\n",
      "Screen name: Senator_Koti:\n",
      "   Language: in\n",
      "     Status: RT @Senator_Koti: PSG. Dey spoil football😭😭😭\n",
      "\n",
      "Screen name: PURELY_REAL_07:\n",
      "   Language: en\n",
      "     Status: The only way to nullify TOTAL FOOTBALL is by playing GEGENPRESSING and LYON is doing that perfectly.\n",
      "\n",
      "Screen name: ratzinger254:\n",
      "   Language: en\n",
      "     Status: RT @City_Xtra: Reported #ManCity target, Marc Cucurella on his short-term aims: \"The first is to enjoy football, have no injuries, play a l…\n",
      "\n",
      "Stream connection closed by Twitter\n"
     ]
    }
   ],
   "source": [
    "tweet_listener.filter(track=['football'])  #, is_async=True) "
   ]
  },
  {
   "cell_type": "markdown",
   "metadata": {},
   "source": [
    "<hr style=\"height:2px; border:none; color:#000; background-color:#000;\">"
   ]
  },
  {
   "cell_type": "markdown",
   "metadata": {
    "tags": []
   },
   "source": [
    "### **Lecture note: Run remaining cells now so we don't have to wait for streamed tweets later.**\n",
    "\n",
    "### Asynchronous vs. Synchronous Streams\n",
    "* **`is_async=True`** &mdash; would initiate an **asynchronous tweet stream** \n",
    "* Without `is_async=True`, the stream is **synchronous** and the next In [] prompt appears **after the stream terminates**    \n",
    "* in Jupyter, we used a **synchronous stream** ensure that all tweets display\n",
    "* In IPython, can terminate an asynchronous tweet stream early:  \n",
    ">`tweet_stream.running=False`    \n"
   ]
  },
  {
   "cell_type": "markdown",
   "metadata": {},
   "source": [
    "<hr style=\"height:2px; border:none; color:#000; background-color:#000;\">"
   ]
  },
  {
   "cell_type": "markdown",
   "metadata": {},
   "source": [
    "# 12.14 Tweet Sentiment Analysis \n",
    "* Political researchers might use to understand **how people are likely to vote**\n",
    "* Companies might use to see what people are saying about **their products** and **competitors’ products**\n",
    "* Script **`sentimentlistener.py`** checks **sentiment** on a specified topic for a specified number of tweets\n",
    "* The script in this example is substantially the same as the previous example, but uses TextBlob to check the sentiment of each tweet as we did in the NLP presentation"
   ]
  },
  {
   "cell_type": "code",
   "execution_count": 35,
   "metadata": {},
   "outputs": [
    {
     "name": "stdout",
     "output_type": "stream",
     "text": [
      "- norseman79skol: @JBfromMN If I am playing Madden or fantasy football I'm taking Jackson all day. But, I would take Cousins in a legit NFL game against a legit defense. Take away Jackson running and make him go through progressions he will fail every time.\n",
      "\n",
      "  RyanEasterling: The 2023 #illini football recruiting class is 100% homegrown so far, including today's commitment from Wheaton St. Francis lineman @tjmcmillen44. We broke down his junior film and explain what we think he brings to the Illinois program:\n",
      "\n",
      "  GioCav86: @UEFA what do you think about the case #Mbappe ? To those people does football belong? #Ceferin #PSG\n",
      "\n",
      "  TwizerimanaVen5: @AJUreally Football\n",
      "\n",
      "  alfie_west_55: @stevomcl67 but Rangers football Club ARE Scotlands Premier football team, dont you get it, you perform in europe, you get the accolades, how have your outfit performed?\n",
      "\n",
      "  afcdunstableu18: We'd like to thank Matthew Taiwo and all his players in the under 18's Sunday team who finished their weekend youth football with the club. Matthew will be joining the mideeek SCFYL team as a coach along with Dave Collins, @amacagent and @catman2108 next season.\n",
      "\n",
      "  Tybriestensky: Man watched 20 years of TB12 football and thinks the NBA is the only league that rigs games.\n",
      "\n",
      "  DanPentland: Congratulations to everyone at @YorkCityFC. Never thought it was possible this season but they pulled it off. Back to national football! #ycfc\n",
      "\n",
      "+ CristianoTime07: Football will never see a player like Ronaldo the greatest player of all time❤️🙌\n",
      "\n",
      "  DanielAmodeni: @PSG_English Haram football again\n",
      "\n",
      "Stream connection closed by Twitter\n",
      "Tweet sentiment for \"football\"\n",
      "Positive: 1\n",
      " Neutral: 8\n",
      "Negative: 1\n"
     ]
    }
   ],
   "source": [
    "run sentimentlistener.py football 10"
   ]
  },
  {
   "cell_type": "markdown",
   "metadata": {},
   "source": [
    "<hr style=\"height:2px; border:none; color:#000; background-color:#000;\">"
   ]
  },
  {
   "cell_type": "markdown",
   "metadata": {},
   "source": [
    "# 12.15 Geocoding and Mapping\n",
    "* Collect **streaming tweets**, then **plot** their **locations** on an **interactive map**\n",
    "* **Twitter disables precise location info (latitude/longitude) by default** (users must opt in to allowing Twitter to track locations) \n",
    "* Large percentage include the user’s home location information\n",
    "    * Sometimes invalid or fictitious \n",
    "* **Map markers** will show `location` from each tweet’s `User` object"
   ]
  },
  {
   "cell_type": "markdown",
   "metadata": {},
   "source": [
    "<hr style=\"height:2px; border:none; color:#000; background-color:#000;\">"
   ]
  },
  {
   "cell_type": "markdown",
   "metadata": {},
   "source": [
    "### [**geopy** library](https://github.com/geopy/geopy)\n",
    "* **Geocoding**&mdash;translate locations into **latitude** and **longitude**\n",
    "* **geopy** supports dozens of **geocoding web services**, many with **free or lite tiers**\n",
    "* We’ll use **OpenMapQuest geocoding service** "
   ]
  },
  {
   "cell_type": "markdown",
   "metadata": {},
   "source": [
    "<hr style=\"height:2px; border:none; color:#000; background-color:#000;\">"
   ]
  },
  {
   "cell_type": "markdown",
   "metadata": {},
   "source": [
    "### OpenMapQuest Geocoding API (1 of 2)\n",
    "* Convert locations, such as **Boston, MA** into their **latitudes** and **longitudes**, such as **42.3602534** and **-71.0582912**, for plotting on maps\n",
    "* Currently allows **15,000 transactions per month** on their free tier\n",
    "* [Sign up](https://developer.mapquest.com/)\n",
    "* For a presentation of **signing up** and **getting your credentials**, see my [**Python Fundamentals LiveLessons video**](https://learning.oreilly.com/videos/python-fundamentals/9780135917411/9780135917411-PFLL_Lesson12_24) or the [**beginning of Section 12.15 in Python for Programmers**](https://learning.oreilly.com/library/view/python-for-programmers/9780135231364/ch12.xhtml#ch12lev1sec15)"
   ]
  },
  {
   "cell_type": "markdown",
   "metadata": {},
   "source": [
    "<hr style=\"height:2px; border:none; color:#000; background-color:#000;\">"
   ]
  },
  {
   "cell_type": "markdown",
   "metadata": {},
   "source": [
    "### [**folium library**](https://github.com/python-visualization/folium) and Leaflet.js JavaScript Mapping Library\n",
    "* Uses **Leaflet.js JavaScript mapping library** to display maps in a web page \n",
    "* Folium can output **HTML documents** for viewing in a **web browser**\n",
    "* `pip install folium`"
   ]
  },
  {
   "cell_type": "markdown",
   "metadata": {},
   "source": [
    "<hr style=\"height:2px; border:none; color:#000; background-color:#000;\">"
   ]
  },
  {
   "cell_type": "markdown",
   "metadata": {},
   "source": [
    "### Maps from OpenStreetMap.org\n",
    "By default, **Leaflet.js** uses **open source maps** from **`OpenStreetMap.org`**\n",
    "* To use these maps, **they require the following copyright notice**:\n",
    "\n",
    "> `Map data © OpenStreetMap contributors`\n",
    "\n",
    "* They also say: **You must make it clear that the data is available under the Open Database License. This can be achieved by providing a “License” or “Terms” link which links to https://www.openstreetmap.org/copyright or https://www.opendatacommons.org/licenses/odbl/index.html**"
   ]
  },
  {
   "cell_type": "markdown",
   "metadata": {},
   "source": [
    "<hr style=\"height:2px; border:none; color:#000; background-color:#000;\">"
   ]
  },
  {
   "cell_type": "markdown",
   "metadata": {},
   "source": [
    "### Collections Required By `LocationListener`\n",
    "* Requires two collections\n",
    "    * A **list (`tweets`)** to store the tweets we collect \n",
    "    * A **dictionary (`counts`)** to track the **total number of tweets** we collect and the **number that have location data**"
   ]
  },
  {
   "cell_type": "code",
   "execution_count": 36,
   "metadata": {},
   "outputs": [],
   "source": [
    "tweets = [] "
   ]
  },
  {
   "cell_type": "code",
   "execution_count": 37,
   "metadata": {},
   "outputs": [],
   "source": [
    "counts = {'total_tweets': 0, 'locations': 0}"
   ]
  },
  {
   "cell_type": "markdown",
   "metadata": {},
   "source": [
    "<hr style=\"height:2px; border:none; color:#000; background-color:#000;\">"
   ]
  },
  {
   "cell_type": "markdown",
   "metadata": {},
   "source": [
    "### Creating the LocationListener "
   ]
  },
  {
   "cell_type": "code",
   "execution_count": 38,
   "metadata": {},
   "outputs": [],
   "source": [
    "from locationlistener import LocationListener"
   ]
  },
  {
   "cell_type": "code",
   "execution_count": 39,
   "metadata": {},
   "outputs": [],
   "source": [
    "location_listener = LocationListener(keys.consumer_key, keys.consumer_secret, \n",
    "    keys.access_token, keys.access_token_secret, counts_dict=counts, \n",
    "    tweets_list=tweets, topic='football', limit=50)"
   ]
  },
  {
   "cell_type": "markdown",
   "metadata": {},
   "source": [
    "* **`LocationListener`** uses our **utility function `get_tweet_content`** to place each tweets **screen name**, **tweet text** and **location** into a **dictionary**"
   ]
  },
  {
   "cell_type": "markdown",
   "metadata": {},
   "source": [
    "<hr style=\"height:2px; border:none; color:#000; background-color:#000;\">"
   ]
  },
  {
   "cell_type": "markdown",
   "metadata": {},
   "source": [
    "### Configure and Start the Stream of Tweets"
   ]
  },
  {
   "cell_type": "code",
   "execution_count": 40,
   "metadata": {},
   "outputs": [],
   "source": [
    "import tweepy"
   ]
  },
  {
   "cell_type": "code",
   "execution_count": 41,
   "metadata": {},
   "outputs": [
    {
     "name": "stdout",
     "output_type": "stream",
     "text": [
      "50: DrFrankenfear: @Jon_Mackenzie I see arguments in the replies that “we didn’t play as good football under Bielsa team this season”. I can’t disagree. However, the plan/intention to play good, attacking football never left. The point is that, sadly, for many reasons, the execution of the plan was lacking\n",
      "\n",
      "Stream connection closed by Twitter\n"
     ]
    }
   ],
   "source": [
    "location_listener.filter(track=['football'], languages=['en'])"
   ]
  },
  {
   "cell_type": "markdown",
   "metadata": {},
   "source": [
    "<hr style=\"height:2px; border:none; color:#000; background-color:#000;\">"
   ]
  },
  {
   "cell_type": "markdown",
   "metadata": {},
   "source": [
    "### Displaying the Location Statistics "
   ]
  },
  {
   "cell_type": "code",
   "execution_count": 42,
   "metadata": {
    "tags": []
   },
   "outputs": [
    {
     "data": {
      "text/plain": [
       "81"
      ]
     },
     "execution_count": 42,
     "metadata": {},
     "output_type": "execute_result"
    }
   ],
   "source": [
    "counts['total_tweets']"
   ]
  },
  {
   "cell_type": "code",
   "execution_count": 43,
   "metadata": {},
   "outputs": [
    {
     "data": {
      "text/plain": [
       "50"
      ]
     },
     "execution_count": 43,
     "metadata": {},
     "output_type": "execute_result"
    }
   ],
   "source": [
    "counts['locations']"
   ]
  },
  {
   "cell_type": "code",
   "execution_count": 44,
   "metadata": {},
   "outputs": [
    {
     "name": "stdout",
     "output_type": "stream",
     "text": [
      "61.7%\n"
     ]
    }
   ],
   "source": [
    "print(f'{counts[\"locations\"] / counts[\"total_tweets\"]:.1%}')"
   ]
  },
  {
   "cell_type": "markdown",
   "metadata": {},
   "source": [
    "<hr style=\"height:2px; border:none; color:#000; background-color:#000;\">"
   ]
  },
  {
   "cell_type": "markdown",
   "metadata": {},
   "source": [
    "### Geocoding the Locations with Our `get_geocodes` Utility Function \n",
    "* **OpenMapQuest** geocoding service **times out** when it **cannot handle your request immediately**\n",
    "* If so, **`get_geocodes`** **notifies** you, **waits**, then **retries** the request"
   ]
  },
  {
   "cell_type": "code",
   "execution_count": 45,
   "metadata": {},
   "outputs": [],
   "source": [
    "from tweetutilities import get_geocodes"
   ]
  },
  {
   "cell_type": "code",
   "execution_count": 46,
   "metadata": {},
   "outputs": [
    {
     "name": "stdout",
     "output_type": "stream",
     "text": [
      "Getting coordinates for tweet locations...\n",
      "Done geocoding\n"
     ]
    }
   ],
   "source": [
    "bad_locations = get_geocodes(tweets)"
   ]
  },
  {
   "cell_type": "markdown",
   "metadata": {},
   "source": [
    "<hr style=\"height:2px; border:none; color:#000; background-color:#000;\">"
   ]
  },
  {
   "cell_type": "markdown",
   "metadata": {},
   "source": [
    "### Displaying the Bad Location Statistics"
   ]
  },
  {
   "cell_type": "code",
   "execution_count": 47,
   "metadata": {},
   "outputs": [
    {
     "data": {
      "text/plain": [
       "8"
      ]
     },
     "execution_count": 47,
     "metadata": {},
     "output_type": "execute_result"
    }
   ],
   "source": [
    "bad_locations"
   ]
  },
  {
   "cell_type": "code",
   "execution_count": 48,
   "metadata": {},
   "outputs": [
    {
     "name": "stdout",
     "output_type": "stream",
     "text": [
      "16.0%\n"
     ]
    }
   ],
   "source": [
    "print(f'{bad_locations / counts[\"locations\"]:.1%}')"
   ]
  },
  {
   "cell_type": "markdown",
   "metadata": {},
   "source": [
    "<hr style=\"height:2px; border:none; color:#000; background-color:#000;\">"
   ]
  },
  {
   "cell_type": "markdown",
   "metadata": {},
   "source": [
    "### Cleaning the Data with a pandas `DataFrame` Before Displaying the Data on a Map\n",
    "* `DataFrame` will contain **`NaN`** for the **`latitude`** and **`longitude`** of any tweet that **did not have a valid location**\n",
    "* Remove any such via `DataFrame`’s **`dropna` method** "
   ]
  },
  {
   "cell_type": "code",
   "execution_count": 49,
   "metadata": {},
   "outputs": [],
   "source": [
    "import pandas as pd"
   ]
  },
  {
   "cell_type": "code",
   "execution_count": 50,
   "metadata": {},
   "outputs": [],
   "source": [
    "df = pd.DataFrame(tweets)"
   ]
  },
  {
   "cell_type": "code",
   "execution_count": 51,
   "metadata": {},
   "outputs": [
    {
     "data": {
      "text/html": [
       "<div>\n",
       "<style scoped>\n",
       "    .dataframe tbody tr th:only-of-type {\n",
       "        vertical-align: middle;\n",
       "    }\n",
       "\n",
       "    .dataframe tbody tr th {\n",
       "        vertical-align: top;\n",
       "    }\n",
       "\n",
       "    .dataframe thead th {\n",
       "        text-align: right;\n",
       "    }\n",
       "</style>\n",
       "<table border=\"1\" class=\"dataframe\">\n",
       "  <thead>\n",
       "    <tr style=\"text-align: right;\">\n",
       "      <th></th>\n",
       "      <th>screen_name</th>\n",
       "      <th>text</th>\n",
       "      <th>location</th>\n",
       "      <th>latitude</th>\n",
       "      <th>longitude</th>\n",
       "    </tr>\n",
       "  </thead>\n",
       "  <tbody>\n",
       "    <tr>\n",
       "      <th>0</th>\n",
       "      <td>squire_joel</td>\n",
       "      <td>@kobbyskary @ClintonSpel @SaddickAdams @Maynia...</td>\n",
       "      <td>Al Mahboula, Kuwait</td>\n",
       "      <td>29.149127</td>\n",
       "      <td>48.119043</td>\n",
       "    </tr>\n",
       "    <tr>\n",
       "      <th>1</th>\n",
       "      <td>Caroline1mcd</td>\n",
       "      <td>Il y a 200 000 personnes qui regardent le live...</td>\n",
       "      <td>Washington, DC &amp; London</td>\n",
       "      <td>39.422047</td>\n",
       "      <td>-77.253038</td>\n",
       "    </tr>\n",
       "    <tr>\n",
       "      <th>2</th>\n",
       "      <td>KillSwitchSLL</td>\n",
       "      <td>@gorka0013 @KingMabeko4 @FabrizioRomano Sadly ...</td>\n",
       "      <td>New Zealand</td>\n",
       "      <td>-41.500083</td>\n",
       "      <td>172.834408</td>\n",
       "    </tr>\n",
       "    <tr>\n",
       "      <th>3</th>\n",
       "      <td>kazgti</td>\n",
       "      <td>@CraigBlyth11 @SunderlandAFC Thanks Craig. Tho...</td>\n",
       "      <td>Co Durham</td>\n",
       "      <td>54.666667</td>\n",
       "      <td>-1.750000</td>\n",
       "    </tr>\n",
       "    <tr>\n",
       "      <th>4</th>\n",
       "      <td>eazy_boris</td>\n",
       "      <td>@FabrizioRomano One player leads to the depart...</td>\n",
       "      <td>Some where in the north</td>\n",
       "      <td>NaN</td>\n",
       "      <td>NaN</td>\n",
       "    </tr>\n",
       "    <tr>\n",
       "      <th>5</th>\n",
       "      <td>BollaboKeith</td>\n",
       "      <td>First experience of ref abuse today. Sweary, a...</td>\n",
       "      <td>Liverpool</td>\n",
       "      <td>53.405472</td>\n",
       "      <td>-2.980539</td>\n",
       "    </tr>\n",
       "    <tr>\n",
       "      <th>6</th>\n",
       "      <td>derron82</td>\n",
       "      <td>@itsbostoncream ove the line he doesn't draft ...</td>\n",
       "      <td>Salem, MA</td>\n",
       "      <td>42.519529</td>\n",
       "      <td>-70.896723</td>\n",
       "    </tr>\n",
       "    <tr>\n",
       "      <th>7</th>\n",
       "      <td>Calacus_PR</td>\n",
       "      <td>When football fandom is beautiful</td>\n",
       "      <td>London</td>\n",
       "      <td>51.507322</td>\n",
       "      <td>-0.127647</td>\n",
       "    </tr>\n",
       "    <tr>\n",
       "      <th>8</th>\n",
       "      <td>lastdanceszn</td>\n",
       "      <td>@ppanagopoulos11 You know i went to football g...</td>\n",
       "      <td>Norway</td>\n",
       "      <td>60.500021</td>\n",
       "      <td>9.099972</td>\n",
       "    </tr>\n",
       "    <tr>\n",
       "      <th>9</th>\n",
       "      <td>IamJegan</td>\n",
       "      <td>Imagine having no fans of your favourite team ...</td>\n",
       "      <td>Tuticorin / Chennai</td>\n",
       "      <td>NaN</td>\n",
       "      <td>NaN</td>\n",
       "    </tr>\n",
       "    <tr>\n",
       "      <th>10</th>\n",
       "      <td>JHerra18</td>\n",
       "      <td>The best football shirts for the best football...</td>\n",
       "      <td>Sunderland, England</td>\n",
       "      <td>54.906379</td>\n",
       "      <td>-1.375053</td>\n",
       "    </tr>\n",
       "    <tr>\n",
       "      <th>11</th>\n",
       "      <td>Odukoyafemzie95</td>\n",
       "      <td>@ijustcumed @PoojaMedia @DeBruyneKev Football ...</td>\n",
       "      <td>Surulere</td>\n",
       "      <td>8.095588</td>\n",
       "      <td>4.412962</td>\n",
       "    </tr>\n",
       "    <tr>\n",
       "      <th>12</th>\n",
       "      <td>Opexie</td>\n",
       "      <td>@IronPablo_ @barstoolsports Let's see if that ...</td>\n",
       "      <td>Miami, FL</td>\n",
       "      <td>25.774266</td>\n",
       "      <td>-80.193659</td>\n",
       "    </tr>\n",
       "    <tr>\n",
       "      <th>13</th>\n",
       "      <td>EkengEsmeralda</td>\n",
       "      <td>@indypremium Who even let this happen? My niec...</td>\n",
       "      <td>Nigeria</td>\n",
       "      <td>9.600036</td>\n",
       "      <td>7.999972</td>\n",
       "    </tr>\n",
       "    <tr>\n",
       "      <th>14</th>\n",
       "      <td>TheNotoriousAJ_</td>\n",
       "      <td>I really want to join a flag football league t...</td>\n",
       "      <td>HTX</td>\n",
       "      <td>29.755375</td>\n",
       "      <td>-95.355304</td>\n",
       "    </tr>\n",
       "    <tr>\n",
       "      <th>15</th>\n",
       "      <td>JackC1872</td>\n",
       "      <td>@piperpeter008 Aye because the Norwegian leagu...</td>\n",
       "      <td>Glasgow, Scotland</td>\n",
       "      <td>55.856656</td>\n",
       "      <td>-4.243582</td>\n",
       "    </tr>\n",
       "    <tr>\n",
       "      <th>16</th>\n",
       "      <td>AshleyPower123</td>\n",
       "      <td>Is it possible to filter out all football rela...</td>\n",
       "      <td>Bournemouth</td>\n",
       "      <td>50.744670</td>\n",
       "      <td>-1.857981</td>\n",
       "    </tr>\n",
       "    <tr>\n",
       "      <th>17</th>\n",
       "      <td>TheKr3ature</td>\n",
       "      <td>@bhozalam05 Probably preparing for Monday nigh...</td>\n",
       "      <td>Johannesburg, South Africa</td>\n",
       "      <td>-26.205000</td>\n",
       "      <td>28.049722</td>\n",
       "    </tr>\n",
       "    <tr>\n",
       "      <th>18</th>\n",
       "      <td>CringeCyanide</td>\n",
       "      <td>@T10Artist This is how Stewie Griffin got his ...</td>\n",
       "      <td>Doomerville USA</td>\n",
       "      <td>NaN</td>\n",
       "      <td>NaN</td>\n",
       "    </tr>\n",
       "    <tr>\n",
       "      <th>19</th>\n",
       "      <td>A1anJr</td>\n",
       "      <td>Thankful for this fluke ass football league th...</td>\n",
       "      <td>Out the way..</td>\n",
       "      <td>36.556516</td>\n",
       "      <td>44.349781</td>\n",
       "    </tr>\n",
       "    <tr>\n",
       "      <th>20</th>\n",
       "      <td>DKBrodie7</td>\n",
       "      <td>My calf is injured from football 😭</td>\n",
       "      <td>London, England</td>\n",
       "      <td>51.507322</td>\n",
       "      <td>-0.127647</td>\n",
       "    </tr>\n",
       "    <tr>\n",
       "      <th>21</th>\n",
       "      <td>Rob19_06</td>\n",
       "      <td>@Football__Tweet Football gone mad</td>\n",
       "      <td>England, United Kingdom</td>\n",
       "      <td>52.795479</td>\n",
       "      <td>-0.540240</td>\n",
       "    </tr>\n",
       "    <tr>\n",
       "      <th>22</th>\n",
       "      <td>ManchesterDrb</td>\n",
       "      <td>Kylian #Mbappe: La Liga chief scalds 'dangerou...</td>\n",
       "      <td>Manchester</td>\n",
       "      <td>53.479130</td>\n",
       "      <td>-2.244101</td>\n",
       "    </tr>\n",
       "    <tr>\n",
       "      <th>23</th>\n",
       "      <td>TheAdabor</td>\n",
       "      <td>@BekoeIshmaeI @OtiAdjei PSG and Ceferin wants ...</td>\n",
       "      <td>Kumasi, Ghana</td>\n",
       "      <td>6.698081</td>\n",
       "      <td>-1.623040</td>\n",
       "    </tr>\n",
       "    <tr>\n",
       "      <th>24</th>\n",
       "      <td>MarioLunaFC</td>\n",
       "      <td>My every bloody thought, Barça, Women’s footba...</td>\n",
       "      <td>Somewhere</td>\n",
       "      <td>48.691701</td>\n",
       "      <td>6.183774</td>\n",
       "    </tr>\n",
       "    <tr>\n",
       "      <th>25</th>\n",
       "      <td>nochdawe</td>\n",
       "      <td>@lolo_davids The end of football as I knew it....</td>\n",
       "      <td>UK ~@ The Kop End Of Anfield~</td>\n",
       "      <td>NaN</td>\n",
       "      <td>NaN</td>\n",
       "    </tr>\n",
       "    <tr>\n",
       "      <th>26</th>\n",
       "      <td>REV_Kramer</td>\n",
       "      <td>@JustinHendon7 @PFF_Fantasy Not trying to play...</td>\n",
       "      <td>Florida</td>\n",
       "      <td>27.756767</td>\n",
       "      <td>-81.463983</td>\n",
       "    </tr>\n",
       "    <tr>\n",
       "      <th>27</th>\n",
       "      <td>Dorothy90237074</td>\n",
       "      <td>Men's Scotland Football Games on either ITV or...</td>\n",
       "      <td>Cumbernauld Scotland</td>\n",
       "      <td>55.947776</td>\n",
       "      <td>-3.988257</td>\n",
       "    </tr>\n",
       "    <tr>\n",
       "      <th>28</th>\n",
       "      <td>vcantweet</td>\n",
       "      <td>Wow everybody in german football seems to hate...</td>\n",
       "      <td>Earth</td>\n",
       "      <td>34.233137</td>\n",
       "      <td>-102.410749</td>\n",
       "    </tr>\n",
       "    <tr>\n",
       "      <th>29</th>\n",
       "      <td>DailyCaller</td>\n",
       "      <td>Famous Football Coach And Former NFL Player Di...</td>\n",
       "      <td>Washington, DC</td>\n",
       "      <td>38.894955</td>\n",
       "      <td>-77.036646</td>\n",
       "    </tr>\n",
       "    <tr>\n",
       "      <th>30</th>\n",
       "      <td>coachosborn94</td>\n",
       "      <td>Appreciate @CoachBenBlake for stopping by to t...</td>\n",
       "      <td>El Cajon, CA</td>\n",
       "      <td>32.794773</td>\n",
       "      <td>-116.962527</td>\n",
       "    </tr>\n",
       "    <tr>\n",
       "      <th>31</th>\n",
       "      <td>UEFAcomPaulS</td>\n",
       "      <td>I really like football #UWCLfinall</td>\n",
       "      <td>Planet Football</td>\n",
       "      <td>12.931356</td>\n",
       "      <td>100.943645</td>\n",
       "    </tr>\n",
       "    <tr>\n",
       "      <th>32</th>\n",
       "      <td>altrinchamfc</td>\n",
       "      <td>Quote from new skipper @JHulme1 \\n\\n“It’s exci...</td>\n",
       "      <td>J Davidson Stadium, Altrincham</td>\n",
       "      <td>53.383384</td>\n",
       "      <td>-2.335228</td>\n",
       "    </tr>\n",
       "    <tr>\n",
       "      <th>33</th>\n",
       "      <td>mcfcmolly</td>\n",
       "      <td>Im having to run from the train station to my ...</td>\n",
       "      <td>football ღ</td>\n",
       "      <td>NaN</td>\n",
       "      <td>NaN</td>\n",
       "    </tr>\n",
       "    <tr>\n",
       "      <th>34</th>\n",
       "      <td>AFIReview</td>\n",
       "      <td>Egyptian National Football League kicked off 8...</td>\n",
       "      <td>New York, NY</td>\n",
       "      <td>40.730646</td>\n",
       "      <td>-73.986614</td>\n",
       "    </tr>\n",
       "    <tr>\n",
       "      <th>35</th>\n",
       "      <td>birdmac25</td>\n",
       "      <td>Just wanted tell you thank you for everything ...</td>\n",
       "      <td>Camden,SC</td>\n",
       "      <td>34.246539</td>\n",
       "      <td>-80.607024</td>\n",
       "    </tr>\n",
       "    <tr>\n",
       "      <th>36</th>\n",
       "      <td>FrankyRN51</td>\n",
       "      <td>@mrewanmurray Do you actually know how footbal...</td>\n",
       "      <td>Follows you</td>\n",
       "      <td>34.233684</td>\n",
       "      <td>-117.805586</td>\n",
       "    </tr>\n",
       "    <tr>\n",
       "      <th>37</th>\n",
       "      <td>AZCapsFan</td>\n",
       "      <td>@JasonKe34830171 OMG YES, playing \"Smear the Q...</td>\n",
       "      <td>Mesa, AZ via Chi-Town and NoVa</td>\n",
       "      <td>NaN</td>\n",
       "      <td>NaN</td>\n",
       "    </tr>\n",
       "    <tr>\n",
       "      <th>38</th>\n",
       "      <td>RyanSheehan92</td>\n",
       "      <td>So refreshing listening to these two talk, the...</td>\n",
       "      <td>Reading</td>\n",
       "      <td>51.456659</td>\n",
       "      <td>-0.969651</td>\n",
       "    </tr>\n",
       "    <tr>\n",
       "      <th>39</th>\n",
       "      <td>TimiFrost</td>\n",
       "      <td>Didn't move for Haaland because they thought M...</td>\n",
       "      <td>Nigeria || Asgard || Wakanda</td>\n",
       "      <td>NaN</td>\n",
       "      <td>NaN</td>\n",
       "    </tr>\n",
       "    <tr>\n",
       "      <th>40</th>\n",
       "      <td>hoganmark</td>\n",
       "      <td>@elitetakes_ All of the Allen &amp;gt; Mahomes tak...</td>\n",
       "      <td>Aiea, HI</td>\n",
       "      <td>21.382222</td>\n",
       "      <td>-157.933611</td>\n",
       "    </tr>\n",
       "    <tr>\n",
       "      <th>41</th>\n",
       "      <td>Finlaybob301</td>\n",
       "      <td>@goingfor53 @John221975 @ItsStephsParty Depend...</td>\n",
       "      <td>UK</td>\n",
       "      <td>54.702354</td>\n",
       "      <td>-3.276575</td>\n",
       "    </tr>\n",
       "    <tr>\n",
       "      <th>42</th>\n",
       "      <td>CallumR1874</td>\n",
       "      <td>Another toothless display in Glasgow , but fin...</td>\n",
       "      <td>Bathgate, Scotland</td>\n",
       "      <td>55.898533</td>\n",
       "      <td>-3.640159</td>\n",
       "    </tr>\n",
       "    <tr>\n",
       "      <th>43</th>\n",
       "      <td>LegendPeteHolt</td>\n",
       "      <td>@Muppetiers Nothing has changed. Keep Ronaldo ...</td>\n",
       "      <td>Peoples Republic of Mancunia</td>\n",
       "      <td>NaN</td>\n",
       "      <td>NaN</td>\n",
       "    </tr>\n",
       "    <tr>\n",
       "      <th>44</th>\n",
       "      <td>Kail1967</td>\n",
       "      <td>He tries not to be a result based manager? the...</td>\n",
       "      <td>South Wales</td>\n",
       "      <td>42.708949</td>\n",
       "      <td>-78.578080</td>\n",
       "    </tr>\n",
       "    <tr>\n",
       "      <th>45</th>\n",
       "      <td>rvfc2009</td>\n",
       "      <td>@PodcastSelk @deloldfield4 A announcement as t...</td>\n",
       "      <td>the oaks</td>\n",
       "      <td>38.904625</td>\n",
       "      <td>-123.226118</td>\n",
       "    </tr>\n",
       "    <tr>\n",
       "      <th>46</th>\n",
       "      <td>MarleneEurell</td>\n",
       "      <td>Music to my ears😊Football killed them real dea...</td>\n",
       "      <td>The Oaks🖤🇿🇦</td>\n",
       "      <td>38.904625</td>\n",
       "      <td>-123.226118</td>\n",
       "    </tr>\n",
       "    <tr>\n",
       "      <th>47</th>\n",
       "      <td>UEFAcomPaulS</td>\n",
       "      <td>I really like football #UWCLfinal</td>\n",
       "      <td>Planet Football</td>\n",
       "      <td>12.931356</td>\n",
       "      <td>100.943645</td>\n",
       "    </tr>\n",
       "    <tr>\n",
       "      <th>48</th>\n",
       "      <td>nathan_oji</td>\n",
       "      <td>@efesmallz_ @papzci The currently have the wor...</td>\n",
       "      <td>Kaduna, Nigeria</td>\n",
       "      <td>10.382532</td>\n",
       "      <td>7.853323</td>\n",
       "    </tr>\n",
       "    <tr>\n",
       "      <th>49</th>\n",
       "      <td>DrFrankenfear</td>\n",
       "      <td>@Jon_Mackenzie I see arguments in the replies ...</td>\n",
       "      <td>UK</td>\n",
       "      <td>54.702354</td>\n",
       "      <td>-3.276575</td>\n",
       "    </tr>\n",
       "  </tbody>\n",
       "</table>\n",
       "</div>"
      ],
      "text/plain": [
       "        screen_name                                               text  \\\n",
       "0       squire_joel  @kobbyskary @ClintonSpel @SaddickAdams @Maynia...   \n",
       "1      Caroline1mcd  Il y a 200 000 personnes qui regardent le live...   \n",
       "2     KillSwitchSLL  @gorka0013 @KingMabeko4 @FabrizioRomano Sadly ...   \n",
       "3            kazgti  @CraigBlyth11 @SunderlandAFC Thanks Craig. Tho...   \n",
       "4        eazy_boris  @FabrizioRomano One player leads to the depart...   \n",
       "5      BollaboKeith  First experience of ref abuse today. Sweary, a...   \n",
       "6          derron82  @itsbostoncream ove the line he doesn't draft ...   \n",
       "7        Calacus_PR                  When football fandom is beautiful   \n",
       "8      lastdanceszn  @ppanagopoulos11 You know i went to football g...   \n",
       "9          IamJegan  Imagine having no fans of your favourite team ...   \n",
       "10         JHerra18  The best football shirts for the best football...   \n",
       "11  Odukoyafemzie95  @ijustcumed @PoojaMedia @DeBruyneKev Football ...   \n",
       "12           Opexie  @IronPablo_ @barstoolsports Let's see if that ...   \n",
       "13   EkengEsmeralda  @indypremium Who even let this happen? My niec...   \n",
       "14  TheNotoriousAJ_  I really want to join a flag football league t...   \n",
       "15        JackC1872  @piperpeter008 Aye because the Norwegian leagu...   \n",
       "16   AshleyPower123  Is it possible to filter out all football rela...   \n",
       "17      TheKr3ature  @bhozalam05 Probably preparing for Monday nigh...   \n",
       "18    CringeCyanide  @T10Artist This is how Stewie Griffin got his ...   \n",
       "19           A1anJr  Thankful for this fluke ass football league th...   \n",
       "20        DKBrodie7                 My calf is injured from football 😭   \n",
       "21         Rob19_06                 @Football__Tweet Football gone mad   \n",
       "22    ManchesterDrb  Kylian #Mbappe: La Liga chief scalds 'dangerou...   \n",
       "23        TheAdabor  @BekoeIshmaeI @OtiAdjei PSG and Ceferin wants ...   \n",
       "24      MarioLunaFC  My every bloody thought, Barça, Women’s footba...   \n",
       "25         nochdawe  @lolo_davids The end of football as I knew it....   \n",
       "26       REV_Kramer  @JustinHendon7 @PFF_Fantasy Not trying to play...   \n",
       "27  Dorothy90237074  Men's Scotland Football Games on either ITV or...   \n",
       "28        vcantweet  Wow everybody in german football seems to hate...   \n",
       "29      DailyCaller  Famous Football Coach And Former NFL Player Di...   \n",
       "30    coachosborn94  Appreciate @CoachBenBlake for stopping by to t...   \n",
       "31     UEFAcomPaulS                 I really like football #UWCLfinall   \n",
       "32     altrinchamfc  Quote from new skipper @JHulme1 \\n\\n“It’s exci...   \n",
       "33        mcfcmolly  Im having to run from the train station to my ...   \n",
       "34        AFIReview  Egyptian National Football League kicked off 8...   \n",
       "35        birdmac25  Just wanted tell you thank you for everything ...   \n",
       "36       FrankyRN51  @mrewanmurray Do you actually know how footbal...   \n",
       "37        AZCapsFan  @JasonKe34830171 OMG YES, playing \"Smear the Q...   \n",
       "38    RyanSheehan92  So refreshing listening to these two talk, the...   \n",
       "39        TimiFrost  Didn't move for Haaland because they thought M...   \n",
       "40        hoganmark  @elitetakes_ All of the Allen &gt; Mahomes tak...   \n",
       "41     Finlaybob301  @goingfor53 @John221975 @ItsStephsParty Depend...   \n",
       "42      CallumR1874  Another toothless display in Glasgow , but fin...   \n",
       "43   LegendPeteHolt  @Muppetiers Nothing has changed. Keep Ronaldo ...   \n",
       "44         Kail1967  He tries not to be a result based manager? the...   \n",
       "45         rvfc2009  @PodcastSelk @deloldfield4 A announcement as t...   \n",
       "46    MarleneEurell  Music to my ears😊Football killed them real dea...   \n",
       "47     UEFAcomPaulS                  I really like football #UWCLfinal   \n",
       "48       nathan_oji  @efesmallz_ @papzci The currently have the wor...   \n",
       "49    DrFrankenfear  @Jon_Mackenzie I see arguments in the replies ...   \n",
       "\n",
       "                          location   latitude   longitude  \n",
       "0              Al Mahboula, Kuwait  29.149127   48.119043  \n",
       "1          Washington, DC & London  39.422047  -77.253038  \n",
       "2                      New Zealand -41.500083  172.834408  \n",
       "3                        Co Durham  54.666667   -1.750000  \n",
       "4         Some where in the north         NaN         NaN  \n",
       "5                        Liverpool  53.405472   -2.980539  \n",
       "6                        Salem, MA  42.519529  -70.896723  \n",
       "7                           London  51.507322   -0.127647  \n",
       "8                          Norway   60.500021    9.099972  \n",
       "9              Tuticorin / Chennai        NaN         NaN  \n",
       "10             Sunderland, England  54.906379   -1.375053  \n",
       "11                        Surulere   8.095588    4.412962  \n",
       "12                       Miami, FL  25.774266  -80.193659  \n",
       "13                         Nigeria   9.600036    7.999972  \n",
       "14                             HTX  29.755375  -95.355304  \n",
       "15               Glasgow, Scotland  55.856656   -4.243582  \n",
       "16                     Bournemouth  50.744670   -1.857981  \n",
       "17      Johannesburg, South Africa -26.205000   28.049722  \n",
       "18                 Doomerville USA        NaN         NaN  \n",
       "19                   Out the way..  36.556516   44.349781  \n",
       "20                 London, England  51.507322   -0.127647  \n",
       "21         England, United Kingdom  52.795479   -0.540240  \n",
       "22                      Manchester  53.479130   -2.244101  \n",
       "23                   Kumasi, Ghana   6.698081   -1.623040  \n",
       "24                       Somewhere  48.691701    6.183774  \n",
       "25  UK ~@ The Kop End Of Anfield~         NaN         NaN  \n",
       "26                         Florida  27.756767  -81.463983  \n",
       "27           Cumbernauld Scotland   55.947776   -3.988257  \n",
       "28                           Earth  34.233137 -102.410749  \n",
       "29                  Washington, DC  38.894955  -77.036646  \n",
       "30                    El Cajon, CA  32.794773 -116.962527  \n",
       "31                 Planet Football  12.931356  100.943645  \n",
       "32  J Davidson Stadium, Altrincham  53.383384   -2.335228  \n",
       "33                      football ღ        NaN         NaN  \n",
       "34                    New York, NY  40.730646  -73.986614  \n",
       "35                       Camden,SC  34.246539  -80.607024  \n",
       "36                     Follows you  34.233684 -117.805586  \n",
       "37  Mesa, AZ via Chi-Town and NoVa        NaN         NaN  \n",
       "38                         Reading  51.456659   -0.969651  \n",
       "39    Nigeria || Asgard || Wakanda        NaN         NaN  \n",
       "40                        Aiea, HI  21.382222 -157.933611  \n",
       "41                              UK  54.702354   -3.276575  \n",
       "42              Bathgate, Scotland  55.898533   -3.640159  \n",
       "43    Peoples Republic of Mancunia        NaN         NaN  \n",
       "44                     South Wales  42.708949  -78.578080  \n",
       "45                       the oaks   38.904625 -123.226118  \n",
       "46                     The Oaks🖤🇿🇦  38.904625 -123.226118  \n",
       "47                 Planet Football  12.931356  100.943645  \n",
       "48                 Kaduna, Nigeria  10.382532    7.853323  \n",
       "49                              UK  54.702354   -3.276575  "
      ]
     },
     "execution_count": 51,
     "metadata": {},
     "output_type": "execute_result"
    }
   ],
   "source": [
    "df"
   ]
  },
  {
   "cell_type": "code",
   "execution_count": 52,
   "metadata": {},
   "outputs": [],
   "source": [
    "df = df.dropna()"
   ]
  },
  {
   "cell_type": "code",
   "execution_count": 53,
   "metadata": {},
   "outputs": [
    {
     "data": {
      "text/html": [
       "<div>\n",
       "<style scoped>\n",
       "    .dataframe tbody tr th:only-of-type {\n",
       "        vertical-align: middle;\n",
       "    }\n",
       "\n",
       "    .dataframe tbody tr th {\n",
       "        vertical-align: top;\n",
       "    }\n",
       "\n",
       "    .dataframe thead th {\n",
       "        text-align: right;\n",
       "    }\n",
       "</style>\n",
       "<table border=\"1\" class=\"dataframe\">\n",
       "  <thead>\n",
       "    <tr style=\"text-align: right;\">\n",
       "      <th></th>\n",
       "      <th>screen_name</th>\n",
       "      <th>text</th>\n",
       "      <th>location</th>\n",
       "      <th>latitude</th>\n",
       "      <th>longitude</th>\n",
       "    </tr>\n",
       "  </thead>\n",
       "  <tbody>\n",
       "    <tr>\n",
       "      <th>0</th>\n",
       "      <td>squire_joel</td>\n",
       "      <td>@kobbyskary @ClintonSpel @SaddickAdams @Maynia...</td>\n",
       "      <td>Al Mahboula, Kuwait</td>\n",
       "      <td>29.149127</td>\n",
       "      <td>48.119043</td>\n",
       "    </tr>\n",
       "    <tr>\n",
       "      <th>1</th>\n",
       "      <td>Caroline1mcd</td>\n",
       "      <td>Il y a 200 000 personnes qui regardent le live...</td>\n",
       "      <td>Washington, DC &amp; London</td>\n",
       "      <td>39.422047</td>\n",
       "      <td>-77.253038</td>\n",
       "    </tr>\n",
       "    <tr>\n",
       "      <th>2</th>\n",
       "      <td>KillSwitchSLL</td>\n",
       "      <td>@gorka0013 @KingMabeko4 @FabrizioRomano Sadly ...</td>\n",
       "      <td>New Zealand</td>\n",
       "      <td>-41.500083</td>\n",
       "      <td>172.834408</td>\n",
       "    </tr>\n",
       "    <tr>\n",
       "      <th>3</th>\n",
       "      <td>kazgti</td>\n",
       "      <td>@CraigBlyth11 @SunderlandAFC Thanks Craig. Tho...</td>\n",
       "      <td>Co Durham</td>\n",
       "      <td>54.666667</td>\n",
       "      <td>-1.750000</td>\n",
       "    </tr>\n",
       "    <tr>\n",
       "      <th>5</th>\n",
       "      <td>BollaboKeith</td>\n",
       "      <td>First experience of ref abuse today. Sweary, a...</td>\n",
       "      <td>Liverpool</td>\n",
       "      <td>53.405472</td>\n",
       "      <td>-2.980539</td>\n",
       "    </tr>\n",
       "    <tr>\n",
       "      <th>6</th>\n",
       "      <td>derron82</td>\n",
       "      <td>@itsbostoncream ove the line he doesn't draft ...</td>\n",
       "      <td>Salem, MA</td>\n",
       "      <td>42.519529</td>\n",
       "      <td>-70.896723</td>\n",
       "    </tr>\n",
       "    <tr>\n",
       "      <th>7</th>\n",
       "      <td>Calacus_PR</td>\n",
       "      <td>When football fandom is beautiful</td>\n",
       "      <td>London</td>\n",
       "      <td>51.507322</td>\n",
       "      <td>-0.127647</td>\n",
       "    </tr>\n",
       "    <tr>\n",
       "      <th>8</th>\n",
       "      <td>lastdanceszn</td>\n",
       "      <td>@ppanagopoulos11 You know i went to football g...</td>\n",
       "      <td>Norway</td>\n",
       "      <td>60.500021</td>\n",
       "      <td>9.099972</td>\n",
       "    </tr>\n",
       "    <tr>\n",
       "      <th>10</th>\n",
       "      <td>JHerra18</td>\n",
       "      <td>The best football shirts for the best football...</td>\n",
       "      <td>Sunderland, England</td>\n",
       "      <td>54.906379</td>\n",
       "      <td>-1.375053</td>\n",
       "    </tr>\n",
       "    <tr>\n",
       "      <th>11</th>\n",
       "      <td>Odukoyafemzie95</td>\n",
       "      <td>@ijustcumed @PoojaMedia @DeBruyneKev Football ...</td>\n",
       "      <td>Surulere</td>\n",
       "      <td>8.095588</td>\n",
       "      <td>4.412962</td>\n",
       "    </tr>\n",
       "    <tr>\n",
       "      <th>12</th>\n",
       "      <td>Opexie</td>\n",
       "      <td>@IronPablo_ @barstoolsports Let's see if that ...</td>\n",
       "      <td>Miami, FL</td>\n",
       "      <td>25.774266</td>\n",
       "      <td>-80.193659</td>\n",
       "    </tr>\n",
       "    <tr>\n",
       "      <th>13</th>\n",
       "      <td>EkengEsmeralda</td>\n",
       "      <td>@indypremium Who even let this happen? My niec...</td>\n",
       "      <td>Nigeria</td>\n",
       "      <td>9.600036</td>\n",
       "      <td>7.999972</td>\n",
       "    </tr>\n",
       "    <tr>\n",
       "      <th>14</th>\n",
       "      <td>TheNotoriousAJ_</td>\n",
       "      <td>I really want to join a flag football league t...</td>\n",
       "      <td>HTX</td>\n",
       "      <td>29.755375</td>\n",
       "      <td>-95.355304</td>\n",
       "    </tr>\n",
       "    <tr>\n",
       "      <th>15</th>\n",
       "      <td>JackC1872</td>\n",
       "      <td>@piperpeter008 Aye because the Norwegian leagu...</td>\n",
       "      <td>Glasgow, Scotland</td>\n",
       "      <td>55.856656</td>\n",
       "      <td>-4.243582</td>\n",
       "    </tr>\n",
       "    <tr>\n",
       "      <th>16</th>\n",
       "      <td>AshleyPower123</td>\n",
       "      <td>Is it possible to filter out all football rela...</td>\n",
       "      <td>Bournemouth</td>\n",
       "      <td>50.744670</td>\n",
       "      <td>-1.857981</td>\n",
       "    </tr>\n",
       "    <tr>\n",
       "      <th>17</th>\n",
       "      <td>TheKr3ature</td>\n",
       "      <td>@bhozalam05 Probably preparing for Monday nigh...</td>\n",
       "      <td>Johannesburg, South Africa</td>\n",
       "      <td>-26.205000</td>\n",
       "      <td>28.049722</td>\n",
       "    </tr>\n",
       "    <tr>\n",
       "      <th>19</th>\n",
       "      <td>A1anJr</td>\n",
       "      <td>Thankful for this fluke ass football league th...</td>\n",
       "      <td>Out the way..</td>\n",
       "      <td>36.556516</td>\n",
       "      <td>44.349781</td>\n",
       "    </tr>\n",
       "    <tr>\n",
       "      <th>20</th>\n",
       "      <td>DKBrodie7</td>\n",
       "      <td>My calf is injured from football 😭</td>\n",
       "      <td>London, England</td>\n",
       "      <td>51.507322</td>\n",
       "      <td>-0.127647</td>\n",
       "    </tr>\n",
       "    <tr>\n",
       "      <th>21</th>\n",
       "      <td>Rob19_06</td>\n",
       "      <td>@Football__Tweet Football gone mad</td>\n",
       "      <td>England, United Kingdom</td>\n",
       "      <td>52.795479</td>\n",
       "      <td>-0.540240</td>\n",
       "    </tr>\n",
       "    <tr>\n",
       "      <th>22</th>\n",
       "      <td>ManchesterDrb</td>\n",
       "      <td>Kylian #Mbappe: La Liga chief scalds 'dangerou...</td>\n",
       "      <td>Manchester</td>\n",
       "      <td>53.479130</td>\n",
       "      <td>-2.244101</td>\n",
       "    </tr>\n",
       "    <tr>\n",
       "      <th>23</th>\n",
       "      <td>TheAdabor</td>\n",
       "      <td>@BekoeIshmaeI @OtiAdjei PSG and Ceferin wants ...</td>\n",
       "      <td>Kumasi, Ghana</td>\n",
       "      <td>6.698081</td>\n",
       "      <td>-1.623040</td>\n",
       "    </tr>\n",
       "    <tr>\n",
       "      <th>24</th>\n",
       "      <td>MarioLunaFC</td>\n",
       "      <td>My every bloody thought, Barça, Women’s footba...</td>\n",
       "      <td>Somewhere</td>\n",
       "      <td>48.691701</td>\n",
       "      <td>6.183774</td>\n",
       "    </tr>\n",
       "    <tr>\n",
       "      <th>26</th>\n",
       "      <td>REV_Kramer</td>\n",
       "      <td>@JustinHendon7 @PFF_Fantasy Not trying to play...</td>\n",
       "      <td>Florida</td>\n",
       "      <td>27.756767</td>\n",
       "      <td>-81.463983</td>\n",
       "    </tr>\n",
       "    <tr>\n",
       "      <th>27</th>\n",
       "      <td>Dorothy90237074</td>\n",
       "      <td>Men's Scotland Football Games on either ITV or...</td>\n",
       "      <td>Cumbernauld Scotland</td>\n",
       "      <td>55.947776</td>\n",
       "      <td>-3.988257</td>\n",
       "    </tr>\n",
       "    <tr>\n",
       "      <th>28</th>\n",
       "      <td>vcantweet</td>\n",
       "      <td>Wow everybody in german football seems to hate...</td>\n",
       "      <td>Earth</td>\n",
       "      <td>34.233137</td>\n",
       "      <td>-102.410749</td>\n",
       "    </tr>\n",
       "    <tr>\n",
       "      <th>29</th>\n",
       "      <td>DailyCaller</td>\n",
       "      <td>Famous Football Coach And Former NFL Player Di...</td>\n",
       "      <td>Washington, DC</td>\n",
       "      <td>38.894955</td>\n",
       "      <td>-77.036646</td>\n",
       "    </tr>\n",
       "    <tr>\n",
       "      <th>30</th>\n",
       "      <td>coachosborn94</td>\n",
       "      <td>Appreciate @CoachBenBlake for stopping by to t...</td>\n",
       "      <td>El Cajon, CA</td>\n",
       "      <td>32.794773</td>\n",
       "      <td>-116.962527</td>\n",
       "    </tr>\n",
       "    <tr>\n",
       "      <th>31</th>\n",
       "      <td>UEFAcomPaulS</td>\n",
       "      <td>I really like football #UWCLfinall</td>\n",
       "      <td>Planet Football</td>\n",
       "      <td>12.931356</td>\n",
       "      <td>100.943645</td>\n",
       "    </tr>\n",
       "    <tr>\n",
       "      <th>32</th>\n",
       "      <td>altrinchamfc</td>\n",
       "      <td>Quote from new skipper @JHulme1 \\n\\n“It’s exci...</td>\n",
       "      <td>J Davidson Stadium, Altrincham</td>\n",
       "      <td>53.383384</td>\n",
       "      <td>-2.335228</td>\n",
       "    </tr>\n",
       "    <tr>\n",
       "      <th>34</th>\n",
       "      <td>AFIReview</td>\n",
       "      <td>Egyptian National Football League kicked off 8...</td>\n",
       "      <td>New York, NY</td>\n",
       "      <td>40.730646</td>\n",
       "      <td>-73.986614</td>\n",
       "    </tr>\n",
       "    <tr>\n",
       "      <th>35</th>\n",
       "      <td>birdmac25</td>\n",
       "      <td>Just wanted tell you thank you for everything ...</td>\n",
       "      <td>Camden,SC</td>\n",
       "      <td>34.246539</td>\n",
       "      <td>-80.607024</td>\n",
       "    </tr>\n",
       "    <tr>\n",
       "      <th>36</th>\n",
       "      <td>FrankyRN51</td>\n",
       "      <td>@mrewanmurray Do you actually know how footbal...</td>\n",
       "      <td>Follows you</td>\n",
       "      <td>34.233684</td>\n",
       "      <td>-117.805586</td>\n",
       "    </tr>\n",
       "    <tr>\n",
       "      <th>38</th>\n",
       "      <td>RyanSheehan92</td>\n",
       "      <td>So refreshing listening to these two talk, the...</td>\n",
       "      <td>Reading</td>\n",
       "      <td>51.456659</td>\n",
       "      <td>-0.969651</td>\n",
       "    </tr>\n",
       "    <tr>\n",
       "      <th>40</th>\n",
       "      <td>hoganmark</td>\n",
       "      <td>@elitetakes_ All of the Allen &amp;gt; Mahomes tak...</td>\n",
       "      <td>Aiea, HI</td>\n",
       "      <td>21.382222</td>\n",
       "      <td>-157.933611</td>\n",
       "    </tr>\n",
       "    <tr>\n",
       "      <th>41</th>\n",
       "      <td>Finlaybob301</td>\n",
       "      <td>@goingfor53 @John221975 @ItsStephsParty Depend...</td>\n",
       "      <td>UK</td>\n",
       "      <td>54.702354</td>\n",
       "      <td>-3.276575</td>\n",
       "    </tr>\n",
       "    <tr>\n",
       "      <th>42</th>\n",
       "      <td>CallumR1874</td>\n",
       "      <td>Another toothless display in Glasgow , but fin...</td>\n",
       "      <td>Bathgate, Scotland</td>\n",
       "      <td>55.898533</td>\n",
       "      <td>-3.640159</td>\n",
       "    </tr>\n",
       "    <tr>\n",
       "      <th>44</th>\n",
       "      <td>Kail1967</td>\n",
       "      <td>He tries not to be a result based manager? the...</td>\n",
       "      <td>South Wales</td>\n",
       "      <td>42.708949</td>\n",
       "      <td>-78.578080</td>\n",
       "    </tr>\n",
       "    <tr>\n",
       "      <th>45</th>\n",
       "      <td>rvfc2009</td>\n",
       "      <td>@PodcastSelk @deloldfield4 A announcement as t...</td>\n",
       "      <td>the oaks</td>\n",
       "      <td>38.904625</td>\n",
       "      <td>-123.226118</td>\n",
       "    </tr>\n",
       "    <tr>\n",
       "      <th>46</th>\n",
       "      <td>MarleneEurell</td>\n",
       "      <td>Music to my ears😊Football killed them real dea...</td>\n",
       "      <td>The Oaks🖤🇿🇦</td>\n",
       "      <td>38.904625</td>\n",
       "      <td>-123.226118</td>\n",
       "    </tr>\n",
       "    <tr>\n",
       "      <th>47</th>\n",
       "      <td>UEFAcomPaulS</td>\n",
       "      <td>I really like football #UWCLfinal</td>\n",
       "      <td>Planet Football</td>\n",
       "      <td>12.931356</td>\n",
       "      <td>100.943645</td>\n",
       "    </tr>\n",
       "    <tr>\n",
       "      <th>48</th>\n",
       "      <td>nathan_oji</td>\n",
       "      <td>@efesmallz_ @papzci The currently have the wor...</td>\n",
       "      <td>Kaduna, Nigeria</td>\n",
       "      <td>10.382532</td>\n",
       "      <td>7.853323</td>\n",
       "    </tr>\n",
       "    <tr>\n",
       "      <th>49</th>\n",
       "      <td>DrFrankenfear</td>\n",
       "      <td>@Jon_Mackenzie I see arguments in the replies ...</td>\n",
       "      <td>UK</td>\n",
       "      <td>54.702354</td>\n",
       "      <td>-3.276575</td>\n",
       "    </tr>\n",
       "  </tbody>\n",
       "</table>\n",
       "</div>"
      ],
      "text/plain": [
       "        screen_name                                               text  \\\n",
       "0       squire_joel  @kobbyskary @ClintonSpel @SaddickAdams @Maynia...   \n",
       "1      Caroline1mcd  Il y a 200 000 personnes qui regardent le live...   \n",
       "2     KillSwitchSLL  @gorka0013 @KingMabeko4 @FabrizioRomano Sadly ...   \n",
       "3            kazgti  @CraigBlyth11 @SunderlandAFC Thanks Craig. Tho...   \n",
       "5      BollaboKeith  First experience of ref abuse today. Sweary, a...   \n",
       "6          derron82  @itsbostoncream ove the line he doesn't draft ...   \n",
       "7        Calacus_PR                  When football fandom is beautiful   \n",
       "8      lastdanceszn  @ppanagopoulos11 You know i went to football g...   \n",
       "10         JHerra18  The best football shirts for the best football...   \n",
       "11  Odukoyafemzie95  @ijustcumed @PoojaMedia @DeBruyneKev Football ...   \n",
       "12           Opexie  @IronPablo_ @barstoolsports Let's see if that ...   \n",
       "13   EkengEsmeralda  @indypremium Who even let this happen? My niec...   \n",
       "14  TheNotoriousAJ_  I really want to join a flag football league t...   \n",
       "15        JackC1872  @piperpeter008 Aye because the Norwegian leagu...   \n",
       "16   AshleyPower123  Is it possible to filter out all football rela...   \n",
       "17      TheKr3ature  @bhozalam05 Probably preparing for Monday nigh...   \n",
       "19           A1anJr  Thankful for this fluke ass football league th...   \n",
       "20        DKBrodie7                 My calf is injured from football 😭   \n",
       "21         Rob19_06                 @Football__Tweet Football gone mad   \n",
       "22    ManchesterDrb  Kylian #Mbappe: La Liga chief scalds 'dangerou...   \n",
       "23        TheAdabor  @BekoeIshmaeI @OtiAdjei PSG and Ceferin wants ...   \n",
       "24      MarioLunaFC  My every bloody thought, Barça, Women’s footba...   \n",
       "26       REV_Kramer  @JustinHendon7 @PFF_Fantasy Not trying to play...   \n",
       "27  Dorothy90237074  Men's Scotland Football Games on either ITV or...   \n",
       "28        vcantweet  Wow everybody in german football seems to hate...   \n",
       "29      DailyCaller  Famous Football Coach And Former NFL Player Di...   \n",
       "30    coachosborn94  Appreciate @CoachBenBlake for stopping by to t...   \n",
       "31     UEFAcomPaulS                 I really like football #UWCLfinall   \n",
       "32     altrinchamfc  Quote from new skipper @JHulme1 \\n\\n“It’s exci...   \n",
       "34        AFIReview  Egyptian National Football League kicked off 8...   \n",
       "35        birdmac25  Just wanted tell you thank you for everything ...   \n",
       "36       FrankyRN51  @mrewanmurray Do you actually know how footbal...   \n",
       "38    RyanSheehan92  So refreshing listening to these two talk, the...   \n",
       "40        hoganmark  @elitetakes_ All of the Allen &gt; Mahomes tak...   \n",
       "41     Finlaybob301  @goingfor53 @John221975 @ItsStephsParty Depend...   \n",
       "42      CallumR1874  Another toothless display in Glasgow , but fin...   \n",
       "44         Kail1967  He tries not to be a result based manager? the...   \n",
       "45         rvfc2009  @PodcastSelk @deloldfield4 A announcement as t...   \n",
       "46    MarleneEurell  Music to my ears😊Football killed them real dea...   \n",
       "47     UEFAcomPaulS                  I really like football #UWCLfinal   \n",
       "48       nathan_oji  @efesmallz_ @papzci The currently have the wor...   \n",
       "49    DrFrankenfear  @Jon_Mackenzie I see arguments in the replies ...   \n",
       "\n",
       "                          location   latitude   longitude  \n",
       "0              Al Mahboula, Kuwait  29.149127   48.119043  \n",
       "1          Washington, DC & London  39.422047  -77.253038  \n",
       "2                      New Zealand -41.500083  172.834408  \n",
       "3                        Co Durham  54.666667   -1.750000  \n",
       "5                        Liverpool  53.405472   -2.980539  \n",
       "6                        Salem, MA  42.519529  -70.896723  \n",
       "7                           London  51.507322   -0.127647  \n",
       "8                          Norway   60.500021    9.099972  \n",
       "10             Sunderland, England  54.906379   -1.375053  \n",
       "11                        Surulere   8.095588    4.412962  \n",
       "12                       Miami, FL  25.774266  -80.193659  \n",
       "13                         Nigeria   9.600036    7.999972  \n",
       "14                             HTX  29.755375  -95.355304  \n",
       "15               Glasgow, Scotland  55.856656   -4.243582  \n",
       "16                     Bournemouth  50.744670   -1.857981  \n",
       "17      Johannesburg, South Africa -26.205000   28.049722  \n",
       "19                   Out the way..  36.556516   44.349781  \n",
       "20                 London, England  51.507322   -0.127647  \n",
       "21         England, United Kingdom  52.795479   -0.540240  \n",
       "22                      Manchester  53.479130   -2.244101  \n",
       "23                   Kumasi, Ghana   6.698081   -1.623040  \n",
       "24                       Somewhere  48.691701    6.183774  \n",
       "26                         Florida  27.756767  -81.463983  \n",
       "27           Cumbernauld Scotland   55.947776   -3.988257  \n",
       "28                           Earth  34.233137 -102.410749  \n",
       "29                  Washington, DC  38.894955  -77.036646  \n",
       "30                    El Cajon, CA  32.794773 -116.962527  \n",
       "31                 Planet Football  12.931356  100.943645  \n",
       "32  J Davidson Stadium, Altrincham  53.383384   -2.335228  \n",
       "34                    New York, NY  40.730646  -73.986614  \n",
       "35                       Camden,SC  34.246539  -80.607024  \n",
       "36                     Follows you  34.233684 -117.805586  \n",
       "38                         Reading  51.456659   -0.969651  \n",
       "40                        Aiea, HI  21.382222 -157.933611  \n",
       "41                              UK  54.702354   -3.276575  \n",
       "42              Bathgate, Scotland  55.898533   -3.640159  \n",
       "44                     South Wales  42.708949  -78.578080  \n",
       "45                       the oaks   38.904625 -123.226118  \n",
       "46                     The Oaks🖤🇿🇦  38.904625 -123.226118  \n",
       "47                 Planet Football  12.931356  100.943645  \n",
       "48                 Kaduna, Nigeria  10.382532    7.853323  \n",
       "49                              UK  54.702354   -3.276575  "
      ]
     },
     "execution_count": 53,
     "metadata": {},
     "output_type": "execute_result"
    }
   ],
   "source": [
    "df"
   ]
  },
  {
   "cell_type": "markdown",
   "metadata": {},
   "source": [
    "<hr style=\"height:2px; border:none; color:#000; background-color:#000;\">"
   ]
  },
  {
   "cell_type": "markdown",
   "metadata": {},
   "source": [
    "### Creating a Map with Folium"
   ]
  },
  {
   "cell_type": "code",
   "execution_count": 54,
   "metadata": {},
   "outputs": [],
   "source": [
    "import folium"
   ]
  },
  {
   "cell_type": "code",
   "execution_count": 55,
   "metadata": {},
   "outputs": [],
   "source": [
    "usmap = folium.Map(location=[39.8283, -98.5795],  # center of U.S.\n",
    "                   tiles='Stamen Terrain',\n",
    "                   zoom_start=4, detect_retina=True)"
   ]
  },
  {
   "cell_type": "markdown",
   "metadata": {},
   "source": [
    "* **`location`** &mdash; sequence containing **latitude** and **longitude** of **map center point**\n",
    "    * [Geographic center of the continental United States](http://bit.ly/CenterOfTheUS) \n",
    "* **`zoom_start`** &mdash; **map’s initial zoom level**\n",
    "* **`detect_retina`** &mdash; enables folium to use **higher-resolution maps**"
   ]
  },
  {
   "cell_type": "markdown",
   "metadata": {},
   "source": [
    "<hr style=\"height:2px; border:none; color:#000; background-color:#000;\">"
   ]
  },
  {
   "cell_type": "markdown",
   "metadata": {},
   "source": [
    "### Creating Folium `Popup` Objects for the Tweet Locations\n",
    "* **`itertuples`** creates **tuples** from **each row** of the **`DataFrame`**\n",
    "* Each **tuple** contains a **property** for each **`DataFrame` column**"
   ]
  },
  {
   "cell_type": "code",
   "execution_count": 56,
   "metadata": {},
   "outputs": [],
   "source": [
    "for t in df.itertuples():\n",
    "    text = ': '.join([t.screen_name, t.text])\n",
    "    popup = folium.Popup(text)\n",
    "    marker = folium.Marker((t.latitude, t.longitude), \n",
    "                           popup=popup)\n",
    "    marker.add_to(usmap)"
   ]
  },
  {
   "cell_type": "markdown",
   "metadata": {},
   "source": [
    "<hr style=\"height:2px; border:none; color:#000; background-color:#000;\">"
   ]
  },
  {
   "cell_type": "markdown",
   "metadata": {},
   "source": [
    "### Saving the Map with Map’s **`save`** Method "
   ]
  },
  {
   "cell_type": "code",
   "execution_count": 57,
   "metadata": {},
   "outputs": [],
   "source": [
    "usmap.save('tweet_map.html')"
   ]
  },
  {
   "cell_type": "markdown",
   "metadata": {},
   "source": [
    "<hr style=\"height:2px; border:none; color:#000; background-color:#000;\">"
   ]
  },
  {
   "cell_type": "markdown",
   "metadata": {},
   "source": [
    "### Displaying the Map in Jupyter \n",
    "* The resulting map follows. \n",
    "<a href=\"./tweet_map.html\">Interactive tweet map</a>"
   ]
  },
  {
   "cell_type": "code",
   "execution_count": 58,
   "metadata": {},
   "outputs": [
    {
     "data": {
      "text/html": [
       "<div style=\"width:100%;\"><div style=\"position:relative;width:100%;height:0;padding-bottom:60%;\"><span style=\"color:#565656\">Make this Notebook Trusted to load map: File -> Trust Notebook</span><iframe srcdoc=\"&lt;!DOCTYPE html&gt;\n",
       "&lt;head&gt;    \n",
       "    &lt;meta http-equiv=&quot;content-type&quot; content=&quot;text/html; charset=UTF-8&quot; /&gt;\n",
       "    \n",
       "        &lt;script&gt;\n",
       "            L_NO_TOUCH = false;\n",
       "            L_DISABLE_3D = false;\n",
       "        &lt;/script&gt;\n",
       "    \n",
       "    &lt;style&gt;html, body {width: 100%;height: 100%;margin: 0;padding: 0;}&lt;/style&gt;\n",
       "    &lt;style&gt;#map {position:absolute;top:0;bottom:0;right:0;left:0;}&lt;/style&gt;\n",
       "    &lt;script src=&quot;https://cdn.jsdelivr.net/npm/leaflet@1.6.0/dist/leaflet.js&quot;&gt;&lt;/script&gt;\n",
       "    &lt;script src=&quot;https://code.jquery.com/jquery-1.12.4.min.js&quot;&gt;&lt;/script&gt;\n",
       "    &lt;script src=&quot;https://maxcdn.bootstrapcdn.com/bootstrap/3.2.0/js/bootstrap.min.js&quot;&gt;&lt;/script&gt;\n",
       "    &lt;script src=&quot;https://cdnjs.cloudflare.com/ajax/libs/Leaflet.awesome-markers/2.0.2/leaflet.awesome-markers.js&quot;&gt;&lt;/script&gt;\n",
       "    &lt;link rel=&quot;stylesheet&quot; href=&quot;https://cdn.jsdelivr.net/npm/leaflet@1.6.0/dist/leaflet.css&quot;/&gt;\n",
       "    &lt;link rel=&quot;stylesheet&quot; href=&quot;https://maxcdn.bootstrapcdn.com/bootstrap/3.2.0/css/bootstrap.min.css&quot;/&gt;\n",
       "    &lt;link rel=&quot;stylesheet&quot; href=&quot;https://maxcdn.bootstrapcdn.com/bootstrap/3.2.0/css/bootstrap-theme.min.css&quot;/&gt;\n",
       "    &lt;link rel=&quot;stylesheet&quot; href=&quot;https://maxcdn.bootstrapcdn.com/font-awesome/4.6.3/css/font-awesome.min.css&quot;/&gt;\n",
       "    &lt;link rel=&quot;stylesheet&quot; href=&quot;https://cdnjs.cloudflare.com/ajax/libs/Leaflet.awesome-markers/2.0.2/leaflet.awesome-markers.css&quot;/&gt;\n",
       "    &lt;link rel=&quot;stylesheet&quot; href=&quot;https://cdn.jsdelivr.net/gh/python-visualization/folium/folium/templates/leaflet.awesome.rotate.min.css&quot;/&gt;\n",
       "    \n",
       "            &lt;meta name=&quot;viewport&quot; content=&quot;width=device-width,\n",
       "                initial-scale=1.0, maximum-scale=1.0, user-scalable=no&quot; /&gt;\n",
       "            &lt;style&gt;\n",
       "                #map_1fabf87f1dc13d20ae845222ebb8273b {\n",
       "                    position: relative;\n",
       "                    width: 100.0%;\n",
       "                    height: 100.0%;\n",
       "                    left: 0.0%;\n",
       "                    top: 0.0%;\n",
       "                }\n",
       "            &lt;/style&gt;\n",
       "        \n",
       "&lt;/head&gt;\n",
       "&lt;body&gt;    \n",
       "    \n",
       "            &lt;div class=&quot;folium-map&quot; id=&quot;map_1fabf87f1dc13d20ae845222ebb8273b&quot; &gt;&lt;/div&gt;\n",
       "        \n",
       "&lt;/body&gt;\n",
       "&lt;script&gt;    \n",
       "    \n",
       "            var map_1fabf87f1dc13d20ae845222ebb8273b = L.map(\n",
       "                &quot;map_1fabf87f1dc13d20ae845222ebb8273b&quot;,\n",
       "                {\n",
       "                    center: [39.8283, -98.5795],\n",
       "                    crs: L.CRS.EPSG3857,\n",
       "                    zoom: 4,\n",
       "                    zoomControl: true,\n",
       "                    preferCanvas: false,\n",
       "                    detectRetina: true,\n",
       "                }\n",
       "            );\n",
       "\n",
       "            \n",
       "\n",
       "        \n",
       "    \n",
       "            var tile_layer_6b3ce1a2fe85d5b83a52beaddc6a92aa = L.tileLayer(\n",
       "                &quot;https://stamen-tiles-{s}.a.ssl.fastly.net/terrain/{z}/{x}/{y}.jpg&quot;,\n",
       "                {&quot;attribution&quot;: &quot;Map tiles by \\u003ca href=\\&quot;http://stamen.com\\&quot;\\u003eStamen Design\\u003c/a\\u003e, under \\u003ca href=\\&quot;http://creativecommons.org/licenses/by/3.0\\&quot;\\u003eCC BY 3.0\\u003c/a\\u003e. Data by \\u0026copy; \\u003ca href=\\&quot;http://openstreetmap.org\\&quot;\\u003eOpenStreetMap\\u003c/a\\u003e, under \\u003ca href=\\&quot;http://creativecommons.org/licenses/by-sa/3.0\\&quot;\\u003eCC BY SA\\u003c/a\\u003e.&quot;, &quot;detectRetina&quot;: false, &quot;maxNativeZoom&quot;: 18, &quot;maxZoom&quot;: 18, &quot;minZoom&quot;: 0, &quot;noWrap&quot;: false, &quot;opacity&quot;: 1, &quot;subdomains&quot;: &quot;abc&quot;, &quot;tms&quot;: false}\n",
       "            ).addTo(map_1fabf87f1dc13d20ae845222ebb8273b);\n",
       "        \n",
       "    \n",
       "            var marker_c0d7c34c7852f90a04a5567534572b31 = L.marker(\n",
       "                [29.1491269, 48.1190428],\n",
       "                {}\n",
       "            ).addTo(map_1fabf87f1dc13d20ae845222ebb8273b);\n",
       "        \n",
       "    \n",
       "        var popup_1b3b771d541e4192952d8b14b80d4f97 = L.popup({&quot;maxWidth&quot;: &quot;100%&quot;});\n",
       "\n",
       "        \n",
       "            var html_febea946e6d5615fef072a11275b696f = $(`&lt;div id=&quot;html_febea946e6d5615fef072a11275b696f&quot; style=&quot;width: 100.0%; height: 100.0%;&quot;&gt;squire_joel: @kobbyskary @ClintonSpel @SaddickAdams @Mayniak_Sports Football team 🤣🤣🤣🤣&lt;/div&gt;`)[0];\n",
       "            popup_1b3b771d541e4192952d8b14b80d4f97.setContent(html_febea946e6d5615fef072a11275b696f);\n",
       "        \n",
       "\n",
       "        marker_c0d7c34c7852f90a04a5567534572b31.bindPopup(popup_1b3b771d541e4192952d8b14b80d4f97)\n",
       "        ;\n",
       "\n",
       "        \n",
       "    \n",
       "    \n",
       "            var marker_49476edda99f905269c9dff995c9bd47 = L.marker(\n",
       "                [39.422047, -77.2530383],\n",
       "                {}\n",
       "            ).addTo(map_1fabf87f1dc13d20ae845222ebb8273b);\n",
       "        \n",
       "    \n",
       "        var popup_4ead93dcfc328b1462a3bc520d3f5595 = L.popup({&quot;maxWidth&quot;: &quot;100%&quot;});\n",
       "\n",
       "        \n",
       "            var html_a2ead23c146c4437a145fb93503721ef = $(`&lt;div id=&quot;html_a2ead23c146c4437a145fb93503721ef&quot; style=&quot;width: 100.0%; height: 100.0%;&quot;&gt;Caroline1mcd: Il y a 200 000 personnes qui regardent le livestream de #UWCLfinal et un stade plein, mais vous avez raison, tout le monde se fout du football féminin 🙄//There&#x27;s 200k people watching on yt and a completely full stadium, but you&#x27;re right, no one cares about women&#x27;s soccer🤪&lt;/div&gt;`)[0];\n",
       "            popup_4ead93dcfc328b1462a3bc520d3f5595.setContent(html_a2ead23c146c4437a145fb93503721ef);\n",
       "        \n",
       "\n",
       "        marker_49476edda99f905269c9dff995c9bd47.bindPopup(popup_4ead93dcfc328b1462a3bc520d3f5595)\n",
       "        ;\n",
       "\n",
       "        \n",
       "    \n",
       "    \n",
       "            var marker_d4be7bd360d7d2aa57d54e7ad8bfe378 = L.marker(\n",
       "                [-41.5000831, 172.8344077],\n",
       "                {}\n",
       "            ).addTo(map_1fabf87f1dc13d20ae845222ebb8273b);\n",
       "        \n",
       "    \n",
       "        var popup_12d909f9c8ef2980d2db2472b6765976 = L.popup({&quot;maxWidth&quot;: &quot;100%&quot;});\n",
       "\n",
       "        \n",
       "            var html_106e05ada5b3d8d2ed8eccd52cc41544 = $(`&lt;div id=&quot;html_106e05ada5b3d8d2ed8eccd52cc41544&quot; style=&quot;width: 100.0%; height: 100.0%;&quot;&gt;KillSwitchSLL: @gorka0013 @KingMabeko4 @FabrizioRomano Sadly ballon dor isnt based off 7 seasons and striker isnt the only position in football💀 if only people could read and put 2 and 2 together&lt;/div&gt;`)[0];\n",
       "            popup_12d909f9c8ef2980d2db2472b6765976.setContent(html_106e05ada5b3d8d2ed8eccd52cc41544);\n",
       "        \n",
       "\n",
       "        marker_d4be7bd360d7d2aa57d54e7ad8bfe378.bindPopup(popup_12d909f9c8ef2980d2db2472b6765976)\n",
       "        ;\n",
       "\n",
       "        \n",
       "    \n",
       "    \n",
       "            var marker_08f2d3f6993082f9e12146cf859d7f1e = L.marker(\n",
       "                [54.666667, -1.75],\n",
       "                {}\n",
       "            ).addTo(map_1fabf87f1dc13d20ae845222ebb8273b);\n",
       "        \n",
       "    \n",
       "        var popup_489f65b1cf77730df7f3c31920781cf1 = L.popup({&quot;maxWidth&quot;: &quot;100%&quot;});\n",
       "\n",
       "        \n",
       "            var html_289e29d0fcb8c01a17b6a0d770f7f9b0 = $(`&lt;div id=&quot;html_289e29d0fcb8c01a17b6a0d770f7f9b0&quot; style=&quot;width: 100.0%; height: 100.0%;&quot;&gt;kazgti: @CraigBlyth11 @SunderlandAFC Thanks Craig. Thought wish them luck as live up here now. Don’t really follow football but I like to hear when West Ham do well.&lt;/div&gt;`)[0];\n",
       "            popup_489f65b1cf77730df7f3c31920781cf1.setContent(html_289e29d0fcb8c01a17b6a0d770f7f9b0);\n",
       "        \n",
       "\n",
       "        marker_08f2d3f6993082f9e12146cf859d7f1e.bindPopup(popup_489f65b1cf77730df7f3c31920781cf1)\n",
       "        ;\n",
       "\n",
       "        \n",
       "    \n",
       "    \n",
       "            var marker_b98ea2a74c2672d9c000a7d43a8af94c = L.marker(\n",
       "                [53.4054719, -2.9805392],\n",
       "                {}\n",
       "            ).addTo(map_1fabf87f1dc13d20ae845222ebb8273b);\n",
       "        \n",
       "    \n",
       "        var popup_a5c62fcf5eabb3db1454e0fd36090a8a = L.popup({&quot;maxWidth&quot;: &quot;100%&quot;});\n",
       "\n",
       "        \n",
       "            var html_27bc21a804dc723f0ae92e789ee5a82d = $(`&lt;div id=&quot;html_27bc21a804dc723f0ae92e789ee5a82d&quot; style=&quot;width: 100.0%; height: 100.0%;&quot;&gt;BollaboKeith: First experience of ref abuse today. Sweary, aggressive Grandad ruining watching his granddaughter play football and getting himself banned from watching games again. Club handled it well.&lt;/div&gt;`)[0];\n",
       "            popup_a5c62fcf5eabb3db1454e0fd36090a8a.setContent(html_27bc21a804dc723f0ae92e789ee5a82d);\n",
       "        \n",
       "\n",
       "        marker_b98ea2a74c2672d9c000a7d43a8af94c.bindPopup(popup_a5c62fcf5eabb3db1454e0fd36090a8a)\n",
       "        ;\n",
       "\n",
       "        \n",
       "    \n",
       "    \n",
       "            var marker_cdb5924fd60cd41d9153a9e05c4999e7 = L.marker(\n",
       "                [42.5195292, -70.8967226],\n",
       "                {}\n",
       "            ).addTo(map_1fabf87f1dc13d20ae845222ebb8273b);\n",
       "        \n",
       "    \n",
       "        var popup_8f3b26cf0107cbe49af93bbc02780823 = L.popup({&quot;maxWidth&quot;: &quot;100%&quot;});\n",
       "\n",
       "        \n",
       "            var html_64576f0a9391ecffb1e3b157d6d43bca = $(`&lt;div id=&quot;html_64576f0a9391ecffb1e3b157d6d43bca&quot; style=&quot;width: 100.0%; height: 100.0%;&quot;&gt;derron82: @itsbostoncream ove the line he doesn&#x27;t draft pro bowlers like that is important. then guys like jc make pro bowl but weren&#x27;t drafted &amp;amp;they penalize bb saying he got lucky lol. Incredible how ignorant this area is 2 football. Team wz going 2 leave Noone cared in 90&#x27;s now every1 is smartr than bb&lt;/div&gt;`)[0];\n",
       "            popup_8f3b26cf0107cbe49af93bbc02780823.setContent(html_64576f0a9391ecffb1e3b157d6d43bca);\n",
       "        \n",
       "\n",
       "        marker_cdb5924fd60cd41d9153a9e05c4999e7.bindPopup(popup_8f3b26cf0107cbe49af93bbc02780823)\n",
       "        ;\n",
       "\n",
       "        \n",
       "    \n",
       "    \n",
       "            var marker_25c7998c69614fc862c69ebc44168c44 = L.marker(\n",
       "                [51.5073219, -0.1276474],\n",
       "                {}\n",
       "            ).addTo(map_1fabf87f1dc13d20ae845222ebb8273b);\n",
       "        \n",
       "    \n",
       "        var popup_73c3d9e6be6b296915920db25d5ad896 = L.popup({&quot;maxWidth&quot;: &quot;100%&quot;});\n",
       "\n",
       "        \n",
       "            var html_c9194339aa6f7d8235b40a18c52d7440 = $(`&lt;div id=&quot;html_c9194339aa6f7d8235b40a18c52d7440&quot; style=&quot;width: 100.0%; height: 100.0%;&quot;&gt;Calacus_PR: When football fandom is beautiful&lt;/div&gt;`)[0];\n",
       "            popup_73c3d9e6be6b296915920db25d5ad896.setContent(html_c9194339aa6f7d8235b40a18c52d7440);\n",
       "        \n",
       "\n",
       "        marker_25c7998c69614fc862c69ebc44168c44.bindPopup(popup_73c3d9e6be6b296915920db25d5ad896)\n",
       "        ;\n",
       "\n",
       "        \n",
       "    \n",
       "    \n",
       "            var marker_bc9f5b1093384bc32f4ac8c836dcbbe9 = L.marker(\n",
       "                [60.5000209, 9.0999715],\n",
       "                {}\n",
       "            ).addTo(map_1fabf87f1dc13d20ae845222ebb8273b);\n",
       "        \n",
       "    \n",
       "        var popup_6f8b24f6debb0d5bf6860d20adb1ab85 = L.popup({&quot;maxWidth&quot;: &quot;100%&quot;});\n",
       "\n",
       "        \n",
       "            var html_4c4a4421fde277cbc839ada168e8aa68 = $(`&lt;div id=&quot;html_4c4a4421fde277cbc839ada168e8aa68&quot; style=&quot;width: 100.0%; height: 100.0%;&quot;&gt;lastdanceszn: @ppanagopoulos11 You know i went to football game in like 2nd division league division here in Norway and they check everything  how does someone bring a rock into a final!!&lt;/div&gt;`)[0];\n",
       "            popup_6f8b24f6debb0d5bf6860d20adb1ab85.setContent(html_4c4a4421fde277cbc839ada168e8aa68);\n",
       "        \n",
       "\n",
       "        marker_bc9f5b1093384bc32f4ac8c836dcbbe9.bindPopup(popup_6f8b24f6debb0d5bf6860d20adb1ab85)\n",
       "        ;\n",
       "\n",
       "        \n",
       "    \n",
       "    \n",
       "            var marker_1839bddeb5bc2bb797768eb37a0551f2 = L.marker(\n",
       "                [54.9063791, -1.375053],\n",
       "                {}\n",
       "            ).addTo(map_1fabf87f1dc13d20ae845222ebb8273b);\n",
       "        \n",
       "    \n",
       "        var popup_b2cf1e71302535c48affbcbd843e3e0f = L.popup({&quot;maxWidth&quot;: &quot;100%&quot;});\n",
       "\n",
       "        \n",
       "            var html_a97bdfbbba6070cfc458a11f6e5bf052 = $(`&lt;div id=&quot;html_a97bdfbbba6070cfc458a11f6e5bf052&quot; style=&quot;width: 100.0%; height: 100.0%;&quot;&gt;JHerra18: The best football shirts for the best football club in the world ❤️🔴⚪️ https://t.co/adtrUJ3Xxv&lt;/div&gt;`)[0];\n",
       "            popup_b2cf1e71302535c48affbcbd843e3e0f.setContent(html_a97bdfbbba6070cfc458a11f6e5bf052);\n",
       "        \n",
       "\n",
       "        marker_1839bddeb5bc2bb797768eb37a0551f2.bindPopup(popup_b2cf1e71302535c48affbcbd843e3e0f)\n",
       "        ;\n",
       "\n",
       "        \n",
       "    \n",
       "    \n",
       "            var marker_522f0120ec70bd68cb2aacbadca146ea = L.marker(\n",
       "                [8.09558835, 4.41296180365728],\n",
       "                {}\n",
       "            ).addTo(map_1fabf87f1dc13d20ae845222ebb8273b);\n",
       "        \n",
       "    \n",
       "        var popup_d3cb8b7b9a36f738035827127830e33c = L.popup({&quot;maxWidth&quot;: &quot;100%&quot;});\n",
       "\n",
       "        \n",
       "            var html_2294be563bf712bbf1052f880ab964e3 = $(`&lt;div id=&quot;html_2294be563bf712bbf1052f880ab964e3&quot; style=&quot;width: 100.0%; height: 100.0%;&quot;&gt;Odukoyafemzie95: @ijustcumed @PoojaMedia @DeBruyneKev Football is a game of love brother... We just have different passion for it... One love here...&lt;/div&gt;`)[0];\n",
       "            popup_d3cb8b7b9a36f738035827127830e33c.setContent(html_2294be563bf712bbf1052f880ab964e3);\n",
       "        \n",
       "\n",
       "        marker_522f0120ec70bd68cb2aacbadca146ea.bindPopup(popup_d3cb8b7b9a36f738035827127830e33c)\n",
       "        ;\n",
       "\n",
       "        \n",
       "    \n",
       "    \n",
       "            var marker_7e4fc56ce3c2775a8f1148eabbd7244f = L.marker(\n",
       "                [25.7742658, -80.1936589],\n",
       "                {}\n",
       "            ).addTo(map_1fabf87f1dc13d20ae845222ebb8273b);\n",
       "        \n",
       "    \n",
       "        var popup_2ec5d1715088d50ab5d481310c3f6926 = L.popup({&quot;maxWidth&quot;: &quot;100%&quot;});\n",
       "\n",
       "        \n",
       "            var html_1a85cbf1e10aadc8162adb876c7b7ca4 = $(`&lt;div id=&quot;html_1a85cbf1e10aadc8162adb876c7b7ca4&quot; style=&quot;width: 100.0%; height: 100.0%;&quot;&gt;Opexie: @IronPablo_ @barstoolsports Let&#x27;s see if that translates to a competitive team.  Was such a great franchise...  But even if they become decent, baseball is a sport that has too many games (162) versus football (17).  With baseball costing 50$+ a game it is also not economical no concise.&lt;/div&gt;`)[0];\n",
       "            popup_2ec5d1715088d50ab5d481310c3f6926.setContent(html_1a85cbf1e10aadc8162adb876c7b7ca4);\n",
       "        \n",
       "\n",
       "        marker_7e4fc56ce3c2775a8f1148eabbd7244f.bindPopup(popup_2ec5d1715088d50ab5d481310c3f6926)\n",
       "        ;\n",
       "\n",
       "        \n",
       "    \n",
       "    \n",
       "            var marker_f5139ca8feca9c6f2683c4a6009559a8 = L.marker(\n",
       "                [9.6000359, 7.9999721],\n",
       "                {}\n",
       "            ).addTo(map_1fabf87f1dc13d20ae845222ebb8273b);\n",
       "        \n",
       "    \n",
       "        var popup_83cba3c41c92c3a5ab1b1a591a81ee14 = L.popup({&quot;maxWidth&quot;: &quot;100%&quot;});\n",
       "\n",
       "        \n",
       "            var html_19e84ebd097149af14c2c615db55cea6 = $(`&lt;div id=&quot;html_19e84ebd097149af14c2c615db55cea6&quot; style=&quot;width: 100.0%; height: 100.0%;&quot;&gt;EkengEsmeralda: @indypremium Who even let this happen? My niece was suspended from her football game because she finally fought back the white kid who has always been bullying her. What’s going on with the system?&lt;/div&gt;`)[0];\n",
       "            popup_83cba3c41c92c3a5ab1b1a591a81ee14.setContent(html_19e84ebd097149af14c2c615db55cea6);\n",
       "        \n",
       "\n",
       "        marker_f5139ca8feca9c6f2683c4a6009559a8.bindPopup(popup_83cba3c41c92c3a5ab1b1a591a81ee14)\n",
       "        ;\n",
       "\n",
       "        \n",
       "    \n",
       "    \n",
       "            var marker_4f5927e668e58f390e2e0ed60526ff07 = L.marker(\n",
       "                [29.7553748, -95.3553035],\n",
       "                {}\n",
       "            ).addTo(map_1fabf87f1dc13d20ae845222ebb8273b);\n",
       "        \n",
       "    \n",
       "        var popup_e1ad5f58e55b8779f8c626adaa22e582 = L.popup({&quot;maxWidth&quot;: &quot;100%&quot;});\n",
       "\n",
       "        \n",
       "            var html_df3249bdc0c2e5b06c260810d2412cf0 = $(`&lt;div id=&quot;html_df3249bdc0c2e5b06c260810d2412cf0&quot; style=&quot;width: 100.0%; height: 100.0%;&quot;&gt;TheNotoriousAJ_: I really want to join a flag football league this year. Been wanting to play for the longest!&lt;/div&gt;`)[0];\n",
       "            popup_e1ad5f58e55b8779f8c626adaa22e582.setContent(html_df3249bdc0c2e5b06c260810d2412cf0);\n",
       "        \n",
       "\n",
       "        marker_4f5927e668e58f390e2e0ed60526ff07.bindPopup(popup_e1ad5f58e55b8779f8c626adaa22e582)\n",
       "        ;\n",
       "\n",
       "        \n",
       "    \n",
       "    \n",
       "            var marker_d6bec16aa92975a501aaee3b12402155 = L.marker(\n",
       "                [55.856656, -4.2435817],\n",
       "                {}\n",
       "            ).addTo(map_1fabf87f1dc13d20ae845222ebb8273b);\n",
       "        \n",
       "    \n",
       "        var popup_4bd8acb7d0e5212055a68422d6a24872 = L.popup({&quot;maxWidth&quot;: &quot;100%&quot;});\n",
       "\n",
       "        \n",
       "            var html_91d1916fd0de70729a2dfa89a9dac32d = $(`&lt;div id=&quot;html_91d1916fd0de70729a2dfa89a9dac32d&quot; style=&quot;width: 100.0%; height: 100.0%;&quot;&gt;JackC1872: @piperpeter008 Aye because the Norwegian league is one of the big leagues absolutely massive pillar of European football 😭 that’s brilliant&lt;/div&gt;`)[0];\n",
       "            popup_4bd8acb7d0e5212055a68422d6a24872.setContent(html_91d1916fd0de70729a2dfa89a9dac32d);\n",
       "        \n",
       "\n",
       "        marker_d6bec16aa92975a501aaee3b12402155.bindPopup(popup_4bd8acb7d0e5212055a68422d6a24872)\n",
       "        ;\n",
       "\n",
       "        \n",
       "    \n",
       "    \n",
       "            var marker_6aac579023652e5b6a018279f58c887f = L.marker(\n",
       "                [50.74467035, -1.85798090318094],\n",
       "                {}\n",
       "            ).addTo(map_1fabf87f1dc13d20ae845222ebb8273b);\n",
       "        \n",
       "    \n",
       "        var popup_0a6180f7af7f1587fb149b38844ee057 = L.popup({&quot;maxWidth&quot;: &quot;100%&quot;});\n",
       "\n",
       "        \n",
       "            var html_6aa9769261a86b752e45a01768f74e2c = $(`&lt;div id=&quot;html_6aa9769261a86b752e45a01768f74e2c&quot; style=&quot;width: 100.0%; height: 100.0%;&quot;&gt;AshleyPower123: Is it possible to filter out all football related trends?&lt;/div&gt;`)[0];\n",
       "            popup_0a6180f7af7f1587fb149b38844ee057.setContent(html_6aa9769261a86b752e45a01768f74e2c);\n",
       "        \n",
       "\n",
       "        marker_6aac579023652e5b6a018279f58c887f.bindPopup(popup_0a6180f7af7f1587fb149b38844ee057)\n",
       "        ;\n",
       "\n",
       "        \n",
       "    \n",
       "    \n",
       "            var marker_9ff34f114c70351b7ba71c0d9187a0c9 = L.marker(\n",
       "                [-26.205, 28.049722],\n",
       "                {}\n",
       "            ).addTo(map_1fabf87f1dc13d20ae845222ebb8273b);\n",
       "        \n",
       "    \n",
       "        var popup_b7802398290ed11e39e891411c636a61 = L.popup({&quot;maxWidth&quot;: &quot;100%&quot;});\n",
       "\n",
       "        \n",
       "            var html_c8b598cc8cf3414dedf105d4c2e33aea = $(`&lt;div id=&quot;html_c8b598cc8cf3414dedf105d4c2e33aea&quot; style=&quot;width: 100.0%; height: 100.0%;&quot;&gt;TheKr3ature: @bhozalam05 Probably preparing for Monday night football 😂&lt;/div&gt;`)[0];\n",
       "            popup_b7802398290ed11e39e891411c636a61.setContent(html_c8b598cc8cf3414dedf105d4c2e33aea);\n",
       "        \n",
       "\n",
       "        marker_9ff34f114c70351b7ba71c0d9187a0c9.bindPopup(popup_b7802398290ed11e39e891411c636a61)\n",
       "        ;\n",
       "\n",
       "        \n",
       "    \n",
       "    \n",
       "            var marker_6b4c045de7768df416be2e86772f1dff = L.marker(\n",
       "                [36.5565161, 44.3497809],\n",
       "                {}\n",
       "            ).addTo(map_1fabf87f1dc13d20ae845222ebb8273b);\n",
       "        \n",
       "    \n",
       "        var popup_1819ec8091ee502c2e4658fc5d8fe51f = L.popup({&quot;maxWidth&quot;: &quot;100%&quot;});\n",
       "\n",
       "        \n",
       "            var html_8698ff14eb2fa45129f5e355c4cec81f = $(`&lt;div id=&quot;html_8698ff14eb2fa45129f5e355c4cec81f&quot; style=&quot;width: 100.0%; height: 100.0%;&quot;&gt;A1anJr: Thankful for this fluke ass football league they got on NBC to help pass the time&lt;/div&gt;`)[0];\n",
       "            popup_1819ec8091ee502c2e4658fc5d8fe51f.setContent(html_8698ff14eb2fa45129f5e355c4cec81f);\n",
       "        \n",
       "\n",
       "        marker_6b4c045de7768df416be2e86772f1dff.bindPopup(popup_1819ec8091ee502c2e4658fc5d8fe51f)\n",
       "        ;\n",
       "\n",
       "        \n",
       "    \n",
       "    \n",
       "            var marker_0198427123351d704b657ae9c6193c3f = L.marker(\n",
       "                [51.5073219, -0.1276474],\n",
       "                {}\n",
       "            ).addTo(map_1fabf87f1dc13d20ae845222ebb8273b);\n",
       "        \n",
       "    \n",
       "        var popup_204d3a6c4b34739e8f98ea5a797362f3 = L.popup({&quot;maxWidth&quot;: &quot;100%&quot;});\n",
       "\n",
       "        \n",
       "            var html_631c7c65e8e40b9586597d6f0ccc9a90 = $(`&lt;div id=&quot;html_631c7c65e8e40b9586597d6f0ccc9a90&quot; style=&quot;width: 100.0%; height: 100.0%;&quot;&gt;DKBrodie7: My calf is injured from football 😭&lt;/div&gt;`)[0];\n",
       "            popup_204d3a6c4b34739e8f98ea5a797362f3.setContent(html_631c7c65e8e40b9586597d6f0ccc9a90);\n",
       "        \n",
       "\n",
       "        marker_0198427123351d704b657ae9c6193c3f.bindPopup(popup_204d3a6c4b34739e8f98ea5a797362f3)\n",
       "        ;\n",
       "\n",
       "        \n",
       "    \n",
       "    \n",
       "            var marker_940345ad6b3093cccbf88f740a7198e5 = L.marker(\n",
       "                [52.7954791, -0.540240286617432],\n",
       "                {}\n",
       "            ).addTo(map_1fabf87f1dc13d20ae845222ebb8273b);\n",
       "        \n",
       "    \n",
       "        var popup_b643a6627b9b04847534ec8ea36a8f4f = L.popup({&quot;maxWidth&quot;: &quot;100%&quot;});\n",
       "\n",
       "        \n",
       "            var html_db7c6f0d21a3f6fd3c78ea9e7e9b0865 = $(`&lt;div id=&quot;html_db7c6f0d21a3f6fd3c78ea9e7e9b0865&quot; style=&quot;width: 100.0%; height: 100.0%;&quot;&gt;Rob19_06: @Football__Tweet Football gone mad&lt;/div&gt;`)[0];\n",
       "            popup_b643a6627b9b04847534ec8ea36a8f4f.setContent(html_db7c6f0d21a3f6fd3c78ea9e7e9b0865);\n",
       "        \n",
       "\n",
       "        marker_940345ad6b3093cccbf88f740a7198e5.bindPopup(popup_b643a6627b9b04847534ec8ea36a8f4f)\n",
       "        ;\n",
       "\n",
       "        \n",
       "    \n",
       "    \n",
       "            var marker_90da5bf0975bdc2dd63d55c77ef42b70 = L.marker(\n",
       "                [53.4791301, -2.2441009],\n",
       "                {}\n",
       "            ).addTo(map_1fabf87f1dc13d20ae845222ebb8273b);\n",
       "        \n",
       "    \n",
       "        var popup_693b5f960a9e0e330e44a8a3e0b97484 = L.popup({&quot;maxWidth&quot;: &quot;100%&quot;});\n",
       "\n",
       "        \n",
       "            var html_e64128a0ffeedadca205fe5d9dfaba68 = $(`&lt;div id=&quot;html_e64128a0ffeedadca205fe5d9dfaba68&quot; style=&quot;width: 100.0%; height: 100.0%;&quot;&gt;ManchesterDrb: Kylian #Mbappe: La Liga chief scalds &#x27;dangerous&#x27; PSG president as Real Madrid miss out | Football | Sport https://t.co/xHTAlhk0eC&lt;/div&gt;`)[0];\n",
       "            popup_693b5f960a9e0e330e44a8a3e0b97484.setContent(html_e64128a0ffeedadca205fe5d9dfaba68);\n",
       "        \n",
       "\n",
       "        marker_90da5bf0975bdc2dd63d55c77ef42b70.bindPopup(popup_693b5f960a9e0e330e44a8a3e0b97484)\n",
       "        ;\n",
       "\n",
       "        \n",
       "    \n",
       "    \n",
       "            var marker_73c02e84154e8b3cd469518cd03793bf = L.marker(\n",
       "                [6.698081, -1.6230404],\n",
       "                {}\n",
       "            ).addTo(map_1fabf87f1dc13d20ae845222ebb8273b);\n",
       "        \n",
       "    \n",
       "        var popup_60d90ba16e4e26676b99eb87204774d5 = L.popup({&quot;maxWidth&quot;: &quot;100%&quot;});\n",
       "\n",
       "        \n",
       "            var html_9e302d848cdd20d1f2384609c5a651a4 = $(`&lt;div id=&quot;html_9e302d848cdd20d1f2384609c5a651a4&quot; style=&quot;width: 100.0%; height: 100.0%;&quot;&gt;TheAdabor: @BekoeIshmaeI @OtiAdjei PSG and Ceferin wants to save football. And superleague was evil because of money... SMH&lt;/div&gt;`)[0];\n",
       "            popup_60d90ba16e4e26676b99eb87204774d5.setContent(html_9e302d848cdd20d1f2384609c5a651a4);\n",
       "        \n",
       "\n",
       "        marker_73c02e84154e8b3cd469518cd03793bf.bindPopup(popup_60d90ba16e4e26676b99eb87204774d5)\n",
       "        ;\n",
       "\n",
       "        \n",
       "    \n",
       "    \n",
       "            var marker_ff324afc5e81aa8e15307a88ca806e2e = L.marker(\n",
       "                [48.6917007, 6.1837735],\n",
       "                {}\n",
       "            ).addTo(map_1fabf87f1dc13d20ae845222ebb8273b);\n",
       "        \n",
       "    \n",
       "        var popup_33614eadf64f87d332b635a5efe5270c = L.popup({&quot;maxWidth&quot;: &quot;100%&quot;});\n",
       "\n",
       "        \n",
       "            var html_27f18ec858959bd5c6549fb14959debb = $(`&lt;div id=&quot;html_27f18ec858959bd5c6549fb14959debb&quot; style=&quot;width: 100.0%; height: 100.0%;&quot;&gt;MarioLunaFC: My every bloody thought, Barça, Women’s football, video games, Final Fantasy shit, food, art, hockey and me swearing. My hobbies. Random historical, language and war tidbits.&lt;/div&gt;`)[0];\n",
       "            popup_33614eadf64f87d332b635a5efe5270c.setContent(html_27f18ec858959bd5c6549fb14959debb);\n",
       "        \n",
       "\n",
       "        marker_ff324afc5e81aa8e15307a88ca806e2e.bindPopup(popup_33614eadf64f87d332b635a5efe5270c)\n",
       "        ;\n",
       "\n",
       "        \n",
       "    \n",
       "    \n",
       "            var marker_78cef334ef7f670486172b0935e0939b = L.marker(\n",
       "                [27.7567667, -81.4639835],\n",
       "                {}\n",
       "            ).addTo(map_1fabf87f1dc13d20ae845222ebb8273b);\n",
       "        \n",
       "    \n",
       "        var popup_135952a52ac84dfe5e0d6371ec7009c3 = L.popup({&quot;maxWidth&quot;: &quot;100%&quot;});\n",
       "\n",
       "        \n",
       "            var html_c7f32e40707bdb227d55af62712bade3 = $(`&lt;div id=&quot;html_c7f32e40707bdb227d55af62712bade3&quot; style=&quot;width: 100.0%; height: 100.0%;&quot;&gt;REV_Kramer: @JustinHendon7 @PFF_Fantasy Not trying to play fantasy football but if you have a good QB. Their chances go way up. Targets go up cuz drives stay alive. These weaker teams can’t sustain&lt;/div&gt;`)[0];\n",
       "            popup_135952a52ac84dfe5e0d6371ec7009c3.setContent(html_c7f32e40707bdb227d55af62712bade3);\n",
       "        \n",
       "\n",
       "        marker_78cef334ef7f670486172b0935e0939b.bindPopup(popup_135952a52ac84dfe5e0d6371ec7009c3)\n",
       "        ;\n",
       "\n",
       "        \n",
       "    \n",
       "    \n",
       "            var marker_e21e025e3661f6031bf38f3ac0facd37 = L.marker(\n",
       "                [55.9477764, -3.9882568],\n",
       "                {}\n",
       "            ).addTo(map_1fabf87f1dc13d20ae845222ebb8273b);\n",
       "        \n",
       "    \n",
       "        var popup_e816c61aaa11db74fa06a314d7f6fd13 = L.popup({&quot;maxWidth&quot;: &quot;100%&quot;});\n",
       "\n",
       "        \n",
       "            var html_ec5bd029203745d4af42c3caa212b645 = $(`&lt;div id=&quot;html_ec5bd029203745d4af42c3caa212b645&quot; style=&quot;width: 100.0%; height: 100.0%;&quot;&gt;Dorothy90237074: Men&#x27;s Scotland Football Games on either ITV or BBC. No Paywall! https://t.co/kO6GXhud2y via @UKChange Why should we only see another country’s games for free?&lt;/div&gt;`)[0];\n",
       "            popup_e816c61aaa11db74fa06a314d7f6fd13.setContent(html_ec5bd029203745d4af42c3caa212b645);\n",
       "        \n",
       "\n",
       "        marker_e21e025e3661f6031bf38f3ac0facd37.bindPopup(popup_e816c61aaa11db74fa06a314d7f6fd13)\n",
       "        ;\n",
       "\n",
       "        \n",
       "    \n",
       "    \n",
       "            var marker_c01df292a486680bcac2a55e771838b5 = L.marker(\n",
       "                [34.2331373, -102.4107493],\n",
       "                {}\n",
       "            ).addTo(map_1fabf87f1dc13d20ae845222ebb8273b);\n",
       "        \n",
       "    \n",
       "        var popup_600a486218f517aaa40e2aadfcc07d42 = L.popup({&quot;maxWidth&quot;: &quot;100%&quot;});\n",
       "\n",
       "        \n",
       "            var html_5fe6683905f0f612042a701a4a8be6cd = $(`&lt;div id=&quot;html_5fe6683905f0f612042a701a4a8be6cd&quot; style=&quot;width: 100.0%; height: 100.0%;&quot;&gt;vcantweet: Wow everybody in german football seems to hate RB Leipzig lol&lt;/div&gt;`)[0];\n",
       "            popup_600a486218f517aaa40e2aadfcc07d42.setContent(html_5fe6683905f0f612042a701a4a8be6cd);\n",
       "        \n",
       "\n",
       "        marker_c01df292a486680bcac2a55e771838b5.bindPopup(popup_600a486218f517aaa40e2aadfcc07d42)\n",
       "        ;\n",
       "\n",
       "        \n",
       "    \n",
       "    \n",
       "            var marker_3619c9273bd56eec1fb3a612e26c1dfa = L.marker(\n",
       "                [38.8949549, -77.0366456],\n",
       "                {}\n",
       "            ).addTo(map_1fabf87f1dc13d20ae845222ebb8273b);\n",
       "        \n",
       "    \n",
       "        var popup_68ece5920b03ba8404360b5ade9990de = L.popup({&quot;maxWidth&quot;: &quot;100%&quot;});\n",
       "\n",
       "        \n",
       "            var html_5306a22ea1fbe6a9f7329f0995de7489 = $(`&lt;div id=&quot;html_5306a22ea1fbe6a9f7329f0995de7489&quot; style=&quot;width: 100.0%; height: 100.0%;&quot;&gt;DailyCaller: Famous Football Coach And Former NFL Player Dies At The Age Of 59 https://t.co/YYrg4xQqJV&lt;/div&gt;`)[0];\n",
       "            popup_68ece5920b03ba8404360b5ade9990de.setContent(html_5306a22ea1fbe6a9f7329f0995de7489);\n",
       "        \n",
       "\n",
       "        marker_3619c9273bd56eec1fb3a612e26c1dfa.bindPopup(popup_68ece5920b03ba8404360b5ade9990de)\n",
       "        ;\n",
       "\n",
       "        \n",
       "    \n",
       "    \n",
       "            var marker_42a525fb50be5b48a564520b04213cf2 = L.marker(\n",
       "                [32.7947731, -116.9625269],\n",
       "                {}\n",
       "            ).addTo(map_1fabf87f1dc13d20ae845222ebb8273b);\n",
       "        \n",
       "    \n",
       "        var popup_09ee6257680f616bc351825d87292b70 = L.popup({&quot;maxWidth&quot;: &quot;100%&quot;});\n",
       "\n",
       "        \n",
       "            var html_1627893682ba6cf507bed71b5133dfd8 = $(`&lt;div id=&quot;html_1627893682ba6cf507bed71b5133dfd8&quot; style=&quot;width: 100.0%; height: 100.0%;&quot;&gt;coachosborn94: Appreciate @CoachBenBlake for stopping by to talk about our guys and to talk football https://t.co/YzwNOpUJsh&lt;/div&gt;`)[0];\n",
       "            popup_09ee6257680f616bc351825d87292b70.setContent(html_1627893682ba6cf507bed71b5133dfd8);\n",
       "        \n",
       "\n",
       "        marker_42a525fb50be5b48a564520b04213cf2.bindPopup(popup_09ee6257680f616bc351825d87292b70)\n",
       "        ;\n",
       "\n",
       "        \n",
       "    \n",
       "    \n",
       "            var marker_17e1dc0582d6a8cfbf35681bffc7fa79 = L.marker(\n",
       "                [12.9313561, 100.943644890163],\n",
       "                {}\n",
       "            ).addTo(map_1fabf87f1dc13d20ae845222ebb8273b);\n",
       "        \n",
       "    \n",
       "        var popup_28ad4d1c77279e5c01b596aad7ca5a0a = L.popup({&quot;maxWidth&quot;: &quot;100%&quot;});\n",
       "\n",
       "        \n",
       "            var html_60ff93a6db8b920abd95221088d46dfc = $(`&lt;div id=&quot;html_60ff93a6db8b920abd95221088d46dfc&quot; style=&quot;width: 100.0%; height: 100.0%;&quot;&gt;UEFAcomPaulS: I really like football #UWCLfinall&lt;/div&gt;`)[0];\n",
       "            popup_28ad4d1c77279e5c01b596aad7ca5a0a.setContent(html_60ff93a6db8b920abd95221088d46dfc);\n",
       "        \n",
       "\n",
       "        marker_17e1dc0582d6a8cfbf35681bffc7fa79.bindPopup(popup_28ad4d1c77279e5c01b596aad7ca5a0a)\n",
       "        ;\n",
       "\n",
       "        \n",
       "    \n",
       "    \n",
       "            var marker_530a71237f33d583c09f5c882dc1cfe7 = L.marker(\n",
       "                [53.3833838, -2.33522832183216],\n",
       "                {}\n",
       "            ).addTo(map_1fabf87f1dc13d20ae845222ebb8273b);\n",
       "        \n",
       "    \n",
       "        var popup_55033b0f8daab913bea38da5360bf8ac = L.popup({&quot;maxWidth&quot;: &quot;100%&quot;});\n",
       "\n",
       "        \n",
       "            var html_304b9ef9965136b8194d41d5549ca7f9 = $(`&lt;div id=&quot;html_304b9ef9965136b8194d41d5549ca7f9&quot; style=&quot;width: 100.0%; height: 100.0%;&quot;&gt;altrinchamfc: Quote from new skipper @JHulme1   “It’s exciting times for the club and I can’t way to be a part of it. I will do everything I can to make the new lads feel as welcome as possible and integrate them into this fantastic football club. UTA ❤️” https://t.co/h8fq8ng5Ql&lt;/div&gt;`)[0];\n",
       "            popup_55033b0f8daab913bea38da5360bf8ac.setContent(html_304b9ef9965136b8194d41d5549ca7f9);\n",
       "        \n",
       "\n",
       "        marker_530a71237f33d583c09f5c882dc1cfe7.bindPopup(popup_55033b0f8daab913bea38da5360bf8ac)\n",
       "        ;\n",
       "\n",
       "        \n",
       "    \n",
       "    \n",
       "            var marker_90d2c872ed77fb21edbdc1d807bce3c6 = L.marker(\n",
       "                [40.7306458, -73.9866136],\n",
       "                {}\n",
       "            ).addTo(map_1fabf87f1dc13d20ae845222ebb8273b);\n",
       "        \n",
       "    \n",
       "        var popup_79d937d03ba504a513a96f86efc0a47e = L.popup({&quot;maxWidth&quot;: &quot;100%&quot;});\n",
       "\n",
       "        \n",
       "            var html_cb89277e49bac55a955addcdc024140a = $(`&lt;div id=&quot;html_cb89277e49bac55a955addcdc024140a&quot; style=&quot;width: 100.0%; height: 100.0%;&quot;&gt;AFIReview: Egyptian National Football League kicked off 8th season https://t.co/kCsobA0WGj&lt;/div&gt;`)[0];\n",
       "            popup_79d937d03ba504a513a96f86efc0a47e.setContent(html_cb89277e49bac55a955addcdc024140a);\n",
       "        \n",
       "\n",
       "        marker_90d2c872ed77fb21edbdc1d807bce3c6.bindPopup(popup_79d937d03ba504a513a96f86efc0a47e)\n",
       "        ;\n",
       "\n",
       "        \n",
       "    \n",
       "    \n",
       "            var marker_75438d448e7808412e83dc3aaa9a1e90 = L.marker(\n",
       "                [34.2465393, -80.6070238],\n",
       "                {}\n",
       "            ).addTo(map_1fabf87f1dc13d20ae845222ebb8273b);\n",
       "        \n",
       "    \n",
       "        var popup_699ca3938d73fcc51729b7ab6eca0c10 = L.popup({&quot;maxWidth&quot;: &quot;100%&quot;});\n",
       "\n",
       "        \n",
       "            var html_03aa743c8d3b295c3868b6b41d792166 = $(`&lt;div id=&quot;html_03aa743c8d3b295c3868b6b41d792166&quot; style=&quot;width: 100.0%; height: 100.0%;&quot;&gt;birdmac25: Just wanted tell you thank you for everything you have done for @HankTarte not just football or track but preparing him for his future. Hank exact words the I am going to miss coach Clyburn. Hope you realize the impact you had on him.  @CamdenDogs @ClyburnHogmen @Camden_Bulldogs https://t.co/E9YLGvB0UK&lt;/div&gt;`)[0];\n",
       "            popup_699ca3938d73fcc51729b7ab6eca0c10.setContent(html_03aa743c8d3b295c3868b6b41d792166);\n",
       "        \n",
       "\n",
       "        marker_75438d448e7808412e83dc3aaa9a1e90.bindPopup(popup_699ca3938d73fcc51729b7ab6eca0c10)\n",
       "        ;\n",
       "\n",
       "        \n",
       "    \n",
       "    \n",
       "            var marker_da48b361093882469ad2ba9893428f1b = L.marker(\n",
       "                [34.2336842, -117.8055859],\n",
       "                {}\n",
       "            ).addTo(map_1fabf87f1dc13d20ae845222ebb8273b);\n",
       "        \n",
       "    \n",
       "        var popup_02811499cb8929ff601db84b7d96a012 = L.popup({&quot;maxWidth&quot;: &quot;100%&quot;});\n",
       "\n",
       "        \n",
       "            var html_7bc310d53551ea93ab7975ea75c5aebf = $(`&lt;div id=&quot;html_7bc310d53551ea93ab7975ea75c5aebf&quot; style=&quot;width: 100.0%; height: 100.0%;&quot;&gt;FrankyRN51: @mrewanmurray Do you actually know how football works?&lt;/div&gt;`)[0];\n",
       "            popup_02811499cb8929ff601db84b7d96a012.setContent(html_7bc310d53551ea93ab7975ea75c5aebf);\n",
       "        \n",
       "\n",
       "        marker_da48b361093882469ad2ba9893428f1b.bindPopup(popup_02811499cb8929ff601db84b7d96a012)\n",
       "        ;\n",
       "\n",
       "        \n",
       "    \n",
       "    \n",
       "            var marker_4a58980e23e9a2a3206d7cfa4f7a3ef4 = L.marker(\n",
       "                [51.456659, -0.9696512],\n",
       "                {}\n",
       "            ).addTo(map_1fabf87f1dc13d20ae845222ebb8273b);\n",
       "        \n",
       "    \n",
       "        var popup_b2de9d7e18dcb27a13047145a16c45df = L.popup({&quot;maxWidth&quot;: &quot;100%&quot;});\n",
       "\n",
       "        \n",
       "            var html_bf1d9dfa63b21de7f2ce377096514453 = $(`&lt;div id=&quot;html_bf1d9dfa63b21de7f2ce377096514453&quot; style=&quot;width: 100.0%; height: 100.0%;&quot;&gt;RyanSheehan92: So refreshing listening to these two talk, they know just how special Reading Football Club is 💙  It&#x27;s reassuring to see that Brian is optimistic about the future.  Would love to have both of these legends back at the club, in some capacity.    #readingfc&lt;/div&gt;`)[0];\n",
       "            popup_b2de9d7e18dcb27a13047145a16c45df.setContent(html_bf1d9dfa63b21de7f2ce377096514453);\n",
       "        \n",
       "\n",
       "        marker_4a58980e23e9a2a3206d7cfa4f7a3ef4.bindPopup(popup_b2de9d7e18dcb27a13047145a16c45df)\n",
       "        ;\n",
       "\n",
       "        \n",
       "    \n",
       "    \n",
       "            var marker_39e664d1ac23601a43b17d3535e74ec5 = L.marker(\n",
       "                [21.3822222, -157.9336111],\n",
       "                {}\n",
       "            ).addTo(map_1fabf87f1dc13d20ae845222ebb8273b);\n",
       "        \n",
       "    \n",
       "        var popup_a28a1b86c58b1162d7b2bf63a6b9d5ba = L.popup({&quot;maxWidth&quot;: &quot;100%&quot;});\n",
       "\n",
       "        \n",
       "            var html_db77a554627b5d113d7263738ddd0709 = $(`&lt;div id=&quot;html_db77a554627b5d113d7263738ddd0709&quot; style=&quot;width: 100.0%; height: 100.0%;&quot;&gt;hoganmark: @elitetakes_ All of the Allen &amp;gt; Mahomes takes I&#x27;ve seen have been exclusive to fantasy football. Is this a take people actually have for real football?&lt;/div&gt;`)[0];\n",
       "            popup_a28a1b86c58b1162d7b2bf63a6b9d5ba.setContent(html_db77a554627b5d113d7263738ddd0709);\n",
       "        \n",
       "\n",
       "        marker_39e664d1ac23601a43b17d3535e74ec5.bindPopup(popup_a28a1b86c58b1162d7b2bf63a6b9d5ba)\n",
       "        ;\n",
       "\n",
       "        \n",
       "    \n",
       "    \n",
       "            var marker_a5af9f5b7cf3d4007c7f290b19434c83 = L.marker(\n",
       "                [54.7023545, -3.2765753],\n",
       "                {}\n",
       "            ).addTo(map_1fabf87f1dc13d20ae845222ebb8273b);\n",
       "        \n",
       "    \n",
       "        var popup_07e78a1af2df11f05fff31fd0aa25d47 = L.popup({&quot;maxWidth&quot;: &quot;100%&quot;});\n",
       "\n",
       "        \n",
       "            var html_65247ef5b28a143374c2367b11f86a18 = $(`&lt;div id=&quot;html_65247ef5b28a143374c2367b11f86a18&quot; style=&quot;width: 100.0%; height: 100.0%;&quot;&gt;Finlaybob301: @goingfor53 @John221975 @ItsStephsParty Depends how you look at it. Evidently better this season or last 2 seasons..last 10 years or last 20 years. Pretty good 12th to make it to a European second tier final. Scottish football is by definition shite so to get there and lose on a single penalty isn&#x27;t poor at all.&lt;/div&gt;`)[0];\n",
       "            popup_07e78a1af2df11f05fff31fd0aa25d47.setContent(html_65247ef5b28a143374c2367b11f86a18);\n",
       "        \n",
       "\n",
       "        marker_a5af9f5b7cf3d4007c7f290b19434c83.bindPopup(popup_07e78a1af2df11f05fff31fd0aa25d47)\n",
       "        ;\n",
       "\n",
       "        \n",
       "    \n",
       "    \n",
       "            var marker_ef04d7972b69a7ed511e7fc4aaf4c033 = L.marker(\n",
       "                [55.8985334, -3.6401591],\n",
       "                {}\n",
       "            ).addTo(map_1fabf87f1dc13d20ae845222ebb8273b);\n",
       "        \n",
       "    \n",
       "        var popup_40a30c1f4a5c14ff1898cf8da7b9b08f = L.popup({&quot;maxWidth&quot;: &quot;100%&quot;});\n",
       "\n",
       "        \n",
       "            var html_a2fa9a86ef7a830873008a78e74f5d4d = $(`&lt;div id=&quot;html_a2fa9a86ef7a830873008a78e74f5d4d&quot; style=&quot;width: 100.0%; height: 100.0%;&quot;&gt;CallumR1874: Another toothless display in Glasgow , but finishing 3rd in league and securing European football and getting to the cup final is some achievement. Looking forward to a Euro trip now…!&lt;/div&gt;`)[0];\n",
       "            popup_40a30c1f4a5c14ff1898cf8da7b9b08f.setContent(html_a2fa9a86ef7a830873008a78e74f5d4d);\n",
       "        \n",
       "\n",
       "        marker_ef04d7972b69a7ed511e7fc4aaf4c033.bindPopup(popup_40a30c1f4a5c14ff1898cf8da7b9b08f)\n",
       "        ;\n",
       "\n",
       "        \n",
       "    \n",
       "    \n",
       "            var marker_4415fd54d397e4750e41b5e285a35124 = L.marker(\n",
       "                [42.7089493, -78.5780796],\n",
       "                {}\n",
       "            ).addTo(map_1fabf87f1dc13d20ae845222ebb8273b);\n",
       "        \n",
       "    \n",
       "        var popup_e074fdfffb1ba2724cbcbf9668012f8e = L.popup({&quot;maxWidth&quot;: &quot;100%&quot;});\n",
       "\n",
       "        \n",
       "            var html_e4244d108296f268d510d19e1df91ed3 = $(`&lt;div id=&quot;html_e4244d108296f268d510d19e1df91ed3&quot; style=&quot;width: 100.0%; height: 100.0%;&quot;&gt;Kail1967: He tries not to be a result based manager? then wtf is he doing being placed in charge of any football team? Last time i checked its exactly results that a manger and a team needs to stay in a job or in a league? Fucking confused the shit out of me with that fucking logic.&lt;/div&gt;`)[0];\n",
       "            popup_e074fdfffb1ba2724cbcbf9668012f8e.setContent(html_e4244d108296f268d510d19e1df91ed3);\n",
       "        \n",
       "\n",
       "        marker_4415fd54d397e4750e41b5e285a35124.bindPopup(popup_e074fdfffb1ba2724cbcbf9668012f8e)\n",
       "        ;\n",
       "\n",
       "        \n",
       "    \n",
       "    \n",
       "            var marker_a4adf19d36f3ac4a3d818ed19755ed12 = L.marker(\n",
       "                [38.9046249, -123.2261177],\n",
       "                {}\n",
       "            ).addTo(map_1fabf87f1dc13d20ae845222ebb8273b);\n",
       "        \n",
       "    \n",
       "        var popup_d6644b4aacb3bce9bcd339bc3637bba8 = L.popup({&quot;maxWidth&quot;: &quot;100%&quot;});\n",
       "\n",
       "        \n",
       "            var html_540c641ec199a43d1903d275779f4a65 = $(`&lt;div id=&quot;html_540c641ec199a43d1903d275779f4a65&quot; style=&quot;width: 100.0%; height: 100.0%;&quot;&gt;rvfc2009: @PodcastSelk @deloldfield4 A announcement as to made soon so lges can do there constitutions,    goes to show how far sunday football has gone ,no rolling in from the clubs,  few hrs kip getting ur boots and enjoying 90 mins with your mates then aving a another couple pints  to discuss the game 🥺&lt;/div&gt;`)[0];\n",
       "            popup_d6644b4aacb3bce9bcd339bc3637bba8.setContent(html_540c641ec199a43d1903d275779f4a65);\n",
       "        \n",
       "\n",
       "        marker_a4adf19d36f3ac4a3d818ed19755ed12.bindPopup(popup_d6644b4aacb3bce9bcd339bc3637bba8)\n",
       "        ;\n",
       "\n",
       "        \n",
       "    \n",
       "    \n",
       "            var marker_6487b9dd530cab8a77a1a135c769ac15 = L.marker(\n",
       "                [38.9046249, -123.2261177],\n",
       "                {}\n",
       "            ).addTo(map_1fabf87f1dc13d20ae845222ebb8273b);\n",
       "        \n",
       "    \n",
       "        var popup_625c59cb332c3fa21d0cfa0021ea8f75 = L.popup({&quot;maxWidth&quot;: &quot;100%&quot;});\n",
       "\n",
       "        \n",
       "            var html_694ebc3e6ab9f284d942c77f22113032 = $(`&lt;div id=&quot;html_694ebc3e6ab9f284d942c77f22113032&quot; style=&quot;width: 100.0%; height: 100.0%;&quot;&gt;MarleneEurell: Music to my ears😊Football killed them real death this time, their Kambala could not save them.😂😂😂 I don&#x27;t give a fuck if a club is from Limpopo or KZN, in South Africa i am only loyal and proud Kaizer Chiefs fan.💛🖤 I wish Bakgaga all the best in their future endeavors.😌&lt;/div&gt;`)[0];\n",
       "            popup_625c59cb332c3fa21d0cfa0021ea8f75.setContent(html_694ebc3e6ab9f284d942c77f22113032);\n",
       "        \n",
       "\n",
       "        marker_6487b9dd530cab8a77a1a135c769ac15.bindPopup(popup_625c59cb332c3fa21d0cfa0021ea8f75)\n",
       "        ;\n",
       "\n",
       "        \n",
       "    \n",
       "    \n",
       "            var marker_f1a289faaa27b47fa1e8401d48ea237e = L.marker(\n",
       "                [12.9313561, 100.943644890163],\n",
       "                {}\n",
       "            ).addTo(map_1fabf87f1dc13d20ae845222ebb8273b);\n",
       "        \n",
       "    \n",
       "        var popup_4f1d34500cdfc266df6e893a3cf09b0e = L.popup({&quot;maxWidth&quot;: &quot;100%&quot;});\n",
       "\n",
       "        \n",
       "            var html_df886d3a299859630ea856a84a750fc1 = $(`&lt;div id=&quot;html_df886d3a299859630ea856a84a750fc1&quot; style=&quot;width: 100.0%; height: 100.0%;&quot;&gt;UEFAcomPaulS: I really like football #UWCLfinal&lt;/div&gt;`)[0];\n",
       "            popup_4f1d34500cdfc266df6e893a3cf09b0e.setContent(html_df886d3a299859630ea856a84a750fc1);\n",
       "        \n",
       "\n",
       "        marker_f1a289faaa27b47fa1e8401d48ea237e.bindPopup(popup_4f1d34500cdfc266df6e893a3cf09b0e)\n",
       "        ;\n",
       "\n",
       "        \n",
       "    \n",
       "    \n",
       "            var marker_dfddccf78a8ee5f4d75f0dfa42a61dd2 = L.marker(\n",
       "                [10.3825318, 7.8533226],\n",
       "                {}\n",
       "            ).addTo(map_1fabf87f1dc13d20ae845222ebb8273b);\n",
       "        \n",
       "    \n",
       "        var popup_0025d9d0c3bb5f7539faf50d21e51457 = L.popup({&quot;maxWidth&quot;: &quot;100%&quot;});\n",
       "\n",
       "        \n",
       "            var html_e2be412a77315c84890c4ffdd8592e3c = $(`&lt;div id=&quot;html_e2be412a77315c84890c4ffdd8592e3c&quot; style=&quot;width: 100.0%; height: 100.0%;&quot;&gt;nathan_oji: @efesmallz_ @papzci The currently have the world most expensive forwards and yet they playing mediocre football at European level. At this point I&#x27;m not sure PSG can win a serious arsenal.&lt;/div&gt;`)[0];\n",
       "            popup_0025d9d0c3bb5f7539faf50d21e51457.setContent(html_e2be412a77315c84890c4ffdd8592e3c);\n",
       "        \n",
       "\n",
       "        marker_dfddccf78a8ee5f4d75f0dfa42a61dd2.bindPopup(popup_0025d9d0c3bb5f7539faf50d21e51457)\n",
       "        ;\n",
       "\n",
       "        \n",
       "    \n",
       "    \n",
       "            var marker_c9e0617c3135c74ddb70f23a4e1cd263 = L.marker(\n",
       "                [54.7023545, -3.2765753],\n",
       "                {}\n",
       "            ).addTo(map_1fabf87f1dc13d20ae845222ebb8273b);\n",
       "        \n",
       "    \n",
       "        var popup_50f018cbd5208c7f3bd61f73f13909be = L.popup({&quot;maxWidth&quot;: &quot;100%&quot;});\n",
       "\n",
       "        \n",
       "            var html_b4783dfd0f1a01d644cf7be44fa2671f = $(`&lt;div id=&quot;html_b4783dfd0f1a01d644cf7be44fa2671f&quot; style=&quot;width: 100.0%; height: 100.0%;&quot;&gt;DrFrankenfear: @Jon_Mackenzie I see arguments in the replies that “we didn’t play as good football under Bielsa team this season”. I can’t disagree. However, the plan/intention to play good, attacking football never left. The point is that, sadly, for many reasons, the execution of the plan was lacking&lt;/div&gt;`)[0];\n",
       "            popup_50f018cbd5208c7f3bd61f73f13909be.setContent(html_b4783dfd0f1a01d644cf7be44fa2671f);\n",
       "        \n",
       "\n",
       "        marker_c9e0617c3135c74ddb70f23a4e1cd263.bindPopup(popup_50f018cbd5208c7f3bd61f73f13909be)\n",
       "        ;\n",
       "\n",
       "        \n",
       "    \n",
       "&lt;/script&gt;\" style=\"position:absolute;width:100%;height:100%;left:0;top:0;border:none !important;\" allowfullscreen webkitallowfullscreen mozallowfullscreen></iframe></div></div>"
      ],
      "text/plain": [
       "<folium.folium.Map at 0x1aadf32b0>"
      ]
     },
     "execution_count": 58,
     "metadata": {},
     "output_type": "execute_result"
    }
   ],
   "source": [
    "usmap"
   ]
  },
  {
   "cell_type": "markdown",
   "metadata": {},
   "source": [
    "<!--\n",
    "#from IPython.display import IFrame\n",
    "#IFrame(src=\"./tweet_map.html\", width=800, height=450)\n",
    "-->"
   ]
  },
  {
   "cell_type": "markdown",
   "metadata": {},
   "source": [
    "<hr style=\"height:2px; border:none; color:#000; background-color:#000;\">"
   ]
  },
  {
   "cell_type": "markdown",
   "metadata": {},
   "source": [
    "## Utility Functions\n",
    "See the following for details: \n",
    "* [**Python Fundamentals LiveLessons video**](https://learning.oreilly.com/videos/python-fundamentals/9780135917411/9780135917411-PFLL_Lesson12_26) \n",
    "* [Sections 12.5.2-12.5.3 in **Python for Programmers**](https://learning.oreilly.com/library/view/python-for-programmers/9780135231364/ch12.xhtml#ch12lev2sec10)\n",
    "\n",
    "### `get_tweet_content` Utility Function (2 of 2)\n",
    "```python\n",
    "def get_tweet_content(tweet, location=False):\n",
    "    \"\"\"Return dictionary with data from tweet (a Status object).\"\"\"\n",
    "    fields = {}\n",
    "    fields['screen_name'] = tweet.user.screen_name\n",
    "\n",
    "    # get the tweet's text\n",
    "    try:  \n",
    "        fields['text'] = tweet.extended_tweet[\"full_text\"]\n",
    "    except: \n",
    "        fields['text'] = tweet.text\n",
    "\n",
    "    if location:\n",
    "        fields['location'] = tweet.user.location\n",
    "\n",
    "    return fields\n",
    "\n",
    "```"
   ]
  },
  {
   "cell_type": "markdown",
   "metadata": {},
   "source": [
    "<hr style=\"height:2px; border:none; color:#000; background-color:#000;\">"
   ]
  },
  {
   "cell_type": "markdown",
   "metadata": {},
   "source": [
    "### `get_geocodes` Utility Function (1 of 3)\n",
    "* Receives a **list of dictionaries** containing tweets and **geocodes their locations**\n",
    "* If **geocoding** is **successful** for a tweet, adds the **latitude** and **longitude** to the tweet’s **dictionary in `tweet_list`**\n",
    "* Requires class **`OpenMapQuest`** from the **geopy module**"
   ]
  },
  {
   "cell_type": "markdown",
   "metadata": {},
   "source": [
    "<hr style=\"height:2px; border:none; color:#000; background-color:#000;\">"
   ]
  },
  {
   "cell_type": "markdown",
   "metadata": {},
   "source": [
    "### `get_geocodes` Utility Function (2 of 3)\n",
    "```python\n",
    "from geopy import OpenMapQuest\n",
    "```\n",
    "\n",
    "```python\n",
    "def get_geocodes(tweet_list):\n",
    "    \"\"\"Get the latitude and longitude for each tweet's location.\n",
    "    Returns the number of tweets with invalid location data.\"\"\"\n",
    "    print('Getting coordinates for tweet locations...')\n",
    "    geo = OpenMapQuest(api_key=keys.mapquest_key)  # geocoder\n",
    "    bad_locations = 0  \n",
    "\n",
    "    for tweet in tweet_list:\n",
    "        processed = False\n",
    "        delay = .1  # used if OpenMapQuest times out to delay next call\n",
    "        while not processed:\n",
    "            try:  # get coordinates for tweet['location']\n",
    "                geo_location = geo.geocode(tweet['location'])\n",
    "                processed = True\n",
    "            except:  # timed out, so wait before trying again\n",
    "                print('OpenMapQuest service timed out. Waiting.')\n",
    "                time.sleep(delay)\n",
    "                delay += .1\n",
    "\n",
    "        if geo_location:  \n",
    "            tweet['latitude'] = geo_location.latitude\n",
    "            tweet['longitude'] = geo_location.longitude\n",
    "        else:  \n",
    "            bad_locations += 1  # tweet['location'] was invalid\n",
    "    \n",
    "    print('Done geocoding')\n",
    "    return bad_locations\n",
    "\n",
    "```"
   ]
  },
  {
   "cell_type": "markdown",
   "metadata": {},
   "source": [
    "<hr style=\"height:2px; border:none; color:#000; background-color:#000;\">"
   ]
  },
  {
   "cell_type": "markdown",
   "metadata": {},
   "source": [
    "## 12.15.3 Class `LocationListener`\n",
    "See the file `LocationListener.py` in this chapter's folder\n"
   ]
  },
  {
   "cell_type": "markdown",
   "metadata": {},
   "source": [
    "<hr style=\"height:2px; border:none; color:#000; background-color:#000;\">"
   ]
  },
  {
   "cell_type": "markdown",
   "metadata": {},
   "source": [
    "# More Info \n",
    "* See Lesson 12 in [**Python Fundamentals LiveLessons** here on O'Reilly Online Learning](https://learning.oreilly.com/videos/python-fundamentals/9780135917411)\n",
    "* See Chapter 12 in [**Python for Programmers** on O'Reilly Online Learning](https://learning.oreilly.com/library/view/python-for-programmers/9780135231364/)\n",
    "* See Chapter 13 in [**Intro Python for Computer Science and Data Science** on O'Reilly Online Learning](https://learning.oreilly.com/library/view/intro-to-python/9780135404799/)\n",
    "* Interested in a print book? Check out:\n",
    "\n",
    "| Python for Programmers<br>(640-page professional book) | Intro to Python for Computer<br>Science and Data Science<br>(880-page college textbook)\n",
    "| :------ | :------\n",
    "| <a href=\"https://amzn.to/2VvdnxE\"><img alt=\"Python for Programmers cover\" src=\"../images/PyFPCover.png\" width=\"150\" border=\"1\"/></a> | <a href=\"https://amzn.to/2LiDCmt\"><img alt=\"Intro to Python for Computer Science and Data Science: Learning to Program with AI, Big Data and the Cloud\" src=\"../images/IntroToPythonCover.png\" width=\"159\" border=\"1\"></a>\n",
    "\n",
    ">Please **do not** purchase both books&mdash;_Python for Programmers_ is a subset of _Intro to Python for Computer Science and Data Science_"
   ]
  },
  {
   "cell_type": "markdown",
   "metadata": {},
   "source": [
    "&copy; 2019 by Pearson Education, Inc. All Rights Reserved. The content in this notebook is based on the book [**Python for Programmers**](https://amzn.to/2VvdnxE)."
   ]
  }
 ],
 "metadata": {
  "kernelspec": {
   "display_name": "Python 3 (ipykernel)",
   "language": "python",
   "name": "python3"
  },
  "language_info": {
   "codemirror_mode": {
    "name": "ipython",
    "version": 3
   },
   "file_extension": ".py",
   "mimetype": "text/x-python",
   "name": "python",
   "nbconvert_exporter": "python",
   "pygments_lexer": "ipython3",
   "version": "3.10.4"
  }
 },
 "nbformat": 4,
 "nbformat_minor": 4
}
