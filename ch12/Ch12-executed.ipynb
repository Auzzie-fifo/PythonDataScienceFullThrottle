{
 "cells": [
  {
   "cell_type": "markdown",
   "metadata": {},
   "source": [
    "&copy; 2019 by Pearson Education, Inc. All Rights Reserved. The content in this notebook is based on the book [**Python for Programmers**](https://amzn.to/2VvdnxE)."
   ]
  },
  {
   "cell_type": "code",
   "execution_count": 1,
   "metadata": {},
   "outputs": [],
   "source": [
    "# enable high-res images in notebook \n",
    "%config InlineBackend.figure_format = 'retina'"
   ]
  },
  {
   "cell_type": "markdown",
   "metadata": {},
   "source": [
    "# 12. Data Mining Twitter \n",
    "# Objectives\n",
    "* **Data-mine Twitter** with **Tweepy** library\n",
    "* Search **past tweets** with the **Twitter Search API**\n",
    "* Sample the **live tweet stream** with the **Twitter Streaming API**\n",
    "* Tweet object **meta data** \n",
    "* Use **NLP** to **clean and preprocess tweets** for analysis\n",
    "* Perform **sentiment analysis** on tweets\n",
    "* **Spot trends** with **Twitter’s Trends API**\n",
    "* **Map tweets** using **folium** and **OpenStreetMap**"
   ]
  },
  {
   "cell_type": "markdown",
   "metadata": {},
   "source": [
    "<hr style=\"height:2px; border:none; color:#000; background-color:#000;\">"
   ]
  },
  {
   "cell_type": "markdown",
   "metadata": {},
   "source": [
    "# 12.1 Introduction \n",
    "* Popular **big-data source**  \n",
    "* **Data mining** &mdash; searching large collections of data for **insights**\n",
    "* **Sentiment** in tweets can help **make predictions**  \n",
    "    * **Stock prices**\n",
    "    * **Election results**\n",
    "    * Likely **revenues** for a **new movie**\n",
    "    * **Success** of a company’s **marketing campaign**\n",
    "* Spot **faults in competitors’ products** \n",
    "* Spot **trending topics**\n",
    "* **Connect to Twitter** with easy-to-use **Web services**"
   ]
  },
  {
   "cell_type": "markdown",
   "metadata": {},
   "source": [
    "<hr style=\"height:2px; border:none; color:#000; background-color:#000;\">"
   ]
  },
  {
   "cell_type": "markdown",
   "metadata": {},
   "source": [
    "### What Is Twitter? \n",
    "* **Tweets**\n",
    "    * Short messages\n",
    "    * Initially limited to **140 characters**\n",
    "    * Increased in 2017 for most languages to **280 characters**\n",
    "* **Most open social network**&mdash;anyone can generally choose to follow anyone else\n",
    "* **Free programmatic access** to a small portion of **last 7 days' tweets**\n",
    "    * Can get **paid access** to larger portions the **all-time tweets database**\n",
    "* [**Hundreds of millions of tweets are sent every day** with many thousands sent per second](http://www.internetlivestats.com/twitter-statistics/)\n",
    "* Can tap into the **live stream** and get up to 1% of live tweets\n",
    "    * **Like “drinking from a fire hose”** "
   ]
  },
  {
   "cell_type": "markdown",
   "metadata": {},
   "source": [
    "<hr style=\"height:2px; border:none; color:#000; background-color:#000;\">"
   ]
  },
  {
   "cell_type": "markdown",
   "metadata": {},
   "source": [
    "# 12.2 Overview of the Twitter APIs \n",
    "* **Web services** are **methods** that you call in the **cloud**\n",
    "* Each **method** has a **web service endpoint** represented by a **URL**\n",
    "* **Caution**: **apps can be brittle**\n",
    "    * Internet connections can be lost, services can change, some services not available everywhere, ... \n",
    "* [Twitter API categories, subcategories and individual methods](https://developer.twitter.com/en/docs/api-reference-index.html)"
   ]
  },
  {
   "cell_type": "markdown",
   "metadata": {},
   "source": [
    "<hr style=\"height:2px; border:none; color:#000; background-color:#000;\">"
   ]
  },
  {
   "cell_type": "markdown",
   "metadata": {},
   "source": [
    "### Rate Limits and Restrictions\n",
    "* Twitter expects developers to **use its services responsibly**\n",
    "* **Understand rate limits** before using any method or you could get **blocked**\n",
    "* Some methods list both **user rate limits** and **app rate limits**\n",
    "    * We use **app rate limits** in the demos\n",
    "    * **User rate limits** for apps in which individuals to log into own Twitter accounts\n",
    "    * [Details on rate limiting](https://developer.twitter.com/en/docs/basics/rate-limiting)\n",
    "    * [Specific rate limits on individual API methods](https://developer.twitter.com/en/docs/basics/rate-limits) — also see each API method’s docs\n",
    "* **Follow Twitter’s rules/regulations or your developer account could be terminated.** \n",
    "\t* [Terms of Service](https://twitter.com/tos), [Developer Agreement](https://developer.twitter.com/en/developer-terms/agreement-and-policy.html), [Developer Policy](https://developer.twitter.com/en/developer-terms/policy.html), [Other restrictions](https://developer.twitter.com/en/developer-terms/more-on-restricted-use-cases)"
   ]
  },
  {
   "cell_type": "markdown",
   "metadata": {},
   "source": [
    "<hr style=\"height:2px; border:none; color:#000; background-color:#000;\">"
   ]
  },
  {
   "cell_type": "markdown",
   "metadata": {},
   "source": [
    "# 12.4 Getting Twitter Credentials—Creating an App \n",
    "* [Apply for a developer account](https://developer.twitter.com/en/apply-for-access) to use the APIs\n",
    "* Must get **credentials** to use Twitter APIs\n",
    "    * Part of the **OAuth 2.0 authentication process**\n",
    "    * **Tweepy handles OAuth 2.0 authentication details for you**\n",
    "* To get credentials, you’ll [**create an app**](https://developer.twitter.com) \n",
    "    * **Each app has separate credentials**\n",
    "    * I present **details on creating apps** in my [**Python Fundamentals LiveLessons videos for Section 12.4**](https://learning.oreilly.com/videos/python-fundamentals/9780135917411/9780135917411-PFLL_Lesson12_04) and [**Python for Programmers Section 12.4**](https://learning.oreilly.com/library/view/Python+for+Programmers,+First+Edition/9780135231364/ch12.xhtml#ch12lev1sec4)"
   ]
  },
  {
   "cell_type": "markdown",
   "metadata": {},
   "source": [
    "<hr style=\"height:2px; border:none; color:#000; background-color:#000;\">"
   ]
  },
  {
   "cell_type": "markdown",
   "metadata": {},
   "source": [
    "# 12.5 What’s in a Tweet? \n",
    "* Twitter API returns **JSON (JavaScript Object Notation)** objects\n",
    "* Text-based, human and computer readable\n",
    "* Like Python **dictionaries**\n",
    "* **JSON object format** &mdash; **all strings in double quotes (\")**\n",
    ">```python\n",
    "{propertyName1: value1, propertyName2: value2}\n",
    "```\n",
    "* **JSON array format (like Python list)**:\n",
    ">```python\n",
    "[value1, value2, value3]\n",
    "```\n",
    "* **Tweepy handles the JSON for you** behind the scenes"
   ]
  },
  {
   "cell_type": "markdown",
   "metadata": {},
   "source": [
    "<hr style=\"height:2px; border:none; color:#000; background-color:#000;\">"
   ]
  },
  {
   "cell_type": "markdown",
   "metadata": {},
   "source": [
    "### Key Properties of a Tweet Object \n",
    "* **Tweet object** contains **metadata**, including\n",
    "    * **text** of the tweet\n",
    "    * **extended tweet** for tweets up to **280 characters**\n",
    "\t* **when** it was created \n",
    "\t* **who** created it,\n",
    "\t* lists of **hashtags**, **URLs**, **`@`-mentions**, **images**, **videos** and more\n",
    "* [Our table of many key **tweet metadata attributes**](https://learning.oreilly.com/library/view/python-for-programmers/9780135231364/ch12.xhtml#ch12lev1sec5)\n",
    "* [Complete list of the tweet object attributes](https://developer.twitter.com/en/docs/tweets/data-dictionary/overview/tweet-object.html)\n",
    "* [General overview of all the JSON objects that Twitter APIs return, and links to the specific object details](https://developer.twitter.com/en/docs/tweets/data-dictionary/overview/intro-to-tweet-json)"
   ]
  },
  {
   "cell_type": "markdown",
   "metadata": {},
   "source": [
    "<hr style=\"height:2px; border:none; color:#000; background-color:#000;\">"
   ]
  },
  {
   "cell_type": "markdown",
   "metadata": {},
   "source": [
    "### Sample Tweet JSON\n",
    "* **Sample JSON** for this tweet from the **`@nasa`** account: \n",
    ">```\n",
    "@NoFear1075 Great question, Anthony! Throughout its seven-year \n",
    "mission, our Parker #SolarProbe spacecraft... https://t.co/xKd6ym8waT'\n",
    "```"
   ]
  },
  {
   "cell_type": "markdown",
   "metadata": {},
   "source": [
    "<hr style=\"height:2px; border:none; color:#000; background-color:#000;\">"
   ]
  },
  {
   "cell_type": "markdown",
   "metadata": {},
   "source": [
    "```python\n",
    "{'created_at': 'Wed Sep 05 18:19:34 +0000 2018',\n",
    " 'id': 1037404890354606082,\n",
    " 'id_str': '1037404890354606082',\n",
    " 'text': '@NoFear1075 Great question, Anthony! Throughout its seven-year \n",
    "          mission, our Parker #SolarProbe spacecraft… https://t.co/xKd6ym8waT',\n",
    " 'truncated': True,\n",
    " 'entities': {'hashtags': [{'text': 'SolarProbe', 'indices': [84, 95]}],\n",
    "    'symbols': [],\n",
    "    'user_mentions': [{'screen_name': 'NoFear1075',\n",
    "        'name': 'Anthony Perrone',\n",
    "        'id': 284339791,\n",
    "        'id_str': '284339791',\n",
    "        'indices': [0, 11]}],\n",
    "    'urls': [{'url': 'https://t.co/xKd6ym8waT',\n",
    "        'expanded_url': 'https://twitter.com/i/web/status/1037404890354606082',\n",
    "        'display_url': 'twitter.com/i/web/status/1…',\n",
    "        'indices': [117, 140]}]},\n",
    " 'source': '<a href=\"http://twitter.com\" rel=\"nofollow\">Twitter Web Client</a>',\n",
    "```"
   ]
  },
  {
   "cell_type": "markdown",
   "metadata": {},
   "source": [
    "```python\n",
    " 'in_reply_to_status_id': 1037390542424956928,\n",
    " 'in_reply_to_status_id_str': '1037390542424956928',\n",
    " 'in_reply_to_user_id': 284339791,\n",
    " 'in_reply_to_user_id_str': '284339791',\n",
    " 'in_reply_to_screen_name': 'NoFear1075',\n",
    " 'user': {'id': 11348282,\n",
    "    'id_str': '11348282',\n",
    "    'name': 'NASA',\n",
    "    'screen_name': 'NASA',\n",
    "    'location': '',\n",
    "    'description': 'Explore the universe and discover our home planet with \n",
    "            @NASA. We usually post in EST (UTC-5)',\n",
    "    'url': 'https://t.co/TcEE6NS8nD',\n",
    "    'entities': {'url': {'urls': [{'url': 'https://t.co/TcEE6NS8nD',\n",
    "            'expanded_url': 'http://www.nasa.gov',\n",
    "            'display_url': 'nasa.gov',\n",
    "            'indices': [0, 23]}]},\n",
    "    'description': {'urls': []}},\n",
    "    'protected': False,\n",
    "    'followers_count': 29486081,\n",
    "    'friends_count': 287,\n",
    "    'listed_count': 91928,\n",
    "    'created_at': 'Wed Dec 19 20:20:32 +0000 2007',\n",
    "    'favourites_count': 3963,\n",
    "    'time_zone': None,\n",
    "    'geo_enabled': False,\n",
    "    'verified': True,\n",
    "    'statuses_count': 53147,\n",
    "    'lang': 'en',\n",
    "```"
   ]
  },
  {
   "cell_type": "markdown",
   "metadata": {},
   "source": [
    "```python\n",
    "    'contributors_enabled': False,\n",
    "    'is_translator': False,\n",
    "    'is_translation_enabled': False,\n",
    "    'profile_background_color': '000000',\n",
    "    'profile_background_image_url': 'http://abs.twimg.com/images/themes/theme1/bg.png',\n",
    "    'profile_background_image_url_https': 'https://abs.twimg.com/images/themes/theme1/bg.png',\n",
    "    'profile_image_url': 'http://pbs.twimg.com/profile_images/188302352/nasalogo_twitter_normal.jpg',\n",
    "    'profile_image_url_https': 'https://pbs.twimg.com/profile_images/188302352/nasalogo_twitter_normal.jpg',\n",
    "    'profile_banner_url': 'https://pbs.twimg.com/profile_banners/11348282/1535145490',\n",
    "    'profile_link_color': '205BA7',\n",
    "    'profile_sidebar_border_color': '000000',\n",
    "    'profile_sidebar_fill_color': 'F3F2F2',\n",
    "    'profile_text_color': '000000',\n",
    "    'profile_use_background_image': True,\n",
    "    'has_extended_profile': True,\n",
    "    'default_profile': False,\n",
    "    'default_profile_image': False,\n",
    "    'following': True,\n",
    "    'follow_request_sent': False,\n",
    "    'notifications': False,\n",
    "    'translator_type': 'regular'},\n",
    " 'geo': None,\n",
    " 'coordinates': None,\n",
    " 'place': None,\n",
    " 'contributors': None,\n",
    " 'is_quote_status': False,\n",
    " 'retweet_count': 7,\n",
    " 'favorite_count': 19,\n",
    " 'favorited': False,\n",
    " 'retweeted': False,\n",
    " 'possibly_sensitive': False,\n",
    " 'lang': 'en'}\n",
    "\n",
    "```"
   ]
  },
  {
   "cell_type": "markdown",
   "metadata": {},
   "source": [
    "<hr style=\"height:2px; border:none; color:#000; background-color:#000;\">"
   ]
  },
  {
   "cell_type": "markdown",
   "metadata": {},
   "source": [
    "# 12.6 Tweepy\n",
    "* [**Tweepy library**](http://www.tweepy.org/)—**one of the most popular Python Twitter clients**\n",
    "> `pip install tweepy>=3.7`\n",
    "* Easy access to Twitter’s capabilities\n",
    "* [Tweepy’s documentation](http://docs.tweepy.org/en/latest/)\n",
    "* One function in `tweetutilities.py` file depends on [**geopy**](https://github.com/geopy/geopy) (used later to **plot tweet locations**)\n",
    ">`conda install -c conda-forge geopy`"
   ]
  },
  {
   "cell_type": "markdown",
   "metadata": {},
   "source": [
    "<hr style=\"height:2px; border:none; color:#000; background-color:#000;\">"
   ]
  },
  {
   "cell_type": "markdown",
   "metadata": {},
   "source": [
    "# 12.7 Authenticating with Twitter Via Tweepy\n",
    "* **Authentication API**—Authenticate with your **Twitter credentials** to use other Twitter APIs\n",
    "* **`keys.py`** must contain your credentials"
   ]
  },
  {
   "cell_type": "code",
   "execution_count": 2,
   "metadata": {},
   "outputs": [],
   "source": [
    "import tweepy"
   ]
  },
  {
   "cell_type": "code",
   "execution_count": 3,
   "metadata": {},
   "outputs": [],
   "source": [
    "import keys  "
   ]
  },
  {
   "cell_type": "code",
   "execution_count": 4,
   "metadata": {},
   "outputs": [],
   "source": [
    "auth = tweepy.OAuthHandler(keys.consumer_key,\n",
    "                           keys.consumer_secret)"
   ]
  },
  {
   "cell_type": "code",
   "execution_count": 5,
   "metadata": {},
   "outputs": [],
   "source": [
    "auth.set_access_token(keys.access_token,\n",
    "                      keys.access_token_secret)"
   ]
  },
  {
   "cell_type": "markdown",
   "metadata": {},
   "source": [
    "<hr style=\"height:2px; border:none; color:#000; background-color:#000;\">"
   ]
  },
  {
   "cell_type": "markdown",
   "metadata": {},
   "source": [
    "### Creating the Tweepy API Object\n",
    "* A **Tweepy `API` object** is your **gateway** to Twitter APIs"
   ]
  },
  {
   "cell_type": "markdown",
   "metadata": {},
   "source": [
    "* **CHANGE:** `wait_on_rate_limit_notify=True` (all errors are now reported, so they removed this)"
   ]
  },
  {
   "cell_type": "code",
   "execution_count": 6,
   "metadata": {},
   "outputs": [],
   "source": [
    "api = tweepy.API(auth, wait_on_rate_limit=True); # , wait_on_rate_limit_notify=True)"
   ]
  },
  {
   "cell_type": "markdown",
   "metadata": {},
   "source": [
    "* **`auth`** is the **`OAuthHandler`**\n",
    "* **`wait_on_rate_limit=True`** &mdash; **wait 15 minutes** when app reaches an API method’s rate limit\n",
    "    * prevents violations\n",
    "* **`wait_on_rate_limit_notify=True`** &mdash; **display a command-line message** when you hit a rate limit"
   ]
  },
  {
   "cell_type": "markdown",
   "metadata": {},
   "source": [
    "<hr style=\"height:2px; border:none; color:#000; background-color:#000;\">"
   ]
  },
  {
   "cell_type": "markdown",
   "metadata": {},
   "source": [
    "# 12.8 Getting Information About a Twitter Account\n",
    "* **Accounts and Users API**—Access information about an account\n",
    "* `API` object’s **`get_user` method** returns a **`tweepy.models.User` object** for an account"
   ]
  },
  {
   "cell_type": "markdown",
   "metadata": {},
   "source": [
    "* **CHANGE:** Now must specify parameter name `screen_name`"
   ]
  },
  {
   "cell_type": "code",
   "execution_count": 7,
   "metadata": {},
   "outputs": [],
   "source": [
    "nasa = api.get_user(screen_name='nasa')"
   ]
  },
  {
   "cell_type": "markdown",
   "metadata": {},
   "source": [
    "* Calls the **Twitter API’s [`users/show` method](https://developer.twitter.com/en/docs/accounts-and-users/follow-search-get-users/api-reference/get-users-show)**\n",
    "* **`tweepy.models` classes** correspond to returned **JSON objects**\n",
    "* **`User` class** corresponds to a Twitter [**user object**](https://developer.twitter.com/en/docs/tweets/data-dictionary/overview/user-object)\n",
    "* **`tweepy.models` classes** turn **JSON** into **Tweepy objects** "
   ]
  },
  {
   "cell_type": "markdown",
   "metadata": {},
   "source": [
    "<hr style=\"height:2px; border:none; color:#000; background-color:#000;\">"
   ]
  },
  {
   "cell_type": "markdown",
   "metadata": {},
   "source": [
    "### Getting Basic Account Information for `@nasa`\n",
    "* IDs and twitter handles can be used to **track tweets to, from and about users**"
   ]
  },
  {
   "cell_type": "code",
   "execution_count": 8,
   "metadata": {},
   "outputs": [
    {
     "data": {
      "text/plain": [
       "11348282"
      ]
     },
     "execution_count": 8,
     "metadata": {},
     "output_type": "execute_result"
    }
   ],
   "source": [
    "nasa.id  # account ID created when the user joined Twitter"
   ]
  },
  {
   "cell_type": "code",
   "execution_count": 9,
   "metadata": {},
   "outputs": [
    {
     "data": {
      "text/plain": [
       "'NASA'"
      ]
     },
     "execution_count": 9,
     "metadata": {},
     "output_type": "execute_result"
    }
   ],
   "source": [
    "nasa.screen_name  # user’s Twitter handle"
   ]
  },
  {
   "cell_type": "code",
   "execution_count": 10,
   "metadata": {},
   "outputs": [
    {
     "data": {
      "text/plain": [
       "\"There's space for everybody. ✨\""
      ]
     },
     "execution_count": 10,
     "metadata": {},
     "output_type": "execute_result"
    }
   ],
   "source": [
    "nasa.description  # description from the user’s profile"
   ]
  },
  {
   "cell_type": "markdown",
   "metadata": {},
   "source": [
    "* Lots of additional attributes, like `name`, `description`, `followers_count`, `friends_count`, etc."
   ]
  },
  {
   "cell_type": "code",
   "execution_count": 11,
   "metadata": {},
   "outputs": [
    {
     "data": {
      "text/plain": [
       "49700022"
      ]
     },
     "execution_count": 11,
     "metadata": {},
     "output_type": "execute_result"
    }
   ],
   "source": [
    "nasa.followers_count"
   ]
  },
  {
   "cell_type": "markdown",
   "metadata": {},
   "source": [
    "<hr style=\"height:2px; border:none; color:#000; background-color:#000;\">"
   ]
  },
  {
   "cell_type": "markdown",
   "metadata": {},
   "source": [
    "### Getting `@nasa`'s Most Recent Status Update\n",
    "* `User` object’s **`status` property** returns a **`tweepy.models.Status`** object\n",
    "* Corresponds to a Twitter [**tweet object**](https://developer.twitter.com/en/docs/tweets/data-dictionary/overview/tweet-object)"
   ]
  },
  {
   "cell_type": "code",
   "execution_count": 12,
   "metadata": {},
   "outputs": [
    {
     "data": {
      "text/plain": [
       "'From darkness, light. Dark nebulae are clouds of gas and dust that block visible light coming from behind them. But… https://t.co/ysM7qJRfPq'"
      ]
     },
     "execution_count": 12,
     "metadata": {},
     "output_type": "execute_result"
    }
   ],
   "source": [
    "nasa.status.text  # most recent tweet's text"
   ]
  },
  {
   "cell_type": "markdown",
   "metadata": {},
   "source": [
    "* **...** indicates **truncated** tweet text\n",
    "* **`extended_tweet` property** for tweets between 141 and 280 characters (as of Nov. 2017) \n",
    "* **Retweeting** often results in truncation"
   ]
  },
  {
   "cell_type": "markdown",
   "metadata": {},
   "source": [
    "<hr style=\"height:2px; border:none; color:#000; background-color:#000;\">"
   ]
  },
  {
   "cell_type": "markdown",
   "metadata": {},
   "source": [
    "# 12.9 Introduction to Tweepy Cursors: Getting an Account’s Followers \n",
    "* Twitter API methods often return collections of objects \n",
    "    * E.g., list of tweets that match specified search criteria \n",
    "* Each method has **maximum number of items returned by one call**\n",
    "    * A **\"page\"** of results\n",
    "* **JSON responses** indicate whether there are **more pages**\n",
    "* A **`Cursor`** handles **paging** \n",
    "    * Invokes a method and **checks for more pages**\n",
    "    * If so, **calls the method again**  \n",
    "    * Continues until there are no more results to process\n",
    "    * If `API` object configured to **wait on rate limits**, **`Cursor`s wait as needed**\n",
    "* [Tweepy `Cursor` tutorial](http://docs.tweepy.org/en/latest/cursor_tutorial.html)"
   ]
  },
  {
   "cell_type": "markdown",
   "metadata": {},
   "source": [
    "<hr style=\"height:2px; border:none; color:#000; background-color:#000;\">"
   ]
  },
  {
   "cell_type": "markdown",
   "metadata": {},
   "source": [
    "## 12.9.1 Determining an Account’s Followers  Via the `API` object’s **`followers` Method**\n",
    "* Calls Twitter’s [**followers/list** method](https://developer.twitter.com/en/docs/accounts-and-users/follow-search-get-users/api-reference/get-followers-list.html)\n",
    "* Returns groups of 20 by default, but can request up to 200 \n",
    "* For demonstration purposes, we’ll grab 10 of NASA’s followers"
   ]
  },
  {
   "cell_type": "markdown",
   "metadata": {},
   "source": [
    "<hr style=\"height:2px; border:none; color:#000; background-color:#000;\">"
   ]
  },
  {
   "cell_type": "markdown",
   "metadata": {},
   "source": [
    "### Creating a Cursor That Will Call the `followers` Method for NASA’s account"
   ]
  },
  {
   "cell_type": "code",
   "execution_count": 13,
   "metadata": {},
   "outputs": [],
   "source": [
    "followers = []  # for storing followers' User objects"
   ]
  },
  {
   "cell_type": "markdown",
   "metadata": {},
   "source": [
    "**CHANGE:** `api.followers` is now `api.get_followers`"
   ]
  },
  {
   "cell_type": "code",
   "execution_count": 14,
   "metadata": {},
   "outputs": [],
   "source": [
    "cursor = tweepy.Cursor(api.get_followers, screen_name='nasa')"
   ]
  },
  {
   "cell_type": "markdown",
   "metadata": {},
   "source": [
    "* First argument is **name of Tweepy method to call**\n",
    "* Additional keyword arguments are passed to method named in first argument"
   ]
  },
  {
   "cell_type": "markdown",
   "metadata": {},
   "source": [
    "<hr style=\"height:2px; border:none; color:#000; background-color:#000;\">"
   ]
  },
  {
   "cell_type": "markdown",
   "metadata": {},
   "source": [
    "### Get Results from `Cursor` and Display in Ascending Alphabetical Order  \n",
    "* Cursor’s **`items` method** calls `api.followers` and returns the `follower`s method’s results"
   ]
  },
  {
   "cell_type": "code",
   "execution_count": 15,
   "metadata": {},
   "outputs": [],
   "source": [
    "for account in cursor.items(100):  # request only 100 results\n",
    "    followers.append(account.screen_name)"
   ]
  },
  {
   "cell_type": "code",
   "execution_count": 16,
   "metadata": {},
   "outputs": [
    {
     "data": {
      "text/plain": [
       "['Amyaduvanshi22',\n",
       " 'ShaoboDai',\n",
       " 'Coranusss',\n",
       " 'qiongqian1',\n",
       " 'EdnaVallecilla',\n",
       " 'iniriama',\n",
       " 'VThetha',\n",
       " 'slavacamarada',\n",
       " 'LuisBur17133698',\n",
       " 'Liviu_Ilie_',\n",
       " 'Becki66547121',\n",
       " 'Parimaldas123',\n",
       " 'mer63345480',\n",
       " 'Vinnny_Bomber07',\n",
       " 'bilskirogers99',\n",
       " 'bettershuttaup',\n",
       " 'jonathans0718',\n",
       " '15kevilx',\n",
       " 'kinismoko',\n",
       " 'bhut_smit2',\n",
       " 'BbyLibster',\n",
       " 'khir11111',\n",
       " 'xiaoluban233',\n",
       " 'AyeAkalan5',\n",
       " 'Nelita24478866',\n",
       " 'IsabelsophiaTo3',\n",
       " 'Chaosiick',\n",
       " 'Chukwuma10955',\n",
       " 'rustam_afzaal',\n",
       " 'gombert_alix',\n",
       " 'hotpoison69',\n",
       " 'moozaa75',\n",
       " 'PutihbinMas5',\n",
       " 'IsabelaDeea',\n",
       " 'syed_minhaj_',\n",
       " 'TheJhvn',\n",
       " 'Harshit79219525',\n",
       " 'CrisMaria2021',\n",
       " '2jxjxjdckxkdk',\n",
       " 'octobernorain',\n",
       " 'diniiessss',\n",
       " 'apolonia5k',\n",
       " 'SeyeAbdoulaye16',\n",
       " 'SachinK57615647',\n",
       " '_______target',\n",
       " 'Cemt1903',\n",
       " 'pia_belen_i',\n",
       " 'Alejand03061632',\n",
       " 'KatieRohrbacker',\n",
       " 'traores93946846',\n",
       " 'orangehopee',\n",
       " 'kelli_stoffer',\n",
       " 'Andrea43841356',\n",
       " 'LakMitr',\n",
       " 'ElmahiSallam',\n",
       " 'R_eality_quotes',\n",
       " 'Naresh22089948',\n",
       " 'r2investiments',\n",
       " 'huamulinsen11',\n",
       " 'SummeragoY',\n",
       " 'reservaaaa01',\n",
       " 'FilipZwierzyn',\n",
       " 'Bibhuti94392462',\n",
       " 'HypxrChxrged',\n",
       " 'PaulKestenbaum_',\n",
       " 'me_too_desu',\n",
       " 'Max7695879920',\n",
       " 'grymtoby',\n",
       " 'JeremyW15018715',\n",
       " 'Kauagomes0_0',\n",
       " 'AbtsFlo',\n",
       " 'unicornpolicy',\n",
       " 'Richie519679912',\n",
       " 'Lorrain05180309',\n",
       " 'chiaray8702',\n",
       " 'Charlie15516810',\n",
       " 'hrudiale',\n",
       " 'zachvincee',\n",
       " 'Hinge_Pen',\n",
       " 'danmil0808',\n",
       " 'FarisalWishu',\n",
       " 'AnaMontes1927',\n",
       " 'ojanji_joyce',\n",
       " 'Daria0419',\n",
       " 'Geo11022019',\n",
       " 'kirito_kamuii',\n",
       " 'KumakechNoel',\n",
       " 'KieranMarks7',\n",
       " 'talisson_caue',\n",
       " '10sg__',\n",
       " 'gurukavi1718',\n",
       " 'ng61417701',\n",
       " 'RachelB67893828',\n",
       " '16pRys42m8Zi85O',\n",
       " 'gre_godo',\n",
       " 'Jkcryptoknight',\n",
       " 'Ali_cat701',\n",
       " 'ClarenceSinag',\n",
       " 'FerdosAhmad1',\n",
       " 'VedantPandey_1']"
      ]
     },
     "execution_count": 16,
     "metadata": {},
     "output_type": "execute_result"
    }
   ],
   "source": [
    "followers"
   ]
  },
  {
   "cell_type": "markdown",
   "metadata": {},
   "source": [
    "<hr style=\"height:2px; border:none; color:#000; background-color:#000;\">"
   ]
  },
  {
   "cell_type": "markdown",
   "metadata": {},
   "source": [
    "### Automatic Paging\n",
    "* To **get up to 200 followers at a time**, create the `Cursor` with the **`count`** keyword argument\n",
    ">```python\n",
    "cursor = tweepy.Cursor(api.followers, screen_name='nasa', count=200)\n",
    "```\n",
    "* Calling `Cursor` method **`items`** with no argument attempts to get **all followers**\n",
    "    * Could **take significant time** due to **rate limits**"
   ]
  },
  {
   "cell_type": "markdown",
   "metadata": {},
   "source": [
    "<hr style=\"height:2px; border:none; color:#000; background-color:#000;\">"
   ]
  },
  {
   "cell_type": "markdown",
   "metadata": {},
   "source": [
    "# 12.10 Searching Recent Tweets with Tweepy `API` method **`search`** \n",
    "* **Tweets API**—Search **past 7 days' tweets**, access **live tweet streams** and more\n",
    "* Returns tweets that **match a query string**\n",
    "* Only for the **previous seven days’ tweets**\n",
    "* **Not guaranteed to return all matching tweets**\n",
    "* Calls Twitter’s **`search/tweets` method**\n",
    "* Returns 15 tweets at a time by default, but can return up to 100"
   ]
  },
  {
   "cell_type": "markdown",
   "metadata": {},
   "source": [
    "<hr style=\"height:2px; border:none; color:#000; background-color:#000;\">"
   ]
  },
  {
   "cell_type": "markdown",
   "metadata": {},
   "source": [
    "### Utility Function `print_tweets` from `tweetutilities.py` "
   ]
  },
  {
   "cell_type": "code",
   "execution_count": 17,
   "metadata": {},
   "outputs": [],
   "source": [
    "from tweetutilities import print_tweets"
   ]
  },
  {
   "cell_type": "markdown",
   "metadata": {},
   "source": [
    "```python\n",
    "def print_tweets(tweets):\n",
    "    \"\"\"For each Tweepy Status object in tweets, display the \n",
    "    user's screen_name and tweet text. If the language is not\n",
    "    English, translate the text with TextBlob.\"\"\"\n",
    "    for tweet in tweets:\n",
    "        print(f'{tweet.screen_name}:', end=' ')\n",
    "    \n",
    "        if 'en' in tweet.lang:\n",
    "            print(f'{tweet.text}\\n')\n",
    "        elif 'und' not in tweet.lang:  # translate to English first\n",
    "            print(f'\\n  ORIGINAL: {tweet.text}')\n",
    "            print(f'TRANSLATED: {TextBlob(tweet.text).translate()}\\n')\n",
    "\n",
    "```"
   ]
  },
  {
   "cell_type": "markdown",
   "metadata": {},
   "source": [
    "<hr style=\"height:2px; border:none; color:#000; background-color:#000;\">"
   ]
  },
  {
   "cell_type": "markdown",
   "metadata": {},
   "source": [
    "### Searching for Specific Words\n",
    "* **`q` keyword argument** specifies the **query string**\n",
    "* Should use **`Cursor`** for more than max results"
   ]
  },
  {
   "cell_type": "markdown",
   "metadata": {},
   "source": [
    "**NOTE: Modified to search only English due to current known issue in TextBlob**\n",
    "* **CHANGE:** `api.search` is now `api.search_tweets`"
   ]
  },
  {
   "cell_type": "code",
   "execution_count": 18,
   "metadata": {},
   "outputs": [],
   "source": [
    "tweets = api.search_tweets(q='football', count=10) #lang='en',"
   ]
  },
  {
   "cell_type": "code",
   "execution_count": 19,
   "metadata": {},
   "outputs": [
    {
     "name": "stdout",
     "output_type": "stream",
     "text": [
      "MindnPen: RT @AfricaFactsZone: South Africa, Zimbabwe and Namibia will host the 2027 Cricket World Cup.\n",
      "\n",
      "South Africa also hosted the 1995 Rugby Worl…\n",
      "\n",
      "_ksa_football_: \n",
      "  ORIGINAL: #المنتخب_السعودي يعود من فيتنام بـ3 نقاط مهمة في المرحله الاصعب من التصفيات النهائية لـ كأس العالم قطر 2022\n",
      "الف مبر… https://t.co/NHdTjE0tni\n",
      "TRANSLATED: The Saudi national team returns from Vietnam with 3 important points in the most difficult stage of the final qualifiers for the World Cup Qatar 2022 A thousand just… https://t.co/NHdTjE0tni\n",
      "\n",
      "GarretDuncan: RT @incredibleffpod: The one and only ⁦@JustinWiggins_⁩ joins the pod this week to talk Chiefs and his 8-1 (now 9-1) start to the fantasy s…\n",
      "\n",
      "Mufc1985123: @soccer_terra @Blue_Eyed_Socio @FUTWIZ It's football not soccer, stick to your eggball\n",
      "\n",
      "ayrdrianuuh: RT @JeffKrisko: Since NFL football sucked today, I decided to look at every head coach and decide what they would be if football didn't exi…\n",
      "\n",
      "Sammy_Jr47: RT @charles_watts: Lauren: \"I couldn’t be more excited to be taking up the role. I feel proud to be joining the FIFA family and there’s als…\n",
      "\n",
      "pompeylive: RT @pn_neil_allen: The former #Pompey pair shared a classroom with Roy Keane and Tony Adams. And are doing rather well at Privett Park this…\n",
      "\n",
      "DapsMcfc: @DonHusam6 @MaybeDoubleA @TunnelTrafford @TyroneMc__ @Djrbiz Point 1: Liverpool (the city not club) will always be… https://t.co/WE0LKpPJu5\n",
      "\n",
      "Jrods_Tweets: Fell asleep watching Sunday night football then woke up Tuesday morning, pretty trippy, I guess I needed some sleep lol\n",
      "\n",
      "rkcards1: @sportsstuffhub You didnt have to add \"about football\"  could have just left it at \"know absolutely nothing\"\n",
      "\n"
     ]
    }
   ],
   "source": [
    "print_tweets(tweets)"
   ]
  },
  {
   "cell_type": "markdown",
   "metadata": {},
   "source": [
    "<hr style=\"height:2px; border:none; color:#000; background-color:#000;\">"
   ]
  },
  {
   "cell_type": "markdown",
   "metadata": {},
   "source": [
    "### Searching with Twitter Search Operators (1 of 2)\n",
    "* Use **Twitter search operators** to refine search results\n",
    "* The following table shows several Twitter search operators. \n",
    "* [For all the operators, click the `operators` link here](https://twitter.com/search-home)\n",
    "* ```python\n",
    "tweets = api.search(q='from:nasa since:2019-11-15', count=3)\n",
    "```\n",
    "\n",
    "| Example&nbsp;&nbsp;&nbsp;&nbsp;&nbsp;&nbsp;&nbsp;&nbsp;&nbsp;&nbsp;&nbsp;&nbsp;&nbsp;&nbsp;&nbsp;&nbsp;&nbsp;&nbsp;&nbsp;&nbsp;&nbsp;&nbsp;&nbsp;&nbsp;&nbsp;&nbsp;&nbsp;&nbsp;&nbsp;&nbsp;&nbsp;&nbsp;&nbsp;&nbsp;&nbsp;&nbsp;&nbsp;&nbsp;\t| Finds tweets containing\n",
    "| :---\t| :---\n",
    "| `python twitter` \t| **Implicit _logical and_ operator**—Finds tweets containing `python` _and_ `twitter`.\n",
    "| `python OR twitter` \t| **Logical `OR` operator**—Finds tweets containing `python` or `twitter` or both.\n",
    "| `python ?` \t| **`?` (question mark)**—Finds tweets asking questions about `python`.\n",
    "| `planets -mars` \t| **`-` (minus sign)**—Finds tweets containing `planets` but not `mars`.\n",
    "| `python :)` \t| **`:)` (happy face)**—Finds **positive sentiment** tweets containing `python`.\n",
    "| `python :(` \t| **`:(` (sad face)**—Finds **negative sentiment** tweets containing `python`.\n",
    "| `since:2018-09-01` \t| **Finds tweets **on or after** the specified date**, which must be in the form **`YYYY-MM-DD`**.\n",
    "| `near:\"New York City\" `\t| **Finds tweets that were sent near `\"New York City\"`**.\n",
    "| `from:nasa` \t| **Finds tweets from the account `@nasa`**.\n",
    "| `to:nasa` \t| **Finds tweets to the account `@nasa`**."
   ]
  },
  {
   "cell_type": "markdown",
   "metadata": {},
   "source": [
    "<hr style=\"height:2px; border:none; color:#000; background-color:#000;\">"
   ]
  },
  {
   "cell_type": "markdown",
   "metadata": {},
   "source": [
    "# 12.11 Spotting Trends: Twitter Trends API\n",
    "* **“Going viral”** &mdash; thousands or millions of people tweeting at once \n",
    "* Twitter maintains a list of **trending topics** worldwide \n",
    "* **Twitter Trends API** can return lists of **trending-topic locations** and the **top 50 trending topics** for each **location**"
   ]
  },
  {
   "cell_type": "markdown",
   "metadata": {},
   "source": [
    "<hr style=\"height:2px; border:none; color:#000; background-color:#000;\">"
   ]
  },
  {
   "cell_type": "markdown",
   "metadata": {},
   "source": [
    "## 12.11.1 Places with Trending Topics \n",
    "* See how to find places with trending topics: https://learning.oreilly.com/videos/python-fundamentals/9780135917411/9780135917411-PFLL_Lesson12_15"
   ]
  },
  {
   "cell_type": "markdown",
   "metadata": {},
   "source": [
    "<hr style=\"height:2px; border:none; color:#000; background-color:#000;\">"
   ]
  },
  {
   "cell_type": "markdown",
   "metadata": {},
   "source": [
    "## 12.11.2 Getting a List of Trending Topics with the Tweepy `API`’s **`trends_place` Method** \n",
    "* Calls **Twitter Trends API’s [`trends/place` method](https://developer.twitter.com/en/docs/trends/trends-for-location/api-reference/get-trends-place)**\n",
    "* Returns top **50 trending topics for the location**\n",
    "* [Look up WOEIDs](http://www.woeidlookup.com) (**Yahoo! Where on Earth IDs**)\n",
    "* Look up WOEID’s programmatically using **Yahoo!’s web services** via [Python libraries like `woeid`](https://github.com/Ray-SunR/woeid)"
   ]
  },
  {
   "cell_type": "markdown",
   "metadata": {},
   "source": [
    "<hr style=\"height:2px; border:none; color:#000; background-color:#000;\">"
   ]
  },
  {
   "cell_type": "markdown",
   "metadata": {},
   "source": [
    "### Get Today's Worldwide Trending Topics (1 of 3)"
   ]
  },
  {
   "cell_type": "markdown",
   "metadata": {},
   "source": [
    "* **CHANGE:** `api.trends_place` is now `api.get_place_trends`"
   ]
  },
  {
   "cell_type": "code",
   "execution_count": 20,
   "metadata": {},
   "outputs": [],
   "source": [
    "world_trends = api.get_place_trends(id=1)  # list containing one dictionary"
   ]
  },
  {
   "cell_type": "markdown",
   "metadata": {},
   "source": [
    "* **`'trends'` key** refers to a **list of dictionaries representing each trend**"
   ]
  },
  {
   "cell_type": "code",
   "execution_count": 21,
   "metadata": {},
   "outputs": [],
   "source": [
    "trends_list = world_trends[0]['trends']"
   ]
  },
  {
   "cell_type": "markdown",
   "metadata": {},
   "source": [
    "<hr style=\"height:2px; border:none; color:#000; background-color:#000;\">"
   ]
  },
  {
   "cell_type": "markdown",
   "metadata": {},
   "source": [
    "### Get Today's Worldwide Trending Topics (2 of 3)\n",
    "* Each trend has **`name`**, **`url`**, **`promoted_content`** (whether it's an **advertisement**), **`query`** and **`tweet_volume`** keys"
   ]
  },
  {
   "cell_type": "code",
   "execution_count": 22,
   "metadata": {},
   "outputs": [
    {
     "data": {
      "text/plain": [
       "{'name': 'jongdae',\n",
       " 'url': 'http://twitter.com/search?q=jongdae',\n",
       " 'promoted_content': None,\n",
       " 'query': 'jongdae',\n",
       " 'tweet_volume': 134563}"
      ]
     },
     "execution_count": 22,
     "metadata": {},
     "output_type": "execute_result"
    }
   ],
   "source": [
    "trends_list[0]"
   ]
  },
  {
   "cell_type": "markdown",
   "metadata": {},
   "source": [
    "<hr style=\"height:2px; border:none; color:#000; background-color:#000;\">"
   ]
  },
  {
   "cell_type": "markdown",
   "metadata": {},
   "source": [
    "### Get Today's Worldwide Trending Topics (3 of 3)\n",
    "* For **trends with more than 10,000 tweets**, the **`tweet_volume`** is the **number of tweets**; otherwise, it’s `None`\n",
    "* Filter the list so that it contains only trends with more than 10,000 tweets:"
   ]
  },
  {
   "cell_type": "code",
   "execution_count": 23,
   "metadata": {},
   "outputs": [],
   "source": [
    "trends_list = [t for t in trends_list if t['tweet_volume']]"
   ]
  },
  {
   "cell_type": "code",
   "execution_count": 24,
   "metadata": {},
   "outputs": [],
   "source": [
    "from operator import itemgetter "
   ]
  },
  {
   "cell_type": "code",
   "execution_count": 25,
   "metadata": {},
   "outputs": [],
   "source": [
    "trends_list.sort(key=itemgetter('tweet_volume'), reverse=True) "
   ]
  },
  {
   "cell_type": "code",
   "execution_count": 26,
   "metadata": {},
   "outputs": [
    {
     "name": "stdout",
     "output_type": "stream",
     "text": [
      "Chen\n",
      "#Chat_with_Kep1er\n",
      "Cardio\n",
      "Naruto\n",
      "jongdae\n",
      "#السعوديه_فيتنام\n",
      "#HBDchopper\n",
      "#ว่าแต่เอ็งใครวะ\n",
      "まんばちゃん\n",
      "JEONGHYO SEULGI UNZIPPED\n",
      "Bazinga Behind The Scene\n",
      "Zhou\n",
      "#ゲームスタイル性格診断\n",
      "スープカレー\n",
      "ゲームのプレイスタイル\n",
      "sorn\n",
      "Alfa Romeo\n",
      "Azeem Rafiq\n",
      "バルミューダ\n",
      "ゲーム性\n",
      "肥前くん\n",
      "Arctic Monkeys\n",
      "パンダタイプ\n",
      "Juana Rivas\n",
      "#レコメンSexyZoneSP_DAY2\n",
      "Dolar 10.20\n"
     ]
    }
   ],
   "source": [
    "for trend in trends_list:  # show top trending topics\n",
    "    print(trend['name'])"
   ]
  },
  {
   "cell_type": "markdown",
   "metadata": {},
   "source": [
    "<hr style=\"height:2px; border:none; color:#000; background-color:#000;\">"
   ]
  },
  {
   "cell_type": "markdown",
   "metadata": {},
   "source": [
    "# 12.12 Cleaning/Preprocessing Tweets for Analysis\n",
    "* **Data cleaning** is one of data scientists' most common tasks \n",
    "* Some **NLP tasks** for **normalizing tweets**\n",
    "    * Converting text to **same case**\n",
    "    * Removing **`#` from hashtags**, **`@`-mentions**, **duplicates**, **hashtags**\n",
    "    * Removing **excess whitespace**, **punctuation**, **stop words**, **URLs**\n",
    "    * Removing tweet keywords **`RT`** (retweet) and **`FAV`** (favorite) \n",
    "    * **Stemming** and **lemmatization**\n",
    "    * **Tokenization**"
   ]
  },
  {
   "cell_type": "markdown",
   "metadata": {},
   "source": [
    "<hr style=\"height:2px; border:none; color:#000; background-color:#000;\">"
   ]
  },
  {
   "cell_type": "markdown",
   "metadata": {},
   "source": [
    "### [**tweet-preprocessor**](https://github.com/s/preprocessor) Library and TextBlob Utility Functions\n",
    "* `pip install tweet-preprocessor`\n",
    "* Can automatically remove any combination of:\n",
    "\n",
    "| Option\t| Option constant\n",
    "| :---\t| :---\n",
    "| **`OPT.MENTION`** | @-Mentions (e.g., `@nasa`)\t\n",
    "| **`OPT.EMOJI`** | Emoji\t\n",
    "| **`OPT.HASHTAG`** | Hashtag (e.g., `#mars`)\t\n",
    "| **`OPT.NUMBER`** | Number\t\n",
    "| **`OPT.RESERVED`** | Reserved Words (`RT` and `FAV`)\t\n",
    "| **`OPT.SMILEY`** | Smiley\t\n",
    "| **`OPT.URL`** | URL\t"
   ]
  },
  {
   "cell_type": "markdown",
   "metadata": {},
   "source": [
    "<hr style=\"height:2px; border:none; color:#000; background-color:#000;\">"
   ]
  },
  {
   "cell_type": "markdown",
   "metadata": {},
   "source": [
    "### Cleaning a Tweet Containing a Reserved Word and a URL\n",
    "* The tweet-preprocessor library’s module name is **`preprocessor`** "
   ]
  },
  {
   "cell_type": "code",
   "execution_count": 27,
   "metadata": {},
   "outputs": [],
   "source": [
    "import preprocessor as p  # p recommended by docs"
   ]
  },
  {
   "cell_type": "code",
   "execution_count": 28,
   "metadata": {},
   "outputs": [],
   "source": [
    "p.set_options(p.OPT.URL, p.OPT.RESERVED)  # specify what to clean"
   ]
  },
  {
   "cell_type": "code",
   "execution_count": 29,
   "metadata": {},
   "outputs": [],
   "source": [
    "tweet_text = 'RT A sample retweet with a URL https://nasa.gov'"
   ]
  },
  {
   "cell_type": "code",
   "execution_count": 30,
   "metadata": {},
   "outputs": [
    {
     "data": {
      "text/plain": [
       "'A sample retweet with a URL'"
      ]
     },
     "execution_count": 30,
     "metadata": {},
     "output_type": "execute_result"
    }
   ],
   "source": [
    "p.clean(tweet_text)"
   ]
  },
  {
   "cell_type": "markdown",
   "metadata": {},
   "source": [
    "<hr style=\"height:2px; border:none; color:#000; background-color:#000;\">"
   ]
  },
  {
   "cell_type": "markdown",
   "metadata": {},
   "source": [
    "# 12.13 Twitter Streaming API\n",
    "* Streams **randomly selected** live tweets up to a **maximum of 1% of the tweets per day**\n",
    "* According to https://InternetLiveStats.com\n",
    "    * **~8500 tweets per second**\n",
    "    * Nearly **750 million tweets per day**\n",
    "* So Streaming API gives you **free access to approximately 7.5 million tweets/day**"
   ]
  },
  {
   "cell_type": "markdown",
   "metadata": {},
   "source": [
    "<hr style=\"height:2px; border:none; color:#000; background-color:#000;\">"
   ]
  },
  {
   "cell_type": "markdown",
   "metadata": {},
   "source": [
    "## 12.13.1 Creating a Subclass of `StreamListener` \n",
    "* A stream **pushes** tweets to your app via a **persistent connection** \n",
    "* **Streaming rate** varies tremendously, based on search criteria\n",
    "* Subclass of Tweepy’s **`StreamListener`** listens for tweets\n",
    "    * **Notified** when each **new tweet** or other **Twitter message** **arrives**\n",
    "    * Each message results in a call to a **`StreamListener` method**\n",
    "    * **Override** only the **methods you need**\n"
   ]
  },
  {
   "cell_type": "markdown",
   "metadata": {},
   "source": [
    "<hr style=\"height:2px; border:none; color:#000; background-color:#000;\">"
   ]
  },
  {
   "cell_type": "markdown",
   "metadata": {},
   "source": [
    "### `StreamListener` Methods\n",
    "* [`StreamListener` methods](https://github.com/tweepy/tweepy/blob/master/tweepy/streaming.py)  \n",
    "\n",
    "| Method&nbsp;&nbsp;&nbsp;&nbsp;&nbsp;&nbsp;&nbsp;&nbsp;&nbsp;&nbsp;&nbsp;&nbsp;&nbsp;&nbsp;&nbsp;&nbsp;&nbsp;&nbsp;&nbsp;&nbsp;&nbsp;&nbsp;&nbsp;&nbsp;&nbsp;&nbsp;&nbsp;&nbsp;&nbsp;&nbsp;&nbsp;&nbsp;&nbsp;&nbsp;&nbsp;&nbsp;&nbsp;&nbsp;&nbsp;&nbsp;&nbsp;&nbsp;&nbsp;&nbsp;&nbsp;&nbsp;&nbsp;&nbsp;&nbsp;&nbsp;&nbsp;&nbsp;&nbsp;&nbsp;&nbsp;&nbsp;&nbsp;&nbsp;| Called when...\n",
    "| :---\t| :---\n",
    "| **`on_connect(self)`** \t| App **successfully connects** to the Twitter stream. This is for statements that should execute only if your app is connected to the stream.\n",
    "| **`on_status(self, status)`** \t| A **tweet arrives**—**`status`** is a Tweepy **`Status`** object.\n",
    "| **`on_data(self, data)`** \t| A **tweet arrives**—**`data`** is the **raw JSON** of a Twitter status (tweet).\n",
    "| **`on_limit(self, track)`** \t| A **limit notice** arrives. This occurs if your search matches more tweets than Twitter can deliver based on its current streaming rate limits. In this case, the limit notice contains the number of matching tweets that could not be delivered.\n",
    "| **`on_error(self, status_code)`** \t| An **error code** arrives. \n",
    "| **`on_timeout(self)`** \t| The **connection times out**—that is, the Twitter server is not responding.\n",
    "| **`on_warning(self, notice)`** \t| **Twitter sends a disconnect warning** to indicate that the connection might be closed. For example, Twitter maintains a queue of the tweets it’s pushing to your app. If the app does not read the tweets fast enough, `on_warning`’s notice argument will contain a warning message indicating that the connection will terminate if the queue becomes full. "
   ]
  },
  {
   "cell_type": "markdown",
   "metadata": {},
   "source": [
    "<hr style=\"height:2px; border:none; color:#000; background-color:#000;\">"
   ]
  },
  {
   "cell_type": "markdown",
   "metadata": {},
   "source": [
    "### Class `TweetListener` Defined in `tweetlistener.py`\n"
   ]
  },
  {
   "cell_type": "markdown",
   "metadata": {},
   "source": [
    "<hr style=\"height:2px; border:none; color:#000; background-color:#000;\">"
   ]
  },
  {
   "cell_type": "markdown",
   "metadata": {},
   "source": [
    "## 12.13.2 Initiating Stream Processing\n",
    "\n",
    "### Subclass of `tweepy.Stream` Receives Tweets\n",
    "* **CHANGE:** Previously, the subclass was initialized with the API object and registered as a listener. "
   ]
  },
  {
   "cell_type": "code",
   "execution_count": 31,
   "metadata": {},
   "outputs": [],
   "source": [
    "from tweetlistener import TweetListener"
   ]
  },
  {
   "cell_type": "code",
   "execution_count": 32,
   "metadata": {},
   "outputs": [],
   "source": [
    "tweet_listener = TweetListener(keys.consumer_key, keys.consumer_secret, keys.access_token, keys.access_token_secret, limit=5)"
   ]
  },
  {
   "cell_type": "markdown",
   "metadata": {},
   "source": [
    "<hr style=\"height:2px; border:none; color:#000; background-color:#000;\">"
   ]
  },
  {
   "cell_type": "markdown",
   "metadata": {
    "jp-MarkdownHeadingCollapsed": true,
    "tags": []
   },
   "source": [
    "### Creating a Tweepy **`Stream`** Object to Manage the Connection to the Twitter Stream\n",
    "* Passes the messages to your `TweetListener` "
   ]
  },
  {
   "cell_type": "code",
   "execution_count": 33,
   "metadata": {},
   "outputs": [],
   "source": [
    "# OLD: tweet_stream = tweepy.Stream(auth=api.auth, listener=tweet_listener)"
   ]
  },
  {
   "cell_type": "markdown",
   "metadata": {},
   "source": [
    "<hr style=\"height:2px; border:none; color:#000; background-color:#000;\">"
   ]
  },
  {
   "cell_type": "markdown",
   "metadata": {},
   "source": [
    "### Starting the Tweet Stream with the `Stream` Object’s **`filter` Method** \n",
    "* `track` parameter specifies a list of search terms\n",
    "* [Other `filter` method parameters](https://developer.twitter.com/en/docs/tweets/filter-realtime/guides/basic-stream-parameters) for refining your tweet searches\n",
    "* Streaming API returns full tweet **JSON objects** for tweets that match any of the terms, **not just in the tweet’s text, but also in @-mentions, hashtags, expanded URLs and other information**  \n",
    "* Might not see search terms in **tweets' text**"
   ]
  },
  {
   "cell_type": "code",
   "execution_count": 34,
   "metadata": {},
   "outputs": [],
   "source": [
    "# OLD: tweet_stream.filter(track=['football'])  #, is_async=True) "
   ]
  },
  {
   "cell_type": "code",
   "execution_count": 35,
   "metadata": {},
   "outputs": [
    {
     "name": "stdout",
     "output_type": "stream",
     "text": [
      "Connection successful\n",
      "\n",
      "Screen name: Yubiieeee:\n",
      "   Language: en\n",
      "     Status: RT @Nigerianscamsss: You mean European international tournaments?\n",
      "We’re having fun in Africa, South America and CONCACAF\n",
      "\n",
      "Screen name: DapsMcfc:\n",
      "   Language: en\n",
      "     Status: @DonHusam6 @MaybeDoubleA @TunnelTrafford @TyroneMc__ @Djrbiz Point 1: Liverpool (the city not club) will always be rivals, it’s deeper than football…\n",
      "\n",
      "Point 2: admittedly last year you weren’t our rivals however the previous 2 years we went head to head - that makes us rivals\n",
      "\n",
      "Point 3: if we ain’t rivals don’t smash up our team coach\n",
      "\n",
      "Screen name: pompeylive:\n",
      "   Language: en\n",
      "     Status: RT @pn_neil_allen: The former #Pompey pair shared a classroom with Roy Keane and Tony Adams. And are doing rather well at Privett Park this…\n",
      "\n",
      "Screen name: Lns_CFC:\n",
      "   Language: fr\n",
      "     Status: RT @B19_WOOOO: La seul nation africaine qui peut titiller les grandes nations européennes et américaines.\n",
      " Translated: RT @ B19_WOOOO: The only African nation that can titillate the great European and American nations.\n",
      "\n"
     ]
    },
    {
     "name": "stderr",
     "output_type": "stream",
     "text": [
      "Stream connection closed by Twitter\n"
     ]
    },
    {
     "name": "stdout",
     "output_type": "stream",
     "text": [
      "Screen name: Sammy_Jr47:\n",
      "   Language: en\n",
      "     Status: RT @charles_watts: Lauren: \"I couldn’t be more excited to be taking up the role. I feel proud to be joining the FIFA family and there’s als…\n",
      "\n"
     ]
    }
   ],
   "source": [
    "tweet_listener.filter(track=['football'])  #, is_async=True) "
   ]
  },
  {
   "cell_type": "markdown",
   "metadata": {},
   "source": [
    "<hr style=\"height:2px; border:none; color:#000; background-color:#000;\">"
   ]
  },
  {
   "cell_type": "markdown",
   "metadata": {
    "jp-MarkdownHeadingCollapsed": true,
    "tags": []
   },
   "source": [
    "### **Lecture note: Run remaining cells now so we don't have to wait for streamed tweets later.**\n",
    "\n",
    "### Asynchronous vs. Synchronous Streams\n",
    "* **`is_async=True`** &mdash; would initiate an **asynchronous tweet stream** \n",
    "* Without `is_async=True`, the stream is **synchronous** and the next In [] prompt appears **after the stream terminates**    \n",
    "* in Jupyter, we used a **synchronous stream** ensure that all tweets display\n",
    "* In IPython, can terminate an asynchronous tweet stream early:  \n",
    ">`tweet_stream.running=False`    \n"
   ]
  },
  {
   "cell_type": "markdown",
   "metadata": {},
   "source": [
    "<hr style=\"height:2px; border:none; color:#000; background-color:#000;\">"
   ]
  },
  {
   "cell_type": "markdown",
   "metadata": {},
   "source": [
    "# 12.14 Tweet Sentiment Analysis \n",
    "* Political researchers might use to understand **how people are likely to vote**\n",
    "* Companies might use to see what people are saying about **their products** and **competitors’ products**\n",
    "* Script **`sentimentlistener.py`** checks **sentiment** on a specified topic for a specified number of tweets\n",
    "* The script in this example is substantially the same as the previous example, but uses TextBlob to check the sentiment of each tweet as we did in the NLP presentation"
   ]
  },
  {
   "cell_type": "code",
   "execution_count": 36,
   "metadata": {},
   "outputs": [
    {
     "name": "stdout",
     "output_type": "stream",
     "text": [
      "  Mufc1985123: @soccer_terra @Blue_Eyed_Socio @FUTWIZ It's football not soccer, stick to your eggball\n",
      "\n",
      "  Kitti02328304: eFootball™ CHAMPION SQUADS A football card game played with famous real-world players! Play with friends! iOS: Android:\n",
      "\n",
      "+ InimfonUmoh4: @Pacificfccpl @CPLCavalryFC @onesoccer @TELUS Hello forum I am a very talented football from Nigeria... Can anyone help me with contacts to the club because I really want to join this club and I will surely bring improvement to the team if I get signed I would drop my CV together with my video clips if needed Thank you\n",
      "\n",
      "  LocalCltNews: Justin Fuente out as Virginia Tech head football coach #coach #football #Fuente #Justin #tech #Virginia https:...\n",
      "\n",
      "  calvinfox96: The expectations of Scottish football, a couldn’t even imagine being that shite\n",
      "\n",
      "- coffeebreaks40: National Treasures Collegiate Football. All cards numbered to 99 or less. Get a random serial number for $9 @HobbyConnector\n",
      "\n",
      "- SickoSports: @nickmaraldo @PatMcAfeeShow Not gonna lie Draymond Green was terrible smh not his fault they just clearly don't have that relationship and he's not a football guy\n",
      "\n",
      "  DreamNumberNine: Whatever aslan akhir hamme el football 😔😔\n",
      "\n",
      "  Athens_Tourism: The biggest travel season of them all is here - football games, Thanksgiving and Christmas! So take time to join us today for #CheckYourWipersDay to inspect and replace your wipers before you're on the go.\n",
      "\n"
     ]
    },
    {
     "name": "stderr",
     "output_type": "stream",
     "text": [
      "Stream connection closed by Twitter\n"
     ]
    },
    {
     "name": "stdout",
     "output_type": "stream",
     "text": [
      "  Smithead79: @FootyRustling They should auction their shirts with the money all going to grass roots football.\n",
      "\n",
      "Tweet sentiment for \"football\"\n",
      "Positive: 1\n",
      " Neutral: 7\n",
      "Negative: 2\n"
     ]
    }
   ],
   "source": [
    "run sentimentlistener.py football 10"
   ]
  },
  {
   "cell_type": "markdown",
   "metadata": {},
   "source": [
    "<hr style=\"height:2px; border:none; color:#000; background-color:#000;\">"
   ]
  },
  {
   "cell_type": "markdown",
   "metadata": {},
   "source": [
    "# 12.15 Geocoding and Mapping\n",
    "* Collect **streaming tweets**, then **plot** their **locations** on an **interactive map**\n",
    "* **Twitter disables precise location info (latitude/longitude) by default** (users must opt in to allowing Twitter to track locations) \n",
    "* Large percentage include the user’s home location information\n",
    "    * Sometimes invalid or fictitious \n",
    "* **Map markers** will show `location` from each tweet’s `User` object"
   ]
  },
  {
   "cell_type": "markdown",
   "metadata": {},
   "source": [
    "<hr style=\"height:2px; border:none; color:#000; background-color:#000;\">"
   ]
  },
  {
   "cell_type": "markdown",
   "metadata": {},
   "source": [
    "### [**geopy** library](https://github.com/geopy/geopy)\n",
    "* **Geocoding**&mdash;translate locations into **latitude** and **longitude**\n",
    "* **geopy** supports dozens of **geocoding web services**, many with **free or lite tiers**\n",
    "* We’ll use **OpenMapQuest geocoding service** "
   ]
  },
  {
   "cell_type": "markdown",
   "metadata": {},
   "source": [
    "<hr style=\"height:2px; border:none; color:#000; background-color:#000;\">"
   ]
  },
  {
   "cell_type": "markdown",
   "metadata": {},
   "source": [
    "### OpenMapQuest Geocoding API (1 of 2)\n",
    "* Convert locations, such as **Boston, MA** into their **latitudes** and **longitudes**, such as **42.3602534** and **-71.0582912**, for plotting on maps\n",
    "* Currently allows **15,000 transactions per month** on their free tier\n",
    "* [Sign up](https://developer.mapquest.com/)\n",
    "* For a presentation of **signing up** and **getting your credentials**, see my [**Python Fundamentals LiveLessons video**](https://learning.oreilly.com/videos/python-fundamentals/9780135917411/9780135917411-PFLL_Lesson12_24) or the [**beginning of Section 12.15 in Python for Programmers**](https://learning.oreilly.com/library/view/python-for-programmers/9780135231364/ch12.xhtml#ch12lev1sec15)"
   ]
  },
  {
   "cell_type": "markdown",
   "metadata": {},
   "source": [
    "<hr style=\"height:2px; border:none; color:#000; background-color:#000;\">"
   ]
  },
  {
   "cell_type": "markdown",
   "metadata": {},
   "source": [
    "### [**folium library**](https://github.com/python-visualization/folium) and Leaflet.js JavaScript Mapping Library\n",
    "* Uses **Leaflet.js JavaScript mapping library** to display maps in a web page \n",
    "* Folium can output **HTML documents** for viewing in a **web browser**\n",
    "* `pip install folium`"
   ]
  },
  {
   "cell_type": "markdown",
   "metadata": {},
   "source": [
    "<hr style=\"height:2px; border:none; color:#000; background-color:#000;\">"
   ]
  },
  {
   "cell_type": "markdown",
   "metadata": {},
   "source": [
    "### Maps from OpenStreetMap.org\n",
    "By default, **Leaflet.js** uses **open source maps** from **`OpenStreetMap.org`**\n",
    "* To use these maps, **they require the following copyright notice**:\n",
    "\n",
    "> `Map data © OpenStreetMap contributors`\n",
    "\n",
    "* They also say: **You must make it clear that the data is available under the Open Database License. This can be achieved by providing a “License” or “Terms” link which links to https://www.openstreetmap.org/copyright or https://www.opendatacommons.org/licenses/odbl/index.html**"
   ]
  },
  {
   "cell_type": "markdown",
   "metadata": {},
   "source": [
    "<hr style=\"height:2px; border:none; color:#000; background-color:#000;\">"
   ]
  },
  {
   "cell_type": "markdown",
   "metadata": {},
   "source": [
    "### Collections Required By `LocationListener`\n",
    "* Requires two collections\n",
    "    * A **list (`tweets`)** to store the tweets we collect \n",
    "    * A **dictionary (`counts`)** to track the **total number of tweets** we collect and the **number that have location data**"
   ]
  },
  {
   "cell_type": "code",
   "execution_count": 37,
   "metadata": {},
   "outputs": [],
   "source": [
    "tweets = [] "
   ]
  },
  {
   "cell_type": "code",
   "execution_count": 38,
   "metadata": {},
   "outputs": [],
   "source": [
    "counts = {'total_tweets': 0, 'locations': 0}"
   ]
  },
  {
   "cell_type": "markdown",
   "metadata": {},
   "source": [
    "<hr style=\"height:2px; border:none; color:#000; background-color:#000;\">"
   ]
  },
  {
   "cell_type": "markdown",
   "metadata": {},
   "source": [
    "### Creating the LocationListener "
   ]
  },
  {
   "cell_type": "code",
   "execution_count": 39,
   "metadata": {},
   "outputs": [],
   "source": [
    "from locationlistener import LocationListener"
   ]
  },
  {
   "cell_type": "code",
   "execution_count": 40,
   "metadata": {},
   "outputs": [],
   "source": [
    "location_listener = LocationListener(keys.consumer_key, keys.consumer_secret, \n",
    "    keys.access_token, keys.access_token_secret, counts_dict=counts, \n",
    "    tweets_list=tweets, topic='football', limit=50)"
   ]
  },
  {
   "cell_type": "markdown",
   "metadata": {},
   "source": [
    "* **`LocationListener`** uses our **utility function `get_tweet_content`** to place each tweets **screen name**, **tweet text** and **location** into a **dictionary**"
   ]
  },
  {
   "cell_type": "markdown",
   "metadata": {},
   "source": [
    "<hr style=\"height:2px; border:none; color:#000; background-color:#000;\">"
   ]
  },
  {
   "cell_type": "markdown",
   "metadata": {},
   "source": [
    "### Configure and Start the `Stream` of Tweets"
   ]
  },
  {
   "cell_type": "code",
   "execution_count": 41,
   "metadata": {},
   "outputs": [],
   "source": [
    "import tweepy"
   ]
  },
  {
   "cell_type": "code",
   "execution_count": 42,
   "metadata": {},
   "outputs": [],
   "source": [
    "#stream = tweepy.Stream(auth=api.auth, listener=location_listener)"
   ]
  },
  {
   "cell_type": "code",
   "execution_count": 43,
   "metadata": {},
   "outputs": [
    {
     "name": "stderr",
     "output_type": "stream",
     "text": [
      "Stream connection closed by Twitter\n"
     ]
    },
    {
     "name": "stdout",
     "output_type": "stream",
     "text": [
      "PanAfricology: South African do u know that as a teenage Jacob Zuma, played football on Robben Island as a defender in the Makana Football Association (MFA) league while ANC &amp; PAC activists were imprisoned on that notorious Island.\n",
      "#EFFPresser #DeKlerk #ANC #BLM #DeKlerkMemorialService #EFF https://t.co/BGx2wvbfm7\n",
      "\n"
     ]
    }
   ],
   "source": [
    "location_listener.filter(track=['football'], languages=['en'])"
   ]
  },
  {
   "cell_type": "markdown",
   "metadata": {},
   "source": [
    "<hr style=\"height:2px; border:none; color:#000; background-color:#000;\">"
   ]
  },
  {
   "cell_type": "markdown",
   "metadata": {},
   "source": [
    "### Displaying the Location Statistics "
   ]
  },
  {
   "cell_type": "code",
   "execution_count": 44,
   "metadata": {},
   "outputs": [
    {
     "data": {
      "text/plain": [
       "81"
      ]
     },
     "execution_count": 44,
     "metadata": {},
     "output_type": "execute_result"
    }
   ],
   "source": [
    "counts['total_tweets']"
   ]
  },
  {
   "cell_type": "code",
   "execution_count": 45,
   "metadata": {},
   "outputs": [
    {
     "data": {
      "text/plain": [
       "50"
      ]
     },
     "execution_count": 45,
     "metadata": {},
     "output_type": "execute_result"
    }
   ],
   "source": [
    "counts['locations']"
   ]
  },
  {
   "cell_type": "code",
   "execution_count": 46,
   "metadata": {},
   "outputs": [
    {
     "name": "stdout",
     "output_type": "stream",
     "text": [
      "61.7%\n"
     ]
    }
   ],
   "source": [
    "print(f'{counts[\"locations\"] / counts[\"total_tweets\"]:.1%}')"
   ]
  },
  {
   "cell_type": "markdown",
   "metadata": {},
   "source": [
    "<hr style=\"height:2px; border:none; color:#000; background-color:#000;\">"
   ]
  },
  {
   "cell_type": "markdown",
   "metadata": {},
   "source": [
    "### Geocoding the Locations with Our `get_geocodes` Utility Function \n",
    "* **OpenMapQuest** geocoding service **times out** when it **cannot handle your request immediately**\n",
    "* If so, **`get_geocodes`** **notifies** you, **waits**, then **retries** the request"
   ]
  },
  {
   "cell_type": "code",
   "execution_count": 47,
   "metadata": {},
   "outputs": [],
   "source": [
    "from tweetutilities import get_geocodes"
   ]
  },
  {
   "cell_type": "code",
   "execution_count": 48,
   "metadata": {},
   "outputs": [
    {
     "name": "stdout",
     "output_type": "stream",
     "text": [
      "Getting coordinates for tweet locations...\n",
      "HTTPSConnectionPool(host='open.mapquestapi.com', port=443): Max retries exceeded with url: /nominatim/v1/search?q=Parts+Unknown&format=json&limit=1&key=L0xOBy7HqIWsNgBvZvgVZx9HX1GSYzri (Caused by ReadTimeoutError(\"HTTPSConnectionPool(host='open.mapquestapi.com', port=443): Read timed out. (read timeout=1)\"))\n",
      "OpenMapQuest service timed out. Waiting.\n",
      "HTTPSConnectionPool(host='open.mapquestapi.com', port=443): Max retries exceeded with url: /nominatim/v1/search?q=Jacksonville%2C+FL&format=json&limit=1&key=L0xOBy7HqIWsNgBvZvgVZx9HX1GSYzri (Caused by ReadTimeoutError(\"HTTPSConnectionPool(host='open.mapquestapi.com', port=443): Read timed out. (read timeout=1)\"))\n",
      "OpenMapQuest service timed out. Waiting.\n",
      "Done geocoding\n"
     ]
    }
   ],
   "source": [
    "bad_locations = get_geocodes(tweets)"
   ]
  },
  {
   "cell_type": "markdown",
   "metadata": {},
   "source": [
    "<hr style=\"height:2px; border:none; color:#000; background-color:#000;\">"
   ]
  },
  {
   "cell_type": "markdown",
   "metadata": {},
   "source": [
    "### Displaying the Bad Location Statistics"
   ]
  },
  {
   "cell_type": "code",
   "execution_count": 49,
   "metadata": {},
   "outputs": [
    {
     "data": {
      "text/plain": [
       "8"
      ]
     },
     "execution_count": 49,
     "metadata": {},
     "output_type": "execute_result"
    }
   ],
   "source": [
    "bad_locations"
   ]
  },
  {
   "cell_type": "code",
   "execution_count": 50,
   "metadata": {},
   "outputs": [
    {
     "name": "stdout",
     "output_type": "stream",
     "text": [
      "16.0%\n"
     ]
    }
   ],
   "source": [
    "print(f'{bad_locations / counts[\"locations\"]:.1%}')"
   ]
  },
  {
   "cell_type": "markdown",
   "metadata": {},
   "source": [
    "<hr style=\"height:2px; border:none; color:#000; background-color:#000;\">"
   ]
  },
  {
   "cell_type": "markdown",
   "metadata": {},
   "source": [
    "### Cleaning the Data with a pandas `DataFrame` Before Displaying the Data on a Map\n",
    "* `DataFrame` will contain **`NaN`** for the **`latitude`** and **`longitude`** of any tweet that **did not have a valid location**\n",
    "* Remove any such via `DataFrame`’s **`dropna` method** "
   ]
  },
  {
   "cell_type": "code",
   "execution_count": 51,
   "metadata": {},
   "outputs": [],
   "source": [
    "import pandas as pd"
   ]
  },
  {
   "cell_type": "code",
   "execution_count": 52,
   "metadata": {},
   "outputs": [],
   "source": [
    "df = pd.DataFrame(tweets)"
   ]
  },
  {
   "cell_type": "code",
   "execution_count": 53,
   "metadata": {},
   "outputs": [
    {
     "data": {
      "text/html": [
       "<div>\n",
       "<style scoped>\n",
       "    .dataframe tbody tr th:only-of-type {\n",
       "        vertical-align: middle;\n",
       "    }\n",
       "\n",
       "    .dataframe tbody tr th {\n",
       "        vertical-align: top;\n",
       "    }\n",
       "\n",
       "    .dataframe thead th {\n",
       "        text-align: right;\n",
       "    }\n",
       "</style>\n",
       "<table border=\"1\" class=\"dataframe\">\n",
       "  <thead>\n",
       "    <tr style=\"text-align: right;\">\n",
       "      <th></th>\n",
       "      <th>screen_name</th>\n",
       "      <th>text</th>\n",
       "      <th>location</th>\n",
       "      <th>latitude</th>\n",
       "      <th>longitude</th>\n",
       "    </tr>\n",
       "  </thead>\n",
       "  <tbody>\n",
       "    <tr>\n",
       "      <th>0</th>\n",
       "      <td>alburr92</td>\n",
       "      <td>Cam back to the Panthers, Fuente fired from th...</td>\n",
       "      <td>Charlotte, NC</td>\n",
       "      <td>35.227087</td>\n",
       "      <td>-80.843127</td>\n",
       "    </tr>\n",
       "    <tr>\n",
       "      <th>1</th>\n",
       "      <td>St6ticz</td>\n",
       "      <td>reckon he hates football https://t.co/SmuirOZWof</td>\n",
       "      <td>Sunderland, England</td>\n",
       "      <td>54.906379</td>\n",
       "      <td>-1.375053</td>\n",
       "    </tr>\n",
       "    <tr>\n",
       "      <th>2</th>\n",
       "      <td>Britta_Boehler</td>\n",
       "      <td>@_MelanieMartin @ojmason: Like football. Or hu...</td>\n",
       "      <td>Amsterdam/Cologne</td>\n",
       "      <td>NaN</td>\n",
       "      <td>NaN</td>\n",
       "    </tr>\n",
       "    <tr>\n",
       "      <th>3</th>\n",
       "      <td>AnasAhmadTJ</td>\n",
       "      <td>@Dee11Fibre @PSGHaryy @jukeyisdead @goal You a...</td>\n",
       "      <td>Gombe | Kano | Lagos, Nigeria</td>\n",
       "      <td>NaN</td>\n",
       "      <td>NaN</td>\n",
       "    </tr>\n",
       "    <tr>\n",
       "      <th>4</th>\n",
       "      <td>gabrieldud</td>\n",
       "      <td>@IJaSport Don't know if its needed, but would ...</td>\n",
       "      <td>Sao Paulo, Brazil</td>\n",
       "      <td>-23.550651</td>\n",
       "      <td>-46.633382</td>\n",
       "    </tr>\n",
       "    <tr>\n",
       "      <th>5</th>\n",
       "      <td>Schmidtburgh</td>\n",
       "      <td>@Ethan__Tremblay @ksufan97 @thegrant_ksu Don't...</td>\n",
       "      <td>Parts Unknown</td>\n",
       "      <td>40.138216</td>\n",
       "      <td>-79.837506</td>\n",
       "    </tr>\n",
       "    <tr>\n",
       "      <th>6</th>\n",
       "      <td>MontanaBasque</td>\n",
       "      <td>Everyone in Montana saying FTC or GO Cats Go, ...</td>\n",
       "      <td>Montana</td>\n",
       "      <td>47.375267</td>\n",
       "      <td>-109.638758</td>\n",
       "    </tr>\n",
       "    <tr>\n",
       "      <th>7</th>\n",
       "      <td>ardeerjoe</td>\n",
       "      <td>@itslegaltender @STVSport @BBCScotland @Scotti...</td>\n",
       "      <td>NORTH AYRSHIRE, Europe</td>\n",
       "      <td>NaN</td>\n",
       "      <td>NaN</td>\n",
       "    </tr>\n",
       "    <tr>\n",
       "      <th>8</th>\n",
       "      <td>ItsFoxedUp</td>\n",
       "      <td>Kasper Schmeichel admits plans to leave Leices...</td>\n",
       "      <td>Les-tah</td>\n",
       "      <td>27.671982</td>\n",
       "      <td>-12.956325</td>\n",
       "    </tr>\n",
       "    <tr>\n",
       "      <th>9</th>\n",
       "      <td>backinblack_wx</td>\n",
       "      <td>@IanBoatmanUGA Apparently they gave you the fa...</td>\n",
       "      <td>Mobile, AL</td>\n",
       "      <td>30.694357</td>\n",
       "      <td>-88.043054</td>\n",
       "    </tr>\n",
       "    <tr>\n",
       "      <th>10</th>\n",
       "      <td>InsqneMagic</td>\n",
       "      <td>@markgoldbridge Mark when you playing Football...</td>\n",
       "      <td>Cristiano Ronaldo</td>\n",
       "      <td>32.698094</td>\n",
       "      <td>-16.773876</td>\n",
       "    </tr>\n",
       "    <tr>\n",
       "      <th>11</th>\n",
       "      <td>Football__Talks</td>\n",
       "      <td>@JeffreyHarharw2 @mikeparry8 @JPickford1 He is...</td>\n",
       "      <td>Lagos</td>\n",
       "      <td>20.017111</td>\n",
       "      <td>103.378253</td>\n",
       "    </tr>\n",
       "    <tr>\n",
       "      <th>12</th>\n",
       "      <td>perdricof</td>\n",
       "      <td>@whstancil this is fucking lucy-with-the-footb...</td>\n",
       "      <td>Long Beach, CA</td>\n",
       "      <td>44.456770</td>\n",
       "      <td>-78.735970</td>\n",
       "    </tr>\n",
       "    <tr>\n",
       "      <th>13</th>\n",
       "      <td>Bari_3J</td>\n",
       "      <td>@DMVCoop301 They not committed to playing big ...</td>\n",
       "      <td>Atlanta, GA</td>\n",
       "      <td>33.749099</td>\n",
       "      <td>-84.390185</td>\n",
       "    </tr>\n",
       "    <tr>\n",
       "      <th>14</th>\n",
       "      <td>ItsFoxedUp</td>\n",
       "      <td>Vestergaard: I know I can do better at Leicest...</td>\n",
       "      <td>Les-tah</td>\n",
       "      <td>27.671982</td>\n",
       "      <td>-12.956325</td>\n",
       "    </tr>\n",
       "    <tr>\n",
       "      <th>15</th>\n",
       "      <td>MelancholiaMel1</td>\n",
       "      <td>@LaurenAlexis_x Sorry to all the football fana...</td>\n",
       "      <td>She/they</td>\n",
       "      <td>46.737862</td>\n",
       "      <td>-60.919660</td>\n",
       "    </tr>\n",
       "    <tr>\n",
       "      <th>16</th>\n",
       "      <td>deRetweeter</td>\n",
       "      <td>@lm30cr7 @goal As you said, they all human too...</td>\n",
       "      <td>Loch Ard Gorge</td>\n",
       "      <td>-38.647037</td>\n",
       "      <td>143.069918</td>\n",
       "    </tr>\n",
       "    <tr>\n",
       "      <th>17</th>\n",
       "      <td>andymusic75</td>\n",
       "      <td>Totally accurate!  This is why some in the med...</td>\n",
       "      <td>Nolensville, TN</td>\n",
       "      <td>35.952285</td>\n",
       "      <td>-86.669441</td>\n",
       "    </tr>\n",
       "    <tr>\n",
       "      <th>18</th>\n",
       "      <td>sheilambabazi3</td>\n",
       "      <td>@cfctoni_ They watch to pass time... Nothing l...</td>\n",
       "      <td>Kampala</td>\n",
       "      <td>0.317714</td>\n",
       "      <td>32.581354</td>\n",
       "    </tr>\n",
       "    <tr>\n",
       "      <th>19</th>\n",
       "      <td>soccer_suga</td>\n",
       "      <td>Soccer Super League https://t.co/y7cBQStK0e #s...</td>\n",
       "      <td>東京都</td>\n",
       "      <td>34.696864</td>\n",
       "      <td>139.404903</td>\n",
       "    </tr>\n",
       "    <tr>\n",
       "      <th>20</th>\n",
       "      <td>Samuel666969666</td>\n",
       "      <td>Shocking and at times harrowing report of raci...</td>\n",
       "      <td>Heaven 🌤️</td>\n",
       "      <td>NaN</td>\n",
       "      <td>NaN</td>\n",
       "    </tr>\n",
       "    <tr>\n",
       "      <th>21</th>\n",
       "      <td>TopShelfBreaks</td>\n",
       "      <td>True Serial # Flawless Wednesday Night - #Hiti...</td>\n",
       "      <td>Chicago, IL</td>\n",
       "      <td>41.875555</td>\n",
       "      <td>-87.624421</td>\n",
       "    </tr>\n",
       "    <tr>\n",
       "      <th>22</th>\n",
       "      <td>iludreamy</td>\n",
       "      <td>don’t mind the football ahaha</td>\n",
       "      <td>hes my kitten</td>\n",
       "      <td>NaN</td>\n",
       "      <td>NaN</td>\n",
       "    </tr>\n",
       "    <tr>\n",
       "      <th>23</th>\n",
       "      <td>matt_brading</td>\n",
       "      <td>@aaronk0708 They were all playing PlayStation ...</td>\n",
       "      <td>Cambridgeshire</td>\n",
       "      <td>52.333333</td>\n",
       "      <td>0.083333</td>\n",
       "    </tr>\n",
       "    <tr>\n",
       "      <th>24</th>\n",
       "      <td>OduNews1</td>\n",
       "      <td>College football bowl projections for Week 12:...</td>\n",
       "      <td>United States</td>\n",
       "      <td>39.783730</td>\n",
       "      <td>-100.445882</td>\n",
       "    </tr>\n",
       "    <tr>\n",
       "      <th>25</th>\n",
       "      <td>theposh</td>\n",
       "      <td>✍️ We are delighted to announce that manager D...</td>\n",
       "      <td>Weston Homes Stadium</td>\n",
       "      <td>NaN</td>\n",
       "      <td>NaN</td>\n",
       "    </tr>\n",
       "    <tr>\n",
       "      <th>26</th>\n",
       "      <td>NdabezinhleMaf2</td>\n",
       "      <td>@Kyenedy Simply speaking Fassie is a better pl...</td>\n",
       "      <td>Hillcrest, South Africa</td>\n",
       "      <td>-34.046539</td>\n",
       "      <td>18.365510</td>\n",
       "    </tr>\n",
       "    <tr>\n",
       "      <th>27</th>\n",
       "      <td>ThatGuyAlvin25</td>\n",
       "      <td>Hope been lost with football, but my BULLS!? T...</td>\n",
       "      <td>804</td>\n",
       "      <td>35.331263</td>\n",
       "      <td>127.408388</td>\n",
       "    </tr>\n",
       "    <tr>\n",
       "      <th>28</th>\n",
       "      <td>BradMyersTNJ</td>\n",
       "      <td>With the playoffs under way in the other sport...</td>\n",
       "      <td>New Castle, Delaware</td>\n",
       "      <td>39.615985</td>\n",
       "      <td>-75.662956</td>\n",
       "    </tr>\n",
       "    <tr>\n",
       "      <th>29</th>\n",
       "      <td>StephenBonham9</td>\n",
       "      <td>@Lukathfc Great. At last I can enjoy my football</td>\n",
       "      <td>Twickenham</td>\n",
       "      <td>51.446794</td>\n",
       "      <td>-0.328339</td>\n",
       "    </tr>\n",
       "    <tr>\n",
       "      <th>30</th>\n",
       "      <td>taschekats</td>\n",
       "      <td>Unisex dark brown tweed watch cap brown slouch...</td>\n",
       "      <td>Ontario, Canada</td>\n",
       "      <td>50.000678</td>\n",
       "      <td>-86.000977</td>\n",
       "    </tr>\n",
       "    <tr>\n",
       "      <th>31</th>\n",
       "      <td>SteveMontanino</td>\n",
       "      <td>@jg9188 @ProFootballTalk What, then, do you me...</td>\n",
       "      <td>Rochester, NY</td>\n",
       "      <td>43.157285</td>\n",
       "      <td>-77.615214</td>\n",
       "    </tr>\n",
       "    <tr>\n",
       "      <th>32</th>\n",
       "      <td>Baird_ToTheBone</td>\n",
       "      <td>think i will start with football and move my w...</td>\n",
       "      <td>Towson, MD</td>\n",
       "      <td>39.401855</td>\n",
       "      <td>-76.602388</td>\n",
       "    </tr>\n",
       "    <tr>\n",
       "      <th>33</th>\n",
       "      <td>GatorDave_SEC</td>\n",
       "      <td>@TDKRN88 Fuente has an offensive background. N...</td>\n",
       "      <td>Jacksonville, FL</td>\n",
       "      <td>30.332184</td>\n",
       "      <td>-81.655651</td>\n",
       "    </tr>\n",
       "    <tr>\n",
       "      <th>34</th>\n",
       "      <td>Citarael</td>\n",
       "      <td>@french60wasp I’d disagree, but I’m not going ...</td>\n",
       "      <td>Blacksburg, VA</td>\n",
       "      <td>37.229657</td>\n",
       "      <td>-80.413677</td>\n",
       "    </tr>\n",
       "    <tr>\n",
       "      <th>35</th>\n",
       "      <td>KnutsfordNews</td>\n",
       "      <td>Here's what happened in this weekend's footbal...</td>\n",
       "      <td>Knutsford</td>\n",
       "      <td>53.307874</td>\n",
       "      <td>-2.372051</td>\n",
       "    </tr>\n",
       "    <tr>\n",
       "      <th>36</th>\n",
       "      <td>dalen72</td>\n",
       "      <td>@Jonathan_C_PDX Essentially we don't play that...</td>\n",
       "      <td>S.D.</td>\n",
       "      <td>44.647176</td>\n",
       "      <td>-100.348761</td>\n",
       "    </tr>\n",
       "    <tr>\n",
       "      <th>37</th>\n",
       "      <td>TidePride8</td>\n",
       "      <td>@CrushingOnSaban @butchworley End all hunger a...</td>\n",
       "      <td>Saint Helena Island SC</td>\n",
       "      <td>32.386861</td>\n",
       "      <td>-80.560662</td>\n",
       "    </tr>\n",
       "    <tr>\n",
       "      <th>38</th>\n",
       "      <td>thehatedsource</td>\n",
       "      <td>Little j journalist At Men's Health Reports Br...</td>\n",
       "      <td>Maryland, USA</td>\n",
       "      <td>39.516223</td>\n",
       "      <td>-76.938207</td>\n",
       "    </tr>\n",
       "    <tr>\n",
       "      <th>39</th>\n",
       "      <td>MalcSmith_16</td>\n",
       "      <td>@ramsreview1 Angry at MM and the EFL but does ...</td>\n",
       "      <td>Derby, England</td>\n",
       "      <td>52.921262</td>\n",
       "      <td>-1.476149</td>\n",
       "    </tr>\n",
       "    <tr>\n",
       "      <th>40</th>\n",
       "      <td>AFCGuvnor</td>\n",
       "      <td>Wow Cricket is wild @timbresnan was accused of...</td>\n",
       "      <td>England, United Kingdom</td>\n",
       "      <td>52.795479</td>\n",
       "      <td>-0.540240</td>\n",
       "    </tr>\n",
       "    <tr>\n",
       "      <th>41</th>\n",
       "      <td>french60wasp</td>\n",
       "      <td>@riczwc I don't know enough behind the scenes ...</td>\n",
       "      <td>Mechanicsville, VA</td>\n",
       "      <td>37.619317</td>\n",
       "      <td>-77.336963</td>\n",
       "    </tr>\n",
       "    <tr>\n",
       "      <th>42</th>\n",
       "      <td>TheBMetro</td>\n",
       "      <td>Referees have snubbed Premier Soccer League ma...</td>\n",
       "      <td>Bulawayo</td>\n",
       "      <td>-20.105395</td>\n",
       "      <td>28.542686</td>\n",
       "    </tr>\n",
       "    <tr>\n",
       "      <th>43</th>\n",
       "      <td>northjersey</td>\n",
       "      <td>We've lost a beloved member of the North Jerse...</td>\n",
       "      <td>New Jersey</td>\n",
       "      <td>40.075738</td>\n",
       "      <td>-74.404162</td>\n",
       "    </tr>\n",
       "    <tr>\n",
       "      <th>44</th>\n",
       "      <td>JoshW_G2</td>\n",
       "      <td>@utdcynical Who needs a defensive midfield whe...</td>\n",
       "      <td>Leyden, The Netherlands</td>\n",
       "      <td>52.165602</td>\n",
       "      <td>4.494259</td>\n",
       "    </tr>\n",
       "    <tr>\n",
       "      <th>45</th>\n",
       "      <td>DixieGrammar</td>\n",
       "      <td>Update on the U9’s Football.\\nGame 1 W 3-0 Gam...</td>\n",
       "      <td>Market Bosworth, Leics</td>\n",
       "      <td>NaN</td>\n",
       "      <td>NaN</td>\n",
       "    </tr>\n",
       "    <tr>\n",
       "      <th>46</th>\n",
       "      <td>CRYPTOSDRAGON9</td>\n",
       "      <td>Guys I'm heading down to Athens Ga to talk #Sa...</td>\n",
       "      <td>Georgia, USA</td>\n",
       "      <td>32.329381</td>\n",
       "      <td>-83.113737</td>\n",
       "    </tr>\n",
       "    <tr>\n",
       "      <th>47</th>\n",
       "      <td>Royalty1088</td>\n",
       "      <td>@__lezbeaux Lol I’m the same I’ll go to the ea...</td>\n",
       "      <td>Ea$tSide 🌴</td>\n",
       "      <td>NaN</td>\n",
       "      <td>NaN</td>\n",
       "    </tr>\n",
       "    <tr>\n",
       "      <th>48</th>\n",
       "      <td>P5Milzy</td>\n",
       "      <td>A women’s national football league would be fire</td>\n",
       "      <td>Philadelphia, PA</td>\n",
       "      <td>39.952399</td>\n",
       "      <td>-75.163590</td>\n",
       "    </tr>\n",
       "    <tr>\n",
       "      <th>49</th>\n",
       "      <td>PanAfricology</td>\n",
       "      <td>South African do u know that as a teenage Jaco...</td>\n",
       "      <td>South Africa 🇿🇦</td>\n",
       "      <td>-28.816624</td>\n",
       "      <td>24.991639</td>\n",
       "    </tr>\n",
       "  </tbody>\n",
       "</table>\n",
       "</div>"
      ],
      "text/plain": [
       "        screen_name                                               text  \\\n",
       "0          alburr92  Cam back to the Panthers, Fuente fired from th...   \n",
       "1           St6ticz   reckon he hates football https://t.co/SmuirOZWof   \n",
       "2    Britta_Boehler  @_MelanieMartin @ojmason: Like football. Or hu...   \n",
       "3       AnasAhmadTJ  @Dee11Fibre @PSGHaryy @jukeyisdead @goal You a...   \n",
       "4        gabrieldud  @IJaSport Don't know if its needed, but would ...   \n",
       "5      Schmidtburgh  @Ethan__Tremblay @ksufan97 @thegrant_ksu Don't...   \n",
       "6     MontanaBasque  Everyone in Montana saying FTC or GO Cats Go, ...   \n",
       "7         ardeerjoe  @itslegaltender @STVSport @BBCScotland @Scotti...   \n",
       "8        ItsFoxedUp  Kasper Schmeichel admits plans to leave Leices...   \n",
       "9    backinblack_wx  @IanBoatmanUGA Apparently they gave you the fa...   \n",
       "10      InsqneMagic  @markgoldbridge Mark when you playing Football...   \n",
       "11  Football__Talks  @JeffreyHarharw2 @mikeparry8 @JPickford1 He is...   \n",
       "12        perdricof  @whstancil this is fucking lucy-with-the-footb...   \n",
       "13          Bari_3J  @DMVCoop301 They not committed to playing big ...   \n",
       "14       ItsFoxedUp  Vestergaard: I know I can do better at Leicest...   \n",
       "15  MelancholiaMel1  @LaurenAlexis_x Sorry to all the football fana...   \n",
       "16      deRetweeter  @lm30cr7 @goal As you said, they all human too...   \n",
       "17      andymusic75  Totally accurate!  This is why some in the med...   \n",
       "18   sheilambabazi3  @cfctoni_ They watch to pass time... Nothing l...   \n",
       "19      soccer_suga  Soccer Super League https://t.co/y7cBQStK0e #s...   \n",
       "20  Samuel666969666  Shocking and at times harrowing report of raci...   \n",
       "21   TopShelfBreaks  True Serial # Flawless Wednesday Night - #Hiti...   \n",
       "22        iludreamy                      don’t mind the football ahaha   \n",
       "23     matt_brading  @aaronk0708 They were all playing PlayStation ...   \n",
       "24         OduNews1  College football bowl projections for Week 12:...   \n",
       "25          theposh  ✍️ We are delighted to announce that manager D...   \n",
       "26  NdabezinhleMaf2  @Kyenedy Simply speaking Fassie is a better pl...   \n",
       "27   ThatGuyAlvin25  Hope been lost with football, but my BULLS!? T...   \n",
       "28     BradMyersTNJ  With the playoffs under way in the other sport...   \n",
       "29   StephenBonham9   @Lukathfc Great. At last I can enjoy my football   \n",
       "30       taschekats  Unisex dark brown tweed watch cap brown slouch...   \n",
       "31   SteveMontanino  @jg9188 @ProFootballTalk What, then, do you me...   \n",
       "32  Baird_ToTheBone  think i will start with football and move my w...   \n",
       "33    GatorDave_SEC  @TDKRN88 Fuente has an offensive background. N...   \n",
       "34         Citarael  @french60wasp I’d disagree, but I’m not going ...   \n",
       "35    KnutsfordNews  Here's what happened in this weekend's footbal...   \n",
       "36          dalen72  @Jonathan_C_PDX Essentially we don't play that...   \n",
       "37       TidePride8  @CrushingOnSaban @butchworley End all hunger a...   \n",
       "38   thehatedsource  Little j journalist At Men's Health Reports Br...   \n",
       "39     MalcSmith_16  @ramsreview1 Angry at MM and the EFL but does ...   \n",
       "40        AFCGuvnor  Wow Cricket is wild @timbresnan was accused of...   \n",
       "41     french60wasp  @riczwc I don't know enough behind the scenes ...   \n",
       "42        TheBMetro  Referees have snubbed Premier Soccer League ma...   \n",
       "43      northjersey  We've lost a beloved member of the North Jerse...   \n",
       "44         JoshW_G2  @utdcynical Who needs a defensive midfield whe...   \n",
       "45     DixieGrammar  Update on the U9’s Football.\\nGame 1 W 3-0 Gam...   \n",
       "46   CRYPTOSDRAGON9  Guys I'm heading down to Athens Ga to talk #Sa...   \n",
       "47      Royalty1088  @__lezbeaux Lol I’m the same I’ll go to the ea...   \n",
       "48          P5Milzy   A women’s national football league would be fire   \n",
       "49    PanAfricology  South African do u know that as a teenage Jaco...   \n",
       "\n",
       "                         location   latitude   longitude  \n",
       "0                   Charlotte, NC  35.227087  -80.843127  \n",
       "1             Sunderland, England  54.906379   -1.375053  \n",
       "2               Amsterdam/Cologne        NaN         NaN  \n",
       "3   Gombe | Kano | Lagos, Nigeria        NaN         NaN  \n",
       "4               Sao Paulo, Brazil -23.550651  -46.633382  \n",
       "5                   Parts Unknown  40.138216  -79.837506  \n",
       "6                         Montana  47.375267 -109.638758  \n",
       "7          NORTH AYRSHIRE, Europe        NaN         NaN  \n",
       "8                         Les-tah  27.671982  -12.956325  \n",
       "9                      Mobile, AL  30.694357  -88.043054  \n",
       "10              Cristiano Ronaldo  32.698094  -16.773876  \n",
       "11                          Lagos  20.017111  103.378253  \n",
       "12                 Long Beach, CA  44.456770  -78.735970  \n",
       "13                   Atlanta, GA   33.749099  -84.390185  \n",
       "14                        Les-tah  27.671982  -12.956325  \n",
       "15                       She/they  46.737862  -60.919660  \n",
       "16                 Loch Ard Gorge -38.647037  143.069918  \n",
       "17                Nolensville, TN  35.952285  -86.669441  \n",
       "18                        Kampala   0.317714   32.581354  \n",
       "19                            東京都  34.696864  139.404903  \n",
       "20                      Heaven 🌤️        NaN         NaN  \n",
       "21                    Chicago, IL  41.875555  -87.624421  \n",
       "22                 hes my kitten         NaN         NaN  \n",
       "23                Cambridgeshire   52.333333    0.083333  \n",
       "24                  United States  39.783730 -100.445882  \n",
       "25           Weston Homes Stadium        NaN         NaN  \n",
       "26        Hillcrest, South Africa -34.046539   18.365510  \n",
       "27                            804  35.331263  127.408388  \n",
       "28           New Castle, Delaware  39.615985  -75.662956  \n",
       "29                    Twickenham   51.446794   -0.328339  \n",
       "30                Ontario, Canada  50.000678  -86.000977  \n",
       "31                  Rochester, NY  43.157285  -77.615214  \n",
       "32                     Towson, MD  39.401855  -76.602388  \n",
       "33               Jacksonville, FL  30.332184  -81.655651  \n",
       "34                 Blacksburg, VA  37.229657  -80.413677  \n",
       "35                      Knutsford  53.307874   -2.372051  \n",
       "36                           S.D.  44.647176 -100.348761  \n",
       "37         Saint Helena Island SC  32.386861  -80.560662  \n",
       "38                  Maryland, USA  39.516223  -76.938207  \n",
       "39                 Derby, England  52.921262   -1.476149  \n",
       "40        England, United Kingdom  52.795479   -0.540240  \n",
       "41             Mechanicsville, VA  37.619317  -77.336963  \n",
       "42                       Bulawayo -20.105395   28.542686  \n",
       "43                     New Jersey  40.075738  -74.404162  \n",
       "44        Leyden, The Netherlands  52.165602    4.494259  \n",
       "45         Market Bosworth, Leics        NaN         NaN  \n",
       "46                   Georgia, USA  32.329381  -83.113737  \n",
       "47                     Ea$tSide 🌴        NaN         NaN  \n",
       "48               Philadelphia, PA  39.952399  -75.163590  \n",
       "49                South Africa 🇿🇦 -28.816624   24.991639  "
      ]
     },
     "execution_count": 53,
     "metadata": {},
     "output_type": "execute_result"
    }
   ],
   "source": [
    "df"
   ]
  },
  {
   "cell_type": "code",
   "execution_count": 54,
   "metadata": {},
   "outputs": [],
   "source": [
    "df = df.dropna()"
   ]
  },
  {
   "cell_type": "code",
   "execution_count": 55,
   "metadata": {},
   "outputs": [
    {
     "data": {
      "text/html": [
       "<div>\n",
       "<style scoped>\n",
       "    .dataframe tbody tr th:only-of-type {\n",
       "        vertical-align: middle;\n",
       "    }\n",
       "\n",
       "    .dataframe tbody tr th {\n",
       "        vertical-align: top;\n",
       "    }\n",
       "\n",
       "    .dataframe thead th {\n",
       "        text-align: right;\n",
       "    }\n",
       "</style>\n",
       "<table border=\"1\" class=\"dataframe\">\n",
       "  <thead>\n",
       "    <tr style=\"text-align: right;\">\n",
       "      <th></th>\n",
       "      <th>screen_name</th>\n",
       "      <th>text</th>\n",
       "      <th>location</th>\n",
       "      <th>latitude</th>\n",
       "      <th>longitude</th>\n",
       "    </tr>\n",
       "  </thead>\n",
       "  <tbody>\n",
       "    <tr>\n",
       "      <th>0</th>\n",
       "      <td>alburr92</td>\n",
       "      <td>Cam back to the Panthers, Fuente fired from th...</td>\n",
       "      <td>Charlotte, NC</td>\n",
       "      <td>35.227087</td>\n",
       "      <td>-80.843127</td>\n",
       "    </tr>\n",
       "    <tr>\n",
       "      <th>1</th>\n",
       "      <td>St6ticz</td>\n",
       "      <td>reckon he hates football https://t.co/SmuirOZWof</td>\n",
       "      <td>Sunderland, England</td>\n",
       "      <td>54.906379</td>\n",
       "      <td>-1.375053</td>\n",
       "    </tr>\n",
       "    <tr>\n",
       "      <th>4</th>\n",
       "      <td>gabrieldud</td>\n",
       "      <td>@IJaSport Don't know if its needed, but would ...</td>\n",
       "      <td>Sao Paulo, Brazil</td>\n",
       "      <td>-23.550651</td>\n",
       "      <td>-46.633382</td>\n",
       "    </tr>\n",
       "    <tr>\n",
       "      <th>5</th>\n",
       "      <td>Schmidtburgh</td>\n",
       "      <td>@Ethan__Tremblay @ksufan97 @thegrant_ksu Don't...</td>\n",
       "      <td>Parts Unknown</td>\n",
       "      <td>40.138216</td>\n",
       "      <td>-79.837506</td>\n",
       "    </tr>\n",
       "    <tr>\n",
       "      <th>6</th>\n",
       "      <td>MontanaBasque</td>\n",
       "      <td>Everyone in Montana saying FTC or GO Cats Go, ...</td>\n",
       "      <td>Montana</td>\n",
       "      <td>47.375267</td>\n",
       "      <td>-109.638758</td>\n",
       "    </tr>\n",
       "    <tr>\n",
       "      <th>8</th>\n",
       "      <td>ItsFoxedUp</td>\n",
       "      <td>Kasper Schmeichel admits plans to leave Leices...</td>\n",
       "      <td>Les-tah</td>\n",
       "      <td>27.671982</td>\n",
       "      <td>-12.956325</td>\n",
       "    </tr>\n",
       "    <tr>\n",
       "      <th>9</th>\n",
       "      <td>backinblack_wx</td>\n",
       "      <td>@IanBoatmanUGA Apparently they gave you the fa...</td>\n",
       "      <td>Mobile, AL</td>\n",
       "      <td>30.694357</td>\n",
       "      <td>-88.043054</td>\n",
       "    </tr>\n",
       "    <tr>\n",
       "      <th>10</th>\n",
       "      <td>InsqneMagic</td>\n",
       "      <td>@markgoldbridge Mark when you playing Football...</td>\n",
       "      <td>Cristiano Ronaldo</td>\n",
       "      <td>32.698094</td>\n",
       "      <td>-16.773876</td>\n",
       "    </tr>\n",
       "    <tr>\n",
       "      <th>11</th>\n",
       "      <td>Football__Talks</td>\n",
       "      <td>@JeffreyHarharw2 @mikeparry8 @JPickford1 He is...</td>\n",
       "      <td>Lagos</td>\n",
       "      <td>20.017111</td>\n",
       "      <td>103.378253</td>\n",
       "    </tr>\n",
       "    <tr>\n",
       "      <th>12</th>\n",
       "      <td>perdricof</td>\n",
       "      <td>@whstancil this is fucking lucy-with-the-footb...</td>\n",
       "      <td>Long Beach, CA</td>\n",
       "      <td>44.456770</td>\n",
       "      <td>-78.735970</td>\n",
       "    </tr>\n",
       "    <tr>\n",
       "      <th>13</th>\n",
       "      <td>Bari_3J</td>\n",
       "      <td>@DMVCoop301 They not committed to playing big ...</td>\n",
       "      <td>Atlanta, GA</td>\n",
       "      <td>33.749099</td>\n",
       "      <td>-84.390185</td>\n",
       "    </tr>\n",
       "    <tr>\n",
       "      <th>14</th>\n",
       "      <td>ItsFoxedUp</td>\n",
       "      <td>Vestergaard: I know I can do better at Leicest...</td>\n",
       "      <td>Les-tah</td>\n",
       "      <td>27.671982</td>\n",
       "      <td>-12.956325</td>\n",
       "    </tr>\n",
       "    <tr>\n",
       "      <th>15</th>\n",
       "      <td>MelancholiaMel1</td>\n",
       "      <td>@LaurenAlexis_x Sorry to all the football fana...</td>\n",
       "      <td>She/they</td>\n",
       "      <td>46.737862</td>\n",
       "      <td>-60.919660</td>\n",
       "    </tr>\n",
       "    <tr>\n",
       "      <th>16</th>\n",
       "      <td>deRetweeter</td>\n",
       "      <td>@lm30cr7 @goal As you said, they all human too...</td>\n",
       "      <td>Loch Ard Gorge</td>\n",
       "      <td>-38.647037</td>\n",
       "      <td>143.069918</td>\n",
       "    </tr>\n",
       "    <tr>\n",
       "      <th>17</th>\n",
       "      <td>andymusic75</td>\n",
       "      <td>Totally accurate!  This is why some in the med...</td>\n",
       "      <td>Nolensville, TN</td>\n",
       "      <td>35.952285</td>\n",
       "      <td>-86.669441</td>\n",
       "    </tr>\n",
       "    <tr>\n",
       "      <th>18</th>\n",
       "      <td>sheilambabazi3</td>\n",
       "      <td>@cfctoni_ They watch to pass time... Nothing l...</td>\n",
       "      <td>Kampala</td>\n",
       "      <td>0.317714</td>\n",
       "      <td>32.581354</td>\n",
       "    </tr>\n",
       "    <tr>\n",
       "      <th>19</th>\n",
       "      <td>soccer_suga</td>\n",
       "      <td>Soccer Super League https://t.co/y7cBQStK0e #s...</td>\n",
       "      <td>東京都</td>\n",
       "      <td>34.696864</td>\n",
       "      <td>139.404903</td>\n",
       "    </tr>\n",
       "    <tr>\n",
       "      <th>21</th>\n",
       "      <td>TopShelfBreaks</td>\n",
       "      <td>True Serial # Flawless Wednesday Night - #Hiti...</td>\n",
       "      <td>Chicago, IL</td>\n",
       "      <td>41.875555</td>\n",
       "      <td>-87.624421</td>\n",
       "    </tr>\n",
       "    <tr>\n",
       "      <th>23</th>\n",
       "      <td>matt_brading</td>\n",
       "      <td>@aaronk0708 They were all playing PlayStation ...</td>\n",
       "      <td>Cambridgeshire</td>\n",
       "      <td>52.333333</td>\n",
       "      <td>0.083333</td>\n",
       "    </tr>\n",
       "    <tr>\n",
       "      <th>24</th>\n",
       "      <td>OduNews1</td>\n",
       "      <td>College football bowl projections for Week 12:...</td>\n",
       "      <td>United States</td>\n",
       "      <td>39.783730</td>\n",
       "      <td>-100.445882</td>\n",
       "    </tr>\n",
       "    <tr>\n",
       "      <th>26</th>\n",
       "      <td>NdabezinhleMaf2</td>\n",
       "      <td>@Kyenedy Simply speaking Fassie is a better pl...</td>\n",
       "      <td>Hillcrest, South Africa</td>\n",
       "      <td>-34.046539</td>\n",
       "      <td>18.365510</td>\n",
       "    </tr>\n",
       "    <tr>\n",
       "      <th>27</th>\n",
       "      <td>ThatGuyAlvin25</td>\n",
       "      <td>Hope been lost with football, but my BULLS!? T...</td>\n",
       "      <td>804</td>\n",
       "      <td>35.331263</td>\n",
       "      <td>127.408388</td>\n",
       "    </tr>\n",
       "    <tr>\n",
       "      <th>28</th>\n",
       "      <td>BradMyersTNJ</td>\n",
       "      <td>With the playoffs under way in the other sport...</td>\n",
       "      <td>New Castle, Delaware</td>\n",
       "      <td>39.615985</td>\n",
       "      <td>-75.662956</td>\n",
       "    </tr>\n",
       "    <tr>\n",
       "      <th>29</th>\n",
       "      <td>StephenBonham9</td>\n",
       "      <td>@Lukathfc Great. At last I can enjoy my football</td>\n",
       "      <td>Twickenham</td>\n",
       "      <td>51.446794</td>\n",
       "      <td>-0.328339</td>\n",
       "    </tr>\n",
       "    <tr>\n",
       "      <th>30</th>\n",
       "      <td>taschekats</td>\n",
       "      <td>Unisex dark brown tweed watch cap brown slouch...</td>\n",
       "      <td>Ontario, Canada</td>\n",
       "      <td>50.000678</td>\n",
       "      <td>-86.000977</td>\n",
       "    </tr>\n",
       "    <tr>\n",
       "      <th>31</th>\n",
       "      <td>SteveMontanino</td>\n",
       "      <td>@jg9188 @ProFootballTalk What, then, do you me...</td>\n",
       "      <td>Rochester, NY</td>\n",
       "      <td>43.157285</td>\n",
       "      <td>-77.615214</td>\n",
       "    </tr>\n",
       "    <tr>\n",
       "      <th>32</th>\n",
       "      <td>Baird_ToTheBone</td>\n",
       "      <td>think i will start with football and move my w...</td>\n",
       "      <td>Towson, MD</td>\n",
       "      <td>39.401855</td>\n",
       "      <td>-76.602388</td>\n",
       "    </tr>\n",
       "    <tr>\n",
       "      <th>33</th>\n",
       "      <td>GatorDave_SEC</td>\n",
       "      <td>@TDKRN88 Fuente has an offensive background. N...</td>\n",
       "      <td>Jacksonville, FL</td>\n",
       "      <td>30.332184</td>\n",
       "      <td>-81.655651</td>\n",
       "    </tr>\n",
       "    <tr>\n",
       "      <th>34</th>\n",
       "      <td>Citarael</td>\n",
       "      <td>@french60wasp I’d disagree, but I’m not going ...</td>\n",
       "      <td>Blacksburg, VA</td>\n",
       "      <td>37.229657</td>\n",
       "      <td>-80.413677</td>\n",
       "    </tr>\n",
       "    <tr>\n",
       "      <th>35</th>\n",
       "      <td>KnutsfordNews</td>\n",
       "      <td>Here's what happened in this weekend's footbal...</td>\n",
       "      <td>Knutsford</td>\n",
       "      <td>53.307874</td>\n",
       "      <td>-2.372051</td>\n",
       "    </tr>\n",
       "    <tr>\n",
       "      <th>36</th>\n",
       "      <td>dalen72</td>\n",
       "      <td>@Jonathan_C_PDX Essentially we don't play that...</td>\n",
       "      <td>S.D.</td>\n",
       "      <td>44.647176</td>\n",
       "      <td>-100.348761</td>\n",
       "    </tr>\n",
       "    <tr>\n",
       "      <th>37</th>\n",
       "      <td>TidePride8</td>\n",
       "      <td>@CrushingOnSaban @butchworley End all hunger a...</td>\n",
       "      <td>Saint Helena Island SC</td>\n",
       "      <td>32.386861</td>\n",
       "      <td>-80.560662</td>\n",
       "    </tr>\n",
       "    <tr>\n",
       "      <th>38</th>\n",
       "      <td>thehatedsource</td>\n",
       "      <td>Little j journalist At Men's Health Reports Br...</td>\n",
       "      <td>Maryland, USA</td>\n",
       "      <td>39.516223</td>\n",
       "      <td>-76.938207</td>\n",
       "    </tr>\n",
       "    <tr>\n",
       "      <th>39</th>\n",
       "      <td>MalcSmith_16</td>\n",
       "      <td>@ramsreview1 Angry at MM and the EFL but does ...</td>\n",
       "      <td>Derby, England</td>\n",
       "      <td>52.921262</td>\n",
       "      <td>-1.476149</td>\n",
       "    </tr>\n",
       "    <tr>\n",
       "      <th>40</th>\n",
       "      <td>AFCGuvnor</td>\n",
       "      <td>Wow Cricket is wild @timbresnan was accused of...</td>\n",
       "      <td>England, United Kingdom</td>\n",
       "      <td>52.795479</td>\n",
       "      <td>-0.540240</td>\n",
       "    </tr>\n",
       "    <tr>\n",
       "      <th>41</th>\n",
       "      <td>french60wasp</td>\n",
       "      <td>@riczwc I don't know enough behind the scenes ...</td>\n",
       "      <td>Mechanicsville, VA</td>\n",
       "      <td>37.619317</td>\n",
       "      <td>-77.336963</td>\n",
       "    </tr>\n",
       "    <tr>\n",
       "      <th>42</th>\n",
       "      <td>TheBMetro</td>\n",
       "      <td>Referees have snubbed Premier Soccer League ma...</td>\n",
       "      <td>Bulawayo</td>\n",
       "      <td>-20.105395</td>\n",
       "      <td>28.542686</td>\n",
       "    </tr>\n",
       "    <tr>\n",
       "      <th>43</th>\n",
       "      <td>northjersey</td>\n",
       "      <td>We've lost a beloved member of the North Jerse...</td>\n",
       "      <td>New Jersey</td>\n",
       "      <td>40.075738</td>\n",
       "      <td>-74.404162</td>\n",
       "    </tr>\n",
       "    <tr>\n",
       "      <th>44</th>\n",
       "      <td>JoshW_G2</td>\n",
       "      <td>@utdcynical Who needs a defensive midfield whe...</td>\n",
       "      <td>Leyden, The Netherlands</td>\n",
       "      <td>52.165602</td>\n",
       "      <td>4.494259</td>\n",
       "    </tr>\n",
       "    <tr>\n",
       "      <th>46</th>\n",
       "      <td>CRYPTOSDRAGON9</td>\n",
       "      <td>Guys I'm heading down to Athens Ga to talk #Sa...</td>\n",
       "      <td>Georgia, USA</td>\n",
       "      <td>32.329381</td>\n",
       "      <td>-83.113737</td>\n",
       "    </tr>\n",
       "    <tr>\n",
       "      <th>48</th>\n",
       "      <td>P5Milzy</td>\n",
       "      <td>A women’s national football league would be fire</td>\n",
       "      <td>Philadelphia, PA</td>\n",
       "      <td>39.952399</td>\n",
       "      <td>-75.163590</td>\n",
       "    </tr>\n",
       "    <tr>\n",
       "      <th>49</th>\n",
       "      <td>PanAfricology</td>\n",
       "      <td>South African do u know that as a teenage Jaco...</td>\n",
       "      <td>South Africa 🇿🇦</td>\n",
       "      <td>-28.816624</td>\n",
       "      <td>24.991639</td>\n",
       "    </tr>\n",
       "  </tbody>\n",
       "</table>\n",
       "</div>"
      ],
      "text/plain": [
       "        screen_name                                               text  \\\n",
       "0          alburr92  Cam back to the Panthers, Fuente fired from th...   \n",
       "1           St6ticz   reckon he hates football https://t.co/SmuirOZWof   \n",
       "4        gabrieldud  @IJaSport Don't know if its needed, but would ...   \n",
       "5      Schmidtburgh  @Ethan__Tremblay @ksufan97 @thegrant_ksu Don't...   \n",
       "6     MontanaBasque  Everyone in Montana saying FTC or GO Cats Go, ...   \n",
       "8        ItsFoxedUp  Kasper Schmeichel admits plans to leave Leices...   \n",
       "9    backinblack_wx  @IanBoatmanUGA Apparently they gave you the fa...   \n",
       "10      InsqneMagic  @markgoldbridge Mark when you playing Football...   \n",
       "11  Football__Talks  @JeffreyHarharw2 @mikeparry8 @JPickford1 He is...   \n",
       "12        perdricof  @whstancil this is fucking lucy-with-the-footb...   \n",
       "13          Bari_3J  @DMVCoop301 They not committed to playing big ...   \n",
       "14       ItsFoxedUp  Vestergaard: I know I can do better at Leicest...   \n",
       "15  MelancholiaMel1  @LaurenAlexis_x Sorry to all the football fana...   \n",
       "16      deRetweeter  @lm30cr7 @goal As you said, they all human too...   \n",
       "17      andymusic75  Totally accurate!  This is why some in the med...   \n",
       "18   sheilambabazi3  @cfctoni_ They watch to pass time... Nothing l...   \n",
       "19      soccer_suga  Soccer Super League https://t.co/y7cBQStK0e #s...   \n",
       "21   TopShelfBreaks  True Serial # Flawless Wednesday Night - #Hiti...   \n",
       "23     matt_brading  @aaronk0708 They were all playing PlayStation ...   \n",
       "24         OduNews1  College football bowl projections for Week 12:...   \n",
       "26  NdabezinhleMaf2  @Kyenedy Simply speaking Fassie is a better pl...   \n",
       "27   ThatGuyAlvin25  Hope been lost with football, but my BULLS!? T...   \n",
       "28     BradMyersTNJ  With the playoffs under way in the other sport...   \n",
       "29   StephenBonham9   @Lukathfc Great. At last I can enjoy my football   \n",
       "30       taschekats  Unisex dark brown tweed watch cap brown slouch...   \n",
       "31   SteveMontanino  @jg9188 @ProFootballTalk What, then, do you me...   \n",
       "32  Baird_ToTheBone  think i will start with football and move my w...   \n",
       "33    GatorDave_SEC  @TDKRN88 Fuente has an offensive background. N...   \n",
       "34         Citarael  @french60wasp I’d disagree, but I’m not going ...   \n",
       "35    KnutsfordNews  Here's what happened in this weekend's footbal...   \n",
       "36          dalen72  @Jonathan_C_PDX Essentially we don't play that...   \n",
       "37       TidePride8  @CrushingOnSaban @butchworley End all hunger a...   \n",
       "38   thehatedsource  Little j journalist At Men's Health Reports Br...   \n",
       "39     MalcSmith_16  @ramsreview1 Angry at MM and the EFL but does ...   \n",
       "40        AFCGuvnor  Wow Cricket is wild @timbresnan was accused of...   \n",
       "41     french60wasp  @riczwc I don't know enough behind the scenes ...   \n",
       "42        TheBMetro  Referees have snubbed Premier Soccer League ma...   \n",
       "43      northjersey  We've lost a beloved member of the North Jerse...   \n",
       "44         JoshW_G2  @utdcynical Who needs a defensive midfield whe...   \n",
       "46   CRYPTOSDRAGON9  Guys I'm heading down to Athens Ga to talk #Sa...   \n",
       "48          P5Milzy   A women’s national football league would be fire   \n",
       "49    PanAfricology  South African do u know that as a teenage Jaco...   \n",
       "\n",
       "                   location   latitude   longitude  \n",
       "0             Charlotte, NC  35.227087  -80.843127  \n",
       "1       Sunderland, England  54.906379   -1.375053  \n",
       "4         Sao Paulo, Brazil -23.550651  -46.633382  \n",
       "5             Parts Unknown  40.138216  -79.837506  \n",
       "6                   Montana  47.375267 -109.638758  \n",
       "8                   Les-tah  27.671982  -12.956325  \n",
       "9                Mobile, AL  30.694357  -88.043054  \n",
       "10        Cristiano Ronaldo  32.698094  -16.773876  \n",
       "11                    Lagos  20.017111  103.378253  \n",
       "12           Long Beach, CA  44.456770  -78.735970  \n",
       "13             Atlanta, GA   33.749099  -84.390185  \n",
       "14                  Les-tah  27.671982  -12.956325  \n",
       "15                 She/they  46.737862  -60.919660  \n",
       "16           Loch Ard Gorge -38.647037  143.069918  \n",
       "17          Nolensville, TN  35.952285  -86.669441  \n",
       "18                  Kampala   0.317714   32.581354  \n",
       "19                      東京都  34.696864  139.404903  \n",
       "21              Chicago, IL  41.875555  -87.624421  \n",
       "23          Cambridgeshire   52.333333    0.083333  \n",
       "24            United States  39.783730 -100.445882  \n",
       "26  Hillcrest, South Africa -34.046539   18.365510  \n",
       "27                      804  35.331263  127.408388  \n",
       "28     New Castle, Delaware  39.615985  -75.662956  \n",
       "29              Twickenham   51.446794   -0.328339  \n",
       "30          Ontario, Canada  50.000678  -86.000977  \n",
       "31            Rochester, NY  43.157285  -77.615214  \n",
       "32               Towson, MD  39.401855  -76.602388  \n",
       "33         Jacksonville, FL  30.332184  -81.655651  \n",
       "34           Blacksburg, VA  37.229657  -80.413677  \n",
       "35                Knutsford  53.307874   -2.372051  \n",
       "36                     S.D.  44.647176 -100.348761  \n",
       "37   Saint Helena Island SC  32.386861  -80.560662  \n",
       "38            Maryland, USA  39.516223  -76.938207  \n",
       "39           Derby, England  52.921262   -1.476149  \n",
       "40  England, United Kingdom  52.795479   -0.540240  \n",
       "41       Mechanicsville, VA  37.619317  -77.336963  \n",
       "42                 Bulawayo -20.105395   28.542686  \n",
       "43               New Jersey  40.075738  -74.404162  \n",
       "44  Leyden, The Netherlands  52.165602    4.494259  \n",
       "46             Georgia, USA  32.329381  -83.113737  \n",
       "48         Philadelphia, PA  39.952399  -75.163590  \n",
       "49          South Africa 🇿🇦 -28.816624   24.991639  "
      ]
     },
     "execution_count": 55,
     "metadata": {},
     "output_type": "execute_result"
    }
   ],
   "source": [
    "df"
   ]
  },
  {
   "cell_type": "markdown",
   "metadata": {},
   "source": [
    "<hr style=\"height:2px; border:none; color:#000; background-color:#000;\">"
   ]
  },
  {
   "cell_type": "markdown",
   "metadata": {},
   "source": [
    "### Creating a Map with Folium"
   ]
  },
  {
   "cell_type": "code",
   "execution_count": 56,
   "metadata": {},
   "outputs": [],
   "source": [
    "import folium"
   ]
  },
  {
   "cell_type": "code",
   "execution_count": 57,
   "metadata": {},
   "outputs": [],
   "source": [
    "usmap = folium.Map(location=[39.8283, -98.5795],  # center of U.S.\n",
    "                   tiles='Stamen Terrain',\n",
    "                   zoom_start=4, detect_retina=True)"
   ]
  },
  {
   "cell_type": "markdown",
   "metadata": {},
   "source": [
    "* **`location`** &mdash; sequence containing **latitude** and **longitude** of **map center point**\n",
    "    * [Geographic center of the continental United States](http://bit.ly/CenterOfTheUS) \n",
    "* **`zoom_start`** &mdash; **map’s initial zoom level**\n",
    "* **`detect_retina`** &mdash; enables folium to use **higher-resolution maps**"
   ]
  },
  {
   "cell_type": "markdown",
   "metadata": {},
   "source": [
    "<hr style=\"height:2px; border:none; color:#000; background-color:#000;\">"
   ]
  },
  {
   "cell_type": "markdown",
   "metadata": {},
   "source": [
    "### Creating Folium `Popup` Objects for the Tweet Locations\n",
    "* **`itertuples`** creates **tuples** from **each row** of the **`DataFrame`**\n",
    "* Each **tuple** contains a **property** for each **`DataFrame` column**"
   ]
  },
  {
   "cell_type": "code",
   "execution_count": 58,
   "metadata": {},
   "outputs": [],
   "source": [
    "for t in df.itertuples():\n",
    "    text = ': '.join([t.screen_name, t.text])\n",
    "    popup = folium.Popup(text)\n",
    "    marker = folium.Marker((t.latitude, t.longitude), \n",
    "                           popup=popup)\n",
    "    marker.add_to(usmap)"
   ]
  },
  {
   "cell_type": "markdown",
   "metadata": {},
   "source": [
    "<hr style=\"height:2px; border:none; color:#000; background-color:#000;\">"
   ]
  },
  {
   "cell_type": "markdown",
   "metadata": {},
   "source": [
    "### Saving the Map with Map’s **`save`** Method "
   ]
  },
  {
   "cell_type": "code",
   "execution_count": 59,
   "metadata": {},
   "outputs": [],
   "source": [
    "usmap.save('tweet_map.html')"
   ]
  },
  {
   "cell_type": "markdown",
   "metadata": {},
   "source": [
    "<hr style=\"height:2px; border:none; color:#000; background-color:#000;\">"
   ]
  },
  {
   "cell_type": "markdown",
   "metadata": {},
   "source": [
    "### Displaying the Map in Jupyter \n",
    "* The resulting map follows. \n",
    "<a href=\"./tweet_map.html\">Interactive tweet map</a>"
   ]
  },
  {
   "cell_type": "code",
   "execution_count": 60,
   "metadata": {},
   "outputs": [
    {
     "data": {
      "text/html": [
       "<div style=\"width:100%;\"><div style=\"position:relative;width:100%;height:0;padding-bottom:60%;\"><span style=\"color:#565656\">Make this Notebook Trusted to load map: File -> Trust Notebook</span><iframe src=\"about:blank\" style=\"position:absolute;width:100%;height:100%;left:0;top:0;border:none !important;\" data-html=%3C%21DOCTYPE%20html%3E%0A%3Chead%3E%20%20%20%20%0A%20%20%20%20%3Cmeta%20http-equiv%3D%22content-type%22%20content%3D%22text/html%3B%20charset%3DUTF-8%22%20/%3E%0A%20%20%20%20%0A%20%20%20%20%20%20%20%20%3Cscript%3E%0A%20%20%20%20%20%20%20%20%20%20%20%20L_NO_TOUCH%20%3D%20false%3B%0A%20%20%20%20%20%20%20%20%20%20%20%20L_DISABLE_3D%20%3D%20false%3B%0A%20%20%20%20%20%20%20%20%3C/script%3E%0A%20%20%20%20%0A%20%20%20%20%3Cstyle%3Ehtml%2C%20body%20%7Bwidth%3A%20100%25%3Bheight%3A%20100%25%3Bmargin%3A%200%3Bpadding%3A%200%3B%7D%3C/style%3E%0A%20%20%20%20%3Cstyle%3E%23map%20%7Bposition%3Aabsolute%3Btop%3A0%3Bbottom%3A0%3Bright%3A0%3Bleft%3A0%3B%7D%3C/style%3E%0A%20%20%20%20%3Cscript%20src%3D%22https%3A//cdn.jsdelivr.net/npm/leaflet%401.6.0/dist/leaflet.js%22%3E%3C/script%3E%0A%20%20%20%20%3Cscript%20src%3D%22https%3A//code.jquery.com/jquery-1.12.4.min.js%22%3E%3C/script%3E%0A%20%20%20%20%3Cscript%20src%3D%22https%3A//maxcdn.bootstrapcdn.com/bootstrap/3.2.0/js/bootstrap.min.js%22%3E%3C/script%3E%0A%20%20%20%20%3Cscript%20src%3D%22https%3A//cdnjs.cloudflare.com/ajax/libs/Leaflet.awesome-markers/2.0.2/leaflet.awesome-markers.js%22%3E%3C/script%3E%0A%20%20%20%20%3Clink%20rel%3D%22stylesheet%22%20href%3D%22https%3A//cdn.jsdelivr.net/npm/leaflet%401.6.0/dist/leaflet.css%22/%3E%0A%20%20%20%20%3Clink%20rel%3D%22stylesheet%22%20href%3D%22https%3A//maxcdn.bootstrapcdn.com/bootstrap/3.2.0/css/bootstrap.min.css%22/%3E%0A%20%20%20%20%3Clink%20rel%3D%22stylesheet%22%20href%3D%22https%3A//maxcdn.bootstrapcdn.com/bootstrap/3.2.0/css/bootstrap-theme.min.css%22/%3E%0A%20%20%20%20%3Clink%20rel%3D%22stylesheet%22%20href%3D%22https%3A//maxcdn.bootstrapcdn.com/font-awesome/4.6.3/css/font-awesome.min.css%22/%3E%0A%20%20%20%20%3Clink%20rel%3D%22stylesheet%22%20href%3D%22https%3A//cdnjs.cloudflare.com/ajax/libs/Leaflet.awesome-markers/2.0.2/leaflet.awesome-markers.css%22/%3E%0A%20%20%20%20%3Clink%20rel%3D%22stylesheet%22%20href%3D%22https%3A//cdn.jsdelivr.net/gh/python-visualization/folium/folium/templates/leaflet.awesome.rotate.min.css%22/%3E%0A%20%20%20%20%0A%20%20%20%20%20%20%20%20%20%20%20%20%3Cmeta%20name%3D%22viewport%22%20content%3D%22width%3Ddevice-width%2C%0A%20%20%20%20%20%20%20%20%20%20%20%20%20%20%20%20initial-scale%3D1.0%2C%20maximum-scale%3D1.0%2C%20user-scalable%3Dno%22%20/%3E%0A%20%20%20%20%20%20%20%20%20%20%20%20%3Cstyle%3E%0A%20%20%20%20%20%20%20%20%20%20%20%20%20%20%20%20%23map_528ef638ca0d4bbea325ece51136afde%20%7B%0A%20%20%20%20%20%20%20%20%20%20%20%20%20%20%20%20%20%20%20%20position%3A%20relative%3B%0A%20%20%20%20%20%20%20%20%20%20%20%20%20%20%20%20%20%20%20%20width%3A%20100.0%25%3B%0A%20%20%20%20%20%20%20%20%20%20%20%20%20%20%20%20%20%20%20%20height%3A%20100.0%25%3B%0A%20%20%20%20%20%20%20%20%20%20%20%20%20%20%20%20%20%20%20%20left%3A%200.0%25%3B%0A%20%20%20%20%20%20%20%20%20%20%20%20%20%20%20%20%20%20%20%20top%3A%200.0%25%3B%0A%20%20%20%20%20%20%20%20%20%20%20%20%20%20%20%20%7D%0A%20%20%20%20%20%20%20%20%20%20%20%20%3C/style%3E%0A%20%20%20%20%20%20%20%20%0A%3C/head%3E%0A%3Cbody%3E%20%20%20%20%0A%20%20%20%20%0A%20%20%20%20%20%20%20%20%20%20%20%20%3Cdiv%20class%3D%22folium-map%22%20id%3D%22map_528ef638ca0d4bbea325ece51136afde%22%20%3E%3C/div%3E%0A%20%20%20%20%20%20%20%20%0A%3C/body%3E%0A%3Cscript%3E%20%20%20%20%0A%20%20%20%20%0A%20%20%20%20%20%20%20%20%20%20%20%20var%20map_528ef638ca0d4bbea325ece51136afde%20%3D%20L.map%28%0A%20%20%20%20%20%20%20%20%20%20%20%20%20%20%20%20%22map_528ef638ca0d4bbea325ece51136afde%22%2C%0A%20%20%20%20%20%20%20%20%20%20%20%20%20%20%20%20%7B%0A%20%20%20%20%20%20%20%20%20%20%20%20%20%20%20%20%20%20%20%20center%3A%20%5B39.8283%2C%20-98.5795%5D%2C%0A%20%20%20%20%20%20%20%20%20%20%20%20%20%20%20%20%20%20%20%20crs%3A%20L.CRS.EPSG3857%2C%0A%20%20%20%20%20%20%20%20%20%20%20%20%20%20%20%20%20%20%20%20zoom%3A%204%2C%0A%20%20%20%20%20%20%20%20%20%20%20%20%20%20%20%20%20%20%20%20zoomControl%3A%20true%2C%0A%20%20%20%20%20%20%20%20%20%20%20%20%20%20%20%20%20%20%20%20preferCanvas%3A%20false%2C%0A%20%20%20%20%20%20%20%20%20%20%20%20%20%20%20%20%20%20%20%20detectRetina%3A%20true%2C%0A%20%20%20%20%20%20%20%20%20%20%20%20%20%20%20%20%7D%0A%20%20%20%20%20%20%20%20%20%20%20%20%29%3B%0A%0A%20%20%20%20%20%20%20%20%20%20%20%20%0A%0A%20%20%20%20%20%20%20%20%0A%20%20%20%20%0A%20%20%20%20%20%20%20%20%20%20%20%20var%20tile_layer_ff15ba876d98461ea7842805a3fa70af%20%3D%20L.tileLayer%28%0A%20%20%20%20%20%20%20%20%20%20%20%20%20%20%20%20%22https%3A//stamen-tiles-%7Bs%7D.a.ssl.fastly.net/terrain/%7Bz%7D/%7Bx%7D/%7By%7D.jpg%22%2C%0A%20%20%20%20%20%20%20%20%20%20%20%20%20%20%20%20%7B%22attribution%22%3A%20%22Map%20tiles%20by%20%5Cu003ca%20href%3D%5C%22http%3A//stamen.com%5C%22%5Cu003eStamen%20Design%5Cu003c/a%5Cu003e%2C%20under%20%5Cu003ca%20href%3D%5C%22http%3A//creativecommons.org/licenses/by/3.0%5C%22%5Cu003eCC%20BY%203.0%5Cu003c/a%5Cu003e.%20Data%20by%20%5Cu0026copy%3B%20%5Cu003ca%20href%3D%5C%22http%3A//openstreetmap.org%5C%22%5Cu003eOpenStreetMap%5Cu003c/a%5Cu003e%2C%20under%20%5Cu003ca%20href%3D%5C%22http%3A//creativecommons.org/licenses/by-sa/3.0%5C%22%5Cu003eCC%20BY%20SA%5Cu003c/a%5Cu003e.%22%2C%20%22detectRetina%22%3A%20false%2C%20%22maxNativeZoom%22%3A%2018%2C%20%22maxZoom%22%3A%2018%2C%20%22minZoom%22%3A%200%2C%20%22noWrap%22%3A%20false%2C%20%22opacity%22%3A%201%2C%20%22subdomains%22%3A%20%22abc%22%2C%20%22tms%22%3A%20false%7D%0A%20%20%20%20%20%20%20%20%20%20%20%20%29.addTo%28map_528ef638ca0d4bbea325ece51136afde%29%3B%0A%20%20%20%20%20%20%20%20%0A%20%20%20%20%0A%20%20%20%20%20%20%20%20%20%20%20%20var%20marker_0b0072063ecc45bf9b309347ffa53103%20%3D%20L.marker%28%0A%20%20%20%20%20%20%20%20%20%20%20%20%20%20%20%20%5B35.2270869%2C%20-80.8431268%5D%2C%0A%20%20%20%20%20%20%20%20%20%20%20%20%20%20%20%20%7B%7D%0A%20%20%20%20%20%20%20%20%20%20%20%20%29.addTo%28map_528ef638ca0d4bbea325ece51136afde%29%3B%0A%20%20%20%20%20%20%20%20%0A%20%20%20%20%0A%20%20%20%20%20%20%20%20var%20popup_2031a665467d4dabb6ba5f2959045ef9%20%3D%20L.popup%28%7B%22maxWidth%22%3A%20%22100%25%22%7D%29%3B%0A%0A%20%20%20%20%20%20%20%20%0A%20%20%20%20%20%20%20%20%20%20%20%20var%20html_806f9f5a68b14261840c0d7f4b82d1a9%20%3D%20%24%28%60%3Cdiv%20id%3D%22html_806f9f5a68b14261840c0d7f4b82d1a9%22%20style%3D%22width%3A%20100.0%25%3B%20height%3A%20100.0%25%3B%22%3Ealburr92%3A%20Cam%20back%20to%20the%20Panthers%2C%20Fuente%20fired%20from%20the%20Hokies..%20it%E2%80%99s%20been%20a%20good%20week%20in%20football%3C/div%3E%60%29%5B0%5D%3B%0A%20%20%20%20%20%20%20%20%20%20%20%20popup_2031a665467d4dabb6ba5f2959045ef9.setContent%28html_806f9f5a68b14261840c0d7f4b82d1a9%29%3B%0A%20%20%20%20%20%20%20%20%0A%0A%20%20%20%20%20%20%20%20marker_0b0072063ecc45bf9b309347ffa53103.bindPopup%28popup_2031a665467d4dabb6ba5f2959045ef9%29%0A%20%20%20%20%20%20%20%20%3B%0A%0A%20%20%20%20%20%20%20%20%0A%20%20%20%20%0A%20%20%20%20%0A%20%20%20%20%20%20%20%20%20%20%20%20var%20marker_68a474c3fdba452988686ec44400ce53%20%3D%20L.marker%28%0A%20%20%20%20%20%20%20%20%20%20%20%20%20%20%20%20%5B54.9063791%2C%20-1.375053%5D%2C%0A%20%20%20%20%20%20%20%20%20%20%20%20%20%20%20%20%7B%7D%0A%20%20%20%20%20%20%20%20%20%20%20%20%29.addTo%28map_528ef638ca0d4bbea325ece51136afde%29%3B%0A%20%20%20%20%20%20%20%20%0A%20%20%20%20%0A%20%20%20%20%20%20%20%20var%20popup_6254a0138c364dc5b61253d4c065d1f5%20%3D%20L.popup%28%7B%22maxWidth%22%3A%20%22100%25%22%7D%29%3B%0A%0A%20%20%20%20%20%20%20%20%0A%20%20%20%20%20%20%20%20%20%20%20%20var%20html_fd34e9ad866a42c2a4c99140a05c47b8%20%3D%20%24%28%60%3Cdiv%20id%3D%22html_fd34e9ad866a42c2a4c99140a05c47b8%22%20style%3D%22width%3A%20100.0%25%3B%20height%3A%20100.0%25%3B%22%3ESt6ticz%3A%20reckon%20he%20hates%20football%20https%3A//t.co/SmuirOZWof%3C/div%3E%60%29%5B0%5D%3B%0A%20%20%20%20%20%20%20%20%20%20%20%20popup_6254a0138c364dc5b61253d4c065d1f5.setContent%28html_fd34e9ad866a42c2a4c99140a05c47b8%29%3B%0A%20%20%20%20%20%20%20%20%0A%0A%20%20%20%20%20%20%20%20marker_68a474c3fdba452988686ec44400ce53.bindPopup%28popup_6254a0138c364dc5b61253d4c065d1f5%29%0A%20%20%20%20%20%20%20%20%3B%0A%0A%20%20%20%20%20%20%20%20%0A%20%20%20%20%0A%20%20%20%20%0A%20%20%20%20%20%20%20%20%20%20%20%20var%20marker_e711c10d29914f278dde959976c7070f%20%3D%20L.marker%28%0A%20%20%20%20%20%20%20%20%20%20%20%20%20%20%20%20%5B-23.5506507%2C%20-46.6333824%5D%2C%0A%20%20%20%20%20%20%20%20%20%20%20%20%20%20%20%20%7B%7D%0A%20%20%20%20%20%20%20%20%20%20%20%20%29.addTo%28map_528ef638ca0d4bbea325ece51136afde%29%3B%0A%20%20%20%20%20%20%20%20%0A%20%20%20%20%0A%20%20%20%20%20%20%20%20var%20popup_99fe6a2d2852492c8cfb5756e6b7b075%20%3D%20L.popup%28%7B%22maxWidth%22%3A%20%22100%25%22%7D%29%3B%0A%0A%20%20%20%20%20%20%20%20%0A%20%20%20%20%20%20%20%20%20%20%20%20var%20html_2e2fd87165c84205b132fb390aacd083%20%3D%20%24%28%60%3Cdiv%20id%3D%22html_2e2fd87165c84205b132fb390aacd083%22%20style%3D%22width%3A%20100.0%25%3B%20height%3A%20100.0%25%3B%22%3Egabrieldud%3A%20%40IJaSport%20Don%27t%20know%20if%20its%20needed%2C%20but%20would%20like%20to%20hear.%20%20I%20like%20to%20take%20notes%20of%20phrases%20that%20clarify%20and%20summarize%20the%20game.%20%20For%20example%2C%20I%20have%20this%20in%20my%20notebook%20from%20David%20Garcia%3A%20%22good%20football%20is%20played%20by%20those%20who%20impose%20their%20game%20principles%20on%20their%20opponent.%22%20%5E%5E%3C/div%3E%60%29%5B0%5D%3B%0A%20%20%20%20%20%20%20%20%20%20%20%20popup_99fe6a2d2852492c8cfb5756e6b7b075.setContent%28html_2e2fd87165c84205b132fb390aacd083%29%3B%0A%20%20%20%20%20%20%20%20%0A%0A%20%20%20%20%20%20%20%20marker_e711c10d29914f278dde959976c7070f.bindPopup%28popup_99fe6a2d2852492c8cfb5756e6b7b075%29%0A%20%20%20%20%20%20%20%20%3B%0A%0A%20%20%20%20%20%20%20%20%0A%20%20%20%20%0A%20%20%20%20%0A%20%20%20%20%20%20%20%20%20%20%20%20var%20marker_a9b4f61cbb4a42dc9362fd0d381ab1c4%20%3D%20L.marker%28%0A%20%20%20%20%20%20%20%20%20%20%20%20%20%20%20%20%5B40.13821645%2C%20-79.8375059939964%5D%2C%0A%20%20%20%20%20%20%20%20%20%20%20%20%20%20%20%20%7B%7D%0A%20%20%20%20%20%20%20%20%20%20%20%20%29.addTo%28map_528ef638ca0d4bbea325ece51136afde%29%3B%0A%20%20%20%20%20%20%20%20%0A%20%20%20%20%0A%20%20%20%20%20%20%20%20var%20popup_b3cf04d526a546a48a21e41f5c02e452%20%3D%20L.popup%28%7B%22maxWidth%22%3A%20%22100%25%22%7D%29%3B%0A%0A%20%20%20%20%20%20%20%20%0A%20%20%20%20%20%20%20%20%20%20%20%20var%20html_407ba5141eb64ceeb31b23b8c6fddb5b%20%3D%20%24%28%60%3Cdiv%20id%3D%22html_407ba5141eb64ceeb31b23b8c6fddb5b%22%20style%3D%22width%3A%20100.0%25%3B%20height%3A%20100.0%25%3B%22%3ESchmidtburgh%3A%20%40Ethan__Tremblay%20%40ksufan97%20%40thegrant_ksu%20Don%27t%20let%20unhinged%20Ethan%20dostrwct%20you%20from%20Iowa%20st%20never%20winning%20a%20big%2012%20football%20title.%20%20Ahahahhahaha%3C/div%3E%60%29%5B0%5D%3B%0A%20%20%20%20%20%20%20%20%20%20%20%20popup_b3cf04d526a546a48a21e41f5c02e452.setContent%28html_407ba5141eb64ceeb31b23b8c6fddb5b%29%3B%0A%20%20%20%20%20%20%20%20%0A%0A%20%20%20%20%20%20%20%20marker_a9b4f61cbb4a42dc9362fd0d381ab1c4.bindPopup%28popup_b3cf04d526a546a48a21e41f5c02e452%29%0A%20%20%20%20%20%20%20%20%3B%0A%0A%20%20%20%20%20%20%20%20%0A%20%20%20%20%0A%20%20%20%20%0A%20%20%20%20%20%20%20%20%20%20%20%20var%20marker_cf2075afbedc4197a2da9db5c5ef6fcb%20%3D%20L.marker%28%0A%20%20%20%20%20%20%20%20%20%20%20%20%20%20%20%20%5B47.3752671%2C%20-109.6387579%5D%2C%0A%20%20%20%20%20%20%20%20%20%20%20%20%20%20%20%20%7B%7D%0A%20%20%20%20%20%20%20%20%20%20%20%20%29.addTo%28map_528ef638ca0d4bbea325ece51136afde%29%3B%0A%20%20%20%20%20%20%20%20%0A%20%20%20%20%0A%20%20%20%20%20%20%20%20var%20popup_f52f56eb0f2844abb23225023d2239b0%20%3D%20L.popup%28%7B%22maxWidth%22%3A%20%22100%25%22%7D%29%3B%0A%0A%20%20%20%20%20%20%20%20%0A%20%20%20%20%20%20%20%20%20%20%20%20var%20html_c77ee9784f894b32a44f4ac402e73607%20%3D%20%24%28%60%3Cdiv%20id%3D%22html_c77ee9784f894b32a44f4ac402e73607%22%20style%3D%22width%3A%20100.0%25%3B%20height%3A%20100.0%25%3B%22%3EMontanaBasque%3A%20Everyone%20in%20Montana%20saying%20FTC%20or%20GO%20Cats%20Go%2C%20while%20I%E2%80%99m%20here%20planning%20my%20Saturday%20for%20the%20Dawgs%20to%20play.%20Let%E2%80%99s%20Go%20Dawgs%21%21%20%23Dawgs%20%23FrontierConference%20%23football%3C/div%3E%60%29%5B0%5D%3B%0A%20%20%20%20%20%20%20%20%20%20%20%20popup_f52f56eb0f2844abb23225023d2239b0.setContent%28html_c77ee9784f894b32a44f4ac402e73607%29%3B%0A%20%20%20%20%20%20%20%20%0A%0A%20%20%20%20%20%20%20%20marker_cf2075afbedc4197a2da9db5c5ef6fcb.bindPopup%28popup_f52f56eb0f2844abb23225023d2239b0%29%0A%20%20%20%20%20%20%20%20%3B%0A%0A%20%20%20%20%20%20%20%20%0A%20%20%20%20%0A%20%20%20%20%0A%20%20%20%20%20%20%20%20%20%20%20%20var%20marker_a7be9ee88e164c3f9fd01ac1da5c7559%20%3D%20L.marker%28%0A%20%20%20%20%20%20%20%20%20%20%20%20%20%20%20%20%5B27.671982%2C%20-12.956325%5D%2C%0A%20%20%20%20%20%20%20%20%20%20%20%20%20%20%20%20%7B%7D%0A%20%20%20%20%20%20%20%20%20%20%20%20%29.addTo%28map_528ef638ca0d4bbea325ece51136afde%29%3B%0A%20%20%20%20%20%20%20%20%0A%20%20%20%20%0A%20%20%20%20%20%20%20%20var%20popup_aacf610fbc994079b7efa58dc7dc93d9%20%3D%20L.popup%28%7B%22maxWidth%22%3A%20%22100%25%22%7D%29%3B%0A%0A%20%20%20%20%20%20%20%20%0A%20%20%20%20%20%20%20%20%20%20%20%20var%20html_d4427103df3543f886fad524de018c7c%20%3D%20%24%28%60%3Cdiv%20id%3D%22html_d4427103df3543f886fad524de018c7c%22%20style%3D%22width%3A%20100.0%25%3B%20height%3A%20100.0%25%3B%22%3EItsFoxedUp%3A%20Kasper%20Schmeichel%20admits%20plans%20to%20leave%20Leicester%20-%20Tribal%20Football%20https%3A//t.co/OcG0B3eb8M%3C/div%3E%60%29%5B0%5D%3B%0A%20%20%20%20%20%20%20%20%20%20%20%20popup_aacf610fbc994079b7efa58dc7dc93d9.setContent%28html_d4427103df3543f886fad524de018c7c%29%3B%0A%20%20%20%20%20%20%20%20%0A%0A%20%20%20%20%20%20%20%20marker_a7be9ee88e164c3f9fd01ac1da5c7559.bindPopup%28popup_aacf610fbc994079b7efa58dc7dc93d9%29%0A%20%20%20%20%20%20%20%20%3B%0A%0A%20%20%20%20%20%20%20%20%0A%20%20%20%20%0A%20%20%20%20%0A%20%20%20%20%20%20%20%20%20%20%20%20var%20marker_77b8bf79e6f54f3390cd50725f4f7fe9%20%3D%20L.marker%28%0A%20%20%20%20%20%20%20%20%20%20%20%20%20%20%20%20%5B30.6943566%2C%20-88.0430541%5D%2C%0A%20%20%20%20%20%20%20%20%20%20%20%20%20%20%20%20%7B%7D%0A%20%20%20%20%20%20%20%20%20%20%20%20%29.addTo%28map_528ef638ca0d4bbea325ece51136afde%29%3B%0A%20%20%20%20%20%20%20%20%0A%20%20%20%20%0A%20%20%20%20%20%20%20%20var%20popup_111545f0dca54b82a509f79c9f43c6ee%20%3D%20L.popup%28%7B%22maxWidth%22%3A%20%22100%25%22%7D%29%3B%0A%0A%20%20%20%20%20%20%20%20%0A%20%20%20%20%20%20%20%20%20%20%20%20var%20html_afe46a799fac450e98bab7bff1af48d1%20%3D%20%24%28%60%3Cdiv%20id%3D%22html_afe46a799fac450e98bab7bff1af48d1%22%20style%3D%22width%3A%20100.0%25%3B%20height%3A%20100.0%25%3B%22%3Ebackinblack_wx%3A%20%40IanBoatmanUGA%20Apparently%20they%20gave%20you%20the%20fake%20stuff%20and%20I%20got%20the%20Mike%20Tyson%20version.%20No%20reactions%20to%20my%202%20Pfizer%E2%80%99s%20but%20moderna%20booster%20has%20me%20looking%20like%20Vanderbilt%20football.%3C/div%3E%60%29%5B0%5D%3B%0A%20%20%20%20%20%20%20%20%20%20%20%20popup_111545f0dca54b82a509f79c9f43c6ee.setContent%28html_afe46a799fac450e98bab7bff1af48d1%29%3B%0A%20%20%20%20%20%20%20%20%0A%0A%20%20%20%20%20%20%20%20marker_77b8bf79e6f54f3390cd50725f4f7fe9.bindPopup%28popup_111545f0dca54b82a509f79c9f43c6ee%29%0A%20%20%20%20%20%20%20%20%3B%0A%0A%20%20%20%20%20%20%20%20%0A%20%20%20%20%0A%20%20%20%20%0A%20%20%20%20%20%20%20%20%20%20%20%20var%20marker_9a6f131e62604f9f8e059553dc444571%20%3D%20L.marker%28%0A%20%20%20%20%20%20%20%20%20%20%20%20%20%20%20%20%5B32.6980937%2C%20-16.7738763278448%5D%2C%0A%20%20%20%20%20%20%20%20%20%20%20%20%20%20%20%20%7B%7D%0A%20%20%20%20%20%20%20%20%20%20%20%20%29.addTo%28map_528ef638ca0d4bbea325ece51136afde%29%3B%0A%20%20%20%20%20%20%20%20%0A%20%20%20%20%0A%20%20%20%20%20%20%20%20var%20popup_d68c74ddd14e4b208d12a8e49723b3d9%20%3D%20L.popup%28%7B%22maxWidth%22%3A%20%22100%25%22%7D%29%3B%0A%0A%20%20%20%20%20%20%20%20%0A%20%20%20%20%20%20%20%20%20%20%20%20var%20html_104d0a59c0e54a14b06ee716b19a701d%20%3D%20%24%28%60%3Cdiv%20id%3D%22html_104d0a59c0e54a14b06ee716b19a701d%22%20style%3D%22width%3A%20100.0%25%3B%20height%3A%20100.0%25%3B%22%3EInsqneMagic%3A%20%40markgoldbridge%20Mark%20when%20you%20playing%20Football%20Manager%3F%3C/div%3E%60%29%5B0%5D%3B%0A%20%20%20%20%20%20%20%20%20%20%20%20popup_d68c74ddd14e4b208d12a8e49723b3d9.setContent%28html_104d0a59c0e54a14b06ee716b19a701d%29%3B%0A%20%20%20%20%20%20%20%20%0A%0A%20%20%20%20%20%20%20%20marker_9a6f131e62604f9f8e059553dc444571.bindPopup%28popup_d68c74ddd14e4b208d12a8e49723b3d9%29%0A%20%20%20%20%20%20%20%20%3B%0A%0A%20%20%20%20%20%20%20%20%0A%20%20%20%20%0A%20%20%20%20%0A%20%20%20%20%20%20%20%20%20%20%20%20var%20marker_c18525e1182c4627a3308229d7056869%20%3D%20L.marker%28%0A%20%20%20%20%20%20%20%20%20%20%20%20%20%20%20%20%5B20.0171109%2C%20103.378253%5D%2C%0A%20%20%20%20%20%20%20%20%20%20%20%20%20%20%20%20%7B%7D%0A%20%20%20%20%20%20%20%20%20%20%20%20%29.addTo%28map_528ef638ca0d4bbea325ece51136afde%29%3B%0A%20%20%20%20%20%20%20%20%0A%20%20%20%20%0A%20%20%20%20%20%20%20%20var%20popup_3d08d0a08b6641379110e0dd47988747%20%3D%20L.popup%28%7B%22maxWidth%22%3A%20%22100%25%22%7D%29%3B%0A%0A%20%20%20%20%20%20%20%20%0A%20%20%20%20%20%20%20%20%20%20%20%20var%20html_6563df8439d14dae8182682fc1b29ceb%20%3D%20%24%28%60%3Cdiv%20id%3D%22html_6563df8439d14dae8182682fc1b29ceb%22%20style%3D%22width%3A%20100.0%25%3B%20height%3A%20100.0%25%3B%22%3EFootball__Talks%3A%20%40JeffreyHarharw2%20%40mikeparry8%20%40JPickford1%20He%20is%20improving%20I%20guess%20that%27s%20why%20people%20are%20excited%20about%20him%20%26amp%3B%20he%27s%20having%20a%20good%20season%20at%20arsenal..By%20the%20way%20bro..I%20do%20reviews%20of%20football%20matches%20on%20YouTube%20%26amp%3B%20I%20would%20greatly%20appreciate%20it%20if%20you%20can%20subscribe%20to%20my%20channel%20via%20the%20link%20in%20my%20bio%20%26amp%3B%20please%20follow%20back%3C/div%3E%60%29%5B0%5D%3B%0A%20%20%20%20%20%20%20%20%20%20%20%20popup_3d08d0a08b6641379110e0dd47988747.setContent%28html_6563df8439d14dae8182682fc1b29ceb%29%3B%0A%20%20%20%20%20%20%20%20%0A%0A%20%20%20%20%20%20%20%20marker_c18525e1182c4627a3308229d7056869.bindPopup%28popup_3d08d0a08b6641379110e0dd47988747%29%0A%20%20%20%20%20%20%20%20%3B%0A%0A%20%20%20%20%20%20%20%20%0A%20%20%20%20%0A%20%20%20%20%0A%20%20%20%20%20%20%20%20%20%20%20%20var%20marker_2815d8d2287a4e0b8e4642b0a035b680%20%3D%20L.marker%28%0A%20%20%20%20%20%20%20%20%20%20%20%20%20%20%20%20%5B44.4567705%2C%20-78.7359702%5D%2C%0A%20%20%20%20%20%20%20%20%20%20%20%20%20%20%20%20%7B%7D%0A%20%20%20%20%20%20%20%20%20%20%20%20%29.addTo%28map_528ef638ca0d4bbea325ece51136afde%29%3B%0A%20%20%20%20%20%20%20%20%0A%20%20%20%20%0A%20%20%20%20%20%20%20%20var%20popup_7aef5da723874ced938a754d73c87ecc%20%3D%20L.popup%28%7B%22maxWidth%22%3A%20%22100%25%22%7D%29%3B%0A%0A%20%20%20%20%20%20%20%20%0A%20%20%20%20%20%20%20%20%20%20%20%20var%20html_67b59e9204ac438fad07c50612c112f1%20%3D%20%24%28%60%3Cdiv%20id%3D%22html_67b59e9204ac438fad07c50612c112f1%22%20style%3D%22width%3A%20100.0%25%3B%20height%3A%20100.0%25%3B%22%3Eperdricof%3A%20%40whstancil%20this%20is%20fucking%20lucy-with-the-football%20shit%20%20the%20right%20wing%20anger%20machine%20has%20been%20pumping%20out%20new%20targets%20of%20the%20week%20for%20my%20entire%20adult%20life%20%20and%20these%20mainstream%20chumps%20just%20insist%20that%20~~journalistic%20objectivity~~%20requires%20them%20to%20fall%20for%20it%20every%20time%3C/div%3E%60%29%5B0%5D%3B%0A%20%20%20%20%20%20%20%20%20%20%20%20popup_7aef5da723874ced938a754d73c87ecc.setContent%28html_67b59e9204ac438fad07c50612c112f1%29%3B%0A%20%20%20%20%20%20%20%20%0A%0A%20%20%20%20%20%20%20%20marker_2815d8d2287a4e0b8e4642b0a035b680.bindPopup%28popup_7aef5da723874ced938a754d73c87ecc%29%0A%20%20%20%20%20%20%20%20%3B%0A%0A%20%20%20%20%20%20%20%20%0A%20%20%20%20%0A%20%20%20%20%0A%20%20%20%20%20%20%20%20%20%20%20%20var%20marker_4ae0979475814ec2b233bb5d8612004c%20%3D%20L.marker%28%0A%20%20%20%20%20%20%20%20%20%20%20%20%20%20%20%20%5B33.7490987%2C%20-84.3901849%5D%2C%0A%20%20%20%20%20%20%20%20%20%20%20%20%20%20%20%20%7B%7D%0A%20%20%20%20%20%20%20%20%20%20%20%20%29.addTo%28map_528ef638ca0d4bbea325ece51136afde%29%3B%0A%20%20%20%20%20%20%20%20%0A%20%20%20%20%0A%20%20%20%20%20%20%20%20var%20popup_c93059a6f93140b8a10056adfc98d822%20%3D%20L.popup%28%7B%22maxWidth%22%3A%20%22100%25%22%7D%29%3B%0A%0A%20%20%20%20%20%20%20%20%0A%20%20%20%20%20%20%20%20%20%20%20%20var%20html_10d51e75ff4c46c1b1ec557ddb869356%20%3D%20%24%28%60%3Cdiv%20id%3D%22html_10d51e75ff4c46c1b1ec557ddb869356%22%20style%3D%22width%3A%20100.0%25%3B%20height%3A%20100.0%25%3B%22%3EBari_3J%3A%20%40DMVCoop301%20They%20not%20committed%20to%20playing%20big%20boy%20football%20and%20south%20Florida%20players%20not%20staying%20home%20anymore%20to%20play%20in%20a%20rented%20stadium.%3C/div%3E%60%29%5B0%5D%3B%0A%20%20%20%20%20%20%20%20%20%20%20%20popup_c93059a6f93140b8a10056adfc98d822.setContent%28html_10d51e75ff4c46c1b1ec557ddb869356%29%3B%0A%20%20%20%20%20%20%20%20%0A%0A%20%20%20%20%20%20%20%20marker_4ae0979475814ec2b233bb5d8612004c.bindPopup%28popup_c93059a6f93140b8a10056adfc98d822%29%0A%20%20%20%20%20%20%20%20%3B%0A%0A%20%20%20%20%20%20%20%20%0A%20%20%20%20%0A%20%20%20%20%0A%20%20%20%20%20%20%20%20%20%20%20%20var%20marker_7b0d669256ca48cc84cfe2bba1ed782f%20%3D%20L.marker%28%0A%20%20%20%20%20%20%20%20%20%20%20%20%20%20%20%20%5B27.671982%2C%20-12.956325%5D%2C%0A%20%20%20%20%20%20%20%20%20%20%20%20%20%20%20%20%7B%7D%0A%20%20%20%20%20%20%20%20%20%20%20%20%29.addTo%28map_528ef638ca0d4bbea325ece51136afde%29%3B%0A%20%20%20%20%20%20%20%20%0A%20%20%20%20%0A%20%20%20%20%20%20%20%20var%20popup_f6f55318846341b3b7d068b03d680576%20%3D%20L.popup%28%7B%22maxWidth%22%3A%20%22100%25%22%7D%29%3B%0A%0A%20%20%20%20%20%20%20%20%0A%20%20%20%20%20%20%20%20%20%20%20%20var%20html_1ca941105f9c418497031ed6aece9b6c%20%3D%20%24%28%60%3Cdiv%20id%3D%22html_1ca941105f9c418497031ed6aece9b6c%22%20style%3D%22width%3A%20100.0%25%3B%20height%3A%20100.0%25%3B%22%3EItsFoxedUp%3A%20Vestergaard%3A%20I%20know%20I%20can%20do%20better%20at%20Leicester%20-%20Tribal%20Football%20https%3A//t.co/0yRgs8lv04%3C/div%3E%60%29%5B0%5D%3B%0A%20%20%20%20%20%20%20%20%20%20%20%20popup_f6f55318846341b3b7d068b03d680576.setContent%28html_1ca941105f9c418497031ed6aece9b6c%29%3B%0A%20%20%20%20%20%20%20%20%0A%0A%20%20%20%20%20%20%20%20marker_7b0d669256ca48cc84cfe2bba1ed782f.bindPopup%28popup_f6f55318846341b3b7d068b03d680576%29%0A%20%20%20%20%20%20%20%20%3B%0A%0A%20%20%20%20%20%20%20%20%0A%20%20%20%20%0A%20%20%20%20%0A%20%20%20%20%20%20%20%20%20%20%20%20var%20marker_e7b0bf3fa76d4fcab26e99e5cb6f7e42%20%3D%20L.marker%28%0A%20%20%20%20%20%20%20%20%20%20%20%20%20%20%20%20%5B46.7378618%2C%20-60.9196599127907%5D%2C%0A%20%20%20%20%20%20%20%20%20%20%20%20%20%20%20%20%7B%7D%0A%20%20%20%20%20%20%20%20%20%20%20%20%29.addTo%28map_528ef638ca0d4bbea325ece51136afde%29%3B%0A%20%20%20%20%20%20%20%20%0A%20%20%20%20%0A%20%20%20%20%20%20%20%20var%20popup_047b29961b8146b483d0ee85d21db160%20%3D%20L.popup%28%7B%22maxWidth%22%3A%20%22100%25%22%7D%29%3B%0A%0A%20%20%20%20%20%20%20%20%0A%20%20%20%20%20%20%20%20%20%20%20%20var%20html_aa340423f6184004b7341de5057ca562%20%3D%20%24%28%60%3Cdiv%20id%3D%22html_aa340423f6184004b7341de5057ca562%22%20style%3D%22width%3A%20100.0%25%3B%20height%3A%20100.0%25%3B%22%3EMelancholiaMel1%3A%20%40LaurenAlexis_x%20Sorry%20to%20all%20the%20football%20fanatics%20under%20her%20tweet.%20Will%20make%20sure%20you%20get%20your%20pencil%20dick%20sucked%20one%20day.%3C/div%3E%60%29%5B0%5D%3B%0A%20%20%20%20%20%20%20%20%20%20%20%20popup_047b29961b8146b483d0ee85d21db160.setContent%28html_aa340423f6184004b7341de5057ca562%29%3B%0A%20%20%20%20%20%20%20%20%0A%0A%20%20%20%20%20%20%20%20marker_e7b0bf3fa76d4fcab26e99e5cb6f7e42.bindPopup%28popup_047b29961b8146b483d0ee85d21db160%29%0A%20%20%20%20%20%20%20%20%3B%0A%0A%20%20%20%20%20%20%20%20%0A%20%20%20%20%0A%20%20%20%20%0A%20%20%20%20%20%20%20%20%20%20%20%20var%20marker_8b4919195e6f40b58b76fdb4f597c5f2%20%3D%20L.marker%28%0A%20%20%20%20%20%20%20%20%20%20%20%20%20%20%20%20%5B-38.6470373%2C%20143.0699185%5D%2C%0A%20%20%20%20%20%20%20%20%20%20%20%20%20%20%20%20%7B%7D%0A%20%20%20%20%20%20%20%20%20%20%20%20%29.addTo%28map_528ef638ca0d4bbea325ece51136afde%29%3B%0A%20%20%20%20%20%20%20%20%0A%20%20%20%20%0A%20%20%20%20%20%20%20%20var%20popup_d47431b4429843959ce251ba33dc4bd2%20%3D%20L.popup%28%7B%22maxWidth%22%3A%20%22100%25%22%7D%29%3B%0A%0A%20%20%20%20%20%20%20%20%0A%20%20%20%20%20%20%20%20%20%20%20%20var%20html_995d06a1b81249ddb0e1eb3ecdded530%20%3D%20%24%28%60%3Cdiv%20id%3D%22html_995d06a1b81249ddb0e1eb3ecdded530%22%20style%3D%22width%3A%20100.0%25%3B%20height%3A%20100.0%25%3B%22%3EdeRetweeter%3A%20%40lm30cr7%20%40goal%20As%20you%20said%2C%20they%20all%20human%20too.%20PSG%20and%20manutd%20couldn%E2%80%99t%20be%20compared%20bruh.%20You%20play%20football%20right%20and%20you%20should%20know%20which%20team%20is%20better.%20Ronaldo%20in%20PSG%20will%20perform%20way%20better%20than%20messi%20in%20PSG.%20%F0%9F%A4%B7%E2%80%8D%E2%99%82%EF%B8%8F%3C/div%3E%60%29%5B0%5D%3B%0A%20%20%20%20%20%20%20%20%20%20%20%20popup_d47431b4429843959ce251ba33dc4bd2.setContent%28html_995d06a1b81249ddb0e1eb3ecdded530%29%3B%0A%20%20%20%20%20%20%20%20%0A%0A%20%20%20%20%20%20%20%20marker_8b4919195e6f40b58b76fdb4f597c5f2.bindPopup%28popup_d47431b4429843959ce251ba33dc4bd2%29%0A%20%20%20%20%20%20%20%20%3B%0A%0A%20%20%20%20%20%20%20%20%0A%20%20%20%20%0A%20%20%20%20%0A%20%20%20%20%20%20%20%20%20%20%20%20var%20marker_58e1a85bccc340c79ed58986c4018f86%20%3D%20L.marker%28%0A%20%20%20%20%20%20%20%20%20%20%20%20%20%20%20%20%5B35.9522852%2C%20-86.6694413%5D%2C%0A%20%20%20%20%20%20%20%20%20%20%20%20%20%20%20%20%7B%7D%0A%20%20%20%20%20%20%20%20%20%20%20%20%29.addTo%28map_528ef638ca0d4bbea325ece51136afde%29%3B%0A%20%20%20%20%20%20%20%20%0A%20%20%20%20%0A%20%20%20%20%20%20%20%20var%20popup_90450f7eaa0048a3bfc42daf016ec865%20%3D%20L.popup%28%7B%22maxWidth%22%3A%20%22100%25%22%7D%29%3B%0A%0A%20%20%20%20%20%20%20%20%0A%20%20%20%20%20%20%20%20%20%20%20%20var%20html_e4aeb025b2d14c1184df3e231d7cfc75%20%3D%20%24%28%60%3Cdiv%20id%3D%22html_e4aeb025b2d14c1184df3e231d7cfc75%22%20style%3D%22width%3A%20100.0%25%3B%20height%3A%20100.0%25%3B%22%3Eandymusic75%3A%20Totally%20accurate%21%20%20This%20is%20why%20some%20in%20the%20media%20hate%20the%20%40Titans.%20%20No%20glitz%2C%20no%20glam.%20%20Just%20tough%2C%20at%20times%20messy%2C%20football.%20%20%23fortheboys%20%23foreachother%3C/div%3E%60%29%5B0%5D%3B%0A%20%20%20%20%20%20%20%20%20%20%20%20popup_90450f7eaa0048a3bfc42daf016ec865.setContent%28html_e4aeb025b2d14c1184df3e231d7cfc75%29%3B%0A%20%20%20%20%20%20%20%20%0A%0A%20%20%20%20%20%20%20%20marker_58e1a85bccc340c79ed58986c4018f86.bindPopup%28popup_90450f7eaa0048a3bfc42daf016ec865%29%0A%20%20%20%20%20%20%20%20%3B%0A%0A%20%20%20%20%20%20%20%20%0A%20%20%20%20%0A%20%20%20%20%0A%20%20%20%20%20%20%20%20%20%20%20%20var%20marker_84122d635c0b48d5a2d89e0d1b07f6ec%20%3D%20L.marker%28%0A%20%20%20%20%20%20%20%20%20%20%20%20%20%20%20%20%5B0.3177137%2C%2032.5813539%5D%2C%0A%20%20%20%20%20%20%20%20%20%20%20%20%20%20%20%20%7B%7D%0A%20%20%20%20%20%20%20%20%20%20%20%20%29.addTo%28map_528ef638ca0d4bbea325ece51136afde%29%3B%0A%20%20%20%20%20%20%20%20%0A%20%20%20%20%0A%20%20%20%20%20%20%20%20var%20popup_29fc434643074d7c85586b1099063274%20%3D%20L.popup%28%7B%22maxWidth%22%3A%20%22100%25%22%7D%29%3B%0A%0A%20%20%20%20%20%20%20%20%0A%20%20%20%20%20%20%20%20%20%20%20%20var%20html_4df5aa8f09224eb2943effaaf618b031%20%3D%20%24%28%60%3Cdiv%20id%3D%22html_4df5aa8f09224eb2943effaaf618b031%22%20style%3D%22width%3A%20100.0%25%3B%20height%3A%20100.0%25%3B%22%3Esheilambabazi3%3A%20%40cfctoni_%20They%20watch%20to%20pass%20time...%20Nothing%20like%20football%20knowledge%20to%20get%20from%20watching%3C/div%3E%60%29%5B0%5D%3B%0A%20%20%20%20%20%20%20%20%20%20%20%20popup_29fc434643074d7c85586b1099063274.setContent%28html_4df5aa8f09224eb2943effaaf618b031%29%3B%0A%20%20%20%20%20%20%20%20%0A%0A%20%20%20%20%20%20%20%20marker_84122d635c0b48d5a2d89e0d1b07f6ec.bindPopup%28popup_29fc434643074d7c85586b1099063274%29%0A%20%20%20%20%20%20%20%20%3B%0A%0A%20%20%20%20%20%20%20%20%0A%20%20%20%20%0A%20%20%20%20%0A%20%20%20%20%20%20%20%20%20%20%20%20var%20marker_b8b44192ac764ca780280045ecdabb66%20%3D%20L.marker%28%0A%20%20%20%20%20%20%20%20%20%20%20%20%20%20%20%20%5B34.6968642%2C%20139.4049033%5D%2C%0A%20%20%20%20%20%20%20%20%20%20%20%20%20%20%20%20%7B%7D%0A%20%20%20%20%20%20%20%20%20%20%20%20%29.addTo%28map_528ef638ca0d4bbea325ece51136afde%29%3B%0A%20%20%20%20%20%20%20%20%0A%20%20%20%20%0A%20%20%20%20%20%20%20%20var%20popup_cf9b762662364d5990e4092a85aa9ef7%20%3D%20L.popup%28%7B%22maxWidth%22%3A%20%22100%25%22%7D%29%3B%0A%0A%20%20%20%20%20%20%20%20%0A%20%20%20%20%20%20%20%20%20%20%20%20var%20html_6fb574647f964083b3afe725b85a7eba%20%3D%20%24%28%60%3Cdiv%20id%3D%22html_6fb574647f964083b3afe725b85a7eba%22%20style%3D%22width%3A%20100.0%25%3B%20height%3A%20100.0%25%3B%22%3Esoccer_suga%3A%20Soccer%20Super%20League%20https%3A//t.co/y7cBQStK0e%20%23soccer%20%23league%20%23Football%20%2308%3C/div%3E%60%29%5B0%5D%3B%0A%20%20%20%20%20%20%20%20%20%20%20%20popup_cf9b762662364d5990e4092a85aa9ef7.setContent%28html_6fb574647f964083b3afe725b85a7eba%29%3B%0A%20%20%20%20%20%20%20%20%0A%0A%20%20%20%20%20%20%20%20marker_b8b44192ac764ca780280045ecdabb66.bindPopup%28popup_cf9b762662364d5990e4092a85aa9ef7%29%0A%20%20%20%20%20%20%20%20%3B%0A%0A%20%20%20%20%20%20%20%20%0A%20%20%20%20%0A%20%20%20%20%0A%20%20%20%20%20%20%20%20%20%20%20%20var%20marker_b9b43908331e4e669c836f7198ecdf61%20%3D%20L.marker%28%0A%20%20%20%20%20%20%20%20%20%20%20%20%20%20%20%20%5B41.8755546%2C%20-87.6244212%5D%2C%0A%20%20%20%20%20%20%20%20%20%20%20%20%20%20%20%20%7B%7D%0A%20%20%20%20%20%20%20%20%20%20%20%20%29.addTo%28map_528ef638ca0d4bbea325ece51136afde%29%3B%0A%20%20%20%20%20%20%20%20%0A%20%20%20%20%0A%20%20%20%20%20%20%20%20var%20popup_791fd0483cc84d848beb151a550584c7%20%3D%20L.popup%28%7B%22maxWidth%22%3A%20%22100%25%22%7D%29%3B%0A%0A%20%20%20%20%20%20%20%20%0A%20%20%20%20%20%20%20%20%20%20%20%20var%20html_72dac039947e4e3f880d0d7c798ccd40%20%3D%20%24%28%60%3Cdiv%20id%3D%22html_72dac039947e4e3f880d0d7c798ccd40%22%20style%3D%22width%3A%20100.0%25%3B%20height%3A%20100.0%25%3B%22%3ETopShelfBreaks%3A%20True%20Serial%20%23%20Flawless%20Wednesday%20Night%20-%20%23HititFirst%202021%20Flawless%20Collegiate%20Football%201%20Box%20Random%20Serial%20%23%20%281-25%29%20https%3A//t.co/TxHRnXDkXD%20https%3A//t.co/TK8Qg0kQXQ%3C/div%3E%60%29%5B0%5D%3B%0A%20%20%20%20%20%20%20%20%20%20%20%20popup_791fd0483cc84d848beb151a550584c7.setContent%28html_72dac039947e4e3f880d0d7c798ccd40%29%3B%0A%20%20%20%20%20%20%20%20%0A%0A%20%20%20%20%20%20%20%20marker_b9b43908331e4e669c836f7198ecdf61.bindPopup%28popup_791fd0483cc84d848beb151a550584c7%29%0A%20%20%20%20%20%20%20%20%3B%0A%0A%20%20%20%20%20%20%20%20%0A%20%20%20%20%0A%20%20%20%20%0A%20%20%20%20%20%20%20%20%20%20%20%20var%20marker_6e2c2a4bd4cc44ef8999f0cbdea2ec36%20%3D%20L.marker%28%0A%20%20%20%20%20%20%20%20%20%20%20%20%20%20%20%20%5B52.333333%2C%200.083333%5D%2C%0A%20%20%20%20%20%20%20%20%20%20%20%20%20%20%20%20%7B%7D%0A%20%20%20%20%20%20%20%20%20%20%20%20%29.addTo%28map_528ef638ca0d4bbea325ece51136afde%29%3B%0A%20%20%20%20%20%20%20%20%0A%20%20%20%20%0A%20%20%20%20%20%20%20%20var%20popup_deb13c677cc747298c205a10e60d2c68%20%3D%20L.popup%28%7B%22maxWidth%22%3A%20%22100%25%22%7D%29%3B%0A%0A%20%20%20%20%20%20%20%20%0A%20%20%20%20%20%20%20%20%20%20%20%20var%20html_a3472557231c424c9009eff9493bec1b%20%3D%20%24%28%60%3Cdiv%20id%3D%22html_a3472557231c424c9009eff9493bec1b%22%20style%3D%22width%3A%20100.0%25%3B%20height%3A%20100.0%25%3B%22%3Ematt_brading%3A%20%40aaronk0708%20They%20were%20all%20playing%20PlayStation%20and%20being%20protected%20by%20academies%20from%20real%20football.%3C/div%3E%60%29%5B0%5D%3B%0A%20%20%20%20%20%20%20%20%20%20%20%20popup_deb13c677cc747298c205a10e60d2c68.setContent%28html_a3472557231c424c9009eff9493bec1b%29%3B%0A%20%20%20%20%20%20%20%20%0A%0A%20%20%20%20%20%20%20%20marker_6e2c2a4bd4cc44ef8999f0cbdea2ec36.bindPopup%28popup_deb13c677cc747298c205a10e60d2c68%29%0A%20%20%20%20%20%20%20%20%3B%0A%0A%20%20%20%20%20%20%20%20%0A%20%20%20%20%0A%20%20%20%20%0A%20%20%20%20%20%20%20%20%20%20%20%20var%20marker_b4abca7a3ea84708a6b8eb0ef0171d08%20%3D%20L.marker%28%0A%20%20%20%20%20%20%20%20%20%20%20%20%20%20%20%20%5B39.7837304%2C%20-100.4458825%5D%2C%0A%20%20%20%20%20%20%20%20%20%20%20%20%20%20%20%20%7B%7D%0A%20%20%20%20%20%20%20%20%20%20%20%20%29.addTo%28map_528ef638ca0d4bbea325ece51136afde%29%3B%0A%20%20%20%20%20%20%20%20%0A%20%20%20%20%0A%20%20%20%20%20%20%20%20var%20popup_95868342bd124afca5c8d2e9a07f5f9a%20%3D%20L.popup%28%7B%22maxWidth%22%3A%20%22100%25%22%7D%29%3B%0A%0A%20%20%20%20%20%20%20%20%0A%20%20%20%20%20%20%20%20%20%20%20%20var%20html_2bd518082f5845cda9320ff9047dfea1%20%3D%20%24%28%60%3Cdiv%20id%3D%22html_2bd518082f5845cda9320ff9047dfea1%22%20style%3D%22width%3A%20100.0%25%3B%20height%3A%20100.0%25%3B%22%3EOduNews1%3A%20College%20football%20bowl%20projections%20for%20Week%2012%3A%20Georgia%2C%20Alabama%20rematch%20scenario%20back%C2%A0on%20https%3A//t.co/5xmI2vsMwy%3C/div%3E%60%29%5B0%5D%3B%0A%20%20%20%20%20%20%20%20%20%20%20%20popup_95868342bd124afca5c8d2e9a07f5f9a.setContent%28html_2bd518082f5845cda9320ff9047dfea1%29%3B%0A%20%20%20%20%20%20%20%20%0A%0A%20%20%20%20%20%20%20%20marker_b4abca7a3ea84708a6b8eb0ef0171d08.bindPopup%28popup_95868342bd124afca5c8d2e9a07f5f9a%29%0A%20%20%20%20%20%20%20%20%3B%0A%0A%20%20%20%20%20%20%20%20%0A%20%20%20%20%0A%20%20%20%20%0A%20%20%20%20%20%20%20%20%20%20%20%20var%20marker_d5fb6629323c4a61a302b18d6e0b2e15%20%3D%20L.marker%28%0A%20%20%20%20%20%20%20%20%20%20%20%20%20%20%20%20%5B-34.0465386%2C%2018.3655103%5D%2C%0A%20%20%20%20%20%20%20%20%20%20%20%20%20%20%20%20%7B%7D%0A%20%20%20%20%20%20%20%20%20%20%20%20%29.addTo%28map_528ef638ca0d4bbea325ece51136afde%29%3B%0A%20%20%20%20%20%20%20%20%0A%20%20%20%20%0A%20%20%20%20%20%20%20%20var%20popup_accc00feafd54eb9b234990213f34c3b%20%3D%20L.popup%28%7B%22maxWidth%22%3A%20%22100%25%22%7D%29%3B%0A%0A%20%20%20%20%20%20%20%20%0A%20%20%20%20%20%20%20%20%20%20%20%20var%20html_8ba2b3c4dd8a4448b990f715d2dcaa4c%20%3D%20%24%28%60%3Cdiv%20id%3D%22html_8ba2b3c4dd8a4448b990f715d2dcaa4c%22%20style%3D%22width%3A%20100.0%25%3B%20height%3A%20100.0%25%3B%22%3ENdabezinhleMaf2%3A%20%40Kyenedy%20Simply%20speaking%20Fassie%20is%20a%20better%20play%20than%20le%20roux.%20Line%20breaks%2C%20meters%20gained%2C%20attacking%20space%20on%20a%20counter.%20Better%20defensively.%20Positioning%20.%20Even%20Willems%20is%20better%20than%20le%20roux.%20What%E2%80%99s%20happening%20in%20American%20football%20%F0%9F%8F%88%20will%20soon%20happen%20in%20South%20Africa%20%F0%9F%87%BF%F0%9F%87%A6%20white%20privileged%20%F0%9F%9A%AE%3C/div%3E%60%29%5B0%5D%3B%0A%20%20%20%20%20%20%20%20%20%20%20%20popup_accc00feafd54eb9b234990213f34c3b.setContent%28html_8ba2b3c4dd8a4448b990f715d2dcaa4c%29%3B%0A%20%20%20%20%20%20%20%20%0A%0A%20%20%20%20%20%20%20%20marker_d5fb6629323c4a61a302b18d6e0b2e15.bindPopup%28popup_accc00feafd54eb9b234990213f34c3b%29%0A%20%20%20%20%20%20%20%20%3B%0A%0A%20%20%20%20%20%20%20%20%0A%20%20%20%20%0A%20%20%20%20%0A%20%20%20%20%20%20%20%20%20%20%20%20var%20marker_ba9c03f5cd2d45e08581b296ebdb855e%20%3D%20L.marker%28%0A%20%20%20%20%20%20%20%20%20%20%20%20%20%20%20%20%5B35.3312627%2C%20127.4083876%5D%2C%0A%20%20%20%20%20%20%20%20%20%20%20%20%20%20%20%20%7B%7D%0A%20%20%20%20%20%20%20%20%20%20%20%20%29.addTo%28map_528ef638ca0d4bbea325ece51136afde%29%3B%0A%20%20%20%20%20%20%20%20%0A%20%20%20%20%0A%20%20%20%20%20%20%20%20var%20popup_ceb7caf1149c41ee8d22512035327031%20%3D%20L.popup%28%7B%22maxWidth%22%3A%20%22100%25%22%7D%29%3B%0A%0A%20%20%20%20%20%20%20%20%0A%20%20%20%20%20%20%20%20%20%20%20%20var%20html_41b92591ec364f42b16771dbb1f3faf2%20%3D%20%24%28%60%3Cdiv%20id%3D%22html_41b92591ec364f42b16771dbb1f3faf2%22%20style%3D%22width%3A%20100.0%25%3B%20height%3A%20100.0%25%3B%22%3EThatGuyAlvin25%3A%20Hope%20been%20lost%20with%20football%2C%20but%20my%20BULLS%21%3F%20They%20making%20me%20happy%3C/div%3E%60%29%5B0%5D%3B%0A%20%20%20%20%20%20%20%20%20%20%20%20popup_ceb7caf1149c41ee8d22512035327031.setContent%28html_41b92591ec364f42b16771dbb1f3faf2%29%3B%0A%20%20%20%20%20%20%20%20%0A%0A%20%20%20%20%20%20%20%20marker_ba9c03f5cd2d45e08581b296ebdb855e.bindPopup%28popup_ceb7caf1149c41ee8d22512035327031%29%0A%20%20%20%20%20%20%20%20%3B%0A%0A%20%20%20%20%20%20%20%20%0A%20%20%20%20%0A%20%20%20%20%0A%20%20%20%20%20%20%20%20%20%20%20%20var%20marker_e3dde8262e8f4dbeaa09cec68f71c908%20%3D%20L.marker%28%0A%20%20%20%20%20%20%20%20%20%20%20%20%20%20%20%20%5B39.6159851%2C%20-75.662956%5D%2C%0A%20%20%20%20%20%20%20%20%20%20%20%20%20%20%20%20%7B%7D%0A%20%20%20%20%20%20%20%20%20%20%20%20%29.addTo%28map_528ef638ca0d4bbea325ece51136afde%29%3B%0A%20%20%20%20%20%20%20%20%0A%20%20%20%20%0A%20%20%20%20%20%20%20%20var%20popup_c0f2fcd1ff2b428db37f5f8ceb5b2f3b%20%3D%20L.popup%28%7B%22maxWidth%22%3A%20%22100%25%22%7D%29%3B%0A%0A%20%20%20%20%20%20%20%20%0A%20%20%20%20%20%20%20%20%20%20%20%20var%20html_272c146738834af0b6c251d206ce9347%20%3D%20%24%28%60%3Cdiv%20id%3D%22html_272c146738834af0b6c251d206ce9347%22%20style%3D%22width%3A%20100.0%25%3B%20height%3A%20100.0%25%3B%22%3EBradMyersTNJ%3A%20With%20the%20playoffs%20under%20way%20in%20the%20other%20sports%2C%20the%20final%20Delaware%20high%20school%20rankings%20of%20the%20fall%20are%20football%20only%20%23delhs%20%20https%3A//t.co/d9CvynE9AL%3C/div%3E%60%29%5B0%5D%3B%0A%20%20%20%20%20%20%20%20%20%20%20%20popup_c0f2fcd1ff2b428db37f5f8ceb5b2f3b.setContent%28html_272c146738834af0b6c251d206ce9347%29%3B%0A%20%20%20%20%20%20%20%20%0A%0A%20%20%20%20%20%20%20%20marker_e3dde8262e8f4dbeaa09cec68f71c908.bindPopup%28popup_c0f2fcd1ff2b428db37f5f8ceb5b2f3b%29%0A%20%20%20%20%20%20%20%20%3B%0A%0A%20%20%20%20%20%20%20%20%0A%20%20%20%20%0A%20%20%20%20%0A%20%20%20%20%20%20%20%20%20%20%20%20var%20marker_0bb4b40f718941f8b71309a84ed4f758%20%3D%20L.marker%28%0A%20%20%20%20%20%20%20%20%20%20%20%20%20%20%20%20%5B51.4467941%2C%20-0.3283389%5D%2C%0A%20%20%20%20%20%20%20%20%20%20%20%20%20%20%20%20%7B%7D%0A%20%20%20%20%20%20%20%20%20%20%20%20%29.addTo%28map_528ef638ca0d4bbea325ece51136afde%29%3B%0A%20%20%20%20%20%20%20%20%0A%20%20%20%20%0A%20%20%20%20%20%20%20%20var%20popup_573e0f4e38b6427f981e2e746bb43a9e%20%3D%20L.popup%28%7B%22maxWidth%22%3A%20%22100%25%22%7D%29%3B%0A%0A%20%20%20%20%20%20%20%20%0A%20%20%20%20%20%20%20%20%20%20%20%20var%20html_6e215378739e41f28e421995e11a731d%20%3D%20%24%28%60%3Cdiv%20id%3D%22html_6e215378739e41f28e421995e11a731d%22%20style%3D%22width%3A%20100.0%25%3B%20height%3A%20100.0%25%3B%22%3EStephenBonham9%3A%20%40Lukathfc%20Great.%20At%20last%20I%20can%20enjoy%20my%20football%3C/div%3E%60%29%5B0%5D%3B%0A%20%20%20%20%20%20%20%20%20%20%20%20popup_573e0f4e38b6427f981e2e746bb43a9e.setContent%28html_6e215378739e41f28e421995e11a731d%29%3B%0A%20%20%20%20%20%20%20%20%0A%0A%20%20%20%20%20%20%20%20marker_0bb4b40f718941f8b71309a84ed4f758.bindPopup%28popup_573e0f4e38b6427f981e2e746bb43a9e%29%0A%20%20%20%20%20%20%20%20%3B%0A%0A%20%20%20%20%20%20%20%20%0A%20%20%20%20%0A%20%20%20%20%0A%20%20%20%20%20%20%20%20%20%20%20%20var%20marker_8b053489d9634026a72d61da7b3589ab%20%3D%20L.marker%28%0A%20%20%20%20%20%20%20%20%20%20%20%20%20%20%20%20%5B50.000678%2C%20-86.000977%5D%2C%0A%20%20%20%20%20%20%20%20%20%20%20%20%20%20%20%20%7B%7D%0A%20%20%20%20%20%20%20%20%20%20%20%20%29.addTo%28map_528ef638ca0d4bbea325ece51136afde%29%3B%0A%20%20%20%20%20%20%20%20%0A%20%20%20%20%0A%20%20%20%20%20%20%20%20var%20popup_2592d55d2ea94963969312a14a622e76%20%3D%20L.popup%28%7B%22maxWidth%22%3A%20%22100%25%22%7D%29%3B%0A%0A%20%20%20%20%20%20%20%20%0A%20%20%20%20%20%20%20%20%20%20%20%20var%20html_86c443d56eed4f1398d227169ca23dfd%20%3D%20%24%28%60%3Cdiv%20id%3D%22html_86c443d56eed4f1398d227169ca23dfd%22%20style%3D%22width%3A%20100.0%25%3B%20height%3A%20100.0%25%3B%22%3Etaschekats%3A%20Unisex%20dark%20brown%20tweed%20watch%20cap%20brown%20slouchy%20hat%20brown%20brimmed%20beanie%20hat%20https%3A//t.co/LE7xFY8yv9%20via%20%40Etsy%20%23brownhat%20%23darkbrowntweedbrimmedbeanie%20%23hiking%20%23brownslouchyhat%20%23browntweedwatchcap%20%23ski%20%23hockey%20%23biker%20%23football%20%23snowboard%20%23teacher%20%23musician%20%23chemocap%20%23brownwinterhat%3C/div%3E%60%29%5B0%5D%3B%0A%20%20%20%20%20%20%20%20%20%20%20%20popup_2592d55d2ea94963969312a14a622e76.setContent%28html_86c443d56eed4f1398d227169ca23dfd%29%3B%0A%20%20%20%20%20%20%20%20%0A%0A%20%20%20%20%20%20%20%20marker_8b053489d9634026a72d61da7b3589ab.bindPopup%28popup_2592d55d2ea94963969312a14a622e76%29%0A%20%20%20%20%20%20%20%20%3B%0A%0A%20%20%20%20%20%20%20%20%0A%20%20%20%20%0A%20%20%20%20%0A%20%20%20%20%20%20%20%20%20%20%20%20var%20marker_a4128849251a4ed49dc7d62155495ed7%20%3D%20L.marker%28%0A%20%20%20%20%20%20%20%20%20%20%20%20%20%20%20%20%5B43.157285%2C%20-77.615214%5D%2C%0A%20%20%20%20%20%20%20%20%20%20%20%20%20%20%20%20%7B%7D%0A%20%20%20%20%20%20%20%20%20%20%20%20%29.addTo%28map_528ef638ca0d4bbea325ece51136afde%29%3B%0A%20%20%20%20%20%20%20%20%0A%20%20%20%20%0A%20%20%20%20%20%20%20%20var%20popup_ce13482d71ce453bac72d16a418867f9%20%3D%20L.popup%28%7B%22maxWidth%22%3A%20%22100%25%22%7D%29%3B%0A%0A%20%20%20%20%20%20%20%20%0A%20%20%20%20%20%20%20%20%20%20%20%20var%20html_31d6750837a145b7a2ccdcff9462c124%20%3D%20%24%28%60%3Cdiv%20id%3D%22html_31d6750837a145b7a2ccdcff9462c124%22%20style%3D%22width%3A%20100.0%25%3B%20height%3A%20100.0%25%3B%22%3ESteveMontanino%3A%20%40jg9188%20%40ProFootballTalk%20What%2C%20then%2C%20do%20you%20mean%20by%20basic%20Competence%3F%20The%20NFL%20officials%20are%20the%20best%20at%20calling%20American%20football%20in%20the%20country.%20If%20they%20don%27t%20have%20BASIC%20Competence%20at%20the%20job%2C%20then%20nobody%20does.%3C/div%3E%60%29%5B0%5D%3B%0A%20%20%20%20%20%20%20%20%20%20%20%20popup_ce13482d71ce453bac72d16a418867f9.setContent%28html_31d6750837a145b7a2ccdcff9462c124%29%3B%0A%20%20%20%20%20%20%20%20%0A%0A%20%20%20%20%20%20%20%20marker_a4128849251a4ed49dc7d62155495ed7.bindPopup%28popup_ce13482d71ce453bac72d16a418867f9%29%0A%20%20%20%20%20%20%20%20%3B%0A%0A%20%20%20%20%20%20%20%20%0A%20%20%20%20%0A%20%20%20%20%0A%20%20%20%20%20%20%20%20%20%20%20%20var%20marker_f17811393ad54a5eb37957a7525f5c59%20%3D%20L.marker%28%0A%20%20%20%20%20%20%20%20%20%20%20%20%20%20%20%20%5B39.4018552%2C%20-76.602388%5D%2C%0A%20%20%20%20%20%20%20%20%20%20%20%20%20%20%20%20%7B%7D%0A%20%20%20%20%20%20%20%20%20%20%20%20%29.addTo%28map_528ef638ca0d4bbea325ece51136afde%29%3B%0A%20%20%20%20%20%20%20%20%0A%20%20%20%20%0A%20%20%20%20%20%20%20%20var%20popup_631c95fb02c64b5eae2487bfe8b6c445%20%3D%20L.popup%28%7B%22maxWidth%22%3A%20%22100%25%22%7D%29%3B%0A%0A%20%20%20%20%20%20%20%20%0A%20%20%20%20%20%20%20%20%20%20%20%20var%20html_712cf7fba83b4ead95c5c681c1107439%20%3D%20%24%28%60%3Cdiv%20id%3D%22html_712cf7fba83b4ead95c5c681c1107439%22%20style%3D%22width%3A%20100.0%25%3B%20height%3A%20100.0%25%3B%22%3EBaird_ToTheBone%3A%20think%20i%20will%20start%20with%20football%20and%20move%20my%20way%20to%20baseball%20them%20miscellanouus%20stuff%3C/div%3E%60%29%5B0%5D%3B%0A%20%20%20%20%20%20%20%20%20%20%20%20popup_631c95fb02c64b5eae2487bfe8b6c445.setContent%28html_712cf7fba83b4ead95c5c681c1107439%29%3B%0A%20%20%20%20%20%20%20%20%0A%0A%20%20%20%20%20%20%20%20marker_f17811393ad54a5eb37957a7525f5c59.bindPopup%28popup_631c95fb02c64b5eae2487bfe8b6c445%29%0A%20%20%20%20%20%20%20%20%3B%0A%0A%20%20%20%20%20%20%20%20%0A%20%20%20%20%0A%20%20%20%20%0A%20%20%20%20%20%20%20%20%20%20%20%20var%20marker_b889360f90824df2a7eb428cc3923b7b%20%3D%20L.marker%28%0A%20%20%20%20%20%20%20%20%20%20%20%20%20%20%20%20%5B30.3321838%2C%20-81.655651%5D%2C%0A%20%20%20%20%20%20%20%20%20%20%20%20%20%20%20%20%7B%7D%0A%20%20%20%20%20%20%20%20%20%20%20%20%29.addTo%28map_528ef638ca0d4bbea325ece51136afde%29%3B%0A%20%20%20%20%20%20%20%20%0A%20%20%20%20%0A%20%20%20%20%20%20%20%20var%20popup_5c9dce55802e4657b633b89e800b2fa6%20%3D%20L.popup%28%7B%22maxWidth%22%3A%20%22100%25%22%7D%29%3B%0A%0A%20%20%20%20%20%20%20%20%0A%20%20%20%20%20%20%20%20%20%20%20%20var%20html_3ab437ab9db74d6583b7f0c5ae9e6a97%20%3D%20%24%28%60%3Cdiv%20id%3D%22html_3ab437ab9db74d6583b7f0c5ae9e6a97%22%20style%3D%22width%3A%20100.0%25%3B%20height%3A%20100.0%25%3B%22%3EGatorDave_SEC%3A%20%40TDKRN88%20Fuente%20has%20an%20offensive%20background.%20No%20idea%20on%20Stricklin%2C%20but%20his%20situation%20could%20affect%20timeline%20of%20football%20decisions.%3C/div%3E%60%29%5B0%5D%3B%0A%20%20%20%20%20%20%20%20%20%20%20%20popup_5c9dce55802e4657b633b89e800b2fa6.setContent%28html_3ab437ab9db74d6583b7f0c5ae9e6a97%29%3B%0A%20%20%20%20%20%20%20%20%0A%0A%20%20%20%20%20%20%20%20marker_b889360f90824df2a7eb428cc3923b7b.bindPopup%28popup_5c9dce55802e4657b633b89e800b2fa6%29%0A%20%20%20%20%20%20%20%20%3B%0A%0A%20%20%20%20%20%20%20%20%0A%20%20%20%20%0A%20%20%20%20%0A%20%20%20%20%20%20%20%20%20%20%20%20var%20marker_d65381f191274b989e759166817c514a%20%3D%20L.marker%28%0A%20%20%20%20%20%20%20%20%20%20%20%20%20%20%20%20%5B37.2296566%2C%20-80.4136767%5D%2C%0A%20%20%20%20%20%20%20%20%20%20%20%20%20%20%20%20%7B%7D%0A%20%20%20%20%20%20%20%20%20%20%20%20%29.addTo%28map_528ef638ca0d4bbea325ece51136afde%29%3B%0A%20%20%20%20%20%20%20%20%0A%20%20%20%20%0A%20%20%20%20%20%20%20%20var%20popup_8c21456a61d14d6c9540aa4662f2415f%20%3D%20L.popup%28%7B%22maxWidth%22%3A%20%22100%25%22%7D%29%3B%0A%0A%20%20%20%20%20%20%20%20%0A%20%20%20%20%20%20%20%20%20%20%20%20var%20html_8b6b597c63b34a8e87ae22ffb25222d5%20%3D%20%24%28%60%3Cdiv%20id%3D%22html_8b6b597c63b34a8e87ae22ffb25222d5%22%20style%3D%22width%3A%20100.0%25%3B%20height%3A%20100.0%25%3B%22%3ECitarael%3A%20%40french60wasp%20I%E2%80%99d%20disagree%2C%20but%20I%E2%80%99m%20not%20going%20to%20argue%20about%20it.%20Going%20to%20be%20hopeful%20for%20the%20future%20of%20VT%20football.%3C/div%3E%60%29%5B0%5D%3B%0A%20%20%20%20%20%20%20%20%20%20%20%20popup_8c21456a61d14d6c9540aa4662f2415f.setContent%28html_8b6b597c63b34a8e87ae22ffb25222d5%29%3B%0A%20%20%20%20%20%20%20%20%0A%0A%20%20%20%20%20%20%20%20marker_d65381f191274b989e759166817c514a.bindPopup%28popup_8c21456a61d14d6c9540aa4662f2415f%29%0A%20%20%20%20%20%20%20%20%3B%0A%0A%20%20%20%20%20%20%20%20%0A%20%20%20%20%0A%20%20%20%20%0A%20%20%20%20%20%20%20%20%20%20%20%20var%20marker_caec87f3821e40c4b02cee1c25437483%20%3D%20L.marker%28%0A%20%20%20%20%20%20%20%20%20%20%20%20%20%20%20%20%5B53.3078742%2C%20-2.3720507%5D%2C%0A%20%20%20%20%20%20%20%20%20%20%20%20%20%20%20%20%7B%7D%0A%20%20%20%20%20%20%20%20%20%20%20%20%29.addTo%28map_528ef638ca0d4bbea325ece51136afde%29%3B%0A%20%20%20%20%20%20%20%20%0A%20%20%20%20%0A%20%20%20%20%20%20%20%20var%20popup_a428504efc884569be72ff725e56cd07%20%3D%20L.popup%28%7B%22maxWidth%22%3A%20%22100%25%22%7D%29%3B%0A%0A%20%20%20%20%20%20%20%20%0A%20%20%20%20%20%20%20%20%20%20%20%20var%20html_c384246b94ff4252a3562b2661ace27e%20%3D%20%24%28%60%3Cdiv%20id%3D%22html_c384246b94ff4252a3562b2661ace27e%22%20style%3D%22width%3A%20100.0%25%3B%20height%3A%20100.0%25%3B%22%3EKnutsfordNews%3A%20Here%27s%20what%20happened%20in%20this%20weekend%27s%20football%2C%20with%20%40FcEgerton%20and%20%40KnutsfordFC%20both%20in%20action%20%20https%3A//t.co/0tpPY3tCzM%3C/div%3E%60%29%5B0%5D%3B%0A%20%20%20%20%20%20%20%20%20%20%20%20popup_a428504efc884569be72ff725e56cd07.setContent%28html_c384246b94ff4252a3562b2661ace27e%29%3B%0A%20%20%20%20%20%20%20%20%0A%0A%20%20%20%20%20%20%20%20marker_caec87f3821e40c4b02cee1c25437483.bindPopup%28popup_a428504efc884569be72ff725e56cd07%29%0A%20%20%20%20%20%20%20%20%3B%0A%0A%20%20%20%20%20%20%20%20%0A%20%20%20%20%0A%20%20%20%20%0A%20%20%20%20%20%20%20%20%20%20%20%20var%20marker_4737cd2fa4884b4fb6ac74fa61119b59%20%3D%20L.marker%28%0A%20%20%20%20%20%20%20%20%20%20%20%20%20%20%20%20%5B44.6471761%2C%20-100.348761%5D%2C%0A%20%20%20%20%20%20%20%20%20%20%20%20%20%20%20%20%7B%7D%0A%20%20%20%20%20%20%20%20%20%20%20%20%29.addTo%28map_528ef638ca0d4bbea325ece51136afde%29%3B%0A%20%20%20%20%20%20%20%20%0A%20%20%20%20%0A%20%20%20%20%20%20%20%20var%20popup_3b75bb41142e4a5cb0110ced0a8b3a43%20%3D%20L.popup%28%7B%22maxWidth%22%3A%20%22100%25%22%7D%29%3B%0A%0A%20%20%20%20%20%20%20%20%0A%20%20%20%20%20%20%20%20%20%20%20%20var%20html_bac2fb8e883540439781ff1ff819445b%20%3D%20%24%28%60%3Cdiv%20id%3D%22html_bac2fb8e883540439781ff1ff819445b%22%20style%3D%22width%3A%20100.0%25%3B%20height%3A%20100.0%25%3B%22%3Edalen72%3A%20%40Jonathan_C_PDX%20Essentially%20we%20don%27t%20play%20that%20here%20in%20town.%20US%20Marshall%27s%20a%20few%20days%20after%20a%20reckless%20night%20woke%20the%20former%20H.%20School%20football%20star%20up%20across%20the%20line%20in%20Iowa%20w/a%20early%206am%20wake%20up%20call.%20He%20didn%27t%20think%20it%20was%20to%20funny%20then%20%26amp%3B%20local%20news%20went%20gangster%20on%20him%20after%20praising%20yr%20b4%21%3C/div%3E%60%29%5B0%5D%3B%0A%20%20%20%20%20%20%20%20%20%20%20%20popup_3b75bb41142e4a5cb0110ced0a8b3a43.setContent%28html_bac2fb8e883540439781ff1ff819445b%29%3B%0A%20%20%20%20%20%20%20%20%0A%0A%20%20%20%20%20%20%20%20marker_4737cd2fa4884b4fb6ac74fa61119b59.bindPopup%28popup_3b75bb41142e4a5cb0110ced0a8b3a43%29%0A%20%20%20%20%20%20%20%20%3B%0A%0A%20%20%20%20%20%20%20%20%0A%20%20%20%20%0A%20%20%20%20%0A%20%20%20%20%20%20%20%20%20%20%20%20var%20marker_475442f80c0e4dbfb0c3bf588c7c060c%20%3D%20L.marker%28%0A%20%20%20%20%20%20%20%20%20%20%20%20%20%20%20%20%5B32.3868607%2C%20-80.5606622%5D%2C%0A%20%20%20%20%20%20%20%20%20%20%20%20%20%20%20%20%7B%7D%0A%20%20%20%20%20%20%20%20%20%20%20%20%29.addTo%28map_528ef638ca0d4bbea325ece51136afde%29%3B%0A%20%20%20%20%20%20%20%20%0A%20%20%20%20%0A%20%20%20%20%20%20%20%20var%20popup_376be37b52204cb9b6f388421c0ad2fb%20%3D%20L.popup%28%7B%22maxWidth%22%3A%20%22100%25%22%7D%29%3B%0A%0A%20%20%20%20%20%20%20%20%0A%20%20%20%20%20%20%20%20%20%20%20%20var%20html_65894e2a11d0404cb2257a743cb56803%20%3D%20%24%28%60%3Cdiv%20id%3D%22html_65894e2a11d0404cb2257a743cb56803%22%20style%3D%22width%3A%20100.0%25%3B%20height%3A%20100.0%25%3B%22%3ETidePride8%3A%20%40CrushingOnSaban%20%40butchworley%20End%20all%20hunger%20and%20suffering%20forever.%20BUT...no%20more%20Tide%20football%20either.%3C/div%3E%60%29%5B0%5D%3B%0A%20%20%20%20%20%20%20%20%20%20%20%20popup_376be37b52204cb9b6f388421c0ad2fb.setContent%28html_65894e2a11d0404cb2257a743cb56803%29%3B%0A%20%20%20%20%20%20%20%20%0A%0A%20%20%20%20%20%20%20%20marker_475442f80c0e4dbfb0c3bf588c7c060c.bindPopup%28popup_376be37b52204cb9b6f388421c0ad2fb%29%0A%20%20%20%20%20%20%20%20%3B%0A%0A%20%20%20%20%20%20%20%20%0A%20%20%20%20%0A%20%20%20%20%0A%20%20%20%20%20%20%20%20%20%20%20%20var%20marker_5a6da3974fa74685aa77b5e5e84f0448%20%3D%20L.marker%28%0A%20%20%20%20%20%20%20%20%20%20%20%20%20%20%20%20%5B39.5162234%2C%20-76.9382069%5D%2C%0A%20%20%20%20%20%20%20%20%20%20%20%20%20%20%20%20%7B%7D%0A%20%20%20%20%20%20%20%20%20%20%20%20%29.addTo%28map_528ef638ca0d4bbea325ece51136afde%29%3B%0A%20%20%20%20%20%20%20%20%0A%20%20%20%20%0A%20%20%20%20%20%20%20%20var%20popup_feebaded480a4429b46ed5e2b302a09e%20%3D%20L.popup%28%7B%22maxWidth%22%3A%20%22100%25%22%7D%29%3B%0A%0A%20%20%20%20%20%20%20%20%0A%20%20%20%20%20%20%20%20%20%20%20%20var%20html_9b741a48f98c48b39992727d4562cde7%20%3D%20%24%28%60%3Cdiv%20id%3D%22html_9b741a48f98c48b39992727d4562cde7%22%20style%3D%22width%3A%20100.0%25%3B%20height%3A%20100.0%25%3B%22%3Ethehatedsource%3A%20Little%20j%20journalist%20At%20Men%27s%20Health%20Reports%20Britney%20Spears%20Boyfriend%20Played%20Football%20At%20Nebraska%2C%20Turns%20Out%20That%27s%20FAKE%20NEWS%21%20%7C%20Barstool%20Bets%20%E2%80%A6..%20LIES%20ALWAYS%20COME%20TO%20LIGHT%21%20%20%20%E2%81%A6%40caityweaver%E2%81%A9%20%E2%81%A6%40Knesix%E2%81%A9%20%23whoissamreally%20%23samasghari%20%23scamnotsorry%20%20https%3A//t.co/z1ASpJODwg%3C/div%3E%60%29%5B0%5D%3B%0A%20%20%20%20%20%20%20%20%20%20%20%20popup_feebaded480a4429b46ed5e2b302a09e.setContent%28html_9b741a48f98c48b39992727d4562cde7%29%3B%0A%20%20%20%20%20%20%20%20%0A%0A%20%20%20%20%20%20%20%20marker_5a6da3974fa74685aa77b5e5e84f0448.bindPopup%28popup_feebaded480a4429b46ed5e2b302a09e%29%0A%20%20%20%20%20%20%20%20%3B%0A%0A%20%20%20%20%20%20%20%20%0A%20%20%20%20%0A%20%20%20%20%0A%20%20%20%20%20%20%20%20%20%20%20%20var%20marker_07eaa45ce8d744b78abe4427b29fa0dc%20%3D%20L.marker%28%0A%20%20%20%20%20%20%20%20%20%20%20%20%20%20%20%20%5B52.9212617%2C%20-1.4761491%5D%2C%0A%20%20%20%20%20%20%20%20%20%20%20%20%20%20%20%20%7B%7D%0A%20%20%20%20%20%20%20%20%20%20%20%20%29.addTo%28map_528ef638ca0d4bbea325ece51136afde%29%3B%0A%20%20%20%20%20%20%20%20%0A%20%20%20%20%0A%20%20%20%20%20%20%20%20var%20popup_080fcedf04824130b0bda44e87acec29%20%3D%20L.popup%28%7B%22maxWidth%22%3A%20%22100%25%22%7D%29%3B%0A%0A%20%20%20%20%20%20%20%20%0A%20%20%20%20%20%20%20%20%20%20%20%20var%20html_79de2387d5cc47d8a47c04c3d485c72b%20%3D%20%24%28%60%3Cdiv%20id%3D%22html_79de2387d5cc47d8a47c04c3d485c72b%22%20style%3D%22width%3A%20100.0%25%3B%20height%3A%20100.0%25%3B%22%3EMalcSmith_16%3A%20%40ramsreview1%20Angry%20at%20MM%20and%20the%20EFL%20but%20does%20today%20mark%20the%20start%20of%20the%20greatest%20escape%20in%20football%20history%E2%80%A6Nothing%20to%20lose%20now%2C%20just%20go%20out%20and%20go%20for%20it%20%40dcfcofficial%3C/div%3E%60%29%5B0%5D%3B%0A%20%20%20%20%20%20%20%20%20%20%20%20popup_080fcedf04824130b0bda44e87acec29.setContent%28html_79de2387d5cc47d8a47c04c3d485c72b%29%3B%0A%20%20%20%20%20%20%20%20%0A%0A%20%20%20%20%20%20%20%20marker_07eaa45ce8d744b78abe4427b29fa0dc.bindPopup%28popup_080fcedf04824130b0bda44e87acec29%29%0A%20%20%20%20%20%20%20%20%3B%0A%0A%20%20%20%20%20%20%20%20%0A%20%20%20%20%0A%20%20%20%20%0A%20%20%20%20%20%20%20%20%20%20%20%20var%20marker_7475572495d64bdabaf35e7247eac26e%20%3D%20L.marker%28%0A%20%20%20%20%20%20%20%20%20%20%20%20%20%20%20%20%5B52.7954791%2C%20-0.540240286617432%5D%2C%0A%20%20%20%20%20%20%20%20%20%20%20%20%20%20%20%20%7B%7D%0A%20%20%20%20%20%20%20%20%20%20%20%20%29.addTo%28map_528ef638ca0d4bbea325ece51136afde%29%3B%0A%20%20%20%20%20%20%20%20%0A%20%20%20%20%0A%20%20%20%20%20%20%20%20var%20popup_ec43b4555f784fb685d76de5e4528912%20%3D%20L.popup%28%7B%22maxWidth%22%3A%20%22100%25%22%7D%29%3B%0A%0A%20%20%20%20%20%20%20%20%0A%20%20%20%20%20%20%20%20%20%20%20%20var%20html_2152beb21b33490b9e207c7ab01db00f%20%3D%20%24%28%60%3Cdiv%20id%3D%22html_2152beb21b33490b9e207c7ab01db00f%22%20style%3D%22width%3A%20100.0%25%3B%20height%3A%20100.0%25%3B%22%3EAFCGuvnor%3A%20Wow%20Cricket%20is%20wild%20%40timbresnan%20was%20accused%20of%20racism%20but%20still%20managed%20to%20go%20on%20a%20captain%20his%20club%20%26amp%3B%20country%2C%20whereas%20in%20football%20Terry%20was%20banned%20from%20the%20England%20team%20while%20a%20unbiased%20investigation%20was%20conducted%21%20%23rafiq%20%23Yorkshirecricket%20%23RacismIsNotBanter%20%23racismincricket%3C/div%3E%60%29%5B0%5D%3B%0A%20%20%20%20%20%20%20%20%20%20%20%20popup_ec43b4555f784fb685d76de5e4528912.setContent%28html_2152beb21b33490b9e207c7ab01db00f%29%3B%0A%20%20%20%20%20%20%20%20%0A%0A%20%20%20%20%20%20%20%20marker_7475572495d64bdabaf35e7247eac26e.bindPopup%28popup_ec43b4555f784fb685d76de5e4528912%29%0A%20%20%20%20%20%20%20%20%3B%0A%0A%20%20%20%20%20%20%20%20%0A%20%20%20%20%0A%20%20%20%20%0A%20%20%20%20%20%20%20%20%20%20%20%20var%20marker_426363cc85354681aff694fa2f99ef90%20%3D%20L.marker%28%0A%20%20%20%20%20%20%20%20%20%20%20%20%20%20%20%20%5B37.6193174%2C%20-77.3369627%5D%2C%0A%20%20%20%20%20%20%20%20%20%20%20%20%20%20%20%20%7B%7D%0A%20%20%20%20%20%20%20%20%20%20%20%20%29.addTo%28map_528ef638ca0d4bbea325ece51136afde%29%3B%0A%20%20%20%20%20%20%20%20%0A%20%20%20%20%0A%20%20%20%20%20%20%20%20var%20popup_aff68d87715645409c40f27713faaf8d%20%3D%20L.popup%28%7B%22maxWidth%22%3A%20%22100%25%22%7D%29%3B%0A%0A%20%20%20%20%20%20%20%20%0A%20%20%20%20%20%20%20%20%20%20%20%20var%20html_43d2ba8960364f67a62857643b80e989%20%3D%20%24%28%60%3Cdiv%20id%3D%22html_43d2ba8960364f67a62857643b80e989%22%20style%3D%22width%3A%20100.0%25%3B%20height%3A%20100.0%25%3B%22%3Efrench60wasp%3A%20%40riczwc%20I%20don%27t%20know%20enough%20behind%20the%20scenes%20to%20understand%20who%20is%20good%20at%20the%20CEO%20stuff%2C%20but%20X%27s%20and%20O%27s%20I%20like%20Mike%20Elko.%20Has%20produced%20good%20defenses%20at%20all%20levels%20and%20sells%20hard%20work%20pursuit%20football.%3C/div%3E%60%29%5B0%5D%3B%0A%20%20%20%20%20%20%20%20%20%20%20%20popup_aff68d87715645409c40f27713faaf8d.setContent%28html_43d2ba8960364f67a62857643b80e989%29%3B%0A%20%20%20%20%20%20%20%20%0A%0A%20%20%20%20%20%20%20%20marker_426363cc85354681aff694fa2f99ef90.bindPopup%28popup_aff68d87715645409c40f27713faaf8d%29%0A%20%20%20%20%20%20%20%20%3B%0A%0A%20%20%20%20%20%20%20%20%0A%20%20%20%20%0A%20%20%20%20%0A%20%20%20%20%20%20%20%20%20%20%20%20var%20marker_cb84b579fe0a47fe932d7fafa7b2937c%20%3D%20L.marker%28%0A%20%20%20%20%20%20%20%20%20%20%20%20%20%20%20%20%5B-20.1053948%2C%2028.5426856%5D%2C%0A%20%20%20%20%20%20%20%20%20%20%20%20%20%20%20%20%7B%7D%0A%20%20%20%20%20%20%20%20%20%20%20%20%29.addTo%28map_528ef638ca0d4bbea325ece51136afde%29%3B%0A%20%20%20%20%20%20%20%20%0A%20%20%20%20%0A%20%20%20%20%20%20%20%20var%20popup_09cb7d0dcc114754bf0bcc162bd3831c%20%3D%20L.popup%28%7B%22maxWidth%22%3A%20%22100%25%22%7D%29%3B%0A%0A%20%20%20%20%20%20%20%20%0A%20%20%20%20%20%20%20%20%20%20%20%20var%20html_9307f140081b49df9e0b3d1da728b963%20%3D%20%24%28%60%3Cdiv%20id%3D%22html_9307f140081b49df9e0b3d1da728b963%22%20style%3D%22width%3A%20100.0%25%3B%20height%3A%20100.0%25%3B%22%3ETheBMetro%3A%20Referees%20have%20snubbed%20Premier%20Soccer%20League%20matches%20across%20the%20country%20this%20afternoon.%20%20This%20could%20be%20as%20a%20result%20of%20the%20dissolution%20of%20the%20Zimbabwe%20Football%20Association%20board%20by%20SRC.%20%20More%20to%20follow......%20https%3A//t.co/2LWJL3UCRV%3C/div%3E%60%29%5B0%5D%3B%0A%20%20%20%20%20%20%20%20%20%20%20%20popup_09cb7d0dcc114754bf0bcc162bd3831c.setContent%28html_9307f140081b49df9e0b3d1da728b963%29%3B%0A%20%20%20%20%20%20%20%20%0A%0A%20%20%20%20%20%20%20%20marker_cb84b579fe0a47fe932d7fafa7b2937c.bindPopup%28popup_09cb7d0dcc114754bf0bcc162bd3831c%29%0A%20%20%20%20%20%20%20%20%3B%0A%0A%20%20%20%20%20%20%20%20%0A%20%20%20%20%0A%20%20%20%20%0A%20%20%20%20%20%20%20%20%20%20%20%20var%20marker_319886bb11f74549b8426f27f65bc740%20%3D%20L.marker%28%0A%20%20%20%20%20%20%20%20%20%20%20%20%20%20%20%20%5B40.0757384%2C%20-74.4041622%5D%2C%0A%20%20%20%20%20%20%20%20%20%20%20%20%20%20%20%20%7B%7D%0A%20%20%20%20%20%20%20%20%20%20%20%20%29.addTo%28map_528ef638ca0d4bbea325ece51136afde%29%3B%0A%20%20%20%20%20%20%20%20%0A%20%20%20%20%0A%20%20%20%20%20%20%20%20var%20popup_d8346973f3264e599b8b516d8b639750%20%3D%20L.popup%28%7B%22maxWidth%22%3A%20%22100%25%22%7D%29%3B%0A%0A%20%20%20%20%20%20%20%20%0A%20%20%20%20%20%20%20%20%20%20%20%20var%20html_7cd50e4cea4a456089964f947289e020%20%3D%20%24%28%60%3Cdiv%20id%3D%22html_7cd50e4cea4a456089964f947289e020%22%20style%3D%22width%3A%20100.0%25%3B%20height%3A%20100.0%25%3B%22%3Enorthjersey%3A%20We%27ve%20lost%20a%20beloved%20member%20of%20the%20North%20Jersey%20football%20community.%20Thinking%20of%20his%20family%2C%20friends%20and%20teammates%20today.%20%20%20RIP%2C%20Coach%20Gibbs%20%20https%3A//t.co/UnYpZe7Wtu%20https%3A//t.co/RkGFSV2Iov%3C/div%3E%60%29%5B0%5D%3B%0A%20%20%20%20%20%20%20%20%20%20%20%20popup_d8346973f3264e599b8b516d8b639750.setContent%28html_7cd50e4cea4a456089964f947289e020%29%3B%0A%20%20%20%20%20%20%20%20%0A%0A%20%20%20%20%20%20%20%20marker_319886bb11f74549b8426f27f65bc740.bindPopup%28popup_d8346973f3264e599b8b516d8b639750%29%0A%20%20%20%20%20%20%20%20%3B%0A%0A%20%20%20%20%20%20%20%20%0A%20%20%20%20%0A%20%20%20%20%0A%20%20%20%20%20%20%20%20%20%20%20%20var%20marker_50716deab3ef44a6a1ae5b1c29bf44c4%20%3D%20L.marker%28%0A%20%20%20%20%20%20%20%20%20%20%20%20%20%20%20%20%5B52.1656022%2C%204.4942592%5D%2C%0A%20%20%20%20%20%20%20%20%20%20%20%20%20%20%20%20%7B%7D%0A%20%20%20%20%20%20%20%20%20%20%20%20%29.addTo%28map_528ef638ca0d4bbea325ece51136afde%29%3B%0A%20%20%20%20%20%20%20%20%0A%20%20%20%20%0A%20%20%20%20%20%20%20%20var%20popup_5c915036374f4893834f2ac0ea6e9d64%20%3D%20L.popup%28%7B%22maxWidth%22%3A%20%22100%25%22%7D%29%3B%0A%0A%20%20%20%20%20%20%20%20%0A%20%20%20%20%20%20%20%20%20%20%20%20var%20html_7b5c63b454cb46d282b757faf25a5921%20%3D%20%24%28%60%3Cdiv%20id%3D%22html_7b5c63b454cb46d282b757faf25a5921%22%20style%3D%22width%3A%20100.0%25%3B%20height%3A%20100.0%25%3B%22%3EJoshW_G2%3A%20%40utdcynical%20Who%20needs%20a%20defensive%20midfield%20when%20we%27ve%20got%20one%20touch%20football%20man%3C/div%3E%60%29%5B0%5D%3B%0A%20%20%20%20%20%20%20%20%20%20%20%20popup_5c915036374f4893834f2ac0ea6e9d64.setContent%28html_7b5c63b454cb46d282b757faf25a5921%29%3B%0A%20%20%20%20%20%20%20%20%0A%0A%20%20%20%20%20%20%20%20marker_50716deab3ef44a6a1ae5b1c29bf44c4.bindPopup%28popup_5c915036374f4893834f2ac0ea6e9d64%29%0A%20%20%20%20%20%20%20%20%3B%0A%0A%20%20%20%20%20%20%20%20%0A%20%20%20%20%0A%20%20%20%20%0A%20%20%20%20%20%20%20%20%20%20%20%20var%20marker_68347d8e20ab41ef98802102fa554315%20%3D%20L.marker%28%0A%20%20%20%20%20%20%20%20%20%20%20%20%20%20%20%20%5B32.3293809%2C%20-83.1137366%5D%2C%0A%20%20%20%20%20%20%20%20%20%20%20%20%20%20%20%20%7B%7D%0A%20%20%20%20%20%20%20%20%20%20%20%20%29.addTo%28map_528ef638ca0d4bbea325ece51136afde%29%3B%0A%20%20%20%20%20%20%20%20%0A%20%20%20%20%0A%20%20%20%20%20%20%20%20var%20popup_4582535edc294cd78eef82678a653655%20%3D%20L.popup%28%7B%22maxWidth%22%3A%20%22100%25%22%7D%29%3B%0A%0A%20%20%20%20%20%20%20%20%0A%20%20%20%20%20%20%20%20%20%20%20%20var%20html_f689d61a218249ae9fdaea9a7f962db3%20%3D%20%24%28%60%3Cdiv%20id%3D%22html_f689d61a218249ae9fdaea9a7f962db3%22%20style%3D%22width%3A%20100.0%25%3B%20height%3A%20100.0%25%3B%22%3ECRYPTOSDRAGON9%3A%20Guys%20I%27m%20heading%20down%20to%20Athens%20Ga%20to%20talk%20%23SaitamaLLC%20with%20%40KirbySmartUGA%20%20an%20the%20UGA%20Football%20team.%20%23Saitama%20will%20change%20100%20peoples%20lives%20Saturday%20in%20Athens%2C%20with%20a%20goal%20of%20100%20new%20Holders..%20%23SaitamaGoals%3C/div%3E%60%29%5B0%5D%3B%0A%20%20%20%20%20%20%20%20%20%20%20%20popup_4582535edc294cd78eef82678a653655.setContent%28html_f689d61a218249ae9fdaea9a7f962db3%29%3B%0A%20%20%20%20%20%20%20%20%0A%0A%20%20%20%20%20%20%20%20marker_68347d8e20ab41ef98802102fa554315.bindPopup%28popup_4582535edc294cd78eef82678a653655%29%0A%20%20%20%20%20%20%20%20%3B%0A%0A%20%20%20%20%20%20%20%20%0A%20%20%20%20%0A%20%20%20%20%0A%20%20%20%20%20%20%20%20%20%20%20%20var%20marker_fb659902cfbd40ea9cb6aa82041f3c64%20%3D%20L.marker%28%0A%20%20%20%20%20%20%20%20%20%20%20%20%20%20%20%20%5B39.9523993%2C%20-75.1635899%5D%2C%0A%20%20%20%20%20%20%20%20%20%20%20%20%20%20%20%20%7B%7D%0A%20%20%20%20%20%20%20%20%20%20%20%20%29.addTo%28map_528ef638ca0d4bbea325ece51136afde%29%3B%0A%20%20%20%20%20%20%20%20%0A%20%20%20%20%0A%20%20%20%20%20%20%20%20var%20popup_f8c1a2e0212748db8751147571d7af84%20%3D%20L.popup%28%7B%22maxWidth%22%3A%20%22100%25%22%7D%29%3B%0A%0A%20%20%20%20%20%20%20%20%0A%20%20%20%20%20%20%20%20%20%20%20%20var%20html_1f6278268ea44b95a58e1d6915e150df%20%3D%20%24%28%60%3Cdiv%20id%3D%22html_1f6278268ea44b95a58e1d6915e150df%22%20style%3D%22width%3A%20100.0%25%3B%20height%3A%20100.0%25%3B%22%3EP5Milzy%3A%20A%20women%E2%80%99s%20national%20football%20league%20would%20be%20fire%3C/div%3E%60%29%5B0%5D%3B%0A%20%20%20%20%20%20%20%20%20%20%20%20popup_f8c1a2e0212748db8751147571d7af84.setContent%28html_1f6278268ea44b95a58e1d6915e150df%29%3B%0A%20%20%20%20%20%20%20%20%0A%0A%20%20%20%20%20%20%20%20marker_fb659902cfbd40ea9cb6aa82041f3c64.bindPopup%28popup_f8c1a2e0212748db8751147571d7af84%29%0A%20%20%20%20%20%20%20%20%3B%0A%0A%20%20%20%20%20%20%20%20%0A%20%20%20%20%0A%20%20%20%20%0A%20%20%20%20%20%20%20%20%20%20%20%20var%20marker_8b4aaa94ff974b61b9c0a256f3cd0839%20%3D%20L.marker%28%0A%20%20%20%20%20%20%20%20%20%20%20%20%20%20%20%20%5B-28.8166236%2C%2024.991639%5D%2C%0A%20%20%20%20%20%20%20%20%20%20%20%20%20%20%20%20%7B%7D%0A%20%20%20%20%20%20%20%20%20%20%20%20%29.addTo%28map_528ef638ca0d4bbea325ece51136afde%29%3B%0A%20%20%20%20%20%20%20%20%0A%20%20%20%20%0A%20%20%20%20%20%20%20%20var%20popup_1de6becfba904110b5cbf82ee4b775cb%20%3D%20L.popup%28%7B%22maxWidth%22%3A%20%22100%25%22%7D%29%3B%0A%0A%20%20%20%20%20%20%20%20%0A%20%20%20%20%20%20%20%20%20%20%20%20var%20html_18a2bfac7ff242eb84e904ed1fff907c%20%3D%20%24%28%60%3Cdiv%20id%3D%22html_18a2bfac7ff242eb84e904ed1fff907c%22%20style%3D%22width%3A%20100.0%25%3B%20height%3A%20100.0%25%3B%22%3EPanAfricology%3A%20South%20African%20do%20u%20know%20that%20as%20a%20teenage%20Jacob%20Zuma%2C%20played%20football%20on%20Robben%20Island%20as%20a%20defender%20in%20the%20Makana%20Football%20Association%20%28MFA%29%20league%20while%20ANC%20%26amp%3B%20PAC%20activists%20were%20imprisoned%20on%20that%20notorious%20Island.%20%23EFFPresser%20%23DeKlerk%20%23ANC%20%23BLM%20%23DeKlerkMemorialService%20%23EFF%20https%3A//t.co/BGx2wvbfm7%3C/div%3E%60%29%5B0%5D%3B%0A%20%20%20%20%20%20%20%20%20%20%20%20popup_1de6becfba904110b5cbf82ee4b775cb.setContent%28html_18a2bfac7ff242eb84e904ed1fff907c%29%3B%0A%20%20%20%20%20%20%20%20%0A%0A%20%20%20%20%20%20%20%20marker_8b4aaa94ff974b61b9c0a256f3cd0839.bindPopup%28popup_1de6becfba904110b5cbf82ee4b775cb%29%0A%20%20%20%20%20%20%20%20%3B%0A%0A%20%20%20%20%20%20%20%20%0A%20%20%20%20%0A%3C/script%3E onload=\"this.contentDocument.open();this.contentDocument.write(    decodeURIComponent(this.getAttribute('data-html')));this.contentDocument.close();\" allowfullscreen webkitallowfullscreen mozallowfullscreen></iframe></div></div>"
      ],
      "text/plain": [
       "<folium.folium.Map at 0x1ad782190>"
      ]
     },
     "execution_count": 60,
     "metadata": {},
     "output_type": "execute_result"
    }
   ],
   "source": [
    "usmap"
   ]
  },
  {
   "cell_type": "markdown",
   "metadata": {},
   "source": [
    "<!--\n",
    "#from IPython.display import IFrame\n",
    "#IFrame(src=\"./tweet_map.html\", width=800, height=450)\n",
    "-->"
   ]
  },
  {
   "cell_type": "markdown",
   "metadata": {},
   "source": [
    "<hr style=\"height:2px; border:none; color:#000; background-color:#000;\">"
   ]
  },
  {
   "cell_type": "markdown",
   "metadata": {},
   "source": [
    "## Utility Functions\n",
    "See the following for details: \n",
    "* [**Python Fundamentals LiveLessons video**](https://learning.oreilly.com/videos/python-fundamentals/9780135917411/9780135917411-PFLL_Lesson12_26) \n",
    "* [Sections 12.5.2-12.5.3 in **Python for Programmers**](https://learning.oreilly.com/library/view/python-for-programmers/9780135231364/ch12.xhtml#ch12lev2sec10)\n",
    "\n",
    "### `get_tweet_content` Utility Function (2 of 2)\n",
    "```python\n",
    "def get_tweet_content(tweet, location=False):\n",
    "    \"\"\"Return dictionary with data from tweet (a Status object).\"\"\"\n",
    "    fields = {}\n",
    "    fields['screen_name'] = tweet.user.screen_name\n",
    "\n",
    "    # get the tweet's text\n",
    "    try:  \n",
    "        fields['text'] = tweet.extended_tweet[\"full_text\"]\n",
    "    except: \n",
    "        fields['text'] = tweet.text\n",
    "\n",
    "    if location:\n",
    "        fields['location'] = tweet.user.location\n",
    "\n",
    "    return fields\n",
    "\n",
    "```"
   ]
  },
  {
   "cell_type": "markdown",
   "metadata": {},
   "source": [
    "<hr style=\"height:2px; border:none; color:#000; background-color:#000;\">"
   ]
  },
  {
   "cell_type": "markdown",
   "metadata": {},
   "source": [
    "### `get_geocodes` Utility Function (1 of 3)\n",
    "* Receives a **list of dictionaries** containing tweets and **geocodes their locations**\n",
    "* If **geocoding** is **successful** for a tweet, adds the **latitude** and **longitude** to the tweet’s **dictionary in `tweet_list`**\n",
    "* Requires class **`OpenMapQuest`** from the **geopy module**"
   ]
  },
  {
   "cell_type": "markdown",
   "metadata": {},
   "source": [
    "<hr style=\"height:2px; border:none; color:#000; background-color:#000;\">"
   ]
  },
  {
   "cell_type": "markdown",
   "metadata": {},
   "source": [
    "### `get_geocodes` Utility Function (2 of 3)\n",
    "```python\n",
    "from geopy import OpenMapQuest\n",
    "```\n",
    "\n",
    "```python\n",
    "def get_geocodes(tweet_list):\n",
    "    \"\"\"Get the latitude and longitude for each tweet's location.\n",
    "    Returns the number of tweets with invalid location data.\"\"\"\n",
    "    print('Getting coordinates for tweet locations...')\n",
    "    geo = OpenMapQuest(api_key=keys.mapquest_key)  # geocoder\n",
    "    bad_locations = 0  \n",
    "\n",
    "    for tweet in tweet_list:\n",
    "        processed = False\n",
    "        delay = .1  # used if OpenMapQuest times out to delay next call\n",
    "        while not processed:\n",
    "            try:  # get coordinates for tweet['location']\n",
    "                geo_location = geo.geocode(tweet['location'])\n",
    "                processed = True\n",
    "            except:  # timed out, so wait before trying again\n",
    "                print('OpenMapQuest service timed out. Waiting.')\n",
    "                time.sleep(delay)\n",
    "                delay += .1\n",
    "\n",
    "        if geo_location:  \n",
    "            tweet['latitude'] = geo_location.latitude\n",
    "            tweet['longitude'] = geo_location.longitude\n",
    "        else:  \n",
    "            bad_locations += 1  # tweet['location'] was invalid\n",
    "    \n",
    "    print('Done geocoding')\n",
    "    return bad_locations\n",
    "\n",
    "```"
   ]
  },
  {
   "cell_type": "markdown",
   "metadata": {},
   "source": [
    "<hr style=\"height:2px; border:none; color:#000; background-color:#000;\">"
   ]
  },
  {
   "cell_type": "markdown",
   "metadata": {},
   "source": [
    "## 12.15.3 Class `LocationListener`\n",
    "```python\n",
    "# locationlistener.py\n",
    "\"\"\"Receives tweets matching a search string and stores a list of\n",
    "dictionaries containing each tweet's screen_name/text/location.\"\"\"\n",
    "import tweepy\n",
    "from tweetutilities import get_tweet_content\n",
    "from IPython.display import clear_output\n",
    "\n",
    "class LocationListener(tweepy.StreamListener):\n",
    "    \"\"\"Handles incoming Tweet stream to get location data.\"\"\"\n",
    "```"
   ]
  },
  {
   "cell_type": "markdown",
   "metadata": {},
   "source": [
    "```python\n",
    "    def __init__(self, api, counts_dict, tweets_list, topic, limit=10):\n",
    "        \"\"\"Configure the LocationListener.\"\"\"\n",
    "        self.tweets_list = tweets_list\n",
    "        self.counts_dict = counts_dict\n",
    "        self.topic = topic\n",
    "        self.TWEET_LIMIT = limit\n",
    "        super().__init__(api)  # call superclass's init\n",
    "```"
   ]
  },
  {
   "cell_type": "markdown",
   "metadata": {},
   "source": [
    "```python\n",
    "    def on_status(self, status):\n",
    "        \"\"\"Called when Twitter pushes a new tweet to you.\"\"\"\n",
    "        # get each tweet's screen_name, text and location\n",
    "        tweet_data = get_tweet_content(status, location=True)  \n",
    "\n",
    "        # ignore retweets and tweets that do not contain the topic\n",
    "        if (tweet_data['text'].startswith('RT') or\n",
    "            self.topic.lower() not in tweet_data['text'].lower()):\n",
    "            return\n",
    "\n",
    "        self.counts_dict['total_tweets'] += 1  # original tweet\n",
    "\n",
    "        # ignore tweets with no location \n",
    "        if not status.user.location:  \n",
    "            return\n",
    "\n",
    "        self.counts_dict['locations'] += 1  # tweet with location\n",
    "        self.tweets_list.append(tweet_data)  # store the tweet\n",
    "        clear_output()\n",
    "        print(f'{status.user.screen_name}: {tweet_data[\"text\"]}\\n')\n",
    "        \n",
    "        # if TWEET_LIMIT is reached, return False to terminate streaming\n",
    "        return self.counts_dict['locations'] < self.TWEET_LIMIT\n",
    "\n",
    "```"
   ]
  },
  {
   "cell_type": "markdown",
   "metadata": {},
   "source": [
    "<hr style=\"height:2px; border:none; color:#000; background-color:#000;\">"
   ]
  },
  {
   "cell_type": "markdown",
   "metadata": {},
   "source": [
    "# More Info \n",
    "* See Lesson 12 in [**Python Fundamentals LiveLessons** here on O'Reilly Online Learning](https://learning.oreilly.com/videos/python-fundamentals/9780135917411)\n",
    "* See Chapter 12 in [**Python for Programmers** on O'Reilly Online Learning](https://learning.oreilly.com/library/view/python-for-programmers/9780135231364/)\n",
    "* See Chapter 13 in [**Intro Python for Computer Science and Data Science** on O'Reilly Online Learning](https://learning.oreilly.com/library/view/intro-to-python/9780135404799/)\n",
    "* Interested in a print book? Check out:\n",
    "\n",
    "| Python for Programmers<br>(640-page professional book) | Intro to Python for Computer<br>Science and Data Science<br>(880-page college textbook)\n",
    "| :------ | :------\n",
    "| <a href=\"https://amzn.to/2VvdnxE\"><img alt=\"Python for Programmers cover\" src=\"../images/PyFPCover.png\" width=\"150\" border=\"1\"/></a> | <a href=\"https://amzn.to/2LiDCmt\"><img alt=\"Intro to Python for Computer Science and Data Science: Learning to Program with AI, Big Data and the Cloud\" src=\"../images/IntroToPythonCover.png\" width=\"159\" border=\"1\"></a>\n",
    "\n",
    ">Please **do not** purchase both books&mdash;_Python for Programmers_ is a subset of _Intro to Python for Computer Science and Data Science_"
   ]
  },
  {
   "cell_type": "markdown",
   "metadata": {},
   "source": [
    "&copy; 2019 by Pearson Education, Inc. All Rights Reserved. The content in this notebook is based on the book [**Python for Programmers**](https://amzn.to/2VvdnxE)."
   ]
  }
 ],
 "metadata": {
  "kernelspec": {
   "display_name": "Python 3 (ipykernel)",
   "language": "python",
   "name": "python3"
  },
  "language_info": {
   "codemirror_mode": {
    "name": "ipython",
    "version": 3
   },
   "file_extension": ".py",
   "mimetype": "text/x-python",
   "name": "python",
   "nbconvert_exporter": "python",
   "pygments_lexer": "ipython3",
   "version": "3.9.7"
  }
 },
 "nbformat": 4,
 "nbformat_minor": 4
}
