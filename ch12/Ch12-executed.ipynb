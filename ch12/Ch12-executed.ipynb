{
 "cells": [
  {
   "cell_type": "markdown",
   "metadata": {},
   "source": [
    "&copy; 2019 by Pearson Education, Inc. All Rights Reserved. The content in this notebook is based on the book [**Python for Programmers**](https://amzn.to/2VvdnxE)."
   ]
  },
  {
   "cell_type": "code",
   "execution_count": 1,
   "metadata": {},
   "outputs": [],
   "source": [
    "# enable high-res images in notebook \n",
    "%config InlineBackend.figure_format = 'retina'"
   ]
  },
  {
   "cell_type": "markdown",
   "metadata": {},
   "source": [
    "# 12. Data Mining Twitter \n",
    "# Objectives\n",
    "* **Data-mine Twitter** with **Tweepy** library\n",
    "* Search **past tweets** with the **Twitter Search API**\n",
    "* Sample the **live tweet stream** with the **Twitter Streaming API**\n",
    "* Tweet object **meta data** \n",
    "* Use **NLP** to **clean and preprocess tweets** for analysis\n",
    "* Perform **sentiment analysis** on tweets\n",
    "* **Spot trends** with **Twitter’s Trends API**\n",
    "* **Map tweets** using **folium** and **OpenStreetMap**"
   ]
  },
  {
   "cell_type": "markdown",
   "metadata": {},
   "source": [
    "<hr style=\"height:2px; border:none; color:#000; background-color:#000;\">"
   ]
  },
  {
   "cell_type": "markdown",
   "metadata": {},
   "source": [
    "# 12.1 Introduction \n",
    "* Popular **big-data source**  \n",
    "* **Data mining** &mdash; searching large collections of data for **insights**\n",
    "* **Sentiment** in tweets can help **make predictions**  \n",
    "    * **Stock prices**\n",
    "    * **Election results**\n",
    "    * Likely **revenues** for a **new movie**\n",
    "    * **Success** of a company’s **marketing campaign**\n",
    "* Spot **faults in competitors’ products** \n",
    "* Spot **trending topics**\n",
    "* **Connect to Twitter** with easy-to-use **Web services**"
   ]
  },
  {
   "cell_type": "markdown",
   "metadata": {},
   "source": [
    "<hr style=\"height:2px; border:none; color:#000; background-color:#000;\">"
   ]
  },
  {
   "cell_type": "markdown",
   "metadata": {},
   "source": [
    "### What Is Twitter? \n",
    "* **Tweets**\n",
    "    * Short messages\n",
    "    * Initially limited to **140 characters**\n",
    "    * Increased in 2017 for most languages to **280 characters**\n",
    "* **Most open social network**&mdash;anyone can generally choose to follow anyone else\n",
    "* **Free programmatic access** to a small portion of **last 7 days' tweets**\n",
    "    * Can get **paid access** to larger portions the **all-time tweets database**\n",
    "* [**Hundreds of millions of tweets are sent every day** with many thousands sent per second](http://www.internetlivestats.com/twitter-statistics/)\n",
    "* Can tap into the **live stream** and get up to 1% of live tweets\n",
    "    * **Like “drinking from a fire hose”** "
   ]
  },
  {
   "cell_type": "markdown",
   "metadata": {},
   "source": [
    "<hr style=\"height:2px; border:none; color:#000; background-color:#000;\">"
   ]
  },
  {
   "cell_type": "markdown",
   "metadata": {},
   "source": [
    "# 12.2 Overview of the Twitter APIs \n",
    "* **Web services** are **methods** that you call in the **cloud**\n",
    "* Each **method** has a **web service endpoint** represented by a **URL**\n",
    "* **Caution**: **apps can be brittle**\n",
    "    * Internet connections can be lost, services can change, some services not available everywhere, ... \n",
    "* [Twitter API categories, subcategories and individual methods](https://developer.twitter.com/en/docs/api-reference-index.html)"
   ]
  },
  {
   "cell_type": "markdown",
   "metadata": {},
   "source": [
    "<hr style=\"height:2px; border:none; color:#000; background-color:#000;\">"
   ]
  },
  {
   "cell_type": "markdown",
   "metadata": {},
   "source": [
    "### Rate Limits and Restrictions\n",
    "* Twitter expects developers to **use its services responsibly**\n",
    "* **Understand rate limits** before using any method or you could get **blocked**\n",
    "* Some methods list both **user rate limits** and **app rate limits**\n",
    "    * We use **app rate limits** in the demos\n",
    "    * **User rate limits** for apps in which individuals to log into own Twitter accounts\n",
    "    * [Details on rate limiting](https://developer.twitter.com/en/docs/basics/rate-limiting)\n",
    "    * [Specific rate limits on individual API methods](https://developer.twitter.com/en/docs/basics/rate-limits) — also see each API method’s docs\n",
    "* **Follow Twitter’s rules/regulations or your developer account could be terminated.** \n",
    "\t* [Terms of Service](https://twitter.com/tos), [Developer Agreement](https://developer.twitter.com/en/developer-terms/agreement-and-policy.html), [Developer Policy](https://developer.twitter.com/en/developer-terms/policy.html), [Other restrictions](https://developer.twitter.com/en/developer-terms/more-on-restricted-use-cases)"
   ]
  },
  {
   "cell_type": "markdown",
   "metadata": {},
   "source": [
    "<hr style=\"height:2px; border:none; color:#000; background-color:#000;\">"
   ]
  },
  {
   "cell_type": "markdown",
   "metadata": {},
   "source": [
    "# 12.4 Getting Twitter Credentials—Creating an App \n",
    "* [Apply for a developer account](https://developer.twitter.com/en/apply-for-access) to use the APIs\n",
    "* Must get **credentials** to use Twitter APIs\n",
    "    * Part of the **OAuth 2.0 authentication process**\n",
    "    * **Tweepy handles OAuth 2.0 authentication details for you**\n",
    "* To get credentials, you’ll [**create an app**](https://developer.twitter.com) \n",
    "    * **Each app has separate credentials**\n",
    "    * I present **details on creating apps** in my [**Python Fundamentals LiveLessons videos for Section 12.4**](https://learning.oreilly.com/videos/python-fundamentals/9780135917411/9780135917411-PFLL_Lesson12_04) and [**Python for Programmers Section 12.4**](https://learning.oreilly.com/library/view/Python+for+Programmers,+First+Edition/9780135231364/ch12.xhtml#ch12lev1sec4)"
   ]
  },
  {
   "cell_type": "markdown",
   "metadata": {},
   "source": [
    "<hr style=\"height:2px; border:none; color:#000; background-color:#000;\">"
   ]
  },
  {
   "cell_type": "markdown",
   "metadata": {},
   "source": [
    "# 12.5 What’s in a Tweet? \n",
    "* Twitter API returns **JSON (JavaScript Object Notation)** objects\n",
    "* Text-based, human and computer readable\n",
    "* Like Python **dictionaries**\n",
    "* **JSON object format** &mdash; **all strings in double quotes (\")**\n",
    ">```python\n",
    "{propertyName1: value1, propertyName2: value2}\n",
    "```\n",
    "* **JSON array format (like Python list)**:\n",
    ">```python\n",
    "[value1, value2, value3]\n",
    "```\n",
    "* **Tweepy handles the JSON for you** behind the scenes"
   ]
  },
  {
   "cell_type": "markdown",
   "metadata": {},
   "source": [
    "<hr style=\"height:2px; border:none; color:#000; background-color:#000;\">"
   ]
  },
  {
   "cell_type": "markdown",
   "metadata": {},
   "source": [
    "### Key Properties of a Tweet Object \n",
    "* **Tweet object** contains **metadata**, including\n",
    "    * **text** of the tweet\n",
    "    * **extended tweet** for tweets up to **280 characters**\n",
    "\t* **when** it was created \n",
    "\t* **who** created it,\n",
    "\t* lists of **hashtags**, **URLs**, **`@`-mentions**, **images**, **videos** and more\n",
    "* [Our table of many key **tweet metadata attributes**](https://learning.oreilly.com/library/view/python-for-programmers/9780135231364/ch12.xhtml#ch12lev1sec5)\n",
    "* [Complete list of the tweet object attributes](https://developer.twitter.com/en/docs/tweets/data-dictionary/overview/tweet-object.html)\n",
    "* [General overview of all the JSON objects that Twitter APIs return, and links to the specific object details](https://developer.twitter.com/en/docs/tweets/data-dictionary/overview/intro-to-tweet-json)"
   ]
  },
  {
   "cell_type": "markdown",
   "metadata": {},
   "source": [
    "<hr style=\"height:2px; border:none; color:#000; background-color:#000;\">"
   ]
  },
  {
   "cell_type": "markdown",
   "metadata": {},
   "source": [
    "### Sample Tweet JSON\n",
    "* **Sample JSON** for this tweet from the **`@nasa`** account: \n",
    ">```\n",
    "@NoFear1075 Great question, Anthony! Throughout its seven-year \n",
    "mission, our Parker #SolarProbe spacecraft... https://t.co/xKd6ym8waT'\n",
    "```"
   ]
  },
  {
   "cell_type": "markdown",
   "metadata": {},
   "source": [
    "<hr style=\"height:2px; border:none; color:#000; background-color:#000;\">"
   ]
  },
  {
   "cell_type": "markdown",
   "metadata": {},
   "source": [
    "```python\n",
    "{'created_at': 'Wed Sep 05 18:19:34 +0000 2018',\n",
    " 'id': 1037404890354606082,\n",
    " 'id_str': '1037404890354606082',\n",
    " 'text': '@NoFear1075 Great question, Anthony! Throughout its seven-year \n",
    "          mission, our Parker #SolarProbe spacecraft… https://t.co/xKd6ym8waT',\n",
    " 'truncated': True,\n",
    " 'entities': {'hashtags': [{'text': 'SolarProbe', 'indices': [84, 95]}],\n",
    "    'symbols': [],\n",
    "    'user_mentions': [{'screen_name': 'NoFear1075',\n",
    "        'name': 'Anthony Perrone',\n",
    "        'id': 284339791,\n",
    "        'id_str': '284339791',\n",
    "        'indices': [0, 11]}],\n",
    "    'urls': [{'url': 'https://t.co/xKd6ym8waT',\n",
    "        'expanded_url': 'https://twitter.com/i/web/status/1037404890354606082',\n",
    "        'display_url': 'twitter.com/i/web/status/1…',\n",
    "        'indices': [117, 140]}]},\n",
    " 'source': '<a href=\"http://twitter.com\" rel=\"nofollow\">Twitter Web Client</a>',\n",
    "```"
   ]
  },
  {
   "cell_type": "markdown",
   "metadata": {},
   "source": [
    "```python\n",
    " 'in_reply_to_status_id': 1037390542424956928,\n",
    " 'in_reply_to_status_id_str': '1037390542424956928',\n",
    " 'in_reply_to_user_id': 284339791,\n",
    " 'in_reply_to_user_id_str': '284339791',\n",
    " 'in_reply_to_screen_name': 'NoFear1075',\n",
    " 'user': {'id': 11348282,\n",
    "    'id_str': '11348282',\n",
    "    'name': 'NASA',\n",
    "    'screen_name': 'NASA',\n",
    "    'location': '',\n",
    "    'description': 'Explore the universe and discover our home planet with \n",
    "            @NASA. We usually post in EST (UTC-5)',\n",
    "    'url': 'https://t.co/TcEE6NS8nD',\n",
    "    'entities': {'url': {'urls': [{'url': 'https://t.co/TcEE6NS8nD',\n",
    "            'expanded_url': 'http://www.nasa.gov',\n",
    "            'display_url': 'nasa.gov',\n",
    "            'indices': [0, 23]}]},\n",
    "    'description': {'urls': []}},\n",
    "    'protected': False,\n",
    "    'followers_count': 29486081,\n",
    "    'friends_count': 287,\n",
    "    'listed_count': 91928,\n",
    "    'created_at': 'Wed Dec 19 20:20:32 +0000 2007',\n",
    "    'favourites_count': 3963,\n",
    "    'time_zone': None,\n",
    "    'geo_enabled': False,\n",
    "    'verified': True,\n",
    "    'statuses_count': 53147,\n",
    "    'lang': 'en',\n",
    "```"
   ]
  },
  {
   "cell_type": "markdown",
   "metadata": {},
   "source": [
    "```python\n",
    "    'contributors_enabled': False,\n",
    "    'is_translator': False,\n",
    "    'is_translation_enabled': False,\n",
    "    'profile_background_color': '000000',\n",
    "    'profile_background_image_url': 'http://abs.twimg.com/images/themes/theme1/bg.png',\n",
    "    'profile_background_image_url_https': 'https://abs.twimg.com/images/themes/theme1/bg.png',\n",
    "    'profile_image_url': 'http://pbs.twimg.com/profile_images/188302352/nasalogo_twitter_normal.jpg',\n",
    "    'profile_image_url_https': 'https://pbs.twimg.com/profile_images/188302352/nasalogo_twitter_normal.jpg',\n",
    "    'profile_banner_url': 'https://pbs.twimg.com/profile_banners/11348282/1535145490',\n",
    "    'profile_link_color': '205BA7',\n",
    "    'profile_sidebar_border_color': '000000',\n",
    "    'profile_sidebar_fill_color': 'F3F2F2',\n",
    "    'profile_text_color': '000000',\n",
    "    'profile_use_background_image': True,\n",
    "    'has_extended_profile': True,\n",
    "    'default_profile': False,\n",
    "    'default_profile_image': False,\n",
    "    'following': True,\n",
    "    'follow_request_sent': False,\n",
    "    'notifications': False,\n",
    "    'translator_type': 'regular'},\n",
    " 'geo': None,\n",
    " 'coordinates': None,\n",
    " 'place': None,\n",
    " 'contributors': None,\n",
    " 'is_quote_status': False,\n",
    " 'retweet_count': 7,\n",
    " 'favorite_count': 19,\n",
    " 'favorited': False,\n",
    " 'retweeted': False,\n",
    " 'possibly_sensitive': False,\n",
    " 'lang': 'en'}\n",
    "\n",
    "```"
   ]
  },
  {
   "cell_type": "markdown",
   "metadata": {},
   "source": [
    "<hr style=\"height:2px; border:none; color:#000; background-color:#000;\">"
   ]
  },
  {
   "cell_type": "markdown",
   "metadata": {},
   "source": [
    "# 12.6 Tweepy\n",
    "* [**Tweepy library**](http://www.tweepy.org/)—**one of the most popular Python Twitter clients**\n",
    "> `pip install tweepy>=3.7`\n",
    "* Easy access to Twitter’s capabilities\n",
    "* [Tweepy’s documentation](http://docs.tweepy.org/en/latest/)\n",
    "* One function in `tweetutilities.py` file depends on [**geopy**](https://github.com/geopy/geopy) (used later to **plot tweet locations**)\n",
    ">`conda install -c conda-forge geopy`"
   ]
  },
  {
   "cell_type": "markdown",
   "metadata": {},
   "source": [
    "<hr style=\"height:2px; border:none; color:#000; background-color:#000;\">"
   ]
  },
  {
   "cell_type": "markdown",
   "metadata": {},
   "source": [
    "# 12.7 Authenticating with Twitter Via Tweepy\n",
    "* **Authentication API**—Authenticate with your **Twitter credentials** to use other Twitter APIs\n",
    "* **`keys.py`** must contain your credentials"
   ]
  },
  {
   "cell_type": "code",
   "execution_count": 2,
   "metadata": {},
   "outputs": [],
   "source": [
    "import tweepy"
   ]
  },
  {
   "cell_type": "code",
   "execution_count": 3,
   "metadata": {},
   "outputs": [],
   "source": [
    "import keys  "
   ]
  },
  {
   "cell_type": "code",
   "execution_count": 4,
   "metadata": {},
   "outputs": [],
   "source": [
    "auth = tweepy.OAuthHandler(keys.consumer_key,\n",
    "                           keys.consumer_secret)"
   ]
  },
  {
   "cell_type": "code",
   "execution_count": 5,
   "metadata": {},
   "outputs": [],
   "source": [
    "auth.set_access_token(keys.access_token,\n",
    "                      keys.access_token_secret)"
   ]
  },
  {
   "cell_type": "markdown",
   "metadata": {},
   "source": [
    "<hr style=\"height:2px; border:none; color:#000; background-color:#000;\">"
   ]
  },
  {
   "cell_type": "markdown",
   "metadata": {},
   "source": [
    "### Creating the Tweepy API Object\n",
    "* A **Tweepy `API` object** is your **gateway** to Twitter APIs"
   ]
  },
  {
   "cell_type": "code",
   "execution_count": 6,
   "metadata": {},
   "outputs": [],
   "source": [
    "api = tweepy.API(auth, wait_on_rate_limit=True, \n",
    "                 wait_on_rate_limit_notify=True)"
   ]
  },
  {
   "cell_type": "markdown",
   "metadata": {},
   "source": [
    "* **`auth`** is the **`OAuthHandler`**\n",
    "* **`wait_on_rate_limit=True`** &mdash; **wait 15 minutes** when app reaches an API method’s rate limit\n",
    "    * prevents violations\n",
    "* **`wait_on_rate_limit_notify=True`** &mdash; **display a command-line message** when you hit a rate limit"
   ]
  },
  {
   "cell_type": "markdown",
   "metadata": {},
   "source": [
    "<hr style=\"height:2px; border:none; color:#000; background-color:#000;\">"
   ]
  },
  {
   "cell_type": "markdown",
   "metadata": {},
   "source": [
    "# 12.8 Getting Information About a Twitter Account\n",
    "* **Accounts and Users API**—Access information about an account\n",
    "* `API` object’s **`get_user` method** returns a **`tweepy.models.User` object** for an account"
   ]
  },
  {
   "cell_type": "code",
   "execution_count": 7,
   "metadata": {},
   "outputs": [],
   "source": [
    "nasa = api.get_user('nasa')"
   ]
  },
  {
   "cell_type": "markdown",
   "metadata": {},
   "source": [
    "* Calls the **Twitter API’s [`users/show` method](https://developer.twitter.com/en/docs/accounts-and-users/follow-search-get-users/api-reference/get-users-show)**\n",
    "* **`tweepy.models` classes** correspond to returned **JSON objects**\n",
    "* **`User` class** corresponds to a Twitter [**user object**](https://developer.twitter.com/en/docs/tweets/data-dictionary/overview/user-object)\n",
    "* **`tweepy.models` classes** turn **JSON** into **Tweepy objects** "
   ]
  },
  {
   "cell_type": "markdown",
   "metadata": {},
   "source": [
    "<hr style=\"height:2px; border:none; color:#000; background-color:#000;\">"
   ]
  },
  {
   "cell_type": "markdown",
   "metadata": {},
   "source": [
    "### Getting Basic Account Information for `@nasa`\n",
    "* IDs and twitter handles can be used to **track tweets to, from and about users**"
   ]
  },
  {
   "cell_type": "code",
   "execution_count": 8,
   "metadata": {},
   "outputs": [
    {
     "data": {
      "text/plain": [
       "11348282"
      ]
     },
     "execution_count": 8,
     "metadata": {},
     "output_type": "execute_result"
    }
   ],
   "source": [
    "nasa.id  # account ID created when the user joined Twitter"
   ]
  },
  {
   "cell_type": "code",
   "execution_count": 9,
   "metadata": {},
   "outputs": [
    {
     "data": {
      "text/plain": [
       "'NASA'"
      ]
     },
     "execution_count": 9,
     "metadata": {},
     "output_type": "execute_result"
    }
   ],
   "source": [
    "nasa.screen_name  # user’s Twitter handle"
   ]
  },
  {
   "cell_type": "code",
   "execution_count": 10,
   "metadata": {},
   "outputs": [
    {
     "data": {
      "text/plain": [
       "\"There's space for everybody. ✨\""
      ]
     },
     "execution_count": 10,
     "metadata": {},
     "output_type": "execute_result"
    }
   ],
   "source": [
    "nasa.description  # description from the user’s profile"
   ]
  },
  {
   "cell_type": "markdown",
   "metadata": {},
   "source": [
    "* Lots of additional attributes, like `name`, `description`, `followers_count`, `friends_count`, etc."
   ]
  },
  {
   "cell_type": "markdown",
   "metadata": {},
   "source": [
    "<hr style=\"height:2px; border:none; color:#000; background-color:#000;\">"
   ]
  },
  {
   "cell_type": "markdown",
   "metadata": {},
   "source": [
    "### Getting `@nasa`'s Most Recent Status Update\n",
    "* `User` object’s **`status` property** returns a **`tweepy.models.Status`** object\n",
    "* Corresponds to a Twitter [**tweet object**](https://developer.twitter.com/en/docs/tweets/data-dictionary/overview/tweet-object)"
   ]
  },
  {
   "cell_type": "code",
   "execution_count": 11,
   "metadata": {},
   "outputs": [
    {
     "data": {
      "text/plain": [
       "'@LEGO_Group 🤩 This dynamic duo represent humanity’s greatest endeavor — the quest for knowledge. Discovery and… https://t.co/2MkdMb7sWe'"
      ]
     },
     "execution_count": 11,
     "metadata": {},
     "output_type": "execute_result"
    }
   ],
   "source": [
    "nasa.status.text  # most recent tweet's text"
   ]
  },
  {
   "cell_type": "markdown",
   "metadata": {},
   "source": [
    "* **...** indicates **truncated** tweet text\n",
    "* **`extended_tweet` property** for tweets between 141 and 280 characters (as of Nov. 2017) \n",
    "* **Retweeting** often results in truncation"
   ]
  },
  {
   "cell_type": "markdown",
   "metadata": {},
   "source": [
    "<hr style=\"height:2px; border:none; color:#000; background-color:#000;\">"
   ]
  },
  {
   "cell_type": "markdown",
   "metadata": {},
   "source": [
    "# 12.9 Introduction to Tweepy Cursors: Getting an Account’s Followers \n",
    "* Twitter API methods often return collections of objects \n",
    "    * E.g., list of tweets that match specified search criteria \n",
    "* Each method has **maximum number of items returned by one call**\n",
    "    * A **\"page\"** of results\n",
    "* **JSON responses** indicate whether there are **more pages**\n",
    "* A **`Cursor`** handles **paging** \n",
    "    * Invokes a method and **checks for more pages**\n",
    "    * If so, **calls the method again**  \n",
    "    * Continues until there are no more results to process\n",
    "    * If `API` object configured to **wait on rate limits**, **`Cursor`s wait as needed**\n",
    "* [Tweepy `Cursor` tutorial](http://docs.tweepy.org/en/latest/cursor_tutorial.html)"
   ]
  },
  {
   "cell_type": "markdown",
   "metadata": {},
   "source": [
    "<hr style=\"height:2px; border:none; color:#000; background-color:#000;\">"
   ]
  },
  {
   "cell_type": "markdown",
   "metadata": {},
   "source": [
    "## 12.9.1 Determining an Account’s Followers  Via the `API` object’s **`followers` Method**\n",
    "* Calls Twitter’s [**followers/list** method](https://developer.twitter.com/en/docs/accounts-and-users/follow-search-get-users/api-reference/get-followers-list.html)\n",
    "* Returns groups of 20 by default, but can request up to 200 \n",
    "* For demonstration purposes, we’ll grab 10 of NASA’s followers"
   ]
  },
  {
   "cell_type": "markdown",
   "metadata": {},
   "source": [
    "<hr style=\"height:2px; border:none; color:#000; background-color:#000;\">"
   ]
  },
  {
   "cell_type": "markdown",
   "metadata": {},
   "source": [
    "### Creating a Cursor That Will Call the `followers` Method for NASA’s account"
   ]
  },
  {
   "cell_type": "code",
   "execution_count": 12,
   "metadata": {},
   "outputs": [],
   "source": [
    "followers = []  # for storing followers' User objects"
   ]
  },
  {
   "cell_type": "code",
   "execution_count": 13,
   "metadata": {},
   "outputs": [],
   "source": [
    "cursor = tweepy.Cursor(api.followers, screen_name='nasa')"
   ]
  },
  {
   "cell_type": "markdown",
   "metadata": {},
   "source": [
    "* First argument is **name of Tweepy method to call**\n",
    "* Additional keyword arguments are passed to method named in first argument"
   ]
  },
  {
   "cell_type": "markdown",
   "metadata": {},
   "source": [
    "<hr style=\"height:2px; border:none; color:#000; background-color:#000;\">"
   ]
  },
  {
   "cell_type": "markdown",
   "metadata": {},
   "source": [
    "### Get Results from `Cursor` and Display in Ascending Alphabetical Order  \n",
    "* Cursor’s **`items` method** calls `api.followers` and returns the `follower`s method’s results"
   ]
  },
  {
   "cell_type": "code",
   "execution_count": 14,
   "metadata": {},
   "outputs": [
    {
     "name": "stderr",
     "output_type": "stream",
     "text": [
      "Rate limit reached. Sleeping for: 16\n"
     ]
    }
   ],
   "source": [
    "for account in cursor.items(100):  # request only 10 results\n",
    "    followers.append(account.screen_name)"
   ]
  },
  {
   "cell_type": "code",
   "execution_count": 15,
   "metadata": {},
   "outputs": [
    {
     "data": {
      "text/plain": [
       "['Dosmonos2',\n",
       " 'RaviKum37511788',\n",
       " 'JuniorAmadou2',\n",
       " 'bilguun81018712',\n",
       " 'AjalaruruAbdul1',\n",
       " 'TheOutbreakT',\n",
       " 'mohamed_nadere',\n",
       " 'EireenLps',\n",
       " 'RinkuKu10449706',\n",
       " 'skipo73989029',\n",
       " 'OBPipeboy',\n",
       " 'Isaac_Salazar7',\n",
       " 'Abu05668235',\n",
       " 'koray2234eren',\n",
       " 'IsabelPrezAlva1',\n",
       " 'RohitGa52483935',\n",
       " 'JaniceNovero',\n",
       " 'GraceEma4',\n",
       " 'RahulKu86509764',\n",
       " 'Ali3588Kashif',\n",
       " 'sohelma88736357',\n",
       " 'KayMehta5',\n",
       " 'LinaLin92245194',\n",
       " 'agc81715155',\n",
       " 'yeferso26336266',\n",
       " 'maurici45498624',\n",
       " 'BranislavMesaro',\n",
       " 'TimothyAraujo6',\n",
       " 'OsaMar00470003',\n",
       " 'JSupitchakarn',\n",
       " 'JessKiss17',\n",
       " 'AjEmttvkaVjf2cY',\n",
       " 'Alonso20579581',\n",
       " '07Jmin',\n",
       " 'DhanjalPritam',\n",
       " 'farazkhan34322',\n",
       " 'Dave_Rolfe',\n",
       " 'Dchit8',\n",
       " 'Karnata10235806',\n",
       " 'X4UK9syJFGDEM5M',\n",
       " 'kuldeep89693767',\n",
       " 'Beata47276370',\n",
       " 'MOHAMMADHUSIN5',\n",
       " 'AgMercy2',\n",
       " 'ral_tm',\n",
       " 'Annamd1769',\n",
       " 'HamzaJandy',\n",
       " 'zaidkhattab19',\n",
       " 'KEMED73272692',\n",
       " 'Kemal72716316',\n",
       " 'Rodrigo98203470',\n",
       " 'MarieAn85927723',\n",
       " 'gregon1976',\n",
       " 'CLTEC3',\n",
       " 'elisadeng2',\n",
       " 'Raymondkimutai',\n",
       " 'TZuBoFPXv64tW0D',\n",
       " 'cj50783036',\n",
       " 'rudraakshya',\n",
       " 'sweaterwearther',\n",
       " 'HabibArmani17',\n",
       " 'Nichana01104083',\n",
       " 'Khawla13400425',\n",
       " 'zhang43005232',\n",
       " 'DbrowKaan',\n",
       " 'DaniloPizarroM1',\n",
       " 'PrakashSasane13',\n",
       " 'JayBank74342290',\n",
       " 'ItsJagseer',\n",
       " 'qazi_tamoor',\n",
       " 'ahmadiqhin89',\n",
       " 'sxcakash',\n",
       " 'nldido',\n",
       " 'dave_zwart',\n",
       " 'chiu_vale',\n",
       " 'NafeesBinShahz1',\n",
       " 'keyby30843490',\n",
       " 'edward_msaki',\n",
       " 'valereyesg7',\n",
       " '002_armaan',\n",
       " 'BaseenKhan',\n",
       " 'Itspm6',\n",
       " 'YuangAjo',\n",
       " 'Emmy45851318',\n",
       " 'ATanjung20',\n",
       " 'MartinM90486760',\n",
       " 'DDantesca',\n",
       " 'Kerownik2',\n",
       " 'Dilip_Rock27',\n",
       " 'DimasMu92136612',\n",
       " 'Fernand18233294',\n",
       " 'ChotuGautam11',\n",
       " 'DitaGhisna',\n",
       " 'Xr32eUOTzzlQ1VS',\n",
       " 'Porping69232985',\n",
       " 'RiyaSin91007841',\n",
       " 'DebRoy73129555',\n",
       " 'Maximil66501199',\n",
       " 'JulioRe05013770',\n",
       " 'olakease47']"
      ]
     },
     "execution_count": 15,
     "metadata": {},
     "output_type": "execute_result"
    }
   ],
   "source": [
    "followers"
   ]
  },
  {
   "cell_type": "markdown",
   "metadata": {},
   "source": [
    "<hr style=\"height:2px; border:none; color:#000; background-color:#000;\">"
   ]
  },
  {
   "cell_type": "markdown",
   "metadata": {},
   "source": [
    "### Automatic Paging\n",
    "* To **get up to 200 followers at a time**, create the `Cursor` with the **`count`** keyword argument\n",
    ">```python\n",
    "cursor = tweepy.Cursor(api.followers, screen_name='nasa', count=200)\n",
    "```\n",
    "* Calling `Cursor` method **`items`** with no argument attempts to get **all followers**\n",
    "    * Could **take significant time** due to **rate limits**"
   ]
  },
  {
   "cell_type": "markdown",
   "metadata": {},
   "source": [
    "<hr style=\"height:2px; border:none; color:#000; background-color:#000;\">"
   ]
  },
  {
   "cell_type": "markdown",
   "metadata": {},
   "source": [
    "# 12.10 Searching Recent Tweets with Tweepy `API` method **`search`** \n",
    "* **Tweets API**—Search **past 7 days' tweets**, access **live tweet streams** and more\n",
    "* Returns tweets that **match a query string**\n",
    "* Only for the **previous seven days’ tweets**\n",
    "* **Not guaranteed to return all matching tweets**\n",
    "* Calls Twitter’s **`search/tweets` method**\n",
    "* Returns 15 tweets at a time by default, but can return up to 100"
   ]
  },
  {
   "cell_type": "markdown",
   "metadata": {},
   "source": [
    "<hr style=\"height:2px; border:none; color:#000; background-color:#000;\">"
   ]
  },
  {
   "cell_type": "markdown",
   "metadata": {},
   "source": [
    "### Utility Function `print_tweets` from `tweetutilities.py` "
   ]
  },
  {
   "cell_type": "code",
   "execution_count": 16,
   "metadata": {},
   "outputs": [],
   "source": [
    "from tweetutilities import print_tweets"
   ]
  },
  {
   "cell_type": "markdown",
   "metadata": {},
   "source": [
    "```python\n",
    "def print_tweets(tweets):\n",
    "    \"\"\"For each Tweepy Status object in tweets, display the \n",
    "    user's screen_name and tweet text. If the language is not\n",
    "    English, translate the text with TextBlob.\"\"\"\n",
    "    for tweet in tweets:\n",
    "        print(f'{tweet.screen_name}:', end=' ')\n",
    "    \n",
    "        if 'en' in tweet.lang:\n",
    "            print(f'{tweet.text}\\n')\n",
    "        elif 'und' not in tweet.lang:  # translate to English first\n",
    "            print(f'\\n  ORIGINAL: {tweet.text}')\n",
    "            print(f'TRANSLATED: {TextBlob(tweet.text).translate()}\\n')\n",
    "\n",
    "```"
   ]
  },
  {
   "cell_type": "markdown",
   "metadata": {},
   "source": [
    "<hr style=\"height:2px; border:none; color:#000; background-color:#000;\">"
   ]
  },
  {
   "cell_type": "markdown",
   "metadata": {},
   "source": [
    "### Searching for Specific Words\n",
    "* **`q` keyword argument** specifies the **query string**\n",
    "* Should use **`Cursor`** for more than max results"
   ]
  },
  {
   "cell_type": "code",
   "execution_count": 17,
   "metadata": {},
   "outputs": [],
   "source": [
    "tweets = api.search(q='football', count=10)"
   ]
  },
  {
   "cell_type": "code",
   "execution_count": 18,
   "metadata": {},
   "outputs": [
    {
     "name": "stdout",
     "output_type": "stream",
     "text": [
      "judenel27767858: @EuropaLeague For football betting fans\n",
      "\n",
      "Search for the channel \"LADSBROKE\" on TELEGRAM  and join winning team maki… https://t.co/eB67Z5070X\n",
      "\n",
      "TommyTankerz: Imagine if the College Football Playoff had major upsets because it had more than 4 teams 🤷🏻‍♂️\n",
      "\n",
      "ambulsiva: KyleTucker_ATH: RT @skhanjr: Some news: I'm back!\n",
      "\n",
      "Thrilled to announce I've joined @TheAthletic as a senior writer for college football. I'll serve as the…\n",
      "\n",
      "LivEchoEFC: Just three words were needed👌\n",
      "https://t.co/qcionTHQF9\n",
      "\n",
      "Football_LDN: It was sublime! 😍https://t.co/vVse6kMAO6\n",
      "\n",
      "OnzeLensois: \n",
      "  ORIGINAL: Lens renoue avec la victoire à Strasbourg (1-2) et peut définitivement croire à un destin européen\n",
      "#rclens #lens… https://t.co/q3eyqaldrm\n",
      "TRANSLATED: Lens returns to victory in Strasbourg (1-2) and can definitely believe in a European destiny\n",
      "#rclens # lens… https://t.co/q3eyqaldrm\n",
      "\n",
      "GazetteOnIowa: With no NFL Combine, Iowa pro day has an added emphasis for the Hawkeyes' draft hopefuls\n",
      "https://t.co/ssoyJvV4f3\n",
      "\n",
      "247Sports: Projecting Vegas win totals for every SEC team in 2021: https://t.co/am6j4YuJIr https://t.co/9PWNLYK2Zb\n",
      "\n",
      "chgg61: @simonday24 Probably the finest minute of football ever played. Magnificent.\n",
      "\n"
     ]
    }
   ],
   "source": [
    "print_tweets(tweets)"
   ]
  },
  {
   "cell_type": "markdown",
   "metadata": {},
   "source": [
    "<hr style=\"height:2px; border:none; color:#000; background-color:#000;\">"
   ]
  },
  {
   "cell_type": "markdown",
   "metadata": {},
   "source": [
    "### Searching with Twitter Search Operators (1 of 2)\n",
    "* Use **Twitter search operators** to refine search results\n",
    "* The following table shows several Twitter search operators. \n",
    "* [For all the operators, click the `operators` link here](https://twitter.com/search-home)\n",
    "* ```python\n",
    "tweets = api.search(q='from:nasa since:2019-11-15', count=3)\n",
    "```\n",
    "\n",
    "| Example&nbsp;&nbsp;&nbsp;&nbsp;&nbsp;&nbsp;&nbsp;&nbsp;&nbsp;&nbsp;&nbsp;&nbsp;&nbsp;&nbsp;&nbsp;&nbsp;&nbsp;&nbsp;&nbsp;&nbsp;&nbsp;&nbsp;&nbsp;&nbsp;&nbsp;&nbsp;&nbsp;&nbsp;&nbsp;&nbsp;&nbsp;&nbsp;&nbsp;&nbsp;&nbsp;&nbsp;&nbsp;&nbsp;\t| Finds tweets containing\n",
    "| :---\t| :---\n",
    "| `python twitter` \t| **Implicit _logical and_ operator**—Finds tweets containing `python` _and_ `twitter`.\n",
    "| `python OR twitter` \t| **Logical `OR` operator**—Finds tweets containing `python` or `twitter` or both.\n",
    "| `python ?` \t| **`?` (question mark)**—Finds tweets asking questions about `python`.\n",
    "| `planets -mars` \t| **`-` (minus sign)**—Finds tweets containing `planets` but not `mars`.\n",
    "| `python :)` \t| **`:)` (happy face)**—Finds **positive sentiment** tweets containing `python`.\n",
    "| `python :(` \t| **`:(` (sad face)**—Finds **negative sentiment** tweets containing `python`.\n",
    "| `since:2018-09-01` \t| **Finds tweets **on or after** the specified date**, which must be in the form **`YYYY-MM-DD`**.\n",
    "| `near:\"New York City\" `\t| **Finds tweets that were sent near `\"New York City\"`**.\n",
    "| `from:nasa` \t| **Finds tweets from the account `@nasa`**.\n",
    "| `to:nasa` \t| **Finds tweets to the account `@nasa`**."
   ]
  },
  {
   "cell_type": "markdown",
   "metadata": {},
   "source": [
    "<hr style=\"height:2px; border:none; color:#000; background-color:#000;\">"
   ]
  },
  {
   "cell_type": "markdown",
   "metadata": {},
   "source": [
    "# 12.11 Spotting Trends: Twitter Trends API\n",
    "* **“Going viral”** &mdash; thousands or millions of people tweeting at once \n",
    "* Twitter maintains a list of **trending topics** worldwide \n",
    "* **Twitter Trends API** can return lists of **trending-topic locations** and the **top 50 trending topics** for each **location**"
   ]
  },
  {
   "cell_type": "markdown",
   "metadata": {},
   "source": [
    "<hr style=\"height:2px; border:none; color:#000; background-color:#000;\">"
   ]
  },
  {
   "cell_type": "markdown",
   "metadata": {},
   "source": [
    "## 12.11.1 Places with Trending Topics \n",
    "* See how to find places with trending topics: https://learning.oreilly.com/videos/python-fundamentals/9780135917411/9780135917411-PFLL_Lesson12_15"
   ]
  },
  {
   "cell_type": "markdown",
   "metadata": {},
   "source": [
    "<hr style=\"height:2px; border:none; color:#000; background-color:#000;\">"
   ]
  },
  {
   "cell_type": "markdown",
   "metadata": {},
   "source": [
    "## 12.11.2 Getting a List of Trending Topics with the Tweepy `API`’s **`trends_place` Method** \n",
    "* Calls **Twitter Trends API’s [`trends/place` method](https://developer.twitter.com/en/docs/trends/trends-for-location/api-reference/get-trends-place)**\n",
    "* Returns top **50 trending topics for the location**\n",
    "* [Look up WOEIDs](http://www.woeidlookup.com) (**Yahoo! Where on Earth IDs**)\n",
    "* Look up WOEID’s programmatically using **Yahoo!’s web services** via [Python libraries like `woeid`](https://github.com/Ray-SunR/woeid)"
   ]
  },
  {
   "cell_type": "markdown",
   "metadata": {},
   "source": [
    "<hr style=\"height:2px; border:none; color:#000; background-color:#000;\">"
   ]
  },
  {
   "cell_type": "markdown",
   "metadata": {},
   "source": [
    "### Get Today's Worldwide Trending Topics (1 of 3)"
   ]
  },
  {
   "cell_type": "code",
   "execution_count": 19,
   "metadata": {},
   "outputs": [],
   "source": [
    "world_trends = api.trends_place(id=1)  # list containing one dictionary"
   ]
  },
  {
   "cell_type": "markdown",
   "metadata": {},
   "source": [
    "* **`'trends'` key** refers to a **list of dictionaries representing each trend**"
   ]
  },
  {
   "cell_type": "code",
   "execution_count": 20,
   "metadata": {},
   "outputs": [],
   "source": [
    "trends_list = world_trends[0]['trends']"
   ]
  },
  {
   "cell_type": "markdown",
   "metadata": {},
   "source": [
    "<hr style=\"height:2px; border:none; color:#000; background-color:#000;\">"
   ]
  },
  {
   "cell_type": "markdown",
   "metadata": {},
   "source": [
    "### Get Today's Worldwide Trending Topics (2 of 3)\n",
    "* Each trend has **`name`**, **`url`**, **`promoted_content`** (whether it's an **advertisement**), **`query`** and **`tweet_volume`** keys"
   ]
  },
  {
   "cell_type": "code",
   "execution_count": 21,
   "metadata": {},
   "outputs": [
    {
     "data": {
      "text/plain": [
       "{'name': 'プロフェッショナル',\n",
       " 'url': 'http://twitter.com/search?q=%E3%83%97%E3%83%AD%E3%83%95%E3%82%A7%E3%83%83%E3%82%B7%E3%83%A7%E3%83%8A%E3%83%AB',\n",
       " 'promoted_content': None,\n",
       " 'query': '%E3%83%97%E3%83%AD%E3%83%95%E3%82%A7%E3%83%83%E3%82%B7%E3%83%A7%E3%83%8A%E3%83%AB',\n",
       " 'tweet_volume': 283951}"
      ]
     },
     "execution_count": 21,
     "metadata": {},
     "output_type": "execute_result"
    }
   ],
   "source": [
    "trends_list[0]"
   ]
  },
  {
   "cell_type": "markdown",
   "metadata": {},
   "source": [
    "<hr style=\"height:2px; border:none; color:#000; background-color:#000;\">"
   ]
  },
  {
   "cell_type": "markdown",
   "metadata": {},
   "source": [
    "### Get Today's Worldwide Trending Topics (3 of 3)\n",
    "* For **trends with more than 10,000 tweets**, the **`tweet_volume`** is the **number of tweets**; otherwise, it’s `None`\n",
    "* Filter the list so that it contains only trends with more than 10,000 tweets:"
   ]
  },
  {
   "cell_type": "code",
   "execution_count": 22,
   "metadata": {},
   "outputs": [],
   "source": [
    "trends_list = [t for t in trends_list if t['tweet_volume']]"
   ]
  },
  {
   "cell_type": "code",
   "execution_count": 23,
   "metadata": {},
   "outputs": [],
   "source": [
    "from operator import itemgetter "
   ]
  },
  {
   "cell_type": "code",
   "execution_count": 24,
   "metadata": {},
   "outputs": [],
   "source": [
    "trends_list.sort(key=itemgetter('tweet_volume'), reverse=True) "
   ]
  },
  {
   "cell_type": "code",
   "execution_count": 25,
   "metadata": {},
   "outputs": [
    {
     "name": "stdout",
     "output_type": "stream",
     "text": [
      "#คั่นกูthemovie\n",
      "doyoung\n",
      "プロフェッショナル\n",
      "#2getherthemovie\n",
      "#WorldWaterDay\n",
      "#अंतिमपैगम्बर_संतरामपालजी\n",
      "#ArmyConfessionTime\n",
      "#NationalFilmAwards2019\n",
      "SIDHARTH AS AGASTYA RAO\n",
      "庵野監督\n",
      "SNMPTN\n",
      "National Award\n",
      "#MondayMotivation\n",
      "庵野さん\n",
      "Allah Kabir\n",
      "SKWELA NI ELLA\n",
      "Dewa Kipas\n",
      "#庵野秀明\n",
      "ガラテア\n",
      "#冒険少年\n",
      "KAT-TUN\n",
      "NHKスタッフ\n",
      "#監察医朝顔\n",
      "メモリ4GB\n",
      "スペック\n",
      "#TekÇareSeçim\n",
      "#DiaMundialDelAgua\n",
      "DONBELLE RAWRever\n",
      "Gabilondo\n",
      "神石5凸\n",
      "Xabi Alonso\n",
      "浦島坂田船\n",
      "オンラインライブ\n",
      "#乱数は絶対助かる\n",
      "ヴァルナ\n",
      "RESTOCK SANA PHOTOBOOK\n"
     ]
    }
   ],
   "source": [
    "for trend in trends_list:  # show top trending topics\n",
    "    print(trend['name'])"
   ]
  },
  {
   "cell_type": "markdown",
   "metadata": {},
   "source": [
    "<hr style=\"height:2px; border:none; color:#000; background-color:#000;\">"
   ]
  },
  {
   "cell_type": "markdown",
   "metadata": {},
   "source": [
    "# 12.12 Cleaning/Preprocessing Tweets for Analysis\n",
    "* **Data cleaning** is one of data scientists' most common tasks \n",
    "* Some **NLP tasks** for **normalizing tweets**\n",
    "    * Converting text to **same case**\n",
    "    * Removing **`#` from hashtags**, **`@`-mentions**, **duplicates**, **hashtags**\n",
    "    * Removing **excess whitespace**, **punctuation**, **stop words**, **URLs**\n",
    "    * Removing tweet keywords **`RT`** (retweet) and **`FAV`** (favorite) \n",
    "    * **Stemming** and **lemmatization**\n",
    "    * **Tokenization**"
   ]
  },
  {
   "cell_type": "markdown",
   "metadata": {},
   "source": [
    "<hr style=\"height:2px; border:none; color:#000; background-color:#000;\">"
   ]
  },
  {
   "cell_type": "markdown",
   "metadata": {},
   "source": [
    "### [**tweet-preprocessor**](https://github.com/s/preprocessor) Library and TextBlob Utility Functions\n",
    "* `pip install tweet-preprocessor`\n",
    "* Can automatically remove any combination of:\n",
    "\n",
    "| Option\t| Option constant\n",
    "| :---\t| :---\n",
    "| **`OPT.MENTION`** | @-Mentions (e.g., `@nasa`)\t\n",
    "| **`OPT.EMOJI`** | Emoji\t\n",
    "| **`OPT.HASHTAG`** | Hashtag (e.g., `#mars`)\t\n",
    "| **`OPT.NUMBER`** | Number\t\n",
    "| **`OPT.RESERVED`** | Reserved Words (`RT` and `FAV`)\t\n",
    "| **`OPT.SMILEY`** | Smiley\t\n",
    "| **`OPT.URL`** | URL\t"
   ]
  },
  {
   "cell_type": "markdown",
   "metadata": {},
   "source": [
    "<hr style=\"height:2px; border:none; color:#000; background-color:#000;\">"
   ]
  },
  {
   "cell_type": "markdown",
   "metadata": {},
   "source": [
    "### Cleaning a Tweet Containing a Reserved Word and a URL\n",
    "* The tweet-preprocessor library’s module name is **`preprocessor`** "
   ]
  },
  {
   "cell_type": "code",
   "execution_count": 26,
   "metadata": {},
   "outputs": [],
   "source": [
    "import preprocessor as p  # p recommended by docs"
   ]
  },
  {
   "cell_type": "code",
   "execution_count": 27,
   "metadata": {},
   "outputs": [],
   "source": [
    "p.set_options(p.OPT.URL, p.OPT.RESERVED)  # specify what to clean"
   ]
  },
  {
   "cell_type": "code",
   "execution_count": 28,
   "metadata": {},
   "outputs": [],
   "source": [
    "tweet_text = 'RT A sample retweet with a URL https://nasa.gov'"
   ]
  },
  {
   "cell_type": "code",
   "execution_count": 29,
   "metadata": {},
   "outputs": [
    {
     "data": {
      "text/plain": [
       "'A sample retweet with a URL'"
      ]
     },
     "execution_count": 29,
     "metadata": {},
     "output_type": "execute_result"
    }
   ],
   "source": [
    "p.clean(tweet_text)\n"
   ]
  },
  {
   "cell_type": "markdown",
   "metadata": {},
   "source": [
    "<hr style=\"height:2px; border:none; color:#000; background-color:#000;\">"
   ]
  },
  {
   "cell_type": "markdown",
   "metadata": {},
   "source": [
    "# 12.13 Twitter Streaming API\n",
    "* Streams **randomly selected** live tweets up to a **maximum of 1% of the tweets per day**\n",
    "* According to https://InternetLiveStats.com\n",
    "    * **~8500 tweets per second**\n",
    "    * Nearly **750 million tweets per day**\n",
    "* So Streaming API gives you **free access to approximately 7.5 million tweets/day**"
   ]
  },
  {
   "cell_type": "markdown",
   "metadata": {},
   "source": [
    "<hr style=\"height:2px; border:none; color:#000; background-color:#000;\">"
   ]
  },
  {
   "cell_type": "markdown",
   "metadata": {},
   "source": [
    "## 12.13.1 Creating a Subclass of `StreamListener` \n",
    "* A stream **pushes** tweets to your app via a **persistent connection** \n",
    "* **Streaming rate** varies tremendously, based on search criteria\n",
    "* Subclass of Tweepy’s **`StreamListener`** listens for tweets\n",
    "    * **Notified** when each **new tweet** or other **Twitter message** **arrives**\n",
    "    * Each message results in a call to a **`StreamListener` method**\n",
    "    * **Override** only the **methods you need**\n"
   ]
  },
  {
   "cell_type": "markdown",
   "metadata": {},
   "source": [
    "<hr style=\"height:2px; border:none; color:#000; background-color:#000;\">"
   ]
  },
  {
   "cell_type": "markdown",
   "metadata": {},
   "source": [
    "### `StreamListener` Methods\n",
    "* [`StreamListener` methods](https://github.com/tweepy/tweepy/blob/master/tweepy/streaming.py)  \n",
    "\n",
    "| Method&nbsp;&nbsp;&nbsp;&nbsp;&nbsp;&nbsp;&nbsp;&nbsp;&nbsp;&nbsp;&nbsp;&nbsp;&nbsp;&nbsp;&nbsp;&nbsp;&nbsp;&nbsp;&nbsp;&nbsp;&nbsp;&nbsp;&nbsp;&nbsp;&nbsp;&nbsp;&nbsp;&nbsp;&nbsp;&nbsp;&nbsp;&nbsp;&nbsp;&nbsp;&nbsp;&nbsp;&nbsp;&nbsp;&nbsp;&nbsp;&nbsp;&nbsp;&nbsp;&nbsp;&nbsp;&nbsp;&nbsp;&nbsp;&nbsp;&nbsp;&nbsp;&nbsp;&nbsp;&nbsp;&nbsp;&nbsp;&nbsp;&nbsp;| Called when...\n",
    "| :---\t| :---\n",
    "| **`on_connect(self)`** \t| App **successfully connects** to the Twitter stream. This is for statements that should execute only if your app is connected to the stream.\n",
    "| **`on_status(self, status)`** \t| A **tweet arrives**—**`status`** is a Tweepy **`Status`** object.\n",
    "| **`on_data(self, data)`** \t| A **tweet arrives**—**`data`** is the **raw JSON** of a Twitter status (tweet).\n",
    "| **`on_limit(self, track)`** \t| A **limit notice** arrives. This occurs if your search matches more tweets than Twitter can deliver based on its current streaming rate limits. In this case, the limit notice contains the number of matching tweets that could not be delivered.\n",
    "| **`on_error(self, status_code)`** \t| An **error code** arrives. \n",
    "| **`on_timeout(self)`** \t| The **connection times out**—that is, the Twitter server is not responding.\n",
    "| **`on_warning(self, notice)`** \t| **Twitter sends a disconnect warning** to indicate that the connection might be closed. For example, Twitter maintains a queue of the tweets it’s pushing to your app. If the app does not read the tweets fast enough, `on_warning`’s notice argument will contain a warning message indicating that the connection will terminate if the queue becomes full. "
   ]
  },
  {
   "cell_type": "markdown",
   "metadata": {},
   "source": [
    "<hr style=\"height:2px; border:none; color:#000; background-color:#000;\">"
   ]
  },
  {
   "cell_type": "markdown",
   "metadata": {},
   "source": [
    "### Class `TweetListener` Defined in `tweetlistener.py`\n",
    "```python  \n",
    "# tweetlistener.py\n",
    "\"\"\"tweepy.StreamListener subclass that processes tweets as they arrive.\"\"\"\n",
    "import tweepy\n",
    "from textblob import TextBlob\n",
    "\n",
    "class TweetListener(tweepy.StreamListener):\n",
    "    \"\"\"Handles incoming Tweet stream.\"\"\"\n",
    "```"
   ]
  },
  {
   "cell_type": "markdown",
   "metadata": {},
   "source": [
    "```python  \n",
    "    def __init__(self, api, limit=10):\n",
    "        \"\"\"Create instance variables for tracking number of tweets.\"\"\"\n",
    "        self.tweet_count = 0\n",
    "        self.TWEET_LIMIT = limit  # max number of tweets; None for no max\n",
    "        super().__init__(api)  # call superclass's init\n",
    "\n",
    "    def on_connect(self):\n",
    "        \"\"\"Called when your connection attempt is successful, enabling \n",
    "        you to perform appropriate application tasks at that point.\"\"\"\n",
    "        print('Connection successful\\n')\n",
    "```"
   ]
  },
  {
   "cell_type": "markdown",
   "metadata": {},
   "source": [
    "```python  \n",
    "    def on_status(self, status):\n",
    "        \"\"\"Called when Twitter pushes a new tweet to you.\"\"\"\n",
    "        # get the tweet text\n",
    "        try:  \n",
    "            tweet_text = status.extended_tweet[\"full_text\"]\n",
    "        except: \n",
    "            tweet_text = status.text\n",
    "\n",
    "        print(f'Screen name: {status.user.screen_name}:')\n",
    "        print(f'   Language: {status.lang}')\n",
    "        print(f'     Status: {tweet_text}')\n",
    "\n",
    "        if status.lang != 'en' and status.lang != 'und':\n",
    "            print(f' Translated: {TextBlob(tweet_text).translate()}')\n",
    "\n",
    "        print()\n",
    "        self.tweet_count += 1  # track number of tweets processed\n",
    "\n",
    "        # if TWEET_LIMIT is reached, return False to terminate streaming\n",
    "        return self.tweet_count < self.TWEET_LIMIT\n",
    "```"
   ]
  },
  {
   "cell_type": "markdown",
   "metadata": {},
   "source": [
    "<hr style=\"height:2px; border:none; color:#000; background-color:#000;\">"
   ]
  },
  {
   "cell_type": "markdown",
   "metadata": {},
   "source": [
    "## 12.13.2 Initiating Stream Processing\n",
    "\n",
    "### Creating a `TweetListener` Initializing It with the `api` Object"
   ]
  },
  {
   "cell_type": "code",
   "execution_count": 30,
   "metadata": {},
   "outputs": [],
   "source": [
    "from tweetlistener import TweetListener"
   ]
  },
  {
   "cell_type": "code",
   "execution_count": 31,
   "metadata": {},
   "outputs": [],
   "source": [
    "tweet_listener = TweetListener(api, limit=5)"
   ]
  },
  {
   "cell_type": "markdown",
   "metadata": {},
   "source": [
    "<hr style=\"height:2px; border:none; color:#000; background-color:#000;\">"
   ]
  },
  {
   "cell_type": "markdown",
   "metadata": {},
   "source": [
    "### Creating a Tweepy **`Stream`** Object to Manage the Connection to the Twitter Stream\n",
    "* Passes the messages to your `TweetListener` "
   ]
  },
  {
   "cell_type": "code",
   "execution_count": 32,
   "metadata": {},
   "outputs": [],
   "source": [
    "tweet_stream = tweepy.Stream(auth=api.auth, listener=tweet_listener)"
   ]
  },
  {
   "cell_type": "markdown",
   "metadata": {},
   "source": [
    "<hr style=\"height:2px; border:none; color:#000; background-color:#000;\">"
   ]
  },
  {
   "cell_type": "markdown",
   "metadata": {},
   "source": [
    "### Starting the Tweet Stream with the `Stream` Object’s **`filter` Method** \n",
    "* `track` parameter specifies a list of search terms\n",
    "* [Other `filter` method parameters](https://developer.twitter.com/en/docs/tweets/filter-realtime/guides/basic-stream-parameters) for refining your tweet searches\n",
    "* Streaming API returns full tweet **JSON objects** for tweets that match any of the terms, **not just in the tweet’s text, but also in @-mentions, hashtags, expanded URLs and other information**  \n",
    "* Might not see search terms in **tweets' text**"
   ]
  },
  {
   "cell_type": "code",
   "execution_count": 33,
   "metadata": {},
   "outputs": [
    {
     "name": "stdout",
     "output_type": "stream",
     "text": [
      "Connection successful\n",
      "\n",
      "Screen name: WolfOfFUTStreet:\n",
      "   Language: en\n",
      "     Status: Mean no disrespect to either profession\n",
      "\n",
      "Personally only watch Woman’s World Cup Football\n",
      "\n",
      "Screen name: chgg61:\n",
      "   Language: en\n",
      "     Status: @simonday24 Probably the finest minute of football ever played. Magnificent.\n",
      "\n",
      "Screen name: 247Sports:\n",
      "   Language: en\n",
      "     Status: Projecting Vegas win totals for every SEC team in 2021: https://t.co/am6j4YuJIr https://t.co/9PWNLYK2Zb\n",
      "\n",
      "Screen name: GazetteOnIowa:\n",
      "   Language: en\n",
      "     Status: With no NFL Combine, Iowa pro day has an added emphasis for the Hawkeyes' draft hopefuls\n",
      "https://t.co/ssoyJvV4f3\n",
      "\n",
      "Screen name: OnzeLensois:\n",
      "   Language: fr\n",
      "     Status: Lens renoue avec la victoire à Strasbourg (1-2) et peut définitivement croire à un destin européen\n",
      "#rclens #lens #TeamLens #RCSARCL #RCSA #foot #football #Ligue1 #Ligue1UberEats #HautsdeFrance\n",
      "https://t.co/h6FogF7w5I\n",
      " Translated: Lens returns to victory in Strasbourg (1-2) and can definitely believe in a European destiny\n",
      "#rclens #lens #TeamLens #RCSARCL #RCSA #foot #football # Ligue1 # Ligue1UberEats #HautsdeFrance\n",
      "https://t.co/h6FogF7w5I\n",
      "\n"
     ]
    }
   ],
   "source": [
    "tweet_stream.filter(track=['football'])  #, is_async=True) "
   ]
  },
  {
   "cell_type": "markdown",
   "metadata": {},
   "source": [
    "<hr style=\"height:2px; border:none; color:#000; background-color:#000;\">"
   ]
  },
  {
   "cell_type": "markdown",
   "metadata": {},
   "source": [
    "### **Lecture note: Run remaining cells now so we don't have to wait for streamed tweets later.**\n",
    "\n",
    "### Asynchronous vs. Synchronous Streams\n",
    "* **`is_async=True`** &mdash; would initiate an **asynchronous tweet stream** \n",
    "* Without `is_async=True`, the stream is **synchronous** and the next In [] prompt appears **after the stream terminates**    \n",
    "* in Jupyter, we used a **synchronous stream** ensure that all tweets display\n",
    "* In IPython, can terminate an asynchronous tweet stream early:  \n",
    ">`tweet_stream.running=False`    \n"
   ]
  },
  {
   "cell_type": "markdown",
   "metadata": {},
   "source": [
    "<hr style=\"height:2px; border:none; color:#000; background-color:#000;\">"
   ]
  },
  {
   "cell_type": "markdown",
   "metadata": {},
   "source": [
    "# 12.14 Tweet Sentiment Analysis \n",
    "* Political researchers might use to understand **how people are likely to vote**\n",
    "* Companies might use to see what people are saying about **their products** and **competitors’ products**\n",
    "* Script **`sentimentlistener.py`** checks **sentiment** on a specified topic for a specified number of tweets\n",
    "* The script in this example is substantially the same as the previous example, but uses TextBlob to check the sentiment of each tweet as we did in the NLP presentation"
   ]
  },
  {
   "cell_type": "code",
   "execution_count": 34,
   "metadata": {},
   "outputs": [
    {
     "name": "stdout",
     "output_type": "stream",
     "text": [
      "+ TommyTankerz: Imagine if the College Football Playoff had major upsets because it had more than 4 teams 🤷🏻‍♂️\n",
      "\n",
      "+ judenel27767858: @EuropaLeague For football betting fans Search for the channel \"LADSBROKE\" on TELEGRAM and join winning team making money through sports betting, the guy is good with punting odds, best tipster so far in football betting tips.\n",
      "\n",
      "+ walsallwanderer: @Garnet478 Lamar has the best Oline in football now as long as we keep Zeus\n",
      "\n",
      "  dduane: @ce_murphy Tell him that these are mountain sheep and they've got dark makeup on like football players so they can cope with the glare off the snow. :)\n",
      "\n",
      "+ cloudularnews: Premier League preview &amp; predictions: Gameweek 29 ----- #football #news #latest #rt\n",
      "\n",
      "+ Uchiha_Unmasked: i don’t think a college football tournament should be 68 teams but i’d love to see one that’s 16 or 32\n",
      "\n",
      "+ topfanscorner: 👉 $17.59 👈 Woodrow Guitar by Sports Vault NFL Cincinnati Bengals Drum Sticks @topfanscorner #Woodrow #Guitar #by #Sports #Vault #CincinnatiBengals #NFL #Football #NFLfans Hurry up to get it for the best price!\n",
      "\n",
      "  bookwormturns: @visslfc @Our_New_Future @lizziedearden Statistically (in modern UK, not wherever you want to go in history) that's true. Why so aggressive with your 'try agains'? I'm calling out racism-why aren't you. I'd call out this too: 'These white football coaches abused kids John's a football coach. Therefore he abuses kids.\n",
      "\n",
      "- TheLeckwithMole: I’ve read some bitterness from Jacks since Saturday’s game, but this article takes the biscuit. Steph Jones, dry those eyes. 🤣🤣 “Football lost today &amp; brute force won” 🤣🤣🤣🤣🤣🤣🤣🤣🤣🤣🤣\n",
      "\n",
      "+ judenel27767858: @Eapheat1 For football betting fans Search for the channel \"LADSBROKE\" on TELEGRAM and join winning team making money through sports betting, the guy is good with punting odds, best tipster so far in football betting tips.\n",
      "\n",
      "Tweet sentiment for \"football\"\n",
      "Positive: 7\n",
      " Neutral: 2\n",
      "Negative: 1\n"
     ]
    }
   ],
   "source": [
    "run sentimentlistener.py football 10"
   ]
  },
  {
   "cell_type": "markdown",
   "metadata": {},
   "source": [
    "<hr style=\"height:2px; border:none; color:#000; background-color:#000;\">"
   ]
  },
  {
   "cell_type": "markdown",
   "metadata": {},
   "source": [
    "# 12.15 Geocoding and Mapping\n",
    "* Collect **streaming tweets**, then **plot** their **locations** on an **interactive map**\n",
    "* **Twitter disables precise location info (latitude/longitude) by default** (users must opt in to allowing Twitter to track locations) \n",
    "* Large percentage include the user’s home location information\n",
    "    * Sometimes invalid or fictitious \n",
    "* **Map markers** will show `location` from each tweet’s `User` object"
   ]
  },
  {
   "cell_type": "markdown",
   "metadata": {},
   "source": [
    "<hr style=\"height:2px; border:none; color:#000; background-color:#000;\">"
   ]
  },
  {
   "cell_type": "markdown",
   "metadata": {},
   "source": [
    "### [**geopy** library](https://github.com/geopy/geopy)\n",
    "* **Geocoding**&mdash;translate locations into **latitude** and **longitude**\n",
    "* **geopy** supports dozens of **geocoding web services**, many with **free or lite tiers**\n",
    "* We’ll use **OpenMapQuest geocoding service** "
   ]
  },
  {
   "cell_type": "markdown",
   "metadata": {},
   "source": [
    "<hr style=\"height:2px; border:none; color:#000; background-color:#000;\">"
   ]
  },
  {
   "cell_type": "markdown",
   "metadata": {},
   "source": [
    "### OpenMapQuest Geocoding API (1 of 2)\n",
    "* Convert locations, such as **Boston, MA** into their **latitudes** and **longitudes**, such as **42.3602534** and **-71.0582912**, for plotting on maps\n",
    "* Currently allows **15,000 transactions per month** on their free tier\n",
    "* [Sign up](https://developer.mapquest.com/)\n",
    "* For a presentation of **signing up** and **getting your credentials**, see my [**Python Fundamentals LiveLessons video**](https://learning.oreilly.com/videos/python-fundamentals/9780135917411/9780135917411-PFLL_Lesson12_24) or the [**beginning of Section 12.15 in Python for Programmers**](https://learning.oreilly.com/library/view/python-for-programmers/9780135231364/ch12.xhtml#ch12lev1sec15)"
   ]
  },
  {
   "cell_type": "markdown",
   "metadata": {},
   "source": [
    "<hr style=\"height:2px; border:none; color:#000; background-color:#000;\">"
   ]
  },
  {
   "cell_type": "markdown",
   "metadata": {},
   "source": [
    "### [**folium library**](https://github.com/python-visualization/folium) and Leaflet.js JavaScript Mapping Library\n",
    "* Uses **Leaflet.js JavaScript mapping library** to display maps in a web page \n",
    "* Folium can output **HTML documents** for viewing in a **web browser**\n",
    "* `pip install folium`"
   ]
  },
  {
   "cell_type": "markdown",
   "metadata": {},
   "source": [
    "<hr style=\"height:2px; border:none; color:#000; background-color:#000;\">"
   ]
  },
  {
   "cell_type": "markdown",
   "metadata": {},
   "source": [
    "### Maps from OpenStreetMap.org\n",
    "By default, **Leaflet.js** uses **open source maps** from **`OpenStreetMap.org`**\n",
    "* To use these maps, **they require the following copyright notice**:\n",
    "\n",
    "> `Map data © OpenStreetMap contributors`\n",
    "\n",
    "* They also say: **You must make it clear that the data is available under the Open Database License. This can be achieved by providing a “License” or “Terms” link which links to https://www.openstreetmap.org/copyright or https://www.opendatacommons.org/licenses/odbl/index.html**"
   ]
  },
  {
   "cell_type": "markdown",
   "metadata": {},
   "source": [
    "<hr style=\"height:2px; border:none; color:#000; background-color:#000;\">"
   ]
  },
  {
   "cell_type": "markdown",
   "metadata": {},
   "source": [
    "### Collections Required By `LocationListener`\n",
    "* Requires two collections\n",
    "    * A **list (`tweets`)** to store the tweets we collect \n",
    "    * A **dictionary (`counts`)** to track the **total number of tweets** we collect and the **number that have location data**"
   ]
  },
  {
   "cell_type": "code",
   "execution_count": 35,
   "metadata": {},
   "outputs": [],
   "source": [
    "tweets = [] "
   ]
  },
  {
   "cell_type": "code",
   "execution_count": 36,
   "metadata": {},
   "outputs": [],
   "source": [
    "counts = {'total_tweets': 0, 'locations': 0}"
   ]
  },
  {
   "cell_type": "markdown",
   "metadata": {},
   "source": [
    "<hr style=\"height:2px; border:none; color:#000; background-color:#000;\">"
   ]
  },
  {
   "cell_type": "markdown",
   "metadata": {},
   "source": [
    "### Creating the LocationListener "
   ]
  },
  {
   "cell_type": "code",
   "execution_count": 37,
   "metadata": {},
   "outputs": [],
   "source": [
    "from locationlistener import LocationListener"
   ]
  },
  {
   "cell_type": "code",
   "execution_count": 38,
   "metadata": {},
   "outputs": [],
   "source": [
    "location_listener = LocationListener(api, counts_dict=counts, \n",
    "    tweets_list=tweets, topic='football', limit=50)"
   ]
  },
  {
   "cell_type": "markdown",
   "metadata": {},
   "source": [
    "* **`LocationListener`** uses our **utility function `get_tweet_content`** to place each tweets **screen name**, **tweet text** and **location** into a **dictionary**"
   ]
  },
  {
   "cell_type": "markdown",
   "metadata": {},
   "source": [
    "<hr style=\"height:2px; border:none; color:#000; background-color:#000;\">"
   ]
  },
  {
   "cell_type": "markdown",
   "metadata": {},
   "source": [
    "### Configure and Start the `Stream` of Tweets"
   ]
  },
  {
   "cell_type": "code",
   "execution_count": 39,
   "metadata": {},
   "outputs": [],
   "source": [
    "import tweepy"
   ]
  },
  {
   "cell_type": "code",
   "execution_count": 44,
   "metadata": {},
   "outputs": [],
   "source": [
    "stream = tweepy.Stream(auth=api.auth, listener=location_listener)"
   ]
  },
  {
   "cell_type": "code",
   "execution_count": 45,
   "metadata": {},
   "outputs": [
    {
     "name": "stdout",
     "output_type": "stream",
     "text": [
      "union1908: God, remember going to the football? https://t.co/vUjCyptReU\n",
      "\n"
     ]
    }
   ],
   "source": [
    "stream.filter(track=['football'], languages=['en'], is_async=False)"
   ]
  },
  {
   "cell_type": "markdown",
   "metadata": {},
   "source": [
    "<hr style=\"height:2px; border:none; color:#000; background-color:#000;\">"
   ]
  },
  {
   "cell_type": "markdown",
   "metadata": {},
   "source": [
    "### Displaying the Location Statistics "
   ]
  },
  {
   "cell_type": "code",
   "execution_count": 46,
   "metadata": {},
   "outputs": [
    {
     "data": {
      "text/plain": [
       "83"
      ]
     },
     "execution_count": 46,
     "metadata": {},
     "output_type": "execute_result"
    }
   ],
   "source": [
    "counts['total_tweets']"
   ]
  },
  {
   "cell_type": "code",
   "execution_count": 47,
   "metadata": {},
   "outputs": [
    {
     "data": {
      "text/plain": [
       "50"
      ]
     },
     "execution_count": 47,
     "metadata": {},
     "output_type": "execute_result"
    }
   ],
   "source": [
    "counts['locations']"
   ]
  },
  {
   "cell_type": "code",
   "execution_count": 48,
   "metadata": {},
   "outputs": [
    {
     "name": "stdout",
     "output_type": "stream",
     "text": [
      "60.2%\n"
     ]
    }
   ],
   "source": [
    "print(f'{counts[\"locations\"] / counts[\"total_tweets\"]:.1%}')"
   ]
  },
  {
   "cell_type": "markdown",
   "metadata": {},
   "source": [
    "<hr style=\"height:2px; border:none; color:#000; background-color:#000;\">"
   ]
  },
  {
   "cell_type": "markdown",
   "metadata": {},
   "source": [
    "### Geocoding the Locations with Our `get_geocodes` Utility Function \n",
    "* **OpenMapQuest** geocoding service **times out** when it **cannot handle your request immediately**\n",
    "* If so, **`get_geocodes`** **notifies** you, **waits**, then **retries** the request"
   ]
  },
  {
   "cell_type": "code",
   "execution_count": 49,
   "metadata": {},
   "outputs": [],
   "source": [
    "from tweetutilities import get_geocodes"
   ]
  },
  {
   "cell_type": "code",
   "execution_count": 50,
   "metadata": {},
   "outputs": [
    {
     "name": "stdout",
     "output_type": "stream",
     "text": [
      "Getting coordinates for tweet locations...\n",
      "Done geocoding\n"
     ]
    }
   ],
   "source": [
    "bad_locations = get_geocodes(tweets)"
   ]
  },
  {
   "cell_type": "markdown",
   "metadata": {},
   "source": [
    "<hr style=\"height:2px; border:none; color:#000; background-color:#000;\">"
   ]
  },
  {
   "cell_type": "markdown",
   "metadata": {},
   "source": [
    "### Displaying the Bad Location Statistics"
   ]
  },
  {
   "cell_type": "code",
   "execution_count": 51,
   "metadata": {},
   "outputs": [
    {
     "data": {
      "text/plain": [
       "6"
      ]
     },
     "execution_count": 51,
     "metadata": {},
     "output_type": "execute_result"
    }
   ],
   "source": [
    "bad_locations"
   ]
  },
  {
   "cell_type": "code",
   "execution_count": 52,
   "metadata": {},
   "outputs": [
    {
     "name": "stdout",
     "output_type": "stream",
     "text": [
      "12.0%\n"
     ]
    }
   ],
   "source": [
    "print(f'{bad_locations / counts[\"locations\"]:.1%}')"
   ]
  },
  {
   "cell_type": "markdown",
   "metadata": {},
   "source": [
    "<hr style=\"height:2px; border:none; color:#000; background-color:#000;\">"
   ]
  },
  {
   "cell_type": "markdown",
   "metadata": {},
   "source": [
    "### Cleaning the Data with a pandas `DataFrame` Before Displaying the Data on a Map\n",
    "* `DataFrame` will contain **`NaN`** for the **`latitude`** and **`longitude`** of any tweet that **did not have a valid location**\n",
    "* Remove any such via `DataFrame`’s **`dropna` method** "
   ]
  },
  {
   "cell_type": "code",
   "execution_count": 53,
   "metadata": {},
   "outputs": [],
   "source": [
    "import pandas as pd"
   ]
  },
  {
   "cell_type": "code",
   "execution_count": 54,
   "metadata": {},
   "outputs": [],
   "source": [
    "df = pd.DataFrame(tweets)"
   ]
  },
  {
   "cell_type": "code",
   "execution_count": 55,
   "metadata": {},
   "outputs": [
    {
     "data": {
      "text/html": [
       "<div>\n",
       "<style scoped>\n",
       "    .dataframe tbody tr th:only-of-type {\n",
       "        vertical-align: middle;\n",
       "    }\n",
       "\n",
       "    .dataframe tbody tr th {\n",
       "        vertical-align: top;\n",
       "    }\n",
       "\n",
       "    .dataframe thead th {\n",
       "        text-align: right;\n",
       "    }\n",
       "</style>\n",
       "<table border=\"1\" class=\"dataframe\">\n",
       "  <thead>\n",
       "    <tr style=\"text-align: right;\">\n",
       "      <th></th>\n",
       "      <th>screen_name</th>\n",
       "      <th>text</th>\n",
       "      <th>location</th>\n",
       "      <th>latitude</th>\n",
       "      <th>longitude</th>\n",
       "    </tr>\n",
       "  </thead>\n",
       "  <tbody>\n",
       "    <tr>\n",
       "      <th>0</th>\n",
       "      <td>idb1969</td>\n",
       "      <td>@Celebs4indy 😂😂😂😂😂😂 GIRFUY &amp;amp; your politica...</td>\n",
       "      <td>United Kingdom</td>\n",
       "      <td>25.223228</td>\n",
       "      <td>55.159493</td>\n",
       "    </tr>\n",
       "    <tr>\n",
       "      <th>1</th>\n",
       "      <td>TomMassetti</td>\n",
       "      <td>@KendrickPerkins This has gone on for years. 2...</td>\n",
       "      <td>Ormond-by-the-Sea, FL</td>\n",
       "      <td>29.349145</td>\n",
       "      <td>-81.066446</td>\n",
       "    </tr>\n",
       "    <tr>\n",
       "      <th>2</th>\n",
       "      <td>pff_seth</td>\n",
       "      <td>Changes happen so fast in football these days ...</td>\n",
       "      <td>Montréal, Québec</td>\n",
       "      <td>45.497216</td>\n",
       "      <td>-73.610364</td>\n",
       "    </tr>\n",
       "    <tr>\n",
       "      <th>3</th>\n",
       "      <td>evins_jeremy</td>\n",
       "      <td>@8Egan 6’0 173 lbs \\nPlays everywhere on the f...</td>\n",
       "      <td>Meridian, MS</td>\n",
       "      <td>32.364310</td>\n",
       "      <td>-88.703656</td>\n",
       "    </tr>\n",
       "    <tr>\n",
       "      <th>4</th>\n",
       "      <td>VivaLaPatriots</td>\n",
       "      <td>@MikeReiss @billbarnwell Easy to criticize fro...</td>\n",
       "      <td>Title Town USA</td>\n",
       "      <td>32.386625</td>\n",
       "      <td>-96.847286</td>\n",
       "    </tr>\n",
       "    <tr>\n",
       "      <th>5</th>\n",
       "      <td>NotTaiumz</td>\n",
       "      <td>@MagicalFati @rmczach Also that was the peak o...</td>\n",
       "      <td>لبنان</td>\n",
       "      <td>33.875063</td>\n",
       "      <td>35.843409</td>\n",
       "    </tr>\n",
       "    <tr>\n",
       "      <th>6</th>\n",
       "      <td>kathy_flanagan</td>\n",
       "      <td>@garysetchell Well said, Gary! I am sick of th...</td>\n",
       "      <td>Stockton on Tees, England</td>\n",
       "      <td>54.564094</td>\n",
       "      <td>-1.312916</td>\n",
       "    </tr>\n",
       "    <tr>\n",
       "      <th>7</th>\n",
       "      <td>evins_jeremy</td>\n",
       "      <td>@CoachMattB_ 6’0 173 lbs \\nPlays everywhere on...</td>\n",
       "      <td>Meridian, MS</td>\n",
       "      <td>32.364310</td>\n",
       "      <td>-88.703656</td>\n",
       "    </tr>\n",
       "    <tr>\n",
       "      <th>8</th>\n",
       "      <td>AngeRob78</td>\n",
       "      <td>So good to get the kids back to organised foot...</td>\n",
       "      <td>Scotland, United Kingdom</td>\n",
       "      <td>56.786111</td>\n",
       "      <td>-4.114052</td>\n",
       "    </tr>\n",
       "    <tr>\n",
       "      <th>9</th>\n",
       "      <td>technicianFC</td>\n",
       "      <td>These names are used quite often in Italian fo...</td>\n",
       "      <td>London, England</td>\n",
       "      <td>51.507322</td>\n",
       "      <td>-0.127647</td>\n",
       "    </tr>\n",
       "    <tr>\n",
       "      <th>10</th>\n",
       "      <td>Maikelliosis</td>\n",
       "      <td>Fitz is a slightly better vince carter of foot...</td>\n",
       "      <td>elvy</td>\n",
       "      <td>49.544984</td>\n",
       "      <td>18.097962</td>\n",
       "    </tr>\n",
       "    <tr>\n",
       "      <th>11</th>\n",
       "      <td>inspireajen</td>\n",
       "      <td>(in women's football, I mean)</td>\n",
       "      <td>London, by way of Essex</td>\n",
       "      <td>NaN</td>\n",
       "      <td>NaN</td>\n",
       "    </tr>\n",
       "    <tr>\n",
       "      <th>12</th>\n",
       "      <td>southwestposh</td>\n",
       "      <td>What a find on e bay £1-85, my first away game...</td>\n",
       "      <td>Chippenham, England</td>\n",
       "      <td>51.458762</td>\n",
       "      <td>-2.115903</td>\n",
       "    </tr>\n",
       "    <tr>\n",
       "      <th>13</th>\n",
       "      <td>sunrainsunrain</td>\n",
       "      <td>A high school football team told adults they w...</td>\n",
       "      <td>Manahoac land</td>\n",
       "      <td>NaN</td>\n",
       "      <td>NaN</td>\n",
       "    </tr>\n",
       "    <tr>\n",
       "      <th>14</th>\n",
       "      <td>Tshepo_SS</td>\n",
       "      <td>@UncappedGuluva If George can still play footb...</td>\n",
       "      <td>West Rand</td>\n",
       "      <td>43.355871</td>\n",
       "      <td>42.429736</td>\n",
       "    </tr>\n",
       "    <tr>\n",
       "      <th>15</th>\n",
       "      <td>Kinetic_Coach</td>\n",
       "      <td>Women’s football is one of the fastest growing...</td>\n",
       "      <td>London, UK</td>\n",
       "      <td>51.507322</td>\n",
       "      <td>-0.127647</td>\n",
       "    </tr>\n",
       "    <tr>\n",
       "      <th>16</th>\n",
       "      <td>ChuckCanning</td>\n",
       "      <td>@BearBoards_ With you 100%. When players move ...</td>\n",
       "      <td>Naperville, IL</td>\n",
       "      <td>41.772866</td>\n",
       "      <td>-88.147853</td>\n",
       "    </tr>\n",
       "    <tr>\n",
       "      <th>17</th>\n",
       "      <td>RickieYates31</td>\n",
       "      <td>Glad to be invited to play in the six star foo...</td>\n",
       "      <td>Moultrie, GA</td>\n",
       "      <td>31.181152</td>\n",
       "      <td>-83.787881</td>\n",
       "    </tr>\n",
       "    <tr>\n",
       "      <th>18</th>\n",
       "      <td>yung_blastbeat</td>\n",
       "      <td>@Majortarantino I'll change the tweet when the...</td>\n",
       "      <td>Huddersfield, England</td>\n",
       "      <td>53.646664</td>\n",
       "      <td>-1.782248</td>\n",
       "    </tr>\n",
       "    <tr>\n",
       "      <th>19</th>\n",
       "      <td>kneafseyy</td>\n",
       "      <td>@Adderaltruistic Football</td>\n",
       "      <td>Amsterdam, The Netherlands</td>\n",
       "      <td>52.372760</td>\n",
       "      <td>4.893604</td>\n",
       "    </tr>\n",
       "    <tr>\n",
       "      <th>20</th>\n",
       "      <td>TrevorHass</td>\n",
       "      <td>Here’s the updated @GlobeSchools football Top ...</td>\n",
       "      <td>Boston, MA</td>\n",
       "      <td>42.360253</td>\n",
       "      <td>-71.058291</td>\n",
       "    </tr>\n",
       "    <tr>\n",
       "      <th>21</th>\n",
       "      <td>Trialanderror_v</td>\n",
       "      <td>BBC to screen Women's Super League football ht...</td>\n",
       "      <td>日本</td>\n",
       "      <td>36.574844</td>\n",
       "      <td>139.239418</td>\n",
       "    </tr>\n",
       "    <tr>\n",
       "      <th>22</th>\n",
       "      <td>ShepwayST</td>\n",
       "      <td>Due to the Good Friday bank holiday, our Frida...</td>\n",
       "      <td>Folkestone, England</td>\n",
       "      <td>51.088710</td>\n",
       "      <td>1.166356</td>\n",
       "    </tr>\n",
       "    <tr>\n",
       "      <th>23</th>\n",
       "      <td>SouthSideSisco</td>\n",
       "      <td>@NFL_DovKleiman @patspulpit They had 7 seasons...</td>\n",
       "      <td>Chicago, IL</td>\n",
       "      <td>41.875555</td>\n",
       "      <td>-87.624421</td>\n",
       "    </tr>\n",
       "    <tr>\n",
       "      <th>24</th>\n",
       "      <td>investor202011</td>\n",
       "      <td>Cryptocurrency exchange LATOKEN is letting use...</td>\n",
       "      <td>vietnam</td>\n",
       "      <td>13.290403</td>\n",
       "      <td>108.426511</td>\n",
       "    </tr>\n",
       "    <tr>\n",
       "      <th>25</th>\n",
       "      <td>PTalkingraven</td>\n",
       "      <td>@PaulHCrothers @FirewifeyOG1 Don’t forget the ...</td>\n",
       "      <td>Eugene, OR</td>\n",
       "      <td>44.050505</td>\n",
       "      <td>-123.095051</td>\n",
       "    </tr>\n",
       "    <tr>\n",
       "      <th>26</th>\n",
       "      <td>pillowtakin</td>\n",
       "      <td>@DanieleLucc Juve are a great club. One club c...</td>\n",
       "      <td>Perth, Western Australia</td>\n",
       "      <td>-31.952712</td>\n",
       "      <td>115.860480</td>\n",
       "    </tr>\n",
       "    <tr>\n",
       "      <th>27</th>\n",
       "      <td>greasydunlop</td>\n",
       "      <td>There’s nothing noble or righteous about the p...</td>\n",
       "      <td>London</td>\n",
       "      <td>51.507322</td>\n",
       "      <td>-0.127647</td>\n",
       "    </tr>\n",
       "    <tr>\n",
       "      <th>28</th>\n",
       "      <td>Keraaa32</td>\n",
       "      <td>and said we were done\\nC- he had no choice ms....</td>\n",
       "      <td>Da War 😵‍💫</td>\n",
       "      <td>39.420398</td>\n",
       "      <td>-84.180897</td>\n",
       "    </tr>\n",
       "    <tr>\n",
       "      <th>29</th>\n",
       "      <td>HipkissDesign</td>\n",
       "      <td>@sportswithjohn One of the just beautiful foot...</td>\n",
       "      <td>Norwich, England</td>\n",
       "      <td>52.628606</td>\n",
       "      <td>1.292270</td>\n",
       "    </tr>\n",
       "    <tr>\n",
       "      <th>30</th>\n",
       "      <td>philpott70</td>\n",
       "      <td>@SkyNews If this was a football crowd ,dogs ,h...</td>\n",
       "      <td>Falmouth</td>\n",
       "      <td>50.155220</td>\n",
       "      <td>-5.068826</td>\n",
       "    </tr>\n",
       "    <tr>\n",
       "      <th>31</th>\n",
       "      <td>Keraaa32</td>\n",
       "      <td>M- roll the window down\\nQ- *rolls it down*\\nM...</td>\n",
       "      <td>Da War 😵‍💫</td>\n",
       "      <td>39.420398</td>\n",
       "      <td>-84.180897</td>\n",
       "    </tr>\n",
       "    <tr>\n",
       "      <th>32</th>\n",
       "      <td>brendan524</td>\n",
       "      <td>@JeffDuncan_ Top 8 Teams 3 rounds win or go ho...</td>\n",
       "      <td>Floral Park, NY</td>\n",
       "      <td>40.723713</td>\n",
       "      <td>-73.704853</td>\n",
       "    </tr>\n",
       "    <tr>\n",
       "      <th>33</th>\n",
       "      <td>rebekkarnold</td>\n",
       "      <td>@offthebridle80 @DaleFCB10 @SkyBet I am not pa...</td>\n",
       "      <td>UK</td>\n",
       "      <td>54.702354</td>\n",
       "      <td>-3.276575</td>\n",
       "    </tr>\n",
       "    <tr>\n",
       "      <th>34</th>\n",
       "      <td>mazzerooni</td>\n",
       "      <td>@gunnerblog @TheAthleticUK Aren’t we at risk o...</td>\n",
       "      <td>London, England</td>\n",
       "      <td>51.507322</td>\n",
       "      <td>-0.127647</td>\n",
       "    </tr>\n",
       "    <tr>\n",
       "      <th>35</th>\n",
       "      <td>SeafarerMichael</td>\n",
       "      <td>@Sneddon0472 @JenG1210 Maybe the original post...</td>\n",
       "      <td>🇬🇧🏟</td>\n",
       "      <td>NaN</td>\n",
       "      <td>NaN</td>\n",
       "    </tr>\n",
       "    <tr>\n",
       "      <th>36</th>\n",
       "      <td>Ambo_91</td>\n",
       "      <td>@cadsutd Community Shield Moyes’ first game in...</td>\n",
       "      <td>Connahs Quay, Flintshire</td>\n",
       "      <td>53.219904</td>\n",
       "      <td>-3.066178</td>\n",
       "    </tr>\n",
       "    <tr>\n",
       "      <th>37</th>\n",
       "      <td>mjwhites6</td>\n",
       "      <td>Nearly a year ago me and a few newland Rangers...</td>\n",
       "      <td>Hull, England</td>\n",
       "      <td>53.743572</td>\n",
       "      <td>-0.339476</td>\n",
       "    </tr>\n",
       "    <tr>\n",
       "      <th>38</th>\n",
       "      <td>VSantostefano21</td>\n",
       "      <td>Working hard for the fall football season http...</td>\n",
       "      <td>Pennsylvania, USA</td>\n",
       "      <td>40.969989</td>\n",
       "      <td>-77.727883</td>\n",
       "    </tr>\n",
       "    <tr>\n",
       "      <th>39</th>\n",
       "      <td>CoPreps</td>\n",
       "      <td>Colorado Football's Top Offensive Guards in 20...</td>\n",
       "      <td>Colorado</td>\n",
       "      <td>38.725178</td>\n",
       "      <td>-105.607717</td>\n",
       "    </tr>\n",
       "    <tr>\n",
       "      <th>40</th>\n",
       "      <td>FitCasuallyPRO</td>\n",
       "      <td>Football rumours from the media https://t.co/0...</td>\n",
       "      <td>L.A. NEW YORK TORONTO LONDON</td>\n",
       "      <td>NaN</td>\n",
       "      <td>NaN</td>\n",
       "    </tr>\n",
       "    <tr>\n",
       "      <th>41</th>\n",
       "      <td>DeLolz</td>\n",
       "      <td>@jamiecweir @RachelVMartin Exactly. I think th...</td>\n",
       "      <td>Ireland</td>\n",
       "      <td>52.865196</td>\n",
       "      <td>-7.979460</td>\n",
       "    </tr>\n",
       "    <tr>\n",
       "      <th>42</th>\n",
       "      <td>CSG1973</td>\n",
       "      <td>Football fans are so nice</td>\n",
       "      <td>Somewhere on the water</td>\n",
       "      <td>1.566215</td>\n",
       "      <td>110.351927</td>\n",
       "    </tr>\n",
       "    <tr>\n",
       "      <th>43</th>\n",
       "      <td>Colm7</td>\n",
       "      <td>@GeneralBurk @Nutteruk @HotspurRelated We’ve a...</td>\n",
       "      <td>Dublin, Ireland</td>\n",
       "      <td>53.349764</td>\n",
       "      <td>-6.260273</td>\n",
       "    </tr>\n",
       "    <tr>\n",
       "      <th>44</th>\n",
       "      <td>bigmeuprudeboy</td>\n",
       "      <td>@btharris93 Scarf dedicated to his fav footbal...</td>\n",
       "      <td>Sarf London, Ingerlund</td>\n",
       "      <td>NaN</td>\n",
       "      <td>NaN</td>\n",
       "    </tr>\n",
       "    <tr>\n",
       "      <th>45</th>\n",
       "      <td>natedoggvb</td>\n",
       "      <td>Set builders : I have a partial set of 1981 fo...</td>\n",
       "      <td>Buffalo, NY</td>\n",
       "      <td>42.886717</td>\n",
       "      <td>-78.878392</td>\n",
       "    </tr>\n",
       "    <tr>\n",
       "      <th>46</th>\n",
       "      <td>statsowar</td>\n",
       "      <td>College football in 2021 has become the invers...</td>\n",
       "      <td>Fort Worth, Texas, USA</td>\n",
       "      <td>32.753177</td>\n",
       "      <td>-97.332746</td>\n",
       "    </tr>\n",
       "    <tr>\n",
       "      <th>47</th>\n",
       "      <td>PTalkingraven</td>\n",
       "      <td>@CNNPolitics Will be a successful as his footb...</td>\n",
       "      <td>Eugene, OR</td>\n",
       "      <td>44.050505</td>\n",
       "      <td>-123.095051</td>\n",
       "    </tr>\n",
       "    <tr>\n",
       "      <th>48</th>\n",
       "      <td>MegWaldronMS</td>\n",
       "      <td>I'm not surprised so many NCAA sports have bee...</td>\n",
       "      <td>Philadelphia, PA</td>\n",
       "      <td>39.952399</td>\n",
       "      <td>-75.163590</td>\n",
       "    </tr>\n",
       "    <tr>\n",
       "      <th>49</th>\n",
       "      <td>union1908</td>\n",
       "      <td>God, remember going to the football? https://t...</td>\n",
       "      <td>From Burton Road to Brookburn</td>\n",
       "      <td>NaN</td>\n",
       "      <td>NaN</td>\n",
       "    </tr>\n",
       "  </tbody>\n",
       "</table>\n",
       "</div>"
      ],
      "text/plain": [
       "        screen_name                                               text  \\\n",
       "0           idb1969  @Celebs4indy 😂😂😂😂😂😂 GIRFUY &amp; your politica...   \n",
       "1       TomMassetti  @KendrickPerkins This has gone on for years. 2...   \n",
       "2          pff_seth  Changes happen so fast in football these days ...   \n",
       "3      evins_jeremy  @8Egan 6’0 173 lbs \\nPlays everywhere on the f...   \n",
       "4    VivaLaPatriots  @MikeReiss @billbarnwell Easy to criticize fro...   \n",
       "5         NotTaiumz  @MagicalFati @rmczach Also that was the peak o...   \n",
       "6    kathy_flanagan  @garysetchell Well said, Gary! I am sick of th...   \n",
       "7      evins_jeremy  @CoachMattB_ 6’0 173 lbs \\nPlays everywhere on...   \n",
       "8         AngeRob78  So good to get the kids back to organised foot...   \n",
       "9      technicianFC  These names are used quite often in Italian fo...   \n",
       "10     Maikelliosis  Fitz is a slightly better vince carter of foot...   \n",
       "11      inspireajen                      (in women's football, I mean)   \n",
       "12    southwestposh  What a find on e bay £1-85, my first away game...   \n",
       "13   sunrainsunrain  A high school football team told adults they w...   \n",
       "14        Tshepo_SS  @UncappedGuluva If George can still play footb...   \n",
       "15    Kinetic_Coach  Women’s football is one of the fastest growing...   \n",
       "16     ChuckCanning  @BearBoards_ With you 100%. When players move ...   \n",
       "17    RickieYates31  Glad to be invited to play in the six star foo...   \n",
       "18   yung_blastbeat  @Majortarantino I'll change the tweet when the...   \n",
       "19        kneafseyy                          @Adderaltruistic Football   \n",
       "20       TrevorHass  Here’s the updated @GlobeSchools football Top ...   \n",
       "21  Trialanderror_v  BBC to screen Women's Super League football ht...   \n",
       "22        ShepwayST  Due to the Good Friday bank holiday, our Frida...   \n",
       "23   SouthSideSisco  @NFL_DovKleiman @patspulpit They had 7 seasons...   \n",
       "24   investor202011  Cryptocurrency exchange LATOKEN is letting use...   \n",
       "25    PTalkingraven  @PaulHCrothers @FirewifeyOG1 Don’t forget the ...   \n",
       "26      pillowtakin  @DanieleLucc Juve are a great club. One club c...   \n",
       "27     greasydunlop  There’s nothing noble or righteous about the p...   \n",
       "28         Keraaa32  and said we were done\\nC- he had no choice ms....   \n",
       "29    HipkissDesign  @sportswithjohn One of the just beautiful foot...   \n",
       "30       philpott70  @SkyNews If this was a football crowd ,dogs ,h...   \n",
       "31         Keraaa32  M- roll the window down\\nQ- *rolls it down*\\nM...   \n",
       "32       brendan524  @JeffDuncan_ Top 8 Teams 3 rounds win or go ho...   \n",
       "33     rebekkarnold  @offthebridle80 @DaleFCB10 @SkyBet I am not pa...   \n",
       "34       mazzerooni  @gunnerblog @TheAthleticUK Aren’t we at risk o...   \n",
       "35  SeafarerMichael  @Sneddon0472 @JenG1210 Maybe the original post...   \n",
       "36          Ambo_91  @cadsutd Community Shield Moyes’ first game in...   \n",
       "37        mjwhites6  Nearly a year ago me and a few newland Rangers...   \n",
       "38  VSantostefano21  Working hard for the fall football season http...   \n",
       "39          CoPreps  Colorado Football's Top Offensive Guards in 20...   \n",
       "40   FitCasuallyPRO  Football rumours from the media https://t.co/0...   \n",
       "41           DeLolz  @jamiecweir @RachelVMartin Exactly. I think th...   \n",
       "42          CSG1973                          Football fans are so nice   \n",
       "43            Colm7  @GeneralBurk @Nutteruk @HotspurRelated We’ve a...   \n",
       "44   bigmeuprudeboy  @btharris93 Scarf dedicated to his fav footbal...   \n",
       "45       natedoggvb  Set builders : I have a partial set of 1981 fo...   \n",
       "46        statsowar  College football in 2021 has become the invers...   \n",
       "47    PTalkingraven  @CNNPolitics Will be a successful as his footb...   \n",
       "48     MegWaldronMS  I'm not surprised so many NCAA sports have bee...   \n",
       "49        union1908  God, remember going to the football? https://t...   \n",
       "\n",
       "                         location   latitude   longitude  \n",
       "0                  United Kingdom  25.223228   55.159493  \n",
       "1           Ormond-by-the-Sea, FL  29.349145  -81.066446  \n",
       "2                Montréal, Québec  45.497216  -73.610364  \n",
       "3                    Meridian, MS  32.364310  -88.703656  \n",
       "4                  Title Town USA  32.386625  -96.847286  \n",
       "5                           لبنان  33.875063   35.843409  \n",
       "6       Stockton on Tees, England  54.564094   -1.312916  \n",
       "7                    Meridian, MS  32.364310  -88.703656  \n",
       "8        Scotland, United Kingdom  56.786111   -4.114052  \n",
       "9                 London, England  51.507322   -0.127647  \n",
       "10                           elvy  49.544984   18.097962  \n",
       "11        London, by way of Essex        NaN         NaN  \n",
       "12            Chippenham, England  51.458762   -2.115903  \n",
       "13                 Manahoac land         NaN         NaN  \n",
       "14                     West Rand   43.355871   42.429736  \n",
       "15                     London, UK  51.507322   -0.127647  \n",
       "16                 Naperville, IL  41.772866  -88.147853  \n",
       "17                   Moultrie, GA  31.181152  -83.787881  \n",
       "18          Huddersfield, England  53.646664   -1.782248  \n",
       "19     Amsterdam, The Netherlands  52.372760    4.893604  \n",
       "20                     Boston, MA  42.360253  -71.058291  \n",
       "21                             日本  36.574844  139.239418  \n",
       "22            Folkestone, England  51.088710    1.166356  \n",
       "23                    Chicago, IL  41.875555  -87.624421  \n",
       "24                        vietnam  13.290403  108.426511  \n",
       "25                     Eugene, OR  44.050505 -123.095051  \n",
       "26       Perth, Western Australia -31.952712  115.860480  \n",
       "27                         London  51.507322   -0.127647  \n",
       "28                     Da War 😵‍💫  39.420398  -84.180897  \n",
       "29               Norwich, England  52.628606    1.292270  \n",
       "30                       Falmouth  50.155220   -5.068826  \n",
       "31                     Da War 😵‍💫  39.420398  -84.180897  \n",
       "32                Floral Park, NY  40.723713  -73.704853  \n",
       "33                             UK  54.702354   -3.276575  \n",
       "34                London, England  51.507322   -0.127647  \n",
       "35                            🇬🇧🏟        NaN         NaN  \n",
       "36       Connahs Quay, Flintshire  53.219904   -3.066178  \n",
       "37                  Hull, England  53.743572   -0.339476  \n",
       "38              Pennsylvania, USA  40.969989  -77.727883  \n",
       "39                       Colorado  38.725178 -105.607717  \n",
       "40   L.A. NEW YORK TORONTO LONDON        NaN         NaN  \n",
       "41                        Ireland  52.865196   -7.979460  \n",
       "42         Somewhere on the water   1.566215  110.351927  \n",
       "43                Dublin, Ireland  53.349764   -6.260273  \n",
       "44         Sarf London, Ingerlund        NaN         NaN  \n",
       "45                    Buffalo, NY  42.886717  -78.878392  \n",
       "46         Fort Worth, Texas, USA  32.753177  -97.332746  \n",
       "47                     Eugene, OR  44.050505 -123.095051  \n",
       "48               Philadelphia, PA  39.952399  -75.163590  \n",
       "49  From Burton Road to Brookburn        NaN         NaN  "
      ]
     },
     "execution_count": 55,
     "metadata": {},
     "output_type": "execute_result"
    }
   ],
   "source": [
    "df"
   ]
  },
  {
   "cell_type": "code",
   "execution_count": 56,
   "metadata": {},
   "outputs": [],
   "source": [
    "df = df.dropna()"
   ]
  },
  {
   "cell_type": "code",
   "execution_count": 57,
   "metadata": {},
   "outputs": [
    {
     "data": {
      "text/html": [
       "<div>\n",
       "<style scoped>\n",
       "    .dataframe tbody tr th:only-of-type {\n",
       "        vertical-align: middle;\n",
       "    }\n",
       "\n",
       "    .dataframe tbody tr th {\n",
       "        vertical-align: top;\n",
       "    }\n",
       "\n",
       "    .dataframe thead th {\n",
       "        text-align: right;\n",
       "    }\n",
       "</style>\n",
       "<table border=\"1\" class=\"dataframe\">\n",
       "  <thead>\n",
       "    <tr style=\"text-align: right;\">\n",
       "      <th></th>\n",
       "      <th>screen_name</th>\n",
       "      <th>text</th>\n",
       "      <th>location</th>\n",
       "      <th>latitude</th>\n",
       "      <th>longitude</th>\n",
       "    </tr>\n",
       "  </thead>\n",
       "  <tbody>\n",
       "    <tr>\n",
       "      <th>0</th>\n",
       "      <td>idb1969</td>\n",
       "      <td>@Celebs4indy 😂😂😂😂😂😂 GIRFUY &amp;amp; your politica...</td>\n",
       "      <td>United Kingdom</td>\n",
       "      <td>25.223228</td>\n",
       "      <td>55.159493</td>\n",
       "    </tr>\n",
       "    <tr>\n",
       "      <th>1</th>\n",
       "      <td>TomMassetti</td>\n",
       "      <td>@KendrickPerkins This has gone on for years. 2...</td>\n",
       "      <td>Ormond-by-the-Sea, FL</td>\n",
       "      <td>29.349145</td>\n",
       "      <td>-81.066446</td>\n",
       "    </tr>\n",
       "    <tr>\n",
       "      <th>2</th>\n",
       "      <td>pff_seth</td>\n",
       "      <td>Changes happen so fast in football these days ...</td>\n",
       "      <td>Montréal, Québec</td>\n",
       "      <td>45.497216</td>\n",
       "      <td>-73.610364</td>\n",
       "    </tr>\n",
       "    <tr>\n",
       "      <th>3</th>\n",
       "      <td>evins_jeremy</td>\n",
       "      <td>@8Egan 6’0 173 lbs \\nPlays everywhere on the f...</td>\n",
       "      <td>Meridian, MS</td>\n",
       "      <td>32.364310</td>\n",
       "      <td>-88.703656</td>\n",
       "    </tr>\n",
       "    <tr>\n",
       "      <th>4</th>\n",
       "      <td>VivaLaPatriots</td>\n",
       "      <td>@MikeReiss @billbarnwell Easy to criticize fro...</td>\n",
       "      <td>Title Town USA</td>\n",
       "      <td>32.386625</td>\n",
       "      <td>-96.847286</td>\n",
       "    </tr>\n",
       "    <tr>\n",
       "      <th>5</th>\n",
       "      <td>NotTaiumz</td>\n",
       "      <td>@MagicalFati @rmczach Also that was the peak o...</td>\n",
       "      <td>لبنان</td>\n",
       "      <td>33.875063</td>\n",
       "      <td>35.843409</td>\n",
       "    </tr>\n",
       "    <tr>\n",
       "      <th>6</th>\n",
       "      <td>kathy_flanagan</td>\n",
       "      <td>@garysetchell Well said, Gary! I am sick of th...</td>\n",
       "      <td>Stockton on Tees, England</td>\n",
       "      <td>54.564094</td>\n",
       "      <td>-1.312916</td>\n",
       "    </tr>\n",
       "    <tr>\n",
       "      <th>7</th>\n",
       "      <td>evins_jeremy</td>\n",
       "      <td>@CoachMattB_ 6’0 173 lbs \\nPlays everywhere on...</td>\n",
       "      <td>Meridian, MS</td>\n",
       "      <td>32.364310</td>\n",
       "      <td>-88.703656</td>\n",
       "    </tr>\n",
       "    <tr>\n",
       "      <th>8</th>\n",
       "      <td>AngeRob78</td>\n",
       "      <td>So good to get the kids back to organised foot...</td>\n",
       "      <td>Scotland, United Kingdom</td>\n",
       "      <td>56.786111</td>\n",
       "      <td>-4.114052</td>\n",
       "    </tr>\n",
       "    <tr>\n",
       "      <th>9</th>\n",
       "      <td>technicianFC</td>\n",
       "      <td>These names are used quite often in Italian fo...</td>\n",
       "      <td>London, England</td>\n",
       "      <td>51.507322</td>\n",
       "      <td>-0.127647</td>\n",
       "    </tr>\n",
       "    <tr>\n",
       "      <th>10</th>\n",
       "      <td>Maikelliosis</td>\n",
       "      <td>Fitz is a slightly better vince carter of foot...</td>\n",
       "      <td>elvy</td>\n",
       "      <td>49.544984</td>\n",
       "      <td>18.097962</td>\n",
       "    </tr>\n",
       "    <tr>\n",
       "      <th>12</th>\n",
       "      <td>southwestposh</td>\n",
       "      <td>What a find on e bay £1-85, my first away game...</td>\n",
       "      <td>Chippenham, England</td>\n",
       "      <td>51.458762</td>\n",
       "      <td>-2.115903</td>\n",
       "    </tr>\n",
       "    <tr>\n",
       "      <th>14</th>\n",
       "      <td>Tshepo_SS</td>\n",
       "      <td>@UncappedGuluva If George can still play footb...</td>\n",
       "      <td>West Rand</td>\n",
       "      <td>43.355871</td>\n",
       "      <td>42.429736</td>\n",
       "    </tr>\n",
       "    <tr>\n",
       "      <th>15</th>\n",
       "      <td>Kinetic_Coach</td>\n",
       "      <td>Women’s football is one of the fastest growing...</td>\n",
       "      <td>London, UK</td>\n",
       "      <td>51.507322</td>\n",
       "      <td>-0.127647</td>\n",
       "    </tr>\n",
       "    <tr>\n",
       "      <th>16</th>\n",
       "      <td>ChuckCanning</td>\n",
       "      <td>@BearBoards_ With you 100%. When players move ...</td>\n",
       "      <td>Naperville, IL</td>\n",
       "      <td>41.772866</td>\n",
       "      <td>-88.147853</td>\n",
       "    </tr>\n",
       "    <tr>\n",
       "      <th>17</th>\n",
       "      <td>RickieYates31</td>\n",
       "      <td>Glad to be invited to play in the six star foo...</td>\n",
       "      <td>Moultrie, GA</td>\n",
       "      <td>31.181152</td>\n",
       "      <td>-83.787881</td>\n",
       "    </tr>\n",
       "    <tr>\n",
       "      <th>18</th>\n",
       "      <td>yung_blastbeat</td>\n",
       "      <td>@Majortarantino I'll change the tweet when the...</td>\n",
       "      <td>Huddersfield, England</td>\n",
       "      <td>53.646664</td>\n",
       "      <td>-1.782248</td>\n",
       "    </tr>\n",
       "    <tr>\n",
       "      <th>19</th>\n",
       "      <td>kneafseyy</td>\n",
       "      <td>@Adderaltruistic Football</td>\n",
       "      <td>Amsterdam, The Netherlands</td>\n",
       "      <td>52.372760</td>\n",
       "      <td>4.893604</td>\n",
       "    </tr>\n",
       "    <tr>\n",
       "      <th>20</th>\n",
       "      <td>TrevorHass</td>\n",
       "      <td>Here’s the updated @GlobeSchools football Top ...</td>\n",
       "      <td>Boston, MA</td>\n",
       "      <td>42.360253</td>\n",
       "      <td>-71.058291</td>\n",
       "    </tr>\n",
       "    <tr>\n",
       "      <th>21</th>\n",
       "      <td>Trialanderror_v</td>\n",
       "      <td>BBC to screen Women's Super League football ht...</td>\n",
       "      <td>日本</td>\n",
       "      <td>36.574844</td>\n",
       "      <td>139.239418</td>\n",
       "    </tr>\n",
       "    <tr>\n",
       "      <th>22</th>\n",
       "      <td>ShepwayST</td>\n",
       "      <td>Due to the Good Friday bank holiday, our Frida...</td>\n",
       "      <td>Folkestone, England</td>\n",
       "      <td>51.088710</td>\n",
       "      <td>1.166356</td>\n",
       "    </tr>\n",
       "    <tr>\n",
       "      <th>23</th>\n",
       "      <td>SouthSideSisco</td>\n",
       "      <td>@NFL_DovKleiman @patspulpit They had 7 seasons...</td>\n",
       "      <td>Chicago, IL</td>\n",
       "      <td>41.875555</td>\n",
       "      <td>-87.624421</td>\n",
       "    </tr>\n",
       "    <tr>\n",
       "      <th>24</th>\n",
       "      <td>investor202011</td>\n",
       "      <td>Cryptocurrency exchange LATOKEN is letting use...</td>\n",
       "      <td>vietnam</td>\n",
       "      <td>13.290403</td>\n",
       "      <td>108.426511</td>\n",
       "    </tr>\n",
       "    <tr>\n",
       "      <th>25</th>\n",
       "      <td>PTalkingraven</td>\n",
       "      <td>@PaulHCrothers @FirewifeyOG1 Don’t forget the ...</td>\n",
       "      <td>Eugene, OR</td>\n",
       "      <td>44.050505</td>\n",
       "      <td>-123.095051</td>\n",
       "    </tr>\n",
       "    <tr>\n",
       "      <th>26</th>\n",
       "      <td>pillowtakin</td>\n",
       "      <td>@DanieleLucc Juve are a great club. One club c...</td>\n",
       "      <td>Perth, Western Australia</td>\n",
       "      <td>-31.952712</td>\n",
       "      <td>115.860480</td>\n",
       "    </tr>\n",
       "    <tr>\n",
       "      <th>27</th>\n",
       "      <td>greasydunlop</td>\n",
       "      <td>There’s nothing noble or righteous about the p...</td>\n",
       "      <td>London</td>\n",
       "      <td>51.507322</td>\n",
       "      <td>-0.127647</td>\n",
       "    </tr>\n",
       "    <tr>\n",
       "      <th>28</th>\n",
       "      <td>Keraaa32</td>\n",
       "      <td>and said we were done\\nC- he had no choice ms....</td>\n",
       "      <td>Da War 😵‍💫</td>\n",
       "      <td>39.420398</td>\n",
       "      <td>-84.180897</td>\n",
       "    </tr>\n",
       "    <tr>\n",
       "      <th>29</th>\n",
       "      <td>HipkissDesign</td>\n",
       "      <td>@sportswithjohn One of the just beautiful foot...</td>\n",
       "      <td>Norwich, England</td>\n",
       "      <td>52.628606</td>\n",
       "      <td>1.292270</td>\n",
       "    </tr>\n",
       "    <tr>\n",
       "      <th>30</th>\n",
       "      <td>philpott70</td>\n",
       "      <td>@SkyNews If this was a football crowd ,dogs ,h...</td>\n",
       "      <td>Falmouth</td>\n",
       "      <td>50.155220</td>\n",
       "      <td>-5.068826</td>\n",
       "    </tr>\n",
       "    <tr>\n",
       "      <th>31</th>\n",
       "      <td>Keraaa32</td>\n",
       "      <td>M- roll the window down\\nQ- *rolls it down*\\nM...</td>\n",
       "      <td>Da War 😵‍💫</td>\n",
       "      <td>39.420398</td>\n",
       "      <td>-84.180897</td>\n",
       "    </tr>\n",
       "    <tr>\n",
       "      <th>32</th>\n",
       "      <td>brendan524</td>\n",
       "      <td>@JeffDuncan_ Top 8 Teams 3 rounds win or go ho...</td>\n",
       "      <td>Floral Park, NY</td>\n",
       "      <td>40.723713</td>\n",
       "      <td>-73.704853</td>\n",
       "    </tr>\n",
       "    <tr>\n",
       "      <th>33</th>\n",
       "      <td>rebekkarnold</td>\n",
       "      <td>@offthebridle80 @DaleFCB10 @SkyBet I am not pa...</td>\n",
       "      <td>UK</td>\n",
       "      <td>54.702354</td>\n",
       "      <td>-3.276575</td>\n",
       "    </tr>\n",
       "    <tr>\n",
       "      <th>34</th>\n",
       "      <td>mazzerooni</td>\n",
       "      <td>@gunnerblog @TheAthleticUK Aren’t we at risk o...</td>\n",
       "      <td>London, England</td>\n",
       "      <td>51.507322</td>\n",
       "      <td>-0.127647</td>\n",
       "    </tr>\n",
       "    <tr>\n",
       "      <th>36</th>\n",
       "      <td>Ambo_91</td>\n",
       "      <td>@cadsutd Community Shield Moyes’ first game in...</td>\n",
       "      <td>Connahs Quay, Flintshire</td>\n",
       "      <td>53.219904</td>\n",
       "      <td>-3.066178</td>\n",
       "    </tr>\n",
       "    <tr>\n",
       "      <th>37</th>\n",
       "      <td>mjwhites6</td>\n",
       "      <td>Nearly a year ago me and a few newland Rangers...</td>\n",
       "      <td>Hull, England</td>\n",
       "      <td>53.743572</td>\n",
       "      <td>-0.339476</td>\n",
       "    </tr>\n",
       "    <tr>\n",
       "      <th>38</th>\n",
       "      <td>VSantostefano21</td>\n",
       "      <td>Working hard for the fall football season http...</td>\n",
       "      <td>Pennsylvania, USA</td>\n",
       "      <td>40.969989</td>\n",
       "      <td>-77.727883</td>\n",
       "    </tr>\n",
       "    <tr>\n",
       "      <th>39</th>\n",
       "      <td>CoPreps</td>\n",
       "      <td>Colorado Football's Top Offensive Guards in 20...</td>\n",
       "      <td>Colorado</td>\n",
       "      <td>38.725178</td>\n",
       "      <td>-105.607717</td>\n",
       "    </tr>\n",
       "    <tr>\n",
       "      <th>41</th>\n",
       "      <td>DeLolz</td>\n",
       "      <td>@jamiecweir @RachelVMartin Exactly. I think th...</td>\n",
       "      <td>Ireland</td>\n",
       "      <td>52.865196</td>\n",
       "      <td>-7.979460</td>\n",
       "    </tr>\n",
       "    <tr>\n",
       "      <th>42</th>\n",
       "      <td>CSG1973</td>\n",
       "      <td>Football fans are so nice</td>\n",
       "      <td>Somewhere on the water</td>\n",
       "      <td>1.566215</td>\n",
       "      <td>110.351927</td>\n",
       "    </tr>\n",
       "    <tr>\n",
       "      <th>43</th>\n",
       "      <td>Colm7</td>\n",
       "      <td>@GeneralBurk @Nutteruk @HotspurRelated We’ve a...</td>\n",
       "      <td>Dublin, Ireland</td>\n",
       "      <td>53.349764</td>\n",
       "      <td>-6.260273</td>\n",
       "    </tr>\n",
       "    <tr>\n",
       "      <th>45</th>\n",
       "      <td>natedoggvb</td>\n",
       "      <td>Set builders : I have a partial set of 1981 fo...</td>\n",
       "      <td>Buffalo, NY</td>\n",
       "      <td>42.886717</td>\n",
       "      <td>-78.878392</td>\n",
       "    </tr>\n",
       "    <tr>\n",
       "      <th>46</th>\n",
       "      <td>statsowar</td>\n",
       "      <td>College football in 2021 has become the invers...</td>\n",
       "      <td>Fort Worth, Texas, USA</td>\n",
       "      <td>32.753177</td>\n",
       "      <td>-97.332746</td>\n",
       "    </tr>\n",
       "    <tr>\n",
       "      <th>47</th>\n",
       "      <td>PTalkingraven</td>\n",
       "      <td>@CNNPolitics Will be a successful as his footb...</td>\n",
       "      <td>Eugene, OR</td>\n",
       "      <td>44.050505</td>\n",
       "      <td>-123.095051</td>\n",
       "    </tr>\n",
       "    <tr>\n",
       "      <th>48</th>\n",
       "      <td>MegWaldronMS</td>\n",
       "      <td>I'm not surprised so many NCAA sports have bee...</td>\n",
       "      <td>Philadelphia, PA</td>\n",
       "      <td>39.952399</td>\n",
       "      <td>-75.163590</td>\n",
       "    </tr>\n",
       "  </tbody>\n",
       "</table>\n",
       "</div>"
      ],
      "text/plain": [
       "        screen_name                                               text  \\\n",
       "0           idb1969  @Celebs4indy 😂😂😂😂😂😂 GIRFUY &amp; your politica...   \n",
       "1       TomMassetti  @KendrickPerkins This has gone on for years. 2...   \n",
       "2          pff_seth  Changes happen so fast in football these days ...   \n",
       "3      evins_jeremy  @8Egan 6’0 173 lbs \\nPlays everywhere on the f...   \n",
       "4    VivaLaPatriots  @MikeReiss @billbarnwell Easy to criticize fro...   \n",
       "5         NotTaiumz  @MagicalFati @rmczach Also that was the peak o...   \n",
       "6    kathy_flanagan  @garysetchell Well said, Gary! I am sick of th...   \n",
       "7      evins_jeremy  @CoachMattB_ 6’0 173 lbs \\nPlays everywhere on...   \n",
       "8         AngeRob78  So good to get the kids back to organised foot...   \n",
       "9      technicianFC  These names are used quite often in Italian fo...   \n",
       "10     Maikelliosis  Fitz is a slightly better vince carter of foot...   \n",
       "12    southwestposh  What a find on e bay £1-85, my first away game...   \n",
       "14        Tshepo_SS  @UncappedGuluva If George can still play footb...   \n",
       "15    Kinetic_Coach  Women’s football is one of the fastest growing...   \n",
       "16     ChuckCanning  @BearBoards_ With you 100%. When players move ...   \n",
       "17    RickieYates31  Glad to be invited to play in the six star foo...   \n",
       "18   yung_blastbeat  @Majortarantino I'll change the tweet when the...   \n",
       "19        kneafseyy                          @Adderaltruistic Football   \n",
       "20       TrevorHass  Here’s the updated @GlobeSchools football Top ...   \n",
       "21  Trialanderror_v  BBC to screen Women's Super League football ht...   \n",
       "22        ShepwayST  Due to the Good Friday bank holiday, our Frida...   \n",
       "23   SouthSideSisco  @NFL_DovKleiman @patspulpit They had 7 seasons...   \n",
       "24   investor202011  Cryptocurrency exchange LATOKEN is letting use...   \n",
       "25    PTalkingraven  @PaulHCrothers @FirewifeyOG1 Don’t forget the ...   \n",
       "26      pillowtakin  @DanieleLucc Juve are a great club. One club c...   \n",
       "27     greasydunlop  There’s nothing noble or righteous about the p...   \n",
       "28         Keraaa32  and said we were done\\nC- he had no choice ms....   \n",
       "29    HipkissDesign  @sportswithjohn One of the just beautiful foot...   \n",
       "30       philpott70  @SkyNews If this was a football crowd ,dogs ,h...   \n",
       "31         Keraaa32  M- roll the window down\\nQ- *rolls it down*\\nM...   \n",
       "32       brendan524  @JeffDuncan_ Top 8 Teams 3 rounds win or go ho...   \n",
       "33     rebekkarnold  @offthebridle80 @DaleFCB10 @SkyBet I am not pa...   \n",
       "34       mazzerooni  @gunnerblog @TheAthleticUK Aren’t we at risk o...   \n",
       "36          Ambo_91  @cadsutd Community Shield Moyes’ first game in...   \n",
       "37        mjwhites6  Nearly a year ago me and a few newland Rangers...   \n",
       "38  VSantostefano21  Working hard for the fall football season http...   \n",
       "39          CoPreps  Colorado Football's Top Offensive Guards in 20...   \n",
       "41           DeLolz  @jamiecweir @RachelVMartin Exactly. I think th...   \n",
       "42          CSG1973                          Football fans are so nice   \n",
       "43            Colm7  @GeneralBurk @Nutteruk @HotspurRelated We’ve a...   \n",
       "45       natedoggvb  Set builders : I have a partial set of 1981 fo...   \n",
       "46        statsowar  College football in 2021 has become the invers...   \n",
       "47    PTalkingraven  @CNNPolitics Will be a successful as his footb...   \n",
       "48     MegWaldronMS  I'm not surprised so many NCAA sports have bee...   \n",
       "\n",
       "                      location   latitude   longitude  \n",
       "0               United Kingdom  25.223228   55.159493  \n",
       "1        Ormond-by-the-Sea, FL  29.349145  -81.066446  \n",
       "2             Montréal, Québec  45.497216  -73.610364  \n",
       "3                 Meridian, MS  32.364310  -88.703656  \n",
       "4               Title Town USA  32.386625  -96.847286  \n",
       "5                        لبنان  33.875063   35.843409  \n",
       "6    Stockton on Tees, England  54.564094   -1.312916  \n",
       "7                 Meridian, MS  32.364310  -88.703656  \n",
       "8     Scotland, United Kingdom  56.786111   -4.114052  \n",
       "9              London, England  51.507322   -0.127647  \n",
       "10                        elvy  49.544984   18.097962  \n",
       "12         Chippenham, England  51.458762   -2.115903  \n",
       "14                  West Rand   43.355871   42.429736  \n",
       "15                  London, UK  51.507322   -0.127647  \n",
       "16              Naperville, IL  41.772866  -88.147853  \n",
       "17                Moultrie, GA  31.181152  -83.787881  \n",
       "18       Huddersfield, England  53.646664   -1.782248  \n",
       "19  Amsterdam, The Netherlands  52.372760    4.893604  \n",
       "20                  Boston, MA  42.360253  -71.058291  \n",
       "21                          日本  36.574844  139.239418  \n",
       "22         Folkestone, England  51.088710    1.166356  \n",
       "23                 Chicago, IL  41.875555  -87.624421  \n",
       "24                     vietnam  13.290403  108.426511  \n",
       "25                  Eugene, OR  44.050505 -123.095051  \n",
       "26    Perth, Western Australia -31.952712  115.860480  \n",
       "27                      London  51.507322   -0.127647  \n",
       "28                  Da War 😵‍💫  39.420398  -84.180897  \n",
       "29            Norwich, England  52.628606    1.292270  \n",
       "30                    Falmouth  50.155220   -5.068826  \n",
       "31                  Da War 😵‍💫  39.420398  -84.180897  \n",
       "32             Floral Park, NY  40.723713  -73.704853  \n",
       "33                          UK  54.702354   -3.276575  \n",
       "34             London, England  51.507322   -0.127647  \n",
       "36    Connahs Quay, Flintshire  53.219904   -3.066178  \n",
       "37               Hull, England  53.743572   -0.339476  \n",
       "38           Pennsylvania, USA  40.969989  -77.727883  \n",
       "39                    Colorado  38.725178 -105.607717  \n",
       "41                     Ireland  52.865196   -7.979460  \n",
       "42      Somewhere on the water   1.566215  110.351927  \n",
       "43             Dublin, Ireland  53.349764   -6.260273  \n",
       "45                 Buffalo, NY  42.886717  -78.878392  \n",
       "46      Fort Worth, Texas, USA  32.753177  -97.332746  \n",
       "47                  Eugene, OR  44.050505 -123.095051  \n",
       "48            Philadelphia, PA  39.952399  -75.163590  "
      ]
     },
     "execution_count": 57,
     "metadata": {},
     "output_type": "execute_result"
    }
   ],
   "source": [
    "df"
   ]
  },
  {
   "cell_type": "markdown",
   "metadata": {},
   "source": [
    "<hr style=\"height:2px; border:none; color:#000; background-color:#000;\">"
   ]
  },
  {
   "cell_type": "markdown",
   "metadata": {},
   "source": [
    "### Creating a Map with Folium"
   ]
  },
  {
   "cell_type": "code",
   "execution_count": 58,
   "metadata": {},
   "outputs": [],
   "source": [
    "import folium"
   ]
  },
  {
   "cell_type": "code",
   "execution_count": 59,
   "metadata": {},
   "outputs": [],
   "source": [
    "usmap = folium.Map(location=[39.8283, -98.5795],  # center of U.S.\n",
    "                   tiles='Stamen Terrain',\n",
    "                   zoom_start=4, detect_retina=True)"
   ]
  },
  {
   "cell_type": "markdown",
   "metadata": {},
   "source": [
    "* **`location`** &mdash; sequence containing **latitude** and **longitude** of **map center point**\n",
    "    * [Geographic center of the continental United States](http://bit.ly/CenterOfTheUS) \n",
    "* **`zoom_start`** &mdash; **map’s initial zoom level**\n",
    "* **`detect_retina`** &mdash; enables folium to use **higher-resolution maps**"
   ]
  },
  {
   "cell_type": "markdown",
   "metadata": {},
   "source": [
    "<hr style=\"height:2px; border:none; color:#000; background-color:#000;\">"
   ]
  },
  {
   "cell_type": "markdown",
   "metadata": {},
   "source": [
    "### Creating Folium `Popup` Objects for the Tweet Locations\n",
    "* **`itertuples`** creates **tuples** from **each row** of the **`DataFrame`**\n",
    "* Each **tuple** contains a **property** for each **`DataFrame` column**"
   ]
  },
  {
   "cell_type": "code",
   "execution_count": 60,
   "metadata": {},
   "outputs": [],
   "source": [
    "for t in df.itertuples():\n",
    "    text = ': '.join([t.screen_name, t.text])\n",
    "    popup = folium.Popup(text)\n",
    "    marker = folium.Marker((t.latitude, t.longitude), \n",
    "                           popup=popup)\n",
    "    marker.add_to(usmap)"
   ]
  },
  {
   "cell_type": "markdown",
   "metadata": {},
   "source": [
    "<hr style=\"height:2px; border:none; color:#000; background-color:#000;\">"
   ]
  },
  {
   "cell_type": "markdown",
   "metadata": {},
   "source": [
    "### Saving the Map with Map’s **`save`** Method "
   ]
  },
  {
   "cell_type": "code",
   "execution_count": 61,
   "metadata": {},
   "outputs": [],
   "source": [
    "usmap.save('tweet_map.html')"
   ]
  },
  {
   "cell_type": "markdown",
   "metadata": {},
   "source": [
    "<hr style=\"height:2px; border:none; color:#000; background-color:#000;\">"
   ]
  },
  {
   "cell_type": "markdown",
   "metadata": {},
   "source": [
    "### Displaying the Map in Jupyter \n",
    "* The resulting map follows. \n",
    "<a href=\"./tweet_map.html\">Interactive tweet map</a>"
   ]
  },
  {
   "cell_type": "code",
   "execution_count": 62,
   "metadata": {},
   "outputs": [
    {
     "data": {
      "text/html": [
       "<div style=\"width:100%;\"><div style=\"position:relative;width:100%;height:0;padding-bottom:60%;\"><span style=\"color:#565656\">Make this Notebook Trusted to load map: File -> Trust Notebook</span><iframe src=\"about:blank\" style=\"position:absolute;width:100%;height:100%;left:0;top:0;border:none !important;\" data-html=%3C%21DOCTYPE%20html%3E%0A%3Chead%3E%20%20%20%20%0A%20%20%20%20%3Cmeta%20http-equiv%3D%22content-type%22%20content%3D%22text/html%3B%20charset%3DUTF-8%22%20/%3E%0A%20%20%20%20%0A%20%20%20%20%20%20%20%20%3Cscript%3E%0A%20%20%20%20%20%20%20%20%20%20%20%20L_NO_TOUCH%20%3D%20false%3B%0A%20%20%20%20%20%20%20%20%20%20%20%20L_DISABLE_3D%20%3D%20false%3B%0A%20%20%20%20%20%20%20%20%3C/script%3E%0A%20%20%20%20%0A%20%20%20%20%3Cstyle%3Ehtml%2C%20body%20%7Bwidth%3A%20100%25%3Bheight%3A%20100%25%3Bmargin%3A%200%3Bpadding%3A%200%3B%7D%3C/style%3E%0A%20%20%20%20%3Cstyle%3E%23map%20%7Bposition%3Aabsolute%3Btop%3A0%3Bbottom%3A0%3Bright%3A0%3Bleft%3A0%3B%7D%3C/style%3E%0A%20%20%20%20%3Cscript%20src%3D%22https%3A//cdn.jsdelivr.net/npm/leaflet%401.6.0/dist/leaflet.js%22%3E%3C/script%3E%0A%20%20%20%20%3Cscript%20src%3D%22https%3A//code.jquery.com/jquery-1.12.4.min.js%22%3E%3C/script%3E%0A%20%20%20%20%3Cscript%20src%3D%22https%3A//maxcdn.bootstrapcdn.com/bootstrap/3.2.0/js/bootstrap.min.js%22%3E%3C/script%3E%0A%20%20%20%20%3Cscript%20src%3D%22https%3A//cdnjs.cloudflare.com/ajax/libs/Leaflet.awesome-markers/2.0.2/leaflet.awesome-markers.js%22%3E%3C/script%3E%0A%20%20%20%20%3Clink%20rel%3D%22stylesheet%22%20href%3D%22https%3A//cdn.jsdelivr.net/npm/leaflet%401.6.0/dist/leaflet.css%22/%3E%0A%20%20%20%20%3Clink%20rel%3D%22stylesheet%22%20href%3D%22https%3A//maxcdn.bootstrapcdn.com/bootstrap/3.2.0/css/bootstrap.min.css%22/%3E%0A%20%20%20%20%3Clink%20rel%3D%22stylesheet%22%20href%3D%22https%3A//maxcdn.bootstrapcdn.com/bootstrap/3.2.0/css/bootstrap-theme.min.css%22/%3E%0A%20%20%20%20%3Clink%20rel%3D%22stylesheet%22%20href%3D%22https%3A//maxcdn.bootstrapcdn.com/font-awesome/4.6.3/css/font-awesome.min.css%22/%3E%0A%20%20%20%20%3Clink%20rel%3D%22stylesheet%22%20href%3D%22https%3A//cdnjs.cloudflare.com/ajax/libs/Leaflet.awesome-markers/2.0.2/leaflet.awesome-markers.css%22/%3E%0A%20%20%20%20%3Clink%20rel%3D%22stylesheet%22%20href%3D%22https%3A//cdn.jsdelivr.net/gh/python-visualization/folium/folium/templates/leaflet.awesome.rotate.min.css%22/%3E%0A%20%20%20%20%0A%20%20%20%20%20%20%20%20%20%20%20%20%3Cmeta%20name%3D%22viewport%22%20content%3D%22width%3Ddevice-width%2C%0A%20%20%20%20%20%20%20%20%20%20%20%20%20%20%20%20initial-scale%3D1.0%2C%20maximum-scale%3D1.0%2C%20user-scalable%3Dno%22%20/%3E%0A%20%20%20%20%20%20%20%20%20%20%20%20%3Cstyle%3E%0A%20%20%20%20%20%20%20%20%20%20%20%20%20%20%20%20%23map_16009332a6374aa59a815e1db12f5ea0%20%7B%0A%20%20%20%20%20%20%20%20%20%20%20%20%20%20%20%20%20%20%20%20position%3A%20relative%3B%0A%20%20%20%20%20%20%20%20%20%20%20%20%20%20%20%20%20%20%20%20width%3A%20100.0%25%3B%0A%20%20%20%20%20%20%20%20%20%20%20%20%20%20%20%20%20%20%20%20height%3A%20100.0%25%3B%0A%20%20%20%20%20%20%20%20%20%20%20%20%20%20%20%20%20%20%20%20left%3A%200.0%25%3B%0A%20%20%20%20%20%20%20%20%20%20%20%20%20%20%20%20%20%20%20%20top%3A%200.0%25%3B%0A%20%20%20%20%20%20%20%20%20%20%20%20%20%20%20%20%7D%0A%20%20%20%20%20%20%20%20%20%20%20%20%3C/style%3E%0A%20%20%20%20%20%20%20%20%0A%3C/head%3E%0A%3Cbody%3E%20%20%20%20%0A%20%20%20%20%0A%20%20%20%20%20%20%20%20%20%20%20%20%3Cdiv%20class%3D%22folium-map%22%20id%3D%22map_16009332a6374aa59a815e1db12f5ea0%22%20%3E%3C/div%3E%0A%20%20%20%20%20%20%20%20%0A%3C/body%3E%0A%3Cscript%3E%20%20%20%20%0A%20%20%20%20%0A%20%20%20%20%20%20%20%20%20%20%20%20var%20map_16009332a6374aa59a815e1db12f5ea0%20%3D%20L.map%28%0A%20%20%20%20%20%20%20%20%20%20%20%20%20%20%20%20%22map_16009332a6374aa59a815e1db12f5ea0%22%2C%0A%20%20%20%20%20%20%20%20%20%20%20%20%20%20%20%20%7B%0A%20%20%20%20%20%20%20%20%20%20%20%20%20%20%20%20%20%20%20%20center%3A%20%5B39.8283%2C%20-98.5795%5D%2C%0A%20%20%20%20%20%20%20%20%20%20%20%20%20%20%20%20%20%20%20%20crs%3A%20L.CRS.EPSG3857%2C%0A%20%20%20%20%20%20%20%20%20%20%20%20%20%20%20%20%20%20%20%20zoom%3A%204%2C%0A%20%20%20%20%20%20%20%20%20%20%20%20%20%20%20%20%20%20%20%20zoomControl%3A%20true%2C%0A%20%20%20%20%20%20%20%20%20%20%20%20%20%20%20%20%20%20%20%20preferCanvas%3A%20false%2C%0A%20%20%20%20%20%20%20%20%20%20%20%20%20%20%20%20%20%20%20%20detectRetina%3A%20true%2C%0A%20%20%20%20%20%20%20%20%20%20%20%20%20%20%20%20%7D%0A%20%20%20%20%20%20%20%20%20%20%20%20%29%3B%0A%0A%20%20%20%20%20%20%20%20%20%20%20%20%0A%0A%20%20%20%20%20%20%20%20%0A%20%20%20%20%0A%20%20%20%20%20%20%20%20%20%20%20%20var%20tile_layer_969bab60d002421cbf0eae797e66fa97%20%3D%20L.tileLayer%28%0A%20%20%20%20%20%20%20%20%20%20%20%20%20%20%20%20%22https%3A//stamen-tiles-%7Bs%7D.a.ssl.fastly.net/terrain/%7Bz%7D/%7Bx%7D/%7By%7D.jpg%22%2C%0A%20%20%20%20%20%20%20%20%20%20%20%20%20%20%20%20%7B%22attribution%22%3A%20%22Map%20tiles%20by%20%5Cu003ca%20href%3D%5C%22http%3A//stamen.com%5C%22%5Cu003eStamen%20Design%5Cu003c/a%5Cu003e%2C%20under%20%5Cu003ca%20href%3D%5C%22http%3A//creativecommons.org/licenses/by/3.0%5C%22%5Cu003eCC%20BY%203.0%5Cu003c/a%5Cu003e.%20Data%20by%20%5Cu0026copy%3B%20%5Cu003ca%20href%3D%5C%22http%3A//openstreetmap.org%5C%22%5Cu003eOpenStreetMap%5Cu003c/a%5Cu003e%2C%20under%20%5Cu003ca%20href%3D%5C%22http%3A//creativecommons.org/licenses/by-sa/3.0%5C%22%5Cu003eCC%20BY%20SA%5Cu003c/a%5Cu003e.%22%2C%20%22detectRetina%22%3A%20false%2C%20%22maxNativeZoom%22%3A%2018%2C%20%22maxZoom%22%3A%2018%2C%20%22minZoom%22%3A%200%2C%20%22noWrap%22%3A%20false%2C%20%22opacity%22%3A%201%2C%20%22subdomains%22%3A%20%22abc%22%2C%20%22tms%22%3A%20false%7D%0A%20%20%20%20%20%20%20%20%20%20%20%20%29.addTo%28map_16009332a6374aa59a815e1db12f5ea0%29%3B%0A%20%20%20%20%20%20%20%20%0A%20%20%20%20%0A%20%20%20%20%20%20%20%20%20%20%20%20var%20marker_39842585f8c64ca5b6ca12d02f44b171%20%3D%20L.marker%28%0A%20%20%20%20%20%20%20%20%20%20%20%20%20%20%20%20%5B25.2232283%2C%2055.1594933008754%5D%2C%0A%20%20%20%20%20%20%20%20%20%20%20%20%20%20%20%20%7B%7D%0A%20%20%20%20%20%20%20%20%20%20%20%20%29.addTo%28map_16009332a6374aa59a815e1db12f5ea0%29%3B%0A%20%20%20%20%20%20%20%20%0A%20%20%20%20%0A%20%20%20%20%20%20%20%20var%20popup_cacc0450738d4fb9ae9f52a689dcff87%20%3D%20L.popup%28%7B%22maxWidth%22%3A%20%22100%25%22%7D%29%3B%0A%0A%20%20%20%20%20%20%20%20%0A%20%20%20%20%20%20%20%20%20%20%20%20var%20html_e4fe41204b53427c986288bd52207f58%20%3D%20%24%28%60%3Cdiv%20id%3D%22html_e4fe41204b53427c986288bd52207f58%22%20style%3D%22width%3A%20100.0%25%3B%20height%3A%20100.0%25%3B%22%3Eidb1969%3A%20%40Celebs4indy%20%F0%9F%98%82%F0%9F%98%82%F0%9F%98%82%F0%9F%98%82%F0%9F%98%82%F0%9F%98%82%20GIRFUY%20%26amp%3B%20your%20political%20party%20and%20your%20scummy%20football%20team.%20%F0%9F%98%82%F0%9F%98%82%F0%9F%98%82%20Y%3C/div%3E%60%29%5B0%5D%3B%0A%20%20%20%20%20%20%20%20%20%20%20%20popup_cacc0450738d4fb9ae9f52a689dcff87.setContent%28html_e4fe41204b53427c986288bd52207f58%29%3B%0A%20%20%20%20%20%20%20%20%0A%0A%20%20%20%20%20%20%20%20marker_39842585f8c64ca5b6ca12d02f44b171.bindPopup%28popup_cacc0450738d4fb9ae9f52a689dcff87%29%0A%20%20%20%20%20%20%20%20%3B%0A%0A%20%20%20%20%20%20%20%20%0A%20%20%20%20%0A%20%20%20%20%0A%20%20%20%20%20%20%20%20%20%20%20%20var%20marker_c33aabccfbb94ee9bf1bdc7e2bcb7a1e%20%3D%20L.marker%28%0A%20%20%20%20%20%20%20%20%20%20%20%20%20%20%20%20%5B29.3491449%2C%20-81.0664455%5D%2C%0A%20%20%20%20%20%20%20%20%20%20%20%20%20%20%20%20%7B%7D%0A%20%20%20%20%20%20%20%20%20%20%20%20%29.addTo%28map_16009332a6374aa59a815e1db12f5ea0%29%3B%0A%20%20%20%20%20%20%20%20%0A%20%20%20%20%0A%20%20%20%20%20%20%20%20var%20popup_813f9d9ad59646788755e7204fd1f4bb%20%3D%20L.popup%28%7B%22maxWidth%22%3A%20%22100%25%22%7D%29%3B%0A%0A%20%20%20%20%20%20%20%20%0A%20%20%20%20%20%20%20%20%20%20%20%20var%20html_5072838165ab49368b97af53b1b00e76%20%3D%20%24%28%60%3Cdiv%20id%3D%22html_5072838165ab49368b97af53b1b00e76%22%20style%3D%22width%3A%20100.0%25%3B%20height%3A%20100.0%25%3B%22%3ETomMassetti%3A%20%40KendrickPerkins%20This%20has%20gone%20on%20for%20years.%2025%20years%20ago%20I%20watched%20a%20local%20attorney%20jump%20on%20the%20back%20of%20another%20dad%20%26amp%3B%20bite%20him.%20Yes%2C%20bite%20him.%20The%20middle%20of%20a%20flag%20football%20game%20for%2011%20year%20olds.%20I%27m%20sorry%20you%20%26amp%3B%20your%20kids%20had%20to%20witness%20this%20but%20in%20youth%20sports%20in%20Florida%2C%20it%27s%20exactly%20the%20same.%3C/div%3E%60%29%5B0%5D%3B%0A%20%20%20%20%20%20%20%20%20%20%20%20popup_813f9d9ad59646788755e7204fd1f4bb.setContent%28html_5072838165ab49368b97af53b1b00e76%29%3B%0A%20%20%20%20%20%20%20%20%0A%0A%20%20%20%20%20%20%20%20marker_c33aabccfbb94ee9bf1bdc7e2bcb7a1e.bindPopup%28popup_813f9d9ad59646788755e7204fd1f4bb%29%0A%20%20%20%20%20%20%20%20%3B%0A%0A%20%20%20%20%20%20%20%20%0A%20%20%20%20%0A%20%20%20%20%0A%20%20%20%20%20%20%20%20%20%20%20%20var%20marker_4b1d6ed9c1f5479690f60585d33bc309%20%3D%20L.marker%28%0A%20%20%20%20%20%20%20%20%20%20%20%20%20%20%20%20%5B45.4972159%2C%20-73.6103642%5D%2C%0A%20%20%20%20%20%20%20%20%20%20%20%20%20%20%20%20%7B%7D%0A%20%20%20%20%20%20%20%20%20%20%20%20%29.addTo%28map_16009332a6374aa59a815e1db12f5ea0%29%3B%0A%20%20%20%20%20%20%20%20%0A%20%20%20%20%0A%20%20%20%20%20%20%20%20var%20popup_c691d532fd8f40b091402d41e1d5362c%20%3D%20L.popup%28%7B%22maxWidth%22%3A%20%22100%25%22%7D%29%3B%0A%0A%20%20%20%20%20%20%20%20%0A%20%20%20%20%20%20%20%20%20%20%20%20var%20html_0a26fe969a494e2ea2563998bdd6fc80%20%3D%20%24%28%60%3Cdiv%20id%3D%22html_0a26fe969a494e2ea2563998bdd6fc80%22%20style%3D%22width%3A%20100.0%25%3B%20height%3A%20100.0%25%3B%22%3Epff_seth%3A%20Changes%20happen%20so%20fast%20in%20football%20these%20days%20because%20of%20the%20immediate%20spread%20of%20tape%20and%20information.%20I%20wanted%20to%20write%20this%20article%20about%20slot%20receivers%20and%20how%20cool%20offense%20is%20but%20found%20out%20defensive%20coordinators%20have%20already%20been%20shutting%20them%20down%3F%3F%3F%20https%3A//t.co/dcdDw0L0w8%3C/div%3E%60%29%5B0%5D%3B%0A%20%20%20%20%20%20%20%20%20%20%20%20popup_c691d532fd8f40b091402d41e1d5362c.setContent%28html_0a26fe969a494e2ea2563998bdd6fc80%29%3B%0A%20%20%20%20%20%20%20%20%0A%0A%20%20%20%20%20%20%20%20marker_4b1d6ed9c1f5479690f60585d33bc309.bindPopup%28popup_c691d532fd8f40b091402d41e1d5362c%29%0A%20%20%20%20%20%20%20%20%3B%0A%0A%20%20%20%20%20%20%20%20%0A%20%20%20%20%0A%20%20%20%20%0A%20%20%20%20%20%20%20%20%20%20%20%20var%20marker_46fd1c3c5e4141e1bc84d66fc39adb7e%20%3D%20L.marker%28%0A%20%20%20%20%20%20%20%20%20%20%20%20%20%20%20%20%5B32.3643098%2C%20-88.703656%5D%2C%0A%20%20%20%20%20%20%20%20%20%20%20%20%20%20%20%20%7B%7D%0A%20%20%20%20%20%20%20%20%20%20%20%20%29.addTo%28map_16009332a6374aa59a815e1db12f5ea0%29%3B%0A%20%20%20%20%20%20%20%20%0A%20%20%20%20%0A%20%20%20%20%20%20%20%20var%20popup_46df078c589149578f7393bd4adf07d9%20%3D%20L.popup%28%7B%22maxWidth%22%3A%20%22100%25%22%7D%29%3B%0A%0A%20%20%20%20%20%20%20%20%0A%20%20%20%20%20%20%20%20%20%20%20%20var%20html_88b33292515f4c55aa2b31eae36f6179%20%3D%20%24%28%60%3Cdiv%20id%3D%22html_88b33292515f4c55aa2b31eae36f6179%22%20style%3D%22width%3A%20100.0%25%3B%20height%3A%20100.0%25%3B%22%3Eevins_jeremy%3A%20%408Egan%206%E2%80%990%20173%20lbs%20%20Plays%20everywhere%20on%20the%20field%20%206A%20Football%20%20Class%20of%2022%20GPA%203.833333%20Safety%20%20https%3A//t.co/4gw66LyhYR%3C/div%3E%60%29%5B0%5D%3B%0A%20%20%20%20%20%20%20%20%20%20%20%20popup_46df078c589149578f7393bd4adf07d9.setContent%28html_88b33292515f4c55aa2b31eae36f6179%29%3B%0A%20%20%20%20%20%20%20%20%0A%0A%20%20%20%20%20%20%20%20marker_46fd1c3c5e4141e1bc84d66fc39adb7e.bindPopup%28popup_46df078c589149578f7393bd4adf07d9%29%0A%20%20%20%20%20%20%20%20%3B%0A%0A%20%20%20%20%20%20%20%20%0A%20%20%20%20%0A%20%20%20%20%0A%20%20%20%20%20%20%20%20%20%20%20%20var%20marker_0db46a8ed09e4c708870bec8c1223c0c%20%3D%20L.marker%28%0A%20%20%20%20%20%20%20%20%20%20%20%20%20%20%20%20%5B32.38662545%2C%20-96.8472859987539%5D%2C%0A%20%20%20%20%20%20%20%20%20%20%20%20%20%20%20%20%7B%7D%0A%20%20%20%20%20%20%20%20%20%20%20%20%29.addTo%28map_16009332a6374aa59a815e1db12f5ea0%29%3B%0A%20%20%20%20%20%20%20%20%0A%20%20%20%20%0A%20%20%20%20%20%20%20%20var%20popup_5b802f96238c4853b6c267e69daff66e%20%3D%20L.popup%28%7B%22maxWidth%22%3A%20%22100%25%22%7D%29%3B%0A%0A%20%20%20%20%20%20%20%20%0A%20%20%20%20%20%20%20%20%20%20%20%20var%20html_fae591bb63914a1aaa6529d59f10b12e%20%3D%20%24%28%60%3Cdiv%20id%3D%22html_fae591bb63914a1aaa6529d59f10b12e%22%20style%3D%22width%3A%20100.0%25%3B%20height%3A%20100.0%25%3B%22%3EVivaLaPatriots%3A%20%40MikeReiss%20%40billbarnwell%20Easy%20to%20criticize%20from%20the%20nosebleeds.%20%20Leave%20the%20football%20decisions%20to%20someone%20who%20actually%20is%20involved%20in%20the%20sport%3C/div%3E%60%29%5B0%5D%3B%0A%20%20%20%20%20%20%20%20%20%20%20%20popup_5b802f96238c4853b6c267e69daff66e.setContent%28html_fae591bb63914a1aaa6529d59f10b12e%29%3B%0A%20%20%20%20%20%20%20%20%0A%0A%20%20%20%20%20%20%20%20marker_0db46a8ed09e4c708870bec8c1223c0c.bindPopup%28popup_5b802f96238c4853b6c267e69daff66e%29%0A%20%20%20%20%20%20%20%20%3B%0A%0A%20%20%20%20%20%20%20%20%0A%20%20%20%20%0A%20%20%20%20%0A%20%20%20%20%20%20%20%20%20%20%20%20var%20marker_4c39776348e04e6bbb4ee0cd27cb8b85%20%3D%20L.marker%28%0A%20%20%20%20%20%20%20%20%20%20%20%20%20%20%20%20%5B33.8750629%2C%2035.843409%5D%2C%0A%20%20%20%20%20%20%20%20%20%20%20%20%20%20%20%20%7B%7D%0A%20%20%20%20%20%20%20%20%20%20%20%20%29.addTo%28map_16009332a6374aa59a815e1db12f5ea0%29%3B%0A%20%20%20%20%20%20%20%20%0A%20%20%20%20%0A%20%20%20%20%20%20%20%20var%20popup_a45466801fe246a0b1a3b74578f810b8%20%3D%20L.popup%28%7B%22maxWidth%22%3A%20%22100%25%22%7D%29%3B%0A%0A%20%20%20%20%20%20%20%20%0A%20%20%20%20%20%20%20%20%20%20%20%20var%20html_f824c10ba6f44497808e91189e80fae4%20%3D%20%24%28%60%3Cdiv%20id%3D%22html_f824c10ba6f44497808e91189e80fae4%22%20style%3D%22width%3A%20100.0%25%3B%20height%3A%20100.0%25%3B%22%3ENotTaiumz%3A%20%40MagicalFati%20%40rmczach%20Also%20that%20was%20the%20peak%20of%20football%2C%20Bayern%20juve%20madrid%20and%20barca%20in%20the%20semis%3F%20Take%20me%20back%3C/div%3E%60%29%5B0%5D%3B%0A%20%20%20%20%20%20%20%20%20%20%20%20popup_a45466801fe246a0b1a3b74578f810b8.setContent%28html_f824c10ba6f44497808e91189e80fae4%29%3B%0A%20%20%20%20%20%20%20%20%0A%0A%20%20%20%20%20%20%20%20marker_4c39776348e04e6bbb4ee0cd27cb8b85.bindPopup%28popup_a45466801fe246a0b1a3b74578f810b8%29%0A%20%20%20%20%20%20%20%20%3B%0A%0A%20%20%20%20%20%20%20%20%0A%20%20%20%20%0A%20%20%20%20%0A%20%20%20%20%20%20%20%20%20%20%20%20var%20marker_70eafdcb52a64598bb9cb6422f57169f%20%3D%20L.marker%28%0A%20%20%20%20%20%20%20%20%20%20%20%20%20%20%20%20%5B54.564094%2C%20-1.3129164%5D%2C%0A%20%20%20%20%20%20%20%20%20%20%20%20%20%20%20%20%7B%7D%0A%20%20%20%20%20%20%20%20%20%20%20%20%29.addTo%28map_16009332a6374aa59a815e1db12f5ea0%29%3B%0A%20%20%20%20%20%20%20%20%0A%20%20%20%20%0A%20%20%20%20%20%20%20%20var%20popup_7266bb17618c408eb2e2e41ae90167e7%20%3D%20L.popup%28%7B%22maxWidth%22%3A%20%22100%25%22%7D%29%3B%0A%0A%20%20%20%20%20%20%20%20%0A%20%20%20%20%20%20%20%20%20%20%20%20var%20html_92b57ce6b76f4f7dadee327e33468eda%20%3D%20%24%28%60%3Cdiv%20id%3D%22html_92b57ce6b76f4f7dadee327e33468eda%22%20style%3D%22width%3A%20100.0%25%3B%20height%3A%20100.0%25%3B%22%3Ekathy_flanagan%3A%20%40garysetchell%20Well%20said%2C%20Gary%21%20I%20am%20sick%20of%20the%20triangles%2C%20just%20play%20football%2C%20run%20down%20the%20wing%20or%20pass%20to%20someone%20else%20who%20can%20score%20a%20goal%21%3C/div%3E%60%29%5B0%5D%3B%0A%20%20%20%20%20%20%20%20%20%20%20%20popup_7266bb17618c408eb2e2e41ae90167e7.setContent%28html_92b57ce6b76f4f7dadee327e33468eda%29%3B%0A%20%20%20%20%20%20%20%20%0A%0A%20%20%20%20%20%20%20%20marker_70eafdcb52a64598bb9cb6422f57169f.bindPopup%28popup_7266bb17618c408eb2e2e41ae90167e7%29%0A%20%20%20%20%20%20%20%20%3B%0A%0A%20%20%20%20%20%20%20%20%0A%20%20%20%20%0A%20%20%20%20%0A%20%20%20%20%20%20%20%20%20%20%20%20var%20marker_88467bdd716b498485d489333bf070d8%20%3D%20L.marker%28%0A%20%20%20%20%20%20%20%20%20%20%20%20%20%20%20%20%5B32.3643098%2C%20-88.703656%5D%2C%0A%20%20%20%20%20%20%20%20%20%20%20%20%20%20%20%20%7B%7D%0A%20%20%20%20%20%20%20%20%20%20%20%20%29.addTo%28map_16009332a6374aa59a815e1db12f5ea0%29%3B%0A%20%20%20%20%20%20%20%20%0A%20%20%20%20%0A%20%20%20%20%20%20%20%20var%20popup_5f15b6bd710a40f187a89fa94640c916%20%3D%20L.popup%28%7B%22maxWidth%22%3A%20%22100%25%22%7D%29%3B%0A%0A%20%20%20%20%20%20%20%20%0A%20%20%20%20%20%20%20%20%20%20%20%20var%20html_4a026698ae0e4062a9ea011b0f66b1c2%20%3D%20%24%28%60%3Cdiv%20id%3D%22html_4a026698ae0e4062a9ea011b0f66b1c2%22%20style%3D%22width%3A%20100.0%25%3B%20height%3A%20100.0%25%3B%22%3Eevins_jeremy%3A%20%40CoachMattB_%206%E2%80%990%20173%20lbs%20%20Plays%20everywhere%20on%20the%20field%20%206A%20Football%20%20Class%20of%2022%20GPA%203.833333%20Safety%20%20https%3A//t.co/4gw66LyhYR%3C/div%3E%60%29%5B0%5D%3B%0A%20%20%20%20%20%20%20%20%20%20%20%20popup_5f15b6bd710a40f187a89fa94640c916.setContent%28html_4a026698ae0e4062a9ea011b0f66b1c2%29%3B%0A%20%20%20%20%20%20%20%20%0A%0A%20%20%20%20%20%20%20%20marker_88467bdd716b498485d489333bf070d8.bindPopup%28popup_5f15b6bd710a40f187a89fa94640c916%29%0A%20%20%20%20%20%20%20%20%3B%0A%0A%20%20%20%20%20%20%20%20%0A%20%20%20%20%0A%20%20%20%20%0A%20%20%20%20%20%20%20%20%20%20%20%20var%20marker_27e88c1d12564bbd91218ab6f2231859%20%3D%20L.marker%28%0A%20%20%20%20%20%20%20%20%20%20%20%20%20%20%20%20%5B56.7861112%2C%20-4.1140518%5D%2C%0A%20%20%20%20%20%20%20%20%20%20%20%20%20%20%20%20%7B%7D%0A%20%20%20%20%20%20%20%20%20%20%20%20%29.addTo%28map_16009332a6374aa59a815e1db12f5ea0%29%3B%0A%20%20%20%20%20%20%20%20%0A%20%20%20%20%0A%20%20%20%20%20%20%20%20var%20popup_dbd57d957cbc42c1ab834ddaca756ab6%20%3D%20L.popup%28%7B%22maxWidth%22%3A%20%22100%25%22%7D%29%3B%0A%0A%20%20%20%20%20%20%20%20%0A%20%20%20%20%20%20%20%20%20%20%20%20var%20html_320990077c854a1590deefd577e8249b%20%3D%20%24%28%60%3Cdiv%20id%3D%22html_320990077c854a1590deefd577e8249b%22%20style%3D%22width%3A%20100.0%25%3B%20height%3A%20100.0%25%3B%22%3EAngeRob78%3A%20So%20good%20to%20get%20the%20kids%20back%20to%20organised%20football%20at%20the%20weekend%20-%20sun%20shining%20and%20big%20smiles.%20%40Spartans_CFA%20%23DoubleThumbsUp%20%23ReturnToFootball%20https%3A//t.co/m0syeUKIz4%3C/div%3E%60%29%5B0%5D%3B%0A%20%20%20%20%20%20%20%20%20%20%20%20popup_dbd57d957cbc42c1ab834ddaca756ab6.setContent%28html_320990077c854a1590deefd577e8249b%29%3B%0A%20%20%20%20%20%20%20%20%0A%0A%20%20%20%20%20%20%20%20marker_27e88c1d12564bbd91218ab6f2231859.bindPopup%28popup_dbd57d957cbc42c1ab834ddaca756ab6%29%0A%20%20%20%20%20%20%20%20%3B%0A%0A%20%20%20%20%20%20%20%20%0A%20%20%20%20%0A%20%20%20%20%0A%20%20%20%20%20%20%20%20%20%20%20%20var%20marker_df63308aa6964b18bab17729343590f0%20%3D%20L.marker%28%0A%20%20%20%20%20%20%20%20%20%20%20%20%20%20%20%20%5B51.5073219%2C%20-0.1276474%5D%2C%0A%20%20%20%20%20%20%20%20%20%20%20%20%20%20%20%20%7B%7D%0A%20%20%20%20%20%20%20%20%20%20%20%20%29.addTo%28map_16009332a6374aa59a815e1db12f5ea0%29%3B%0A%20%20%20%20%20%20%20%20%0A%20%20%20%20%0A%20%20%20%20%20%20%20%20var%20popup_b912f5bdd9ad49e5886751f1d7867289%20%3D%20L.popup%28%7B%22maxWidth%22%3A%20%22100%25%22%7D%29%3B%0A%0A%20%20%20%20%20%20%20%20%0A%20%20%20%20%20%20%20%20%20%20%20%20var%20html_0029628816674ff8b29c5fa43e4506b0%20%3D%20%24%28%60%3Cdiv%20id%3D%22html_0029628816674ff8b29c5fa43e4506b0%22%20style%3D%22width%3A%20100.0%25%3B%20height%3A%20100.0%25%3B%22%3EtechnicianFC%3A%20These%20names%20are%20used%20quite%20often%20in%20Italian%20football%20icl%20%F0%9F%98%AD.%20Don%27t%20see%20anything%20wrong%20with%20them.%3C/div%3E%60%29%5B0%5D%3B%0A%20%20%20%20%20%20%20%20%20%20%20%20popup_b912f5bdd9ad49e5886751f1d7867289.setContent%28html_0029628816674ff8b29c5fa43e4506b0%29%3B%0A%20%20%20%20%20%20%20%20%0A%0A%20%20%20%20%20%20%20%20marker_df63308aa6964b18bab17729343590f0.bindPopup%28popup_b912f5bdd9ad49e5886751f1d7867289%29%0A%20%20%20%20%20%20%20%20%3B%0A%0A%20%20%20%20%20%20%20%20%0A%20%20%20%20%0A%20%20%20%20%0A%20%20%20%20%20%20%20%20%20%20%20%20var%20marker_27bed16a42c144c196b2dc3c21d5cdaf%20%3D%20L.marker%28%0A%20%20%20%20%20%20%20%20%20%20%20%20%20%20%20%20%5B49.544984%2C%2018.0979616398702%5D%2C%0A%20%20%20%20%20%20%20%20%20%20%20%20%20%20%20%20%7B%7D%0A%20%20%20%20%20%20%20%20%20%20%20%20%29.addTo%28map_16009332a6374aa59a815e1db12f5ea0%29%3B%0A%20%20%20%20%20%20%20%20%0A%20%20%20%20%0A%20%20%20%20%20%20%20%20var%20popup_d75dc0f387d24fa8ac190c2b4092ddac%20%3D%20L.popup%28%7B%22maxWidth%22%3A%20%22100%25%22%7D%29%3B%0A%0A%20%20%20%20%20%20%20%20%0A%20%20%20%20%20%20%20%20%20%20%20%20var%20html_e4937d8a6a6f4bff933065f3b4549827%20%3D%20%24%28%60%3Cdiv%20id%3D%22html_e4937d8a6a6f4bff933065f3b4549827%22%20style%3D%22width%3A%20100.0%25%3B%20height%3A%20100.0%25%3B%22%3EMaikelliosis%3A%20Fitz%20is%20a%20slightly%20better%20vince%20carter%20of%20football%20https%3A//t.co/RaPivsWrUR%3C/div%3E%60%29%5B0%5D%3B%0A%20%20%20%20%20%20%20%20%20%20%20%20popup_d75dc0f387d24fa8ac190c2b4092ddac.setContent%28html_e4937d8a6a6f4bff933065f3b4549827%29%3B%0A%20%20%20%20%20%20%20%20%0A%0A%20%20%20%20%20%20%20%20marker_27bed16a42c144c196b2dc3c21d5cdaf.bindPopup%28popup_d75dc0f387d24fa8ac190c2b4092ddac%29%0A%20%20%20%20%20%20%20%20%3B%0A%0A%20%20%20%20%20%20%20%20%0A%20%20%20%20%0A%20%20%20%20%0A%20%20%20%20%20%20%20%20%20%20%20%20var%20marker_e50b1ed8fab74f68824f41baa62c747b%20%3D%20L.marker%28%0A%20%20%20%20%20%20%20%20%20%20%20%20%20%20%20%20%5B51.4587621%2C%20-2.1159032%5D%2C%0A%20%20%20%20%20%20%20%20%20%20%20%20%20%20%20%20%7B%7D%0A%20%20%20%20%20%20%20%20%20%20%20%20%29.addTo%28map_16009332a6374aa59a815e1db12f5ea0%29%3B%0A%20%20%20%20%20%20%20%20%0A%20%20%20%20%0A%20%20%20%20%20%20%20%20var%20popup_651b60d2a8fd4f1e846d4a1b4d7970e1%20%3D%20L.popup%28%7B%22maxWidth%22%3A%20%22100%25%22%7D%29%3B%0A%0A%20%20%20%20%20%20%20%20%0A%20%20%20%20%20%20%20%20%20%20%20%20var%20html_31ae358d0a3741879eb92276008ae41a%20%3D%20%24%28%60%3Cdiv%20id%3D%22html_31ae358d0a3741879eb92276008ae41a%22%20style%3D%22width%3A%20100.0%25%3B%20height%3A%20100.0%25%3B%22%3Esouthwestposh%3A%20What%20a%20find%20on%20e%20bay%20%C2%A31-85%2C%20my%20first%20away%20game%20with%20my%20Dad%201960%20and%20fans%20on%20a%20football%20special%20train%20https%3A//t.co/TU2VGVIC8Q%3C/div%3E%60%29%5B0%5D%3B%0A%20%20%20%20%20%20%20%20%20%20%20%20popup_651b60d2a8fd4f1e846d4a1b4d7970e1.setContent%28html_31ae358d0a3741879eb92276008ae41a%29%3B%0A%20%20%20%20%20%20%20%20%0A%0A%20%20%20%20%20%20%20%20marker_e50b1ed8fab74f68824f41baa62c747b.bindPopup%28popup_651b60d2a8fd4f1e846d4a1b4d7970e1%29%0A%20%20%20%20%20%20%20%20%3B%0A%0A%20%20%20%20%20%20%20%20%0A%20%20%20%20%0A%20%20%20%20%0A%20%20%20%20%20%20%20%20%20%20%20%20var%20marker_8485e1a9c68e45d0bc7c55f14d98d4bd%20%3D%20L.marker%28%0A%20%20%20%20%20%20%20%20%20%20%20%20%20%20%20%20%5B43.3558711%2C%2042.4297359%5D%2C%0A%20%20%20%20%20%20%20%20%20%20%20%20%20%20%20%20%7B%7D%0A%20%20%20%20%20%20%20%20%20%20%20%20%29.addTo%28map_16009332a6374aa59a815e1db12f5ea0%29%3B%0A%20%20%20%20%20%20%20%20%0A%20%20%20%20%0A%20%20%20%20%20%20%20%20var%20popup_9e2f0ef5e7d644279ad54812b9c2b0c4%20%3D%20L.popup%28%7B%22maxWidth%22%3A%20%22100%25%22%7D%29%3B%0A%0A%20%20%20%20%20%20%20%20%0A%20%20%20%20%20%20%20%20%20%20%20%20var%20html_bd462df608674da38022a6530d98d5f5%20%3D%20%24%28%60%3Cdiv%20id%3D%22html_bd462df608674da38022a6530d98d5f5%22%20style%3D%22width%3A%20100.0%25%3B%20height%3A%20100.0%25%3B%22%3ETshepo_SS%3A%20%40UncappedGuluva%20If%20George%20can%20still%20play%20football%20he%27ll%20be%20fine%2C%20look%20at%20Shabba%20at%2040.%3C/div%3E%60%29%5B0%5D%3B%0A%20%20%20%20%20%20%20%20%20%20%20%20popup_9e2f0ef5e7d644279ad54812b9c2b0c4.setContent%28html_bd462df608674da38022a6530d98d5f5%29%3B%0A%20%20%20%20%20%20%20%20%0A%0A%20%20%20%20%20%20%20%20marker_8485e1a9c68e45d0bc7c55f14d98d4bd.bindPopup%28popup_9e2f0ef5e7d644279ad54812b9c2b0c4%29%0A%20%20%20%20%20%20%20%20%3B%0A%0A%20%20%20%20%20%20%20%20%0A%20%20%20%20%0A%20%20%20%20%0A%20%20%20%20%20%20%20%20%20%20%20%20var%20marker_ce6bbab9965f410eb62449ea2a00e2c5%20%3D%20L.marker%28%0A%20%20%20%20%20%20%20%20%20%20%20%20%20%20%20%20%5B51.5073219%2C%20-0.1276474%5D%2C%0A%20%20%20%20%20%20%20%20%20%20%20%20%20%20%20%20%7B%7D%0A%20%20%20%20%20%20%20%20%20%20%20%20%29.addTo%28map_16009332a6374aa59a815e1db12f5ea0%29%3B%0A%20%20%20%20%20%20%20%20%0A%20%20%20%20%0A%20%20%20%20%20%20%20%20var%20popup_8bfb70e9aaa9430e8e75446c8c09a352%20%3D%20L.popup%28%7B%22maxWidth%22%3A%20%22100%25%22%7D%29%3B%0A%0A%20%20%20%20%20%20%20%20%0A%20%20%20%20%20%20%20%20%20%20%20%20var%20html_9e3f6293a33e48ec97970a1a15dc9a59%20%3D%20%24%28%60%3Cdiv%20id%3D%22html_9e3f6293a33e48ec97970a1a15dc9a59%22%20style%3D%22width%3A%20100.0%25%3B%20height%3A%20100.0%25%3B%22%3EKinetic_Coach%3A%20Women%E2%80%99s%20football%20is%20one%20of%20the%20fastest%20growing%20sports%20in%20the%20WORLD%20and%20this%20will%20only%20help%20with%20its%20growth%21%20Big%20things%20to%20come%20in%20the%20women%E2%80%99s%20game%21%3C/div%3E%60%29%5B0%5D%3B%0A%20%20%20%20%20%20%20%20%20%20%20%20popup_8bfb70e9aaa9430e8e75446c8c09a352.setContent%28html_9e3f6293a33e48ec97970a1a15dc9a59%29%3B%0A%20%20%20%20%20%20%20%20%0A%0A%20%20%20%20%20%20%20%20marker_ce6bbab9965f410eb62449ea2a00e2c5.bindPopup%28popup_8bfb70e9aaa9430e8e75446c8c09a352%29%0A%20%20%20%20%20%20%20%20%3B%0A%0A%20%20%20%20%20%20%20%20%0A%20%20%20%20%0A%20%20%20%20%0A%20%20%20%20%20%20%20%20%20%20%20%20var%20marker_2feb43a53325403abe3c25a9e224dd97%20%3D%20L.marker%28%0A%20%20%20%20%20%20%20%20%20%20%20%20%20%20%20%20%5B41.7728659%2C%20-88.1478527%5D%2C%0A%20%20%20%20%20%20%20%20%20%20%20%20%20%20%20%20%7B%7D%0A%20%20%20%20%20%20%20%20%20%20%20%20%29.addTo%28map_16009332a6374aa59a815e1db12f5ea0%29%3B%0A%20%20%20%20%20%20%20%20%0A%20%20%20%20%0A%20%20%20%20%20%20%20%20var%20popup_88f85c9203db42b4b0e195f0ba2cc6be%20%3D%20L.popup%28%7B%22maxWidth%22%3A%20%22100%25%22%7D%29%3B%0A%0A%20%20%20%20%20%20%20%20%0A%20%20%20%20%20%20%20%20%20%20%20%20var%20html_4235770eaa4c4a2d8b29122f238de53e%20%3D%20%24%28%60%3Cdiv%20id%3D%22html_4235770eaa4c4a2d8b29122f238de53e%22%20style%3D%22width%3A%20100.0%25%3B%20height%3A%20100.0%25%3B%22%3EChuckCanning%3A%20%40BearBoards_%20With%20you%20100%25.%20When%20players%20move%20on%2C%20wish%20then%20the%20best%20both%20in%20football%20and%20in%20life.%20But%20come%20Sunday%2C%20it%E2%80%99s%20all%20%F0%9F%90%BB%20%E2%AC%87%EF%B8%8F%20%21%3C/div%3E%60%29%5B0%5D%3B%0A%20%20%20%20%20%20%20%20%20%20%20%20popup_88f85c9203db42b4b0e195f0ba2cc6be.setContent%28html_4235770eaa4c4a2d8b29122f238de53e%29%3B%0A%20%20%20%20%20%20%20%20%0A%0A%20%20%20%20%20%20%20%20marker_2feb43a53325403abe3c25a9e224dd97.bindPopup%28popup_88f85c9203db42b4b0e195f0ba2cc6be%29%0A%20%20%20%20%20%20%20%20%3B%0A%0A%20%20%20%20%20%20%20%20%0A%20%20%20%20%0A%20%20%20%20%0A%20%20%20%20%20%20%20%20%20%20%20%20var%20marker_4bb221eabd024e9a8123a5d978a51585%20%3D%20L.marker%28%0A%20%20%20%20%20%20%20%20%20%20%20%20%20%20%20%20%5B31.1811523%2C%20-83.7878809%5D%2C%0A%20%20%20%20%20%20%20%20%20%20%20%20%20%20%20%20%7B%7D%0A%20%20%20%20%20%20%20%20%20%20%20%20%29.addTo%28map_16009332a6374aa59a815e1db12f5ea0%29%3B%0A%20%20%20%20%20%20%20%20%0A%20%20%20%20%0A%20%20%20%20%20%20%20%20var%20popup_cc924b22dab54bd5a27f9a4b70222d90%20%3D%20L.popup%28%7B%22maxWidth%22%3A%20%22100%25%22%7D%29%3B%0A%0A%20%20%20%20%20%20%20%20%0A%20%20%20%20%20%20%20%20%20%20%20%20var%20html_ad264a91c8734408922973fecafcb3c8%20%3D%20%24%28%60%3Cdiv%20id%3D%22html_ad264a91c8734408922973fecafcb3c8%22%20style%3D%22width%3A%20100.0%25%3B%20height%3A%20100.0%25%3B%22%3ERickieYates31%3A%20Glad%20to%20be%20invited%20to%20play%20in%20the%20six%20star%20football%20showcase%20%40CCPackersFball%20%40David_Windon%20%40247recruiting%20%40CoachCarswell%20%40GeorgiaKnights1%20%40ChrisGriggs9%20%40BossCross76ers%20https%3A//t.co/0sSbW4whHo%3C/div%3E%60%29%5B0%5D%3B%0A%20%20%20%20%20%20%20%20%20%20%20%20popup_cc924b22dab54bd5a27f9a4b70222d90.setContent%28html_ad264a91c8734408922973fecafcb3c8%29%3B%0A%20%20%20%20%20%20%20%20%0A%0A%20%20%20%20%20%20%20%20marker_4bb221eabd024e9a8123a5d978a51585.bindPopup%28popup_cc924b22dab54bd5a27f9a4b70222d90%29%0A%20%20%20%20%20%20%20%20%3B%0A%0A%20%20%20%20%20%20%20%20%0A%20%20%20%20%0A%20%20%20%20%0A%20%20%20%20%20%20%20%20%20%20%20%20var%20marker_8447d05c84cb4e818bec83f5c860bc3c%20%3D%20L.marker%28%0A%20%20%20%20%20%20%20%20%20%20%20%20%20%20%20%20%5B53.6466645%2C%20-1.7822482%5D%2C%0A%20%20%20%20%20%20%20%20%20%20%20%20%20%20%20%20%7B%7D%0A%20%20%20%20%20%20%20%20%20%20%20%20%29.addTo%28map_16009332a6374aa59a815e1db12f5ea0%29%3B%0A%20%20%20%20%20%20%20%20%0A%20%20%20%20%0A%20%20%20%20%20%20%20%20var%20popup_240eb3238b4e4091af43ea2e2697c2c9%20%3D%20L.popup%28%7B%22maxWidth%22%3A%20%22100%25%22%7D%29%3B%0A%0A%20%20%20%20%20%20%20%20%0A%20%20%20%20%20%20%20%20%20%20%20%20var%20html_42d7585aeb4647918d61a264342f92d9%20%3D%20%24%28%60%3Cdiv%20id%3D%22html_42d7585aeb4647918d61a264342f92d9%22%20style%3D%22width%3A%20100.0%25%3B%20height%3A%20100.0%25%3B%22%3Eyung_blastbeat%3A%20%40Majortarantino%20I%27ll%20change%20the%20tweet%20when%20the%20fans%20stop%20commenting%F0%9F%A4%B7%E2%80%8D%E2%99%82%EF%B8%8F%20I%27m%20more%20trying%20to%20highlight%20the%20hypocrisy%20of%20it%20all%2C%20that%20these%20football%20fans%20are%20willing%20to%20generalise%20but%20hate%20it%20when%20it%20happens%20to%20them.%20I%27m%20right%20there%20with%20on%20media%20bias%20tho%3C/div%3E%60%29%5B0%5D%3B%0A%20%20%20%20%20%20%20%20%20%20%20%20popup_240eb3238b4e4091af43ea2e2697c2c9.setContent%28html_42d7585aeb4647918d61a264342f92d9%29%3B%0A%20%20%20%20%20%20%20%20%0A%0A%20%20%20%20%20%20%20%20marker_8447d05c84cb4e818bec83f5c860bc3c.bindPopup%28popup_240eb3238b4e4091af43ea2e2697c2c9%29%0A%20%20%20%20%20%20%20%20%3B%0A%0A%20%20%20%20%20%20%20%20%0A%20%20%20%20%0A%20%20%20%20%0A%20%20%20%20%20%20%20%20%20%20%20%20var%20marker_8c0ec48acaca4a5bb0854c510e31ec6d%20%3D%20L.marker%28%0A%20%20%20%20%20%20%20%20%20%20%20%20%20%20%20%20%5B52.3727598%2C%204.8936041%5D%2C%0A%20%20%20%20%20%20%20%20%20%20%20%20%20%20%20%20%7B%7D%0A%20%20%20%20%20%20%20%20%20%20%20%20%29.addTo%28map_16009332a6374aa59a815e1db12f5ea0%29%3B%0A%20%20%20%20%20%20%20%20%0A%20%20%20%20%0A%20%20%20%20%20%20%20%20var%20popup_a523f40cd72043e89dca187b91201aef%20%3D%20L.popup%28%7B%22maxWidth%22%3A%20%22100%25%22%7D%29%3B%0A%0A%20%20%20%20%20%20%20%20%0A%20%20%20%20%20%20%20%20%20%20%20%20var%20html_27d81e0c5cda46aebbb2eb7aa19f56c0%20%3D%20%24%28%60%3Cdiv%20id%3D%22html_27d81e0c5cda46aebbb2eb7aa19f56c0%22%20style%3D%22width%3A%20100.0%25%3B%20height%3A%20100.0%25%3B%22%3Ekneafseyy%3A%20%40Adderaltruistic%20Football%3C/div%3E%60%29%5B0%5D%3B%0A%20%20%20%20%20%20%20%20%20%20%20%20popup_a523f40cd72043e89dca187b91201aef.setContent%28html_27d81e0c5cda46aebbb2eb7aa19f56c0%29%3B%0A%20%20%20%20%20%20%20%20%0A%0A%20%20%20%20%20%20%20%20marker_8c0ec48acaca4a5bb0854c510e31ec6d.bindPopup%28popup_a523f40cd72043e89dca187b91201aef%29%0A%20%20%20%20%20%20%20%20%3B%0A%0A%20%20%20%20%20%20%20%20%0A%20%20%20%20%0A%20%20%20%20%0A%20%20%20%20%20%20%20%20%20%20%20%20var%20marker_32405b15a8a04faa9d377f86adadcbf3%20%3D%20L.marker%28%0A%20%20%20%20%20%20%20%20%20%20%20%20%20%20%20%20%5B42.3602534%2C%20-71.0582912%5D%2C%0A%20%20%20%20%20%20%20%20%20%20%20%20%20%20%20%20%7B%7D%0A%20%20%20%20%20%20%20%20%20%20%20%20%29.addTo%28map_16009332a6374aa59a815e1db12f5ea0%29%3B%0A%20%20%20%20%20%20%20%20%0A%20%20%20%20%0A%20%20%20%20%20%20%20%20var%20popup_89435a1e2a7f4677acb98442333198a8%20%3D%20L.popup%28%7B%22maxWidth%22%3A%20%22100%25%22%7D%29%3B%0A%0A%20%20%20%20%20%20%20%20%0A%20%20%20%20%20%20%20%20%20%20%20%20var%20html_2f79ddd9c612444b9b431003adf76531%20%3D%20%24%28%60%3Cdiv%20id%3D%22html_2f79ddd9c612444b9b431003adf76531%22%20style%3D%22width%3A%20100.0%25%3B%20height%3A%20100.0%25%3B%22%3ETrevorHass%3A%20Here%E2%80%99s%20the%20updated%20%40GlobeSchools%20football%20Top%2020.%20%20%20Lincoln-Sudbury%20moves%20to%20No.%203%2C%20Duxbury%20jumps%20to%20No.%207%2C%20Brockton%20ascends%20to%20No.%2010%20and%20BC%20High%2C%20Wellesley%20and%20Milton%20enter.%20https%3A//t.co/kAxgUnFJZR%3C/div%3E%60%29%5B0%5D%3B%0A%20%20%20%20%20%20%20%20%20%20%20%20popup_89435a1e2a7f4677acb98442333198a8.setContent%28html_2f79ddd9c612444b9b431003adf76531%29%3B%0A%20%20%20%20%20%20%20%20%0A%0A%20%20%20%20%20%20%20%20marker_32405b15a8a04faa9d377f86adadcbf3.bindPopup%28popup_89435a1e2a7f4677acb98442333198a8%29%0A%20%20%20%20%20%20%20%20%3B%0A%0A%20%20%20%20%20%20%20%20%0A%20%20%20%20%0A%20%20%20%20%0A%20%20%20%20%20%20%20%20%20%20%20%20var%20marker_75843c3b14304400af471b1d528a99cc%20%3D%20L.marker%28%0A%20%20%20%20%20%20%20%20%20%20%20%20%20%20%20%20%5B36.5748441%2C%20139.2394179%5D%2C%0A%20%20%20%20%20%20%20%20%20%20%20%20%20%20%20%20%7B%7D%0A%20%20%20%20%20%20%20%20%20%20%20%20%29.addTo%28map_16009332a6374aa59a815e1db12f5ea0%29%3B%0A%20%20%20%20%20%20%20%20%0A%20%20%20%20%0A%20%20%20%20%20%20%20%20var%20popup_372174d67c634f0387de1a9fa0f642ee%20%3D%20L.popup%28%7B%22maxWidth%22%3A%20%22100%25%22%7D%29%3B%0A%0A%20%20%20%20%20%20%20%20%0A%20%20%20%20%20%20%20%20%20%20%20%20var%20html_e32d7c5f7ed249e8879fd4e05a38736b%20%3D%20%24%28%60%3Cdiv%20id%3D%22html_e32d7c5f7ed249e8879fd4e05a38736b%22%20style%3D%22width%3A%20100.0%25%3B%20height%3A%20100.0%25%3B%22%3ETrialanderror_v%3A%20BBC%20to%20screen%20Women%27s%20Super%20League%20football%20https%3A//t.co/BCmS5SA837%3C/div%3E%60%29%5B0%5D%3B%0A%20%20%20%20%20%20%20%20%20%20%20%20popup_372174d67c634f0387de1a9fa0f642ee.setContent%28html_e32d7c5f7ed249e8879fd4e05a38736b%29%3B%0A%20%20%20%20%20%20%20%20%0A%0A%20%20%20%20%20%20%20%20marker_75843c3b14304400af471b1d528a99cc.bindPopup%28popup_372174d67c634f0387de1a9fa0f642ee%29%0A%20%20%20%20%20%20%20%20%3B%0A%0A%20%20%20%20%20%20%20%20%0A%20%20%20%20%0A%20%20%20%20%0A%20%20%20%20%20%20%20%20%20%20%20%20var%20marker_599d498cbc484e919cc8d40218d7c12c%20%3D%20L.marker%28%0A%20%20%20%20%20%20%20%20%20%20%20%20%20%20%20%20%5B51.0887105%2C%201.1663557%5D%2C%0A%20%20%20%20%20%20%20%20%20%20%20%20%20%20%20%20%7B%7D%0A%20%20%20%20%20%20%20%20%20%20%20%20%29.addTo%28map_16009332a6374aa59a815e1db12f5ea0%29%3B%0A%20%20%20%20%20%20%20%20%0A%20%20%20%20%0A%20%20%20%20%20%20%20%20var%20popup_f95a2ecf01734acfb6f1ba09f847cb46%20%3D%20L.popup%28%7B%22maxWidth%22%3A%20%22100%25%22%7D%29%3B%0A%0A%20%20%20%20%20%20%20%20%0A%20%20%20%20%20%20%20%20%20%20%20%20var%20html_5c7cb805283c4fbd9cadd1ff1126f630%20%3D%20%24%28%60%3Cdiv%20id%3D%22html_5c7cb805283c4fbd9cadd1ff1126f630%22%20style%3D%22width%3A%20100.0%25%3B%20height%3A%20100.0%25%3B%22%3EShepwayST%3A%20Due%20to%20the%20Good%20Friday%20bank%20holiday%2C%20our%20Friday%20classes%20are%20returning%20on%20April%209th.%20%20%20Join%20us%20for%20walking%20football%20at%20midday%20%E2%9A%BD%EF%B8%8F%20https%3A//t.co/FRirqnFCeD%3C/div%3E%60%29%5B0%5D%3B%0A%20%20%20%20%20%20%20%20%20%20%20%20popup_f95a2ecf01734acfb6f1ba09f847cb46.setContent%28html_5c7cb805283c4fbd9cadd1ff1126f630%29%3B%0A%20%20%20%20%20%20%20%20%0A%0A%20%20%20%20%20%20%20%20marker_599d498cbc484e919cc8d40218d7c12c.bindPopup%28popup_f95a2ecf01734acfb6f1ba09f847cb46%29%0A%20%20%20%20%20%20%20%20%3B%0A%0A%20%20%20%20%20%20%20%20%0A%20%20%20%20%0A%20%20%20%20%0A%20%20%20%20%20%20%20%20%20%20%20%20var%20marker_a6b79514f4f6460a88a0568adb7e46b9%20%3D%20L.marker%28%0A%20%20%20%20%20%20%20%20%20%20%20%20%20%20%20%20%5B41.8755546%2C%20-87.6244212%5D%2C%0A%20%20%20%20%20%20%20%20%20%20%20%20%20%20%20%20%7B%7D%0A%20%20%20%20%20%20%20%20%20%20%20%20%29.addTo%28map_16009332a6374aa59a815e1db12f5ea0%29%3B%0A%20%20%20%20%20%20%20%20%0A%20%20%20%20%0A%20%20%20%20%20%20%20%20var%20popup_8e5a6864e78344a7941da725bcbcff21%20%3D%20L.popup%28%7B%22maxWidth%22%3A%20%22100%25%22%7D%29%3B%0A%0A%20%20%20%20%20%20%20%20%0A%20%20%20%20%20%20%20%20%20%20%20%20var%20html_364c118c58ff4ce2b664d1a2355e7246%20%3D%20%24%28%60%3Cdiv%20id%3D%22html_364c118c58ff4ce2b664d1a2355e7246%22%20style%3D%22width%3A%20100.0%25%3B%20height%3A%20100.0%25%3B%22%3ESouthSideSisco%3A%20%40NFL_DovKleiman%20%40patspulpit%20They%20had%207%20seasons%20of%20.500%20or%20below%20.500%20football%20in%20New%20England%20from%201985-2000%21%20Yea%20that%20sounds%20like%20a%20winning%20franchise.%20You%20can%20name%20call%20all%20you%20want%20but%20you%20are%20wrong%20in%20this%20case.%3C/div%3E%60%29%5B0%5D%3B%0A%20%20%20%20%20%20%20%20%20%20%20%20popup_8e5a6864e78344a7941da725bcbcff21.setContent%28html_364c118c58ff4ce2b664d1a2355e7246%29%3B%0A%20%20%20%20%20%20%20%20%0A%0A%20%20%20%20%20%20%20%20marker_a6b79514f4f6460a88a0568adb7e46b9.bindPopup%28popup_8e5a6864e78344a7941da725bcbcff21%29%0A%20%20%20%20%20%20%20%20%3B%0A%0A%20%20%20%20%20%20%20%20%0A%20%20%20%20%0A%20%20%20%20%0A%20%20%20%20%20%20%20%20%20%20%20%20var%20marker_83ab74e7d0fb4583a38d0e4ce41f52b1%20%3D%20L.marker%28%0A%20%20%20%20%20%20%20%20%20%20%20%20%20%20%20%20%5B13.2904027%2C%20108.4265113%5D%2C%0A%20%20%20%20%20%20%20%20%20%20%20%20%20%20%20%20%7B%7D%0A%20%20%20%20%20%20%20%20%20%20%20%20%29.addTo%28map_16009332a6374aa59a815e1db12f5ea0%29%3B%0A%20%20%20%20%20%20%20%20%0A%20%20%20%20%0A%20%20%20%20%20%20%20%20var%20popup_b61b187f094c4d2bbcc37ebc4ff05cf0%20%3D%20L.popup%28%7B%22maxWidth%22%3A%20%22100%25%22%7D%29%3B%0A%0A%20%20%20%20%20%20%20%20%0A%20%20%20%20%20%20%20%20%20%20%20%20var%20html_ac149e360fc14af6a0c4299545ce5bc7%20%3D%20%24%28%60%3Cdiv%20id%3D%22html_ac149e360fc14af6a0c4299545ce5bc7%22%20style%3D%22width%3A%20100.0%25%3B%20height%3A%20100.0%25%3B%22%3Einvestor202011%3A%20Cryptocurrency%20exchange%20LATOKEN%20is%20letting%20users%20choose%20from%205%20Football%20Fan%20tokens%3A%20AS%20Roma%2C%20FC%20Barcelona%2C%20Galatasaray%2C%20Juventus%20%26amp%3B%20PSG%21%20%20Cast%20your%20votes%20and%20stand%20a%20chance%20to%20win%20%24300%20in%20%23Bitcoin%20https%3A//t.co/MH2oF1KevK%20%23LatokenApp%20%23LatokenLC%3C/div%3E%60%29%5B0%5D%3B%0A%20%20%20%20%20%20%20%20%20%20%20%20popup_b61b187f094c4d2bbcc37ebc4ff05cf0.setContent%28html_ac149e360fc14af6a0c4299545ce5bc7%29%3B%0A%20%20%20%20%20%20%20%20%0A%0A%20%20%20%20%20%20%20%20marker_83ab74e7d0fb4583a38d0e4ce41f52b1.bindPopup%28popup_b61b187f094c4d2bbcc37ebc4ff05cf0%29%0A%20%20%20%20%20%20%20%20%3B%0A%0A%20%20%20%20%20%20%20%20%0A%20%20%20%20%0A%20%20%20%20%0A%20%20%20%20%20%20%20%20%20%20%20%20var%20marker_dcba62ba0eca4fc4801d05c1f0523c12%20%3D%20L.marker%28%0A%20%20%20%20%20%20%20%20%20%20%20%20%20%20%20%20%5B44.0505054%2C%20-123.0950506%5D%2C%0A%20%20%20%20%20%20%20%20%20%20%20%20%20%20%20%20%7B%7D%0A%20%20%20%20%20%20%20%20%20%20%20%20%29.addTo%28map_16009332a6374aa59a815e1db12f5ea0%29%3B%0A%20%20%20%20%20%20%20%20%0A%20%20%20%20%0A%20%20%20%20%20%20%20%20var%20popup_bc6d11a6922e47649b0a3c7d1196ebc4%20%3D%20L.popup%28%7B%22maxWidth%22%3A%20%22100%25%22%7D%29%3B%0A%0A%20%20%20%20%20%20%20%20%0A%20%20%20%20%20%20%20%20%20%20%20%20var%20html_0ddc75e966984181bbdbc686eee231ac%20%3D%20%24%28%60%3Cdiv%20id%3D%22html_0ddc75e966984181bbdbc686eee231ac%22%20style%3D%22width%3A%20100.0%25%3B%20height%3A%20100.0%25%3B%22%3EPTalkingraven%3A%20%40PaulHCrothers%20%40FirewifeyOG1%20Don%E2%80%99t%20forget%20the%20American%20Football%20League%20that%20he%20started%20and%20failed%20at%20because%20NFL%20Wouldn%E2%80%99t%20let%20him%20have%20a%20team%3C/div%3E%60%29%5B0%5D%3B%0A%20%20%20%20%20%20%20%20%20%20%20%20popup_bc6d11a6922e47649b0a3c7d1196ebc4.setContent%28html_0ddc75e966984181bbdbc686eee231ac%29%3B%0A%20%20%20%20%20%20%20%20%0A%0A%20%20%20%20%20%20%20%20marker_dcba62ba0eca4fc4801d05c1f0523c12.bindPopup%28popup_bc6d11a6922e47649b0a3c7d1196ebc4%29%0A%20%20%20%20%20%20%20%20%3B%0A%0A%20%20%20%20%20%20%20%20%0A%20%20%20%20%0A%20%20%20%20%0A%20%20%20%20%20%20%20%20%20%20%20%20var%20marker_0a640c3a9f5d4b998db47c958b9989d2%20%3D%20L.marker%28%0A%20%20%20%20%20%20%20%20%20%20%20%20%20%20%20%20%5B-31.9527121%2C%20115.8604796%5D%2C%0A%20%20%20%20%20%20%20%20%20%20%20%20%20%20%20%20%7B%7D%0A%20%20%20%20%20%20%20%20%20%20%20%20%29.addTo%28map_16009332a6374aa59a815e1db12f5ea0%29%3B%0A%20%20%20%20%20%20%20%20%0A%20%20%20%20%0A%20%20%20%20%20%20%20%20var%20popup_9185e9f9428d4b938234353ccf2d6168%20%3D%20L.popup%28%7B%22maxWidth%22%3A%20%22100%25%22%7D%29%3B%0A%0A%20%20%20%20%20%20%20%20%0A%20%20%20%20%20%20%20%20%20%20%20%20var%20html_75c3150b22784973aab7b477686d53b9%20%3D%20%24%28%60%3Cdiv%20id%3D%22html_75c3150b22784973aab7b477686d53b9%22%20style%3D%22width%3A%20100.0%25%3B%20height%3A%20100.0%25%3B%22%3Epillowtakin%3A%20%40DanieleLucc%20Juve%20are%20a%20great%20club.%20One%20club%20comes%20to%20mind%20that%E2%80%99s%20developed%20youthful%20players%2C%20sold%20off%20older%20maturing%20players%20and%20achieved%20decades%20of%20success.%20Ferguson%E2%80%99s%20Man%20Utd%20were%20adaptable%20to%20the%20changing%20dynamics%20of%20football.%20Juve%20hierarchy%20need%20to%20be%20more%20versatile%2C%20forward%20thinking.%3C/div%3E%60%29%5B0%5D%3B%0A%20%20%20%20%20%20%20%20%20%20%20%20popup_9185e9f9428d4b938234353ccf2d6168.setContent%28html_75c3150b22784973aab7b477686d53b9%29%3B%0A%20%20%20%20%20%20%20%20%0A%0A%20%20%20%20%20%20%20%20marker_0a640c3a9f5d4b998db47c958b9989d2.bindPopup%28popup_9185e9f9428d4b938234353ccf2d6168%29%0A%20%20%20%20%20%20%20%20%3B%0A%0A%20%20%20%20%20%20%20%20%0A%20%20%20%20%0A%20%20%20%20%0A%20%20%20%20%20%20%20%20%20%20%20%20var%20marker_252fded65b9846f6a8e67b985c5804d5%20%3D%20L.marker%28%0A%20%20%20%20%20%20%20%20%20%20%20%20%20%20%20%20%5B51.5073219%2C%20-0.1276474%5D%2C%0A%20%20%20%20%20%20%20%20%20%20%20%20%20%20%20%20%7B%7D%0A%20%20%20%20%20%20%20%20%20%20%20%20%29.addTo%28map_16009332a6374aa59a815e1db12f5ea0%29%3B%0A%20%20%20%20%20%20%20%20%0A%20%20%20%20%0A%20%20%20%20%20%20%20%20var%20popup_11d258891c2a4586a5aa293ef911d267%20%3D%20L.popup%28%7B%22maxWidth%22%3A%20%22100%25%22%7D%29%3B%0A%0A%20%20%20%20%20%20%20%20%0A%20%20%20%20%20%20%20%20%20%20%20%20var%20html_5ee1170d75534f53a2b11c881f1e3fa1%20%3D%20%24%28%60%3Cdiv%20id%3D%22html_5ee1170d75534f53a2b11c881f1e3fa1%22%20style%3D%22width%3A%20100.0%25%3B%20height%3A%20100.0%25%3B%22%3Egreasydunlop%3A%20There%E2%80%99s%20nothing%20noble%20or%20righteous%20about%20the%20posh%20kids%20rioting%20and%20it%E2%80%99s%20just%20as%20mindless%20violence%20as%20when%20working%20class%20football%20fans%20do%20it.%3C/div%3E%60%29%5B0%5D%3B%0A%20%20%20%20%20%20%20%20%20%20%20%20popup_11d258891c2a4586a5aa293ef911d267.setContent%28html_5ee1170d75534f53a2b11c881f1e3fa1%29%3B%0A%20%20%20%20%20%20%20%20%0A%0A%20%20%20%20%20%20%20%20marker_252fded65b9846f6a8e67b985c5804d5.bindPopup%28popup_11d258891c2a4586a5aa293ef911d267%29%0A%20%20%20%20%20%20%20%20%3B%0A%0A%20%20%20%20%20%20%20%20%0A%20%20%20%20%0A%20%20%20%20%0A%20%20%20%20%20%20%20%20%20%20%20%20var%20marker_0ff1fb9a1e474294be3a48e2a6cd03a7%20%3D%20L.marker%28%0A%20%20%20%20%20%20%20%20%20%20%20%20%20%20%20%20%5B39.4203978%2C%20-84.180897%5D%2C%0A%20%20%20%20%20%20%20%20%20%20%20%20%20%20%20%20%7B%7D%0A%20%20%20%20%20%20%20%20%20%20%20%20%29.addTo%28map_16009332a6374aa59a815e1db12f5ea0%29%3B%0A%20%20%20%20%20%20%20%20%0A%20%20%20%20%0A%20%20%20%20%20%20%20%20var%20popup_b8d259f6737a4438a60225568522e304%20%3D%20L.popup%28%7B%22maxWidth%22%3A%20%22100%25%22%7D%29%3B%0A%0A%20%20%20%20%20%20%20%20%0A%20%20%20%20%20%20%20%20%20%20%20%20var%20html_5fa05da61e78467e8fa08533ee0fb4ee%20%3D%20%24%28%60%3Cdiv%20id%3D%22html_5fa05da61e78467e8fa08533ee0fb4ee%22%20style%3D%22width%3A%20100.0%25%3B%20height%3A%20100.0%25%3B%22%3EKeraaa32%3A%20and%20said%20we%20were%20done%20C-%20he%20had%20no%20choice%20ms.H%20M-%20he%20had%20no%20choice%3F%20wym%3F%20C-%20u%20were%20keeping%20him%20off%20track%20and%20got%20him%20suspended%20so%20i%20told%20him%20that%20y%E2%80%99all%20couldn%E2%80%99t%20be%20together%20until%20football%20season%20is%20over%20M-%20why%20would%20he%20listen%20to%20ur%20orders%3F%20C-%20i%20told%20him%20that%20if%20y%E2%80%99all%20don%E2%80%99t%20end%3C/div%3E%60%29%5B0%5D%3B%0A%20%20%20%20%20%20%20%20%20%20%20%20popup_b8d259f6737a4438a60225568522e304.setContent%28html_5fa05da61e78467e8fa08533ee0fb4ee%29%3B%0A%20%20%20%20%20%20%20%20%0A%0A%20%20%20%20%20%20%20%20marker_0ff1fb9a1e474294be3a48e2a6cd03a7.bindPopup%28popup_b8d259f6737a4438a60225568522e304%29%0A%20%20%20%20%20%20%20%20%3B%0A%0A%20%20%20%20%20%20%20%20%0A%20%20%20%20%0A%20%20%20%20%0A%20%20%20%20%20%20%20%20%20%20%20%20var%20marker_7324ac4a4c1442c4a628f35c049c8722%20%3D%20L.marker%28%0A%20%20%20%20%20%20%20%20%20%20%20%20%20%20%20%20%5B52.628606%2C%201.29227%5D%2C%0A%20%20%20%20%20%20%20%20%20%20%20%20%20%20%20%20%7B%7D%0A%20%20%20%20%20%20%20%20%20%20%20%20%29.addTo%28map_16009332a6374aa59a815e1db12f5ea0%29%3B%0A%20%20%20%20%20%20%20%20%0A%20%20%20%20%0A%20%20%20%20%20%20%20%20var%20popup_33b6b46b3bc946cc9dedafcdd5606723%20%3D%20L.popup%28%7B%22maxWidth%22%3A%20%22100%25%22%7D%29%3B%0A%0A%20%20%20%20%20%20%20%20%0A%20%20%20%20%20%20%20%20%20%20%20%20var%20html_995bb71a204a419dafad9c906fec83af%20%3D%20%24%28%60%3Cdiv%20id%3D%22html_995bb71a204a419dafad9c906fec83af%22%20style%3D%22width%3A%20100.0%25%3B%20height%3A%20100.0%25%3B%22%3EHipkissDesign%3A%20%40sportswithjohn%20One%20of%20the%20just%20beautiful%20football%20stories%20of%20all%20time.%20Get%20er%20done%20John%21%3C/div%3E%60%29%5B0%5D%3B%0A%20%20%20%20%20%20%20%20%20%20%20%20popup_33b6b46b3bc946cc9dedafcdd5606723.setContent%28html_995bb71a204a419dafad9c906fec83af%29%3B%0A%20%20%20%20%20%20%20%20%0A%0A%20%20%20%20%20%20%20%20marker_7324ac4a4c1442c4a628f35c049c8722.bindPopup%28popup_33b6b46b3bc946cc9dedafcdd5606723%29%0A%20%20%20%20%20%20%20%20%3B%0A%0A%20%20%20%20%20%20%20%20%0A%20%20%20%20%0A%20%20%20%20%0A%20%20%20%20%20%20%20%20%20%20%20%20var%20marker_8d653afa6d57468f9438d6f22f8ab28d%20%3D%20L.marker%28%0A%20%20%20%20%20%20%20%20%20%20%20%20%20%20%20%20%5B50.1552197%2C%20-5.0688262%5D%2C%0A%20%20%20%20%20%20%20%20%20%20%20%20%20%20%20%20%7B%7D%0A%20%20%20%20%20%20%20%20%20%20%20%20%29.addTo%28map_16009332a6374aa59a815e1db12f5ea0%29%3B%0A%20%20%20%20%20%20%20%20%0A%20%20%20%20%0A%20%20%20%20%20%20%20%20var%20popup_eaf33fc551ec4e719e1408b142bb6adf%20%3D%20L.popup%28%7B%22maxWidth%22%3A%20%22100%25%22%7D%29%3B%0A%0A%20%20%20%20%20%20%20%20%0A%20%20%20%20%20%20%20%20%20%20%20%20var%20html_cfbbaced99f440c79814a602f110aac9%20%3D%20%24%28%60%3Cdiv%20id%3D%22html_cfbbaced99f440c79814a602f110aac9%22%20style%3D%22width%3A%20100.0%25%3B%20height%3A%20100.0%25%3B%22%3Ephilpott70%3A%20%40SkyNews%20If%20this%20was%20a%20football%20crowd%20%2Cdogs%20%2Chorses%20%2CCs%20spray%20etc%20would%20of%20been%20used%20and%20all%20arrested%20%F0%9F%A4%B7%E2%80%8D%E2%99%82%EF%B8%8F%3C/div%3E%60%29%5B0%5D%3B%0A%20%20%20%20%20%20%20%20%20%20%20%20popup_eaf33fc551ec4e719e1408b142bb6adf.setContent%28html_cfbbaced99f440c79814a602f110aac9%29%3B%0A%20%20%20%20%20%20%20%20%0A%0A%20%20%20%20%20%20%20%20marker_8d653afa6d57468f9438d6f22f8ab28d.bindPopup%28popup_eaf33fc551ec4e719e1408b142bb6adf%29%0A%20%20%20%20%20%20%20%20%3B%0A%0A%20%20%20%20%20%20%20%20%0A%20%20%20%20%0A%20%20%20%20%0A%20%20%20%20%20%20%20%20%20%20%20%20var%20marker_1aef6c49f0b94c718cb3f5d337ab3465%20%3D%20L.marker%28%0A%20%20%20%20%20%20%20%20%20%20%20%20%20%20%20%20%5B39.4203978%2C%20-84.180897%5D%2C%0A%20%20%20%20%20%20%20%20%20%20%20%20%20%20%20%20%7B%7D%0A%20%20%20%20%20%20%20%20%20%20%20%20%29.addTo%28map_16009332a6374aa59a815e1db12f5ea0%29%3B%0A%20%20%20%20%20%20%20%20%0A%20%20%20%20%0A%20%20%20%20%20%20%20%20var%20popup_5008471aeeb142618791956c7fa7ec2d%20%3D%20L.popup%28%7B%22maxWidth%22%3A%20%22100%25%22%7D%29%3B%0A%0A%20%20%20%20%20%20%20%20%0A%20%20%20%20%20%20%20%20%20%20%20%20var%20html_4b5e0775af1e4b6b9374afc07b97e7ba%20%3D%20%24%28%60%3Cdiv%20id%3D%22html_4b5e0775af1e4b6b9374afc07b97e7ba%22%20style%3D%22width%3A%20100.0%25%3B%20height%3A%20100.0%25%3B%22%3EKeraaa32%3A%20M-%20roll%20the%20window%20down%20Q-%20%2Arolls%20it%20down%2A%20M-%20%2Apulls%20his%20face%20and%20kisses%20him%2A%20Q-%20%2Akisses%20back%2A%20we%20were%20kissing%20for%20bout%20a%20minute%20till%20i%20broke%20it%20M-%20mmk%20see%20u%20after%20school%20Q-%20bae%20i%20got%20practice%20M-%20oh%20yeah%20and%20we%20are%20not%20dating%20until%20football%20season%20over%20ok%3F%20Q-%20i%20hear%20u%3C/div%3E%60%29%5B0%5D%3B%0A%20%20%20%20%20%20%20%20%20%20%20%20popup_5008471aeeb142618791956c7fa7ec2d.setContent%28html_4b5e0775af1e4b6b9374afc07b97e7ba%29%3B%0A%20%20%20%20%20%20%20%20%0A%0A%20%20%20%20%20%20%20%20marker_1aef6c49f0b94c718cb3f5d337ab3465.bindPopup%28popup_5008471aeeb142618791956c7fa7ec2d%29%0A%20%20%20%20%20%20%20%20%3B%0A%0A%20%20%20%20%20%20%20%20%0A%20%20%20%20%0A%20%20%20%20%0A%20%20%20%20%20%20%20%20%20%20%20%20var%20marker_b95d4cdbaf004a578b38f521d0e3deac%20%3D%20L.marker%28%0A%20%20%20%20%20%20%20%20%20%20%20%20%20%20%20%20%5B40.7237133%2C%20-73.7048532%5D%2C%0A%20%20%20%20%20%20%20%20%20%20%20%20%20%20%20%20%7B%7D%0A%20%20%20%20%20%20%20%20%20%20%20%20%29.addTo%28map_16009332a6374aa59a815e1db12f5ea0%29%3B%0A%20%20%20%20%20%20%20%20%0A%20%20%20%20%0A%20%20%20%20%20%20%20%20var%20popup_f30725cbd7d34542958778bdb24bdf82%20%3D%20L.popup%28%7B%22maxWidth%22%3A%20%22100%25%22%7D%29%3B%0A%0A%20%20%20%20%20%20%20%20%0A%20%20%20%20%20%20%20%20%20%20%20%20var%20html_b7871e8477904d51bbae37953d3aaacb%20%3D%20%24%28%60%3Cdiv%20id%3D%22html_b7871e8477904d51bbae37953d3aaacb%22%20style%3D%22width%3A%20100.0%25%3B%20height%3A%20100.0%25%3B%22%3Ebrendan524%3A%20%40JeffDuncan_%20Top%208%20Teams%203%20rounds%20win%20or%20go%20home%20is%20what%20football%20should%20be%20doing.%3C/div%3E%60%29%5B0%5D%3B%0A%20%20%20%20%20%20%20%20%20%20%20%20popup_f30725cbd7d34542958778bdb24bdf82.setContent%28html_b7871e8477904d51bbae37953d3aaacb%29%3B%0A%20%20%20%20%20%20%20%20%0A%0A%20%20%20%20%20%20%20%20marker_b95d4cdbaf004a578b38f521d0e3deac.bindPopup%28popup_f30725cbd7d34542958778bdb24bdf82%29%0A%20%20%20%20%20%20%20%20%3B%0A%0A%20%20%20%20%20%20%20%20%0A%20%20%20%20%0A%20%20%20%20%0A%20%20%20%20%20%20%20%20%20%20%20%20var%20marker_1fb0669c32e74e74a3bb3dd66407dd4f%20%3D%20L.marker%28%0A%20%20%20%20%20%20%20%20%20%20%20%20%20%20%20%20%5B54.7023545%2C%20-3.2765753%5D%2C%0A%20%20%20%20%20%20%20%20%20%20%20%20%20%20%20%20%7B%7D%0A%20%20%20%20%20%20%20%20%20%20%20%20%29.addTo%28map_16009332a6374aa59a815e1db12f5ea0%29%3B%0A%20%20%20%20%20%20%20%20%0A%20%20%20%20%0A%20%20%20%20%20%20%20%20var%20popup_d7220364b9d043f6bcc27fa940cedebb%20%3D%20L.popup%28%7B%22maxWidth%22%3A%20%22100%25%22%7D%29%3B%0A%0A%20%20%20%20%20%20%20%20%0A%20%20%20%20%20%20%20%20%20%20%20%20var%20html_1c99a4e7cadc45f898c3b4cc021fb683%20%3D%20%24%28%60%3Cdiv%20id%3D%22html_1c99a4e7cadc45f898c3b4cc021fb683%22%20style%3D%22width%3A%20100.0%25%3B%20height%3A%20100.0%25%3B%22%3Erebekkarnold%3A%20%40offthebridle80%20%40DaleFCB10%20%40SkyBet%20I%20am%20not%20patriotic%20at%20all%2C%20it%E2%80%99s%20just%20football%20to%20me%2C%20I%20completely%20separate%20the%20two%20and%20I%E2%80%99m%20curious%20to%20watch%20the%20players%20play%20together%2C%20I%20enjoy%20watching%20international%20football%2C%20I%20enjoy%20watching%20all%20football%2C%20it%E2%80%99s%20just%20not%20that%20deep%20for%20me.%3C/div%3E%60%29%5B0%5D%3B%0A%20%20%20%20%20%20%20%20%20%20%20%20popup_d7220364b9d043f6bcc27fa940cedebb.setContent%28html_1c99a4e7cadc45f898c3b4cc021fb683%29%3B%0A%20%20%20%20%20%20%20%20%0A%0A%20%20%20%20%20%20%20%20marker_1fb0669c32e74e74a3bb3dd66407dd4f.bindPopup%28popup_d7220364b9d043f6bcc27fa940cedebb%29%0A%20%20%20%20%20%20%20%20%3B%0A%0A%20%20%20%20%20%20%20%20%0A%20%20%20%20%0A%20%20%20%20%0A%20%20%20%20%20%20%20%20%20%20%20%20var%20marker_defcd3478ae8412cb2fa495b12bb0c46%20%3D%20L.marker%28%0A%20%20%20%20%20%20%20%20%20%20%20%20%20%20%20%20%5B51.5073219%2C%20-0.1276474%5D%2C%0A%20%20%20%20%20%20%20%20%20%20%20%20%20%20%20%20%7B%7D%0A%20%20%20%20%20%20%20%20%20%20%20%20%29.addTo%28map_16009332a6374aa59a815e1db12f5ea0%29%3B%0A%20%20%20%20%20%20%20%20%0A%20%20%20%20%0A%20%20%20%20%20%20%20%20var%20popup_f95dd420c0c5466d9cd8f2c26de946cd%20%3D%20L.popup%28%7B%22maxWidth%22%3A%20%22100%25%22%7D%29%3B%0A%0A%20%20%20%20%20%20%20%20%0A%20%20%20%20%20%20%20%20%20%20%20%20var%20html_7d3b250e5eea4e6daa8f205b79c839b9%20%3D%20%24%28%60%3Cdiv%20id%3D%22html_7d3b250e5eea4e6daa8f205b79c839b9%22%20style%3D%22width%3A%20100.0%25%3B%20height%3A%20100.0%25%3B%22%3Emazzerooni%3A%20%40gunnerblog%20%40TheAthleticUK%20Aren%E2%80%99t%20we%20at%20risk%20of%20putting%20this%20player%20on%20a%20pedestal%20and%20he%E2%80%99s%20not%20our%20player%20%3F%20he%20may%20well%20have%20champions%20league%20football%20whatever%20happens%20with%20us%20so%20given%20the%20choice%20he%20will%20probably%20opt%20to%20stay%20at%20RM%20plus%20we%20have%20this%20curse%20of%20the%20contract%20better%20to%20coach%20ESR%20to%20replace%20him%3C/div%3E%60%29%5B0%5D%3B%0A%20%20%20%20%20%20%20%20%20%20%20%20popup_f95dd420c0c5466d9cd8f2c26de946cd.setContent%28html_7d3b250e5eea4e6daa8f205b79c839b9%29%3B%0A%20%20%20%20%20%20%20%20%0A%0A%20%20%20%20%20%20%20%20marker_defcd3478ae8412cb2fa495b12bb0c46.bindPopup%28popup_f95dd420c0c5466d9cd8f2c26de946cd%29%0A%20%20%20%20%20%20%20%20%3B%0A%0A%20%20%20%20%20%20%20%20%0A%20%20%20%20%0A%20%20%20%20%0A%20%20%20%20%20%20%20%20%20%20%20%20var%20marker_62734ede270147b09281ad1aaaac8b24%20%3D%20L.marker%28%0A%20%20%20%20%20%20%20%20%20%20%20%20%20%20%20%20%5B53.2199037%2C%20-3.0661782%5D%2C%0A%20%20%20%20%20%20%20%20%20%20%20%20%20%20%20%20%7B%7D%0A%20%20%20%20%20%20%20%20%20%20%20%20%29.addTo%28map_16009332a6374aa59a815e1db12f5ea0%29%3B%0A%20%20%20%20%20%20%20%20%0A%20%20%20%20%0A%20%20%20%20%20%20%20%20var%20popup_a894340c957f48c08bd5882a7fcac893%20%3D%20L.popup%28%7B%22maxWidth%22%3A%20%22100%25%22%7D%29%3B%0A%0A%20%20%20%20%20%20%20%20%0A%20%20%20%20%20%20%20%20%20%20%20%20var%20html_6215d95493ea447090191447a239c8ef%20%3D%20%24%28%60%3Cdiv%20id%3D%22html_6215d95493ea447090191447a239c8ef%22%20style%3D%22width%3A%20100.0%25%3B%20height%3A%20100.0%25%3B%22%3EAmbo_91%3A%20%40cadsutd%20Community%20Shield%20Moyes%E2%80%99%20first%20game%20in%20charge%3F%F0%9F%98%82%F0%9F%98%82%20%20So%20you%E2%80%99d%20rather%20the%20football%20played%20under%20LVG%20%26amp%3B%20Moyes%3F%20You%E2%80%99d%20really%20rather%20go%20back%20Mourinho%20draining%20the%20life%20and%20soul%20out%20of%20our%20club%3F%20Jheeez%F0%9F%A4%AF%20%20%20Lucky%20for%20us%2C%20they%20don%E2%80%99t%20care%20what%20Cads%20from%20London%20thinks.%20Back%20your%20manager.%3C/div%3E%60%29%5B0%5D%3B%0A%20%20%20%20%20%20%20%20%20%20%20%20popup_a894340c957f48c08bd5882a7fcac893.setContent%28html_6215d95493ea447090191447a239c8ef%29%3B%0A%20%20%20%20%20%20%20%20%0A%0A%20%20%20%20%20%20%20%20marker_62734ede270147b09281ad1aaaac8b24.bindPopup%28popup_a894340c957f48c08bd5882a7fcac893%29%0A%20%20%20%20%20%20%20%20%3B%0A%0A%20%20%20%20%20%20%20%20%0A%20%20%20%20%0A%20%20%20%20%0A%20%20%20%20%20%20%20%20%20%20%20%20var%20marker_2a644ceeb91f4f85ad372417b8c84dff%20%3D%20L.marker%28%0A%20%20%20%20%20%20%20%20%20%20%20%20%20%20%20%20%5B53.7435722%2C%20-0.3394758%5D%2C%0A%20%20%20%20%20%20%20%20%20%20%20%20%20%20%20%20%7B%7D%0A%20%20%20%20%20%20%20%20%20%20%20%20%29.addTo%28map_16009332a6374aa59a815e1db12f5ea0%29%3B%0A%20%20%20%20%20%20%20%20%0A%20%20%20%20%0A%20%20%20%20%20%20%20%20var%20popup_fa1da5e517c74e918f9228f45d4367dd%20%3D%20L.popup%28%7B%22maxWidth%22%3A%20%22100%25%22%7D%29%3B%0A%0A%20%20%20%20%20%20%20%20%0A%20%20%20%20%20%20%20%20%20%20%20%20var%20html_f290c7a0a5cf48248d6aa729adf8da6b%20%3D%20%24%28%60%3Cdiv%20id%3D%22html_f290c7a0a5cf48248d6aa729adf8da6b%22%20style%3D%22width%3A%20100.0%25%3B%20height%3A%20100.0%25%3B%22%3Emjwhites6%3A%20Nearly%20a%20year%20ago%20me%20and%20a%20few%20newland%20Rangers%20boys%20did%20this%20%23memories%20%23sundayleague%20%23football%20https%3A//t.co/mdCRkuyhAF%3C/div%3E%60%29%5B0%5D%3B%0A%20%20%20%20%20%20%20%20%20%20%20%20popup_fa1da5e517c74e918f9228f45d4367dd.setContent%28html_f290c7a0a5cf48248d6aa729adf8da6b%29%3B%0A%20%20%20%20%20%20%20%20%0A%0A%20%20%20%20%20%20%20%20marker_2a644ceeb91f4f85ad372417b8c84dff.bindPopup%28popup_fa1da5e517c74e918f9228f45d4367dd%29%0A%20%20%20%20%20%20%20%20%3B%0A%0A%20%20%20%20%20%20%20%20%0A%20%20%20%20%0A%20%20%20%20%0A%20%20%20%20%20%20%20%20%20%20%20%20var%20marker_3424a8495f50458783522d548947ab2e%20%3D%20L.marker%28%0A%20%20%20%20%20%20%20%20%20%20%20%20%20%20%20%20%5B40.9699889%2C%20-77.7278831%5D%2C%0A%20%20%20%20%20%20%20%20%20%20%20%20%20%20%20%20%7B%7D%0A%20%20%20%20%20%20%20%20%20%20%20%20%29.addTo%28map_16009332a6374aa59a815e1db12f5ea0%29%3B%0A%20%20%20%20%20%20%20%20%0A%20%20%20%20%0A%20%20%20%20%20%20%20%20var%20popup_1facec08a2f445ebaf2d7322213e18d8%20%3D%20L.popup%28%7B%22maxWidth%22%3A%20%22100%25%22%7D%29%3B%0A%0A%20%20%20%20%20%20%20%20%0A%20%20%20%20%20%20%20%20%20%20%20%20var%20html_a8e596098302482bb7ec00dd3df0f9ff%20%3D%20%24%28%60%3Cdiv%20id%3D%22html_a8e596098302482bb7ec00dd3df0f9ff%22%20style%3D%22width%3A%20100.0%25%3B%20height%3A%20100.0%25%3B%22%3EVSantostefano21%3A%20Working%20hard%20for%20the%20fall%20football%20season%20https%3A//t.co/G3Edra3OqD%3C/div%3E%60%29%5B0%5D%3B%0A%20%20%20%20%20%20%20%20%20%20%20%20popup_1facec08a2f445ebaf2d7322213e18d8.setContent%28html_a8e596098302482bb7ec00dd3df0f9ff%29%3B%0A%20%20%20%20%20%20%20%20%0A%0A%20%20%20%20%20%20%20%20marker_3424a8495f50458783522d548947ab2e.bindPopup%28popup_1facec08a2f445ebaf2d7322213e18d8%29%0A%20%20%20%20%20%20%20%20%3B%0A%0A%20%20%20%20%20%20%20%20%0A%20%20%20%20%0A%20%20%20%20%0A%20%20%20%20%20%20%20%20%20%20%20%20var%20marker_d24fcda2280545eb82bb38771291cd80%20%3D%20L.marker%28%0A%20%20%20%20%20%20%20%20%20%20%20%20%20%20%20%20%5B38.7251776%2C%20-105.6077167%5D%2C%0A%20%20%20%20%20%20%20%20%20%20%20%20%20%20%20%20%7B%7D%0A%20%20%20%20%20%20%20%20%20%20%20%20%29.addTo%28map_16009332a6374aa59a815e1db12f5ea0%29%3B%0A%20%20%20%20%20%20%20%20%0A%20%20%20%20%0A%20%20%20%20%20%20%20%20var%20popup_80af06ca2fb14a9c86049a05f0af7649%20%3D%20L.popup%28%7B%22maxWidth%22%3A%20%22100%25%22%7D%29%3B%0A%0A%20%20%20%20%20%20%20%20%0A%20%20%20%20%20%20%20%20%20%20%20%20var%20html_2bb0609ba0984bbbbc6088aa5c07f087%20%3D%20%24%28%60%3Cdiv%20id%3D%22html_2bb0609ba0984bbbbc6088aa5c07f087%22%20style%3D%22width%3A%20100.0%25%3B%20height%3A%20100.0%25%3B%22%3ECoPreps%3A%20Colorado%20Football%27s%20Top%20Offensive%20Guards%20in%202022%20%20https%3A//t.co/OcJBJC7UcJ%20%20%20%23copreps%3C/div%3E%60%29%5B0%5D%3B%0A%20%20%20%20%20%20%20%20%20%20%20%20popup_80af06ca2fb14a9c86049a05f0af7649.setContent%28html_2bb0609ba0984bbbbc6088aa5c07f087%29%3B%0A%20%20%20%20%20%20%20%20%0A%0A%20%20%20%20%20%20%20%20marker_d24fcda2280545eb82bb38771291cd80.bindPopup%28popup_80af06ca2fb14a9c86049a05f0af7649%29%0A%20%20%20%20%20%20%20%20%3B%0A%0A%20%20%20%20%20%20%20%20%0A%20%20%20%20%0A%20%20%20%20%0A%20%20%20%20%20%20%20%20%20%20%20%20var%20marker_5980680261d04388bf98805214c88e2b%20%3D%20L.marker%28%0A%20%20%20%20%20%20%20%20%20%20%20%20%20%20%20%20%5B52.865196%2C%20-7.9794599%5D%2C%0A%20%20%20%20%20%20%20%20%20%20%20%20%20%20%20%20%7B%7D%0A%20%20%20%20%20%20%20%20%20%20%20%20%29.addTo%28map_16009332a6374aa59a815e1db12f5ea0%29%3B%0A%20%20%20%20%20%20%20%20%0A%20%20%20%20%0A%20%20%20%20%20%20%20%20var%20popup_fcc48846a0a24ad1b6117e18309887eb%20%3D%20L.popup%28%7B%22maxWidth%22%3A%20%22100%25%22%7D%29%3B%0A%0A%20%20%20%20%20%20%20%20%0A%20%20%20%20%20%20%20%20%20%20%20%20var%20html_1d8eaac0be5a4570ab00ba30a4c90984%20%3D%20%24%28%60%3Cdiv%20id%3D%22html_1d8eaac0be5a4570ab00ba30a4c90984%22%20style%3D%22width%3A%20100.0%25%3B%20height%3A%20100.0%25%3B%22%3EDeLolz%3A%20%40jamiecweir%20%40RachelVMartin%20Exactly.%20I%20think%20this%20is%20the%20problem.%20Alot%20of%20hardcore%20football%20fans%20are%20uneducated%20and%20dislike%20the%20educated%3C/div%3E%60%29%5B0%5D%3B%0A%20%20%20%20%20%20%20%20%20%20%20%20popup_fcc48846a0a24ad1b6117e18309887eb.setContent%28html_1d8eaac0be5a4570ab00ba30a4c90984%29%3B%0A%20%20%20%20%20%20%20%20%0A%0A%20%20%20%20%20%20%20%20marker_5980680261d04388bf98805214c88e2b.bindPopup%28popup_fcc48846a0a24ad1b6117e18309887eb%29%0A%20%20%20%20%20%20%20%20%3B%0A%0A%20%20%20%20%20%20%20%20%0A%20%20%20%20%0A%20%20%20%20%0A%20%20%20%20%20%20%20%20%20%20%20%20var%20marker_dd1fd006a39f4395985de6742161f9d1%20%3D%20L.marker%28%0A%20%20%20%20%20%20%20%20%20%20%20%20%20%20%20%20%5B1.5662147%2C%20110.351926634211%5D%2C%0A%20%20%20%20%20%20%20%20%20%20%20%20%20%20%20%20%7B%7D%0A%20%20%20%20%20%20%20%20%20%20%20%20%29.addTo%28map_16009332a6374aa59a815e1db12f5ea0%29%3B%0A%20%20%20%20%20%20%20%20%0A%20%20%20%20%0A%20%20%20%20%20%20%20%20var%20popup_c88b46010760407394d38a1639a2bcad%20%3D%20L.popup%28%7B%22maxWidth%22%3A%20%22100%25%22%7D%29%3B%0A%0A%20%20%20%20%20%20%20%20%0A%20%20%20%20%20%20%20%20%20%20%20%20var%20html_35fa1a57696649209d61d105e49ead15%20%3D%20%24%28%60%3Cdiv%20id%3D%22html_35fa1a57696649209d61d105e49ead15%22%20style%3D%22width%3A%20100.0%25%3B%20height%3A%20100.0%25%3B%22%3ECSG1973%3A%20Football%20fans%20are%20so%20nice%3C/div%3E%60%29%5B0%5D%3B%0A%20%20%20%20%20%20%20%20%20%20%20%20popup_c88b46010760407394d38a1639a2bcad.setContent%28html_35fa1a57696649209d61d105e49ead15%29%3B%0A%20%20%20%20%20%20%20%20%0A%0A%20%20%20%20%20%20%20%20marker_dd1fd006a39f4395985de6742161f9d1.bindPopup%28popup_c88b46010760407394d38a1639a2bcad%29%0A%20%20%20%20%20%20%20%20%3B%0A%0A%20%20%20%20%20%20%20%20%0A%20%20%20%20%0A%20%20%20%20%0A%20%20%20%20%20%20%20%20%20%20%20%20var%20marker_8000ce0523374007bd1132e488f983aa%20%3D%20L.marker%28%0A%20%20%20%20%20%20%20%20%20%20%20%20%20%20%20%20%5B53.3497645%2C%20-6.2602732%5D%2C%0A%20%20%20%20%20%20%20%20%20%20%20%20%20%20%20%20%7B%7D%0A%20%20%20%20%20%20%20%20%20%20%20%20%29.addTo%28map_16009332a6374aa59a815e1db12f5ea0%29%3B%0A%20%20%20%20%20%20%20%20%0A%20%20%20%20%0A%20%20%20%20%20%20%20%20var%20popup_b23d63a01613483f864a6c933cbe6508%20%3D%20L.popup%28%7B%22maxWidth%22%3A%20%22100%25%22%7D%29%3B%0A%0A%20%20%20%20%20%20%20%20%0A%20%20%20%20%20%20%20%20%20%20%20%20var%20html_93cb60be066443a38ec6227a50f4778b%20%3D%20%24%28%60%3Cdiv%20id%3D%22html_93cb60be066443a38ec6227a50f4778b%22%20style%3D%22width%3A%20100.0%25%3B%20height%3A%20100.0%25%3B%22%3EColm7%3A%20%40GeneralBurk%20%40Nutteruk%20%40HotspurRelated%20We%E2%80%99ve%20also%20won%204%20out%205%20in%20PL.%20%20%20%E2%80%9CMiracle%E2%80%9D%20%20If%20this%20was%20anyone%20other%20than%20Spurs%20I%E2%80%99d%20expect%20us%20to%20make%20top%204.%20Easiest%20run%20in%20and%20no%20European%20football.%3C/div%3E%60%29%5B0%5D%3B%0A%20%20%20%20%20%20%20%20%20%20%20%20popup_b23d63a01613483f864a6c933cbe6508.setContent%28html_93cb60be066443a38ec6227a50f4778b%29%3B%0A%20%20%20%20%20%20%20%20%0A%0A%20%20%20%20%20%20%20%20marker_8000ce0523374007bd1132e488f983aa.bindPopup%28popup_b23d63a01613483f864a6c933cbe6508%29%0A%20%20%20%20%20%20%20%20%3B%0A%0A%20%20%20%20%20%20%20%20%0A%20%20%20%20%0A%20%20%20%20%0A%20%20%20%20%20%20%20%20%20%20%20%20var%20marker_8ffd25b3ab63451694c65607723effec%20%3D%20L.marker%28%0A%20%20%20%20%20%20%20%20%20%20%20%20%20%20%20%20%5B42.8867166%2C%20-78.8783922%5D%2C%0A%20%20%20%20%20%20%20%20%20%20%20%20%20%20%20%20%7B%7D%0A%20%20%20%20%20%20%20%20%20%20%20%20%29.addTo%28map_16009332a6374aa59a815e1db12f5ea0%29%3B%0A%20%20%20%20%20%20%20%20%0A%20%20%20%20%0A%20%20%20%20%20%20%20%20var%20popup_391e3a709d5549f29d6cc0f408e2bda2%20%3D%20L.popup%28%7B%22maxWidth%22%3A%20%22100%25%22%7D%29%3B%0A%0A%20%20%20%20%20%20%20%20%0A%20%20%20%20%20%20%20%20%20%20%20%20var%20html_237319bdc5ab4d7fb3690c342385fd71%20%3D%20%24%28%60%3Cdiv%20id%3D%22html_237319bdc5ab4d7fb3690c342385fd71%22%20style%3D%22width%3A%20100.0%25%3B%20height%3A%20100.0%25%3B%22%3Enatedoggvb%3A%20Set%20builders%20%3A%20I%20have%20a%20partial%20set%20of%201981%20football%20minus%20the%20huge%20names%20%28Montana%29.%20If%20you%20are%20looking%20to%20complete%20i%20can%20definitely%20help%21%3C/div%3E%60%29%5B0%5D%3B%0A%20%20%20%20%20%20%20%20%20%20%20%20popup_391e3a709d5549f29d6cc0f408e2bda2.setContent%28html_237319bdc5ab4d7fb3690c342385fd71%29%3B%0A%20%20%20%20%20%20%20%20%0A%0A%20%20%20%20%20%20%20%20marker_8ffd25b3ab63451694c65607723effec.bindPopup%28popup_391e3a709d5549f29d6cc0f408e2bda2%29%0A%20%20%20%20%20%20%20%20%3B%0A%0A%20%20%20%20%20%20%20%20%0A%20%20%20%20%0A%20%20%20%20%0A%20%20%20%20%20%20%20%20%20%20%20%20var%20marker_9c5f8e920cb245f7a8b0b4741a1da46d%20%3D%20L.marker%28%0A%20%20%20%20%20%20%20%20%20%20%20%20%20%20%20%20%5B32.753177%2C%20-97.3327459%5D%2C%0A%20%20%20%20%20%20%20%20%20%20%20%20%20%20%20%20%7B%7D%0A%20%20%20%20%20%20%20%20%20%20%20%20%29.addTo%28map_16009332a6374aa59a815e1db12f5ea0%29%3B%0A%20%20%20%20%20%20%20%20%0A%20%20%20%20%0A%20%20%20%20%20%20%20%20var%20popup_42a126a106af4eeea67a3ac08dbd88b2%20%3D%20L.popup%28%7B%22maxWidth%22%3A%20%22100%25%22%7D%29%3B%0A%0A%20%20%20%20%20%20%20%20%0A%20%20%20%20%20%20%20%20%20%20%20%20var%20html_73cbdae06bb047169cf174ddf76a58d8%20%3D%20%24%28%60%3Cdiv%20id%3D%22html_73cbdae06bb047169cf174ddf76a58d8%22%20style%3D%22width%3A%20100.0%25%3B%20height%3A%20100.0%25%3B%22%3Estatsowar%3A%20College%20football%20in%202021%20has%20become%20the%20inverse%3A%20high-quality%20transfer%20QBs%20are%20increasingly%20available%2C%20and%20offenses%20are%20simplifying%20to%20become%20more%20%22plug%20and%20play%22%20for%20QBs.%20%20Free%20agency%20at%20the%20QB%20position%20is%20becoming%20the%20hallmark%20of%20CFB%2C%20while%20the%20NFL%20relies%20on%20development.%3C/div%3E%60%29%5B0%5D%3B%0A%20%20%20%20%20%20%20%20%20%20%20%20popup_42a126a106af4eeea67a3ac08dbd88b2.setContent%28html_73cbdae06bb047169cf174ddf76a58d8%29%3B%0A%20%20%20%20%20%20%20%20%0A%0A%20%20%20%20%20%20%20%20marker_9c5f8e920cb245f7a8b0b4741a1da46d.bindPopup%28popup_42a126a106af4eeea67a3ac08dbd88b2%29%0A%20%20%20%20%20%20%20%20%3B%0A%0A%20%20%20%20%20%20%20%20%0A%20%20%20%20%0A%20%20%20%20%0A%20%20%20%20%20%20%20%20%20%20%20%20var%20marker_2c2038bfd9164e34b95757bf6aed0772%20%3D%20L.marker%28%0A%20%20%20%20%20%20%20%20%20%20%20%20%20%20%20%20%5B44.0505054%2C%20-123.0950506%5D%2C%0A%20%20%20%20%20%20%20%20%20%20%20%20%20%20%20%20%7B%7D%0A%20%20%20%20%20%20%20%20%20%20%20%20%29.addTo%28map_16009332a6374aa59a815e1db12f5ea0%29%3B%0A%20%20%20%20%20%20%20%20%0A%20%20%20%20%0A%20%20%20%20%20%20%20%20var%20popup_3b36f35cc5404123ae2a3ace1bc76edc%20%3D%20L.popup%28%7B%22maxWidth%22%3A%20%22100%25%22%7D%29%3B%0A%0A%20%20%20%20%20%20%20%20%0A%20%20%20%20%20%20%20%20%20%20%20%20var%20html_d9cb4b1418ed4a7cb2806ac5dc6b7cdf%20%3D%20%24%28%60%3Cdiv%20id%3D%22html_d9cb4b1418ed4a7cb2806ac5dc6b7cdf%22%20style%3D%22width%3A%20100.0%25%3B%20height%3A%20100.0%25%3B%22%3EPTalkingraven%3A%20%40CNNPolitics%20Will%20be%20a%20successful%20as%20his%20football%20league%20was%3C/div%3E%60%29%5B0%5D%3B%0A%20%20%20%20%20%20%20%20%20%20%20%20popup_3b36f35cc5404123ae2a3ace1bc76edc.setContent%28html_d9cb4b1418ed4a7cb2806ac5dc6b7cdf%29%3B%0A%20%20%20%20%20%20%20%20%0A%0A%20%20%20%20%20%20%20%20marker_2c2038bfd9164e34b95757bf6aed0772.bindPopup%28popup_3b36f35cc5404123ae2a3ace1bc76edc%29%0A%20%20%20%20%20%20%20%20%3B%0A%0A%20%20%20%20%20%20%20%20%0A%20%20%20%20%0A%20%20%20%20%0A%20%20%20%20%20%20%20%20%20%20%20%20var%20marker_35cdfc2f4cee41a48a775a5b1cbca2f3%20%3D%20L.marker%28%0A%20%20%20%20%20%20%20%20%20%20%20%20%20%20%20%20%5B39.9523993%2C%20-75.1635899%5D%2C%0A%20%20%20%20%20%20%20%20%20%20%20%20%20%20%20%20%7B%7D%0A%20%20%20%20%20%20%20%20%20%20%20%20%29.addTo%28map_16009332a6374aa59a815e1db12f5ea0%29%3B%0A%20%20%20%20%20%20%20%20%0A%20%20%20%20%0A%20%20%20%20%20%20%20%20var%20popup_ef20955148874868b0c560a12fc6fa7e%20%3D%20L.popup%28%7B%22maxWidth%22%3A%20%22100%25%22%7D%29%3B%0A%0A%20%20%20%20%20%20%20%20%0A%20%20%20%20%20%20%20%20%20%20%20%20var%20html_b4523b0fad61424681740dadb4b1159b%20%3D%20%24%28%60%3Cdiv%20id%3D%22html_b4523b0fad61424681740dadb4b1159b%22%20style%3D%22width%3A%20100.0%25%3B%20height%3A%20100.0%25%3B%22%3EMegWaldronMS%3A%20I%27m%20not%20surprised%20so%20many%20NCAA%20sports%20have%20been%20cut%20that%20aren%27t%20football.%20%20When%20I%20ran%20for%20University%20of%20Virginia%2C%20they%20called%20us%2C%20Non-Revenue%20Sports%20%26amp%3B%20Non-Revenue%20Athletes.%20%20%20That%20was%20our%20category%20in%20the%20University%27s%20sports%20mag%20in%20big%20print.%20%20%20We%20only%20gave%20them%20our%20everything.%3C/div%3E%60%29%5B0%5D%3B%0A%20%20%20%20%20%20%20%20%20%20%20%20popup_ef20955148874868b0c560a12fc6fa7e.setContent%28html_b4523b0fad61424681740dadb4b1159b%29%3B%0A%20%20%20%20%20%20%20%20%0A%0A%20%20%20%20%20%20%20%20marker_35cdfc2f4cee41a48a775a5b1cbca2f3.bindPopup%28popup_ef20955148874868b0c560a12fc6fa7e%29%0A%20%20%20%20%20%20%20%20%3B%0A%0A%20%20%20%20%20%20%20%20%0A%20%20%20%20%0A%3C/script%3E onload=\"this.contentDocument.open();this.contentDocument.write(    decodeURIComponent(this.getAttribute('data-html')));this.contentDocument.close();\" allowfullscreen webkitallowfullscreen mozallowfullscreen></iframe></div></div>"
      ],
      "text/plain": [
       "<folium.folium.Map at 0x7fd950a9e940>"
      ]
     },
     "execution_count": 62,
     "metadata": {},
     "output_type": "execute_result"
    }
   ],
   "source": [
    "usmap"
   ]
  },
  {
   "cell_type": "markdown",
   "metadata": {},
   "source": [
    "<!--\n",
    "#from IPython.display import IFrame\n",
    "#IFrame(src=\"./tweet_map.html\", width=800, height=450)\n",
    "-->"
   ]
  },
  {
   "cell_type": "markdown",
   "metadata": {},
   "source": [
    "<hr style=\"height:2px; border:none; color:#000; background-color:#000;\">"
   ]
  },
  {
   "cell_type": "markdown",
   "metadata": {},
   "source": [
    "## Utility Functions\n",
    "See the following for details: \n",
    "* [**Python Fundamentals LiveLessons video**](https://learning.oreilly.com/videos/python-fundamentals/9780135917411/9780135917411-PFLL_Lesson12_26) \n",
    "* [Sections 12.5.2-12.5.3 in **Python for Programmers**](https://learning.oreilly.com/library/view/python-for-programmers/9780135231364/ch12.xhtml#ch12lev2sec10)\n",
    "\n",
    "### `get_tweet_content` Utility Function (2 of 2)\n",
    "```python\n",
    "def get_tweet_content(tweet, location=False):\n",
    "    \"\"\"Return dictionary with data from tweet (a Status object).\"\"\"\n",
    "    fields = {}\n",
    "    fields['screen_name'] = tweet.user.screen_name\n",
    "\n",
    "    # get the tweet's text\n",
    "    try:  \n",
    "        fields['text'] = tweet.extended_tweet[\"full_text\"]\n",
    "    except: \n",
    "        fields['text'] = tweet.text\n",
    "\n",
    "    if location:\n",
    "        fields['location'] = tweet.user.location\n",
    "\n",
    "    return fields\n",
    "\n",
    "```"
   ]
  },
  {
   "cell_type": "markdown",
   "metadata": {},
   "source": [
    "<hr style=\"height:2px; border:none; color:#000; background-color:#000;\">"
   ]
  },
  {
   "cell_type": "markdown",
   "metadata": {},
   "source": [
    "### `get_geocodes` Utility Function (1 of 3)\n",
    "* Receives a **list of dictionaries** containing tweets and **geocodes their locations**\n",
    "* If **geocoding** is **successful** for a tweet, adds the **latitude** and **longitude** to the tweet’s **dictionary in `tweet_list`**\n",
    "* Requires class **`OpenMapQuest`** from the **geopy module**"
   ]
  },
  {
   "cell_type": "markdown",
   "metadata": {},
   "source": [
    "<hr style=\"height:2px; border:none; color:#000; background-color:#000;\">"
   ]
  },
  {
   "cell_type": "markdown",
   "metadata": {},
   "source": [
    "### `get_geocodes` Utility Function (2 of 3)\n",
    "```python\n",
    "from geopy import OpenMapQuest\n",
    "```\n",
    "\n",
    "```python\n",
    "def get_geocodes(tweet_list):\n",
    "    \"\"\"Get the latitude and longitude for each tweet's location.\n",
    "    Returns the number of tweets with invalid location data.\"\"\"\n",
    "    print('Getting coordinates for tweet locations...')\n",
    "    geo = OpenMapQuest(api_key=keys.mapquest_key)  # geocoder\n",
    "    bad_locations = 0  \n",
    "\n",
    "    for tweet in tweet_list:\n",
    "        processed = False\n",
    "        delay = .1  # used if OpenMapQuest times out to delay next call\n",
    "        while not processed:\n",
    "            try:  # get coordinates for tweet['location']\n",
    "                geo_location = geo.geocode(tweet['location'])\n",
    "                processed = True\n",
    "            except:  # timed out, so wait before trying again\n",
    "                print('OpenMapQuest service timed out. Waiting.')\n",
    "                time.sleep(delay)\n",
    "                delay += .1\n",
    "\n",
    "        if geo_location:  \n",
    "            tweet['latitude'] = geo_location.latitude\n",
    "            tweet['longitude'] = geo_location.longitude\n",
    "        else:  \n",
    "            bad_locations += 1  # tweet['location'] was invalid\n",
    "    \n",
    "    print('Done geocoding')\n",
    "    return bad_locations\n",
    "\n",
    "```"
   ]
  },
  {
   "cell_type": "markdown",
   "metadata": {},
   "source": [
    "<hr style=\"height:2px; border:none; color:#000; background-color:#000;\">"
   ]
  },
  {
   "cell_type": "markdown",
   "metadata": {},
   "source": [
    "## 12.15.3 Class `LocationListener`\n",
    "```python\n",
    "# locationlistener.py\n",
    "\"\"\"Receives tweets matching a search string and stores a list of\n",
    "dictionaries containing each tweet's screen_name/text/location.\"\"\"\n",
    "import tweepy\n",
    "from tweetutilities import get_tweet_content\n",
    "from IPython.display import clear_output\n",
    "\n",
    "class LocationListener(tweepy.StreamListener):\n",
    "    \"\"\"Handles incoming Tweet stream to get location data.\"\"\"\n",
    "```"
   ]
  },
  {
   "cell_type": "markdown",
   "metadata": {},
   "source": [
    "```python\n",
    "    def __init__(self, api, counts_dict, tweets_list, topic, limit=10):\n",
    "        \"\"\"Configure the LocationListener.\"\"\"\n",
    "        self.tweets_list = tweets_list\n",
    "        self.counts_dict = counts_dict\n",
    "        self.topic = topic\n",
    "        self.TWEET_LIMIT = limit\n",
    "        super().__init__(api)  # call superclass's init\n",
    "```"
   ]
  },
  {
   "cell_type": "markdown",
   "metadata": {},
   "source": [
    "```python\n",
    "    def on_status(self, status):\n",
    "        \"\"\"Called when Twitter pushes a new tweet to you.\"\"\"\n",
    "        # get each tweet's screen_name, text and location\n",
    "        tweet_data = get_tweet_content(status, location=True)  \n",
    "\n",
    "        # ignore retweets and tweets that do not contain the topic\n",
    "        if (tweet_data['text'].startswith('RT') or\n",
    "            self.topic.lower() not in tweet_data['text'].lower()):\n",
    "            return\n",
    "\n",
    "        self.counts_dict['total_tweets'] += 1  # original tweet\n",
    "\n",
    "        # ignore tweets with no location \n",
    "        if not status.user.location:  \n",
    "            return\n",
    "\n",
    "        self.counts_dict['locations'] += 1  # tweet with location\n",
    "        self.tweets_list.append(tweet_data)  # store the tweet\n",
    "        clear_output()\n",
    "        print(f'{status.user.screen_name}: {tweet_data[\"text\"]}\\n')\n",
    "        \n",
    "        # if TWEET_LIMIT is reached, return False to terminate streaming\n",
    "        return self.counts_dict['locations'] < self.TWEET_LIMIT\n",
    "\n",
    "```"
   ]
  },
  {
   "cell_type": "markdown",
   "metadata": {},
   "source": [
    "<hr style=\"height:2px; border:none; color:#000; background-color:#000;\">"
   ]
  },
  {
   "cell_type": "markdown",
   "metadata": {},
   "source": [
    "# More Info \n",
    "* See Lesson 12 in [**Python Fundamentals LiveLessons** here on O'Reilly Online Learning](https://learning.oreilly.com/videos/python-fundamentals/9780135917411)\n",
    "* See Chapter 12 in [**Python for Programmers** on O'Reilly Online Learning](https://learning.oreilly.com/library/view/python-for-programmers/9780135231364/)\n",
    "* See Chapter 13 in [**Intro Python for Computer Science and Data Science** on O'Reilly Online Learning](https://learning.oreilly.com/library/view/intro-to-python/9780135404799/)\n",
    "* Interested in a print book? Check out:\n",
    "\n",
    "| Python for Programmers<br>(640-page professional book) | Intro to Python for Computer<br>Science and Data Science<br>(880-page college textbook)\n",
    "| :------ | :------\n",
    "| <a href=\"https://amzn.to/2VvdnxE\"><img alt=\"Python for Programmers cover\" src=\"../images/PyFPCover.png\" width=\"150\" border=\"1\"/></a> | <a href=\"https://amzn.to/2LiDCmt\"><img alt=\"Intro to Python for Computer Science and Data Science: Learning to Program with AI, Big Data and the Cloud\" src=\"../images/IntroToPythonCover.png\" width=\"159\" border=\"1\"></a>\n",
    "\n",
    ">Please **do not** purchase both books&mdash;_Python for Programmers_ is a subset of _Intro to Python for Computer Science and Data Science_"
   ]
  },
  {
   "cell_type": "markdown",
   "metadata": {},
   "source": [
    "&copy; 2019 by Pearson Education, Inc. All Rights Reserved. The content in this notebook is based on the book [**Python for Programmers**](https://amzn.to/2VvdnxE)."
   ]
  }
 ],
 "metadata": {
  "kernelspec": {
   "display_name": "Python 3",
   "language": "python",
   "name": "python3"
  },
  "language_info": {
   "codemirror_mode": {
    "name": "ipython",
    "version": 3
   },
   "file_extension": ".py",
   "mimetype": "text/x-python",
   "name": "python",
   "nbconvert_exporter": "python",
   "pygments_lexer": "ipython3",
   "version": "3.8.6"
  }
 },
 "nbformat": 4,
 "nbformat_minor": 4
}
