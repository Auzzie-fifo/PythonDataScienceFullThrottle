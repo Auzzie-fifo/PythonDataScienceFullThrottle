{
 "cells": [
  {
   "cell_type": "markdown",
   "metadata": {},
   "source": [
    "&copy; 2019 by Pearson Education, Inc. All Rights Reserved. The content in this notebook is based on the book [**Python for Programmers**](https://amzn.to/2VvdnxE)."
   ]
  },
  {
   "cell_type": "code",
   "execution_count": 1,
   "metadata": {},
   "outputs": [],
   "source": [
    "# enable high-res images in notebook \n",
    "%config InlineBackend.figure_format = 'retina'"
   ]
  },
  {
   "cell_type": "markdown",
   "metadata": {},
   "source": [
    "# 12. Data Mining Twitter \n",
    "# Objectives\n",
    "* **Data-mine Twitter** with **Tweepy** library\n",
    "* Search **past tweets** with the **Twitter Search API**\n",
    "* Sample the **live tweet stream** with the **Twitter Streaming API**\n",
    "* Tweet object **meta data** \n",
    "* Use **NLP** to **clean and preprocess tweets** for analysis\n",
    "* Perform **sentiment analysis** on tweets\n",
    "* **Spot trends** with **Twitter’s Trends API**\n",
    "* **Map tweets** using **folium** and **OpenStreetMap**"
   ]
  },
  {
   "cell_type": "markdown",
   "metadata": {},
   "source": [
    "<hr style=\"height:2px; border:none; color:#000; background-color:#000;\">"
   ]
  },
  {
   "cell_type": "markdown",
   "metadata": {},
   "source": [
    "# 12.1 Introduction \n",
    "* Popular **big-data source**  \n",
    "* **Data mining** &mdash; searching large collections of data for **insights**\n",
    "* **Sentiment** in tweets can help **make predictions**  \n",
    "    * **Stock prices**\n",
    "    * **Election results**\n",
    "    * Likely **revenues** for a **new movie**\n",
    "    * **Success** of a company’s **marketing campaign**\n",
    "* Spot **faults in competitors’ products** \n",
    "* Spot **trending topics**\n",
    "* **Connect to Twitter** with easy-to-use **Web services**"
   ]
  },
  {
   "cell_type": "markdown",
   "metadata": {},
   "source": [
    "<hr style=\"height:2px; border:none; color:#000; background-color:#000;\">"
   ]
  },
  {
   "cell_type": "markdown",
   "metadata": {},
   "source": [
    "### What Is Twitter? \n",
    "* **Tweets**\n",
    "    * Short messages\n",
    "    * Initially limited to **140 characters**\n",
    "    * Increased in 2017 for most languages to **280 characters**\n",
    "* **Most open social network**&mdash;anyone can generally choose to follow anyone else\n",
    "* **Free programmatic access** to a small portion of **last 7 days' tweets**\n",
    "    * Can get **paid access** to larger portions the **all-time tweets database**\n",
    "* [**Hundreds of millions of tweets are sent every day** with many thousands sent per second](http://www.internetlivestats.com/twitter-statistics/)\n",
    "* Can tap into the **live stream** and get up to 1% of live tweets\n",
    "    * **Like “drinking from a fire hose”** "
   ]
  },
  {
   "cell_type": "markdown",
   "metadata": {},
   "source": [
    "<hr style=\"height:2px; border:none; color:#000; background-color:#000;\">"
   ]
  },
  {
   "cell_type": "markdown",
   "metadata": {},
   "source": [
    "# 12.2 Overview of the Twitter APIs \n",
    "* **Web services** are **methods** that you call in the **cloud**\n",
    "* Each **method** has a **web service endpoint** represented by a **URL**\n",
    "* **Caution**: **apps can be brittle**\n",
    "    * Internet connections can be lost, services can change, some services not available everywhere, ... \n",
    "* [Twitter API categories, subcategories and individual methods](https://developer.twitter.com/en/docs/api-reference-index.html)"
   ]
  },
  {
   "cell_type": "markdown",
   "metadata": {},
   "source": [
    "<hr style=\"height:2px; border:none; color:#000; background-color:#000;\">"
   ]
  },
  {
   "cell_type": "markdown",
   "metadata": {},
   "source": [
    "### Rate Limits and Restrictions\n",
    "* Twitter expects developers to **use its services responsibly**\n",
    "* **Understand rate limits** before using any method or you could get **blocked**\n",
    "* Some methods list both **user rate limits** and **app rate limits**\n",
    "    * We use **app rate limits** in the demos\n",
    "    * **User rate limits** for apps in which individuals to log into own Twitter accounts\n",
    "    * [Details on rate limiting](https://developer.twitter.com/en/docs/basics/rate-limiting)\n",
    "    * [Specific rate limits on individual API methods](https://developer.twitter.com/en/docs/basics/rate-limits) — also see each API method’s docs\n",
    "* **Follow Twitter’s rules/regulations or your developer account could be terminated.** \n",
    "\t* [Terms of Service](https://twitter.com/tos), [Developer Agreement](https://developer.twitter.com/en/developer-terms/agreement-and-policy.html), [Developer Policy](https://developer.twitter.com/en/developer-terms/policy.html), [Other restrictions](https://developer.twitter.com/en/developer-terms/more-on-restricted-use-cases)"
   ]
  },
  {
   "cell_type": "markdown",
   "metadata": {},
   "source": [
    "<hr style=\"height:2px; border:none; color:#000; background-color:#000;\">"
   ]
  },
  {
   "cell_type": "markdown",
   "metadata": {},
   "source": [
    "# 12.4 Getting Twitter Credentials—Creating an App \n",
    "* [Apply for a developer account](https://developer.twitter.com/en/apply-for-access) to use the APIs\n",
    "* Must get **credentials** to use Twitter APIs\n",
    "    * Part of the **OAuth 2.0 authentication process**\n",
    "    * **Tweepy handles OAuth 2.0 authentication details for you**\n",
    "* To get credentials, you’ll [**create an app**](https://developer.twitter.com) \n",
    "    * **Each app has separate credentials**\n",
    "    * I present **details on creating apps** in my [**Python Fundamentals LiveLessons videos for Section 12.4**](https://learning.oreilly.com/videos/python-fundamentals/9780135917411/9780135917411-PFLL_Lesson12_04) and [**Python for Programmers Section 12.4**](https://learning.oreilly.com/library/view/Python+for+Programmers,+First+Edition/9780135231364/ch12.xhtml#ch12lev1sec4)"
   ]
  },
  {
   "cell_type": "markdown",
   "metadata": {},
   "source": [
    "<hr style=\"height:2px; border:none; color:#000; background-color:#000;\">"
   ]
  },
  {
   "cell_type": "markdown",
   "metadata": {},
   "source": [
    "# 12.5 What’s in a Tweet? \n",
    "* Twitter API returns **JSON (JavaScript Object Notation)** objects\n",
    "* Text-based, human and computer readable\n",
    "* Like Python **dictionaries**\n",
    "* **JSON object format** &mdash; **all strings in double quotes (\")**\n",
    ">```python\n",
    "{propertyName1: value1, propertyName2: value2}\n",
    "```\n",
    "* **JSON array format (like Python list)**:\n",
    ">```python\n",
    "[value1, value2, value3]\n",
    "```\n",
    "* **Tweepy handles the JSON for you** behind the scenes"
   ]
  },
  {
   "cell_type": "markdown",
   "metadata": {},
   "source": [
    "<hr style=\"height:2px; border:none; color:#000; background-color:#000;\">"
   ]
  },
  {
   "cell_type": "markdown",
   "metadata": {},
   "source": [
    "### Key Properties of a Tweet Object \n",
    "* **Tweet object** contains **metadata**, including\n",
    "    * **text** of the tweet\n",
    "    * **extended tweet** for tweets up to **280 characters**\n",
    "\t* **when** it was created \n",
    "\t* **who** created it,\n",
    "\t* lists of **hashtags**, **URLs**, **`@`-mentions**, **images**, **videos** and more\n",
    "* [Our table of many key **tweet metadata attributes**](https://learning.oreilly.com/library/view/python-for-programmers/9780135231364/ch12.xhtml#ch12lev1sec5)\n",
    "* [Complete list of the tweet object attributes](https://developer.twitter.com/en/docs/tweets/data-dictionary/overview/tweet-object.html)\n",
    "* [General overview of all the JSON objects that Twitter APIs return, and links to the specific object details](https://developer.twitter.com/en/docs/tweets/data-dictionary/overview/intro-to-tweet-json)"
   ]
  },
  {
   "cell_type": "markdown",
   "metadata": {},
   "source": [
    "<hr style=\"height:2px; border:none; color:#000; background-color:#000;\">"
   ]
  },
  {
   "cell_type": "markdown",
   "metadata": {},
   "source": [
    "### Sample Tweet JSON\n",
    "* **Sample JSON** for this tweet from the **`@nasa`** account: \n",
    ">```\n",
    "@NoFear1075 Great question, Anthony! Throughout its seven-year \n",
    "mission, our Parker #SolarProbe spacecraft... https://t.co/xKd6ym8waT'\n",
    "```"
   ]
  },
  {
   "cell_type": "markdown",
   "metadata": {},
   "source": [
    "<hr style=\"height:2px; border:none; color:#000; background-color:#000;\">"
   ]
  },
  {
   "cell_type": "markdown",
   "metadata": {},
   "source": [
    "```python\n",
    "{'created_at': 'Wed Sep 05 18:19:34 +0000 2018',\n",
    " 'id': 1037404890354606082,\n",
    " 'id_str': '1037404890354606082',\n",
    " 'text': '@NoFear1075 Great question, Anthony! Throughout its seven-year \n",
    "          mission, our Parker #SolarProbe spacecraft… https://t.co/xKd6ym8waT',\n",
    " 'truncated': True,\n",
    " 'entities': {'hashtags': [{'text': 'SolarProbe', 'indices': [84, 95]}],\n",
    "    'symbols': [],\n",
    "    'user_mentions': [{'screen_name': 'NoFear1075',\n",
    "        'name': 'Anthony Perrone',\n",
    "        'id': 284339791,\n",
    "        'id_str': '284339791',\n",
    "        'indices': [0, 11]}],\n",
    "    'urls': [{'url': 'https://t.co/xKd6ym8waT',\n",
    "        'expanded_url': 'https://twitter.com/i/web/status/1037404890354606082',\n",
    "        'display_url': 'twitter.com/i/web/status/1…',\n",
    "        'indices': [117, 140]}]},\n",
    " 'source': '<a href=\"http://twitter.com\" rel=\"nofollow\">Twitter Web Client</a>',\n",
    "```"
   ]
  },
  {
   "cell_type": "markdown",
   "metadata": {},
   "source": [
    "```python\n",
    " 'in_reply_to_status_id': 1037390542424956928,\n",
    " 'in_reply_to_status_id_str': '1037390542424956928',\n",
    " 'in_reply_to_user_id': 284339791,\n",
    " 'in_reply_to_user_id_str': '284339791',\n",
    " 'in_reply_to_screen_name': 'NoFear1075',\n",
    " 'user': {'id': 11348282,\n",
    "    'id_str': '11348282',\n",
    "    'name': 'NASA',\n",
    "    'screen_name': 'NASA',\n",
    "    'location': '',\n",
    "    'description': 'Explore the universe and discover our home planet with \n",
    "            @NASA. We usually post in EST (UTC-5)',\n",
    "    'url': 'https://t.co/TcEE6NS8nD',\n",
    "    'entities': {'url': {'urls': [{'url': 'https://t.co/TcEE6NS8nD',\n",
    "            'expanded_url': 'http://www.nasa.gov',\n",
    "            'display_url': 'nasa.gov',\n",
    "            'indices': [0, 23]}]},\n",
    "    'description': {'urls': []}},\n",
    "    'protected': False,\n",
    "    'followers_count': 29486081,\n",
    "    'friends_count': 287,\n",
    "    'listed_count': 91928,\n",
    "    'created_at': 'Wed Dec 19 20:20:32 +0000 2007',\n",
    "    'favourites_count': 3963,\n",
    "    'time_zone': None,\n",
    "    'geo_enabled': False,\n",
    "    'verified': True,\n",
    "    'statuses_count': 53147,\n",
    "    'lang': 'en',\n",
    "```"
   ]
  },
  {
   "cell_type": "markdown",
   "metadata": {},
   "source": [
    "```python\n",
    "    'contributors_enabled': False,\n",
    "    'is_translator': False,\n",
    "    'is_translation_enabled': False,\n",
    "    'profile_background_color': '000000',\n",
    "    'profile_background_image_url': 'http://abs.twimg.com/images/themes/theme1/bg.png',\n",
    "    'profile_background_image_url_https': 'https://abs.twimg.com/images/themes/theme1/bg.png',\n",
    "    'profile_image_url': 'http://pbs.twimg.com/profile_images/188302352/nasalogo_twitter_normal.jpg',\n",
    "    'profile_image_url_https': 'https://pbs.twimg.com/profile_images/188302352/nasalogo_twitter_normal.jpg',\n",
    "    'profile_banner_url': 'https://pbs.twimg.com/profile_banners/11348282/1535145490',\n",
    "    'profile_link_color': '205BA7',\n",
    "    'profile_sidebar_border_color': '000000',\n",
    "    'profile_sidebar_fill_color': 'F3F2F2',\n",
    "    'profile_text_color': '000000',\n",
    "    'profile_use_background_image': True,\n",
    "    'has_extended_profile': True,\n",
    "    'default_profile': False,\n",
    "    'default_profile_image': False,\n",
    "    'following': True,\n",
    "    'follow_request_sent': False,\n",
    "    'notifications': False,\n",
    "    'translator_type': 'regular'},\n",
    " 'geo': None,\n",
    " 'coordinates': None,\n",
    " 'place': None,\n",
    " 'contributors': None,\n",
    " 'is_quote_status': False,\n",
    " 'retweet_count': 7,\n",
    " 'favorite_count': 19,\n",
    " 'favorited': False,\n",
    " 'retweeted': False,\n",
    " 'possibly_sensitive': False,\n",
    " 'lang': 'en'}\n",
    "\n",
    "```"
   ]
  },
  {
   "cell_type": "markdown",
   "metadata": {},
   "source": [
    "<hr style=\"height:2px; border:none; color:#000; background-color:#000;\">"
   ]
  },
  {
   "cell_type": "markdown",
   "metadata": {},
   "source": [
    "# 12.6 Tweepy\n",
    "* [**Tweepy library**](http://www.tweepy.org/)—**one of the most popular Python Twitter clients**\n",
    "> `pip install tweepy>=3.7`\n",
    "* Easy access to Twitter’s capabilities\n",
    "* [Tweepy’s documentation](http://docs.tweepy.org/en/latest/)\n",
    "* One function in `tweetutilities.py` file depends on [**geopy**](https://github.com/geopy/geopy) (used later to **plot tweet locations**)\n",
    ">`conda install -c conda-forge geopy`"
   ]
  },
  {
   "cell_type": "markdown",
   "metadata": {},
   "source": [
    "<hr style=\"height:2px; border:none; color:#000; background-color:#000;\">"
   ]
  },
  {
   "cell_type": "markdown",
   "metadata": {},
   "source": [
    "# 12.7 Authenticating with Twitter Via Tweepy\n",
    "* **Authentication API**—Authenticate with your **Twitter credentials** to use other Twitter APIs\n",
    "* **`keys.py`** must contain your credentials"
   ]
  },
  {
   "cell_type": "code",
   "execution_count": 2,
   "metadata": {},
   "outputs": [],
   "source": [
    "import tweepy"
   ]
  },
  {
   "cell_type": "code",
   "execution_count": 3,
   "metadata": {},
   "outputs": [],
   "source": [
    "import keys  "
   ]
  },
  {
   "cell_type": "code",
   "execution_count": 4,
   "metadata": {},
   "outputs": [],
   "source": [
    "auth = tweepy.OAuthHandler(keys.consumer_key,\n",
    "                           keys.consumer_secret)"
   ]
  },
  {
   "cell_type": "code",
   "execution_count": 5,
   "metadata": {},
   "outputs": [],
   "source": [
    "auth.set_access_token(keys.access_token,\n",
    "                      keys.access_token_secret)"
   ]
  },
  {
   "cell_type": "markdown",
   "metadata": {},
   "source": [
    "<hr style=\"height:2px; border:none; color:#000; background-color:#000;\">"
   ]
  },
  {
   "cell_type": "markdown",
   "metadata": {},
   "source": [
    "### Creating the Tweepy API Object\n",
    "* A **Tweepy `API` object** is your **gateway** to Twitter APIs"
   ]
  },
  {
   "cell_type": "code",
   "execution_count": 6,
   "metadata": {},
   "outputs": [],
   "source": [
    "api = tweepy.API(auth, wait_on_rate_limit=True, \n",
    "                 wait_on_rate_limit_notify=True)"
   ]
  },
  {
   "cell_type": "markdown",
   "metadata": {},
   "source": [
    "* **`auth`** is the **`OAuthHandler`**\n",
    "* **`wait_on_rate_limit=True`** &mdash; **wait 15 minutes** when app reaches an API method’s rate limit\n",
    "    * prevents violations\n",
    "* **`wait_on_rate_limit_notify=True`** &mdash; **display a command-line message** when you hit a rate limit"
   ]
  },
  {
   "cell_type": "markdown",
   "metadata": {},
   "source": [
    "<hr style=\"height:2px; border:none; color:#000; background-color:#000;\">"
   ]
  },
  {
   "cell_type": "markdown",
   "metadata": {},
   "source": [
    "# 12.8 Getting Information About a Twitter Account\n",
    "* **Accounts and Users API**—Access information about an account\n",
    "* `API` object’s **`get_user` method** returns a **`tweepy.models.User` object** for an account"
   ]
  },
  {
   "cell_type": "code",
   "execution_count": 7,
   "metadata": {},
   "outputs": [],
   "source": [
    "nasa = api.get_user('nasa')"
   ]
  },
  {
   "cell_type": "markdown",
   "metadata": {},
   "source": [
    "* Calls the **Twitter API’s [`users/show` method](https://developer.twitter.com/en/docs/accounts-and-users/follow-search-get-users/api-reference/get-users-show)**\n",
    "* **`tweepy.models` classes** correspond to returned **JSON objects**\n",
    "* **`User` class** corresponds to a Twitter [**user object**](https://developer.twitter.com/en/docs/tweets/data-dictionary/overview/user-object)\n",
    "* **`tweepy.models` classes** turn **JSON** into **Tweepy objects** "
   ]
  },
  {
   "cell_type": "markdown",
   "metadata": {},
   "source": [
    "<hr style=\"height:2px; border:none; color:#000; background-color:#000;\">"
   ]
  },
  {
   "cell_type": "markdown",
   "metadata": {},
   "source": [
    "### Getting Basic Account Information for `@nasa`\n",
    "* IDs and twitter handles can be used to **track tweets to, from and about users**"
   ]
  },
  {
   "cell_type": "code",
   "execution_count": 8,
   "metadata": {},
   "outputs": [
    {
     "data": {
      "text/plain": [
       "11348282"
      ]
     },
     "execution_count": 8,
     "metadata": {},
     "output_type": "execute_result"
    }
   ],
   "source": [
    "nasa.id  # account ID created when the user joined Twitter"
   ]
  },
  {
   "cell_type": "code",
   "execution_count": 9,
   "metadata": {},
   "outputs": [
    {
     "data": {
      "text/plain": [
       "'NASA'"
      ]
     },
     "execution_count": 9,
     "metadata": {},
     "output_type": "execute_result"
    }
   ],
   "source": [
    "nasa.screen_name  # user’s Twitter handle"
   ]
  },
  {
   "cell_type": "code",
   "execution_count": 10,
   "metadata": {},
   "outputs": [
    {
     "data": {
      "text/plain": [
       "\"There's space for everybody. ✨\""
      ]
     },
     "execution_count": 10,
     "metadata": {},
     "output_type": "execute_result"
    }
   ],
   "source": [
    "nasa.description  # description from the user’s profile"
   ]
  },
  {
   "cell_type": "markdown",
   "metadata": {},
   "source": [
    "* Lots of additional attributes, like `name`, `description`, `followers_count`, `friends_count`, etc."
   ]
  },
  {
   "cell_type": "markdown",
   "metadata": {},
   "source": [
    "<hr style=\"height:2px; border:none; color:#000; background-color:#000;\">"
   ]
  },
  {
   "cell_type": "markdown",
   "metadata": {},
   "source": [
    "### Getting `@nasa`'s Most Recent Status Update\n",
    "* `User` object’s **`status` property** returns a **`tweepy.models.Status`** object\n",
    "* Corresponds to a Twitter [**tweet object**](https://developer.twitter.com/en/docs/tweets/data-dictionary/overview/tweet-object)"
   ]
  },
  {
   "cell_type": "code",
   "execution_count": 11,
   "metadata": {},
   "outputs": [
    {
     "data": {
      "text/plain": [
       "'This week...\\n\\n- Four Crew-2 astronauts launch on the SpaceX Crew Dragon &amp; arrive at @Space_Station\\n- Our Ingenuity… https://t.co/Yp8GGPNJ9O'"
      ]
     },
     "execution_count": 11,
     "metadata": {},
     "output_type": "execute_result"
    }
   ],
   "source": [
    "nasa.status.text  # most recent tweet's text"
   ]
  },
  {
   "cell_type": "markdown",
   "metadata": {},
   "source": [
    "* **...** indicates **truncated** tweet text\n",
    "* **`extended_tweet` property** for tweets between 141 and 280 characters (as of Nov. 2017) \n",
    "* **Retweeting** often results in truncation"
   ]
  },
  {
   "cell_type": "markdown",
   "metadata": {},
   "source": [
    "<hr style=\"height:2px; border:none; color:#000; background-color:#000;\">"
   ]
  },
  {
   "cell_type": "markdown",
   "metadata": {},
   "source": [
    "# 12.9 Introduction to Tweepy Cursors: Getting an Account’s Followers \n",
    "* Twitter API methods often return collections of objects \n",
    "    * E.g., list of tweets that match specified search criteria \n",
    "* Each method has **maximum number of items returned by one call**\n",
    "    * A **\"page\"** of results\n",
    "* **JSON responses** indicate whether there are **more pages**\n",
    "* A **`Cursor`** handles **paging** \n",
    "    * Invokes a method and **checks for more pages**\n",
    "    * If so, **calls the method again**  \n",
    "    * Continues until there are no more results to process\n",
    "    * If `API` object configured to **wait on rate limits**, **`Cursor`s wait as needed**\n",
    "* [Tweepy `Cursor` tutorial](http://docs.tweepy.org/en/latest/cursor_tutorial.html)"
   ]
  },
  {
   "cell_type": "markdown",
   "metadata": {},
   "source": [
    "<hr style=\"height:2px; border:none; color:#000; background-color:#000;\">"
   ]
  },
  {
   "cell_type": "markdown",
   "metadata": {},
   "source": [
    "## 12.9.1 Determining an Account’s Followers  Via the `API` object’s **`followers` Method**\n",
    "* Calls Twitter’s [**followers/list** method](https://developer.twitter.com/en/docs/accounts-and-users/follow-search-get-users/api-reference/get-followers-list.html)\n",
    "* Returns groups of 20 by default, but can request up to 200 \n",
    "* For demonstration purposes, we’ll grab 10 of NASA’s followers"
   ]
  },
  {
   "cell_type": "markdown",
   "metadata": {},
   "source": [
    "<hr style=\"height:2px; border:none; color:#000; background-color:#000;\">"
   ]
  },
  {
   "cell_type": "markdown",
   "metadata": {},
   "source": [
    "### Creating a Cursor That Will Call the `followers` Method for NASA’s account"
   ]
  },
  {
   "cell_type": "code",
   "execution_count": 12,
   "metadata": {},
   "outputs": [],
   "source": [
    "followers = []  # for storing followers' User objects"
   ]
  },
  {
   "cell_type": "code",
   "execution_count": 13,
   "metadata": {},
   "outputs": [],
   "source": [
    "cursor = tweepy.Cursor(api.followers, screen_name='nasa')"
   ]
  },
  {
   "cell_type": "markdown",
   "metadata": {},
   "source": [
    "* First argument is **name of Tweepy method to call**\n",
    "* Additional keyword arguments are passed to method named in first argument"
   ]
  },
  {
   "cell_type": "markdown",
   "metadata": {},
   "source": [
    "<hr style=\"height:2px; border:none; color:#000; background-color:#000;\">"
   ]
  },
  {
   "cell_type": "markdown",
   "metadata": {},
   "source": [
    "### Get Results from `Cursor` and Display in Ascending Alphabetical Order  \n",
    "* Cursor’s **`items` method** calls `api.followers` and returns the `follower`s method’s results"
   ]
  },
  {
   "cell_type": "code",
   "execution_count": 14,
   "metadata": {},
   "outputs": [],
   "source": [
    "for account in cursor.items(100):  # request only 100 results\n",
    "    followers.append(account.screen_name)"
   ]
  },
  {
   "cell_type": "code",
   "execution_count": 15,
   "metadata": {},
   "outputs": [
    {
     "data": {
      "text/plain": [
       "['BeliranRobena',\n",
       " 'Shashan82365103',\n",
       " 'd_waldorf',\n",
       " 'AliceDonnini1',\n",
       " 'Angelli72233462',\n",
       " 'MuktaPokhrel',\n",
       " 'rCdugHLk4WHmiNX',\n",
       " 'heartgirlyy',\n",
       " 'Erdalol55852190',\n",
       " 'Muhamma84256948',\n",
       " 'keyyikou1',\n",
       " 'MalkovichRobert',\n",
       " 'RajuRaj26458437',\n",
       " 'Karuvac88013475',\n",
       " 'AKensuk',\n",
       " 'SumitVe73431334',\n",
       " 'Tran94833105',\n",
       " 'Chris62201899',\n",
       " 'Camila07544048',\n",
       " 'TaquitosBurnt',\n",
       " 'TabareSardena',\n",
       " 'Peachy19891',\n",
       " 'SBlackrxses',\n",
       " 'jyanbojyanbo',\n",
       " '8XmSpEk93jPwZpw',\n",
       " 'SangmaTangrak',\n",
       " 'LatestShares',\n",
       " 'Allison56291432',\n",
       " 'SMSHAHI78940272',\n",
       " 'grimoiredelau',\n",
       " 'SimonakMilan',\n",
       " 'AmriSir12884987',\n",
       " 'Ahmadmu99184772',\n",
       " 'YxyMed',\n",
       " 'multix_vughead1',\n",
       " 'binglu1',\n",
       " 'SergioDiaz_l_',\n",
       " 'GopeshReal',\n",
       " 'tatielily',\n",
       " 'ElalfyNoga',\n",
       " 'cat95271',\n",
       " 'shanghainjapan',\n",
       " 'melissat_27',\n",
       " 'abc32630866',\n",
       " 'Martin84856604',\n",
       " 'kukurbitanigra',\n",
       " 'KadiyanRicky',\n",
       " 'GIOVANN24693093',\n",
       " 'SthaCrzan',\n",
       " 'GankhuygM',\n",
       " 'AnjaliS29081006',\n",
       " 'OscarRo59045528',\n",
       " 'IainMac62927195',\n",
       " 'rajeevmanjeri',\n",
       " 'Gamma57807447',\n",
       " 'gorur_oktay',\n",
       " 'ali22791686',\n",
       " 'BaimGelora',\n",
       " 'KingLekkis',\n",
       " 'VinayKu90672720',\n",
       " 'ChendaTim',\n",
       " 'kelvinb72495718',\n",
       " 'Assma25147890',\n",
       " 'Yaya65033117',\n",
       " 'Abishek54782329',\n",
       " 'HunterPatil',\n",
       " 'pMAU2IUBaZAFnl6',\n",
       " 'CallosumL',\n",
       " 'jess48977128',\n",
       " 'Daisy02355304',\n",
       " 'muratcinko1',\n",
       " 'bnekaramelolan',\n",
       " 'AngusConnie',\n",
       " 'LayneTPittman',\n",
       " 'Meilya48037269',\n",
       " 'Aaditya_67',\n",
       " 'fresa_martin',\n",
       " 'WilburCNeal1',\n",
       " 'awab44591326',\n",
       " 'SahilKh09258865',\n",
       " 'ChrisVeerman1',\n",
       " 'TeoRains',\n",
       " 'MikeJac55663984',\n",
       " 'Lifrent',\n",
       " 'KQThhTipVx9vsWG',\n",
       " 'chejg1',\n",
       " 'Daniil42240788',\n",
       " 'Ryan77730570',\n",
       " 'Amour_089',\n",
       " 'chibbamulilo4',\n",
       " 'hrTAQZ2vJDzNQ4o',\n",
       " 'AnggaraAsasi',\n",
       " 'debarry_r',\n",
       " 'ameeralwanp',\n",
       " 'BangoPhumlani',\n",
       " 'Sadmadness6',\n",
       " 'JuniorR03916979',\n",
       " 'SidNancy11',\n",
       " 'human_person0',\n",
       " 'bibvewadi']"
      ]
     },
     "execution_count": 15,
     "metadata": {},
     "output_type": "execute_result"
    }
   ],
   "source": [
    "followers"
   ]
  },
  {
   "cell_type": "markdown",
   "metadata": {},
   "source": [
    "<hr style=\"height:2px; border:none; color:#000; background-color:#000;\">"
   ]
  },
  {
   "cell_type": "markdown",
   "metadata": {},
   "source": [
    "### Automatic Paging\n",
    "* To **get up to 200 followers at a time**, create the `Cursor` with the **`count`** keyword argument\n",
    ">```python\n",
    "cursor = tweepy.Cursor(api.followers, screen_name='nasa', count=200)\n",
    "```\n",
    "* Calling `Cursor` method **`items`** with no argument attempts to get **all followers**\n",
    "    * Could **take significant time** due to **rate limits**"
   ]
  },
  {
   "cell_type": "markdown",
   "metadata": {},
   "source": [
    "<hr style=\"height:2px; border:none; color:#000; background-color:#000;\">"
   ]
  },
  {
   "cell_type": "markdown",
   "metadata": {},
   "source": [
    "# 12.10 Searching Recent Tweets with Tweepy `API` method **`search`** \n",
    "* **Tweets API**—Search **past 7 days' tweets**, access **live tweet streams** and more\n",
    "* Returns tweets that **match a query string**\n",
    "* Only for the **previous seven days’ tweets**\n",
    "* **Not guaranteed to return all matching tweets**\n",
    "* Calls Twitter’s **`search/tweets` method**\n",
    "* Returns 15 tweets at a time by default, but can return up to 100"
   ]
  },
  {
   "cell_type": "markdown",
   "metadata": {},
   "source": [
    "<hr style=\"height:2px; border:none; color:#000; background-color:#000;\">"
   ]
  },
  {
   "cell_type": "markdown",
   "metadata": {},
   "source": [
    "### Utility Function `print_tweets` from `tweetutilities.py` "
   ]
  },
  {
   "cell_type": "code",
   "execution_count": 16,
   "metadata": {},
   "outputs": [],
   "source": [
    "from tweetutilities import print_tweets"
   ]
  },
  {
   "cell_type": "markdown",
   "metadata": {},
   "source": [
    "```python\n",
    "def print_tweets(tweets):\n",
    "    \"\"\"For each Tweepy Status object in tweets, display the \n",
    "    user's screen_name and tweet text. If the language is not\n",
    "    English, translate the text with TextBlob.\"\"\"\n",
    "    for tweet in tweets:\n",
    "        print(f'{tweet.screen_name}:', end=' ')\n",
    "    \n",
    "        if 'en' in tweet.lang:\n",
    "            print(f'{tweet.text}\\n')\n",
    "        elif 'und' not in tweet.lang:  # translate to English first\n",
    "            print(f'\\n  ORIGINAL: {tweet.text}')\n",
    "            print(f'TRANSLATED: {TextBlob(tweet.text).translate()}\\n')\n",
    "\n",
    "```"
   ]
  },
  {
   "cell_type": "markdown",
   "metadata": {},
   "source": [
    "<hr style=\"height:2px; border:none; color:#000; background-color:#000;\">"
   ]
  },
  {
   "cell_type": "markdown",
   "metadata": {},
   "source": [
    "### Searching for Specific Words\n",
    "* **`q` keyword argument** specifies the **query string**\n",
    "* Should use **`Cursor`** for more than max results"
   ]
  },
  {
   "cell_type": "code",
   "execution_count": 17,
   "metadata": {},
   "outputs": [],
   "source": [
    "tweets = api.search(q='football', count=10)"
   ]
  },
  {
   "cell_type": "code",
   "execution_count": 18,
   "metadata": {},
   "outputs": [
    {
     "name": "stdout",
     "output_type": "stream",
     "text": [
      "Sparks_Utd: RT @guapdad4hunnid: we broke leeds they're playing careful football😭😭😭😭\n",
      "\n",
      "cfc_will12: @afc4212 @ThePepeEra @CFCMod_ We have more ucls uefa cup winners cup uefa Europa leagues uefa super cups league cup… https://t.co/WnWvhrAGeS\n",
      "\n",
      "samanthaskidm10: RT @dougokane88: You - 311 days in drop zone; divisional retention; behind-closed-doors; joint worst start in 100 years; Big Val; 7 wins in…\n",
      "\n",
      "OmobaFere: Juventus should quit football and start charity full time\n",
      "\n",
      "HarryPHall: Breaking 🚨 \n",
      "\n",
      "Daniel Farke has identified Nottingham Forest centre half Joe Worrall as one of their primary transfer… https://t.co/R8acYlFW4o\n",
      "\n",
      "ermon_ishmal: RT @GodSpeed_06: Man I’m all dawg 🐶⚫️🔴 but growing up in South Carolina as a football player man DJ is everything that represents SC 🏈 play…\n",
      "\n",
      "M4BA_: \n",
      "  ORIGINAL: @football_l5 @omaralsomah اسطورة\n",
      "TRANSLATED: @Football @FootballAnime\n",
      "\n",
      "LabForGov: @sean32463606 @bill_vine @Keir_Starmer So first it’s a problem because ‘he doesn’t like football’ and when presente… https://t.co/m5zY9X10hv\n",
      "\n",
      "shubh_arora10: RT @SkyFootball: Fans back at football 😍\n",
      "\n",
      "8,000 will be in attendance at Wembley for the Carabao Cup Final today https://t.co/GJD0wT0jL7\n",
      "\n",
      "Amarachi_Phil: @weirdtimi They should sack that man... See Kati Kati and nonsense football they are playing\n",
      "\n"
     ]
    }
   ],
   "source": [
    "print_tweets(tweets)"
   ]
  },
  {
   "cell_type": "markdown",
   "metadata": {},
   "source": [
    "<hr style=\"height:2px; border:none; color:#000; background-color:#000;\">"
   ]
  },
  {
   "cell_type": "markdown",
   "metadata": {},
   "source": [
    "### Searching with Twitter Search Operators (1 of 2)\n",
    "* Use **Twitter search operators** to refine search results\n",
    "* The following table shows several Twitter search operators. \n",
    "* [For all the operators, click the `operators` link here](https://twitter.com/search-home)\n",
    "* ```python\n",
    "tweets = api.search(q='from:nasa since:2019-11-15', count=3)\n",
    "```\n",
    "\n",
    "| Example&nbsp;&nbsp;&nbsp;&nbsp;&nbsp;&nbsp;&nbsp;&nbsp;&nbsp;&nbsp;&nbsp;&nbsp;&nbsp;&nbsp;&nbsp;&nbsp;&nbsp;&nbsp;&nbsp;&nbsp;&nbsp;&nbsp;&nbsp;&nbsp;&nbsp;&nbsp;&nbsp;&nbsp;&nbsp;&nbsp;&nbsp;&nbsp;&nbsp;&nbsp;&nbsp;&nbsp;&nbsp;&nbsp;\t| Finds tweets containing\n",
    "| :---\t| :---\n",
    "| `python twitter` \t| **Implicit _logical and_ operator**—Finds tweets containing `python` _and_ `twitter`.\n",
    "| `python OR twitter` \t| **Logical `OR` operator**—Finds tweets containing `python` or `twitter` or both.\n",
    "| `python ?` \t| **`?` (question mark)**—Finds tweets asking questions about `python`.\n",
    "| `planets -mars` \t| **`-` (minus sign)**—Finds tweets containing `planets` but not `mars`.\n",
    "| `python :)` \t| **`:)` (happy face)**—Finds **positive sentiment** tweets containing `python`.\n",
    "| `python :(` \t| **`:(` (sad face)**—Finds **negative sentiment** tweets containing `python`.\n",
    "| `since:2018-09-01` \t| **Finds tweets **on or after** the specified date**, which must be in the form **`YYYY-MM-DD`**.\n",
    "| `near:\"New York City\" `\t| **Finds tweets that were sent near `\"New York City\"`**.\n",
    "| `from:nasa` \t| **Finds tweets from the account `@nasa`**.\n",
    "| `to:nasa` \t| **Finds tweets to the account `@nasa`**."
   ]
  },
  {
   "cell_type": "markdown",
   "metadata": {},
   "source": [
    "<hr style=\"height:2px; border:none; color:#000; background-color:#000;\">"
   ]
  },
  {
   "cell_type": "markdown",
   "metadata": {},
   "source": [
    "# 12.11 Spotting Trends: Twitter Trends API\n",
    "* **“Going viral”** &mdash; thousands or millions of people tweeting at once \n",
    "* Twitter maintains a list of **trending topics** worldwide \n",
    "* **Twitter Trends API** can return lists of **trending-topic locations** and the **top 50 trending topics** for each **location**"
   ]
  },
  {
   "cell_type": "markdown",
   "metadata": {},
   "source": [
    "<hr style=\"height:2px; border:none; color:#000; background-color:#000;\">"
   ]
  },
  {
   "cell_type": "markdown",
   "metadata": {},
   "source": [
    "## 12.11.1 Places with Trending Topics \n",
    "* See how to find places with trending topics: https://learning.oreilly.com/videos/python-fundamentals/9780135917411/9780135917411-PFLL_Lesson12_15"
   ]
  },
  {
   "cell_type": "markdown",
   "metadata": {},
   "source": [
    "<hr style=\"height:2px; border:none; color:#000; background-color:#000;\">"
   ]
  },
  {
   "cell_type": "markdown",
   "metadata": {},
   "source": [
    "## 12.11.2 Getting a List of Trending Topics with the Tweepy `API`’s **`trends_place` Method** \n",
    "* Calls **Twitter Trends API’s [`trends/place` method](https://developer.twitter.com/en/docs/trends/trends-for-location/api-reference/get-trends-place)**\n",
    "* Returns top **50 trending topics for the location**\n",
    "* [Look up WOEIDs](http://www.woeidlookup.com) (**Yahoo! Where on Earth IDs**)\n",
    "* Look up WOEID’s programmatically using **Yahoo!’s web services** via [Python libraries like `woeid`](https://github.com/Ray-SunR/woeid)"
   ]
  },
  {
   "cell_type": "markdown",
   "metadata": {},
   "source": [
    "<hr style=\"height:2px; border:none; color:#000; background-color:#000;\">"
   ]
  },
  {
   "cell_type": "markdown",
   "metadata": {},
   "source": [
    "### Get Today's Worldwide Trending Topics (1 of 3)"
   ]
  },
  {
   "cell_type": "code",
   "execution_count": 19,
   "metadata": {},
   "outputs": [],
   "source": [
    "world_trends = api.trends_place(id=1)  # list containing one dictionary"
   ]
  },
  {
   "cell_type": "markdown",
   "metadata": {},
   "source": [
    "* **`'trends'` key** refers to a **list of dictionaries representing each trend**"
   ]
  },
  {
   "cell_type": "code",
   "execution_count": 20,
   "metadata": {},
   "outputs": [],
   "source": [
    "trends_list = world_trends[0]['trends']"
   ]
  },
  {
   "cell_type": "markdown",
   "metadata": {},
   "source": [
    "<hr style=\"height:2px; border:none; color:#000; background-color:#000;\">"
   ]
  },
  {
   "cell_type": "markdown",
   "metadata": {},
   "source": [
    "### Get Today's Worldwide Trending Topics (2 of 3)\n",
    "* Each trend has **`name`**, **`url`**, **`promoted_content`** (whether it's an **advertisement**), **`query`** and **`tweet_volume`** keys"
   ]
  },
  {
   "cell_type": "code",
   "execution_count": 21,
   "metadata": {},
   "outputs": [
    {
     "data": {
      "text/plain": [
       "{'name': '#ドラゴン桜',\n",
       " 'url': 'http://twitter.com/search?q=%23%E3%83%89%E3%83%A9%E3%82%B4%E3%83%B3%E6%A1%9C',\n",
       " 'promoted_content': None,\n",
       " 'query': '%23%E3%83%89%E3%83%A9%E3%82%B4%E3%83%B3%E6%A1%9C',\n",
       " 'tweet_volume': 97364}"
      ]
     },
     "execution_count": 21,
     "metadata": {},
     "output_type": "execute_result"
    }
   ],
   "source": [
    "trends_list[0]"
   ]
  },
  {
   "cell_type": "markdown",
   "metadata": {},
   "source": [
    "<hr style=\"height:2px; border:none; color:#000; background-color:#000;\">"
   ]
  },
  {
   "cell_type": "markdown",
   "metadata": {},
   "source": [
    "### Get Today's Worldwide Trending Topics (3 of 3)\n",
    "* For **trends with more than 10,000 tweets**, the **`tweet_volume`** is the **number of tweets**; otherwise, it’s `None`\n",
    "* Filter the list so that it contains only trends with more than 10,000 tweets:"
   ]
  },
  {
   "cell_type": "code",
   "execution_count": 22,
   "metadata": {},
   "outputs": [],
   "source": [
    "trends_list = [t for t in trends_list if t['tweet_volume']]"
   ]
  },
  {
   "cell_type": "code",
   "execution_count": 23,
   "metadata": {},
   "outputs": [],
   "source": [
    "from operator import itemgetter "
   ]
  },
  {
   "cell_type": "code",
   "execution_count": 24,
   "metadata": {},
   "outputs": [],
   "source": [
    "trends_list.sort(key=itemgetter('tweet_volume'), reverse=True) "
   ]
  },
  {
   "cell_type": "code",
   "execution_count": 25,
   "metadata": {},
   "outputs": [
    {
     "name": "stdout",
     "output_type": "stream",
     "text": [
      "ワルプルギスの廻天\n",
      "#CSKvRCB\n",
      "制作決定\n",
      "まどマギ\n",
      "#ドラゴン桜\n",
      "ユニット\n",
      "#あんスタFUSION\n",
      "当選確実\n",
      "Wolves\n",
      "BULLETPROOF ON iHEART\n",
      "モンスト\n",
      "神田川さん\n",
      "#LEEMUN\n",
      "神田川俊郎さん\n",
      "参院広島再選挙\n",
      "Knights\n",
      "#jadeja\n",
      "呪術廻戦コラボ\n",
      "名古屋市長選\n",
      "あんさんぶるスターズ\n",
      "Kalafina\n",
      "河村たかし\n",
      "Harshal Patel\n",
      "海ちゃん\n",
      "ユリウス\n",
      "スタステ\n",
      "Pogba\n",
      "五右衛門\n",
      "田中真弓さん\n",
      "衆参3選挙\n",
      "戸次さん\n"
     ]
    }
   ],
   "source": [
    "for trend in trends_list:  # show top trending topics\n",
    "    print(trend['name'])"
   ]
  },
  {
   "cell_type": "markdown",
   "metadata": {},
   "source": [
    "<hr style=\"height:2px; border:none; color:#000; background-color:#000;\">"
   ]
  },
  {
   "cell_type": "markdown",
   "metadata": {},
   "source": [
    "# 12.12 Cleaning/Preprocessing Tweets for Analysis\n",
    "* **Data cleaning** is one of data scientists' most common tasks \n",
    "* Some **NLP tasks** for **normalizing tweets**\n",
    "    * Converting text to **same case**\n",
    "    * Removing **`#` from hashtags**, **`@`-mentions**, **duplicates**, **hashtags**\n",
    "    * Removing **excess whitespace**, **punctuation**, **stop words**, **URLs**\n",
    "    * Removing tweet keywords **`RT`** (retweet) and **`FAV`** (favorite) \n",
    "    * **Stemming** and **lemmatization**\n",
    "    * **Tokenization**"
   ]
  },
  {
   "cell_type": "markdown",
   "metadata": {},
   "source": [
    "<hr style=\"height:2px; border:none; color:#000; background-color:#000;\">"
   ]
  },
  {
   "cell_type": "markdown",
   "metadata": {},
   "source": [
    "### [**tweet-preprocessor**](https://github.com/s/preprocessor) Library and TextBlob Utility Functions\n",
    "* `pip install tweet-preprocessor`\n",
    "* Can automatically remove any combination of:\n",
    "\n",
    "| Option\t| Option constant\n",
    "| :---\t| :---\n",
    "| **`OPT.MENTION`** | @-Mentions (e.g., `@nasa`)\t\n",
    "| **`OPT.EMOJI`** | Emoji\t\n",
    "| **`OPT.HASHTAG`** | Hashtag (e.g., `#mars`)\t\n",
    "| **`OPT.NUMBER`** | Number\t\n",
    "| **`OPT.RESERVED`** | Reserved Words (`RT` and `FAV`)\t\n",
    "| **`OPT.SMILEY`** | Smiley\t\n",
    "| **`OPT.URL`** | URL\t"
   ]
  },
  {
   "cell_type": "markdown",
   "metadata": {},
   "source": [
    "<hr style=\"height:2px; border:none; color:#000; background-color:#000;\">"
   ]
  },
  {
   "cell_type": "markdown",
   "metadata": {},
   "source": [
    "### Cleaning a Tweet Containing a Reserved Word and a URL\n",
    "* The tweet-preprocessor library’s module name is **`preprocessor`** "
   ]
  },
  {
   "cell_type": "code",
   "execution_count": 26,
   "metadata": {},
   "outputs": [],
   "source": [
    "import preprocessor as p  # p recommended by docs"
   ]
  },
  {
   "cell_type": "code",
   "execution_count": 27,
   "metadata": {},
   "outputs": [],
   "source": [
    "p.set_options(p.OPT.URL, p.OPT.RESERVED)  # specify what to clean"
   ]
  },
  {
   "cell_type": "code",
   "execution_count": 28,
   "metadata": {},
   "outputs": [],
   "source": [
    "tweet_text = 'RT A sample retweet with a URL https://nasa.gov'"
   ]
  },
  {
   "cell_type": "code",
   "execution_count": 29,
   "metadata": {},
   "outputs": [
    {
     "data": {
      "text/plain": [
       "'A sample retweet with a URL'"
      ]
     },
     "execution_count": 29,
     "metadata": {},
     "output_type": "execute_result"
    }
   ],
   "source": [
    "p.clean(tweet_text)\n"
   ]
  },
  {
   "cell_type": "markdown",
   "metadata": {},
   "source": [
    "<hr style=\"height:2px; border:none; color:#000; background-color:#000;\">"
   ]
  },
  {
   "cell_type": "markdown",
   "metadata": {},
   "source": [
    "# 12.13 Twitter Streaming API\n",
    "* Streams **randomly selected** live tweets up to a **maximum of 1% of the tweets per day**\n",
    "* According to https://InternetLiveStats.com\n",
    "    * **~8500 tweets per second**\n",
    "    * Nearly **750 million tweets per day**\n",
    "* So Streaming API gives you **free access to approximately 7.5 million tweets/day**"
   ]
  },
  {
   "cell_type": "markdown",
   "metadata": {},
   "source": [
    "<hr style=\"height:2px; border:none; color:#000; background-color:#000;\">"
   ]
  },
  {
   "cell_type": "markdown",
   "metadata": {},
   "source": [
    "## 12.13.1 Creating a Subclass of `StreamListener` \n",
    "* A stream **pushes** tweets to your app via a **persistent connection** \n",
    "* **Streaming rate** varies tremendously, based on search criteria\n",
    "* Subclass of Tweepy’s **`StreamListener`** listens for tweets\n",
    "    * **Notified** when each **new tweet** or other **Twitter message** **arrives**\n",
    "    * Each message results in a call to a **`StreamListener` method**\n",
    "    * **Override** only the **methods you need**\n"
   ]
  },
  {
   "cell_type": "markdown",
   "metadata": {},
   "source": [
    "<hr style=\"height:2px; border:none; color:#000; background-color:#000;\">"
   ]
  },
  {
   "cell_type": "markdown",
   "metadata": {},
   "source": [
    "### `StreamListener` Methods\n",
    "* [`StreamListener` methods](https://github.com/tweepy/tweepy/blob/master/tweepy/streaming.py)  \n",
    "\n",
    "| Method&nbsp;&nbsp;&nbsp;&nbsp;&nbsp;&nbsp;&nbsp;&nbsp;&nbsp;&nbsp;&nbsp;&nbsp;&nbsp;&nbsp;&nbsp;&nbsp;&nbsp;&nbsp;&nbsp;&nbsp;&nbsp;&nbsp;&nbsp;&nbsp;&nbsp;&nbsp;&nbsp;&nbsp;&nbsp;&nbsp;&nbsp;&nbsp;&nbsp;&nbsp;&nbsp;&nbsp;&nbsp;&nbsp;&nbsp;&nbsp;&nbsp;&nbsp;&nbsp;&nbsp;&nbsp;&nbsp;&nbsp;&nbsp;&nbsp;&nbsp;&nbsp;&nbsp;&nbsp;&nbsp;&nbsp;&nbsp;&nbsp;&nbsp;| Called when...\n",
    "| :---\t| :---\n",
    "| **`on_connect(self)`** \t| App **successfully connects** to the Twitter stream. This is for statements that should execute only if your app is connected to the stream.\n",
    "| **`on_status(self, status)`** \t| A **tweet arrives**—**`status`** is a Tweepy **`Status`** object.\n",
    "| **`on_data(self, data)`** \t| A **tweet arrives**—**`data`** is the **raw JSON** of a Twitter status (tweet).\n",
    "| **`on_limit(self, track)`** \t| A **limit notice** arrives. This occurs if your search matches more tweets than Twitter can deliver based on its current streaming rate limits. In this case, the limit notice contains the number of matching tweets that could not be delivered.\n",
    "| **`on_error(self, status_code)`** \t| An **error code** arrives. \n",
    "| **`on_timeout(self)`** \t| The **connection times out**—that is, the Twitter server is not responding.\n",
    "| **`on_warning(self, notice)`** \t| **Twitter sends a disconnect warning** to indicate that the connection might be closed. For example, Twitter maintains a queue of the tweets it’s pushing to your app. If the app does not read the tweets fast enough, `on_warning`’s notice argument will contain a warning message indicating that the connection will terminate if the queue becomes full. "
   ]
  },
  {
   "cell_type": "markdown",
   "metadata": {},
   "source": [
    "<hr style=\"height:2px; border:none; color:#000; background-color:#000;\">"
   ]
  },
  {
   "cell_type": "markdown",
   "metadata": {},
   "source": [
    "### Class `TweetListener` Defined in `tweetlistener.py`\n",
    "```python  \n",
    "# tweetlistener.py\n",
    "\"\"\"tweepy.StreamListener subclass that processes tweets as they arrive.\"\"\"\n",
    "import tweepy\n",
    "from textblob import TextBlob\n",
    "\n",
    "class TweetListener(tweepy.StreamListener):\n",
    "    \"\"\"Handles incoming Tweet stream.\"\"\"\n",
    "```"
   ]
  },
  {
   "cell_type": "markdown",
   "metadata": {},
   "source": [
    "```python  \n",
    "    def __init__(self, api, limit=10):\n",
    "        \"\"\"Create instance variables for tracking number of tweets.\"\"\"\n",
    "        self.tweet_count = 0\n",
    "        self.TWEET_LIMIT = limit  # max number of tweets; None for no max\n",
    "        super().__init__(api)  # call superclass's init\n",
    "\n",
    "    def on_connect(self):\n",
    "        \"\"\"Called when your connection attempt is successful, enabling \n",
    "        you to perform appropriate application tasks at that point.\"\"\"\n",
    "        print('Connection successful\\n')\n",
    "```"
   ]
  },
  {
   "cell_type": "markdown",
   "metadata": {},
   "source": [
    "```python  \n",
    "    def on_status(self, status):\n",
    "        \"\"\"Called when Twitter pushes a new tweet to you.\"\"\"\n",
    "        # get the tweet text\n",
    "        try:  \n",
    "            tweet_text = status.extended_tweet[\"full_text\"]\n",
    "        except: \n",
    "            tweet_text = status.text\n",
    "\n",
    "        print(f'Screen name: {status.user.screen_name}:')\n",
    "        print(f'   Language: {status.lang}')\n",
    "        print(f'     Status: {tweet_text}')\n",
    "\n",
    "        if status.lang != 'en' and status.lang != 'und':\n",
    "            print(f' Translated: {TextBlob(tweet_text).translate()}')\n",
    "\n",
    "        print()\n",
    "        self.tweet_count += 1  # track number of tweets processed\n",
    "\n",
    "        # if TWEET_LIMIT is reached, return False to terminate streaming\n",
    "        return self.tweet_count < self.TWEET_LIMIT\n",
    "```"
   ]
  },
  {
   "cell_type": "markdown",
   "metadata": {},
   "source": [
    "<hr style=\"height:2px; border:none; color:#000; background-color:#000;\">"
   ]
  },
  {
   "cell_type": "markdown",
   "metadata": {},
   "source": [
    "## 12.13.2 Initiating Stream Processing\n",
    "\n",
    "### Creating a `TweetListener` Initializing It with the `api` Object"
   ]
  },
  {
   "cell_type": "code",
   "execution_count": 30,
   "metadata": {},
   "outputs": [],
   "source": [
    "from tweetlistener import TweetListener"
   ]
  },
  {
   "cell_type": "code",
   "execution_count": 31,
   "metadata": {},
   "outputs": [],
   "source": [
    "tweet_listener = TweetListener(api, limit=5)"
   ]
  },
  {
   "cell_type": "markdown",
   "metadata": {},
   "source": [
    "<hr style=\"height:2px; border:none; color:#000; background-color:#000;\">"
   ]
  },
  {
   "cell_type": "markdown",
   "metadata": {},
   "source": [
    "### Creating a Tweepy **`Stream`** Object to Manage the Connection to the Twitter Stream\n",
    "* Passes the messages to your `TweetListener` "
   ]
  },
  {
   "cell_type": "code",
   "execution_count": 32,
   "metadata": {},
   "outputs": [],
   "source": [
    "tweet_stream = tweepy.Stream(auth=api.auth, listener=tweet_listener)"
   ]
  },
  {
   "cell_type": "markdown",
   "metadata": {},
   "source": [
    "<hr style=\"height:2px; border:none; color:#000; background-color:#000;\">"
   ]
  },
  {
   "cell_type": "markdown",
   "metadata": {},
   "source": [
    "### Starting the Tweet Stream with the `Stream` Object’s **`filter` Method** \n",
    "* `track` parameter specifies a list of search terms\n",
    "* [Other `filter` method parameters](https://developer.twitter.com/en/docs/tweets/filter-realtime/guides/basic-stream-parameters) for refining your tweet searches\n",
    "* Streaming API returns full tweet **JSON objects** for tweets that match any of the terms, **not just in the tweet’s text, but also in @-mentions, hashtags, expanded URLs and other information**  \n",
    "* Might not see search terms in **tweets' text**"
   ]
  },
  {
   "cell_type": "code",
   "execution_count": 33,
   "metadata": {},
   "outputs": [
    {
     "name": "stdout",
     "output_type": "stream",
     "text": [
      "Connection successful\n",
      "\n",
      "Screen name: shubh_arora10:\n",
      "   Language: en\n",
      "     Status: RT @SkyFootball: Fans back at football 😍\n",
      "\n",
      "8,000 will be in attendance at Wembley for the Carabao Cup Final today https://t.co/GJD0wT0jL7\n",
      "\n",
      "Screen name: LabForGov:\n",
      "   Language: en\n",
      "     Status: @sean32463606 @bill_vine @Keir_Starmer So first it’s a problem because ‘he doesn’t like football’ and when presented with the evidence of his love for football, you now think he should stop liking football. This is what happens when you go searching for something to complain about - you embarrass yourself.\n",
      "\n",
      "Screen name: RedcliffeRoarFC:\n",
      "   Language: en\n",
      "     Status: The Minority causing issues yet again. Just like how APFCA is ruining football in the eyes of MILLIONS of Australians. Those in the towers of Ivory and Glass will get what's coming to them! #worsethansuperleague\n",
      "\n",
      "Screen name: ermon_ishmal:\n",
      "   Language: en\n",
      "     Status: RT @GodSpeed_06: Man I’m all dawg 🐶⚫️🔴 but growing up in South Carolina as a football player man DJ is everything that represents SC 🏈 play…\n",
      "\n",
      "Screen name: HarryPHall:\n",
      "   Language: en\n",
      "     Status: Breaking 🚨 \n",
      "\n",
      "Daniel Farke has identified Nottingham Forest centre half Joe Worrall as one of their primary transfer targets this summer. \n",
      "\n",
      "Thoughts on this #ncfc and #nffc fans? \n",
      "\n",
      "Source - https://t.co/hg1kURMIkn\n",
      "\n"
     ]
    }
   ],
   "source": [
    "tweet_stream.filter(track=['football'])  #, is_async=True) "
   ]
  },
  {
   "cell_type": "markdown",
   "metadata": {},
   "source": [
    "<hr style=\"height:2px; border:none; color:#000; background-color:#000;\">"
   ]
  },
  {
   "cell_type": "markdown",
   "metadata": {},
   "source": [
    "### **Lecture note: Run remaining cells now so we don't have to wait for streamed tweets later.**\n",
    "\n",
    "### Asynchronous vs. Synchronous Streams\n",
    "* **`is_async=True`** &mdash; would initiate an **asynchronous tweet stream** \n",
    "* Without `is_async=True`, the stream is **synchronous** and the next In [] prompt appears **after the stream terminates**    \n",
    "* in Jupyter, we used a **synchronous stream** ensure that all tweets display\n",
    "* In IPython, can terminate an asynchronous tweet stream early:  \n",
    ">`tweet_stream.running=False`    \n"
   ]
  },
  {
   "cell_type": "markdown",
   "metadata": {},
   "source": [
    "<hr style=\"height:2px; border:none; color:#000; background-color:#000;\">"
   ]
  },
  {
   "cell_type": "markdown",
   "metadata": {},
   "source": [
    "# 12.14 Tweet Sentiment Analysis \n",
    "* Political researchers might use to understand **how people are likely to vote**\n",
    "* Companies might use to see what people are saying about **their products** and **competitors’ products**\n",
    "* Script **`sentimentlistener.py`** checks **sentiment** on a specified topic for a specified number of tweets\n",
    "* The script in this example is substantially the same as the previous example, but uses TextBlob to check the sentiment of each tweet as we did in the NLP presentation"
   ]
  },
  {
   "cell_type": "code",
   "execution_count": 34,
   "metadata": {},
   "outputs": [
    {
     "name": "stdout",
     "output_type": "stream",
     "text": [
      "+ OmobaFere: Juventus should quit football and start charity full time\n",
      "\n",
      "+ cfc_will12: @afc4212 @ThePepeEra @CFCMod_ We have more ucls uefa cup winners cup uefa Europa leagues uefa super cups league cups and more “prems” then arsenal football club. Not just the flukey ucl that u mentioned\n",
      "\n",
      "+ kogrady74: @Mufcfaninspain He believes loud fans arent 'real' fans, trophies don't matter as only for egotists, Woodward &amp; the Glazers have been great for the football club and that we dont need many new signings...Oh and Phil Jones deserved a 3 yr extension on his contractetc etc. My Man Ole! #GlazersOut\n",
      "\n",
      "+ Sunbear36883316: Football: Arsenal great Henry says he no longer recognises the club I dont think Arsenal bother about him.\n",
      "\n",
      "  notdaveinit: this football is burning my eyes\n",
      "\n",
      "  serieafantasyte: What a game for @FcCrotoneOff yesterday! 4-3 winners against Parma in a classic match 🙌 We want to highlight Junior Messias, who has been incredible this campaign. He has 8 goals, 4 assists, &amp; is one of the highest performing midfielders on our #SerieA fantasy football game!\n",
      "\n",
      "  FootyScribblers: Kimpembe and Pochettino in the stadium watching PSG vs Barca but *insert random English name followed by 8 random digits* thinks women's football isn't worth his time\n",
      "\n",
      "+ iamcristiane: Comebacks are the essence of this football club, but this is something beyond amazing that would easily give the Premier League title to Manchester United during a normal season. The detail is Pep. Since he went to England, things are not normal any more. 😔😔😔\n",
      "\n",
      "  TheFieldLevel1: Rise &amp; shine Football Family\n",
      "\n",
      "  Rvshi_: Mi cya understand how man like Fred n James get money fi play football\n",
      "\n",
      "Tweet sentiment for \"football\"\n",
      "Positive: 5\n",
      " Neutral: 5\n",
      "Negative: 0\n"
     ]
    }
   ],
   "source": [
    "run sentimentlistener.py football 10"
   ]
  },
  {
   "cell_type": "markdown",
   "metadata": {},
   "source": [
    "<hr style=\"height:2px; border:none; color:#000; background-color:#000;\">"
   ]
  },
  {
   "cell_type": "markdown",
   "metadata": {},
   "source": [
    "# 12.15 Geocoding and Mapping\n",
    "* Collect **streaming tweets**, then **plot** their **locations** on an **interactive map**\n",
    "* **Twitter disables precise location info (latitude/longitude) by default** (users must opt in to allowing Twitter to track locations) \n",
    "* Large percentage include the user’s home location information\n",
    "    * Sometimes invalid or fictitious \n",
    "* **Map markers** will show `location` from each tweet’s `User` object"
   ]
  },
  {
   "cell_type": "markdown",
   "metadata": {},
   "source": [
    "<hr style=\"height:2px; border:none; color:#000; background-color:#000;\">"
   ]
  },
  {
   "cell_type": "markdown",
   "metadata": {},
   "source": [
    "### [**geopy** library](https://github.com/geopy/geopy)\n",
    "* **Geocoding**&mdash;translate locations into **latitude** and **longitude**\n",
    "* **geopy** supports dozens of **geocoding web services**, many with **free or lite tiers**\n",
    "* We’ll use **OpenMapQuest geocoding service** "
   ]
  },
  {
   "cell_type": "markdown",
   "metadata": {},
   "source": [
    "<hr style=\"height:2px; border:none; color:#000; background-color:#000;\">"
   ]
  },
  {
   "cell_type": "markdown",
   "metadata": {},
   "source": [
    "### OpenMapQuest Geocoding API (1 of 2)\n",
    "* Convert locations, such as **Boston, MA** into their **latitudes** and **longitudes**, such as **42.3602534** and **-71.0582912**, for plotting on maps\n",
    "* Currently allows **15,000 transactions per month** on their free tier\n",
    "* [Sign up](https://developer.mapquest.com/)\n",
    "* For a presentation of **signing up** and **getting your credentials**, see my [**Python Fundamentals LiveLessons video**](https://learning.oreilly.com/videos/python-fundamentals/9780135917411/9780135917411-PFLL_Lesson12_24) or the [**beginning of Section 12.15 in Python for Programmers**](https://learning.oreilly.com/library/view/python-for-programmers/9780135231364/ch12.xhtml#ch12lev1sec15)"
   ]
  },
  {
   "cell_type": "markdown",
   "metadata": {},
   "source": [
    "<hr style=\"height:2px; border:none; color:#000; background-color:#000;\">"
   ]
  },
  {
   "cell_type": "markdown",
   "metadata": {},
   "source": [
    "### [**folium library**](https://github.com/python-visualization/folium) and Leaflet.js JavaScript Mapping Library\n",
    "* Uses **Leaflet.js JavaScript mapping library** to display maps in a web page \n",
    "* Folium can output **HTML documents** for viewing in a **web browser**\n",
    "* `pip install folium`"
   ]
  },
  {
   "cell_type": "markdown",
   "metadata": {},
   "source": [
    "<hr style=\"height:2px; border:none; color:#000; background-color:#000;\">"
   ]
  },
  {
   "cell_type": "markdown",
   "metadata": {},
   "source": [
    "### Maps from OpenStreetMap.org\n",
    "By default, **Leaflet.js** uses **open source maps** from **`OpenStreetMap.org`**\n",
    "* To use these maps, **they require the following copyright notice**:\n",
    "\n",
    "> `Map data © OpenStreetMap contributors`\n",
    "\n",
    "* They also say: **You must make it clear that the data is available under the Open Database License. This can be achieved by providing a “License” or “Terms” link which links to https://www.openstreetmap.org/copyright or https://www.opendatacommons.org/licenses/odbl/index.html**"
   ]
  },
  {
   "cell_type": "markdown",
   "metadata": {},
   "source": [
    "<hr style=\"height:2px; border:none; color:#000; background-color:#000;\">"
   ]
  },
  {
   "cell_type": "markdown",
   "metadata": {},
   "source": [
    "### Collections Required By `LocationListener`\n",
    "* Requires two collections\n",
    "    * A **list (`tweets`)** to store the tweets we collect \n",
    "    * A **dictionary (`counts`)** to track the **total number of tweets** we collect and the **number that have location data**"
   ]
  },
  {
   "cell_type": "code",
   "execution_count": 35,
   "metadata": {},
   "outputs": [],
   "source": [
    "tweets = [] "
   ]
  },
  {
   "cell_type": "code",
   "execution_count": 36,
   "metadata": {},
   "outputs": [],
   "source": [
    "counts = {'total_tweets': 0, 'locations': 0}"
   ]
  },
  {
   "cell_type": "markdown",
   "metadata": {},
   "source": [
    "<hr style=\"height:2px; border:none; color:#000; background-color:#000;\">"
   ]
  },
  {
   "cell_type": "markdown",
   "metadata": {},
   "source": [
    "### Creating the LocationListener "
   ]
  },
  {
   "cell_type": "code",
   "execution_count": 37,
   "metadata": {},
   "outputs": [],
   "source": [
    "from locationlistener import LocationListener"
   ]
  },
  {
   "cell_type": "code",
   "execution_count": 38,
   "metadata": {},
   "outputs": [],
   "source": [
    "location_listener = LocationListener(api, counts_dict=counts, \n",
    "    tweets_list=tweets, topic='football', limit=50)"
   ]
  },
  {
   "cell_type": "markdown",
   "metadata": {},
   "source": [
    "* **`LocationListener`** uses our **utility function `get_tweet_content`** to place each tweets **screen name**, **tweet text** and **location** into a **dictionary**"
   ]
  },
  {
   "cell_type": "markdown",
   "metadata": {},
   "source": [
    "<hr style=\"height:2px; border:none; color:#000; background-color:#000;\">"
   ]
  },
  {
   "cell_type": "markdown",
   "metadata": {},
   "source": [
    "### Configure and Start the `Stream` of Tweets"
   ]
  },
  {
   "cell_type": "code",
   "execution_count": 39,
   "metadata": {},
   "outputs": [],
   "source": [
    "import tweepy"
   ]
  },
  {
   "cell_type": "code",
   "execution_count": 40,
   "metadata": {},
   "outputs": [],
   "source": [
    "stream = tweepy.Stream(auth=api.auth, listener=location_listener)"
   ]
  },
  {
   "cell_type": "code",
   "execution_count": 41,
   "metadata": {},
   "outputs": [
    {
     "name": "stdout",
     "output_type": "stream",
     "text": [
      "HumsafarHusky: James is awful. Zero football brain.\n",
      "\n"
     ]
    }
   ],
   "source": [
    "stream.filter(track=['football'], languages=['en'], is_async=False)"
   ]
  },
  {
   "cell_type": "markdown",
   "metadata": {},
   "source": [
    "<hr style=\"height:2px; border:none; color:#000; background-color:#000;\">"
   ]
  },
  {
   "cell_type": "markdown",
   "metadata": {},
   "source": [
    "### Displaying the Location Statistics "
   ]
  },
  {
   "cell_type": "code",
   "execution_count": 42,
   "metadata": {},
   "outputs": [
    {
     "data": {
      "text/plain": [
       "65"
      ]
     },
     "execution_count": 42,
     "metadata": {},
     "output_type": "execute_result"
    }
   ],
   "source": [
    "counts['total_tweets']"
   ]
  },
  {
   "cell_type": "code",
   "execution_count": 43,
   "metadata": {},
   "outputs": [
    {
     "data": {
      "text/plain": [
       "50"
      ]
     },
     "execution_count": 43,
     "metadata": {},
     "output_type": "execute_result"
    }
   ],
   "source": [
    "counts['locations']"
   ]
  },
  {
   "cell_type": "code",
   "execution_count": 44,
   "metadata": {},
   "outputs": [
    {
     "name": "stdout",
     "output_type": "stream",
     "text": [
      "76.9%\n"
     ]
    }
   ],
   "source": [
    "print(f'{counts[\"locations\"] / counts[\"total_tweets\"]:.1%}')"
   ]
  },
  {
   "cell_type": "markdown",
   "metadata": {},
   "source": [
    "<hr style=\"height:2px; border:none; color:#000; background-color:#000;\">"
   ]
  },
  {
   "cell_type": "markdown",
   "metadata": {},
   "source": [
    "### Geocoding the Locations with Our `get_geocodes` Utility Function \n",
    "* **OpenMapQuest** geocoding service **times out** when it **cannot handle your request immediately**\n",
    "* If so, **`get_geocodes`** **notifies** you, **waits**, then **retries** the request"
   ]
  },
  {
   "cell_type": "code",
   "execution_count": 45,
   "metadata": {},
   "outputs": [],
   "source": [
    "from tweetutilities import get_geocodes"
   ]
  },
  {
   "cell_type": "code",
   "execution_count": 46,
   "metadata": {},
   "outputs": [
    {
     "name": "stdout",
     "output_type": "stream",
     "text": [
      "Getting coordinates for tweet locations...\n",
      "Done geocoding\n"
     ]
    }
   ],
   "source": [
    "bad_locations = get_geocodes(tweets)"
   ]
  },
  {
   "cell_type": "markdown",
   "metadata": {},
   "source": [
    "<hr style=\"height:2px; border:none; color:#000; background-color:#000;\">"
   ]
  },
  {
   "cell_type": "markdown",
   "metadata": {},
   "source": [
    "### Displaying the Bad Location Statistics"
   ]
  },
  {
   "cell_type": "code",
   "execution_count": 47,
   "metadata": {},
   "outputs": [
    {
     "data": {
      "text/plain": [
       "9"
      ]
     },
     "execution_count": 47,
     "metadata": {},
     "output_type": "execute_result"
    }
   ],
   "source": [
    "bad_locations"
   ]
  },
  {
   "cell_type": "code",
   "execution_count": 48,
   "metadata": {},
   "outputs": [
    {
     "name": "stdout",
     "output_type": "stream",
     "text": [
      "18.0%\n"
     ]
    }
   ],
   "source": [
    "print(f'{bad_locations / counts[\"locations\"]:.1%}')"
   ]
  },
  {
   "cell_type": "markdown",
   "metadata": {},
   "source": [
    "<hr style=\"height:2px; border:none; color:#000; background-color:#000;\">"
   ]
  },
  {
   "cell_type": "markdown",
   "metadata": {},
   "source": [
    "### Cleaning the Data with a pandas `DataFrame` Before Displaying the Data on a Map\n",
    "* `DataFrame` will contain **`NaN`** for the **`latitude`** and **`longitude`** of any tweet that **did not have a valid location**\n",
    "* Remove any such via `DataFrame`’s **`dropna` method** "
   ]
  },
  {
   "cell_type": "code",
   "execution_count": 49,
   "metadata": {},
   "outputs": [],
   "source": [
    "import pandas as pd"
   ]
  },
  {
   "cell_type": "code",
   "execution_count": 50,
   "metadata": {},
   "outputs": [],
   "source": [
    "df = pd.DataFrame(tweets)"
   ]
  },
  {
   "cell_type": "code",
   "execution_count": 51,
   "metadata": {},
   "outputs": [
    {
     "data": {
      "text/html": [
       "<div>\n",
       "<style scoped>\n",
       "    .dataframe tbody tr th:only-of-type {\n",
       "        vertical-align: middle;\n",
       "    }\n",
       "\n",
       "    .dataframe tbody tr th {\n",
       "        vertical-align: top;\n",
       "    }\n",
       "\n",
       "    .dataframe thead th {\n",
       "        text-align: right;\n",
       "    }\n",
       "</style>\n",
       "<table border=\"1\" class=\"dataframe\">\n",
       "  <thead>\n",
       "    <tr style=\"text-align: right;\">\n",
       "      <th></th>\n",
       "      <th>screen_name</th>\n",
       "      <th>text</th>\n",
       "      <th>location</th>\n",
       "      <th>latitude</th>\n",
       "      <th>longitude</th>\n",
       "    </tr>\n",
       "  </thead>\n",
       "  <tbody>\n",
       "    <tr>\n",
       "      <th>0</th>\n",
       "      <td>davezorn72</td>\n",
       "      <td>IMO the best running back to ever carry a foot...</td>\n",
       "      <td>N 33°21' 0'' / W 111°52' 0''</td>\n",
       "      <td>NaN</td>\n",
       "      <td>NaN</td>\n",
       "    </tr>\n",
       "    <tr>\n",
       "      <th>1</th>\n",
       "      <td>_kinesthetiac_</td>\n",
       "      <td>Daniel Arsham\\n\\nAmethyst Football Helmet, 201...</td>\n",
       "      <td>indiana usa</td>\n",
       "      <td>40.327013</td>\n",
       "      <td>-86.174693</td>\n",
       "    </tr>\n",
       "    <tr>\n",
       "      <th>2</th>\n",
       "      <td>acompleteace</td>\n",
       "      <td>It’s okay I found out what the white roses are...</td>\n",
       "      <td>Between London and Malta</td>\n",
       "      <td>NaN</td>\n",
       "      <td>NaN</td>\n",
       "    </tr>\n",
       "    <tr>\n",
       "      <th>3</th>\n",
       "      <td>dand2211</td>\n",
       "      <td>@claretmurger @johncrossmirror Likewise. If th...</td>\n",
       "      <td>London</td>\n",
       "      <td>51.507322</td>\n",
       "      <td>-0.127647</td>\n",
       "    </tr>\n",
       "    <tr>\n",
       "      <th>4</th>\n",
       "      <td>billybirch10</td>\n",
       "      <td>@Bestthingsinli2 @Lord_Sugar Still a game of f...</td>\n",
       "      <td>UK</td>\n",
       "      <td>54.702354</td>\n",
       "      <td>-3.276575</td>\n",
       "    </tr>\n",
       "    <tr>\n",
       "      <th>5</th>\n",
       "      <td>theloanwolf79</td>\n",
       "      <td>@JamesHorncastle Good! I hope all the 12 that ...</td>\n",
       "      <td>Wem</td>\n",
       "      <td>52.855631</td>\n",
       "      <td>-2.724117</td>\n",
       "    </tr>\n",
       "    <tr>\n",
       "      <th>6</th>\n",
       "      <td>Tezskii</td>\n",
       "      <td>Dan James football IQ... \\n\\nI won’t speak</td>\n",
       "      <td>North West, England</td>\n",
       "      <td>51.335169</td>\n",
       "      <td>7.263209</td>\n",
       "    </tr>\n",
       "    <tr>\n",
       "      <th>7</th>\n",
       "      <td>RSSFeedsCloud</td>\n",
       "      <td>High school football season-ending rankings: B...</td>\n",
       "      <td>Dallas, TX</td>\n",
       "      <td>32.776272</td>\n",
       "      <td>-96.796856</td>\n",
       "    </tr>\n",
       "    <tr>\n",
       "      <th>8</th>\n",
       "      <td>han_me_me_pyae</td>\n",
       "      <td>In #DagonMyothit (North) Township, Some youths...</td>\n",
       "      <td>United States</td>\n",
       "      <td>39.783730</td>\n",
       "      <td>-100.445882</td>\n",
       "    </tr>\n",
       "    <tr>\n",
       "      <th>9</th>\n",
       "      <td>QuickCartWP</td>\n",
       "      <td>High school football season-ending rankings: B...</td>\n",
       "      <td>United States</td>\n",
       "      <td>39.783730</td>\n",
       "      <td>-100.445882</td>\n",
       "    </tr>\n",
       "    <tr>\n",
       "      <th>10</th>\n",
       "      <td>aIexbcfc</td>\n",
       "      <td>Bristol Rovers relegated ✅\\nSwindon relegated ...</td>\n",
       "      <td>South West, England</td>\n",
       "      <td>52.795479</td>\n",
       "      <td>-0.540240</td>\n",
       "    </tr>\n",
       "    <tr>\n",
       "      <th>11</th>\n",
       "      <td>RainbowStephen</td>\n",
       "      <td>@ashhan83 @youngy18 @WatfordFC And here’s some...</td>\n",
       "      <td>Watford</td>\n",
       "      <td>51.655388</td>\n",
       "      <td>-0.395742</td>\n",
       "    </tr>\n",
       "    <tr>\n",
       "      <th>12</th>\n",
       "      <td>GordonH60559090</td>\n",
       "      <td>@Mrcento Football must be one of the very few ...</td>\n",
       "      <td>Scotland, United Kingdom</td>\n",
       "      <td>56.786111</td>\n",
       "      <td>-4.114052</td>\n",
       "    </tr>\n",
       "    <tr>\n",
       "      <th>13</th>\n",
       "      <td>el_foue15</td>\n",
       "      <td>@collinsAMI12 Football is a murderer.. 😭😭😭😭😭😭😭...</td>\n",
       "      <td>AFURIKA</td>\n",
       "      <td>-28.816624</td>\n",
       "      <td>24.991639</td>\n",
       "    </tr>\n",
       "    <tr>\n",
       "      <th>14</th>\n",
       "      <td>_ShuBhamCFC</td>\n",
       "      <td>@lopxz_rm @tjcope You should be banned from Fo...</td>\n",
       "      <td>Mumbai, India</td>\n",
       "      <td>18.938754</td>\n",
       "      <td>72.835238</td>\n",
       "    </tr>\n",
       "    <tr>\n",
       "      <th>15</th>\n",
       "      <td>alrichie4</td>\n",
       "      <td>Juv fans must be Suffering the way their teams...</td>\n",
       "      <td>Kampala, Uganda</td>\n",
       "      <td>0.317714</td>\n",
       "      <td>32.581354</td>\n",
       "    </tr>\n",
       "    <tr>\n",
       "      <th>16</th>\n",
       "      <td>kdb17_rob</td>\n",
       "      <td>I‘m rn watching our women team against PSG and...</td>\n",
       "      <td>European Super League</td>\n",
       "      <td>NaN</td>\n",
       "      <td>NaN</td>\n",
       "    </tr>\n",
       "    <tr>\n",
       "      <th>17</th>\n",
       "      <td>RidgeJrotc</td>\n",
       "      <td>The 🐻Battalion conducted the last in a 4 set w...</td>\n",
       "      <td>Naples, FL</td>\n",
       "      <td>26.142036</td>\n",
       "      <td>-81.794810</td>\n",
       "    </tr>\n",
       "    <tr>\n",
       "      <th>18</th>\n",
       "      <td>paddypower</td>\n",
       "      <td>Positive thinking for this second half. \\n\\nMe...</td>\n",
       "      <td>Bet Now</td>\n",
       "      <td>NaN</td>\n",
       "      <td>NaN</td>\n",
       "    </tr>\n",
       "    <tr>\n",
       "      <th>19</th>\n",
       "      <td>Da_cupid92</td>\n",
       "      <td>Watching a football match in public will forev...</td>\n",
       "      <td>Lagos, Nigeria</td>\n",
       "      <td>6.455057</td>\n",
       "      <td>3.394179</td>\n",
       "    </tr>\n",
       "    <tr>\n",
       "      <th>20</th>\n",
       "      <td>MitchPiggon9</td>\n",
       "      <td>@TommyBerwick9 @richmorris82 Ahhhh yeah funny ...</td>\n",
       "      <td>Nuneaton , England</td>\n",
       "      <td>52.524618</td>\n",
       "      <td>-1.468449</td>\n",
       "    </tr>\n",
       "    <tr>\n",
       "      <th>21</th>\n",
       "      <td>Eben_Ik</td>\n",
       "      <td>Football Speedsters... I don't rate them, they...</td>\n",
       "      <td>Pennsylvania, USA</td>\n",
       "      <td>40.969989</td>\n",
       "      <td>-77.727883</td>\n",
       "    </tr>\n",
       "    <tr>\n",
       "      <th>22</th>\n",
       "      <td>Wolfpack_FC_</td>\n",
       "      <td>FUN WOLFPACK FACT - Wolfpack have WON more lea...</td>\n",
       "      <td>Warrington, England</td>\n",
       "      <td>53.401858</td>\n",
       "      <td>-2.568022</td>\n",
       "    </tr>\n",
       "    <tr>\n",
       "      <th>23</th>\n",
       "      <td>JohnSchwartz76</td>\n",
       "      <td>@BorisJohnson is more interested in #racism in...</td>\n",
       "      <td>England, United Kingdom</td>\n",
       "      <td>52.795479</td>\n",
       "      <td>-0.540240</td>\n",
       "    </tr>\n",
       "    <tr>\n",
       "      <th>24</th>\n",
       "      <td>AlaskanGroucho</td>\n",
       "      <td>@alacrates Nope blank. I know a football’s sha...</td>\n",
       "      <td>Alaskan Now living in Utah</td>\n",
       "      <td>NaN</td>\n",
       "      <td>NaN</td>\n",
       "    </tr>\n",
       "    <tr>\n",
       "      <th>25</th>\n",
       "      <td>mattjukes99</td>\n",
       "      <td>Mad how you might be able to fly to another co...</td>\n",
       "      <td>West Sussex, England</td>\n",
       "      <td>51.000000</td>\n",
       "      <td>-0.416667</td>\n",
       "    </tr>\n",
       "    <tr>\n",
       "      <th>26</th>\n",
       "      <td>4ngelvrse</td>\n",
       "      <td>athletes should not be able to preach about gr...</td>\n",
       "      <td>loona island !</td>\n",
       "      <td>58.334806</td>\n",
       "      <td>22.012361</td>\n",
       "    </tr>\n",
       "    <tr>\n",
       "      <th>27</th>\n",
       "      <td>_Kings21</td>\n",
       "      <td>Playing football with Dan James must be so fru...</td>\n",
       "      <td>London, England</td>\n",
       "      <td>51.507322</td>\n",
       "      <td>-0.127647</td>\n",
       "    </tr>\n",
       "    <tr>\n",
       "      <th>28</th>\n",
       "      <td>moonlighter1872</td>\n",
       "      <td>Four lads had a dream to start a football team...</td>\n",
       "      <td>Glasgow, United Kingdom</td>\n",
       "      <td>55.856656</td>\n",
       "      <td>-4.243582</td>\n",
       "    </tr>\n",
       "    <tr>\n",
       "      <th>29</th>\n",
       "      <td>GianTheRed</td>\n",
       "      <td>@WengerAfc49 -Sacked the manager that put you ...</td>\n",
       "      <td>Malta</td>\n",
       "      <td>35.888599</td>\n",
       "      <td>14.447691</td>\n",
       "    </tr>\n",
       "    <tr>\n",
       "      <th>30</th>\n",
       "      <td>ashkas02</td>\n",
       "      <td>Take James off for a football player #LEEMUN</td>\n",
       "      <td>London, munyonyo</td>\n",
       "      <td>NaN</td>\n",
       "      <td>NaN</td>\n",
       "    </tr>\n",
       "    <tr>\n",
       "      <th>31</th>\n",
       "      <td>4LeggedGeordie</td>\n",
       "      <td>@TaylorandPayne The fa need to step in and san...</td>\n",
       "      <td>Stanley, Durham, England</td>\n",
       "      <td>54.871969</td>\n",
       "      <td>-1.694170</td>\n",
       "    </tr>\n",
       "    <tr>\n",
       "      <th>32</th>\n",
       "      <td>skohlh</td>\n",
       "      <td>Is it football season yet! @CycloneFB https://...</td>\n",
       "      <td>Ankeny, IA</td>\n",
       "      <td>41.731871</td>\n",
       "      <td>-93.600384</td>\n",
       "    </tr>\n",
       "    <tr>\n",
       "      <th>33</th>\n",
       "      <td>CanesLegacy</td>\n",
       "      <td>132 days until Canes Football. \\n\\nAlbert Bent...</td>\n",
       "      <td>305</td>\n",
       "      <td>24.834744</td>\n",
       "      <td>121.082602</td>\n",
       "    </tr>\n",
       "    <tr>\n",
       "      <th>34</th>\n",
       "      <td>kms1989</td>\n",
       "      <td>Pirlo is not a football manager.</td>\n",
       "      <td>London / Riyadh</td>\n",
       "      <td>NaN</td>\n",
       "      <td>NaN</td>\n",
       "    </tr>\n",
       "    <tr>\n",
       "      <th>35</th>\n",
       "      <td>AndrewT_MUFC</td>\n",
       "      <td>What football is all about and why football is...</td>\n",
       "      <td>England, United Kingdom</td>\n",
       "      <td>52.795479</td>\n",
       "      <td>-0.540240</td>\n",
       "    </tr>\n",
       "    <tr>\n",
       "      <th>36</th>\n",
       "      <td>heal_wayne</td>\n",
       "      <td>@Aaron_Robbo_ Nothing worse than been a footba...</td>\n",
       "      <td>Newcastle</td>\n",
       "      <td>54.977092</td>\n",
       "      <td>-1.614206</td>\n",
       "    </tr>\n",
       "    <tr>\n",
       "      <th>37</th>\n",
       "      <td>InfamousDjK</td>\n",
       "      <td>James zero football brain</td>\n",
       "      <td>England, United Kingdom</td>\n",
       "      <td>52.795479</td>\n",
       "      <td>-0.540240</td>\n",
       "    </tr>\n",
       "    <tr>\n",
       "      <th>38</th>\n",
       "      <td>rwc49</td>\n",
       "      <td>@d0nkeydr0p @samuelluckhurst What’s happened, ...</td>\n",
       "      <td>Rock and a hard place</td>\n",
       "      <td>NaN</td>\n",
       "      <td>NaN</td>\n",
       "    </tr>\n",
       "    <tr>\n",
       "      <th>39</th>\n",
       "      <td>slasting</td>\n",
       "      <td>This picture looks like anyone actually doing ...</td>\n",
       "      <td>Friedrichshain, Berlin</td>\n",
       "      <td>52.512215</td>\n",
       "      <td>13.450290</td>\n",
       "    </tr>\n",
       "    <tr>\n",
       "      <th>40</th>\n",
       "      <td>HTFC_Women</td>\n",
       "      <td>Chantry Grasshoppers are the winners of today'...</td>\n",
       "      <td>Halesworth, England</td>\n",
       "      <td>52.341815</td>\n",
       "      <td>1.500165</td>\n",
       "    </tr>\n",
       "    <tr>\n",
       "      <th>41</th>\n",
       "      <td>littledude_21</td>\n",
       "      <td>@ShiinaBR @ESFortniteBR Okay, as much as I gen...</td>\n",
       "      <td>England, United Kingdom</td>\n",
       "      <td>52.795479</td>\n",
       "      <td>-0.540240</td>\n",
       "    </tr>\n",
       "    <tr>\n",
       "      <th>42</th>\n",
       "      <td>TheBigCharl</td>\n",
       "      <td>Cat's ain't shit. Zero football skills.\\nThat'...</td>\n",
       "      <td>Nairobi,Kenya</td>\n",
       "      <td>-1.283253</td>\n",
       "      <td>36.817245</td>\n",
       "    </tr>\n",
       "    <tr>\n",
       "      <th>43</th>\n",
       "      <td>JohnJon99821457</td>\n",
       "      <td>@Bongie_Haemz The one playing beautiful footba...</td>\n",
       "      <td>Hell on Earth</td>\n",
       "      <td>NaN</td>\n",
       "      <td>NaN</td>\n",
       "    </tr>\n",
       "    <tr>\n",
       "      <th>44</th>\n",
       "      <td>LetsParteyNow</td>\n",
       "      <td>@RahulArsenal1 Absolutely not it’ll be worse f...</td>\n",
       "      <td>London, England</td>\n",
       "      <td>51.507322</td>\n",
       "      <td>-0.127647</td>\n",
       "    </tr>\n",
       "    <tr>\n",
       "      <th>45</th>\n",
       "      <td>ItsNotPjay</td>\n",
       "      <td>See Dan James infecting others with his non fo...</td>\n",
       "      <td>Abuja, Nigeria</td>\n",
       "      <td>9.064331</td>\n",
       "      <td>7.489297</td>\n",
       "    </tr>\n",
       "    <tr>\n",
       "      <th>46</th>\n",
       "      <td>_DipikaR</td>\n",
       "      <td>@dcolapinto @MailOnline @terrychristian this f...</td>\n",
       "      <td>Strasbourg, France 🇫🇷</td>\n",
       "      <td>48.584614</td>\n",
       "      <td>7.750713</td>\n",
       "    </tr>\n",
       "    <tr>\n",
       "      <th>47</th>\n",
       "      <td>GarrettT_32</td>\n",
       "      <td>@owensiebring That’s NAIA football where men p...</td>\n",
       "      <td>Petersburg, NE</td>\n",
       "      <td>41.853343</td>\n",
       "      <td>-98.078676</td>\n",
       "    </tr>\n",
       "    <tr>\n",
       "      <th>48</th>\n",
       "      <td>ArbroathFC</td>\n",
       "      <td>Remember Walter Borthwick\\n\\nEveryone at Arbro...</td>\n",
       "      <td>Arbroath, Scotland</td>\n",
       "      <td>56.560096</td>\n",
       "      <td>-2.581798</td>\n",
       "    </tr>\n",
       "    <tr>\n",
       "      <th>49</th>\n",
       "      <td>HumsafarHusky</td>\n",
       "      <td>James is awful. Zero football brain.</td>\n",
       "      <td>Atlantis</td>\n",
       "      <td>26.590902</td>\n",
       "      <td>-80.100876</td>\n",
       "    </tr>\n",
       "  </tbody>\n",
       "</table>\n",
       "</div>"
      ],
      "text/plain": [
       "        screen_name                                               text  \\\n",
       "0        davezorn72  IMO the best running back to ever carry a foot...   \n",
       "1    _kinesthetiac_  Daniel Arsham\\n\\nAmethyst Football Helmet, 201...   \n",
       "2      acompleteace  It’s okay I found out what the white roses are...   \n",
       "3          dand2211  @claretmurger @johncrossmirror Likewise. If th...   \n",
       "4      billybirch10  @Bestthingsinli2 @Lord_Sugar Still a game of f...   \n",
       "5     theloanwolf79  @JamesHorncastle Good! I hope all the 12 that ...   \n",
       "6           Tezskii         Dan James football IQ... \\n\\nI won’t speak   \n",
       "7     RSSFeedsCloud  High school football season-ending rankings: B...   \n",
       "8    han_me_me_pyae  In #DagonMyothit (North) Township, Some youths...   \n",
       "9       QuickCartWP  High school football season-ending rankings: B...   \n",
       "10         aIexbcfc  Bristol Rovers relegated ✅\\nSwindon relegated ...   \n",
       "11   RainbowStephen  @ashhan83 @youngy18 @WatfordFC And here’s some...   \n",
       "12  GordonH60559090  @Mrcento Football must be one of the very few ...   \n",
       "13        el_foue15  @collinsAMI12 Football is a murderer.. 😭😭😭😭😭😭😭...   \n",
       "14      _ShuBhamCFC  @lopxz_rm @tjcope You should be banned from Fo...   \n",
       "15        alrichie4  Juv fans must be Suffering the way their teams...   \n",
       "16        kdb17_rob  I‘m rn watching our women team against PSG and...   \n",
       "17       RidgeJrotc  The 🐻Battalion conducted the last in a 4 set w...   \n",
       "18       paddypower  Positive thinking for this second half. \\n\\nMe...   \n",
       "19       Da_cupid92  Watching a football match in public will forev...   \n",
       "20     MitchPiggon9  @TommyBerwick9 @richmorris82 Ahhhh yeah funny ...   \n",
       "21          Eben_Ik  Football Speedsters... I don't rate them, they...   \n",
       "22     Wolfpack_FC_  FUN WOLFPACK FACT - Wolfpack have WON more lea...   \n",
       "23   JohnSchwartz76  @BorisJohnson is more interested in #racism in...   \n",
       "24   AlaskanGroucho  @alacrates Nope blank. I know a football’s sha...   \n",
       "25      mattjukes99  Mad how you might be able to fly to another co...   \n",
       "26        4ngelvrse  athletes should not be able to preach about gr...   \n",
       "27         _Kings21  Playing football with Dan James must be so fru...   \n",
       "28  moonlighter1872  Four lads had a dream to start a football team...   \n",
       "29       GianTheRed  @WengerAfc49 -Sacked the manager that put you ...   \n",
       "30         ashkas02       Take James off for a football player #LEEMUN   \n",
       "31   4LeggedGeordie  @TaylorandPayne The fa need to step in and san...   \n",
       "32           skohlh  Is it football season yet! @CycloneFB https://...   \n",
       "33      CanesLegacy  132 days until Canes Football. \\n\\nAlbert Bent...   \n",
       "34          kms1989                   Pirlo is not a football manager.   \n",
       "35     AndrewT_MUFC  What football is all about and why football is...   \n",
       "36       heal_wayne  @Aaron_Robbo_ Nothing worse than been a footba...   \n",
       "37      InfamousDjK                          James zero football brain   \n",
       "38            rwc49  @d0nkeydr0p @samuelluckhurst What’s happened, ...   \n",
       "39         slasting  This picture looks like anyone actually doing ...   \n",
       "40       HTFC_Women  Chantry Grasshoppers are the winners of today'...   \n",
       "41    littledude_21  @ShiinaBR @ESFortniteBR Okay, as much as I gen...   \n",
       "42      TheBigCharl  Cat's ain't shit. Zero football skills.\\nThat'...   \n",
       "43  JohnJon99821457  @Bongie_Haemz The one playing beautiful footba...   \n",
       "44    LetsParteyNow  @RahulArsenal1 Absolutely not it’ll be worse f...   \n",
       "45       ItsNotPjay  See Dan James infecting others with his non fo...   \n",
       "46         _DipikaR  @dcolapinto @MailOnline @terrychristian this f...   \n",
       "47      GarrettT_32  @owensiebring That’s NAIA football where men p...   \n",
       "48       ArbroathFC  Remember Walter Borthwick\\n\\nEveryone at Arbro...   \n",
       "49    HumsafarHusky               James is awful. Zero football brain.   \n",
       "\n",
       "                        location   latitude   longitude  \n",
       "0   N 33°21' 0'' / W 111°52' 0''        NaN         NaN  \n",
       "1                    indiana usa  40.327013  -86.174693  \n",
       "2       Between London and Malta        NaN         NaN  \n",
       "3                         London  51.507322   -0.127647  \n",
       "4                             UK  54.702354   -3.276575  \n",
       "5                            Wem  52.855631   -2.724117  \n",
       "6            North West, England  51.335169    7.263209  \n",
       "7                     Dallas, TX  32.776272  -96.796856  \n",
       "8                  United States  39.783730 -100.445882  \n",
       "9                  United States  39.783730 -100.445882  \n",
       "10           South West, England  52.795479   -0.540240  \n",
       "11                       Watford  51.655388   -0.395742  \n",
       "12      Scotland, United Kingdom  56.786111   -4.114052  \n",
       "13                       AFURIKA -28.816624   24.991639  \n",
       "14                 Mumbai, India  18.938754   72.835238  \n",
       "15               Kampala, Uganda   0.317714   32.581354  \n",
       "16        European Super League         NaN         NaN  \n",
       "17                    Naples, FL  26.142036  -81.794810  \n",
       "18                       Bet Now        NaN         NaN  \n",
       "19                Lagos, Nigeria   6.455057    3.394179  \n",
       "20            Nuneaton , England  52.524618   -1.468449  \n",
       "21             Pennsylvania, USA  40.969989  -77.727883  \n",
       "22           Warrington, England  53.401858   -2.568022  \n",
       "23       England, United Kingdom  52.795479   -0.540240  \n",
       "24    Alaskan Now living in Utah        NaN         NaN  \n",
       "25          West Sussex, England  51.000000   -0.416667  \n",
       "26                loona island !  58.334806   22.012361  \n",
       "27               London, England  51.507322   -0.127647  \n",
       "28       Glasgow, United Kingdom  55.856656   -4.243582  \n",
       "29                         Malta  35.888599   14.447691  \n",
       "30              London, munyonyo        NaN         NaN  \n",
       "31      Stanley, Durham, England  54.871969   -1.694170  \n",
       "32                    Ankeny, IA  41.731871  -93.600384  \n",
       "33                           305  24.834744  121.082602  \n",
       "34               London / Riyadh        NaN         NaN  \n",
       "35       England, United Kingdom  52.795479   -0.540240  \n",
       "36                    Newcastle   54.977092   -1.614206  \n",
       "37       England, United Kingdom  52.795479   -0.540240  \n",
       "38         Rock and a hard place        NaN         NaN  \n",
       "39        Friedrichshain, Berlin  52.512215   13.450290  \n",
       "40           Halesworth, England  52.341815    1.500165  \n",
       "41       England, United Kingdom  52.795479   -0.540240  \n",
       "42                 Nairobi,Kenya  -1.283253   36.817245  \n",
       "43                 Hell on Earth        NaN         NaN  \n",
       "44               London, England  51.507322   -0.127647  \n",
       "45                Abuja, Nigeria   9.064331    7.489297  \n",
       "46         Strasbourg, France 🇫🇷  48.584614    7.750713  \n",
       "47                Petersburg, NE  41.853343  -98.078676  \n",
       "48            Arbroath, Scotland  56.560096   -2.581798  \n",
       "49                      Atlantis  26.590902  -80.100876  "
      ]
     },
     "execution_count": 51,
     "metadata": {},
     "output_type": "execute_result"
    }
   ],
   "source": [
    "df"
   ]
  },
  {
   "cell_type": "code",
   "execution_count": 52,
   "metadata": {},
   "outputs": [],
   "source": [
    "df = df.dropna()"
   ]
  },
  {
   "cell_type": "code",
   "execution_count": 53,
   "metadata": {},
   "outputs": [
    {
     "data": {
      "text/html": [
       "<div>\n",
       "<style scoped>\n",
       "    .dataframe tbody tr th:only-of-type {\n",
       "        vertical-align: middle;\n",
       "    }\n",
       "\n",
       "    .dataframe tbody tr th {\n",
       "        vertical-align: top;\n",
       "    }\n",
       "\n",
       "    .dataframe thead th {\n",
       "        text-align: right;\n",
       "    }\n",
       "</style>\n",
       "<table border=\"1\" class=\"dataframe\">\n",
       "  <thead>\n",
       "    <tr style=\"text-align: right;\">\n",
       "      <th></th>\n",
       "      <th>screen_name</th>\n",
       "      <th>text</th>\n",
       "      <th>location</th>\n",
       "      <th>latitude</th>\n",
       "      <th>longitude</th>\n",
       "    </tr>\n",
       "  </thead>\n",
       "  <tbody>\n",
       "    <tr>\n",
       "      <th>1</th>\n",
       "      <td>_kinesthetiac_</td>\n",
       "      <td>Daniel Arsham\\n\\nAmethyst Football Helmet, 201...</td>\n",
       "      <td>indiana usa</td>\n",
       "      <td>40.327013</td>\n",
       "      <td>-86.174693</td>\n",
       "    </tr>\n",
       "    <tr>\n",
       "      <th>3</th>\n",
       "      <td>dand2211</td>\n",
       "      <td>@claretmurger @johncrossmirror Likewise. If th...</td>\n",
       "      <td>London</td>\n",
       "      <td>51.507322</td>\n",
       "      <td>-0.127647</td>\n",
       "    </tr>\n",
       "    <tr>\n",
       "      <th>4</th>\n",
       "      <td>billybirch10</td>\n",
       "      <td>@Bestthingsinli2 @Lord_Sugar Still a game of f...</td>\n",
       "      <td>UK</td>\n",
       "      <td>54.702354</td>\n",
       "      <td>-3.276575</td>\n",
       "    </tr>\n",
       "    <tr>\n",
       "      <th>5</th>\n",
       "      <td>theloanwolf79</td>\n",
       "      <td>@JamesHorncastle Good! I hope all the 12 that ...</td>\n",
       "      <td>Wem</td>\n",
       "      <td>52.855631</td>\n",
       "      <td>-2.724117</td>\n",
       "    </tr>\n",
       "    <tr>\n",
       "      <th>6</th>\n",
       "      <td>Tezskii</td>\n",
       "      <td>Dan James football IQ... \\n\\nI won’t speak</td>\n",
       "      <td>North West, England</td>\n",
       "      <td>51.335169</td>\n",
       "      <td>7.263209</td>\n",
       "    </tr>\n",
       "    <tr>\n",
       "      <th>7</th>\n",
       "      <td>RSSFeedsCloud</td>\n",
       "      <td>High school football season-ending rankings: B...</td>\n",
       "      <td>Dallas, TX</td>\n",
       "      <td>32.776272</td>\n",
       "      <td>-96.796856</td>\n",
       "    </tr>\n",
       "    <tr>\n",
       "      <th>8</th>\n",
       "      <td>han_me_me_pyae</td>\n",
       "      <td>In #DagonMyothit (North) Township, Some youths...</td>\n",
       "      <td>United States</td>\n",
       "      <td>39.783730</td>\n",
       "      <td>-100.445882</td>\n",
       "    </tr>\n",
       "    <tr>\n",
       "      <th>9</th>\n",
       "      <td>QuickCartWP</td>\n",
       "      <td>High school football season-ending rankings: B...</td>\n",
       "      <td>United States</td>\n",
       "      <td>39.783730</td>\n",
       "      <td>-100.445882</td>\n",
       "    </tr>\n",
       "    <tr>\n",
       "      <th>10</th>\n",
       "      <td>aIexbcfc</td>\n",
       "      <td>Bristol Rovers relegated ✅\\nSwindon relegated ...</td>\n",
       "      <td>South West, England</td>\n",
       "      <td>52.795479</td>\n",
       "      <td>-0.540240</td>\n",
       "    </tr>\n",
       "    <tr>\n",
       "      <th>11</th>\n",
       "      <td>RainbowStephen</td>\n",
       "      <td>@ashhan83 @youngy18 @WatfordFC And here’s some...</td>\n",
       "      <td>Watford</td>\n",
       "      <td>51.655388</td>\n",
       "      <td>-0.395742</td>\n",
       "    </tr>\n",
       "    <tr>\n",
       "      <th>12</th>\n",
       "      <td>GordonH60559090</td>\n",
       "      <td>@Mrcento Football must be one of the very few ...</td>\n",
       "      <td>Scotland, United Kingdom</td>\n",
       "      <td>56.786111</td>\n",
       "      <td>-4.114052</td>\n",
       "    </tr>\n",
       "    <tr>\n",
       "      <th>13</th>\n",
       "      <td>el_foue15</td>\n",
       "      <td>@collinsAMI12 Football is a murderer.. 😭😭😭😭😭😭😭...</td>\n",
       "      <td>AFURIKA</td>\n",
       "      <td>-28.816624</td>\n",
       "      <td>24.991639</td>\n",
       "    </tr>\n",
       "    <tr>\n",
       "      <th>14</th>\n",
       "      <td>_ShuBhamCFC</td>\n",
       "      <td>@lopxz_rm @tjcope You should be banned from Fo...</td>\n",
       "      <td>Mumbai, India</td>\n",
       "      <td>18.938754</td>\n",
       "      <td>72.835238</td>\n",
       "    </tr>\n",
       "    <tr>\n",
       "      <th>15</th>\n",
       "      <td>alrichie4</td>\n",
       "      <td>Juv fans must be Suffering the way their teams...</td>\n",
       "      <td>Kampala, Uganda</td>\n",
       "      <td>0.317714</td>\n",
       "      <td>32.581354</td>\n",
       "    </tr>\n",
       "    <tr>\n",
       "      <th>17</th>\n",
       "      <td>RidgeJrotc</td>\n",
       "      <td>The 🐻Battalion conducted the last in a 4 set w...</td>\n",
       "      <td>Naples, FL</td>\n",
       "      <td>26.142036</td>\n",
       "      <td>-81.794810</td>\n",
       "    </tr>\n",
       "    <tr>\n",
       "      <th>19</th>\n",
       "      <td>Da_cupid92</td>\n",
       "      <td>Watching a football match in public will forev...</td>\n",
       "      <td>Lagos, Nigeria</td>\n",
       "      <td>6.455057</td>\n",
       "      <td>3.394179</td>\n",
       "    </tr>\n",
       "    <tr>\n",
       "      <th>20</th>\n",
       "      <td>MitchPiggon9</td>\n",
       "      <td>@TommyBerwick9 @richmorris82 Ahhhh yeah funny ...</td>\n",
       "      <td>Nuneaton , England</td>\n",
       "      <td>52.524618</td>\n",
       "      <td>-1.468449</td>\n",
       "    </tr>\n",
       "    <tr>\n",
       "      <th>21</th>\n",
       "      <td>Eben_Ik</td>\n",
       "      <td>Football Speedsters... I don't rate them, they...</td>\n",
       "      <td>Pennsylvania, USA</td>\n",
       "      <td>40.969989</td>\n",
       "      <td>-77.727883</td>\n",
       "    </tr>\n",
       "    <tr>\n",
       "      <th>22</th>\n",
       "      <td>Wolfpack_FC_</td>\n",
       "      <td>FUN WOLFPACK FACT - Wolfpack have WON more lea...</td>\n",
       "      <td>Warrington, England</td>\n",
       "      <td>53.401858</td>\n",
       "      <td>-2.568022</td>\n",
       "    </tr>\n",
       "    <tr>\n",
       "      <th>23</th>\n",
       "      <td>JohnSchwartz76</td>\n",
       "      <td>@BorisJohnson is more interested in #racism in...</td>\n",
       "      <td>England, United Kingdom</td>\n",
       "      <td>52.795479</td>\n",
       "      <td>-0.540240</td>\n",
       "    </tr>\n",
       "    <tr>\n",
       "      <th>25</th>\n",
       "      <td>mattjukes99</td>\n",
       "      <td>Mad how you might be able to fly to another co...</td>\n",
       "      <td>West Sussex, England</td>\n",
       "      <td>51.000000</td>\n",
       "      <td>-0.416667</td>\n",
       "    </tr>\n",
       "    <tr>\n",
       "      <th>26</th>\n",
       "      <td>4ngelvrse</td>\n",
       "      <td>athletes should not be able to preach about gr...</td>\n",
       "      <td>loona island !</td>\n",
       "      <td>58.334806</td>\n",
       "      <td>22.012361</td>\n",
       "    </tr>\n",
       "    <tr>\n",
       "      <th>27</th>\n",
       "      <td>_Kings21</td>\n",
       "      <td>Playing football with Dan James must be so fru...</td>\n",
       "      <td>London, England</td>\n",
       "      <td>51.507322</td>\n",
       "      <td>-0.127647</td>\n",
       "    </tr>\n",
       "    <tr>\n",
       "      <th>28</th>\n",
       "      <td>moonlighter1872</td>\n",
       "      <td>Four lads had a dream to start a football team...</td>\n",
       "      <td>Glasgow, United Kingdom</td>\n",
       "      <td>55.856656</td>\n",
       "      <td>-4.243582</td>\n",
       "    </tr>\n",
       "    <tr>\n",
       "      <th>29</th>\n",
       "      <td>GianTheRed</td>\n",
       "      <td>@WengerAfc49 -Sacked the manager that put you ...</td>\n",
       "      <td>Malta</td>\n",
       "      <td>35.888599</td>\n",
       "      <td>14.447691</td>\n",
       "    </tr>\n",
       "    <tr>\n",
       "      <th>31</th>\n",
       "      <td>4LeggedGeordie</td>\n",
       "      <td>@TaylorandPayne The fa need to step in and san...</td>\n",
       "      <td>Stanley, Durham, England</td>\n",
       "      <td>54.871969</td>\n",
       "      <td>-1.694170</td>\n",
       "    </tr>\n",
       "    <tr>\n",
       "      <th>32</th>\n",
       "      <td>skohlh</td>\n",
       "      <td>Is it football season yet! @CycloneFB https://...</td>\n",
       "      <td>Ankeny, IA</td>\n",
       "      <td>41.731871</td>\n",
       "      <td>-93.600384</td>\n",
       "    </tr>\n",
       "    <tr>\n",
       "      <th>33</th>\n",
       "      <td>CanesLegacy</td>\n",
       "      <td>132 days until Canes Football. \\n\\nAlbert Bent...</td>\n",
       "      <td>305</td>\n",
       "      <td>24.834744</td>\n",
       "      <td>121.082602</td>\n",
       "    </tr>\n",
       "    <tr>\n",
       "      <th>35</th>\n",
       "      <td>AndrewT_MUFC</td>\n",
       "      <td>What football is all about and why football is...</td>\n",
       "      <td>England, United Kingdom</td>\n",
       "      <td>52.795479</td>\n",
       "      <td>-0.540240</td>\n",
       "    </tr>\n",
       "    <tr>\n",
       "      <th>36</th>\n",
       "      <td>heal_wayne</td>\n",
       "      <td>@Aaron_Robbo_ Nothing worse than been a footba...</td>\n",
       "      <td>Newcastle</td>\n",
       "      <td>54.977092</td>\n",
       "      <td>-1.614206</td>\n",
       "    </tr>\n",
       "    <tr>\n",
       "      <th>37</th>\n",
       "      <td>InfamousDjK</td>\n",
       "      <td>James zero football brain</td>\n",
       "      <td>England, United Kingdom</td>\n",
       "      <td>52.795479</td>\n",
       "      <td>-0.540240</td>\n",
       "    </tr>\n",
       "    <tr>\n",
       "      <th>39</th>\n",
       "      <td>slasting</td>\n",
       "      <td>This picture looks like anyone actually doing ...</td>\n",
       "      <td>Friedrichshain, Berlin</td>\n",
       "      <td>52.512215</td>\n",
       "      <td>13.450290</td>\n",
       "    </tr>\n",
       "    <tr>\n",
       "      <th>40</th>\n",
       "      <td>HTFC_Women</td>\n",
       "      <td>Chantry Grasshoppers are the winners of today'...</td>\n",
       "      <td>Halesworth, England</td>\n",
       "      <td>52.341815</td>\n",
       "      <td>1.500165</td>\n",
       "    </tr>\n",
       "    <tr>\n",
       "      <th>41</th>\n",
       "      <td>littledude_21</td>\n",
       "      <td>@ShiinaBR @ESFortniteBR Okay, as much as I gen...</td>\n",
       "      <td>England, United Kingdom</td>\n",
       "      <td>52.795479</td>\n",
       "      <td>-0.540240</td>\n",
       "    </tr>\n",
       "    <tr>\n",
       "      <th>42</th>\n",
       "      <td>TheBigCharl</td>\n",
       "      <td>Cat's ain't shit. Zero football skills.\\nThat'...</td>\n",
       "      <td>Nairobi,Kenya</td>\n",
       "      <td>-1.283253</td>\n",
       "      <td>36.817245</td>\n",
       "    </tr>\n",
       "    <tr>\n",
       "      <th>44</th>\n",
       "      <td>LetsParteyNow</td>\n",
       "      <td>@RahulArsenal1 Absolutely not it’ll be worse f...</td>\n",
       "      <td>London, England</td>\n",
       "      <td>51.507322</td>\n",
       "      <td>-0.127647</td>\n",
       "    </tr>\n",
       "    <tr>\n",
       "      <th>45</th>\n",
       "      <td>ItsNotPjay</td>\n",
       "      <td>See Dan James infecting others with his non fo...</td>\n",
       "      <td>Abuja, Nigeria</td>\n",
       "      <td>9.064331</td>\n",
       "      <td>7.489297</td>\n",
       "    </tr>\n",
       "    <tr>\n",
       "      <th>46</th>\n",
       "      <td>_DipikaR</td>\n",
       "      <td>@dcolapinto @MailOnline @terrychristian this f...</td>\n",
       "      <td>Strasbourg, France 🇫🇷</td>\n",
       "      <td>48.584614</td>\n",
       "      <td>7.750713</td>\n",
       "    </tr>\n",
       "    <tr>\n",
       "      <th>47</th>\n",
       "      <td>GarrettT_32</td>\n",
       "      <td>@owensiebring That’s NAIA football where men p...</td>\n",
       "      <td>Petersburg, NE</td>\n",
       "      <td>41.853343</td>\n",
       "      <td>-98.078676</td>\n",
       "    </tr>\n",
       "    <tr>\n",
       "      <th>48</th>\n",
       "      <td>ArbroathFC</td>\n",
       "      <td>Remember Walter Borthwick\\n\\nEveryone at Arbro...</td>\n",
       "      <td>Arbroath, Scotland</td>\n",
       "      <td>56.560096</td>\n",
       "      <td>-2.581798</td>\n",
       "    </tr>\n",
       "    <tr>\n",
       "      <th>49</th>\n",
       "      <td>HumsafarHusky</td>\n",
       "      <td>James is awful. Zero football brain.</td>\n",
       "      <td>Atlantis</td>\n",
       "      <td>26.590902</td>\n",
       "      <td>-80.100876</td>\n",
       "    </tr>\n",
       "  </tbody>\n",
       "</table>\n",
       "</div>"
      ],
      "text/plain": [
       "        screen_name                                               text  \\\n",
       "1    _kinesthetiac_  Daniel Arsham\\n\\nAmethyst Football Helmet, 201...   \n",
       "3          dand2211  @claretmurger @johncrossmirror Likewise. If th...   \n",
       "4      billybirch10  @Bestthingsinli2 @Lord_Sugar Still a game of f...   \n",
       "5     theloanwolf79  @JamesHorncastle Good! I hope all the 12 that ...   \n",
       "6           Tezskii         Dan James football IQ... \\n\\nI won’t speak   \n",
       "7     RSSFeedsCloud  High school football season-ending rankings: B...   \n",
       "8    han_me_me_pyae  In #DagonMyothit (North) Township, Some youths...   \n",
       "9       QuickCartWP  High school football season-ending rankings: B...   \n",
       "10         aIexbcfc  Bristol Rovers relegated ✅\\nSwindon relegated ...   \n",
       "11   RainbowStephen  @ashhan83 @youngy18 @WatfordFC And here’s some...   \n",
       "12  GordonH60559090  @Mrcento Football must be one of the very few ...   \n",
       "13        el_foue15  @collinsAMI12 Football is a murderer.. 😭😭😭😭😭😭😭...   \n",
       "14      _ShuBhamCFC  @lopxz_rm @tjcope You should be banned from Fo...   \n",
       "15        alrichie4  Juv fans must be Suffering the way their teams...   \n",
       "17       RidgeJrotc  The 🐻Battalion conducted the last in a 4 set w...   \n",
       "19       Da_cupid92  Watching a football match in public will forev...   \n",
       "20     MitchPiggon9  @TommyBerwick9 @richmorris82 Ahhhh yeah funny ...   \n",
       "21          Eben_Ik  Football Speedsters... I don't rate them, they...   \n",
       "22     Wolfpack_FC_  FUN WOLFPACK FACT - Wolfpack have WON more lea...   \n",
       "23   JohnSchwartz76  @BorisJohnson is more interested in #racism in...   \n",
       "25      mattjukes99  Mad how you might be able to fly to another co...   \n",
       "26        4ngelvrse  athletes should not be able to preach about gr...   \n",
       "27         _Kings21  Playing football with Dan James must be so fru...   \n",
       "28  moonlighter1872  Four lads had a dream to start a football team...   \n",
       "29       GianTheRed  @WengerAfc49 -Sacked the manager that put you ...   \n",
       "31   4LeggedGeordie  @TaylorandPayne The fa need to step in and san...   \n",
       "32           skohlh  Is it football season yet! @CycloneFB https://...   \n",
       "33      CanesLegacy  132 days until Canes Football. \\n\\nAlbert Bent...   \n",
       "35     AndrewT_MUFC  What football is all about and why football is...   \n",
       "36       heal_wayne  @Aaron_Robbo_ Nothing worse than been a footba...   \n",
       "37      InfamousDjK                          James zero football brain   \n",
       "39         slasting  This picture looks like anyone actually doing ...   \n",
       "40       HTFC_Women  Chantry Grasshoppers are the winners of today'...   \n",
       "41    littledude_21  @ShiinaBR @ESFortniteBR Okay, as much as I gen...   \n",
       "42      TheBigCharl  Cat's ain't shit. Zero football skills.\\nThat'...   \n",
       "44    LetsParteyNow  @RahulArsenal1 Absolutely not it’ll be worse f...   \n",
       "45       ItsNotPjay  See Dan James infecting others with his non fo...   \n",
       "46         _DipikaR  @dcolapinto @MailOnline @terrychristian this f...   \n",
       "47      GarrettT_32  @owensiebring That’s NAIA football where men p...   \n",
       "48       ArbroathFC  Remember Walter Borthwick\\n\\nEveryone at Arbro...   \n",
       "49    HumsafarHusky               James is awful. Zero football brain.   \n",
       "\n",
       "                    location   latitude   longitude  \n",
       "1                indiana usa  40.327013  -86.174693  \n",
       "3                     London  51.507322   -0.127647  \n",
       "4                         UK  54.702354   -3.276575  \n",
       "5                        Wem  52.855631   -2.724117  \n",
       "6        North West, England  51.335169    7.263209  \n",
       "7                 Dallas, TX  32.776272  -96.796856  \n",
       "8              United States  39.783730 -100.445882  \n",
       "9              United States  39.783730 -100.445882  \n",
       "10       South West, England  52.795479   -0.540240  \n",
       "11                   Watford  51.655388   -0.395742  \n",
       "12  Scotland, United Kingdom  56.786111   -4.114052  \n",
       "13                   AFURIKA -28.816624   24.991639  \n",
       "14             Mumbai, India  18.938754   72.835238  \n",
       "15           Kampala, Uganda   0.317714   32.581354  \n",
       "17                Naples, FL  26.142036  -81.794810  \n",
       "19            Lagos, Nigeria   6.455057    3.394179  \n",
       "20        Nuneaton , England  52.524618   -1.468449  \n",
       "21         Pennsylvania, USA  40.969989  -77.727883  \n",
       "22       Warrington, England  53.401858   -2.568022  \n",
       "23   England, United Kingdom  52.795479   -0.540240  \n",
       "25      West Sussex, England  51.000000   -0.416667  \n",
       "26            loona island !  58.334806   22.012361  \n",
       "27           London, England  51.507322   -0.127647  \n",
       "28   Glasgow, United Kingdom  55.856656   -4.243582  \n",
       "29                     Malta  35.888599   14.447691  \n",
       "31  Stanley, Durham, England  54.871969   -1.694170  \n",
       "32                Ankeny, IA  41.731871  -93.600384  \n",
       "33                       305  24.834744  121.082602  \n",
       "35   England, United Kingdom  52.795479   -0.540240  \n",
       "36                Newcastle   54.977092   -1.614206  \n",
       "37   England, United Kingdom  52.795479   -0.540240  \n",
       "39    Friedrichshain, Berlin  52.512215   13.450290  \n",
       "40       Halesworth, England  52.341815    1.500165  \n",
       "41   England, United Kingdom  52.795479   -0.540240  \n",
       "42             Nairobi,Kenya  -1.283253   36.817245  \n",
       "44           London, England  51.507322   -0.127647  \n",
       "45            Abuja, Nigeria   9.064331    7.489297  \n",
       "46     Strasbourg, France 🇫🇷  48.584614    7.750713  \n",
       "47            Petersburg, NE  41.853343  -98.078676  \n",
       "48        Arbroath, Scotland  56.560096   -2.581798  \n",
       "49                  Atlantis  26.590902  -80.100876  "
      ]
     },
     "execution_count": 53,
     "metadata": {},
     "output_type": "execute_result"
    }
   ],
   "source": [
    "df"
   ]
  },
  {
   "cell_type": "markdown",
   "metadata": {},
   "source": [
    "<hr style=\"height:2px; border:none; color:#000; background-color:#000;\">"
   ]
  },
  {
   "cell_type": "markdown",
   "metadata": {},
   "source": [
    "### Creating a Map with Folium"
   ]
  },
  {
   "cell_type": "code",
   "execution_count": 54,
   "metadata": {},
   "outputs": [],
   "source": [
    "import folium"
   ]
  },
  {
   "cell_type": "code",
   "execution_count": 55,
   "metadata": {},
   "outputs": [],
   "source": [
    "usmap = folium.Map(location=[39.8283, -98.5795],  # center of U.S.\n",
    "                   tiles='Stamen Terrain',\n",
    "                   zoom_start=4, detect_retina=True)"
   ]
  },
  {
   "cell_type": "markdown",
   "metadata": {},
   "source": [
    "* **`location`** &mdash; sequence containing **latitude** and **longitude** of **map center point**\n",
    "    * [Geographic center of the continental United States](http://bit.ly/CenterOfTheUS) \n",
    "* **`zoom_start`** &mdash; **map’s initial zoom level**\n",
    "* **`detect_retina`** &mdash; enables folium to use **higher-resolution maps**"
   ]
  },
  {
   "cell_type": "markdown",
   "metadata": {},
   "source": [
    "<hr style=\"height:2px; border:none; color:#000; background-color:#000;\">"
   ]
  },
  {
   "cell_type": "markdown",
   "metadata": {},
   "source": [
    "### Creating Folium `Popup` Objects for the Tweet Locations\n",
    "* **`itertuples`** creates **tuples** from **each row** of the **`DataFrame`**\n",
    "* Each **tuple** contains a **property** for each **`DataFrame` column**"
   ]
  },
  {
   "cell_type": "code",
   "execution_count": 56,
   "metadata": {},
   "outputs": [],
   "source": [
    "for t in df.itertuples():\n",
    "    text = ': '.join([t.screen_name, t.text])\n",
    "    popup = folium.Popup(text)\n",
    "    marker = folium.Marker((t.latitude, t.longitude), \n",
    "                           popup=popup)\n",
    "    marker.add_to(usmap)"
   ]
  },
  {
   "cell_type": "markdown",
   "metadata": {},
   "source": [
    "<hr style=\"height:2px; border:none; color:#000; background-color:#000;\">"
   ]
  },
  {
   "cell_type": "markdown",
   "metadata": {},
   "source": [
    "### Saving the Map with Map’s **`save`** Method "
   ]
  },
  {
   "cell_type": "code",
   "execution_count": 57,
   "metadata": {},
   "outputs": [],
   "source": [
    "usmap.save('tweet_map.html')"
   ]
  },
  {
   "cell_type": "markdown",
   "metadata": {},
   "source": [
    "<hr style=\"height:2px; border:none; color:#000; background-color:#000;\">"
   ]
  },
  {
   "cell_type": "markdown",
   "metadata": {},
   "source": [
    "### Displaying the Map in Jupyter \n",
    "* The resulting map follows. \n",
    "<a href=\"./tweet_map.html\">Interactive tweet map</a>"
   ]
  },
  {
   "cell_type": "code",
   "execution_count": 58,
   "metadata": {},
   "outputs": [
    {
     "data": {
      "text/html": [
       "<div style=\"width:100%;\"><div style=\"position:relative;width:100%;height:0;padding-bottom:60%;\"><span style=\"color:#565656\">Make this Notebook Trusted to load map: File -> Trust Notebook</span><iframe src=\"about:blank\" style=\"position:absolute;width:100%;height:100%;left:0;top:0;border:none !important;\" data-html=%3C%21DOCTYPE%20html%3E%0A%3Chead%3E%20%20%20%20%0A%20%20%20%20%3Cmeta%20http-equiv%3D%22content-type%22%20content%3D%22text/html%3B%20charset%3DUTF-8%22%20/%3E%0A%20%20%20%20%0A%20%20%20%20%20%20%20%20%3Cscript%3E%0A%20%20%20%20%20%20%20%20%20%20%20%20L_NO_TOUCH%20%3D%20false%3B%0A%20%20%20%20%20%20%20%20%20%20%20%20L_DISABLE_3D%20%3D%20false%3B%0A%20%20%20%20%20%20%20%20%3C/script%3E%0A%20%20%20%20%0A%20%20%20%20%3Cstyle%3Ehtml%2C%20body%20%7Bwidth%3A%20100%25%3Bheight%3A%20100%25%3Bmargin%3A%200%3Bpadding%3A%200%3B%7D%3C/style%3E%0A%20%20%20%20%3Cstyle%3E%23map%20%7Bposition%3Aabsolute%3Btop%3A0%3Bbottom%3A0%3Bright%3A0%3Bleft%3A0%3B%7D%3C/style%3E%0A%20%20%20%20%3Cscript%20src%3D%22https%3A//cdn.jsdelivr.net/npm/leaflet%401.6.0/dist/leaflet.js%22%3E%3C/script%3E%0A%20%20%20%20%3Cscript%20src%3D%22https%3A//code.jquery.com/jquery-1.12.4.min.js%22%3E%3C/script%3E%0A%20%20%20%20%3Cscript%20src%3D%22https%3A//maxcdn.bootstrapcdn.com/bootstrap/3.2.0/js/bootstrap.min.js%22%3E%3C/script%3E%0A%20%20%20%20%3Cscript%20src%3D%22https%3A//cdnjs.cloudflare.com/ajax/libs/Leaflet.awesome-markers/2.0.2/leaflet.awesome-markers.js%22%3E%3C/script%3E%0A%20%20%20%20%3Clink%20rel%3D%22stylesheet%22%20href%3D%22https%3A//cdn.jsdelivr.net/npm/leaflet%401.6.0/dist/leaflet.css%22/%3E%0A%20%20%20%20%3Clink%20rel%3D%22stylesheet%22%20href%3D%22https%3A//maxcdn.bootstrapcdn.com/bootstrap/3.2.0/css/bootstrap.min.css%22/%3E%0A%20%20%20%20%3Clink%20rel%3D%22stylesheet%22%20href%3D%22https%3A//maxcdn.bootstrapcdn.com/bootstrap/3.2.0/css/bootstrap-theme.min.css%22/%3E%0A%20%20%20%20%3Clink%20rel%3D%22stylesheet%22%20href%3D%22https%3A//maxcdn.bootstrapcdn.com/font-awesome/4.6.3/css/font-awesome.min.css%22/%3E%0A%20%20%20%20%3Clink%20rel%3D%22stylesheet%22%20href%3D%22https%3A//cdnjs.cloudflare.com/ajax/libs/Leaflet.awesome-markers/2.0.2/leaflet.awesome-markers.css%22/%3E%0A%20%20%20%20%3Clink%20rel%3D%22stylesheet%22%20href%3D%22https%3A//cdn.jsdelivr.net/gh/python-visualization/folium/folium/templates/leaflet.awesome.rotate.min.css%22/%3E%0A%20%20%20%20%0A%20%20%20%20%20%20%20%20%20%20%20%20%3Cmeta%20name%3D%22viewport%22%20content%3D%22width%3Ddevice-width%2C%0A%20%20%20%20%20%20%20%20%20%20%20%20%20%20%20%20initial-scale%3D1.0%2C%20maximum-scale%3D1.0%2C%20user-scalable%3Dno%22%20/%3E%0A%20%20%20%20%20%20%20%20%20%20%20%20%3Cstyle%3E%0A%20%20%20%20%20%20%20%20%20%20%20%20%20%20%20%20%23map_156abba5ea7e485fb9bb2ad67806217a%20%7B%0A%20%20%20%20%20%20%20%20%20%20%20%20%20%20%20%20%20%20%20%20position%3A%20relative%3B%0A%20%20%20%20%20%20%20%20%20%20%20%20%20%20%20%20%20%20%20%20width%3A%20100.0%25%3B%0A%20%20%20%20%20%20%20%20%20%20%20%20%20%20%20%20%20%20%20%20height%3A%20100.0%25%3B%0A%20%20%20%20%20%20%20%20%20%20%20%20%20%20%20%20%20%20%20%20left%3A%200.0%25%3B%0A%20%20%20%20%20%20%20%20%20%20%20%20%20%20%20%20%20%20%20%20top%3A%200.0%25%3B%0A%20%20%20%20%20%20%20%20%20%20%20%20%20%20%20%20%7D%0A%20%20%20%20%20%20%20%20%20%20%20%20%3C/style%3E%0A%20%20%20%20%20%20%20%20%0A%3C/head%3E%0A%3Cbody%3E%20%20%20%20%0A%20%20%20%20%0A%20%20%20%20%20%20%20%20%20%20%20%20%3Cdiv%20class%3D%22folium-map%22%20id%3D%22map_156abba5ea7e485fb9bb2ad67806217a%22%20%3E%3C/div%3E%0A%20%20%20%20%20%20%20%20%0A%3C/body%3E%0A%3Cscript%3E%20%20%20%20%0A%20%20%20%20%0A%20%20%20%20%20%20%20%20%20%20%20%20var%20map_156abba5ea7e485fb9bb2ad67806217a%20%3D%20L.map%28%0A%20%20%20%20%20%20%20%20%20%20%20%20%20%20%20%20%22map_156abba5ea7e485fb9bb2ad67806217a%22%2C%0A%20%20%20%20%20%20%20%20%20%20%20%20%20%20%20%20%7B%0A%20%20%20%20%20%20%20%20%20%20%20%20%20%20%20%20%20%20%20%20center%3A%20%5B39.8283%2C%20-98.5795%5D%2C%0A%20%20%20%20%20%20%20%20%20%20%20%20%20%20%20%20%20%20%20%20crs%3A%20L.CRS.EPSG3857%2C%0A%20%20%20%20%20%20%20%20%20%20%20%20%20%20%20%20%20%20%20%20zoom%3A%204%2C%0A%20%20%20%20%20%20%20%20%20%20%20%20%20%20%20%20%20%20%20%20zoomControl%3A%20true%2C%0A%20%20%20%20%20%20%20%20%20%20%20%20%20%20%20%20%20%20%20%20preferCanvas%3A%20false%2C%0A%20%20%20%20%20%20%20%20%20%20%20%20%20%20%20%20%20%20%20%20detectRetina%3A%20true%2C%0A%20%20%20%20%20%20%20%20%20%20%20%20%20%20%20%20%7D%0A%20%20%20%20%20%20%20%20%20%20%20%20%29%3B%0A%0A%20%20%20%20%20%20%20%20%20%20%20%20%0A%0A%20%20%20%20%20%20%20%20%0A%20%20%20%20%0A%20%20%20%20%20%20%20%20%20%20%20%20var%20tile_layer_aed28a4ae14341a9bc2c7a22b4eb90a1%20%3D%20L.tileLayer%28%0A%20%20%20%20%20%20%20%20%20%20%20%20%20%20%20%20%22https%3A//stamen-tiles-%7Bs%7D.a.ssl.fastly.net/terrain/%7Bz%7D/%7Bx%7D/%7By%7D.jpg%22%2C%0A%20%20%20%20%20%20%20%20%20%20%20%20%20%20%20%20%7B%22attribution%22%3A%20%22Map%20tiles%20by%20%5Cu003ca%20href%3D%5C%22http%3A//stamen.com%5C%22%5Cu003eStamen%20Design%5Cu003c/a%5Cu003e%2C%20under%20%5Cu003ca%20href%3D%5C%22http%3A//creativecommons.org/licenses/by/3.0%5C%22%5Cu003eCC%20BY%203.0%5Cu003c/a%5Cu003e.%20Data%20by%20%5Cu0026copy%3B%20%5Cu003ca%20href%3D%5C%22http%3A//openstreetmap.org%5C%22%5Cu003eOpenStreetMap%5Cu003c/a%5Cu003e%2C%20under%20%5Cu003ca%20href%3D%5C%22http%3A//creativecommons.org/licenses/by-sa/3.0%5C%22%5Cu003eCC%20BY%20SA%5Cu003c/a%5Cu003e.%22%2C%20%22detectRetina%22%3A%20false%2C%20%22maxNativeZoom%22%3A%2018%2C%20%22maxZoom%22%3A%2018%2C%20%22minZoom%22%3A%200%2C%20%22noWrap%22%3A%20false%2C%20%22opacity%22%3A%201%2C%20%22subdomains%22%3A%20%22abc%22%2C%20%22tms%22%3A%20false%7D%0A%20%20%20%20%20%20%20%20%20%20%20%20%29.addTo%28map_156abba5ea7e485fb9bb2ad67806217a%29%3B%0A%20%20%20%20%20%20%20%20%0A%20%20%20%20%0A%20%20%20%20%20%20%20%20%20%20%20%20var%20marker_e52e93e078e24c988ade2ea51231a02c%20%3D%20L.marker%28%0A%20%20%20%20%20%20%20%20%20%20%20%20%20%20%20%20%5B40.3270127%2C%20-86.1746933%5D%2C%0A%20%20%20%20%20%20%20%20%20%20%20%20%20%20%20%20%7B%7D%0A%20%20%20%20%20%20%20%20%20%20%20%20%29.addTo%28map_156abba5ea7e485fb9bb2ad67806217a%29%3B%0A%20%20%20%20%20%20%20%20%0A%20%20%20%20%0A%20%20%20%20%20%20%20%20var%20popup_1b3d135a2d1b423baa964417007afd95%20%3D%20L.popup%28%7B%22maxWidth%22%3A%20%22100%25%22%7D%29%3B%0A%0A%20%20%20%20%20%20%20%20%0A%20%20%20%20%20%20%20%20%20%20%20%20var%20html_4edccff36e8841169983a616eddeea55%20%3D%20%24%28%60%3Cdiv%20id%3D%22html_4edccff36e8841169983a616eddeea55%22%20style%3D%22width%3A%20100.0%25%3B%20height%3A%20100.0%25%3B%22%3E_kinesthetiac_%3A%20Daniel%20Arsham%20%20Amethyst%20Football%20Helmet%2C%202016%20https%3A//t.co/YvACjP4Hvr%3C/div%3E%60%29%5B0%5D%3B%0A%20%20%20%20%20%20%20%20%20%20%20%20popup_1b3d135a2d1b423baa964417007afd95.setContent%28html_4edccff36e8841169983a616eddeea55%29%3B%0A%20%20%20%20%20%20%20%20%0A%0A%20%20%20%20%20%20%20%20marker_e52e93e078e24c988ade2ea51231a02c.bindPopup%28popup_1b3d135a2d1b423baa964417007afd95%29%0A%20%20%20%20%20%20%20%20%3B%0A%0A%20%20%20%20%20%20%20%20%0A%20%20%20%20%0A%20%20%20%20%0A%20%20%20%20%20%20%20%20%20%20%20%20var%20marker_1abedbfd7cf74272bc515ee083b112bb%20%3D%20L.marker%28%0A%20%20%20%20%20%20%20%20%20%20%20%20%20%20%20%20%5B51.5073219%2C%20-0.1276474%5D%2C%0A%20%20%20%20%20%20%20%20%20%20%20%20%20%20%20%20%7B%7D%0A%20%20%20%20%20%20%20%20%20%20%20%20%29.addTo%28map_156abba5ea7e485fb9bb2ad67806217a%29%3B%0A%20%20%20%20%20%20%20%20%0A%20%20%20%20%0A%20%20%20%20%20%20%20%20var%20popup_805ed79ffc994b6a96e2af49f5cbfff7%20%3D%20L.popup%28%7B%22maxWidth%22%3A%20%22100%25%22%7D%29%3B%0A%0A%20%20%20%20%20%20%20%20%0A%20%20%20%20%20%20%20%20%20%20%20%20var%20html_3f1d5d1289bc49aba52591c1ab3313e8%20%3D%20%24%28%60%3Cdiv%20id%3D%22html_3f1d5d1289bc49aba52591c1ab3313e8%22%20style%3D%22width%3A%20100.0%25%3B%20height%3A%20100.0%25%3B%22%3Edand2211%3A%20%40claretmurger%20%40johncrossmirror%20Likewise.%20If%20that%27s%20what%27s%20needed%20to%20attend%20football%20these%20days%2C%20forget%20it.%20Can%27t%20be%20arsed%20with%20that.%3C/div%3E%60%29%5B0%5D%3B%0A%20%20%20%20%20%20%20%20%20%20%20%20popup_805ed79ffc994b6a96e2af49f5cbfff7.setContent%28html_3f1d5d1289bc49aba52591c1ab3313e8%29%3B%0A%20%20%20%20%20%20%20%20%0A%0A%20%20%20%20%20%20%20%20marker_1abedbfd7cf74272bc515ee083b112bb.bindPopup%28popup_805ed79ffc994b6a96e2af49f5cbfff7%29%0A%20%20%20%20%20%20%20%20%3B%0A%0A%20%20%20%20%20%20%20%20%0A%20%20%20%20%0A%20%20%20%20%0A%20%20%20%20%20%20%20%20%20%20%20%20var%20marker_c622cff98bd34461926bab50d6ba0724%20%3D%20L.marker%28%0A%20%20%20%20%20%20%20%20%20%20%20%20%20%20%20%20%5B54.7023545%2C%20-3.2765753%5D%2C%0A%20%20%20%20%20%20%20%20%20%20%20%20%20%20%20%20%7B%7D%0A%20%20%20%20%20%20%20%20%20%20%20%20%29.addTo%28map_156abba5ea7e485fb9bb2ad67806217a%29%3B%0A%20%20%20%20%20%20%20%20%0A%20%20%20%20%0A%20%20%20%20%20%20%20%20var%20popup_23a446ab052b4e44908b6ca2c884d4ad%20%3D%20L.popup%28%7B%22maxWidth%22%3A%20%22100%25%22%7D%29%3B%0A%0A%20%20%20%20%20%20%20%20%0A%20%20%20%20%20%20%20%20%20%20%20%20var%20html_75816aaa55274e029a704d7dac1da93f%20%3D%20%24%28%60%3Cdiv%20id%3D%22html_75816aaa55274e029a704d7dac1da93f%22%20style%3D%22width%3A%20100.0%25%3B%20height%3A%20100.0%25%3B%22%3Ebillybirch10%3A%20%40Bestthingsinli2%20%40Lord_Sugar%20Still%20a%20game%20of%20football%20that%20millions%20will%20be%20watching.%3C/div%3E%60%29%5B0%5D%3B%0A%20%20%20%20%20%20%20%20%20%20%20%20popup_23a446ab052b4e44908b6ca2c884d4ad.setContent%28html_75816aaa55274e029a704d7dac1da93f%29%3B%0A%20%20%20%20%20%20%20%20%0A%0A%20%20%20%20%20%20%20%20marker_c622cff98bd34461926bab50d6ba0724.bindPopup%28popup_23a446ab052b4e44908b6ca2c884d4ad%29%0A%20%20%20%20%20%20%20%20%3B%0A%0A%20%20%20%20%20%20%20%20%0A%20%20%20%20%0A%20%20%20%20%0A%20%20%20%20%20%20%20%20%20%20%20%20var%20marker_fefb8690cd0e4f8d8c4c5dd12ee7239f%20%3D%20L.marker%28%0A%20%20%20%20%20%20%20%20%20%20%20%20%20%20%20%20%5B52.8556312%2C%20-2.7241167%5D%2C%0A%20%20%20%20%20%20%20%20%20%20%20%20%20%20%20%20%7B%7D%0A%20%20%20%20%20%20%20%20%20%20%20%20%29.addTo%28map_156abba5ea7e485fb9bb2ad67806217a%29%3B%0A%20%20%20%20%20%20%20%20%0A%20%20%20%20%0A%20%20%20%20%20%20%20%20var%20popup_e3a0d571749749d6b6b7ffc38f0fe384%20%3D%20L.popup%28%7B%22maxWidth%22%3A%20%22100%25%22%7D%29%3B%0A%0A%20%20%20%20%20%20%20%20%0A%20%20%20%20%20%20%20%20%20%20%20%20var%20html_b216ae1c92104797bedfb36ea626e946%20%3D%20%24%28%60%3Cdiv%20id%3D%22html_b216ae1c92104797bedfb36ea626e946%22%20style%3D%22width%3A%20100.0%25%3B%20height%3A%20100.0%25%3B%22%3Etheloanwolf79%3A%20%40JamesHorncastle%20Good%21%20I%20hope%20all%20the%2012%20that%20tried%20to%20destroy%20football%20fail%20to%20qualify%20for%20CL.%20Karma%E2%80%99s%20a%20bitch%20%F0%9F%A4%B7%F0%9F%8F%BB%E2%80%8D%E2%99%82%EF%B8%8F%3C/div%3E%60%29%5B0%5D%3B%0A%20%20%20%20%20%20%20%20%20%20%20%20popup_e3a0d571749749d6b6b7ffc38f0fe384.setContent%28html_b216ae1c92104797bedfb36ea626e946%29%3B%0A%20%20%20%20%20%20%20%20%0A%0A%20%20%20%20%20%20%20%20marker_fefb8690cd0e4f8d8c4c5dd12ee7239f.bindPopup%28popup_e3a0d571749749d6b6b7ffc38f0fe384%29%0A%20%20%20%20%20%20%20%20%3B%0A%0A%20%20%20%20%20%20%20%20%0A%20%20%20%20%0A%20%20%20%20%0A%20%20%20%20%20%20%20%20%20%20%20%20var%20marker_92b0249295c240a4b5ba0f83893fdd43%20%3D%20L.marker%28%0A%20%20%20%20%20%20%20%20%20%20%20%20%20%20%20%20%5B51.3351685%2C%207.26320898126877%5D%2C%0A%20%20%20%20%20%20%20%20%20%20%20%20%20%20%20%20%7B%7D%0A%20%20%20%20%20%20%20%20%20%20%20%20%29.addTo%28map_156abba5ea7e485fb9bb2ad67806217a%29%3B%0A%20%20%20%20%20%20%20%20%0A%20%20%20%20%0A%20%20%20%20%20%20%20%20var%20popup_2951fe8d393345559f5e60710d519dcb%20%3D%20L.popup%28%7B%22maxWidth%22%3A%20%22100%25%22%7D%29%3B%0A%0A%20%20%20%20%20%20%20%20%0A%20%20%20%20%20%20%20%20%20%20%20%20var%20html_606e83f3662a463aa0c7112e5f06919f%20%3D%20%24%28%60%3Cdiv%20id%3D%22html_606e83f3662a463aa0c7112e5f06919f%22%20style%3D%22width%3A%20100.0%25%3B%20height%3A%20100.0%25%3B%22%3ETezskii%3A%20Dan%20James%20football%20IQ...%20%20%20I%20won%E2%80%99t%20speak%3C/div%3E%60%29%5B0%5D%3B%0A%20%20%20%20%20%20%20%20%20%20%20%20popup_2951fe8d393345559f5e60710d519dcb.setContent%28html_606e83f3662a463aa0c7112e5f06919f%29%3B%0A%20%20%20%20%20%20%20%20%0A%0A%20%20%20%20%20%20%20%20marker_92b0249295c240a4b5ba0f83893fdd43.bindPopup%28popup_2951fe8d393345559f5e60710d519dcb%29%0A%20%20%20%20%20%20%20%20%3B%0A%0A%20%20%20%20%20%20%20%20%0A%20%20%20%20%0A%20%20%20%20%0A%20%20%20%20%20%20%20%20%20%20%20%20var%20marker_eba679e023ff41739b63c3a969ec10b2%20%3D%20L.marker%28%0A%20%20%20%20%20%20%20%20%20%20%20%20%20%20%20%20%5B32.7762719%2C%20-96.7968559%5D%2C%0A%20%20%20%20%20%20%20%20%20%20%20%20%20%20%20%20%7B%7D%0A%20%20%20%20%20%20%20%20%20%20%20%20%29.addTo%28map_156abba5ea7e485fb9bb2ad67806217a%29%3B%0A%20%20%20%20%20%20%20%20%0A%20%20%20%20%0A%20%20%20%20%20%20%20%20var%20popup_f1f433d2a6cb434cb370473ef96b1e68%20%3D%20L.popup%28%7B%22maxWidth%22%3A%20%22100%25%22%7D%29%3B%0A%0A%20%20%20%20%20%20%20%20%0A%20%20%20%20%20%20%20%20%20%20%20%20var%20html_66bb023df9b143ab822682dca382f98f%20%3D%20%24%28%60%3Cdiv%20id%3D%22html_66bb023df9b143ab822682dca382f98f%22%20style%3D%22width%3A%20100.0%25%3B%20height%3A%20100.0%25%3B%22%3ERSSFeedsCloud%3A%20High%20school%20football%20season-ending%20rankings%3A%20Bay%20Area%20News%20Group%20Top%C2%A025%20https%3A//t.co/mobXQvtWpI%3C/div%3E%60%29%5B0%5D%3B%0A%20%20%20%20%20%20%20%20%20%20%20%20popup_f1f433d2a6cb434cb370473ef96b1e68.setContent%28html_66bb023df9b143ab822682dca382f98f%29%3B%0A%20%20%20%20%20%20%20%20%0A%0A%20%20%20%20%20%20%20%20marker_eba679e023ff41739b63c3a969ec10b2.bindPopup%28popup_f1f433d2a6cb434cb370473ef96b1e68%29%0A%20%20%20%20%20%20%20%20%3B%0A%0A%20%20%20%20%20%20%20%20%0A%20%20%20%20%0A%20%20%20%20%0A%20%20%20%20%20%20%20%20%20%20%20%20var%20marker_9c7926baed3147998e56b78fb7baf64f%20%3D%20L.marker%28%0A%20%20%20%20%20%20%20%20%20%20%20%20%20%20%20%20%5B39.7837304%2C%20-100.4458825%5D%2C%0A%20%20%20%20%20%20%20%20%20%20%20%20%20%20%20%20%7B%7D%0A%20%20%20%20%20%20%20%20%20%20%20%20%29.addTo%28map_156abba5ea7e485fb9bb2ad67806217a%29%3B%0A%20%20%20%20%20%20%20%20%0A%20%20%20%20%0A%20%20%20%20%20%20%20%20var%20popup_b2d4e77336f04f74b5f6dc977a1ef544%20%3D%20L.popup%28%7B%22maxWidth%22%3A%20%22100%25%22%7D%29%3B%0A%0A%20%20%20%20%20%20%20%20%0A%20%20%20%20%20%20%20%20%20%20%20%20var%20html_7386ebf2338b45fe889d6250bb94548c%20%3D%20%24%28%60%3Cdiv%20id%3D%22html_7386ebf2338b45fe889d6250bb94548c%22%20style%3D%22width%3A%20100.0%25%3B%20height%3A%20100.0%25%3B%22%3Ehan_me_me_pyae%3A%20In%20%23DagonMyothit%20%28North%29%20Township%2C%20Some%20youths%20have%20been%20abducted%20by%20Military%20terrorists%20at%20the%20%23Fuse%20King%20%28football%20stadium%20with%20swimming%20pool%29%20in%20Ward%2044%2C%20and%20some%20are%20trapped%20according%20to%20local%20residents.%20%23Apr25Coup.%20%23WhatsHappeningInMyanmar%20https%3A//t.co/E2Gc5ROAc1%3C/div%3E%60%29%5B0%5D%3B%0A%20%20%20%20%20%20%20%20%20%20%20%20popup_b2d4e77336f04f74b5f6dc977a1ef544.setContent%28html_7386ebf2338b45fe889d6250bb94548c%29%3B%0A%20%20%20%20%20%20%20%20%0A%0A%20%20%20%20%20%20%20%20marker_9c7926baed3147998e56b78fb7baf64f.bindPopup%28popup_b2d4e77336f04f74b5f6dc977a1ef544%29%0A%20%20%20%20%20%20%20%20%3B%0A%0A%20%20%20%20%20%20%20%20%0A%20%20%20%20%0A%20%20%20%20%0A%20%20%20%20%20%20%20%20%20%20%20%20var%20marker_b99c059e301b4f2b919ce4445abe1808%20%3D%20L.marker%28%0A%20%20%20%20%20%20%20%20%20%20%20%20%20%20%20%20%5B39.7837304%2C%20-100.4458825%5D%2C%0A%20%20%20%20%20%20%20%20%20%20%20%20%20%20%20%20%7B%7D%0A%20%20%20%20%20%20%20%20%20%20%20%20%29.addTo%28map_156abba5ea7e485fb9bb2ad67806217a%29%3B%0A%20%20%20%20%20%20%20%20%0A%20%20%20%20%0A%20%20%20%20%20%20%20%20var%20popup_d9e04933985a406ba6e73f5b571dadc6%20%3D%20L.popup%28%7B%22maxWidth%22%3A%20%22100%25%22%7D%29%3B%0A%0A%20%20%20%20%20%20%20%20%0A%20%20%20%20%20%20%20%20%20%20%20%20var%20html_f8778ee7fc5843ce90155c36674304a6%20%3D%20%24%28%60%3Cdiv%20id%3D%22html_f8778ee7fc5843ce90155c36674304a6%22%20style%3D%22width%3A%20100.0%25%3B%20height%3A%20100.0%25%3B%22%3EQuickCartWP%3A%20High%20school%20football%20season-ending%20rankings%3A%20Bay%20Area%20News%20Group%20Top%C2%A025%20https%3A//t.co/CV8itRX8AE%3C/div%3E%60%29%5B0%5D%3B%0A%20%20%20%20%20%20%20%20%20%20%20%20popup_d9e04933985a406ba6e73f5b571dadc6.setContent%28html_f8778ee7fc5843ce90155c36674304a6%29%3B%0A%20%20%20%20%20%20%20%20%0A%0A%20%20%20%20%20%20%20%20marker_b99c059e301b4f2b919ce4445abe1808.bindPopup%28popup_d9e04933985a406ba6e73f5b571dadc6%29%0A%20%20%20%20%20%20%20%20%3B%0A%0A%20%20%20%20%20%20%20%20%0A%20%20%20%20%0A%20%20%20%20%0A%20%20%20%20%20%20%20%20%20%20%20%20var%20marker_8c034937f7e54351a88f1a1386ba6502%20%3D%20L.marker%28%0A%20%20%20%20%20%20%20%20%20%20%20%20%20%20%20%20%5B52.7954791%2C%20-0.540240286617432%5D%2C%0A%20%20%20%20%20%20%20%20%20%20%20%20%20%20%20%20%7B%7D%0A%20%20%20%20%20%20%20%20%20%20%20%20%29.addTo%28map_156abba5ea7e485fb9bb2ad67806217a%29%3B%0A%20%20%20%20%20%20%20%20%0A%20%20%20%20%0A%20%20%20%20%20%20%20%20var%20popup_ed9f6c25478d4b76abecea803ed199a4%20%3D%20L.popup%28%7B%22maxWidth%22%3A%20%22100%25%22%7D%29%3B%0A%0A%20%20%20%20%20%20%20%20%0A%20%20%20%20%20%20%20%20%20%20%20%20var%20html_5d5e696158264c719c82aa628292f881%20%3D%20%24%28%60%3Cdiv%20id%3D%22html_5d5e696158264c719c82aa628292f881%22%20style%3D%22width%3A%20100.0%25%3B%20height%3A%20100.0%25%3B%22%3EaIexbcfc%3A%20Bristol%20Rovers%20relegated%20%E2%9C%85%20Swindon%20relegated%20%E2%9C%85%20Bristol%20City%20bottling%20a%202-0%20lead%20to%20lose%203-2%20at%20home%20to%20Luton%E2%9C%85%20%20What%20a%20weekend%20for%20football%20in%20the%20west%20country%3C/div%3E%60%29%5B0%5D%3B%0A%20%20%20%20%20%20%20%20%20%20%20%20popup_ed9f6c25478d4b76abecea803ed199a4.setContent%28html_5d5e696158264c719c82aa628292f881%29%3B%0A%20%20%20%20%20%20%20%20%0A%0A%20%20%20%20%20%20%20%20marker_8c034937f7e54351a88f1a1386ba6502.bindPopup%28popup_ed9f6c25478d4b76abecea803ed199a4%29%0A%20%20%20%20%20%20%20%20%3B%0A%0A%20%20%20%20%20%20%20%20%0A%20%20%20%20%0A%20%20%20%20%0A%20%20%20%20%20%20%20%20%20%20%20%20var%20marker_b0bc6742e9634e5cb3ee088ef07c0a94%20%3D%20L.marker%28%0A%20%20%20%20%20%20%20%20%20%20%20%20%20%20%20%20%5B51.6553875%2C%20-0.3957425%5D%2C%0A%20%20%20%20%20%20%20%20%20%20%20%20%20%20%20%20%7B%7D%0A%20%20%20%20%20%20%20%20%20%20%20%20%29.addTo%28map_156abba5ea7e485fb9bb2ad67806217a%29%3B%0A%20%20%20%20%20%20%20%20%0A%20%20%20%20%0A%20%20%20%20%20%20%20%20var%20popup_9d169e15dc77432dbc8a76970da4097c%20%3D%20L.popup%28%7B%22maxWidth%22%3A%20%22100%25%22%7D%29%3B%0A%0A%20%20%20%20%20%20%20%20%0A%20%20%20%20%20%20%20%20%20%20%20%20var%20html_2c0c7fbbd1c04bc08ac59c53bba4602e%20%3D%20%24%28%60%3Cdiv%20id%3D%22html_2c0c7fbbd1c04bc08ac59c53bba4602e%22%20style%3D%22width%3A%20100.0%25%3B%20height%3A%20100.0%25%3B%22%3ERainbowStephen%3A%20%40ashhan83%20%40youngy18%20%40WatfordFC%20And%20here%E2%80%99s%20someone%20who%20has%20no%20idea%20of%20football%2C%20and%20a%20typical%20sky%20armchair%20football%20supporter%21%20https%3A//t.co/Ut5miNQjNx%3C/div%3E%60%29%5B0%5D%3B%0A%20%20%20%20%20%20%20%20%20%20%20%20popup_9d169e15dc77432dbc8a76970da4097c.setContent%28html_2c0c7fbbd1c04bc08ac59c53bba4602e%29%3B%0A%20%20%20%20%20%20%20%20%0A%0A%20%20%20%20%20%20%20%20marker_b0bc6742e9634e5cb3ee088ef07c0a94.bindPopup%28popup_9d169e15dc77432dbc8a76970da4097c%29%0A%20%20%20%20%20%20%20%20%3B%0A%0A%20%20%20%20%20%20%20%20%0A%20%20%20%20%0A%20%20%20%20%0A%20%20%20%20%20%20%20%20%20%20%20%20var%20marker_2a7f6e1f24804806a6e840d5f257616d%20%3D%20L.marker%28%0A%20%20%20%20%20%20%20%20%20%20%20%20%20%20%20%20%5B56.7861112%2C%20-4.1140518%5D%2C%0A%20%20%20%20%20%20%20%20%20%20%20%20%20%20%20%20%7B%7D%0A%20%20%20%20%20%20%20%20%20%20%20%20%29.addTo%28map_156abba5ea7e485fb9bb2ad67806217a%29%3B%0A%20%20%20%20%20%20%20%20%0A%20%20%20%20%0A%20%20%20%20%20%20%20%20var%20popup_4d9907f2e0634e3ab9bf5c64f2ba7610%20%3D%20L.popup%28%7B%22maxWidth%22%3A%20%22100%25%22%7D%29%3B%0A%0A%20%20%20%20%20%20%20%20%0A%20%20%20%20%20%20%20%20%20%20%20%20var%20html_d512678e0f9a475ab268f416846198ad%20%3D%20%24%28%60%3Cdiv%20id%3D%22html_d512678e0f9a475ab268f416846198ad%22%20style%3D%22width%3A%20100.0%25%3B%20height%3A%20100.0%25%3B%22%3EGordonH60559090%3A%20%40Mrcento%20Football%20must%20be%20one%20of%20the%20very%20few%20industries%20where%20you%20get%20very%20well%20paid%2C%20continual%20employment%20regardless%20of%20being%20thick%20as%20fuck%3C/div%3E%60%29%5B0%5D%3B%0A%20%20%20%20%20%20%20%20%20%20%20%20popup_4d9907f2e0634e3ab9bf5c64f2ba7610.setContent%28html_d512678e0f9a475ab268f416846198ad%29%3B%0A%20%20%20%20%20%20%20%20%0A%0A%20%20%20%20%20%20%20%20marker_2a7f6e1f24804806a6e840d5f257616d.bindPopup%28popup_4d9907f2e0634e3ab9bf5c64f2ba7610%29%0A%20%20%20%20%20%20%20%20%3B%0A%0A%20%20%20%20%20%20%20%20%0A%20%20%20%20%0A%20%20%20%20%0A%20%20%20%20%20%20%20%20%20%20%20%20var%20marker_26e79483a6414dd082f382e89a0b5eeb%20%3D%20L.marker%28%0A%20%20%20%20%20%20%20%20%20%20%20%20%20%20%20%20%5B-28.8166236%2C%2024.991639%5D%2C%0A%20%20%20%20%20%20%20%20%20%20%20%20%20%20%20%20%7B%7D%0A%20%20%20%20%20%20%20%20%20%20%20%20%29.addTo%28map_156abba5ea7e485fb9bb2ad67806217a%29%3B%0A%20%20%20%20%20%20%20%20%0A%20%20%20%20%0A%20%20%20%20%20%20%20%20var%20popup_a7b0439b7adb4d6995b7f25611021228%20%3D%20L.popup%28%7B%22maxWidth%22%3A%20%22100%25%22%7D%29%3B%0A%0A%20%20%20%20%20%20%20%20%0A%20%20%20%20%20%20%20%20%20%20%20%20var%20html_b4a70c6932fc4cbfbc8eee8b9db3f262%20%3D%20%24%28%60%3Cdiv%20id%3D%22html_b4a70c6932fc4cbfbc8eee8b9db3f262%22%20style%3D%22width%3A%20100.0%25%3B%20height%3A%20100.0%25%3B%22%3Eel_foue15%3A%20%40collinsAMI12%20Football%20is%20a%20murderer..%20%F0%9F%98%AD%F0%9F%98%AD%F0%9F%98%AD%F0%9F%98%AD%F0%9F%98%AD%F0%9F%98%AD%F0%9F%98%AD%20https%3A//t.co/BhlYzM5DCS%3C/div%3E%60%29%5B0%5D%3B%0A%20%20%20%20%20%20%20%20%20%20%20%20popup_a7b0439b7adb4d6995b7f25611021228.setContent%28html_b4a70c6932fc4cbfbc8eee8b9db3f262%29%3B%0A%20%20%20%20%20%20%20%20%0A%0A%20%20%20%20%20%20%20%20marker_26e79483a6414dd082f382e89a0b5eeb.bindPopup%28popup_a7b0439b7adb4d6995b7f25611021228%29%0A%20%20%20%20%20%20%20%20%3B%0A%0A%20%20%20%20%20%20%20%20%0A%20%20%20%20%0A%20%20%20%20%0A%20%20%20%20%20%20%20%20%20%20%20%20var%20marker_a83e562ec7f64467897d5fcb2327bfe4%20%3D%20L.marker%28%0A%20%20%20%20%20%20%20%20%20%20%20%20%20%20%20%20%5B18.9387544%2C%2072.8352382%5D%2C%0A%20%20%20%20%20%20%20%20%20%20%20%20%20%20%20%20%7B%7D%0A%20%20%20%20%20%20%20%20%20%20%20%20%29.addTo%28map_156abba5ea7e485fb9bb2ad67806217a%29%3B%0A%20%20%20%20%20%20%20%20%0A%20%20%20%20%0A%20%20%20%20%20%20%20%20var%20popup_5403dfae42f4465384ae560fe9de942b%20%3D%20L.popup%28%7B%22maxWidth%22%3A%20%22100%25%22%7D%29%3B%0A%0A%20%20%20%20%20%20%20%20%0A%20%20%20%20%20%20%20%20%20%20%20%20var%20html_7f1430af0ba24c9f8fcbd3887b270766%20%3D%20%24%28%60%3Cdiv%20id%3D%22html_7f1430af0ba24c9f8fcbd3887b270766%22%20style%3D%22width%3A%20100.0%25%3B%20height%3A%20100.0%25%3B%22%3E_ShuBhamCFC%3A%20%40lopxz_rm%20%40tjcope%20You%20should%20be%20banned%20from%20Football%20for%20a%20lifetime%20after%20what%20you%27re%20owner%20has%20done.%20%F0%9F%98%82%3C/div%3E%60%29%5B0%5D%3B%0A%20%20%20%20%20%20%20%20%20%20%20%20popup_5403dfae42f4465384ae560fe9de942b.setContent%28html_7f1430af0ba24c9f8fcbd3887b270766%29%3B%0A%20%20%20%20%20%20%20%20%0A%0A%20%20%20%20%20%20%20%20marker_a83e562ec7f64467897d5fcb2327bfe4.bindPopup%28popup_5403dfae42f4465384ae560fe9de942b%29%0A%20%20%20%20%20%20%20%20%3B%0A%0A%20%20%20%20%20%20%20%20%0A%20%20%20%20%0A%20%20%20%20%0A%20%20%20%20%20%20%20%20%20%20%20%20var%20marker_3d0a3daa63ed49cdb55360ac89ad6ec0%20%3D%20L.marker%28%0A%20%20%20%20%20%20%20%20%20%20%20%20%20%20%20%20%5B0.3177137%2C%2032.5813539%5D%2C%0A%20%20%20%20%20%20%20%20%20%20%20%20%20%20%20%20%7B%7D%0A%20%20%20%20%20%20%20%20%20%20%20%20%29.addTo%28map_156abba5ea7e485fb9bb2ad67806217a%29%3B%0A%20%20%20%20%20%20%20%20%0A%20%20%20%20%0A%20%20%20%20%20%20%20%20var%20popup_29f9af31f42248e6a86e04020b439ebd%20%3D%20L.popup%28%7B%22maxWidth%22%3A%20%22100%25%22%7D%29%3B%0A%0A%20%20%20%20%20%20%20%20%0A%20%20%20%20%20%20%20%20%20%20%20%20var%20html_d2aa521910e14266a90bed0ed939aaa1%20%3D%20%24%28%60%3Cdiv%20id%3D%22html_d2aa521910e14266a90bed0ed939aaa1%22%20style%3D%22width%3A%20100.0%25%3B%20height%3A%20100.0%25%3B%22%3Ealrichie4%3A%20Juv%20fans%20must%20be%20Suffering%20the%20way%20their%20teams%20plays%20rubbish%20football%2Cits%20hurting%20to%20watch.%20I%20will%20be%20surprised%20if%20Pirlo%20remains%20Juv%20manager%20next%20season.%20%23FiorentinaJuve%3C/div%3E%60%29%5B0%5D%3B%0A%20%20%20%20%20%20%20%20%20%20%20%20popup_29f9af31f42248e6a86e04020b439ebd.setContent%28html_d2aa521910e14266a90bed0ed939aaa1%29%3B%0A%20%20%20%20%20%20%20%20%0A%0A%20%20%20%20%20%20%20%20marker_3d0a3daa63ed49cdb55360ac89ad6ec0.bindPopup%28popup_29f9af31f42248e6a86e04020b439ebd%29%0A%20%20%20%20%20%20%20%20%3B%0A%0A%20%20%20%20%20%20%20%20%0A%20%20%20%20%0A%20%20%20%20%0A%20%20%20%20%20%20%20%20%20%20%20%20var%20marker_48286d4697a6440ea2b75835ab650dbf%20%3D%20L.marker%28%0A%20%20%20%20%20%20%20%20%20%20%20%20%20%20%20%20%5B26.1420358%2C%20-81.7948103%5D%2C%0A%20%20%20%20%20%20%20%20%20%20%20%20%20%20%20%20%7B%7D%0A%20%20%20%20%20%20%20%20%20%20%20%20%29.addTo%28map_156abba5ea7e485fb9bb2ad67806217a%29%3B%0A%20%20%20%20%20%20%20%20%0A%20%20%20%20%0A%20%20%20%20%20%20%20%20var%20popup_a0693e0c28b940d9a07c947f966552fc%20%3D%20L.popup%28%7B%22maxWidth%22%3A%20%22100%25%22%7D%29%3B%0A%0A%20%20%20%20%20%20%20%20%0A%20%20%20%20%20%20%20%20%20%20%20%20var%20html_39eda87791fa47859ddd603ac9a9d1a9%20%3D%20%24%28%60%3Cdiv%20id%3D%22html_39eda87791fa47859ddd603ac9a9d1a9%22%20style%3D%22width%3A%20100.0%25%3B%20height%3A%20100.0%25%3B%22%3ERidgeJrotc%3A%20The%20%F0%9F%90%BBBattalion%20conducted%20the%20last%20in%20a%204%20set%20weekend%20series%20of%20Honor%20Company%20events%20this%20semester.%20Cadets%20competed%20in%20flag%20football%2C%20and%20a%20%E2%80%9CNerf%E2%80%9D%20capture%20the%20flag.%20This%20Friday%2C%20the%20cadets%20will%20find%20out%20who%20is%20the%20Honor%20Company%20at%20the%20Battalion%20Awards%20%26amp%3B%20Dining%20In.%20Hoahhhh%20%21%20https%3A//t.co/OjyDTj2Fb6%3C/div%3E%60%29%5B0%5D%3B%0A%20%20%20%20%20%20%20%20%20%20%20%20popup_a0693e0c28b940d9a07c947f966552fc.setContent%28html_39eda87791fa47859ddd603ac9a9d1a9%29%3B%0A%20%20%20%20%20%20%20%20%0A%0A%20%20%20%20%20%20%20%20marker_48286d4697a6440ea2b75835ab650dbf.bindPopup%28popup_a0693e0c28b940d9a07c947f966552fc%29%0A%20%20%20%20%20%20%20%20%3B%0A%0A%20%20%20%20%20%20%20%20%0A%20%20%20%20%0A%20%20%20%20%0A%20%20%20%20%20%20%20%20%20%20%20%20var%20marker_f3ae0378fb2b4e9fb118919f3a61d866%20%3D%20L.marker%28%0A%20%20%20%20%20%20%20%20%20%20%20%20%20%20%20%20%5B6.4550575%2C%203.3941795%5D%2C%0A%20%20%20%20%20%20%20%20%20%20%20%20%20%20%20%20%7B%7D%0A%20%20%20%20%20%20%20%20%20%20%20%20%29.addTo%28map_156abba5ea7e485fb9bb2ad67806217a%29%3B%0A%20%20%20%20%20%20%20%20%0A%20%20%20%20%0A%20%20%20%20%20%20%20%20var%20popup_79a873cc3c934682b32af494053c31d4%20%3D%20L.popup%28%7B%22maxWidth%22%3A%20%22100%25%22%7D%29%3B%0A%0A%20%20%20%20%20%20%20%20%0A%20%20%20%20%20%20%20%20%20%20%20%20var%20html_02937327217d4a09a370243be5cd4c1b%20%3D%20%24%28%60%3Cdiv%20id%3D%22html_02937327217d4a09a370243be5cd4c1b%22%20style%3D%22width%3A%20100.0%25%3B%20height%3A%20100.0%25%3B%22%3EDa_cupid92%3A%20Watching%20a%20football%20match%20in%20public%20will%20forever%20be%20lit%20%F0%9F%94%A5%3C/div%3E%60%29%5B0%5D%3B%0A%20%20%20%20%20%20%20%20%20%20%20%20popup_79a873cc3c934682b32af494053c31d4.setContent%28html_02937327217d4a09a370243be5cd4c1b%29%3B%0A%20%20%20%20%20%20%20%20%0A%0A%20%20%20%20%20%20%20%20marker_f3ae0378fb2b4e9fb118919f3a61d866.bindPopup%28popup_79a873cc3c934682b32af494053c31d4%29%0A%20%20%20%20%20%20%20%20%3B%0A%0A%20%20%20%20%20%20%20%20%0A%20%20%20%20%0A%20%20%20%20%0A%20%20%20%20%20%20%20%20%20%20%20%20var%20marker_c53a0d61ee6e4b2f93f5c3fa70cbf240%20%3D%20L.marker%28%0A%20%20%20%20%20%20%20%20%20%20%20%20%20%20%20%20%5B52.5246182%2C%20-1.4684488%5D%2C%0A%20%20%20%20%20%20%20%20%20%20%20%20%20%20%20%20%7B%7D%0A%20%20%20%20%20%20%20%20%20%20%20%20%29.addTo%28map_156abba5ea7e485fb9bb2ad67806217a%29%3B%0A%20%20%20%20%20%20%20%20%0A%20%20%20%20%0A%20%20%20%20%20%20%20%20var%20popup_ea146dea82084623abaa44829d7161de%20%3D%20L.popup%28%7B%22maxWidth%22%3A%20%22100%25%22%7D%29%3B%0A%0A%20%20%20%20%20%20%20%20%0A%20%20%20%20%20%20%20%20%20%20%20%20var%20html_85e467a269234e6180f88eff673185ef%20%3D%20%24%28%60%3Cdiv%20id%3D%22html_85e467a269234e6180f88eff673185ef%22%20style%3D%22width%3A%20100.0%25%3B%20height%3A%20100.0%25%3B%22%3EMitchPiggon9%3A%20%40TommyBerwick9%20%40richmorris82%20Ahhhh%20yeah%20funny%20one%20really%20because%20this%20conversation%20would%20of%20been%20very%20different%20last%20season%2C%20and%20that%E2%80%99s%20football%21%3C/div%3E%60%29%5B0%5D%3B%0A%20%20%20%20%20%20%20%20%20%20%20%20popup_ea146dea82084623abaa44829d7161de.setContent%28html_85e467a269234e6180f88eff673185ef%29%3B%0A%20%20%20%20%20%20%20%20%0A%0A%20%20%20%20%20%20%20%20marker_c53a0d61ee6e4b2f93f5c3fa70cbf240.bindPopup%28popup_ea146dea82084623abaa44829d7161de%29%0A%20%20%20%20%20%20%20%20%3B%0A%0A%20%20%20%20%20%20%20%20%0A%20%20%20%20%0A%20%20%20%20%0A%20%20%20%20%20%20%20%20%20%20%20%20var%20marker_130340ef092743f989842cf1576e5a57%20%3D%20L.marker%28%0A%20%20%20%20%20%20%20%20%20%20%20%20%20%20%20%20%5B40.9699889%2C%20-77.7278831%5D%2C%0A%20%20%20%20%20%20%20%20%20%20%20%20%20%20%20%20%7B%7D%0A%20%20%20%20%20%20%20%20%20%20%20%20%29.addTo%28map_156abba5ea7e485fb9bb2ad67806217a%29%3B%0A%20%20%20%20%20%20%20%20%0A%20%20%20%20%0A%20%20%20%20%20%20%20%20var%20popup_ab2529a257a54322b2decea6cae3c2fc%20%3D%20L.popup%28%7B%22maxWidth%22%3A%20%22100%25%22%7D%29%3B%0A%0A%20%20%20%20%20%20%20%20%0A%20%20%20%20%20%20%20%20%20%20%20%20var%20html_aabcc14069d9456b93f12565fb313f65%20%3D%20%24%28%60%3Cdiv%20id%3D%22html_aabcc14069d9456b93f12565fb313f65%22%20style%3D%22width%3A%20100.0%25%3B%20height%3A%20100.0%25%3B%22%3EEben_Ik%3A%20Football%20Speedsters...%20I%20don%27t%20rate%20them%2C%20they%20don%27t%20have%20sense%2C%20give%20me%20a%20technical%20player%3C/div%3E%60%29%5B0%5D%3B%0A%20%20%20%20%20%20%20%20%20%20%20%20popup_ab2529a257a54322b2decea6cae3c2fc.setContent%28html_aabcc14069d9456b93f12565fb313f65%29%3B%0A%20%20%20%20%20%20%20%20%0A%0A%20%20%20%20%20%20%20%20marker_130340ef092743f989842cf1576e5a57.bindPopup%28popup_ab2529a257a54322b2decea6cae3c2fc%29%0A%20%20%20%20%20%20%20%20%3B%0A%0A%20%20%20%20%20%20%20%20%0A%20%20%20%20%0A%20%20%20%20%0A%20%20%20%20%20%20%20%20%20%20%20%20var%20marker_8976f63e57cd4b2fb6737daa121f55eb%20%3D%20L.marker%28%0A%20%20%20%20%20%20%20%20%20%20%20%20%20%20%20%20%5B53.4018582%2C%20-2.5680223597163%5D%2C%0A%20%20%20%20%20%20%20%20%20%20%20%20%20%20%20%20%7B%7D%0A%20%20%20%20%20%20%20%20%20%20%20%20%29.addTo%28map_156abba5ea7e485fb9bb2ad67806217a%29%3B%0A%20%20%20%20%20%20%20%20%0A%20%20%20%20%0A%20%20%20%20%20%20%20%20var%20popup_6da455d701674e0aa086c7b553b77396%20%3D%20L.popup%28%7B%22maxWidth%22%3A%20%22100%25%22%7D%29%3B%0A%0A%20%20%20%20%20%20%20%20%0A%20%20%20%20%20%20%20%20%20%20%20%20var%20html_d5529fc1a45d49d89ed60ce078873e71%20%3D%20%24%28%60%3Cdiv%20id%3D%22html_d5529fc1a45d49d89ed60ce078873e71%22%20style%3D%22width%3A%20100.0%25%3B%20height%3A%20100.0%25%3B%22%3EWolfpack_FC_%3A%20FUN%20WOLFPACK%20FACT%20-%20Wolfpack%20have%20WON%20more%20league%20games%20at%20home%20in%202021%20than%20Liverpool%20Football%20Club.%20We%20are%20also%20UNBEATEN%20at%20home%20in%202021.%20%23UTFP%20%23wolfpack%3C/div%3E%60%29%5B0%5D%3B%0A%20%20%20%20%20%20%20%20%20%20%20%20popup_6da455d701674e0aa086c7b553b77396.setContent%28html_d5529fc1a45d49d89ed60ce078873e71%29%3B%0A%20%20%20%20%20%20%20%20%0A%0A%20%20%20%20%20%20%20%20marker_8976f63e57cd4b2fb6737daa121f55eb.bindPopup%28popup_6da455d701674e0aa086c7b553b77396%29%0A%20%20%20%20%20%20%20%20%3B%0A%0A%20%20%20%20%20%20%20%20%0A%20%20%20%20%0A%20%20%20%20%0A%20%20%20%20%20%20%20%20%20%20%20%20var%20marker_8e4457cb2ef04b2ea2464155f21dc963%20%3D%20L.marker%28%0A%20%20%20%20%20%20%20%20%20%20%20%20%20%20%20%20%5B52.7954791%2C%20-0.540240286617432%5D%2C%0A%20%20%20%20%20%20%20%20%20%20%20%20%20%20%20%20%7B%7D%0A%20%20%20%20%20%20%20%20%20%20%20%20%29.addTo%28map_156abba5ea7e485fb9bb2ad67806217a%29%3B%0A%20%20%20%20%20%20%20%20%0A%20%20%20%20%0A%20%20%20%20%20%20%20%20var%20popup_b588e1fce40742cba82e9f3cdfbeb56a%20%3D%20L.popup%28%7B%22maxWidth%22%3A%20%22100%25%22%7D%29%3B%0A%0A%20%20%20%20%20%20%20%20%0A%20%20%20%20%20%20%20%20%20%20%20%20var%20html_56b2d4255b6b45248eae70d59397c806%20%3D%20%24%28%60%3Cdiv%20id%3D%22html_56b2d4255b6b45248eae70d59397c806%22%20style%3D%22width%3A%20100.0%25%3B%20height%3A%20100.0%25%3B%22%3EJohnSchwartz76%3A%20%40BorisJohnson%20is%20more%20interested%20in%20%23racism%20in%20football%20but%20not%20in%20%23ArmenianGenocide%20%2C%20no%20sound%20yet%2C%20nothing%20from%20%40Nus_Ghani%20who%20cannot%20stop%20talking%20about%20how%20horrible%20%23Genocide%20is%2C%20as%20long%20as%20it%E2%80%99s%20done%20by%20countries%20that%20are%20not%20our%20allies...%20like%20%23Russia%20or%20%23China%20not%20%23Turkey%3C/div%3E%60%29%5B0%5D%3B%0A%20%20%20%20%20%20%20%20%20%20%20%20popup_b588e1fce40742cba82e9f3cdfbeb56a.setContent%28html_56b2d4255b6b45248eae70d59397c806%29%3B%0A%20%20%20%20%20%20%20%20%0A%0A%20%20%20%20%20%20%20%20marker_8e4457cb2ef04b2ea2464155f21dc963.bindPopup%28popup_b588e1fce40742cba82e9f3cdfbeb56a%29%0A%20%20%20%20%20%20%20%20%3B%0A%0A%20%20%20%20%20%20%20%20%0A%20%20%20%20%0A%20%20%20%20%0A%20%20%20%20%20%20%20%20%20%20%20%20var%20marker_6d0958f513ea454d8ba4e7ddead65f70%20%3D%20L.marker%28%0A%20%20%20%20%20%20%20%20%20%20%20%20%20%20%20%20%5B51.0%2C%20-0.416667%5D%2C%0A%20%20%20%20%20%20%20%20%20%20%20%20%20%20%20%20%7B%7D%0A%20%20%20%20%20%20%20%20%20%20%20%20%29.addTo%28map_156abba5ea7e485fb9bb2ad67806217a%29%3B%0A%20%20%20%20%20%20%20%20%0A%20%20%20%20%0A%20%20%20%20%20%20%20%20var%20popup_ee6c52a5a40f4c528232f0fc1ca52149%20%3D%20L.popup%28%7B%22maxWidth%22%3A%20%22100%25%22%7D%29%3B%0A%0A%20%20%20%20%20%20%20%20%0A%20%20%20%20%20%20%20%20%20%20%20%20var%20html_27ad7871c35d465897efcfebab2d0093%20%3D%20%24%28%60%3Cdiv%20id%3D%22html_27ad7871c35d465897efcfebab2d0093%22%20style%3D%22width%3A%20100.0%25%3B%20height%3A%20100.0%25%3B%22%3Emattjukes99%3A%20Mad%20how%20you%20might%20be%20able%20to%20fly%20to%20another%20country%20before%20you%20can%20go%20to%20a%20football%20stadium%20%F0%9F%A4%B7%F0%9F%8F%BC%E2%80%8D%E2%99%82%EF%B8%8F%3C/div%3E%60%29%5B0%5D%3B%0A%20%20%20%20%20%20%20%20%20%20%20%20popup_ee6c52a5a40f4c528232f0fc1ca52149.setContent%28html_27ad7871c35d465897efcfebab2d0093%29%3B%0A%20%20%20%20%20%20%20%20%0A%0A%20%20%20%20%20%20%20%20marker_6d0958f513ea454d8ba4e7ddead65f70.bindPopup%28popup_ee6c52a5a40f4c528232f0fc1ca52149%29%0A%20%20%20%20%20%20%20%20%3B%0A%0A%20%20%20%20%20%20%20%20%0A%20%20%20%20%0A%20%20%20%20%0A%20%20%20%20%20%20%20%20%20%20%20%20var%20marker_9efa83eefe54466890eaa425af0ce0e0%20%3D%20L.marker%28%0A%20%20%20%20%20%20%20%20%20%20%20%20%20%20%20%20%5B58.33480585%2C%2022.0123614091486%5D%2C%0A%20%20%20%20%20%20%20%20%20%20%20%20%20%20%20%20%7B%7D%0A%20%20%20%20%20%20%20%20%20%20%20%20%29.addTo%28map_156abba5ea7e485fb9bb2ad67806217a%29%3B%0A%20%20%20%20%20%20%20%20%0A%20%20%20%20%0A%20%20%20%20%20%20%20%20var%20popup_c74ea52e7aa64e7fa32cf7ceda68eb32%20%3D%20L.popup%28%7B%22maxWidth%22%3A%20%22100%25%22%7D%29%3B%0A%0A%20%20%20%20%20%20%20%20%0A%20%20%20%20%20%20%20%20%20%20%20%20var%20html_5487d4cab5e74cd885abd7afaa213131%20%3D%20%24%28%60%3Cdiv%20id%3D%22html_5487d4cab5e74cd885abd7afaa213131%22%20style%3D%22width%3A%20100.0%25%3B%20height%3A%20100.0%25%3B%22%3E4ngelvrse%3A%20athletes%20should%20not%20be%20able%20to%20preach%20about%20grades%20like%20you%E2%80%99re%20given%20so%20much%20leeway%20and%20you%20hardly%20have%20to%20try%20bc%20you%20know%20you%20can%20just%20play%20your%20sport%20as%20a%20career%2C%20ESPECIALLY%20football%20players%F0%9F%98%AD%3C/div%3E%60%29%5B0%5D%3B%0A%20%20%20%20%20%20%20%20%20%20%20%20popup_c74ea52e7aa64e7fa32cf7ceda68eb32.setContent%28html_5487d4cab5e74cd885abd7afaa213131%29%3B%0A%20%20%20%20%20%20%20%20%0A%0A%20%20%20%20%20%20%20%20marker_9efa83eefe54466890eaa425af0ce0e0.bindPopup%28popup_c74ea52e7aa64e7fa32cf7ceda68eb32%29%0A%20%20%20%20%20%20%20%20%3B%0A%0A%20%20%20%20%20%20%20%20%0A%20%20%20%20%0A%20%20%20%20%0A%20%20%20%20%20%20%20%20%20%20%20%20var%20marker_7775138a0b874e20b660758cd79af624%20%3D%20L.marker%28%0A%20%20%20%20%20%20%20%20%20%20%20%20%20%20%20%20%5B51.5073219%2C%20-0.1276474%5D%2C%0A%20%20%20%20%20%20%20%20%20%20%20%20%20%20%20%20%7B%7D%0A%20%20%20%20%20%20%20%20%20%20%20%20%29.addTo%28map_156abba5ea7e485fb9bb2ad67806217a%29%3B%0A%20%20%20%20%20%20%20%20%0A%20%20%20%20%0A%20%20%20%20%20%20%20%20var%20popup_01357b3f84924d6e91c21ffcc45a985d%20%3D%20L.popup%28%7B%22maxWidth%22%3A%20%22100%25%22%7D%29%3B%0A%0A%20%20%20%20%20%20%20%20%0A%20%20%20%20%20%20%20%20%20%20%20%20var%20html_1114887f949c434299ee50aa4c1f697a%20%3D%20%24%28%60%3Cdiv%20id%3D%22html_1114887f949c434299ee50aa4c1f697a%22%20style%3D%22width%3A%20100.0%25%3B%20height%3A%20100.0%25%3B%22%3E_Kings21%3A%20Playing%20football%20with%20Dan%20James%20must%20be%20so%20frustrating%3C/div%3E%60%29%5B0%5D%3B%0A%20%20%20%20%20%20%20%20%20%20%20%20popup_01357b3f84924d6e91c21ffcc45a985d.setContent%28html_1114887f949c434299ee50aa4c1f697a%29%3B%0A%20%20%20%20%20%20%20%20%0A%0A%20%20%20%20%20%20%20%20marker_7775138a0b874e20b660758cd79af624.bindPopup%28popup_01357b3f84924d6e91c21ffcc45a985d%29%0A%20%20%20%20%20%20%20%20%3B%0A%0A%20%20%20%20%20%20%20%20%0A%20%20%20%20%0A%20%20%20%20%0A%20%20%20%20%20%20%20%20%20%20%20%20var%20marker_9da31f4d13db4324a33ed3588e11b03e%20%3D%20L.marker%28%0A%20%20%20%20%20%20%20%20%20%20%20%20%20%20%20%20%5B55.856656%2C%20-4.2435817%5D%2C%0A%20%20%20%20%20%20%20%20%20%20%20%20%20%20%20%20%7B%7D%0A%20%20%20%20%20%20%20%20%20%20%20%20%29.addTo%28map_156abba5ea7e485fb9bb2ad67806217a%29%3B%0A%20%20%20%20%20%20%20%20%0A%20%20%20%20%0A%20%20%20%20%20%20%20%20var%20popup_29392cca02cb492a927cb6dc5e3a8527%20%3D%20L.popup%28%7B%22maxWidth%22%3A%20%22100%25%22%7D%29%3B%0A%0A%20%20%20%20%20%20%20%20%0A%20%20%20%20%20%20%20%20%20%20%20%20var%20html_a632e134ce2145b9b68fb9aedc766e05%20%3D%20%24%28%60%3Cdiv%20id%3D%22html_a632e134ce2145b9b68fb9aedc766e05%22%20style%3D%22width%3A%20100.0%25%3B%20height%3A%20100.0%25%3B%22%3Emoonlighter1872%3A%20Four%20lads%20had%20a%20dream%20to%20start%20a%20football%20team.%20%20%2055%20titles%20we%E2%80%99re%20still%20going%20strong.%20https%3A//t.co/G2GVTHQ6N5%3C/div%3E%60%29%5B0%5D%3B%0A%20%20%20%20%20%20%20%20%20%20%20%20popup_29392cca02cb492a927cb6dc5e3a8527.setContent%28html_a632e134ce2145b9b68fb9aedc766e05%29%3B%0A%20%20%20%20%20%20%20%20%0A%0A%20%20%20%20%20%20%20%20marker_9da31f4d13db4324a33ed3588e11b03e.bindPopup%28popup_29392cca02cb492a927cb6dc5e3a8527%29%0A%20%20%20%20%20%20%20%20%3B%0A%0A%20%20%20%20%20%20%20%20%0A%20%20%20%20%0A%20%20%20%20%0A%20%20%20%20%20%20%20%20%20%20%20%20var%20marker_8276359258c5418bb1c4c43abb6227a4%20%3D%20L.marker%28%0A%20%20%20%20%20%20%20%20%20%20%20%20%20%20%20%20%5B35.8885993%2C%2014.4476911%5D%2C%0A%20%20%20%20%20%20%20%20%20%20%20%20%20%20%20%20%7B%7D%0A%20%20%20%20%20%20%20%20%20%20%20%20%29.addTo%28map_156abba5ea7e485fb9bb2ad67806217a%29%3B%0A%20%20%20%20%20%20%20%20%0A%20%20%20%20%0A%20%20%20%20%20%20%20%20var%20popup_9671fd6daa9f4a07a702c14c534ff32d%20%3D%20L.popup%28%7B%22maxWidth%22%3A%20%22100%25%22%7D%29%3B%0A%0A%20%20%20%20%20%20%20%20%0A%20%20%20%20%20%20%20%20%20%20%20%20var%20html_d15b87b99129420b94c17f950e8fc7bc%20%3D%20%24%28%60%3Cdiv%20id%3D%22html_d15b87b99129420b94c17f950e8fc7bc%22%20style%3D%22width%3A%20100.0%25%3B%20height%3A%20100.0%25%3B%22%3EGianTheRed%3A%20%40WengerAfc49%20-Sacked%20the%20manager%20that%20put%20you%20on%20the%20football%20map%20-55%20unemployed%20-A%20mascot%20sacked%20-Spent%20millions%20on%20the%20likes%20of%20Gabriel%20and%20Willian%20-Applied%20for%20the%20ESL%20%28like%20the%20other%205%20clubs%29%3C/div%3E%60%29%5B0%5D%3B%0A%20%20%20%20%20%20%20%20%20%20%20%20popup_9671fd6daa9f4a07a702c14c534ff32d.setContent%28html_d15b87b99129420b94c17f950e8fc7bc%29%3B%0A%20%20%20%20%20%20%20%20%0A%0A%20%20%20%20%20%20%20%20marker_8276359258c5418bb1c4c43abb6227a4.bindPopup%28popup_9671fd6daa9f4a07a702c14c534ff32d%29%0A%20%20%20%20%20%20%20%20%3B%0A%0A%20%20%20%20%20%20%20%20%0A%20%20%20%20%0A%20%20%20%20%0A%20%20%20%20%20%20%20%20%20%20%20%20var%20marker_6cdc30cb7b8849898f8e49927dda8d31%20%3D%20L.marker%28%0A%20%20%20%20%20%20%20%20%20%20%20%20%20%20%20%20%5B54.8719691%2C%20-1.6941696%5D%2C%0A%20%20%20%20%20%20%20%20%20%20%20%20%20%20%20%20%7B%7D%0A%20%20%20%20%20%20%20%20%20%20%20%20%29.addTo%28map_156abba5ea7e485fb9bb2ad67806217a%29%3B%0A%20%20%20%20%20%20%20%20%0A%20%20%20%20%0A%20%20%20%20%20%20%20%20var%20popup_4eac7e30ca7f43fd9bd1cc87aa89d64a%20%3D%20L.popup%28%7B%22maxWidth%22%3A%20%22100%25%22%7D%29%3B%0A%0A%20%20%20%20%20%20%20%20%0A%20%20%20%20%20%20%20%20%20%20%20%20var%20html_ea4e4473b6ae4e0a8ea768db4048079f%20%3D%20%24%28%60%3Cdiv%20id%3D%22html_ea4e4473b6ae4e0a8ea768db4048079f%22%20style%3D%22width%3A%20100.0%25%3B%20height%3A%20100.0%25%3B%22%3E4LeggedGeordie%3A%20%40TaylorandPayne%20The%20fa%20need%20to%20step%20in%20and%20sanction%20him%2C%20there%20is%20no%20place%20for%20this%20type%20of%20thing%20in%20modern%20football%20%23NUFC%3C/div%3E%60%29%5B0%5D%3B%0A%20%20%20%20%20%20%20%20%20%20%20%20popup_4eac7e30ca7f43fd9bd1cc87aa89d64a.setContent%28html_ea4e4473b6ae4e0a8ea768db4048079f%29%3B%0A%20%20%20%20%20%20%20%20%0A%0A%20%20%20%20%20%20%20%20marker_6cdc30cb7b8849898f8e49927dda8d31.bindPopup%28popup_4eac7e30ca7f43fd9bd1cc87aa89d64a%29%0A%20%20%20%20%20%20%20%20%3B%0A%0A%20%20%20%20%20%20%20%20%0A%20%20%20%20%0A%20%20%20%20%0A%20%20%20%20%20%20%20%20%20%20%20%20var%20marker_53465324c54c4b4baf805ffba55200b7%20%3D%20L.marker%28%0A%20%20%20%20%20%20%20%20%20%20%20%20%20%20%20%20%5B41.7318715%2C%20-93.6003837%5D%2C%0A%20%20%20%20%20%20%20%20%20%20%20%20%20%20%20%20%7B%7D%0A%20%20%20%20%20%20%20%20%20%20%20%20%29.addTo%28map_156abba5ea7e485fb9bb2ad67806217a%29%3B%0A%20%20%20%20%20%20%20%20%0A%20%20%20%20%0A%20%20%20%20%20%20%20%20var%20popup_6d6d1b3c969347bda2904f1a03885cf6%20%3D%20L.popup%28%7B%22maxWidth%22%3A%20%22100%25%22%7D%29%3B%0A%0A%20%20%20%20%20%20%20%20%0A%20%20%20%20%20%20%20%20%20%20%20%20var%20html_f3df196f95a0422e93376eaadf36ffca%20%3D%20%24%28%60%3Cdiv%20id%3D%22html_f3df196f95a0422e93376eaadf36ffca%22%20style%3D%22width%3A%20100.0%25%3B%20height%3A%20100.0%25%3B%22%3Eskohlh%3A%20Is%20it%20football%20season%20yet%21%20%40CycloneFB%20https%3A//t.co/OEMdFmgrvU%3C/div%3E%60%29%5B0%5D%3B%0A%20%20%20%20%20%20%20%20%20%20%20%20popup_6d6d1b3c969347bda2904f1a03885cf6.setContent%28html_f3df196f95a0422e93376eaadf36ffca%29%3B%0A%20%20%20%20%20%20%20%20%0A%0A%20%20%20%20%20%20%20%20marker_53465324c54c4b4baf805ffba55200b7.bindPopup%28popup_6d6d1b3c969347bda2904f1a03885cf6%29%0A%20%20%20%20%20%20%20%20%3B%0A%0A%20%20%20%20%20%20%20%20%0A%20%20%20%20%0A%20%20%20%20%0A%20%20%20%20%20%20%20%20%20%20%20%20var%20marker_a3383e20b67d46cab41c39907510b268%20%3D%20L.marker%28%0A%20%20%20%20%20%20%20%20%20%20%20%20%20%20%20%20%5B24.8347438366574%2C%20121.08260240745%5D%2C%0A%20%20%20%20%20%20%20%20%20%20%20%20%20%20%20%20%7B%7D%0A%20%20%20%20%20%20%20%20%20%20%20%20%29.addTo%28map_156abba5ea7e485fb9bb2ad67806217a%29%3B%0A%20%20%20%20%20%20%20%20%0A%20%20%20%20%0A%20%20%20%20%20%20%20%20var%20popup_c981eae2c2b645c89e777a61eb4ee641%20%3D%20L.popup%28%7B%22maxWidth%22%3A%20%22100%25%22%7D%29%3B%0A%0A%20%20%20%20%20%20%20%20%0A%20%20%20%20%20%20%20%20%20%20%20%20var%20html_891db7f11ef444c686ec90a80f3b82c1%20%3D%20%24%28%60%3Cdiv%20id%3D%22html_891db7f11ef444c686ec90a80f3b82c1%22%20style%3D%22width%3A%20100.0%25%3B%20height%3A%20100.0%25%3B%22%3ECanesLegacy%3A%20132%20days%20until%20Canes%20Football.%20%20%20Albert%20Bentley%20will%20always%20be%20one%20of%20the%20first%20names%20mentioned%20when%20fans%20talk%20about%20UM%E2%80%99s%20first%20national%20title.%20The%20%40UMSHoF%20back%20started%20his%20career%20as%20a%20walkon%20and%20ended%20it%20by%20scoring%20the%20eventual%20game%20winning%20TD%20in%20the%20Orange%20Bowl.%20%23CanesCountdown%20https%3A//t.co/gDpyH3LWAN%3C/div%3E%60%29%5B0%5D%3B%0A%20%20%20%20%20%20%20%20%20%20%20%20popup_c981eae2c2b645c89e777a61eb4ee641.setContent%28html_891db7f11ef444c686ec90a80f3b82c1%29%3B%0A%20%20%20%20%20%20%20%20%0A%0A%20%20%20%20%20%20%20%20marker_a3383e20b67d46cab41c39907510b268.bindPopup%28popup_c981eae2c2b645c89e777a61eb4ee641%29%0A%20%20%20%20%20%20%20%20%3B%0A%0A%20%20%20%20%20%20%20%20%0A%20%20%20%20%0A%20%20%20%20%0A%20%20%20%20%20%20%20%20%20%20%20%20var%20marker_57918db2103e419c8c6e36b67e9d5b6c%20%3D%20L.marker%28%0A%20%20%20%20%20%20%20%20%20%20%20%20%20%20%20%20%5B52.7954791%2C%20-0.540240286617432%5D%2C%0A%20%20%20%20%20%20%20%20%20%20%20%20%20%20%20%20%7B%7D%0A%20%20%20%20%20%20%20%20%20%20%20%20%29.addTo%28map_156abba5ea7e485fb9bb2ad67806217a%29%3B%0A%20%20%20%20%20%20%20%20%0A%20%20%20%20%0A%20%20%20%20%20%20%20%20var%20popup_e3652e6a5fa044e19322db09f19971cd%20%3D%20L.popup%28%7B%22maxWidth%22%3A%20%22100%25%22%7D%29%3B%0A%0A%20%20%20%20%20%20%20%20%0A%20%20%20%20%20%20%20%20%20%20%20%20var%20html_f65bde5b52184701be17f8966d570a89%20%3D%20%24%28%60%3Cdiv%20id%3D%22html_f65bde5b52184701be17f8966d570a89%22%20style%3D%22width%3A%20100.0%25%3B%20height%3A%20100.0%25%3B%22%3EAndrewT_MUFC%3A%20What%20football%20is%20all%20about%20and%20why%20football%20isn%27t%20football%20without%20fans%20https%3A//t.co/fkgURcWAMO%3C/div%3E%60%29%5B0%5D%3B%0A%20%20%20%20%20%20%20%20%20%20%20%20popup_e3652e6a5fa044e19322db09f19971cd.setContent%28html_f65bde5b52184701be17f8966d570a89%29%3B%0A%20%20%20%20%20%20%20%20%0A%0A%20%20%20%20%20%20%20%20marker_57918db2103e419c8c6e36b67e9d5b6c.bindPopup%28popup_e3652e6a5fa044e19322db09f19971cd%29%0A%20%20%20%20%20%20%20%20%3B%0A%0A%20%20%20%20%20%20%20%20%0A%20%20%20%20%0A%20%20%20%20%0A%20%20%20%20%20%20%20%20%20%20%20%20var%20marker_f42b330c5d1b4bd994b6ee19411e6778%20%3D%20L.marker%28%0A%20%20%20%20%20%20%20%20%20%20%20%20%20%20%20%20%5B54.9770924%2C%20-1.6142059%5D%2C%0A%20%20%20%20%20%20%20%20%20%20%20%20%20%20%20%20%7B%7D%0A%20%20%20%20%20%20%20%20%20%20%20%20%29.addTo%28map_156abba5ea7e485fb9bb2ad67806217a%29%3B%0A%20%20%20%20%20%20%20%20%0A%20%20%20%20%0A%20%20%20%20%20%20%20%20var%20popup_2252971aa37940db848020533ac66ab1%20%3D%20L.popup%28%7B%22maxWidth%22%3A%20%22100%25%22%7D%29%3B%0A%0A%20%20%20%20%20%20%20%20%0A%20%20%20%20%20%20%20%20%20%20%20%20var%20html_144a71612795420797e8e68b95b89d15%20%3D%20%24%28%60%3Cdiv%20id%3D%22html_144a71612795420797e8e68b95b89d15%22%20style%3D%22width%3A%20100.0%25%3B%20height%3A%20100.0%25%3B%22%3Eheal_wayne%3A%20%40Aaron_Robbo_%20Nothing%20worse%20than%20been%20a%20football%20widow%20%F0%9F%98%94%F0%9F%A4%A7%3C/div%3E%60%29%5B0%5D%3B%0A%20%20%20%20%20%20%20%20%20%20%20%20popup_2252971aa37940db848020533ac66ab1.setContent%28html_144a71612795420797e8e68b95b89d15%29%3B%0A%20%20%20%20%20%20%20%20%0A%0A%20%20%20%20%20%20%20%20marker_f42b330c5d1b4bd994b6ee19411e6778.bindPopup%28popup_2252971aa37940db848020533ac66ab1%29%0A%20%20%20%20%20%20%20%20%3B%0A%0A%20%20%20%20%20%20%20%20%0A%20%20%20%20%0A%20%20%20%20%0A%20%20%20%20%20%20%20%20%20%20%20%20var%20marker_a21c28b240fc4ba98101fc462d73911a%20%3D%20L.marker%28%0A%20%20%20%20%20%20%20%20%20%20%20%20%20%20%20%20%5B52.7954791%2C%20-0.540240286617432%5D%2C%0A%20%20%20%20%20%20%20%20%20%20%20%20%20%20%20%20%7B%7D%0A%20%20%20%20%20%20%20%20%20%20%20%20%29.addTo%28map_156abba5ea7e485fb9bb2ad67806217a%29%3B%0A%20%20%20%20%20%20%20%20%0A%20%20%20%20%0A%20%20%20%20%20%20%20%20var%20popup_a4328d3cb83942b785a4c8535347fa2d%20%3D%20L.popup%28%7B%22maxWidth%22%3A%20%22100%25%22%7D%29%3B%0A%0A%20%20%20%20%20%20%20%20%0A%20%20%20%20%20%20%20%20%20%20%20%20var%20html_265b6dd4a7704d5ba35db7bf67b9aef5%20%3D%20%24%28%60%3Cdiv%20id%3D%22html_265b6dd4a7704d5ba35db7bf67b9aef5%22%20style%3D%22width%3A%20100.0%25%3B%20height%3A%20100.0%25%3B%22%3EInfamousDjK%3A%20James%20zero%20football%20brain%3C/div%3E%60%29%5B0%5D%3B%0A%20%20%20%20%20%20%20%20%20%20%20%20popup_a4328d3cb83942b785a4c8535347fa2d.setContent%28html_265b6dd4a7704d5ba35db7bf67b9aef5%29%3B%0A%20%20%20%20%20%20%20%20%0A%0A%20%20%20%20%20%20%20%20marker_a21c28b240fc4ba98101fc462d73911a.bindPopup%28popup_a4328d3cb83942b785a4c8535347fa2d%29%0A%20%20%20%20%20%20%20%20%3B%0A%0A%20%20%20%20%20%20%20%20%0A%20%20%20%20%0A%20%20%20%20%0A%20%20%20%20%20%20%20%20%20%20%20%20var%20marker_96c823ef68cf47b49176a4e8dc685ddd%20%3D%20L.marker%28%0A%20%20%20%20%20%20%20%20%20%20%20%20%20%20%20%20%5B52.5122154%2C%2013.4502904%5D%2C%0A%20%20%20%20%20%20%20%20%20%20%20%20%20%20%20%20%7B%7D%0A%20%20%20%20%20%20%20%20%20%20%20%20%29.addTo%28map_156abba5ea7e485fb9bb2ad67806217a%29%3B%0A%20%20%20%20%20%20%20%20%0A%20%20%20%20%0A%20%20%20%20%20%20%20%20var%20popup_67673a326746481f80382943e189c127%20%3D%20L.popup%28%7B%22maxWidth%22%3A%20%22100%25%22%7D%29%3B%0A%0A%20%20%20%20%20%20%20%20%0A%20%20%20%20%20%20%20%20%20%20%20%20var%20html_931c12cfb55c4502bc77ae75ccdad0fd%20%3D%20%24%28%60%3Cdiv%20id%3D%22html_931c12cfb55c4502bc77ae75ccdad0fd%22%20style%3D%22width%3A%20100.0%25%3B%20height%3A%20100.0%25%3B%22%3Eslasting%3A%20This%20picture%20looks%20like%20anyone%20actually%20doing%20something%20in%20that%20match%2C%20which%20clearly%20wasn%E2%80%99t%20the%20case.%20One%20of%20the%20darkest%20hours%20in%20Germany%E2%80%99s%20football%20history.%3C/div%3E%60%29%5B0%5D%3B%0A%20%20%20%20%20%20%20%20%20%20%20%20popup_67673a326746481f80382943e189c127.setContent%28html_931c12cfb55c4502bc77ae75ccdad0fd%29%3B%0A%20%20%20%20%20%20%20%20%0A%0A%20%20%20%20%20%20%20%20marker_96c823ef68cf47b49176a4e8dc685ddd.bindPopup%28popup_67673a326746481f80382943e189c127%29%0A%20%20%20%20%20%20%20%20%3B%0A%0A%20%20%20%20%20%20%20%20%0A%20%20%20%20%0A%20%20%20%20%0A%20%20%20%20%20%20%20%20%20%20%20%20var%20marker_652668ea1a484c93a7778bd9d6478002%20%3D%20L.marker%28%0A%20%20%20%20%20%20%20%20%20%20%20%20%20%20%20%20%5B52.3418147%2C%201.5001649%5D%2C%0A%20%20%20%20%20%20%20%20%20%20%20%20%20%20%20%20%7B%7D%0A%20%20%20%20%20%20%20%20%20%20%20%20%29.addTo%28map_156abba5ea7e485fb9bb2ad67806217a%29%3B%0A%20%20%20%20%20%20%20%20%0A%20%20%20%20%0A%20%20%20%20%20%20%20%20var%20popup_25df04cc7d3040238c40f4960d683c72%20%3D%20L.popup%28%7B%22maxWidth%22%3A%20%22100%25%22%7D%29%3B%0A%0A%20%20%20%20%20%20%20%20%0A%20%20%20%20%20%20%20%20%20%20%20%20var%20html_8c6a8bd4a4134cb7a1895718c94ae0ea%20%3D%20%24%28%60%3Cdiv%20id%3D%22html_8c6a8bd4a4134cb7a1895718c94ae0ea%22%20style%3D%22width%3A%20100.0%25%3B%20height%3A%20100.0%25%3B%22%3EHTFC_Women%3A%20Chantry%20Grasshoppers%20are%20the%20winners%20of%20today%27s%20friendly.%20The%20final%20score%20doesn%27t%20fairly%20reflect%20the%2090mins%2C%20some%20great%20football%20played%20by%20Halesworth%20%26amp%3B%20unfortunate%20not%20to%20grab%20a%20goal%20or%20two.%20%20Unlucky%20Ladies%2C%20we%20learn%20and%20move%20on.%20%20CHA%203%20-%200%20HWT%20%20Good%20game%2C%20%40Chantry_Hoppers%3C/div%3E%60%29%5B0%5D%3B%0A%20%20%20%20%20%20%20%20%20%20%20%20popup_25df04cc7d3040238c40f4960d683c72.setContent%28html_8c6a8bd4a4134cb7a1895718c94ae0ea%29%3B%0A%20%20%20%20%20%20%20%20%0A%0A%20%20%20%20%20%20%20%20marker_652668ea1a484c93a7778bd9d6478002.bindPopup%28popup_25df04cc7d3040238c40f4960d683c72%29%0A%20%20%20%20%20%20%20%20%3B%0A%0A%20%20%20%20%20%20%20%20%0A%20%20%20%20%0A%20%20%20%20%0A%20%20%20%20%20%20%20%20%20%20%20%20var%20marker_94a207928941495d891d54907f0c119d%20%3D%20L.marker%28%0A%20%20%20%20%20%20%20%20%20%20%20%20%20%20%20%20%5B52.7954791%2C%20-0.540240286617432%5D%2C%0A%20%20%20%20%20%20%20%20%20%20%20%20%20%20%20%20%7B%7D%0A%20%20%20%20%20%20%20%20%20%20%20%20%29.addTo%28map_156abba5ea7e485fb9bb2ad67806217a%29%3B%0A%20%20%20%20%20%20%20%20%0A%20%20%20%20%0A%20%20%20%20%20%20%20%20var%20popup_f790de5ab0664f97b77cd65489261bfe%20%3D%20L.popup%28%7B%22maxWidth%22%3A%20%22100%25%22%7D%29%3B%0A%0A%20%20%20%20%20%20%20%20%0A%20%20%20%20%20%20%20%20%20%20%20%20var%20html_946e6ac64c684d56995bba5e1620ad67%20%3D%20%24%28%60%3Cdiv%20id%3D%22html_946e6ac64c684d56995bba5e1620ad67%22%20style%3D%22width%3A%20100.0%25%3B%20height%3A%20100.0%25%3B%22%3Elittledude_21%3A%20%40ShiinaBR%20%40ESFortniteBR%20Okay%2C%20as%20much%20as%20I%20genuinely%20hate%20football%20%28no%20word%20of%20a%20lie%29%20this%20skin%20is%20SIC%20-%20especially%20that%20robot%20one%21%3C/div%3E%60%29%5B0%5D%3B%0A%20%20%20%20%20%20%20%20%20%20%20%20popup_f790de5ab0664f97b77cd65489261bfe.setContent%28html_946e6ac64c684d56995bba5e1620ad67%29%3B%0A%20%20%20%20%20%20%20%20%0A%0A%20%20%20%20%20%20%20%20marker_94a207928941495d891d54907f0c119d.bindPopup%28popup_f790de5ab0664f97b77cd65489261bfe%29%0A%20%20%20%20%20%20%20%20%3B%0A%0A%20%20%20%20%20%20%20%20%0A%20%20%20%20%0A%20%20%20%20%0A%20%20%20%20%20%20%20%20%20%20%20%20var%20marker_c0120646f0c54b49a3f4fb6cdd07ea9f%20%3D%20L.marker%28%0A%20%20%20%20%20%20%20%20%20%20%20%20%20%20%20%20%5B-1.2832533%2C%2036.8172449%5D%2C%0A%20%20%20%20%20%20%20%20%20%20%20%20%20%20%20%20%7B%7D%0A%20%20%20%20%20%20%20%20%20%20%20%20%29.addTo%28map_156abba5ea7e485fb9bb2ad67806217a%29%3B%0A%20%20%20%20%20%20%20%20%0A%20%20%20%20%0A%20%20%20%20%20%20%20%20var%20popup_dcf2745faeb847db93c58a48ce68e61b%20%3D%20L.popup%28%7B%22maxWidth%22%3A%20%22100%25%22%7D%29%3B%0A%0A%20%20%20%20%20%20%20%20%0A%20%20%20%20%20%20%20%20%20%20%20%20var%20html_39c7d06c641342408e8babf5eb174b44%20%3D%20%24%28%60%3Cdiv%20id%3D%22html_39c7d06c641342408e8babf5eb174b44%22%20style%3D%22width%3A%20100.0%25%3B%20height%3A%20100.0%25%3B%22%3ETheBigCharl%3A%20Cat%27s%20ain%27t%20shit.%20Zero%20football%20skills.%20That%27s%20why%20I%20prefer%20dogs%20%23fuckcats%3C/div%3E%60%29%5B0%5D%3B%0A%20%20%20%20%20%20%20%20%20%20%20%20popup_dcf2745faeb847db93c58a48ce68e61b.setContent%28html_39c7d06c641342408e8babf5eb174b44%29%3B%0A%20%20%20%20%20%20%20%20%0A%0A%20%20%20%20%20%20%20%20marker_c0120646f0c54b49a3f4fb6cdd07ea9f.bindPopup%28popup_dcf2745faeb847db93c58a48ce68e61b%29%0A%20%20%20%20%20%20%20%20%3B%0A%0A%20%20%20%20%20%20%20%20%0A%20%20%20%20%0A%20%20%20%20%0A%20%20%20%20%20%20%20%20%20%20%20%20var%20marker_138e54953526407dadf4de0317e44db3%20%3D%20L.marker%28%0A%20%20%20%20%20%20%20%20%20%20%20%20%20%20%20%20%5B51.5073219%2C%20-0.1276474%5D%2C%0A%20%20%20%20%20%20%20%20%20%20%20%20%20%20%20%20%7B%7D%0A%20%20%20%20%20%20%20%20%20%20%20%20%29.addTo%28map_156abba5ea7e485fb9bb2ad67806217a%29%3B%0A%20%20%20%20%20%20%20%20%0A%20%20%20%20%0A%20%20%20%20%20%20%20%20var%20popup_c78bad58e86849d7adfd9df3727b8163%20%3D%20L.popup%28%7B%22maxWidth%22%3A%20%22100%25%22%7D%29%3B%0A%0A%20%20%20%20%20%20%20%20%0A%20%20%20%20%20%20%20%20%20%20%20%20var%20html_f0a978e429f44ecea55620cbb8ec44dc%20%3D%20%24%28%60%3Cdiv%20id%3D%22html_f0a978e429f44ecea55620cbb8ec44dc%22%20style%3D%22width%3A%20100.0%25%3B%20height%3A%20100.0%25%3B%22%3ELetsParteyNow%3A%20%40RahulArsenal1%20Absolutely%20not%20it%E2%80%99ll%20be%20worse%20football%20than%20Arteta%3C/div%3E%60%29%5B0%5D%3B%0A%20%20%20%20%20%20%20%20%20%20%20%20popup_c78bad58e86849d7adfd9df3727b8163.setContent%28html_f0a978e429f44ecea55620cbb8ec44dc%29%3B%0A%20%20%20%20%20%20%20%20%0A%0A%20%20%20%20%20%20%20%20marker_138e54953526407dadf4de0317e44db3.bindPopup%28popup_c78bad58e86849d7adfd9df3727b8163%29%0A%20%20%20%20%20%20%20%20%3B%0A%0A%20%20%20%20%20%20%20%20%0A%20%20%20%20%0A%20%20%20%20%0A%20%20%20%20%20%20%20%20%20%20%20%20var%20marker_18c1a0d42ef24ef79a9454a826168a77%20%3D%20L.marker%28%0A%20%20%20%20%20%20%20%20%20%20%20%20%20%20%20%20%5B9.0643305%2C%207.4892974%5D%2C%0A%20%20%20%20%20%20%20%20%20%20%20%20%20%20%20%20%7B%7D%0A%20%20%20%20%20%20%20%20%20%20%20%20%29.addTo%28map_156abba5ea7e485fb9bb2ad67806217a%29%3B%0A%20%20%20%20%20%20%20%20%0A%20%20%20%20%0A%20%20%20%20%20%20%20%20var%20popup_95fed8c6540a4c398e9b32240c16bd0d%20%3D%20L.popup%28%7B%22maxWidth%22%3A%20%22100%25%22%7D%29%3B%0A%0A%20%20%20%20%20%20%20%20%0A%20%20%20%20%20%20%20%20%20%20%20%20var%20html_0038ac3a0ed24d24958133de388d95d9%20%3D%20%24%28%60%3Cdiv%20id%3D%22html_0038ac3a0ed24d24958133de388d95d9%22%20style%3D%22width%3A%20100.0%25%3B%20height%3A%20100.0%25%3B%22%3EItsNotPjay%3A%20See%20Dan%20James%20infecting%20others%20with%20his%20non%20football%20sense%3C/div%3E%60%29%5B0%5D%3B%0A%20%20%20%20%20%20%20%20%20%20%20%20popup_95fed8c6540a4c398e9b32240c16bd0d.setContent%28html_0038ac3a0ed24d24958133de388d95d9%29%3B%0A%20%20%20%20%20%20%20%20%0A%0A%20%20%20%20%20%20%20%20marker_18c1a0d42ef24ef79a9454a826168a77.bindPopup%28popup_95fed8c6540a4c398e9b32240c16bd0d%29%0A%20%20%20%20%20%20%20%20%3B%0A%0A%20%20%20%20%20%20%20%20%0A%20%20%20%20%0A%20%20%20%20%0A%20%20%20%20%20%20%20%20%20%20%20%20var%20marker_e8e56582852c4fe29478519c11225ca8%20%3D%20L.marker%28%0A%20%20%20%20%20%20%20%20%20%20%20%20%20%20%20%20%5B48.584614%2C%207.7507127%5D%2C%0A%20%20%20%20%20%20%20%20%20%20%20%20%20%20%20%20%7B%7D%0A%20%20%20%20%20%20%20%20%20%20%20%20%29.addTo%28map_156abba5ea7e485fb9bb2ad67806217a%29%3B%0A%20%20%20%20%20%20%20%20%0A%20%20%20%20%0A%20%20%20%20%20%20%20%20var%20popup_1f170bf451454e318aaab49512c8e7a8%20%3D%20L.popup%28%7B%22maxWidth%22%3A%20%22100%25%22%7D%29%3B%0A%0A%20%20%20%20%20%20%20%20%0A%20%20%20%20%20%20%20%20%20%20%20%20var%20html_8c2729d7a17e4af7a6c61f2af16f4396%20%3D%20%24%28%60%3Cdiv%20id%3D%22html_8c2729d7a17e4af7a6c61f2af16f4396%22%20style%3D%22width%3A%20100.0%25%3B%20height%3A%20100.0%25%3B%22%3E_DipikaR%3A%20%40dcolapinto%20%40MailOnline%20%40terrychristian%20this%20football%20malarky%20%E2%9A%BD%20%E2%82%AC%C2%A3%24%20spondoolies.%20%23RuiPinto%20the%20%23whistleblower%20who%20exposed%20plan%20for%20Superleague%20and%20other%20offshore%20%23tax%20evasion%20shouldn%27t%20be%20on%20trial%3B%20exposed%20the%20truth.%20%23Enablers%20%23Advisers%20should%20be%2C%20they%20design%20these%20offshore%20scams%20and%20profit%20from%20it.%3C/div%3E%60%29%5B0%5D%3B%0A%20%20%20%20%20%20%20%20%20%20%20%20popup_1f170bf451454e318aaab49512c8e7a8.setContent%28html_8c2729d7a17e4af7a6c61f2af16f4396%29%3B%0A%20%20%20%20%20%20%20%20%0A%0A%20%20%20%20%20%20%20%20marker_e8e56582852c4fe29478519c11225ca8.bindPopup%28popup_1f170bf451454e318aaab49512c8e7a8%29%0A%20%20%20%20%20%20%20%20%3B%0A%0A%20%20%20%20%20%20%20%20%0A%20%20%20%20%0A%20%20%20%20%0A%20%20%20%20%20%20%20%20%20%20%20%20var%20marker_0565ad0b39754cc7a2747cf6f1184c1e%20%3D%20L.marker%28%0A%20%20%20%20%20%20%20%20%20%20%20%20%20%20%20%20%5B41.8533427%2C%20-98.0786758%5D%2C%0A%20%20%20%20%20%20%20%20%20%20%20%20%20%20%20%20%7B%7D%0A%20%20%20%20%20%20%20%20%20%20%20%20%29.addTo%28map_156abba5ea7e485fb9bb2ad67806217a%29%3B%0A%20%20%20%20%20%20%20%20%0A%20%20%20%20%0A%20%20%20%20%20%20%20%20var%20popup_65830e10ec9a4f2a88f20d5a91ea9fee%20%3D%20L.popup%28%7B%22maxWidth%22%3A%20%22100%25%22%7D%29%3B%0A%0A%20%20%20%20%20%20%20%20%0A%20%20%20%20%20%20%20%20%20%20%20%20var%20html_c2ece96264174a6db0c98c5fb420035e%20%3D%20%24%28%60%3Cdiv%20id%3D%22html_c2ece96264174a6db0c98c5fb420035e%22%20style%3D%22width%3A%20100.0%25%3B%20height%3A%20100.0%25%3B%22%3EGarrettT_32%3A%20%40owensiebring%20That%E2%80%99s%20NAIA%20football%20where%20men%20play%20not%20boys%2C%20targeting%20doesn%E2%80%99t%20exist%3C/div%3E%60%29%5B0%5D%3B%0A%20%20%20%20%20%20%20%20%20%20%20%20popup_65830e10ec9a4f2a88f20d5a91ea9fee.setContent%28html_c2ece96264174a6db0c98c5fb420035e%29%3B%0A%20%20%20%20%20%20%20%20%0A%0A%20%20%20%20%20%20%20%20marker_0565ad0b39754cc7a2747cf6f1184c1e.bindPopup%28popup_65830e10ec9a4f2a88f20d5a91ea9fee%29%0A%20%20%20%20%20%20%20%20%3B%0A%0A%20%20%20%20%20%20%20%20%0A%20%20%20%20%0A%20%20%20%20%0A%20%20%20%20%20%20%20%20%20%20%20%20var%20marker_95458abed9df4a679eabeee321ea897b%20%3D%20L.marker%28%0A%20%20%20%20%20%20%20%20%20%20%20%20%20%20%20%20%5B56.5600957%2C%20-2.5817976%5D%2C%0A%20%20%20%20%20%20%20%20%20%20%20%20%20%20%20%20%7B%7D%0A%20%20%20%20%20%20%20%20%20%20%20%20%29.addTo%28map_156abba5ea7e485fb9bb2ad67806217a%29%3B%0A%20%20%20%20%20%20%20%20%0A%20%20%20%20%0A%20%20%20%20%20%20%20%20var%20popup_59430afe211e464598c909fb10c9bc2c%20%3D%20L.popup%28%7B%22maxWidth%22%3A%20%22100%25%22%7D%29%3B%0A%0A%20%20%20%20%20%20%20%20%0A%20%20%20%20%20%20%20%20%20%20%20%20var%20html_6f4ff0a97264446298f2aa37e8803329%20%3D%20%24%28%60%3Cdiv%20id%3D%22html_6f4ff0a97264446298f2aa37e8803329%22%20style%3D%22width%3A%20100.0%25%3B%20height%3A%20100.0%25%3B%22%3EArbroathFC%3A%20Remember%20Walter%20Borthwick%20%20Everyone%20at%20Arbroath%20FC%20were%20deeply%20saddened%20to%20hear%20of%20the%20passing%20of%20our%20former%20Manager%20Walter%20Borthwick%20yesterday.%20%20Our%20thoughts%20go%20out%20to%20the%20family%20and%20friends%20of%20Walter%20who%20had%20a%20long%20career%20in%20football%20coaching.%20%20https%3A//t.co/UwxEBmwMI4%20https%3A//t.co/iZtYDzUC9U%3C/div%3E%60%29%5B0%5D%3B%0A%20%20%20%20%20%20%20%20%20%20%20%20popup_59430afe211e464598c909fb10c9bc2c.setContent%28html_6f4ff0a97264446298f2aa37e8803329%29%3B%0A%20%20%20%20%20%20%20%20%0A%0A%20%20%20%20%20%20%20%20marker_95458abed9df4a679eabeee321ea897b.bindPopup%28popup_59430afe211e464598c909fb10c9bc2c%29%0A%20%20%20%20%20%20%20%20%3B%0A%0A%20%20%20%20%20%20%20%20%0A%20%20%20%20%0A%20%20%20%20%0A%20%20%20%20%20%20%20%20%20%20%20%20var%20marker_7100fa8f5fe34e9bbae60d68b5803ec0%20%3D%20L.marker%28%0A%20%20%20%20%20%20%20%20%20%20%20%20%20%20%20%20%5B26.5909025%2C%20-80.1008762%5D%2C%0A%20%20%20%20%20%20%20%20%20%20%20%20%20%20%20%20%7B%7D%0A%20%20%20%20%20%20%20%20%20%20%20%20%29.addTo%28map_156abba5ea7e485fb9bb2ad67806217a%29%3B%0A%20%20%20%20%20%20%20%20%0A%20%20%20%20%0A%20%20%20%20%20%20%20%20var%20popup_c5c259f732aa44dfbe84480c0cba4c3b%20%3D%20L.popup%28%7B%22maxWidth%22%3A%20%22100%25%22%7D%29%3B%0A%0A%20%20%20%20%20%20%20%20%0A%20%20%20%20%20%20%20%20%20%20%20%20var%20html_54a4f0439bbc4beba94ff7ed4e124cbd%20%3D%20%24%28%60%3Cdiv%20id%3D%22html_54a4f0439bbc4beba94ff7ed4e124cbd%22%20style%3D%22width%3A%20100.0%25%3B%20height%3A%20100.0%25%3B%22%3EHumsafarHusky%3A%20James%20is%20awful.%20Zero%20football%20brain.%3C/div%3E%60%29%5B0%5D%3B%0A%20%20%20%20%20%20%20%20%20%20%20%20popup_c5c259f732aa44dfbe84480c0cba4c3b.setContent%28html_54a4f0439bbc4beba94ff7ed4e124cbd%29%3B%0A%20%20%20%20%20%20%20%20%0A%0A%20%20%20%20%20%20%20%20marker_7100fa8f5fe34e9bbae60d68b5803ec0.bindPopup%28popup_c5c259f732aa44dfbe84480c0cba4c3b%29%0A%20%20%20%20%20%20%20%20%3B%0A%0A%20%20%20%20%20%20%20%20%0A%20%20%20%20%0A%3C/script%3E onload=\"this.contentDocument.open();this.contentDocument.write(    decodeURIComponent(this.getAttribute('data-html')));this.contentDocument.close();\" allowfullscreen webkitallowfullscreen mozallowfullscreen></iframe></div></div>"
      ],
      "text/plain": [
       "<folium.folium.Map at 0x7fb670892070>"
      ]
     },
     "execution_count": 58,
     "metadata": {},
     "output_type": "execute_result"
    }
   ],
   "source": [
    "usmap"
   ]
  },
  {
   "cell_type": "markdown",
   "metadata": {},
   "source": [
    "<!--\n",
    "#from IPython.display import IFrame\n",
    "#IFrame(src=\"./tweet_map.html\", width=800, height=450)\n",
    "-->"
   ]
  },
  {
   "cell_type": "markdown",
   "metadata": {},
   "source": [
    "<hr style=\"height:2px; border:none; color:#000; background-color:#000;\">"
   ]
  },
  {
   "cell_type": "markdown",
   "metadata": {},
   "source": [
    "## Utility Functions\n",
    "See the following for details: \n",
    "* [**Python Fundamentals LiveLessons video**](https://learning.oreilly.com/videos/python-fundamentals/9780135917411/9780135917411-PFLL_Lesson12_26) \n",
    "* [Sections 12.5.2-12.5.3 in **Python for Programmers**](https://learning.oreilly.com/library/view/python-for-programmers/9780135231364/ch12.xhtml#ch12lev2sec10)\n",
    "\n",
    "### `get_tweet_content` Utility Function (2 of 2)\n",
    "```python\n",
    "def get_tweet_content(tweet, location=False):\n",
    "    \"\"\"Return dictionary with data from tweet (a Status object).\"\"\"\n",
    "    fields = {}\n",
    "    fields['screen_name'] = tweet.user.screen_name\n",
    "\n",
    "    # get the tweet's text\n",
    "    try:  \n",
    "        fields['text'] = tweet.extended_tweet[\"full_text\"]\n",
    "    except: \n",
    "        fields['text'] = tweet.text\n",
    "\n",
    "    if location:\n",
    "        fields['location'] = tweet.user.location\n",
    "\n",
    "    return fields\n",
    "\n",
    "```"
   ]
  },
  {
   "cell_type": "markdown",
   "metadata": {},
   "source": [
    "<hr style=\"height:2px; border:none; color:#000; background-color:#000;\">"
   ]
  },
  {
   "cell_type": "markdown",
   "metadata": {},
   "source": [
    "### `get_geocodes` Utility Function (1 of 3)\n",
    "* Receives a **list of dictionaries** containing tweets and **geocodes their locations**\n",
    "* If **geocoding** is **successful** for a tweet, adds the **latitude** and **longitude** to the tweet’s **dictionary in `tweet_list`**\n",
    "* Requires class **`OpenMapQuest`** from the **geopy module**"
   ]
  },
  {
   "cell_type": "markdown",
   "metadata": {},
   "source": [
    "<hr style=\"height:2px; border:none; color:#000; background-color:#000;\">"
   ]
  },
  {
   "cell_type": "markdown",
   "metadata": {},
   "source": [
    "### `get_geocodes` Utility Function (2 of 3)\n",
    "```python\n",
    "from geopy import OpenMapQuest\n",
    "```\n",
    "\n",
    "```python\n",
    "def get_geocodes(tweet_list):\n",
    "    \"\"\"Get the latitude and longitude for each tweet's location.\n",
    "    Returns the number of tweets with invalid location data.\"\"\"\n",
    "    print('Getting coordinates for tweet locations...')\n",
    "    geo = OpenMapQuest(api_key=keys.mapquest_key)  # geocoder\n",
    "    bad_locations = 0  \n",
    "\n",
    "    for tweet in tweet_list:\n",
    "        processed = False\n",
    "        delay = .1  # used if OpenMapQuest times out to delay next call\n",
    "        while not processed:\n",
    "            try:  # get coordinates for tweet['location']\n",
    "                geo_location = geo.geocode(tweet['location'])\n",
    "                processed = True\n",
    "            except:  # timed out, so wait before trying again\n",
    "                print('OpenMapQuest service timed out. Waiting.')\n",
    "                time.sleep(delay)\n",
    "                delay += .1\n",
    "\n",
    "        if geo_location:  \n",
    "            tweet['latitude'] = geo_location.latitude\n",
    "            tweet['longitude'] = geo_location.longitude\n",
    "        else:  \n",
    "            bad_locations += 1  # tweet['location'] was invalid\n",
    "    \n",
    "    print('Done geocoding')\n",
    "    return bad_locations\n",
    "\n",
    "```"
   ]
  },
  {
   "cell_type": "markdown",
   "metadata": {},
   "source": [
    "<hr style=\"height:2px; border:none; color:#000; background-color:#000;\">"
   ]
  },
  {
   "cell_type": "markdown",
   "metadata": {},
   "source": [
    "## 12.15.3 Class `LocationListener`\n",
    "```python\n",
    "# locationlistener.py\n",
    "\"\"\"Receives tweets matching a search string and stores a list of\n",
    "dictionaries containing each tweet's screen_name/text/location.\"\"\"\n",
    "import tweepy\n",
    "from tweetutilities import get_tweet_content\n",
    "from IPython.display import clear_output\n",
    "\n",
    "class LocationListener(tweepy.StreamListener):\n",
    "    \"\"\"Handles incoming Tweet stream to get location data.\"\"\"\n",
    "```"
   ]
  },
  {
   "cell_type": "markdown",
   "metadata": {},
   "source": [
    "```python\n",
    "    def __init__(self, api, counts_dict, tweets_list, topic, limit=10):\n",
    "        \"\"\"Configure the LocationListener.\"\"\"\n",
    "        self.tweets_list = tweets_list\n",
    "        self.counts_dict = counts_dict\n",
    "        self.topic = topic\n",
    "        self.TWEET_LIMIT = limit\n",
    "        super().__init__(api)  # call superclass's init\n",
    "```"
   ]
  },
  {
   "cell_type": "markdown",
   "metadata": {},
   "source": [
    "```python\n",
    "    def on_status(self, status):\n",
    "        \"\"\"Called when Twitter pushes a new tweet to you.\"\"\"\n",
    "        # get each tweet's screen_name, text and location\n",
    "        tweet_data = get_tweet_content(status, location=True)  \n",
    "\n",
    "        # ignore retweets and tweets that do not contain the topic\n",
    "        if (tweet_data['text'].startswith('RT') or\n",
    "            self.topic.lower() not in tweet_data['text'].lower()):\n",
    "            return\n",
    "\n",
    "        self.counts_dict['total_tweets'] += 1  # original tweet\n",
    "\n",
    "        # ignore tweets with no location \n",
    "        if not status.user.location:  \n",
    "            return\n",
    "\n",
    "        self.counts_dict['locations'] += 1  # tweet with location\n",
    "        self.tweets_list.append(tweet_data)  # store the tweet\n",
    "        clear_output()\n",
    "        print(f'{status.user.screen_name}: {tweet_data[\"text\"]}\\n')\n",
    "        \n",
    "        # if TWEET_LIMIT is reached, return False to terminate streaming\n",
    "        return self.counts_dict['locations'] < self.TWEET_LIMIT\n",
    "\n",
    "```"
   ]
  },
  {
   "cell_type": "markdown",
   "metadata": {},
   "source": [
    "<hr style=\"height:2px; border:none; color:#000; background-color:#000;\">"
   ]
  },
  {
   "cell_type": "markdown",
   "metadata": {},
   "source": [
    "# More Info \n",
    "* See Lesson 12 in [**Python Fundamentals LiveLessons** here on O'Reilly Online Learning](https://learning.oreilly.com/videos/python-fundamentals/9780135917411)\n",
    "* See Chapter 12 in [**Python for Programmers** on O'Reilly Online Learning](https://learning.oreilly.com/library/view/python-for-programmers/9780135231364/)\n",
    "* See Chapter 13 in [**Intro Python for Computer Science and Data Science** on O'Reilly Online Learning](https://learning.oreilly.com/library/view/intro-to-python/9780135404799/)\n",
    "* Interested in a print book? Check out:\n",
    "\n",
    "| Python for Programmers<br>(640-page professional book) | Intro to Python for Computer<br>Science and Data Science<br>(880-page college textbook)\n",
    "| :------ | :------\n",
    "| <a href=\"https://amzn.to/2VvdnxE\"><img alt=\"Python for Programmers cover\" src=\"../images/PyFPCover.png\" width=\"150\" border=\"1\"/></a> | <a href=\"https://amzn.to/2LiDCmt\"><img alt=\"Intro to Python for Computer Science and Data Science: Learning to Program with AI, Big Data and the Cloud\" src=\"../images/IntroToPythonCover.png\" width=\"159\" border=\"1\"></a>\n",
    "\n",
    ">Please **do not** purchase both books&mdash;_Python for Programmers_ is a subset of _Intro to Python for Computer Science and Data Science_"
   ]
  },
  {
   "cell_type": "markdown",
   "metadata": {},
   "source": [
    "&copy; 2019 by Pearson Education, Inc. All Rights Reserved. The content in this notebook is based on the book [**Python for Programmers**](https://amzn.to/2VvdnxE)."
   ]
  }
 ],
 "metadata": {
  "kernelspec": {
   "display_name": "Python 3",
   "language": "python",
   "name": "python3"
  },
  "language_info": {
   "codemirror_mode": {
    "name": "ipython",
    "version": 3
   },
   "file_extension": ".py",
   "mimetype": "text/x-python",
   "name": "python",
   "nbconvert_exporter": "python",
   "pygments_lexer": "ipython3",
   "version": "3.8.6"
  }
 },
 "nbformat": 4,
 "nbformat_minor": 4
}
