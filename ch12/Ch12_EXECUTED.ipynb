{
 "cells": [
  {
   "cell_type": "markdown",
   "metadata": {},
   "source": [
    "&copy; 2019 by Pearson Education, Inc. All Rights Reserved. The content in this notebook is based on the book [**Python for Programmers**](https://amzn.to/2VvdnxE)."
   ]
  },
  {
   "cell_type": "code",
   "execution_count": 1,
   "metadata": {},
   "outputs": [],
   "source": [
    "# enable high-res images in notebook \n",
    "%config InlineBackend.figure_format = 'retina'"
   ]
  },
  {
   "cell_type": "markdown",
   "metadata": {},
   "source": [
    "# 12. Data Mining Twitter \n",
    "# Objectives\n",
    "* **Data-mine Twitter** with **Tweepy** library\n",
    "* Search **past tweets** with the **Twitter Search API**\n",
    "* Sample the **live tweet stream** with the **Twitter Streaming API**\n",
    "* Tweet object **meta data** \n",
    "* Use **NLP** to **clean and preprocess tweets** for analysis\n",
    "* Perform **sentiment analysis** on tweets\n",
    "* **Spot trends** with **Twitter’s Trends API**\n",
    "* **Map tweets** using **folium** and **OpenStreetMap**"
   ]
  },
  {
   "cell_type": "markdown",
   "metadata": {},
   "source": [
    "<hr style=\"height:2px; border:none; color:#000; background-color:#000;\">"
   ]
  },
  {
   "cell_type": "markdown",
   "metadata": {},
   "source": [
    "# 12.1 Introduction \n",
    "* Popular **big-data source**  \n",
    "* **Data mining** &mdash; searching large collections of data for **insights**\n",
    "* **Sentiment** in tweets can help **make predictions**  \n",
    "    * **Stock prices**\n",
    "    * **Election results**\n",
    "    * Likely **revenues** for a **new movie**\n",
    "    * **Success** of a company’s **marketing campaign**\n",
    "* Spot **faults in competitors’ products** \n",
    "* Spot **trending topics**\n",
    "* **Connect to Twitter** with easy-to-use **Web services**"
   ]
  },
  {
   "cell_type": "markdown",
   "metadata": {},
   "source": [
    "<hr style=\"height:2px; border:none; color:#000; background-color:#000;\">"
   ]
  },
  {
   "cell_type": "markdown",
   "metadata": {},
   "source": [
    "### What Is Twitter? \n",
    "* **Tweets**\n",
    "    * Short messages\n",
    "    * Initially limited to **140 characters**\n",
    "    * Increased in 2017 for most languages to **280 characters**\n",
    "* **Most open social network**&mdash;anyone can generally choose to follow anyone else\n",
    "* **Free programmatic access** to a small portion of **last 7 days' tweets**\n",
    "    * Can get **paid access** to larger portions the **all-time tweets database**\n",
    "* [**Hundreds of millions of tweets are sent every day** with many thousands sent per second](http://www.internetlivestats.com/twitter-statistics/)\n",
    "* Can tap into the **live stream** and get up to 1% of live tweets\n",
    "    * **Like “drinking from a fire hose”** "
   ]
  },
  {
   "cell_type": "markdown",
   "metadata": {},
   "source": [
    "<hr style=\"height:2px; border:none; color:#000; background-color:#000;\">"
   ]
  },
  {
   "cell_type": "markdown",
   "metadata": {},
   "source": [
    "# 12.2 Overview of the Twitter APIs \n",
    "* **Web services** are **methods** that you call in the **cloud**\n",
    "* Each **method** has a **web service endpoint** represented by a **URL**\n",
    "* **Caution**: **apps can be brittle**\n",
    "    * Internet connections can be lost, services can change, some services not available everywhere, ... \n",
    "* [Twitter API categories, subcategories and individual methods](https://developer.twitter.com/en/docs/api-reference-index.html)"
   ]
  },
  {
   "cell_type": "markdown",
   "metadata": {},
   "source": [
    "<hr style=\"height:2px; border:none; color:#000; background-color:#000;\">"
   ]
  },
  {
   "cell_type": "markdown",
   "metadata": {},
   "source": [
    "### Rate Limits and Restrictions\n",
    "* Twitter expects developers to **use its services responsibly**\n",
    "* **Understand rate limits** before using any method or you could get **blocked**\n",
    "* Some methods list both **user rate limits** and **app rate limits**\n",
    "    * We use **app rate limits** in the demos\n",
    "    * **User rate limits** for apps in which individuals to log into own Twitter accounts\n",
    "    * [Details on rate limiting](https://developer.twitter.com/en/docs/basics/rate-limiting)\n",
    "    * [Specific rate limits on individual API methods](https://developer.twitter.com/en/docs/basics/rate-limits) — also see each API method’s docs\n",
    "* **Follow Twitter’s rules/regulations or your developer account could be terminated.** \n",
    "\t* [Terms of Service](https://twitter.com/tos), [Developer Agreement](https://developer.twitter.com/en/developer-terms/agreement-and-policy.html), [Developer Policy](https://developer.twitter.com/en/developer-terms/policy.html), [Other restrictions](https://developer.twitter.com/en/developer-terms/more-on-restricted-use-cases)"
   ]
  },
  {
   "cell_type": "markdown",
   "metadata": {},
   "source": [
    "<hr style=\"height:2px; border:none; color:#000; background-color:#000;\">"
   ]
  },
  {
   "cell_type": "markdown",
   "metadata": {},
   "source": [
    "# 12.4 Getting Twitter Credentials—Creating an App \n",
    "* [Apply for a developer account](https://developer.twitter.com/en/apply-for-access) to use the APIs\n",
    "* Must get **credentials** to use Twitter APIs\n",
    "    * Part of the **OAuth 2.0 authentication process**\n",
    "    * **Tweepy handles OAuth 2.0 authentication details for you**\n",
    "* To get credentials, you’ll [**create an app**](https://developer.twitter.com) \n",
    "    * **Each app has separate credentials**\n",
    "    * I present **details on creating apps** in my [**Python Fundamentals LiveLessons videos for Section 12.4**](https://learning.oreilly.com/videos/python-fundamentals/9780135917411/9780135917411-PFLL_Lesson12_04) and [**Python for Programmers Section 12.4**](https://learning.oreilly.com/library/view/Python+for+Programmers,+First+Edition/9780135231364/ch12.xhtml#ch12lev1sec4)"
   ]
  },
  {
   "cell_type": "markdown",
   "metadata": {},
   "source": [
    "<hr style=\"height:2px; border:none; color:#000; background-color:#000;\">"
   ]
  },
  {
   "cell_type": "markdown",
   "metadata": {},
   "source": [
    "# 12.5 What’s in a Tweet? \n",
    "* Twitter API returns **JSON (JavaScript Object Notation)** objects\n",
    "* Text-based, human and computer readable\n",
    "* Like Python **dictionaries**\n",
    "* **JSON object format** &mdash; **all strings in double quotes (\")**\n",
    ">```python\n",
    "{propertyName1: value1, propertyName2: value2}\n",
    "```\n",
    "* **JSON array format (like Python list)**:\n",
    ">```python\n",
    "[value1, value2, value3]\n",
    "```\n",
    "* **Tweepy handles the JSON for you** behind the scenes"
   ]
  },
  {
   "cell_type": "markdown",
   "metadata": {},
   "source": [
    "<hr style=\"height:2px; border:none; color:#000; background-color:#000;\">"
   ]
  },
  {
   "cell_type": "markdown",
   "metadata": {},
   "source": [
    "### Key Properties of a Tweet Object \n",
    "* **Tweet object** contains **metadata**, including\n",
    "    * **text** of the tweet\n",
    "    * **extended tweet** for tweets up to **280 characters**\n",
    "\t* **when** it was created \n",
    "\t* **who** created it,\n",
    "\t* lists of **hashtags**, **URLs**, **`@`-mentions**, **images**, **videos** and more\n",
    "* [Our table of many key **tweet metadata attributes**](https://learning.oreilly.com/library/view/python-for-programmers/9780135231364/ch12.xhtml#ch12lev1sec5)\n",
    "* [Complete list of the tweet object attributes](https://developer.twitter.com/en/docs/tweets/data-dictionary/overview/tweet-object.html)\n",
    "* [General overview of all the JSON objects that Twitter APIs return, and links to the specific object details](https://developer.twitter.com/en/docs/tweets/data-dictionary/overview/intro-to-tweet-json)"
   ]
  },
  {
   "cell_type": "markdown",
   "metadata": {},
   "source": [
    "<hr style=\"height:2px; border:none; color:#000; background-color:#000;\">"
   ]
  },
  {
   "cell_type": "markdown",
   "metadata": {},
   "source": [
    "### Sample Tweet JSON\n",
    "* **Sample JSON** for this tweet from the **`@nasa`** account: \n",
    ">```\n",
    "@NoFear1075 Great question, Anthony! Throughout its seven-year \n",
    "mission, our Parker #SolarProbe spacecraft... https://t.co/xKd6ym8waT'\n",
    "```"
   ]
  },
  {
   "cell_type": "markdown",
   "metadata": {},
   "source": [
    "<hr style=\"height:2px; border:none; color:#000; background-color:#000;\">"
   ]
  },
  {
   "cell_type": "markdown",
   "metadata": {},
   "source": [
    "```python\n",
    "{'created_at': 'Wed Sep 05 18:19:34 +0000 2018',\n",
    " 'id': 1037404890354606082,\n",
    " 'id_str': '1037404890354606082',\n",
    " 'text': '@NoFear1075 Great question, Anthony! Throughout its seven-year \n",
    "          mission, our Parker #SolarProbe spacecraft… https://t.co/xKd6ym8waT',\n",
    " 'truncated': True,\n",
    " 'entities': {'hashtags': [{'text': 'SolarProbe', 'indices': [84, 95]}],\n",
    "    'symbols': [],\n",
    "    'user_mentions': [{'screen_name': 'NoFear1075',\n",
    "        'name': 'Anthony Perrone',\n",
    "        'id': 284339791,\n",
    "        'id_str': '284339791',\n",
    "        'indices': [0, 11]}],\n",
    "    'urls': [{'url': 'https://t.co/xKd6ym8waT',\n",
    "        'expanded_url': 'https://twitter.com/i/web/status/1037404890354606082',\n",
    "        'display_url': 'twitter.com/i/web/status/1…',\n",
    "        'indices': [117, 140]}]},\n",
    " 'source': '<a href=\"http://twitter.com\" rel=\"nofollow\">Twitter Web Client</a>',\n",
    "```"
   ]
  },
  {
   "cell_type": "markdown",
   "metadata": {},
   "source": [
    "```python\n",
    " 'in_reply_to_status_id': 1037390542424956928,\n",
    " 'in_reply_to_status_id_str': '1037390542424956928',\n",
    " 'in_reply_to_user_id': 284339791,\n",
    " 'in_reply_to_user_id_str': '284339791',\n",
    " 'in_reply_to_screen_name': 'NoFear1075',\n",
    " 'user': {'id': 11348282,\n",
    "    'id_str': '11348282',\n",
    "    'name': 'NASA',\n",
    "    'screen_name': 'NASA',\n",
    "    'location': '',\n",
    "    'description': 'Explore the universe and discover our home planet with \n",
    "            @NASA. We usually post in EST (UTC-5)',\n",
    "    'url': 'https://t.co/TcEE6NS8nD',\n",
    "    'entities': {'url': {'urls': [{'url': 'https://t.co/TcEE6NS8nD',\n",
    "            'expanded_url': 'http://www.nasa.gov',\n",
    "            'display_url': 'nasa.gov',\n",
    "            'indices': [0, 23]}]},\n",
    "    'description': {'urls': []}},\n",
    "    'protected': False,\n",
    "    'followers_count': 29486081,\n",
    "    'friends_count': 287,\n",
    "    'listed_count': 91928,\n",
    "    'created_at': 'Wed Dec 19 20:20:32 +0000 2007',\n",
    "    'favourites_count': 3963,\n",
    "    'time_zone': None,\n",
    "    'geo_enabled': False,\n",
    "    'verified': True,\n",
    "    'statuses_count': 53147,\n",
    "    'lang': 'en',\n",
    "```"
   ]
  },
  {
   "cell_type": "markdown",
   "metadata": {},
   "source": [
    "```python\n",
    "    'contributors_enabled': False,\n",
    "    'is_translator': False,\n",
    "    'is_translation_enabled': False,\n",
    "    'profile_background_color': '000000',\n",
    "    'profile_background_image_url': 'http://abs.twimg.com/images/themes/theme1/bg.png',\n",
    "    'profile_background_image_url_https': 'https://abs.twimg.com/images/themes/theme1/bg.png',\n",
    "    'profile_image_url': 'http://pbs.twimg.com/profile_images/188302352/nasalogo_twitter_normal.jpg',\n",
    "    'profile_image_url_https': 'https://pbs.twimg.com/profile_images/188302352/nasalogo_twitter_normal.jpg',\n",
    "    'profile_banner_url': 'https://pbs.twimg.com/profile_banners/11348282/1535145490',\n",
    "    'profile_link_color': '205BA7',\n",
    "    'profile_sidebar_border_color': '000000',\n",
    "    'profile_sidebar_fill_color': 'F3F2F2',\n",
    "    'profile_text_color': '000000',\n",
    "    'profile_use_background_image': True,\n",
    "    'has_extended_profile': True,\n",
    "    'default_profile': False,\n",
    "    'default_profile_image': False,\n",
    "    'following': True,\n",
    "    'follow_request_sent': False,\n",
    "    'notifications': False,\n",
    "    'translator_type': 'regular'},\n",
    " 'geo': None,\n",
    " 'coordinates': None,\n",
    " 'place': None,\n",
    " 'contributors': None,\n",
    " 'is_quote_status': False,\n",
    " 'retweet_count': 7,\n",
    " 'favorite_count': 19,\n",
    " 'favorited': False,\n",
    " 'retweeted': False,\n",
    " 'possibly_sensitive': False,\n",
    " 'lang': 'en'}\n",
    "\n",
    "```"
   ]
  },
  {
   "cell_type": "markdown",
   "metadata": {},
   "source": [
    "<hr style=\"height:2px; border:none; color:#000; background-color:#000;\">"
   ]
  },
  {
   "cell_type": "markdown",
   "metadata": {},
   "source": [
    "# 12.6 Tweepy\n",
    "* [**Tweepy library**](http://www.tweepy.org/)—**one of the most popular Python Twitter clients**\n",
    "> `pip install tweepy>=3.7`\n",
    "* Easy access to Twitter’s capabilities\n",
    "* [Tweepy’s documentation](http://docs.tweepy.org/en/latest/)\n",
    "* One function in `tweetutilities.py` file depends on [**geopy**](https://github.com/geopy/geopy) (used later to **plot tweet locations**)\n",
    ">`conda install -c conda-forge geopy`"
   ]
  },
  {
   "cell_type": "markdown",
   "metadata": {},
   "source": [
    "<hr style=\"height:2px; border:none; color:#000; background-color:#000;\">"
   ]
  },
  {
   "cell_type": "markdown",
   "metadata": {},
   "source": [
    "# 12.7 Authenticating with Twitter Via Tweepy\n",
    "* **Authentication API**—Authenticate with your **Twitter credentials** to use other Twitter APIs\n",
    "* **`keys.py`** must contain your credentials"
   ]
  },
  {
   "cell_type": "code",
   "execution_count": 2,
   "metadata": {},
   "outputs": [],
   "source": [
    "import tweepy"
   ]
  },
  {
   "cell_type": "code",
   "execution_count": 3,
   "metadata": {},
   "outputs": [],
   "source": [
    "import keys  "
   ]
  },
  {
   "cell_type": "code",
   "execution_count": 4,
   "metadata": {},
   "outputs": [],
   "source": [
    "auth = tweepy.OAuthHandler(keys.consumer_key,\n",
    "                           keys.consumer_secret)"
   ]
  },
  {
   "cell_type": "code",
   "execution_count": 5,
   "metadata": {},
   "outputs": [],
   "source": [
    "auth.set_access_token(keys.access_token,\n",
    "                      keys.access_token_secret)"
   ]
  },
  {
   "cell_type": "markdown",
   "metadata": {},
   "source": [
    "<hr style=\"height:2px; border:none; color:#000; background-color:#000;\">"
   ]
  },
  {
   "cell_type": "markdown",
   "metadata": {},
   "source": [
    "### Creating the Tweepy API Object\n",
    "* A **Tweepy `API` object** is your **gateway** to Twitter APIs"
   ]
  },
  {
   "cell_type": "code",
   "execution_count": 6,
   "metadata": {},
   "outputs": [],
   "source": [
    "api = tweepy.API(auth, wait_on_rate_limit=True, \n",
    "                 wait_on_rate_limit_notify=True)"
   ]
  },
  {
   "cell_type": "markdown",
   "metadata": {},
   "source": [
    "* **`auth`** is the **`OAuthHandler`**\n",
    "* **`wait_on_rate_limit=True`** &mdash; **wait 15 minutes** when app reaches an API method’s rate limit\n",
    "    * prevents violations\n",
    "* **`wait_on_rate_limit_notify=True`** &mdash; **display a command-line message** when you hit a rate limit"
   ]
  },
  {
   "cell_type": "markdown",
   "metadata": {},
   "source": [
    "<hr style=\"height:2px; border:none; color:#000; background-color:#000;\">"
   ]
  },
  {
   "cell_type": "markdown",
   "metadata": {},
   "source": [
    "# 12.8 Getting Information About a Twitter Account\n",
    "* **Accounts and Users API**—Access information about an account\n",
    "* `API` object’s **`get_user` method** returns a **`tweepy.models.User` object** for an account"
   ]
  },
  {
   "cell_type": "code",
   "execution_count": 7,
   "metadata": {},
   "outputs": [],
   "source": [
    "nasa = api.get_user('nasa')"
   ]
  },
  {
   "cell_type": "markdown",
   "metadata": {},
   "source": [
    "* Calls the **Twitter API’s [`users/show` method](https://developer.twitter.com/en/docs/accounts-and-users/follow-search-get-users/api-reference/get-users-show)**\n",
    "* **`tweepy.models` classes** correspond to returned **JSON objects**\n",
    "* **`User` class** corresponds to a Twitter [**user object**](https://developer.twitter.com/en/docs/tweets/data-dictionary/overview/user-object)\n",
    "* **`tweepy.models` classes** turn **JSON** into **Tweepy objects** "
   ]
  },
  {
   "cell_type": "markdown",
   "metadata": {},
   "source": [
    "<hr style=\"height:2px; border:none; color:#000; background-color:#000;\">"
   ]
  },
  {
   "cell_type": "markdown",
   "metadata": {},
   "source": [
    "### Getting Basic Account Information for `@nasa`\n",
    "* IDs and twitter handles can be used to **track tweets to, from and about users**"
   ]
  },
  {
   "cell_type": "code",
   "execution_count": 8,
   "metadata": {},
   "outputs": [
    {
     "data": {
      "text/plain": [
       "11348282"
      ]
     },
     "execution_count": 8,
     "metadata": {},
     "output_type": "execute_result"
    }
   ],
   "source": [
    "nasa.id  # account ID created when the user joined Twitter"
   ]
  },
  {
   "cell_type": "code",
   "execution_count": 9,
   "metadata": {},
   "outputs": [
    {
     "data": {
      "text/plain": [
       "'NASA'"
      ]
     },
     "execution_count": 9,
     "metadata": {},
     "output_type": "execute_result"
    }
   ],
   "source": [
    "nasa.screen_name  # user’s Twitter handle"
   ]
  },
  {
   "cell_type": "code",
   "execution_count": 10,
   "metadata": {},
   "outputs": [
    {
     "data": {
      "text/plain": [
       "\"We're going to the Moon with @NASAArtemis. This time, to stay.\""
      ]
     },
     "execution_count": 10,
     "metadata": {},
     "output_type": "execute_result"
    }
   ],
   "source": [
    "nasa.description  # description from the user’s profile"
   ]
  },
  {
   "cell_type": "markdown",
   "metadata": {},
   "source": [
    "* Lots of additional attributes, like `name`, `description`, `followers_count`, `friends_count`, etc."
   ]
  },
  {
   "cell_type": "markdown",
   "metadata": {},
   "source": [
    "<hr style=\"height:2px; border:none; color:#000; background-color:#000;\">"
   ]
  },
  {
   "cell_type": "markdown",
   "metadata": {},
   "source": [
    "### Getting `@nasa`'s Most Recent Status Update\n",
    "* `User` object’s **`status` property** returns a **`tweepy.models.Status`** object\n",
    "* Corresponds to a Twitter [**tweet object**](https://developer.twitter.com/en/docs/tweets/data-dictionary/overview/tweet-object)"
   ]
  },
  {
   "cell_type": "code",
   "execution_count": 11,
   "metadata": {},
   "outputs": [
    {
     "data": {
      "text/plain": [
       "'On Saturday, we conducted a hot fire test of the core stage for the @NASA_SLS rocket that will launch @NASAArtemis… https://t.co/0ZWBXXqosf'"
      ]
     },
     "execution_count": 11,
     "metadata": {},
     "output_type": "execute_result"
    }
   ],
   "source": [
    "nasa.status.text  # most recent tweet's text"
   ]
  },
  {
   "cell_type": "markdown",
   "metadata": {},
   "source": [
    "* **...** indicates **truncated** tweet text\n",
    "* **`extended_tweet` property** for tweets between 141 and 280 characters (as of Nov. 2017) \n",
    "* **Retweeting** often results in truncation"
   ]
  },
  {
   "cell_type": "markdown",
   "metadata": {},
   "source": [
    "<hr style=\"height:2px; border:none; color:#000; background-color:#000;\">"
   ]
  },
  {
   "cell_type": "markdown",
   "metadata": {},
   "source": [
    "# 12.9 Introduction to Tweepy Cursors: Getting an Account’s Followers \n",
    "* Twitter API methods often return collections of objects \n",
    "    * E.g., list of tweets that match specified search criteria \n",
    "* Each method has **maximum number of items returned by one call**\n",
    "    * A **\"page\"** of results\n",
    "* **JSON responses** indicate whether there are **more pages**\n",
    "* A **`Cursor`** handles **paging** \n",
    "    * Invokes a method and **checks for more pages**\n",
    "    * If so, **calls the method again**  \n",
    "    * Continues until there are no more results to process\n",
    "    * If `API` object configured to **wait on rate limits**, **`Cursor`s wait as needed**\n",
    "* [Tweepy `Cursor` tutorial](http://docs.tweepy.org/en/latest/cursor_tutorial.html)"
   ]
  },
  {
   "cell_type": "markdown",
   "metadata": {},
   "source": [
    "<hr style=\"height:2px; border:none; color:#000; background-color:#000;\">"
   ]
  },
  {
   "cell_type": "markdown",
   "metadata": {},
   "source": [
    "## 12.9.1 Determining an Account’s Followers  Via the `API` object’s **`followers` Method**\n",
    "* Calls Twitter’s [**followers/list** method](https://developer.twitter.com/en/docs/accounts-and-users/follow-search-get-users/api-reference/get-followers-list.html)\n",
    "* Returns groups of 20 by default, but can request up to 200 \n",
    "* For demonstration purposes, we’ll grab 10 of NASA’s followers"
   ]
  },
  {
   "cell_type": "markdown",
   "metadata": {},
   "source": [
    "<hr style=\"height:2px; border:none; color:#000; background-color:#000;\">"
   ]
  },
  {
   "cell_type": "markdown",
   "metadata": {},
   "source": [
    "### Creating a Cursor That Will Call the `followers` Method for NASA’s account"
   ]
  },
  {
   "cell_type": "code",
   "execution_count": 12,
   "metadata": {},
   "outputs": [],
   "source": [
    "followers = []  # for storing followers' User objects"
   ]
  },
  {
   "cell_type": "code",
   "execution_count": 13,
   "metadata": {},
   "outputs": [],
   "source": [
    "cursor = tweepy.Cursor(api.followers, screen_name='nasa')"
   ]
  },
  {
   "cell_type": "markdown",
   "metadata": {},
   "source": [
    "* First argument is **name of Tweepy method to call**\n",
    "* Additional keyword arguments are passed to method named in first argument"
   ]
  },
  {
   "cell_type": "markdown",
   "metadata": {},
   "source": [
    "<hr style=\"height:2px; border:none; color:#000; background-color:#000;\">"
   ]
  },
  {
   "cell_type": "markdown",
   "metadata": {},
   "source": [
    "### Get Results from `Cursor` and Display in Ascending Alphabetical Order  \n",
    "* Cursor’s **`items` method** calls `api.followers` and returns the `follower`s method’s results"
   ]
  },
  {
   "cell_type": "code",
   "execution_count": 14,
   "metadata": {},
   "outputs": [],
   "source": [
    "for account in cursor.items(10):  # request only 10 results\n",
    "    followers.append(account.screen_name)"
   ]
  },
  {
   "cell_type": "code",
   "execution_count": 15,
   "metadata": {},
   "outputs": [
    {
     "data": {
      "text/plain": [
       "['JoHo33707703',\n",
       " 'MikeAndLani1',\n",
       " 'NVq5ctNtvLLcwMT',\n",
       " 'imanmehr_salar',\n",
       " 'duschenbj',\n",
       " 'PortezaBarbie',\n",
       " 'ZoeyPyr',\n",
       " 'SteveFi62941818',\n",
       " 'BabulSk25048766',\n",
       " 'YoedhistiraS']"
      ]
     },
     "execution_count": 15,
     "metadata": {},
     "output_type": "execute_result"
    }
   ],
   "source": [
    "followers"
   ]
  },
  {
   "cell_type": "markdown",
   "metadata": {},
   "source": [
    "<hr style=\"height:2px; border:none; color:#000; background-color:#000;\">"
   ]
  },
  {
   "cell_type": "markdown",
   "metadata": {},
   "source": [
    "### Automatic Paging\n",
    "* To **get up to 200 followers at a time**, create the `Cursor` with the **`count`** keyword argument\n",
    ">```python\n",
    "cursor = tweepy.Cursor(api.followers, screen_name='nasa', count=200)\n",
    "```\n",
    "* Calling `Cursor` method **`items`** with no argument attempts to get **all followers**\n",
    "    * Could **take significant time** due to **rate limits**"
   ]
  },
  {
   "cell_type": "markdown",
   "metadata": {},
   "source": [
    "<hr style=\"height:2px; border:none; color:#000; background-color:#000;\">"
   ]
  },
  {
   "cell_type": "markdown",
   "metadata": {},
   "source": [
    "# 12.10 Searching Recent Tweets with Tweepy `API` method **`search`** \n",
    "* **Tweets API**—Search **past 7 days' tweets**, access **live tweet streams** and more\n",
    "* Returns tweets that **match a query string**\n",
    "* Only for the **previous seven days’ tweets**\n",
    "* **Not guaranteed to return all matching tweets**\n",
    "* Calls Twitter’s **`search/tweets` method**\n",
    "* Returns 15 tweets at a time by default, but can return up to 100"
   ]
  },
  {
   "cell_type": "markdown",
   "metadata": {},
   "source": [
    "<hr style=\"height:2px; border:none; color:#000; background-color:#000;\">"
   ]
  },
  {
   "cell_type": "markdown",
   "metadata": {},
   "source": [
    "### Utility Function `print_tweets` from `tweetutilities.py` "
   ]
  },
  {
   "cell_type": "code",
   "execution_count": 16,
   "metadata": {},
   "outputs": [],
   "source": [
    "from tweetutilities import print_tweets"
   ]
  },
  {
   "cell_type": "markdown",
   "metadata": {},
   "source": [
    "```python\n",
    "def print_tweets(tweets):\n",
    "    \"\"\"For each Tweepy Status object in tweets, display the \n",
    "    user's screen_name and tweet text. If the language is not\n",
    "    English, translate the text with TextBlob.\"\"\"\n",
    "    for tweet in tweets:\n",
    "        print(f'{tweet.screen_name}:', end=' ')\n",
    "    \n",
    "        if 'en' in tweet.lang:\n",
    "            print(f'{tweet.text}\\n')\n",
    "        elif 'und' not in tweet.lang:  # translate to English first\n",
    "            print(f'\\n  ORIGINAL: {tweet.text}')\n",
    "            print(f'TRANSLATED: {TextBlob(tweet.text).translate()}\\n')\n",
    "\n",
    "```"
   ]
  },
  {
   "cell_type": "markdown",
   "metadata": {},
   "source": [
    "<hr style=\"height:2px; border:none; color:#000; background-color:#000;\">"
   ]
  },
  {
   "cell_type": "markdown",
   "metadata": {},
   "source": [
    "### Searching for Specific Words\n",
    "* **`q` keyword argument** specifies the **query string**\n",
    "* Should use **`Cursor`** for more than max results"
   ]
  },
  {
   "cell_type": "code",
   "execution_count": 17,
   "metadata": {},
   "outputs": [],
   "source": [
    "tweets = api.search(q='football', count=3)"
   ]
  },
  {
   "cell_type": "code",
   "execution_count": 18,
   "metadata": {},
   "outputs": [
    {
     "name": "stdout",
     "output_type": "stream",
     "text": [
      "SupermarineFC: RT @BrownPhilip: So what did we learn?\n",
      "Amongst English clubs, per the latest @ONS population estimates:\n",
      "@Arsenal, most populous catchment (…\n",
      "\n",
      "coach_doglesby: RT @d17_ramirez: I wanna thank @BentleyQbCamps @JakeBentley19 @bobbybentley @mikelecolasurdo @LoganHallSC @SHSVikingsfb for the opportunity…\n",
      "\n",
      "JTDutch: Do you know why football and basketball are (allegedly) more popular than baseball? Football and basketball are eas… https://t.co/LGoEqU0X6v\n",
      "\n"
     ]
    }
   ],
   "source": [
    "print_tweets(tweets)"
   ]
  },
  {
   "cell_type": "markdown",
   "metadata": {},
   "source": [
    "<hr style=\"height:2px; border:none; color:#000; background-color:#000;\">"
   ]
  },
  {
   "cell_type": "markdown",
   "metadata": {},
   "source": [
    "### Searching with Twitter Search Operators (1 of 2)\n",
    "* Use **Twitter search operators** to refine search results\n",
    "* The following table shows several Twitter search operators. \n",
    "* [For all the operators, click the `operators` link here](https://twitter.com/search-home)\n",
    "* ```python\n",
    "tweets = api.search(q='from:nasa since:2019-11-15', count=3)\n",
    "```\n",
    "\n",
    "| Example&nbsp;&nbsp;&nbsp;&nbsp;&nbsp;&nbsp;&nbsp;&nbsp;&nbsp;&nbsp;&nbsp;&nbsp;&nbsp;&nbsp;&nbsp;&nbsp;&nbsp;&nbsp;&nbsp;&nbsp;&nbsp;&nbsp;&nbsp;&nbsp;&nbsp;&nbsp;&nbsp;&nbsp;&nbsp;&nbsp;&nbsp;&nbsp;&nbsp;&nbsp;&nbsp;&nbsp;&nbsp;&nbsp;\t| Finds tweets containing\n",
    "| :---\t| :---\n",
    "| `python twitter` \t| **Implicit _logical and_ operator**—Finds tweets containing `python` _and_ `twitter`.\n",
    "| `python OR twitter` \t| **Logical `OR` operator**—Finds tweets containing `python` or `twitter` or both.\n",
    "| `python ?` \t| **`?` (question mark)**—Finds tweets asking questions about `python`.\n",
    "| `planets -mars` \t| **`-` (minus sign)**—Finds tweets containing `planets` but not `mars`.\n",
    "| `python :)` \t| **`:)` (happy face)**—Finds **positive sentiment** tweets containing `python`.\n",
    "| `python :(` \t| **`:(` (sad face)**—Finds **negative sentiment** tweets containing `python`.\n",
    "| `since:2018-09-01` \t| **Finds tweets **on or after** the specified date**, which must be in the form **`YYYY-MM-DD`**.\n",
    "| `near:\"New York City\" `\t| **Finds tweets that were sent near `\"New York City\"`**.\n",
    "| `from:nasa` \t| **Finds tweets from the account `@nasa`**.\n",
    "| `to:nasa` \t| **Finds tweets to the account `@nasa`**."
   ]
  },
  {
   "cell_type": "markdown",
   "metadata": {},
   "source": [
    "<hr style=\"height:2px; border:none; color:#000; background-color:#000;\">"
   ]
  },
  {
   "cell_type": "markdown",
   "metadata": {},
   "source": [
    "# 12.11 Spotting Trends: Twitter Trends API\n",
    "* **“Going viral”** &mdash; thousands or millions of people tweeting at once \n",
    "* Twitter maintains a list of **trending topics** worldwide \n",
    "* **Twitter Trends API** can return lists of **trending-topic locations** and the **top 50 trending topics** for each **location**"
   ]
  },
  {
   "cell_type": "markdown",
   "metadata": {},
   "source": [
    "<hr style=\"height:2px; border:none; color:#000; background-color:#000;\">"
   ]
  },
  {
   "cell_type": "markdown",
   "metadata": {},
   "source": [
    "## 12.11.1 Places with Trending Topics \n",
    "* See how to find places with trending topics: https://learning.oreilly.com/videos/python-fundamentals/9780135917411/9780135917411-PFLL_Lesson12_15"
   ]
  },
  {
   "cell_type": "markdown",
   "metadata": {},
   "source": [
    "<hr style=\"height:2px; border:none; color:#000; background-color:#000;\">"
   ]
  },
  {
   "cell_type": "markdown",
   "metadata": {},
   "source": [
    "## 12.11.2 Getting a List of Trending Topics with the Tweepy `API`’s **`trends_place` Method** \n",
    "* Calls **Twitter Trends API’s [`trends/place` method](https://developer.twitter.com/en/docs/trends/trends-for-location/api-reference/get-trends-place)**\n",
    "* Returns top **50 trending topics for the location**\n",
    "* [Look up WOEIDs](http://www.woeidlookup.com) (**Yahoo! Where on Earth IDs**)\n",
    "* Look up WOEID’s programmatically using **Yahoo!’s web services** via [Python libraries like `woeid`](https://github.com/Ray-SunR/woeid)"
   ]
  },
  {
   "cell_type": "markdown",
   "metadata": {},
   "source": [
    "<hr style=\"height:2px; border:none; color:#000; background-color:#000;\">"
   ]
  },
  {
   "cell_type": "markdown",
   "metadata": {},
   "source": [
    "### Get Today's Worldwide Trending Topics (1 of 3)"
   ]
  },
  {
   "cell_type": "code",
   "execution_count": 19,
   "metadata": {},
   "outputs": [],
   "source": [
    "world_trends = api.trends_place(id=1)  # list containing one dictionary"
   ]
  },
  {
   "cell_type": "markdown",
   "metadata": {},
   "source": [
    "* **`'trends'` key** refers to a **list of dictionaries representing each trend**"
   ]
  },
  {
   "cell_type": "code",
   "execution_count": 20,
   "metadata": {},
   "outputs": [],
   "source": [
    "trends_list = world_trends[0]['trends']"
   ]
  },
  {
   "cell_type": "markdown",
   "metadata": {},
   "source": [
    "<hr style=\"height:2px; border:none; color:#000; background-color:#000;\">"
   ]
  },
  {
   "cell_type": "markdown",
   "metadata": {},
   "source": [
    "### Get Today's Worldwide Trending Topics (2 of 3)\n",
    "* Each trend has **`name`**, **`url`**, **`promoted_content`** (whether it's an **advertisement**), **`query`** and **`tweet_volume`** keys"
   ]
  },
  {
   "cell_type": "code",
   "execution_count": 21,
   "metadata": {},
   "outputs": [
    {
     "data": {
      "text/plain": [
       "{'name': 'TAEHYUNG YOU ARE PERFECT',\n",
       " 'url': 'http://twitter.com/search?q=%22TAEHYUNG+YOU+ARE+PERFECT%22',\n",
       " 'promoted_content': None,\n",
       " 'query': '%22TAEHYUNG+YOU+ARE+PERFECT%22',\n",
       " 'tweet_volume': 228033}"
      ]
     },
     "execution_count": 21,
     "metadata": {},
     "output_type": "execute_result"
    }
   ],
   "source": [
    "trends_list[0]"
   ]
  },
  {
   "cell_type": "markdown",
   "metadata": {},
   "source": [
    "<hr style=\"height:2px; border:none; color:#000; background-color:#000;\">"
   ]
  },
  {
   "cell_type": "markdown",
   "metadata": {},
   "source": [
    "### Get Today's Worldwide Trending Topics (3 of 3)\n",
    "* For **trends with more than 10,000 tweets**, the **`tweet_volume`** is the **number of tweets**; otherwise, it’s `None`\n",
    "* Filter the list so that it contains only trends with more than 10,000 tweets:"
   ]
  },
  {
   "cell_type": "code",
   "execution_count": 22,
   "metadata": {},
   "outputs": [],
   "source": [
    "trends_list = [t for t in trends_list if t['tweet_volume']]"
   ]
  },
  {
   "cell_type": "code",
   "execution_count": 23,
   "metadata": {},
   "outputs": [],
   "source": [
    "from operator import itemgetter "
   ]
  },
  {
   "cell_type": "code",
   "execution_count": 24,
   "metadata": {},
   "outputs": [],
   "source": [
    "trends_list.sort(key=itemgetter('tweet_volume'), reverse=True) "
   ]
  },
  {
   "cell_type": "code",
   "execution_count": 25,
   "metadata": {},
   "outputs": [
    {
     "name": "stdout",
     "output_type": "stream",
     "text": [
      "SBJUAN9 WMAs\n",
      "Chan\n",
      "TAEHYUNG YOU ARE PERFECT\n",
      "#MuratAlanHaddiniBil\n",
      "Liverpool\n",
      "#Enem2020\n",
      "Manchester United\n",
      "Anvisa\n",
      "#天国と地獄\n",
      "Betty White\n",
      "Kent\n",
      "Bom Enem\n",
      "#君と世界が終わる日に\n",
      "JIMIN YOU ARE PERFECT\n",
      "#Siyasetbahçe\n",
      "#謎解き共通テスト\n",
      "高橋一生\n",
      "#RIDDLER\n",
      "あなたの成績\n",
      "問題制作\n",
      "LET'S DINGGA\n",
      "綾瀬はるか\n",
      "天月さん\n",
      "WE LOVE YOU KIM TAEHYUNG\n"
     ]
    }
   ],
   "source": [
    "for trend in trends_list:  # show top trending topics\n",
    "    print(trend['name'])"
   ]
  },
  {
   "cell_type": "markdown",
   "metadata": {},
   "source": [
    "<hr style=\"height:2px; border:none; color:#000; background-color:#000;\">"
   ]
  },
  {
   "cell_type": "markdown",
   "metadata": {},
   "source": [
    "# 12.12 Cleaning/Preprocessing Tweets for Analysis\n",
    "* **Data cleaning** is one of data scientists' most common tasks \n",
    "* Some **NLP tasks** for **normalizing tweets**\n",
    "    * Converting text to **same case**\n",
    "    * Removing **`#` from hashtags**, **`@`-mentions**, **duplicates**, **hashtags**\n",
    "    * Removing **excess whitespace**, **punctuation**, **stop words**, **URLs**\n",
    "    * Removing tweet keywords **`RT`** (retweet) and **`FAV`** (favorite) \n",
    "    * **Stemming** and **lemmatization**\n",
    "    * **Tokenization**"
   ]
  },
  {
   "cell_type": "markdown",
   "metadata": {},
   "source": [
    "<hr style=\"height:2px; border:none; color:#000; background-color:#000;\">"
   ]
  },
  {
   "cell_type": "markdown",
   "metadata": {},
   "source": [
    "### [**tweet-preprocessor**](https://github.com/s/preprocessor) Library and TextBlob Utility Functions\n",
    "* `pip install tweet-preprocessor`\n",
    "* Can automatically remove any combination of:\n",
    "\n",
    "| Option\t| Option constant\n",
    "| :---\t| :---\n",
    "| **`OPT.MENTION`** | @-Mentions (e.g., `@nasa`)\t\n",
    "| **`OPT.EMOJI`** | Emoji\t\n",
    "| **`OPT.HASHTAG`** | Hashtag (e.g., `#mars`)\t\n",
    "| **`OPT.NUMBER`** | Number\t\n",
    "| **`OPT.RESERVED`** | Reserved Words (`RT` and `FAV`)\t\n",
    "| **`OPT.SMILEY`** | Smiley\t\n",
    "| **`OPT.URL`** | URL\t"
   ]
  },
  {
   "cell_type": "markdown",
   "metadata": {},
   "source": [
    "<hr style=\"height:2px; border:none; color:#000; background-color:#000;\">"
   ]
  },
  {
   "cell_type": "markdown",
   "metadata": {},
   "source": [
    "### Cleaning a Tweet Containing a Reserved Word and a URL\n",
    "* The tweet-preprocessor library’s module name is **`preprocessor`** "
   ]
  },
  {
   "cell_type": "code",
   "execution_count": 26,
   "metadata": {},
   "outputs": [],
   "source": [
    "import preprocessor as p  # p recommended by docs"
   ]
  },
  {
   "cell_type": "code",
   "execution_count": 27,
   "metadata": {},
   "outputs": [],
   "source": [
    "p.set_options(p.OPT.URL, p.OPT.RESERVED)  # specify what to clean"
   ]
  },
  {
   "cell_type": "code",
   "execution_count": 28,
   "metadata": {},
   "outputs": [],
   "source": [
    "tweet_text = 'RT A sample retweet with a URL https://nasa.gov'"
   ]
  },
  {
   "cell_type": "code",
   "execution_count": 29,
   "metadata": {},
   "outputs": [
    {
     "data": {
      "text/plain": [
       "'A sample retweet with a URL'"
      ]
     },
     "execution_count": 29,
     "metadata": {},
     "output_type": "execute_result"
    }
   ],
   "source": [
    "p.clean(tweet_text)"
   ]
  },
  {
   "cell_type": "markdown",
   "metadata": {},
   "source": [
    "<hr style=\"height:2px; border:none; color:#000; background-color:#000;\">"
   ]
  },
  {
   "cell_type": "markdown",
   "metadata": {},
   "source": [
    "# 12.13 Twitter Streaming API\n",
    "* Streams **randomly selected** live tweets up to a **maximum of 1% of the tweets per day**\n",
    "* According to https://InternetLiveStats.com\n",
    "    * **~8500 tweets per second**\n",
    "    * Nearly **750 million tweets per day**\n",
    "* So Streaming API gives you **free access to approximately 7.5 million tweets/day**"
   ]
  },
  {
   "cell_type": "markdown",
   "metadata": {},
   "source": [
    "<hr style=\"height:2px; border:none; color:#000; background-color:#000;\">"
   ]
  },
  {
   "cell_type": "markdown",
   "metadata": {},
   "source": [
    "## 12.13.1 Creating a Subclass of `StreamListener` \n",
    "* A stream **pushes** tweets to your app via a **persistent connection** \n",
    "* **Streaming rate** varies tremendously, based on search criteria\n",
    "* Subclass of Tweepy’s **`StreamListener`** listens for tweets\n",
    "    * **Notified** when each **new tweet** or other **Twitter message** **arrives**\n",
    "    * Each message results in a call to a **`StreamListener` method**\n",
    "    * **Override** only the **methods you need**\n"
   ]
  },
  {
   "cell_type": "markdown",
   "metadata": {},
   "source": [
    "<hr style=\"height:2px; border:none; color:#000; background-color:#000;\">"
   ]
  },
  {
   "cell_type": "markdown",
   "metadata": {},
   "source": [
    "### `StreamListener` Methods\n",
    "* [`StreamListener` methods](https://github.com/tweepy/tweepy/blob/master/tweepy/streaming.py)  \n",
    "\n",
    "| Method&nbsp;&nbsp;&nbsp;&nbsp;&nbsp;&nbsp;&nbsp;&nbsp;&nbsp;&nbsp;&nbsp;&nbsp;&nbsp;&nbsp;&nbsp;&nbsp;&nbsp;&nbsp;&nbsp;&nbsp;&nbsp;&nbsp;&nbsp;&nbsp;&nbsp;&nbsp;&nbsp;&nbsp;&nbsp;&nbsp;&nbsp;&nbsp;&nbsp;&nbsp;&nbsp;&nbsp;&nbsp;&nbsp;&nbsp;&nbsp;&nbsp;&nbsp;&nbsp;&nbsp;&nbsp;&nbsp;&nbsp;&nbsp;&nbsp;&nbsp;&nbsp;&nbsp;&nbsp;&nbsp;&nbsp;&nbsp;&nbsp;&nbsp;| Called when...\n",
    "| :---\t| :---\n",
    "| **`on_connect(self)`** \t| App **successfully connects** to the Twitter stream. This is for statements that should execute only if your app is connected to the stream.\n",
    "| **`on_status(self, status)`** \t| A **tweet arrives**—**`status`** is a Tweepy **`Status`** object.\n",
    "| **`on_data(self, data)`** \t| A **tweet arrives**—**`data`** is the **raw JSON** of a Twitter status (tweet).\n",
    "| **`on_limit(self, track)`** \t| A **limit notice** arrives. This occurs if your search matches more tweets than Twitter can deliver based on its current streaming rate limits. In this case, the limit notice contains the number of matching tweets that could not be delivered.\n",
    "| **`on_error(self, status_code)`** \t| An **error code** arrives. \n",
    "| **`on_timeout(self)`** \t| The **connection times out**—that is, the Twitter server is not responding.\n",
    "| **`on_warning(self, notice)`** \t| **Twitter sends a disconnect warning** to indicate that the connection might be closed. For example, Twitter maintains a queue of the tweets it’s pushing to your app. If the app does not read the tweets fast enough, `on_warning`’s notice argument will contain a warning message indicating that the connection will terminate if the queue becomes full. "
   ]
  },
  {
   "cell_type": "markdown",
   "metadata": {},
   "source": [
    "<hr style=\"height:2px; border:none; color:#000; background-color:#000;\">"
   ]
  },
  {
   "cell_type": "markdown",
   "metadata": {},
   "source": [
    "### Class `TweetListener` Defined in `tweetlistener.py`\n",
    "```python  \n",
    "# tweetlistener.py\n",
    "\"\"\"tweepy.StreamListener subclass that processes tweets as they arrive.\"\"\"\n",
    "import tweepy\n",
    "from textblob import TextBlob\n",
    "\n",
    "class TweetListener(tweepy.StreamListener):\n",
    "    \"\"\"Handles incoming Tweet stream.\"\"\"\n",
    "```"
   ]
  },
  {
   "cell_type": "markdown",
   "metadata": {},
   "source": [
    "```python  \n",
    "    def __init__(self, api, limit=10):\n",
    "        \"\"\"Create instance variables for tracking number of tweets.\"\"\"\n",
    "        self.tweet_count = 0\n",
    "        self.TWEET_LIMIT = limit  # max number of tweets; None for no max\n",
    "        super().__init__(api)  # call superclass's init\n",
    "\n",
    "    def on_connect(self):\n",
    "        \"\"\"Called when your connection attempt is successful, enabling \n",
    "        you to perform appropriate application tasks at that point.\"\"\"\n",
    "        print('Connection successful\\n')\n",
    "```"
   ]
  },
  {
   "cell_type": "markdown",
   "metadata": {},
   "source": [
    "```python  \n",
    "    def on_status(self, status):\n",
    "        \"\"\"Called when Twitter pushes a new tweet to you.\"\"\"\n",
    "        # get the tweet text\n",
    "        try:  \n",
    "            tweet_text = status.extended_tweet[\"full_text\"]\n",
    "        except: \n",
    "            tweet_text = status.text\n",
    "\n",
    "        print(f'Screen name: {status.user.screen_name}:')\n",
    "        print(f'   Language: {status.lang}')\n",
    "        print(f'     Status: {tweet_text}')\n",
    "\n",
    "        if status.lang != 'en' and status.lang != 'und':\n",
    "            print(f' Translated: {TextBlob(tweet_text).translate()}')\n",
    "\n",
    "        print()\n",
    "        self.tweet_count += 1  # track number of tweets processed\n",
    "\n",
    "        # if TWEET_LIMIT is reached, return False to terminate streaming\n",
    "        return self.tweet_count < self.TWEET_LIMIT\n",
    "```"
   ]
  },
  {
   "cell_type": "markdown",
   "metadata": {},
   "source": [
    "<hr style=\"height:2px; border:none; color:#000; background-color:#000;\">"
   ]
  },
  {
   "cell_type": "markdown",
   "metadata": {},
   "source": [
    "## 12.13.2 Initiating Stream Processing\n",
    "\n",
    "### Creating a `TweetListener` Initializing It with the `api` Object"
   ]
  },
  {
   "cell_type": "code",
   "execution_count": 30,
   "metadata": {},
   "outputs": [],
   "source": [
    "from tweetlistener import TweetListener"
   ]
  },
  {
   "cell_type": "code",
   "execution_count": 31,
   "metadata": {},
   "outputs": [],
   "source": [
    "tweet_listener = TweetListener(api, limit=5)"
   ]
  },
  {
   "cell_type": "markdown",
   "metadata": {},
   "source": [
    "<hr style=\"height:2px; border:none; color:#000; background-color:#000;\">"
   ]
  },
  {
   "cell_type": "markdown",
   "metadata": {},
   "source": [
    "### Creating a Tweepy **`Stream`** Object to Manage the Connection to the Twitter Stream\n",
    "* Passes the messages to your `TweetListener` "
   ]
  },
  {
   "cell_type": "code",
   "execution_count": 32,
   "metadata": {},
   "outputs": [],
   "source": [
    "tweet_stream = tweepy.Stream(auth=api.auth, listener=tweet_listener)"
   ]
  },
  {
   "cell_type": "markdown",
   "metadata": {},
   "source": [
    "<hr style=\"height:2px; border:none; color:#000; background-color:#000;\">"
   ]
  },
  {
   "cell_type": "markdown",
   "metadata": {},
   "source": [
    "### Starting the Tweet Stream with the `Stream` Object’s **`filter` Method** \n",
    "* `track` parameter specifies a list of search terms\n",
    "* [Other `filter` method parameters](https://developer.twitter.com/en/docs/tweets/filter-realtime/guides/basic-stream-parameters) for refining your tweet searches\n",
    "* Streaming API returns full tweet **JSON objects** for tweets that match any of the terms, **not just in the tweet’s text, but also in @-mentions, hashtags, expanded URLs and other information**  \n",
    "* Might not see search terms in **tweets' text**"
   ]
  },
  {
   "cell_type": "code",
   "execution_count": 33,
   "metadata": {},
   "outputs": [
    {
     "name": "stdout",
     "output_type": "stream",
     "text": [
      "Connection successful\n",
      "\n",
      "Screen name: Jajalo_9:\n",
      "   Language: und\n",
      "     Status: https://t.co/lid4ECmiyb\n",
      "\n",
      "Screen name: patcomey:\n",
      "   Language: en\n",
      "     Status: I can never understand why the football analysts are always so derogatory about teams conceding a goal from a corner. Is it not a 50/50 contest when the corner is delivered ? It’s not like you only see it happening 2 or 3 times a season.\n",
      "\n",
      "Screen name: UKfaninOH:\n",
      "   Language: en\n",
      "     Status: RT @JakeOlson61: Not that hard, I can do it with my eyes closed\n",
      "\n",
      "Screen name: water1121697:\n",
      "   Language: in\n",
      "     Status: RT @MuyiwaJr: Ss2 vs Ss3\n",
      "TextBlob was unable to translate tweet\n",
      "\n",
      "Screen name: T_Scavone3:\n",
      "   Language: en\n",
      "     Status: Football almost over 🙏🏻\n",
      "\n"
     ]
    }
   ],
   "source": [
    "tweet_stream.filter(track=['football'])  #, is_async=True) "
   ]
  },
  {
   "cell_type": "markdown",
   "metadata": {},
   "source": [
    "<hr style=\"height:2px; border:none; color:#000; background-color:#000;\">"
   ]
  },
  {
   "cell_type": "markdown",
   "metadata": {},
   "source": [
    "### **Lecture note: Run remaining cells now so we don't have to wait for streamed tweets later.**\n",
    "\n",
    "### Asynchronous vs. Synchronous Streams\n",
    "* **`is_async=True`** &mdash; would initiate an **asynchronous tweet stream** \n",
    "* Without `is_async=True`, the stream is **synchronous** and the next In [] prompt appears **after the stream terminates**    \n",
    "* in Jupyter, we used a **synchronous stream** ensure that all tweets display\n",
    "* In IPython, can terminate an asynchronous tweet stream early:  \n",
    ">`tweet_stream.running=False`    \n"
   ]
  },
  {
   "cell_type": "markdown",
   "metadata": {},
   "source": [
    "<hr style=\"height:2px; border:none; color:#000; background-color:#000;\">"
   ]
  },
  {
   "cell_type": "markdown",
   "metadata": {},
   "source": [
    "# 12.14 Tweet Sentiment Analysis \n",
    "* Political researchers might use to understand **how people are likely to vote**\n",
    "* Companies might use to see what people are saying about **their products** and **competitors’ products**\n",
    "* Script **`sentimentlistener.py`** checks **sentiment** on a specified topic for a specified number of tweets\n",
    "* The script in this example is substantially the same as the previous example, but uses TextBlob to check the sentiment of each tweet as we did in the NLP presentation"
   ]
  },
  {
   "cell_type": "code",
   "execution_count": 34,
   "metadata": {},
   "outputs": [
    {
     "name": "stdout",
     "output_type": "stream",
     "text": [
      "  JTDutch: Do you know why football and basketball are (allegedly) more popular than baseball? Football and basketball are easier and less complicated to bet on. That's pretty much it. Thank you for coming to my TED talk.\n",
      "\n",
      "  blkwomnmatter: I didn't get new ballet slippers unless my toes were hanging out while my brother got new football cleats every season. One of us wanted to go pro and it wasn't him\n",
      "\n",
      "  Penrod_LRT: I think the offensive line and run game is key today! We have the best line in football!\n",
      "\n",
      "  Outlookindia: @IndSuperLeague NorthEast End Winless Streak, Bag Crucial Points Against Jamshedpur @NEUtdFC @JamshedpurFC #football #neufc\n",
      "\n",
      "  _WavyLaw_: @Adasshino It is hard I can’t lie but am kinda done with am just doing the stadium in the back and a bit of the sky and the sunlight all am doing rn I’d totally recommend it if you’re a crazy football/sport fan like me also it’s just 10 chapters only wish it was more tho\n",
      "\n",
      "- HarleyRedDevil: @jimdem84 I don’t think we can stop you men from scoring that’s why and it kills me seeing it Fred, mctom and matic will all start with telles and AWB wing backs.. I’d rather lose 10-0 playing football then have every player behind the ball playing for a 0-0 I want I all out 5-4! 😂\n",
      "\n",
      "+ Bumpy87646116: @kahleb20 @IceColdGnahoua1 @SheffieldUnited Ahhh this guy....bless him, like the rest of the team.... absolutely no idea what good football looks like\n",
      "\n",
      "+ Palogio1: #COYS If football is a religion then Harry Kane is God🤩 You beauty Harry!! We Want More!! 😜😜😜\n",
      "\n",
      "+ swvglord1: @mcwfcweir 300k a season at a top 3 team to be a passenger biggest fraud in women's football\n",
      "\n",
      "+ barton_fm: The latest edition of the Football Quiz, with @RichardPWatts &amp; @p_jw1 is now available. Rounds on: Double winners Football clubs top scorers Football League/Premier League Titles The European Cup Defunct Football Grounds Higher or lower Scotland caps\n",
      "\n",
      "Tweet sentiment for \"football\"\n",
      "Positive: 4\n",
      " Neutral: 5\n",
      "Negative: 1\n"
     ]
    }
   ],
   "source": [
    "run sentimentlistener.py football 10"
   ]
  },
  {
   "cell_type": "markdown",
   "metadata": {},
   "source": [
    "<hr style=\"height:2px; border:none; color:#000; background-color:#000;\">"
   ]
  },
  {
   "cell_type": "markdown",
   "metadata": {},
   "source": [
    "# 12.15 Geocoding and Mapping\n",
    "* Collect **streaming tweets**, then **plot** their **locations** on an **interactive map**\n",
    "* **Twitter disables precise location info (latitude/longitude) by default** (users must opt in to allowing Twitter to track locations) \n",
    "* Large percentage include the user’s home location information\n",
    "    * Sometimes invalid or fictitious \n",
    "* **Map markers** will show `location` from each tweet’s `User` object"
   ]
  },
  {
   "cell_type": "markdown",
   "metadata": {},
   "source": [
    "<hr style=\"height:2px; border:none; color:#000; background-color:#000;\">"
   ]
  },
  {
   "cell_type": "markdown",
   "metadata": {},
   "source": [
    "### [**geopy** library](https://github.com/geopy/geopy)\n",
    "* **Geocoding**&mdash;translate locations into **latitude** and **longitude**\n",
    "* **geopy** supports dozens of **geocoding web services**, many with **free or lite tiers**\n",
    "* We’ll use **OpenMapQuest geocoding service** "
   ]
  },
  {
   "cell_type": "markdown",
   "metadata": {},
   "source": [
    "<hr style=\"height:2px; border:none; color:#000; background-color:#000;\">"
   ]
  },
  {
   "cell_type": "markdown",
   "metadata": {},
   "source": [
    "### OpenMapQuest Geocoding API (1 of 2)\n",
    "* Convert locations, such as **Boston, MA** into their **latitudes** and **longitudes**, such as **42.3602534** and **-71.0582912**, for plotting on maps\n",
    "* Currently allows **15,000 transactions per month** on their free tier\n",
    "* [Sign up](https://developer.mapquest.com/)\n",
    "* For a presentation of **signing up** and **getting your credentials**, see my [**Python Fundamentals LiveLessons video**](https://learning.oreilly.com/videos/python-fundamentals/9780135917411/9780135917411-PFLL_Lesson12_24) or the [**beginning of Section 12.15 in Python for Programmers**](https://learning.oreilly.com/library/view/python-for-programmers/9780135231364/ch12.xhtml#ch12lev1sec15)"
   ]
  },
  {
   "cell_type": "markdown",
   "metadata": {},
   "source": [
    "<hr style=\"height:2px; border:none; color:#000; background-color:#000;\">"
   ]
  },
  {
   "cell_type": "markdown",
   "metadata": {},
   "source": [
    "### [**folium library**](https://github.com/python-visualization/folium) and Leaflet.js JavaScript Mapping Library\n",
    "* Uses **Leaflet.js JavaScript mapping library** to display maps in a web page \n",
    "* Folium can output **HTML documents** for viewing in a **web browser**\n",
    "* `pip install folium`"
   ]
  },
  {
   "cell_type": "markdown",
   "metadata": {},
   "source": [
    "<hr style=\"height:2px; border:none; color:#000; background-color:#000;\">"
   ]
  },
  {
   "cell_type": "markdown",
   "metadata": {},
   "source": [
    "### Maps from OpenStreetMap.org\n",
    "By default, **Leaflet.js** uses **open source maps** from **`OpenStreetMap.org`**\n",
    "* To use these maps, **they require the following copyright notice**:\n",
    "\n",
    "> `Map data © OpenStreetMap contributors`\n",
    "\n",
    "* They also say: **You must make it clear that the data is available under the Open Database License. This can be achieved by providing a “License” or “Terms” link which links to https://www.openstreetmap.org/copyright or https://www.opendatacommons.org/licenses/odbl/index.html**"
   ]
  },
  {
   "cell_type": "markdown",
   "metadata": {},
   "source": [
    "<hr style=\"height:2px; border:none; color:#000; background-color:#000;\">"
   ]
  },
  {
   "cell_type": "markdown",
   "metadata": {},
   "source": [
    "### Collections Required By `LocationListener`\n",
    "* Requires two collections\n",
    "    * A **list (`tweets`)** to store the tweets we collect \n",
    "    * A **dictionary (`counts`)** to track the **total number of tweets** we collect and the **number that have location data**"
   ]
  },
  {
   "cell_type": "code",
   "execution_count": 35,
   "metadata": {},
   "outputs": [],
   "source": [
    "tweets = [] "
   ]
  },
  {
   "cell_type": "code",
   "execution_count": 36,
   "metadata": {},
   "outputs": [],
   "source": [
    "counts = {'total_tweets': 0, 'locations': 0}"
   ]
  },
  {
   "cell_type": "markdown",
   "metadata": {},
   "source": [
    "<hr style=\"height:2px; border:none; color:#000; background-color:#000;\">"
   ]
  },
  {
   "cell_type": "markdown",
   "metadata": {},
   "source": [
    "### Creating the LocationListener "
   ]
  },
  {
   "cell_type": "code",
   "execution_count": 37,
   "metadata": {},
   "outputs": [],
   "source": [
    "from locationlistener import LocationListener"
   ]
  },
  {
   "cell_type": "code",
   "execution_count": 38,
   "metadata": {},
   "outputs": [],
   "source": [
    "location_listener = LocationListener(api, counts_dict=counts, \n",
    "    tweets_list=tweets, topic='football', limit=50)"
   ]
  },
  {
   "cell_type": "markdown",
   "metadata": {},
   "source": [
    "* **`LocationListener`** uses our **utility function `get_tweet_content`** to place each tweets **screen name**, **tweet text** and **location** into a **dictionary**"
   ]
  },
  {
   "cell_type": "markdown",
   "metadata": {},
   "source": [
    "<hr style=\"height:2px; border:none; color:#000; background-color:#000;\">"
   ]
  },
  {
   "cell_type": "markdown",
   "metadata": {},
   "source": [
    "### Configure and Start the `Stream` of Tweets"
   ]
  },
  {
   "cell_type": "code",
   "execution_count": 39,
   "metadata": {},
   "outputs": [],
   "source": [
    "import tweepy"
   ]
  },
  {
   "cell_type": "code",
   "execution_count": 40,
   "metadata": {},
   "outputs": [],
   "source": [
    "stream = tweepy.Stream(auth=api.auth, listener=location_listener)"
   ]
  },
  {
   "cell_type": "code",
   "execution_count": 41,
   "metadata": {},
   "outputs": [
    {
     "name": "stdout",
     "output_type": "stream",
     "text": [
      "cardwell1976: @tvp_mk me and my son have been asked to leave a football pitch for having a kick about and was told that this wasn’t a form of exercise. I was also told that we were reported and could be fined £200 next time. Is football not a form of exercise anymore??\n",
      "\n"
     ]
    }
   ],
   "source": [
    "stream.filter(track=['football'], languages=['en'], is_async=False)"
   ]
  },
  {
   "cell_type": "markdown",
   "metadata": {},
   "source": [
    "<hr style=\"height:2px; border:none; color:#000; background-color:#000;\">"
   ]
  },
  {
   "cell_type": "markdown",
   "metadata": {},
   "source": [
    "### Displaying the Location Statistics "
   ]
  },
  {
   "cell_type": "code",
   "execution_count": 42,
   "metadata": {},
   "outputs": [
    {
     "data": {
      "text/plain": [
       "79"
      ]
     },
     "execution_count": 42,
     "metadata": {},
     "output_type": "execute_result"
    }
   ],
   "source": [
    "counts['total_tweets']"
   ]
  },
  {
   "cell_type": "code",
   "execution_count": 43,
   "metadata": {},
   "outputs": [
    {
     "data": {
      "text/plain": [
       "50"
      ]
     },
     "execution_count": 43,
     "metadata": {},
     "output_type": "execute_result"
    }
   ],
   "source": [
    "counts['locations']"
   ]
  },
  {
   "cell_type": "code",
   "execution_count": 44,
   "metadata": {},
   "outputs": [
    {
     "name": "stdout",
     "output_type": "stream",
     "text": [
      "63.3%\n"
     ]
    }
   ],
   "source": [
    "print(f'{counts[\"locations\"] / counts[\"total_tweets\"]:.1%}')"
   ]
  },
  {
   "cell_type": "markdown",
   "metadata": {},
   "source": [
    "<hr style=\"height:2px; border:none; color:#000; background-color:#000;\">"
   ]
  },
  {
   "cell_type": "markdown",
   "metadata": {},
   "source": [
    "### Geocoding the Locations with Our `get_geocodes` Utility Function \n",
    "* **OpenMapQuest** geocoding service **times out** when it **cannot handle your request immediately**\n",
    "* If so, **`get_geocodes`** **notifies** you, **waits**, then **retries** the request"
   ]
  },
  {
   "cell_type": "code",
   "execution_count": 45,
   "metadata": {},
   "outputs": [],
   "source": [
    "from tweetutilities import get_geocodes"
   ]
  },
  {
   "cell_type": "code",
   "execution_count": 46,
   "metadata": {},
   "outputs": [
    {
     "name": "stdout",
     "output_type": "stream",
     "text": [
      "Getting coordinates for tweet locations...\n",
      "Service timed out\n",
      "OpenMapQuest service timed out. Waiting.\n",
      "Service timed out\n",
      "OpenMapQuest service timed out. Waiting.\n",
      "Service timed out\n",
      "OpenMapQuest service timed out. Waiting.\n",
      "Service timed out\n",
      "OpenMapQuest service timed out. Waiting.\n",
      "Service timed out\n",
      "OpenMapQuest service timed out. Waiting.\n",
      "Service timed out\n",
      "OpenMapQuest service timed out. Waiting.\n",
      "Service timed out\n",
      "OpenMapQuest service timed out. Waiting.\n",
      "Service timed out\n",
      "OpenMapQuest service timed out. Waiting.\n",
      "Service timed out\n",
      "OpenMapQuest service timed out. Waiting.\n",
      "Done geocoding\n"
     ]
    }
   ],
   "source": [
    "bad_locations = get_geocodes(tweets)"
   ]
  },
  {
   "cell_type": "markdown",
   "metadata": {},
   "source": [
    "<hr style=\"height:2px; border:none; color:#000; background-color:#000;\">"
   ]
  },
  {
   "cell_type": "markdown",
   "metadata": {},
   "source": [
    "### Displaying the Bad Location Statistics"
   ]
  },
  {
   "cell_type": "code",
   "execution_count": 47,
   "metadata": {},
   "outputs": [
    {
     "data": {
      "text/plain": [
       "10"
      ]
     },
     "execution_count": 47,
     "metadata": {},
     "output_type": "execute_result"
    }
   ],
   "source": [
    "bad_locations"
   ]
  },
  {
   "cell_type": "code",
   "execution_count": 48,
   "metadata": {},
   "outputs": [
    {
     "name": "stdout",
     "output_type": "stream",
     "text": [
      "20.0%\n"
     ]
    }
   ],
   "source": [
    "print(f'{bad_locations / counts[\"locations\"]:.1%}')"
   ]
  },
  {
   "cell_type": "markdown",
   "metadata": {},
   "source": [
    "<hr style=\"height:2px; border:none; color:#000; background-color:#000;\">"
   ]
  },
  {
   "cell_type": "markdown",
   "metadata": {},
   "source": [
    "### Cleaning the Data with a pandas `DataFrame` Before Displaying the Data on a Map\n",
    "* `DataFrame` will contain **`NaN`** for the **`latitude`** and **`longitude`** of any tweet that **did not have a valid location**\n",
    "* Remove any such via `DataFrame`’s **`dropna` method** "
   ]
  },
  {
   "cell_type": "code",
   "execution_count": 49,
   "metadata": {},
   "outputs": [],
   "source": [
    "import pandas as pd"
   ]
  },
  {
   "cell_type": "code",
   "execution_count": 50,
   "metadata": {},
   "outputs": [],
   "source": [
    "df = pd.DataFrame(tweets)"
   ]
  },
  {
   "cell_type": "code",
   "execution_count": 51,
   "metadata": {},
   "outputs": [
    {
     "data": {
      "text/html": [
       "<div>\n",
       "<style scoped>\n",
       "    .dataframe tbody tr th:only-of-type {\n",
       "        vertical-align: middle;\n",
       "    }\n",
       "\n",
       "    .dataframe tbody tr th {\n",
       "        vertical-align: top;\n",
       "    }\n",
       "\n",
       "    .dataframe thead th {\n",
       "        text-align: right;\n",
       "    }\n",
       "</style>\n",
       "<table border=\"1\" class=\"dataframe\">\n",
       "  <thead>\n",
       "    <tr style=\"text-align: right;\">\n",
       "      <th></th>\n",
       "      <th>screen_name</th>\n",
       "      <th>text</th>\n",
       "      <th>location</th>\n",
       "      <th>latitude</th>\n",
       "      <th>longitude</th>\n",
       "    </tr>\n",
       "  </thead>\n",
       "  <tbody>\n",
       "    <tr>\n",
       "      <th>0</th>\n",
       "      <td>kadunaconnect</td>\n",
       "      <td>If I slap you ehen! \\n\\nStop all this football...</td>\n",
       "      <td>On your mind</td>\n",
       "      <td>NaN</td>\n",
       "      <td>NaN</td>\n",
       "    </tr>\n",
       "    <tr>\n",
       "      <th>1</th>\n",
       "      <td>thiccsilv3r99</td>\n",
       "      <td>@GamerTheThird I win at MADDEN FOOTBALL 2012</td>\n",
       "      <td>Wisconsin, USA</td>\n",
       "      <td>44.430898</td>\n",
       "      <td>-89.688464</td>\n",
       "    </tr>\n",
       "    <tr>\n",
       "      <th>2</th>\n",
       "      <td>jackiesmartens</td>\n",
       "      <td>press almost omds that was actually some good ...</td>\n",
       "      <td>muwfc | fcb femení | nedwnt</td>\n",
       "      <td>NaN</td>\n",
       "      <td>NaN</td>\n",
       "    </tr>\n",
       "    <tr>\n",
       "      <th>3</th>\n",
       "      <td>elitefootball</td>\n",
       "      <td>Get better today at Elite Football Skills Trai...</td>\n",
       "      <td>Saint Louis,MO</td>\n",
       "      <td>38.633772</td>\n",
       "      <td>-90.241655</td>\n",
       "    </tr>\n",
       "    <tr>\n",
       "      <th>4</th>\n",
       "      <td>clarey_marc</td>\n",
       "      <td>@fee_lufc Never gets spoken about enough. Foot...</td>\n",
       "      <td>East London</td>\n",
       "      <td>-33.019160</td>\n",
       "      <td>27.899857</td>\n",
       "    </tr>\n",
       "    <tr>\n",
       "      <th>5</th>\n",
       "      <td>Konkey_donger</td>\n",
       "      <td>@BorisJohnson @Conservatives Health Secretary ...</td>\n",
       "      <td>United Kingdom</td>\n",
       "      <td>25.223228</td>\n",
       "      <td>55.159493</td>\n",
       "    </tr>\n",
       "    <tr>\n",
       "      <th>6</th>\n",
       "      <td>OJobsmarket</td>\n",
       "      <td>I'm a former NFL pro who started a winery with...</td>\n",
       "      <td>San Francisco, CA</td>\n",
       "      <td>46.844325</td>\n",
       "      <td>-71.274327</td>\n",
       "    </tr>\n",
       "    <tr>\n",
       "      <th>7</th>\n",
       "      <td>mckinney1923</td>\n",
       "      <td>@1410Kinner When it’s all said and done, it’s ...</td>\n",
       "      <td>Yellow Springs Ohio</td>\n",
       "      <td>39.804543</td>\n",
       "      <td>-83.892523</td>\n",
       "    </tr>\n",
       "    <tr>\n",
       "      <th>8</th>\n",
       "      <td>vistabucs</td>\n",
       "      <td>@Sphakajuju We are happy for the trophy but he...</td>\n",
       "      <td>Afrika</td>\n",
       "      <td>2.000000</td>\n",
       "      <td>16.000000</td>\n",
       "    </tr>\n",
       "    <tr>\n",
       "      <th>9</th>\n",
       "      <td>AkayMason</td>\n",
       "      <td>@SleemPriest Football didn't start in 2014, we...</td>\n",
       "      <td>ÜT: -26.020056,27.969545</td>\n",
       "      <td>NaN</td>\n",
       "      <td>NaN</td>\n",
       "    </tr>\n",
       "    <tr>\n",
       "      <th>10</th>\n",
       "      <td>eke___</td>\n",
       "      <td>Does this include discussing political ideolog...</td>\n",
       "      <td>Up and about in Lagos.</td>\n",
       "      <td>NaN</td>\n",
       "      <td>NaN</td>\n",
       "    </tr>\n",
       "    <tr>\n",
       "      <th>11</th>\n",
       "      <td>Steviethestud</td>\n",
       "      <td>@Boyle_67 People don’t just want anyone. Eddie...</td>\n",
       "      <td>Scotland</td>\n",
       "      <td>56.786111</td>\n",
       "      <td>-4.114052</td>\n",
       "    </tr>\n",
       "    <tr>\n",
       "      <th>12</th>\n",
       "      <td>frailwhitegirl</td>\n",
       "      <td>There Will Be Football</td>\n",
       "      <td>bong</td>\n",
       "      <td>6.962219</td>\n",
       "      <td>-9.713446</td>\n",
       "    </tr>\n",
       "    <tr>\n",
       "      <th>13</th>\n",
       "      <td>VernDiesal</td>\n",
       "      <td>What I do know is Pali alto never got close to...</td>\n",
       "      <td>Las Vegas, NV</td>\n",
       "      <td>36.166286</td>\n",
       "      <td>-115.149225</td>\n",
       "    </tr>\n",
       "    <tr>\n",
       "      <th>14</th>\n",
       "      <td>barasajoel2</td>\n",
       "      <td>I’m a former NFL pro who started a winery with...</td>\n",
       "      <td>Wittenberg University</td>\n",
       "      <td>39.935108</td>\n",
       "      <td>-83.813055</td>\n",
       "    </tr>\n",
       "    <tr>\n",
       "      <th>15</th>\n",
       "      <td>LetsGetRichPod</td>\n",
       "      <td>Yesterday results:\\n\\nCollege Hoops: 1-2-1\\nCo...</td>\n",
       "      <td>Boston, MA</td>\n",
       "      <td>42.360253</td>\n",
       "      <td>-71.058291</td>\n",
       "    </tr>\n",
       "    <tr>\n",
       "      <th>16</th>\n",
       "      <td>bfont154</td>\n",
       "      <td>@BlainBech @jackbech7 @jackbech7 👏🏻his season ...</td>\n",
       "      <td>Lafayette, LA</td>\n",
       "      <td>30.224090</td>\n",
       "      <td>-92.019843</td>\n",
       "    </tr>\n",
       "    <tr>\n",
       "      <th>17</th>\n",
       "      <td>il_moniker</td>\n",
       "      <td>I wonder if this moron ever told Colin Kaepern...</td>\n",
       "      <td>philadelphia, pa</td>\n",
       "      <td>39.952399</td>\n",
       "      <td>-75.163590</td>\n",
       "    </tr>\n",
       "    <tr>\n",
       "      <th>18</th>\n",
       "      <td>DRC1872</td>\n",
       "      <td>Love football. Live and breathe it but, if my ...</td>\n",
       "      <td>Scotland, United Kingdom</td>\n",
       "      <td>56.786111</td>\n",
       "      <td>-4.114052</td>\n",
       "    </tr>\n",
       "    <tr>\n",
       "      <th>19</th>\n",
       "      <td>BostonNooga</td>\n",
       "      <td>Real excited for my lifetime for one week favo...</td>\n",
       "      <td>Chattanooga, TN</td>\n",
       "      <td>35.045630</td>\n",
       "      <td>-85.309680</td>\n",
       "    </tr>\n",
       "    <tr>\n",
       "      <th>20</th>\n",
       "      <td>thenne7</td>\n",
       "      <td>Assignment football is and will forever be the...</td>\n",
       "      <td>Hazlet, NJ</td>\n",
       "      <td>40.415664</td>\n",
       "      <td>-74.190977</td>\n",
       "    </tr>\n",
       "    <tr>\n",
       "      <th>21</th>\n",
       "      <td>DeeMayweather</td>\n",
       "      <td>@oh_puppy3 No it ain’t hit, I’m done til colle...</td>\n",
       "      <td>Second n D blvd.</td>\n",
       "      <td>NaN</td>\n",
       "      <td>NaN</td>\n",
       "    </tr>\n",
       "    <tr>\n",
       "      <th>22</th>\n",
       "      <td>_aiscott</td>\n",
       "      <td>excuse me graeme sourness there is nothing wro...</td>\n",
       "      <td>Swansea, Wales</td>\n",
       "      <td>51.621144</td>\n",
       "      <td>-3.946775</td>\n",
       "    </tr>\n",
       "    <tr>\n",
       "      <th>23</th>\n",
       "      <td>Azola_17</td>\n",
       "      <td>Mud football in full display, there's no CONSI...</td>\n",
       "      <td>South Africa</td>\n",
       "      <td>-28.816624</td>\n",
       "      <td>24.991639</td>\n",
       "    </tr>\n",
       "    <tr>\n",
       "      <th>24</th>\n",
       "      <td>Paul_Timx7</td>\n",
       "      <td>@iam_foleymessi In the deal there's a clause M...</td>\n",
       "      <td>Bermuda Triangle, Black 🕳</td>\n",
       "      <td>NaN</td>\n",
       "      <td>NaN</td>\n",
       "    </tr>\n",
       "    <tr>\n",
       "      <th>25</th>\n",
       "      <td>iBenBrown</td>\n",
       "      <td>Thank you, Canden. On behalf of my family, we ...</td>\n",
       "      <td>South Jordan, UT</td>\n",
       "      <td>40.562170</td>\n",
       "      <td>-111.929658</td>\n",
       "    </tr>\n",
       "    <tr>\n",
       "      <th>26</th>\n",
       "      <td>ScrubTactic</td>\n",
       "      <td>@ImHalford @IstealTweets_ @billythakiiid @Hood...</td>\n",
       "      <td>BROOKYLN MADE 💯❄️</td>\n",
       "      <td>NaN</td>\n",
       "      <td>NaN</td>\n",
       "    </tr>\n",
       "    <tr>\n",
       "      <th>27</th>\n",
       "      <td>AdamJack10</td>\n",
       "      <td>Wtf have I just got an Insta ad for 😂 Can’t wa...</td>\n",
       "      <td>Scotland</td>\n",
       "      <td>56.786111</td>\n",
       "      <td>-4.114052</td>\n",
       "    </tr>\n",
       "    <tr>\n",
       "      <th>28</th>\n",
       "      <td>karen_jones22</td>\n",
       "      <td>@SpaJw I am newish to football and I thought E...</td>\n",
       "      <td>Next to the gin bottle</td>\n",
       "      <td>NaN</td>\n",
       "      <td>NaN</td>\n",
       "    </tr>\n",
       "    <tr>\n",
       "      <th>29</th>\n",
       "      <td>bethanytymms</td>\n",
       "      <td>Gonna be watching the football through gaps in...</td>\n",
       "      <td>South West, England</td>\n",
       "      <td>52.795479</td>\n",
       "      <td>-0.540240</td>\n",
       "    </tr>\n",
       "    <tr>\n",
       "      <th>30</th>\n",
       "      <td>Bez1074</td>\n",
       "      <td>@jjenas8 Do you ever talk to Jose and the play...</td>\n",
       "      <td>Essex</td>\n",
       "      <td>51.796705</td>\n",
       "      <td>0.579339</td>\n",
       "    </tr>\n",
       "    <tr>\n",
       "      <th>31</th>\n",
       "      <td>hemsqueezy</td>\n",
       "      <td>@ChildsWalker So it’s ok to play subpar footba...</td>\n",
       "      <td>Royal Palm Beach, FL</td>\n",
       "      <td>26.701755</td>\n",
       "      <td>-80.223384</td>\n",
       "    </tr>\n",
       "    <tr>\n",
       "      <th>32</th>\n",
       "      <td>ExtraPaleMale</td>\n",
       "      <td>@BirkMatt Maybe you’ll understand football ter...</td>\n",
       "      <td>Twin Cities, MN</td>\n",
       "      <td>NaN</td>\n",
       "      <td>NaN</td>\n",
       "    </tr>\n",
       "    <tr>\n",
       "      <th>33</th>\n",
       "      <td>ThomasPanter</td>\n",
       "      <td>@NatashaLink1 As a man who hates football I fe...</td>\n",
       "      <td>London, England</td>\n",
       "      <td>51.507322</td>\n",
       "      <td>-0.127647</td>\n",
       "    </tr>\n",
       "    <tr>\n",
       "      <th>34</th>\n",
       "      <td>Viksss38012637</td>\n",
       "      <td>@UtdEIIis Who tf is this bitch who thinks he k...</td>\n",
       "      <td>San Diego, California</td>\n",
       "      <td>32.717421</td>\n",
       "      <td>-117.162771</td>\n",
       "    </tr>\n",
       "    <tr>\n",
       "      <th>35</th>\n",
       "      <td>jonathonchapma2</td>\n",
       "      <td>@JoeMBell Brexit football mate, no need to loo...</td>\n",
       "      <td>England, United Kingdom</td>\n",
       "      <td>52.795479</td>\n",
       "      <td>-0.540240</td>\n",
       "    </tr>\n",
       "    <tr>\n",
       "      <th>36</th>\n",
       "      <td>swspurs</td>\n",
       "      <td>@Ryan_Matt98 I know loads who hate the footbal...</td>\n",
       "      <td>London</td>\n",
       "      <td>51.507322</td>\n",
       "      <td>-0.127647</td>\n",
       "    </tr>\n",
       "    <tr>\n",
       "      <th>37</th>\n",
       "      <td>Megrez123456</td>\n",
       "      <td>One of the most happiest moment for me watchin...</td>\n",
       "      <td>Kathmandu, Nepal</td>\n",
       "      <td>27.708796</td>\n",
       "      <td>85.320244</td>\n",
       "    </tr>\n",
       "    <tr>\n",
       "      <th>38</th>\n",
       "      <td>ashthompson1975</td>\n",
       "      <td>@ASHILinRealLife Come watch our team play foot...</td>\n",
       "      <td>JoBurg</td>\n",
       "      <td>7.247990</td>\n",
       "      <td>-9.143780</td>\n",
       "    </tr>\n",
       "    <tr>\n",
       "      <th>39</th>\n",
       "      <td>kahleb20</td>\n",
       "      <td>@markclosemf @SheffieldUnited His basic positi...</td>\n",
       "      <td>United Kingdom</td>\n",
       "      <td>25.223228</td>\n",
       "      <td>55.159493</td>\n",
       "    </tr>\n",
       "    <tr>\n",
       "      <th>40</th>\n",
       "      <td>1218Sports</td>\n",
       "      <td>#FreePicks \\n#Sportsbetting\\n\\n15*\\n\\nParlay (...</td>\n",
       "      <td>New England</td>\n",
       "      <td>52.593419</td>\n",
       "      <td>-0.249198</td>\n",
       "    </tr>\n",
       "    <tr>\n",
       "      <th>41</th>\n",
       "      <td>IGHafiifii</td>\n",
       "      <td>@m_ani786 @razziparks1 It’s just an observatio...</td>\n",
       "      <td>South Africa</td>\n",
       "      <td>-28.816624</td>\n",
       "      <td>24.991639</td>\n",
       "    </tr>\n",
       "    <tr>\n",
       "      <th>42</th>\n",
       "      <td>barasajoel2</td>\n",
       "      <td>Milan: Theo and Calhanoglu positive for COVID ...</td>\n",
       "      <td>Wittenberg University</td>\n",
       "      <td>39.935108</td>\n",
       "      <td>-83.813055</td>\n",
       "    </tr>\n",
       "    <tr>\n",
       "      <th>43</th>\n",
       "      <td>kdusidame</td>\n",
       "      <td>If there’s Stingy Football Club Association (S...</td>\n",
       "      <td>Abuja, Nigeria</td>\n",
       "      <td>9.064331</td>\n",
       "      <td>7.489297</td>\n",
       "    </tr>\n",
       "    <tr>\n",
       "      <th>44</th>\n",
       "      <td>terryrickard</td>\n",
       "      <td>@BualadhBus @Bash_Rich Liked it when Bashir op...</td>\n",
       "      <td>Enniscorthy, Wexford, Ireland</td>\n",
       "      <td>52.501149</td>\n",
       "      <td>-6.567494</td>\n",
       "    </tr>\n",
       "    <tr>\n",
       "      <th>45</th>\n",
       "      <td>JackCudAVFC</td>\n",
       "      <td>Graeme Souness is one of if not the worst pund...</td>\n",
       "      <td>Barnsley</td>\n",
       "      <td>53.552772</td>\n",
       "      <td>-1.482776</td>\n",
       "    </tr>\n",
       "    <tr>\n",
       "      <th>46</th>\n",
       "      <td>Dawny1875</td>\n",
       "      <td>@darynsimon My sons high school just asked tha...</td>\n",
       "      <td>Edinburgh</td>\n",
       "      <td>55.949563</td>\n",
       "      <td>-3.191497</td>\n",
       "    </tr>\n",
       "    <tr>\n",
       "      <th>47</th>\n",
       "      <td>itspremanalysis</td>\n",
       "      <td>Anyone wanna join a football server on discord?</td>\n",
       "      <td>In your thoughts</td>\n",
       "      <td>NaN</td>\n",
       "      <td>NaN</td>\n",
       "    </tr>\n",
       "    <tr>\n",
       "      <th>48</th>\n",
       "      <td>AffiliateTiki</td>\n",
       "      <td>Pop-A-Shot Official Home Single Shot Arcade Ba...</td>\n",
       "      <td>Israel</td>\n",
       "      <td>30.876027</td>\n",
       "      <td>35.001520</td>\n",
       "    </tr>\n",
       "    <tr>\n",
       "      <th>49</th>\n",
       "      <td>cardwell1976</td>\n",
       "      <td>@tvp_mk me and my son have been asked to leave...</td>\n",
       "      <td>Milton Keynes, England</td>\n",
       "      <td>52.042980</td>\n",
       "      <td>-0.758961</td>\n",
       "    </tr>\n",
       "  </tbody>\n",
       "</table>\n",
       "</div>"
      ],
      "text/plain": [
       "        screen_name                                               text  \\\n",
       "0     kadunaconnect  If I slap you ehen! \\n\\nStop all this football...   \n",
       "1     thiccsilv3r99       @GamerTheThird I win at MADDEN FOOTBALL 2012   \n",
       "2    jackiesmartens  press almost omds that was actually some good ...   \n",
       "3     elitefootball  Get better today at Elite Football Skills Trai...   \n",
       "4       clarey_marc  @fee_lufc Never gets spoken about enough. Foot...   \n",
       "5     Konkey_donger  @BorisJohnson @Conservatives Health Secretary ...   \n",
       "6       OJobsmarket  I'm a former NFL pro who started a winery with...   \n",
       "7      mckinney1923  @1410Kinner When it’s all said and done, it’s ...   \n",
       "8         vistabucs  @Sphakajuju We are happy for the trophy but he...   \n",
       "9         AkayMason  @SleemPriest Football didn't start in 2014, we...   \n",
       "10           eke___  Does this include discussing political ideolog...   \n",
       "11    Steviethestud  @Boyle_67 People don’t just want anyone. Eddie...   \n",
       "12   frailwhitegirl                             There Will Be Football   \n",
       "13       VernDiesal  What I do know is Pali alto never got close to...   \n",
       "14      barasajoel2  I’m a former NFL pro who started a winery with...   \n",
       "15   LetsGetRichPod  Yesterday results:\\n\\nCollege Hoops: 1-2-1\\nCo...   \n",
       "16         bfont154  @BlainBech @jackbech7 @jackbech7 👏🏻his season ...   \n",
       "17       il_moniker  I wonder if this moron ever told Colin Kaepern...   \n",
       "18          DRC1872  Love football. Live and breathe it but, if my ...   \n",
       "19      BostonNooga  Real excited for my lifetime for one week favo...   \n",
       "20          thenne7  Assignment football is and will forever be the...   \n",
       "21    DeeMayweather  @oh_puppy3 No it ain’t hit, I’m done til colle...   \n",
       "22         _aiscott  excuse me graeme sourness there is nothing wro...   \n",
       "23         Azola_17  Mud football in full display, there's no CONSI...   \n",
       "24       Paul_Timx7  @iam_foleymessi In the deal there's a clause M...   \n",
       "25        iBenBrown  Thank you, Canden. On behalf of my family, we ...   \n",
       "26      ScrubTactic  @ImHalford @IstealTweets_ @billythakiiid @Hood...   \n",
       "27       AdamJack10  Wtf have I just got an Insta ad for 😂 Can’t wa...   \n",
       "28    karen_jones22  @SpaJw I am newish to football and I thought E...   \n",
       "29     bethanytymms  Gonna be watching the football through gaps in...   \n",
       "30          Bez1074  @jjenas8 Do you ever talk to Jose and the play...   \n",
       "31       hemsqueezy  @ChildsWalker So it’s ok to play subpar footba...   \n",
       "32    ExtraPaleMale  @BirkMatt Maybe you’ll understand football ter...   \n",
       "33     ThomasPanter  @NatashaLink1 As a man who hates football I fe...   \n",
       "34   Viksss38012637  @UtdEIIis Who tf is this bitch who thinks he k...   \n",
       "35  jonathonchapma2  @JoeMBell Brexit football mate, no need to loo...   \n",
       "36          swspurs  @Ryan_Matt98 I know loads who hate the footbal...   \n",
       "37     Megrez123456  One of the most happiest moment for me watchin...   \n",
       "38  ashthompson1975  @ASHILinRealLife Come watch our team play foot...   \n",
       "39         kahleb20  @markclosemf @SheffieldUnited His basic positi...   \n",
       "40       1218Sports  #FreePicks \\n#Sportsbetting\\n\\n15*\\n\\nParlay (...   \n",
       "41       IGHafiifii  @m_ani786 @razziparks1 It’s just an observatio...   \n",
       "42      barasajoel2  Milan: Theo and Calhanoglu positive for COVID ...   \n",
       "43        kdusidame  If there’s Stingy Football Club Association (S...   \n",
       "44     terryrickard  @BualadhBus @Bash_Rich Liked it when Bashir op...   \n",
       "45      JackCudAVFC  Graeme Souness is one of if not the worst pund...   \n",
       "46        Dawny1875  @darynsimon My sons high school just asked tha...   \n",
       "47  itspremanalysis    Anyone wanna join a football server on discord?   \n",
       "48    AffiliateTiki  Pop-A-Shot Official Home Single Shot Arcade Ba...   \n",
       "49     cardwell1976  @tvp_mk me and my son have been asked to leave...   \n",
       "\n",
       "                         location   latitude   longitude  \n",
       "0                    On your mind        NaN         NaN  \n",
       "1                  Wisconsin, USA  44.430898  -89.688464  \n",
       "2     muwfc | fcb femení | nedwnt        NaN         NaN  \n",
       "3                  Saint Louis,MO  38.633772  -90.241655  \n",
       "4                     East London -33.019160   27.899857  \n",
       "5                  United Kingdom  25.223228   55.159493  \n",
       "6               San Francisco, CA  46.844325  -71.274327  \n",
       "7             Yellow Springs Ohio  39.804543  -83.892523  \n",
       "8                          Afrika   2.000000   16.000000  \n",
       "9        ÜT: -26.020056,27.969545        NaN         NaN  \n",
       "10         Up and about in Lagos.        NaN         NaN  \n",
       "11                       Scotland  56.786111   -4.114052  \n",
       "12                           bong   6.962219   -9.713446  \n",
       "13                  Las Vegas, NV  36.166286 -115.149225  \n",
       "14          Wittenberg University  39.935108  -83.813055  \n",
       "15                     Boston, MA  42.360253  -71.058291  \n",
       "16                  Lafayette, LA  30.224090  -92.019843  \n",
       "17               philadelphia, pa  39.952399  -75.163590  \n",
       "18       Scotland, United Kingdom  56.786111   -4.114052  \n",
       "19                Chattanooga, TN  35.045630  -85.309680  \n",
       "20                     Hazlet, NJ  40.415664  -74.190977  \n",
       "21               Second n D blvd.        NaN         NaN  \n",
       "22                 Swansea, Wales  51.621144   -3.946775  \n",
       "23                   South Africa -28.816624   24.991639  \n",
       "24     Bermuda Triangle, Black 🕳         NaN         NaN  \n",
       "25               South Jordan, UT  40.562170 -111.929658  \n",
       "26              BROOKYLN MADE 💯❄️        NaN         NaN  \n",
       "27                       Scotland  56.786111   -4.114052  \n",
       "28         Next to the gin bottle        NaN         NaN  \n",
       "29            South West, England  52.795479   -0.540240  \n",
       "30                          Essex  51.796705    0.579339  \n",
       "31           Royal Palm Beach, FL  26.701755  -80.223384  \n",
       "32                Twin Cities, MN        NaN         NaN  \n",
       "33                London, England  51.507322   -0.127647  \n",
       "34          San Diego, California  32.717421 -117.162771  \n",
       "35        England, United Kingdom  52.795479   -0.540240  \n",
       "36                         London  51.507322   -0.127647  \n",
       "37               Kathmandu, Nepal  27.708796   85.320244  \n",
       "38                         JoBurg   7.247990   -9.143780  \n",
       "39                 United Kingdom  25.223228   55.159493  \n",
       "40                    New England  52.593419   -0.249198  \n",
       "41                   South Africa -28.816624   24.991639  \n",
       "42          Wittenberg University  39.935108  -83.813055  \n",
       "43                 Abuja, Nigeria   9.064331    7.489297  \n",
       "44  Enniscorthy, Wexford, Ireland  52.501149   -6.567494  \n",
       "45                       Barnsley  53.552772   -1.482776  \n",
       "46                      Edinburgh  55.949563   -3.191497  \n",
       "47               In your thoughts        NaN         NaN  \n",
       "48                         Israel  30.876027   35.001520  \n",
       "49         Milton Keynes, England  52.042980   -0.758961  "
      ]
     },
     "execution_count": 51,
     "metadata": {},
     "output_type": "execute_result"
    }
   ],
   "source": [
    "df"
   ]
  },
  {
   "cell_type": "code",
   "execution_count": 52,
   "metadata": {},
   "outputs": [],
   "source": [
    "df = df.dropna()"
   ]
  },
  {
   "cell_type": "code",
   "execution_count": 53,
   "metadata": {},
   "outputs": [
    {
     "data": {
      "text/html": [
       "<div>\n",
       "<style scoped>\n",
       "    .dataframe tbody tr th:only-of-type {\n",
       "        vertical-align: middle;\n",
       "    }\n",
       "\n",
       "    .dataframe tbody tr th {\n",
       "        vertical-align: top;\n",
       "    }\n",
       "\n",
       "    .dataframe thead th {\n",
       "        text-align: right;\n",
       "    }\n",
       "</style>\n",
       "<table border=\"1\" class=\"dataframe\">\n",
       "  <thead>\n",
       "    <tr style=\"text-align: right;\">\n",
       "      <th></th>\n",
       "      <th>screen_name</th>\n",
       "      <th>text</th>\n",
       "      <th>location</th>\n",
       "      <th>latitude</th>\n",
       "      <th>longitude</th>\n",
       "    </tr>\n",
       "  </thead>\n",
       "  <tbody>\n",
       "    <tr>\n",
       "      <th>1</th>\n",
       "      <td>thiccsilv3r99</td>\n",
       "      <td>@GamerTheThird I win at MADDEN FOOTBALL 2012</td>\n",
       "      <td>Wisconsin, USA</td>\n",
       "      <td>44.430898</td>\n",
       "      <td>-89.688464</td>\n",
       "    </tr>\n",
       "    <tr>\n",
       "      <th>3</th>\n",
       "      <td>elitefootball</td>\n",
       "      <td>Get better today at Elite Football Skills Trai...</td>\n",
       "      <td>Saint Louis,MO</td>\n",
       "      <td>38.633772</td>\n",
       "      <td>-90.241655</td>\n",
       "    </tr>\n",
       "    <tr>\n",
       "      <th>4</th>\n",
       "      <td>clarey_marc</td>\n",
       "      <td>@fee_lufc Never gets spoken about enough. Foot...</td>\n",
       "      <td>East London</td>\n",
       "      <td>-33.019160</td>\n",
       "      <td>27.899857</td>\n",
       "    </tr>\n",
       "    <tr>\n",
       "      <th>5</th>\n",
       "      <td>Konkey_donger</td>\n",
       "      <td>@BorisJohnson @Conservatives Health Secretary ...</td>\n",
       "      <td>United Kingdom</td>\n",
       "      <td>25.223228</td>\n",
       "      <td>55.159493</td>\n",
       "    </tr>\n",
       "    <tr>\n",
       "      <th>6</th>\n",
       "      <td>OJobsmarket</td>\n",
       "      <td>I'm a former NFL pro who started a winery with...</td>\n",
       "      <td>San Francisco, CA</td>\n",
       "      <td>46.844325</td>\n",
       "      <td>-71.274327</td>\n",
       "    </tr>\n",
       "    <tr>\n",
       "      <th>7</th>\n",
       "      <td>mckinney1923</td>\n",
       "      <td>@1410Kinner When it’s all said and done, it’s ...</td>\n",
       "      <td>Yellow Springs Ohio</td>\n",
       "      <td>39.804543</td>\n",
       "      <td>-83.892523</td>\n",
       "    </tr>\n",
       "    <tr>\n",
       "      <th>8</th>\n",
       "      <td>vistabucs</td>\n",
       "      <td>@Sphakajuju We are happy for the trophy but he...</td>\n",
       "      <td>Afrika</td>\n",
       "      <td>2.000000</td>\n",
       "      <td>16.000000</td>\n",
       "    </tr>\n",
       "    <tr>\n",
       "      <th>11</th>\n",
       "      <td>Steviethestud</td>\n",
       "      <td>@Boyle_67 People don’t just want anyone. Eddie...</td>\n",
       "      <td>Scotland</td>\n",
       "      <td>56.786111</td>\n",
       "      <td>-4.114052</td>\n",
       "    </tr>\n",
       "    <tr>\n",
       "      <th>12</th>\n",
       "      <td>frailwhitegirl</td>\n",
       "      <td>There Will Be Football</td>\n",
       "      <td>bong</td>\n",
       "      <td>6.962219</td>\n",
       "      <td>-9.713446</td>\n",
       "    </tr>\n",
       "    <tr>\n",
       "      <th>13</th>\n",
       "      <td>VernDiesal</td>\n",
       "      <td>What I do know is Pali alto never got close to...</td>\n",
       "      <td>Las Vegas, NV</td>\n",
       "      <td>36.166286</td>\n",
       "      <td>-115.149225</td>\n",
       "    </tr>\n",
       "    <tr>\n",
       "      <th>14</th>\n",
       "      <td>barasajoel2</td>\n",
       "      <td>I’m a former NFL pro who started a winery with...</td>\n",
       "      <td>Wittenberg University</td>\n",
       "      <td>39.935108</td>\n",
       "      <td>-83.813055</td>\n",
       "    </tr>\n",
       "    <tr>\n",
       "      <th>15</th>\n",
       "      <td>LetsGetRichPod</td>\n",
       "      <td>Yesterday results:\\n\\nCollege Hoops: 1-2-1\\nCo...</td>\n",
       "      <td>Boston, MA</td>\n",
       "      <td>42.360253</td>\n",
       "      <td>-71.058291</td>\n",
       "    </tr>\n",
       "    <tr>\n",
       "      <th>16</th>\n",
       "      <td>bfont154</td>\n",
       "      <td>@BlainBech @jackbech7 @jackbech7 👏🏻his season ...</td>\n",
       "      <td>Lafayette, LA</td>\n",
       "      <td>30.224090</td>\n",
       "      <td>-92.019843</td>\n",
       "    </tr>\n",
       "    <tr>\n",
       "      <th>17</th>\n",
       "      <td>il_moniker</td>\n",
       "      <td>I wonder if this moron ever told Colin Kaepern...</td>\n",
       "      <td>philadelphia, pa</td>\n",
       "      <td>39.952399</td>\n",
       "      <td>-75.163590</td>\n",
       "    </tr>\n",
       "    <tr>\n",
       "      <th>18</th>\n",
       "      <td>DRC1872</td>\n",
       "      <td>Love football. Live and breathe it but, if my ...</td>\n",
       "      <td>Scotland, United Kingdom</td>\n",
       "      <td>56.786111</td>\n",
       "      <td>-4.114052</td>\n",
       "    </tr>\n",
       "    <tr>\n",
       "      <th>19</th>\n",
       "      <td>BostonNooga</td>\n",
       "      <td>Real excited for my lifetime for one week favo...</td>\n",
       "      <td>Chattanooga, TN</td>\n",
       "      <td>35.045630</td>\n",
       "      <td>-85.309680</td>\n",
       "    </tr>\n",
       "    <tr>\n",
       "      <th>20</th>\n",
       "      <td>thenne7</td>\n",
       "      <td>Assignment football is and will forever be the...</td>\n",
       "      <td>Hazlet, NJ</td>\n",
       "      <td>40.415664</td>\n",
       "      <td>-74.190977</td>\n",
       "    </tr>\n",
       "    <tr>\n",
       "      <th>22</th>\n",
       "      <td>_aiscott</td>\n",
       "      <td>excuse me graeme sourness there is nothing wro...</td>\n",
       "      <td>Swansea, Wales</td>\n",
       "      <td>51.621144</td>\n",
       "      <td>-3.946775</td>\n",
       "    </tr>\n",
       "    <tr>\n",
       "      <th>23</th>\n",
       "      <td>Azola_17</td>\n",
       "      <td>Mud football in full display, there's no CONSI...</td>\n",
       "      <td>South Africa</td>\n",
       "      <td>-28.816624</td>\n",
       "      <td>24.991639</td>\n",
       "    </tr>\n",
       "    <tr>\n",
       "      <th>25</th>\n",
       "      <td>iBenBrown</td>\n",
       "      <td>Thank you, Canden. On behalf of my family, we ...</td>\n",
       "      <td>South Jordan, UT</td>\n",
       "      <td>40.562170</td>\n",
       "      <td>-111.929658</td>\n",
       "    </tr>\n",
       "    <tr>\n",
       "      <th>27</th>\n",
       "      <td>AdamJack10</td>\n",
       "      <td>Wtf have I just got an Insta ad for 😂 Can’t wa...</td>\n",
       "      <td>Scotland</td>\n",
       "      <td>56.786111</td>\n",
       "      <td>-4.114052</td>\n",
       "    </tr>\n",
       "    <tr>\n",
       "      <th>29</th>\n",
       "      <td>bethanytymms</td>\n",
       "      <td>Gonna be watching the football through gaps in...</td>\n",
       "      <td>South West, England</td>\n",
       "      <td>52.795479</td>\n",
       "      <td>-0.540240</td>\n",
       "    </tr>\n",
       "    <tr>\n",
       "      <th>30</th>\n",
       "      <td>Bez1074</td>\n",
       "      <td>@jjenas8 Do you ever talk to Jose and the play...</td>\n",
       "      <td>Essex</td>\n",
       "      <td>51.796705</td>\n",
       "      <td>0.579339</td>\n",
       "    </tr>\n",
       "    <tr>\n",
       "      <th>31</th>\n",
       "      <td>hemsqueezy</td>\n",
       "      <td>@ChildsWalker So it’s ok to play subpar footba...</td>\n",
       "      <td>Royal Palm Beach, FL</td>\n",
       "      <td>26.701755</td>\n",
       "      <td>-80.223384</td>\n",
       "    </tr>\n",
       "    <tr>\n",
       "      <th>33</th>\n",
       "      <td>ThomasPanter</td>\n",
       "      <td>@NatashaLink1 As a man who hates football I fe...</td>\n",
       "      <td>London, England</td>\n",
       "      <td>51.507322</td>\n",
       "      <td>-0.127647</td>\n",
       "    </tr>\n",
       "    <tr>\n",
       "      <th>34</th>\n",
       "      <td>Viksss38012637</td>\n",
       "      <td>@UtdEIIis Who tf is this bitch who thinks he k...</td>\n",
       "      <td>San Diego, California</td>\n",
       "      <td>32.717421</td>\n",
       "      <td>-117.162771</td>\n",
       "    </tr>\n",
       "    <tr>\n",
       "      <th>35</th>\n",
       "      <td>jonathonchapma2</td>\n",
       "      <td>@JoeMBell Brexit football mate, no need to loo...</td>\n",
       "      <td>England, United Kingdom</td>\n",
       "      <td>52.795479</td>\n",
       "      <td>-0.540240</td>\n",
       "    </tr>\n",
       "    <tr>\n",
       "      <th>36</th>\n",
       "      <td>swspurs</td>\n",
       "      <td>@Ryan_Matt98 I know loads who hate the footbal...</td>\n",
       "      <td>London</td>\n",
       "      <td>51.507322</td>\n",
       "      <td>-0.127647</td>\n",
       "    </tr>\n",
       "    <tr>\n",
       "      <th>37</th>\n",
       "      <td>Megrez123456</td>\n",
       "      <td>One of the most happiest moment for me watchin...</td>\n",
       "      <td>Kathmandu, Nepal</td>\n",
       "      <td>27.708796</td>\n",
       "      <td>85.320244</td>\n",
       "    </tr>\n",
       "    <tr>\n",
       "      <th>38</th>\n",
       "      <td>ashthompson1975</td>\n",
       "      <td>@ASHILinRealLife Come watch our team play foot...</td>\n",
       "      <td>JoBurg</td>\n",
       "      <td>7.247990</td>\n",
       "      <td>-9.143780</td>\n",
       "    </tr>\n",
       "    <tr>\n",
       "      <th>39</th>\n",
       "      <td>kahleb20</td>\n",
       "      <td>@markclosemf @SheffieldUnited His basic positi...</td>\n",
       "      <td>United Kingdom</td>\n",
       "      <td>25.223228</td>\n",
       "      <td>55.159493</td>\n",
       "    </tr>\n",
       "    <tr>\n",
       "      <th>40</th>\n",
       "      <td>1218Sports</td>\n",
       "      <td>#FreePicks \\n#Sportsbetting\\n\\n15*\\n\\nParlay (...</td>\n",
       "      <td>New England</td>\n",
       "      <td>52.593419</td>\n",
       "      <td>-0.249198</td>\n",
       "    </tr>\n",
       "    <tr>\n",
       "      <th>41</th>\n",
       "      <td>IGHafiifii</td>\n",
       "      <td>@m_ani786 @razziparks1 It’s just an observatio...</td>\n",
       "      <td>South Africa</td>\n",
       "      <td>-28.816624</td>\n",
       "      <td>24.991639</td>\n",
       "    </tr>\n",
       "    <tr>\n",
       "      <th>42</th>\n",
       "      <td>barasajoel2</td>\n",
       "      <td>Milan: Theo and Calhanoglu positive for COVID ...</td>\n",
       "      <td>Wittenberg University</td>\n",
       "      <td>39.935108</td>\n",
       "      <td>-83.813055</td>\n",
       "    </tr>\n",
       "    <tr>\n",
       "      <th>43</th>\n",
       "      <td>kdusidame</td>\n",
       "      <td>If there’s Stingy Football Club Association (S...</td>\n",
       "      <td>Abuja, Nigeria</td>\n",
       "      <td>9.064331</td>\n",
       "      <td>7.489297</td>\n",
       "    </tr>\n",
       "    <tr>\n",
       "      <th>44</th>\n",
       "      <td>terryrickard</td>\n",
       "      <td>@BualadhBus @Bash_Rich Liked it when Bashir op...</td>\n",
       "      <td>Enniscorthy, Wexford, Ireland</td>\n",
       "      <td>52.501149</td>\n",
       "      <td>-6.567494</td>\n",
       "    </tr>\n",
       "    <tr>\n",
       "      <th>45</th>\n",
       "      <td>JackCudAVFC</td>\n",
       "      <td>Graeme Souness is one of if not the worst pund...</td>\n",
       "      <td>Barnsley</td>\n",
       "      <td>53.552772</td>\n",
       "      <td>-1.482776</td>\n",
       "    </tr>\n",
       "    <tr>\n",
       "      <th>46</th>\n",
       "      <td>Dawny1875</td>\n",
       "      <td>@darynsimon My sons high school just asked tha...</td>\n",
       "      <td>Edinburgh</td>\n",
       "      <td>55.949563</td>\n",
       "      <td>-3.191497</td>\n",
       "    </tr>\n",
       "    <tr>\n",
       "      <th>48</th>\n",
       "      <td>AffiliateTiki</td>\n",
       "      <td>Pop-A-Shot Official Home Single Shot Arcade Ba...</td>\n",
       "      <td>Israel</td>\n",
       "      <td>30.876027</td>\n",
       "      <td>35.001520</td>\n",
       "    </tr>\n",
       "    <tr>\n",
       "      <th>49</th>\n",
       "      <td>cardwell1976</td>\n",
       "      <td>@tvp_mk me and my son have been asked to leave...</td>\n",
       "      <td>Milton Keynes, England</td>\n",
       "      <td>52.042980</td>\n",
       "      <td>-0.758961</td>\n",
       "    </tr>\n",
       "  </tbody>\n",
       "</table>\n",
       "</div>"
      ],
      "text/plain": [
       "        screen_name                                               text  \\\n",
       "1     thiccsilv3r99       @GamerTheThird I win at MADDEN FOOTBALL 2012   \n",
       "3     elitefootball  Get better today at Elite Football Skills Trai...   \n",
       "4       clarey_marc  @fee_lufc Never gets spoken about enough. Foot...   \n",
       "5     Konkey_donger  @BorisJohnson @Conservatives Health Secretary ...   \n",
       "6       OJobsmarket  I'm a former NFL pro who started a winery with...   \n",
       "7      mckinney1923  @1410Kinner When it’s all said and done, it’s ...   \n",
       "8         vistabucs  @Sphakajuju We are happy for the trophy but he...   \n",
       "11    Steviethestud  @Boyle_67 People don’t just want anyone. Eddie...   \n",
       "12   frailwhitegirl                             There Will Be Football   \n",
       "13       VernDiesal  What I do know is Pali alto never got close to...   \n",
       "14      barasajoel2  I’m a former NFL pro who started a winery with...   \n",
       "15   LetsGetRichPod  Yesterday results:\\n\\nCollege Hoops: 1-2-1\\nCo...   \n",
       "16         bfont154  @BlainBech @jackbech7 @jackbech7 👏🏻his season ...   \n",
       "17       il_moniker  I wonder if this moron ever told Colin Kaepern...   \n",
       "18          DRC1872  Love football. Live and breathe it but, if my ...   \n",
       "19      BostonNooga  Real excited for my lifetime for one week favo...   \n",
       "20          thenne7  Assignment football is and will forever be the...   \n",
       "22         _aiscott  excuse me graeme sourness there is nothing wro...   \n",
       "23         Azola_17  Mud football in full display, there's no CONSI...   \n",
       "25        iBenBrown  Thank you, Canden. On behalf of my family, we ...   \n",
       "27       AdamJack10  Wtf have I just got an Insta ad for 😂 Can’t wa...   \n",
       "29     bethanytymms  Gonna be watching the football through gaps in...   \n",
       "30          Bez1074  @jjenas8 Do you ever talk to Jose and the play...   \n",
       "31       hemsqueezy  @ChildsWalker So it’s ok to play subpar footba...   \n",
       "33     ThomasPanter  @NatashaLink1 As a man who hates football I fe...   \n",
       "34   Viksss38012637  @UtdEIIis Who tf is this bitch who thinks he k...   \n",
       "35  jonathonchapma2  @JoeMBell Brexit football mate, no need to loo...   \n",
       "36          swspurs  @Ryan_Matt98 I know loads who hate the footbal...   \n",
       "37     Megrez123456  One of the most happiest moment for me watchin...   \n",
       "38  ashthompson1975  @ASHILinRealLife Come watch our team play foot...   \n",
       "39         kahleb20  @markclosemf @SheffieldUnited His basic positi...   \n",
       "40       1218Sports  #FreePicks \\n#Sportsbetting\\n\\n15*\\n\\nParlay (...   \n",
       "41       IGHafiifii  @m_ani786 @razziparks1 It’s just an observatio...   \n",
       "42      barasajoel2  Milan: Theo and Calhanoglu positive for COVID ...   \n",
       "43        kdusidame  If there’s Stingy Football Club Association (S...   \n",
       "44     terryrickard  @BualadhBus @Bash_Rich Liked it when Bashir op...   \n",
       "45      JackCudAVFC  Graeme Souness is one of if not the worst pund...   \n",
       "46        Dawny1875  @darynsimon My sons high school just asked tha...   \n",
       "48    AffiliateTiki  Pop-A-Shot Official Home Single Shot Arcade Ba...   \n",
       "49     cardwell1976  @tvp_mk me and my son have been asked to leave...   \n",
       "\n",
       "                         location   latitude   longitude  \n",
       "1                  Wisconsin, USA  44.430898  -89.688464  \n",
       "3                  Saint Louis,MO  38.633772  -90.241655  \n",
       "4                     East London -33.019160   27.899857  \n",
       "5                  United Kingdom  25.223228   55.159493  \n",
       "6               San Francisco, CA  46.844325  -71.274327  \n",
       "7             Yellow Springs Ohio  39.804543  -83.892523  \n",
       "8                          Afrika   2.000000   16.000000  \n",
       "11                       Scotland  56.786111   -4.114052  \n",
       "12                           bong   6.962219   -9.713446  \n",
       "13                  Las Vegas, NV  36.166286 -115.149225  \n",
       "14          Wittenberg University  39.935108  -83.813055  \n",
       "15                     Boston, MA  42.360253  -71.058291  \n",
       "16                  Lafayette, LA  30.224090  -92.019843  \n",
       "17               philadelphia, pa  39.952399  -75.163590  \n",
       "18       Scotland, United Kingdom  56.786111   -4.114052  \n",
       "19                Chattanooga, TN  35.045630  -85.309680  \n",
       "20                     Hazlet, NJ  40.415664  -74.190977  \n",
       "22                 Swansea, Wales  51.621144   -3.946775  \n",
       "23                   South Africa -28.816624   24.991639  \n",
       "25               South Jordan, UT  40.562170 -111.929658  \n",
       "27                       Scotland  56.786111   -4.114052  \n",
       "29            South West, England  52.795479   -0.540240  \n",
       "30                          Essex  51.796705    0.579339  \n",
       "31           Royal Palm Beach, FL  26.701755  -80.223384  \n",
       "33                London, England  51.507322   -0.127647  \n",
       "34          San Diego, California  32.717421 -117.162771  \n",
       "35        England, United Kingdom  52.795479   -0.540240  \n",
       "36                         London  51.507322   -0.127647  \n",
       "37               Kathmandu, Nepal  27.708796   85.320244  \n",
       "38                         JoBurg   7.247990   -9.143780  \n",
       "39                 United Kingdom  25.223228   55.159493  \n",
       "40                    New England  52.593419   -0.249198  \n",
       "41                   South Africa -28.816624   24.991639  \n",
       "42          Wittenberg University  39.935108  -83.813055  \n",
       "43                 Abuja, Nigeria   9.064331    7.489297  \n",
       "44  Enniscorthy, Wexford, Ireland  52.501149   -6.567494  \n",
       "45                       Barnsley  53.552772   -1.482776  \n",
       "46                      Edinburgh  55.949563   -3.191497  \n",
       "48                         Israel  30.876027   35.001520  \n",
       "49         Milton Keynes, England  52.042980   -0.758961  "
      ]
     },
     "execution_count": 53,
     "metadata": {},
     "output_type": "execute_result"
    }
   ],
   "source": [
    "df"
   ]
  },
  {
   "cell_type": "markdown",
   "metadata": {},
   "source": [
    "<hr style=\"height:2px; border:none; color:#000; background-color:#000;\">"
   ]
  },
  {
   "cell_type": "markdown",
   "metadata": {},
   "source": [
    "### Creating a Map with Folium"
   ]
  },
  {
   "cell_type": "code",
   "execution_count": 54,
   "metadata": {},
   "outputs": [],
   "source": [
    "import folium"
   ]
  },
  {
   "cell_type": "code",
   "execution_count": 55,
   "metadata": {},
   "outputs": [],
   "source": [
    "usmap = folium.Map(location=[39.8283, -98.5795],  # center of U.S.\n",
    "                   tiles='Stamen Terrain',\n",
    "                   zoom_start=4, detect_retina=True)"
   ]
  },
  {
   "cell_type": "markdown",
   "metadata": {},
   "source": [
    "* **`location`** &mdash; sequence containing **latitude** and **longitude** of **map center point**\n",
    "    * [Geographic center of the continental United States](http://bit.ly/CenterOfTheUS) \n",
    "* **`zoom_start`** &mdash; **map’s initial zoom level**\n",
    "* **`detect_retina`** &mdash; enables folium to use **higher-resolution maps**"
   ]
  },
  {
   "cell_type": "markdown",
   "metadata": {},
   "source": [
    "<hr style=\"height:2px; border:none; color:#000; background-color:#000;\">"
   ]
  },
  {
   "cell_type": "markdown",
   "metadata": {},
   "source": [
    "### Creating Folium `Popup` Objects for the Tweet Locations\n",
    "* **`itertuples`** creates **tuples** from **each row** of the **`DataFrame`**\n",
    "* Each **tuple** contains a **property** for each **`DataFrame` column**"
   ]
  },
  {
   "cell_type": "code",
   "execution_count": 56,
   "metadata": {},
   "outputs": [],
   "source": [
    "for t in df.itertuples():\n",
    "    text = ': '.join([t.screen_name, t.text])\n",
    "    popup = folium.Popup(text)\n",
    "    marker = folium.Marker((t.latitude, t.longitude), \n",
    "                           popup=popup)\n",
    "    marker.add_to(usmap)"
   ]
  },
  {
   "cell_type": "markdown",
   "metadata": {},
   "source": [
    "<hr style=\"height:2px; border:none; color:#000; background-color:#000;\">"
   ]
  },
  {
   "cell_type": "markdown",
   "metadata": {},
   "source": [
    "### Saving the Map with Map’s **`save`** Method "
   ]
  },
  {
   "cell_type": "code",
   "execution_count": 57,
   "metadata": {},
   "outputs": [],
   "source": [
    "usmap.save('tweet_map.html')"
   ]
  },
  {
   "cell_type": "markdown",
   "metadata": {},
   "source": [
    "<hr style=\"height:2px; border:none; color:#000; background-color:#000;\">"
   ]
  },
  {
   "cell_type": "markdown",
   "metadata": {},
   "source": [
    "### Displaying the Map in Jupyter \n",
    "* The resulting map follows. \n",
    "<a href=\"./tweet_map.html\">Interactive tweet map</a>"
   ]
  },
  {
   "cell_type": "code",
   "execution_count": 58,
   "metadata": {},
   "outputs": [
    {
     "data": {
      "text/html": [
       "<div style=\"width:100%;\"><div style=\"position:relative;width:100%;height:0;padding-bottom:60%;\"><iframe src=\"data:text/html;charset=utf-8;base64,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\" style=\"position:absolute;width:100%;height:100%;left:0;top:0;border:none !important;\" allowfullscreen webkitallowfullscreen mozallowfullscreen></iframe></div></div>"
      ],
      "text/plain": [
       "<folium.folium.Map at 0x7fad60e04da0>"
      ]
     },
     "execution_count": 58,
     "metadata": {},
     "output_type": "execute_result"
    }
   ],
   "source": [
    "usmap"
   ]
  },
  {
   "cell_type": "markdown",
   "metadata": {},
   "source": [
    "<!--\n",
    "#from IPython.display import IFrame\n",
    "#IFrame(src=\"./tweet_map.html\", width=800, height=450)\n",
    "-->"
   ]
  },
  {
   "cell_type": "markdown",
   "metadata": {},
   "source": [
    "<hr style=\"height:2px; border:none; color:#000; background-color:#000;\">"
   ]
  },
  {
   "cell_type": "markdown",
   "metadata": {},
   "source": [
    "## Utility Functions\n",
    "See the following for details: \n",
    "* [**Python Fundamentals LiveLessons video**](https://learning.oreilly.com/videos/python-fundamentals/9780135917411/9780135917411-PFLL_Lesson12_26) \n",
    "* [Sections 12.5.2-12.5.3 in **Python for Programmers**](https://learning.oreilly.com/library/view/python-for-programmers/9780135231364/ch12.xhtml#ch12lev2sec10)\n",
    "\n",
    "### `get_tweet_content` Utility Function (2 of 2)\n",
    "```python\n",
    "def get_tweet_content(tweet, location=False):\n",
    "    \"\"\"Return dictionary with data from tweet (a Status object).\"\"\"\n",
    "    fields = {}\n",
    "    fields['screen_name'] = tweet.user.screen_name\n",
    "\n",
    "    # get the tweet's text\n",
    "    try:  \n",
    "        fields['text'] = tweet.extended_tweet[\"full_text\"]\n",
    "    except: \n",
    "        fields['text'] = tweet.text\n",
    "\n",
    "    if location:\n",
    "        fields['location'] = tweet.user.location\n",
    "\n",
    "    return fields\n",
    "\n",
    "```"
   ]
  },
  {
   "cell_type": "markdown",
   "metadata": {},
   "source": [
    "<hr style=\"height:2px; border:none; color:#000; background-color:#000;\">"
   ]
  },
  {
   "cell_type": "markdown",
   "metadata": {},
   "source": [
    "### `get_geocodes` Utility Function (1 of 3)\n",
    "* Receives a **list of dictionaries** containing tweets and **geocodes their locations**\n",
    "* If **geocoding** is **successful** for a tweet, adds the **latitude** and **longitude** to the tweet’s **dictionary in `tweet_list`**\n",
    "* Requires class **`OpenMapQuest`** from the **geopy module**"
   ]
  },
  {
   "cell_type": "markdown",
   "metadata": {},
   "source": [
    "<hr style=\"height:2px; border:none; color:#000; background-color:#000;\">"
   ]
  },
  {
   "cell_type": "markdown",
   "metadata": {},
   "source": [
    "### `get_geocodes` Utility Function (2 of 3)\n",
    "```python\n",
    "from geopy import OpenMapQuest\n",
    "```\n",
    "\n",
    "```python\n",
    "def get_geocodes(tweet_list):\n",
    "    \"\"\"Get the latitude and longitude for each tweet's location.\n",
    "    Returns the number of tweets with invalid location data.\"\"\"\n",
    "    print('Getting coordinates for tweet locations...')\n",
    "    geo = OpenMapQuest(api_key=keys.mapquest_key)  # geocoder\n",
    "    bad_locations = 0  \n",
    "\n",
    "    for tweet in tweet_list:\n",
    "        processed = False\n",
    "        delay = .1  # used if OpenMapQuest times out to delay next call\n",
    "        while not processed:\n",
    "            try:  # get coordinates for tweet['location']\n",
    "                geo_location = geo.geocode(tweet['location'])\n",
    "                processed = True\n",
    "            except:  # timed out, so wait before trying again\n",
    "                print('OpenMapQuest service timed out. Waiting.')\n",
    "                time.sleep(delay)\n",
    "                delay += .1\n",
    "\n",
    "        if geo_location:  \n",
    "            tweet['latitude'] = geo_location.latitude\n",
    "            tweet['longitude'] = geo_location.longitude\n",
    "        else:  \n",
    "            bad_locations += 1  # tweet['location'] was invalid\n",
    "    \n",
    "    print('Done geocoding')\n",
    "    return bad_locations\n",
    "\n",
    "```"
   ]
  },
  {
   "cell_type": "markdown",
   "metadata": {},
   "source": [
    "<hr style=\"height:2px; border:none; color:#000; background-color:#000;\">"
   ]
  },
  {
   "cell_type": "markdown",
   "metadata": {},
   "source": [
    "## 12.15.3 Class `LocationListener`\n",
    "```python\n",
    "# locationlistener.py\n",
    "\"\"\"Receives tweets matching a search string and stores a list of\n",
    "dictionaries containing each tweet's screen_name/text/location.\"\"\"\n",
    "import tweepy\n",
    "from tweetutilities import get_tweet_content\n",
    "from IPython.display import clear_output\n",
    "\n",
    "class LocationListener(tweepy.StreamListener):\n",
    "    \"\"\"Handles incoming Tweet stream to get location data.\"\"\"\n",
    "```"
   ]
  },
  {
   "cell_type": "markdown",
   "metadata": {},
   "source": [
    "```python\n",
    "    def __init__(self, api, counts_dict, tweets_list, topic, limit=10):\n",
    "        \"\"\"Configure the LocationListener.\"\"\"\n",
    "        self.tweets_list = tweets_list\n",
    "        self.counts_dict = counts_dict\n",
    "        self.topic = topic\n",
    "        self.TWEET_LIMIT = limit\n",
    "        super().__init__(api)  # call superclass's init\n",
    "```"
   ]
  },
  {
   "cell_type": "markdown",
   "metadata": {},
   "source": [
    "```python\n",
    "    def on_status(self, status):\n",
    "        \"\"\"Called when Twitter pushes a new tweet to you.\"\"\"\n",
    "        # get each tweet's screen_name, text and location\n",
    "        tweet_data = get_tweet_content(status, location=True)  \n",
    "\n",
    "        # ignore retweets and tweets that do not contain the topic\n",
    "        if (tweet_data['text'].startswith('RT') or\n",
    "            self.topic.lower() not in tweet_data['text'].lower()):\n",
    "            return\n",
    "\n",
    "        self.counts_dict['total_tweets'] += 1  # original tweet\n",
    "\n",
    "        # ignore tweets with no location \n",
    "        if not status.user.location:  \n",
    "            return\n",
    "\n",
    "        self.counts_dict['locations'] += 1  # tweet with location\n",
    "        self.tweets_list.append(tweet_data)  # store the tweet\n",
    "        clear_output()\n",
    "        print(f'{status.user.screen_name}: {tweet_data[\"text\"]}\\n')\n",
    "        \n",
    "        # if TWEET_LIMIT is reached, return False to terminate streaming\n",
    "        return self.counts_dict['locations'] < self.TWEET_LIMIT\n",
    "\n",
    "```"
   ]
  },
  {
   "cell_type": "markdown",
   "metadata": {},
   "source": [
    "<hr style=\"height:2px; border:none; color:#000; background-color:#000;\">"
   ]
  },
  {
   "cell_type": "markdown",
   "metadata": {},
   "source": [
    "# More Info \n",
    "* See Lesson 12 in [**Python Fundamentals LiveLessons** here on O'Reilly Online Learning](https://learning.oreilly.com/videos/python-fundamentals/9780135917411)\n",
    "* See Chapter 12 in [**Python for Programmers** on O'Reilly Online Learning](https://learning.oreilly.com/library/view/python-for-programmers/9780135231364/)\n",
    "* See Chapter 13 in [**Intro Python for Computer Science and Data Science** on O'Reilly Online Learning](https://learning.oreilly.com/library/view/intro-to-python/9780135404799/)\n",
    "* Interested in a print book? Check out:\n",
    "\n",
    "| Python for Programmers<br>(640-page professional book) | Intro to Python for Computer<br>Science and Data Science<br>(880-page college textbook)\n",
    "| :------ | :------\n",
    "| <a href=\"https://amzn.to/2VvdnxE\"><img alt=\"Python for Programmers cover\" src=\"../images/PyFPCover.png\" width=\"150\" border=\"1\"/></a> | <a href=\"https://amzn.to/2LiDCmt\"><img alt=\"Intro to Python for Computer Science and Data Science: Learning to Program with AI, Big Data and the Cloud\" src=\"../images/IntroToPythonCover.png\" width=\"159\" border=\"1\"></a>\n",
    "\n",
    ">Please **do not** purchase both books&mdash;_Python for Programmers_ is a subset of _Intro to Python for Computer Science and Data Science_"
   ]
  },
  {
   "cell_type": "markdown",
   "metadata": {},
   "source": [
    "&copy; 2019 by Pearson Education, Inc. All Rights Reserved. The content in this notebook is based on the book [**Python for Programmers**](https://amzn.to/2VvdnxE)."
   ]
  }
 ],
 "metadata": {
  "kernelspec": {
   "display_name": "Python 3",
   "language": "python",
   "name": "python3"
  },
  "language_info": {
   "codemirror_mode": {
    "name": "ipython",
    "version": 3
   },
   "file_extension": ".py",
   "mimetype": "text/x-python",
   "name": "python",
   "nbconvert_exporter": "python",
   "pygments_lexer": "ipython3",
   "version": "3.7.3"
  }
 },
 "nbformat": 4,
 "nbformat_minor": 4
}
