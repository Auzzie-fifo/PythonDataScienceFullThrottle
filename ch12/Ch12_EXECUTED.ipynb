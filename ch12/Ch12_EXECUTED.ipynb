{
 "cells": [
  {
   "cell_type": "markdown",
   "metadata": {},
   "source": [
    "&copy; 2019 by Pearson Education, Inc. All Rights Reserved. The content in this notebook is based on the book [**Python for Programmers**](https://amzn.to/2VvdnxE)."
   ]
  },
  {
   "cell_type": "code",
   "execution_count": null,
   "metadata": {},
   "outputs": [],
   "source": [
    "# enable high-res images in notebook \n",
    "%config InlineBackend.figure_format = 'retina'"
   ]
  },
  {
   "cell_type": "markdown",
   "metadata": {},
   "source": [
    "# 12. Data Mining Twitter \n",
    "# Objectives\n",
    "* **Data-mine Twitter** with **Tweepy** library\n",
    "* Search **past tweets** with the **Twitter Search API**\n",
    "* Sample the **live tweet stream** with the **Twitter Streaming API**\n",
    "* Tweet object **meta data** \n",
    "* Use **NLP** to **clean and preprocess tweets** for analysis\n",
    "* Perform **sentiment analysis** on tweets\n",
    "* **Spot trends** with **Twitter’s Trends API**\n",
    "* **Map tweets** using **folium** and **OpenStreetMap**"
   ]
  },
  {
   "cell_type": "markdown",
   "metadata": {},
   "source": [
    "<hr style=\"height:2px; border:none; color:#000; background-color:#000;\">"
   ]
  },
  {
   "cell_type": "markdown",
   "metadata": {},
   "source": [
    "# 12.1 Introduction \n",
    "* Popular **big-data source**  \n",
    "* **Data mining** &mdash; searching large collections of data for **insights**\n",
    "* **Sentiment** in tweets can help **make predictions**  \n",
    "    * **Stock prices**\n",
    "    * **Election results**\n",
    "    * Likely **revenues** for a **new movie**\n",
    "    * **Success** of a company’s **marketing campaign**\n",
    "* Spot **faults in competitors’ products** \n",
    "* Spot **trending topics**\n",
    "* **Connect to Twitter** with easy-to-use **Web services**"
   ]
  },
  {
   "cell_type": "markdown",
   "metadata": {},
   "source": [
    "<hr style=\"height:2px; border:none; color:#000; background-color:#000;\">"
   ]
  },
  {
   "cell_type": "markdown",
   "metadata": {},
   "source": [
    "### What Is Twitter? \n",
    "* **Tweets**\n",
    "    * Short messages\n",
    "    * Initially limited to **140 characters**\n",
    "    * Increased in 2017 for most languages to **280 characters**\n",
    "* **Most open social network**&mdash;anyone can generally choose to follow anyone else\n",
    "* **Free programmatic access** to a small portion of **last 7 days' tweets**\n",
    "    * Can get **paid access** to larger portions the **all-time tweets database**\n",
    "* [**Hundreds of millions of tweets are sent every day** with many thousands sent per second](http://www.internetlivestats.com/twitter-statistics/)\n",
    "* Can tap into the **live stream** and get up to 1% of live tweets\n",
    "    * **Like “drinking from a fire hose”** "
   ]
  },
  {
   "cell_type": "markdown",
   "metadata": {},
   "source": [
    "<hr style=\"height:2px; border:none; color:#000; background-color:#000;\">"
   ]
  },
  {
   "cell_type": "markdown",
   "metadata": {},
   "source": [
    "# 12.2 Overview of the Twitter APIs \n",
    "* **Web services** are **methods** that you call in the **cloud**\n",
    "* Each **method** has a **web service endpoint** represented by a **URL**\n",
    "* **Caution**: **apps can be brittle**\n",
    "    * Internet connections can be lost, services can change, some services not available everywhere, ... \n",
    "* [Twitter API categories, subcategories and individual methods](https://developer.twitter.com/en/docs/api-reference-index.html)"
   ]
  },
  {
   "cell_type": "markdown",
   "metadata": {},
   "source": [
    "<hr style=\"height:2px; border:none; color:#000; background-color:#000;\">"
   ]
  },
  {
   "cell_type": "markdown",
   "metadata": {},
   "source": [
    "### Rate Limits and Restrictions\n",
    "* Twitter expects developers to **use its services responsibly**\n",
    "* **Understand rate limits** before using any method or you could get **blocked**\n",
    "* Some methods list both **user rate limits** and **app rate limits**\n",
    "    * We use **app rate limits** in the demos\n",
    "    * **User rate limits** for apps in which individuals to log into own Twitter accounts\n",
    "    * [Details on rate limiting](https://developer.twitter.com/en/docs/basics/rate-limiting)\n",
    "    * [Specific rate limits on individual API methods](https://developer.twitter.com/en/docs/basics/rate-limits) — also see each API method’s docs\n",
    "* **Follow Twitter’s rules/regulations or your developer account could be terminated.** \n",
    "\t* [Terms of Service](https://twitter.com/tos), [Developer Agreement](https://developer.twitter.com/en/developer-terms/agreement-and-policy.html), [Developer Policy](https://developer.twitter.com/en/developer-terms/policy.html), [Other restrictions](https://developer.twitter.com/en/developer-terms/more-on-restricted-use-cases)"
   ]
  },
  {
   "cell_type": "markdown",
   "metadata": {},
   "source": [
    "<hr style=\"height:2px; border:none; color:#000; background-color:#000;\">"
   ]
  },
  {
   "cell_type": "markdown",
   "metadata": {},
   "source": [
    "# 12.4 Getting Twitter Credentials—Creating an App \n",
    "* [Apply for a developer account](https://developer.twitter.com/en/apply-for-access) to use the APIs\n",
    "* Must get **credentials** to use Twitter APIs\n",
    "    * Part of the **OAuth 2.0 authentication process**\n",
    "    * **Tweepy handles OAuth 2.0 authentication details for you**\n",
    "* To get credentials, you’ll [**create an app**](https://developer.twitter.com) \n",
    "    * **Each app has separate credentials**\n",
    "    * I present **details on creating apps** in my [**Python Fundamentals LiveLessons videos for Section 12.4**](https://learning.oreilly.com/videos/python-fundamentals/9780135917411/9780135917411-PFLL_Lesson12_04) and [**Python for Programmers Section 12.4**](https://learning.oreilly.com/library/view/Python+for+Programmers,+First+Edition/9780135231364/ch12.xhtml#ch12lev1sec4)"
   ]
  },
  {
   "cell_type": "markdown",
   "metadata": {},
   "source": [
    "<hr style=\"height:2px; border:none; color:#000; background-color:#000;\">"
   ]
  },
  {
   "cell_type": "markdown",
   "metadata": {},
   "source": [
    "# 12.5 What’s in a Tweet? \n",
    "* Twitter API returns **JSON (JavaScript Object Notation)** objects\n",
    "* Text-based, human and computer readable\n",
    "* Like Python **dictionaries**\n",
    "* **JSON object format** &mdash; **all strings in double quotes (\")**\n",
    ">```python\n",
    "{propertyName1: value1, propertyName2: value2}\n",
    "```\n",
    "* **JSON array format (like Python list)**:\n",
    ">```python\n",
    "[value1, value2, value3]\n",
    "```\n",
    "* **Tweepy handles the JSON for you** behind the scenes"
   ]
  },
  {
   "cell_type": "markdown",
   "metadata": {},
   "source": [
    "<hr style=\"height:2px; border:none; color:#000; background-color:#000;\">"
   ]
  },
  {
   "cell_type": "markdown",
   "metadata": {},
   "source": [
    "### Key Properties of a Tweet Object \n",
    "* **Tweet object** contains **metadata**, including\n",
    "    * **text** of the tweet\n",
    "    * **extended tweet** for tweets up to **280 characters**\n",
    "\t* **when** it was created \n",
    "\t* **who** created it,\n",
    "\t* lists of **hashtags**, **URLs**, **`@`-mentions**, **images**, **videos** and more\n",
    "* [Our table of many key **tweet metadata attributes**](https://learning.oreilly.com/library/view/python-for-programmers/9780135231364/ch12.xhtml#ch12lev1sec5)\n",
    "* [Complete list of the tweet object attributes](https://developer.twitter.com/en/docs/tweets/data-dictionary/overview/tweet-object.html)\n",
    "* [General overview of all the JSON objects that Twitter APIs return, and links to the specific object details](https://developer.twitter.com/en/docs/tweets/data-dictionary/overview/intro-to-tweet-json)"
   ]
  },
  {
   "cell_type": "markdown",
   "metadata": {},
   "source": [
    "<hr style=\"height:2px; border:none; color:#000; background-color:#000;\">"
   ]
  },
  {
   "cell_type": "markdown",
   "metadata": {},
   "source": [
    "### Sample Tweet JSON\n",
    "* **Sample JSON** for this tweet from the **`@nasa`** account: \n",
    ">```\n",
    "@NoFear1075 Great question, Anthony! Throughout its seven-year \n",
    "mission, our Parker #SolarProbe spacecraft... https://t.co/xKd6ym8waT'\n",
    "```"
   ]
  },
  {
   "cell_type": "markdown",
   "metadata": {},
   "source": [
    "<hr style=\"height:2px; border:none; color:#000; background-color:#000;\">"
   ]
  },
  {
   "cell_type": "markdown",
   "metadata": {},
   "source": [
    "```python\n",
    "{'created_at': 'Wed Sep 05 18:19:34 +0000 2018',\n",
    " 'id': 1037404890354606082,\n",
    " 'id_str': '1037404890354606082',\n",
    " 'text': '@NoFear1075 Great question, Anthony! Throughout its seven-year \n",
    "          mission, our Parker #SolarProbe spacecraft… https://t.co/xKd6ym8waT',\n",
    " 'truncated': True,\n",
    " 'entities': {'hashtags': [{'text': 'SolarProbe', 'indices': [84, 95]}],\n",
    "    'symbols': [],\n",
    "    'user_mentions': [{'screen_name': 'NoFear1075',\n",
    "        'name': 'Anthony Perrone',\n",
    "        'id': 284339791,\n",
    "        'id_str': '284339791',\n",
    "        'indices': [0, 11]}],\n",
    "    'urls': [{'url': 'https://t.co/xKd6ym8waT',\n",
    "        'expanded_url': 'https://twitter.com/i/web/status/1037404890354606082',\n",
    "        'display_url': 'twitter.com/i/web/status/1…',\n",
    "        'indices': [117, 140]}]},\n",
    " 'source': '<a href=\"http://twitter.com\" rel=\"nofollow\">Twitter Web Client</a>',\n",
    "```"
   ]
  },
  {
   "cell_type": "markdown",
   "metadata": {},
   "source": [
    "```python\n",
    " 'in_reply_to_status_id': 1037390542424956928,\n",
    " 'in_reply_to_status_id_str': '1037390542424956928',\n",
    " 'in_reply_to_user_id': 284339791,\n",
    " 'in_reply_to_user_id_str': '284339791',\n",
    " 'in_reply_to_screen_name': 'NoFear1075',\n",
    " 'user': {'id': 11348282,\n",
    "    'id_str': '11348282',\n",
    "    'name': 'NASA',\n",
    "    'screen_name': 'NASA',\n",
    "    'location': '',\n",
    "    'description': 'Explore the universe and discover our home planet with \n",
    "            @NASA. We usually post in EST (UTC-5)',\n",
    "    'url': 'https://t.co/TcEE6NS8nD',\n",
    "    'entities': {'url': {'urls': [{'url': 'https://t.co/TcEE6NS8nD',\n",
    "            'expanded_url': 'http://www.nasa.gov',\n",
    "            'display_url': 'nasa.gov',\n",
    "            'indices': [0, 23]}]},\n",
    "    'description': {'urls': []}},\n",
    "    'protected': False,\n",
    "    'followers_count': 29486081,\n",
    "    'friends_count': 287,\n",
    "    'listed_count': 91928,\n",
    "    'created_at': 'Wed Dec 19 20:20:32 +0000 2007',\n",
    "    'favourites_count': 3963,\n",
    "    'time_zone': None,\n",
    "    'geo_enabled': False,\n",
    "    'verified': True,\n",
    "    'statuses_count': 53147,\n",
    "    'lang': 'en',\n",
    "```"
   ]
  },
  {
   "cell_type": "markdown",
   "metadata": {},
   "source": [
    "```python\n",
    "    'contributors_enabled': False,\n",
    "    'is_translator': False,\n",
    "    'is_translation_enabled': False,\n",
    "    'profile_background_color': '000000',\n",
    "    'profile_background_image_url': 'http://abs.twimg.com/images/themes/theme1/bg.png',\n",
    "    'profile_background_image_url_https': 'https://abs.twimg.com/images/themes/theme1/bg.png',\n",
    "    'profile_image_url': 'http://pbs.twimg.com/profile_images/188302352/nasalogo_twitter_normal.jpg',\n",
    "    'profile_image_url_https': 'https://pbs.twimg.com/profile_images/188302352/nasalogo_twitter_normal.jpg',\n",
    "    'profile_banner_url': 'https://pbs.twimg.com/profile_banners/11348282/1535145490',\n",
    "    'profile_link_color': '205BA7',\n",
    "    'profile_sidebar_border_color': '000000',\n",
    "    'profile_sidebar_fill_color': 'F3F2F2',\n",
    "    'profile_text_color': '000000',\n",
    "    'profile_use_background_image': True,\n",
    "    'has_extended_profile': True,\n",
    "    'default_profile': False,\n",
    "    'default_profile_image': False,\n",
    "    'following': True,\n",
    "    'follow_request_sent': False,\n",
    "    'notifications': False,\n",
    "    'translator_type': 'regular'},\n",
    " 'geo': None,\n",
    " 'coordinates': None,\n",
    " 'place': None,\n",
    " 'contributors': None,\n",
    " 'is_quote_status': False,\n",
    " 'retweet_count': 7,\n",
    " 'favorite_count': 19,\n",
    " 'favorited': False,\n",
    " 'retweeted': False,\n",
    " 'possibly_sensitive': False,\n",
    " 'lang': 'en'}\n",
    "\n",
    "```"
   ]
  },
  {
   "cell_type": "markdown",
   "metadata": {},
   "source": [
    "<hr style=\"height:2px; border:none; color:#000; background-color:#000;\">"
   ]
  },
  {
   "cell_type": "markdown",
   "metadata": {},
   "source": [
    "# 12.6 Tweepy\n",
    "* [**Tweepy library**](http://www.tweepy.org/)—**one of the most popular Python Twitter clients**\n",
    "> `pip install tweepy>=3.7`\n",
    "* Easy access to Twitter’s capabilities\n",
    "* [Tweepy’s documentation](http://docs.tweepy.org/en/latest/)\n",
    "* One function in `tweetutilities.py` file depends on [**geopy**](https://github.com/geopy/geopy) (used later to **plot tweet locations**)\n",
    ">`conda install -c conda-forge geopy`"
   ]
  },
  {
   "cell_type": "markdown",
   "metadata": {},
   "source": [
    "<hr style=\"height:2px; border:none; color:#000; background-color:#000;\">"
   ]
  },
  {
   "cell_type": "markdown",
   "metadata": {},
   "source": [
    "# 12.7 Authenticating with Twitter Via Tweepy\n",
    "* **Authentication API**—Authenticate with your **Twitter credentials** to use other Twitter APIs\n",
    "* **`keys.py`** must contain your credentials"
   ]
  },
  {
   "cell_type": "code",
   "execution_count": 2,
   "metadata": {},
   "outputs": [],
   "source": [
    "import tweepy"
   ]
  },
  {
   "cell_type": "code",
   "execution_count": 3,
   "metadata": {},
   "outputs": [],
   "source": [
    "import keys  "
   ]
  },
  {
   "cell_type": "code",
   "execution_count": 4,
   "metadata": {},
   "outputs": [],
   "source": [
    "auth = tweepy.OAuthHandler(keys.consumer_key,\n",
    "                           keys.consumer_secret)"
   ]
  },
  {
   "cell_type": "code",
   "execution_count": 5,
   "metadata": {},
   "outputs": [],
   "source": [
    "auth.set_access_token(keys.access_token,\n",
    "                      keys.access_token_secret)"
   ]
  },
  {
   "cell_type": "markdown",
   "metadata": {},
   "source": [
    "<hr style=\"height:2px; border:none; color:#000; background-color:#000;\">"
   ]
  },
  {
   "cell_type": "markdown",
   "metadata": {},
   "source": [
    "### Creating the Tweepy API Object\n",
    "* A **Tweepy `API` object** is your **gateway** to Twitter APIs"
   ]
  },
  {
   "cell_type": "code",
   "execution_count": 6,
   "metadata": {},
   "outputs": [],
   "source": [
    "api = tweepy.API(auth, wait_on_rate_limit=True, \n",
    "                 wait_on_rate_limit_notify=True)"
   ]
  },
  {
   "cell_type": "markdown",
   "metadata": {},
   "source": [
    "* **`auth`** is the **`OAuthHandler`**\n",
    "* **`wait_on_rate_limit=True`** &mdash; **wait 15 minutes** when app reaches an API method’s rate limit\n",
    "    * prevents violations\n",
    "* **`wait_on_rate_limit_notify=True`** &mdash; **display a command-line message** when you hit a rate limit"
   ]
  },
  {
   "cell_type": "markdown",
   "metadata": {},
   "source": [
    "<hr style=\"height:2px; border:none; color:#000; background-color:#000;\">"
   ]
  },
  {
   "cell_type": "markdown",
   "metadata": {},
   "source": [
    "# 12.8 Getting Information About a Twitter Account\n",
    "* **Accounts and Users API**—Access information about an account\n",
    "* `API` object’s **`get_user` method** returns a **`tweepy.models.User` object** for an account"
   ]
  },
  {
   "cell_type": "code",
   "execution_count": 7,
   "metadata": {},
   "outputs": [],
   "source": [
    "nasa = api.get_user('nasa')"
   ]
  },
  {
   "cell_type": "markdown",
   "metadata": {},
   "source": [
    "* Calls the **Twitter API’s [`users/show` method](https://developer.twitter.com/en/docs/accounts-and-users/follow-search-get-users/api-reference/get-users-show)**\n",
    "* **`tweepy.models` classes** correspond to returned **JSON objects**\n",
    "* **`User` class** corresponds to a Twitter [**user object**](https://developer.twitter.com/en/docs/tweets/data-dictionary/overview/user-object)\n",
    "* **`tweepy.models` classes** turn **JSON** into **Tweepy objects** "
   ]
  },
  {
   "cell_type": "markdown",
   "metadata": {},
   "source": [
    "<hr style=\"height:2px; border:none; color:#000; background-color:#000;\">"
   ]
  },
  {
   "cell_type": "markdown",
   "metadata": {},
   "source": [
    "### Getting Basic Account Information for `@nasa`\n",
    "* IDs and twitter handles can be used to **track tweets to, from and about users**"
   ]
  },
  {
   "cell_type": "code",
   "execution_count": 8,
   "metadata": {},
   "outputs": [
    {
     "data": {
      "text/plain": [
       "11348282"
      ]
     },
     "execution_count": 8,
     "metadata": {},
     "output_type": "execute_result"
    }
   ],
   "source": [
    "nasa.id  # account ID created when the user joined Twitter"
   ]
  },
  {
   "cell_type": "code",
   "execution_count": 9,
   "metadata": {},
   "outputs": [
    {
     "data": {
      "text/plain": [
       "'NASA'"
      ]
     },
     "execution_count": 9,
     "metadata": {},
     "output_type": "execute_result"
    }
   ],
   "source": [
    "nasa.screen_name  # user’s Twitter handle"
   ]
  },
  {
   "cell_type": "code",
   "execution_count": 10,
   "metadata": {},
   "outputs": [
    {
     "data": {
      "text/plain": [
       "'🚀 All for one, Crew-1 for all. #LaunchAmerica'"
      ]
     },
     "execution_count": 10,
     "metadata": {},
     "output_type": "execute_result"
    }
   ],
   "source": [
    "nasa.description  # description from the user’s profile"
   ]
  },
  {
   "cell_type": "markdown",
   "metadata": {},
   "source": [
    "* Lots of additional attributes, like `name`, `description`, `followers_count`, `friends_count`, etc."
   ]
  },
  {
   "cell_type": "markdown",
   "metadata": {},
   "source": [
    "<hr style=\"height:2px; border:none; color:#000; background-color:#000;\">"
   ]
  },
  {
   "cell_type": "markdown",
   "metadata": {},
   "source": [
    "### Getting `@nasa`'s Most Recent Status Update\n",
    "* `User` object’s **`status` property** returns a **`tweepy.models.Status`** object\n",
    "* Corresponds to a Twitter [**tweet object**](https://developer.twitter.com/en/docs/tweets/data-dictionary/overview/tweet-object)"
   ]
  },
  {
   "cell_type": "code",
   "execution_count": 11,
   "metadata": {},
   "outputs": [
    {
     "data": {
      "text/plain": [
       "\"🌊 Tomorrow, Nov. 17, we're answering questions about ocean-observing satellite Sentinel-6 Michael Freilich during a… https://t.co/bNGcmXzKIm\""
      ]
     },
     "execution_count": 11,
     "metadata": {},
     "output_type": "execute_result"
    }
   ],
   "source": [
    "nasa.status.text  # most recent tweet's text"
   ]
  },
  {
   "cell_type": "markdown",
   "metadata": {},
   "source": [
    "* **...** indicates **truncated** tweet text\n",
    "* **`extended_tweet` property** for tweets between 141 and 280 characters (as of Nov. 2017) \n",
    "* **Retweeting** often results in truncation"
   ]
  },
  {
   "cell_type": "markdown",
   "metadata": {},
   "source": [
    "<hr style=\"height:2px; border:none; color:#000; background-color:#000;\">"
   ]
  },
  {
   "cell_type": "markdown",
   "metadata": {},
   "source": [
    "# 12.9 Introduction to Tweepy Cursors: Getting an Account’s Followers \n",
    "* Twitter API methods often return collections of objects \n",
    "    * E.g., list of tweets that match specified search criteria \n",
    "* Each method has **maximum number of items returned by one call**\n",
    "    * A **\"page\"** of results\n",
    "* **JSON responses** indicate whether there are **more pages**\n",
    "* A **`Cursor`** handles **paging** \n",
    "    * Invokes a method and **checks for more pages**\n",
    "    * If so, **calls the method again**  \n",
    "    * Continues until there are no more results to process\n",
    "    * If `API` object configured to **wait on rate limits**, **`Cursor`s wait as needed**\n",
    "* [Tweepy `Cursor` tutorial](http://docs.tweepy.org/en/latest/cursor_tutorial.html)"
   ]
  },
  {
   "cell_type": "markdown",
   "metadata": {},
   "source": [
    "<hr style=\"height:2px; border:none; color:#000; background-color:#000;\">"
   ]
  },
  {
   "cell_type": "markdown",
   "metadata": {},
   "source": [
    "## 12.9.1 Determining an Account’s Followers  Via the `API` object’s **`followers` Method**\n",
    "* Calls Twitter’s [**followers/list** method](https://developer.twitter.com/en/docs/accounts-and-users/follow-search-get-users/api-reference/get-followers-list.html)\n",
    "* Returns groups of 20 by default, but can request up to 200 \n",
    "* For demonstration purposes, we’ll grab 10 of NASA’s followers"
   ]
  },
  {
   "cell_type": "markdown",
   "metadata": {},
   "source": [
    "<hr style=\"height:2px; border:none; color:#000; background-color:#000;\">"
   ]
  },
  {
   "cell_type": "markdown",
   "metadata": {},
   "source": [
    "### Creating a Cursor That Will Call the `followers` Method for NASA’s account"
   ]
  },
  {
   "cell_type": "code",
   "execution_count": 12,
   "metadata": {},
   "outputs": [],
   "source": [
    "followers = []  # for storing followers' User objects"
   ]
  },
  {
   "cell_type": "code",
   "execution_count": 13,
   "metadata": {},
   "outputs": [],
   "source": [
    "cursor = tweepy.Cursor(api.followers, screen_name='nasa')"
   ]
  },
  {
   "cell_type": "markdown",
   "metadata": {},
   "source": [
    "* First argument is **name of Tweepy method to call**\n",
    "* Additional keyword arguments are passed to method named in first argument"
   ]
  },
  {
   "cell_type": "markdown",
   "metadata": {},
   "source": [
    "<hr style=\"height:2px; border:none; color:#000; background-color:#000;\">"
   ]
  },
  {
   "cell_type": "markdown",
   "metadata": {},
   "source": [
    "### Get Results from `Cursor` and Display in Ascending Alphabetical Order  \n",
    "* Cursor’s **`items` method** calls `api.followers` and returns the `follower`s method’s results"
   ]
  },
  {
   "cell_type": "code",
   "execution_count": 14,
   "metadata": {},
   "outputs": [],
   "source": [
    "for account in cursor.items(10):  # request only 10 results\n",
    "    followers.append(account.screen_name)"
   ]
  },
  {
   "cell_type": "code",
   "execution_count": 15,
   "metadata": {},
   "outputs": [
    {
     "data": {
      "text/plain": [
       "['Melissa01742413',\n",
       " 'MELANIE26233059',\n",
       " 'Ferna2197',\n",
       " 'Charles67378778',\n",
       " 'Suraj3009',\n",
       " 'Alex87477378',\n",
       " 'LionX288',\n",
       " 'ZahirahBatalla',\n",
       " 'GladysR64084468',\n",
       " 'MickyFrankMore']"
      ]
     },
     "execution_count": 15,
     "metadata": {},
     "output_type": "execute_result"
    }
   ],
   "source": [
    "followers"
   ]
  },
  {
   "cell_type": "markdown",
   "metadata": {},
   "source": [
    "<hr style=\"height:2px; border:none; color:#000; background-color:#000;\">"
   ]
  },
  {
   "cell_type": "markdown",
   "metadata": {},
   "source": [
    "### Automatic Paging\n",
    "* To **get up to 200 followers at a time**, create the `Cursor` with the **`count`** keyword argument\n",
    ">```python\n",
    "cursor = tweepy.Cursor(api.followers, screen_name='nasa', count=200)\n",
    "```\n",
    "* Calling `Cursor` method **`items`** with no argument attempts to get **all followers**\n",
    "    * Could **take significant time** due to **rate limits**"
   ]
  },
  {
   "cell_type": "markdown",
   "metadata": {},
   "source": [
    "<hr style=\"height:2px; border:none; color:#000; background-color:#000;\">"
   ]
  },
  {
   "cell_type": "markdown",
   "metadata": {},
   "source": [
    "# 12.10 Searching Recent Tweets with Tweepy `API` method **`search`** \n",
    "* **Tweets API**—Search **past 7 days' tweets**, access **live tweet streams** and more\n",
    "* Returns tweets that **match a query string**\n",
    "* Only for the **previous seven days’ tweets**\n",
    "* **Not guaranteed to return all matching tweets**\n",
    "* Calls Twitter’s **`search/tweets` method**\n",
    "* Returns 15 tweets at a time by default, but can return up to 100"
   ]
  },
  {
   "cell_type": "markdown",
   "metadata": {},
   "source": [
    "<hr style=\"height:2px; border:none; color:#000; background-color:#000;\">"
   ]
  },
  {
   "cell_type": "markdown",
   "metadata": {},
   "source": [
    "### Utility Function `print_tweets` from `tweetutilities.py` "
   ]
  },
  {
   "cell_type": "code",
   "execution_count": 16,
   "metadata": {},
   "outputs": [],
   "source": [
    "from tweetutilities import print_tweets"
   ]
  },
  {
   "cell_type": "markdown",
   "metadata": {},
   "source": [
    "```python\n",
    "def print_tweets(tweets):\n",
    "    \"\"\"For each Tweepy Status object in tweets, display the \n",
    "    user's screen_name and tweet text. If the language is not\n",
    "    English, translate the text with TextBlob.\"\"\"\n",
    "    for tweet in tweets:\n",
    "        print(f'{tweet.screen_name}:', end=' ')\n",
    "    \n",
    "        if 'en' in tweet.lang:\n",
    "            print(f'{tweet.text}\\n')\n",
    "        elif 'und' not in tweet.lang:  # translate to English first\n",
    "            print(f'\\n  ORIGINAL: {tweet.text}')\n",
    "            print(f'TRANSLATED: {TextBlob(tweet.text).translate()}\\n')\n",
    "\n",
    "```"
   ]
  },
  {
   "cell_type": "markdown",
   "metadata": {},
   "source": [
    "<hr style=\"height:2px; border:none; color:#000; background-color:#000;\">"
   ]
  },
  {
   "cell_type": "markdown",
   "metadata": {},
   "source": [
    "### Searching for Specific Words\n",
    "* **`q` keyword argument** specifies the **query string**\n",
    "* Should use **`Cursor`** for more than max results"
   ]
  },
  {
   "cell_type": "code",
   "execution_count": 17,
   "metadata": {},
   "outputs": [],
   "source": [
    "tweets = api.search(q='football', count=3)"
   ]
  },
  {
   "cell_type": "code",
   "execution_count": 18,
   "metadata": {},
   "outputs": [
    {
     "name": "stdout",
     "output_type": "stream",
     "text": [
      "utdgoodson: RT @BigYemz1: Just minding my business playing football ya know.. https://t.co/iZJNLMusFO\n",
      "\n",
      "NonLgeProgs: RT @neilmaskell79: 150 Countdown | A series of 150-word articles counting down to the 150th Anniversary of the first football match played…\n",
      "\n",
      "TSievens: @prageru LSU has a 105,000 capacity football stadium and a lazy river that flows through campus. Americans have dec… https://t.co/0vUXBwx70N\n",
      "\n"
     ]
    }
   ],
   "source": [
    "print_tweets(tweets)"
   ]
  },
  {
   "cell_type": "markdown",
   "metadata": {},
   "source": [
    "<hr style=\"height:2px; border:none; color:#000; background-color:#000;\">"
   ]
  },
  {
   "cell_type": "markdown",
   "metadata": {},
   "source": [
    "### Searching with Twitter Search Operators (1 of 2)\n",
    "* Use **Twitter search operators** to refine search results\n",
    "* The following table shows several Twitter search operators. \n",
    "* [For all the operators, click the `operators` link here](https://twitter.com/search-home)\n",
    "* ```python\n",
    "tweets = api.search(q='from:nasa since:2019-11-15', count=3)\n",
    "```\n",
    "\n",
    "| Example&nbsp;&nbsp;&nbsp;&nbsp;&nbsp;&nbsp;&nbsp;&nbsp;&nbsp;&nbsp;&nbsp;&nbsp;&nbsp;&nbsp;&nbsp;&nbsp;&nbsp;&nbsp;&nbsp;&nbsp;&nbsp;&nbsp;&nbsp;&nbsp;&nbsp;&nbsp;&nbsp;&nbsp;&nbsp;&nbsp;&nbsp;&nbsp;&nbsp;&nbsp;&nbsp;&nbsp;&nbsp;&nbsp;\t| Finds tweets containing\n",
    "| :---\t| :---\n",
    "| `python twitter` \t| **Implicit _logical and_ operator**—Finds tweets containing `python` _and_ `twitter`.\n",
    "| `python OR twitter` \t| **Logical `OR` operator**—Finds tweets containing `python` or `twitter` or both.\n",
    "| `python ?` \t| **`?` (question mark)**—Finds tweets asking questions about `python`.\n",
    "| `planets -mars` \t| **`-` (minus sign)**—Finds tweets containing `planets` but not `mars`.\n",
    "| `python :)` \t| **`:)` (happy face)**—Finds **positive sentiment** tweets containing `python`.\n",
    "| `python :(` \t| **`:(` (sad face)**—Finds **negative sentiment** tweets containing `python`.\n",
    "| `since:2018-09-01` \t| **Finds tweets **on or after** the specified date**, which must be in the form **`YYYY-MM-DD`**.\n",
    "| `near:\"New York City\" `\t| **Finds tweets that were sent near `\"New York City\"`**.\n",
    "| `from:nasa` \t| **Finds tweets from the account `@nasa`**.\n",
    "| `to:nasa` \t| **Finds tweets to the account `@nasa`**."
   ]
  },
  {
   "cell_type": "markdown",
   "metadata": {},
   "source": [
    "<hr style=\"height:2px; border:none; color:#000; background-color:#000;\">"
   ]
  },
  {
   "cell_type": "markdown",
   "metadata": {},
   "source": [
    "# 12.11 Spotting Trends: Twitter Trends API\n",
    "* **“Going viral”** &mdash; thousands or millions of people tweeting at once \n",
    "* Twitter maintains a list of **trending topics** worldwide \n",
    "* **Twitter Trends API** can return lists of **trending-topic locations** and the **top 50 trending topics** for each **location**"
   ]
  },
  {
   "cell_type": "markdown",
   "metadata": {},
   "source": [
    "<hr style=\"height:2px; border:none; color:#000; background-color:#000;\">"
   ]
  },
  {
   "cell_type": "markdown",
   "metadata": {},
   "source": [
    "## 12.11.1 Places with Trending Topics \n",
    "* See how to find places with trending topics: https://learning.oreilly.com/videos/python-fundamentals/9780135917411/9780135917411-PFLL_Lesson12_15"
   ]
  },
  {
   "cell_type": "markdown",
   "metadata": {},
   "source": [
    "<hr style=\"height:2px; border:none; color:#000; background-color:#000;\">"
   ]
  },
  {
   "cell_type": "markdown",
   "metadata": {},
   "source": [
    "## 12.11.2 Getting a List of Trending Topics with the Tweepy `API`’s **`trends_place` Method** \n",
    "* Calls **Twitter Trends API’s [`trends/place` method](https://developer.twitter.com/en/docs/trends/trends-for-location/api-reference/get-trends-place)**\n",
    "* Returns top **50 trending topics for the location**\n",
    "* [Look up WOEIDs](http://www.woeidlookup.com) (**Yahoo! Where on Earth IDs**)\n",
    "* Look up WOEID’s programmatically using **Yahoo!’s web services** via [Python libraries like `woeid`](https://github.com/Ray-SunR/woeid)"
   ]
  },
  {
   "cell_type": "markdown",
   "metadata": {},
   "source": [
    "<hr style=\"height:2px; border:none; color:#000; background-color:#000;\">"
   ]
  },
  {
   "cell_type": "markdown",
   "metadata": {},
   "source": [
    "### Get Today's Worldwide Trending Topics (1 of 3)"
   ]
  },
  {
   "cell_type": "code",
   "execution_count": 19,
   "metadata": {},
   "outputs": [],
   "source": [
    "world_trends = api.trends_place(id=1)  # list containing one dictionary"
   ]
  },
  {
   "cell_type": "markdown",
   "metadata": {},
   "source": [
    "* **`'trends'` key** refers to a **list of dictionaries representing each trend**"
   ]
  },
  {
   "cell_type": "code",
   "execution_count": 20,
   "metadata": {},
   "outputs": [],
   "source": [
    "trends_list = world_trends[0]['trends']"
   ]
  },
  {
   "cell_type": "markdown",
   "metadata": {},
   "source": [
    "<hr style=\"height:2px; border:none; color:#000; background-color:#000;\">"
   ]
  },
  {
   "cell_type": "markdown",
   "metadata": {},
   "source": [
    "### Get Today's Worldwide Trending Topics (2 of 3)\n",
    "* Each trend has **`name`**, **`url`**, **`promoted_content`** (whether it's an **advertisement**), **`query`** and **`tweet_volume`** keys"
   ]
  },
  {
   "cell_type": "code",
   "execution_count": 21,
   "metadata": {},
   "outputs": [
    {
     "data": {
      "text/plain": [
       "{'name': 'Suns',\n",
       " 'url': 'http://twitter.com/search?q=Suns',\n",
       " 'promoted_content': None,\n",
       " 'query': 'Suns',\n",
       " 'tweet_volume': 61499}"
      ]
     },
     "execution_count": 21,
     "metadata": {},
     "output_type": "execute_result"
    }
   ],
   "source": [
    "trends_list[0]"
   ]
  },
  {
   "cell_type": "markdown",
   "metadata": {},
   "source": [
    "<hr style=\"height:2px; border:none; color:#000; background-color:#000;\">"
   ]
  },
  {
   "cell_type": "markdown",
   "metadata": {},
   "source": [
    "### Get Today's Worldwide Trending Topics (3 of 3)\n",
    "* For **trends with more than 10,000 tweets**, the **`tweet_volume`** is the **number of tweets**; otherwise, it’s `None`\n",
    "* Filter the list so that it contains only trends with more than 10,000 tweets:"
   ]
  },
  {
   "cell_type": "code",
   "execution_count": 22,
   "metadata": {},
   "outputs": [],
   "source": [
    "trends_list = [t for t in trends_list if t['tweet_volume']]"
   ]
  },
  {
   "cell_type": "code",
   "execution_count": 23,
   "metadata": {},
   "outputs": [],
   "source": [
    "from operator import itemgetter "
   ]
  },
  {
   "cell_type": "code",
   "execution_count": 24,
   "metadata": {},
   "outputs": [],
   "source": [
    "trends_list.sort(key=itemgetter('tweet_volume'), reverse=True) "
   ]
  },
  {
   "cell_type": "code",
   "execution_count": 25,
   "metadata": {},
   "outputs": [
    {
     "name": "stdout",
     "output_type": "stream",
     "text": [
      "EXO for Favorite Social Artist\n",
      "Moderna\n",
      "#TrustInYugyeomDay\n",
      "#TXTonBillboard200\n",
      "Harden\n",
      "Guaraná\n",
      "SenÇalKapımı CumartesiFoxTa\n",
      "Suns\n",
      "Nets\n",
      "Thunder\n",
      "Brooklyn\n",
      "Kyrie\n",
      "Providencia\n",
      "Candace Owens\n",
      "San Andrés\n",
      "TXT 4TH GEN LEADERS\n",
      "Space Karen\n",
      "Oubre\n",
      "Wrexham\n",
      "sunwoo\n",
      "Booker\n",
      "Ricky Rubio\n",
      "Ümit Özdağ\n",
      "Jalen Lecque\n",
      "Ty Jerome\n",
      "Ben Shapiro\n",
      "María Teresa Cabrera\n",
      "KamuDışıAsç KPDKbekliyor\n",
      "#İbrahimAtabeyTutuklansın\n",
      "#HappyBirthdayEricNam\n",
      "#DavidoInfinixNote8\n",
      "2 ANOS DE DAY\n",
      "Shams\n"
     ]
    }
   ],
   "source": [
    "for trend in trends_list:  # show top trending topics\n",
    "    print(trend['name'])"
   ]
  },
  {
   "cell_type": "markdown",
   "metadata": {},
   "source": [
    "<hr style=\"height:2px; border:none; color:#000; background-color:#000;\">"
   ]
  },
  {
   "cell_type": "markdown",
   "metadata": {},
   "source": [
    "# 12.12 Cleaning/Preprocessing Tweets for Analysis\n",
    "* **Data cleaning** is one of data scientists' most common tasks \n",
    "* Some **NLP tasks** for **normalizing tweets**\n",
    "    * Converting text to **same case**\n",
    "    * Removing **`#` from hashtags**, **`@`-mentions**, **duplicates**, **hashtags**\n",
    "    * Removing **excess whitespace**, **punctuation**, **stop words**, **URLs**\n",
    "    * Removing tweet keywords **`RT`** (retweet) and **`FAV`** (favorite) \n",
    "    * **Stemming** and **lemmatization**\n",
    "    * **Tokenization**"
   ]
  },
  {
   "cell_type": "markdown",
   "metadata": {},
   "source": [
    "<hr style=\"height:2px; border:none; color:#000; background-color:#000;\">"
   ]
  },
  {
   "cell_type": "markdown",
   "metadata": {},
   "source": [
    "### [**tweet-preprocessor**](https://github.com/s/preprocessor) Library and TextBlob Utility Functions\n",
    "* `pip install tweet-preprocessor`\n",
    "* Can automatically remove any combination of:\n",
    "\n",
    "| Option\t| Option constant\n",
    "| :---\t| :---\n",
    "| **`OPT.MENTION`** | @-Mentions (e.g., `@nasa`)\t\n",
    "| **`OPT.EMOJI`** | Emoji\t\n",
    "| **`OPT.HASHTAG`** | Hashtag (e.g., `#mars`)\t\n",
    "| **`OPT.NUMBER`** | Number\t\n",
    "| **`OPT.RESERVED`** | Reserved Words (`RT` and `FAV`)\t\n",
    "| **`OPT.SMILEY`** | Smiley\t\n",
    "| **`OPT.URL`** | URL\t"
   ]
  },
  {
   "cell_type": "markdown",
   "metadata": {},
   "source": [
    "<hr style=\"height:2px; border:none; color:#000; background-color:#000;\">"
   ]
  },
  {
   "cell_type": "markdown",
   "metadata": {},
   "source": [
    "### Cleaning a Tweet Containing a Reserved Word and a URL\n",
    "* The tweet-preprocessor library’s module name is **`preprocessor`** "
   ]
  },
  {
   "cell_type": "code",
   "execution_count": 26,
   "metadata": {},
   "outputs": [],
   "source": [
    "import preprocessor as p  # p recommended by docs"
   ]
  },
  {
   "cell_type": "code",
   "execution_count": 27,
   "metadata": {},
   "outputs": [],
   "source": [
    "p.set_options(p.OPT.URL, p.OPT.RESERVED)  # specify what to clean"
   ]
  },
  {
   "cell_type": "code",
   "execution_count": 28,
   "metadata": {},
   "outputs": [],
   "source": [
    "tweet_text = 'RT A sample retweet with a URL https://nasa.gov'"
   ]
  },
  {
   "cell_type": "code",
   "execution_count": 29,
   "metadata": {},
   "outputs": [
    {
     "data": {
      "text/plain": [
       "'A sample retweet with a URL'"
      ]
     },
     "execution_count": 29,
     "metadata": {},
     "output_type": "execute_result"
    }
   ],
   "source": [
    "p.clean(tweet_text)"
   ]
  },
  {
   "cell_type": "markdown",
   "metadata": {},
   "source": [
    "<hr style=\"height:2px; border:none; color:#000; background-color:#000;\">"
   ]
  },
  {
   "cell_type": "markdown",
   "metadata": {},
   "source": [
    "# 12.13 Twitter Streaming API\n",
    "* Streams **randomly selected** live tweets up to a **maximum of 1% of the tweets per day**\n",
    "* According to https://InternetLiveStats.com\n",
    "    * **~8500 tweets per second**\n",
    "    * Nearly **750 million tweets per day**\n",
    "* So Streaming API gives you **free access to approximately 7.5 million tweets/day**"
   ]
  },
  {
   "cell_type": "markdown",
   "metadata": {},
   "source": [
    "<hr style=\"height:2px; border:none; color:#000; background-color:#000;\">"
   ]
  },
  {
   "cell_type": "markdown",
   "metadata": {},
   "source": [
    "## 12.13.1 Creating a Subclass of `StreamListener` \n",
    "* A stream **pushes** tweets to your app via a **persistent connection** \n",
    "* **Streaming rate** varies tremendously, based on search criteria\n",
    "* Subclass of Tweepy’s **`StreamListener`** listens for tweets\n",
    "    * **Notified** when each **new tweet** or other **Twitter message** **arrives**\n",
    "    * Each message results in a call to a **`StreamListener` method**\n",
    "    * **Override** only the **methods you need**\n"
   ]
  },
  {
   "cell_type": "markdown",
   "metadata": {},
   "source": [
    "<hr style=\"height:2px; border:none; color:#000; background-color:#000;\">"
   ]
  },
  {
   "cell_type": "markdown",
   "metadata": {},
   "source": [
    "### `StreamListener` Methods\n",
    "* [`StreamListener` methods](https://github.com/tweepy/tweepy/blob/master/tweepy/streaming.py)  \n",
    "\n",
    "| Method&nbsp;&nbsp;&nbsp;&nbsp;&nbsp;&nbsp;&nbsp;&nbsp;&nbsp;&nbsp;&nbsp;&nbsp;&nbsp;&nbsp;&nbsp;&nbsp;&nbsp;&nbsp;&nbsp;&nbsp;&nbsp;&nbsp;&nbsp;&nbsp;&nbsp;&nbsp;&nbsp;&nbsp;&nbsp;&nbsp;&nbsp;&nbsp;&nbsp;&nbsp;&nbsp;&nbsp;&nbsp;&nbsp;&nbsp;&nbsp;&nbsp;&nbsp;&nbsp;&nbsp;&nbsp;&nbsp;&nbsp;&nbsp;&nbsp;&nbsp;&nbsp;&nbsp;&nbsp;&nbsp;&nbsp;&nbsp;&nbsp;&nbsp;| Called when...\n",
    "| :---\t| :---\n",
    "| **`on_connect(self)`** \t| App **successfully connects** to the Twitter stream. This is for statements that should execute only if your app is connected to the stream.\n",
    "| **`on_status(self, status)`** \t| A **tweet arrives**—**`status`** is a Tweepy **`Status`** object.\n",
    "| **`on_data(self, data)`** \t| A **tweet arrives**—**`data`** is the **raw JSON** of a Twitter status (tweet).\n",
    "| **`on_limit(self, track)`** \t| A **limit notice** arrives. This occurs if your search matches more tweets than Twitter can deliver based on its current streaming rate limits. In this case, the limit notice contains the number of matching tweets that could not be delivered.\n",
    "| **`on_error(self, status_code)`** \t| An **error code** arrives. \n",
    "| **`on_timeout(self)`** \t| The **connection times out**—that is, the Twitter server is not responding.\n",
    "| **`on_warning(self, notice)`** \t| **Twitter sends a disconnect warning** to indicate that the connection might be closed. For example, Twitter maintains a queue of the tweets it’s pushing to your app. If the app does not read the tweets fast enough, `on_warning`’s notice argument will contain a warning message indicating that the connection will terminate if the queue becomes full. "
   ]
  },
  {
   "cell_type": "markdown",
   "metadata": {},
   "source": [
    "<hr style=\"height:2px; border:none; color:#000; background-color:#000;\">"
   ]
  },
  {
   "cell_type": "markdown",
   "metadata": {},
   "source": [
    "### Class `TweetListener` Defined in `tweetlistener.py`\n",
    "```python  \n",
    "# tweetlistener.py\n",
    "\"\"\"tweepy.StreamListener subclass that processes tweets as they arrive.\"\"\"\n",
    "import tweepy\n",
    "from textblob import TextBlob\n",
    "\n",
    "class TweetListener(tweepy.StreamListener):\n",
    "    \"\"\"Handles incoming Tweet stream.\"\"\"\n",
    "```"
   ]
  },
  {
   "cell_type": "markdown",
   "metadata": {},
   "source": [
    "```python  \n",
    "    def __init__(self, api, limit=10):\n",
    "        \"\"\"Create instance variables for tracking number of tweets.\"\"\"\n",
    "        self.tweet_count = 0\n",
    "        self.TWEET_LIMIT = limit  # max number of tweets; None for no max\n",
    "        super().__init__(api)  # call superclass's init\n",
    "\n",
    "    def on_connect(self):\n",
    "        \"\"\"Called when your connection attempt is successful, enabling \n",
    "        you to perform appropriate application tasks at that point.\"\"\"\n",
    "        print('Connection successful\\n')\n",
    "```"
   ]
  },
  {
   "cell_type": "markdown",
   "metadata": {},
   "source": [
    "```python  \n",
    "    def on_status(self, status):\n",
    "        \"\"\"Called when Twitter pushes a new tweet to you.\"\"\"\n",
    "        # get the tweet text\n",
    "        try:  \n",
    "            tweet_text = status.extended_tweet[\"full_text\"]\n",
    "        except: \n",
    "            tweet_text = status.text\n",
    "\n",
    "        print(f'Screen name: {status.user.screen_name}:')\n",
    "        print(f'   Language: {status.lang}')\n",
    "        print(f'     Status: {tweet_text}')\n",
    "\n",
    "        if status.lang != 'en' and status.lang != 'und':\n",
    "            print(f' Translated: {TextBlob(tweet_text).translate()}')\n",
    "\n",
    "        print()\n",
    "        self.tweet_count += 1  # track number of tweets processed\n",
    "\n",
    "        # if TWEET_LIMIT is reached, return False to terminate streaming\n",
    "        return self.tweet_count < self.TWEET_LIMIT\n",
    "```"
   ]
  },
  {
   "cell_type": "markdown",
   "metadata": {},
   "source": [
    "<hr style=\"height:2px; border:none; color:#000; background-color:#000;\">"
   ]
  },
  {
   "cell_type": "markdown",
   "metadata": {},
   "source": [
    "## 12.13.2 Initiating Stream Processing\n",
    "\n",
    "### Creating a `TweetListener` Initializing It with the `api` Object"
   ]
  },
  {
   "cell_type": "code",
   "execution_count": 30,
   "metadata": {},
   "outputs": [],
   "source": [
    "from tweetlistener import TweetListener"
   ]
  },
  {
   "cell_type": "code",
   "execution_count": 31,
   "metadata": {},
   "outputs": [],
   "source": [
    "tweet_listener = TweetListener(api, limit=5)"
   ]
  },
  {
   "cell_type": "markdown",
   "metadata": {},
   "source": [
    "<hr style=\"height:2px; border:none; color:#000; background-color:#000;\">"
   ]
  },
  {
   "cell_type": "markdown",
   "metadata": {},
   "source": [
    "### Creating a Tweepy **`Stream`** Object to Manage the Connection to the Twitter Stream\n",
    "* Passes the messages to your `TweetListener` "
   ]
  },
  {
   "cell_type": "code",
   "execution_count": 32,
   "metadata": {},
   "outputs": [],
   "source": [
    "tweet_stream = tweepy.Stream(auth=api.auth, listener=tweet_listener)"
   ]
  },
  {
   "cell_type": "markdown",
   "metadata": {},
   "source": [
    "<hr style=\"height:2px; border:none; color:#000; background-color:#000;\">"
   ]
  },
  {
   "cell_type": "markdown",
   "metadata": {},
   "source": [
    "### Starting the Tweet Stream with the `Stream` Object’s **`filter` Method** \n",
    "* `track` parameter specifies a list of search terms\n",
    "* [Other `filter` method parameters](https://developer.twitter.com/en/docs/tweets/filter-realtime/guides/basic-stream-parameters) for refining your tweet searches\n",
    "* Streaming API returns full tweet **JSON objects** for tweets that match any of the terms, **not just in the tweet’s text, but also in @-mentions, hashtags, expanded URLs and other information**  \n",
    "* Might not see search terms in **tweets' text**"
   ]
  },
  {
   "cell_type": "code",
   "execution_count": 33,
   "metadata": {},
   "outputs": [
    {
     "name": "stdout",
     "output_type": "stream",
     "text": [
      "Connection successful\n",
      "\n",
      "Screen name: NilsKarlssonPy1:\n",
      "   Language: en\n",
      "     Status: RT @PurelyFootball: Former Barcelona and Liverpool midfielder Javier Mascherano has announced his retirement from football\n",
      "\n",
      "Absolute baller…\n",
      "\n",
      "Screen name: efeoghene4god:\n",
      "   Language: en\n",
      "     Status: @AFTVMedia It's no longer about players, I think Arteta should allow the players to express themselves more. They play robotic football most times\n",
      "\n",
      "Screen name: PrideDCFC:\n",
      "   Language: en\n",
      "     Status: Really enjoyed having a chat with Ollie and @cspaceram about that football club we all love for some reason 🐏 #dcfc\n",
      "\n",
      "Give it a listen 👇\n",
      "\n",
      "Screen name: Schutt_Pugliese:\n",
      "   Language: en\n",
      "     Status: RT @BallStateFB: Congratulations to @ferdjvy on being named to the Hornung Award Honor Roll. The Hornung Award is given annually to the mos…\n",
      "\n",
      "Screen name: _suuyi:\n",
      "   Language: en\n",
      "     Status: RT @Lifeofpaul0: this football thing still dey my body,  went to play ball today and bagged (3) goals💥\n",
      "\n"
     ]
    }
   ],
   "source": [
    "tweet_stream.filter(track=['football'])  #, is_async=True) "
   ]
  },
  {
   "cell_type": "markdown",
   "metadata": {},
   "source": [
    "<hr style=\"height:2px; border:none; color:#000; background-color:#000;\">"
   ]
  },
  {
   "cell_type": "markdown",
   "metadata": {},
   "source": [
    "### **Lecture note: Run remaining cells now so we don't have to wait for streamed tweets later.**\n",
    "\n",
    "### Asynchronous vs. Synchronous Streams\n",
    "* **`is_async=True`** &mdash; would initiate an **asynchronous tweet stream** \n",
    "* Without `is_async=True`, the stream is **synchronous** and the next In [] prompt appears **after the stream terminates**    \n",
    "* in Jupyter, we used a **synchronous stream** ensure that all tweets display\n",
    "* In IPython, can terminate an asynchronous tweet stream early:  \n",
    ">`tweet_stream.running=False`    \n"
   ]
  },
  {
   "cell_type": "markdown",
   "metadata": {},
   "source": [
    "<hr style=\"height:2px; border:none; color:#000; background-color:#000;\">"
   ]
  },
  {
   "cell_type": "markdown",
   "metadata": {},
   "source": [
    "# 12.14 Tweet Sentiment Analysis \n",
    "* Political researchers might use to understand **how people are likely to vote**\n",
    "* Companies might use to see what people are saying about **their products** and **competitors’ products**\n",
    "* Script **`sentimentlistener.py`** checks **sentiment** on a specified topic for a specified number of tweets\n",
    "* The script in this example is substantially the same as the previous example, but uses TextBlob to check the sentiment of each tweet as we did in the NLP presentation"
   ]
  },
  {
   "cell_type": "code",
   "execution_count": 34,
   "metadata": {},
   "outputs": [
    {
     "name": "stdout",
     "output_type": "stream",
     "text": [
      "+ istewart21: @SoomuchMoore I really think yesterday was the best the defense has ever played since i started watching football lol\n",
      "\n",
      "+ MidlandU_WFlag: Midland flag football is celebrating a bday for our extremely talented, extremely intelligent and special person. She is the big 21.. HAPPY BIRTHDAY Casey Thompson\n",
      "\n",
      "  TSievens: @prageru LSU has a 105,000 capacity football stadium and a lazy river that flows through campus. Americans have decided they want to take on debt to have 4 years of luxury while occasionally going to class. Why should the middle class pick up this tab whatsoever?\n",
      "\n",
      "  br_and_done: @hollywoodtoni0 @PplOppsngTyrnny @LBK423 @NYGDaily @democrats Man we’re just talking football hear\n",
      "\n",
      "- pistoleromigo1: No football today😭 Fuck fifa days\n",
      "\n",
      "+ _meiaa4life: @NofinesseDre The whole football admin needs to be fired exponentially!!\n",
      "\n",
      "  SonOfCrustbot: @crustbot can we play football this weekend\n",
      "\n",
      "  eurosonenter: gloves for winter manufacturers suppliers in sialkot Pakistan #skiglove #wintergloves #turkey #europe #uk #bikes #gym #fitness #soccer #football #america #sweden #stockholm #poland #krakow #london #ukraine #fitnesscoach #fitnessgear #SouthKorea #japan #fashion #leather #safety\n",
      "\n",
      "  eurosonenter: gloves for winter manufacturers suppliers in sialkot Pakistan #skiglove #wintergloves #turkey #europe #uk #bikes #gym #fitness #soccer #football #america #sweden #stockholm #poland #krakow #london #ukraine #fitnesscoach #fitnessgear #SouthKorea #japan #fashion #leather #safety\n",
      "\n",
      "  mhsbluedragons1: Middletown Football Alumni: Devon Carrillo Class of 2012 - Wesleyan Univ #MHSAlumni #AllIn. How it started: How it finished:\n",
      "\n",
      "Tweet sentiment for \"football\"\n",
      "Positive: 3\n",
      " Neutral: 6\n",
      "Negative: 1\n"
     ]
    }
   ],
   "source": [
    "run sentimentlistener.py football 10"
   ]
  },
  {
   "cell_type": "markdown",
   "metadata": {},
   "source": [
    "<hr style=\"height:2px; border:none; color:#000; background-color:#000;\">"
   ]
  },
  {
   "cell_type": "markdown",
   "metadata": {},
   "source": [
    "# 12.15 Geocoding and Mapping\n",
    "* Collect **streaming tweets**, then **plot** their **locations** on an **interactive map**\n",
    "* **Twitter disables precise location info (latitude/longitude) by default** (users must opt in to allowing Twitter to track locations) \n",
    "* Large percentage include the user’s home location information\n",
    "    * Sometimes invalid or fictitious \n",
    "* **Map markers** will show `location` from each tweet’s `User` object"
   ]
  },
  {
   "cell_type": "markdown",
   "metadata": {},
   "source": [
    "<hr style=\"height:2px; border:none; color:#000; background-color:#000;\">"
   ]
  },
  {
   "cell_type": "markdown",
   "metadata": {},
   "source": [
    "### [**geopy** library](https://github.com/geopy/geopy)\n",
    "* **Geocoding**&mdash;translate locations into **latitude** and **longitude**\n",
    "* **geopy** supports dozens of **geocoding web services**, many with **free or lite tiers**\n",
    "* We’ll use **OpenMapQuest geocoding service** "
   ]
  },
  {
   "cell_type": "markdown",
   "metadata": {},
   "source": [
    "<hr style=\"height:2px; border:none; color:#000; background-color:#000;\">"
   ]
  },
  {
   "cell_type": "markdown",
   "metadata": {},
   "source": [
    "### OpenMapQuest Geocoding API (1 of 2)\n",
    "* Convert locations, such as **Boston, MA** into their **latitudes** and **longitudes**, such as **42.3602534** and **-71.0582912**, for plotting on maps\n",
    "* Currently allows **15,000 transactions per month** on their free tier\n",
    "* [Sign up](https://developer.mapquest.com/)\n",
    "* For a presentation of **signing up** and **getting your credentials**, see my [**Python Fundamentals LiveLessons video**](https://learning.oreilly.com/videos/python-fundamentals/9780135917411/9780135917411-PFLL_Lesson12_24) or the [**beginning of Section 12.15 in Python for Programmers**](https://learning.oreilly.com/library/view/python-for-programmers/9780135231364/ch12.xhtml#ch12lev1sec15)"
   ]
  },
  {
   "cell_type": "markdown",
   "metadata": {},
   "source": [
    "<hr style=\"height:2px; border:none; color:#000; background-color:#000;\">"
   ]
  },
  {
   "cell_type": "markdown",
   "metadata": {},
   "source": [
    "### [**folium library**](https://github.com/python-visualization/folium) and Leaflet.js JavaScript Mapping Library\n",
    "* Uses **Leaflet.js JavaScript mapping library** to display maps in a web page \n",
    "* Folium can output **HTML documents** for viewing in a **web browser**\n",
    "* `pip install folium`"
   ]
  },
  {
   "cell_type": "markdown",
   "metadata": {},
   "source": [
    "<hr style=\"height:2px; border:none; color:#000; background-color:#000;\">"
   ]
  },
  {
   "cell_type": "markdown",
   "metadata": {},
   "source": [
    "### Maps from OpenStreetMap.org\n",
    "By default, **Leaflet.js** uses **open source maps** from **`OpenStreetMap.org`**\n",
    "* To use these maps, **they require the following copyright notice**:\n",
    "\n",
    "> `Map data © OpenStreetMap contributors`\n",
    "\n",
    "* They also say: **You must make it clear that the data is available under the Open Database License. This can be achieved by providing a “License” or “Terms” link which links to https://www.openstreetmap.org/copyright or https://www.opendatacommons.org/licenses/odbl/index.html**"
   ]
  },
  {
   "cell_type": "markdown",
   "metadata": {},
   "source": [
    "<hr style=\"height:2px; border:none; color:#000; background-color:#000;\">"
   ]
  },
  {
   "cell_type": "markdown",
   "metadata": {},
   "source": [
    "### Collections Required By `LocationListener`\n",
    "* Requires two collections\n",
    "    * A **list (`tweets`)** to store the tweets we collect \n",
    "    * A **dictionary (`counts`)** to track the **total number of tweets** we collect and the **number that have location data**"
   ]
  },
  {
   "cell_type": "code",
   "execution_count": 35,
   "metadata": {},
   "outputs": [],
   "source": [
    "tweets = [] "
   ]
  },
  {
   "cell_type": "code",
   "execution_count": 36,
   "metadata": {},
   "outputs": [],
   "source": [
    "counts = {'total_tweets': 0, 'locations': 0}"
   ]
  },
  {
   "cell_type": "markdown",
   "metadata": {},
   "source": [
    "<hr style=\"height:2px; border:none; color:#000; background-color:#000;\">"
   ]
  },
  {
   "cell_type": "markdown",
   "metadata": {},
   "source": [
    "### Creating the LocationListener "
   ]
  },
  {
   "cell_type": "code",
   "execution_count": 37,
   "metadata": {},
   "outputs": [],
   "source": [
    "from locationlistener import LocationListener"
   ]
  },
  {
   "cell_type": "code",
   "execution_count": 38,
   "metadata": {},
   "outputs": [],
   "source": [
    "location_listener = LocationListener(api, counts_dict=counts, \n",
    "    tweets_list=tweets, topic='football', limit=50)"
   ]
  },
  {
   "cell_type": "markdown",
   "metadata": {},
   "source": [
    "* **`LocationListener`** uses our **utility function `get_tweet_content`** to place each tweets **screen name**, **tweet text** and **location** into a **dictionary**"
   ]
  },
  {
   "cell_type": "markdown",
   "metadata": {},
   "source": [
    "<hr style=\"height:2px; border:none; color:#000; background-color:#000;\">"
   ]
  },
  {
   "cell_type": "markdown",
   "metadata": {},
   "source": [
    "### Configure and Start the `Stream` of Tweets"
   ]
  },
  {
   "cell_type": "code",
   "execution_count": 39,
   "metadata": {},
   "outputs": [],
   "source": [
    "import tweepy"
   ]
  },
  {
   "cell_type": "code",
   "execution_count": 40,
   "metadata": {},
   "outputs": [],
   "source": [
    "stream = tweepy.Stream(auth=api.auth, listener=location_listener)"
   ]
  },
  {
   "cell_type": "code",
   "execution_count": 41,
   "metadata": {},
   "outputs": [
    {
     "name": "stdout",
     "output_type": "stream",
     "text": [
      "wrigdog: @Hjaston Not really mate, if it’s a film set they will all have been tested before they started work. Basically look at as it’s a job and not people enjoying watching football.\n",
      "\n"
     ]
    }
   ],
   "source": [
    "stream.filter(track=['football'], languages=['en'], is_async=False)"
   ]
  },
  {
   "cell_type": "markdown",
   "metadata": {},
   "source": [
    "<hr style=\"height:2px; border:none; color:#000; background-color:#000;\">"
   ]
  },
  {
   "cell_type": "markdown",
   "metadata": {},
   "source": [
    "### Displaying the Location Statistics "
   ]
  },
  {
   "cell_type": "code",
   "execution_count": 42,
   "metadata": {},
   "outputs": [
    {
     "data": {
      "text/plain": [
       "77"
      ]
     },
     "execution_count": 42,
     "metadata": {},
     "output_type": "execute_result"
    }
   ],
   "source": [
    "counts['total_tweets']"
   ]
  },
  {
   "cell_type": "code",
   "execution_count": 43,
   "metadata": {},
   "outputs": [
    {
     "data": {
      "text/plain": [
       "50"
      ]
     },
     "execution_count": 43,
     "metadata": {},
     "output_type": "execute_result"
    }
   ],
   "source": [
    "counts['locations']"
   ]
  },
  {
   "cell_type": "code",
   "execution_count": 44,
   "metadata": {},
   "outputs": [
    {
     "name": "stdout",
     "output_type": "stream",
     "text": [
      "64.9%\n"
     ]
    }
   ],
   "source": [
    "print(f'{counts[\"locations\"] / counts[\"total_tweets\"]:.1%}')"
   ]
  },
  {
   "cell_type": "markdown",
   "metadata": {},
   "source": [
    "<hr style=\"height:2px; border:none; color:#000; background-color:#000;\">"
   ]
  },
  {
   "cell_type": "markdown",
   "metadata": {},
   "source": [
    "### Geocoding the Locations with Our `get_geocodes` Utility Function \n",
    "* **OpenMapQuest** geocoding service **times out** when it **cannot handle your request immediately**\n",
    "* If so, **`get_geocodes`** **notifies** you, **waits**, then **retries** the request"
   ]
  },
  {
   "cell_type": "code",
   "execution_count": 45,
   "metadata": {},
   "outputs": [],
   "source": [
    "from tweetutilities import get_geocodes"
   ]
  },
  {
   "cell_type": "code",
   "execution_count": 46,
   "metadata": {},
   "outputs": [
    {
     "name": "stdout",
     "output_type": "stream",
     "text": [
      "Getting coordinates for tweet locations...\n",
      "HTTPSConnectionPool(host='open.mapquestapi.com', port=443): Max retries exceeded with url: /nominatim/v1/search?q=South+Cactus%2C+TX&format=json&limit=1&key=L0xOBy7HqIWsNgBvZvgVZx9HX1GSYzri (Caused by ReadTimeoutError(\"HTTPSConnectionPool(host='open.mapquestapi.com', port=443): Read timed out. (read timeout=1)\"))\n",
      "OpenMapQuest service timed out. Waiting.\n",
      "HTTPSConnectionPool(host='open.mapquestapi.com', port=443): Max retries exceeded with url: /nominatim/v1/search?q=Orlando%2C+FL&format=json&limit=1&key=L0xOBy7HqIWsNgBvZvgVZx9HX1GSYzri (Caused by ReadTimeoutError(\"HTTPSConnectionPool(host='open.mapquestapi.com', port=443): Read timed out. (read timeout=1)\"))\n",
      "OpenMapQuest service timed out. Waiting.\n",
      "Done geocoding\n"
     ]
    }
   ],
   "source": [
    "bad_locations = get_geocodes(tweets)"
   ]
  },
  {
   "cell_type": "markdown",
   "metadata": {},
   "source": [
    "<hr style=\"height:2px; border:none; color:#000; background-color:#000;\">"
   ]
  },
  {
   "cell_type": "markdown",
   "metadata": {},
   "source": [
    "### Displaying the Bad Location Statistics"
   ]
  },
  {
   "cell_type": "code",
   "execution_count": 47,
   "metadata": {},
   "outputs": [
    {
     "data": {
      "text/plain": [
       "3"
      ]
     },
     "execution_count": 47,
     "metadata": {},
     "output_type": "execute_result"
    }
   ],
   "source": [
    "bad_locations"
   ]
  },
  {
   "cell_type": "code",
   "execution_count": 48,
   "metadata": {},
   "outputs": [
    {
     "name": "stdout",
     "output_type": "stream",
     "text": [
      "6.0%\n"
     ]
    }
   ],
   "source": [
    "print(f'{bad_locations / counts[\"locations\"]:.1%}')"
   ]
  },
  {
   "cell_type": "markdown",
   "metadata": {},
   "source": [
    "<hr style=\"height:2px; border:none; color:#000; background-color:#000;\">"
   ]
  },
  {
   "cell_type": "markdown",
   "metadata": {},
   "source": [
    "### Cleaning the Data with a pandas `DataFrame` Before Displaying the Data on a Map\n",
    "* `DataFrame` will contain **`NaN`** for the **`latitude`** and **`longitude`** of any tweet that **did not have a valid location**\n",
    "* Remove any such via `DataFrame`’s **`dropna` method** "
   ]
  },
  {
   "cell_type": "code",
   "execution_count": 49,
   "metadata": {},
   "outputs": [],
   "source": [
    "import pandas as pd"
   ]
  },
  {
   "cell_type": "code",
   "execution_count": 50,
   "metadata": {},
   "outputs": [],
   "source": [
    "df = pd.DataFrame(tweets)"
   ]
  },
  {
   "cell_type": "code",
   "execution_count": 51,
   "metadata": {},
   "outputs": [
    {
     "data": {
      "text/html": [
       "<div>\n",
       "<style scoped>\n",
       "    .dataframe tbody tr th:only-of-type {\n",
       "        vertical-align: middle;\n",
       "    }\n",
       "\n",
       "    .dataframe tbody tr th {\n",
       "        vertical-align: top;\n",
       "    }\n",
       "\n",
       "    .dataframe thead th {\n",
       "        text-align: right;\n",
       "    }\n",
       "</style>\n",
       "<table border=\"1\" class=\"dataframe\">\n",
       "  <thead>\n",
       "    <tr style=\"text-align: right;\">\n",
       "      <th></th>\n",
       "      <th>screen_name</th>\n",
       "      <th>text</th>\n",
       "      <th>location</th>\n",
       "      <th>latitude</th>\n",
       "      <th>longitude</th>\n",
       "    </tr>\n",
       "  </thead>\n",
       "  <tbody>\n",
       "    <tr>\n",
       "      <th>0</th>\n",
       "      <td>LukePenningVGP</td>\n",
       "      <td>Forget about Nations League League 1 football ...</td>\n",
       "      <td>Ipswich, England</td>\n",
       "      <td>52.057949</td>\n",
       "      <td>1.152635</td>\n",
       "    </tr>\n",
       "    <tr>\n",
       "      <th>1</th>\n",
       "      <td>Madridi7ii</td>\n",
       "      <td>Player with the Most Match Winning Goals In Fo...</td>\n",
       "      <td>Follow me</td>\n",
       "      <td>-37.944509</td>\n",
       "      <td>145.304854</td>\n",
       "    </tr>\n",
       "    <tr>\n",
       "      <th>2</th>\n",
       "      <td>TreyyMB</td>\n",
       "      <td>@WashingtonNFL id rather continue to be the Fo...</td>\n",
       "      <td>Virginia</td>\n",
       "      <td>37.123224</td>\n",
       "      <td>-78.492772</td>\n",
       "    </tr>\n",
       "    <tr>\n",
       "      <th>3</th>\n",
       "      <td>DanielHanna9</td>\n",
       "      <td>@rickfish412 This is just garbage for talking ...</td>\n",
       "      <td>Massillon, OH</td>\n",
       "      <td>40.796724</td>\n",
       "      <td>-81.521509</td>\n",
       "    </tr>\n",
       "    <tr>\n",
       "      <th>4</th>\n",
       "      <td>coach_swalwell</td>\n",
       "      <td>@SoccerHeretic Future Football Manager save! B...</td>\n",
       "      <td>Florida, USA</td>\n",
       "      <td>27.756767</td>\n",
       "      <td>-81.463983</td>\n",
       "    </tr>\n",
       "    <tr>\n",
       "      <th>5</th>\n",
       "      <td>sashinka2cute</td>\n",
       "      <td>Us keep using social media after watching Snow...</td>\n",
       "      <td>New Jersey, USA</td>\n",
       "      <td>40.075738</td>\n",
       "      <td>-74.404162</td>\n",
       "    </tr>\n",
       "    <tr>\n",
       "      <th>6</th>\n",
       "      <td>therealsh0e95</td>\n",
       "      <td>\"Come on guys he lost to a good coach in bad w...</td>\n",
       "      <td>United States</td>\n",
       "      <td>39.783730</td>\n",
       "      <td>-100.445882</td>\n",
       "    </tr>\n",
       "    <tr>\n",
       "      <th>7</th>\n",
       "      <td>JimmyCury</td>\n",
       "      <td>@YahooSchwab trying to understand why it was a...</td>\n",
       "      <td>Charlotte, NC</td>\n",
       "      <td>35.227087</td>\n",
       "      <td>-80.843127</td>\n",
       "    </tr>\n",
       "    <tr>\n",
       "      <th>8</th>\n",
       "      <td>AndyBooster_1</td>\n",
       "      <td>Mad how good at football we used to be.</td>\n",
       "      <td>Manchester, England</td>\n",
       "      <td>53.479130</td>\n",
       "      <td>-2.244101</td>\n",
       "    </tr>\n",
       "    <tr>\n",
       "      <th>9</th>\n",
       "      <td>BuckeyesWire</td>\n",
       "      <td>Ohio State vs. Indiana 2020 Football Preview A...</td>\n",
       "      <td>O-H-I-O</td>\n",
       "      <td>57.720701</td>\n",
       "      <td>11.954111</td>\n",
       "    </tr>\n",
       "    <tr>\n",
       "      <th>10</th>\n",
       "      <td>weegee56</td>\n",
       "      <td>@hann23 @yashar She was really good. I couldn’...</td>\n",
       "      <td>Snack capital of the world</td>\n",
       "      <td>NaN</td>\n",
       "      <td>NaN</td>\n",
       "    </tr>\n",
       "    <tr>\n",
       "      <th>11</th>\n",
       "      <td>ArkansasOnline</td>\n",
       "      <td>HIGH SCHOOL FOOTBALL: Rex Nelson's rankings as...</td>\n",
       "      <td>Little Rock, AR</td>\n",
       "      <td>34.746481</td>\n",
       "      <td>-92.289595</td>\n",
       "    </tr>\n",
       "    <tr>\n",
       "      <th>12</th>\n",
       "      <td>NikeService</td>\n",
       "      <td>@carmenjuly15 Great question, Carmen. That sho...</td>\n",
       "      <td>Beaverton, Oregon</td>\n",
       "      <td>45.487172</td>\n",
       "      <td>-122.803780</td>\n",
       "    </tr>\n",
       "    <tr>\n",
       "      <th>13</th>\n",
       "      <td>Spags_cards</td>\n",
       "      <td>@SCCTradingCards 2017 Prizm football</td>\n",
       "      <td>Michigan, USA</td>\n",
       "      <td>43.621195</td>\n",
       "      <td>-84.682435</td>\n",
       "    </tr>\n",
       "    <tr>\n",
       "      <th>14</th>\n",
       "      <td>Cymruwrthgalon</td>\n",
       "      <td>Live these, they’ve got a hint of Wales footba...</td>\n",
       "      <td>Ferndale, Wales</td>\n",
       "      <td>51.660487</td>\n",
       "      <td>-3.447563</td>\n",
       "    </tr>\n",
       "    <tr>\n",
       "      <th>15</th>\n",
       "      <td>TeeTeeDaPlug</td>\n",
       "      <td>@Daboswrld well not like since he got there bu...</td>\n",
       "      <td>Minnesota, USA</td>\n",
       "      <td>45.989659</td>\n",
       "      <td>-94.611329</td>\n",
       "    </tr>\n",
       "    <tr>\n",
       "      <th>16</th>\n",
       "      <td>Bladesmen4Life</td>\n",
       "      <td>@Captainwales @uddin_mo @VancityReynolds @Wrex...</td>\n",
       "      <td>Yorkshire and The Humber</td>\n",
       "      <td>53.931899</td>\n",
       "      <td>-1.166472</td>\n",
       "    </tr>\n",
       "    <tr>\n",
       "      <th>17</th>\n",
       "      <td>eurosonenter</td>\n",
       "      <td>gloves for winter \\nmanufacturers suppliers in...</td>\n",
       "      <td>Sialkot Pakistan</td>\n",
       "      <td>32.493538</td>\n",
       "      <td>74.541157</td>\n",
       "    </tr>\n",
       "    <tr>\n",
       "      <th>18</th>\n",
       "      <td>BuffBailey1</td>\n",
       "      <td>@Luke_Balfour @CoyleCliff @Olympics My friends...</td>\n",
       "      <td>South Cactus, TX</td>\n",
       "      <td>27.907261</td>\n",
       "      <td>-99.390738</td>\n",
       "    </tr>\n",
       "    <tr>\n",
       "      <th>19</th>\n",
       "      <td>KingAidenXI</td>\n",
       "      <td>@rogbennett No we don’t need the yanks ruining...</td>\n",
       "      <td>Salford, England</td>\n",
       "      <td>53.487746</td>\n",
       "      <td>-2.289192</td>\n",
       "    </tr>\n",
       "    <tr>\n",
       "      <th>20</th>\n",
       "      <td>bashabearden</td>\n",
       "      <td>Make sure you buy your tickets earlier for thi...</td>\n",
       "      <td>Dominating</td>\n",
       "      <td>NaN</td>\n",
       "      <td>NaN</td>\n",
       "    </tr>\n",
       "    <tr>\n",
       "      <th>21</th>\n",
       "      <td>EusticeBagge</td>\n",
       "      <td>Monday night football!!! https://t.co/sziko3oL5k</td>\n",
       "      <td>Murials house</td>\n",
       "      <td>-34.048053</td>\n",
       "      <td>18.347917</td>\n",
       "    </tr>\n",
       "    <tr>\n",
       "      <th>22</th>\n",
       "      <td>EireTHFC</td>\n",
       "      <td>In football, age doesn't matter. Unless you're...</td>\n",
       "      <td>16 | Dublin, Éire 🇮🇪</td>\n",
       "      <td>53.324762</td>\n",
       "      <td>-6.350012</td>\n",
       "    </tr>\n",
       "    <tr>\n",
       "      <th>23</th>\n",
       "      <td>ScottyTunes</td>\n",
       "      <td>@DangeRussWilson @PeteCarroll @Prez Jesus isn’...</td>\n",
       "      <td>World</td>\n",
       "      <td>38.894121</td>\n",
       "      <td>-77.022947</td>\n",
       "    </tr>\n",
       "    <tr>\n",
       "      <th>24</th>\n",
       "      <td>accio_coffee</td>\n",
       "      <td>Why I don't give $$ to @UofSC: their every-few...</td>\n",
       "      <td>San Diego, CA</td>\n",
       "      <td>32.717421</td>\n",
       "      <td>-117.162771</td>\n",
       "    </tr>\n",
       "    <tr>\n",
       "      <th>25</th>\n",
       "      <td>LunjesFather</td>\n",
       "      <td>Football twitter get your act together 😭😭💔😂we ...</td>\n",
       "      <td>Port Elizabeth</td>\n",
       "      <td>-33.961705</td>\n",
       "      <td>25.620752</td>\n",
       "    </tr>\n",
       "    <tr>\n",
       "      <th>26</th>\n",
       "      <td>lakersNfour</td>\n",
       "      <td>@2Hats1Mike This is sooo real. I experienced s...</td>\n",
       "      <td>Right There</td>\n",
       "      <td>43.056471</td>\n",
       "      <td>-83.305420</td>\n",
       "    </tr>\n",
       "    <tr>\n",
       "      <th>27</th>\n",
       "      <td>BribesCop</td>\n",
       "      <td>@dcFaddy @kirbyhazard Wait...you’re English? A...</td>\n",
       "      <td>Orlando, FL</td>\n",
       "      <td>28.542110</td>\n",
       "      <td>-81.379039</td>\n",
       "    </tr>\n",
       "    <tr>\n",
       "      <th>28</th>\n",
       "      <td>2007killa</td>\n",
       "      <td>FIFA 21- Ultimate Team: Total Football SBC Rew...</td>\n",
       "      <td>Canada</td>\n",
       "      <td>61.066692</td>\n",
       "      <td>-107.991707</td>\n",
       "    </tr>\n",
       "    <tr>\n",
       "      <th>29</th>\n",
       "      <td>eurosonenter</td>\n",
       "      <td>gloves for winter \\nmanufacturers suppliers in...</td>\n",
       "      <td>Sialkot Pakistan</td>\n",
       "      <td>32.493538</td>\n",
       "      <td>74.541157</td>\n",
       "    </tr>\n",
       "    <tr>\n",
       "      <th>30</th>\n",
       "      <td>AVFC_R0lfey</td>\n",
       "      <td>I feel the only chance we have to keep him is ...</td>\n",
       "      <td>London, England</td>\n",
       "      <td>51.507322</td>\n",
       "      <td>-0.127647</td>\n",
       "    </tr>\n",
       "    <tr>\n",
       "      <th>31</th>\n",
       "      <td>eurosonenter</td>\n",
       "      <td>gloves for winter \\nmanufacturers suppliers in...</td>\n",
       "      <td>Sialkot Pakistan</td>\n",
       "      <td>32.493538</td>\n",
       "      <td>74.541157</td>\n",
       "    </tr>\n",
       "    <tr>\n",
       "      <th>32</th>\n",
       "      <td>eurosonenter</td>\n",
       "      <td>gloves for winter \\nmanufacturers suppliers in...</td>\n",
       "      <td>Sialkot Pakistan</td>\n",
       "      <td>32.493538</td>\n",
       "      <td>74.541157</td>\n",
       "    </tr>\n",
       "    <tr>\n",
       "      <th>33</th>\n",
       "      <td>DBobND</td>\n",
       "      <td>No ND Football this week, Irish Fans.  We can ...</td>\n",
       "      <td>South Bend, IN</td>\n",
       "      <td>41.683381</td>\n",
       "      <td>-86.250007</td>\n",
       "    </tr>\n",
       "    <tr>\n",
       "      <th>34</th>\n",
       "      <td>eurosonenter</td>\n",
       "      <td>gloves for winter \\nmanufacturers suppliers in...</td>\n",
       "      <td>Sialkot Pakistan</td>\n",
       "      <td>32.493538</td>\n",
       "      <td>74.541157</td>\n",
       "    </tr>\n",
       "    <tr>\n",
       "      <th>35</th>\n",
       "      <td>mrgaines77</td>\n",
       "      <td>@Reflog_18 It is not Chubb’s job to make sure ...</td>\n",
       "      <td>Kettering, oh</td>\n",
       "      <td>39.689504</td>\n",
       "      <td>-84.168827</td>\n",
       "    </tr>\n",
       "    <tr>\n",
       "      <th>36</th>\n",
       "      <td>WizardOfChelsea</td>\n",
       "      <td>The best XI in the history of football.\\n\\n(Ta...</td>\n",
       "      <td>Sweden</td>\n",
       "      <td>59.674971</td>\n",
       "      <td>14.520858</td>\n",
       "    </tr>\n",
       "    <tr>\n",
       "      <th>37</th>\n",
       "      <td>AkDBaddest1</td>\n",
       "      <td>@Cristiano Football BOOL</td>\n",
       "      <td>Lagos, Nigeria</td>\n",
       "      <td>6.455057</td>\n",
       "      <td>3.394179</td>\n",
       "    </tr>\n",
       "    <tr>\n",
       "      <th>38</th>\n",
       "      <td>wbnathan1</td>\n",
       "      <td>When the President is such a fool that footbal...</td>\n",
       "      <td>Boston</td>\n",
       "      <td>42.360253</td>\n",
       "      <td>-71.058291</td>\n",
       "    </tr>\n",
       "    <tr>\n",
       "      <th>39</th>\n",
       "      <td>JosephBuck321</td>\n",
       "      <td>@thefactualprep @TheRoguePrince1 Biden got mor...</td>\n",
       "      <td>Riverside New Jersey.</td>\n",
       "      <td>40.509826</td>\n",
       "      <td>-74.784052</td>\n",
       "    </tr>\n",
       "    <tr>\n",
       "      <th>40</th>\n",
       "      <td>islamicStories4</td>\n",
       "      <td>Queen Elizabeth and football legend Pele's obi...</td>\n",
       "      <td>Karachi, Pakistan</td>\n",
       "      <td>25.147872</td>\n",
       "      <td>67.182193</td>\n",
       "    </tr>\n",
       "    <tr>\n",
       "      <th>41</th>\n",
       "      <td>Gino_MSFC</td>\n",
       "      <td>@BlackisGoldz He last played football last sea...</td>\n",
       "      <td>Kwaggafontein B - Pretoria</td>\n",
       "      <td>NaN</td>\n",
       "      <td>NaN</td>\n",
       "    </tr>\n",
       "    <tr>\n",
       "      <th>42</th>\n",
       "      <td>jgurney5</td>\n",
       "      <td>That is a good thing too. There best football ...</td>\n",
       "      <td>Little River SC</td>\n",
       "      <td>33.856614</td>\n",
       "      <td>-78.566533</td>\n",
       "    </tr>\n",
       "    <tr>\n",
       "      <th>43</th>\n",
       "      <td>mwauradjute</td>\n",
       "      <td>@AFC_Nxv @martinellii9 Jarrow Football Club is...</td>\n",
       "      <td>Global Village</td>\n",
       "      <td>-8.799758</td>\n",
       "      <td>115.206419</td>\n",
       "    </tr>\n",
       "    <tr>\n",
       "      <th>44</th>\n",
       "      <td>HowellToTorres</td>\n",
       "      <td>I am praying there is no football lay-off due ...</td>\n",
       "      <td>Crawley, South East</td>\n",
       "      <td>51.110344</td>\n",
       "      <td>-0.180109</td>\n",
       "    </tr>\n",
       "    <tr>\n",
       "      <th>45</th>\n",
       "      <td>hoggys_bro</td>\n",
       "      <td>@Gooseduckhuntin @mikelacett Small fan base? N...</td>\n",
       "      <td>michigan</td>\n",
       "      <td>43.621195</td>\n",
       "      <td>-84.682435</td>\n",
       "    </tr>\n",
       "    <tr>\n",
       "      <th>46</th>\n",
       "      <td>DirkWeezil</td>\n",
       "      <td>@MollyJongFast @RavMABAY @GSAEmily Post Trump ...</td>\n",
       "      <td>Midwest, USA</td>\n",
       "      <td>43.411391</td>\n",
       "      <td>-106.280075</td>\n",
       "    </tr>\n",
       "    <tr>\n",
       "      <th>47</th>\n",
       "      <td>WeberStateWkly</td>\n",
       "      <td>Really good content from @FightOnMontana and @...</td>\n",
       "      <td>Stewart Stadium</td>\n",
       "      <td>41.191881</td>\n",
       "      <td>-111.940147</td>\n",
       "    </tr>\n",
       "    <tr>\n",
       "      <th>48</th>\n",
       "      <td>aim_ross1311</td>\n",
       "      <td>Can go to watch a panto but not to a football ...</td>\n",
       "      <td>birmingham</td>\n",
       "      <td>52.477540</td>\n",
       "      <td>-1.894053</td>\n",
       "    </tr>\n",
       "    <tr>\n",
       "      <th>49</th>\n",
       "      <td>wrigdog</td>\n",
       "      <td>@Hjaston Not really mate, if it’s a film set t...</td>\n",
       "      <td>H-Town</td>\n",
       "      <td>5.653632</td>\n",
       "      <td>-9.702067</td>\n",
       "    </tr>\n",
       "  </tbody>\n",
       "</table>\n",
       "</div>"
      ],
      "text/plain": [
       "        screen_name                                               text  \\\n",
       "0    LukePenningVGP  Forget about Nations League League 1 football ...   \n",
       "1        Madridi7ii  Player with the Most Match Winning Goals In Fo...   \n",
       "2           TreyyMB  @WashingtonNFL id rather continue to be the Fo...   \n",
       "3      DanielHanna9  @rickfish412 This is just garbage for talking ...   \n",
       "4    coach_swalwell  @SoccerHeretic Future Football Manager save! B...   \n",
       "5     sashinka2cute  Us keep using social media after watching Snow...   \n",
       "6     therealsh0e95  \"Come on guys he lost to a good coach in bad w...   \n",
       "7         JimmyCury  @YahooSchwab trying to understand why it was a...   \n",
       "8     AndyBooster_1            Mad how good at football we used to be.   \n",
       "9      BuckeyesWire  Ohio State vs. Indiana 2020 Football Preview A...   \n",
       "10         weegee56  @hann23 @yashar She was really good. I couldn’...   \n",
       "11   ArkansasOnline  HIGH SCHOOL FOOTBALL: Rex Nelson's rankings as...   \n",
       "12      NikeService  @carmenjuly15 Great question, Carmen. That sho...   \n",
       "13      Spags_cards               @SCCTradingCards 2017 Prizm football   \n",
       "14   Cymruwrthgalon  Live these, they’ve got a hint of Wales footba...   \n",
       "15     TeeTeeDaPlug  @Daboswrld well not like since he got there bu...   \n",
       "16   Bladesmen4Life  @Captainwales @uddin_mo @VancityReynolds @Wrex...   \n",
       "17     eurosonenter  gloves for winter \\nmanufacturers suppliers in...   \n",
       "18      BuffBailey1  @Luke_Balfour @CoyleCliff @Olympics My friends...   \n",
       "19      KingAidenXI  @rogbennett No we don’t need the yanks ruining...   \n",
       "20     bashabearden  Make sure you buy your tickets earlier for thi...   \n",
       "21     EusticeBagge   Monday night football!!! https://t.co/sziko3oL5k   \n",
       "22         EireTHFC  In football, age doesn't matter. Unless you're...   \n",
       "23      ScottyTunes  @DangeRussWilson @PeteCarroll @Prez Jesus isn’...   \n",
       "24     accio_coffee  Why I don't give $$ to @UofSC: their every-few...   \n",
       "25     LunjesFather  Football twitter get your act together 😭😭💔😂we ...   \n",
       "26      lakersNfour  @2Hats1Mike This is sooo real. I experienced s...   \n",
       "27        BribesCop  @dcFaddy @kirbyhazard Wait...you’re English? A...   \n",
       "28        2007killa  FIFA 21- Ultimate Team: Total Football SBC Rew...   \n",
       "29     eurosonenter  gloves for winter \\nmanufacturers suppliers in...   \n",
       "30      AVFC_R0lfey  I feel the only chance we have to keep him is ...   \n",
       "31     eurosonenter  gloves for winter \\nmanufacturers suppliers in...   \n",
       "32     eurosonenter  gloves for winter \\nmanufacturers suppliers in...   \n",
       "33           DBobND  No ND Football this week, Irish Fans.  We can ...   \n",
       "34     eurosonenter  gloves for winter \\nmanufacturers suppliers in...   \n",
       "35       mrgaines77  @Reflog_18 It is not Chubb’s job to make sure ...   \n",
       "36  WizardOfChelsea  The best XI in the history of football.\\n\\n(Ta...   \n",
       "37      AkDBaddest1                           @Cristiano Football BOOL   \n",
       "38        wbnathan1  When the President is such a fool that footbal...   \n",
       "39    JosephBuck321  @thefactualprep @TheRoguePrince1 Biden got mor...   \n",
       "40  islamicStories4  Queen Elizabeth and football legend Pele's obi...   \n",
       "41        Gino_MSFC  @BlackisGoldz He last played football last sea...   \n",
       "42         jgurney5  That is a good thing too. There best football ...   \n",
       "43      mwauradjute  @AFC_Nxv @martinellii9 Jarrow Football Club is...   \n",
       "44   HowellToTorres  I am praying there is no football lay-off due ...   \n",
       "45       hoggys_bro  @Gooseduckhuntin @mikelacett Small fan base? N...   \n",
       "46       DirkWeezil  @MollyJongFast @RavMABAY @GSAEmily Post Trump ...   \n",
       "47   WeberStateWkly  Really good content from @FightOnMontana and @...   \n",
       "48     aim_ross1311  Can go to watch a panto but not to a football ...   \n",
       "49          wrigdog  @Hjaston Not really mate, if it’s a film set t...   \n",
       "\n",
       "                      location   latitude   longitude  \n",
       "0             Ipswich, England  52.057949    1.152635  \n",
       "1                    Follow me -37.944509  145.304854  \n",
       "2                     Virginia  37.123224  -78.492772  \n",
       "3                Massillon, OH  40.796724  -81.521509  \n",
       "4                 Florida, USA  27.756767  -81.463983  \n",
       "5              New Jersey, USA  40.075738  -74.404162  \n",
       "6                United States  39.783730 -100.445882  \n",
       "7                Charlotte, NC  35.227087  -80.843127  \n",
       "8          Manchester, England  53.479130   -2.244101  \n",
       "9                      O-H-I-O  57.720701   11.954111  \n",
       "10  Snack capital of the world        NaN         NaN  \n",
       "11             Little Rock, AR  34.746481  -92.289595  \n",
       "12           Beaverton, Oregon  45.487172 -122.803780  \n",
       "13               Michigan, USA  43.621195  -84.682435  \n",
       "14             Ferndale, Wales  51.660487   -3.447563  \n",
       "15              Minnesota, USA  45.989659  -94.611329  \n",
       "16    Yorkshire and The Humber  53.931899   -1.166472  \n",
       "17            Sialkot Pakistan  32.493538   74.541157  \n",
       "18            South Cactus, TX  27.907261  -99.390738  \n",
       "19            Salford, England  53.487746   -2.289192  \n",
       "20                  Dominating        NaN         NaN  \n",
       "21               Murials house -34.048053   18.347917  \n",
       "22       16 | Dublin, Éire 🇮🇪   53.324762   -6.350012  \n",
       "23                       World  38.894121  -77.022947  \n",
       "24               San Diego, CA  32.717421 -117.162771  \n",
       "25              Port Elizabeth -33.961705   25.620752  \n",
       "26                 Right There  43.056471  -83.305420  \n",
       "27                 Orlando, FL  28.542110  -81.379039  \n",
       "28                      Canada  61.066692 -107.991707  \n",
       "29            Sialkot Pakistan  32.493538   74.541157  \n",
       "30             London, England  51.507322   -0.127647  \n",
       "31            Sialkot Pakistan  32.493538   74.541157  \n",
       "32            Sialkot Pakistan  32.493538   74.541157  \n",
       "33              South Bend, IN  41.683381  -86.250007  \n",
       "34            Sialkot Pakistan  32.493538   74.541157  \n",
       "35               Kettering, oh  39.689504  -84.168827  \n",
       "36                      Sweden  59.674971   14.520858  \n",
       "37              Lagos, Nigeria   6.455057    3.394179  \n",
       "38                      Boston  42.360253  -71.058291  \n",
       "39       Riverside New Jersey.  40.509826  -74.784052  \n",
       "40           Karachi, Pakistan  25.147872   67.182193  \n",
       "41  Kwaggafontein B - Pretoria        NaN         NaN  \n",
       "42             Little River SC  33.856614  -78.566533  \n",
       "43              Global Village  -8.799758  115.206419  \n",
       "44         Crawley, South East  51.110344   -0.180109  \n",
       "45                    michigan  43.621195  -84.682435  \n",
       "46                Midwest, USA  43.411391 -106.280075  \n",
       "47             Stewart Stadium  41.191881 -111.940147  \n",
       "48                 birmingham   52.477540   -1.894053  \n",
       "49                     H-Town    5.653632   -9.702067  "
      ]
     },
     "execution_count": 51,
     "metadata": {},
     "output_type": "execute_result"
    }
   ],
   "source": [
    "df"
   ]
  },
  {
   "cell_type": "code",
   "execution_count": 52,
   "metadata": {},
   "outputs": [],
   "source": [
    "df = df.dropna()"
   ]
  },
  {
   "cell_type": "code",
   "execution_count": 53,
   "metadata": {},
   "outputs": [
    {
     "data": {
      "text/html": [
       "<div>\n",
       "<style scoped>\n",
       "    .dataframe tbody tr th:only-of-type {\n",
       "        vertical-align: middle;\n",
       "    }\n",
       "\n",
       "    .dataframe tbody tr th {\n",
       "        vertical-align: top;\n",
       "    }\n",
       "\n",
       "    .dataframe thead th {\n",
       "        text-align: right;\n",
       "    }\n",
       "</style>\n",
       "<table border=\"1\" class=\"dataframe\">\n",
       "  <thead>\n",
       "    <tr style=\"text-align: right;\">\n",
       "      <th></th>\n",
       "      <th>screen_name</th>\n",
       "      <th>text</th>\n",
       "      <th>location</th>\n",
       "      <th>latitude</th>\n",
       "      <th>longitude</th>\n",
       "    </tr>\n",
       "  </thead>\n",
       "  <tbody>\n",
       "    <tr>\n",
       "      <th>0</th>\n",
       "      <td>LukePenningVGP</td>\n",
       "      <td>Forget about Nations League League 1 football ...</td>\n",
       "      <td>Ipswich, England</td>\n",
       "      <td>52.057949</td>\n",
       "      <td>1.152635</td>\n",
       "    </tr>\n",
       "    <tr>\n",
       "      <th>1</th>\n",
       "      <td>Madridi7ii</td>\n",
       "      <td>Player with the Most Match Winning Goals In Fo...</td>\n",
       "      <td>Follow me</td>\n",
       "      <td>-37.944509</td>\n",
       "      <td>145.304854</td>\n",
       "    </tr>\n",
       "    <tr>\n",
       "      <th>2</th>\n",
       "      <td>TreyyMB</td>\n",
       "      <td>@WashingtonNFL id rather continue to be the Fo...</td>\n",
       "      <td>Virginia</td>\n",
       "      <td>37.123224</td>\n",
       "      <td>-78.492772</td>\n",
       "    </tr>\n",
       "    <tr>\n",
       "      <th>3</th>\n",
       "      <td>DanielHanna9</td>\n",
       "      <td>@rickfish412 This is just garbage for talking ...</td>\n",
       "      <td>Massillon, OH</td>\n",
       "      <td>40.796724</td>\n",
       "      <td>-81.521509</td>\n",
       "    </tr>\n",
       "    <tr>\n",
       "      <th>4</th>\n",
       "      <td>coach_swalwell</td>\n",
       "      <td>@SoccerHeretic Future Football Manager save! B...</td>\n",
       "      <td>Florida, USA</td>\n",
       "      <td>27.756767</td>\n",
       "      <td>-81.463983</td>\n",
       "    </tr>\n",
       "    <tr>\n",
       "      <th>5</th>\n",
       "      <td>sashinka2cute</td>\n",
       "      <td>Us keep using social media after watching Snow...</td>\n",
       "      <td>New Jersey, USA</td>\n",
       "      <td>40.075738</td>\n",
       "      <td>-74.404162</td>\n",
       "    </tr>\n",
       "    <tr>\n",
       "      <th>6</th>\n",
       "      <td>therealsh0e95</td>\n",
       "      <td>\"Come on guys he lost to a good coach in bad w...</td>\n",
       "      <td>United States</td>\n",
       "      <td>39.783730</td>\n",
       "      <td>-100.445882</td>\n",
       "    </tr>\n",
       "    <tr>\n",
       "      <th>7</th>\n",
       "      <td>JimmyCury</td>\n",
       "      <td>@YahooSchwab trying to understand why it was a...</td>\n",
       "      <td>Charlotte, NC</td>\n",
       "      <td>35.227087</td>\n",
       "      <td>-80.843127</td>\n",
       "    </tr>\n",
       "    <tr>\n",
       "      <th>8</th>\n",
       "      <td>AndyBooster_1</td>\n",
       "      <td>Mad how good at football we used to be.</td>\n",
       "      <td>Manchester, England</td>\n",
       "      <td>53.479130</td>\n",
       "      <td>-2.244101</td>\n",
       "    </tr>\n",
       "    <tr>\n",
       "      <th>9</th>\n",
       "      <td>BuckeyesWire</td>\n",
       "      <td>Ohio State vs. Indiana 2020 Football Preview A...</td>\n",
       "      <td>O-H-I-O</td>\n",
       "      <td>57.720701</td>\n",
       "      <td>11.954111</td>\n",
       "    </tr>\n",
       "    <tr>\n",
       "      <th>11</th>\n",
       "      <td>ArkansasOnline</td>\n",
       "      <td>HIGH SCHOOL FOOTBALL: Rex Nelson's rankings as...</td>\n",
       "      <td>Little Rock, AR</td>\n",
       "      <td>34.746481</td>\n",
       "      <td>-92.289595</td>\n",
       "    </tr>\n",
       "    <tr>\n",
       "      <th>12</th>\n",
       "      <td>NikeService</td>\n",
       "      <td>@carmenjuly15 Great question, Carmen. That sho...</td>\n",
       "      <td>Beaverton, Oregon</td>\n",
       "      <td>45.487172</td>\n",
       "      <td>-122.803780</td>\n",
       "    </tr>\n",
       "    <tr>\n",
       "      <th>13</th>\n",
       "      <td>Spags_cards</td>\n",
       "      <td>@SCCTradingCards 2017 Prizm football</td>\n",
       "      <td>Michigan, USA</td>\n",
       "      <td>43.621195</td>\n",
       "      <td>-84.682435</td>\n",
       "    </tr>\n",
       "    <tr>\n",
       "      <th>14</th>\n",
       "      <td>Cymruwrthgalon</td>\n",
       "      <td>Live these, they’ve got a hint of Wales footba...</td>\n",
       "      <td>Ferndale, Wales</td>\n",
       "      <td>51.660487</td>\n",
       "      <td>-3.447563</td>\n",
       "    </tr>\n",
       "    <tr>\n",
       "      <th>15</th>\n",
       "      <td>TeeTeeDaPlug</td>\n",
       "      <td>@Daboswrld well not like since he got there bu...</td>\n",
       "      <td>Minnesota, USA</td>\n",
       "      <td>45.989659</td>\n",
       "      <td>-94.611329</td>\n",
       "    </tr>\n",
       "    <tr>\n",
       "      <th>16</th>\n",
       "      <td>Bladesmen4Life</td>\n",
       "      <td>@Captainwales @uddin_mo @VancityReynolds @Wrex...</td>\n",
       "      <td>Yorkshire and The Humber</td>\n",
       "      <td>53.931899</td>\n",
       "      <td>-1.166472</td>\n",
       "    </tr>\n",
       "    <tr>\n",
       "      <th>17</th>\n",
       "      <td>eurosonenter</td>\n",
       "      <td>gloves for winter \\nmanufacturers suppliers in...</td>\n",
       "      <td>Sialkot Pakistan</td>\n",
       "      <td>32.493538</td>\n",
       "      <td>74.541157</td>\n",
       "    </tr>\n",
       "    <tr>\n",
       "      <th>18</th>\n",
       "      <td>BuffBailey1</td>\n",
       "      <td>@Luke_Balfour @CoyleCliff @Olympics My friends...</td>\n",
       "      <td>South Cactus, TX</td>\n",
       "      <td>27.907261</td>\n",
       "      <td>-99.390738</td>\n",
       "    </tr>\n",
       "    <tr>\n",
       "      <th>19</th>\n",
       "      <td>KingAidenXI</td>\n",
       "      <td>@rogbennett No we don’t need the yanks ruining...</td>\n",
       "      <td>Salford, England</td>\n",
       "      <td>53.487746</td>\n",
       "      <td>-2.289192</td>\n",
       "    </tr>\n",
       "    <tr>\n",
       "      <th>21</th>\n",
       "      <td>EusticeBagge</td>\n",
       "      <td>Monday night football!!! https://t.co/sziko3oL5k</td>\n",
       "      <td>Murials house</td>\n",
       "      <td>-34.048053</td>\n",
       "      <td>18.347917</td>\n",
       "    </tr>\n",
       "    <tr>\n",
       "      <th>22</th>\n",
       "      <td>EireTHFC</td>\n",
       "      <td>In football, age doesn't matter. Unless you're...</td>\n",
       "      <td>16 | Dublin, Éire 🇮🇪</td>\n",
       "      <td>53.324762</td>\n",
       "      <td>-6.350012</td>\n",
       "    </tr>\n",
       "    <tr>\n",
       "      <th>23</th>\n",
       "      <td>ScottyTunes</td>\n",
       "      <td>@DangeRussWilson @PeteCarroll @Prez Jesus isn’...</td>\n",
       "      <td>World</td>\n",
       "      <td>38.894121</td>\n",
       "      <td>-77.022947</td>\n",
       "    </tr>\n",
       "    <tr>\n",
       "      <th>24</th>\n",
       "      <td>accio_coffee</td>\n",
       "      <td>Why I don't give $$ to @UofSC: their every-few...</td>\n",
       "      <td>San Diego, CA</td>\n",
       "      <td>32.717421</td>\n",
       "      <td>-117.162771</td>\n",
       "    </tr>\n",
       "    <tr>\n",
       "      <th>25</th>\n",
       "      <td>LunjesFather</td>\n",
       "      <td>Football twitter get your act together 😭😭💔😂we ...</td>\n",
       "      <td>Port Elizabeth</td>\n",
       "      <td>-33.961705</td>\n",
       "      <td>25.620752</td>\n",
       "    </tr>\n",
       "    <tr>\n",
       "      <th>26</th>\n",
       "      <td>lakersNfour</td>\n",
       "      <td>@2Hats1Mike This is sooo real. I experienced s...</td>\n",
       "      <td>Right There</td>\n",
       "      <td>43.056471</td>\n",
       "      <td>-83.305420</td>\n",
       "    </tr>\n",
       "    <tr>\n",
       "      <th>27</th>\n",
       "      <td>BribesCop</td>\n",
       "      <td>@dcFaddy @kirbyhazard Wait...you’re English? A...</td>\n",
       "      <td>Orlando, FL</td>\n",
       "      <td>28.542110</td>\n",
       "      <td>-81.379039</td>\n",
       "    </tr>\n",
       "    <tr>\n",
       "      <th>28</th>\n",
       "      <td>2007killa</td>\n",
       "      <td>FIFA 21- Ultimate Team: Total Football SBC Rew...</td>\n",
       "      <td>Canada</td>\n",
       "      <td>61.066692</td>\n",
       "      <td>-107.991707</td>\n",
       "    </tr>\n",
       "    <tr>\n",
       "      <th>29</th>\n",
       "      <td>eurosonenter</td>\n",
       "      <td>gloves for winter \\nmanufacturers suppliers in...</td>\n",
       "      <td>Sialkot Pakistan</td>\n",
       "      <td>32.493538</td>\n",
       "      <td>74.541157</td>\n",
       "    </tr>\n",
       "    <tr>\n",
       "      <th>30</th>\n",
       "      <td>AVFC_R0lfey</td>\n",
       "      <td>I feel the only chance we have to keep him is ...</td>\n",
       "      <td>London, England</td>\n",
       "      <td>51.507322</td>\n",
       "      <td>-0.127647</td>\n",
       "    </tr>\n",
       "    <tr>\n",
       "      <th>31</th>\n",
       "      <td>eurosonenter</td>\n",
       "      <td>gloves for winter \\nmanufacturers suppliers in...</td>\n",
       "      <td>Sialkot Pakistan</td>\n",
       "      <td>32.493538</td>\n",
       "      <td>74.541157</td>\n",
       "    </tr>\n",
       "    <tr>\n",
       "      <th>32</th>\n",
       "      <td>eurosonenter</td>\n",
       "      <td>gloves for winter \\nmanufacturers suppliers in...</td>\n",
       "      <td>Sialkot Pakistan</td>\n",
       "      <td>32.493538</td>\n",
       "      <td>74.541157</td>\n",
       "    </tr>\n",
       "    <tr>\n",
       "      <th>33</th>\n",
       "      <td>DBobND</td>\n",
       "      <td>No ND Football this week, Irish Fans.  We can ...</td>\n",
       "      <td>South Bend, IN</td>\n",
       "      <td>41.683381</td>\n",
       "      <td>-86.250007</td>\n",
       "    </tr>\n",
       "    <tr>\n",
       "      <th>34</th>\n",
       "      <td>eurosonenter</td>\n",
       "      <td>gloves for winter \\nmanufacturers suppliers in...</td>\n",
       "      <td>Sialkot Pakistan</td>\n",
       "      <td>32.493538</td>\n",
       "      <td>74.541157</td>\n",
       "    </tr>\n",
       "    <tr>\n",
       "      <th>35</th>\n",
       "      <td>mrgaines77</td>\n",
       "      <td>@Reflog_18 It is not Chubb’s job to make sure ...</td>\n",
       "      <td>Kettering, oh</td>\n",
       "      <td>39.689504</td>\n",
       "      <td>-84.168827</td>\n",
       "    </tr>\n",
       "    <tr>\n",
       "      <th>36</th>\n",
       "      <td>WizardOfChelsea</td>\n",
       "      <td>The best XI in the history of football.\\n\\n(Ta...</td>\n",
       "      <td>Sweden</td>\n",
       "      <td>59.674971</td>\n",
       "      <td>14.520858</td>\n",
       "    </tr>\n",
       "    <tr>\n",
       "      <th>37</th>\n",
       "      <td>AkDBaddest1</td>\n",
       "      <td>@Cristiano Football BOOL</td>\n",
       "      <td>Lagos, Nigeria</td>\n",
       "      <td>6.455057</td>\n",
       "      <td>3.394179</td>\n",
       "    </tr>\n",
       "    <tr>\n",
       "      <th>38</th>\n",
       "      <td>wbnathan1</td>\n",
       "      <td>When the President is such a fool that footbal...</td>\n",
       "      <td>Boston</td>\n",
       "      <td>42.360253</td>\n",
       "      <td>-71.058291</td>\n",
       "    </tr>\n",
       "    <tr>\n",
       "      <th>39</th>\n",
       "      <td>JosephBuck321</td>\n",
       "      <td>@thefactualprep @TheRoguePrince1 Biden got mor...</td>\n",
       "      <td>Riverside New Jersey.</td>\n",
       "      <td>40.509826</td>\n",
       "      <td>-74.784052</td>\n",
       "    </tr>\n",
       "    <tr>\n",
       "      <th>40</th>\n",
       "      <td>islamicStories4</td>\n",
       "      <td>Queen Elizabeth and football legend Pele's obi...</td>\n",
       "      <td>Karachi, Pakistan</td>\n",
       "      <td>25.147872</td>\n",
       "      <td>67.182193</td>\n",
       "    </tr>\n",
       "    <tr>\n",
       "      <th>42</th>\n",
       "      <td>jgurney5</td>\n",
       "      <td>That is a good thing too. There best football ...</td>\n",
       "      <td>Little River SC</td>\n",
       "      <td>33.856614</td>\n",
       "      <td>-78.566533</td>\n",
       "    </tr>\n",
       "    <tr>\n",
       "      <th>43</th>\n",
       "      <td>mwauradjute</td>\n",
       "      <td>@AFC_Nxv @martinellii9 Jarrow Football Club is...</td>\n",
       "      <td>Global Village</td>\n",
       "      <td>-8.799758</td>\n",
       "      <td>115.206419</td>\n",
       "    </tr>\n",
       "    <tr>\n",
       "      <th>44</th>\n",
       "      <td>HowellToTorres</td>\n",
       "      <td>I am praying there is no football lay-off due ...</td>\n",
       "      <td>Crawley, South East</td>\n",
       "      <td>51.110344</td>\n",
       "      <td>-0.180109</td>\n",
       "    </tr>\n",
       "    <tr>\n",
       "      <th>45</th>\n",
       "      <td>hoggys_bro</td>\n",
       "      <td>@Gooseduckhuntin @mikelacett Small fan base? N...</td>\n",
       "      <td>michigan</td>\n",
       "      <td>43.621195</td>\n",
       "      <td>-84.682435</td>\n",
       "    </tr>\n",
       "    <tr>\n",
       "      <th>46</th>\n",
       "      <td>DirkWeezil</td>\n",
       "      <td>@MollyJongFast @RavMABAY @GSAEmily Post Trump ...</td>\n",
       "      <td>Midwest, USA</td>\n",
       "      <td>43.411391</td>\n",
       "      <td>-106.280075</td>\n",
       "    </tr>\n",
       "    <tr>\n",
       "      <th>47</th>\n",
       "      <td>WeberStateWkly</td>\n",
       "      <td>Really good content from @FightOnMontana and @...</td>\n",
       "      <td>Stewart Stadium</td>\n",
       "      <td>41.191881</td>\n",
       "      <td>-111.940147</td>\n",
       "    </tr>\n",
       "    <tr>\n",
       "      <th>48</th>\n",
       "      <td>aim_ross1311</td>\n",
       "      <td>Can go to watch a panto but not to a football ...</td>\n",
       "      <td>birmingham</td>\n",
       "      <td>52.477540</td>\n",
       "      <td>-1.894053</td>\n",
       "    </tr>\n",
       "    <tr>\n",
       "      <th>49</th>\n",
       "      <td>wrigdog</td>\n",
       "      <td>@Hjaston Not really mate, if it’s a film set t...</td>\n",
       "      <td>H-Town</td>\n",
       "      <td>5.653632</td>\n",
       "      <td>-9.702067</td>\n",
       "    </tr>\n",
       "  </tbody>\n",
       "</table>\n",
       "</div>"
      ],
      "text/plain": [
       "        screen_name                                               text  \\\n",
       "0    LukePenningVGP  Forget about Nations League League 1 football ...   \n",
       "1        Madridi7ii  Player with the Most Match Winning Goals In Fo...   \n",
       "2           TreyyMB  @WashingtonNFL id rather continue to be the Fo...   \n",
       "3      DanielHanna9  @rickfish412 This is just garbage for talking ...   \n",
       "4    coach_swalwell  @SoccerHeretic Future Football Manager save! B...   \n",
       "5     sashinka2cute  Us keep using social media after watching Snow...   \n",
       "6     therealsh0e95  \"Come on guys he lost to a good coach in bad w...   \n",
       "7         JimmyCury  @YahooSchwab trying to understand why it was a...   \n",
       "8     AndyBooster_1            Mad how good at football we used to be.   \n",
       "9      BuckeyesWire  Ohio State vs. Indiana 2020 Football Preview A...   \n",
       "11   ArkansasOnline  HIGH SCHOOL FOOTBALL: Rex Nelson's rankings as...   \n",
       "12      NikeService  @carmenjuly15 Great question, Carmen. That sho...   \n",
       "13      Spags_cards               @SCCTradingCards 2017 Prizm football   \n",
       "14   Cymruwrthgalon  Live these, they’ve got a hint of Wales footba...   \n",
       "15     TeeTeeDaPlug  @Daboswrld well not like since he got there bu...   \n",
       "16   Bladesmen4Life  @Captainwales @uddin_mo @VancityReynolds @Wrex...   \n",
       "17     eurosonenter  gloves for winter \\nmanufacturers suppliers in...   \n",
       "18      BuffBailey1  @Luke_Balfour @CoyleCliff @Olympics My friends...   \n",
       "19      KingAidenXI  @rogbennett No we don’t need the yanks ruining...   \n",
       "21     EusticeBagge   Monday night football!!! https://t.co/sziko3oL5k   \n",
       "22         EireTHFC  In football, age doesn't matter. Unless you're...   \n",
       "23      ScottyTunes  @DangeRussWilson @PeteCarroll @Prez Jesus isn’...   \n",
       "24     accio_coffee  Why I don't give $$ to @UofSC: their every-few...   \n",
       "25     LunjesFather  Football twitter get your act together 😭😭💔😂we ...   \n",
       "26      lakersNfour  @2Hats1Mike This is sooo real. I experienced s...   \n",
       "27        BribesCop  @dcFaddy @kirbyhazard Wait...you’re English? A...   \n",
       "28        2007killa  FIFA 21- Ultimate Team: Total Football SBC Rew...   \n",
       "29     eurosonenter  gloves for winter \\nmanufacturers suppliers in...   \n",
       "30      AVFC_R0lfey  I feel the only chance we have to keep him is ...   \n",
       "31     eurosonenter  gloves for winter \\nmanufacturers suppliers in...   \n",
       "32     eurosonenter  gloves for winter \\nmanufacturers suppliers in...   \n",
       "33           DBobND  No ND Football this week, Irish Fans.  We can ...   \n",
       "34     eurosonenter  gloves for winter \\nmanufacturers suppliers in...   \n",
       "35       mrgaines77  @Reflog_18 It is not Chubb’s job to make sure ...   \n",
       "36  WizardOfChelsea  The best XI in the history of football.\\n\\n(Ta...   \n",
       "37      AkDBaddest1                           @Cristiano Football BOOL   \n",
       "38        wbnathan1  When the President is such a fool that footbal...   \n",
       "39    JosephBuck321  @thefactualprep @TheRoguePrince1 Biden got mor...   \n",
       "40  islamicStories4  Queen Elizabeth and football legend Pele's obi...   \n",
       "42         jgurney5  That is a good thing too. There best football ...   \n",
       "43      mwauradjute  @AFC_Nxv @martinellii9 Jarrow Football Club is...   \n",
       "44   HowellToTorres  I am praying there is no football lay-off due ...   \n",
       "45       hoggys_bro  @Gooseduckhuntin @mikelacett Small fan base? N...   \n",
       "46       DirkWeezil  @MollyJongFast @RavMABAY @GSAEmily Post Trump ...   \n",
       "47   WeberStateWkly  Really good content from @FightOnMontana and @...   \n",
       "48     aim_ross1311  Can go to watch a panto but not to a football ...   \n",
       "49          wrigdog  @Hjaston Not really mate, if it’s a film set t...   \n",
       "\n",
       "                    location   latitude   longitude  \n",
       "0           Ipswich, England  52.057949    1.152635  \n",
       "1                  Follow me -37.944509  145.304854  \n",
       "2                   Virginia  37.123224  -78.492772  \n",
       "3              Massillon, OH  40.796724  -81.521509  \n",
       "4               Florida, USA  27.756767  -81.463983  \n",
       "5            New Jersey, USA  40.075738  -74.404162  \n",
       "6              United States  39.783730 -100.445882  \n",
       "7              Charlotte, NC  35.227087  -80.843127  \n",
       "8        Manchester, England  53.479130   -2.244101  \n",
       "9                    O-H-I-O  57.720701   11.954111  \n",
       "11           Little Rock, AR  34.746481  -92.289595  \n",
       "12         Beaverton, Oregon  45.487172 -122.803780  \n",
       "13             Michigan, USA  43.621195  -84.682435  \n",
       "14           Ferndale, Wales  51.660487   -3.447563  \n",
       "15            Minnesota, USA  45.989659  -94.611329  \n",
       "16  Yorkshire and The Humber  53.931899   -1.166472  \n",
       "17          Sialkot Pakistan  32.493538   74.541157  \n",
       "18          South Cactus, TX  27.907261  -99.390738  \n",
       "19          Salford, England  53.487746   -2.289192  \n",
       "21             Murials house -34.048053   18.347917  \n",
       "22     16 | Dublin, Éire 🇮🇪   53.324762   -6.350012  \n",
       "23                     World  38.894121  -77.022947  \n",
       "24             San Diego, CA  32.717421 -117.162771  \n",
       "25            Port Elizabeth -33.961705   25.620752  \n",
       "26               Right There  43.056471  -83.305420  \n",
       "27               Orlando, FL  28.542110  -81.379039  \n",
       "28                    Canada  61.066692 -107.991707  \n",
       "29          Sialkot Pakistan  32.493538   74.541157  \n",
       "30           London, England  51.507322   -0.127647  \n",
       "31          Sialkot Pakistan  32.493538   74.541157  \n",
       "32          Sialkot Pakistan  32.493538   74.541157  \n",
       "33            South Bend, IN  41.683381  -86.250007  \n",
       "34          Sialkot Pakistan  32.493538   74.541157  \n",
       "35             Kettering, oh  39.689504  -84.168827  \n",
       "36                    Sweden  59.674971   14.520858  \n",
       "37            Lagos, Nigeria   6.455057    3.394179  \n",
       "38                    Boston  42.360253  -71.058291  \n",
       "39     Riverside New Jersey.  40.509826  -74.784052  \n",
       "40         Karachi, Pakistan  25.147872   67.182193  \n",
       "42           Little River SC  33.856614  -78.566533  \n",
       "43            Global Village  -8.799758  115.206419  \n",
       "44       Crawley, South East  51.110344   -0.180109  \n",
       "45                  michigan  43.621195  -84.682435  \n",
       "46              Midwest, USA  43.411391 -106.280075  \n",
       "47           Stewart Stadium  41.191881 -111.940147  \n",
       "48               birmingham   52.477540   -1.894053  \n",
       "49                   H-Town    5.653632   -9.702067  "
      ]
     },
     "execution_count": 53,
     "metadata": {},
     "output_type": "execute_result"
    }
   ],
   "source": [
    "df"
   ]
  },
  {
   "cell_type": "markdown",
   "metadata": {},
   "source": [
    "<hr style=\"height:2px; border:none; color:#000; background-color:#000;\">"
   ]
  },
  {
   "cell_type": "markdown",
   "metadata": {},
   "source": [
    "### Creating a Map with Folium"
   ]
  },
  {
   "cell_type": "code",
   "execution_count": 54,
   "metadata": {},
   "outputs": [],
   "source": [
    "import folium"
   ]
  },
  {
   "cell_type": "code",
   "execution_count": 55,
   "metadata": {},
   "outputs": [],
   "source": [
    "usmap = folium.Map(location=[39.8283, -98.5795],  # center of U.S.\n",
    "                   tiles='Stamen Terrain',\n",
    "                   zoom_start=4, detect_retina=True)"
   ]
  },
  {
   "cell_type": "markdown",
   "metadata": {},
   "source": [
    "* **`location`** &mdash; sequence containing **latitude** and **longitude** of **map center point**\n",
    "    * [Geographic center of the continental United States](http://bit.ly/CenterOfTheUS) \n",
    "* **`zoom_start`** &mdash; **map’s initial zoom level**\n",
    "* **`detect_retina`** &mdash; enables folium to use **higher-resolution maps**"
   ]
  },
  {
   "cell_type": "markdown",
   "metadata": {},
   "source": [
    "<hr style=\"height:2px; border:none; color:#000; background-color:#000;\">"
   ]
  },
  {
   "cell_type": "markdown",
   "metadata": {},
   "source": [
    "### Creating Folium `Popup` Objects for the Tweet Locations\n",
    "* **`itertuples`** creates **tuples** from **each row** of the **`DataFrame`**\n",
    "* Each **tuple** contains a **property** for each **`DataFrame` column**"
   ]
  },
  {
   "cell_type": "code",
   "execution_count": 56,
   "metadata": {},
   "outputs": [],
   "source": [
    "for t in df.itertuples():\n",
    "    text = ': '.join([t.screen_name, t.text])\n",
    "    popup = folium.Popup(text)\n",
    "    marker = folium.Marker((t.latitude, t.longitude), \n",
    "                           popup=popup)\n",
    "    marker.add_to(usmap)"
   ]
  },
  {
   "cell_type": "markdown",
   "metadata": {},
   "source": [
    "<hr style=\"height:2px; border:none; color:#000; background-color:#000;\">"
   ]
  },
  {
   "cell_type": "markdown",
   "metadata": {},
   "source": [
    "### Saving the Map with Map’s **`save`** Method "
   ]
  },
  {
   "cell_type": "code",
   "execution_count": 57,
   "metadata": {},
   "outputs": [],
   "source": [
    "usmap.save('tweet_map.html')"
   ]
  },
  {
   "cell_type": "markdown",
   "metadata": {},
   "source": [
    "<hr style=\"height:2px; border:none; color:#000; background-color:#000;\">"
   ]
  },
  {
   "cell_type": "markdown",
   "metadata": {},
   "source": [
    "### Displaying the Map in Jupyter \n",
    "* The resulting map follows. \n",
    "<a href=\"./tweet_map.html\">Interactive tweet map</a>"
   ]
  },
  {
   "cell_type": "code",
   "execution_count": 58,
   "metadata": {},
   "outputs": [
    {
     "data": {
      "text/html": [
       "<div style=\"width:100%;\"><div style=\"position:relative;width:100%;height:0;padding-bottom:60%;\"><span style=\"color:#565656\">Make this Notebook Trusted to load map: File -> Trust Notebook</span><iframe src=\"about:blank\" style=\"position:absolute;width:100%;height:100%;left:0;top:0;border:none !important;\" data-html=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 onload=\"this.contentDocument.open();this.contentDocument.write(atob(this.getAttribute('data-html')));this.contentDocument.close();\" allowfullscreen webkitallowfullscreen mozallowfullscreen></iframe></div></div>"
      ],
      "text/plain": [
       "<folium.folium.Map at 0x7fc370f7cfa0>"
      ]
     },
     "execution_count": 58,
     "metadata": {},
     "output_type": "execute_result"
    }
   ],
   "source": [
    "usmap"
   ]
  },
  {
   "cell_type": "markdown",
   "metadata": {},
   "source": [
    "<!--\n",
    "#from IPython.display import IFrame\n",
    "#IFrame(src=\"./tweet_map.html\", width=800, height=450)\n",
    "-->"
   ]
  },
  {
   "cell_type": "markdown",
   "metadata": {},
   "source": [
    "<hr style=\"height:2px; border:none; color:#000; background-color:#000;\">"
   ]
  },
  {
   "cell_type": "markdown",
   "metadata": {},
   "source": [
    "## Utility Functions\n",
    "See the following for details: \n",
    "* [**Python Fundamentals LiveLessons video**](https://learning.oreilly.com/videos/python-fundamentals/9780135917411/9780135917411-PFLL_Lesson12_26) \n",
    "* [Sections 12.5.2-12.5.3 in **Python for Programmers**](https://learning.oreilly.com/library/view/python-for-programmers/9780135231364/ch12.xhtml#ch12lev2sec10)\n",
    "\n",
    "### `get_tweet_content` Utility Function (2 of 2)\n",
    "```python\n",
    "def get_tweet_content(tweet, location=False):\n",
    "    \"\"\"Return dictionary with data from tweet (a Status object).\"\"\"\n",
    "    fields = {}\n",
    "    fields['screen_name'] = tweet.user.screen_name\n",
    "\n",
    "    # get the tweet's text\n",
    "    try:  \n",
    "        fields['text'] = tweet.extended_tweet[\"full_text\"]\n",
    "    except: \n",
    "        fields['text'] = tweet.text\n",
    "\n",
    "    if location:\n",
    "        fields['location'] = tweet.user.location\n",
    "\n",
    "    return fields\n",
    "\n",
    "```"
   ]
  },
  {
   "cell_type": "markdown",
   "metadata": {},
   "source": [
    "<hr style=\"height:2px; border:none; color:#000; background-color:#000;\">"
   ]
  },
  {
   "cell_type": "markdown",
   "metadata": {},
   "source": [
    "### `get_geocodes` Utility Function (1 of 3)\n",
    "* Receives a **list of dictionaries** containing tweets and **geocodes their locations**\n",
    "* If **geocoding** is **successful** for a tweet, adds the **latitude** and **longitude** to the tweet’s **dictionary in `tweet_list`**\n",
    "* Requires class **`OpenMapQuest`** from the **geopy module**"
   ]
  },
  {
   "cell_type": "markdown",
   "metadata": {},
   "source": [
    "<hr style=\"height:2px; border:none; color:#000; background-color:#000;\">"
   ]
  },
  {
   "cell_type": "markdown",
   "metadata": {},
   "source": [
    "### `get_geocodes` Utility Function (2 of 3)\n",
    "```python\n",
    "from geopy import OpenMapQuest\n",
    "```\n",
    "\n",
    "```python\n",
    "def get_geocodes(tweet_list):\n",
    "    \"\"\"Get the latitude and longitude for each tweet's location.\n",
    "    Returns the number of tweets with invalid location data.\"\"\"\n",
    "    print('Getting coordinates for tweet locations...')\n",
    "    geo = OpenMapQuest(api_key=keys.mapquest_key)  # geocoder\n",
    "    bad_locations = 0  \n",
    "\n",
    "    for tweet in tweet_list:\n",
    "        processed = False\n",
    "        delay = .1  # used if OpenMapQuest times out to delay next call\n",
    "        while not processed:\n",
    "            try:  # get coordinates for tweet['location']\n",
    "                geo_location = geo.geocode(tweet['location'])\n",
    "                processed = True\n",
    "            except:  # timed out, so wait before trying again\n",
    "                print('OpenMapQuest service timed out. Waiting.')\n",
    "                time.sleep(delay)\n",
    "                delay += .1\n",
    "\n",
    "        if geo_location:  \n",
    "            tweet['latitude'] = geo_location.latitude\n",
    "            tweet['longitude'] = geo_location.longitude\n",
    "        else:  \n",
    "            bad_locations += 1  # tweet['location'] was invalid\n",
    "    \n",
    "    print('Done geocoding')\n",
    "    return bad_locations\n",
    "\n",
    "```"
   ]
  },
  {
   "cell_type": "markdown",
   "metadata": {},
   "source": [
    "<hr style=\"height:2px; border:none; color:#000; background-color:#000;\">"
   ]
  },
  {
   "cell_type": "markdown",
   "metadata": {},
   "source": [
    "## 12.15.3 Class `LocationListener`\n",
    "```python\n",
    "# locationlistener.py\n",
    "\"\"\"Receives tweets matching a search string and stores a list of\n",
    "dictionaries containing each tweet's screen_name/text/location.\"\"\"\n",
    "import tweepy\n",
    "from tweetutilities import get_tweet_content\n",
    "from IPython.display import clear_output\n",
    "\n",
    "class LocationListener(tweepy.StreamListener):\n",
    "    \"\"\"Handles incoming Tweet stream to get location data.\"\"\"\n",
    "```"
   ]
  },
  {
   "cell_type": "markdown",
   "metadata": {},
   "source": [
    "```python\n",
    "    def __init__(self, api, counts_dict, tweets_list, topic, limit=10):\n",
    "        \"\"\"Configure the LocationListener.\"\"\"\n",
    "        self.tweets_list = tweets_list\n",
    "        self.counts_dict = counts_dict\n",
    "        self.topic = topic\n",
    "        self.TWEET_LIMIT = limit\n",
    "        super().__init__(api)  # call superclass's init\n",
    "```"
   ]
  },
  {
   "cell_type": "markdown",
   "metadata": {},
   "source": [
    "```python\n",
    "    def on_status(self, status):\n",
    "        \"\"\"Called when Twitter pushes a new tweet to you.\"\"\"\n",
    "        # get each tweet's screen_name, text and location\n",
    "        tweet_data = get_tweet_content(status, location=True)  \n",
    "\n",
    "        # ignore retweets and tweets that do not contain the topic\n",
    "        if (tweet_data['text'].startswith('RT') or\n",
    "            self.topic.lower() not in tweet_data['text'].lower()):\n",
    "            return\n",
    "\n",
    "        self.counts_dict['total_tweets'] += 1  # original tweet\n",
    "\n",
    "        # ignore tweets with no location \n",
    "        if not status.user.location:  \n",
    "            return\n",
    "\n",
    "        self.counts_dict['locations'] += 1  # tweet with location\n",
    "        self.tweets_list.append(tweet_data)  # store the tweet\n",
    "        clear_output()\n",
    "        print(f'{status.user.screen_name}: {tweet_data[\"text\"]}\\n')\n",
    "        \n",
    "        # if TWEET_LIMIT is reached, return False to terminate streaming\n",
    "        return self.counts_dict['locations'] < self.TWEET_LIMIT\n",
    "\n",
    "```"
   ]
  },
  {
   "cell_type": "markdown",
   "metadata": {},
   "source": [
    "<hr style=\"height:2px; border:none; color:#000; background-color:#000;\">"
   ]
  },
  {
   "cell_type": "markdown",
   "metadata": {},
   "source": [
    "# More Info \n",
    "* See Lesson 12 in [**Python Fundamentals LiveLessons** here on O'Reilly Online Learning](https://learning.oreilly.com/videos/python-fundamentals/9780135917411)\n",
    "* See Chapter 12 in [**Python for Programmers** on O'Reilly Online Learning](https://learning.oreilly.com/library/view/python-for-programmers/9780135231364/)\n",
    "* See Chapter 13 in [**Intro Python for Computer Science and Data Science** on O'Reilly Online Learning](https://learning.oreilly.com/library/view/intro-to-python/9780135404799/)\n",
    "* Interested in a print book? Check out:\n",
    "\n",
    "| Python for Programmers<br>(640-page professional book) | Intro to Python for Computer<br>Science and Data Science<br>(880-page college textbook)\n",
    "| :------ | :------\n",
    "| <a href=\"https://amzn.to/2VvdnxE\"><img alt=\"Python for Programmers cover\" src=\"../images/PyFPCover.png\" width=\"150\" border=\"1\"/></a> | <a href=\"https://amzn.to/2LiDCmt\"><img alt=\"Intro to Python for Computer Science and Data Science: Learning to Program with AI, Big Data and the Cloud\" src=\"../images/IntroToPythonCover.png\" width=\"159\" border=\"1\"></a>\n",
    "\n",
    ">Please **do not** purchase both books&mdash;_Python for Programmers_ is a subset of _Intro to Python for Computer Science and Data Science_"
   ]
  },
  {
   "cell_type": "markdown",
   "metadata": {},
   "source": [
    "&copy; 2019 by Pearson Education, Inc. All Rights Reserved. The content in this notebook is based on the book [**Python for Programmers**](https://amzn.to/2VvdnxE)."
   ]
  }
 ],
 "metadata": {
  "kernelspec": {
   "display_name": "Python 3",
   "language": "python",
   "name": "python3"
  },
  "language_info": {
   "codemirror_mode": {
    "name": "ipython",
    "version": 3
   },
   "file_extension": ".py",
   "mimetype": "text/x-python",
   "name": "python",
   "nbconvert_exporter": "python",
   "pygments_lexer": "ipython3",
   "version": "3.8.5"
  }
 },
 "nbformat": 4,
 "nbformat_minor": 4
}
