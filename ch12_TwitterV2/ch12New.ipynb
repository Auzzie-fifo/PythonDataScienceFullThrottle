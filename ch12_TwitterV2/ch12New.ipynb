{
 "cells": [
  {
   "cell_type": "markdown",
   "metadata": {
    "jp-MarkdownHeadingCollapsed": true,
    "tags": []
   },
   "source": [
    "# 12. Data Mining Twitter\n",
    "> [Chapter 12, Data Mining Twitter (Updated for the Twitter v2 APIs)](https://deitel.com/wp-content/uploads/2022/09/python-for-programmers-chapter-12-data-mining-twitter-v2.pdf)"
   ]
  },
  {
   "cell_type": "markdown",
   "metadata": {
    "tags": []
   },
   "source": [
    "# Objectives\n",
    "* **Data-mine Twitter** with **Tweepy** library\n",
    "* Use various **Twitter v2** API methods\n",
    "* **Get information** about a specific Twitter account\n",
    "* **Search for past tweets** that meet your criteria\n",
    "* **Sample the stream of live tweets** as they’re happening\n",
    "* **Request additional metadata** in Twitter responses via the Twitter v2 API’s **expansions** and **fields**\n",
    "* **Clean and preprocess tweets** to prepare them for analysis\n",
    "* **Translate foreign language tweets** into English and to perform **sentiment analysis** on tweets\n",
    "* **Spot trends** with the Twitter v1.1 **Trends API**\n",
    "* **Map tweets** using **folium** and OpenStreetMap map tiles"
   ]
  },
  {
   "cell_type": "markdown",
   "metadata": {},
   "source": [
    "------"
   ]
  },
  {
   "cell_type": "markdown",
   "metadata": {},
   "source": [
    "# 12.1 Introduction \n",
    "* Popular **big-data source**  \n",
    "* **Data mining** &mdash; searching large collections of data for **insights**\n",
    "* **Sentiment** in tweets can help **make predictions**  \n",
    "    * **Stock prices**\n",
    "    * **Election results**\n",
    "    * Likely **revenues** for a **new movie**\n",
    "    * **Success** of a company’s **marketing campaign**\n",
    "* Spot **faults in competitors’ products** \n",
    "* Spot **trending topics**\n",
    "* **Connect to Twitter** with easy-to-use **Web services**"
   ]
  },
  {
   "cell_type": "markdown",
   "metadata": {},
   "source": [
    "### What Is Twitter?\n",
    "* Tweets\n",
    "    * Short messages\n",
    "    * Initially limited to **140 characters**\n",
    "    * Now limited to **280 characters**\n",
    "* Anyone can generally choose to follow anyone else"
   ]
  },
  {
   "cell_type": "markdown",
   "metadata": {},
   "source": [
    "### Twitter Statistics\n",
    "* [Hundreds of millions of tweets are sent every day with many thousands sent per second](http://www.internetlivestats.com/twitter-statistics/)\n",
    "* Can **tap into the live stream** of tweets\n",
    "    * Like **“drinking from a fire hose”** "
   ]
  },
  {
   "cell_type": "markdown",
   "metadata": {
    "tags": []
   },
   "source": [
    "### Twitter and Big Data \n",
    "* A **favorite big data source** for researchers and business people worldwide\n",
    "* **Free** access to a small portion of recent tweets\n",
    "* Can pay for access to much larger portions the all-time tweets database"
   ]
  },
  {
   "cell_type": "markdown",
   "metadata": {},
   "source": [
    "------"
   ]
  },
  {
   "cell_type": "markdown",
   "metadata": {},
   "source": [
    "# 12.2 Overview of the Twitter APIs \n",
    "* **Web services** are methods that you call in the **cloud**\n",
    "* Each method has a **web service endpoint** represented by a **URL**\n",
    "* **Caution**: Internet connections can be lost, services can change and some services are not available in all countries, so **apps can be brittle**\n",
    "* **API categories** we'll look at\n",
    "    * **Users API** — Access information about **Twitter user accounts**\n",
    "    * **Tweets API** — Search through **past tweets**, access **live tweet streams**\n",
    "    * **Trends API (Twitter v1.1)** — Find locations and lists of **trending topics**\n",
    "* **Additional Twitter API categories**  \n",
    ">https://developer.twitter.com/en/docs/api-reference-index"
   ]
  },
  {
   "cell_type": "markdown",
   "metadata": {},
   "source": [
    "### Rate Limits: A Word of Caution \n",
    "* Twitter expects developers to use its services responsibly\n",
    "* **Understand rate limits** before using any method\n",
    "    * Twitter may **block you** for repeated violations\n",
    "    * **Tweepy** can be configured to **wait when it encounters rate limits**\n",
    "* Some methods list both **user rate limits** and **app rate limits**\n",
    "    * We use **app rate limits** in the demos\n",
    "    * **User rate limits** are for apps that enable individuals to log into their Twitter accounts\n",
    "* [Details on rate limiting](https://developer.twitter.com/en/docs/basics/rate-limiting)\n",
    "* [Specific rate limits on individual API methods](https://developer.twitter.com/en/docs/basics/rate-limits) — also see each API method’s documentation. "
   ]
  },
  {
   "cell_type": "markdown",
   "metadata": {},
   "source": [
    "### Other Restrictions\n",
    "* **Follow Twitter’s rules/regulations** \n",
    "\t* Terms of service — https://twitter.com/tos"
   ]
  },
  {
   "cell_type": "markdown",
   "metadata": {},
   "source": [
    "------"
   ]
  },
  {
   "cell_type": "markdown",
   "metadata": {},
   "source": [
    "# 12.3 Creating a Twitter Account\n",
    "* [Apply for a developer account](https://developer.twitter.com/) to use the APIs\n",
    "* Every application is subject to approval"
   ]
  },
  {
   "cell_type": "markdown",
   "metadata": {},
   "source": [
    "### Twitter Developer Account Levels\n",
    "https://developer.twitter.com/en/products/twitter-api\n",
    "* Some Twitter v2 APIs are accessible only to Elevated-level and higher accounts. \n",
    "    * **Essentials** — “The best way to get started quickly, test, and build across all endpoints.”\n",
    "    * **Elevated** — “More access for solutions that are beginning to experience growth or who prefer to work with multiple App environments.”\n",
    "    * **Academic Research** — “Access to public data on nearly any topic to advance research objectives of Master’s students, doctoral candidates, post-docs, and faculty at an academic institution or university.”\n",
    "* Twitter documentation specifies the minimum account level and the rate-limit differences between levels, if any."
   ]
  },
  {
   "cell_type": "markdown",
   "metadata": {},
   "source": [
    "### Choosing a Developer Account Application Type\n",
    "* **Professional**, **Hobbyist**, and **Academic Research** use\n",
    "    * choose the type most appropriate for your use case\n",
    "    * For our examples, can choose **Hobbyist** then **Exploring the API**\n",
    "* If asked to apply for an **Elevated** application, click **Get started**, then:\n",
    "    1. On the **Basic info** tab, fill in the form with your information and click **Next**.\n",
    "    2. On the **Intended use** tab, describe how you intend to use the APIs. \n",
    "    3. Answer the other questions provided—For this chapter’s examples, you will not \n",
    "        * use the tweet, retweet, like, follow or direct message functionality\n",
    "        * will not display tweets or aggregate data about Twitter content outside of Twitter\n",
    "        * will not make Twitter content available to a government entity\n",
    "    4. Click **Next** to review your answers, then click **Next** again. \n",
    "    5. Carefully read and agree to Twitter’s **Developer agreement & policy**, then click **Submit** to complete the application. You will be asked to confirm your email address."
   ]
  },
  {
   "cell_type": "markdown",
   "metadata": {},
   "source": [
    "### Essentials Level Accounts and the Twitter v1.1 APIs\n",
    "* As of mid-2022, Twitter requires new developer accounts to use the Twitter v2 APIs\n",
    "* Twitter has not yet migrated some v1.1 APIs to v2"
   ]
  },
  {
   "cell_type": "markdown",
   "metadata": {},
   "source": [
    "------"
   ]
  },
  {
   "cell_type": "markdown",
   "metadata": {},
   "source": [
    "# 12.5 What’s in a Twitter API Response?\n",
    "* Twitter API methods return **JSON (JavaScript Object Notation)** objects\n",
    "* Text-based **data-interchange format** \n",
    "* Represents objects as **collections of name–value pairs** (like dictionaries)\n",
    "* Commonly used in web services\n",
    "* Human and computer readable"
   ]
  },
  {
   "cell_type": "markdown",
   "metadata": {},
   "source": [
    "# 12.5 What’s in a Twitter API Response? (cont.)\n",
    "* **JSON object format**:\n",
    "> ```\n",
    "> {propertyName1: value1, propertyName2: value2}\n",
    "> ```\n",
    "* **JSON array format (like Python list)**:\n",
    "> ```\n",
    "> [value1, value2, value3]\n",
    "> ```\n",
    "* **Tweepy handles the JSON for you** behind the scenes"
   ]
  },
  {
   "cell_type": "markdown",
   "metadata": {},
   "source": [
    "### Default Properties of a Tweet Object\n",
    "Twitter returns a JSON object that, by default, contains \n",
    "* the tweet’s unique ID number \n",
    "* its text (up to a maximum of 280 characters)"
   ]
  },
  {
   "cell_type": "markdown",
   "metadata": {},
   "source": [
    "### Twitter Metadata and the Twitter v1.1 APIs \n",
    "In Twitter v1.1 APIs, a tweet’s JSON object automatically included many additional metadata attributes that described aspects of the tweet, such as:\n",
    "* when it was created, \n",
    "* who created it, \n",
    "* lists of the hashtags, URLs, @-mentions and media (such as images and videos) included in the tweet,\n",
    "* and more. "
   ]
  },
  {
   "cell_type": "markdown",
   "metadata": {},
   "source": [
    "### Twitter v2 API Expansions and Fields \n",
    "* Now must use **fields** and **expansions** to request metadata your app requires\n",
    "* **Fields** are **additional metadata attributes** you’d like Twitter to return to your app\n",
    "* When you get a tweet, you might need \n",
    "    * the unique `author_id` attribute, indicating a tweet’s sender\n",
    "    * the tweet’s `created_at` attribute, indicating when the user sent the tweet was sent\n",
    "* Complete list of tweet fields, visit\n",
    "> https://developer.twitter.com/en/docs/twitter-api/data-dictionary/object-model/tweet"
   ]
  },
  {
   "cell_type": "markdown",
   "metadata": {},
   "source": [
    "### Twitter v2 API Expansions and Fields \n",
    "* Some **fields** are associated with **other metadata objects** with their own fields\n",
    "* Associated with a tweet’s **`author_id`** attribute is a **user JSON object** \n",
    "* Use an **Expansion** to request associated metadata objects\n",
    "* Each will contain its default attributes\n",
    "    * For a user object, these would be the user’s **unique id number**, **name** and **username**\n",
    "    * Can request more from the list of user fields \n",
    "    > https://developer.twitter.com/en/docs/twitter-api/data-dictionary/object-model/user\n",
    "* **Overview of all JSON objects** Twitter APIs return, and links to details\n",
    "> https://developer.twitter.com/en/docs/twitter-api/data-dictionary/introduction"
   ]
  },
  {
   "cell_type": "markdown",
   "metadata": {},
   "source": [
    "### Sample JSON for the NASA Account’s 10 Most Recent Tweets\n",
    "* Some of the JSON response to a request for recent tweets from `@NASA`\n",
    "\n",
    "```json\n",
    "{\n",
    "  \"data\": [\n",
    "    {\n",
    "      \"id\": \"1562156100136292352\",\n",
    "      \"text\": \"RT @NASAInSight: Thanks again for all the kind \n",
    "               thoughts you’ve been sending. There’s still \n",
    "               time to write me a note for the mission team to…\"\n",
    "    },\n",
    "    {\n",
    "      \"id\": \"1561886047331487744\",\n",
    "      \"text\": \"We see Martian dust devils (whirlwinds) from the \n",
    "              ground, as in this shot from the Opportunity rover\n",
    "              in 2016, left. From space, we can see the tracks \n",
    "              they leave behind, as in this view of dunes from \n",
    "              Mars Reconnaissance Orbiter in 2009, right. More: \n",
    "              https://t.co/kd1BNEDBUD https://t.co/RxeKTI5Fv5\"\n",
    "    },\n",
    "    ...\n",
    "  ],\n",
    "  \"meta\": {\n",
    "    \"result_count\": 10,\n",
    "    \"newest_id\": \"1562156100136292352\",\n",
    "    \"oldest_id\": \"1555635141728382976\",\n",
    "    \"next_token\": \"7140dibdnow9c7btw422nm76p6owdso7rqahg96mulyd2\"\n",
    "  }\n",
    "}\n",
    "```"
   ]
  },
  {
   "cell_type": "markdown",
   "metadata": {},
   "source": [
    "------"
   ]
  },
  {
   "cell_type": "markdown",
   "metadata": {},
   "source": [
    "# 12.6 Installing `tweepy`, `geopy`, `folium` and `deep-translator`"
   ]
  },
  {
   "cell_type": "markdown",
   "metadata": {},
   "source": [
    "<hr style=\"height:2px; border:none; color:#AAA; background-color:#AAA;\">"
   ]
  },
  {
   "cell_type": "markdown",
   "metadata": {},
   "source": [
    "### Installing Tweepy \n",
    "* [**Tweepy library**](http://www.tweepy.org/) — **one of the most popular Python Twitter clients**\n",
    "* Easy access to Twitter’s capabilities\n",
    "* [Tweepy’s documentation](https://docs.tweepy.org/en/stable/)\n",
    "> `pip install tweepy`\n",
    "* Windows users **should run the Anaconda Prompt as an Administrator**\n",
    "\n"
   ]
  },
  {
   "cell_type": "markdown",
   "metadata": {},
   "source": [
    "<hr style=\"height:2px; border:none; color:#AAA; background-color:#AAA;\">"
   ]
  },
  {
   "cell_type": "markdown",
   "metadata": {},
   "source": [
    "### Installing geopy \n",
    "* One function from our `tweetutilities.py` file (in the ch13 folder) depends on [**geopy**](https://github.com/geopy/geopy) (a geocoding library we'll use later to plot tweet locations on a map\n",
    ">`conda install -c conda-forge geopy`\n",
    "* Windows users **should run the Anaconda Prompt as an Administrator**\n"
   ]
  },
  {
   "cell_type": "markdown",
   "metadata": {},
   "source": [
    "<hr style=\"height:2px; border:none; color:#AAA; background-color:#AAA;\">"
   ]
  },
  {
   "cell_type": "markdown",
   "metadata": {
    "tags": []
   },
   "source": [
    "### OpenMapQuest Geocoding API\n",
    "* Section 12.15 uses the **OpenMapQuest Geocoding API** to convert locations, such as **Boston, MA**, into their latitudes and longitudes, such as **42.3602534** and **-71.0582912**, for plotting on maps\n",
    "* Currently allows **15,000 transactions per month** on their free tier\n",
    "* Sign up at \n",
    "> https://developer.mapquest.com/\n",
    "* Go to https://developer.mapquest.com/user/me/apps \n",
    "    * Click **Create a New Key**, fill in the **App Name** field with a name of your choosing, leave the **Callback URL** empty and click **Create App** to create an API key\n",
    "    * Click your app’s name to see your consumer key\n",
    "    * In the `keys.py` file, store the consumer key by replacing `YourKeyHere` in the line\n",
    "    > `mapquest_key = 'YourKeyHere'`"
   ]
  },
  {
   "cell_type": "markdown",
   "metadata": {},
   "source": [
    "<hr style=\"height:2px; border:none; color:#AAA; background-color:#AAA;\">"
   ]
  },
  {
   "cell_type": "markdown",
   "metadata": {},
   "source": [
    "### Folium Library and Leaflet.js JavaScript Mapping Library\n",
    "* Section 12.15 uses folium to create an interactive map\n",
    "> https://github.com/python-visualization/folium\n",
    "\n",
    "> `pip install folium`"
   ]
  },
  {
   "cell_type": "markdown",
   "metadata": {},
   "source": [
    "<hr style=\"height:2px; border:none; color:#AAA; background-color:#AAA;\">"
   ]
  },
  {
   "cell_type": "markdown",
   "metadata": {},
   "source": [
    "### Maps from OpenStreetMap.org\n",
    "* Leaflet.js uses open-source maps from `OpenStreetMap.org`. \n",
    "* Copyrighted by the OpenStreetMap.org contributors\n",
    "* www.openstreetmap.org/copyright \n",
    "* www.opendatacommons.org/licenses/odbl"
   ]
  },
  {
   "cell_type": "markdown",
   "metadata": {},
   "source": [
    "<hr style=\"height:2px; border:none; color:#AAA; background-color:#AAA;\">"
   ]
  },
  {
   "cell_type": "markdown",
   "metadata": {},
   "source": [
    "### deep-translator Library\n",
    "Supports several translation services\n",
    "> `pip install -U deep_translator`"
   ]
  },
  {
   "cell_type": "markdown",
   "metadata": {},
   "source": [
    "------"
   ]
  },
  {
   "cell_type": "markdown",
   "metadata": {},
   "source": [
    "# 12.7 Authenticating with Twitter Via Tweepy to Access Twitter v2 APIs\n",
    "* A **Tweepy `Client` object** is your gateway to using the Twitter v2 APIs\n",
    "* Must first **authenticate with Twitter**"
   ]
  },
  {
   "cell_type": "code",
   "execution_count": 1,
   "metadata": {},
   "outputs": [],
   "source": [
    "import tweepy"
   ]
  },
  {
   "cell_type": "code",
   "execution_count": 2,
   "metadata": {},
   "outputs": [],
   "source": [
    "# before executing this cell, ensure that your copy of keys.py \n",
    "# contains your Twitter credentials as described earlier\n",
    "import keys  "
   ]
  },
  {
   "cell_type": "markdown",
   "metadata": {},
   "source": [
    "<hr style=\"height:2px; border:none; color:#AAA; background-color:#AAA;\">"
   ]
  },
  {
   "cell_type": "markdown",
   "metadata": {},
   "source": [
    "### Creating a `Client` Object"
   ]
  },
  {
   "cell_type": "markdown",
   "metadata": {},
   "source": [
    "* To use the Twitter v2 APIs, **create a `Client` object**"
   ]
  },
  {
   "cell_type": "code",
   "execution_count": 3,
   "metadata": {},
   "outputs": [],
   "source": [
    "client = tweepy.Client(bearer_token=keys.bearer_token,\n",
    "                       wait_on_rate_limit=True)"
   ]
  },
  {
   "cell_type": "markdown",
   "metadata": {},
   "source": [
    "* `bearer_token` is your bearer token \n",
    "* `wait_on_rate_limit=True` lets Tweepy **manage rate limits** for you\n",
    "    * For most Twitter APIs, the rate-limit interval is 15 minutes"
   ]
  },
  {
   "cell_type": "markdown",
   "metadata": {},
   "source": [
    "<hr style=\"height:2px; border:none; color:#AAA; background-color:#AAA;\">"
   ]
  },
  {
   "cell_type": "markdown",
   "metadata": {},
   "source": [
    "# 12.8 Getting Information About a Twitter Account\n",
    "* `Client` object’s `get_user` method gets a `tweepy.Response` object containing information about a `@NASA`’s Twitter account"
   ]
  },
  {
   "cell_type": "code",
   "execution_count": 4,
   "metadata": {},
   "outputs": [],
   "source": [
    "nasa = client.get_user(username='NASA',\n",
    "    user_fields=['description', 'public_metrics'])"
   ]
  },
  {
   "cell_type": "markdown",
   "metadata": {},
   "source": [
    "* `get_user` with the `username` keyword argument calls Twitter API method \n",
    "> `/2/users/by/username/:username`\n",
    "* Returns JSON data that Tweepy converts into a **`tweepy.Response`** \n",
    "    * Contains account’s **ID number**, **name** and **user name** by default\n",
    "* Can request additional fields via the **`user_fields`** keyword argument\n",
    "    * We requested the account’s **`description`** and **`public_metrics`**\n",
    "* Complete **list of user fields**\n",
    "> https://developer.twitter.com/en/docs/twitter-api/data-dictionary/object-model/user\n",
    "* **Rate limit** for `/2/users/by/username/:username`\n",
    "    * Can call up to 900 times every 15 minutes "
   ]
  },
  {
   "cell_type": "markdown",
   "metadata": {},
   "source": [
    "<hr style=\"height:2px; border:none; color:#AAA; background-color:#AAA;\">"
   ]
  },
  {
   "cell_type": "markdown",
   "metadata": {
    "tags": []
   },
   "source": [
    "### `tweepy.Response` Object\n",
    "* Contains four fields:\n",
    "    * **`data`** — contains the data returned by Twitter, including any additional fields you request  \n",
    "    * **`includes`** — contains related objects specified via the method’s `expansions` parameter \n",
    "    * **`errors`** — information about any errors that occurred\n",
    "    * **`meta`** — method-specific information that can be useful in processing the response"
   ]
  },
  {
   "cell_type": "markdown",
   "metadata": {},
   "source": [
    "<hr style=\"height:2px; border:none; color:#AAA; background-color:#AAA;\">"
   ]
  },
  {
   "cell_type": "markdown",
   "metadata": {},
   "source": [
    "### Getting a User’s Basic Account Information\n",
    "* For a **user JSON object**, `Response`’s `data` attribute is a **named tuple** containing default fields\n",
    "    * `id` is the account’s unique ID number.\n",
    "    * `name` is the name associated with the user’s account.\n",
    "    * `username` is the user’s Twitter handle (`@NASA`) \n",
    "* Additional `user_fields` `description` and `public_metrics` (discussed momentarily) also are in the `Response` object’s `data` attribute"
   ]
  },
  {
   "cell_type": "code",
   "execution_count": 5,
   "metadata": {},
   "outputs": [
    {
     "data": {
      "text/plain": [
       "11348282"
      ]
     },
     "execution_count": 5,
     "metadata": {},
     "output_type": "execute_result"
    }
   ],
   "source": [
    "nasa.data.id"
   ]
  },
  {
   "cell_type": "code",
   "execution_count": 6,
   "metadata": {},
   "outputs": [
    {
     "data": {
      "text/plain": [
       "'NASA'"
      ]
     },
     "execution_count": 6,
     "metadata": {},
     "output_type": "execute_result"
    }
   ],
   "source": [
    "nasa.data.name"
   ]
  },
  {
   "cell_type": "code",
   "execution_count": 7,
   "metadata": {},
   "outputs": [
    {
     "data": {
      "text/plain": [
       "'NASA'"
      ]
     },
     "execution_count": 7,
     "metadata": {},
     "output_type": "execute_result"
    }
   ],
   "source": [
    "nasa.data.username"
   ]
  },
  {
   "cell_type": "code",
   "execution_count": 8,
   "metadata": {},
   "outputs": [
    {
     "data": {
      "text/plain": [
       "\"There's space for everybody. ✨\""
      ]
     },
     "execution_count": 8,
     "metadata": {},
     "output_type": "execute_result"
    }
   ],
   "source": [
    "nasa.data.description"
   ]
  },
  {
   "cell_type": "markdown",
   "metadata": {},
   "source": [
    "<hr style=\"height:2px; border:none; color:#AAA; background-color:#AAA;\">"
   ]
  },
  {
   "cell_type": "markdown",
   "metadata": {},
   "source": [
    "### Getting the Number of Accounts That Follow This Account and the Number of Accounts This Account Follows\n",
    "* **`public_metrics`** are returned as a dictionary with keys\n",
    "    * **`'followers_count'`** — number of users who follow this account, \n",
    "    * **`'following_count'`** — number of users that this account follows, \n",
    "    * **`'tweet_count'`** — total number of tweets (and retweets) sent by this user\n",
    "    * **`'listed_count'`** — total number of Twitter lists that include this user"
   ]
  },
  {
   "cell_type": "code",
   "execution_count": 9,
   "metadata": {},
   "outputs": [
    {
     "data": {
      "text/plain": [
       "70277126"
      ]
     },
     "execution_count": 9,
     "metadata": {},
     "output_type": "execute_result"
    }
   ],
   "source": [
    "nasa.data.public_metrics['followers_count']"
   ]
  },
  {
   "cell_type": "code",
   "execution_count": 10,
   "metadata": {},
   "outputs": [
    {
     "data": {
      "text/plain": [
       "181"
      ]
     },
     "execution_count": 10,
     "metadata": {},
     "output_type": "execute_result"
    }
   ],
   "source": [
    "nasa.data.public_metrics['following_count']"
   ]
  },
  {
   "cell_type": "markdown",
   "metadata": {},
   "source": [
    "<hr style=\"height:2px; border:none; color:#AAA; background-color:#AAA;\">"
   ]
  },
  {
   "cell_type": "markdown",
   "metadata": {},
   "source": [
    "### Getting Your Own Account’s Information\n",
    "* Get via `Client` object’s `get_me` method\n",
    "> `me = client.get_me()`\n",
    "* Returns a **User object** for the account you used to authenticate with Twitter"
   ]
  },
  {
   "cell_type": "markdown",
   "metadata": {
    "tags": []
   },
   "source": [
    "# 12.9 Intro to Tweepy `Paginator`s: Getting More than One Page of Results \n",
    "* Twitter API methods often **return collections of objects**\n",
    "    * tweets sent by a particular user\n",
    "    * tweets matching specified search criteria \n",
    "    * tweets in a user’s timeline (tweets sent by a user and by other accounts that user follows)\n",
    "* Each Twitter API can return a maximum number of items per call\n",
    "    * known as a **page of results**\n",
    "* Tweepy **`Paginator`** handles paging details\n",
    "* Invokes a specified `Client` method and checks whether there is another page of results\n",
    "    * If so, the `Paginator` automatically calls the method again to get next page\n",
    "    * Continues (subject to the method’s rate limits) until there are no more results to process"
   ]
  },
  {
   "cell_type": "markdown",
   "metadata": {},
   "source": [
    "<hr style=\"height:2px; border:none; color:#AAA; background-color:#AAA;\">"
   ]
  },
  {
   "cell_type": "markdown",
   "metadata": {},
   "source": [
    "## 12.9.1 Determining an Account’s Followers  \n",
    "* Use a `Paginator` to invoke the `Client` object’s `get_users_followers` method\n",
    "* Calls the Twitter API’s method\n",
    "> `/2/users/:id/followers`\n",
    "* Returns followers in groups of 100 by default\n",
    "* Can request up to 1000 at a time\n",
    "* We’ll grab 10 of NASA’s followers, five at a time, so we receive two pages of results\n",
    "* Create a list to store the followers’ Twitter user names"
   ]
  },
  {
   "cell_type": "code",
   "execution_count": 11,
   "metadata": {},
   "outputs": [],
   "source": [
    "followers = []"
   ]
  },
  {
   "cell_type": "markdown",
   "metadata": {},
   "source": [
    "### Creating a `Paginator`\n",
    "* `Paginator` to call `get_users_followers` for NASA’s account  "
   ]
  },
  {
   "cell_type": "code",
   "execution_count": 12,
   "metadata": {},
   "outputs": [],
   "source": [
    "paginator = tweepy.Paginator(\n",
    "   client.get_users_followers, nasa.data.id, max_results=5)"
   ]
  },
  {
   "cell_type": "markdown",
   "metadata": {},
   "source": [
    "* arguments are the method to call and any arguments that should be passed to that method\n",
    "    * `client.get_users_followers` indicates that the `Paginator` will call the `client` object’s `get_users_followers` method, \n",
    "    * `nasa.data.id` — ID number (obtained in Section 12.8) of the NASA Twitter account for which we’ll get followers, and \n",
    "    * `max_results=5` — results per page."
   ]
  },
  {
   "cell_type": "markdown",
   "metadata": {},
   "source": [
    "### Getting Results\n",
    "* Use the `Paginator` to get some followers\n",
    "    * `paginator.flatten(10)` initiates the call to `client.get_users_followers`\n",
    "    * `10` indicates number of results to obtain"
   ]
  },
  {
   "cell_type": "code",
   "execution_count": 13,
   "metadata": {},
   "outputs": [],
   "source": [
    "for follower in paginator.flatten(limit=10):\n",
    "    followers.append(follower.username)"
   ]
  },
  {
   "cell_type": "code",
   "execution_count": 14,
   "metadata": {},
   "outputs": [
    {
     "name": "stdout",
     "output_type": "stream",
     "text": [
      "Followers: Arefeh051 DeryaCoskunsu DysonSphere16 HhhHHjGh0 Lucifer13500131 rafael_labana regalado_joseph xmariap1 yowotiotocan zzxx0135\n"
     ]
    }
   ],
   "source": [
    "print('Followers:', \n",
    "    ' '.join(sorted(followers, key=lambda s: s.lower())))"
   ]
  },
  {
   "cell_type": "markdown",
   "metadata": {},
   "source": [
    "### Automatic Paging\n",
    "* `flatten` automatically “pages” through the results by making multiple calls to `client.get_users_followers` as necessary\n",
    "* `flatten` makes multiple pages appear to be a sequence of results\n",
    "* If you do not specify an argument to `flatten`, the `Paginator` attempts to get all of the account’s followers\n",
    "    * This could take significant time due to Twitter’s rate limits \n",
    "    * `/2/users/:id/followers` can return a maximum of 1000 followers at a time, and Twitter allows up to 15 calls every 15 minutes\n",
    "    * 15,000 followers every 15 minutes using Twitter’s free APIs\n",
    "    * At 60,000 followers per hour, it would take over 40 days to get all of NASA’s followers"
   ]
  },
  {
   "cell_type": "markdown",
   "metadata": {
    "tags": []
   },
   "source": [
    "<hr style=\"height:2px; border:none; color:#AAA; background-color:#AAA;\">"
   ]
  },
  {
   "cell_type": "markdown",
   "metadata": {
    "tags": []
   },
   "source": [
    "## 12.9.2 Determining Whom an Account Follows \n",
    "* `Client` object’s `get_users_following` method calls the Twitter API’s \n",
    "`/2/users/:id/following` method to get a list of Twitter users an account follows\n",
    "* Returns groups of 100 by default, but you can request up to 1000 at a time\n",
    "* Can call this method up to 15 times every 15 minutes\n",
    "* Get 10 accounts that NASA follows:"
   ]
  },
  {
   "cell_type": "code",
   "execution_count": 15,
   "metadata": {
    "tags": []
   },
   "outputs": [
    {
     "name": "stdout",
     "output_type": "stream",
     "text": [
      "Following: Astro_AndreD astro_anil Astro_Ayers astro_berrios Astro_ChrisW astro_deniz astro_matthias astro_watkins NASASolarSystem NASASpaceSci\n"
     ]
    }
   ],
   "source": [
    "following = []\n",
    "\n",
    "paginator = tweepy.Paginator(\n",
    "    client.get_users_following, nasa.data.id, max_results=5)\n",
    "\n",
    "for user_followed in paginator.flatten(limit=10):\n",
    "    following.append(user_followed.username)\n",
    "\n",
    "print('Following:', \n",
    "      ' '.join(sorted(following, key=lambda s: s.lower())))"
   ]
  },
  {
   "cell_type": "markdown",
   "metadata": {},
   "source": [
    "<hr style=\"height:2px; border:none; color:#AAA; background-color:#AAA;\">"
   ]
  },
  {
   "cell_type": "markdown",
   "metadata": {
    "tags": []
   },
   "source": [
    "## 12.9.3 Getting a User’s Recent Tweets \n",
    "* `Client` method `get_users_tweets` returns a `tweepy.Response` containing tweets from a specified user\n",
    "* Calls the Twitter API’s `/2/users/:id/tweets` method\n",
    "* Returns the most recent 10 tweets but can between 5 and 100 at a time\n",
    "* Can return only an account’s 3200 most recent tweets\n",
    "* May call this method up to 1500 times every 15 minutes "
   ]
  },
  {
   "cell_type": "markdown",
   "metadata": {
    "tags": []
   },
   "source": [
    "## 12.9.3 Getting a User’s Recent Tweets (cont.) \n",
    "* The `data` attribute of the `tweepy.Response` contains a list of the returned tweets\n",
    "    * Each object in that list has a dictionary `data` attribute containing the keys `'id'` and `'text'` for each tweet’s unique ID and its text\n",
    "* Display five tweets from the `@NASA` account using its ID number that we obtained previously: "
   ]
  },
  {
   "cell_type": "code",
   "execution_count": 16,
   "metadata": {
    "tags": []
   },
   "outputs": [
    {
     "name": "stdout",
     "output_type": "stream",
     "text": [
      "NASA's @SpaceX #Crew6 mission is scheduled to launch from @NASAKennedy no earlier than Sunday, Feb. 26. Get to know our four Crew-6 travelers and what they'll be working on over their six months in orbit: https://t.co/ptv2LXEV1Y https://t.co/dAPpyRWUK5\n",
      "\n",
      "NASA: @eternallife2112 Good idea to take care of it before it gets even more…nebulous. 🌫️\n",
      "\n",
      "NASA: 🦉 Duo bingo: @NASAHubble captured a bright variable star and its smaller companion star in the upper left of this composite image. Both lie in the Orion Nebula, a colossal region of star formation roughly 1,450 light-years from Earth: https://t.co/lh6QV73itz https://t.co/i7x4xvnd2l\n",
      "\n",
      "NASA: This Week at NASA: Remembering our fallen heroes, announcing new engine propulsion technology, and meeting #Crew6, set to launch to the @Space_Station in February. Sign up and be our virtual guest at launch: https://t.co/bomG8VXkSV https://t.co/sR4CcdvmhL\n",
      "\n",
      "NASA: @ZakiAhmed211 They sure do! In fact, from 2015-2017 a specially designed espresso machine, called ISSpresso, was used aboard the @space_station. Check out this overview of how it worked: https://t.co/Afjgwwc7SZ\n",
      "\n"
     ]
    }
   ],
   "source": [
    "nasa_tweets = client.get_users_tweets(\n",
    "     id=nasa.data.id, max_results=5)\n",
    "\n",
    "for tweet in nasa_tweets.data:\n",
    "    print(f\"NASA: {tweet.data['text']}\\n\")"
   ]
  },
  {
   "cell_type": "markdown",
   "metadata": {},
   "source": [
    "<hr style=\"height:2px; border:none; color:#AAA; background-color:#AAA;\">"
   ]
  },
  {
   "cell_type": "markdown",
   "metadata": {
    "tags": []
   },
   "source": [
    "## 12.9.3 Getting a User’s Recent Tweets (cont.)\n",
    "* We called the `get_users_tweets` method directly and used the keyword argument `max_results` to specify the number of tweets to retrieve\n",
    "* For more than the maximum number of tweets per call (100), use a `Paginator` to call `get_users_tweets` "
   ]
  },
  {
   "cell_type": "markdown",
   "metadata": {},
   "source": [
    "<hr style=\"height:2px; border:none; color:#AAA; background-color:#AAA;\">"
   ]
  },
  {
   "cell_type": "markdown",
   "metadata": {},
   "source": [
    "### Grabbing Recent Tweets from Your Own Timeline\n",
    "* `Client` method `get_home_timeline` gets tweets from your home timeline\n",
    "    * your tweets and retweets, as well as tweets and retweets from the Twitter users you follow\n",
    "> `client.get_home_timeline()`\n",
    "* Calls Twitter’s `/2/users/:id/timelines/reverse_chronological` method \n",
    "* Returns up to 100 tweets by default"
   ]
  },
  {
   "cell_type": "markdown",
   "metadata": {
    "tags": []
   },
   "source": [
    "# 12.10 Searching Recent Tweets; Intro to Twitter v2 API Search Operators \n",
    "* `Client` method `search_recent_tweets` \n",
    "    * Returns tweets from the last seven days that match a query string you provide\n",
    "    * Calls Twitter method `/2/tweets/search/recent`, \n",
    "    * **Returns a minimum of 10 tweets** at a time (the default) but **can return up to 100** (specified with keyword argument **`max_results`**)\n",
    "    * It’s possible that fewer than 10 tweets will match the specified query string."
   ]
  },
  {
   "cell_type": "markdown",
   "metadata": {},
   "source": [
    "### Utility Function `print_tweets` from `tweetutilities.py`\n",
    "* Receives the results of a call to API method `search` and for each tweet displays the user’s `screen_name` and the tweet’s `text`. \n",
    "* If the tweet is not in English and the `tweet.lang` is not `'und'` (undefined), we’ll also translate the tweet to English  "
   ]
  },
  {
   "cell_type": "code",
   "execution_count": 17,
   "metadata": {},
   "outputs": [],
   "source": [
    "from tweetutilities import print_tweets"
   ]
  },
  {
   "cell_type": "markdown",
   "metadata": {},
   "source": [
    "```python\n",
    "def print_tweets(tweets):\n",
    "    # translator to autodetect source language and return English\n",
    "    translator = GoogleTranslator(source='auto', target='en')\n",
    "\n",
    "    \"\"\"For each tweet in tweets, display the username of the sender\n",
    "    and tweet text. If the language is not English, translate the text \n",
    "    with the deep-translator library's GoogleTranslator.\"\"\"\n",
    "    for tweet, user in zip(tweets.data, tweets.includes['users']):\n",
    "        print(f'{user.username}:', end=' ')\n",
    "\n",
    "        if 'en' in tweet.lang:\n",
    "            print(f'{tweet.text}\\n')\n",
    "        elif 'und' not in tweet.lang: # translate to English first\n",
    "            print(f'\\n  ORIGINAL: {tweet.text}')\n",
    "            print(f'TRANSLATED: {translator.translate(tweet.text)}\\n')\n",
    "```"
   ]
  },
  {
   "cell_type": "markdown",
   "metadata": {},
   "source": [
    "### Searching for Specific Words\n",
    "* Call `Client` object’s `search_recent_tweets` method to search for 10 recent tweets about the Webb Space Telescope\n",
    "* Returns a `Response` object in which the data attribute contains a list of matching tweets"
   ]
  },
  {
   "cell_type": "code",
   "execution_count": 21,
   "metadata": {},
   "outputs": [],
   "source": [
    "tweets = client.search_recent_tweets(\n",
    "    query='Webb Space Telescope -is:retweet', \n",
    "    expansions=['author_id'], tweet_fields=['lang']) "
   ]
  },
  {
   "cell_type": "markdown",
   "metadata": {},
   "source": [
    "* `query` keyword argument specifies the query string containing your search criteria\n",
    "* Twitter returns only each tweet’s unique ID and text by default\n",
    "* `'lang'` is an additional field you may request via the `tweet_fields` parameter\n",
    "* **Complete list of tweet fields**\n",
    "> https://developer.twitter.com/en/docs/twitter-api/data-dictionary/object-model/tweet\n",
    "* The **expansion `'author_id'`** indicates that for each tweet, Twitter also should return the **user JSON object for the user who sent the tweet**—`id`, `name` and `username` by default\n",
    "* Tweepy places the **expansion objects** in the **`Response`’s `includes` dictionary attribute**\n",
    "    * For the `'author_id'` expansion, a **list of tweet authors** is stored with the key **`'users'`**\n",
    "    * **Each tweet has a corresponding user in this list**\n",
    "    * The following expression in line 8 of `print_tweets` creates tuples in which the first element represents a tweet and the second element represents the user object for the sender\n",
    "    > `zip(tweets.data, tweets.includes['users'])`"
   ]
  },
  {
   "cell_type": "markdown",
   "metadata": {},
   "source": [
    "* Display the tweets "
   ]
  },
  {
   "cell_type": "code",
   "execution_count": 22,
   "metadata": {},
   "outputs": [
    {
     "name": "stdout",
     "output_type": "stream",
     "text": [
      "MAHAMADALLAH: \n",
      "  ORIGINAL: https://t.co/u66W0MYFst\n",
      "TRANSLATED: https://t.co/u66W0MYFst\n",
      "\n",
      "nduwiman: NASA Webb Telescope Zooms in on One of Solar System's Oddest Objects https://t.co/sbdogSKkXu\n",
      "\n",
      "GrantHoltRobot: Image taken by the James Webb Space Telescope. #JWST\n",
      "\n",
      "Program: 2736\n",
      "Observation ID: jw02736-o008_s10444_nirspec_f290lp-g395m\n",
      "\n",
      "Instruments used: FGS, NIRCam, NIRISS, NIRSpec, MIRI https://t.co/jTtrMobU1S\n",
      "\n",
      "FAWADAH94971295: Image taken by the James Webb Space Telescope. #JWST\n",
      "\n",
      "Program: 2732\n",
      "Observation ID: jw02732001001_02105_00005_nrcalong\n",
      "\n",
      "Instruments used: FGS, NIRCam, NIRISS, NIRSpec, MIRI https://t.co/cu9D2v9O1X\n",
      "\n",
      "FSlazer: James Webb revolutionary space telescope https://t.co/BLFcsAGFUh\n",
      "\n",
      "wrla2021: Well written from a non space person! https://t.co/WpywQ6qnNl\n",
      "\n",
      "JimKazas: The Webb Space Telescope is telling humanity the history of everything…the speed light travels equals 299,792,458 meters per second. Light traveling constantly at that speed from the Big Bang (13+ Billion years ago) is just reaching our telescope.  https://t.co/tgoieUzzZv\n",
      "\n",
      "MOST1nteresting: James Webb Space Telescope! https://t.co/YJO12v1aOm\n",
      "\n"
     ]
    }
   ],
   "source": [
    "print_tweets(tweets)"
   ]
  },
  {
   "cell_type": "markdown",
   "metadata": {},
   "source": [
    "### Searching with Twitter v2 API Search Operators\n",
    "* Can use **Twitter search operators** in query strings to refine search results\n",
    "* **Max query-string length** is limited by your developer account type:\n",
    "    * For **Essentials** and **Elevated** accounts: up to **512 characters**\n",
    "    * For **Academic Research** accounts: up to **1024 characters**\n",
    "* Some operators are available only for Elevated accounts or higher\n",
    "* The Twitter v2 operators are categorized as **standalone** or **conjunction-required**\n",
    "    * **Standalone operators** can be used alone or combined with other operators in a query string\n",
    "    * **Conjunction-required operators** must be combined with at least one standalone operator in a query string\n",
    "* The following table shows several Twitter search operators, as well as logical AND, logical OR and logical negation capabilities\n",
    "    * parentheses can be used to group query-string subexpressions\n",
    "    * matching is performed using case-insensitive searching"
   ]
  },
  {
   "cell_type": "markdown",
   "metadata": {},
   "source": [
    "| Example&nbsp;&nbsp;&nbsp;&nbsp;&nbsp;&nbsp;&nbsp;&nbsp;&nbsp;&nbsp;&nbsp;&nbsp;&nbsp;&nbsp;&nbsp;&nbsp;&nbsp;&nbsp;&nbsp;&nbsp;&nbsp;&nbsp;&nbsp;&nbsp;&nbsp;&nbsp;&nbsp;&nbsp;&nbsp;&nbsp;&nbsp;&nbsp;&nbsp;&nbsp;&nbsp;&nbsp;&nbsp;&nbsp; | Finds tweets containing |\n",
    "| --- | --- |\n",
    "| `python twitter` | Finds tweets containing `python` AND `twitter`. Spaces between query string terms and operators are implicitly treated as logical AND operations. In this query string, `python` and `twitter` are terms to search for—these are considered **standalone operators**.\n",
    "| `python OR twitter` \t| Finds tweets containing `python` `OR` `twitter` `OR` both. The logical `OR` operator is case-sensitive.\n",
    "| `planets -mars` \t| `-` (minus sign)—Finds tweets containing `planets` but not `mars`. The minus is the logical NOT operator and can be applied to any operator.\n",
    "| An emoji | Use emojis as standalone operators to find tweets containing those emojis. \n",
    "| `has:hashtags`, `has:links`, `has:mentions`, `has:media`, … | You can combine these **conjunction-required operators** with standalone operators to find tweets containing hashtags, links, mentions of other users, media and more. \n",
    "| `is:retweet`, `is:reply`, `is:verified`, … | You can combine these **conjunction-required operators** with standalone operators to determine whether a tweet is a retweet, a tweet is a reply, the sender is a verified Twitter account and more. \n",
    "| `place:\"New York City\"` | Finds tweets that were sent near `\"New York City\"`. Multiword places should be quoted as shown here. \n",
    "| `from:NASA` \t| Finds tweets from the account `@NASA`.\n",
    "| `to:NASA` \t| Finds tweets to the account `@NASA`. You also may use `to:id`, where `id` is the unique ID number of the user account."
   ]
  },
  {
   "cell_type": "markdown",
   "metadata": {},
   "source": [
    "### Operator Documentation and Tutorial\n",
    "* All operators with examples of each  \n",
    "> https://developer.twitter.com/en/docs/twitter-api/tweets/search/integrate/build-a-query\n",
    "* Twitter’s tutorial on building high-quality Twitter v2 API query strings to obtain the targeted results\n",
    "> https://developer.twitter.com/en/docs/tutorials/building-high-quality-filters\n",
    "* Twitter online tool to help you build Twitter v2 API query strings\n",
    "> https://developer.twitter.com/apitools/query?query="
   ]
  },
  {
   "cell_type": "markdown",
   "metadata": {
    "tags": []
   },
   "source": [
    "### Searching for Tweets From NASA Containing Links\n",
    "* Use `from` and `has:links` operators to get recent tweets from `NASA` that contain hyperlinks"
   ]
  },
  {
   "cell_type": "code",
   "execution_count": 23,
   "metadata": {},
   "outputs": [],
   "source": [
    "tweets = client.search_recent_tweets(\n",
    "    query='from:NASA has:links', \n",
    "    expansions=['author_id'], tweet_fields=['lang'])"
   ]
  },
  {
   "cell_type": "code",
   "execution_count": 24,
   "metadata": {},
   "outputs": [
    {
     "name": "stdout",
     "output_type": "stream",
     "text": [
      "NASA's @SpaceX #Crew6 mission is scheduled to launch from @NASAKennedy no earlier than Sunday, Feb. 26. Get to know our four Crew-6 travelers and what they'll be working on over their six months in orbit: https://t.co/ptv2LXEV1Y https://t.co/dAPpyRWUK5\n",
      "\n"
     ]
    }
   ],
   "source": [
    "print_tweets(tweets)"
   ]
  },
  {
   "cell_type": "markdown",
   "metadata": {
    "tags": []
   },
   "source": [
    "### Searching for a Hashtag\n",
    "* Get tweets containing the hashtag `#metaverse`"
   ]
  },
  {
   "cell_type": "code",
   "execution_count": 25,
   "metadata": {
    "tags": []
   },
   "outputs": [],
   "source": [
    "tweets = client.search_recent_tweets(query='#metaverse', \n",
    "    expansions=['author_id'], tweet_fields=['lang'])"
   ]
  },
  {
   "cell_type": "code",
   "execution_count": 26,
   "metadata": {
    "tags": []
   },
   "outputs": [
    {
     "name": "stdout",
     "output_type": "stream",
     "text": [
      "meta_1616: 3au4uk174: RT @w3poker_com: How to Earn by Inviting Friends to #W3POKER?\n",
      "\n",
      "All you need is your 𝐫𝐞𝐟𝐞𝐫𝐫𝐚𝐥 𝐜𝐨𝐝𝐞!\n",
      "\n",
      "🌐 https://t.co/wpPa5U85n0\n",
      "\n",
      "#Web3 #Metav…\n",
      "\n",
      "belen_tho: RT @kucoincom: 📢 New Listing\n",
      "\n",
      "@XCarnival_Lab $XCV gets listed on #KuCoin!\n",
      "\n",
      "🔹Pair: XCV/USDT\n",
      "🔹Deposit: now open (network: BEP20, ERC20)\n",
      "🔹Trad…\n",
      "\n",
      "Balrogus93: RT @Welding_Cosmos: 🚨GIVEAWAY - METAHUAHUA WL 🚨\n",
      "\n",
      "To celebrate the upcoming launch on @passageio\n",
      " \n",
      "Wat?\n",
      "10 WL spots\n",
      "\n",
      "How?\n",
      "1️⃣ ❤️ 🔁  Like &amp; R…\n",
      "\n",
      "HushamArabi: @yourcryptodj #nemo_land_kingdom 👑\n",
      "  The first virtual Arab world (P2E) #metaverse\n",
      "  The best #investment opportunity for companies and individuals\n",
      "  Kingdom of Nemo Land Launched 🚀You can buy now\n",
      "\n",
      "  For more details 👇\n",
      "  @NemoLandKingdom \n",
      "  @malarab1\n",
      "  #Crypto #web3 #P2E #btc  #Metaverso\n",
      "\n",
      "MisraSir13: RT @yaoecabrera: Next big token is _________ ?  👀\n",
      "\n",
      "$ERR #TRANZACTO #kiba #kibainu #Coinerr #KISHU #PAW #DeFi #NFT #Metaverse #MOONDAO $MOON…\n",
      "\n",
      "bbsebastiaaan: RT @MetaMallVerse: ❓F.A.Q ❓\n",
      "\n",
      "What is the Listing Date❓: 1st of February 9:00 AM UTC\n",
      "What is the Listing Price❓: $0.50\n",
      "What is the Current P…\n",
      "\n",
      "dougjjj: RT @ape_swap: The #JungleVerse will be located in the @CEEK  #MetaVerse 👑\n",
      "\n",
      "➡️ We're looking for some friendly neighbors who won't mind the…\n",
      "\n",
      "HaverErkoc11: RT @yaoecabrera: Next big token is _________ ?  👀\n",
      "\n",
      "$ERR #TRANZACTO #kiba #kibainu #Coinerr #KISHU #PAW #DeFi #NFT #Metaverse #MOONDAO $MOON…\n",
      "\n",
      "rider_toros: RT @MichailDouranos: $LVM\n",
      "\n",
      "In my humble opinion, the real evaluation of @LakeviewMeta is at least over $100 Million!\n",
      "\n",
      "🟩A complete #metavers…\n",
      "\n"
     ]
    }
   ],
   "source": [
    "print_tweets(tweets)"
   ]
  },
  {
   "cell_type": "markdown",
   "metadata": {},
   "source": [
    "# 12.11 Spotting Trends: Twitter Trends API\n",
    "**Note: At the time of this writing, Twitter had not yet migrated their Trending Topics APIs from v1.1 to v2. The v1.1 APIs used in this section are accessible only to Twitter Developer accounts with “Elevated” access and higher.**\n",
    "\n",
    "* If a topic **“goes viral,”** thousands or even millions of people could tweet about it\n",
    "* Twitter calls these **trending topics** and maintains lists of them worldwide\n",
    "* Via the Twitter v1.1 Trends API, you can get lists of locations with trending topics and lists of the top 50 trending topics for each location\n",
    "* To use the v1.1 APIs in Tweepy, initialize an object of class `OAuth2BearerHandler` with your bearer token, then create an `API` object that uses the `OAuth2BearerHandler` object to authenticate with Twitter:"
   ]
  },
  {
   "cell_type": "code",
   "execution_count": 27,
   "metadata": {},
   "outputs": [],
   "source": [
    "auth = tweepy.OAuth2BearerHandler(keys.bearer_token)\n",
    "\n",
    "api = tweepy.API(auth=auth, wait_on_rate_limit=True)"
   ]
  },
  {
   "cell_type": "markdown",
   "metadata": {},
   "source": [
    "## 12.11.1 Places with Trending Topics \n",
    "* See how to find places with trending topics: https://learning.oreilly.com/videos/python-fundamentals/9780135917411/9780135917411-PFLL_Lesson12_15"
   ]
  },
  {
   "cell_type": "markdown",
   "metadata": {},
   "source": [
    "## 12.11.2 Getting a List of Trending Topics \n",
    "* Via Tweepy `API`’s **`get_place_trends` method** \n",
    "* Calls **Twitter Trends API’s [`trends/place` method](https://developer.twitter.com/en/docs/trends/trends-for-location/api-reference/get-trends-place)**\n",
    "* Returns top 50 trending topics for the location \n",
    "* [Look up WOEIDs](http://www.woeidlookup.com) \n",
    "* Look up WOEID’s programmatically using **Yahoo!’s web services** via [Python libraries like `woeid`](https://github.com/Ray-SunR/woeid)"
   ]
  },
  {
   "cell_type": "markdown",
   "metadata": {},
   "source": [
    "### Worldwide Trending Topics "
   ]
  },
  {
   "cell_type": "code",
   "execution_count": 28,
   "metadata": {},
   "outputs": [],
   "source": [
    "world_trends = api.get_place_trends(id=1)  # list containing one dictionary"
   ]
  },
  {
   "cell_type": "markdown",
   "metadata": {},
   "source": [
    "* **`'trends'` key** refers to a list of dictionaries representing each trend"
   ]
  },
  {
   "cell_type": "code",
   "execution_count": 29,
   "metadata": {},
   "outputs": [],
   "source": [
    "trends_list = world_trends[0]['trends']"
   ]
  },
  {
   "cell_type": "markdown",
   "metadata": {},
   "source": [
    "* Each trend has **`name`**, **`url`**, **`promoted_content`** (whether it's an advertisement), **`query`** and **`tweet_volume`** keys"
   ]
  },
  {
   "cell_type": "code",
   "execution_count": 30,
   "metadata": {},
   "outputs": [
    {
     "data": {
      "text/plain": [
       "{'name': '#الاتحاد_الفيحاء',\n",
       " 'url': 'http://twitter.com/search?q=%23%D8%A7%D9%84%D8%A7%D8%AA%D8%AD%D8%A7%D8%AF_%D8%A7%D9%84%D9%81%D9%8A%D8%AD%D8%A7%D8%A1',\n",
       " 'promoted_content': None,\n",
       " 'query': '%23%D8%A7%D9%84%D8%A7%D8%AA%D8%AD%D8%A7%D8%AF_%D8%A7%D9%84%D9%81%D9%8A%D8%AD%D8%A7%D8%A1',\n",
       " 'tweet_volume': 161425}"
      ]
     },
     "execution_count": 30,
     "metadata": {},
     "output_type": "execute_result"
    }
   ],
   "source": [
    "trends_list[0]"
   ]
  },
  {
   "cell_type": "markdown",
   "metadata": {},
   "source": [
    "### Get Today's Worldwide Trending Topics (cont.)\n",
    "* For **trends with more than 10,000 tweets**, the `tweet_volume` is the number of tweets; otherwise, it’s `None`\n",
    "* Filter the list so that it contains only trends with more than 10,000 tweets:"
   ]
  },
  {
   "cell_type": "code",
   "execution_count": 31,
   "metadata": {},
   "outputs": [],
   "source": [
    "trends_list = [t for t in trends_list if t['tweet_volume']]"
   ]
  },
  {
   "cell_type": "markdown",
   "metadata": {},
   "source": [
    "* Sort the trends in _descending_ order by `tweet_volume`:"
   ]
  },
  {
   "cell_type": "code",
   "execution_count": 32,
   "metadata": {},
   "outputs": [],
   "source": [
    "from operator import itemgetter "
   ]
  },
  {
   "cell_type": "code",
   "execution_count": 33,
   "metadata": {},
   "outputs": [],
   "source": [
    "trends_list.sort(key=itemgetter('tweet_volume'), reverse=True) "
   ]
  },
  {
   "cell_type": "markdown",
   "metadata": {},
   "source": [
    "### Get Today's Worldwide Trending Topics (cont.)\n",
    "* Display names of the **top five trending topics**"
   ]
  },
  {
   "cell_type": "code",
   "execution_count": 34,
   "metadata": {},
   "outputs": [
    {
     "name": "stdout",
     "output_type": "stream",
     "text": [
      "#الاتحاد_الفيحاء\n",
      "Liverpool\n",
      "Brighton\n",
      "Mitoma\n",
      "Germán\n",
      "#كاس_سوبر_بيرين\n",
      "Safe Flight Patrick\n",
      "回転寿司\n",
      "Valencia\n",
      "Rivers\n",
      "Wrexham\n",
      "MerkezTaşraAyrımınaSon\n",
      "Kural\n",
      "Klopp\n",
      "Arda\n",
      "#KadıköydeSkandalVAR\n",
      "الزمالك\n",
      "Fabinho\n",
      "Rui Costa\n",
      "Lale Orta\n",
      "Championship Sunday\n",
      "روما\n",
      "Go Birds\n",
      "Carola\n",
      "#نهايي_كاس_السوبر_السعودي\n",
      "Woody\n",
      "العبود\n"
     ]
    }
   ],
   "source": [
    "for trend in trends_list:\n",
    "    print(trend['name'])"
   ]
  },
  {
   "cell_type": "markdown",
   "metadata": {},
   "source": [
    "------       "
   ]
  },
  {
   "cell_type": "markdown",
   "metadata": {},
   "source": [
    "# 12.12 Cleaning/Preprocessing Tweets for Analysis\n",
    "* **Data cleaning** is one of data scientists' most common tasks \n",
    "* Some NLP tasks for normalizing tweets\n",
    "    * Converting all text to the same case\n",
    "    * Removing `#` from hashtags, `@`-mentions, duplicates, hashtags\n",
    "    * Removing excess whitespace, punctuation, **stop words**, URLs\n",
    "    * Removing `RT` (retweet) and `FAV` (favorite) \n",
    "    * **Stemming** and **lemmatization**\n",
    "    * **Tokenization**"
   ]
  },
  {
   "cell_type": "markdown",
   "metadata": {},
   "source": [
    "### [**tweet-preprocessor**](https://github.com/s/preprocessor) Library and TextBlob Utility Functions\n",
    "* `pip install tweet-preprocessor`\n",
    "* Can automatically remove any combination of:\n",
    "\n",
    "| Option | Option constant |\n",
    "| :--- | :--- |\n",
    "| **`OPT.MENTION`** | @-Mentions (e.g., `@nasa`) |\n",
    "| **`OPT.EMOJI`** | Emoji |\n",
    "| **`OPT.HASHTAG`** | Hashtag (e.g., `#mars`) |\n",
    "| **`OPT.NUMBER`** | Number |\n",
    "| **`OPT.RESERVED`** | Reserved Words (`RT` and `FAV`) |\n",
    "| **`OPT.SMILEY`** | Smiley |\n",
    "| **`OPT.URL`** | URL |"
   ]
  },
  {
   "cell_type": "markdown",
   "metadata": {},
   "source": [
    "### Cleaning a Tweet Containing a Reserved word and a URL\n",
    "* The tweet-preprocessor library’s module name is **`preprocessor`**"
   ]
  },
  {
   "cell_type": "code",
   "execution_count": 35,
   "metadata": {},
   "outputs": [],
   "source": [
    "import preprocessor as p"
   ]
  },
  {
   "cell_type": "code",
   "execution_count": 36,
   "metadata": {},
   "outputs": [],
   "source": [
    "p.set_options(p.OPT.URL, p.OPT.RESERVED)"
   ]
  },
  {
   "cell_type": "code",
   "execution_count": 37,
   "metadata": {},
   "outputs": [],
   "source": [
    "tweet_text = 'RT A sample retweet with a URL https://nasa.gov'"
   ]
  },
  {
   "cell_type": "code",
   "execution_count": 38,
   "metadata": {},
   "outputs": [
    {
     "data": {
      "text/plain": [
       "'A sample retweet with a URL'"
      ]
     },
     "execution_count": 38,
     "metadata": {},
     "output_type": "execute_result"
    }
   ],
   "source": [
    "p.clean(tweet_text)"
   ]
  },
  {
   "cell_type": "markdown",
   "metadata": {},
   "source": [
    "------"
   ]
  },
  {
   "cell_type": "markdown",
   "metadata": {
    "tags": []
   },
   "source": [
    "# 12.13 Twitter Streaming API\n",
    "* Your app can receive tweets as they occur in real-time\n",
    "* Based on the Twitter Statistics page at [InternetLiveStats.com](http://www.internetlivestats.com/twitter-statistics/)\n",
    "    * **over 10,000 tweets per second**\n",
    "    * approximately **880 million tweets per day**\n",
    "* Most developer accounts are subject to a **tweet cap** — a maximum number of tweets per month that an account’s Twitter apps can acquire using the Twitter APIs\n",
    "    * 500,000 for Essentials accounts \n",
    "    * two million for Elevated accounts\n",
    "    * academic research and paid accounts can get more"
   ]
  },
  {
   "cell_type": "markdown",
   "metadata": {},
   "source": [
    "<hr style=\"height:2px; border:none; color:#AAA; background-color:#AAA;\">"
   ]
  },
  {
   "cell_type": "markdown",
   "metadata": {},
   "source": [
    "## 12.13.1 Creating a Subclass of `StreamingClient` \n",
    "* A stream uses a **persistent** connection to **push** tweets to your app\n",
    "* Streaming rate varies, based on search criteria specified with **`StreamRule`s** \n",
    "* Twitter uses all the `StreamRule`s you set to find tweets, including those set previously\n",
    "* You may want to **delete existing `StreamRule`s before creating new ones**"
   ]
  },
  {
   "cell_type": "markdown",
   "metadata": {},
   "source": [
    "<hr style=\"height:2px; border:none; color:#AAA; background-color:#AAA;\">"
   ]
  },
  {
   "cell_type": "markdown",
   "metadata": {},
   "source": [
    "## 12.13.1 Creating a Subclass of `StreamingClient` (cont.)\n",
    "* Create a subclass of Tweepy’s `StreamingClient` class to process the tweet stream\n",
    "* Tweepy calls the methods on an object of this class as it receives each new tweet (or other message, such as an error) from Twitter\n",
    "    * `on_connect(self)` is called when your app successfully connects to the Twitter stream\n",
    "    * `on_respone(self, response)` is called when a response arrives from the Twitter stream—`response` parameter is a Tweepy `StreamResponse` named tuple object containing the tweet data, any expansion objects you requested and more\n",
    "* `StreamingClient` already defines these and other \"on_\" methods \n",
    "* Override only the methods your app needs\n",
    "* `StreamingClient` methods\n",
    "> https://docs.tweepy.org/en/latest/streamingclient.html  "
   ]
  },
  {
   "cell_type": "markdown",
   "metadata": {},
   "source": [
    "<hr style=\"height:2px; border:none; color:#AAA; background-color:#AAA;\">"
   ]
  },
  {
   "cell_type": "markdown",
   "metadata": {
    "jp-MarkdownHeadingCollapsed": true,
    "tags": []
   },
   "source": [
    "### Class `TweetListener`\n",
    "`StreamingClient` subclass `TweetListener` is defined in `tweetlistener.py`"
   ]
  },
  {
   "cell_type": "markdown",
   "metadata": {
    "jp-MarkdownHeadingCollapsed": true,
    "tags": []
   },
   "source": [
    "```python\n",
    "# tweetlistener.py\n",
    "\"\"\"StreamingClient subclass that processes tweets as they arrive.\"\"\"\n",
    "from deep_translator import GoogleTranslator\n",
    "import tweepy\n",
    "\n",
    "class TweetListener(tweepy.StreamingClient):\n",
    "    \"\"\"Handles incoming Tweet stream.\"\"\"\n",
    "```"
   ]
  },
  {
   "cell_type": "markdown",
   "metadata": {},
   "source": [
    "<hr style=\"height:2px; border:none; color:#AAA; background-color:#AAA;\">"
   ]
  },
  {
   "cell_type": "markdown",
   "metadata": {
    "tags": []
   },
   "source": [
    "### Class `TweetListener`: `__init__` Method \n",
    "* called when you create a new `TweetListener` object\n",
    "* `bearer_token` is used to authenticate with Twitter\n",
    "* `limit` parameter is the number of tweets to process\n",
    "* Line 11: instance variable to track the number of tweets processed so far\n",
    "* Line 12: constant to store the limit\n",
    "* `GoogleTranslator` object for translating tweets into English\n",
    "* Line 17 passes the `bearer_token` to the superclass’s `__init__`\n",
    "\n",
    "```python\n",
    "    def __init__(self, bearer_token, limit=10):\n",
    "        \"\"\"Create instance variables for tracking number of tweets.\"\"\"\n",
    "        self.tweet_count = 0\n",
    "        self.TWEET_LIMIT = limit\n",
    "        \n",
    "        # GoogleTranslator object for translating tweets to English \n",
    "        self.translator = GoogleTranslator(source='auto', target='en')\n",
    "\n",
    "        super().__init__(bearer_token, wait_on_rate_limit=True)  \n",
    "\n",
    "```"
   ]
  },
  {
   "cell_type": "markdown",
   "metadata": {},
   "source": [
    "<hr style=\"height:2px; border:none; color:#AAA; background-color:#AAA;\">"
   ]
  },
  {
   "cell_type": "markdown",
   "metadata": {
    "tags": []
   },
   "source": [
    "### Class `TweetListener`: `on_connect` Method \n",
    "* Called when your app successfully connects to the Twitter stream\n",
    "\n",
    "```python\n",
    "    def on_connect(self):\n",
    "        \"\"\"Called when your connection attempt is successful, enabling \n",
    "        you to perform appropriate application tasks at that point.\"\"\"\n",
    "        print('Connection successful\\n')\n",
    "```"
   ]
  },
  {
   "cell_type": "markdown",
   "metadata": {},
   "source": [
    "<hr style=\"height:2px; border:none; color:#AAA; background-color:#AAA;\">"
   ]
  },
  {
   "cell_type": "markdown",
   "metadata": {
    "tags": []
   },
   "source": [
    "### Class `TweetListener`: `on_response` Method \n",
    "* Called by when each tweet arrives\n",
    "* second parameter is a Tweepy `StreamResponse` named tuple object containing:\n",
    "    * `data` — the tweet’s attributes\n",
    "    * `includes` — any requested expansion objects\n",
    "    * `errors` — any errors that occurred\n",
    "    * `matching_rules` — `StreamRules` that the returned tweet matched\n",
    "* This example uses an expansion to include in the `StreamResponse` the user JSON object for each tweet’s sender\n",
    "    * Twitter also returns user objects for accounts mentioned in the tweet’s text"
   ]
  },
  {
   "cell_type": "markdown",
   "metadata": {
    "tags": []
   },
   "source": [
    "```python\n",
    "    def on_response(self, response):\n",
    "        \"\"\"Called when Twitter pushes a new tweet to you.\"\"\"\n",
    "        \n",
    "        try:\n",
    "            # get username of user who sent the tweet\n",
    "            username = response.includes['users'][0].username\n",
    "            print(f'Screen name: {username}')\n",
    "            print(f'   Language: {response.data.lang}')\n",
    "            print(f' Tweet text: {response.data.text}')\n",
    "\n",
    "            if response.data.lang != 'en' and response.data.lang != 'und':\n",
    "                english = self.translator.translate(response.data.text)\n",
    "                print(f' Translated: {english}')\n",
    "\n",
    "            print()\n",
    "            self.tweet_count += 1 \n",
    "        except Exception as e:\n",
    "            print(f'Exception occured: {e}')\n",
    "            self.disconnect()\n",
    "            \n",
    "        # if TWEET_LIMIT is reached, terminate streaming\n",
    "        if self.tweet_count == self.TWEET_LIMIT:\n",
    "            self.disconnect()\n",
    "```"
   ]
  },
  {
   "cell_type": "markdown",
   "metadata": {
    "tags": []
   },
   "source": [
    "* Line 29 gets the sender’s username\n",
    "    * List element 0 of `response.includes['users']` contains the tweet sender’s user object\n",
    "    * Subsequent elements would contain accounts mentioned in the tweet\n",
    "* Lines 30–32 display the tweet sender’s `username`, the tweet’s language (`lang`) and the tweet’s `text`\n",
    "* If necessary, lines 34–36 translate the tweet to English and display it\n",
    "* Line 39 increments `self.tweet_count`\n",
    "* Lines 45–46 determine whether to terminate streaming. \n"
   ]
  },
  {
   "cell_type": "markdown",
   "metadata": {},
   "source": [
    "<hr style=\"height:2px; border:none; color:#AAA; background-color:#AAA;\">"
   ]
  },
  {
   "cell_type": "markdown",
   "metadata": {
    "tags": []
   },
   "source": [
    "# 12.13.2 Initiating Stream Processing"
   ]
  },
  {
   "cell_type": "markdown",
   "metadata": {
    "tags": []
   },
   "source": [
    "### Creating a TweetListener \n",
    "* `StreamingClient` subclass `TweetListener` manages the connection to the Twitter stream and receives and processes the tweets"
   ]
  },
  {
   "cell_type": "code",
   "execution_count": 39,
   "metadata": {
    "tags": []
   },
   "outputs": [],
   "source": [
    "from tweetlistener import TweetListener\n",
    "\n",
    "tweet_listener = TweetListener(\n",
    "    bearer_token=keys.bearer_token, limit=3)"
   ]
  },
  {
   "cell_type": "markdown",
   "metadata": {
    "tags": []
   },
   "source": [
    "### Redirecting the Standard Error Stream to the Standard Output Stream\n",
    "* When `StreamingClient` subclass’s `disconnect` method is called to terminate the tweet stream, the method sends the following message to `sys.stderr` which is not synchronized with the standard output stream\n",
    "> `Stream connection closed by Twitter`\n",
    "* Sometimes causes the preceding message to be interspersed with other messages that this app sends to the standard output stream\n",
    "* To prevent this, redirect the standard error stream to the standard output stream"
   ]
  },
  {
   "cell_type": "code",
   "execution_count": 40,
   "metadata": {
    "jp-MarkdownHeadingCollapsed": true,
    "tags": []
   },
   "outputs": [],
   "source": [
    "import sys\n",
    "\n",
    "sys.stderr = sys.stdout"
   ]
  },
  {
   "cell_type": "markdown",
   "metadata": {
    "tags": []
   },
   "source": [
    "### Deleting Existing Stream Rules\n",
    "* Twitter uses all the `StreamRule`s you’ve specified previously to filter the tweets it pushes to your app\n",
    "* Twitter does not automatically remove your `StreamRule`s after you terminate the tweet stream\n",
    "* If your app filters the tweet stream with different rules each time you run it, you should delete any existing `StreamRule`s before creating new ones"
   ]
  },
  {
   "cell_type": "markdown",
   "metadata": {
    "tags": []
   },
   "source": [
    "* Get the `StreamRule`s by calling your `StreamingClient`’s `get_rules` method\n",
    "    * `Response`’s `data` attribute contains a `list` of `StreamRule`s"
   ]
  },
  {
   "cell_type": "code",
   "execution_count": 41,
   "metadata": {
    "tags": []
   },
   "outputs": [],
   "source": [
    "rules = tweet_listener.get_rules().data"
   ]
  },
  {
   "cell_type": "markdown",
   "metadata": {
    "tags": []
   },
   "source": [
    "* Get the rule IDs"
   ]
  },
  {
   "cell_type": "code",
   "execution_count": 42,
   "metadata": {
    "tags": []
   },
   "outputs": [],
   "source": [
    "# execute only if you have rules previously saved; \n",
    "# Twitter recently started deleting saved rules that have not been used recently\n",
    "rule_ids = [rule.id for rule in rules]"
   ]
  },
  {
   "cell_type": "markdown",
   "metadata": {
    "tags": []
   },
   "source": [
    "* Call `StreamingClient`’s `delete_rules` method with a list of rule IDs to delete\n",
    "    * response contains a `'summary'` dictionary with information about the number of deleted rules"
   ]
  },
  {
   "cell_type": "code",
   "execution_count": 43,
   "metadata": {
    "tags": []
   },
   "outputs": [
    {
     "data": {
      "text/plain": [
       "Response(data=None, includes={}, errors=[], meta={'sent': '2023-01-29T19:43:48.442Z', 'summary': {'deleted': 1, 'not_deleted': 0}})"
      ]
     },
     "execution_count": 43,
     "metadata": {},
     "output_type": "execute_result"
    }
   ],
   "source": [
    "# execute only if you have rules previously saved; \n",
    "tweet_listener.delete_rules(rule_ids)    "
   ]
  },
  {
   "cell_type": "markdown",
   "metadata": {
    "tags": []
   },
   "source": [
    "### Creating and Adding a Stream Rule\n",
    "* Create a rule to filter the live tweet stream looking for tweets about football\n",
    "* Then, add the rule\n",
    "    * `add_rules`’ Response contains a `'summary'` dictionary with information about the `StreamRule` you set and whether it was valid"
   ]
  },
  {
   "cell_type": "code",
   "execution_count": 44,
   "metadata": {
    "tags": []
   },
   "outputs": [],
   "source": [
    "filter_rule = tweepy.StreamRule('football')"
   ]
  },
  {
   "cell_type": "code",
   "execution_count": 45,
   "metadata": {
    "tags": []
   },
   "outputs": [
    {
     "data": {
      "text/plain": [
       "Response(data=[StreamRule(value='football', tag=None, id='1619783403145920514')], includes={}, errors=[], meta={'sent': '2023-01-29T19:43:53.346Z', 'summary': {'created': 1, 'not_created': 0, 'valid': 1, 'invalid': 0}})"
      ]
     },
     "execution_count": 45,
     "metadata": {},
     "output_type": "execute_result"
    }
   ],
   "source": [
    "tweet_listener.add_rules(filter_rule)"
   ]
  },
  {
   "cell_type": "markdown",
   "metadata": {
    "tags": []
   },
   "source": [
    "### Starting the Tweet Stream\n",
    "* `StreamingClient`'s `filter` method begins streaming \n",
    "    * `expansions` argument indicates that we’d like the response for each tweet to include the sender’s user JSON object\n",
    "    * `tweet_fields` argument indicates that the tweet’s language should be included in the responses tweet JSON object"
   ]
  },
  {
   "cell_type": "code",
   "execution_count": 46,
   "metadata": {
    "tags": []
   },
   "outputs": [
    {
     "name": "stdout",
     "output_type": "stream",
     "text": [
      "Connection successful\n",
      "\n",
      "Screen name: cesarnu_1\n",
      "   Language: en\n",
      " Tweet text: RT @barratt123: This is why players should never forget who pays their wages and how much football means to the fans!!! #MUFC https://t.co/…\n",
      "\n",
      "Screen name: KingMush25\n",
      "   Language: en\n",
      " Tweet text: RT @TomPelissero: The #Dolphins have agreed to terms with Vic Fangio on a deal that makes him the NFL’s highest-paid coordinator, per sourc…\n",
      "\n",
      "Screen name: LMackin7\n",
      "   Language: en\n",
      " Tweet text: RT @saywattharry: It's mad how comedy actors Ryan Reynolds and Rob McElhaney have done a better job owning a football club than our billion…\n",
      "\n",
      "Stream connection closed by Twitter\n"
     ]
    }
   ],
   "source": [
    "tweet_listener.filter( \n",
    "    expansions=['author_id'], tweet_fields=['lang'])"
   ]
  },
  {
   "cell_type": "markdown",
   "metadata": {
    "tags": []
   },
   "source": [
    "### Asynchronous vs. Synchronous Streams\n",
    "* Tweepy supports asynchronous tweet streams by creating a subclass of `AsyncStreamingClient`\n",
    "* Allows your application to continue executing while your listener waits to receive tweets\n",
    "* Convenient in GUI applications, so users can continue interacting with other parts of the application while tweets arrive"
   ]
  },
  {
   "cell_type": "markdown",
   "metadata": {},
   "source": [
    "------"
   ]
  },
  {
   "cell_type": "markdown",
   "metadata": {},
   "source": [
    "# 12.14 Tweet Sentiment Analysis \n",
    "* Political researchers might use during elections to understand how people feel about specific politicians and issues, and **how they're likely to vote**\n",
    "* Companies might use to see what people are saying about their products and competitors’ products\n",
    "* Script `sentimentlistener.py` checks sentiment on a specified topic for a specified number of tweets"
   ]
  },
  {
   "cell_type": "code",
   "execution_count": 47,
   "metadata": {},
   "outputs": [
    {
     "name": "stdout",
     "output_type": "stream",
     "text": [
      "- planeyboi: @goal @nxgn_football thats hard but start pedri bench bellingham sell gavi\n",
      "\n",
      "  aztekjlovett: @SpurYrNthusiasm @SpursUpNation @dpbratcher @Vol_Football @Qbjayy7 can we both agree that rutgers is ass tho\n",
      "\n",
      "  PakistanUltras: WHAT A VOLLEY! Imagine if it was being properly broadcasted 🥴😓 🇵🇰⚽️ #PakistanFootball\n",
      "\n",
      "- SuzieWo20886208: Thank god for the \"mute a conversation\" facility. The football debate was getting on my frigging nerves. I don't give a shit whether Celtic are Catholic, Buddhist, Mormons or Tom Cruise's Loony Scientology FFS.\n",
      "\n",
      "- FranckStevnsen: @Football__Tweet I hate it. I hate it. I hate it.\n",
      "\n",
      "+ JaiMoHicks: Had a great time @NIU_Football this weekend! Thank you to @NIUCoachHammock @CoachMooreNIU @CoachHawk__ @Future_Huskies the entire coaching staff, players, and hosts for spending time with my family!\n",
      "\n",
      "  JoeMungel1977: Hey Football 🏈 Fans! Where will you be watching the Conference Championship Games? #NFL #NFLPlayoffs #AFCChampionshipGame #NFCChampionshipGame #ConferenceChampionshipGames #ChampionshipSunday #PHIvsSF #KCvsCIN #NFLTwitter 🏈🏈🏈🏈\n",
      "\n",
      "  virus_rajesh: @Ghousebaba100 @Bsp_Twts @vukadinovicdej @ChennaiyinFC @Vitadani11 @juniorbachchan @pratham_basu @Supermachans @bstandblues I am talking only about chennaiyin. after owen coyle came to team, they played amassing football, passing,positioning and system.all players. do you see that transformation after bondovic,csaba,thomas? No. they ppls pic players may be develop them take time. isl dont give you tht\n",
      "\n",
      "+ AndrewScott000: @FootyAccums KA BOOOOOM ✅✅✅✅✅✅ GAME WON 🏆 SUCCESSFULLY FOR ANYONE READY TO WIN HUGE AMOUNTS IN FOOTBALL SOCCER ⚽️⚽️⚽️⚽️⚽️ GAMES CLICK ON THIS LINK BELOW NOW 👉👉 👈👈\n",
      "\n",
      "- ctp_domer: I’m going to miss Football Sunday’s shit just not going to be the same anymore 😤\n",
      "\n",
      "Stream connection closed by Twitter\n",
      "Tweet sentiment for \"football\"\n",
      "Positive: 2\n",
      " Neutral: 4\n",
      "Negative: 4\n"
     ]
    }
   ],
   "source": [
    "run sentimentlistener.py football 10"
   ]
  },
  {
   "cell_type": "markdown",
   "metadata": {},
   "source": [
    "<hr style=\"height:2px; border:none; color:#AAA; background-color:#AAA;\">"
   ]
  },
  {
   "cell_type": "markdown",
   "metadata": {
    "tags": []
   },
   "source": [
    "### Class `SentimentListener`"
   ]
  },
  {
   "cell_type": "markdown",
   "metadata": {
    "tags": []
   },
   "source": [
    "* Import the keys.py file and the libraries used throughout the script"
   ]
  },
  {
   "cell_type": "markdown",
   "metadata": {
    "tags": []
   },
   "source": [
    "```python\n",
    "# sentimentlisener.py\n",
    "\"\"\"Script that searches for tweets that match a search string\n",
    "and tallies the number of positive, neutral and negative tweets.\"\"\"\n",
    "import keys\n",
    "import preprocessor as p \n",
    "import sys\n",
    "from textblob import TextBlob\n",
    "import tweepy\n",
    "```"
   ]
  },
  {
   "cell_type": "markdown",
   "metadata": {
    "tags": []
   },
   "source": [
    "### Class `SentimentListener`: `__init__` Method\n",
    "* Receives:\n",
    "    * `bearer_token` for authentication\n",
    "    * `sentiment_dict` dictionary in which we’ll keep track of the tweet sentiments\n",
    "    * `topic` we’re searching for so we can ensure that it appears in the tweet text  \n",
    "    * `limit` of tweets to process (not including the ones we eliminate)\n",
    "* Each of these is stored in the current `SentimentListener` object (`self`)"
   ]
  },
  {
   "cell_type": "markdown",
   "metadata": {
    "tags": []
   },
   "source": [
    "```python\n",
    "class SentimentListener(tweepy.StreamingClient):\n",
    "    \"\"\"Handles incoming Tweet stream.\"\"\"\n",
    "\n",
    "    def __init__(self, bearer_token, sentiment_dict, topic, limit=10):\n",
    "        \"\"\"Configure the SentimentListener.\"\"\"\n",
    "        self.sentiment_dict = sentiment_dict\n",
    "        self.tweet_count = 0\n",
    "        self.topic = topic\n",
    "        self.TWEET_LIMIT = limit\n",
    "\n",
    "        # set tweet-preprocessor to remove URLs/reserved words\n",
    "        p.set_options(p.OPT.URL, p.OPT.RESERVED) \n",
    "        super().__init__(bearer_token, wait_on_rate_limit=True)\n",
    "```"
   ]
  },
  {
   "cell_type": "markdown",
   "metadata": {
    "tags": []
   },
   "source": [
    "### Method `on_response `\n",
    "* If the tweet is not a retweet (line 28):\n",
    "    * Line 29 gets and cleans the tweet’s text \n",
    "    * Lines 32–33 skip the tweet if it does not contain `topic` in the tweet text\n",
    "    * Lines 36–45 use a `TextBlob` to check the tweet’s sentiment and update the `sentiment_dict` accordingly\n",
    "    * Line 48 gets the sender’s `username` from `response.includes['users']` — we’ll use an expansion to include this user object \n",
    "    * Line 49 prints the tweet text preceded by `+` for positive sentiment, a space for neutral sentiment or `-` for negative sentiment\n",
    "    * Line 51 increments the `tweet_count`, and lines 54–55 check whether the app should disconnect from the tweet stream"
   ]
  },
  {
   "cell_type": "markdown",
   "metadata": {
    "tags": []
   },
   "source": [
    "```python\n",
    "    def on_response(self, response):\n",
    "        \"\"\"Called when Twitter pushes a new tweet to you.\"\"\"\n",
    "\n",
    "        # if the tweet is not a retweet\n",
    "        if not response.data.text.startswith('RT'):\n",
    "            text = p.clean(response.data.text) # clean the tweet\n",
    "\n",
    "            # ignore tweet if the topic is not in the tweet text\n",
    "            if self.topic.lower() not in text.lower():\n",
    "                return\n",
    "\n",
    "            # update self.sentiment_dict with the polarity\n",
    "            blob = TextBlob(text)\n",
    "            if blob.sentiment.polarity > 0:\n",
    "                sentiment = '+'\n",
    "                self.sentiment_dict['positive'] += 1 \n",
    "            elif blob.sentiment.polarity == 0:\n",
    "                sentiment = ' '\n",
    "                self.sentiment_dict['neutral'] += 1 \n",
    "            else:\n",
    "                sentiment = '-'\n",
    "                self.sentiment_dict['negative'] += 1 \n",
    "\n",
    "            # display the tweet\n",
    "            username = response.includes['users'][0].username\n",
    "            print(f'{sentiment} {username}: {text}\\n')\n",
    "\n",
    "            self.tweet_count += 1 # track number of tweets processed\n",
    "\n",
    "            # if TWEET_LIMIT is reached, terminate streaming\n",
    "            if self.tweet_count == self.TWEET_LIMIT:\n",
    "                self.disconnect()\n",
    "```"
   ]
  },
  {
   "cell_type": "markdown",
   "metadata": {
    "tags": []
   },
   "source": [
    "### Main Application\n",
    "* The main application is defined in the function `main` (lines 57–87; discussed after the code), which is called by lines 90–91 when you execute the file as a script\n",
    "* `sentimentlistener.py` also can be imported into IPython or other modules to use class `SentimentListener` as we did with `TweetListener`"
   ]
  },
  {
   "cell_type": "markdown",
   "metadata": {
    "tags": []
   },
   "source": [
    "```python\n",
    "def main():\n",
    "    # get search term and number of tweets\n",
    "    search_key = sys.argv[1]\n",
    "    limit = int(sys.argv[2]) # number of tweets to tally\n",
    "\n",
    "    # set up the sentiment dictionary\n",
    "    sentiment_dict = {'positive': 0, 'neutral': 0, 'negative': 0}\n",
    "\n",
    "    # create the StreamingClient subclass object\n",
    "    sentiment_listener = SentimentListener(keys.bearer_token, \n",
    "        sentiment_dict, search_key, limit)\n",
    "\n",
    "    # redirect sys.stderr to sys.stdout\n",
    "    sys.stderr = sys.stdout\n",
    "\n",
    "    # delete existing stream rules\n",
    "    rules = sentiment_listener.get_rules().data\n",
    "    rule_ids = [rule.id for rule in rules]\n",
    "    sentiment_listener.delete_rules(rule_ids)    \n",
    "\n",
    "    # create stream rule\n",
    "    sentiment_listener.add_rules(\n",
    "        tweepy.StreamRule(f'{search_key} lang:en'))\n",
    "\n",
    "    # start filtering English tweets containing search_key\n",
    "    sentiment_listener.filter(expansions=['author_id'])\n",
    "\n",
    "    print(f'Tweet sentiment for \"{search_key}\"')\n",
    "    print('Positive:', sentiment_dict['positive'])\n",
    "    print(' Neutral:', sentiment_dict['neutral'])\n",
    "    print('Negative:', sentiment_dict['negative'])\n",
    "\n",
    "# call main if this file is executed as a script\n",
    "if __name__ == '__main__':\n",
    "    main()\n",
    "```"
   ]
  },
  {
   "cell_type": "markdown",
   "metadata": {
    "tags": []
   },
   "source": [
    "* In `main`:\n",
    "    * Lines 59–60 get the command-line arguments\n",
    "    * Line 63 creates the `sentiment_dict` dictionary that keeps track of the tweet sentiments\n",
    "    * Lines 66–67 create the `SentimentListener` \n",
    "    * Line 70 redirects the standard error stream to the standard output stream\n",
    "    * Lines 73–75 delete any existing `StreamRule`s\n",
    "    * Lines 78–79 create a new `StreamRule` that searches for English (`lang:en`) tweets that match the `search_key`\n",
    "    * Line 82 starts the stream — `expansions` indicates that we’d like Twitter to include the tweet sender’s user object in the response\n",
    "    * Lines 84–87 display the sentiment report"
   ]
  },
  {
   "cell_type": "markdown",
   "metadata": {},
   "source": [
    "------"
   ]
  },
  {
   "cell_type": "markdown",
   "metadata": {},
   "source": [
    "# 12.15 Geocoding and Mapping\n",
    "* Collect streaming tweets, then plot their locations on an interactive map\n",
    "* **Twitter disables precise location info (latitude/longitude) by default** (users must opt in to allowing Twitter to track locations) \n",
    "* Large percentage include the user’s home location information\n",
    "    * Sometimes invalid or fictitious \n",
    "* Map markers will show the sender's `location` and tweet text"
   ]
  },
  {
   "cell_type": "markdown",
   "metadata": {
    "jp-MarkdownHeadingCollapsed": true,
    "tags": []
   },
   "source": [
    "### [**geopy** library](https://github.com/geopy/geopy)\n",
    "* Setup in Section 12.6\n",
    "* **Geocoding**&mdash;translate locations into **latitude** and **longitude**\n",
    "* **geopy** supports dozens of **geocoding web services**, many with **free or lite tiers**\n",
    "* We’ll use **OpenMapQuest geocoding service** "
   ]
  },
  {
   "cell_type": "markdown",
   "metadata": {},
   "source": [
    "### OpenMapQuest Geocoding API\n",
    "* Sign-up instructions in Section 12.6\n",
    "* Convert locations, such as **Boston, MA** into their **latitudes** and **longitudes**, such as **42.3602534** and **-71.0582912**, for plotting on maps\n"
   ]
  },
  {
   "cell_type": "markdown",
   "metadata": {},
   "source": [
    "### [**folium library**](https://github.com/python-visualization/folium) and Leaflet.js JavaScript Mapping Library\n",
    "* Setup in Section 12.6\n",
    "* For maps — uses **Leaflet.js JavaScript mapping library** to display maps in a web page \n",
    "* Folium save as HTML files that you can view in your web browser"
   ]
  },
  {
   "cell_type": "markdown",
   "metadata": {
    "tags": []
   },
   "source": [
    "## 12.15.1 Getting and Mapping the Tweets\n",
    "* We’ll use utility functions from our **`tweetutilities.py`** file and class **`LocationListener`** in **`locationlistener.py`**"
   ]
  },
  {
   "cell_type": "markdown",
   "metadata": {},
   "source": [
    "### Collections Required By LocationListener\n",
    "* a list (`tweets`) to store the data from the tweets we collect \n",
    "* a dictionary (`counts`) to track the total number of tweets we collect and the number that have location data"
   ]
  },
  {
   "cell_type": "code",
   "execution_count": 48,
   "metadata": {},
   "outputs": [],
   "source": [
    "tweets = [] \n",
    "\n",
    "counts = {'total_tweets': 0, 'locations': 0}"
   ]
  },
  {
   "cell_type": "markdown",
   "metadata": {},
   "source": [
    "### Creating the LocationListener \n",
    "* Collect 50 tweets about `'football'`\n",
    "* `LocationListener` will use utility function `get_tweet_content` (located in `tweetutilities.py`; discussed in Section 12.15.2) to place in a dictionary the `username`, tweet `text` and user `location` from each tweet"
   ]
  },
  {
   "cell_type": "code",
   "execution_count": 49,
   "metadata": {},
   "outputs": [],
   "source": [
    "from locationlistener import LocationListener\n",
    "\n",
    "location_listener = LocationListener(\n",
    "    keys.bearer_token, counts_dict=counts, tweets_list=tweets,\n",
    "    topic='football', limit=50)"
   ]
  },
  {
   "cell_type": "markdown",
   "metadata": {
    "tags": []
   },
   "source": [
    "### Redirect sys.stderr to sys.stdout"
   ]
  },
  {
   "cell_type": "code",
   "execution_count": 50,
   "metadata": {
    "jp-MarkdownHeadingCollapsed": true,
    "tags": []
   },
   "outputs": [],
   "source": [
    "import sys\n",
    "\n",
    "sys.stderr = sys.stdout"
   ]
  },
  {
   "cell_type": "markdown",
   "metadata": {},
   "source": [
    "### Delete Existing StreamRules"
   ]
  },
  {
   "cell_type": "code",
   "execution_count": 51,
   "metadata": {},
   "outputs": [
    {
     "data": {
      "text/plain": [
       "Response(data=None, includes={}, errors=[], meta={'sent': '2023-01-29T19:44:27.655Z', 'summary': {'deleted': 1, 'not_deleted': 0}})"
      ]
     },
     "execution_count": 51,
     "metadata": {},
     "output_type": "execute_result"
    }
   ],
   "source": [
    "rules = location_listener.get_rules().data\n",
    "\n",
    "rule_ids = [rule.id for rule in rules]\n",
    "\n",
    "location_listener.delete_rules(rule_ids)    "
   ]
  },
  {
   "cell_type": "markdown",
   "metadata": {},
   "source": [
    "### Create a StreamRule\n",
    "* Rule to get tweets in English (`lang:en`) about football "
   ]
  },
  {
   "cell_type": "code",
   "execution_count": 52,
   "metadata": {},
   "outputs": [
    {
     "data": {
      "text/plain": [
       "Response(data=[StreamRule(value='football lang:en', tag=None, id='1619783552782028800')], includes={}, errors=[], meta={'sent': '2023-01-29T19:44:29.032Z', 'summary': {'created': 1, 'not_created': 0, 'valid': 1, 'invalid': 0}})"
      ]
     },
     "execution_count": 52,
     "metadata": {},
     "output_type": "execute_result"
    }
   ],
   "source": [
    "location_listener.add_rules(\n",
    "    tweepy.StreamRule('football lang:en'))"
   ]
  },
  {
   "cell_type": "markdown",
   "metadata": {},
   "source": [
    "### Configure and Start the Stream of Tweets\n",
    "* start streaming the tweets\n",
    "    * expansion `'author_id'` gets information about the user who sent the tweet, including the `username`\n",
    "    * `user_fields` argument specifies that the user information should include the account’s `'location'` \n",
    "    * `tweet_fields` argument specifies additional information to include with each tweet—in this case, the tweet’s `language`\n"
   ]
  },
  {
   "cell_type": "code",
   "execution_count": 53,
   "metadata": {},
   "outputs": [
    {
     "name": "stdout",
     "output_type": "stream",
     "text": [
      "50: junosbigtoe: this is like spooky cult vibes. come to our football game it’ll make you a man. mmm gray. 😷 https://t.co/jCWUqmxzIy\n",
      "\n",
      "Stream connection closed by Twitter\n"
     ]
    }
   ],
   "source": [
    "location_listener.filter(expansions=['author_id'], \n",
    "    user_fields=['location'], tweet_fields=['lang'])"
   ]
  },
  {
   "cell_type": "markdown",
   "metadata": {
    "tags": []
   },
   "source": [
    "### Displaying the Location Statistics\n",
    "* check how many tweets we processed, how many had locations and the percentage that had locations"
   ]
  },
  {
   "cell_type": "code",
   "execution_count": 54,
   "metadata": {},
   "outputs": [
    {
     "data": {
      "text/plain": [
       "90"
      ]
     },
     "execution_count": 54,
     "metadata": {},
     "output_type": "execute_result"
    }
   ],
   "source": [
    "counts['total_tweets']"
   ]
  },
  {
   "cell_type": "code",
   "execution_count": 55,
   "metadata": {},
   "outputs": [
    {
     "data": {
      "text/plain": [
       "50"
      ]
     },
     "execution_count": 55,
     "metadata": {},
     "output_type": "execute_result"
    }
   ],
   "source": [
    "counts['locations']"
   ]
  },
  {
   "cell_type": "code",
   "execution_count": 56,
   "metadata": {},
   "outputs": [
    {
     "name": "stdout",
     "output_type": "stream",
     "text": [
      "55.6%\n"
     ]
    }
   ],
   "source": [
    "print(f'{counts[\"locations\"] / counts[\"total_tweets\"]:.1%}')"
   ]
  },
  {
   "cell_type": "markdown",
   "metadata": {},
   "source": [
    "### Geocoding the Locations\n",
    "* Use `get_geocodes` utility function (from `tweetutilities.py`; discussed in Section 12.15.2) to geocode the location of each tweet stored in the list of tweets"
   ]
  },
  {
   "cell_type": "code",
   "execution_count": 57,
   "metadata": {},
   "outputs": [
    {
     "name": "stdout",
     "output_type": "stream",
     "text": [
      "Getting coordinates for tweet locations...\n",
      "Done geocoding\n"
     ]
    }
   ],
   "source": [
    "from tweetutilities import get_geocodes\n",
    "\n",
    "bad_locations = get_geocodes(tweets)"
   ]
  },
  {
   "cell_type": "markdown",
   "metadata": {},
   "source": [
    "* For each tweet with a valid location, the `get_geocodes` function adds the new keys `'latitude'` and `'longitude'` to that tweet’s dictionary in the `tweets` list — these will be used to plot map markers on our interactive map"
   ]
  },
  {
   "cell_type": "markdown",
   "metadata": {},
   "source": [
    "### Displaying the Bad Location Statistics"
   ]
  },
  {
   "cell_type": "code",
   "execution_count": 58,
   "metadata": {},
   "outputs": [
    {
     "data": {
      "text/plain": [
       "4"
      ]
     },
     "execution_count": 58,
     "metadata": {},
     "output_type": "execute_result"
    }
   ],
   "source": [
    "bad_locations"
   ]
  },
  {
   "cell_type": "code",
   "execution_count": 59,
   "metadata": {},
   "outputs": [
    {
     "name": "stdout",
     "output_type": "stream",
     "text": [
      "8.0%\n"
     ]
    }
   ],
   "source": [
    "print(f'{bad_locations / counts[\"locations\"]:.1%}')"
   ]
  },
  {
   "cell_type": "markdown",
   "metadata": {},
   "source": [
    "### Cleaning the Data\n",
    "* Before we plot the tweet locations on a map, let’s use a pandas `DataFrame` to clean the data\n",
    "* When you create a * DataFrame* from the `tweets` list, it will contain the value `NaN` for the `'latitude'` and `'longitude'` of any tweet that does not have a valid location\n",
    "* `NaN` cannot be plotted on a map, so remove any rows containing `NaN` by calling the `DataFrame`’s `dropna` method"
   ]
  },
  {
   "cell_type": "code",
   "execution_count": 60,
   "metadata": {},
   "outputs": [],
   "source": [
    "import pandas as pd"
   ]
  },
  {
   "cell_type": "code",
   "execution_count": 61,
   "metadata": {},
   "outputs": [],
   "source": [
    "df = pd.DataFrame(tweets)"
   ]
  },
  {
   "cell_type": "code",
   "execution_count": 62,
   "metadata": {},
   "outputs": [
    {
     "data": {
      "text/html": [
       "<div>\n",
       "<style scoped>\n",
       "    .dataframe tbody tr th:only-of-type {\n",
       "        vertical-align: middle;\n",
       "    }\n",
       "\n",
       "    .dataframe tbody tr th {\n",
       "        vertical-align: top;\n",
       "    }\n",
       "\n",
       "    .dataframe thead th {\n",
       "        text-align: right;\n",
       "    }\n",
       "</style>\n",
       "<table border=\"1\" class=\"dataframe\">\n",
       "  <thead>\n",
       "    <tr style=\"text-align: right;\">\n",
       "      <th></th>\n",
       "      <th>username</th>\n",
       "      <th>text</th>\n",
       "      <th>location</th>\n",
       "      <th>latitude</th>\n",
       "      <th>longitude</th>\n",
       "    </tr>\n",
       "  </thead>\n",
       "  <tbody>\n",
       "    <tr>\n",
       "      <th>0</th>\n",
       "      <td>MetalMama1987</td>\n",
       "      <td>Get in here while you still have time! \\n\\nDow...</td>\n",
       "      <td>Green Bay</td>\n",
       "      <td>44.513200</td>\n",
       "      <td>-88.009870</td>\n",
       "    </tr>\n",
       "    <tr>\n",
       "      <th>1</th>\n",
       "      <td>EricDraven126</td>\n",
       "      <td>Role Play... Hot American Football Stud breedi...</td>\n",
       "      <td>Johannesburg</td>\n",
       "      <td>-26.204910</td>\n",
       "      <td>28.040060</td>\n",
       "    </tr>\n",
       "    <tr>\n",
       "      <th>2</th>\n",
       "      <td>fsgfukcoff</td>\n",
       "      <td>@AnfieldWatch Call the owners out this club is...</td>\n",
       "      <td>England, United Kingdom</td>\n",
       "      <td>52.592734</td>\n",
       "      <td>-1.458627</td>\n",
       "    </tr>\n",
       "    <tr>\n",
       "      <th>3</th>\n",
       "      <td>ajdonalds</td>\n",
       "      <td>@Millions Football ⚽️</td>\n",
       "      <td>Abuja Nigeria</td>\n",
       "      <td>9.063440</td>\n",
       "      <td>7.462280</td>\n",
       "    </tr>\n",
       "    <tr>\n",
       "      <th>4</th>\n",
       "      <td>rithompson</td>\n",
       "      <td>@brokenbottleboy Wait until he sees associatio...</td>\n",
       "      <td>Dreamland</td>\n",
       "      <td>36.115500</td>\n",
       "      <td>-80.213570</td>\n",
       "    </tr>\n",
       "    <tr>\n",
       "      <th>5</th>\n",
       "      <td>accopnor</td>\n",
       "      <td>Been a while (Dec 4th)\\n\\nFinally some footbal...</td>\n",
       "      <td>Portsmouth, England</td>\n",
       "      <td>50.796839</td>\n",
       "      <td>-1.091157</td>\n",
       "    </tr>\n",
       "    <tr>\n",
       "      <th>6</th>\n",
       "      <td>marveloutfit_ng</td>\n",
       "      <td>Football can be super funny \\n\\nDortmund and U...</td>\n",
       "      <td>Abuja, Nigeria</td>\n",
       "      <td>9.063440</td>\n",
       "      <td>7.462280</td>\n",
       "    </tr>\n",
       "    <tr>\n",
       "      <th>7</th>\n",
       "      <td>fwj6y</td>\n",
       "      <td>@LUHGYK i’m doing good finna watch this footba...</td>\n",
       "      <td>17</td>\n",
       "      <td>34.977870</td>\n",
       "      <td>135.770303</td>\n",
       "    </tr>\n",
       "    <tr>\n",
       "      <th>8</th>\n",
       "      <td>DemitriJones5</td>\n",
       "      <td>Almost game time!! NINERS STAND UP!!! @49ers #...</td>\n",
       "      <td>California, USA</td>\n",
       "      <td>36.374106</td>\n",
       "      <td>-119.270230</td>\n",
       "    </tr>\n",
       "    <tr>\n",
       "      <th>9</th>\n",
       "      <td>kopwoman</td>\n",
       "      <td>Yeah, cos only men liked football in the eight...</td>\n",
       "      <td>England</td>\n",
       "      <td>52.592734</td>\n",
       "      <td>-1.458627</td>\n",
       "    </tr>\n",
       "    <tr>\n",
       "      <th>10</th>\n",
       "      <td>SanyaJoel3</td>\n",
       "      <td>@barratt123 @LisandrMartinez @EngineerMugisha ...</td>\n",
       "      <td>Uganda</td>\n",
       "      <td>1.513806</td>\n",
       "      <td>32.335707</td>\n",
       "    </tr>\n",
       "    <tr>\n",
       "      <th>11</th>\n",
       "      <td>RBoss37</td>\n",
       "      <td>@RGIII This is over blown. Every sane Bengals ...</td>\n",
       "      <td>Pittsburgh</td>\n",
       "      <td>40.438510</td>\n",
       "      <td>-79.997340</td>\n",
       "    </tr>\n",
       "    <tr>\n",
       "      <th>12</th>\n",
       "      <td>DanniD_R_TrueMe</td>\n",
       "      <td>@SagED_UP Terry Bradshaw! Wow only 2 gifs with...</td>\n",
       "      <td>Southeast USA</td>\n",
       "      <td>41.413680</td>\n",
       "      <td>-73.604390</td>\n",
       "    </tr>\n",
       "    <tr>\n",
       "      <th>13</th>\n",
       "      <td>CradCep</td>\n",
       "      <td>@LowellCohn Sucks, but that’s football.  Mason...</td>\n",
       "      <td>New York, USA</td>\n",
       "      <td>40.714540</td>\n",
       "      <td>-74.007120</td>\n",
       "    </tr>\n",
       "    <tr>\n",
       "      <th>14</th>\n",
       "      <td>MsANasir</td>\n",
       "      <td>Weekend Mommy duties were in full force!  SR N...</td>\n",
       "      <td>Columbia, MD</td>\n",
       "      <td>39.211060</td>\n",
       "      <td>-76.867090</td>\n",
       "    </tr>\n",
       "    <tr>\n",
       "      <th>15</th>\n",
       "      <td>CornwellCrimLaw</td>\n",
       "      <td>@VancityReynolds @RMcElhenney @Wrexham_AFC Wre...</td>\n",
       "      <td>Duluth, MN</td>\n",
       "      <td>46.787960</td>\n",
       "      <td>-92.099850</td>\n",
       "    </tr>\n",
       "    <tr>\n",
       "      <th>16</th>\n",
       "      <td>OklahomaHonus</td>\n",
       "      <td>@BarstoolAlabama Wouldn’t be like this in foot...</td>\n",
       "      <td>Dallas, TX</td>\n",
       "      <td>32.778220</td>\n",
       "      <td>-96.795120</td>\n",
       "    </tr>\n",
       "    <tr>\n",
       "      <th>17</th>\n",
       "      <td>jadel_o</td>\n",
       "      <td>Una dey use football age for music too? https:...</td>\n",
       "      <td>Lagos today London tomorrow</td>\n",
       "      <td>NaN</td>\n",
       "      <td>NaN</td>\n",
       "    </tr>\n",
       "    <tr>\n",
       "      <th>18</th>\n",
       "      <td>TheFarrow</td>\n",
       "      <td>@creation247 I don't gamble, I don't watch foo...</td>\n",
       "      <td>United States</td>\n",
       "      <td>39.398703</td>\n",
       "      <td>-99.414619</td>\n",
       "    </tr>\n",
       "    <tr>\n",
       "      <th>19</th>\n",
       "      <td>geesum</td>\n",
       "      <td>@Notlo6 @Football__Stage I think they are tryi...</td>\n",
       "      <td>Johannesburg</td>\n",
       "      <td>-26.204910</td>\n",
       "      <td>28.040060</td>\n",
       "    </tr>\n",
       "    <tr>\n",
       "      <th>20</th>\n",
       "      <td>niceonesonnny</td>\n",
       "      <td>big month of football coming up, with porro an...</td>\n",
       "      <td>anti son slander land</td>\n",
       "      <td>17.564130</td>\n",
       "      <td>76.564690</td>\n",
       "    </tr>\n",
       "    <tr>\n",
       "      <th>21</th>\n",
       "      <td>stars4will</td>\n",
       "      <td>i hate football so much this is awful</td>\n",
       "      <td>? he xe ¿</td>\n",
       "      <td>49.761460</td>\n",
       "      <td>20.450390</td>\n",
       "    </tr>\n",
       "    <tr>\n",
       "      <th>22</th>\n",
       "      <td>BilloGinod</td>\n",
       "      <td>Estupinan&amp;gt;&amp;gt;&amp;gt;Cucurella. \\n\\nLondon cow...</td>\n",
       "      <td>🇬🇭</td>\n",
       "      <td>NaN</td>\n",
       "      <td>NaN</td>\n",
       "    </tr>\n",
       "    <tr>\n",
       "      <th>23</th>\n",
       "      <td>Anthonyfighton</td>\n",
       "      <td>Going for Niners/Bengals today. I dislike #Phi...</td>\n",
       "      <td>N 40°54' 0'' / W 98°22' 0''</td>\n",
       "      <td>NaN</td>\n",
       "      <td>NaN</td>\n",
       "    </tr>\n",
       "    <tr>\n",
       "      <th>24</th>\n",
       "      <td>wajdddi21</td>\n",
       "      <td>if u know u know WE R RUINING FOOTBALL 🔥 https...</td>\n",
       "      <td>Tripolitania</td>\n",
       "      <td>42.989620</td>\n",
       "      <td>11.868180</td>\n",
       "    </tr>\n",
       "    <tr>\n",
       "      <th>25</th>\n",
       "      <td>AdamJ_Keller</td>\n",
       "      <td>This will be the last game I watch on @hulu. $...</td>\n",
       "      <td>Tampa, FL</td>\n",
       "      <td>27.946530</td>\n",
       "      <td>-82.459270</td>\n",
       "    </tr>\n",
       "    <tr>\n",
       "      <th>26</th>\n",
       "      <td>NathJH</td>\n",
       "      <td>@SoyLagoF1 Hahaha that’s actually genius! I ha...</td>\n",
       "      <td>England, United Kingdom</td>\n",
       "      <td>52.592734</td>\n",
       "      <td>-1.458627</td>\n",
       "    </tr>\n",
       "    <tr>\n",
       "      <th>27</th>\n",
       "      <td>SpursUpNation</td>\n",
       "      <td>@aztekjlovett @SpurYrNthusiasm @dpbratcher @Vo...</td>\n",
       "      <td>Lexington, SC</td>\n",
       "      <td>33.981050</td>\n",
       "      <td>-81.235950</td>\n",
       "    </tr>\n",
       "    <tr>\n",
       "      <th>28</th>\n",
       "      <td>youngindev26</td>\n",
       "      <td>@ExpoRecruits https://t.co/9yPh9kZgv0\\nDevan D...</td>\n",
       "      <td>San Leandro, CA</td>\n",
       "      <td>37.728320</td>\n",
       "      <td>-122.158560</td>\n",
       "    </tr>\n",
       "    <tr>\n",
       "      <th>29</th>\n",
       "      <td>Wavethoven</td>\n",
       "      <td>Why Crips always love red football teams?</td>\n",
       "      <td>San Diego</td>\n",
       "      <td>32.715680</td>\n",
       "      <td>-117.161710</td>\n",
       "    </tr>\n",
       "    <tr>\n",
       "      <th>30</th>\n",
       "      <td>PSCL_09</td>\n",
       "      <td>ℹ️Learn more about our football and how we hel...</td>\n",
       "      <td>Greater Manchester, England</td>\n",
       "      <td>53.450000</td>\n",
       "      <td>-2.233330</td>\n",
       "    </tr>\n",
       "    <tr>\n",
       "      <th>31</th>\n",
       "      <td>yaboiLdub5</td>\n",
       "      <td>Going with the Eagles to win in this game but ...</td>\n",
       "      <td>The Greater Los Angeles Area</td>\n",
       "      <td>34.144914</td>\n",
       "      <td>-118.129559</td>\n",
       "    </tr>\n",
       "    <tr>\n",
       "      <th>32</th>\n",
       "      <td>Bairkothmann21</td>\n",
       "      <td>Annual first week without cowboys football twe...</td>\n",
       "      <td>Chicago, IL</td>\n",
       "      <td>41.884250</td>\n",
       "      <td>-87.632450</td>\n",
       "    </tr>\n",
       "    <tr>\n",
       "      <th>33</th>\n",
       "      <td>TheDailyPretzel</td>\n",
       "      <td>@jlstelly @nypost Come back later if you want ...</td>\n",
       "      <td>Constitution First Amendment</td>\n",
       "      <td>37.779560</td>\n",
       "      <td>-122.407400</td>\n",
       "    </tr>\n",
       "    <tr>\n",
       "      <th>34</th>\n",
       "      <td>Martinelli4L</td>\n",
       "      <td>@1PonYe @WelBeast Warra European football for ...</td>\n",
       "      <td>Red, North London</td>\n",
       "      <td>39.837415</td>\n",
       "      <td>-83.285755</td>\n",
       "    </tr>\n",
       "    <tr>\n",
       "      <th>35</th>\n",
       "      <td>PedroBCorreia</td>\n",
       "      <td>@ssc_sports @SaudiSuperCup Final 🇸🇦 ⚽️\\n\\n🎙📺 🏴...</td>\n",
       "      <td>Dubai - UAE</td>\n",
       "      <td>25.269510</td>\n",
       "      <td>55.308840</td>\n",
       "    </tr>\n",
       "    <tr>\n",
       "      <th>36</th>\n",
       "      <td>WhiteHousePiza</td>\n",
       "      <td>Who's going to the Super Bowl? Come watch the ...</td>\n",
       "      <td>Carbondale, CO</td>\n",
       "      <td>39.401150</td>\n",
       "      <td>-107.216220</td>\n",
       "    </tr>\n",
       "    <tr>\n",
       "      <th>37</th>\n",
       "      <td>Timmy_O_2</td>\n",
       "      <td>@BelgerNelson @_MLFootball You do realize ther...</td>\n",
       "      <td>Oklahoma, USA</td>\n",
       "      <td>35.582684</td>\n",
       "      <td>-97.508599</td>\n",
       "    </tr>\n",
       "    <tr>\n",
       "      <th>38</th>\n",
       "      <td>AwfulSer</td>\n",
       "      <td>Crazy headache for game day???? Wow thanks foo...</td>\n",
       "      <td>San Bernardino, CA</td>\n",
       "      <td>34.105240</td>\n",
       "      <td>-117.294120</td>\n",
       "    </tr>\n",
       "    <tr>\n",
       "      <th>39</th>\n",
       "      <td>afuckingmohawk</td>\n",
       "      <td>Not a football fan but I root for the bay and ...</td>\n",
       "      <td>Bay Area</td>\n",
       "      <td>33.600530</td>\n",
       "      <td>-7.491080</td>\n",
       "    </tr>\n",
       "    <tr>\n",
       "      <th>40</th>\n",
       "      <td>athencole</td>\n",
       "      <td>@SQD05 Bt i think club football is very much c...</td>\n",
       "      <td>India</td>\n",
       "      <td>23.379380</td>\n",
       "      <td>79.443327</td>\n",
       "    </tr>\n",
       "    <tr>\n",
       "      <th>41</th>\n",
       "      <td>newsnowday</td>\n",
       "      <td>#SPORTS\\n'BANGING ON DOORS':Georgia football s...</td>\n",
       "      <td>United States</td>\n",
       "      <td>39.398703</td>\n",
       "      <td>-99.414619</td>\n",
       "    </tr>\n",
       "    <tr>\n",
       "      <th>42</th>\n",
       "      <td>Akr_Baby</td>\n",
       "      <td>Who's ready to for some football!?!? \\nWe out ...</td>\n",
       "      <td>Kansas City, MO</td>\n",
       "      <td>39.103440</td>\n",
       "      <td>-94.583110</td>\n",
       "    </tr>\n",
       "    <tr>\n",
       "      <th>43</th>\n",
       "      <td>CasperCorps</td>\n",
       "      <td>@Michael25782778 @DC_Draino Just wait till foo...</td>\n",
       "      <td>LFK</td>\n",
       "      <td>31.234028</td>\n",
       "      <td>-94.750000</td>\n",
       "    </tr>\n",
       "    <tr>\n",
       "      <th>44</th>\n",
       "      <td>YogiRoth</td>\n",
       "      <td>If you need something to listen to alongside t...</td>\n",
       "      <td>Venice, Los Angeles</td>\n",
       "      <td>33.987540</td>\n",
       "      <td>-118.472150</td>\n",
       "    </tr>\n",
       "    <tr>\n",
       "      <th>45</th>\n",
       "      <td>BigAlsSpeakeasy</td>\n",
       "      <td>There's NO BETTER PLACE TO BE than Big Al's!\\n...</td>\n",
       "      <td>Peoria Illinois</td>\n",
       "      <td>40.692360</td>\n",
       "      <td>-89.587990</td>\n",
       "    </tr>\n",
       "    <tr>\n",
       "      <th>46</th>\n",
       "      <td>Kingthames23</td>\n",
       "      <td>Why do pass rushers make more than anyone in f...</td>\n",
       "      <td>My House</td>\n",
       "      <td>26.482240</td>\n",
       "      <td>80.268200</td>\n",
       "    </tr>\n",
       "    <tr>\n",
       "      <th>47</th>\n",
       "      <td>ayroned</td>\n",
       "      <td>a day of football that i have zero stakes in h...</td>\n",
       "      <td>underachieving</td>\n",
       "      <td>NaN</td>\n",
       "      <td>NaN</td>\n",
       "    </tr>\n",
       "    <tr>\n",
       "      <th>48</th>\n",
       "      <td>JamesOnYSS</td>\n",
       "      <td>A big shout out to @MSmithimages for catching ...</td>\n",
       "      <td>Swindon, England</td>\n",
       "      <td>51.561533</td>\n",
       "      <td>-1.785446</td>\n",
       "    </tr>\n",
       "    <tr>\n",
       "      <th>49</th>\n",
       "      <td>junosbigtoe</td>\n",
       "      <td>this is like spooky cult vibes. come to our fo...</td>\n",
       "      <td>Indy</td>\n",
       "      <td>55.822340</td>\n",
       "      <td>49.147090</td>\n",
       "    </tr>\n",
       "  </tbody>\n",
       "</table>\n",
       "</div>"
      ],
      "text/plain": [
       "           username                                               text  \\\n",
       "0     MetalMama1987  Get in here while you still have time! \\n\\nDow...   \n",
       "1     EricDraven126  Role Play... Hot American Football Stud breedi...   \n",
       "2        fsgfukcoff  @AnfieldWatch Call the owners out this club is...   \n",
       "3         ajdonalds                              @Millions Football ⚽️   \n",
       "4        rithompson  @brokenbottleboy Wait until he sees associatio...   \n",
       "5          accopnor  Been a while (Dec 4th)\\n\\nFinally some footbal...   \n",
       "6   marveloutfit_ng  Football can be super funny \\n\\nDortmund and U...   \n",
       "7             fwj6y  @LUHGYK i’m doing good finna watch this footba...   \n",
       "8     DemitriJones5  Almost game time!! NINERS STAND UP!!! @49ers #...   \n",
       "9          kopwoman  Yeah, cos only men liked football in the eight...   \n",
       "10       SanyaJoel3  @barratt123 @LisandrMartinez @EngineerMugisha ...   \n",
       "11          RBoss37  @RGIII This is over blown. Every sane Bengals ...   \n",
       "12  DanniD_R_TrueMe  @SagED_UP Terry Bradshaw! Wow only 2 gifs with...   \n",
       "13          CradCep  @LowellCohn Sucks, but that’s football.  Mason...   \n",
       "14         MsANasir  Weekend Mommy duties were in full force!  SR N...   \n",
       "15  CornwellCrimLaw  @VancityReynolds @RMcElhenney @Wrexham_AFC Wre...   \n",
       "16    OklahomaHonus  @BarstoolAlabama Wouldn’t be like this in foot...   \n",
       "17          jadel_o  Una dey use football age for music too? https:...   \n",
       "18        TheFarrow  @creation247 I don't gamble, I don't watch foo...   \n",
       "19           geesum  @Notlo6 @Football__Stage I think they are tryi...   \n",
       "20    niceonesonnny  big month of football coming up, with porro an...   \n",
       "21       stars4will              i hate football so much this is awful   \n",
       "22       BilloGinod  Estupinan&gt;&gt;&gt;Cucurella. \\n\\nLondon cow...   \n",
       "23   Anthonyfighton  Going for Niners/Bengals today. I dislike #Phi...   \n",
       "24        wajdddi21  if u know u know WE R RUINING FOOTBALL 🔥 https...   \n",
       "25     AdamJ_Keller  This will be the last game I watch on @hulu. $...   \n",
       "26           NathJH  @SoyLagoF1 Hahaha that’s actually genius! I ha...   \n",
       "27    SpursUpNation  @aztekjlovett @SpurYrNthusiasm @dpbratcher @Vo...   \n",
       "28     youngindev26  @ExpoRecruits https://t.co/9yPh9kZgv0\\nDevan D...   \n",
       "29       Wavethoven          Why Crips always love red football teams?   \n",
       "30          PSCL_09  ℹ️Learn more about our football and how we hel...   \n",
       "31       yaboiLdub5  Going with the Eagles to win in this game but ...   \n",
       "32   Bairkothmann21  Annual first week without cowboys football twe...   \n",
       "33  TheDailyPretzel  @jlstelly @nypost Come back later if you want ...   \n",
       "34     Martinelli4L  @1PonYe @WelBeast Warra European football for ...   \n",
       "35    PedroBCorreia  @ssc_sports @SaudiSuperCup Final 🇸🇦 ⚽️\\n\\n🎙📺 🏴...   \n",
       "36   WhiteHousePiza  Who's going to the Super Bowl? Come watch the ...   \n",
       "37        Timmy_O_2  @BelgerNelson @_MLFootball You do realize ther...   \n",
       "38         AwfulSer  Crazy headache for game day???? Wow thanks foo...   \n",
       "39   afuckingmohawk  Not a football fan but I root for the bay and ...   \n",
       "40        athencole  @SQD05 Bt i think club football is very much c...   \n",
       "41       newsnowday  #SPORTS\\n'BANGING ON DOORS':Georgia football s...   \n",
       "42         Akr_Baby  Who's ready to for some football!?!? \\nWe out ...   \n",
       "43      CasperCorps  @Michael25782778 @DC_Draino Just wait till foo...   \n",
       "44         YogiRoth  If you need something to listen to alongside t...   \n",
       "45  BigAlsSpeakeasy  There's NO BETTER PLACE TO BE than Big Al's!\\n...   \n",
       "46     Kingthames23  Why do pass rushers make more than anyone in f...   \n",
       "47          ayroned  a day of football that i have zero stakes in h...   \n",
       "48       JamesOnYSS  A big shout out to @MSmithimages for catching ...   \n",
       "49      junosbigtoe  this is like spooky cult vibes. come to our fo...   \n",
       "\n",
       "                        location   latitude   longitude  \n",
       "0                      Green Bay  44.513200  -88.009870  \n",
       "1                  Johannesburg  -26.204910   28.040060  \n",
       "2        England, United Kingdom  52.592734   -1.458627  \n",
       "3                  Abuja Nigeria   9.063440    7.462280  \n",
       "4                      Dreamland  36.115500  -80.213570  \n",
       "5            Portsmouth, England  50.796839   -1.091157  \n",
       "6                 Abuja, Nigeria   9.063440    7.462280  \n",
       "7                             17  34.977870  135.770303  \n",
       "8                California, USA  36.374106 -119.270230  \n",
       "9                        England  52.592734   -1.458627  \n",
       "10                        Uganda   1.513806   32.335707  \n",
       "11                    Pittsburgh  40.438510  -79.997340  \n",
       "12                 Southeast USA  41.413680  -73.604390  \n",
       "13                 New York, USA  40.714540  -74.007120  \n",
       "14                  Columbia, MD  39.211060  -76.867090  \n",
       "15                    Duluth, MN  46.787960  -92.099850  \n",
       "16                    Dallas, TX  32.778220  -96.795120  \n",
       "17  Lagos today London tomorrow         NaN         NaN  \n",
       "18                 United States  39.398703  -99.414619  \n",
       "19                  Johannesburg -26.204910   28.040060  \n",
       "20         anti son slander land  17.564130   76.564690  \n",
       "21                     ? he xe ¿  49.761460   20.450390  \n",
       "22                            🇬🇭        NaN         NaN  \n",
       "23   N 40°54' 0'' / W 98°22' 0''        NaN         NaN  \n",
       "24                  Tripolitania  42.989620   11.868180  \n",
       "25                     Tampa, FL  27.946530  -82.459270  \n",
       "26       England, United Kingdom  52.592734   -1.458627  \n",
       "27                 Lexington, SC  33.981050  -81.235950  \n",
       "28               San Leandro, CA  37.728320 -122.158560  \n",
       "29                     San Diego  32.715680 -117.161710  \n",
       "30   Greater Manchester, England  53.450000   -2.233330  \n",
       "31  The Greater Los Angeles Area  34.144914 -118.129559  \n",
       "32                   Chicago, IL  41.884250  -87.632450  \n",
       "33  Constitution First Amendment  37.779560 -122.407400  \n",
       "34             Red, North London  39.837415  -83.285755  \n",
       "35                   Dubai - UAE  25.269510   55.308840  \n",
       "36                Carbondale, CO  39.401150 -107.216220  \n",
       "37                 Oklahoma, USA  35.582684  -97.508599  \n",
       "38            San Bernardino, CA  34.105240 -117.294120  \n",
       "39                      Bay Area  33.600530   -7.491080  \n",
       "40                         India  23.379380   79.443327  \n",
       "41                 United States  39.398703  -99.414619  \n",
       "42               Kansas City, MO  39.103440  -94.583110  \n",
       "43                           LFK  31.234028  -94.750000  \n",
       "44           Venice, Los Angeles  33.987540 -118.472150  \n",
       "45               Peoria Illinois  40.692360  -89.587990  \n",
       "46                      My House  26.482240   80.268200  \n",
       "47                underachieving        NaN         NaN  \n",
       "48              Swindon, England  51.561533   -1.785446  \n",
       "49                         Indy   55.822340   49.147090  "
      ]
     },
     "execution_count": 62,
     "metadata": {},
     "output_type": "execute_result"
    }
   ],
   "source": [
    "df"
   ]
  },
  {
   "cell_type": "code",
   "execution_count": 63,
   "metadata": {},
   "outputs": [],
   "source": [
    "df = df.dropna()"
   ]
  },
  {
   "cell_type": "code",
   "execution_count": 64,
   "metadata": {},
   "outputs": [
    {
     "data": {
      "text/html": [
       "<div>\n",
       "<style scoped>\n",
       "    .dataframe tbody tr th:only-of-type {\n",
       "        vertical-align: middle;\n",
       "    }\n",
       "\n",
       "    .dataframe tbody tr th {\n",
       "        vertical-align: top;\n",
       "    }\n",
       "\n",
       "    .dataframe thead th {\n",
       "        text-align: right;\n",
       "    }\n",
       "</style>\n",
       "<table border=\"1\" class=\"dataframe\">\n",
       "  <thead>\n",
       "    <tr style=\"text-align: right;\">\n",
       "      <th></th>\n",
       "      <th>username</th>\n",
       "      <th>text</th>\n",
       "      <th>location</th>\n",
       "      <th>latitude</th>\n",
       "      <th>longitude</th>\n",
       "    </tr>\n",
       "  </thead>\n",
       "  <tbody>\n",
       "    <tr>\n",
       "      <th>0</th>\n",
       "      <td>MetalMama1987</td>\n",
       "      <td>Get in here while you still have time! \\n\\nDow...</td>\n",
       "      <td>Green Bay</td>\n",
       "      <td>44.513200</td>\n",
       "      <td>-88.009870</td>\n",
       "    </tr>\n",
       "    <tr>\n",
       "      <th>1</th>\n",
       "      <td>EricDraven126</td>\n",
       "      <td>Role Play... Hot American Football Stud breedi...</td>\n",
       "      <td>Johannesburg</td>\n",
       "      <td>-26.204910</td>\n",
       "      <td>28.040060</td>\n",
       "    </tr>\n",
       "    <tr>\n",
       "      <th>2</th>\n",
       "      <td>fsgfukcoff</td>\n",
       "      <td>@AnfieldWatch Call the owners out this club is...</td>\n",
       "      <td>England, United Kingdom</td>\n",
       "      <td>52.592734</td>\n",
       "      <td>-1.458627</td>\n",
       "    </tr>\n",
       "    <tr>\n",
       "      <th>3</th>\n",
       "      <td>ajdonalds</td>\n",
       "      <td>@Millions Football ⚽️</td>\n",
       "      <td>Abuja Nigeria</td>\n",
       "      <td>9.063440</td>\n",
       "      <td>7.462280</td>\n",
       "    </tr>\n",
       "    <tr>\n",
       "      <th>4</th>\n",
       "      <td>rithompson</td>\n",
       "      <td>@brokenbottleboy Wait until he sees associatio...</td>\n",
       "      <td>Dreamland</td>\n",
       "      <td>36.115500</td>\n",
       "      <td>-80.213570</td>\n",
       "    </tr>\n",
       "    <tr>\n",
       "      <th>5</th>\n",
       "      <td>accopnor</td>\n",
       "      <td>Been a while (Dec 4th)\\n\\nFinally some footbal...</td>\n",
       "      <td>Portsmouth, England</td>\n",
       "      <td>50.796839</td>\n",
       "      <td>-1.091157</td>\n",
       "    </tr>\n",
       "    <tr>\n",
       "      <th>6</th>\n",
       "      <td>marveloutfit_ng</td>\n",
       "      <td>Football can be super funny \\n\\nDortmund and U...</td>\n",
       "      <td>Abuja, Nigeria</td>\n",
       "      <td>9.063440</td>\n",
       "      <td>7.462280</td>\n",
       "    </tr>\n",
       "    <tr>\n",
       "      <th>7</th>\n",
       "      <td>fwj6y</td>\n",
       "      <td>@LUHGYK i’m doing good finna watch this footba...</td>\n",
       "      <td>17</td>\n",
       "      <td>34.977870</td>\n",
       "      <td>135.770303</td>\n",
       "    </tr>\n",
       "    <tr>\n",
       "      <th>8</th>\n",
       "      <td>DemitriJones5</td>\n",
       "      <td>Almost game time!! NINERS STAND UP!!! @49ers #...</td>\n",
       "      <td>California, USA</td>\n",
       "      <td>36.374106</td>\n",
       "      <td>-119.270230</td>\n",
       "    </tr>\n",
       "    <tr>\n",
       "      <th>9</th>\n",
       "      <td>kopwoman</td>\n",
       "      <td>Yeah, cos only men liked football in the eight...</td>\n",
       "      <td>England</td>\n",
       "      <td>52.592734</td>\n",
       "      <td>-1.458627</td>\n",
       "    </tr>\n",
       "    <tr>\n",
       "      <th>10</th>\n",
       "      <td>SanyaJoel3</td>\n",
       "      <td>@barratt123 @LisandrMartinez @EngineerMugisha ...</td>\n",
       "      <td>Uganda</td>\n",
       "      <td>1.513806</td>\n",
       "      <td>32.335707</td>\n",
       "    </tr>\n",
       "    <tr>\n",
       "      <th>11</th>\n",
       "      <td>RBoss37</td>\n",
       "      <td>@RGIII This is over blown. Every sane Bengals ...</td>\n",
       "      <td>Pittsburgh</td>\n",
       "      <td>40.438510</td>\n",
       "      <td>-79.997340</td>\n",
       "    </tr>\n",
       "    <tr>\n",
       "      <th>12</th>\n",
       "      <td>DanniD_R_TrueMe</td>\n",
       "      <td>@SagED_UP Terry Bradshaw! Wow only 2 gifs with...</td>\n",
       "      <td>Southeast USA</td>\n",
       "      <td>41.413680</td>\n",
       "      <td>-73.604390</td>\n",
       "    </tr>\n",
       "    <tr>\n",
       "      <th>13</th>\n",
       "      <td>CradCep</td>\n",
       "      <td>@LowellCohn Sucks, but that’s football.  Mason...</td>\n",
       "      <td>New York, USA</td>\n",
       "      <td>40.714540</td>\n",
       "      <td>-74.007120</td>\n",
       "    </tr>\n",
       "    <tr>\n",
       "      <th>14</th>\n",
       "      <td>MsANasir</td>\n",
       "      <td>Weekend Mommy duties were in full force!  SR N...</td>\n",
       "      <td>Columbia, MD</td>\n",
       "      <td>39.211060</td>\n",
       "      <td>-76.867090</td>\n",
       "    </tr>\n",
       "    <tr>\n",
       "      <th>15</th>\n",
       "      <td>CornwellCrimLaw</td>\n",
       "      <td>@VancityReynolds @RMcElhenney @Wrexham_AFC Wre...</td>\n",
       "      <td>Duluth, MN</td>\n",
       "      <td>46.787960</td>\n",
       "      <td>-92.099850</td>\n",
       "    </tr>\n",
       "    <tr>\n",
       "      <th>16</th>\n",
       "      <td>OklahomaHonus</td>\n",
       "      <td>@BarstoolAlabama Wouldn’t be like this in foot...</td>\n",
       "      <td>Dallas, TX</td>\n",
       "      <td>32.778220</td>\n",
       "      <td>-96.795120</td>\n",
       "    </tr>\n",
       "    <tr>\n",
       "      <th>18</th>\n",
       "      <td>TheFarrow</td>\n",
       "      <td>@creation247 I don't gamble, I don't watch foo...</td>\n",
       "      <td>United States</td>\n",
       "      <td>39.398703</td>\n",
       "      <td>-99.414619</td>\n",
       "    </tr>\n",
       "    <tr>\n",
       "      <th>19</th>\n",
       "      <td>geesum</td>\n",
       "      <td>@Notlo6 @Football__Stage I think they are tryi...</td>\n",
       "      <td>Johannesburg</td>\n",
       "      <td>-26.204910</td>\n",
       "      <td>28.040060</td>\n",
       "    </tr>\n",
       "    <tr>\n",
       "      <th>20</th>\n",
       "      <td>niceonesonnny</td>\n",
       "      <td>big month of football coming up, with porro an...</td>\n",
       "      <td>anti son slander land</td>\n",
       "      <td>17.564130</td>\n",
       "      <td>76.564690</td>\n",
       "    </tr>\n",
       "    <tr>\n",
       "      <th>21</th>\n",
       "      <td>stars4will</td>\n",
       "      <td>i hate football so much this is awful</td>\n",
       "      <td>? he xe ¿</td>\n",
       "      <td>49.761460</td>\n",
       "      <td>20.450390</td>\n",
       "    </tr>\n",
       "    <tr>\n",
       "      <th>24</th>\n",
       "      <td>wajdddi21</td>\n",
       "      <td>if u know u know WE R RUINING FOOTBALL 🔥 https...</td>\n",
       "      <td>Tripolitania</td>\n",
       "      <td>42.989620</td>\n",
       "      <td>11.868180</td>\n",
       "    </tr>\n",
       "    <tr>\n",
       "      <th>25</th>\n",
       "      <td>AdamJ_Keller</td>\n",
       "      <td>This will be the last game I watch on @hulu. $...</td>\n",
       "      <td>Tampa, FL</td>\n",
       "      <td>27.946530</td>\n",
       "      <td>-82.459270</td>\n",
       "    </tr>\n",
       "    <tr>\n",
       "      <th>26</th>\n",
       "      <td>NathJH</td>\n",
       "      <td>@SoyLagoF1 Hahaha that’s actually genius! I ha...</td>\n",
       "      <td>England, United Kingdom</td>\n",
       "      <td>52.592734</td>\n",
       "      <td>-1.458627</td>\n",
       "    </tr>\n",
       "    <tr>\n",
       "      <th>27</th>\n",
       "      <td>SpursUpNation</td>\n",
       "      <td>@aztekjlovett @SpurYrNthusiasm @dpbratcher @Vo...</td>\n",
       "      <td>Lexington, SC</td>\n",
       "      <td>33.981050</td>\n",
       "      <td>-81.235950</td>\n",
       "    </tr>\n",
       "    <tr>\n",
       "      <th>28</th>\n",
       "      <td>youngindev26</td>\n",
       "      <td>@ExpoRecruits https://t.co/9yPh9kZgv0\\nDevan D...</td>\n",
       "      <td>San Leandro, CA</td>\n",
       "      <td>37.728320</td>\n",
       "      <td>-122.158560</td>\n",
       "    </tr>\n",
       "    <tr>\n",
       "      <th>29</th>\n",
       "      <td>Wavethoven</td>\n",
       "      <td>Why Crips always love red football teams?</td>\n",
       "      <td>San Diego</td>\n",
       "      <td>32.715680</td>\n",
       "      <td>-117.161710</td>\n",
       "    </tr>\n",
       "    <tr>\n",
       "      <th>30</th>\n",
       "      <td>PSCL_09</td>\n",
       "      <td>ℹ️Learn more about our football and how we hel...</td>\n",
       "      <td>Greater Manchester, England</td>\n",
       "      <td>53.450000</td>\n",
       "      <td>-2.233330</td>\n",
       "    </tr>\n",
       "    <tr>\n",
       "      <th>31</th>\n",
       "      <td>yaboiLdub5</td>\n",
       "      <td>Going with the Eagles to win in this game but ...</td>\n",
       "      <td>The Greater Los Angeles Area</td>\n",
       "      <td>34.144914</td>\n",
       "      <td>-118.129559</td>\n",
       "    </tr>\n",
       "    <tr>\n",
       "      <th>32</th>\n",
       "      <td>Bairkothmann21</td>\n",
       "      <td>Annual first week without cowboys football twe...</td>\n",
       "      <td>Chicago, IL</td>\n",
       "      <td>41.884250</td>\n",
       "      <td>-87.632450</td>\n",
       "    </tr>\n",
       "    <tr>\n",
       "      <th>33</th>\n",
       "      <td>TheDailyPretzel</td>\n",
       "      <td>@jlstelly @nypost Come back later if you want ...</td>\n",
       "      <td>Constitution First Amendment</td>\n",
       "      <td>37.779560</td>\n",
       "      <td>-122.407400</td>\n",
       "    </tr>\n",
       "    <tr>\n",
       "      <th>34</th>\n",
       "      <td>Martinelli4L</td>\n",
       "      <td>@1PonYe @WelBeast Warra European football for ...</td>\n",
       "      <td>Red, North London</td>\n",
       "      <td>39.837415</td>\n",
       "      <td>-83.285755</td>\n",
       "    </tr>\n",
       "    <tr>\n",
       "      <th>35</th>\n",
       "      <td>PedroBCorreia</td>\n",
       "      <td>@ssc_sports @SaudiSuperCup Final 🇸🇦 ⚽️\\n\\n🎙📺 🏴...</td>\n",
       "      <td>Dubai - UAE</td>\n",
       "      <td>25.269510</td>\n",
       "      <td>55.308840</td>\n",
       "    </tr>\n",
       "    <tr>\n",
       "      <th>36</th>\n",
       "      <td>WhiteHousePiza</td>\n",
       "      <td>Who's going to the Super Bowl? Come watch the ...</td>\n",
       "      <td>Carbondale, CO</td>\n",
       "      <td>39.401150</td>\n",
       "      <td>-107.216220</td>\n",
       "    </tr>\n",
       "    <tr>\n",
       "      <th>37</th>\n",
       "      <td>Timmy_O_2</td>\n",
       "      <td>@BelgerNelson @_MLFootball You do realize ther...</td>\n",
       "      <td>Oklahoma, USA</td>\n",
       "      <td>35.582684</td>\n",
       "      <td>-97.508599</td>\n",
       "    </tr>\n",
       "    <tr>\n",
       "      <th>38</th>\n",
       "      <td>AwfulSer</td>\n",
       "      <td>Crazy headache for game day???? Wow thanks foo...</td>\n",
       "      <td>San Bernardino, CA</td>\n",
       "      <td>34.105240</td>\n",
       "      <td>-117.294120</td>\n",
       "    </tr>\n",
       "    <tr>\n",
       "      <th>39</th>\n",
       "      <td>afuckingmohawk</td>\n",
       "      <td>Not a football fan but I root for the bay and ...</td>\n",
       "      <td>Bay Area</td>\n",
       "      <td>33.600530</td>\n",
       "      <td>-7.491080</td>\n",
       "    </tr>\n",
       "    <tr>\n",
       "      <th>40</th>\n",
       "      <td>athencole</td>\n",
       "      <td>@SQD05 Bt i think club football is very much c...</td>\n",
       "      <td>India</td>\n",
       "      <td>23.379380</td>\n",
       "      <td>79.443327</td>\n",
       "    </tr>\n",
       "    <tr>\n",
       "      <th>41</th>\n",
       "      <td>newsnowday</td>\n",
       "      <td>#SPORTS\\n'BANGING ON DOORS':Georgia football s...</td>\n",
       "      <td>United States</td>\n",
       "      <td>39.398703</td>\n",
       "      <td>-99.414619</td>\n",
       "    </tr>\n",
       "    <tr>\n",
       "      <th>42</th>\n",
       "      <td>Akr_Baby</td>\n",
       "      <td>Who's ready to for some football!?!? \\nWe out ...</td>\n",
       "      <td>Kansas City, MO</td>\n",
       "      <td>39.103440</td>\n",
       "      <td>-94.583110</td>\n",
       "    </tr>\n",
       "    <tr>\n",
       "      <th>43</th>\n",
       "      <td>CasperCorps</td>\n",
       "      <td>@Michael25782778 @DC_Draino Just wait till foo...</td>\n",
       "      <td>LFK</td>\n",
       "      <td>31.234028</td>\n",
       "      <td>-94.750000</td>\n",
       "    </tr>\n",
       "    <tr>\n",
       "      <th>44</th>\n",
       "      <td>YogiRoth</td>\n",
       "      <td>If you need something to listen to alongside t...</td>\n",
       "      <td>Venice, Los Angeles</td>\n",
       "      <td>33.987540</td>\n",
       "      <td>-118.472150</td>\n",
       "    </tr>\n",
       "    <tr>\n",
       "      <th>45</th>\n",
       "      <td>BigAlsSpeakeasy</td>\n",
       "      <td>There's NO BETTER PLACE TO BE than Big Al's!\\n...</td>\n",
       "      <td>Peoria Illinois</td>\n",
       "      <td>40.692360</td>\n",
       "      <td>-89.587990</td>\n",
       "    </tr>\n",
       "    <tr>\n",
       "      <th>46</th>\n",
       "      <td>Kingthames23</td>\n",
       "      <td>Why do pass rushers make more than anyone in f...</td>\n",
       "      <td>My House</td>\n",
       "      <td>26.482240</td>\n",
       "      <td>80.268200</td>\n",
       "    </tr>\n",
       "    <tr>\n",
       "      <th>48</th>\n",
       "      <td>JamesOnYSS</td>\n",
       "      <td>A big shout out to @MSmithimages for catching ...</td>\n",
       "      <td>Swindon, England</td>\n",
       "      <td>51.561533</td>\n",
       "      <td>-1.785446</td>\n",
       "    </tr>\n",
       "    <tr>\n",
       "      <th>49</th>\n",
       "      <td>junosbigtoe</td>\n",
       "      <td>this is like spooky cult vibes. come to our fo...</td>\n",
       "      <td>Indy</td>\n",
       "      <td>55.822340</td>\n",
       "      <td>49.147090</td>\n",
       "    </tr>\n",
       "  </tbody>\n",
       "</table>\n",
       "</div>"
      ],
      "text/plain": [
       "           username                                               text  \\\n",
       "0     MetalMama1987  Get in here while you still have time! \\n\\nDow...   \n",
       "1     EricDraven126  Role Play... Hot American Football Stud breedi...   \n",
       "2        fsgfukcoff  @AnfieldWatch Call the owners out this club is...   \n",
       "3         ajdonalds                              @Millions Football ⚽️   \n",
       "4        rithompson  @brokenbottleboy Wait until he sees associatio...   \n",
       "5          accopnor  Been a while (Dec 4th)\\n\\nFinally some footbal...   \n",
       "6   marveloutfit_ng  Football can be super funny \\n\\nDortmund and U...   \n",
       "7             fwj6y  @LUHGYK i’m doing good finna watch this footba...   \n",
       "8     DemitriJones5  Almost game time!! NINERS STAND UP!!! @49ers #...   \n",
       "9          kopwoman  Yeah, cos only men liked football in the eight...   \n",
       "10       SanyaJoel3  @barratt123 @LisandrMartinez @EngineerMugisha ...   \n",
       "11          RBoss37  @RGIII This is over blown. Every sane Bengals ...   \n",
       "12  DanniD_R_TrueMe  @SagED_UP Terry Bradshaw! Wow only 2 gifs with...   \n",
       "13          CradCep  @LowellCohn Sucks, but that’s football.  Mason...   \n",
       "14         MsANasir  Weekend Mommy duties were in full force!  SR N...   \n",
       "15  CornwellCrimLaw  @VancityReynolds @RMcElhenney @Wrexham_AFC Wre...   \n",
       "16    OklahomaHonus  @BarstoolAlabama Wouldn’t be like this in foot...   \n",
       "18        TheFarrow  @creation247 I don't gamble, I don't watch foo...   \n",
       "19           geesum  @Notlo6 @Football__Stage I think they are tryi...   \n",
       "20    niceonesonnny  big month of football coming up, with porro an...   \n",
       "21       stars4will              i hate football so much this is awful   \n",
       "24        wajdddi21  if u know u know WE R RUINING FOOTBALL 🔥 https...   \n",
       "25     AdamJ_Keller  This will be the last game I watch on @hulu. $...   \n",
       "26           NathJH  @SoyLagoF1 Hahaha that’s actually genius! I ha...   \n",
       "27    SpursUpNation  @aztekjlovett @SpurYrNthusiasm @dpbratcher @Vo...   \n",
       "28     youngindev26  @ExpoRecruits https://t.co/9yPh9kZgv0\\nDevan D...   \n",
       "29       Wavethoven          Why Crips always love red football teams?   \n",
       "30          PSCL_09  ℹ️Learn more about our football and how we hel...   \n",
       "31       yaboiLdub5  Going with the Eagles to win in this game but ...   \n",
       "32   Bairkothmann21  Annual first week without cowboys football twe...   \n",
       "33  TheDailyPretzel  @jlstelly @nypost Come back later if you want ...   \n",
       "34     Martinelli4L  @1PonYe @WelBeast Warra European football for ...   \n",
       "35    PedroBCorreia  @ssc_sports @SaudiSuperCup Final 🇸🇦 ⚽️\\n\\n🎙📺 🏴...   \n",
       "36   WhiteHousePiza  Who's going to the Super Bowl? Come watch the ...   \n",
       "37        Timmy_O_2  @BelgerNelson @_MLFootball You do realize ther...   \n",
       "38         AwfulSer  Crazy headache for game day???? Wow thanks foo...   \n",
       "39   afuckingmohawk  Not a football fan but I root for the bay and ...   \n",
       "40        athencole  @SQD05 Bt i think club football is very much c...   \n",
       "41       newsnowday  #SPORTS\\n'BANGING ON DOORS':Georgia football s...   \n",
       "42         Akr_Baby  Who's ready to for some football!?!? \\nWe out ...   \n",
       "43      CasperCorps  @Michael25782778 @DC_Draino Just wait till foo...   \n",
       "44         YogiRoth  If you need something to listen to alongside t...   \n",
       "45  BigAlsSpeakeasy  There's NO BETTER PLACE TO BE than Big Al's!\\n...   \n",
       "46     Kingthames23  Why do pass rushers make more than anyone in f...   \n",
       "48       JamesOnYSS  A big shout out to @MSmithimages for catching ...   \n",
       "49      junosbigtoe  this is like spooky cult vibes. come to our fo...   \n",
       "\n",
       "                        location   latitude   longitude  \n",
       "0                      Green Bay  44.513200  -88.009870  \n",
       "1                  Johannesburg  -26.204910   28.040060  \n",
       "2        England, United Kingdom  52.592734   -1.458627  \n",
       "3                  Abuja Nigeria   9.063440    7.462280  \n",
       "4                      Dreamland  36.115500  -80.213570  \n",
       "5            Portsmouth, England  50.796839   -1.091157  \n",
       "6                 Abuja, Nigeria   9.063440    7.462280  \n",
       "7                             17  34.977870  135.770303  \n",
       "8                California, USA  36.374106 -119.270230  \n",
       "9                        England  52.592734   -1.458627  \n",
       "10                        Uganda   1.513806   32.335707  \n",
       "11                    Pittsburgh  40.438510  -79.997340  \n",
       "12                 Southeast USA  41.413680  -73.604390  \n",
       "13                 New York, USA  40.714540  -74.007120  \n",
       "14                  Columbia, MD  39.211060  -76.867090  \n",
       "15                    Duluth, MN  46.787960  -92.099850  \n",
       "16                    Dallas, TX  32.778220  -96.795120  \n",
       "18                 United States  39.398703  -99.414619  \n",
       "19                  Johannesburg -26.204910   28.040060  \n",
       "20         anti son slander land  17.564130   76.564690  \n",
       "21                     ? he xe ¿  49.761460   20.450390  \n",
       "24                  Tripolitania  42.989620   11.868180  \n",
       "25                     Tampa, FL  27.946530  -82.459270  \n",
       "26       England, United Kingdom  52.592734   -1.458627  \n",
       "27                 Lexington, SC  33.981050  -81.235950  \n",
       "28               San Leandro, CA  37.728320 -122.158560  \n",
       "29                     San Diego  32.715680 -117.161710  \n",
       "30   Greater Manchester, England  53.450000   -2.233330  \n",
       "31  The Greater Los Angeles Area  34.144914 -118.129559  \n",
       "32                   Chicago, IL  41.884250  -87.632450  \n",
       "33  Constitution First Amendment  37.779560 -122.407400  \n",
       "34             Red, North London  39.837415  -83.285755  \n",
       "35                   Dubai - UAE  25.269510   55.308840  \n",
       "36                Carbondale, CO  39.401150 -107.216220  \n",
       "37                 Oklahoma, USA  35.582684  -97.508599  \n",
       "38            San Bernardino, CA  34.105240 -117.294120  \n",
       "39                      Bay Area  33.600530   -7.491080  \n",
       "40                         India  23.379380   79.443327  \n",
       "41                 United States  39.398703  -99.414619  \n",
       "42               Kansas City, MO  39.103440  -94.583110  \n",
       "43                           LFK  31.234028  -94.750000  \n",
       "44           Venice, Los Angeles  33.987540 -118.472150  \n",
       "45               Peoria Illinois  40.692360  -89.587990  \n",
       "46                      My House  26.482240   80.268200  \n",
       "48              Swindon, England  51.561533   -1.785446  \n",
       "49                         Indy   55.822340   49.147090  "
      ]
     },
     "execution_count": 64,
     "metadata": {},
     "output_type": "execute_result"
    }
   ],
   "source": [
    "df"
   ]
  },
  {
   "cell_type": "markdown",
   "metadata": {},
   "source": [
    "### Creating a Map with Folium\n",
    "Create a folium Map on which we’ll plot the tweet locations"
   ]
  },
  {
   "cell_type": "code",
   "execution_count": 65,
   "metadata": {},
   "outputs": [],
   "source": [
    "import folium"
   ]
  },
  {
   "cell_type": "code",
   "execution_count": 66,
   "metadata": {},
   "outputs": [],
   "source": [
    "usmap = folium.Map(location=[39.8283, -98.5795], \n",
    "    tiles='Stamen Terrain', zoom_start=5, detect_retina=True)"
   ]
  },
  {
   "cell_type": "markdown",
   "metadata": {},
   "source": [
    "* `location` keyword argument specifies a sequence containing latitude and longitude coordinates for the **map’s center point** \n",
    "    * The values in this snippet are the **geographic center of the continental United States**\n",
    "    * In many places worldwide, the term `'football'` describes the sport we call soccer in the U.S., so some of the tweets we plot may be outside the U.S\n",
    "    * You can zoom using the **+** and **–** buttons at the map’s top-left, or you can dragging the map with the mouse (that is, pan) to see anywhere in the world\n",
    "*  `zoom_start` keyword argument specifies the map’s initial zoom level, lower values show more of the world\n",
    "* `detect_retina` keyword argument enables folium to detect high-resolution screens to use higher-resolution maps from `OpenStreetMap.org`"
   ]
  },
  {
   "cell_type": "markdown",
   "metadata": {},
   "source": [
    "### Creating Popup Markers for the Tweet Locations\n",
    "* Create `folium` `Popup` objects containing each tweet’s text and add them to the `Map`\n",
    "* `DataFrame` method `itertuples` creates a named tuple from each row containing properties corresponding to each `DataFrame` column"
   ]
  },
  {
   "cell_type": "code",
   "execution_count": 67,
   "metadata": {},
   "outputs": [],
   "source": [
    "for t in df.itertuples():\n",
    "    text = ': '.join([t.username, t.text])\n",
    "    popup = folium.Popup(text, parse_html=True)\n",
    "    marker = folium.Marker((t.latitude, t.longitude), \n",
    "                           popup=popup)\n",
    "    marker.add_to(usmap)"
   ]
  },
  {
   "cell_type": "markdown",
   "metadata": {},
   "source": [
    "* Creates a string (`text`) containing the user’s `username` and tweet `text` \n",
    "* Creates a `folium` `Popup` to display the `text`\n",
    "* Creates a `folium` `Marker`\n",
    "    * tuple to specify the `Marker`’s latitude and longitude\n",
    "    * `popup` keyword argument associates the tweet’s `Popup` object with the new `Marker`\n",
    "* Calls the `Marker`’s `add_to` method to specify the `Map` that will display the `Marker`"
   ]
  },
  {
   "cell_type": "markdown",
   "metadata": {},
   "source": [
    "### Saving the Map\n",
    "* Call the `Map`’s `save` method to store the map in an HTML file, which you can then double-click to open in your web browser"
   ]
  },
  {
   "cell_type": "code",
   "execution_count": 68,
   "metadata": {},
   "outputs": [],
   "source": [
    "usmap.save('tweet_map.html')"
   ]
  },
  {
   "cell_type": "code",
   "execution_count": 69,
   "metadata": {
    "tags": []
   },
   "outputs": [
    {
     "data": {
      "text/html": [
       "<div style=\"width:100%;\"><div style=\"position:relative;width:100%;height:0;padding-bottom:60%;\"><span style=\"color:#565656\">Make this Notebook Trusted to load map: File -> Trust Notebook</span><iframe srcdoc=\"&lt;!DOCTYPE html&gt;\n",
       "&lt;html&gt;\n",
       "&lt;head&gt;\n",
       "    \n",
       "    &lt;meta http-equiv=&quot;content-type&quot; content=&quot;text/html; charset=UTF-8&quot; /&gt;\n",
       "    \n",
       "        &lt;script&gt;\n",
       "            L_NO_TOUCH = false;\n",
       "            L_DISABLE_3D = false;\n",
       "        &lt;/script&gt;\n",
       "    \n",
       "    &lt;style&gt;html, body {width: 100%;height: 100%;margin: 0;padding: 0;}&lt;/style&gt;\n",
       "    &lt;style&gt;#map {position:absolute;top:0;bottom:0;right:0;left:0;}&lt;/style&gt;\n",
       "    &lt;script src=&quot;https://cdn.jsdelivr.net/npm/leaflet@1.9.3/dist/leaflet.js&quot;&gt;&lt;/script&gt;\n",
       "    &lt;script src=&quot;https://code.jquery.com/jquery-1.12.4.min.js&quot;&gt;&lt;/script&gt;\n",
       "    &lt;script src=&quot;https://cdn.jsdelivr.net/npm/bootstrap@5.2.2/dist/js/bootstrap.bundle.min.js&quot;&gt;&lt;/script&gt;\n",
       "    &lt;script src=&quot;https://cdnjs.cloudflare.com/ajax/libs/Leaflet.awesome-markers/2.0.2/leaflet.awesome-markers.js&quot;&gt;&lt;/script&gt;\n",
       "    &lt;link rel=&quot;stylesheet&quot; href=&quot;https://cdn.jsdelivr.net/npm/leaflet@1.9.3/dist/leaflet.css&quot;/&gt;\n",
       "    &lt;link rel=&quot;stylesheet&quot; href=&quot;https://cdn.jsdelivr.net/npm/bootstrap@5.2.2/dist/css/bootstrap.min.css&quot;/&gt;\n",
       "    &lt;link rel=&quot;stylesheet&quot; href=&quot;https://netdna.bootstrapcdn.com/bootstrap/3.0.0/css/bootstrap.min.css&quot;/&gt;\n",
       "    &lt;link rel=&quot;stylesheet&quot; href=&quot;https://cdn.jsdelivr.net/npm/@fortawesome/fontawesome-free@6.2.0/css/all.min.css&quot;/&gt;\n",
       "    &lt;link rel=&quot;stylesheet&quot; href=&quot;https://cdnjs.cloudflare.com/ajax/libs/Leaflet.awesome-markers/2.0.2/leaflet.awesome-markers.css&quot;/&gt;\n",
       "    &lt;link rel=&quot;stylesheet&quot; href=&quot;https://cdn.jsdelivr.net/gh/python-visualization/folium/folium/templates/leaflet.awesome.rotate.min.css&quot;/&gt;\n",
       "    \n",
       "            &lt;meta name=&quot;viewport&quot; content=&quot;width=device-width,\n",
       "                initial-scale=1.0, maximum-scale=1.0, user-scalable=no&quot; /&gt;\n",
       "            &lt;style&gt;\n",
       "                #map_17dc368c201802a60296b8d806ce7f41 {\n",
       "                    position: relative;\n",
       "                    width: 100.0%;\n",
       "                    height: 100.0%;\n",
       "                    left: 0.0%;\n",
       "                    top: 0.0%;\n",
       "                }\n",
       "                .leaflet-container { font-size: 1rem; }\n",
       "            &lt;/style&gt;\n",
       "        \n",
       "&lt;/head&gt;\n",
       "&lt;body&gt;\n",
       "    \n",
       "    \n",
       "            &lt;div class=&quot;folium-map&quot; id=&quot;map_17dc368c201802a60296b8d806ce7f41&quot; &gt;&lt;/div&gt;\n",
       "        \n",
       "&lt;/body&gt;\n",
       "&lt;script&gt;\n",
       "    \n",
       "    \n",
       "            var map_17dc368c201802a60296b8d806ce7f41 = L.map(\n",
       "                &quot;map_17dc368c201802a60296b8d806ce7f41&quot;,\n",
       "                {\n",
       "                    center: [39.8283, -98.5795],\n",
       "                    crs: L.CRS.EPSG3857,\n",
       "                    zoom: 5,\n",
       "                    zoomControl: true,\n",
       "                    preferCanvas: false,\n",
       "                    detectRetina: true,\n",
       "                }\n",
       "            );\n",
       "\n",
       "            \n",
       "\n",
       "        \n",
       "    \n",
       "            var tile_layer_484a82cf604fb48f468c6d94fbe53679 = L.tileLayer(\n",
       "                &quot;https://stamen-tiles-{s}.a.ssl.fastly.net/terrain/{z}/{x}/{y}.jpg&quot;,\n",
       "                {&quot;attribution&quot;: &quot;Map tiles by \\u003ca target=\\&quot;_blank\\&quot; href=\\&quot;http://stamen.com\\&quot;\\u003eStamen Design\\u003c/a\\u003e, under \\u003ca target=\\&quot;_blank\\&quot; href=\\&quot;http://creativecommons.org/licenses/by/3.0\\&quot;\\u003eCC BY 3.0\\u003c/a\\u003e. Data by \\u0026copy; \\u003ca target=\\&quot;_blank\\&quot; href=\\&quot;http://openstreetmap.org\\&quot;\\u003eOpenStreetMap\\u003c/a\\u003e, under \\u003ca target=\\&quot;_blank\\&quot; href=\\&quot;http://creativecommons.org/licenses/by-sa/3.0\\&quot;\\u003eCC BY SA\\u003c/a\\u003e.&quot;, &quot;detectRetina&quot;: false, &quot;maxNativeZoom&quot;: 18, &quot;maxZoom&quot;: 18, &quot;minZoom&quot;: 0, &quot;noWrap&quot;: false, &quot;opacity&quot;: 1, &quot;subdomains&quot;: &quot;abc&quot;, &quot;tms&quot;: false}\n",
       "            ).addTo(map_17dc368c201802a60296b8d806ce7f41);\n",
       "        \n",
       "    \n",
       "            var marker_4a01ace1a3cde34ca862343d3a3e3f9e = L.marker(\n",
       "                [44.51320000000004, -88.00986999999998],\n",
       "                {}\n",
       "            ).addTo(map_17dc368c201802a60296b8d806ce7f41);\n",
       "        \n",
       "    \n",
       "        var popup_d550bd48f86c28a19293377a44c2aa11 = L.popup({&quot;maxWidth&quot;: &quot;100%&quot;});\n",
       "\n",
       "        \n",
       "            \n",
       "                var html_551d1b6589a7a9faf52a0e235f62cfe7 = $(`&lt;div id=&quot;html_551d1b6589a7a9faf52a0e235f62cfe7&quot; style=&quot;width: 100.0%; height: 100.0%;&quot;&gt;MetalMama1987: Get in here while you still have time!   Download the game free!!   https://t.co/hosZsuY7zQ to get it!   Trash Talk with Friends! Win Free cash! Why not?!!   Only 11 Multiple choice ?&amp;#39;s!   Make sure you enter METALMAMA   See you there! #NFL #money #sundayvibes #football https://t.co/QcC08mDBuF&lt;/div&gt;`)[0];\n",
       "                popup_d550bd48f86c28a19293377a44c2aa11.setContent(html_551d1b6589a7a9faf52a0e235f62cfe7);\n",
       "            \n",
       "        \n",
       "\n",
       "        marker_4a01ace1a3cde34ca862343d3a3e3f9e.bindPopup(popup_d550bd48f86c28a19293377a44c2aa11)\n",
       "        ;\n",
       "\n",
       "        \n",
       "    \n",
       "    \n",
       "            var marker_11d8c520a2df19916f860804cd6192b1 = L.marker(\n",
       "                [-26.204909999999927, 28.04006000000004],\n",
       "                {}\n",
       "            ).addTo(map_17dc368c201802a60296b8d806ce7f41);\n",
       "        \n",
       "    \n",
       "        var popup_920fd7c7fc3265445790b7e5b5024f78 = L.popup({&quot;maxWidth&quot;: &quot;100%&quot;});\n",
       "\n",
       "        \n",
       "            \n",
       "                var html_ebe31540adeb8a7dd9884490d3f491a7 = $(`&lt;div id=&quot;html_ebe31540adeb8a7dd9884490d3f491a7&quot; style=&quot;width: 100.0%; height: 100.0%;&quot;&gt;EricDraven126: Role Play... Hot American Football Stud breeding his coaches Son ..... @KaylibZas  RT for more....  @SANakeds  @thegayadam  @amp_stars  @GayBcnPorno  @bdsmworldporn  @FCKNCOM https://t.co/B65KwkbZjV&lt;/div&gt;`)[0];\n",
       "                popup_920fd7c7fc3265445790b7e5b5024f78.setContent(html_ebe31540adeb8a7dd9884490d3f491a7);\n",
       "            \n",
       "        \n",
       "\n",
       "        marker_11d8c520a2df19916f860804cd6192b1.bindPopup(popup_920fd7c7fc3265445790b7e5b5024f78)\n",
       "        ;\n",
       "\n",
       "        \n",
       "    \n",
       "    \n",
       "            var marker_c1d93277752f9da551392ff263906c1d = L.marker(\n",
       "                [52.592733578000036, -1.458626737999964],\n",
       "                {}\n",
       "            ).addTo(map_17dc368c201802a60296b8d806ce7f41);\n",
       "        \n",
       "    \n",
       "        var popup_944f628d514c31e3d49ff4206150cb1f = L.popup({&quot;maxWidth&quot;: &quot;100%&quot;});\n",
       "\n",
       "        \n",
       "            \n",
       "                var html_e8ac0c39676332e93e2c978f849f8503 = $(`&lt;div id=&quot;html_e8ac0c39676332e93e2c978f849f8503&quot; style=&quot;width: 100.0%; height: 100.0%;&quot;&gt;fsgfukcoff: @AnfieldWatch Call the owners out this club is floundering the players have had 5yrs of 150mph football a lot of them are finished. The youngster&amp;#39;s are not of a high enough standard for Liverpool.&lt;/div&gt;`)[0];\n",
       "                popup_944f628d514c31e3d49ff4206150cb1f.setContent(html_e8ac0c39676332e93e2c978f849f8503);\n",
       "            \n",
       "        \n",
       "\n",
       "        marker_c1d93277752f9da551392ff263906c1d.bindPopup(popup_944f628d514c31e3d49ff4206150cb1f)\n",
       "        ;\n",
       "\n",
       "        \n",
       "    \n",
       "    \n",
       "            var marker_a8fe85f63f7699e18b7eeaac1ef11f83 = L.marker(\n",
       "                [9.063440000000071, 7.462280000000021],\n",
       "                {}\n",
       "            ).addTo(map_17dc368c201802a60296b8d806ce7f41);\n",
       "        \n",
       "    \n",
       "        var popup_e14b762790a54a0c10eb9740659d224e = L.popup({&quot;maxWidth&quot;: &quot;100%&quot;});\n",
       "\n",
       "        \n",
       "            \n",
       "                var html_f299f96c784fb475ac2c72634256d545 = $(`&lt;div id=&quot;html_f299f96c784fb475ac2c72634256d545&quot; style=&quot;width: 100.0%; height: 100.0%;&quot;&gt;ajdonalds: @Millions Football ⚽️&lt;/div&gt;`)[0];\n",
       "                popup_e14b762790a54a0c10eb9740659d224e.setContent(html_f299f96c784fb475ac2c72634256d545);\n",
       "            \n",
       "        \n",
       "\n",
       "        marker_a8fe85f63f7699e18b7eeaac1ef11f83.bindPopup(popup_e14b762790a54a0c10eb9740659d224e)\n",
       "        ;\n",
       "\n",
       "        \n",
       "    \n",
       "    \n",
       "            var marker_fb611229d8b45b736b84e1465c0bdff8 = L.marker(\n",
       "                [36.115500000000054, -80.21356999999995],\n",
       "                {}\n",
       "            ).addTo(map_17dc368c201802a60296b8d806ce7f41);\n",
       "        \n",
       "    \n",
       "        var popup_aa93dfee32565e4990a7fced3348e58f = L.popup({&quot;maxWidth&quot;: &quot;100%&quot;});\n",
       "\n",
       "        \n",
       "            \n",
       "                var html_029594a341bb59fd8533bb2c3c324541 = $(`&lt;div id=&quot;html_029594a341bb59fd8533bb2c3c324541&quot; style=&quot;width: 100.0%; height: 100.0%;&quot;&gt;rithompson: @brokenbottleboy Wait until he sees association football in England.&lt;/div&gt;`)[0];\n",
       "                popup_aa93dfee32565e4990a7fced3348e58f.setContent(html_029594a341bb59fd8533bb2c3c324541);\n",
       "            \n",
       "        \n",
       "\n",
       "        marker_fb611229d8b45b736b84e1465c0bdff8.bindPopup(popup_aa93dfee32565e4990a7fced3348e58f)\n",
       "        ;\n",
       "\n",
       "        \n",
       "    \n",
       "    \n",
       "            var marker_d0f09b5ed023cdd6cbb40f13918a243a = L.marker(\n",
       "                [50.796839101000046, -1.0911566279999647],\n",
       "                {}\n",
       "            ).addTo(map_17dc368c201802a60296b8d806ce7f41);\n",
       "        \n",
       "    \n",
       "        var popup_f360c804100b186c3925c56feeb15b1a = L.popup({&quot;maxWidth&quot;: &quot;100%&quot;});\n",
       "\n",
       "        \n",
       "            \n",
       "                var html_9a811d31b78cc70fd93c1065654c7ab4 = $(`&lt;div id=&quot;html_9a811d31b78cc70fd93c1065654c7ab4&quot; style=&quot;width: 100.0%; height: 100.0%;&quot;&gt;accopnor: Been a while (Dec 4th)  Finally some football to report 1st team ran out 6-0 winners today to stay top with goals from @bradaladders ⚽️⚽️⚽️ @BarryJeans99 ⚽️ Jed Rowe ⚽️ Clement Ibeh ⚽️ (1st for club)  Ressies lost 3-2 in a close game with goals from Ryan Graham ⚽️ Zak Gorrie  ⚽️&lt;/div&gt;`)[0];\n",
       "                popup_f360c804100b186c3925c56feeb15b1a.setContent(html_9a811d31b78cc70fd93c1065654c7ab4);\n",
       "            \n",
       "        \n",
       "\n",
       "        marker_d0f09b5ed023cdd6cbb40f13918a243a.bindPopup(popup_f360c804100b186c3925c56feeb15b1a)\n",
       "        ;\n",
       "\n",
       "        \n",
       "    \n",
       "    \n",
       "            var marker_be4bfb70c9328633a52012137c0d2b34 = L.marker(\n",
       "                [9.063440000000071, 7.462280000000021],\n",
       "                {}\n",
       "            ).addTo(map_17dc368c201802a60296b8d806ce7f41);\n",
       "        \n",
       "    \n",
       "        var popup_1f3c1d1cda89aeec99976f186b83d7af = L.popup({&quot;maxWidth&quot;: &quot;100%&quot;});\n",
       "\n",
       "        \n",
       "            \n",
       "                var html_17185df10a5a6f79b4c8a2c0ff810d1a = $(`&lt;div id=&quot;html_17185df10a5a6f79b4c8a2c0ff810d1a&quot; style=&quot;width: 100.0%; height: 100.0%;&quot;&gt;marveloutfit_ng: Football can be super funny   Dortmund and Union Berlin are the clubs with the most wins in the German league but guys what they are 4th and 2nd in position cos they have lost games than Leipzig and Bayern https://t.co/bOSyIiATYO&lt;/div&gt;`)[0];\n",
       "                popup_1f3c1d1cda89aeec99976f186b83d7af.setContent(html_17185df10a5a6f79b4c8a2c0ff810d1a);\n",
       "            \n",
       "        \n",
       "\n",
       "        marker_be4bfb70c9328633a52012137c0d2b34.bindPopup(popup_1f3c1d1cda89aeec99976f186b83d7af)\n",
       "        ;\n",
       "\n",
       "        \n",
       "    \n",
       "    \n",
       "            var marker_95733493e8bc4fdbf0dec96f7e2f4c2e = L.marker(\n",
       "                [34.97786963000004, 135.77030321000007],\n",
       "                {}\n",
       "            ).addTo(map_17dc368c201802a60296b8d806ce7f41);\n",
       "        \n",
       "    \n",
       "        var popup_fbc1f18621a26d35445e20b1ee1d0162 = L.popup({&quot;maxWidth&quot;: &quot;100%&quot;});\n",
       "\n",
       "        \n",
       "            \n",
       "                var html_d1af202ffb4b6321bf31c33da58f7c5f = $(`&lt;div id=&quot;html_d1af202ffb4b6321bf31c33da58f7c5f&quot; style=&quot;width: 100.0%; height: 100.0%;&quot;&gt;fwj6y: @LUHGYK i’m doing good finna watch this football game in a few mins&lt;/div&gt;`)[0];\n",
       "                popup_fbc1f18621a26d35445e20b1ee1d0162.setContent(html_d1af202ffb4b6321bf31c33da58f7c5f);\n",
       "            \n",
       "        \n",
       "\n",
       "        marker_95733493e8bc4fdbf0dec96f7e2f4c2e.bindPopup(popup_fbc1f18621a26d35445e20b1ee1d0162)\n",
       "        ;\n",
       "\n",
       "        \n",
       "    \n",
       "    \n",
       "            var marker_ae03fd8422a88cfe4c26ded0e49b9b55 = L.marker(\n",
       "                [36.37410569300005, -119.27022999999997],\n",
       "                {}\n",
       "            ).addTo(map_17dc368c201802a60296b8d806ce7f41);\n",
       "        \n",
       "    \n",
       "        var popup_dc8d2a8dc0b0b666f5dfa498dd3361aa = L.popup({&quot;maxWidth&quot;: &quot;100%&quot;});\n",
       "\n",
       "        \n",
       "            \n",
       "                var html_98e9aa1c34e8488621f1ed80f436c43e = $(`&lt;div id=&quot;html_98e9aa1c34e8488621f1ed80f436c43e&quot; style=&quot;width: 100.0%; height: 100.0%;&quot;&gt;DemitriJones5: Almost game time!! NINERS STAND UP!!! @49ers #bayarea #niners #49ers #football #nfcchamps&lt;/div&gt;`)[0];\n",
       "                popup_dc8d2a8dc0b0b666f5dfa498dd3361aa.setContent(html_98e9aa1c34e8488621f1ed80f436c43e);\n",
       "            \n",
       "        \n",
       "\n",
       "        marker_ae03fd8422a88cfe4c26ded0e49b9b55.bindPopup(popup_dc8d2a8dc0b0b666f5dfa498dd3361aa)\n",
       "        ;\n",
       "\n",
       "        \n",
       "    \n",
       "    \n",
       "            var marker_15570a7f32ad4a069093cd649fcf453e = L.marker(\n",
       "                [52.592733578000036, -1.458626737999964],\n",
       "                {}\n",
       "            ).addTo(map_17dc368c201802a60296b8d806ce7f41);\n",
       "        \n",
       "    \n",
       "        var popup_6d33e9e84086d31ced3f18ca59f5d64d = L.popup({&quot;maxWidth&quot;: &quot;100%&quot;});\n",
       "\n",
       "        \n",
       "            \n",
       "                var html_5e31c15ee2871f44b7a0ef282437ea3d = $(`&lt;div id=&quot;html_5e31c15ee2871f44b7a0ef282437ea3d&quot; style=&quot;width: 100.0%; height: 100.0%;&quot;&gt;kopwoman: Yeah, cos only men liked football in the eighties 😴 https://t.co/h6R7blylin&lt;/div&gt;`)[0];\n",
       "                popup_6d33e9e84086d31ced3f18ca59f5d64d.setContent(html_5e31c15ee2871f44b7a0ef282437ea3d);\n",
       "            \n",
       "        \n",
       "\n",
       "        marker_15570a7f32ad4a069093cd649fcf453e.bindPopup(popup_6d33e9e84086d31ced3f18ca59f5d64d)\n",
       "        ;\n",
       "\n",
       "        \n",
       "    \n",
       "    \n",
       "            var marker_8075952b4f39f4abae739211ce28e0f5 = L.marker(\n",
       "                [1.513805689000037, 32.335706651000066],\n",
       "                {}\n",
       "            ).addTo(map_17dc368c201802a60296b8d806ce7f41);\n",
       "        \n",
       "    \n",
       "        var popup_538ea3684560f18f3c1b9d214b87b533 = L.popup({&quot;maxWidth&quot;: &quot;100%&quot;});\n",
       "\n",
       "        \n",
       "            \n",
       "                var html_63fc6ff824be789b877c0dd009f4645b = $(`&lt;div id=&quot;html_63fc6ff824be789b877c0dd009f4645b&quot; style=&quot;width: 100.0%; height: 100.0%;&quot;&gt;SanyaJoel3: @barratt123 @LisandrMartinez @EngineerMugisha football is something else❤&lt;/div&gt;`)[0];\n",
       "                popup_538ea3684560f18f3c1b9d214b87b533.setContent(html_63fc6ff824be789b877c0dd009f4645b);\n",
       "            \n",
       "        \n",
       "\n",
       "        marker_8075952b4f39f4abae739211ce28e0f5.bindPopup(popup_538ea3684560f18f3c1b9d214b87b533)\n",
       "        ;\n",
       "\n",
       "        \n",
       "    \n",
       "    \n",
       "            var marker_2b28d29f8519081405b32ab91d3d779e = L.marker(\n",
       "                [40.438510000000065, -79.99733999999995],\n",
       "                {}\n",
       "            ).addTo(map_17dc368c201802a60296b8d806ce7f41);\n",
       "        \n",
       "    \n",
       "        var popup_88020fee099ae988df1044f975685451 = L.popup({&quot;maxWidth&quot;: &quot;100%&quot;});\n",
       "\n",
       "        \n",
       "            \n",
       "                var html_a71f6d8fc0cbcd4d48fbd98fd53b50b0 = $(`&lt;div id=&quot;html_a71f6d8fc0cbcd4d48fbd98fd53b50b0&quot; style=&quot;width: 100.0%; height: 100.0%;&quot;&gt;RBoss37: @RGIII This is over blown. Every sane Bengals fan or football fan in general realizes that Kansas City is a tough out at their place. They have as much change to win as the Bengals do, especially at home. Bengals are rightfully more confident than in years past is all.&lt;/div&gt;`)[0];\n",
       "                popup_88020fee099ae988df1044f975685451.setContent(html_a71f6d8fc0cbcd4d48fbd98fd53b50b0);\n",
       "            \n",
       "        \n",
       "\n",
       "        marker_2b28d29f8519081405b32ab91d3d779e.bindPopup(popup_88020fee099ae988df1044f975685451)\n",
       "        ;\n",
       "\n",
       "        \n",
       "    \n",
       "    \n",
       "            var marker_34fb97db2703aff335566c8faadf486f = L.marker(\n",
       "                [41.413680000000056, -73.60438999999997],\n",
       "                {}\n",
       "            ).addTo(map_17dc368c201802a60296b8d806ce7f41);\n",
       "        \n",
       "    \n",
       "        var popup_a3d54f98b735a0fa5a2fd813d2527aa0 = L.popup({&quot;maxWidth&quot;: &quot;100%&quot;});\n",
       "\n",
       "        \n",
       "            \n",
       "                var html_58ea57474f71c225b5de72322c8c796d = $(`&lt;div id=&quot;html_58ea57474f71c225b5de72322c8c796d&quot; style=&quot;width: 100.0%; height: 100.0%;&quot;&gt;DanniD_R_TrueMe: @SagED_UP Terry Bradshaw! Wow only 2 gifs with him playing football (just a good old country guy! https://t.co/UwAg2fryD7&lt;/div&gt;`)[0];\n",
       "                popup_a3d54f98b735a0fa5a2fd813d2527aa0.setContent(html_58ea57474f71c225b5de72322c8c796d);\n",
       "            \n",
       "        \n",
       "\n",
       "        marker_34fb97db2703aff335566c8faadf486f.bindPopup(popup_a3d54f98b735a0fa5a2fd813d2527aa0)\n",
       "        ;\n",
       "\n",
       "        \n",
       "    \n",
       "    \n",
       "            var marker_980766486aecc28d024645ed3c07fff7 = L.marker(\n",
       "                [40.714540000000056, -74.00711999999999],\n",
       "                {}\n",
       "            ).addTo(map_17dc368c201802a60296b8d806ce7f41);\n",
       "        \n",
       "    \n",
       "        var popup_a468c49a1ed5dd0adf1c022eb290197b = L.popup({&quot;maxWidth&quot;: &quot;100%&quot;});\n",
       "\n",
       "        \n",
       "            \n",
       "                var html_b5f69954b7e0abd1388d659337c0e8e2 = $(`&lt;div id=&quot;html_b5f69954b7e0abd1388d659337c0e8e2&quot; style=&quot;width: 100.0%; height: 100.0%;&quot;&gt;CradCep: @LowellCohn Sucks, but that’s football.  Mason now has the opportunity of a lifetime. Hopefully, he’s got the mental toughness to make the most of it, and he makes us all happy &amp;amp;amp; proud! Go 9ers!!&lt;/div&gt;`)[0];\n",
       "                popup_a468c49a1ed5dd0adf1c022eb290197b.setContent(html_b5f69954b7e0abd1388d659337c0e8e2);\n",
       "            \n",
       "        \n",
       "\n",
       "        marker_980766486aecc28d024645ed3c07fff7.bindPopup(popup_a468c49a1ed5dd0adf1c022eb290197b)\n",
       "        ;\n",
       "\n",
       "        \n",
       "    \n",
       "    \n",
       "            var marker_f96b6dd1c83cf30731a5d2c434b16351 = L.marker(\n",
       "                [39.21106000000003, -76.86708999999996],\n",
       "                {}\n",
       "            ).addTo(map_17dc368c201802a60296b8d806ce7f41);\n",
       "        \n",
       "    \n",
       "        var popup_cf0b24d37d1f025fc82268f85238d921 = L.popup({&quot;maxWidth&quot;: &quot;100%&quot;});\n",
       "\n",
       "        \n",
       "            \n",
       "                var html_90a969f40b6f8f99f3ea863bc327e124 = $(`&lt;div id=&quot;html_90a969f40b6f8f99f3ea863bc327e124&quot; style=&quot;width: 100.0%; height: 100.0%;&quot;&gt;MsANasir: Weekend Mommy duties were in full force!  SR Night with Kyndall, Farah running at Liberty, Nila playing soccer in Centreville and Morgan competing in Boston!  Everyone doing great. Looking forward to Football in a few 😉 https://t.co/0xC8t2EG9s&lt;/div&gt;`)[0];\n",
       "                popup_cf0b24d37d1f025fc82268f85238d921.setContent(html_90a969f40b6f8f99f3ea863bc327e124);\n",
       "            \n",
       "        \n",
       "\n",
       "        marker_f96b6dd1c83cf30731a5d2c434b16351.bindPopup(popup_cf0b24d37d1f025fc82268f85238d921)\n",
       "        ;\n",
       "\n",
       "        \n",
       "    \n",
       "    \n",
       "            var marker_6e2921022e09266fafe9925c49b2a876 = L.marker(\n",
       "                [46.787960000000055, -92.09984999999995],\n",
       "                {}\n",
       "            ).addTo(map_17dc368c201802a60296b8d806ce7f41);\n",
       "        \n",
       "    \n",
       "        var popup_9e8a45fffaa8cffaf6fa92eb190b83b6 = L.popup({&quot;maxWidth&quot;: &quot;100%&quot;});\n",
       "\n",
       "        \n",
       "            \n",
       "                var html_b09f0f20b39872aa108bdc6b466d513b = $(`&lt;div id=&quot;html_b09f0f20b39872aa108bdc6b466d513b&quot; style=&quot;width: 100.0%; height: 100.0%;&quot;&gt;CornwellCrimLaw: @VancityReynolds @RMcElhenney @Wrexham_AFC Wrexham has converted this long time American football fan!  What a beautiful sport!!!!&lt;/div&gt;`)[0];\n",
       "                popup_9e8a45fffaa8cffaf6fa92eb190b83b6.setContent(html_b09f0f20b39872aa108bdc6b466d513b);\n",
       "            \n",
       "        \n",
       "\n",
       "        marker_6e2921022e09266fafe9925c49b2a876.bindPopup(popup_9e8a45fffaa8cffaf6fa92eb190b83b6)\n",
       "        ;\n",
       "\n",
       "        \n",
       "    \n",
       "    \n",
       "            var marker_f90f68e158b15acf9d697909955f6774 = L.marker(\n",
       "                [32.77822000000003, -96.79511999999994],\n",
       "                {}\n",
       "            ).addTo(map_17dc368c201802a60296b8d806ce7f41);\n",
       "        \n",
       "    \n",
       "        var popup_ce267df048915db4a4ce8595100fa88c = L.popup({&quot;maxWidth&quot;: &quot;100%&quot;});\n",
       "\n",
       "        \n",
       "            \n",
       "                var html_221589f3cd868abf25412b8ee9390833 = $(`&lt;div id=&quot;html_221589f3cd868abf25412b8ee9390833&quot; style=&quot;width: 100.0%; height: 100.0%;&quot;&gt;OklahomaHonus: @BarstoolAlabama Wouldn’t be like this in football, that’s why you posted the pic.   Bama got slapped by a mediocre OU team. Just admit it, Big 12 is different…&lt;/div&gt;`)[0];\n",
       "                popup_ce267df048915db4a4ce8595100fa88c.setContent(html_221589f3cd868abf25412b8ee9390833);\n",
       "            \n",
       "        \n",
       "\n",
       "        marker_f90f68e158b15acf9d697909955f6774.bindPopup(popup_ce267df048915db4a4ce8595100fa88c)\n",
       "        ;\n",
       "\n",
       "        \n",
       "    \n",
       "    \n",
       "            var marker_e02861c568d5b5cb83d7a74866f066c4 = L.marker(\n",
       "                [39.39870315600007, -99.41461918999994],\n",
       "                {}\n",
       "            ).addTo(map_17dc368c201802a60296b8d806ce7f41);\n",
       "        \n",
       "    \n",
       "        var popup_434de2f7ed31080f6a2ff591695463ae = L.popup({&quot;maxWidth&quot;: &quot;100%&quot;});\n",
       "\n",
       "        \n",
       "            \n",
       "                var html_a37034246cec7de762c7ada402271245 = $(`&lt;div id=&quot;html_a37034246cec7de762c7ada402271245&quot; style=&quot;width: 100.0%; height: 100.0%;&quot;&gt;TheFarrow: @creation247 I don&amp;#39;t gamble, I don&amp;#39;t watch football, &amp;amp;amp; only drink occasionally.    Perhaps this is why I am an outlier &amp;amp;amp; making profits is so easy in the markets?  🤷‍♂️&lt;/div&gt;`)[0];\n",
       "                popup_434de2f7ed31080f6a2ff591695463ae.setContent(html_a37034246cec7de762c7ada402271245);\n",
       "            \n",
       "        \n",
       "\n",
       "        marker_e02861c568d5b5cb83d7a74866f066c4.bindPopup(popup_434de2f7ed31080f6a2ff591695463ae)\n",
       "        ;\n",
       "\n",
       "        \n",
       "    \n",
       "    \n",
       "            var marker_b80a70ee6b83bff823f66229a1d6082c = L.marker(\n",
       "                [-26.204909999999927, 28.04006000000004],\n",
       "                {}\n",
       "            ).addTo(map_17dc368c201802a60296b8d806ce7f41);\n",
       "        \n",
       "    \n",
       "        var popup_1ac4d84d1a49bfec1eed80e82685ee53 = L.popup({&quot;maxWidth&quot;: &quot;100%&quot;});\n",
       "\n",
       "        \n",
       "            \n",
       "                var html_af59f4897e8e31fedfabd8d3f522bbc2 = $(`&lt;div id=&quot;html_af59f4897e8e31fedfabd8d3f522bbc2&quot; style=&quot;width: 100.0%; height: 100.0%;&quot;&gt;geesum: @Notlo6 @Football__Stage I think they are trying to run down his contract. It doesn&amp;#39;t make sense at all.&lt;/div&gt;`)[0];\n",
       "                popup_1ac4d84d1a49bfec1eed80e82685ee53.setContent(html_af59f4897e8e31fedfabd8d3f522bbc2);\n",
       "            \n",
       "        \n",
       "\n",
       "        marker_b80a70ee6b83bff823f66229a1d6082c.bindPopup(popup_1ac4d84d1a49bfec1eed80e82685ee53)\n",
       "        ;\n",
       "\n",
       "        \n",
       "    \n",
       "    \n",
       "            var marker_37a7bfb3b08e3f7f510fd3a8f652ba9d = L.marker(\n",
       "                [17.564130000000034, 76.56469000000004],\n",
       "                {}\n",
       "            ).addTo(map_17dc368c201802a60296b8d806ce7f41);\n",
       "        \n",
       "    \n",
       "        var popup_5590a3af9d232e404333eb450976fe83 = L.popup({&quot;maxWidth&quot;: &quot;100%&quot;});\n",
       "\n",
       "        \n",
       "            \n",
       "                var html_65d93cfdff7b007ee4f7157f1c8dfb92 = $(`&lt;div id=&quot;html_65d93cfdff7b007ee4f7157f1c8dfb92&quot; style=&quot;width: 100.0%; height: 100.0%;&quot;&gt;niceonesonnny: big month of football coming up, with porro and danjuma, sonny shining again, and kane well rested, we could see a really good february. COYS 💪🏼 https://t.co/IIUHg8YIzG&lt;/div&gt;`)[0];\n",
       "                popup_5590a3af9d232e404333eb450976fe83.setContent(html_65d93cfdff7b007ee4f7157f1c8dfb92);\n",
       "            \n",
       "        \n",
       "\n",
       "        marker_37a7bfb3b08e3f7f510fd3a8f652ba9d.bindPopup(popup_5590a3af9d232e404333eb450976fe83)\n",
       "        ;\n",
       "\n",
       "        \n",
       "    \n",
       "    \n",
       "            var marker_a59c42e1cf9f41020ab817477f57db80 = L.marker(\n",
       "                [49.761460000000056, 20.450390000000027],\n",
       "                {}\n",
       "            ).addTo(map_17dc368c201802a60296b8d806ce7f41);\n",
       "        \n",
       "    \n",
       "        var popup_0b1dcaac369658f9b5c786a4a3ce3771 = L.popup({&quot;maxWidth&quot;: &quot;100%&quot;});\n",
       "\n",
       "        \n",
       "            \n",
       "                var html_a6568da818f5c9a651c56586691f34b2 = $(`&lt;div id=&quot;html_a6568da818f5c9a651c56586691f34b2&quot; style=&quot;width: 100.0%; height: 100.0%;&quot;&gt;stars4will: i hate football so much this is awful&lt;/div&gt;`)[0];\n",
       "                popup_0b1dcaac369658f9b5c786a4a3ce3771.setContent(html_a6568da818f5c9a651c56586691f34b2);\n",
       "            \n",
       "        \n",
       "\n",
       "        marker_a59c42e1cf9f41020ab817477f57db80.bindPopup(popup_0b1dcaac369658f9b5c786a4a3ce3771)\n",
       "        ;\n",
       "\n",
       "        \n",
       "    \n",
       "    \n",
       "            var marker_5693e4c48f1fcbfb4cbbffdf76034878 = L.marker(\n",
       "                [42.98962000000006, 11.868180000000052],\n",
       "                {}\n",
       "            ).addTo(map_17dc368c201802a60296b8d806ce7f41);\n",
       "        \n",
       "    \n",
       "        var popup_484b9bc942801b661ecc214fe5e4fbd0 = L.popup({&quot;maxWidth&quot;: &quot;100%&quot;});\n",
       "\n",
       "        \n",
       "            \n",
       "                var html_15712531a9b7631306455f4eab8f5d26 = $(`&lt;div id=&quot;html_15712531a9b7631306455f4eab8f5d26&quot; style=&quot;width: 100.0%; height: 100.0%;&quot;&gt;wajdddi21: if u know u know WE R RUINING FOOTBALL 🔥 https://t.co/cZ4js3tfpw&lt;/div&gt;`)[0];\n",
       "                popup_484b9bc942801b661ecc214fe5e4fbd0.setContent(html_15712531a9b7631306455f4eab8f5d26);\n",
       "            \n",
       "        \n",
       "\n",
       "        marker_5693e4c48f1fcbfb4cbbffdf76034878.bindPopup(popup_484b9bc942801b661ecc214fe5e4fbd0)\n",
       "        ;\n",
       "\n",
       "        \n",
       "    \n",
       "    \n",
       "            var marker_4677b79cbe5f2968e7889333f93cce60 = L.marker(\n",
       "                [27.946530000000052, -82.45926999999995],\n",
       "                {}\n",
       "            ).addTo(map_17dc368c201802a60296b8d806ce7f41);\n",
       "        \n",
       "    \n",
       "        var popup_df827ecdeb6610934f0e7f99c50c3b44 = L.popup({&quot;maxWidth&quot;: &quot;100%&quot;});\n",
       "\n",
       "        \n",
       "            \n",
       "                var html_a0822855b1d6eb0b2116334d41cdbba4 = $(`&lt;div id=&quot;html_a0822855b1d6eb0b2116334d41cdbba4&quot; style=&quot;width: 100.0%; height: 100.0%;&quot;&gt;AdamJ_Keller: This will be the last game I watch on @hulu. $90 a month and you don’t have the server power to support a football game that you know everyone is going to watch? Inexcusable, @hulu_support. (I have over 430 MB/S download at the moment, so it’s def you…) Here I come @YouTubeTV .&lt;/div&gt;`)[0];\n",
       "                popup_df827ecdeb6610934f0e7f99c50c3b44.setContent(html_a0822855b1d6eb0b2116334d41cdbba4);\n",
       "            \n",
       "        \n",
       "\n",
       "        marker_4677b79cbe5f2968e7889333f93cce60.bindPopup(popup_df827ecdeb6610934f0e7f99c50c3b44)\n",
       "        ;\n",
       "\n",
       "        \n",
       "    \n",
       "    \n",
       "            var marker_ce05eed24c0811a7621d07077c9e7263 = L.marker(\n",
       "                [52.592733578000036, -1.458626737999964],\n",
       "                {}\n",
       "            ).addTo(map_17dc368c201802a60296b8d806ce7f41);\n",
       "        \n",
       "    \n",
       "        var popup_081f49d8be86c0b9e897b844257cda51 = L.popup({&quot;maxWidth&quot;: &quot;100%&quot;});\n",
       "\n",
       "        \n",
       "            \n",
       "                var html_9d55182599e68a3ba4ceef13f34f1786 = $(`&lt;div id=&quot;html_9d55182599e68a3ba4ceef13f34f1786&quot; style=&quot;width: 100.0%; height: 100.0%;&quot;&gt;NathJH: @SoyLagoF1 Hahaha that’s actually genius! I hate football atm so this was nice to watch 😂&lt;/div&gt;`)[0];\n",
       "                popup_081f49d8be86c0b9e897b844257cda51.setContent(html_9d55182599e68a3ba4ceef13f34f1786);\n",
       "            \n",
       "        \n",
       "\n",
       "        marker_ce05eed24c0811a7621d07077c9e7263.bindPopup(popup_081f49d8be86c0b9e897b844257cda51)\n",
       "        ;\n",
       "\n",
       "        \n",
       "    \n",
       "    \n",
       "            var marker_6096d9a3290a8ebe10fecf04c6eba33a = L.marker(\n",
       "                [33.98105000000004, -81.23594999999995],\n",
       "                {}\n",
       "            ).addTo(map_17dc368c201802a60296b8d806ce7f41);\n",
       "        \n",
       "    \n",
       "        var popup_aec309b462b0ed5de0e29d3e76693a17 = L.popup({&quot;maxWidth&quot;: &quot;100%&quot;});\n",
       "\n",
       "        \n",
       "            \n",
       "                var html_f08e1c143544333564e759523c79379a = $(`&lt;div id=&quot;html_f08e1c143544333564e759523c79379a&quot; style=&quot;width: 100.0%; height: 100.0%;&quot;&gt;SpursUpNation: @aztekjlovett @SpurYrNthusiasm @dpbratcher @Vol_Football @Qbjayy7 Pursue is ass&lt;/div&gt;`)[0];\n",
       "                popup_aec309b462b0ed5de0e29d3e76693a17.setContent(html_f08e1c143544333564e759523c79379a);\n",
       "            \n",
       "        \n",
       "\n",
       "        marker_6096d9a3290a8ebe10fecf04c6eba33a.bindPopup(popup_aec309b462b0ed5de0e29d3e76693a17)\n",
       "        ;\n",
       "\n",
       "        \n",
       "    \n",
       "    \n",
       "            var marker_3ba689462b21b7ff237218f12ffd967e = L.marker(\n",
       "                [37.72832000000005, -122.15855999999997],\n",
       "                {}\n",
       "            ).addTo(map_17dc368c201802a60296b8d806ce7f41);\n",
       "        \n",
       "    \n",
       "        var popup_f4064aa72118345b56b81fa5b6f174c6 = L.popup({&quot;maxWidth&quot;: &quot;100%&quot;});\n",
       "\n",
       "        \n",
       "            \n",
       "                var html_dcb5b63e4767cb7e0056801b3c21f904 = $(`&lt;div id=&quot;html_dcb5b63e4767cb7e0056801b3c21f904&quot; style=&quot;width: 100.0%; height: 100.0%;&quot;&gt;youngindev26: @ExpoRecruits https://t.co/9yPh9kZgv0 Devan Daniels co 23 5’9 165 |ATH| San Leandro HS 1493 Apy (15 Tds) Offers (2) Track/ Football&lt;/div&gt;`)[0];\n",
       "                popup_f4064aa72118345b56b81fa5b6f174c6.setContent(html_dcb5b63e4767cb7e0056801b3c21f904);\n",
       "            \n",
       "        \n",
       "\n",
       "        marker_3ba689462b21b7ff237218f12ffd967e.bindPopup(popup_f4064aa72118345b56b81fa5b6f174c6)\n",
       "        ;\n",
       "\n",
       "        \n",
       "    \n",
       "    \n",
       "            var marker_47d85d3d964a1e751ad1304d48f6d098 = L.marker(\n",
       "                [32.71568000000008, -117.16170999999997],\n",
       "                {}\n",
       "            ).addTo(map_17dc368c201802a60296b8d806ce7f41);\n",
       "        \n",
       "    \n",
       "        var popup_2197a6b3dbdbe6fbd91fd0fb4a136b3c = L.popup({&quot;maxWidth&quot;: &quot;100%&quot;});\n",
       "\n",
       "        \n",
       "            \n",
       "                var html_2ef32a70bc2887a1ea45caf8e5a05ec0 = $(`&lt;div id=&quot;html_2ef32a70bc2887a1ea45caf8e5a05ec0&quot; style=&quot;width: 100.0%; height: 100.0%;&quot;&gt;Wavethoven: Why Crips always love red football teams?&lt;/div&gt;`)[0];\n",
       "                popup_2197a6b3dbdbe6fbd91fd0fb4a136b3c.setContent(html_2ef32a70bc2887a1ea45caf8e5a05ec0);\n",
       "            \n",
       "        \n",
       "\n",
       "        marker_47d85d3d964a1e751ad1304d48f6d098.bindPopup(popup_2197a6b3dbdbe6fbd91fd0fb4a136b3c)\n",
       "        ;\n",
       "\n",
       "        \n",
       "    \n",
       "    \n",
       "            var marker_2399e53f6f255af3cc4cfe9c00d466c7 = L.marker(\n",
       "                [53.450000000000045, -2.2333299999999667],\n",
       "                {}\n",
       "            ).addTo(map_17dc368c201802a60296b8d806ce7f41);\n",
       "        \n",
       "    \n",
       "        var popup_d547809b38b219a23db037aa331e463e = L.popup({&quot;maxWidth&quot;: &quot;100%&quot;});\n",
       "\n",
       "        \n",
       "            \n",
       "                var html_3c0894394e0d244a484456a83de16819 = $(`&lt;div id=&quot;html_3c0894394e0d244a484456a83de16819&quot; style=&quot;width: 100.0%; height: 100.0%;&quot;&gt;PSCL_09: ℹ️Learn more about our football and how we help power grassroots sports around Greater Manchester: https://t.co/by1XhSrhc4 https://t.co/JLCLzZN4SP&lt;/div&gt;`)[0];\n",
       "                popup_d547809b38b219a23db037aa331e463e.setContent(html_3c0894394e0d244a484456a83de16819);\n",
       "            \n",
       "        \n",
       "\n",
       "        marker_2399e53f6f255af3cc4cfe9c00d466c7.bindPopup(popup_d547809b38b219a23db037aa331e463e)\n",
       "        ;\n",
       "\n",
       "        \n",
       "    \n",
       "    \n",
       "            var marker_11d847dc408d20e2aa59d9bcbe5047f1 = L.marker(\n",
       "                [34.14491400000003, -118.12955899999997],\n",
       "                {}\n",
       "            ).addTo(map_17dc368c201802a60296b8d806ce7f41);\n",
       "        \n",
       "    \n",
       "        var popup_d2a1c134b5e55eb8cd4baa29a3726a0f = L.popup({&quot;maxWidth&quot;: &quot;100%&quot;});\n",
       "\n",
       "        \n",
       "            \n",
       "                var html_007a450c297254da0ea154c3b58d7dce = $(`&lt;div id=&quot;html_007a450c297254da0ea154c3b58d7dce&quot; style=&quot;width: 100.0%; height: 100.0%;&quot;&gt;yaboiLdub5: Going with the Eagles to win in this game but won’t be mad either way.  Love watching the Niners defense and weapons, I think the Eagles secondary makes more plays to win this game.  Best offensive and defensive lines in football should be great to watch. #NFCChampionshipGame&lt;/div&gt;`)[0];\n",
       "                popup_d2a1c134b5e55eb8cd4baa29a3726a0f.setContent(html_007a450c297254da0ea154c3b58d7dce);\n",
       "            \n",
       "        \n",
       "\n",
       "        marker_11d847dc408d20e2aa59d9bcbe5047f1.bindPopup(popup_d2a1c134b5e55eb8cd4baa29a3726a0f)\n",
       "        ;\n",
       "\n",
       "        \n",
       "    \n",
       "    \n",
       "            var marker_c6424fa6cc4f09fdfa6b1cea78d171d6 = L.marker(\n",
       "                [41.884250000000065, -87.63244999999995],\n",
       "                {}\n",
       "            ).addTo(map_17dc368c201802a60296b8d806ce7f41);\n",
       "        \n",
       "    \n",
       "        var popup_f9b1682786f3913c2389e5f438779cb9 = L.popup({&quot;maxWidth&quot;: &quot;100%&quot;});\n",
       "\n",
       "        \n",
       "            \n",
       "                var html_f4dc36d70e153a6be1300dc02f71af99 = $(`&lt;div id=&quot;html_f4dc36d70e153a6be1300dc02f71af99&quot; style=&quot;width: 100.0%; height: 100.0%;&quot;&gt;Bairkothmann21: Annual first week without cowboys football tweet. I hate it here https://t.co/b8iNidZ1yV&lt;/div&gt;`)[0];\n",
       "                popup_f9b1682786f3913c2389e5f438779cb9.setContent(html_f4dc36d70e153a6be1300dc02f71af99);\n",
       "            \n",
       "        \n",
       "\n",
       "        marker_c6424fa6cc4f09fdfa6b1cea78d171d6.bindPopup(popup_f9b1682786f3913c2389e5f438779cb9)\n",
       "        ;\n",
       "\n",
       "        \n",
       "    \n",
       "    \n",
       "            var marker_7f287bab564071adff10dd311761b531 = L.marker(\n",
       "                [37.77956000000006, -122.40739999999994],\n",
       "                {}\n",
       "            ).addTo(map_17dc368c201802a60296b8d806ce7f41);\n",
       "        \n",
       "    \n",
       "        var popup_d19a907b73fee76745e9965067e48b26 = L.popup({&quot;maxWidth&quot;: &quot;100%&quot;});\n",
       "\n",
       "        \n",
       "            \n",
       "                var html_db68411d8ae791c03486fd1a238705c8 = $(`&lt;div id=&quot;html_db68411d8ae791c03486fd1a238705c8&quot; style=&quot;width: 100.0%; height: 100.0%;&quot;&gt;TheDailyPretzel: @jlstelly @nypost Come back later if you want to argue it’s time for football you are a football fan right😎&lt;/div&gt;`)[0];\n",
       "                popup_d19a907b73fee76745e9965067e48b26.setContent(html_db68411d8ae791c03486fd1a238705c8);\n",
       "            \n",
       "        \n",
       "\n",
       "        marker_7f287bab564071adff10dd311761b531.bindPopup(popup_d19a907b73fee76745e9965067e48b26)\n",
       "        ;\n",
       "\n",
       "        \n",
       "    \n",
       "    \n",
       "            var marker_76de9e251f61616b6a2906a4ae914e3a = L.marker(\n",
       "                [39.837414990103525, -83.2857549997446],\n",
       "                {}\n",
       "            ).addTo(map_17dc368c201802a60296b8d806ce7f41);\n",
       "        \n",
       "    \n",
       "        var popup_ac6dd1f4697fe15d6e45502b8bda9bbd = L.popup({&quot;maxWidth&quot;: &quot;100%&quot;});\n",
       "\n",
       "        \n",
       "            \n",
       "                var html_d73b538d997d123c1763d222b4da6081 = $(`&lt;div id=&quot;html_d73b538d997d123c1763d222b4da6081&quot; style=&quot;width: 100.0%; height: 100.0%;&quot;&gt;Martinelli4L: @1PonYe @WelBeast Warra European football for Chelshit next season&lt;/div&gt;`)[0];\n",
       "                popup_ac6dd1f4697fe15d6e45502b8bda9bbd.setContent(html_d73b538d997d123c1763d222b4da6081);\n",
       "            \n",
       "        \n",
       "\n",
       "        marker_76de9e251f61616b6a2906a4ae914e3a.bindPopup(popup_ac6dd1f4697fe15d6e45502b8bda9bbd)\n",
       "        ;\n",
       "\n",
       "        \n",
       "    \n",
       "    \n",
       "            var marker_8cb8e8569114bd2887587024aa0b4020 = L.marker(\n",
       "                [25.269510000000025, 55.30884000000003],\n",
       "                {}\n",
       "            ).addTo(map_17dc368c201802a60296b8d806ce7f41);\n",
       "        \n",
       "    \n",
       "        var popup_59f5a72dd602d6128c8caa00ca327ea7 = L.popup({&quot;maxWidth&quot;: &quot;100%&quot;});\n",
       "\n",
       "        \n",
       "            \n",
       "                var html_3cdde7f4bfbe6d7e0f80ac545591921d = $(`&lt;div id=&quot;html_3cdde7f4bfbe6d7e0f80ac545591921d&quot; style=&quot;width: 100.0%; height: 100.0%;&quot;&gt;PedroBCorreia: @ssc_sports @SaudiSuperCup Final 🇸🇦 ⚽️  🎙📺 🏴󠁧󠁢󠁥󠁮󠁧󠁿 #Worldfeed 🌍  @ittihad_en 2 X 0 @Alfaihaclub  #UAEProLeague #UAEFootballMedia #RoshnSaudiLeague #Ronaldo #Football #Broadcast #Portugal #UAE #Dubai&lt;/div&gt;`)[0];\n",
       "                popup_59f5a72dd602d6128c8caa00ca327ea7.setContent(html_3cdde7f4bfbe6d7e0f80ac545591921d);\n",
       "            \n",
       "        \n",
       "\n",
       "        marker_8cb8e8569114bd2887587024aa0b4020.bindPopup(popup_59f5a72dd602d6128c8caa00ca327ea7)\n",
       "        ;\n",
       "\n",
       "        \n",
       "    \n",
       "    \n",
       "            var marker_9d69d34518ca95b0dbb37ce9094ab58b = L.marker(\n",
       "                [39.40115000000003, -107.21621999999996],\n",
       "                {}\n",
       "            ).addTo(map_17dc368c201802a60296b8d806ce7f41);\n",
       "        \n",
       "    \n",
       "        var popup_bd94aadf6207149e2aa68326b0c88e17 = L.popup({&quot;maxWidth&quot;: &quot;100%&quot;});\n",
       "\n",
       "        \n",
       "            \n",
       "                var html_6a8b5922fecdb3336fa27cb8eafb3ccf = $(`&lt;div id=&quot;html_6a8b5922fecdb3336fa27cb8eafb3ccf&quot; style=&quot;width: 100.0%; height: 100.0%;&quot;&gt;WhiteHousePiza: Who&amp;#39;s going to the Super Bowl? Come watch the NFC &amp;amp;amp; AFC Championship games with us and cheer on your team! 🏈  #nfl #nfc #afc #gameday #football #carbondalesportssource #lovepizza #eatlocal #whitehousepizza #carbondale #colorado #roaringforkvalley https://t.co/HLsYb3WfMJ&lt;/div&gt;`)[0];\n",
       "                popup_bd94aadf6207149e2aa68326b0c88e17.setContent(html_6a8b5922fecdb3336fa27cb8eafb3ccf);\n",
       "            \n",
       "        \n",
       "\n",
       "        marker_9d69d34518ca95b0dbb37ce9094ab58b.bindPopup(popup_bd94aadf6207149e2aa68326b0c88e17)\n",
       "        ;\n",
       "\n",
       "        \n",
       "    \n",
       "    \n",
       "            var marker_c7b494e0e2b6417a35cc5b5fd8a1f4f3 = L.marker(\n",
       "                [35.582683950000046, -97.50859936099994],\n",
       "                {}\n",
       "            ).addTo(map_17dc368c201802a60296b8d806ce7f41);\n",
       "        \n",
       "    \n",
       "        var popup_94384999920f37b9d6240609ce353250 = L.popup({&quot;maxWidth&quot;: &quot;100%&quot;});\n",
       "\n",
       "        \n",
       "            \n",
       "                var html_0506cc4f5fbe5d0956100b7826a0abbb = $(`&lt;div id=&quot;html_0506cc4f5fbe5d0956100b7826a0abbb&quot; style=&quot;width: 100.0%; height: 100.0%;&quot;&gt;Timmy_O_2: @BelgerNelson @_MLFootball You do realize there’s a whole other half of a football team called a defense right? Philly has a pretty good one with a lot of good players playing on the last year of their contracts. Jalen is gonna need a good defense to keep winning.&lt;/div&gt;`)[0];\n",
       "                popup_94384999920f37b9d6240609ce353250.setContent(html_0506cc4f5fbe5d0956100b7826a0abbb);\n",
       "            \n",
       "        \n",
       "\n",
       "        marker_c7b494e0e2b6417a35cc5b5fd8a1f4f3.bindPopup(popup_94384999920f37b9d6240609ce353250)\n",
       "        ;\n",
       "\n",
       "        \n",
       "    \n",
       "    \n",
       "            var marker_02d9aa8dd8be8b8b46763801de2e3e7d = L.marker(\n",
       "                [34.10524000000004, -117.29411999999996],\n",
       "                {}\n",
       "            ).addTo(map_17dc368c201802a60296b8d806ce7f41);\n",
       "        \n",
       "    \n",
       "        var popup_8f62d8f9b48aa69f5200359ef8f19c7e = L.popup({&quot;maxWidth&quot;: &quot;100%&quot;});\n",
       "\n",
       "        \n",
       "            \n",
       "                var html_06d041bf274d3cc0e69857ec02134978 = $(`&lt;div id=&quot;html_06d041bf274d3cc0e69857ec02134978&quot; style=&quot;width: 100.0%; height: 100.0%;&quot;&gt;AwfulSer: Crazy headache for game day???? Wow thanks football gods!!!!&lt;/div&gt;`)[0];\n",
       "                popup_8f62d8f9b48aa69f5200359ef8f19c7e.setContent(html_06d041bf274d3cc0e69857ec02134978);\n",
       "            \n",
       "        \n",
       "\n",
       "        marker_02d9aa8dd8be8b8b46763801de2e3e7d.bindPopup(popup_8f62d8f9b48aa69f5200359ef8f19c7e)\n",
       "        ;\n",
       "\n",
       "        \n",
       "    \n",
       "    \n",
       "            var marker_35cef2f5e73a19ce0b1fb5bcd667f102 = L.marker(\n",
       "                [33.60053000000005, -7.491079999999954],\n",
       "                {}\n",
       "            ).addTo(map_17dc368c201802a60296b8d806ce7f41);\n",
       "        \n",
       "    \n",
       "        var popup_cc8bd77323241a8820ea1ba76644ed2e = L.popup({&quot;maxWidth&quot;: &quot;100%&quot;});\n",
       "\n",
       "        \n",
       "            \n",
       "                var html_9c0447c936e8e50bb5de2916e5dcbcf3 = $(`&lt;div id=&quot;html_9c0447c936e8e50bb5de2916e5dcbcf3&quot; style=&quot;width: 100.0%; height: 100.0%;&quot;&gt;afuckingmohawk: Not a football fan but I root for the bay and the underdog always. Niners victory would be extra sweet today&lt;/div&gt;`)[0];\n",
       "                popup_cc8bd77323241a8820ea1ba76644ed2e.setContent(html_9c0447c936e8e50bb5de2916e5dcbcf3);\n",
       "            \n",
       "        \n",
       "\n",
       "        marker_35cef2f5e73a19ce0b1fb5bcd667f102.bindPopup(popup_cc8bd77323241a8820ea1ba76644ed2e)\n",
       "        ;\n",
       "\n",
       "        \n",
       "    \n",
       "    \n",
       "            var marker_fe029b66087d778f0c3767574360d137 = L.marker(\n",
       "                [23.379379735000043, 79.44332654800007],\n",
       "                {}\n",
       "            ).addTo(map_17dc368c201802a60296b8d806ce7f41);\n",
       "        \n",
       "    \n",
       "        var popup_ab4166102d39f84858e9c7368e9f82ca = L.popup({&quot;maxWidth&quot;: &quot;100%&quot;});\n",
       "\n",
       "        \n",
       "            \n",
       "                var html_7454eb31faacf4f6ce2888c4d4db2b1d = $(`&lt;div id=&quot;html_7454eb31faacf4f6ce2888c4d4db2b1d&quot; style=&quot;width: 100.0%; height: 100.0%;&quot;&gt;athencole: @SQD05 Bt i think club football is very much crazier for football fans they value it too much too Cricket myt go that way soon..inevitable now&lt;/div&gt;`)[0];\n",
       "                popup_ab4166102d39f84858e9c7368e9f82ca.setContent(html_7454eb31faacf4f6ce2888c4d4db2b1d);\n",
       "            \n",
       "        \n",
       "\n",
       "        marker_fe029b66087d778f0c3767574360d137.bindPopup(popup_ab4166102d39f84858e9c7368e9f82ca)\n",
       "        ;\n",
       "\n",
       "        \n",
       "    \n",
       "    \n",
       "            var marker_1ebead53c214e0c74c45bfcaaaa5374e = L.marker(\n",
       "                [39.39870315600007, -99.41461918999994],\n",
       "                {}\n",
       "            ).addTo(map_17dc368c201802a60296b8d806ce7f41);\n",
       "        \n",
       "    \n",
       "        var popup_4046a631bf80f9ef41751ed742672eaa = L.popup({&quot;maxWidth&quot;: &quot;100%&quot;});\n",
       "\n",
       "        \n",
       "            \n",
       "                var html_48b6340aeced73481a63919a8d3b2693 = $(`&lt;div id=&quot;html_48b6340aeced73481a63919a8d3b2693&quot; style=&quot;width: 100.0%; height: 100.0%;&quot;&gt;newsnowday: #SPORTS &amp;#39;BANGING ON DOORS&amp;#39;:Georgia football star Stetson Bennett arrested on public intoxication charge -FoxNews #usnews #foxnews #dailynews  https://t.co/1yOPgbkIsV&lt;/div&gt;`)[0];\n",
       "                popup_4046a631bf80f9ef41751ed742672eaa.setContent(html_48b6340aeced73481a63919a8d3b2693);\n",
       "            \n",
       "        \n",
       "\n",
       "        marker_1ebead53c214e0c74c45bfcaaaa5374e.bindPopup(popup_4046a631bf80f9ef41751ed742672eaa)\n",
       "        ;\n",
       "\n",
       "        \n",
       "    \n",
       "    \n",
       "            var marker_c2f523a39c05cecac22b8916b9cddfe3 = L.marker(\n",
       "                [39.103440000000035, -94.58310999999998],\n",
       "                {}\n",
       "            ).addTo(map_17dc368c201802a60296b8d806ce7f41);\n",
       "        \n",
       "    \n",
       "        var popup_c09b1042b01b39f6f7a6c84ae4df13a8 = L.popup({&quot;maxWidth&quot;: &quot;100%&quot;});\n",
       "\n",
       "        \n",
       "            \n",
       "                var html_81114405d7f3d8dc56f17bb0ae496926 = $(`&lt;div id=&quot;html_81114405d7f3d8dc56f17bb0ae496926&quot; style=&quot;width: 100.0%; height: 100.0%;&quot;&gt;Akr_Baby: Who&amp;#39;s ready to for some football!?!?  We out here like always. Let&amp;#39;s Go! #ChiefsKingdom https://t.co/PNJbdd80Ds&lt;/div&gt;`)[0];\n",
       "                popup_c09b1042b01b39f6f7a6c84ae4df13a8.setContent(html_81114405d7f3d8dc56f17bb0ae496926);\n",
       "            \n",
       "        \n",
       "\n",
       "        marker_c2f523a39c05cecac22b8916b9cddfe3.bindPopup(popup_c09b1042b01b39f6f7a6c84ae4df13a8)\n",
       "        ;\n",
       "\n",
       "        \n",
       "    \n",
       "    \n",
       "            var marker_c6343288125884dd5131dd85c834ab5a = L.marker(\n",
       "                [31.23402777800004, -94.74999999999994],\n",
       "                {}\n",
       "            ).addTo(map_17dc368c201802a60296b8d806ce7f41);\n",
       "        \n",
       "    \n",
       "        var popup_39ee566c4e86422aa15cffa3d5e34ee5 = L.popup({&quot;maxWidth&quot;: &quot;100%&quot;});\n",
       "\n",
       "        \n",
       "            \n",
       "                var html_4ed4b57034ca07be25fc0c1451824711 = $(`&lt;div id=&quot;html_4ed4b57034ca07be25fc0c1451824711&quot; style=&quot;width: 100.0%; height: 100.0%;&quot;&gt;CasperCorps: @Michael25782778 @DC_Draino Just wait till football season is over, that glitchy ass video was just a stop gap to get them across the finish line.&lt;/div&gt;`)[0];\n",
       "                popup_39ee566c4e86422aa15cffa3d5e34ee5.setContent(html_4ed4b57034ca07be25fc0c1451824711);\n",
       "            \n",
       "        \n",
       "\n",
       "        marker_c6343288125884dd5131dd85c834ab5a.bindPopup(popup_39ee566c4e86422aa15cffa3d5e34ee5)\n",
       "        ;\n",
       "\n",
       "        \n",
       "    \n",
       "    \n",
       "            var marker_31ca42567ce9922b62a89bcc948ffd53 = L.marker(\n",
       "                [33.987540000000024, -118.47214999999994],\n",
       "                {}\n",
       "            ).addTo(map_17dc368c201802a60296b8d806ce7f41);\n",
       "        \n",
       "    \n",
       "        var popup_cc9c3db87266a22fda83c8dafde12dc7 = L.popup({&quot;maxWidth&quot;: &quot;100%&quot;});\n",
       "\n",
       "        \n",
       "            \n",
       "                var html_ef422632c64c74fb41799d695d7c4575 = $(`&lt;div id=&quot;html_ef422632c64c74fb41799d695d7c4575&quot; style=&quot;width: 100.0%; height: 100.0%;&quot;&gt;YogiRoth: If you need something to listen to alongside the #Eagles Vs #Niners take a listen to @brit_covey2 share what it’s like to be in the #NFL #NFLPlayoffs #NFLTwitter   🎧: https://t.co/a5YC1vSJRv  @Utah_Football @utahathletics @Eagles&lt;/div&gt;`)[0];\n",
       "                popup_cc9c3db87266a22fda83c8dafde12dc7.setContent(html_ef422632c64c74fb41799d695d7c4575);\n",
       "            \n",
       "        \n",
       "\n",
       "        marker_31ca42567ce9922b62a89bcc948ffd53.bindPopup(popup_cc9c3db87266a22fda83c8dafde12dc7)\n",
       "        ;\n",
       "\n",
       "        \n",
       "    \n",
       "    \n",
       "            var marker_c10b2e9e50290dac77a84cc4da70d167 = L.marker(\n",
       "                [40.692360000000065, -89.58798999999999],\n",
       "                {}\n",
       "            ).addTo(map_17dc368c201802a60296b8d806ce7f41);\n",
       "        \n",
       "    \n",
       "        var popup_dba746f33840965bd5caaf635d7e81b5 = L.popup({&quot;maxWidth&quot;: &quot;100%&quot;});\n",
       "\n",
       "        \n",
       "            \n",
       "                var html_c88736d942692fb99a49674506ffe7e9 = $(`&lt;div id=&quot;html_c88736d942692fb99a49674506ffe7e9&quot; style=&quot;width: 100.0%; height: 100.0%;&quot;&gt;BigAlsSpeakeasy: There&amp;#39;s NO BETTER PLACE TO BE than Big Al&amp;#39;s! IT&amp;#39;S 7C SUNDAY! Drinks are cold and the entertainment is HOT!  . . . #7centSunday #beer #beerlover #cheapbeer #draftbeer #coldbeer #sundayvibe #BOTTOMSUP #drink #football #tithes #bigals #bigalspeoria #speakeasy #stripclub #peoriaIL https://t.co/yGZAdqfXsO&lt;/div&gt;`)[0];\n",
       "                popup_dba746f33840965bd5caaf635d7e81b5.setContent(html_c88736d942692fb99a49674506ffe7e9);\n",
       "            \n",
       "        \n",
       "\n",
       "        marker_c10b2e9e50290dac77a84cc4da70d167.bindPopup(popup_dba746f33840965bd5caaf635d7e81b5)\n",
       "        ;\n",
       "\n",
       "        \n",
       "    \n",
       "    \n",
       "            var marker_a28f62e1c94ec93998fa1606511036d4 = L.marker(\n",
       "                [26.482240000000047, 80.26820000000004],\n",
       "                {}\n",
       "            ).addTo(map_17dc368c201802a60296b8d806ce7f41);\n",
       "        \n",
       "    \n",
       "        var popup_2b773bfd3b230a63f6205f9e9920385e = L.popup({&quot;maxWidth&quot;: &quot;100%&quot;});\n",
       "\n",
       "        \n",
       "            \n",
       "                var html_348aaca39ec7b048af9b343e66d05fd2 = $(`&lt;div id=&quot;html_348aaca39ec7b048af9b343e66d05fd2&quot; style=&quot;width: 100.0%; height: 100.0%;&quot;&gt;Kingthames23: Why do pass rushers make more than anyone in football aside from quarterbacks? Today is your answer. The 4 teams left have the best defensive fronts in the league&lt;/div&gt;`)[0];\n",
       "                popup_2b773bfd3b230a63f6205f9e9920385e.setContent(html_348aaca39ec7b048af9b343e66d05fd2);\n",
       "            \n",
       "        \n",
       "\n",
       "        marker_a28f62e1c94ec93998fa1606511036d4.bindPopup(popup_2b773bfd3b230a63f6205f9e9920385e)\n",
       "        ;\n",
       "\n",
       "        \n",
       "    \n",
       "    \n",
       "            var marker_aa50a5c7bffb2f0df1e8e6918a2a9f3d = L.marker(\n",
       "                [51.56153337200004, -1.7854462699999658],\n",
       "                {}\n",
       "            ).addTo(map_17dc368c201802a60296b8d806ce7f41);\n",
       "        \n",
       "    \n",
       "        var popup_0673f1709f4e698bfb7405ec210be33b = L.popup({&quot;maxWidth&quot;: &quot;100%&quot;});\n",
       "\n",
       "        \n",
       "            \n",
       "                var html_cde689256ae7ad329870e2ecd2c7d086 = $(`&lt;div id=&quot;html_cde689256ae7ad329870e2ecd2c7d086&quot; style=&quot;width: 100.0%; height: 100.0%;&quot;&gt;JamesOnYSS: A big shout out to @MSmithimages for catching me this afternoon trying to understand what football is and why they are kicking it, not picking it up and running with it #thisisnotrugby lol.  @RWBTFC @RWBassetRFC @swsportsnews @happyeggshaped @RugbyClubland @fyb_rugby https://t.co/gVnnuXZCra&lt;/div&gt;`)[0];\n",
       "                popup_0673f1709f4e698bfb7405ec210be33b.setContent(html_cde689256ae7ad329870e2ecd2c7d086);\n",
       "            \n",
       "        \n",
       "\n",
       "        marker_aa50a5c7bffb2f0df1e8e6918a2a9f3d.bindPopup(popup_0673f1709f4e698bfb7405ec210be33b)\n",
       "        ;\n",
       "\n",
       "        \n",
       "    \n",
       "    \n",
       "            var marker_e79da8f13d50d71ae4bc269e15c09e12 = L.marker(\n",
       "                [55.822340000000054, 49.14709000000005],\n",
       "                {}\n",
       "            ).addTo(map_17dc368c201802a60296b8d806ce7f41);\n",
       "        \n",
       "    \n",
       "        var popup_dc8803c082a244a38954251cb91750db = L.popup({&quot;maxWidth&quot;: &quot;100%&quot;});\n",
       "\n",
       "        \n",
       "            \n",
       "                var html_68de6d102bf6dc16ee2a26d7efb7342c = $(`&lt;div id=&quot;html_68de6d102bf6dc16ee2a26d7efb7342c&quot; style=&quot;width: 100.0%; height: 100.0%;&quot;&gt;junosbigtoe: this is like spooky cult vibes. come to our football game it’ll make you a man. mmm gray. 😷 https://t.co/jCWUqmxzIy&lt;/div&gt;`)[0];\n",
       "                popup_dc8803c082a244a38954251cb91750db.setContent(html_68de6d102bf6dc16ee2a26d7efb7342c);\n",
       "            \n",
       "        \n",
       "\n",
       "        marker_e79da8f13d50d71ae4bc269e15c09e12.bindPopup(popup_dc8803c082a244a38954251cb91750db)\n",
       "        ;\n",
       "\n",
       "        \n",
       "    \n",
       "&lt;/script&gt;\n",
       "&lt;/html&gt;\" style=\"position:absolute;width:100%;height:100%;left:0;top:0;border:none !important;\" allowfullscreen webkitallowfullscreen mozallowfullscreen></iframe></div></div>"
      ],
      "text/plain": [
       "<folium.folium.Map at 0x1a7033b50>"
      ]
     },
     "execution_count": 69,
     "metadata": {},
     "output_type": "execute_result"
    }
   ],
   "source": [
    "usmap # displays the map in the notebook"
   ]
  },
  {
   "cell_type": "markdown",
   "metadata": {},
   "source": [
    "## 12.15.2 Utility Functions in `tweetutilities.py` \n",
    "### `get_tweet_content` Utility Function \n",
    "* Receives a **`StreamResponse` object (`response`)** and creates a **dictionary** containing the **tweet’s `username`, `text` and `location`**\n",
    "\n",
    "```python\n",
    "def get_tweet_content(response):\n",
    "    \"\"\"Return dictionary with data from tweet.\"\"\"\n",
    "    fields = {}\n",
    "    fields['username'] = response.includes['users'][0].username\n",
    "    fields['text'] = response.data.text\n",
    "    fields['location'] = response.includes['users'][0].location\n",
    "\n",
    "    return fields\n",
    "```"
   ]
  },
  {
   "cell_type": "markdown",
   "metadata": {},
   "source": [
    "### `get_geocodes` Utility Function \n",
    "* Receives a list of dictionaries containing tweets and **geocodes their locations**\n",
    "* If geocoding is successful for a tweet, adds the **latitude** and **longitude** to the tweet’s **dictionary in `tweet_list`**\n",
    "* Requires class **`OpenMapQuest`** from the **geopy module**\n",
    "\n",
    "```python\n",
    "from geopy import OpenMapQuest\n",
    "```\n",
    "\n",
    "```python\n",
    "def get_geocodes(tweet_list):\n",
    "    \"\"\"Get the latitude and longitude for each tweet's location.\n",
    "    Returns the number of tweets with invalid location data.\"\"\"\n",
    "    print('Getting coordinates for tweet locations...')\n",
    "    geo = OpenMapQuest(api_key=keys.mapquest_key)  # geocoder\n",
    "    bad_locations = 0  \n",
    "\n",
    "    for tweet in tweet_list:\n",
    "        processed = False\n",
    "        delay = .1  # used if OpenMapQuest times out to delay next call\n",
    "        while not processed:\n",
    "            try:  # get coordinates for tweet['location']\n",
    "                geo_location = geo.geocode(tweet['location'])\n",
    "                processed = True\n",
    "            except:  # timed out, so wait before trying again\n",
    "                print('OpenMapQuest service timed out. Waiting.')\n",
    "                time.sleep(delay)\n",
    "                delay += .1\n",
    "\n",
    "        if geo_location:  \n",
    "            tweet['latitude'] = geo_location.latitude\n",
    "            tweet['longitude'] = geo_location.longitude\n",
    "        else:  \n",
    "            bad_locations += 1  # tweet['location'] was invalid\n",
    "    \n",
    "    print('Done geocoding')\n",
    "    return bad_locations\n",
    "\n",
    "```"
   ]
  },
  {
   "cell_type": "markdown",
   "metadata": {},
   "source": [
    "### `get_geocodes` Utility Function (cont.)\n",
    "* Creates the **`OpenMapQuest` object** we’ll use to geocode locations\n",
    "* Initializes **`bad_locations`** which we use to keep track of the number of invalid locations in the tweet objects we collected\n",
    "* Attempts to **geocode the current tweet’s location**\n",
    "* Prints a message that it’s done geocoding and returns the `bad_locations` value"
   ]
  },
  {
   "cell_type": "markdown",
   "metadata": {},
   "source": [
    "## 12.15.3 Class `LocationListener`\n",
    "```python\n",
    "# locationlistener.py\n",
    "\"\"\"Receives tweets matching a search string and stores a list of\n",
    "dictionaries containing each tweet's username/text/location.\"\"\"\n",
    "import tweepy\n",
    "from tweetutilities import get_tweet_content\n",
    "\n",
    "class LocationListener(tweepy.StreamingClient):\n",
    "    \"\"\"Handles incoming Tweet stream to get location data.\"\"\"\n",
    "```"
   ]
  },
  {
   "cell_type": "markdown",
   "metadata": {},
   "source": [
    "```python\n",
    "    def __init__(self, bearer_token, counts_dict, \n",
    "                 tweets_list, topic, limit=10):\n",
    "        \"\"\"Configure the LocationListener.\"\"\"\n",
    "        self.tweets_list = tweets_list\n",
    "        self.counts_dict = counts_dict\n",
    "        self.topic = topic\n",
    "        self.TWEET_LIMIT = limit\n",
    "        super().__init__(bearer_token, wait_on_rate_limit=True)\n",
    "```"
   ]
  },
  {
   "cell_type": "markdown",
   "metadata": {},
   "source": [
    "```python\n",
    "    def on_response(self, response):\n",
    "        \"\"\"Called when Twitter pushes a new tweet to you.\"\"\"\n",
    "\n",
    "        # get each tweet's username, text and location\n",
    "        tweet_data = get_tweet_content(response)  \n",
    "\n",
    "        # ignore retweets and tweets that do not contain the topic\n",
    "        if (tweet_data['text'].startswith('RT') or\n",
    "            self.topic.lower() not in tweet_data['text'].lower()):\n",
    "            return\n",
    "\n",
    "        self.counts_dict['total_tweets'] += 1 # it's an original tweet\n",
    "\n",
    "        # ignore tweets with no location \n",
    "        if not tweet_data.get('location'):  \n",
    "            return\n",
    "\n",
    "        self.counts_dict['locations'] += 1 # user account has location\n",
    "        self.tweets_list.append(tweet_data) # store the tweet\n",
    "        print(f\"{tweet_data['username']}: {tweet_data['text']}\\n\")\n",
    "        \n",
    "        # if TWEET_LIMIT is reached, terminate streaming\n",
    "        if self.counts_dict['locations'] == self.TWEET_LIMIT:\n",
    "            self.disconnect()\n",
    "```"
   ]
  },
  {
   "cell_type": "markdown",
   "metadata": {},
   "source": [
    "## 12.15.3 Class `LocationListener` (cont.)\n",
    "* `__init__` receives \n",
    "    * the `bearer_token` \n",
    "    * the number of tweets to process (`limit`)\n",
    "    * `counts` dictionary that we use to keep track of the total number of tweets processed\n",
    "    * `tweet_list` in which we store the dictionaries returned by the `get_tweet_content` utility function\n",
    "    * a string representing the topic so we can confirm that its text is contained in the tweet text"
   ]
  },
  {
   "cell_type": "markdown",
   "metadata": {},
   "source": [
    "## 12.15.3 Class `LocationListener` (cont.)\n",
    "* In method `on_response`\n",
    "   * Line 23 calls `get_tweet_content` to get each tweet’s screen name, text and location.\n",
    "    * Lines 26–28 ignore the tweet if it is a retweet or if the text does not include the topic we’re searching for\n",
    "    * Line 30 adds 1 to the value of the `'total_tweets'` key in the `counts` dictionary to track the number of original tweets\n",
    "    * Lines 33–34 ignore tweets that have no location data\n",
    "    * Line 36 adds 1 to the value of the `counts` dictionary’s `'locations'` key to indicate that we found a tweet with a location\n",
    "    * Line 37 appends the `tweet_data` dictionary to the `tweets_list`\n",
    "    * Line 38 displays the tweet’s screen name and tweet text so you can see that the app is making progress\n",
    "    * Lines 41–42 check whether the `TWEET_LIMIT` has been reached, and if so, disconnect from the stream."
   ]
  },
  {
   "cell_type": "markdown",
   "metadata": {},
   "source": [
    "------"
   ]
  },
  {
   "cell_type": "markdown",
   "metadata": {
    "jp-MarkdownHeadingCollapsed": true,
    "tags": []
   },
   "source": [
    "# More Info \n",
    "* See Lesson 12 in [**Python Fundamentals LiveLessons** here on O'Reilly Online Learning](https://learning.oreilly.com/videos/python-fundamentals/9780135917411)\n",
    "* See Chapter 12 in [**Python for Programmers** on O'Reilly Online Learning](https://learning.oreilly.com/library/view/python-for-programmers/9780135231364/)\n",
    "* See Chapter 13 in [**Intro Python for Computer Science and Data Science** on O'Reilly Online Learning](https://learning.oreilly.com/library/view/intro-to-python/9780135404799/)\n",
    "* Interested in a print book? Check out:\n",
    "\n",
    "| Python for Programmers<br>(640-page professional book) | Intro to Python for Computer<br>Science and Data Science<br>(880-page college textbook)\n",
    "| :------ | :------\n",
    "| <a href=\"https://amzn.to/2VvdnxE\"><img alt=\"Python for Programmers cover\" src=\"../images/PyFPCover.png\" width=\"150\" border=\"1\"/></a> | <a href=\"https://amzn.to/2LiDCmt\"><img alt=\"Intro to Python for Computer Science and Data Science: Learning to Program with AI, Big Data and the Cloud\" src=\"../images/IntroToPythonCover.png\" width=\"159\" border=\"1\"></a>\n",
    "\n",
    ">Please **do not** purchase both books&mdash;_Python for Programmers_ is a subset of _Intro to Python for Computer Science and Data Science_"
   ]
  },
  {
   "cell_type": "markdown",
   "metadata": {},
   "source": [
    "------\n",
    "&copy;1992&ndash;2020 by Pearson Education, Inc. All Rights Reserved. This content is based on Chapter 5 of the book [**Intro to Python for Computer Science and Data Science: Learning to Program with AI, Big Data and the Cloud**](https://amzn.to/2VvdnxE).\n",
    "\n",
    "DISCLAIMER: The authors and publisher of this book have used their \n",
    "best efforts in preparing the book. These efforts include the \n",
    "development, research, and testing of the theories and programs \n",
    "to determine their effectiveness. The authors and publisher make \n",
    "no warranty of any kind, expressed or implied, with regard to these \n",
    "programs or to the documentation contained in these books. The authors \n",
    "and publisher shall not be liable in any event for incidental or \n",
    "consequential damages in connection with, or arising out of, the \n",
    "furnishing, performance, or use of these programs.                  "
   ]
  }
 ],
 "metadata": {
  "celltoolbar": "Slideshow",
  "kernelspec": {
   "display_name": "Python 3 (ipykernel)",
   "language": "python",
   "name": "python3"
  },
  "language_info": {
   "codemirror_mode": {
    "name": "ipython",
    "version": 3
   },
   "file_extension": ".py",
   "mimetype": "text/x-python",
   "name": "python",
   "nbconvert_exporter": "python",
   "pygments_lexer": "ipython3",
   "version": "3.10.8"
  }
 },
 "nbformat": 4,
 "nbformat_minor": 4
}
