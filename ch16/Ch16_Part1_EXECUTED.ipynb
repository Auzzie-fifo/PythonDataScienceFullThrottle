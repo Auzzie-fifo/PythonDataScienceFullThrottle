{
 "cells": [
  {
   "cell_type": "markdown",
   "metadata": {},
   "source": [
    "&copy; 2019 by Pearson Education, Inc. All Rights Reserved. The content in this notebook is based on the book [**Python for Programmers**](https://amzn.to/2VvdnxE)."
   ]
  },
  {
   "cell_type": "markdown",
   "metadata": {},
   "source": [
    "# 16. Big Data: Hadoop, Spark, NoSQL and IoT "
   ]
  },
  {
   "cell_type": "code",
   "execution_count": 2,
   "metadata": {},
   "outputs": [],
   "source": [
    "# enable high-res images in notebook \n",
    "%config InlineBackend.figure_format = 'retina'\n",
    "%matplotlib inline"
   ]
  },
  {
   "cell_type": "markdown",
   "metadata": {},
   "source": [
    "# 16.1 Introduction\n",
    "### Big Data\n",
    "* Previous data-science case studies all focused on AI\n",
    "* Here, we focus on the **big-data infrastructure that supports AI solutions**\n",
    "* As **data grows exponentially**, we want to **learn** from that data&mdash;and at **blazing speed**\n",
    "* Done with **sophisticated algorithms**, hardware, software and networking designs\n",
    "* With **big data**, **machine learning** and **deep learning** can be even **more effective**"
   ]
  },
  {
   "cell_type": "markdown",
   "metadata": {},
   "source": [
    "<hr style=\"height:2px; border:none; color:#000; background-color:#000;\">"
   ]
  },
  {
   "cell_type": "markdown",
   "metadata": {},
   "source": [
    "# 16.3 NoSQL Big-Data Databases (1 of 2)\n",
    "* **Relational databases** store data in rectangular **tables**\n",
    "* **Not efficient** as **data volume** and the numbers of **tables** and **relationships between them** increases\n",
    "* Most data produced today is \n",
    "    * **Unstructured**&mdash;**photos**, **videos** and **natural language** (social-media posts, texts, ...), or\n",
    "    * **Semi-structured**&mdash;**JSON** and **XML** documents\n",
    "* **Metadata** adds structure to **unstructured data**, making it **semi-structured**\n",
    "    * **Tweets** (as you saw earlier)\n",
    "    * **YouTube videos**&mdash;**who posted** and **when**, **title**, **description**, ..."
   ]
  },
  {
   "cell_type": "markdown",
   "metadata": {},
   "source": [
    "<hr style=\"height:2px; border:none; color:#000; background-color:#000;\">"
   ]
  },
  {
   "cell_type": "markdown",
   "metadata": {},
   "source": [
    "# 16.3 NoSQL Big-Data Databases (2 of 2)\n",
    "* **NoSQL databases** are designed for \n",
    "    * **unstructured** and **semi-structured big-data** \n",
    "    * big data **storage and processing demands**\n",
    "* **Big data** requires **massive databases**, which can be spread across data centers worldwide in huge **clusters** of commodity computers\n",
    "* The name **NoSQL** originally meant what its name implies\n",
    "* With **growing use of SQL in big data**—such as **SQL on Hadoop** and **Spark SQL**—now it's said to stand for **“Not Only SQL”** "
   ]
  },
  {
   "cell_type": "markdown",
   "metadata": {},
   "source": [
    "<hr style=\"height:2px; border:none; color:#000; background-color:#000;\">"
   ]
  },
  {
   "cell_type": "markdown",
   "metadata": {},
   "source": [
    "### Four Major Types of **NoSQL Databases**\n",
    "* **key–value**\n",
    "* **document**\n",
    "* **columnar**\n",
    "* **graph**\n",
    "* Our NoSQL case study uses **MongoDB document database** &mdash; the most popular NoSQL database\n",
    "* **Overviews** of the **NoSQL database types** \n",
    "    * [**Python Fundamentals LiveLessons videos**](https://learning.oreilly.com/videos/python-fundamentals/9780135917411/9780135917411-PFLL_Lesson16_20) \n",
    "    * [**Python for Programmers, Section 16.3**](https://learning.oreilly.com/library/view/python-for-programmers/9780135231364/ch16.xhtml#ch16lev1sec3)"
   ]
  },
  {
   "cell_type": "markdown",
   "metadata": {},
   "source": [
    "<hr style=\"height:2px; border:none; color:#000; background-color:#000;\">"
   ]
  },
  {
   "cell_type": "markdown",
   "metadata": {},
   "source": [
    "# 16.4 Case Study: A MongoDB JSON Document Database \n",
    "* Store and search **JSON** for **streamed tweets** about **100 U.S. senators**\n",
    "* Summarize **top 10** by **tweet count**\n",
    "* Display **interactive map** containing **tweet count summaries**\n",
    "* I **pre-executed this example** because we stream 10,000 tweets, which can take substantial time \n",
    "* **Possible enhancement** &mdash; Use **sentiment analysis** to count **positive**, **negative** and **neutral tweets** mentioning each senator’s **handle**"
   ]
  },
  {
   "cell_type": "markdown",
   "metadata": {},
   "source": [
    "<hr style=\"height:2px; border:none; color:#000; background-color:#000;\">"
   ]
  },
  {
   "cell_type": "markdown",
   "metadata": {},
   "source": [
    "### Free Cloud-Based MongoDB Atlas Cluster \n",
    "* Requires **no installation** \n",
    "* Store up to **512MB of data**\n",
    "* Can store more with\n",
    "    * [**Free MongoDB Community Server**](https://www.mongodb.com/download-center/community), or \n",
    "    * **Paid MongoDB Atlas account**\n",
    "* **Creating your MongoDB Atlas cluster**\n",
    "    * I discuss the details of **signing up** for a MongoDB account, **creating the MongoDB Atlas Cluster**, **configuring** it and getting your **connection string** in my [**Python Fundamentals LiveLessons videos**](https://learning.oreilly.com/videos/python-fundamentals/9780135917411/9780135917411-PFLL_Lesson16_22https://learning.oreilly.com/videos/python-fundamentals/9780135917411) and in [**Python for Programmers, Section 16.4.1**](https://learning.oreilly.com/library/view/Python+for+Programmers,+First+Edition/9780135231364/ch16.xhtml#ch16lev2sec14)"
   ]
  },
  {
   "cell_type": "markdown",
   "metadata": {},
   "source": [
    "<hr style=\"height:2px; border:none; color:#000; background-color:#000;\">"
   ]
  },
  {
   "cell_type": "markdown",
   "metadata": {},
   "source": [
    "### Python Libraries Required for Interacting with MongoDB\n",
    "```\n",
    "conda install -c conda-forge pymongo\n",
    "conda install -c conda-forge dnspython\n",
    "```\n",
    "* **`pymongo` library** &mdash; interact with **MongoDB databases** from Python\n",
    "* **`dnspython` library** &mdash; used as part of connecting to a **MongoDB Atlas Cluster**"
   ]
  },
  {
   "cell_type": "markdown",
   "metadata": {},
   "source": [
    "<hr style=\"height:2px; border:none; color:#000; background-color:#000;\">"
   ]
  },
  {
   "cell_type": "markdown",
   "metadata": {},
   "source": [
    "### keys.py \n",
    "* **`keys.py`** must contain \n",
    "    * your **Twitter credentials** \n",
    "    * your **OpenMapQuest key** \n",
    "    * Your **MongoDB connection string** "
   ]
  },
  {
   "cell_type": "markdown",
   "metadata": {},
   "source": [
    "<hr style=\"height:2px; border:none; color:#000; background-color:#000;\">"
   ]
  },
  {
   "cell_type": "markdown",
   "metadata": {},
   "source": [
    "## 16.4.2 Streaming Tweets into MongoDB\n",
    "### Use Tweepy to Authenticate with Twitter and Get the API Object"
   ]
  },
  {
   "cell_type": "code",
   "execution_count": 3,
   "metadata": {},
   "outputs": [],
   "source": [
    "import tweepy, keys"
   ]
  },
  {
   "cell_type": "code",
   "execution_count": 4,
   "metadata": {},
   "outputs": [],
   "source": [
    "auth = tweepy.OAuthHandler(\n",
    "    keys.consumer_key, keys.consumer_secret)\n",
    "auth.set_access_token(keys.access_token, \n",
    "    keys.access_token_secret)"
   ]
  },
  {
   "cell_type": "code",
   "execution_count": 5,
   "metadata": {},
   "outputs": [],
   "source": [
    "api = tweepy.API(auth, wait_on_rate_limit=True, \n",
    "                 wait_on_rate_limit_notify=True)               "
   ]
  },
  {
   "cell_type": "markdown",
   "metadata": {},
   "source": [
    "<hr style=\"height:2px; border:none; color:#000; background-color:#000;\">"
   ]
  },
  {
   "cell_type": "markdown",
   "metadata": {},
   "source": [
    "### Loading the Senators’ Data (1 of 2)\n",
    "* **`senators.csv`** (provided in notebook's folder) contains each senator's \n",
    "    * two-letter state code\n",
    "    * name\n",
    "    * party \n",
    "    * Twitter handle\n",
    "    * Twitter ID\n",
    "* **Twitter handle and ID** used to track tweets **to**, **from** and **mentioning** each senator \n",
    "* When following users via **numeric Twitter IDs**, must submit IDs as **strings**"
   ]
  },
  {
   "cell_type": "markdown",
   "metadata": {},
   "source": [
    "<hr style=\"height:2px; border:none; color:#000; background-color:#000;\">"
   ]
  },
  {
   "cell_type": "markdown",
   "metadata": {},
   "source": [
    "### Loading the Senators’ Data (2 of 2)"
   ]
  },
  {
   "cell_type": "code",
   "execution_count": 6,
   "metadata": {},
   "outputs": [],
   "source": [
    "import pandas as pd"
   ]
  },
  {
   "cell_type": "code",
   "execution_count": 7,
   "metadata": {},
   "outputs": [],
   "source": [
    "senators_df = pd.read_csv('senators.csv')"
   ]
  },
  {
   "cell_type": "code",
   "execution_count": 8,
   "metadata": {},
   "outputs": [],
   "source": [
    "senators_df['TwitterID'] = senators_df['TwitterID'].astype(str)"
   ]
  },
  {
   "cell_type": "code",
   "execution_count": 9,
   "metadata": {},
   "outputs": [
    {
     "data": {
      "text/html": [
       "<div>\n",
       "<style scoped>\n",
       "    .dataframe tbody tr th:only-of-type {\n",
       "        vertical-align: middle;\n",
       "    }\n",
       "\n",
       "    .dataframe tbody tr th {\n",
       "        vertical-align: top;\n",
       "    }\n",
       "\n",
       "    .dataframe thead th {\n",
       "        text-align: right;\n",
       "    }\n",
       "</style>\n",
       "<table border=\"1\" class=\"dataframe\">\n",
       "  <thead>\n",
       "    <tr style=\"text-align: right;\">\n",
       "      <th></th>\n",
       "      <th>State</th>\n",
       "      <th>Name</th>\n",
       "      <th>Party</th>\n",
       "      <th>TwitterHandle</th>\n",
       "      <th>TwitterID</th>\n",
       "    </tr>\n",
       "  </thead>\n",
       "  <tbody>\n",
       "    <tr>\n",
       "      <th>0</th>\n",
       "      <td>AL</td>\n",
       "      <td>Richard Shelby</td>\n",
       "      <td>R</td>\n",
       "      <td>SenShelby</td>\n",
       "      <td>21111098</td>\n",
       "    </tr>\n",
       "    <tr>\n",
       "      <th>1</th>\n",
       "      <td>AL</td>\n",
       "      <td>Doug Jomes</td>\n",
       "      <td>D</td>\n",
       "      <td>SenDougJones</td>\n",
       "      <td>941080085121175552</td>\n",
       "    </tr>\n",
       "    <tr>\n",
       "      <th>2</th>\n",
       "      <td>AK</td>\n",
       "      <td>Lisa Murkowski</td>\n",
       "      <td>R</td>\n",
       "      <td>lisamurkowski</td>\n",
       "      <td>18061669</td>\n",
       "    </tr>\n",
       "    <tr>\n",
       "      <th>3</th>\n",
       "      <td>AK</td>\n",
       "      <td>Dan Sullivan</td>\n",
       "      <td>R</td>\n",
       "      <td>SenDanSullivan</td>\n",
       "      <td>2891210047</td>\n",
       "    </tr>\n",
       "    <tr>\n",
       "      <th>4</th>\n",
       "      <td>AZ</td>\n",
       "      <td>Martha McSally</td>\n",
       "      <td>R</td>\n",
       "      <td>SenMcSallyAZ</td>\n",
       "      <td>2964949642</td>\n",
       "    </tr>\n",
       "  </tbody>\n",
       "</table>\n",
       "</div>"
      ],
      "text/plain": [
       "  State            Name Party   TwitterHandle           TwitterID\n",
       "0    AL  Richard Shelby     R       SenShelby            21111098\n",
       "1    AL      Doug Jomes     D    SenDougJones  941080085121175552\n",
       "2    AK  Lisa Murkowski     R   lisamurkowski            18061669\n",
       "3    AK    Dan Sullivan     R  SenDanSullivan          2891210047\n",
       "4    AZ  Martha McSally     R    SenMcSallyAZ          2964949642"
      ]
     },
     "execution_count": 9,
     "metadata": {},
     "output_type": "execute_result"
    }
   ],
   "source": [
    "senators_df.head()"
   ]
  },
  {
   "cell_type": "markdown",
   "metadata": {},
   "source": [
    "<hr style=\"height:2px; border:none; color:#000; background-color:#000;\">"
   ]
  },
  {
   "cell_type": "markdown",
   "metadata": {},
   "source": [
    "### Configuring the `pymongo` `MongoClient` "
   ]
  },
  {
   "cell_type": "code",
   "execution_count": 10,
   "metadata": {},
   "outputs": [],
   "source": [
    "from pymongo import MongoClient"
   ]
  },
  {
   "cell_type": "code",
   "execution_count": 11,
   "metadata": {},
   "outputs": [],
   "source": [
    "atlas_client = MongoClient(keys.mongo_connection_string)"
   ]
  },
  {
   "cell_type": "markdown",
   "metadata": {},
   "source": [
    "<hr style=\"height:2px; border:none; color:#000; background-color:#000;\">"
   ]
  },
  {
   "cell_type": "markdown",
   "metadata": {},
   "source": [
    "### Get **`pymongo` `Database`** Object Representing the `senators` Database\n",
    "* **Creates the database** if it does not exist\n",
    "* Will be used to store the collection of **tweet JSON documents**"
   ]
  },
  {
   "cell_type": "code",
   "execution_count": 12,
   "metadata": {},
   "outputs": [],
   "source": [
    "db = atlas_client.senators "
   ]
  },
  {
   "cell_type": "markdown",
   "metadata": {},
   "source": [
    "### Setting up Tweet Stream\n",
    "* **`TweetListener`** uses the **`db` object** representing the **senators database** to store tweets \n",
    "    * Depending on the rate at which people are tweeting about the senators, it may take **minutes to hours** to get **10,000 tweets**"
   ]
  },
  {
   "cell_type": "code",
   "execution_count": 13,
   "metadata": {},
   "outputs": [],
   "source": [
    "from tweetlistener import TweetListener"
   ]
  },
  {
   "cell_type": "code",
   "execution_count": 14,
   "metadata": {},
   "outputs": [],
   "source": [
    "tweet_limit = 10000"
   ]
  },
  {
   "cell_type": "code",
   "execution_count": 15,
   "metadata": {},
   "outputs": [],
   "source": [
    "twitter_stream = tweepy.Stream(api.auth, \n",
    "    TweetListener(api, db, tweet_limit)) "
   ]
  },
  {
   "cell_type": "markdown",
   "metadata": {},
   "source": [
    "<hr style=\"height:2px; border:none; color:#000; background-color:#000;\">"
   ]
  },
  {
   "cell_type": "markdown",
   "metadata": {},
   "source": [
    "### Starting the Live Tweet Stream\n",
    "* Currently, can **track** up to **400 keywords** and **follow** up to **5,000 Twitter IDs** at a time\n",
    "    * **`track`** senators’ Twitter handles as keywords\n",
    "    * **`follow`** their **IDs**  \n",
    "* Together, this will get tweets **from**, **to** and **about** each senator"
   ]
  },
  {
   "cell_type": "code",
   "execution_count": 16,
   "metadata": {},
   "outputs": [
    {
     "name": "stdout",
     "output_type": "stream",
     "text": [
      "    Screen name: ❤❤T for Trump❤❤\n",
      "     Created at: Sun Sep 27 14:40:30 +0000 2020\n",
      "Tweets received: 10000\n"
     ]
    }
   ],
   "source": [
    "twitter_stream.filter(track=senators_df.TwitterHandle.tolist(),\n",
    "    follow=senators_df.TwitterID.tolist())"
   ]
  },
  {
   "cell_type": "markdown",
   "metadata": {},
   "source": [
    "<hr style=\"height:2px; border:none; color:#000; background-color:#000;\">"
   ]
  },
  {
   "cell_type": "markdown",
   "metadata": {},
   "source": [
    "### Class `TweetListener` "
   ]
  },
  {
   "cell_type": "markdown",
   "metadata": {},
   "source": [
    "```python\n",
    "# tweetlistener.py\n",
    "\"\"\"TweetListener downloads tweets and stores them in MongoDB.\"\"\"\n",
    "import json\n",
    "import tweepy\n",
    "from IPython.display import clear_output\n",
    "\n",
    "class TweetListener(tweepy.StreamListener):\n",
    "    \"\"\"Handles incoming Tweet stream.\"\"\"\n",
    "\n",
    "```"
   ]
  },
  {
   "cell_type": "markdown",
   "metadata": {},
   "source": [
    "```python\n",
    "    def __init__(self, api, database, limit=10000):\n",
    "        \"\"\"Create instance variables for tracking number of tweets.\"\"\"\n",
    "        self.db = database\n",
    "        self.tweet_count = 0\n",
    "        self.TWEET_LIMIT = limit  # 10,000 by default\n",
    "        super().__init__(api)  # call superclass's init\n",
    "\n",
    "    def on_connect(self):\n",
    "        \"\"\"Called when your connection attempt is successful, enabling \n",
    "        you to perform appropriate application tasks at that point.\"\"\"\n",
    "        print('Successfully connected to Twitter\\n')\n",
    "\n",
    "```"
   ]
  },
  {
   "cell_type": "markdown",
   "metadata": {},
   "source": [
    "```python\n",
    "    def on_data(self, data):\n",
    "        \"\"\"Called when Twitter pushes a new tweet to you.\"\"\"\n",
    "        self.tweet_count += 1  # track number of tweets processed\n",
    "        json_data = json.loads(data)  # convert string to JSON\n",
    "        self.db.tweets.insert_one(json_data)  # store in tweets collection\n",
    "        clear_output()  # ADDED: show one tweet at a time in Jupyter Notebook\n",
    "        print(f'    Screen name: {json_data[\"user\"][\"name\"]}') \n",
    "        print(f'     Created at: {json_data[\"created_at\"]}')         \n",
    "        print(f'Tweets received: {self.tweet_count}')         \n",
    "\n",
    "        # if TWEET_LIMIT is reached, return False to terminate streaming\n",
    "        return self.tweet_count < self.TWEET_LIMIT\n",
    "    \n",
    "    def on_error(self, status):\n",
    "        print(status)\n",
    "        return True\n",
    "```"
   ]
  },
  {
   "cell_type": "markdown",
   "metadata": {},
   "source": [
    "<hr style=\"height:2px; border:none; color:#000; background-color:#000;\">"
   ]
  },
  {
   "cell_type": "markdown",
   "metadata": {},
   "source": [
    "### Counting Tweets for Each Senator (1 of 2)\n",
    "* MongoDB **text search** requires a **text index** specifying **document field(s) to search** \n",
    "\t* MongoDB [index types](https://docs.mongodb.com/manual/indexes), [text indexes](https://docs.mongodb.com/manual/core/index-text) and [operators](https://docs.mongodb.com/manual/reference/operator)\n",
    "* A **text index** is defined as a **tuple** containing **field name** to search and **index type** (`'text'`)\n",
    "* **Wildcard field name (\\$\\*\\*)** indexes **all** text fields for a **full-text search**"
   ]
  },
  {
   "cell_type": "code",
   "execution_count": 17,
   "metadata": {},
   "outputs": [
    {
     "data": {
      "text/plain": [
       "'$**_text'"
      ]
     },
     "execution_count": 17,
     "metadata": {},
     "output_type": "execute_result"
    }
   ],
   "source": [
    "db.tweets.create_index([('$**', 'text')])"
   ]
  },
  {
   "cell_type": "markdown",
   "metadata": {},
   "source": [
    "<hr style=\"height:2px; border:none; color:#000; background-color:#000;\">"
   ]
  },
  {
   "cell_type": "markdown",
   "metadata": {},
   "source": [
    "### Counting Tweets for Each Senator (2 of 2)\n",
    "* Use **`tweets` `Collection`’s `count_documents` method** and **full-text search** to count the total number of documents in the collection that contain the specified text\n",
    "    * Find every **twitter handle** in `senators_df.TwitterHandle` column\n",
    "    * `{\"$text\": {\"$search\": senator}}` indicates that we’re **using the `text` index** to **`search`** for the value of **`senator`**"
   ]
  },
  {
   "cell_type": "code",
   "execution_count": 18,
   "metadata": {},
   "outputs": [],
   "source": [
    "tweet_counts = []"
   ]
  },
  {
   "cell_type": "code",
   "execution_count": 19,
   "metadata": {},
   "outputs": [],
   "source": [
    "for senator in senators_df.TwitterHandle:\n",
    "    tweet_counts.append(db.tweets.count_documents(\n",
    "        {\"$text\": {\"$search\": senator}}))"
   ]
  },
  {
   "cell_type": "markdown",
   "metadata": {},
   "source": [
    "<hr style=\"height:2px; border:none; color:#000; background-color:#000;\">"
   ]
  },
  {
   "cell_type": "markdown",
   "metadata": {},
   "source": [
    "### Show Tweet Counts for Each Senator \n",
    "* Create copy of **`DataFrame` `senators_df`** adding a new column of **`tweet_counts`** \n",
    "* Display the **top-10 senators by tweet count**"
   ]
  },
  {
   "cell_type": "code",
   "execution_count": 20,
   "metadata": {},
   "outputs": [],
   "source": [
    "tweet_counts_df = senators_df.assign(Tweets=tweet_counts)  "
   ]
  },
  {
   "cell_type": "code",
   "execution_count": 21,
   "metadata": {},
   "outputs": [
    {
     "data": {
      "text/html": [
       "<div>\n",
       "<style scoped>\n",
       "    .dataframe tbody tr th:only-of-type {\n",
       "        vertical-align: middle;\n",
       "    }\n",
       "\n",
       "    .dataframe tbody tr th {\n",
       "        vertical-align: top;\n",
       "    }\n",
       "\n",
       "    .dataframe thead th {\n",
       "        text-align: right;\n",
       "    }\n",
       "</style>\n",
       "<table border=\"1\" class=\"dataframe\">\n",
       "  <thead>\n",
       "    <tr style=\"text-align: right;\">\n",
       "      <th></th>\n",
       "      <th>State</th>\n",
       "      <th>Name</th>\n",
       "      <th>Party</th>\n",
       "      <th>TwitterHandle</th>\n",
       "      <th>TwitterID</th>\n",
       "      <th>Tweets</th>\n",
       "    </tr>\n",
       "  </thead>\n",
       "  <tbody>\n",
       "    <tr>\n",
       "      <th>78</th>\n",
       "      <td>SC</td>\n",
       "      <td>Lindsey Graham</td>\n",
       "      <td>R</td>\n",
       "      <td>LindseyGrahamSC</td>\n",
       "      <td>432895323</td>\n",
       "      <td>1939</td>\n",
       "    </tr>\n",
       "    <tr>\n",
       "      <th>17</th>\n",
       "      <td>FL</td>\n",
       "      <td>Marco Rubio</td>\n",
       "      <td>R</td>\n",
       "      <td>marcorubio</td>\n",
       "      <td>15745368</td>\n",
       "      <td>1635</td>\n",
       "    </tr>\n",
       "    <tr>\n",
       "      <th>13</th>\n",
       "      <td>CT</td>\n",
       "      <td>Richard Blumenthal</td>\n",
       "      <td>D</td>\n",
       "      <td>SenBlumenthal</td>\n",
       "      <td>278124059</td>\n",
       "      <td>1076</td>\n",
       "    </tr>\n",
       "    <tr>\n",
       "      <th>32</th>\n",
       "      <td>KY</td>\n",
       "      <td>Mitch McConnell</td>\n",
       "      <td>R</td>\n",
       "      <td>SenateMajLdr</td>\n",
       "      <td>1249982359</td>\n",
       "      <td>843</td>\n",
       "    </tr>\n",
       "    <tr>\n",
       "      <th>44</th>\n",
       "      <td>MN</td>\n",
       "      <td>Amy Klobuchar</td>\n",
       "      <td>D</td>\n",
       "      <td>amyklobuchar</td>\n",
       "      <td>33537967</td>\n",
       "      <td>427</td>\n",
       "    </tr>\n",
       "    <tr>\n",
       "      <th>62</th>\n",
       "      <td>NY</td>\n",
       "      <td>Chuck Schumer</td>\n",
       "      <td>D</td>\n",
       "      <td>SenSchumer</td>\n",
       "      <td>17494010</td>\n",
       "      <td>427</td>\n",
       "    </tr>\n",
       "    <tr>\n",
       "      <th>41</th>\n",
       "      <td>MA</td>\n",
       "      <td>Elizabeth Warren</td>\n",
       "      <td>D</td>\n",
       "      <td>SenWarren</td>\n",
       "      <td>970207298</td>\n",
       "      <td>243</td>\n",
       "    </tr>\n",
       "    <tr>\n",
       "      <th>84</th>\n",
       "      <td>TX</td>\n",
       "      <td>John Cornyn</td>\n",
       "      <td>R</td>\n",
       "      <td>JohnCornyn</td>\n",
       "      <td>13218102</td>\n",
       "      <td>233</td>\n",
       "    </tr>\n",
       "    <tr>\n",
       "      <th>2</th>\n",
       "      <td>AK</td>\n",
       "      <td>Lisa Murkowski</td>\n",
       "      <td>R</td>\n",
       "      <td>lisamurkowski</td>\n",
       "      <td>18061669</td>\n",
       "      <td>213</td>\n",
       "    </tr>\n",
       "    <tr>\n",
       "      <th>9</th>\n",
       "      <td>CA</td>\n",
       "      <td>Kamala Harris</td>\n",
       "      <td>D</td>\n",
       "      <td>SenKamalaHarris</td>\n",
       "      <td>803694179079458816</td>\n",
       "      <td>211</td>\n",
       "    </tr>\n",
       "  </tbody>\n",
       "</table>\n",
       "</div>"
      ],
      "text/plain": [
       "   State                Name Party    TwitterHandle           TwitterID  \\\n",
       "78    SC      Lindsey Graham     R  LindseyGrahamSC           432895323   \n",
       "17    FL         Marco Rubio     R       marcorubio            15745368   \n",
       "13    CT  Richard Blumenthal     D    SenBlumenthal           278124059   \n",
       "32    KY     Mitch McConnell     R     SenateMajLdr          1249982359   \n",
       "44    MN       Amy Klobuchar     D     amyklobuchar            33537967   \n",
       "62    NY       Chuck Schumer     D       SenSchumer            17494010   \n",
       "41    MA    Elizabeth Warren     D        SenWarren           970207298   \n",
       "84    TX         John Cornyn     R       JohnCornyn            13218102   \n",
       "2     AK      Lisa Murkowski     R    lisamurkowski            18061669   \n",
       "9     CA       Kamala Harris     D  SenKamalaHarris  803694179079458816   \n",
       "\n",
       "    Tweets  \n",
       "78    1939  \n",
       "17    1635  \n",
       "13    1076  \n",
       "32     843  \n",
       "44     427  \n",
       "62     427  \n",
       "41     243  \n",
       "84     233  \n",
       "2      213  \n",
       "9      211  "
      ]
     },
     "execution_count": 21,
     "metadata": {},
     "output_type": "execute_result"
    }
   ],
   "source": [
    "tweet_counts_df.sort_values(by='Tweets', ascending=False).head(10)"
   ]
  },
  {
   "cell_type": "markdown",
   "metadata": {},
   "source": [
    "<hr style=\"height:2px; border:none; color:#000; background-color:#000;\">"
   ]
  },
  {
   "cell_type": "markdown",
   "metadata": {},
   "source": [
    "### Get the State Locations for Plotting Markers (1 of 3)\n",
    "* Get each **state’s latitude and longitude** coordinates for **plotting on a map**\n",
    "* **`state_codes.py`** contains a dictionary that maps **two-letter state codes** to **full state names**\n",
    "    * Used with **`geopy`** to look up the location of each state"
   ]
  },
  {
   "cell_type": "code",
   "execution_count": 22,
   "metadata": {},
   "outputs": [],
   "source": [
    "from geopy import OpenMapQuest"
   ]
  },
  {
   "cell_type": "code",
   "execution_count": 23,
   "metadata": {},
   "outputs": [],
   "source": [
    "import time"
   ]
  },
  {
   "cell_type": "code",
   "execution_count": 24,
   "metadata": {},
   "outputs": [],
   "source": [
    "from state_codes import state_codes"
   ]
  },
  {
   "cell_type": "markdown",
   "metadata": {},
   "source": [
    "* Get the **`geocoder` object** to **translate location names** into **`Location` objects**"
   ]
  },
  {
   "cell_type": "code",
   "execution_count": 25,
   "metadata": {},
   "outputs": [],
   "source": [
    "geo = OpenMapQuest(api_key=keys.mapquest_key) "
   ]
  },
  {
   "cell_type": "markdown",
   "metadata": {},
   "source": [
    "<hr style=\"height:2px; border:none; color:#000; background-\n",
    "color:#000;\">"
   ]
  },
  {
   "cell_type": "markdown",
   "metadata": {},
   "source": [
    "### Get the State Locations for Plotting Markers (2 of 3)\n",
    "* Get and sort the unique state names"
   ]
  },
  {
   "cell_type": "code",
   "execution_count": 26,
   "metadata": {},
   "outputs": [],
   "source": [
    "states = tweet_counts_df.State.unique()  # get unique state names"
   ]
  },
  {
   "cell_type": "code",
   "execution_count": 27,
   "metadata": {},
   "outputs": [],
   "source": [
    "states.sort() "
   ]
  },
  {
   "cell_type": "markdown",
   "metadata": {},
   "source": [
    "<hr style=\"height:2px; border:none; color:#000; background-color:#000;\">"
   ]
  },
  {
   "cell_type": "markdown",
   "metadata": {},
   "source": [
    "### Get the State Locations for Plotting Markers (3 of 3)\n",
    "* Look up **each state’s location**\n",
    "* Call `geocode` with state name followed by `', USA'` \n",
    "    * Ensures that we get United States locations"
   ]
  },
  {
   "cell_type": "code",
   "execution_count": 28,
   "metadata": {},
   "outputs": [],
   "source": [
    "locations = []"
   ]
  },
  {
   "cell_type": "code",
   "execution_count": 29,
   "metadata": {},
   "outputs": [
    {
     "name": "stdout",
     "output_type": "stream",
     "text": [
      "Wyoming, United States of America\n"
     ]
    }
   ],
   "source": [
    "from IPython.display import clear_output\n",
    "\n",
    "for state in states:\n",
    "    processed = False\n",
    "    delay = .1 \n",
    "    while not processed:\n",
    "        try: \n",
    "            locations.append(geo.geocode(state_codes[state] + ', USA'))\n",
    "            clear_output()  # clear cell's current output before showing next one\n",
    "            print(locations[-1])  \n",
    "            processed = True\n",
    "        except:  # timed out, so wait before trying again\n",
    "            print('OpenMapQuest service timed out. Waiting.')\n",
    "            time.sleep(delay)\n",
    "            delay += .1"
   ]
  },
  {
   "cell_type": "markdown",
   "metadata": {},
   "source": [
    "<hr style=\"height:2px; border:none; color:#000; background-color:#000;\">"
   ]
  },
  {
   "cell_type": "markdown",
   "metadata": {},
   "source": [
    "### Grouping the Tweet Counts by State \n",
    "* **Tweet total** for a states' two senators is used to **color the map**\n",
    "    * **Darker colors** represent **higher tweet counts**\n",
    "* **`DataFrame` method `groupby`** to group the senators by state \n",
    "    * **`as_index=False`**&mdash;state codes should be a column in returned **`GroupBy`** object, rather than indices for the object's rows\n",
    "* **`GroupBy`** object's **`sum`** method totals the numeric data by state"
   ]
  },
  {
   "cell_type": "code",
   "execution_count": 30,
   "metadata": {},
   "outputs": [],
   "source": [
    "tweets_counts_by_state = tweet_counts_df.groupby(\n",
    "    'State', as_index=False).sum()"
   ]
  },
  {
   "cell_type": "code",
   "execution_count": 31,
   "metadata": {},
   "outputs": [
    {
     "data": {
      "text/html": [
       "<div>\n",
       "<style scoped>\n",
       "    .dataframe tbody tr th:only-of-type {\n",
       "        vertical-align: middle;\n",
       "    }\n",
       "\n",
       "    .dataframe tbody tr th {\n",
       "        vertical-align: top;\n",
       "    }\n",
       "\n",
       "    .dataframe thead th {\n",
       "        text-align: right;\n",
       "    }\n",
       "</style>\n",
       "<table border=\"1\" class=\"dataframe\">\n",
       "  <thead>\n",
       "    <tr style=\"text-align: right;\">\n",
       "      <th></th>\n",
       "      <th>State</th>\n",
       "      <th>Tweets</th>\n",
       "    </tr>\n",
       "  </thead>\n",
       "  <tbody>\n",
       "    <tr>\n",
       "      <th>0</th>\n",
       "      <td>AK</td>\n",
       "      <td>257</td>\n",
       "    </tr>\n",
       "    <tr>\n",
       "      <th>1</th>\n",
       "      <td>AL</td>\n",
       "      <td>41</td>\n",
       "    </tr>\n",
       "    <tr>\n",
       "      <th>2</th>\n",
       "      <td>AR</td>\n",
       "      <td>93</td>\n",
       "    </tr>\n",
       "    <tr>\n",
       "      <th>3</th>\n",
       "      <td>AZ</td>\n",
       "      <td>82</td>\n",
       "    </tr>\n",
       "    <tr>\n",
       "      <th>4</th>\n",
       "      <td>CA</td>\n",
       "      <td>282</td>\n",
       "    </tr>\n",
       "  </tbody>\n",
       "</table>\n",
       "</div>"
      ],
      "text/plain": [
       "  State  Tweets\n",
       "0    AK     257\n",
       "1    AL      41\n",
       "2    AR      93\n",
       "3    AZ      82\n",
       "4    CA     282"
      ]
     },
     "execution_count": 31,
     "metadata": {},
     "output_type": "execute_result"
    }
   ],
   "source": [
    "tweets_counts_by_state.head()"
   ]
  },
  {
   "cell_type": "markdown",
   "metadata": {},
   "source": [
    "<hr style=\"height:2px; border:none; color:#000; background-color:#000;\">"
   ]
  },
  {
   "cell_type": "markdown",
   "metadata": {},
   "source": [
    "### Creating the Map "
   ]
  },
  {
   "cell_type": "code",
   "execution_count": 32,
   "metadata": {},
   "outputs": [],
   "source": [
    "import folium"
   ]
  },
  {
   "cell_type": "code",
   "execution_count": 33,
   "metadata": {},
   "outputs": [],
   "source": [
    "usmap = folium.Map(location=[39.8283, -98.5795], \n",
    "                   zoom_start=4, detect_retina=True,\n",
    "                   tiles='Stamen Toner')"
   ]
  },
  {
   "cell_type": "markdown",
   "metadata": {},
   "source": [
    "<hr style=\"height:2px; border:none; color:#000; background-color:#000;\">"
   ]
  },
  {
   "cell_type": "markdown",
   "metadata": {},
   "source": [
    "### Creating a Choropleth to Color the Map\n",
    "* A **choropleth** shades areas in a map using magnitudes of numerical values to determine color\n",
    "* For a **detailed description of the arguments** below, see \n",
    "    * [**Python Fundamentals LiveLessons videos**](https://learning.oreilly.com/videos/python-fundamentals/9780135917411/9780135917411-PFLL_Lesson16_23) \n",
    "    * [**Python for Programmers, Section 16.4.2** (under the heading \"Creating a Choropleth to Color the Map\"](https://learning.oreilly.com/library/view/python-for-programmers/9780135231364/ch16.xhtml#ch16lev2sec15)"
   ]
  },
  {
   "cell_type": "code",
   "execution_count": 34,
   "metadata": {},
   "outputs": [],
   "source": [
    "choropleth = folium.Choropleth(\n",
    "    geo_data='us-states.json',\n",
    "    name='choropleth',\n",
    "    data=tweets_counts_by_state,\n",
    "    columns=['State', 'Tweets'],\n",
    "    key_on='feature.id',\n",
    "    fill_color='YlOrRd',\n",
    "    fill_opacity=0.7,\n",
    "    line_opacity=0.2,\n",
    "    legend_name='Tweets by State'\n",
    ").add_to(usmap)\n",
    "\n",
    "layer = folium.LayerControl().add_to(usmap)"
   ]
  },
  {
   "cell_type": "markdown",
   "metadata": {},
   "source": [
    "<hr style=\"height:2px; border:none; color:#000; background-color:#000;\">"
   ]
  },
  {
   "cell_type": "markdown",
   "metadata": {},
   "source": [
    "### Creating the Map Markers for Each State (1 of 1)\n",
    "* Sort senators in **descending order** by **tweet count**\n",
    "* **`groupby`** maintains **original row order** in each group\n",
    "* **`index`** &mdash; used to look up each state’s location in **`locations` list**\n",
    "* **name** &mdash; two-letter **state code**\n",
    "* **`group`** &mdash; collection of a **state's two senators**"
   ]
  },
  {
   "cell_type": "code",
   "execution_count": 35,
   "metadata": {},
   "outputs": [],
   "source": [
    "sorted_df = tweet_counts_df.sort_values(by='Tweets', ascending=False)\n",
    "\n",
    "for index, (name, group) in enumerate(sorted_df.groupby('State')):\n",
    "    strings = [state_codes[name]]  # used to assemble popup text\n",
    "\n",
    "    for s in group.itertuples():\n",
    "        strings.append(f'{s.Name} ({s.Party}); Tweets: {s.Tweets}')\n",
    "        \n",
    "    text = '<br>'.join(strings)  \n",
    "    popup = folium.Popup(text, max_width=200)\n",
    "    marker = folium.Marker(\n",
    "        (locations[index].latitude, locations[index].longitude), \n",
    "        popup=popup)\n",
    "    marker.add_to(usmap) "
   ]
  },
  {
   "cell_type": "markdown",
   "metadata": {},
   "source": [
    "<hr style=\"height:2px; border:none; color:#000; background-color:#000;\">"
   ]
  },
  {
   "cell_type": "markdown",
   "metadata": {},
   "source": [
    "### Saving and Displaying the Map "
   ]
  },
  {
   "cell_type": "code",
   "execution_count": 36,
   "metadata": {},
   "outputs": [],
   "source": [
    "usmap.save('SenatorsTweets.html')"
   ]
  },
  {
   "cell_type": "code",
   "execution_count": 37,
   "metadata": {},
   "outputs": [
    {
     "data": {
      "text/html": [
       "<div style=\"width:100%;\"><div style=\"position:relative;width:100%;height:0;padding-bottom:60%;\"><span style=\"color:#565656\">Make this Notebook Trusted to load map: File -> Trust Notebook</span><iframe src=\"about:blank\" style=\"position:absolute;width:100%;height:100%;left:0;top:0;border:none !important;\" data-html=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 onload=\"this.contentDocument.open();this.contentDocument.write(atob(this.getAttribute('data-html')));this.contentDocument.close();\" allowfullscreen webkitallowfullscreen mozallowfullscreen></iframe></div></div>"
      ],
      "text/plain": [
       "<folium.folium.Map at 0x7fa8c0e909a0>"
      ]
     },
     "execution_count": 37,
     "metadata": {},
     "output_type": "execute_result"
    }
   ],
   "source": [
    "usmap \n",
    "#from IPython.display import IFrame\n",
    "#IFrame(src=\"./SenatorsTweets.html\", width=800, height=450)"
   ]
  },
  {
   "cell_type": "markdown",
   "metadata": {},
   "source": [
    "<hr style=\"height:2px; border:none; color:#000; background-color:#000;\">"
   ]
  },
  {
   "cell_type": "markdown",
   "metadata": {},
   "source": [
    "# 16.5 Hadoop\n",
    "\\[We'll cover this example if we have time. The complete presentation can be viewed in my **[Python Fundamentals](https://learning.oreilly.com/videos/python-fundamentals/9780135917411/9780135917411-PFLL_Lesson16_24) (10 videos)**\\]\n",
    "&nbsp;  \n",
    "&nbsp;  \n",
    "\n",
    "* **Apache Hadoop** and **Apache Spark** deal with **big-data storage and processing challenges** via \n",
    "    * huge **clusters** of computers \n",
    "    * **distributed data storage** \n",
    "    * **massively parallel processing**\n",
    "    * Hadoop **MapReduce** programming\n",
    "    * Spark **in-memory processing** techniques\n",
    "* **Hadoop** also serves as the **foundation** for many recent advancements in **big-data processing** and an entire **ecosystem of software tools**\n",
    "\n",
    "<!--\n",
    "\n",
    "* For a list of **Hadoop ecosystem components**, see my [**Python Fundamentals LiveLessons videos**](https://learning.oreilly.com/videos/python-fundamentals/9780135917411/) (big data lesson coming soon) or [**Python for Programmers, Section 16.5.1**](https://learning.oreilly.com/library/view/python-for-programmers/9780135231364/ch16.xhtml#ch16lev2sec16)\n",
    "\n",
    "-->"
   ]
  },
  {
   "cell_type": "markdown",
   "metadata": {},
   "source": [
    "<hr style=\"height:2px; border:none; color:#000; background-color:#000;\">"
   ]
  },
  {
   "cell_type": "markdown",
   "metadata": {},
   "source": [
    "## 16.5.1 Hadoop Overview (1 of 2)\n",
    "* Early on, Google knew they needed to **return search results quickly**\n",
    "* The only practical way &mdash; **store and index the entire web** \n",
    "* Late 90s computers couldn’t store and analyze such a **large volume of data economically and fast enough**\n",
    "* Google developed a **clustering** system with vast numbers of computers (**nodes**)\n",
    "    * **greater chance of hardware failures** so they built in high levels of **redundancy** \n",
    "    * Data distributed across all these **commodity computers**\n",
    "* For a **search request**, all computers searched their portion of the web **in parallel**\n",
    "    * Then results were **gathered and returned**"
   ]
  },
  {
   "cell_type": "markdown",
   "metadata": {},
   "source": [
    "<hr style=\"height:2px; border:none; color:#000; background-color:#000;\">"
   ]
  },
  {
   "cell_type": "markdown",
   "metadata": {},
   "source": [
    "## 16.5.1 Hadoop Overview (2 of 2)\n",
    "* Google developed **clustering hardware and software** and **distributed storage**\n",
    "* **Published its designs**\n",
    "* Programmers at Yahoo!, working from Google’s [**“Google File System” paper**](http://static.googleusercontent.com/media/research.google.com/en//archive/gfs-sosp2003.pdf), built their own system\n",
    "* They **open-sourced** their work and **Apache.org** implemented **Hadoop**\n",
    "* Named for an **elephant** stuffed animal that belonged to a child of one of Hadoop’s creators\n",
    "    * Inspiration for our textbook cover\n",
    "* Two **additional Google papers** contributed to evolution of Hadoop\n",
    "\t* [**“MapReduce: Simplified Data Processing on Large Clusters”**](http://static.googleusercontent.com/media/research.google.com/en//archive/mapreduce-osdi04.pdf) \n",
    "\t* [**“Bigtable: A Distributed Storage System for Structured Data”**](http://static.googleusercontent.com/media/research.google.com/en//archive/bigtable-osdi06.pdf) \n",
    "\t\t* Basis for Apache HBase (a NoSQL key–value and column-based database)."
   ]
  },
  {
   "cell_type": "markdown",
   "metadata": {},
   "source": [
    "<hr style=\"height:2px; border:none; color:#000; background-color:#000;\">"
   ]
  },
  {
   "cell_type": "markdown",
   "metadata": {},
   "source": [
    "### HDFS, `MapReduce` and YARN (1 of 2)\n",
    "* Hadoop’s key components are: \n",
    "\t* **HDFS** (Hadoop Distributed File System) for **storing massive amounts of data** throughout a **cluster** \n",
    "\t* **MapReduce** for implementing the **tasks that process the data**\n",
    "        * Like **filter/map/reduce** in functional-style programming, but **massively parallel**\n",
    "* **MapReduce** performs two steps—**mapping** and **reduction**\n",
    "    * **Mapping** (and **filtering**) &mdash; processes original data across **entire cluster** and **maps** it into tuples of **key–value pairs**\n",
    "    * **Reduction** &mdash; **combines** those tuples to **produce the results**"
   ]
  },
  {
   "cell_type": "markdown",
   "metadata": {},
   "source": [
    "<hr style=\"height:2px; border:none; color:#000; background-color:#000;\">"
   ]
  },
  {
   "cell_type": "markdown",
   "metadata": {},
   "source": [
    "### HDFS, `MapReduce` and YARN (2 of 2)\n",
    "* Hadoop divides data into **batches** and **distributes** across **cluster's nodes**\n",
    "* Also **distributes MapReduce code** to **execute in parallel on every node**\n",
    "    * Each **node** processes the **batch of data** stored **on that node**\n",
    "* **Reduction combines results** from **all nodes** to produce **final result**\n",
    "* **YARN** (“yet another resource negotiator”) **manages all resources** in the **cluster** and **schedules tasks** for execution"
   ]
  },
  {
   "cell_type": "markdown",
   "metadata": {},
   "source": [
    "<hr style=\"height:2px; border:none; color:#000; background-color:#000;\">"
   ]
  },
  {
   "cell_type": "markdown",
   "metadata": {},
   "source": [
    "### Hadoop Ecosystem \n",
    "* **Hadoop began** with **HDFS** and **MapReduce**, followed closely by **YARN**\n",
    "* Now it's a **large ecosystem**, including **Hadoop 3** (3.2 released in January), **Spark** and many other Apache projects[\\[1\\]](https://hortonworks.com/ecosystems/),[\\[2\\]](https://readwrite.com/2018/06/26/complete-guide-of-hadoop-ecosystem-components/),[\\[3\\]](https://www.janbasktraining.com/blog/introduction-architecture-components-hadoop-ecosystem/)\n",
    "* [See our table of Hadoop Ecosystem Components](https://learning.oreilly.com/library/view/Python+for+Programmers,+First+Edition/9780135231364/ch16.xhtml#ch16lev2sec16)"
   ]
  },
  {
   "cell_type": "markdown",
   "metadata": {},
   "source": [
    "<hr style=\"height:2px; border:none; color:#000; background-color:#000;\">"
   ]
  },
  {
   "cell_type": "markdown",
   "metadata": {},
   "source": [
    "## 16.5.2 Summarizing Word Lengths in _Romeo and Juliet_ via MapReduce\n",
    "* To execute this example\n",
    "    * We created a **cloud-based, multi-node cluster of computers** using **Microsoft Azure HDInsight**, which provides **Hadoop as a service**\n",
    "    * Ran our **Hadoop MapReduce** code on that **cluster**\n",
    "* **MapReduce task** \n",
    "    * Determines the **length of each word in `RomeoAndJuliet.txt`** (from the NLP presentation)\n",
    "    * Summarizes **number of words of each length** "
   ]
  },
  {
   "cell_type": "markdown",
   "metadata": {},
   "source": [
    "<hr style=\"height:2px; border:none; color:#000; background-color:#000;\">"
   ]
  },
  {
   "cell_type": "markdown",
   "metadata": {},
   "source": [
    "## 16.5.3 Creating an Apache Hadoop Cluster in Microsoft Azure HDInsight (1 of 2)\n",
    "* **Multi-node cloud-based clusters** typically are **paid** services\n",
    "* We used [**Microsoft Azure’s HDInsight service**](https://azure.microsoft.com/en-us/free) (for Hadoop and Spark) and **new account credit** to create **cloud-based clusters of computers** in which to test our examples\n",
    "    * The **new account credit** was more than enough to test our Hadoop and Spark examples\n",
    "* HDInsight service **requires a credit card** for **identity verification**\n",
    "    * When your **new account credit runs out** or **30 days pass**, cannot use paid services unless you authorize Microsoft to **charge your card**\n",
    "        * **Prevents accidental large bills** for people who are just experimenting"
   ]
  },
  {
   "cell_type": "markdown",
   "metadata": {},
   "source": [
    "<hr style=\"height:2px; border:none; color:#000; background-color:#000;\">"
   ]
  },
  {
   "cell_type": "markdown",
   "metadata": {},
   "source": [
    "## 16.5.3 Creating an Apache Hadoop Cluster in Microsoft Azure HDInsight (2 of 2)\n",
    "* Details on configuring a **low-cost cluster** to try **Hadoop** \n",
    "    * [**Python Fundamentals LiveLessons videos**](https://learning.oreilly.com/videos/python-fundamentals/9780135917411/9780135917411-PFLL_Lesson16_27_pt1) (two videos starting with this one) \n",
    "    * [**Python for Programmers, Section 16.5.3**](https://learning.oreilly.com/library/view/Python+for+Programmers,+First+Edition/9780135231364/ch16.xhtml#ch16lev2sec18) \n",
    "    * Also [see Microsoft’s **recommended cluster configurations**](https://docs.microsoft.com/en-us/azure/hdinsight/hdinsight-component-versioning#default-node-configuration-and-virtual-machine-sizes-for-clusters)\n",
    "* **Caution: Once you allocate a cluster, it incurs costs whether you’re using it or not. So, when you complete this case study, be sure to delete your cluster(s) and other resources, so you don’t incur additional charges.** "
   ]
  },
  {
   "cell_type": "markdown",
   "metadata": {},
   "source": [
    "<hr style=\"height:2px; border:none; color:#000; background-color:#000;\">"
   ]
  },
  {
   "cell_type": "markdown",
   "metadata": {},
   "source": [
    "## 16.5.4 Hadoop Streaming\n",
    "* Hadoop is **Java-based**\n",
    "* Languages like **Python** that are **not natively supported** must use **Hadoop streaming** \n",
    "* **Python MapReduce scripts** communicate with Hadoop via **redirected standard I/O streams**\n",
    "\t* Hadoop redirects **input** to **mapper** script, which reads input from **standard input stream**\n",
    "\t* **Mapper** writes results to **standard output stream**\n",
    "\t* Hadoop redirects **mapper’s output** as **input** to **reducer** script, which reads from the **standard input stream**\n",
    "\t* **Reducer** writes results to **standard output stream** \n",
    "\t* Hadoop writes **reducer’s output** to **HDFS**   "
   ]
  },
  {
   "cell_type": "markdown",
   "metadata": {},
   "source": [
    "<hr style=\"height:2px; border:none; color:#000; background-color:#000;\">"
   ]
  },
  {
   "cell_type": "markdown",
   "metadata": {},
   "source": [
    "## 16.5.5 Implementing the Mapper (1 of 2)\n",
    "* **Mapper** takes **lines of text** as input and **maps** them to **key–value pairs**, each containing a **word length** and **`1`**\n",
    "* **Reducer** will total these **key–value pairs** by key\n",
    "* **Hadoop streaming** expects **mapper’s output** and **reducer’s input/output** to have the form \n",
    "> **_key_`\\t`_value_**\n",
    "* In **`length_mapper.py`**, `#!` tells Hadoop to use Python 3\n",
    "    * Must be first line in the file\n",
    "    * **HDInsight** currently includes **Python 2.7.12** and **Python 3.5.2** \n",
    "    * **Cannot use f-strings** which are **Python 3.6+**"
   ]
  },
  {
   "cell_type": "markdown",
   "metadata": {},
   "source": [
    "<hr style=\"height:2px; border:none; color:#000; background-color:#000;\">"
   ]
  },
  {
   "cell_type": "markdown",
   "metadata": {},
   "source": [
    "## 16.5.5 Implementing the Mapper (2 of 2)\n",
    "\n",
    "```python\n",
    "#!/usr/bin/env python3\n",
    "# length_mapper.py\n",
    "\"\"\"Maps lines of text to key-value pairs of word lengths and 1.\"\"\"\n",
    "import sys\n",
    "\n",
    "def tokenize_input():  # generator function\n",
    "    \"\"\"Split each line of standard input into a list of strings.\"\"\"\n",
    "    for line in sys.stdin:\n",
    "        yield line.split()  \n",
    "\n",
    "# read each line in the the standard input and for every word \n",
    "# produce a key-value pair containing the word, a tab and 1\n",
    "for line in tokenize_input():\n",
    "    for word in line:\n",
    "        print(str(len(word)) + '\\t1')\n",
    "\n",
    "```"
   ]
  },
  {
   "cell_type": "markdown",
   "metadata": {},
   "source": [
    "<hr style=\"height:2px; border:none; color:#000; background-color:#000;\">"
   ]
  },
  {
   "cell_type": "markdown",
   "metadata": {},
   "source": [
    "## 16.5.6 Implementing the Reducer \n",
    "* In **`length_reducer.py`**, function **`tokenize_input`** is a **generator function** that reads and splits the **key–value pairs** produced by the mapper\n",
    "* **MapReduce streaming** supplies the **standard input**\n",
    "* **`groupby` function** (**`itertools` module**) groups inputs by their **keys** (the **word lengths**) \n",
    "* **Total** all the **counts** for a given **key**\n",
    "* Output a new **key–value pair** consisting of the **word length** and its **total**\n",
    "* **MapReduce** takes the **final word-count outputs** and **writes** them to a file in **HDFS**"
   ]
  },
  {
   "cell_type": "markdown",
   "metadata": {},
   "source": [
    "<hr style=\"height:2px; border:none; color:#000; background-color:#000;\">"
   ]
  },
  {
   "cell_type": "markdown",
   "metadata": {},
   "source": [
    "```python\n",
    "#!/usr/bin/env python3\n",
    "# length_reducer.py\n",
    "\"\"\"Counts the number of words with each length.\"\"\"\n",
    "import sys\n",
    "from itertools import groupby\n",
    "from operator import itemgetter\n",
    "\n",
    "def tokenize_input():\n",
    "    \"\"\"Split each line of standard input into a key and a value.\"\"\"\n",
    "    for line in sys.stdin:\n",
    "        yield line.strip().split('\\t')\n",
    "\n",
    "# produce key-value pairs of word lengths and counts separated by tabs\n",
    "for word_length, group in groupby(tokenize_input(), itemgetter(0)):\n",
    "    try:\n",
    "        total = sum(int(count) for word_length, count in group)\n",
    "        print(word_length + '\\t' + str(total))\n",
    "    except ValueError:\n",
    "        pass  # ignore word if its count was not an integer\n",
    "\n",
    "```"
   ]
  },
  {
   "cell_type": "markdown",
   "metadata": {},
   "source": [
    "<hr style=\"height:2px; border:none; color:#000; background-color:#000;\">"
   ]
  },
  {
   "cell_type": "markdown",
   "metadata": {},
   "source": [
    "## 16.5.7 Preparing to Run the MapReduce Example\n",
    "* Must upload scripts and `RomeoAndJuliet.txt` into **HDInsight cluster's file system**\n",
    "* For detailed instructions on doing this, see \n",
    "    * [**Python Fundamentals LiveLessons videos**](https://learning.oreilly.com/videos/python-fundamentals/9780135917411/9780135917411-PFLL_Lesson16_31) \n",
    "    * [**Python for Programmers, Section 16.5.7**](https://learning.oreilly.com/library/view/python-for-programmers/9780135231364/ch16.xhtml#ch16lev2sec22)"
   ]
  },
  {
   "cell_type": "markdown",
   "metadata": {},
   "source": [
    "<hr style=\"height:2px; border:none; color:#000; background-color:#000;\">"
   ]
  },
  {
   "cell_type": "markdown",
   "metadata": {},
   "source": [
    "## 16.5.8 Running the MapReduce Job (1 of 4)\n",
    "* Once files are in the cluster, **run MapReduce job** for **`RomeoAndJuliet.txt`** on your **cluster** by executing the following command in the cluster\n",
    "    * You can copy/paste the command from `yarn.txt` located with this example\n",
    "    * We reformatted the command here for readability: \n",
    "\n",
    "```\n",
    "yarn jar /usr/hdp/current/hadoop-mapreduce-client/hadoop-streaming.jar \n",
    "   -D mapred.output.key.comparator.class=\n",
    "      org.apache.hadoop.mapred.lib.KeyFieldBasedComparator    \n",
    "   -D mapred.text.key.comparator.options=-n   \n",
    "   -files length_mapper.py,length_reducer.py    \n",
    "   -mapper length_mapper.py \n",
    "   -reducer length_reducer.py    \n",
    "   -input /example/data/RomeoAndJuliet.txt    \n",
    "   -output /example/wordlengthsoutput    \n",
    "```"
   ]
  },
  {
   "cell_type": "markdown",
   "metadata": {},
   "source": [
    "<hr style=\"height:2px; border:none; color:#000; background-color:#000;\">"
   ]
  },
  {
   "cell_type": "markdown",
   "metadata": {},
   "source": [
    "## 16.5.8 Running the MapReduce Job (2 of 4)\n",
    "* The **`yarn` command** invokes **Hadoop’s YARN** (“yet another resource negotiator”) tool to manage and coordinate access to the Hadoop resources the **MapReduce task** uses\n",
    "* **`hadoop-streaming.jar`** contains the Java-based **Hadoop streaming utility** that allows you to use Python to implement the **mapper** and **reducer**\n",
    "* The two **`-D` options** set Hadoop properties that enable it to \n",
    "    * **sort the final key–value pairs by key** (**`KeyFieldBasedComparator`**) \n",
    "    * in **descending order (`-`) numerically (`n`)** rather than alphabetically"
   ]
  },
  {
   "cell_type": "markdown",
   "metadata": {},
   "source": [
    "<hr style=\"height:2px; border:none; color:#000; background-color:#000;\">"
   ]
  },
  {
   "cell_type": "markdown",
   "metadata": {},
   "source": [
    "## 16.5.8 Running the MapReduce Job (3 of 4)\n",
    "* Other command-line arguments:\n",
    "\t* **`-files`**—Comma-separated list of scripts that Hadoop copies to every node in the cluster so they can **execute locally on each node**\n",
    "\t* **`-mapper`**—mapper’s script file\n",
    "\t* **`-reducer`**—reducer’s script file\n",
    "\t* **`-input`**—**File** or **directory of files** to supply as **mapper input**\n",
    "\t* **`-output`**—**HDFS directory** where final results will be stored\n",
    "        * **Error** if this folder **already exists**"
   ]
  },
  {
   "cell_type": "markdown",
   "metadata": {},
   "source": [
    "<hr style=\"height:2px; border:none; color:#000; background-color:#000;\">"
   ]
  },
  {
   "cell_type": "markdown",
   "metadata": {},
   "source": [
    "## 16.5.8 Running the MapReduce Job (4 of 4)\n",
    "* Sample **output** shows some **Hadoop feedback** produced as the **MapReduce job executes**\n",
    "    * Used **`...`** to save space \n",
    "* Several lines of interest:\n",
    "\t* The total number of **“input paths to process”**—the **`1` source of input** in this example is **`RomeoAndJuliet.txt`**\n",
    "\t* The **“number of splits”**—`2` in this example, based on the **number of worker nodes** in our **HDInsight cluster**\n",
    "\t* The **percentage completion** dates and times&mdash;**big data jobs** could take minutes, hours, days, ...\n",
    "\t* **`File System Counters`** showing numbers of **bytes read and written**\n",
    "\t* **`Job Counters`** showing the **numbers of mapping and reduction tasks used** \n",
    "\t* **`Map-Reduce Framework`** showing stats about the **steps performed**"
   ]
  },
  {
   "cell_type": "markdown",
   "metadata": {},
   "source": [
    "<hr style=\"height:2px; border:none; color:#000; background-color:#000;\">"
   ]
  },
  {
   "cell_type": "markdown",
   "metadata": {},
   "source": [
    "## Output\n",
    "<pre>\n",
    "packageJobJar: [] [/usr/hdp/2.6.5.3004-13/hadoop-mapreduce/hadoop-streaming-2.7.3.2.6.5.3004-13.jar] /tmp/streamjob2764990629848702405.jar tmpDir=null\n",
    "...\n",
    "18/12/05 16:46:25 INFO mapred.FileInputFormat: <strong>Total input paths to process : 1</strong>\n",
    "18/12/05 16:46:26 INFO mapreduce.JobSubmitter: <strong>number of splits:2</strong>\n",
    "...\n",
    "18/12/05 16:46:26 INFO mapreduce.Job: The url to track the job: http://hn0-paulte.y3nghy5db2kehav5m0opqrjxcb.cx.internal.cloudapp.net:8088/proxy/application_1543953844228_0025/\n",
    "...\n",
    "18/12/05 16:46:35 INFO mapreduce.Job:  <strong>map 0% reduce 0%</strong>\n",
    "18/12/05 16:46:43 INFO mapreduce.Job:  <strong>map 50% reduce 0%</strong>\n",
    "18/12/05 16:46:44 INFO mapreduce.Job:  <strong>map 100% reduce 0%</strong>\n",
    "18/12/05 16:46:48 INFO mapreduce.Job:  <strong>map 100% reduce 100%</strong>\n",
    "18/12/05 16:46:50 INFO mapreduce.Job: Job job_1543953844228_0025 <strong>completed successfully</strong>\n",
    "</pre>"
   ]
  },
  {
   "cell_type": "markdown",
   "metadata": {},
   "source": [
    "<pre>\n",
    "18/12/05 16:46:50 INFO mapreduce.Job: Counters: 49\n",
    "\t<strong>File System Counters</strong>\n",
    "\t\tFILE: Number of bytes read=156411\n",
    "\t\tFILE: Number of bytes written=813764\n",
    "...\n",
    "\t<strong>Job Counters</strong> \n",
    "\t\tLaunched map tasks=2\n",
    "\t\tLaunched reduce tasks=1\n",
    "...\n",
    "\t<strong>Map-Reduce Framework</strong>\n",
    "\t\tMap input records=5260\n",
    "\t\tMap output records=25956\n",
    "\t\tMap output bytes=104493\n",
    "\t\tMap output materialized bytes=156417\n",
    "\t\tInput split bytes=346\n",
    "\t\tCombine input records=0\n",
    "\t\tCombine output records=0\n",
    "\t\tReduce input groups=19\n",
    "\t\tReduce shuffle bytes=156417\n",
    "\t\tReduce input records=25956\n",
    "\t\tReduce output records=19\n",
    "\t\tSpilled Records=51912\n",
    "\t\tShuffled Maps =2\n",
    "\t\tFailed Shuffles=0\n",
    "\t\tMerged Map outputs=2\n",
    "\t\tGC time elapsed (ms)=193\n",
    "\t\tCPU time spent (ms)=4440\n",
    "\t\tPhysical memory (bytes) snapshot=1942798336\n",
    "\t\tVirtual memory (bytes) snapshot=8463282176\n",
    "\t\tTotal committed heap usage (bytes)=3177185280\n",
    "...\n",
    "18/12/05 16:46:50 INFO streaming.StreamJob: Output directory: /example/wordlengthsoutput\n",
    "</pre>"
   ]
  },
  {
   "cell_type": "markdown",
   "metadata": {},
   "source": [
    "<hr style=\"height:2px; border:none; color:#000; background-color:#000;\">"
   ]
  },
  {
   "cell_type": "markdown",
   "metadata": {},
   "source": [
    "### Viewing the Word Counts\n",
    "* **Hadoop MapReduce** saves its output into **HDFS**\n",
    "* To **view final word counts** you must look at the **file in cluster's HDFS**\n",
    "> ```\n",
    "hdfs dfs -text /example/wordlengthsoutput/part-00000\n",
    "```\n",
    "\n",
    "```\n",
    "18/12/05 16:47:19 INFO lzo.GPLNativeCodeLoader: Loaded native gpl library\n",
    "18/12/05 16:47:19 INFO lzo.LzoCodec: Successfully loaded & initialized native-lzo library [hadoop-lzo rev b5efb3e531bc1558201462b8ab15bb412ffa6b89]\n",
    "1\t4699\n",
    "2\t3869\n",
    "3\t5651\n",
    "4\t3668\n",
    "5\t2719\n",
    "6\t1624\n",
    "7\t1140\n",
    "8\t1062\n",
    "9\t855\n",
    "10\t317\n",
    "11\t189\n",
    "12\t95\n",
    "13\t35\n",
    "14\t13\n",
    "15\t9\n",
    "16\t6\n",
    "17\t3\n",
    "18\t1\n",
    "23\t1\n",
    "```"
   ]
  },
  {
   "cell_type": "markdown",
   "metadata": {},
   "source": [
    "<hr style=\"height:2px; border:none; color:#000; background-color:#000;\">"
   ]
  },
  {
   "cell_type": "markdown",
   "metadata": {},
   "source": [
    "### IMPORTANT: Deleting Your Cluster So You Do Not Incur Charges\n",
    "* **Be sure to delete your cluster(s) and associated resources (like storage) so you don’t incur additional charges** \n",
    "    * For details on deleting the cluster, see my [**Python Fundamentals LiveLessons videos**](https://learning.oreilly.com/videos/python-fundamentals/9780135917411/9780135917411-PFLL_Lesson16_32) (deleting is discussed around the 9:00 minute mark) and in [**Python for Programmers, Section 16.5.8**](https://learning.oreilly.com/library/view/python-for-programmers/9780135231364/ch16.xhtml#ch16lev2sec23)\n",
    "* [More information](https://docs.microsoft.com/en-us/azure/azure-resource-manager/resource-group-portal)"
   ]
  },
  {
   "cell_type": "markdown",
   "metadata": {},
   "source": [
    "<hr style=\"height:2px; border:none; color:#000; background-color:#000;\">"
   ]
  },
  {
   "cell_type": "markdown",
   "metadata": {},
   "source": [
    "### Lecture Note: Switch to **jupyter/pyspark-notebook Docker stack** for Spark presentation"
   ]
  },
  {
   "cell_type": "markdown",
   "metadata": {},
   "source": [
    "<hr style=\"height:2px; border:none; color:#000; background-color:#000;\">"
   ]
  },
  {
   "cell_type": "markdown",
   "metadata": {},
   "source": [
    "# More Info \n",
    "* See Lesson 16 in [**Python Fundamentals LiveLessons** here on O'Reilly Online Learning](https://learning.oreilly.com/videos/python-fundamentals/9780135917411)\n",
    "* See Chapter 16 in [**Python for Programmers** on O'Reilly Online Learning](https://learning.oreilly.com/library/view/python-for-programmers/9780135231364/)\n",
    "* See Chapter 17 in [**Intro Python for Computer Science and Data Science** on O'Reilly Online Learning](https://learning.oreilly.com/library/view/intro-to-python/9780135404799/)\n",
    "* Interested in a print book? Check out:\n",
    "\n",
    "| Python for Programmers<br>(640-page professional book) | Intro to Python for Computer<br>Science and Data Science<br>(880-page college textbook)\n",
    "| :------ | :------\n",
    "| <a href=\"https://amzn.to/2VvdnxE\"><img alt=\"Python for Programmers cover\" src=\"../images/PyFPCover.png\" width=\"150\" border=\"1\"/></a> | <a href=\"https://amzn.to/2LiDCmt\"><img alt=\"Intro to Python for Computer Science and Data Science: Learning to Program with AI, Big Data and the Cloud\" src=\"../images/IntroToPythonCover.png\" width=\"159\" border=\"1\"></a>\n",
    "\n",
    ">Please **do not** purchase both books&mdash;_Python for Programmers_ is a subset of _Intro to Python for Computer Science and Data Science_"
   ]
  },
  {
   "cell_type": "markdown",
   "metadata": {},
   "source": [
    "<hr style=\"height:2px; border:none; color:#000; background-color:#000;\">"
   ]
  },
  {
   "cell_type": "markdown",
   "metadata": {},
   "source": [
    "&copy; 2019 by Pearson Education, Inc. All Rights Reserved. The content in this notebook is based on the book [**Python for Programmers**](https://amzn.to/2VvdnxE)."
   ]
  }
 ],
 "metadata": {
  "kernelspec": {
   "display_name": "Python 3",
   "language": "python",
   "name": "python3"
  },
  "language_info": {
   "codemirror_mode": {
    "name": "ipython",
    "version": 3
   },
   "file_extension": ".py",
   "mimetype": "text/x-python",
   "name": "python",
   "nbconvert_exporter": "python",
   "pygments_lexer": "ipython3",
   "version": "3.8.5"
  }
 },
 "nbformat": 4,
 "nbformat_minor": 4
}
