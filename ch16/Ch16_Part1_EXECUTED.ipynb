{
 "cells": [
  {
   "cell_type": "markdown",
   "metadata": {},
   "source": [
    "&copy; 2019 by Pearson Education, Inc. All Rights Reserved. The content in this notebook is based on the book [**Python for Programmers**](https://amzn.to/2VvdnxE)."
   ]
  },
  {
   "cell_type": "markdown",
   "metadata": {},
   "source": [
    "# 16. Big Data: Hadoop, Spark, NoSQL and IoT "
   ]
  },
  {
   "cell_type": "code",
   "execution_count": 1,
   "metadata": {},
   "outputs": [],
   "source": [
    "# enable high-res images in notebook \n",
    "%config InlineBackend.figure_format = 'retina'\n",
    "%matplotlib inline"
   ]
  },
  {
   "cell_type": "markdown",
   "metadata": {},
   "source": [
    "# 16.1 Introduction\n",
    "### Big Data\n",
    "* Previous data-science case studies all focused on AI\n",
    "* Here, we focus on the **big-data infrastructure that supports AI solutions**\n",
    "* As **data grows exponentially**, we want to **learn** from that data&mdash;and at **blazing speed**\n",
    "* Done with **sophisticated algorithms**, hardware, software and networking designs\n",
    "* With **big data**, **machine learning** and **deep learning** can be even **more effective**"
   ]
  },
  {
   "cell_type": "markdown",
   "metadata": {},
   "source": [
    "<hr style=\"height:2px; border:none; color:#000; background-color:#000;\">"
   ]
  },
  {
   "cell_type": "markdown",
   "metadata": {},
   "source": [
    "# 16.3 NoSQL Big-Data Databases (1 of 2)\n",
    "* **Relational databases** store data in rectangular **tables**\n",
    "* **Not efficient** as **data volume** and the numbers of **tables** and **relationships between them** increases\n",
    "* Most data produced today is \n",
    "    * **Unstructured**&mdash;**photos**, **videos** and **natural language** (social-media posts, texts, ...), or\n",
    "    * **Semi-structured**&mdash;**JSON** and **XML** documents\n",
    "* **Metadata** adds structure to **unstructured data**, making it **semi-structured**\n",
    "    * **Tweets** (as you saw earlier)\n",
    "    * **YouTube videos**&mdash;**who posted** and **when**, **title**, **description**, ..."
   ]
  },
  {
   "cell_type": "markdown",
   "metadata": {},
   "source": [
    "<hr style=\"height:2px; border:none; color:#000; background-color:#000;\">"
   ]
  },
  {
   "cell_type": "markdown",
   "metadata": {},
   "source": [
    "# 16.3 NoSQL Big-Data Databases (2 of 2)\n",
    "* **NoSQL databases** are designed for \n",
    "    * **unstructured** and **semi-structured big-data** \n",
    "    * big data **storage and processing demands**\n",
    "* **Big data** requires **massive databases**, which can be spread across data centers worldwide in huge **clusters** of commodity computers\n",
    "* The name **NoSQL** originally meant what its name implies\n",
    "* With **growing use of SQL in big data**—such as **SQL on Hadoop** and **Spark SQL**—now it's said to stand for **“Not Only SQL”** "
   ]
  },
  {
   "cell_type": "markdown",
   "metadata": {},
   "source": [
    "<hr style=\"height:2px; border:none; color:#000; background-color:#000;\">"
   ]
  },
  {
   "cell_type": "markdown",
   "metadata": {},
   "source": [
    "### Four Major Types of **NoSQL Databases**\n",
    "* **key–value**\n",
    "* **document**\n",
    "* **columnar**\n",
    "* **graph**\n",
    "* Our NoSQL case study uses **MongoDB document database** &mdash; the most popular NoSQL database\n",
    "* **Overviews** of the **NoSQL database types** \n",
    "    * [**Python Fundamentals LiveLessons videos**](https://learning.oreilly.com/videos/python-fundamentals/9780135917411/9780135917411-PFLL_Lesson16_20) \n",
    "    * [**Python for Programmers, Section 16.3**](https://learning.oreilly.com/library/view/python-for-programmers/9780135231364/ch16.xhtml#ch16lev1sec3)"
   ]
  },
  {
   "cell_type": "markdown",
   "metadata": {},
   "source": [
    "<hr style=\"height:2px; border:none; color:#000; background-color:#000;\">"
   ]
  },
  {
   "cell_type": "markdown",
   "metadata": {},
   "source": [
    "# 16.4 Case Study: A MongoDB JSON Document Database \n",
    "* Store and search **JSON** for **streamed tweets** about **100 U.S. senators**\n",
    "* Summarize **top 10** by **tweet count**\n",
    "* Display **interactive map** containing **tweet count summaries**\n",
    "* I **pre-executed this example** because we stream 10,000 tweets, which can take substantial time \n",
    "* **Possible enhancement** &mdash; Use **sentiment analysis** to count **positive**, **negative** and **neutral tweets** mentioning each senator’s **handle**"
   ]
  },
  {
   "cell_type": "markdown",
   "metadata": {},
   "source": [
    "<hr style=\"height:2px; border:none; color:#000; background-color:#000;\">"
   ]
  },
  {
   "cell_type": "markdown",
   "metadata": {},
   "source": [
    "### Free Cloud-Based MongoDB Atlas Cluster \n",
    "* Requires **no installation** \n",
    "* Store up to **512MB of data**\n",
    "* Can store more with\n",
    "    * [**Free MongoDB Community Server**](https://www.mongodb.com/download-center/community), or \n",
    "    * **Paid MongoDB Atlas account**\n",
    "* **Creating your MongoDB Atlas cluster**\n",
    "    * I discuss the details of **signing up** for a MongoDB account, **creating the MongoDB Atlas Cluster**, **configuring** it and getting your **connection string** in my [**Python Fundamentals LiveLessons videos**](https://learning.oreilly.com/videos/python-fundamentals/9780135917411/9780135917411-PFLL_Lesson16_22https://learning.oreilly.com/videos/python-fundamentals/9780135917411) and in [**Python for Programmers, Section 16.4.1**](https://learning.oreilly.com/library/view/Python+for+Programmers,+First+Edition/9780135231364/ch16.xhtml#ch16lev2sec14)"
   ]
  },
  {
   "cell_type": "markdown",
   "metadata": {},
   "source": [
    "<hr style=\"height:2px; border:none; color:#000; background-color:#000;\">"
   ]
  },
  {
   "cell_type": "markdown",
   "metadata": {},
   "source": [
    "### Python Libraries Required for Interacting with MongoDB\n",
    "```\n",
    "conda install -c conda-forge pymongo\n",
    "conda install -c conda-forge dnspython\n",
    "```\n",
    "* **`pymongo` library** &mdash; interact with **MongoDB databases** from Python\n",
    "* **`dnspython` library** &mdash; used as part of connecting to a **MongoDB Atlas Cluster**"
   ]
  },
  {
   "cell_type": "markdown",
   "metadata": {},
   "source": [
    "<hr style=\"height:2px; border:none; color:#000; background-color:#000;\">"
   ]
  },
  {
   "cell_type": "markdown",
   "metadata": {},
   "source": [
    "### keys.py \n",
    "* **`keys.py`** must contain \n",
    "    * your **Twitter credentials** \n",
    "    * your **OpenMapQuest key** \n",
    "    * Your **MongoDB connection string** "
   ]
  },
  {
   "cell_type": "markdown",
   "metadata": {},
   "source": [
    "<hr style=\"height:2px; border:none; color:#000; background-color:#000;\">"
   ]
  },
  {
   "cell_type": "markdown",
   "metadata": {},
   "source": [
    "## 16.4.2 Streaming Tweets into MongoDB\n",
    "### Use Tweepy to Authenticate with Twitter and Get the API Object"
   ]
  },
  {
   "cell_type": "code",
   "execution_count": 2,
   "metadata": {},
   "outputs": [],
   "source": [
    "import tweepy, keys"
   ]
  },
  {
   "cell_type": "code",
   "execution_count": 3,
   "metadata": {},
   "outputs": [],
   "source": [
    "auth = tweepy.OAuthHandler(\n",
    "    keys.consumer_key, keys.consumer_secret)\n",
    "auth.set_access_token(keys.access_token, \n",
    "    keys.access_token_secret)"
   ]
  },
  {
   "cell_type": "code",
   "execution_count": 4,
   "metadata": {},
   "outputs": [],
   "source": [
    "api = tweepy.API(auth, wait_on_rate_limit=True, \n",
    "                 wait_on_rate_limit_notify=True)               "
   ]
  },
  {
   "cell_type": "markdown",
   "metadata": {},
   "source": [
    "<hr style=\"height:2px; border:none; color:#000; background-color:#000;\">"
   ]
  },
  {
   "cell_type": "markdown",
   "metadata": {},
   "source": [
    "### Loading the Senators’ Data (1 of 2)\n",
    "* **`senators.csv`** (provided in notebook's folder) contains each senator's \n",
    "    * two-letter state code\n",
    "    * name\n",
    "    * party \n",
    "    * Twitter handle\n",
    "    * Twitter ID\n",
    "* **Twitter handle and ID** used to track tweets **to**, **from** and **mentioning** each senator \n",
    "* When following users via **numeric Twitter IDs**, must submit IDs as **strings**"
   ]
  },
  {
   "cell_type": "markdown",
   "metadata": {},
   "source": [
    "<hr style=\"height:2px; border:none; color:#000; background-color:#000;\">"
   ]
  },
  {
   "cell_type": "markdown",
   "metadata": {},
   "source": [
    "### Loading the Senators’ Data (2 of 2)"
   ]
  },
  {
   "cell_type": "code",
   "execution_count": 5,
   "metadata": {},
   "outputs": [],
   "source": [
    "import pandas as pd"
   ]
  },
  {
   "cell_type": "code",
   "execution_count": 6,
   "metadata": {},
   "outputs": [],
   "source": [
    "senators_df = pd.read_csv('senators.csv')"
   ]
  },
  {
   "cell_type": "code",
   "execution_count": 7,
   "metadata": {},
   "outputs": [],
   "source": [
    "senators_df['TwitterID'] = senators_df['TwitterID'].astype(str)"
   ]
  },
  {
   "cell_type": "code",
   "execution_count": 8,
   "metadata": {},
   "outputs": [
    {
     "data": {
      "text/html": [
       "<div>\n",
       "<style scoped>\n",
       "    .dataframe tbody tr th:only-of-type {\n",
       "        vertical-align: middle;\n",
       "    }\n",
       "\n",
       "    .dataframe tbody tr th {\n",
       "        vertical-align: top;\n",
       "    }\n",
       "\n",
       "    .dataframe thead th {\n",
       "        text-align: right;\n",
       "    }\n",
       "</style>\n",
       "<table border=\"1\" class=\"dataframe\">\n",
       "  <thead>\n",
       "    <tr style=\"text-align: right;\">\n",
       "      <th></th>\n",
       "      <th>State</th>\n",
       "      <th>Name</th>\n",
       "      <th>Party</th>\n",
       "      <th>TwitterHandle</th>\n",
       "      <th>TwitterID</th>\n",
       "    </tr>\n",
       "  </thead>\n",
       "  <tbody>\n",
       "    <tr>\n",
       "      <th>0</th>\n",
       "      <td>AL</td>\n",
       "      <td>Richard Shelby</td>\n",
       "      <td>R</td>\n",
       "      <td>SenShelby</td>\n",
       "      <td>21111098</td>\n",
       "    </tr>\n",
       "    <tr>\n",
       "      <th>1</th>\n",
       "      <td>AL</td>\n",
       "      <td>Doug Jomes</td>\n",
       "      <td>D</td>\n",
       "      <td>SenDougJones</td>\n",
       "      <td>941080085121175552</td>\n",
       "    </tr>\n",
       "    <tr>\n",
       "      <th>2</th>\n",
       "      <td>AK</td>\n",
       "      <td>Lisa Murkowski</td>\n",
       "      <td>R</td>\n",
       "      <td>lisamurkowski</td>\n",
       "      <td>18061669</td>\n",
       "    </tr>\n",
       "    <tr>\n",
       "      <th>3</th>\n",
       "      <td>AK</td>\n",
       "      <td>Dan Sullivan</td>\n",
       "      <td>R</td>\n",
       "      <td>SenDanSullivan</td>\n",
       "      <td>2891210047</td>\n",
       "    </tr>\n",
       "    <tr>\n",
       "      <th>4</th>\n",
       "      <td>AZ</td>\n",
       "      <td>Martha McSally</td>\n",
       "      <td>R</td>\n",
       "      <td>SenMcSallyAZ</td>\n",
       "      <td>2964949642</td>\n",
       "    </tr>\n",
       "  </tbody>\n",
       "</table>\n",
       "</div>"
      ],
      "text/plain": [
       "  State            Name Party   TwitterHandle           TwitterID\n",
       "0    AL  Richard Shelby     R       SenShelby            21111098\n",
       "1    AL      Doug Jomes     D    SenDougJones  941080085121175552\n",
       "2    AK  Lisa Murkowski     R   lisamurkowski            18061669\n",
       "3    AK    Dan Sullivan     R  SenDanSullivan          2891210047\n",
       "4    AZ  Martha McSally     R    SenMcSallyAZ          2964949642"
      ]
     },
     "execution_count": 8,
     "metadata": {},
     "output_type": "execute_result"
    }
   ],
   "source": [
    "senators_df.head()"
   ]
  },
  {
   "cell_type": "markdown",
   "metadata": {},
   "source": [
    "<hr style=\"height:2px; border:none; color:#000; background-color:#000;\">"
   ]
  },
  {
   "cell_type": "markdown",
   "metadata": {},
   "source": [
    "### Configuring the `pymongo` `MongoClient` "
   ]
  },
  {
   "cell_type": "code",
   "execution_count": 9,
   "metadata": {},
   "outputs": [],
   "source": [
    "from pymongo import MongoClient"
   ]
  },
  {
   "cell_type": "code",
   "execution_count": 10,
   "metadata": {},
   "outputs": [],
   "source": [
    "atlas_client = MongoClient(keys.mongo_connection_string)"
   ]
  },
  {
   "cell_type": "markdown",
   "metadata": {},
   "source": [
    "<hr style=\"height:2px; border:none; color:#000; background-color:#000;\">"
   ]
  },
  {
   "cell_type": "markdown",
   "metadata": {},
   "source": [
    "### Get **`pymongo` `Database`** Object Representing the `senators` Database\n",
    "* **Creates the database** if it does not exist\n",
    "* Will be used to store the collection of **tweet JSON documents**"
   ]
  },
  {
   "cell_type": "code",
   "execution_count": 11,
   "metadata": {},
   "outputs": [],
   "source": [
    "db = atlas_client.senators "
   ]
  },
  {
   "cell_type": "markdown",
   "metadata": {},
   "source": [
    "### Setting up Tweet Stream\n",
    "* **`TweetListener`** uses the **`db` object** representing the **senators database** to store tweets \n",
    "    * Depending on the rate at which people are tweeting about the senators, it may take **minutes to hours** to get **10,000 tweets**"
   ]
  },
  {
   "cell_type": "code",
   "execution_count": 12,
   "metadata": {},
   "outputs": [],
   "source": [
    "from tweetlistener import TweetListener"
   ]
  },
  {
   "cell_type": "code",
   "execution_count": 13,
   "metadata": {},
   "outputs": [],
   "source": [
    "tweet_limit = 10000"
   ]
  },
  {
   "cell_type": "code",
   "execution_count": 14,
   "metadata": {},
   "outputs": [],
   "source": [
    "twitter_stream = tweepy.Stream(api.auth, \n",
    "    TweetListener(api, db, tweet_limit)) "
   ]
  },
  {
   "cell_type": "markdown",
   "metadata": {},
   "source": [
    "<hr style=\"height:2px; border:none; color:#000; background-color:#000;\">"
   ]
  },
  {
   "cell_type": "markdown",
   "metadata": {},
   "source": [
    "### Starting the Live Tweet Stream\n",
    "* Currently, can **track** up to **400 keywords** and **follow** up to **5,000 Twitter IDs** at a time\n",
    "    * **`track`** senators’ Twitter handles as keywords\n",
    "    * **`follow`** their **IDs**  \n",
    "* Together, this will get tweets **from**, **to** and **about** each senator"
   ]
  },
  {
   "cell_type": "code",
   "execution_count": 15,
   "metadata": {},
   "outputs": [
    {
     "name": "stdout",
     "output_type": "stream",
     "text": [
      "    Screen name: Sue Seg\n",
      "     Created at: Tue Oct 20 00:26:18 +0000 2020\n",
      "Tweets received: 10000\n"
     ]
    }
   ],
   "source": [
    "twitter_stream.filter(track=senators_df.TwitterHandle.tolist(),\n",
    "    follow=senators_df.TwitterID.tolist())"
   ]
  },
  {
   "cell_type": "markdown",
   "metadata": {},
   "source": [
    "<hr style=\"height:2px; border:none; color:#000; background-color:#000;\">"
   ]
  },
  {
   "cell_type": "markdown",
   "metadata": {},
   "source": [
    "### Class `TweetListener` "
   ]
  },
  {
   "cell_type": "markdown",
   "metadata": {},
   "source": [
    "```python\n",
    "# tweetlistener.py\n",
    "\"\"\"TweetListener downloads tweets and stores them in MongoDB.\"\"\"\n",
    "import json\n",
    "import tweepy\n",
    "from IPython.display import clear_output\n",
    "\n",
    "class TweetListener(tweepy.StreamListener):\n",
    "    \"\"\"Handles incoming Tweet stream.\"\"\"\n",
    "\n",
    "```"
   ]
  },
  {
   "cell_type": "markdown",
   "metadata": {},
   "source": [
    "```python\n",
    "    def __init__(self, api, database, limit=10000):\n",
    "        \"\"\"Create instance variables for tracking number of tweets.\"\"\"\n",
    "        self.db = database\n",
    "        self.tweet_count = 0\n",
    "        self.TWEET_LIMIT = limit  # 10,000 by default\n",
    "        super().__init__(api)  # call superclass's init\n",
    "\n",
    "    def on_connect(self):\n",
    "        \"\"\"Called when your connection attempt is successful, enabling \n",
    "        you to perform appropriate application tasks at that point.\"\"\"\n",
    "        print('Successfully connected to Twitter\\n')\n",
    "\n",
    "```"
   ]
  },
  {
   "cell_type": "markdown",
   "metadata": {},
   "source": [
    "```python\n",
    "    def on_data(self, data):\n",
    "        \"\"\"Called when Twitter pushes a new tweet to you.\"\"\"\n",
    "        self.tweet_count += 1  # track number of tweets processed\n",
    "        json_data = json.loads(data)  # convert string to JSON\n",
    "        self.db.tweets.insert_one(json_data)  # store in tweets collection\n",
    "        clear_output()  # ADDED: show one tweet at a time in Jupyter Notebook\n",
    "        print(f'    Screen name: {json_data[\"user\"][\"name\"]}') \n",
    "        print(f'     Created at: {json_data[\"created_at\"]}')         \n",
    "        print(f'Tweets received: {self.tweet_count}')         \n",
    "\n",
    "        # if TWEET_LIMIT is reached, return False to terminate streaming\n",
    "        return self.tweet_count < self.TWEET_LIMIT\n",
    "    \n",
    "    def on_error(self, status):\n",
    "        print(status)\n",
    "        return True\n",
    "```"
   ]
  },
  {
   "cell_type": "markdown",
   "metadata": {},
   "source": [
    "<hr style=\"height:2px; border:none; color:#000; background-color:#000;\">"
   ]
  },
  {
   "cell_type": "markdown",
   "metadata": {},
   "source": [
    "### Counting Tweets for Each Senator (1 of 2)\n",
    "* MongoDB **text search** requires a **text index** specifying **document field(s) to search** \n",
    "\t* MongoDB [index types](https://docs.mongodb.com/manual/indexes), [text indexes](https://docs.mongodb.com/manual/core/index-text) and [operators](https://docs.mongodb.com/manual/reference/operator)\n",
    "* A **text index** is defined as a **tuple** containing **field name** to search and **index type** (`'text'`)\n",
    "* **Wildcard field name (\\$\\*\\*)** indexes **all** text fields for a **full-text search**"
   ]
  },
  {
   "cell_type": "code",
   "execution_count": 16,
   "metadata": {},
   "outputs": [
    {
     "data": {
      "text/plain": [
       "'$**_text'"
      ]
     },
     "execution_count": 16,
     "metadata": {},
     "output_type": "execute_result"
    }
   ],
   "source": [
    "db.tweets.create_index([('$**', 'text')])"
   ]
  },
  {
   "cell_type": "markdown",
   "metadata": {},
   "source": [
    "<hr style=\"height:2px; border:none; color:#000; background-color:#000;\">"
   ]
  },
  {
   "cell_type": "markdown",
   "metadata": {},
   "source": [
    "### Counting Tweets for Each Senator (2 of 2)\n",
    "* Use **`tweets` `Collection`’s `count_documents` method** and **full-text search** to count the total number of documents in the collection that contain the specified text\n",
    "    * Find every **twitter handle** in `senators_df.TwitterHandle` column\n",
    "    * `{\"$text\": {\"$search\": senator}}` indicates that we’re **using the `text` index** to **`search`** for the value of **`senator`**"
   ]
  },
  {
   "cell_type": "code",
   "execution_count": 17,
   "metadata": {},
   "outputs": [],
   "source": [
    "tweet_counts = []"
   ]
  },
  {
   "cell_type": "code",
   "execution_count": 18,
   "metadata": {},
   "outputs": [],
   "source": [
    "for senator in senators_df.TwitterHandle:\n",
    "    tweet_counts.append(db.tweets.count_documents(\n",
    "        {\"$text\": {\"$search\": senator}}))"
   ]
  },
  {
   "cell_type": "markdown",
   "metadata": {},
   "source": [
    "<hr style=\"height:2px; border:none; color:#000; background-color:#000;\">"
   ]
  },
  {
   "cell_type": "markdown",
   "metadata": {},
   "source": [
    "### Show Tweet Counts for Each Senator \n",
    "* Create copy of **`DataFrame` `senators_df`** adding a new column of **`tweet_counts`** \n",
    "* Display the **top-10 senators by tweet count**"
   ]
  },
  {
   "cell_type": "code",
   "execution_count": 19,
   "metadata": {},
   "outputs": [],
   "source": [
    "tweet_counts_df = senators_df.assign(Tweets=tweet_counts)  "
   ]
  },
  {
   "cell_type": "code",
   "execution_count": 20,
   "metadata": {},
   "outputs": [
    {
     "data": {
      "text/html": [
       "<div>\n",
       "<style scoped>\n",
       "    .dataframe tbody tr th:only-of-type {\n",
       "        vertical-align: middle;\n",
       "    }\n",
       "\n",
       "    .dataframe tbody tr th {\n",
       "        vertical-align: top;\n",
       "    }\n",
       "\n",
       "    .dataframe thead th {\n",
       "        text-align: right;\n",
       "    }\n",
       "</style>\n",
       "<table border=\"1\" class=\"dataframe\">\n",
       "  <thead>\n",
       "    <tr style=\"text-align: right;\">\n",
       "      <th></th>\n",
       "      <th>State</th>\n",
       "      <th>Name</th>\n",
       "      <th>Party</th>\n",
       "      <th>TwitterHandle</th>\n",
       "      <th>TwitterID</th>\n",
       "      <th>Tweets</th>\n",
       "    </tr>\n",
       "  </thead>\n",
       "  <tbody>\n",
       "    <tr>\n",
       "      <th>62</th>\n",
       "      <td>NY</td>\n",
       "      <td>Chuck Schumer</td>\n",
       "      <td>D</td>\n",
       "      <td>SenSchumer</td>\n",
       "      <td>17494010</td>\n",
       "      <td>3268</td>\n",
       "    </tr>\n",
       "    <tr>\n",
       "      <th>32</th>\n",
       "      <td>KY</td>\n",
       "      <td>Mitch McConnell</td>\n",
       "      <td>R</td>\n",
       "      <td>SenateMajLdr</td>\n",
       "      <td>1249982359</td>\n",
       "      <td>2381</td>\n",
       "    </tr>\n",
       "    <tr>\n",
       "      <th>78</th>\n",
       "      <td>SC</td>\n",
       "      <td>Lindsey Graham</td>\n",
       "      <td>R</td>\n",
       "      <td>LindseyGrahamSC</td>\n",
       "      <td>432895323</td>\n",
       "      <td>2218</td>\n",
       "    </tr>\n",
       "    <tr>\n",
       "      <th>17</th>\n",
       "      <td>FL</td>\n",
       "      <td>Marco Rubio</td>\n",
       "      <td>R</td>\n",
       "      <td>marcorubio</td>\n",
       "      <td>15745368</td>\n",
       "      <td>1731</td>\n",
       "    </tr>\n",
       "    <tr>\n",
       "      <th>12</th>\n",
       "      <td>CT</td>\n",
       "      <td>Christopher Murphy</td>\n",
       "      <td>D</td>\n",
       "      <td>ChrisMurphyCT</td>\n",
       "      <td>150078976</td>\n",
       "      <td>1333</td>\n",
       "    </tr>\n",
       "    <tr>\n",
       "      <th>95</th>\n",
       "      <td>WV</td>\n",
       "      <td>Joe Manchin</td>\n",
       "      <td>D</td>\n",
       "      <td>Sen_JoeManchin</td>\n",
       "      <td>234374703</td>\n",
       "      <td>1172</td>\n",
       "    </tr>\n",
       "    <tr>\n",
       "      <th>13</th>\n",
       "      <td>CT</td>\n",
       "      <td>Richard Blumenthal</td>\n",
       "      <td>D</td>\n",
       "      <td>SenBlumenthal</td>\n",
       "      <td>278124059</td>\n",
       "      <td>1086</td>\n",
       "    </tr>\n",
       "    <tr>\n",
       "      <th>85</th>\n",
       "      <td>TX</td>\n",
       "      <td>Ted Cruz</td>\n",
       "      <td>R</td>\n",
       "      <td>SenTedCruz</td>\n",
       "      <td>1074480192</td>\n",
       "      <td>678</td>\n",
       "    </tr>\n",
       "    <tr>\n",
       "      <th>84</th>\n",
       "      <td>TX</td>\n",
       "      <td>John Cornyn</td>\n",
       "      <td>R</td>\n",
       "      <td>JohnCornyn</td>\n",
       "      <td>13218102</td>\n",
       "      <td>509</td>\n",
       "    </tr>\n",
       "    <tr>\n",
       "      <th>44</th>\n",
       "      <td>MN</td>\n",
       "      <td>Amy Klobuchar</td>\n",
       "      <td>D</td>\n",
       "      <td>amyklobuchar</td>\n",
       "      <td>33537967</td>\n",
       "      <td>467</td>\n",
       "    </tr>\n",
       "  </tbody>\n",
       "</table>\n",
       "</div>"
      ],
      "text/plain": [
       "   State                Name Party    TwitterHandle   TwitterID  Tweets\n",
       "62    NY       Chuck Schumer     D       SenSchumer    17494010    3268\n",
       "32    KY     Mitch McConnell     R     SenateMajLdr  1249982359    2381\n",
       "78    SC      Lindsey Graham     R  LindseyGrahamSC   432895323    2218\n",
       "17    FL         Marco Rubio     R       marcorubio    15745368    1731\n",
       "12    CT  Christopher Murphy     D    ChrisMurphyCT   150078976    1333\n",
       "95    WV         Joe Manchin     D   Sen_JoeManchin   234374703    1172\n",
       "13    CT  Richard Blumenthal     D    SenBlumenthal   278124059    1086\n",
       "85    TX            Ted Cruz     R       SenTedCruz  1074480192     678\n",
       "84    TX         John Cornyn     R       JohnCornyn    13218102     509\n",
       "44    MN       Amy Klobuchar     D     amyklobuchar    33537967     467"
      ]
     },
     "execution_count": 20,
     "metadata": {},
     "output_type": "execute_result"
    }
   ],
   "source": [
    "tweet_counts_df.sort_values(by='Tweets', ascending=False).head(10)"
   ]
  },
  {
   "cell_type": "markdown",
   "metadata": {},
   "source": [
    "<hr style=\"height:2px; border:none; color:#000; background-color:#000;\">"
   ]
  },
  {
   "cell_type": "markdown",
   "metadata": {},
   "source": [
    "### Get the State Locations for Plotting Markers (1 of 3)\n",
    "* Get each **state’s latitude and longitude** coordinates for **plotting on a map**\n",
    "* **`state_codes.py`** contains a dictionary that maps **two-letter state codes** to **full state names**\n",
    "    * Used with **`geopy`** to look up the location of each state"
   ]
  },
  {
   "cell_type": "code",
   "execution_count": 21,
   "metadata": {},
   "outputs": [],
   "source": [
    "from geopy import OpenMapQuest"
   ]
  },
  {
   "cell_type": "code",
   "execution_count": 22,
   "metadata": {},
   "outputs": [],
   "source": [
    "import time"
   ]
  },
  {
   "cell_type": "code",
   "execution_count": 23,
   "metadata": {},
   "outputs": [],
   "source": [
    "from state_codes import state_codes"
   ]
  },
  {
   "cell_type": "markdown",
   "metadata": {},
   "source": [
    "* Get the **`geocoder` object** to **translate location names** into **`Location` objects**"
   ]
  },
  {
   "cell_type": "code",
   "execution_count": 24,
   "metadata": {},
   "outputs": [],
   "source": [
    "geo = OpenMapQuest(api_key=keys.mapquest_key) "
   ]
  },
  {
   "cell_type": "markdown",
   "metadata": {},
   "source": [
    "<hr style=\"height:2px; border:none; color:#000; background-\n",
    "color:#000;\">"
   ]
  },
  {
   "cell_type": "markdown",
   "metadata": {},
   "source": [
    "### Get the State Locations for Plotting Markers (2 of 3)\n",
    "* Get and sort the unique state names"
   ]
  },
  {
   "cell_type": "code",
   "execution_count": 25,
   "metadata": {},
   "outputs": [],
   "source": [
    "states = tweet_counts_df.State.unique()  # get unique state names"
   ]
  },
  {
   "cell_type": "code",
   "execution_count": 26,
   "metadata": {},
   "outputs": [],
   "source": [
    "states.sort() "
   ]
  },
  {
   "cell_type": "markdown",
   "metadata": {},
   "source": [
    "<hr style=\"height:2px; border:none; color:#000; background-color:#000;\">"
   ]
  },
  {
   "cell_type": "markdown",
   "metadata": {},
   "source": [
    "### Get the State Locations for Plotting Markers (3 of 3)\n",
    "* Look up **each state’s location**\n",
    "* Call `geocode` with state name followed by `', USA'` \n",
    "    * Ensures that we get United States locations"
   ]
  },
  {
   "cell_type": "code",
   "execution_count": 27,
   "metadata": {},
   "outputs": [],
   "source": [
    "locations = []"
   ]
  },
  {
   "cell_type": "code",
   "execution_count": 28,
   "metadata": {},
   "outputs": [
    {
     "name": "stdout",
     "output_type": "stream",
     "text": [
      "Wyoming, United States of America\n"
     ]
    }
   ],
   "source": [
    "from IPython.display import clear_output\n",
    "\n",
    "for state in states:\n",
    "    processed = False\n",
    "    delay = .1 \n",
    "    while not processed:\n",
    "        try: \n",
    "            locations.append(geo.geocode(state_codes[state] + ', USA'))\n",
    "            clear_output()  # clear cell's current output before showing next one\n",
    "            print(locations[-1])  \n",
    "            processed = True\n",
    "        except:  # timed out, so wait before trying again\n",
    "            print('OpenMapQuest service timed out. Waiting.')\n",
    "            time.sleep(delay)\n",
    "            delay += .1"
   ]
  },
  {
   "cell_type": "markdown",
   "metadata": {},
   "source": [
    "<hr style=\"height:2px; border:none; color:#000; background-color:#000;\">"
   ]
  },
  {
   "cell_type": "markdown",
   "metadata": {},
   "source": [
    "### Grouping the Tweet Counts by State \n",
    "* **Tweet total** for a states' two senators is used to **color the map**\n",
    "    * **Darker colors** represent **higher tweet counts**\n",
    "* **`DataFrame` method `groupby`** to group the senators by state \n",
    "    * **`as_index=False`**&mdash;state codes should be a column in returned **`GroupBy`** object, rather than indices for the object's rows\n",
    "* **`GroupBy`** object's **`sum`** method totals the numeric data by state"
   ]
  },
  {
   "cell_type": "code",
   "execution_count": 29,
   "metadata": {},
   "outputs": [],
   "source": [
    "tweets_counts_by_state = tweet_counts_df.groupby(\n",
    "    'State', as_index=False).sum()"
   ]
  },
  {
   "cell_type": "code",
   "execution_count": 30,
   "metadata": {},
   "outputs": [
    {
     "data": {
      "text/html": [
       "<div>\n",
       "<style scoped>\n",
       "    .dataframe tbody tr th:only-of-type {\n",
       "        vertical-align: middle;\n",
       "    }\n",
       "\n",
       "    .dataframe tbody tr th {\n",
       "        vertical-align: top;\n",
       "    }\n",
       "\n",
       "    .dataframe thead th {\n",
       "        text-align: right;\n",
       "    }\n",
       "</style>\n",
       "<table border=\"1\" class=\"dataframe\">\n",
       "  <thead>\n",
       "    <tr style=\"text-align: right;\">\n",
       "      <th></th>\n",
       "      <th>State</th>\n",
       "      <th>Tweets</th>\n",
       "    </tr>\n",
       "  </thead>\n",
       "  <tbody>\n",
       "    <tr>\n",
       "      <th>0</th>\n",
       "      <td>AK</td>\n",
       "      <td>283</td>\n",
       "    </tr>\n",
       "    <tr>\n",
       "      <th>1</th>\n",
       "      <td>AL</td>\n",
       "      <td>55</td>\n",
       "    </tr>\n",
       "    <tr>\n",
       "      <th>2</th>\n",
       "      <td>AR</td>\n",
       "      <td>144</td>\n",
       "    </tr>\n",
       "    <tr>\n",
       "      <th>3</th>\n",
       "      <td>AZ</td>\n",
       "      <td>177</td>\n",
       "    </tr>\n",
       "    <tr>\n",
       "      <th>4</th>\n",
       "      <td>CA</td>\n",
       "      <td>502</td>\n",
       "    </tr>\n",
       "  </tbody>\n",
       "</table>\n",
       "</div>"
      ],
      "text/plain": [
       "  State  Tweets\n",
       "0    AK     283\n",
       "1    AL      55\n",
       "2    AR     144\n",
       "3    AZ     177\n",
       "4    CA     502"
      ]
     },
     "execution_count": 30,
     "metadata": {},
     "output_type": "execute_result"
    }
   ],
   "source": [
    "tweets_counts_by_state.head()"
   ]
  },
  {
   "cell_type": "markdown",
   "metadata": {},
   "source": [
    "<hr style=\"height:2px; border:none; color:#000; background-color:#000;\">"
   ]
  },
  {
   "cell_type": "markdown",
   "metadata": {},
   "source": [
    "### Creating the Map "
   ]
  },
  {
   "cell_type": "code",
   "execution_count": 31,
   "metadata": {},
   "outputs": [],
   "source": [
    "import folium"
   ]
  },
  {
   "cell_type": "code",
   "execution_count": 32,
   "metadata": {},
   "outputs": [],
   "source": [
    "usmap = folium.Map(location=[39.8283, -98.5795], \n",
    "                   zoom_start=4, detect_retina=True,\n",
    "                   tiles='Stamen Toner')"
   ]
  },
  {
   "cell_type": "markdown",
   "metadata": {},
   "source": [
    "<hr style=\"height:2px; border:none; color:#000; background-color:#000;\">"
   ]
  },
  {
   "cell_type": "markdown",
   "metadata": {},
   "source": [
    "### Creating a Choropleth to Color the Map\n",
    "* A **choropleth** shades areas in a map using magnitudes of numerical values to determine color\n",
    "* For a **detailed description of the arguments** below, see \n",
    "    * [**Python Fundamentals LiveLessons videos**](https://learning.oreilly.com/videos/python-fundamentals/9780135917411/9780135917411-PFLL_Lesson16_23) \n",
    "    * [**Python for Programmers, Section 16.4.2** (under the heading \"Creating a Choropleth to Color the Map\"](https://learning.oreilly.com/library/view/python-for-programmers/9780135231364/ch16.xhtml#ch16lev2sec15)"
   ]
  },
  {
   "cell_type": "code",
   "execution_count": 33,
   "metadata": {},
   "outputs": [],
   "source": [
    "choropleth = folium.Choropleth(\n",
    "    geo_data='us-states.json',\n",
    "    name='choropleth',\n",
    "    data=tweets_counts_by_state,\n",
    "    columns=['State', 'Tweets'],\n",
    "    key_on='feature.id',\n",
    "    fill_color='YlOrRd',\n",
    "    fill_opacity=0.7,\n",
    "    line_opacity=0.2,\n",
    "    legend_name='Tweets by State'\n",
    ").add_to(usmap)\n",
    "\n",
    "layer = folium.LayerControl().add_to(usmap)"
   ]
  },
  {
   "cell_type": "markdown",
   "metadata": {},
   "source": [
    "<hr style=\"height:2px; border:none; color:#000; background-color:#000;\">"
   ]
  },
  {
   "cell_type": "markdown",
   "metadata": {},
   "source": [
    "### Creating the Map Markers for Each State (1 of 1)\n",
    "* Sort senators in **descending order** by **tweet count**\n",
    "* **`groupby`** maintains **original row order** in each group\n",
    "* **`index`** &mdash; used to look up each state’s location in **`locations` list**\n",
    "* **name** &mdash; two-letter **state code**\n",
    "* **`group`** &mdash; collection of a **state's two senators**"
   ]
  },
  {
   "cell_type": "code",
   "execution_count": 34,
   "metadata": {},
   "outputs": [],
   "source": [
    "sorted_df = tweet_counts_df.sort_values(by='Tweets', ascending=False)\n",
    "\n",
    "for index, (name, group) in enumerate(sorted_df.groupby('State')):\n",
    "    strings = [state_codes[name]]  # used to assemble popup text\n",
    "\n",
    "    for s in group.itertuples():\n",
    "        strings.append(f'{s.Name} ({s.Party}); Tweets: {s.Tweets}')\n",
    "        \n",
    "    text = '<br>'.join(strings)  \n",
    "    popup = folium.Popup(text, max_width=200)\n",
    "    marker = folium.Marker(\n",
    "        (locations[index].latitude, locations[index].longitude), \n",
    "        popup=popup)\n",
    "    marker.add_to(usmap) "
   ]
  },
  {
   "cell_type": "markdown",
   "metadata": {},
   "source": [
    "<hr style=\"height:2px; border:none; color:#000; background-color:#000;\">"
   ]
  },
  {
   "cell_type": "markdown",
   "metadata": {},
   "source": [
    "### Saving and Displaying the Map "
   ]
  },
  {
   "cell_type": "code",
   "execution_count": 35,
   "metadata": {},
   "outputs": [],
   "source": [
    "usmap.save('SenatorsTweets.html')"
   ]
  },
  {
   "cell_type": "code",
   "execution_count": 36,
   "metadata": {},
   "outputs": [
    {
     "data": {
      "text/html": [
       "<div style=\"width:100%;\"><div style=\"position:relative;width:100%;height:0;padding-bottom:60%;\"><iframe src=\"data:text/html;charset=utf-8;base64,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\" style=\"position:absolute;width:100%;height:100%;left:0;top:0;border:none !important;\" allowfullscreen webkitallowfullscreen mozallowfullscreen></iframe></div></div>"
      ],
      "text/plain": [
       "<folium.folium.Map at 0x7fe88800f7f0>"
      ]
     },
     "execution_count": 36,
     "metadata": {},
     "output_type": "execute_result"
    }
   ],
   "source": [
    "usmap \n",
    "#from IPython.display import IFrame\n",
    "#IFrame(src=\"./SenatorsTweets.html\", width=800, height=450)"
   ]
  },
  {
   "cell_type": "markdown",
   "metadata": {},
   "source": [
    "<hr style=\"height:2px; border:none; color:#000; background-color:#000;\">"
   ]
  },
  {
   "cell_type": "markdown",
   "metadata": {},
   "source": [
    "# 16.5 Hadoop\n",
    "\\[We'll cover this example if we have time. The complete presentation can be viewed in my **[Python Fundamentals](https://learning.oreilly.com/videos/python-fundamentals/9780135917411/9780135917411-PFLL_Lesson16_24) (10 videos)**\\]\n",
    "&nbsp;  \n",
    "&nbsp;  \n",
    "\n",
    "* **Apache Hadoop** and **Apache Spark** deal with **big-data storage and processing challenges** via \n",
    "    * huge **clusters** of computers \n",
    "    * **distributed data storage** \n",
    "    * **massively parallel processing**\n",
    "    * Hadoop **MapReduce** programming\n",
    "    * Spark **in-memory processing** techniques\n",
    "* **Hadoop** also serves as the **foundation** for many recent advancements in **big-data processing** and an entire **ecosystem of software tools**\n",
    "\n",
    "<!--\n",
    "\n",
    "* For a list of **Hadoop ecosystem components**, see my [**Python Fundamentals LiveLessons videos**](https://learning.oreilly.com/videos/python-fundamentals/9780135917411/) (big data lesson coming soon) or [**Python for Programmers, Section 16.5.1**](https://learning.oreilly.com/library/view/python-for-programmers/9780135231364/ch16.xhtml#ch16lev2sec16)\n",
    "\n",
    "-->"
   ]
  },
  {
   "cell_type": "markdown",
   "metadata": {},
   "source": [
    "<hr style=\"height:2px; border:none; color:#000; background-color:#000;\">"
   ]
  },
  {
   "cell_type": "markdown",
   "metadata": {},
   "source": [
    "## 16.5.1 Hadoop Overview (1 of 2)\n",
    "* Early on, Google knew they needed to **return search results quickly**\n",
    "* The only practical way &mdash; **store and index the entire web** \n",
    "* Late 90s computers couldn’t store and analyze such a **large volume of data economically and fast enough**\n",
    "* Google developed a **clustering** system with vast numbers of computers (**nodes**)\n",
    "    * **greater chance of hardware failures** so they built in high levels of **redundancy** \n",
    "    * Data distributed across all these **commodity computers**\n",
    "* For a **search request**, all computers searched their portion of the web **in parallel**\n",
    "    * Then results were **gathered and returned**"
   ]
  },
  {
   "cell_type": "markdown",
   "metadata": {},
   "source": [
    "<hr style=\"height:2px; border:none; color:#000; background-color:#000;\">"
   ]
  },
  {
   "cell_type": "markdown",
   "metadata": {},
   "source": [
    "## 16.5.1 Hadoop Overview (2 of 2)\n",
    "* Google developed **clustering hardware and software** and **distributed storage**\n",
    "* **Published its designs**\n",
    "* Programmers at Yahoo!, working from Google’s [**“Google File System” paper**](http://static.googleusercontent.com/media/research.google.com/en//archive/gfs-sosp2003.pdf), built their own system\n",
    "* They **open-sourced** their work and **Apache.org** implemented **Hadoop**\n",
    "* Named for an **elephant** stuffed animal that belonged to a child of one of Hadoop’s creators\n",
    "    * Inspiration for our textbook cover\n",
    "* Two **additional Google papers** contributed to evolution of Hadoop\n",
    "\t* [**“MapReduce: Simplified Data Processing on Large Clusters”**](http://static.googleusercontent.com/media/research.google.com/en//archive/mapreduce-osdi04.pdf) \n",
    "\t* [**“Bigtable: A Distributed Storage System for Structured Data”**](http://static.googleusercontent.com/media/research.google.com/en//archive/bigtable-osdi06.pdf) \n",
    "\t\t* Basis for Apache HBase (a NoSQL key–value and column-based database)."
   ]
  },
  {
   "cell_type": "markdown",
   "metadata": {},
   "source": [
    "<hr style=\"height:2px; border:none; color:#000; background-color:#000;\">"
   ]
  },
  {
   "cell_type": "markdown",
   "metadata": {},
   "source": [
    "### HDFS, `MapReduce` and YARN (1 of 2)\n",
    "* Hadoop’s key components are: \n",
    "\t* **HDFS** (Hadoop Distributed File System) for **storing massive amounts of data** throughout a **cluster** \n",
    "\t* **MapReduce** for implementing the **tasks that process the data**\n",
    "        * Like **filter/map/reduce** in functional-style programming, but **massively parallel**\n",
    "* **MapReduce** performs two steps—**mapping** and **reduction**\n",
    "    * **Mapping** (and **filtering**) &mdash; processes original data across **entire cluster** and **maps** it into tuples of **key–value pairs**\n",
    "    * **Reduction** &mdash; **combines** those tuples to **produce the results**"
   ]
  },
  {
   "cell_type": "markdown",
   "metadata": {},
   "source": [
    "<hr style=\"height:2px; border:none; color:#000; background-color:#000;\">"
   ]
  },
  {
   "cell_type": "markdown",
   "metadata": {},
   "source": [
    "### HDFS, `MapReduce` and YARN (2 of 2)\n",
    "* Hadoop divides data into **batches** and **distributes** across **cluster's nodes**\n",
    "* Also **distributes MapReduce code** to **execute in parallel on every node**\n",
    "    * Each **node** processes the **batch of data** stored **on that node**\n",
    "* **Reduction combines results** from **all nodes** to produce **final result**\n",
    "* **YARN** (“yet another resource negotiator”) **manages all resources** in the **cluster** and **schedules tasks** for execution"
   ]
  },
  {
   "cell_type": "markdown",
   "metadata": {},
   "source": [
    "<hr style=\"height:2px; border:none; color:#000; background-color:#000;\">"
   ]
  },
  {
   "cell_type": "markdown",
   "metadata": {},
   "source": [
    "### Hadoop Ecosystem \n",
    "* **Hadoop began** with **HDFS** and **MapReduce**, followed closely by **YARN**\n",
    "* Now it's a **large ecosystem**, including **Hadoop 3** (3.2 released in January), **Spark** and many other Apache projects[\\[1\\]](https://hortonworks.com/ecosystems/),[\\[2\\]](https://readwrite.com/2018/06/26/complete-guide-of-hadoop-ecosystem-components/),[\\[3\\]](https://www.janbasktraining.com/blog/introduction-architecture-components-hadoop-ecosystem/)\n",
    "* [See our table of Hadoop Ecosystem Components](https://learning.oreilly.com/library/view/Python+for+Programmers,+First+Edition/9780135231364/ch16.xhtml#ch16lev2sec16)"
   ]
  },
  {
   "cell_type": "markdown",
   "metadata": {},
   "source": [
    "<hr style=\"height:2px; border:none; color:#000; background-color:#000;\">"
   ]
  },
  {
   "cell_type": "markdown",
   "metadata": {},
   "source": [
    "## 16.5.2 Summarizing Word Lengths in _Romeo and Juliet_ via MapReduce\n",
    "* To execute this example\n",
    "    * We created a **cloud-based, multi-node cluster of computers** using **Microsoft Azure HDInsight**, which provides **Hadoop as a service**\n",
    "    * Ran our **Hadoop MapReduce** code on that **cluster**\n",
    "* **MapReduce task** \n",
    "    * Determines the **length of each word in `RomeoAndJuliet.txt`** (from the NLP presentation)\n",
    "    * Summarizes **number of words of each length** "
   ]
  },
  {
   "cell_type": "markdown",
   "metadata": {},
   "source": [
    "<hr style=\"height:2px; border:none; color:#000; background-color:#000;\">"
   ]
  },
  {
   "cell_type": "markdown",
   "metadata": {},
   "source": [
    "## 16.5.3 Creating an Apache Hadoop Cluster in Microsoft Azure HDInsight (1 of 2)\n",
    "* **Multi-node cloud-based clusters** typically are **paid** services\n",
    "* We used [**Microsoft Azure’s HDInsight service**](https://azure.microsoft.com/en-us/free) (for Hadoop and Spark) and **new account credit** to create **cloud-based clusters of computers** in which to test our examples\n",
    "    * The **new account credit** was more than enough to test our Hadoop and Spark examples\n",
    "* HDInsight service **requires a credit card** for **identity verification**\n",
    "    * When your **new account credit runs out** or **30 days pass**, cannot use paid services unless you authorize Microsoft to **charge your card**\n",
    "        * **Prevents accidental large bills** for people who are just experimenting"
   ]
  },
  {
   "cell_type": "markdown",
   "metadata": {},
   "source": [
    "<hr style=\"height:2px; border:none; color:#000; background-color:#000;\">"
   ]
  },
  {
   "cell_type": "markdown",
   "metadata": {},
   "source": [
    "## 16.5.3 Creating an Apache Hadoop Cluster in Microsoft Azure HDInsight (2 of 2)\n",
    "* Details on configuring a **low-cost cluster** to try **Hadoop** \n",
    "    * [**Python Fundamentals LiveLessons videos**](https://learning.oreilly.com/videos/python-fundamentals/9780135917411/9780135917411-PFLL_Lesson16_27_pt1) (two videos starting with this one) \n",
    "    * [**Python for Programmers, Section 16.5.3**](https://learning.oreilly.com/library/view/Python+for+Programmers,+First+Edition/9780135231364/ch16.xhtml#ch16lev2sec18) \n",
    "    * Also [see Microsoft’s **recommended cluster configurations**](https://docs.microsoft.com/en-us/azure/hdinsight/hdinsight-component-versioning#default-node-configuration-and-virtual-machine-sizes-for-clusters)\n",
    "* **Caution: Once you allocate a cluster, it incurs costs whether you’re using it or not. So, when you complete this case study, be sure to delete your cluster(s) and other resources, so you don’t incur additional charges.** "
   ]
  },
  {
   "cell_type": "markdown",
   "metadata": {},
   "source": [
    "<hr style=\"height:2px; border:none; color:#000; background-color:#000;\">"
   ]
  },
  {
   "cell_type": "markdown",
   "metadata": {},
   "source": [
    "## 16.5.4 Hadoop Streaming\n",
    "* Hadoop is **Java-based**\n",
    "* Languages like **Python** that are **not natively supported** must use **Hadoop streaming** \n",
    "* **Python MapReduce scripts** communicate with Hadoop via **redirected standard I/O streams**\n",
    "\t* Hadoop redirects **input** to **mapper** script, which reads input from **standard input stream**\n",
    "\t* **Mapper** writes results to **standard output stream**\n",
    "\t* Hadoop redirects **mapper’s output** as **input** to **reducer** script, which reads from the **standard input stream**\n",
    "\t* **Reducer** writes results to **standard output stream** \n",
    "\t* Hadoop writes **reducer’s output** to **HDFS**   "
   ]
  },
  {
   "cell_type": "markdown",
   "metadata": {},
   "source": [
    "<hr style=\"height:2px; border:none; color:#000; background-color:#000;\">"
   ]
  },
  {
   "cell_type": "markdown",
   "metadata": {},
   "source": [
    "## 16.5.5 Implementing the Mapper (1 of 2)\n",
    "* **Mapper** takes **lines of text** as input and **maps** them to **key–value pairs**, each containing a **word length** and **`1`**\n",
    "* **Reducer** will total these **key–value pairs** by key\n",
    "* **Hadoop streaming** expects **mapper’s output** and **reducer’s input/output** to have the form \n",
    "> **_key_`\\t`_value_**\n",
    "* In **`length_mapper.py`**, `#!` tells Hadoop to use Python 3\n",
    "    * Must be first line in the file\n",
    "    * **HDInsight** currently includes **Python 2.7.12** and **Python 3.5.2** \n",
    "    * **Cannot use f-strings** which are **Python 3.6+**"
   ]
  },
  {
   "cell_type": "markdown",
   "metadata": {},
   "source": [
    "<hr style=\"height:2px; border:none; color:#000; background-color:#000;\">"
   ]
  },
  {
   "cell_type": "markdown",
   "metadata": {},
   "source": [
    "## 16.5.5 Implementing the Mapper (2 of 2)\n",
    "\n",
    "```python\n",
    "#!/usr/bin/env python3\n",
    "# length_mapper.py\n",
    "\"\"\"Maps lines of text to key-value pairs of word lengths and 1.\"\"\"\n",
    "import sys\n",
    "\n",
    "def tokenize_input():  # generator function\n",
    "    \"\"\"Split each line of standard input into a list of strings.\"\"\"\n",
    "    for line in sys.stdin:\n",
    "        yield line.split()  \n",
    "\n",
    "# read each line in the the standard input and for every word \n",
    "# produce a key-value pair containing the word, a tab and 1\n",
    "for line in tokenize_input():\n",
    "    for word in line:\n",
    "        print(str(len(word)) + '\\t1')\n",
    "\n",
    "```"
   ]
  },
  {
   "cell_type": "markdown",
   "metadata": {},
   "source": [
    "<hr style=\"height:2px; border:none; color:#000; background-color:#000;\">"
   ]
  },
  {
   "cell_type": "markdown",
   "metadata": {},
   "source": [
    "## 16.5.6 Implementing the Reducer \n",
    "* In **`length_reducer.py`**, function **`tokenize_input`** is a **generator function** that reads and splits the **key–value pairs** produced by the mapper\n",
    "* **MapReduce streaming** supplies the **standard input**\n",
    "* **`groupby` function** (**`itertools` module**) groups inputs by their **keys** (the **word lengths**) \n",
    "* **Total** all the **counts** for a given **key**\n",
    "* Output a new **key–value pair** consisting of the **word length** and its **total**\n",
    "* **MapReduce** takes the **final word-count outputs** and **writes** them to a file in **HDFS**"
   ]
  },
  {
   "cell_type": "markdown",
   "metadata": {},
   "source": [
    "<hr style=\"height:2px; border:none; color:#000; background-color:#000;\">"
   ]
  },
  {
   "cell_type": "markdown",
   "metadata": {},
   "source": [
    "```python\n",
    "#!/usr/bin/env python3\n",
    "# length_reducer.py\n",
    "\"\"\"Counts the number of words with each length.\"\"\"\n",
    "import sys\n",
    "from itertools import groupby\n",
    "from operator import itemgetter\n",
    "\n",
    "def tokenize_input():\n",
    "    \"\"\"Split each line of standard input into a key and a value.\"\"\"\n",
    "    for line in sys.stdin:\n",
    "        yield line.strip().split('\\t')\n",
    "\n",
    "# produce key-value pairs of word lengths and counts separated by tabs\n",
    "for word_length, group in groupby(tokenize_input(), itemgetter(0)):\n",
    "    try:\n",
    "        total = sum(int(count) for word_length, count in group)\n",
    "        print(word_length + '\\t' + str(total))\n",
    "    except ValueError:\n",
    "        pass  # ignore word if its count was not an integer\n",
    "\n",
    "```"
   ]
  },
  {
   "cell_type": "markdown",
   "metadata": {},
   "source": [
    "<hr style=\"height:2px; border:none; color:#000; background-color:#000;\">"
   ]
  },
  {
   "cell_type": "markdown",
   "metadata": {},
   "source": [
    "## 16.5.7 Preparing to Run the MapReduce Example\n",
    "* Must upload scripts and `RomeoAndJuliet.txt` into **HDInsight cluster's file system**\n",
    "* For detailed instructions on doing this, see \n",
    "    * [**Python Fundamentals LiveLessons videos**](https://learning.oreilly.com/videos/python-fundamentals/9780135917411/9780135917411-PFLL_Lesson16_31) \n",
    "    * [**Python for Programmers, Section 16.5.7**](https://learning.oreilly.com/library/view/python-for-programmers/9780135231364/ch16.xhtml#ch16lev2sec22)"
   ]
  },
  {
   "cell_type": "markdown",
   "metadata": {},
   "source": [
    "<hr style=\"height:2px; border:none; color:#000; background-color:#000;\">"
   ]
  },
  {
   "cell_type": "markdown",
   "metadata": {},
   "source": [
    "## 16.5.8 Running the MapReduce Job (1 of 4)\n",
    "* Once files are in the cluster, **run MapReduce job** for **`RomeoAndJuliet.txt`** on your **cluster** by executing the following command in the cluster\n",
    "    * You can copy/paste the command from `yarn.txt` located with this example\n",
    "    * We reformatted the command here for readability: \n",
    "\n",
    "```\n",
    "yarn jar /usr/hdp/current/hadoop-mapreduce-client/hadoop-streaming.jar \n",
    "   -D mapred.output.key.comparator.class=\n",
    "      org.apache.hadoop.mapred.lib.KeyFieldBasedComparator    \n",
    "   -D mapred.text.key.comparator.options=-n   \n",
    "   -files length_mapper.py,length_reducer.py    \n",
    "   -mapper length_mapper.py \n",
    "   -reducer length_reducer.py    \n",
    "   -input /example/data/RomeoAndJuliet.txt    \n",
    "   -output /example/wordlengthsoutput    \n",
    "```"
   ]
  },
  {
   "cell_type": "markdown",
   "metadata": {},
   "source": [
    "<hr style=\"height:2px; border:none; color:#000; background-color:#000;\">"
   ]
  },
  {
   "cell_type": "markdown",
   "metadata": {},
   "source": [
    "## 16.5.8 Running the MapReduce Job (2 of 4)\n",
    "* The **`yarn` command** invokes **Hadoop’s YARN** (“yet another resource negotiator”) tool to manage and coordinate access to the Hadoop resources the **MapReduce task** uses\n",
    "* **`hadoop-streaming.jar`** contains the Java-based **Hadoop streaming utility** that allows you to use Python to implement the **mapper** and **reducer**\n",
    "* The two **`-D` options** set Hadoop properties that enable it to \n",
    "    * **sort the final key–value pairs by key** (**`KeyFieldBasedComparator`**) \n",
    "    * in **descending order (`-`) numerically (`n`)** rather than alphabetically"
   ]
  },
  {
   "cell_type": "markdown",
   "metadata": {},
   "source": [
    "<hr style=\"height:2px; border:none; color:#000; background-color:#000;\">"
   ]
  },
  {
   "cell_type": "markdown",
   "metadata": {},
   "source": [
    "## 16.5.8 Running the MapReduce Job (3 of 4)\n",
    "* Other command-line arguments:\n",
    "\t* **`-files`**—Comma-separated list of scripts that Hadoop copies to every node in the cluster so they can **execute locally on each node**\n",
    "\t* **`-mapper`**—mapper’s script file\n",
    "\t* **`-reducer`**—reducer’s script file\n",
    "\t* **`-input`**—**File** or **directory of files** to supply as **mapper input**\n",
    "\t* **`-output`**—**HDFS directory** where final results will be stored\n",
    "        * **Error** if this folder **already exists**"
   ]
  },
  {
   "cell_type": "markdown",
   "metadata": {},
   "source": [
    "<hr style=\"height:2px; border:none; color:#000; background-color:#000;\">"
   ]
  },
  {
   "cell_type": "markdown",
   "metadata": {},
   "source": [
    "## 16.5.8 Running the MapReduce Job (4 of 4)\n",
    "* Sample **output** shows some **Hadoop feedback** produced as the **MapReduce job executes**\n",
    "    * Used **`...`** to save space \n",
    "* Several lines of interest:\n",
    "\t* The total number of **“input paths to process”**—the **`1` source of input** in this example is **`RomeoAndJuliet.txt`**\n",
    "\t* The **“number of splits”**—`2` in this example, based on the **number of worker nodes** in our **HDInsight cluster**\n",
    "\t* The **percentage completion** dates and times&mdash;**big data jobs** could take minutes, hours, days, ...\n",
    "\t* **`File System Counters`** showing numbers of **bytes read and written**\n",
    "\t* **`Job Counters`** showing the **numbers of mapping and reduction tasks used** \n",
    "\t* **`Map-Reduce Framework`** showing stats about the **steps performed**"
   ]
  },
  {
   "cell_type": "markdown",
   "metadata": {},
   "source": [
    "<hr style=\"height:2px; border:none; color:#000; background-color:#000;\">"
   ]
  },
  {
   "cell_type": "markdown",
   "metadata": {},
   "source": [
    "## Output\n",
    "<pre>\n",
    "packageJobJar: [] [/usr/hdp/2.6.5.3004-13/hadoop-mapreduce/hadoop-streaming-2.7.3.2.6.5.3004-13.jar] /tmp/streamjob2764990629848702405.jar tmpDir=null\n",
    "...\n",
    "18/12/05 16:46:25 INFO mapred.FileInputFormat: <strong>Total input paths to process : 1</strong>\n",
    "18/12/05 16:46:26 INFO mapreduce.JobSubmitter: <strong>number of splits:2</strong>\n",
    "...\n",
    "18/12/05 16:46:26 INFO mapreduce.Job: The url to track the job: http://hn0-paulte.y3nghy5db2kehav5m0opqrjxcb.cx.internal.cloudapp.net:8088/proxy/application_1543953844228_0025/\n",
    "...\n",
    "18/12/05 16:46:35 INFO mapreduce.Job:  <strong>map 0% reduce 0%</strong>\n",
    "18/12/05 16:46:43 INFO mapreduce.Job:  <strong>map 50% reduce 0%</strong>\n",
    "18/12/05 16:46:44 INFO mapreduce.Job:  <strong>map 100% reduce 0%</strong>\n",
    "18/12/05 16:46:48 INFO mapreduce.Job:  <strong>map 100% reduce 100%</strong>\n",
    "18/12/05 16:46:50 INFO mapreduce.Job: Job job_1543953844228_0025 <strong>completed successfully</strong>\n",
    "</pre>"
   ]
  },
  {
   "cell_type": "markdown",
   "metadata": {},
   "source": [
    "<pre>\n",
    "18/12/05 16:46:50 INFO mapreduce.Job: Counters: 49\n",
    "\t<strong>File System Counters</strong>\n",
    "\t\tFILE: Number of bytes read=156411\n",
    "\t\tFILE: Number of bytes written=813764\n",
    "...\n",
    "\t<strong>Job Counters</strong> \n",
    "\t\tLaunched map tasks=2\n",
    "\t\tLaunched reduce tasks=1\n",
    "...\n",
    "\t<strong>Map-Reduce Framework</strong>\n",
    "\t\tMap input records=5260\n",
    "\t\tMap output records=25956\n",
    "\t\tMap output bytes=104493\n",
    "\t\tMap output materialized bytes=156417\n",
    "\t\tInput split bytes=346\n",
    "\t\tCombine input records=0\n",
    "\t\tCombine output records=0\n",
    "\t\tReduce input groups=19\n",
    "\t\tReduce shuffle bytes=156417\n",
    "\t\tReduce input records=25956\n",
    "\t\tReduce output records=19\n",
    "\t\tSpilled Records=51912\n",
    "\t\tShuffled Maps =2\n",
    "\t\tFailed Shuffles=0\n",
    "\t\tMerged Map outputs=2\n",
    "\t\tGC time elapsed (ms)=193\n",
    "\t\tCPU time spent (ms)=4440\n",
    "\t\tPhysical memory (bytes) snapshot=1942798336\n",
    "\t\tVirtual memory (bytes) snapshot=8463282176\n",
    "\t\tTotal committed heap usage (bytes)=3177185280\n",
    "...\n",
    "18/12/05 16:46:50 INFO streaming.StreamJob: Output directory: /example/wordlengthsoutput\n",
    "</pre>"
   ]
  },
  {
   "cell_type": "markdown",
   "metadata": {},
   "source": [
    "<hr style=\"height:2px; border:none; color:#000; background-color:#000;\">"
   ]
  },
  {
   "cell_type": "markdown",
   "metadata": {},
   "source": [
    "### Viewing the Word Counts\n",
    "* **Hadoop MapReduce** saves its output into **HDFS**\n",
    "* To **view final word counts** you must look at the **file in cluster's HDFS**\n",
    "> ```\n",
    "hdfs dfs -text /example/wordlengthsoutput/part-00000\n",
    "```\n",
    "\n",
    "```\n",
    "18/12/05 16:47:19 INFO lzo.GPLNativeCodeLoader: Loaded native gpl library\n",
    "18/12/05 16:47:19 INFO lzo.LzoCodec: Successfully loaded & initialized native-lzo library [hadoop-lzo rev b5efb3e531bc1558201462b8ab15bb412ffa6b89]\n",
    "1\t4699\n",
    "2\t3869\n",
    "3\t5651\n",
    "4\t3668\n",
    "5\t2719\n",
    "6\t1624\n",
    "7\t1140\n",
    "8\t1062\n",
    "9\t855\n",
    "10\t317\n",
    "11\t189\n",
    "12\t95\n",
    "13\t35\n",
    "14\t13\n",
    "15\t9\n",
    "16\t6\n",
    "17\t3\n",
    "18\t1\n",
    "23\t1\n",
    "```"
   ]
  },
  {
   "cell_type": "markdown",
   "metadata": {},
   "source": [
    "<hr style=\"height:2px; border:none; color:#000; background-color:#000;\">"
   ]
  },
  {
   "cell_type": "markdown",
   "metadata": {},
   "source": [
    "### IMPORTANT: Deleting Your Cluster So You Do Not Incur Charges\n",
    "* **Be sure to delete your cluster(s) and associated resources (like storage) so you don’t incur additional charges** \n",
    "    * For details on deleting the cluster, see my [**Python Fundamentals LiveLessons videos**](https://learning.oreilly.com/videos/python-fundamentals/9780135917411/9780135917411-PFLL_Lesson16_32) (deleting is discussed around the 9:00 minute mark) and in [**Python for Programmers, Section 16.5.8**](https://learning.oreilly.com/library/view/python-for-programmers/9780135231364/ch16.xhtml#ch16lev2sec23)\n",
    "* [More information](https://docs.microsoft.com/en-us/azure/azure-resource-manager/resource-group-portal)"
   ]
  },
  {
   "cell_type": "markdown",
   "metadata": {},
   "source": [
    "<hr style=\"height:2px; border:none; color:#000; background-color:#000;\">"
   ]
  },
  {
   "cell_type": "markdown",
   "metadata": {},
   "source": [
    "### Lecture Note: Switch to **jupyter/pyspark-notebook Docker stack** for Spark presentation"
   ]
  },
  {
   "cell_type": "markdown",
   "metadata": {},
   "source": [
    "<hr style=\"height:2px; border:none; color:#000; background-color:#000;\">"
   ]
  },
  {
   "cell_type": "markdown",
   "metadata": {},
   "source": [
    "# More Info \n",
    "* See Lesson 16 in [**Python Fundamentals LiveLessons** here on O'Reilly Online Learning](https://learning.oreilly.com/videos/python-fundamentals/9780135917411)\n",
    "* See Chapter 16 in [**Python for Programmers** on O'Reilly Online Learning](https://learning.oreilly.com/library/view/python-for-programmers/9780135231364/)\n",
    "* See Chapter 17 in [**Intro Python for Computer Science and Data Science** on O'Reilly Online Learning](https://learning.oreilly.com/library/view/intro-to-python/9780135404799/)\n",
    "* Interested in a print book? Check out:\n",
    "\n",
    "| Python for Programmers<br>(640-page professional book) | Intro to Python for Computer<br>Science and Data Science<br>(880-page college textbook)\n",
    "| :------ | :------\n",
    "| <a href=\"https://amzn.to/2VvdnxE\"><img alt=\"Python for Programmers cover\" src=\"../images/PyFPCover.png\" width=\"150\" border=\"1\"/></a> | <a href=\"https://amzn.to/2LiDCmt\"><img alt=\"Intro to Python for Computer Science and Data Science: Learning to Program with AI, Big Data and the Cloud\" src=\"../images/IntroToPythonCover.png\" width=\"159\" border=\"1\"></a>\n",
    "\n",
    ">Please **do not** purchase both books&mdash;_Python for Programmers_ is a subset of _Intro to Python for Computer Science and Data Science_"
   ]
  },
  {
   "cell_type": "markdown",
   "metadata": {},
   "source": [
    "<hr style=\"height:2px; border:none; color:#000; background-color:#000;\">"
   ]
  },
  {
   "cell_type": "markdown",
   "metadata": {},
   "source": [
    "&copy; 2019 by Pearson Education, Inc. All Rights Reserved. The content in this notebook is based on the book [**Python for Programmers**](https://amzn.to/2VvdnxE)."
   ]
  }
 ],
 "metadata": {
  "kernelspec": {
   "display_name": "Python 3",
   "language": "python",
   "name": "python3"
  },
  "language_info": {
   "codemirror_mode": {
    "name": "ipython",
    "version": 3
   },
   "file_extension": ".py",
   "mimetype": "text/x-python",
   "name": "python",
   "nbconvert_exporter": "python",
   "pygments_lexer": "ipython3",
   "version": "3.7.3"
  }
 },
 "nbformat": 4,
 "nbformat_minor": 4
}
