{
 "cells": [
  {
   "cell_type": "markdown",
   "metadata": {},
   "source": [
    "&copy; 2019 by Pearson Education, Inc. All Rights Reserved. The content in this notebook is based on the book [**Python for Programmers**](https://amzn.to/2VvdnxE)."
   ]
  },
  {
   "cell_type": "markdown",
   "metadata": {},
   "source": [
    "# 16. Big Data: Hadoop, Spark, NoSQL and IoT "
   ]
  },
  {
   "cell_type": "code",
   "execution_count": 1,
   "metadata": {},
   "outputs": [],
   "source": [
    "# enable high-res images in notebook \n",
    "%config InlineBackend.figure_format = 'retina'\n",
    "%matplotlib inline"
   ]
  },
  {
   "cell_type": "markdown",
   "metadata": {},
   "source": [
    "# 16.1 Introduction\n",
    "### Big Data\n",
    "* Previous data-science case studies all focused on AI\n",
    "* Here, we focus on the **big-data infrastructure that supports AI solutions**\n",
    "* As **data grows exponentially**, we want to **learn** from that data&mdash;and at **blazing speed**\n",
    "* Done with **sophisticated algorithms**, hardware, software and networking designs\n",
    "* With **big data**, **machine learning** and **deep learning** can be even **more effective**"
   ]
  },
  {
   "cell_type": "markdown",
   "metadata": {},
   "source": [
    "<hr style=\"height:2px; border:none; color:#000; background-color:#000;\">"
   ]
  },
  {
   "cell_type": "markdown",
   "metadata": {},
   "source": [
    "# 16.3 NoSQL Big-Data Databases (1 of 2)\n",
    "* **Relational databases** store data in rectangular **tables**\n",
    "* **Not efficient** as **data volume** and the numbers of **tables** and **relationships between them** increases\n",
    "* Most data produced today is \n",
    "    * **Unstructured**&mdash;**photos**, **videos** and **natural language** (social-media posts, texts, ...), or\n",
    "    * **Semi-structured**&mdash;**JSON** and **XML** documents\n",
    "* **Metadata** adds structure to **unstructured data**, making it **semi-structured**\n",
    "    * **Tweets** (as you saw earlier)\n",
    "    * **YouTube videos**&mdash;**who posted** and **when**, **title**, **description**, ..."
   ]
  },
  {
   "cell_type": "markdown",
   "metadata": {},
   "source": [
    "<hr style=\"height:2px; border:none; color:#000; background-color:#000;\">"
   ]
  },
  {
   "cell_type": "markdown",
   "metadata": {},
   "source": [
    "# 16.3 NoSQL Big-Data Databases (2 of 2)\n",
    "* **NoSQL databases** are designed for \n",
    "    * **unstructured** and **semi-structured big-data** \n",
    "    * big data **storage and processing demands**\n",
    "* **Big data** requires **massive databases**, which can be spread across data centers worldwide in huge **clusters** of commodity computers\n",
    "* The name **NoSQL** originally meant what its name implies\n",
    "* With **growing use of SQL in big data**—such as **SQL on Hadoop** and **Spark SQL**—now it's said to stand for **“Not Only SQL”** "
   ]
  },
  {
   "cell_type": "markdown",
   "metadata": {},
   "source": [
    "<hr style=\"height:2px; border:none; color:#000; background-color:#000;\">"
   ]
  },
  {
   "cell_type": "markdown",
   "metadata": {},
   "source": [
    "### Four Major Types of **NoSQL Databases**\n",
    "* **key–value**\n",
    "* **document**\n",
    "* **columnar**\n",
    "* **graph**\n",
    "* Our NoSQL case study uses **MongoDB document database** &mdash; the most popular NoSQL database\n",
    "* **Overviews** of the **NoSQL database types** \n",
    "    * [**Python Fundamentals LiveLessons videos**](https://learning.oreilly.com/videos/python-fundamentals/9780135917411/9780135917411-PFLL_Lesson16_20) \n",
    "    * [**Python for Programmers, Section 16.3**](https://learning.oreilly.com/library/view/python-for-programmers/9780135231364/ch16.xhtml#ch16lev1sec3)"
   ]
  },
  {
   "cell_type": "markdown",
   "metadata": {},
   "source": [
    "<hr style=\"height:2px; border:none; color:#000; background-color:#000;\">"
   ]
  },
  {
   "cell_type": "markdown",
   "metadata": {},
   "source": [
    "# 16.4 Case Study: A MongoDB JSON Document Database \n",
    "* Store and search **JSON** for **streamed tweets** about **100 U.S. senators**\n",
    "* Summarize **top 10** by **tweet count**\n",
    "* Display **interactive map** containing **tweet count summaries**\n",
    "* I **pre-executed this example** because we stream 10,000 tweets, which can take substantial time \n",
    "* **Possible enhancement** &mdash; Use **sentiment analysis** to count **positive**, **negative** and **neutral tweets** mentioning each senator’s **handle**"
   ]
  },
  {
   "cell_type": "markdown",
   "metadata": {},
   "source": [
    "<hr style=\"height:2px; border:none; color:#000; background-color:#000;\">"
   ]
  },
  {
   "cell_type": "markdown",
   "metadata": {},
   "source": [
    "### Free Cloud-Based MongoDB Atlas Cluster \n",
    "* Requires **no installation** \n",
    "* Store up to **512MB of data**\n",
    "* Can store more with\n",
    "    * [**Free MongoDB Community Server**](https://www.mongodb.com/download-center/community), or \n",
    "    * **Paid MongoDB Atlas account**\n",
    "* **Creating your MongoDB Atlas cluster**\n",
    "    * I discuss the details of **signing up** for a MongoDB account, **creating the MongoDB Atlas Cluster**, **configuring** it and getting your **connection string** in my [**Python Fundamentals LiveLessons videos**](https://learning.oreilly.com/videos/python-fundamentals/9780135917411/9780135917411-PFLL_Lesson16_22https://learning.oreilly.com/videos/python-fundamentals/9780135917411) and in [**Python for Programmers, Section 16.4.1**](https://learning.oreilly.com/library/view/Python+for+Programmers,+First+Edition/9780135231364/ch16.xhtml#ch16lev2sec14)"
   ]
  },
  {
   "cell_type": "markdown",
   "metadata": {},
   "source": [
    "<hr style=\"height:2px; border:none; color:#000; background-color:#000;\">"
   ]
  },
  {
   "cell_type": "markdown",
   "metadata": {},
   "source": [
    "### Python Libraries Required for Interacting with MongoDB\n",
    "```\n",
    "conda install -c conda-forge pymongo\n",
    "conda install -c conda-forge dnspython\n",
    "```\n",
    "* **`pymongo` library** &mdash; interact with **MongoDB databases** from Python\n",
    "* **`dnspython` library** &mdash; used as part of connecting to a **MongoDB Atlas Cluster**"
   ]
  },
  {
   "cell_type": "markdown",
   "metadata": {},
   "source": [
    "<hr style=\"height:2px; border:none; color:#000; background-color:#000;\">"
   ]
  },
  {
   "cell_type": "markdown",
   "metadata": {},
   "source": [
    "### keys.py \n",
    "* **`keys.py`** must contain \n",
    "    * your **Twitter credentials** \n",
    "    * your **OpenMapQuest key** \n",
    "    * Your **MongoDB connection string** "
   ]
  },
  {
   "cell_type": "markdown",
   "metadata": {},
   "source": [
    "<hr style=\"height:2px; border:none; color:#000; background-color:#000;\">"
   ]
  },
  {
   "cell_type": "markdown",
   "metadata": {},
   "source": [
    "## 16.4.2 Streaming Tweets into MongoDB\n",
    "### Use Tweepy to Authenticate with Twitter and Get the API Object"
   ]
  },
  {
   "cell_type": "code",
   "execution_count": 2,
   "metadata": {},
   "outputs": [],
   "source": [
    "import tweepy, keys"
   ]
  },
  {
   "cell_type": "code",
   "execution_count": 3,
   "metadata": {},
   "outputs": [],
   "source": [
    "#auth = tweepy.OAuthHandler(\n",
    "#    keys.consumer_key, keys.consumer_secret)\n",
    "#auth.set_access_token(keys.access_token, \n",
    "#    keys.access_token_secret)"
   ]
  },
  {
   "cell_type": "code",
   "execution_count": 4,
   "metadata": {},
   "outputs": [],
   "source": [
    "#api = tweepy.API(auth, wait_on_rate_limit=True, \n",
    "#                 wait_on_rate_limit_notify=True)               "
   ]
  },
  {
   "cell_type": "markdown",
   "metadata": {},
   "source": [
    "<hr style=\"height:2px; border:none; color:#000; background-color:#000;\">"
   ]
  },
  {
   "cell_type": "markdown",
   "metadata": {},
   "source": [
    "### Loading the Senators’ Data (1 of 2)\n",
    "* **`senators.csv`** (provided in notebook's folder) contains each senator's \n",
    "    * two-letter state code\n",
    "    * name\n",
    "    * party \n",
    "    * Twitter handle\n",
    "    * Twitter ID\n",
    "* **Twitter handle and ID** used to track tweets **to**, **from** and **mentioning** each senator \n",
    "* When following users via **numeric Twitter IDs**, must submit IDs as **strings**"
   ]
  },
  {
   "cell_type": "markdown",
   "metadata": {},
   "source": [
    "<hr style=\"height:2px; border:none; color:#000; background-color:#000;\">"
   ]
  },
  {
   "cell_type": "markdown",
   "metadata": {},
   "source": [
    "### Loading the Senators’ Data (2 of 2)"
   ]
  },
  {
   "cell_type": "code",
   "execution_count": 5,
   "metadata": {},
   "outputs": [],
   "source": [
    "import pandas as pd"
   ]
  },
  {
   "cell_type": "code",
   "execution_count": 6,
   "metadata": {},
   "outputs": [],
   "source": [
    "senators_df = pd.read_csv('senators.csv')"
   ]
  },
  {
   "cell_type": "code",
   "execution_count": 7,
   "metadata": {},
   "outputs": [],
   "source": [
    "senators_df['TwitterID'] = senators_df['TwitterID'].astype(str)"
   ]
  },
  {
   "cell_type": "code",
   "execution_count": 8,
   "metadata": {},
   "outputs": [
    {
     "data": {
      "text/html": [
       "<div>\n",
       "<style scoped>\n",
       "    .dataframe tbody tr th:only-of-type {\n",
       "        vertical-align: middle;\n",
       "    }\n",
       "\n",
       "    .dataframe tbody tr th {\n",
       "        vertical-align: top;\n",
       "    }\n",
       "\n",
       "    .dataframe thead th {\n",
       "        text-align: right;\n",
       "    }\n",
       "</style>\n",
       "<table border=\"1\" class=\"dataframe\">\n",
       "  <thead>\n",
       "    <tr style=\"text-align: right;\">\n",
       "      <th></th>\n",
       "      <th>State</th>\n",
       "      <th>Name</th>\n",
       "      <th>Party</th>\n",
       "      <th>TwitterHandle</th>\n",
       "      <th>TwitterID</th>\n",
       "    </tr>\n",
       "  </thead>\n",
       "  <tbody>\n",
       "    <tr>\n",
       "      <th>0</th>\n",
       "      <td>AL</td>\n",
       "      <td>Richard Shelby</td>\n",
       "      <td>R</td>\n",
       "      <td>SenShelby</td>\n",
       "      <td>21111098</td>\n",
       "    </tr>\n",
       "    <tr>\n",
       "      <th>1</th>\n",
       "      <td>AL</td>\n",
       "      <td>Tommy Tuberville</td>\n",
       "      <td>R</td>\n",
       "      <td>TTuberville</td>\n",
       "      <td>110798061</td>\n",
       "    </tr>\n",
       "    <tr>\n",
       "      <th>2</th>\n",
       "      <td>AK</td>\n",
       "      <td>Lisa Murkowski</td>\n",
       "      <td>R</td>\n",
       "      <td>lisamurkowski</td>\n",
       "      <td>18061669</td>\n",
       "    </tr>\n",
       "    <tr>\n",
       "      <th>3</th>\n",
       "      <td>AK</td>\n",
       "      <td>Dan Sullivan</td>\n",
       "      <td>R</td>\n",
       "      <td>SenDanSullivan</td>\n",
       "      <td>2891210047</td>\n",
       "    </tr>\n",
       "    <tr>\n",
       "      <th>4</th>\n",
       "      <td>AZ</td>\n",
       "      <td>Mark Kelly</td>\n",
       "      <td>D</td>\n",
       "      <td>SenMarkKelly</td>\n",
       "      <td>1324926274888888320</td>\n",
       "    </tr>\n",
       "  </tbody>\n",
       "</table>\n",
       "</div>"
      ],
      "text/plain": [
       "  State              Name Party   TwitterHandle            TwitterID\n",
       "0    AL    Richard Shelby     R       SenShelby             21111098\n",
       "1    AL  Tommy Tuberville     R     TTuberville            110798061\n",
       "2    AK    Lisa Murkowski     R   lisamurkowski             18061669\n",
       "3    AK      Dan Sullivan     R  SenDanSullivan           2891210047\n",
       "4    AZ        Mark Kelly     D    SenMarkKelly  1324926274888888320"
      ]
     },
     "execution_count": 8,
     "metadata": {},
     "output_type": "execute_result"
    }
   ],
   "source": [
    "senators_df.head()"
   ]
  },
  {
   "cell_type": "markdown",
   "metadata": {},
   "source": [
    "<hr style=\"height:2px; border:none; color:#000; background-color:#000;\">"
   ]
  },
  {
   "cell_type": "markdown",
   "metadata": {},
   "source": [
    "### Configuring the `pymongo` `MongoClient` "
   ]
  },
  {
   "cell_type": "code",
   "execution_count": 9,
   "metadata": {},
   "outputs": [],
   "source": [
    "from pymongo import MongoClient"
   ]
  },
  {
   "cell_type": "code",
   "execution_count": 10,
   "metadata": {},
   "outputs": [],
   "source": [
    "atlas_client = MongoClient(keys.mongo_connection_string)"
   ]
  },
  {
   "cell_type": "markdown",
   "metadata": {},
   "source": [
    "<hr style=\"height:2px; border:none; color:#000; background-color:#000;\">"
   ]
  },
  {
   "cell_type": "markdown",
   "metadata": {},
   "source": [
    "### Get **`pymongo` `Database`** Object Representing the `senators` Database\n",
    "* **Creates the database** if it does not exist\n",
    "* Will be used to store the collection of **tweet JSON documents**"
   ]
  },
  {
   "cell_type": "code",
   "execution_count": 11,
   "metadata": {},
   "outputs": [],
   "source": [
    "db = atlas_client.senators "
   ]
  },
  {
   "cell_type": "markdown",
   "metadata": {},
   "source": [
    "### Setting up Tweet Stream\n",
    "* **`TweetListener`** uses the **`db` object** representing the **senators database** to store tweets \n",
    "    * Depending on the rate at which people are tweeting about the senators, it may take **minutes to hours** to get **10,000 tweets**"
   ]
  },
  {
   "cell_type": "code",
   "execution_count": 12,
   "metadata": {},
   "outputs": [],
   "source": [
    "from tweetlistener import TweetListener"
   ]
  },
  {
   "cell_type": "code",
   "execution_count": 13,
   "metadata": {},
   "outputs": [],
   "source": [
    "tweet_limit = 10000"
   ]
  },
  {
   "cell_type": "code",
   "execution_count": 14,
   "metadata": {},
   "outputs": [],
   "source": [
    "twitter_stream = TweetListener(keys.consumer_key, keys.consumer_secret,\n",
    "    keys.access_token, keys.access_token_secret, db, tweet_limit)"
   ]
  },
  {
   "cell_type": "markdown",
   "metadata": {},
   "source": [
    "<hr style=\"height:2px; border:none; color:#000; background-color:#000;\">"
   ]
  },
  {
   "cell_type": "markdown",
   "metadata": {},
   "source": [
    "### Starting the Live Tweet Stream\n",
    "* Currently, can **track** up to **400 keywords** and **follow** up to **5,000 Twitter IDs** at a time\n",
    "    * **`track`** senators’ Twitter handles as keywords\n",
    "    * **`follow`** their **IDs**  \n",
    "* Together, this will get tweets **from**, **to** and **about** each senator"
   ]
  },
  {
   "cell_type": "code",
   "execution_count": 15,
   "metadata": {},
   "outputs": [
    {
     "name": "stderr",
     "output_type": "stream",
     "text": [
      "Stream connection closed by Twitter\n"
     ]
    },
    {
     "name": "stdout",
     "output_type": "stream",
     "text": [
      "    Screen name: ሰላም ጥራይ!\n",
      "     Created at: Sun Feb 27 14:48:33 +0000 2022\n",
      "Tweets received: 10000\n"
     ]
    }
   ],
   "source": [
    "twitter_stream.filter(track=senators_df.TwitterHandle.tolist(),\n",
    "    follow=senators_df.TwitterID.tolist())"
   ]
  },
  {
   "cell_type": "markdown",
   "metadata": {},
   "source": [
    "<hr style=\"height:2px; border:none; color:#000; background-color:#000;\">"
   ]
  },
  {
   "cell_type": "markdown",
   "metadata": {
    "tags": []
   },
   "source": [
    "### Class `TweetListener` "
   ]
  },
  {
   "cell_type": "markdown",
   "metadata": {},
   "source": [
    "```python\n",
    "# tweetlistener.py\n",
    "\"\"\"TweetListener downloads tweets and stores them in MongoDB.\"\"\"\n",
    "import json\n",
    "import tweepy\n",
    "from IPython.display import clear_output\n",
    "\n",
    "class TweetListener(tweepy.StreamListener):\n",
    "    \"\"\"Handles incoming Tweet stream.\"\"\"\n",
    "\n",
    "```"
   ]
  },
  {
   "cell_type": "markdown",
   "metadata": {},
   "source": [
    "```python\n",
    "    def __init__(self, api, database, limit=10000):\n",
    "        \"\"\"Create instance variables for tracking number of tweets.\"\"\"\n",
    "        self.db = database\n",
    "        self.tweet_count = 0\n",
    "        self.TWEET_LIMIT = limit  # 10,000 by default\n",
    "        super().__init__(api)  # call superclass's init\n",
    "\n",
    "    def on_connect(self):\n",
    "        \"\"\"Called when your connection attempt is successful, enabling \n",
    "        you to perform appropriate application tasks at that point.\"\"\"\n",
    "        print('Successfully connected to Twitter\\n')\n",
    "\n",
    "```"
   ]
  },
  {
   "cell_type": "markdown",
   "metadata": {},
   "source": [
    "```python\n",
    "    def on_data(self, data):\n",
    "        \"\"\"Called when Twitter pushes a new tweet to you.\"\"\"\n",
    "        self.tweet_count += 1  # track number of tweets processed\n",
    "        json_data = json.loads(data)  # convert string to JSON\n",
    "        self.db.tweets.insert_one(json_data)  # store in tweets collection\n",
    "        clear_output()  # ADDED: show one tweet at a time in Jupyter Notebook\n",
    "        print(f'    Screen name: {json_data[\"user\"][\"name\"]}') \n",
    "        print(f'     Created at: {json_data[\"created_at\"]}')         \n",
    "        print(f'Tweets received: {self.tweet_count}')         \n",
    "\n",
    "        # if TWEET_LIMIT is reached, return False to terminate streaming\n",
    "        return self.tweet_count < self.TWEET_LIMIT\n",
    "    \n",
    "    def on_error(self, status):\n",
    "        print(status)\n",
    "        return True\n",
    "```"
   ]
  },
  {
   "cell_type": "markdown",
   "metadata": {},
   "source": [
    "<hr style=\"height:2px; border:none; color:#000; background-color:#000;\">"
   ]
  },
  {
   "cell_type": "markdown",
   "metadata": {},
   "source": [
    "### Counting Tweets for Each Senator (1 of 2)\n",
    "* MongoDB **text search** requires a **text index** specifying **document field(s) to search** \n",
    "\t* MongoDB [index types](https://docs.mongodb.com/manual/indexes), [text indexes](https://docs.mongodb.com/manual/core/index-text) and [operators](https://docs.mongodb.com/manual/reference/operator)\n",
    "* A **text index** is defined as a **tuple** containing **field name** to search and **index type** (`'text'`)\n",
    "* **Wildcard field name (\\$\\*\\*)** indexes **all** text fields for a **full-text search**"
   ]
  },
  {
   "cell_type": "code",
   "execution_count": 16,
   "metadata": {},
   "outputs": [
    {
     "data": {
      "text/plain": [
       "'$**_text'"
      ]
     },
     "execution_count": 16,
     "metadata": {},
     "output_type": "execute_result"
    }
   ],
   "source": [
    "db.tweets.create_index([('$**', 'text')])"
   ]
  },
  {
   "cell_type": "markdown",
   "metadata": {},
   "source": [
    "<hr style=\"height:2px; border:none; color:#000; background-color:#000;\">"
   ]
  },
  {
   "cell_type": "markdown",
   "metadata": {},
   "source": [
    "### Counting Tweets for Each Senator (2 of 2)\n",
    "* Use **`tweets` `Collection`’s `count_documents` method** and **full-text search** to count the total number of documents in the collection that contain the specified text\n",
    "    * Find every **twitter handle** in `senators_df.TwitterHandle` column\n",
    "    * `{\"$text\": {\"$search\": senator}}` indicates that we’re **using the `text` index** to **`search`** for the value of **`senator`**"
   ]
  },
  {
   "cell_type": "code",
   "execution_count": 17,
   "metadata": {},
   "outputs": [],
   "source": [
    "tweet_counts = []"
   ]
  },
  {
   "cell_type": "code",
   "execution_count": 18,
   "metadata": {},
   "outputs": [],
   "source": [
    "for senator in senators_df.TwitterHandle:\n",
    "    tweet_counts.append(db.tweets.count_documents(\n",
    "        {\"$text\": {\"$search\": senator}}))"
   ]
  },
  {
   "cell_type": "markdown",
   "metadata": {},
   "source": [
    "<hr style=\"height:2px; border:none; color:#000; background-color:#000;\">"
   ]
  },
  {
   "cell_type": "markdown",
   "metadata": {},
   "source": [
    "### Show Tweet Counts for Each Senator \n",
    "* Create copy of **`DataFrame` `senators_df`** adding a new column of **`tweet_counts`** \n",
    "* Display the **top-10 senators by tweet count**"
   ]
  },
  {
   "cell_type": "code",
   "execution_count": 19,
   "metadata": {},
   "outputs": [],
   "source": [
    "tweet_counts_df = senators_df.assign(Tweets=tweet_counts)  "
   ]
  },
  {
   "cell_type": "code",
   "execution_count": 20,
   "metadata": {},
   "outputs": [
    {
     "data": {
      "text/html": [
       "<div>\n",
       "<style scoped>\n",
       "    .dataframe tbody tr th:only-of-type {\n",
       "        vertical-align: middle;\n",
       "    }\n",
       "\n",
       "    .dataframe tbody tr th {\n",
       "        vertical-align: top;\n",
       "    }\n",
       "\n",
       "    .dataframe thead th {\n",
       "        text-align: right;\n",
       "    }\n",
       "</style>\n",
       "<table border=\"1\" class=\"dataframe\">\n",
       "  <thead>\n",
       "    <tr style=\"text-align: right;\">\n",
       "      <th></th>\n",
       "      <th>State</th>\n",
       "      <th>Name</th>\n",
       "      <th>Party</th>\n",
       "      <th>TwitterHandle</th>\n",
       "      <th>TwitterID</th>\n",
       "      <th>Tweets</th>\n",
       "    </tr>\n",
       "  </thead>\n",
       "  <tbody>\n",
       "    <tr>\n",
       "      <th>23</th>\n",
       "      <td>ID</td>\n",
       "      <td>Jim Risch</td>\n",
       "      <td>R</td>\n",
       "      <td>SenatorRisch</td>\n",
       "      <td>1096059529</td>\n",
       "      <td>1056</td>\n",
       "    </tr>\n",
       "    <tr>\n",
       "      <th>15</th>\n",
       "      <td>DE</td>\n",
       "      <td>Chris Coons</td>\n",
       "      <td>D</td>\n",
       "      <td>ChrisCoons</td>\n",
       "      <td>15324851</td>\n",
       "      <td>989</td>\n",
       "    </tr>\n",
       "    <tr>\n",
       "      <th>85</th>\n",
       "      <td>TX</td>\n",
       "      <td>Ted Cruz</td>\n",
       "      <td>R</td>\n",
       "      <td>SenTedCruz</td>\n",
       "      <td>1074480192</td>\n",
       "      <td>854</td>\n",
       "    </tr>\n",
       "    <tr>\n",
       "      <th>17</th>\n",
       "      <td>FL</td>\n",
       "      <td>Marco Rubio</td>\n",
       "      <td>R</td>\n",
       "      <td>marcorubio</td>\n",
       "      <td>15745368</td>\n",
       "      <td>843</td>\n",
       "    </tr>\n",
       "    <tr>\n",
       "      <th>97</th>\n",
       "      <td>WI</td>\n",
       "      <td>Ron Johnson</td>\n",
       "      <td>R</td>\n",
       "      <td>SenRonJohnson</td>\n",
       "      <td>233737858</td>\n",
       "      <td>783</td>\n",
       "    </tr>\n",
       "    <tr>\n",
       "      <th>39</th>\n",
       "      <td>MD</td>\n",
       "      <td>Ben Cardin</td>\n",
       "      <td>D</td>\n",
       "      <td>SenatorCardin</td>\n",
       "      <td>109071031</td>\n",
       "      <td>739</td>\n",
       "    </tr>\n",
       "    <tr>\n",
       "      <th>20</th>\n",
       "      <td>HI</td>\n",
       "      <td>Brian Schatz</td>\n",
       "      <td>D</td>\n",
       "      <td>brianschatz</td>\n",
       "      <td>47747074</td>\n",
       "      <td>736</td>\n",
       "    </tr>\n",
       "    <tr>\n",
       "      <th>84</th>\n",
       "      <td>TX</td>\n",
       "      <td>John Cornyn</td>\n",
       "      <td>R</td>\n",
       "      <td>JohnCornyn</td>\n",
       "      <td>13218102</td>\n",
       "      <td>647</td>\n",
       "    </tr>\n",
       "    <tr>\n",
       "      <th>59</th>\n",
       "      <td>NJ</td>\n",
       "      <td>Bob Menendez</td>\n",
       "      <td>D</td>\n",
       "      <td>SenatorMenendez</td>\n",
       "      <td>18695134</td>\n",
       "      <td>646</td>\n",
       "    </tr>\n",
       "    <tr>\n",
       "      <th>83</th>\n",
       "      <td>TN</td>\n",
       "      <td>Marsha Blackburn</td>\n",
       "      <td>R</td>\n",
       "      <td>MarshaBlackburn</td>\n",
       "      <td>278145569</td>\n",
       "      <td>569</td>\n",
       "    </tr>\n",
       "  </tbody>\n",
       "</table>\n",
       "</div>"
      ],
      "text/plain": [
       "   State               Name Party    TwitterHandle   TwitterID  Tweets\n",
       "23    ID          Jim Risch     R     SenatorRisch  1096059529    1056\n",
       "15    DE        Chris Coons     D       ChrisCoons    15324851     989\n",
       "85    TX           Ted Cruz     R       SenTedCruz  1074480192     854\n",
       "17    FL        Marco Rubio     R       marcorubio    15745368     843\n",
       "97    WI        Ron Johnson     R    SenRonJohnson   233737858     783\n",
       "39    MD         Ben Cardin     D    SenatorCardin   109071031     739\n",
       "20    HI       Brian Schatz     D      brianschatz    47747074     736\n",
       "84    TX        John Cornyn     R       JohnCornyn    13218102     647\n",
       "59    NJ       Bob Menendez     D  SenatorMenendez    18695134     646\n",
       "83    TN  Marsha Blackburn      R  MarshaBlackburn   278145569     569"
      ]
     },
     "execution_count": 20,
     "metadata": {},
     "output_type": "execute_result"
    }
   ],
   "source": [
    "tweet_counts_df.sort_values(by='Tweets', ascending=False).head(10)"
   ]
  },
  {
   "cell_type": "markdown",
   "metadata": {},
   "source": [
    "<hr style=\"height:2px; border:none; color:#000; background-color:#000;\">"
   ]
  },
  {
   "cell_type": "markdown",
   "metadata": {},
   "source": [
    "### Get the State Locations for Plotting Markers (1 of 3)\n",
    "* Get each **state’s latitude and longitude** coordinates for **plotting on a map**\n",
    "* **`state_codes.py`** contains a dictionary that maps **two-letter state codes** to **full state names**\n",
    "    * Used with **`geopy`** to look up the location of each state"
   ]
  },
  {
   "cell_type": "code",
   "execution_count": 21,
   "metadata": {},
   "outputs": [],
   "source": [
    "from geopy import OpenMapQuest"
   ]
  },
  {
   "cell_type": "code",
   "execution_count": 22,
   "metadata": {},
   "outputs": [],
   "source": [
    "import time"
   ]
  },
  {
   "cell_type": "code",
   "execution_count": 23,
   "metadata": {},
   "outputs": [],
   "source": [
    "from state_codes import state_codes"
   ]
  },
  {
   "cell_type": "markdown",
   "metadata": {},
   "source": [
    "* Get the **`geocoder` object** to **translate location names** into **`Location` objects**"
   ]
  },
  {
   "cell_type": "code",
   "execution_count": 24,
   "metadata": {},
   "outputs": [],
   "source": [
    "geo = OpenMapQuest(api_key=keys.mapquest_key) "
   ]
  },
  {
   "cell_type": "markdown",
   "metadata": {},
   "source": [
    "<hr style=\"height:2px; border:none; color:#000; background-\n",
    "color:#000;\">"
   ]
  },
  {
   "cell_type": "markdown",
   "metadata": {},
   "source": [
    "### Get the State Locations for Plotting Markers (2 of 3)\n",
    "* Get and sort the unique state names"
   ]
  },
  {
   "cell_type": "code",
   "execution_count": 25,
   "metadata": {},
   "outputs": [],
   "source": [
    "states = tweet_counts_df.State.unique()  # get unique state names"
   ]
  },
  {
   "cell_type": "code",
   "execution_count": 26,
   "metadata": {},
   "outputs": [],
   "source": [
    "states.sort() "
   ]
  },
  {
   "cell_type": "markdown",
   "metadata": {},
   "source": [
    "<hr style=\"height:2px; border:none; color:#000; background-color:#000;\">"
   ]
  },
  {
   "cell_type": "markdown",
   "metadata": {},
   "source": [
    "### Get the State Locations for Plotting Markers (3 of 3)\n",
    "* Look up **each state’s location**\n",
    "* Call `geocode` with state name followed by `', USA'` \n",
    "    * Ensures that we get United States locations"
   ]
  },
  {
   "cell_type": "code",
   "execution_count": 27,
   "metadata": {},
   "outputs": [],
   "source": [
    "locations = []"
   ]
  },
  {
   "cell_type": "code",
   "execution_count": 28,
   "metadata": {},
   "outputs": [
    {
     "name": "stdout",
     "output_type": "stream",
     "text": [
      "Wyoming, United States of America\n"
     ]
    }
   ],
   "source": [
    "from IPython.display import clear_output\n",
    "\n",
    "for state in states:\n",
    "    processed = False\n",
    "    delay = .1 \n",
    "    while not processed:\n",
    "        try: \n",
    "            locations.append(geo.geocode(state_codes[state] + ', USA'))\n",
    "            clear_output()  # clear cell's current output before showing next one\n",
    "            print(locations[-1])  \n",
    "            processed = True\n",
    "        except:  # timed out, so wait before trying again\n",
    "            print('OpenMapQuest service timed out. Waiting.')\n",
    "            time.sleep(delay)\n",
    "            delay += .1"
   ]
  },
  {
   "cell_type": "markdown",
   "metadata": {},
   "source": [
    "<hr style=\"height:2px; border:none; color:#000; background-color:#000;\">"
   ]
  },
  {
   "cell_type": "markdown",
   "metadata": {},
   "source": [
    "### Grouping the Tweet Counts by State \n",
    "* **Tweet total** for a states' two senators is used to **color the map**\n",
    "    * **Darker colors** represent **higher tweet counts**\n",
    "* **`DataFrame` method `groupby`** to group the senators by state \n",
    "    * **`as_index=False`**&mdash;state codes should be a column in returned **`GroupBy`** object, rather than indices for the object's rows\n",
    "* **`GroupBy`** object's **`sum`** method totals the numeric data by state"
   ]
  },
  {
   "cell_type": "code",
   "execution_count": 29,
   "metadata": {},
   "outputs": [],
   "source": [
    "tweets_counts_by_state = tweet_counts_df.groupby(\n",
    "    'State', as_index=False).sum()"
   ]
  },
  {
   "cell_type": "code",
   "execution_count": 30,
   "metadata": {},
   "outputs": [
    {
     "data": {
      "text/html": [
       "<div>\n",
       "<style scoped>\n",
       "    .dataframe tbody tr th:only-of-type {\n",
       "        vertical-align: middle;\n",
       "    }\n",
       "\n",
       "    .dataframe tbody tr th {\n",
       "        vertical-align: top;\n",
       "    }\n",
       "\n",
       "    .dataframe thead th {\n",
       "        text-align: right;\n",
       "    }\n",
       "</style>\n",
       "<table border=\"1\" class=\"dataframe\">\n",
       "  <thead>\n",
       "    <tr style=\"text-align: right;\">\n",
       "      <th></th>\n",
       "      <th>State</th>\n",
       "      <th>Tweets</th>\n",
       "    </tr>\n",
       "  </thead>\n",
       "  <tbody>\n",
       "    <tr>\n",
       "      <th>0</th>\n",
       "      <td>AK</td>\n",
       "      <td>113</td>\n",
       "    </tr>\n",
       "    <tr>\n",
       "      <th>1</th>\n",
       "      <td>AL</td>\n",
       "      <td>264</td>\n",
       "    </tr>\n",
       "    <tr>\n",
       "      <th>2</th>\n",
       "      <td>AR</td>\n",
       "      <td>609</td>\n",
       "    </tr>\n",
       "    <tr>\n",
       "      <th>3</th>\n",
       "      <td>AZ</td>\n",
       "      <td>82</td>\n",
       "    </tr>\n",
       "    <tr>\n",
       "      <th>4</th>\n",
       "      <td>CA</td>\n",
       "      <td>17</td>\n",
       "    </tr>\n",
       "  </tbody>\n",
       "</table>\n",
       "</div>"
      ],
      "text/plain": [
       "  State  Tweets\n",
       "0    AK     113\n",
       "1    AL     264\n",
       "2    AR     609\n",
       "3    AZ      82\n",
       "4    CA      17"
      ]
     },
     "execution_count": 30,
     "metadata": {},
     "output_type": "execute_result"
    }
   ],
   "source": [
    "tweets_counts_by_state.head()"
   ]
  },
  {
   "cell_type": "markdown",
   "metadata": {},
   "source": [
    "<hr style=\"height:2px; border:none; color:#000; background-color:#000;\">"
   ]
  },
  {
   "cell_type": "markdown",
   "metadata": {},
   "source": [
    "### Creating the Map "
   ]
  },
  {
   "cell_type": "code",
   "execution_count": 31,
   "metadata": {},
   "outputs": [],
   "source": [
    "import folium"
   ]
  },
  {
   "cell_type": "code",
   "execution_count": 32,
   "metadata": {},
   "outputs": [],
   "source": [
    "usmap = folium.Map(location=[39.8283, -98.5795], \n",
    "                   zoom_start=4, detect_retina=True,\n",
    "                   tiles='Stamen Toner')"
   ]
  },
  {
   "cell_type": "markdown",
   "metadata": {},
   "source": [
    "<hr style=\"height:2px; border:none; color:#000; background-color:#000;\">"
   ]
  },
  {
   "cell_type": "markdown",
   "metadata": {},
   "source": [
    "### Creating a Choropleth to Color the Map\n",
    "* A **choropleth** shades areas in a map using magnitudes of numerical values to determine color\n",
    "* For a **detailed description of the arguments** below, see \n",
    "    * [**Python Fundamentals LiveLessons videos**](https://learning.oreilly.com/videos/python-fundamentals/9780135917411/9780135917411-PFLL_Lesson16_23) \n",
    "    * [**Python for Programmers, Section 16.4.2** (under the heading \"Creating a Choropleth to Color the Map\"](https://learning.oreilly.com/library/view/python-for-programmers/9780135231364/ch16.xhtml#ch16lev2sec15)"
   ]
  },
  {
   "cell_type": "code",
   "execution_count": 33,
   "metadata": {},
   "outputs": [],
   "source": [
    "choropleth = folium.Choropleth(\n",
    "    geo_data='us-states.json',\n",
    "    name='choropleth',\n",
    "    data=tweets_counts_by_state,\n",
    "    columns=['State', 'Tweets'],\n",
    "    key_on='feature.id',\n",
    "    fill_color='YlOrRd',\n",
    "    fill_opacity=0.7,\n",
    "    line_opacity=0.2,\n",
    "    legend_name='Tweets by State'\n",
    ").add_to(usmap)\n",
    "\n",
    "layer = folium.LayerControl().add_to(usmap)"
   ]
  },
  {
   "cell_type": "markdown",
   "metadata": {},
   "source": [
    "<hr style=\"height:2px; border:none; color:#000; background-color:#000;\">"
   ]
  },
  {
   "cell_type": "markdown",
   "metadata": {},
   "source": [
    "### Creating the Map Markers for Each State (1 of 1)\n",
    "* Sort senators in **descending order** by **tweet count**\n",
    "* **`groupby`** maintains **original row order** in each group\n",
    "* **`index`** &mdash; used to look up each state’s location in **`locations` list**\n",
    "* **name** &mdash; two-letter **state code**\n",
    "* **`group`** &mdash; collection of a **state's two senators**"
   ]
  },
  {
   "cell_type": "code",
   "execution_count": 34,
   "metadata": {},
   "outputs": [],
   "source": [
    "sorted_df = tweet_counts_df.sort_values(by='Tweets', ascending=False)\n",
    "\n",
    "for index, (name, group) in enumerate(sorted_df.groupby('State')):\n",
    "    strings = [state_codes[name]]  # used to assemble popup text\n",
    "\n",
    "    for s in group.itertuples():\n",
    "        strings.append(f'{s.Name} ({s.Party}); Tweets: {s.Tweets}')\n",
    "        \n",
    "    text = '<br>'.join(strings)  \n",
    "    popup = folium.Popup(text, max_width=200)\n",
    "    marker = folium.Marker(\n",
    "        (locations[index].latitude, locations[index].longitude), \n",
    "        popup=popup)\n",
    "    marker.add_to(usmap) "
   ]
  },
  {
   "cell_type": "markdown",
   "metadata": {},
   "source": [
    "<hr style=\"height:2px; border:none; color:#000; background-color:#000;\">"
   ]
  },
  {
   "cell_type": "markdown",
   "metadata": {},
   "source": [
    "### Saving and Displaying the Map "
   ]
  },
  {
   "cell_type": "code",
   "execution_count": 35,
   "metadata": {},
   "outputs": [],
   "source": [
    "usmap.save('SenatorsTweets.html')"
   ]
  },
  {
   "cell_type": "code",
   "execution_count": 36,
   "metadata": {
    "tags": []
   },
   "outputs": [
    {
     "data": {
      "text/html": [
       "<div style=\"width:100%;\"><div style=\"position:relative;width:100%;height:0;padding-bottom:60%;\"><span style=\"color:#565656\">Make this Notebook Trusted to load map: File -> Trust Notebook</span><iframe src=\"about:blank\" style=\"position:absolute;width:100%;height:100%;left:0;top:0;border:none !important;\" data-html=%3C%21DOCTYPE%20html%3E%0A%3Chead%3E%20%20%20%20%0A%20%20%20%20%3Cmeta%20http-equiv%3D%22content-type%22%20content%3D%22text/html%3B%20charset%3DUTF-8%22%20/%3E%0A%20%20%20%20%0A%20%20%20%20%20%20%20%20%3Cscript%3E%0A%20%20%20%20%20%20%20%20%20%20%20%20L_NO_TOUCH%20%3D%20false%3B%0A%20%20%20%20%20%20%20%20%20%20%20%20L_DISABLE_3D%20%3D%20false%3B%0A%20%20%20%20%20%20%20%20%3C/script%3E%0A%20%20%20%20%0A%20%20%20%20%3Cstyle%3Ehtml%2C%20body%20%7Bwidth%3A%20100%25%3Bheight%3A%20100%25%3Bmargin%3A%200%3Bpadding%3A%200%3B%7D%3C/style%3E%0A%20%20%20%20%3Cstyle%3E%23map%20%7Bposition%3Aabsolute%3Btop%3A0%3Bbottom%3A0%3Bright%3A0%3Bleft%3A0%3B%7D%3C/style%3E%0A%20%20%20%20%3Cscript%20src%3D%22https%3A//cdn.jsdelivr.net/npm/leaflet%401.6.0/dist/leaflet.js%22%3E%3C/script%3E%0A%20%20%20%20%3Cscript%20src%3D%22https%3A//code.jquery.com/jquery-1.12.4.min.js%22%3E%3C/script%3E%0A%20%20%20%20%3Cscript%20src%3D%22https%3A//maxcdn.bootstrapcdn.com/bootstrap/3.2.0/js/bootstrap.min.js%22%3E%3C/script%3E%0A%20%20%20%20%3Cscript%20src%3D%22https%3A//cdnjs.cloudflare.com/ajax/libs/Leaflet.awesome-markers/2.0.2/leaflet.awesome-markers.js%22%3E%3C/script%3E%0A%20%20%20%20%3Clink%20rel%3D%22stylesheet%22%20href%3D%22https%3A//cdn.jsdelivr.net/npm/leaflet%401.6.0/dist/leaflet.css%22/%3E%0A%20%20%20%20%3Clink%20rel%3D%22stylesheet%22%20href%3D%22https%3A//maxcdn.bootstrapcdn.com/bootstrap/3.2.0/css/bootstrap.min.css%22/%3E%0A%20%20%20%20%3Clink%20rel%3D%22stylesheet%22%20href%3D%22https%3A//maxcdn.bootstrapcdn.com/bootstrap/3.2.0/css/bootstrap-theme.min.css%22/%3E%0A%20%20%20%20%3Clink%20rel%3D%22stylesheet%22%20href%3D%22https%3A//maxcdn.bootstrapcdn.com/font-awesome/4.6.3/css/font-awesome.min.css%22/%3E%0A%20%20%20%20%3Clink%20rel%3D%22stylesheet%22%20href%3D%22https%3A//cdnjs.cloudflare.com/ajax/libs/Leaflet.awesome-markers/2.0.2/leaflet.awesome-markers.css%22/%3E%0A%20%20%20%20%3Clink%20rel%3D%22stylesheet%22%20href%3D%22https%3A//cdn.jsdelivr.net/gh/python-visualization/folium/folium/templates/leaflet.awesome.rotate.min.css%22/%3E%0A%20%20%20%20%0A%20%20%20%20%20%20%20%20%20%20%20%20%3Cmeta%20name%3D%22viewport%22%20content%3D%22width%3Ddevice-width%2C%0A%20%20%20%20%20%20%20%20%20%20%20%20%20%20%20%20initial-scale%3D1.0%2C%20maximum-scale%3D1.0%2C%20user-scalable%3Dno%22%20/%3E%0A%20%20%20%20%20%20%20%20%20%20%20%20%3Cstyle%3E%0A%20%20%20%20%20%20%20%20%20%20%20%20%20%20%20%20%23map_a848eb17e0d748eebc43f350cf22d39f%20%7B%0A%20%20%20%20%20%20%20%20%20%20%20%20%20%20%20%20%20%20%20%20position%3A%20relative%3B%0A%20%20%20%20%20%20%20%20%20%20%20%20%20%20%20%20%20%20%20%20width%3A%20100.0%25%3B%0A%20%20%20%20%20%20%20%20%20%20%20%20%20%20%20%20%20%20%20%20height%3A%20100.0%25%3B%0A%20%20%20%20%20%20%20%20%20%20%20%20%20%20%20%20%20%20%20%20left%3A%200.0%25%3B%0A%20%20%20%20%20%20%20%20%20%20%20%20%20%20%20%20%20%20%20%20top%3A%200.0%25%3B%0A%20%20%20%20%20%20%20%20%20%20%20%20%20%20%20%20%7D%0A%20%20%20%20%20%20%20%20%20%20%20%20%3C/style%3E%0A%20%20%20%20%20%20%20%20%0A%20%20%20%20%3Cscript%20src%3D%22https%3A//cdnjs.cloudflare.com/ajax/libs/d3/3.5.5/d3.min.js%22%3E%3C/script%3E%0A%3C/head%3E%0A%3Cbody%3E%20%20%20%20%0A%20%20%20%20%0A%20%20%20%20%20%20%20%20%20%20%20%20%3Cdiv%20class%3D%22folium-map%22%20id%3D%22map_a848eb17e0d748eebc43f350cf22d39f%22%20%3E%3C/div%3E%0A%20%20%20%20%20%20%20%20%0A%3C/body%3E%0A%3Cscript%3E%20%20%20%20%0A%20%20%20%20%0A%20%20%20%20%20%20%20%20%20%20%20%20var%20map_a848eb17e0d748eebc43f350cf22d39f%20%3D%20L.map%28%0A%20%20%20%20%20%20%20%20%20%20%20%20%20%20%20%20%22map_a848eb17e0d748eebc43f350cf22d39f%22%2C%0A%20%20%20%20%20%20%20%20%20%20%20%20%20%20%20%20%7B%0A%20%20%20%20%20%20%20%20%20%20%20%20%20%20%20%20%20%20%20%20center%3A%20%5B39.8283%2C%20-98.5795%5D%2C%0A%20%20%20%20%20%20%20%20%20%20%20%20%20%20%20%20%20%20%20%20crs%3A%20L.CRS.EPSG3857%2C%0A%20%20%20%20%20%20%20%20%20%20%20%20%20%20%20%20%20%20%20%20zoom%3A%204%2C%0A%20%20%20%20%20%20%20%20%20%20%20%20%20%20%20%20%20%20%20%20zoomControl%3A%20true%2C%0A%20%20%20%20%20%20%20%20%20%20%20%20%20%20%20%20%20%20%20%20preferCanvas%3A%20false%2C%0A%20%20%20%20%20%20%20%20%20%20%20%20%20%20%20%20%20%20%20%20detectRetina%3A%20true%2C%0A%20%20%20%20%20%20%20%20%20%20%20%20%20%20%20%20%7D%0A%20%20%20%20%20%20%20%20%20%20%20%20%29%3B%0A%0A%20%20%20%20%20%20%20%20%20%20%20%20%0A%0A%20%20%20%20%20%20%20%20%0A%20%20%20%20%0A%20%20%20%20%20%20%20%20%20%20%20%20var%20tile_layer_b46ed832938c4f5bbbed7ae1642b96ad%20%3D%20L.tileLayer%28%0A%20%20%20%20%20%20%20%20%20%20%20%20%20%20%20%20%22https%3A//stamen-tiles-%7Bs%7D.a.ssl.fastly.net/toner/%7Bz%7D/%7Bx%7D/%7By%7D.png%22%2C%0A%20%20%20%20%20%20%20%20%20%20%20%20%20%20%20%20%7B%22attribution%22%3A%20%22Map%20tiles%20by%20%5Cu003ca%20href%3D%5C%22http%3A//stamen.com%5C%22%5Cu003eStamen%20Design%5Cu003c/a%5Cu003e%2C%20under%20%5Cu003ca%20href%3D%5C%22http%3A//creativecommons.org/licenses/by/3.0%5C%22%5Cu003eCC%20BY%203.0%5Cu003c/a%5Cu003e.%20Data%20by%20%5Cu0026copy%3B%20%5Cu003ca%20href%3D%5C%22http%3A//openstreetmap.org%5C%22%5Cu003eOpenStreetMap%5Cu003c/a%5Cu003e%2C%20under%20%5Cu003ca%20href%3D%5C%22http%3A//www.openstreetmap.org/copyright%5C%22%5Cu003eODbL%5Cu003c/a%5Cu003e.%22%2C%20%22detectRetina%22%3A%20false%2C%20%22maxNativeZoom%22%3A%2018%2C%20%22maxZoom%22%3A%2018%2C%20%22minZoom%22%3A%200%2C%20%22noWrap%22%3A%20false%2C%20%22opacity%22%3A%201%2C%20%22subdomains%22%3A%20%22abc%22%2C%20%22tms%22%3A%20false%7D%0A%20%20%20%20%20%20%20%20%20%20%20%20%29.addTo%28map_a848eb17e0d748eebc43f350cf22d39f%29%3B%0A%20%20%20%20%20%20%20%20%0A%20%20%20%20%0A%20%20%20%20%20%20%20%20%20%20%20%20var%20choropleth_19fecc1203714cdb8ede26f6afc67ad9%20%3D%20L.featureGroup%28%0A%20%20%20%20%20%20%20%20%20%20%20%20%20%20%20%20%7B%7D%0A%20%20%20%20%20%20%20%20%20%20%20%20%29.addTo%28map_a848eb17e0d748eebc43f350cf22d39f%29%3B%0A%20%20%20%20%20%20%20%20%0A%20%20%20%20%0A%20%20%20%20%20%20%20%20function%20geo_json_edef6116cff4444895d385d46769245b_styler%28feature%29%20%7B%0A%20%20%20%20%20%20%20%20%20%20%20%20switch%28feature.id%29%20%7B%0A%20%20%20%20%20%20%20%20%20%20%20%20%20%20%20%20case%20%22AL%22%3A%20case%20%22IN%22%3A%20case%20%22KY%22%3A%20case%20%22LA%22%3A%20case%20%22MA%22%3A%20case%20%22OK%22%3A%20case%20%22SD%22%3A%20case%20%22UT%22%3A%20%0A%20%20%20%20%20%20%20%20%20%20%20%20%20%20%20%20%20%20%20%20return%20%7B%22color%22%3A%20%22black%22%2C%20%22fillColor%22%3A%20%22%23fed976%22%2C%20%22fillOpacity%22%3A%200.7%2C%20%22opacity%22%3A%200.2%2C%20%22weight%22%3A%201%7D%3B%0A%20%20%20%20%20%20%20%20%20%20%20%20%20%20%20%20case%20%22AR%22%3A%20case%20%22HI%22%3A%20case%20%22NJ%22%3A%20case%20%22SC%22%3A%20case%20%22TN%22%3A%20%0A%20%20%20%20%20%20%20%20%20%20%20%20%20%20%20%20%20%20%20%20return%20%7B%22color%22%3A%20%22black%22%2C%20%22fillColor%22%3A%20%22%23feb24c%22%2C%20%22fillOpacity%22%3A%200.7%2C%20%22opacity%22%3A%200.2%2C%20%22weight%22%3A%201%7D%3B%0A%20%20%20%20%20%20%20%20%20%20%20%20%20%20%20%20case%20%22DE%22%3A%20case%20%22MD%22%3A%20case%20%22WI%22%3A%20%0A%20%20%20%20%20%20%20%20%20%20%20%20%20%20%20%20%20%20%20%20return%20%7B%22color%22%3A%20%22black%22%2C%20%22fillColor%22%3A%20%22%23fd8d3c%22%2C%20%22fillOpacity%22%3A%200.7%2C%20%22opacity%22%3A%200.2%2C%20%22weight%22%3A%201%7D%3B%0A%20%20%20%20%20%20%20%20%20%20%20%20%20%20%20%20case%20%22FL%22%3A%20case%20%22TX%22%3A%20%0A%20%20%20%20%20%20%20%20%20%20%20%20%20%20%20%20%20%20%20%20return%20%7B%22color%22%3A%20%22black%22%2C%20%22fillColor%22%3A%20%22%23bd0026%22%2C%20%22fillOpacity%22%3A%200.7%2C%20%22opacity%22%3A%200.2%2C%20%22weight%22%3A%201%7D%3B%0A%20%20%20%20%20%20%20%20%20%20%20%20%20%20%20%20case%20%22ID%22%3A%20%0A%20%20%20%20%20%20%20%20%20%20%20%20%20%20%20%20%20%20%20%20return%20%7B%22color%22%3A%20%22black%22%2C%20%22fillColor%22%3A%20%22%23f03b20%22%2C%20%22fillOpacity%22%3A%200.7%2C%20%22opacity%22%3A%200.2%2C%20%22weight%22%3A%201%7D%3B%0A%20%20%20%20%20%20%20%20%20%20%20%20%20%20%20%20default%3A%0A%20%20%20%20%20%20%20%20%20%20%20%20%20%20%20%20%20%20%20%20return%20%7B%22color%22%3A%20%22black%22%2C%20%22fillColor%22%3A%20%22%23ffffb2%22%2C%20%22fillOpacity%22%3A%200.7%2C%20%22opacity%22%3A%200.2%2C%20%22weight%22%3A%201%7D%3B%0A%20%20%20%20%20%20%20%20%20%20%20%20%7D%0A%20%20%20%20%20%20%20%20%7D%0A%0A%20%20%20%20%20%20%20%20function%20geo_json_edef6116cff4444895d385d46769245b_onEachFeature%28feature%2C%20layer%29%20%7B%0A%20%20%20%20%20%20%20%20%20%20%20%20layer.on%28%7B%0A%20%20%20%20%20%20%20%20%20%20%20%20%7D%29%3B%0A%20%20%20%20%20%20%20%20%7D%3B%0A%20%20%20%20%20%20%20%20var%20geo_json_edef6116cff4444895d385d46769245b%20%3D%20L.geoJson%28null%2C%20%7B%0A%20%20%20%20%20%20%20%20%20%20%20%20%20%20%20%20onEachFeature%3A%20geo_json_edef6116cff4444895d385d46769245b_onEachFeature%2C%0A%20%20%20%20%20%20%20%20%20%20%20%20%0A%20%20%20%20%20%20%20%20%20%20%20%20%20%20%20%20style%3A%20geo_json_edef6116cff4444895d385d46769245b_styler%2C%0A%20%20%20%20%20%20%20%20%7D%29%3B%0A%0A%20%20%20%20%20%20%20%20function%20geo_json_edef6116cff4444895d385d46769245b_add%20%28data%29%20%7B%0A%20%20%20%20%20%20%20%20%20%20%20%20geo_json_edef6116cff4444895d385d46769245b%0A%20%20%20%20%20%20%20%20%20%20%20%20%20%20%20%20.addData%28data%29%0A%20%20%20%20%20%20%20%20%20%20%20%20%20%20%20%20.addTo%28choropleth_19fecc1203714cdb8ede26f6afc67ad9%29%3B%0A%20%20%20%20%20%20%20%20%7D%0A%20%20%20%20%20%20%20%20%20%20%20%20geo_json_edef6116cff4444895d385d46769245b_add%28%7B%22features%22%3A%20%5B%7B%22geometry%22%3A%20%7B%22coordinates%22%3A%20%5B%5B%5B-87.359296%2C%2035.00118%5D%2C%20%5B-85.606675%2C%2034.984749%5D%2C%20%5B-85.431413%2C%2034.124869%5D%2C%20%5B-85.184951%2C%2032.859696%5D%2C%20%5B-85.069935%2C%2032.580372%5D%2C%20%5B-84.960397%2C%2032.421541%5D%2C%20%5B-85.004212%2C%2032.322956%5D%2C%20%5B-84.889196%2C%2032.262709%5D%2C%20%5B-85.058981%2C%2032.13674%5D%2C%20%5B-85.053504%2C%2032.01077%5D%2C%20%5B-85.141136%2C%2031.840985%5D%2C%20%5B-85.042551%2C%2031.539753%5D%2C%20%5B-85.113751%2C%2031.27686%5D%2C%20%5B-85.004212%2C%2031.003013%5D%2C%20%5B-85.497137%2C%2030.997536%5D%2C%20%5B-87.600282%2C%2030.997536%5D%2C%20%5B-87.633143%2C%2030.86609%5D%2C%20%5B-87.408589%2C%2030.674397%5D%2C%20%5B-87.446927%2C%2030.510088%5D%2C%20%5B-87.37025%2C%2030.427934%5D%2C%20%5B-87.518128%2C%2030.280057%5D%2C%20%5B-87.655051%2C%2030.247195%5D%2C%20%5B-87.90699%2C%2030.411504%5D%2C%20%5B-87.934375%2C%2030.657966%5D%2C%20%5B-88.011052%2C%2030.685351%5D%2C%20%5B-88.10416%2C%2030.499135%5D%2C%20%5B-88.137022%2C%2030.318396%5D%2C%20%5B-88.394438%2C%2030.367688%5D%2C%20%5B-88.471115%2C%2031.895754%5D%2C%20%5B-88.241084%2C%2033.796253%5D%2C%20%5B-88.098683%2C%2034.891641%5D%2C%20%5B-88.202745%2C%2034.995703%5D%2C%20%5B-87.359296%2C%2035.00118%5D%5D%5D%2C%20%22type%22%3A%20%22Polygon%22%7D%2C%20%22id%22%3A%20%22AL%22%2C%20%22properties%22%3A%20%7B%22name%22%3A%20%22Alabama%22%7D%2C%20%22type%22%3A%20%22Feature%22%7D%2C%20%7B%22geometry%22%3A%20%7B%22coordinates%22%3A%20%5B%5B%5B%5B-131.602021%2C%2055.117982%5D%2C%20%5B-131.569159%2C%2055.28229%5D%2C%20%5B-131.355558%2C%2055.183705%5D%2C%20%5B-131.38842%2C%2055.01392%5D%2C%20%5B-131.645836%2C%2055.035827%5D%2C%20%5B-131.602021%2C%2055.117982%5D%5D%5D%2C%20%5B%5B%5B-131.832052%2C%2055.42469%5D%2C%20%5B-131.645836%2C%2055.304197%5D%2C%20%5B-131.749898%2C%2055.128935%5D%2C%20%5B-131.832052%2C%2055.189182%5D%2C%20%5B-131.832052%2C%2055.42469%5D%5D%5D%2C%20%5B%5B%5B-132.976733%2C%2056.437924%5D%2C%20%5B-132.735747%2C%2056.459832%5D%2C%20%5B-132.631685%2C%2056.421493%5D%2C%20%5B-132.664547%2C%2056.273616%5D%2C%20%5B-132.878148%2C%2056.240754%5D%2C%20%5B-133.069841%2C%2056.333862%5D%2C%20%5B-132.976733%2C%2056.437924%5D%5D%5D%2C%20%5B%5B%5B-133.595627%2C%2056.350293%5D%2C%20%5B-133.162949%2C%2056.317431%5D%2C%20%5B-133.05341%2C%2056.125739%5D%2C%20%5B-132.620732%2C%2055.912138%5D%2C%20%5B-132.472854%2C%2055.780691%5D%2C%20%5B-132.4619%2C%2055.671152%5D%2C%20%5B-132.357838%2C%2055.649245%5D%2C%20%5B-132.341408%2C%2055.506844%5D%2C%20%5B-132.166146%2C%2055.364444%5D%2C%20%5B-132.144238%2C%2055.238474%5D%2C%20%5B-132.029222%2C%2055.276813%5D%2C%20%5B-131.97993%2C%2055.178228%5D%2C%20%5B-131.958022%2C%2054.789365%5D%2C%20%5B-132.029222%2C%2054.701734%5D%2C%20%5B-132.308546%2C%2054.718165%5D%2C%20%5B-132.385223%2C%2054.915335%5D%2C%20%5B-132.483808%2C%2054.898904%5D%2C%20%5B-132.686455%2C%2055.046781%5D%2C%20%5B-132.746701%2C%2054.997489%5D%2C%20%5B-132.916486%2C%2055.046781%5D%2C%20%5B-132.889102%2C%2054.898904%5D%2C%20%5B-132.73027%2C%2054.937242%5D%2C%20%5B-132.626209%2C%2054.882473%5D%2C%20%5B-132.675501%2C%2054.679826%5D%2C%20%5B-132.867194%2C%2054.701734%5D%2C%20%5B-133.157472%2C%2054.95915%5D%2C%20%5B-133.239626%2C%2055.090597%5D%2C%20%5B-133.223195%2C%2055.22752%5D%2C%20%5B-133.453227%2C%2055.216566%5D%2C%20%5B-133.453227%2C%2055.320628%5D%2C%20%5B-133.277964%2C%2055.331582%5D%2C%20%5B-133.102702%2C%2055.42469%5D%2C%20%5B-133.17938%2C%2055.588998%5D%2C%20%5B-133.387503%2C%2055.62186%5D%2C%20%5B-133.420365%2C%2055.884753%5D%2C%20%5B-133.497042%2C%2056.0162%5D%2C%20%5B-133.639442%2C%2055.923092%5D%2C%20%5B-133.694212%2C%2056.070969%5D%2C%20%5B-133.546335%2C%2056.142169%5D%2C%20%5B-133.666827%2C%2056.311955%5D%2C%20%5B-133.595627%2C%2056.350293%5D%5D%5D%2C%20%5B%5B%5B-133.738027%2C%2055.556137%5D%2C%20%5B-133.546335%2C%2055.490413%5D%2C%20%5B-133.414888%2C%2055.572568%5D%2C%20%5B-133.283441%2C%2055.534229%5D%2C%20%5B-133.420365%2C%2055.386352%5D%2C%20%5B-133.633966%2C%2055.430167%5D%2C%20%5B-133.738027%2C%2055.556137%5D%5D%5D%2C%20%5B%5B%5B-133.907813%2C%2056.930849%5D%2C%20%5B-134.050213%2C%2057.029434%5D%2C%20%5B-133.885905%2C%2057.095157%5D%2C%20%5B-133.343688%2C%2057.002049%5D%2C%20%5B-133.102702%2C%2057.007526%5D%2C%20%5B-132.932917%2C%2056.82131%5D%2C%20%5B-132.620732%2C%2056.667956%5D%2C%20%5B-132.653593%2C%2056.55294%5D%2C%20%5B-132.817901%2C%2056.492694%5D%2C%20%5B-133.042456%2C%2056.520078%5D%2C%20%5B-133.201287%2C%2056.448878%5D%2C%20%5B-133.420365%2C%2056.492694%5D%2C%20%5B-133.66135%2C%2056.448878%5D%2C%20%5B-133.710643%2C%2056.684386%5D%2C%20%5B-133.688735%2C%2056.837741%5D%2C%20%5B-133.869474%2C%2056.843218%5D%2C%20%5B-133.907813%2C%2056.930849%5D%5D%5D%2C%20%5B%5B%5B-134.115936%2C%2056.48174%5D%2C%20%5B-134.25286%2C%2056.558417%5D%2C%20%5B-134.400737%2C%2056.722725%5D%2C%20%5B-134.417168%2C%2056.848695%5D%2C%20%5B-134.296675%2C%2056.908941%5D%2C%20%5B-134.170706%2C%2056.848695%5D%2C%20%5B-134.143321%2C%2056.952757%5D%2C%20%5B-133.748981%2C%2056.772017%5D%2C%20%5B-133.710643%2C%2056.596755%5D%2C%20%5B-133.847566%2C%2056.574848%5D%2C%20%5B-133.935197%2C%2056.377678%5D%2C%20%5B-133.836612%2C%2056.322908%5D%2C%20%5B-133.957105%2C%2056.092877%5D%2C%20%5B-134.110459%2C%2056.142169%5D%2C%20%5B-134.132367%2C%2055.999769%5D%2C%20%5B-134.230952%2C%2056.070969%5D%2C%20%5B-134.291198%2C%2056.350293%5D%2C%20%5B-134.115936%2C%2056.48174%5D%5D%5D%2C%20%5B%5B%5B-134.636246%2C%2056.28457%5D%2C%20%5B-134.669107%2C%2056.169554%5D%2C%20%5B-134.806031%2C%2056.235277%5D%2C%20%5B-135.178463%2C%2056.67891%5D%2C%20%5B-135.413971%2C%2056.810356%5D%2C%20%5B-135.331817%2C%2056.914418%5D%2C%20%5B-135.424925%2C%2057.166357%5D%2C%20%5B-135.687818%2C%2057.369004%5D%2C%20%5B-135.419448%2C%2057.566174%5D%2C%20%5B-135.298955%2C%2057.48402%5D%2C%20%5B-135.063447%2C%2057.418296%5D%2C%20%5B-134.849846%2C%2057.407343%5D%2C%20%5B-134.844369%2C%2057.248511%5D%2C%20%5B-134.636246%2C%2056.728202%5D%2C%20%5B-134.636246%2C%2056.28457%5D%5D%5D%2C%20%5B%5B%5B-134.712923%2C%2058.223407%5D%2C%20%5B-134.373353%2C%2058.14673%5D%2C%20%5B-134.176183%2C%2058.157683%5D%2C%20%5B-134.187137%2C%2058.081006%5D%2C%20%5B-133.902336%2C%2057.807159%5D%2C%20%5B-134.099505%2C%2057.850975%5D%2C%20%5B-134.148798%2C%2057.757867%5D%2C%20%5B-133.935197%2C%2057.615466%5D%2C%20%5B-133.869474%2C%2057.363527%5D%2C%20%5B-134.083075%2C%2057.297804%5D%2C%20%5B-134.154275%2C%2057.210173%5D%2C%20%5B-134.499322%2C%2057.029434%5D%2C%20%5B-134.603384%2C%2057.034911%5D%2C%20%5B-134.6472%2C%2057.226604%5D%2C%20%5B-134.575999%2C%2057.341619%5D%2C%20%5B-134.608861%2C%2057.511404%5D%2C%20%5B-134.729354%2C%2057.719528%5D%2C%20%5B-134.707446%2C%2057.829067%5D%2C%20%5B-134.784123%2C%2058.097437%5D%2C%20%5B-134.91557%2C%2058.212453%5D%2C%20%5B-134.953908%2C%2058.409623%5D%2C%20%5B-134.712923%2C%2058.223407%5D%5D%5D%2C%20%5B%5B%5B-135.857603%2C%2057.330665%5D%2C%20%5B-135.715203%2C%2057.330665%5D%2C%20%5B-135.567326%2C%2057.149926%5D%2C%20%5B-135.633049%2C%2057.023957%5D%2C%20%5B-135.857603%2C%2056.996572%5D%2C%20%5B-135.824742%2C%2057.193742%5D%2C%20%5B-135.857603%2C%2057.330665%5D%5D%5D%2C%20%5B%5B%5B-136.279328%2C%2058.206976%5D%2C%20%5B-135.978096%2C%2058.201499%5D%2C%20%5B-135.780926%2C%2058.28913%5D%2C%20%5B-135.496125%2C%2058.168637%5D%2C%20%5B-135.64948%2C%2058.037191%5D%2C%20%5B-135.59471%2C%2057.987898%5D%2C%20%5B-135.45231%2C%2058.135776%5D%2C%20%5B-135.107263%2C%2058.086483%5D%2C%20%5B-134.91557%2C%2057.976944%5D%2C%20%5B-135.025108%2C%2057.779775%5D%2C%20%5B-134.937477%2C%2057.763344%5D%2C%20%5B-134.822462%2C%2057.500451%5D%2C%20%5B-135.085355%2C%2057.462112%5D%2C%20%5B-135.572802%2C%2057.675713%5D%2C%20%5B-135.556372%2C%2057.456635%5D%2C%20%5B-135.709726%2C%2057.369004%5D%2C%20%5B-135.890465%2C%2057.407343%5D%2C%20%5B-136.000004%2C%2057.544266%5D%2C%20%5B-136.208128%2C%2057.637374%5D%2C%20%5B-136.366959%2C%2057.829067%5D%2C%20%5B-136.569606%2C%2057.916698%5D%2C%20%5B-136.558652%2C%2058.075529%5D%2C%20%5B-136.421728%2C%2058.130299%5D%2C%20%5B-136.377913%2C%2058.267222%5D%2C%20%5B-136.279328%2C%2058.206976%5D%5D%5D%2C%20%5B%5B%5B-147.079854%2C%2060.200582%5D%2C%20%5B-147.501579%2C%2059.948643%5D%2C%20%5B-147.53444%2C%2059.850058%5D%2C%20%5B-147.874011%2C%2059.784335%5D%2C%20%5B-147.80281%2C%2059.937689%5D%2C%20%5B-147.435855%2C%2060.09652%5D%2C%20%5B-147.205824%2C%2060.271782%5D%2C%20%5B-147.079854%2C%2060.200582%5D%5D%5D%2C%20%5B%5B%5B-147.561825%2C%2060.578491%5D%2C%20%5B-147.616594%2C%2060.370367%5D%2C%20%5B-147.758995%2C%2060.156767%5D%2C%20%5B-147.956165%2C%2060.227967%5D%2C%20%5B-147.791856%2C%2060.474429%5D%2C%20%5B-147.561825%2C%2060.578491%5D%5D%5D%2C%20%5B%5B%5B-147.786379%2C%2070.245291%5D%2C%20%5B-147.682318%2C%2070.201475%5D%2C%20%5B-147.162008%2C%2070.15766%5D%2C%20%5B-146.888161%2C%2070.185044%5D%2C%20%5B-146.510252%2C%2070.185044%5D%2C%20%5B-146.099482%2C%2070.146706%5D%2C%20%5B-145.858496%2C%2070.168614%5D%2C%20%5B-145.622988%2C%2070.08646%5D%2C%20%5B-145.195787%2C%2069.993352%5D%2C%20%5B-144.620708%2C%2069.971444%5D%2C%20%5B-144.461877%2C%2070.026213%5D%2C%20%5B-144.078491%2C%2070.059075%5D%2C%20%5B-143.914183%2C%2070.130275%5D%2C%20%5B-143.497935%2C%2070.141229%5D%2C%20%5B-143.503412%2C%2070.091936%5D%2C%20%5B-143.25695%2C%2070.119321%5D%2C%20%5B-142.747594%2C%2070.042644%5D%2C%20%5B-142.402547%2C%2069.916674%5D%2C%20%5B-142.079408%2C%2069.856428%5D%2C%20%5B-142.008207%2C%2069.801659%5D%2C%20%5B-141.712453%2C%2069.790705%5D%2C%20%5B-141.433129%2C%2069.697597%5D%2C%20%5B-141.378359%2C%2069.63735%5D%2C%20%5B-141.208574%2C%2069.686643%5D%2C%20%5B-141.00045%2C%2069.648304%5D%2C%20%5B-141.00045%2C%2060.304644%5D%2C%20%5B-140.53491%2C%2060.22249%5D%2C%20%5B-140.474664%2C%2060.310121%5D%2C%20%5B-139.987216%2C%2060.184151%5D%2C%20%5B-139.696939%2C%2060.342983%5D%2C%20%5B-139.088998%2C%2060.359413%5D%2C%20%5B-139.198537%2C%2060.091043%5D%2C%20%5B-139.045183%2C%2059.997935%5D%2C%20%5B-138.700135%2C%2059.910304%5D%2C%20%5B-138.623458%2C%2059.767904%5D%2C%20%5B-137.604747%2C%2059.242118%5D%2C%20%5B-137.445916%2C%2058.908024%5D%2C%20%5B-137.265177%2C%2059.001132%5D%2C%20%5B-136.827022%2C%2059.159963%5D%2C%20%5B-136.580559%2C%2059.16544%5D%2C%20%5B-136.465544%2C%2059.285933%5D%2C%20%5B-136.476498%2C%2059.466672%5D%2C%20%5B-136.301236%2C%2059.466672%5D%2C%20%5B-136.25742%2C%2059.625503%5D%2C%20%5B-135.945234%2C%2059.663842%5D%2C%20%5B-135.479694%2C%2059.800766%5D%2C%20%5B-135.025108%2C%2059.565257%5D%2C%20%5B-135.068924%2C%2059.422857%5D%2C%20%5B-134.959385%2C%2059.280456%5D%2C%20%5B-134.701969%2C%2059.247595%5D%2C%20%5B-134.378829%2C%2059.033994%5D%2C%20%5B-134.400737%2C%2058.973748%5D%2C%20%5B-134.25286%2C%2058.858732%5D%2C%20%5B-133.842089%2C%2058.727285%5D%2C%20%5B-133.173903%2C%2058.152206%5D%2C%20%5B-133.075318%2C%2057.998852%5D%2C%20%5B-132.867194%2C%2057.845498%5D%2C%20%5B-132.560485%2C%2057.505928%5D%2C%20%5B-132.253777%2C%2057.21565%5D%2C%20%5B-132.368792%2C%2057.095157%5D%2C%20%5B-132.05113%2C%2057.051341%5D%2C%20%5B-132.127807%2C%2056.876079%5D%2C%20%5B-131.870391%2C%2056.804879%5D%2C%20%5B-131.837529%2C%2056.602232%5D%2C%20%5B-131.580113%2C%2056.613186%5D%2C%20%5B-131.087188%2C%2056.405062%5D%2C%20%5B-130.78048%2C%2056.366724%5D%2C%20%5B-130.621648%2C%2056.268139%5D%2C%20%5B-130.468294%2C%2056.240754%5D%2C%20%5B-130.424478%2C%2056.142169%5D%2C%20%5B-130.101339%2C%2056.114785%5D%2C%20%5B-130.002754%2C%2055.994292%5D%2C%20%5B-130.150631%2C%2055.769737%5D%2C%20%5B-130.128724%2C%2055.583521%5D%2C%20%5B-129.986323%2C%2055.276813%5D%2C%20%5B-130.095862%2C%2055.200136%5D%2C%20%5B-130.336847%2C%2054.920812%5D%2C%20%5B-130.687372%2C%2054.718165%5D%2C%20%5B-130.785957%2C%2054.822227%5D%2C%20%5B-130.917403%2C%2054.789365%5D%2C%20%5B-131.010511%2C%2054.997489%5D%2C%20%5B-130.983126%2C%2055.08512%5D%2C%20%5B-131.092665%2C%2055.189182%5D%2C%20%5B-130.862634%2C%2055.298721%5D%2C%20%5B-130.928357%2C%2055.337059%5D%2C%20%5B-131.158389%2C%2055.200136%5D%2C%20%5B-131.284358%2C%2055.287767%5D%2C%20%5B-131.426759%2C%2055.238474%5D%2C%20%5B-131.843006%2C%2055.457552%5D%2C%20%5B-131.700606%2C%2055.698537%5D%2C%20%5B-131.963499%2C%2055.616383%5D%2C%20%5B-131.974453%2C%2055.49589%5D%2C%20%5B-132.182576%2C%2055.588998%5D%2C%20%5B-132.226392%2C%2055.704014%5D%2C%20%5B-132.083991%2C%2055.829984%5D%2C%20%5B-132.127807%2C%2055.955953%5D%2C%20%5B-132.324977%2C%2055.851892%5D%2C%20%5B-132.522147%2C%2056.076446%5D%2C%20%5B-132.642639%2C%2056.032631%5D%2C%20%5B-132.719317%2C%2056.218847%5D%2C%20%5B-132.527624%2C%2056.339339%5D%2C%20%5B-132.341408%2C%2056.339339%5D%2C%20%5B-132.396177%2C%2056.487217%5D%2C%20%5B-132.297592%2C%2056.67891%5D%2C%20%5B-132.450946%2C%2056.673433%5D%2C%20%5B-132.768609%2C%2056.837741%5D%2C%20%5B-132.993164%2C%2057.034911%5D%2C%20%5B-133.51895%2C%2057.177311%5D%2C%20%5B-133.507996%2C%2057.577128%5D%2C%20%5B-133.677781%2C%2057.62642%5D%2C%20%5B-133.639442%2C%2057.790728%5D%2C%20%5B-133.814705%2C%2057.834544%5D%2C%20%5B-134.072121%2C%2058.053622%5D%2C%20%5B-134.143321%2C%2058.168637%5D%2C%20%5B-134.586953%2C%2058.206976%5D%2C%20%5B-135.074401%2C%2058.502731%5D%2C%20%5B-135.282525%2C%2059.192825%5D%2C%20%5B-135.38111%2C%2059.033994%5D%2C%20%5B-135.337294%2C%2058.891593%5D%2C%20%5B-135.140124%2C%2058.617746%5D%2C%20%5B-135.189417%2C%2058.573931%5D%2C%20%5B-135.05797%2C%2058.349376%5D%2C%20%5B-135.085355%2C%2058.201499%5D%2C%20%5B-135.277048%2C%2058.234361%5D%2C%20%5B-135.430402%2C%2058.398669%5D%2C%20%5B-135.633049%2C%2058.426053%5D%2C%20%5B-135.91785%2C%2058.382238%5D%2C%20%5B-135.912373%2C%2058.617746%5D%2C%20%5B-136.087635%2C%2058.814916%5D%2C%20%5B-136.246466%2C%2058.75467%5D%2C%20%5B-136.876314%2C%2058.962794%5D%2C%20%5B-136.931084%2C%2058.902547%5D%2C%20%5B-136.586036%2C%2058.836824%5D%2C%20%5B-136.317666%2C%2058.672516%5D%2C%20%5B-136.213604%2C%2058.667039%5D%2C%20%5B-136.180743%2C%2058.535592%5D%2C%20%5B-136.043819%2C%2058.382238%5D%2C%20%5B-136.388867%2C%2058.294607%5D%2C%20%5B-136.591513%2C%2058.349376%5D%2C%20%5B-136.59699%2C%2058.212453%5D%2C%20%5B-136.859883%2C%2058.316515%5D%2C%20%5B-136.947514%2C%2058.393192%5D%2C%20%5B-137.111823%2C%2058.393192%5D%2C%20%5B-137.566409%2C%2058.590362%5D%2C%20%5B-137.900502%2C%2058.765624%5D%2C%20%5B-137.933364%2C%2058.869686%5D%2C%20%5B-138.11958%2C%2059.02304%5D%2C%20%5B-138.634412%2C%2059.132579%5D%2C%20%5B-138.919213%2C%2059.247595%5D%2C%20%5B-139.417615%2C%2059.379041%5D%2C%20%5B-139.746231%2C%2059.505011%5D%2C%20%5B-139.718846%2C%2059.641934%5D%2C%20%5B-139.625738%2C%2059.598119%5D%2C%20%5B-139.5162%2C%2059.68575%5D%2C%20%5B-139.625738%2C%2059.88292%5D%2C%20%5B-139.488815%2C%2059.992458%5D%2C%20%5B-139.554538%2C%2060.041751%5D%2C%20%5B-139.801%2C%2059.833627%5D%2C%20%5B-140.315833%2C%2059.696704%5D%2C%20%5B-140.92925%2C%2059.745996%5D%2C%20%5B-141.444083%2C%2059.871966%5D%2C%20%5B-141.46599%2C%2059.970551%5D%2C%20%5B-141.706976%2C%2059.948643%5D%2C%20%5B-141.964392%2C%2060.019843%5D%2C%20%5B-142.539471%2C%2060.085566%5D%2C%20%5B-142.873564%2C%2060.091043%5D%2C%20%5B-143.623905%2C%2060.036274%5D%2C%20%5B-143.892275%2C%2059.997935%5D%2C%20%5B-144.231845%2C%2060.140336%5D%2C%20%5B-144.65357%2C%2060.206059%5D%2C%20%5B-144.785016%2C%2060.29369%5D%2C%20%5B-144.834309%2C%2060.441568%5D%2C%20%5B-145.124586%2C%2060.430614%5D%2C%20%5B-145.223171%2C%2060.299167%5D%2C%20%5B-145.738004%2C%2060.474429%5D%2C%20%5B-145.820158%2C%2060.551106%5D%2C%20%5B-146.351421%2C%2060.408706%5D%2C%20%5B-146.608837%2C%2060.238921%5D%2C%20%5B-146.718376%2C%2060.397752%5D%2C%20%5B-146.608837%2C%2060.485383%5D%2C%20%5B-146.455483%2C%2060.463475%5D%2C%20%5B-145.951604%2C%2060.578491%5D%2C%20%5B-146.017328%2C%2060.666122%5D%2C%20%5B-146.252836%2C%2060.622307%5D%2C%20%5B-146.345944%2C%2060.737322%5D%2C%20%5B-146.565022%2C%2060.753753%5D%2C%20%5B-146.784099%2C%2061.044031%5D%2C%20%5B-146.866253%2C%2060.972831%5D%2C%20%5B-147.172962%2C%2060.934492%5D%2C%20%5B-147.271547%2C%2060.972831%5D%2C%20%5B-147.375609%2C%2060.879723%5D%2C%20%5B-147.758995%2C%2060.912584%5D%2C%20%5B-147.775426%2C%2060.808523%5D%2C%20%5B-148.032842%2C%2060.781138%5D%2C%20%5B-148.153334%2C%2060.819476%5D%2C%20%5B-148.065703%2C%2061.005692%5D%2C%20%5B-148.175242%2C%2061.000215%5D%2C%20%5B-148.350504%2C%2060.803046%5D%2C%20%5B-148.109519%2C%2060.737322%5D%2C%20%5B-148.087611%2C%2060.594922%5D%2C%20%5B-147.939734%2C%2060.441568%5D%2C%20%5B-148.027365%2C%2060.277259%5D%2C%20%5B-148.219058%2C%2060.332029%5D%2C%20%5B-148.273827%2C%2060.249875%5D%2C%20%5B-148.087611%2C%2060.217013%5D%2C%20%5B-147.983549%2C%2059.997935%5D%2C%20%5B-148.251919%2C%2059.95412%5D%2C%20%5B-148.399797%2C%2059.997935%5D%2C%20%5B-148.635305%2C%2059.937689%5D%2C%20%5B-148.755798%2C%2059.986981%5D%2C%20%5B-149.067984%2C%2059.981505%5D%2C%20%5B-149.05703%2C%2060.063659%5D%2C%20%5B-149.204907%2C%2060.008889%5D%2C%20%5B-149.287061%2C%2059.904827%5D%2C%20%5B-149.418508%2C%2059.997935%5D%2C%20%5B-149.582816%2C%2059.866489%5D%2C%20%5B-149.511616%2C%2059.806242%5D%2C%20%5B-149.741647%2C%2059.729565%5D%2C%20%5B-149.949771%2C%2059.718611%5D%2C%20%5B-150.031925%2C%2059.61455%5D%2C%20%5B-150.25648%2C%2059.521442%5D%2C%20%5B-150.409834%2C%2059.554303%5D%2C%20%5B-150.579619%2C%2059.444764%5D%2C%20%5B-150.716543%2C%2059.450241%5D%2C%20%5B-151.001343%2C%2059.225687%5D%2C%20%5B-151.308052%2C%2059.209256%5D%2C%20%5B-151.406637%2C%2059.280456%5D%2C%20%5B-151.592853%2C%2059.159963%5D%2C%20%5B-151.976239%2C%2059.253071%5D%2C%20%5B-151.888608%2C%2059.422857%5D%2C%20%5B-151.636669%2C%2059.483103%5D%2C%20%5B-151.47236%2C%2059.472149%5D%2C%20%5B-151.423068%2C%2059.537872%5D%2C%20%5B-151.127313%2C%2059.669319%5D%2C%20%5B-151.116359%2C%2059.778858%5D%2C%20%5B-151.505222%2C%2059.63098%5D%2C%20%5B-151.828361%2C%2059.718611%5D%2C%20%5B-151.8667%2C%2059.778858%5D%2C%20%5B-151.702392%2C%2060.030797%5D%2C%20%5B-151.423068%2C%2060.211536%5D%2C%20%5B-151.379252%2C%2060.359413%5D%2C%20%5B-151.297098%2C%2060.386798%5D%2C%20%5B-151.264237%2C%2060.545629%5D%2C%20%5B-151.406637%2C%2060.720892%5D%2C%20%5B-151.06159%2C%2060.786615%5D%2C%20%5B-150.404357%2C%2061.038554%5D%2C%20%5B-150.245526%2C%2060.939969%5D%2C%20%5B-150.042879%2C%2060.912584%5D%2C%20%5B-149.741647%2C%2061.016646%5D%2C%20%5B-150.075741%2C%2061.15357%5D%2C%20%5B-150.207187%2C%2061.257632%5D%2C%20%5B-150.47008%2C%2061.246678%5D%2C%20%5B-150.656296%2C%2061.29597%5D%2C%20%5B-150.711066%2C%2061.252155%5D%2C%20%5B-151.023251%2C%2061.180954%5D%2C%20%5B-151.165652%2C%2061.044031%5D%2C%20%5B-151.477837%2C%2061.011169%5D%2C%20%5B-151.800977%2C%2060.852338%5D%2C%20%5B-151.833838%2C%2060.748276%5D%2C%20%5B-152.080301%2C%2060.693507%5D%2C%20%5B-152.13507%2C%2060.578491%5D%2C%20%5B-152.310332%2C%2060.507291%5D%2C%20%5B-152.392486%2C%2060.304644%5D%2C%20%5B-152.732057%2C%2060.173197%5D%2C%20%5B-152.567748%2C%2060.069136%5D%2C%20%5B-152.704672%2C%2059.915781%5D%2C%20%5B-153.022334%2C%2059.888397%5D%2C%20%5B-153.049719%2C%2059.691227%5D%2C%20%5B-153.345474%2C%2059.620026%5D%2C%20%5B-153.438582%2C%2059.702181%5D%2C%20%5B-153.586459%2C%2059.548826%5D%2C%20%5B-153.761721%2C%2059.543349%5D%2C%20%5B-153.72886%2C%2059.433811%5D%2C%20%5B-154.117723%2C%2059.368087%5D%2C%20%5B-154.1944%2C%2059.066856%5D%2C%20%5B-153.750768%2C%2059.050425%5D%2C%20%5B-153.400243%2C%2058.968271%5D%2C%20%5B-153.301658%2C%2058.869686%5D%2C%20%5B-153.444059%2C%2058.710854%5D%2C%20%5B-153.679567%2C%2058.612269%5D%2C%20%5B-153.898645%2C%2058.606793%5D%2C%20%5B-153.920553%2C%2058.519161%5D%2C%20%5B-154.062953%2C%2058.4863%5D%2C%20%5B-153.99723%2C%2058.376761%5D%2C%20%5B-154.145107%2C%2058.212453%5D%2C%20%5B-154.46277%2C%2058.059098%5D%2C%20%5B-154.643509%2C%2058.059098%5D%2C%20%5B-154.818771%2C%2058.004329%5D%2C%20%5B-154.988556%2C%2058.015283%5D%2C%20%5B-155.120003%2C%2057.955037%5D%2C%20%5B-155.081664%2C%2057.872883%5D%2C%20%5B-155.328126%2C%2057.829067%5D%2C%20%5B-155.377419%2C%2057.708574%5D%2C%20%5B-155.547204%2C%2057.785251%5D%2C%20%5B-155.73342%2C%2057.549743%5D%2C%20%5B-156.045606%2C%2057.566174%5D%2C%20%5B-156.023698%2C%2057.440204%5D%2C%20%5B-156.209914%2C%2057.473066%5D%2C%20%5B-156.34136%2C%2057.418296%5D%2C%20%5B-156.34136%2C%2057.248511%5D%2C%20%5B-156.549484%2C%2056.985618%5D%2C%20%5B-156.883577%2C%2056.952757%5D%2C%20%5B-157.157424%2C%2056.832264%5D%2C%20%5B-157.20124%2C%2056.766541%5D%2C%20%5B-157.376502%2C%2056.859649%5D%2C%20%5B-157.672257%2C%2056.607709%5D%2C%20%5B-157.754411%2C%2056.67891%5D%2C%20%5B-157.918719%2C%2056.657002%5D%2C%20%5B-157.957058%2C%2056.514601%5D%2C%20%5B-158.126843%2C%2056.459832%5D%2C%20%5B-158.32949%2C%2056.48174%5D%2C%20%5B-158.488321%2C%2056.339339%5D%2C%20%5B-158.208997%2C%2056.295524%5D%2C%20%5B-158.510229%2C%2055.977861%5D%2C%20%5B-159.375585%2C%2055.873799%5D%2C%20%5B-159.616571%2C%2055.594475%5D%2C%20%5B-159.676817%2C%2055.654722%5D%2C%20%5B-159.643955%2C%2055.829984%5D%2C%20%5B-159.813741%2C%2055.857368%5D%2C%20%5B-160.027341%2C%2055.791645%5D%2C%20%5B-160.060203%2C%2055.720445%5D%2C%20%5B-160.394296%2C%2055.605429%5D%2C%20%5B-160.536697%2C%2055.473983%5D%2C%20%5B-160.580512%2C%2055.567091%5D%2C%20%5B-160.668143%2C%2055.457552%5D%2C%20%5B-160.865313%2C%2055.528752%5D%2C%20%5B-161.232268%2C%2055.358967%5D%2C%20%5B-161.506115%2C%2055.364444%5D%2C%20%5B-161.467776%2C%2055.49589%5D%2C%20%5B-161.588269%2C%2055.62186%5D%2C%20%5B-161.697808%2C%2055.517798%5D%2C%20%5B-161.686854%2C%2055.408259%5D%2C%20%5B-162.053809%2C%2055.074166%5D%2C%20%5B-162.179779%2C%2055.15632%5D%2C%20%5B-162.218117%2C%2055.03035%5D%2C%20%5B-162.470057%2C%2055.052258%5D%2C%20%5B-162.508395%2C%2055.249428%5D%2C%20%5B-162.661749%2C%2055.293244%5D%2C%20%5B-162.716519%2C%2055.222043%5D%2C%20%5B-162.579595%2C%2055.134412%5D%2C%20%5B-162.645319%2C%2054.997489%5D%2C%20%5B-162.847965%2C%2054.926289%5D%2C%20%5B-163.00132%2C%2055.079643%5D%2C%20%5B-163.187536%2C%2055.090597%5D%2C%20%5B-163.220397%2C%2055.03035%5D%2C%20%5B-163.034181%2C%2054.942719%5D%2C%20%5B-163.373752%2C%2054.800319%5D%2C%20%5B-163.14372%2C%2054.76198%5D%2C%20%5B-163.138243%2C%2054.696257%5D%2C%20%5B-163.329936%2C%2054.74555%5D%2C%20%5B-163.587352%2C%2054.614103%5D%2C%20%5B-164.085754%2C%2054.61958%5D%2C%20%5B-164.332216%2C%2054.531949%5D%2C%20%5B-164.354124%2C%2054.466226%5D%2C%20%5B-164.638925%2C%2054.389548%5D%2C%20%5B-164.847049%2C%2054.416933%5D%2C%20%5B-164.918249%2C%2054.603149%5D%2C%20%5B-164.710125%2C%2054.663395%5D%2C%20%5B-164.551294%2C%2054.88795%5D%2C%20%5B-164.34317%2C%2054.893427%5D%2C%20%5B-163.894061%2C%2055.041304%5D%2C%20%5B-163.532583%2C%2055.046781%5D%2C%20%5B-163.39566%2C%2054.904381%5D%2C%20%5B-163.291598%2C%2055.008443%5D%2C%20%5B-163.313505%2C%2055.128935%5D%2C%20%5B-163.105382%2C%2055.183705%5D%2C%20%5B-162.880827%2C%2055.183705%5D%2C%20%5B-162.579595%2C%2055.446598%5D%2C%20%5B-162.245502%2C%2055.682106%5D%2C%20%5B-161.807347%2C%2055.89023%5D%2C%20%5B-161.292514%2C%2055.983338%5D%2C%20%5B-161.078914%2C%2055.939523%5D%2C%20%5B-160.87079%2C%2055.999769%5D%2C%20%5B-160.816021%2C%2055.912138%5D%2C%20%5B-160.931036%2C%2055.813553%5D%2C%20%5B-160.805067%2C%2055.736876%5D%2C%20%5B-160.766728%2C%2055.857368%5D%2C%20%5B-160.509312%2C%2055.868322%5D%2C%20%5B-160.438112%2C%2055.791645%5D%2C%20%5B-160.27928%2C%2055.76426%5D%2C%20%5B-160.273803%2C%2055.857368%5D%2C%20%5B-160.536697%2C%2055.939523%5D%2C%20%5B-160.558604%2C%2055.994292%5D%2C%20%5B-160.383342%2C%2056.251708%5D%2C%20%5B-160.147834%2C%2056.399586%5D%2C%20%5B-159.830171%2C%2056.541986%5D%2C%20%5B-159.326293%2C%2056.667956%5D%2C%20%5B-158.959338%2C%2056.848695%5D%2C%20%5B-158.784076%2C%2056.782971%5D%2C%20%5B-158.641675%2C%2056.810356%5D%2C%20%5B-158.701922%2C%2056.925372%5D%2C%20%5B-158.658106%2C%2057.034911%5D%2C%20%5B-158.378782%2C%2057.264942%5D%2C%20%5B-157.995396%2C%2057.41282%5D%2C%20%5B-157.688688%2C%2057.609989%5D%2C%20%5B-157.705118%2C%2057.719528%5D%2C%20%5B-157.458656%2C%2058.497254%5D%2C%20%5B-157.07527%2C%2058.705377%5D%2C%20%5B-157.119086%2C%2058.869686%5D%2C%20%5B-158.039212%2C%2058.634177%5D%2C%20%5B-158.32949%2C%2058.661562%5D%2C%20%5B-158.40069%2C%2058.760147%5D%2C%20%5B-158.564998%2C%2058.803962%5D%2C%20%5B-158.619768%2C%2058.913501%5D%2C%20%5B-158.767645%2C%2058.864209%5D%2C%20%5B-158.860753%2C%2058.694424%5D%2C%20%5B-158.701922%2C%2058.480823%5D%2C%20%5B-158.893615%2C%2058.387715%5D%2C%20%5B-159.0634%2C%2058.420577%5D%2C%20%5B-159.392016%2C%2058.760147%5D%2C%20%5B-159.616571%2C%2058.929932%5D%2C%20%5B-159.731586%2C%2058.929932%5D%2C%20%5B-159.808264%2C%2058.803962%5D%2C%20%5B-159.906848%2C%2058.782055%5D%2C%20%5B-160.054726%2C%2058.886116%5D%2C%20%5B-160.235465%2C%2058.902547%5D%2C%20%5B-160.317619%2C%2059.072332%5D%2C%20%5B-160.854359%2C%2058.88064%5D%2C%20%5B-161.33633%2C%2058.743716%5D%2C%20%5B-161.374669%2C%2058.667039%5D%2C%20%5B-161.752577%2C%2058.552023%5D%2C%20%5B-161.938793%2C%2058.656085%5D%2C%20%5B-161.769008%2C%2058.776578%5D%2C%20%5B-161.829255%2C%2059.061379%5D%2C%20%5B-161.955224%2C%2059.36261%5D%2C%20%5B-161.703285%2C%2059.48858%5D%2C%20%5B-161.911409%2C%2059.740519%5D%2C%20%5B-162.092148%2C%2059.88292%5D%2C%20%5B-162.234548%2C%2060.091043%5D%2C%20%5B-162.448149%2C%2060.178674%5D%2C%20%5B-162.502918%2C%2059.997935%5D%2C%20%5B-162.760334%2C%2059.959597%5D%2C%20%5B-163.171105%2C%2059.844581%5D%2C%20%5B-163.66403%2C%2059.795289%5D%2C%20%5B-163.9324%2C%2059.806242%5D%2C%20%5B-164.162431%2C%2059.866489%5D%2C%20%5B-164.189816%2C%2060.02532%5D%2C%20%5B-164.386986%2C%2060.074613%5D%2C%20%5B-164.699171%2C%2060.29369%5D%2C%20%5B-164.962064%2C%2060.337506%5D%2C%20%5B-165.268773%2C%2060.578491%5D%2C%20%5B-165.060649%2C%2060.68803%5D%2C%20%5B-165.016834%2C%2060.890677%5D%2C%20%5B-165.175665%2C%2060.846861%5D%2C%20%5B-165.197573%2C%2060.972831%5D%2C%20%5B-165.120896%2C%2061.076893%5D%2C%20%5B-165.323543%2C%2061.170001%5D%2C%20%5B-165.34545%2C%2061.071416%5D%2C%20%5B-165.591913%2C%2061.109754%5D%2C%20%5B-165.624774%2C%2061.279539%5D%2C%20%5B-165.816467%2C%2061.301447%5D%2C%20%5B-165.920529%2C%2061.416463%5D%2C%20%5B-165.915052%2C%2061.558863%5D%2C%20%5B-166.106745%2C%2061.49314%5D%2C%20%5B-166.139607%2C%2061.630064%5D%2C%20%5B-165.904098%2C%2061.662925%5D%2C%20%5B-166.095791%2C%2061.81628%5D%2C%20%5B-165.756221%2C%2061.827233%5D%2C%20%5B-165.756221%2C%2062.013449%5D%2C%20%5B-165.674067%2C%2062.139419%5D%2C%20%5B-165.044219%2C%2062.539236%5D%2C%20%5B-164.912772%2C%2062.659728%5D%2C%20%5B-164.819664%2C%2062.637821%5D%2C%20%5B-164.874433%2C%2062.807606%5D%2C%20%5B-164.633448%2C%2063.097884%5D%2C%20%5B-164.425324%2C%2063.212899%5D%2C%20%5B-164.036462%2C%2063.262192%5D%2C%20%5B-163.73523%2C%2063.212899%5D%2C%20%5B-163.313505%2C%2063.037637%5D%2C%20%5B-163.039658%2C%2063.059545%5D%2C%20%5B-162.661749%2C%2063.22933%5D%2C%20%5B-162.272887%2C%2063.486746%5D%2C%20%5B-162.075717%2C%2063.514131%5D%2C%20%5B-162.026424%2C%2063.448408%5D%2C%20%5B-161.555408%2C%2063.448408%5D%2C%20%5B-161.13916%2C%2063.503177%5D%2C%20%5B-160.766728%2C%2063.771547%5D%2C%20%5B-160.766728%2C%2063.837271%5D%2C%20%5B-160.952944%2C%2064.08921%5D%2C%20%5B-160.974852%2C%2064.237087%5D%2C%20%5B-161.26513%2C%2064.395918%5D%2C%20%5B-161.374669%2C%2064.532842%5D%2C%20%5B-161.078914%2C%2064.494503%5D%2C%20%5B-160.79959%2C%2064.609519%5D%2C%20%5B-160.783159%2C%2064.719058%5D%2C%20%5B-161.144637%2C%2064.921705%5D%2C%20%5B-161.413007%2C%2064.762873%5D%2C%20%5B-161.664946%2C%2064.790258%5D%2C%20%5B-161.900455%2C%2064.702627%5D%2C%20%5B-162.168825%2C%2064.680719%5D%2C%20%5B-162.234548%2C%2064.620473%5D%2C%20%5B-162.541257%2C%2064.532842%5D%2C%20%5B-162.634365%2C%2064.384965%5D%2C%20%5B-162.787719%2C%2064.324718%5D%2C%20%5B-162.858919%2C%2064.49998%5D%2C%20%5B-163.045135%2C%2064.538319%5D%2C%20%5B-163.176582%2C%2064.401395%5D%2C%20%5B-163.253259%2C%2064.467119%5D%2C%20%5B-163.598306%2C%2064.565704%5D%2C%20%5B-164.304832%2C%2064.560227%5D%2C%20%5B-164.80871%2C%2064.450688%5D%2C%20%5B-165.000403%2C%2064.434257%5D%2C%20%5B-165.411174%2C%2064.49998%5D%2C%20%5B-166.188899%2C%2064.576658%5D%2C%20%5B-166.391546%2C%2064.636904%5D%2C%20%5B-166.484654%2C%2064.735489%5D%2C%20%5B-166.413454%2C%2064.872412%5D%2C%20%5B-166.692778%2C%2064.987428%5D%2C%20%5B-166.638008%2C%2065.113398%5D%2C%20%5B-166.462746%2C%2065.179121%5D%2C%20%5B-166.517516%2C%2065.337952%5D%2C%20%5B-166.796839%2C%2065.337952%5D%2C%20%5B-167.026871%2C%2065.381768%5D%2C%20%5B-167.47598%2C%2065.414629%5D%2C%20%5B-167.711489%2C%2065.496784%5D%2C%20%5B-168.072967%2C%2065.578938%5D%2C%20%5B-168.105828%2C%2065.682999%5D%2C%20%5B-167.541703%2C%2065.819923%5D%2C%20%5B-166.829701%2C%2066.049954%5D%2C%20%5B-166.3313%2C%2066.186878%5D%2C%20%5B-166.046499%2C%2066.110201%5D%2C%20%5B-165.756221%2C%2066.09377%5D%2C%20%5B-165.690498%2C%2066.203309%5D%2C%20%5B-165.86576%2C%2066.21974%5D%2C%20%5B-165.88219%2C%2066.312848%5D%2C%20%5B-165.186619%2C%2066.466202%5D%2C%20%5B-164.403417%2C%2066.581218%5D%2C%20%5B-163.981692%2C%2066.592172%5D%2C%20%5B-163.751661%2C%2066.553833%5D%2C%20%5B-163.872153%2C%2066.389525%5D%2C%20%5B-163.828338%2C%2066.274509%5D%2C%20%5B-163.915969%2C%2066.192355%5D%2C%20%5B-163.768091%2C%2066.060908%5D%2C%20%5B-163.494244%2C%2066.082816%5D%2C%20%5B-163.149197%2C%2066.060908%5D%2C%20%5B-162.749381%2C%2066.088293%5D%2C%20%5B-162.634365%2C%2066.039001%5D%2C%20%5B-162.371472%2C%2066.028047%5D%2C%20%5B-162.14144%2C%2066.077339%5D%2C%20%5B-161.840208%2C%2066.02257%5D%2C%20%5B-161.549931%2C%2066.241647%5D%2C%20%5B-161.341807%2C%2066.252601%5D%2C%20%5B-161.199406%2C%2066.208786%5D%2C%20%5B-161.128206%2C%2066.334755%5D%2C%20%5B-161.528023%2C%2066.395002%5D%2C%20%5B-161.911409%2C%2066.345709%5D%2C%20%5B-161.87307%2C%2066.510017%5D%2C%20%5B-162.174302%2C%2066.68528%5D%2C%20%5B-162.502918%2C%2066.740049%5D%2C%20%5B-162.601503%2C%2066.89888%5D%2C%20%5B-162.344087%2C%2066.937219%5D%2C%20%5B-162.015471%2C%2066.778388%5D%2C%20%5B-162.075717%2C%2066.652418%5D%2C%20%5B-161.916886%2C%2066.553833%5D%2C%20%5B-161.571838%2C%2066.438817%5D%2C%20%5B-161.489684%2C%2066.55931%5D%2C%20%5B-161.884024%2C%2066.718141%5D%2C%20%5B-161.714239%2C%2067.002942%5D%2C%20%5B-161.851162%2C%2067.052235%5D%2C%20%5B-162.240025%2C%2066.991988%5D%2C%20%5B-162.639842%2C%2067.008419%5D%2C%20%5B-162.700088%2C%2067.057712%5D%2C%20%5B-162.902735%2C%2067.008419%5D%2C%20%5B-163.740707%2C%2067.128912%5D%2C%20%5B-163.757138%2C%2067.254881%5D%2C%20%5B-164.009077%2C%2067.534205%5D%2C%20%5B-164.211724%2C%2067.638267%5D%2C%20%5B-164.534863%2C%2067.725898%5D%2C%20%5B-165.192096%2C%2067.966884%5D%2C%20%5B-165.493328%2C%2068.059992%5D%2C%20%5B-165.794559%2C%2068.081899%5D%2C%20%5B-166.243668%2C%2068.246208%5D%2C%20%5B-166.681824%2C%2068.339316%5D%2C%20%5B-166.703731%2C%2068.372177%5D%2C%20%5B-166.375115%2C%2068.42147%5D%2C%20%5B-166.227238%2C%2068.574824%5D%2C%20%5B-166.216284%2C%2068.881533%5D%2C%20%5B-165.329019%2C%2068.859625%5D%2C%20%5B-164.255539%2C%2068.930825%5D%2C%20%5B-163.976215%2C%2068.985595%5D%2C%20%5B-163.532583%2C%2069.138949%5D%2C%20%5B-163.110859%2C%2069.374457%5D%2C%20%5B-163.023228%2C%2069.609966%5D%2C%20%5B-162.842489%2C%2069.812613%5D%2C%20%5B-162.470057%2C%2069.982398%5D%2C%20%5B-162.311225%2C%2070.108367%5D%2C%20%5B-161.851162%2C%2070.311014%5D%2C%20%5B-161.779962%2C%2070.256245%5D%2C%20%5B-161.396576%2C%2070.239814%5D%2C%20%5B-160.837928%2C%2070.343876%5D%2C%20%5B-160.487404%2C%2070.453415%5D%2C%20%5B-159.649432%2C%2070.792985%5D%2C%20%5B-159.33177%2C%2070.809416%5D%2C%20%5B-159.298908%2C%2070.760123%5D%2C%20%5B-158.975769%2C%2070.798462%5D%2C%20%5B-158.658106%2C%2070.787508%5D%2C%20%5B-158.033735%2C%2070.831323%5D%2C%20%5B-157.420318%2C%2070.979201%5D%2C%20%5B-156.812377%2C%2071.285909%5D%2C%20%5B-156.565915%2C%2071.351633%5D%2C%20%5B-156.522099%2C%2071.296863%5D%2C%20%5B-155.585543%2C%2071.170894%5D%2C%20%5B-155.508865%2C%2071.083263%5D%2C%20%5B-155.832005%2C%2070.968247%5D%2C%20%5B-155.979882%2C%2070.96277%5D%2C%20%5B-155.974405%2C%2070.809416%5D%2C%20%5B-155.503388%2C%2070.858708%5D%2C%20%5B-155.476004%2C%2070.940862%5D%2C%20%5B-155.262403%2C%2071.017539%5D%2C%20%5B-155.191203%2C%2070.973724%5D%2C%20%5B-155.032372%2C%2071.148986%5D%2C%20%5B-154.566832%2C%2070.990155%5D%2C%20%5B-154.643509%2C%2070.869662%5D%2C%20%5B-154.353231%2C%2070.8368%5D%2C%20%5B-154.183446%2C%2070.7656%5D%2C%20%5B-153.931507%2C%2070.880616%5D%2C%20%5B-153.487874%2C%2070.886093%5D%2C%20%5B-153.235935%2C%2070.924431%5D%2C%20%5B-152.589656%2C%2070.886093%5D%2C%20%5B-152.26104%2C%2070.842277%5D%2C%20%5B-152.419871%2C%2070.606769%5D%2C%20%5B-151.817408%2C%2070.546523%5D%2C%20%5B-151.773592%2C%2070.486276%5D%2C%20%5B-151.187559%2C%2070.382214%5D%2C%20%5B-151.182082%2C%2070.431507%5D%2C%20%5B-150.760358%2C%2070.49723%5D%2C%20%5B-150.355064%2C%2070.491753%5D%2C%20%5B-150.349588%2C%2070.436984%5D%2C%20%5B-150.114079%2C%2070.431507%5D%2C%20%5B-149.867617%2C%2070.508184%5D%2C%20%5B-149.462323%2C%2070.519138%5D%2C%20%5B-149.177522%2C%2070.486276%5D%2C%20%5B-148.78866%2C%2070.404122%5D%2C%20%5B-148.607921%2C%2070.420553%5D%2C%20%5B-148.350504%2C%2070.305537%5D%2C%20%5B-148.202627%2C%2070.349353%5D%2C%20%5B-147.961642%2C%2070.316491%5D%2C%20%5B-147.786379%2C%2070.245291%5D%5D%5D%2C%20%5B%5B%5B-152.94018%2C%2058.026237%5D%2C%20%5B-152.945657%2C%2057.982421%5D%2C%20%5B-153.290705%2C%2058.048145%5D%2C%20%5B-153.044242%2C%2058.305561%5D%2C%20%5B-152.819688%2C%2058.327469%5D%2C%20%5B-152.666333%2C%2058.562977%5D%2C%20%5B-152.496548%2C%2058.354853%5D%2C%20%5B-152.354148%2C%2058.426053%5D%2C%20%5B-152.080301%2C%2058.311038%5D%2C%20%5B-152.080301%2C%2058.152206%5D%2C%20%5B-152.480117%2C%2058.130299%5D%2C%20%5B-152.655379%2C%2058.059098%5D%2C%20%5B-152.94018%2C%2058.026237%5D%5D%5D%2C%20%5B%5B%5B-153.958891%2C%2057.538789%5D%2C%20%5B-153.67409%2C%2057.670236%5D%2C%20%5B-153.931507%2C%2057.69762%5D%2C%20%5B-153.936983%2C%2057.812636%5D%2C%20%5B-153.723383%2C%2057.889313%5D%2C%20%5B-153.570028%2C%2057.834544%5D%2C%20%5B-153.548121%2C%2057.719528%5D%2C%20%5B-153.46049%2C%2057.796205%5D%2C%20%5B-153.455013%2C%2057.96599%5D%2C%20%5B-153.268797%2C%2057.889313%5D%2C%20%5B-153.235935%2C%2057.998852%5D%2C%20%5B-153.071627%2C%2057.933129%5D%2C%20%5B-152.874457%2C%2057.933129%5D%2C%20%5B-152.721103%2C%2057.993375%5D%2C%20%5B-152.469163%2C%2057.889313%5D%2C%20%5B-152.469163%2C%2057.599035%5D%2C%20%5B-152.151501%2C%2057.620943%5D%2C%20%5B-152.359625%2C%2057.42925%5D%2C%20%5B-152.74301%2C%2057.505928%5D%2C%20%5B-152.60061%2C%2057.379958%5D%2C%20%5B-152.710149%2C%2057.275896%5D%2C%20%5B-152.907319%2C%2057.325188%5D%2C%20%5B-152.912796%2C%2057.128019%5D%2C%20%5B-153.214027%2C%2057.073249%5D%2C%20%5B-153.312612%2C%2056.991095%5D%2C%20%5B-153.498828%2C%2057.067772%5D%2C%20%5B-153.695998%2C%2056.859649%5D%2C%20%5B-153.849352%2C%2056.837741%5D%2C%20%5B-154.013661%2C%2056.744633%5D%2C%20%5B-154.073907%2C%2056.969187%5D%2C%20%5B-154.303938%2C%2056.848695%5D%2C%20%5B-154.314892%2C%2056.919895%5D%2C%20%5B-154.523016%2C%2056.991095%5D%2C%20%5B-154.539447%2C%2057.193742%5D%2C%20%5B-154.742094%2C%2057.275896%5D%2C%20%5B-154.627078%2C%2057.511404%5D%2C%20%5B-154.227261%2C%2057.659282%5D%2C%20%5B-153.980799%2C%2057.648328%5D%2C%20%5B-153.958891%2C%2057.538789%5D%5D%5D%2C%20%5B%5B%5B-154.53397%2C%2056.602232%5D%2C%20%5B-154.742094%2C%2056.399586%5D%2C%20%5B-154.807817%2C%2056.432447%5D%2C%20%5B-154.53397%2C%2056.602232%5D%5D%5D%2C%20%5B%5B%5B-155.634835%2C%2055.923092%5D%2C%20%5B-155.476004%2C%2055.912138%5D%2C%20%5B-155.530773%2C%2055.704014%5D%2C%20%5B-155.793666%2C%2055.731399%5D%2C%20%5B-155.837482%2C%2055.802599%5D%2C%20%5B-155.634835%2C%2055.923092%5D%5D%5D%2C%20%5B%5B%5B-159.890418%2C%2055.28229%5D%2C%20%5B-159.950664%2C%2055.068689%5D%2C%20%5B-160.257373%2C%2054.893427%5D%2C%20%5B-160.109495%2C%2055.161797%5D%2C%20%5B-160.005433%2C%2055.134412%5D%2C%20%5B-159.890418%2C%2055.28229%5D%5D%5D%2C%20%5B%5B%5B-160.520266%2C%2055.358967%5D%2C%20%5B-160.33405%2C%2055.358967%5D%2C%20%5B-160.339527%2C%2055.249428%5D%2C%20%5B-160.525743%2C%2055.128935%5D%2C%20%5B-160.690051%2C%2055.211089%5D%2C%20%5B-160.794113%2C%2055.134412%5D%2C%20%5B-160.854359%2C%2055.320628%5D%2C%20%5B-160.79959%2C%2055.380875%5D%2C%20%5B-160.520266%2C%2055.358967%5D%5D%5D%2C%20%5B%5B%5B-162.256456%2C%2054.981058%5D%2C%20%5B-162.234548%2C%2054.893427%5D%2C%20%5B-162.349564%2C%2054.838658%5D%2C%20%5B-162.437195%2C%2054.931766%5D%2C%20%5B-162.256456%2C%2054.981058%5D%5D%5D%2C%20%5B%5B%5B-162.415287%2C%2063.634624%5D%2C%20%5B-162.563165%2C%2063.536039%5D%2C%20%5B-162.612457%2C%2063.62367%5D%2C%20%5B-162.415287%2C%2063.634624%5D%5D%5D%2C%20%5B%5B%5B-162.80415%2C%2054.488133%5D%2C%20%5B-162.590549%2C%2054.449795%5D%2C%20%5B-162.612457%2C%2054.367641%5D%2C%20%5B-162.782242%2C%2054.373118%5D%2C%20%5B-162.80415%2C%2054.488133%5D%5D%5D%2C%20%5B%5B%5B-165.548097%2C%2054.29644%5D%2C%20%5B-165.476897%2C%2054.181425%5D%2C%20%5B-165.630251%2C%2054.132132%5D%2C%20%5B-165.685021%2C%2054.252625%5D%2C%20%5B-165.548097%2C%2054.29644%5D%5D%5D%2C%20%5B%5B%5B-165.73979%2C%2054.15404%5D%2C%20%5B-166.046499%2C%2054.044501%5D%2C%20%5B-166.112222%2C%2054.121178%5D%2C%20%5B-165.980775%2C%2054.219763%5D%2C%20%5B-165.73979%2C%2054.15404%5D%5D%5D%2C%20%5B%5B%5B-166.364161%2C%2060.359413%5D%2C%20%5B-166.13413%2C%2060.397752%5D%2C%20%5B-166.084837%2C%2060.326552%5D%2C%20%5B-165.88219%2C%2060.342983%5D%2C%20%5B-165.685021%2C%2060.277259%5D%2C%20%5B-165.646682%2C%2059.992458%5D%2C%20%5B-165.750744%2C%2059.89935%5D%2C%20%5B-166.00816%2C%2059.844581%5D%2C%20%5B-166.062929%2C%2059.745996%5D%2C%20%5B-166.440838%2C%2059.855535%5D%2C%20%5B-166.6161%2C%2059.850058%5D%2C%20%5B-166.994009%2C%2059.992458%5D%2C%20%5B-167.125456%2C%2059.992458%5D%2C%20%5B-167.344534%2C%2060.074613%5D%2C%20%5B-167.421211%2C%2060.206059%5D%2C%20%5B-167.311672%2C%2060.238921%5D%2C%20%5B-166.93924%2C%2060.206059%5D%2C%20%5B-166.763978%2C%2060.310121%5D%2C%20%5B-166.577762%2C%2060.321075%5D%2C%20%5B-166.495608%2C%2060.392275%5D%2C%20%5B-166.364161%2C%2060.359413%5D%5D%5D%2C%20%5B%5B%5B-166.375115%2C%2054.01164%5D%2C%20%5B-166.210807%2C%2053.934962%5D%2C%20%5B-166.5449%2C%2053.748746%5D%2C%20%5B-166.539423%2C%2053.715885%5D%2C%20%5B-166.117699%2C%2053.852808%5D%2C%20%5B-166.112222%2C%2053.776131%5D%2C%20%5B-166.282007%2C%2053.683023%5D%2C%20%5B-166.555854%2C%2053.622777%5D%2C%20%5B-166.583239%2C%2053.529669%5D%2C%20%5B-166.878994%2C%2053.431084%5D%2C%20%5B-167.13641%2C%2053.425607%5D%2C%20%5B-167.306195%2C%2053.332499%5D%2C%20%5B-167.623857%2C%2053.250345%5D%2C%20%5B-167.793643%2C%2053.337976%5D%2C%20%5B-167.459549%2C%2053.442038%5D%2C%20%5B-167.355487%2C%2053.425607%5D%2C%20%5B-167.103548%2C%2053.513238%5D%2C%20%5B-167.163794%2C%2053.611823%5D%2C%20%5B-167.021394%2C%2053.715885%5D%2C%20%5B-166.807793%2C%2053.666592%5D%2C%20%5B-166.785886%2C%2053.732316%5D%2C%20%5B-167.015917%2C%2053.754223%5D%2C%20%5B-167.141887%2C%2053.825424%5D%2C%20%5B-167.032348%2C%2053.945916%5D%2C%20%5B-166.643485%2C%2054.017116%5D%2C%20%5B-166.561331%2C%2053.880193%5D%2C%20%5B-166.375115%2C%2054.01164%5D%5D%5D%2C%20%5B%5B%5B-168.790446%2C%2053.157237%5D%2C%20%5B-168.40706%2C%2053.34893%5D%2C%20%5B-168.385152%2C%2053.431084%5D%2C%20%5B-168.237275%2C%2053.524192%5D%2C%20%5B-168.007243%2C%2053.568007%5D%2C%20%5B-167.886751%2C%2053.518715%5D%2C%20%5B-167.842935%2C%2053.387268%5D%2C%20%5B-168.270136%2C%2053.244868%5D%2C%20%5B-168.500168%2C%2053.036744%5D%2C%20%5B-168.686384%2C%2052.965544%5D%2C%20%5B-168.790446%2C%2053.157237%5D%5D%5D%2C%20%5B%5B%5B-169.74891%2C%2052.894344%5D%2C%20%5B-169.705095%2C%2052.795759%5D%2C%20%5B-169.962511%2C%2052.790282%5D%2C%20%5B-169.989896%2C%2052.856005%5D%2C%20%5B-169.74891%2C%2052.894344%5D%5D%5D%2C%20%5B%5B%5B-170.148727%2C%2057.221127%5D%2C%20%5B-170.28565%2C%2057.128019%5D%2C%20%5B-170.313035%2C%2057.221127%5D%2C%20%5B-170.148727%2C%2057.221127%5D%5D%5D%2C%20%5B%5B%5B-170.669036%2C%2052.697174%5D%2C%20%5B-170.603313%2C%2052.604066%5D%2C%20%5B-170.789529%2C%2052.538343%5D%2C%20%5B-170.816914%2C%2052.636928%5D%2C%20%5B-170.669036%2C%2052.697174%5D%5D%5D%2C%20%5B%5B%5B-171.742517%2C%2063.716778%5D%2C%20%5B-170.94836%2C%2063.5689%5D%2C%20%5B-170.488297%2C%2063.69487%5D%2C%20%5B-170.280174%2C%2063.683916%5D%2C%20%5B-170.093958%2C%2063.612716%5D%2C%20%5B-170.044665%2C%2063.492223%5D%2C%20%5B-169.644848%2C%2063.4265%5D%2C%20%5B-169.518879%2C%2063.366254%5D%2C%20%5B-168.99857%2C%2063.338869%5D%2C%20%5B-168.686384%2C%2063.295053%5D%2C%20%5B-168.856169%2C%2063.147176%5D%2C%20%5B-169.108108%2C%2063.180038%5D%2C%20%5B-169.376478%2C%2063.152653%5D%2C%20%5B-169.513402%2C%2063.08693%5D%2C%20%5B-169.639372%2C%2062.939052%5D%2C%20%5B-169.831064%2C%2063.075976%5D%2C%20%5B-170.055619%2C%2063.169084%5D%2C%20%5B-170.263743%2C%2063.180038%5D%2C%20%5B-170.362328%2C%2063.2841%5D%2C%20%5B-170.866206%2C%2063.415546%5D%2C%20%5B-171.101715%2C%2063.421023%5D%2C%20%5B-171.463193%2C%2063.306007%5D%2C%20%5B-171.73704%2C%2063.366254%5D%2C%20%5B-171.852055%2C%2063.486746%5D%2C%20%5B-171.742517%2C%2063.716778%5D%5D%5D%2C%20%5B%5B%5B-172.432611%2C%2052.390465%5D%2C%20%5B-172.41618%2C%2052.275449%5D%2C%20%5B-172.607873%2C%2052.253542%5D%2C%20%5B-172.569535%2C%2052.352127%5D%2C%20%5B-172.432611%2C%2052.390465%5D%5D%5D%2C%20%5B%5B%5B-173.626584%2C%2052.14948%5D%2C%20%5B-173.495138%2C%2052.105664%5D%2C%20%5B-173.122706%2C%2052.111141%5D%2C%20%5B-173.106275%2C%2052.07828%5D%2C%20%5B-173.549907%2C%2052.028987%5D%2C%20%5B-173.626584%2C%2052.14948%5D%5D%5D%2C%20%5B%5B%5B-174.322156%2C%2052.280926%5D%2C%20%5B-174.327632%2C%2052.379511%5D%2C%20%5B-174.185232%2C%2052.41785%5D%2C%20%5B-173.982585%2C%2052.319265%5D%2C%20%5B-174.059262%2C%2052.226157%5D%2C%20%5B-174.179755%2C%2052.231634%5D%2C%20%5B-174.141417%2C%2052.127572%5D%2C%20%5B-174.333109%2C%2052.116618%5D%2C%20%5B-174.738403%2C%2052.007079%5D%2C%20%5B-174.968435%2C%2052.039941%5D%2C%20%5B-174.902711%2C%2052.116618%5D%2C%20%5B-174.656249%2C%2052.105664%5D%2C%20%5B-174.322156%2C%2052.280926%5D%5D%5D%2C%20%5B%5B%5B-176.469116%2C%2051.853725%5D%2C%20%5B-176.288377%2C%2051.870156%5D%2C%20%5B-176.288377%2C%2051.744186%5D%2C%20%5B-176.518409%2C%2051.760617%5D%2C%20%5B-176.80321%2C%2051.61274%5D%2C%20%5B-176.912748%2C%2051.80991%5D%2C%20%5B-176.792256%2C%2051.815386%5D%2C%20%5B-176.775825%2C%2051.963264%5D%2C%20%5B-176.627947%2C%2051.968741%5D%2C%20%5B-176.627947%2C%2051.859202%5D%2C%20%5B-176.469116%2C%2051.853725%5D%5D%5D%2C%20%5B%5B%5B-177.153734%2C%2051.946833%5D%2C%20%5B-177.044195%2C%2051.897541%5D%2C%20%5B-177.120872%2C%2051.727755%5D%2C%20%5B-177.274226%2C%2051.678463%5D%2C%20%5B-177.279703%2C%2051.782525%5D%2C%20%5B-177.153734%2C%2051.946833%5D%5D%5D%2C%20%5B%5B%5B-178.123152%2C%2051.919448%5D%2C%20%5B-177.953367%2C%2051.913971%5D%2C%20%5B-177.800013%2C%2051.793479%5D%2C%20%5B-177.964321%2C%2051.651078%5D%2C%20%5B-178.123152%2C%2051.919448%5D%5D%5D%2C%20%5B%5B%5B173.107557%2C%2052.992929%5D%2C%20%5B173.293773%2C%2052.927205%5D%2C%20%5B173.304726%2C%2052.823143%5D%2C%20%5B172.90491%2C%2052.762897%5D%2C%20%5B172.642017%2C%2052.927205%5D%2C%20%5B172.642017%2C%2053.003883%5D%2C%20%5B173.107557%2C%2052.992929%5D%5D%5D%5D%2C%20%22type%22%3A%20%22MultiPolygon%22%7D%2C%20%22id%22%3A%20%22AK%22%2C%20%22properties%22%3A%20%7B%22name%22%3A%20%22Alaska%22%7D%2C%20%22type%22%3A%20%22Feature%22%7D%2C%20%7B%22geometry%22%3A%20%7B%22coordinates%22%3A%20%5B%5B%5B-109.042503%2C%2037.000263%5D%2C%20%5B-109.04798%2C%2031.331629%5D%2C%20%5B-111.074448%2C%2031.331629%5D%2C%20%5B-112.246513%2C%2031.704061%5D%2C%20%5B-114.815198%2C%2032.492741%5D%2C%20%5B-114.72209%2C%2032.717295%5D%2C%20%5B-114.524921%2C%2032.755634%5D%2C%20%5B-114.470151%2C%2032.843265%5D%2C%20%5B-114.524921%2C%2033.029481%5D%2C%20%5B-114.661844%2C%2033.034958%5D%2C%20%5B-114.727567%2C%2033.40739%5D%2C%20%5B-114.524921%2C%2033.54979%5D%2C%20%5B-114.497536%2C%2033.697668%5D%2C%20%5B-114.535874%2C%2033.933176%5D%2C%20%5B-114.415382%2C%2034.108438%5D%2C%20%5B-114.256551%2C%2034.174162%5D%2C%20%5B-114.136058%2C%2034.305608%5D%2C%20%5B-114.333228%2C%2034.448009%5D%2C%20%5B-114.470151%2C%2034.710902%5D%2C%20%5B-114.634459%2C%2034.87521%5D%2C%20%5B-114.634459%2C%2035.00118%5D%2C%20%5B-114.574213%2C%2035.138103%5D%2C%20%5B-114.596121%2C%2035.324319%5D%2C%20%5B-114.678275%2C%2035.516012%5D%2C%20%5B-114.738521%2C%2036.102045%5D%2C%20%5B-114.371566%2C%2036.140383%5D%2C%20%5B-114.251074%2C%2036.01989%5D%2C%20%5B-114.152489%2C%2036.025367%5D%2C%20%5B-114.048427%2C%2036.195153%5D%2C%20%5B-114.048427%2C%2037.000263%5D%2C%20%5B-110.499369%2C%2037.00574%5D%2C%20%5B-109.042503%2C%2037.000263%5D%5D%5D%2C%20%22type%22%3A%20%22Polygon%22%7D%2C%20%22id%22%3A%20%22AZ%22%2C%20%22properties%22%3A%20%7B%22name%22%3A%20%22Arizona%22%7D%2C%20%22type%22%3A%20%22Feature%22%7D%2C%20%7B%22geometry%22%3A%20%7B%22coordinates%22%3A%20%5B%5B%5B-94.473842%2C%2036.501861%5D%2C%20%5B-90.152536%2C%2036.496384%5D%2C%20%5B-90.064905%2C%2036.304691%5D%2C%20%5B-90.218259%2C%2036.184199%5D%2C%20%5B-90.377091%2C%2035.997983%5D%2C%20%5B-89.730812%2C%2035.997983%5D%2C%20%5B-89.763673%2C%2035.811767%5D%2C%20%5B-89.911551%2C%2035.756997%5D%2C%20%5B-89.944412%2C%2035.603643%5D%2C%20%5B-90.130628%2C%2035.439335%5D%2C%20%5B-90.114197%2C%2035.198349%5D%2C%20%5B-90.212782%2C%2035.023087%5D%2C%20%5B-90.311367%2C%2034.995703%5D%2C%20%5B-90.251121%2C%2034.908072%5D%2C%20%5B-90.409952%2C%2034.831394%5D%2C%20%5B-90.481152%2C%2034.661609%5D%2C%20%5B-90.585214%2C%2034.617794%5D%2C%20%5B-90.568783%2C%2034.420624%5D%2C%20%5B-90.749522%2C%2034.365854%5D%2C%20%5B-90.744046%2C%2034.300131%5D%2C%20%5B-90.952169%2C%2034.135823%5D%2C%20%5B-90.891923%2C%2034.026284%5D%2C%20%5B-91.072662%2C%2033.867453%5D%2C%20%5B-91.231493%2C%2033.560744%5D%2C%20%5B-91.056231%2C%2033.429298%5D%2C%20%5B-91.143862%2C%2033.347144%5D%2C%20%5B-91.089093%2C%2033.13902%5D%2C%20%5B-91.16577%2C%2033.002096%5D%2C%20%5B-93.608485%2C%2033.018527%5D%2C%20%5B-94.041164%2C%2033.018527%5D%2C%20%5B-94.041164%2C%2033.54979%5D%2C%20%5B-94.183564%2C%2033.593606%5D%2C%20%5B-94.380734%2C%2033.544313%5D%2C%20%5B-94.484796%2C%2033.637421%5D%2C%20%5B-94.430026%2C%2035.395519%5D%2C%20%5B-94.616242%2C%2036.501861%5D%2C%20%5B-94.473842%2C%2036.501861%5D%5D%5D%2C%20%22type%22%3A%20%22Polygon%22%7D%2C%20%22id%22%3A%20%22AR%22%2C%20%22properties%22%3A%20%7B%22name%22%3A%20%22Arkansas%22%7D%2C%20%22type%22%3A%20%22Feature%22%7D%2C%20%7B%22geometry%22%3A%20%7B%22coordinates%22%3A%20%5B%5B%5B-123.233256%2C%2042.006186%5D%2C%20%5B-122.378853%2C%2042.011663%5D%2C%20%5B-121.037003%2C%2041.995232%5D%2C%20%5B-120.001861%2C%2041.995232%5D%2C%20%5B-119.996384%2C%2040.264519%5D%2C%20%5B-120.001861%2C%2038.999346%5D%2C%20%5B-118.71478%2C%2038.101128%5D%2C%20%5B-117.498899%2C%2037.21934%5D%2C%20%5B-116.540435%2C%2036.501861%5D%2C%20%5B-115.85034%2C%2035.970598%5D%2C%20%5B-114.634459%2C%2035.00118%5D%2C%20%5B-114.634459%2C%2034.87521%5D%2C%20%5B-114.470151%2C%2034.710902%5D%2C%20%5B-114.333228%2C%2034.448009%5D%2C%20%5B-114.136058%2C%2034.305608%5D%2C%20%5B-114.256551%2C%2034.174162%5D%2C%20%5B-114.415382%2C%2034.108438%5D%2C%20%5B-114.535874%2C%2033.933176%5D%2C%20%5B-114.497536%2C%2033.697668%5D%2C%20%5B-114.524921%2C%2033.54979%5D%2C%20%5B-114.727567%2C%2033.40739%5D%2C%20%5B-114.661844%2C%2033.034958%5D%2C%20%5B-114.524921%2C%2033.029481%5D%2C%20%5B-114.470151%2C%2032.843265%5D%2C%20%5B-114.524921%2C%2032.755634%5D%2C%20%5B-114.72209%2C%2032.717295%5D%2C%20%5B-116.04751%2C%2032.624187%5D%2C%20%5B-117.126467%2C%2032.536556%5D%2C%20%5B-117.24696%2C%2032.668003%5D%2C%20%5B-117.252437%2C%2032.876127%5D%2C%20%5B-117.329114%2C%2033.122589%5D%2C%20%5B-117.471515%2C%2033.297851%5D%2C%20%5B-117.7837%2C%2033.538836%5D%2C%20%5B-118.183517%2C%2033.763391%5D%2C%20%5B-118.260194%2C%2033.703145%5D%2C%20%5B-118.413548%2C%2033.741483%5D%2C%20%5B-118.391641%2C%2033.840068%5D%2C%20%5B-118.566903%2C%2034.042715%5D%2C%20%5B-118.802411%2C%2033.998899%5D%2C%20%5B-119.218659%2C%2034.146777%5D%2C%20%5B-119.278905%2C%2034.26727%5D%2C%20%5B-119.558229%2C%2034.415147%5D%2C%20%5B-119.875891%2C%2034.40967%5D%2C%20%5B-120.138784%2C%2034.475393%5D%2C%20%5B-120.472878%2C%2034.448009%5D%2C%20%5B-120.64814%2C%2034.579455%5D%2C%20%5B-120.609801%2C%2034.858779%5D%2C%20%5B-120.670048%2C%2034.902595%5D%2C%20%5B-120.631709%2C%2035.099764%5D%2C%20%5B-120.894602%2C%2035.247642%5D%2C%20%5B-120.905556%2C%2035.450289%5D%2C%20%5B-121.004141%2C%2035.461243%5D%2C%20%5B-121.168449%2C%2035.636505%5D%2C%20%5B-121.283465%2C%2035.674843%5D%2C%20%5B-121.332757%2C%2035.784382%5D%2C%20%5B-121.716143%2C%2036.195153%5D%2C%20%5B-121.896882%2C%2036.315645%5D%2C%20%5B-121.935221%2C%2036.638785%5D%2C%20%5B-121.858544%2C%2036.6114%5D%2C%20%5B-121.787344%2C%2036.803093%5D%2C%20%5B-121.929744%2C%2036.978355%5D%2C%20%5B-122.105006%2C%2036.956447%5D%2C%20%5B-122.335038%2C%2037.115279%5D%2C%20%5B-122.417192%2C%2037.241248%5D%2C%20%5B-122.400761%2C%2037.361741%5D%2C%20%5B-122.515777%2C%2037.520572%5D%2C%20%5B-122.515777%2C%2037.783465%5D%2C%20%5B-122.329561%2C%2037.783465%5D%2C%20%5B-122.406238%2C%2038.15042%5D%2C%20%5B-122.488392%2C%2038.112082%5D%2C%20%5B-122.504823%2C%2037.931343%5D%2C%20%5B-122.701993%2C%2037.893004%5D%2C%20%5B-122.937501%2C%2038.029928%5D%2C%20%5B-122.97584%2C%2038.265436%5D%2C%20%5B-123.129194%2C%2038.451652%5D%2C%20%5B-123.331841%2C%2038.566668%5D%2C%20%5B-123.44138%2C%2038.698114%5D%2C%20%5B-123.737134%2C%2038.95553%5D%2C%20%5B-123.687842%2C%2039.032208%5D%2C%20%5B-123.824765%2C%2039.366301%5D%2C%20%5B-123.764519%2C%2039.552517%5D%2C%20%5B-123.85215%2C%2039.831841%5D%2C%20%5B-124.109566%2C%2040.105688%5D%2C%20%5B-124.361506%2C%2040.259042%5D%2C%20%5B-124.410798%2C%2040.439781%5D%2C%20%5B-124.158859%2C%2040.877937%5D%2C%20%5B-124.109566%2C%2041.025814%5D%2C%20%5B-124.158859%2C%2041.14083%5D%2C%20%5B-124.065751%2C%2041.442061%5D%2C%20%5B-124.147905%2C%2041.715908%5D%2C%20%5B-124.257444%2C%2041.781632%5D%2C%20%5B-124.213628%2C%2042.000709%5D%2C%20%5B-123.233256%2C%2042.006186%5D%5D%5D%2C%20%22type%22%3A%20%22Polygon%22%7D%2C%20%22id%22%3A%20%22CA%22%2C%20%22properties%22%3A%20%7B%22name%22%3A%20%22California%22%7D%2C%20%22type%22%3A%20%22Feature%22%7D%2C%20%7B%22geometry%22%3A%20%7B%22coordinates%22%3A%20%5B%5B%5B-107.919731%2C%2041.003906%5D%2C%20%5B-105.728954%2C%2040.998429%5D%2C%20%5B-104.053011%2C%2041.003906%5D%2C%20%5B-102.053927%2C%2041.003906%5D%2C%20%5B-102.053927%2C%2040.001626%5D%2C%20%5B-102.042974%2C%2036.994786%5D%2C%20%5B-103.001438%2C%2037.000263%5D%2C%20%5B-104.337812%2C%2036.994786%5D%2C%20%5B-106.868158%2C%2036.994786%5D%2C%20%5B-107.421329%2C%2037.000263%5D%2C%20%5B-109.042503%2C%2037.000263%5D%2C%20%5B-109.042503%2C%2038.166851%5D%2C%20%5B-109.058934%2C%2038.27639%5D%2C%20%5B-109.053457%2C%2039.125316%5D%2C%20%5B-109.04798%2C%2040.998429%5D%2C%20%5B-107.919731%2C%2041.003906%5D%5D%5D%2C%20%22type%22%3A%20%22Polygon%22%7D%2C%20%22id%22%3A%20%22CO%22%2C%20%22properties%22%3A%20%7B%22name%22%3A%20%22Colorado%22%7D%2C%20%22type%22%3A%20%22Feature%22%7D%2C%20%7B%22geometry%22%3A%20%7B%22coordinates%22%3A%20%5B%5B%5B-73.053528%2C%2042.039048%5D%2C%20%5B-71.799309%2C%2042.022617%5D%2C%20%5B-71.799309%2C%2042.006186%5D%2C%20%5B-71.799309%2C%2041.414677%5D%2C%20%5B-71.859555%2C%2041.321569%5D%2C%20%5B-71.947186%2C%2041.338%5D%2C%20%5B-72.385341%2C%2041.261322%5D%2C%20%5B-72.905651%2C%2041.28323%5D%2C%20%5B-73.130205%2C%2041.146307%5D%2C%20%5B-73.371191%2C%2041.102491%5D%2C%20%5B-73.655992%2C%2040.987475%5D%2C%20%5B-73.727192%2C%2041.102491%5D%2C%20%5B-73.48073%2C%2041.21203%5D%2C%20%5B-73.55193%2C%2041.294184%5D%2C%20%5B-73.486206%2C%2042.050002%5D%2C%20%5B-73.053528%2C%2042.039048%5D%5D%5D%2C%20%22type%22%3A%20%22Polygon%22%7D%2C%20%22id%22%3A%20%22CT%22%2C%20%22properties%22%3A%20%7B%22name%22%3A%20%22Connecticut%22%7D%2C%20%22type%22%3A%20%22Feature%22%7D%2C%20%7B%22geometry%22%3A%20%7B%22coordinates%22%3A%20%5B%5B%5B-75.414089%2C%2039.804456%5D%2C%20%5B-75.507197%2C%2039.683964%5D%2C%20%5B-75.611259%2C%2039.61824%5D%2C%20%5B-75.589352%2C%2039.459409%5D%2C%20%5B-75.441474%2C%2039.311532%5D%2C%20%5B-75.403136%2C%2039.065069%5D%2C%20%5B-75.189535%2C%2038.807653%5D%2C%20%5B-75.09095%2C%2038.796699%5D%2C%20%5B-75.047134%2C%2038.451652%5D%2C%20%5B-75.693413%2C%2038.462606%5D%2C%20%5B-75.786521%2C%2039.722302%5D%2C%20%5B-75.616736%2C%2039.831841%5D%2C%20%5B-75.414089%2C%2039.804456%5D%5D%5D%2C%20%22type%22%3A%20%22Polygon%22%7D%2C%20%22id%22%3A%20%22DE%22%2C%20%22properties%22%3A%20%7B%22name%22%3A%20%22Delaware%22%7D%2C%20%22type%22%3A%20%22Feature%22%7D%2C%20%7B%22geometry%22%3A%20%7B%22coordinates%22%3A%20%5B%5B%5B-85.497137%2C%2030.997536%5D%2C%20%5B-85.004212%2C%2031.003013%5D%2C%20%5B-84.867289%2C%2030.712735%5D%2C%20%5B-83.498053%2C%2030.647012%5D%2C%20%5B-82.216449%2C%2030.570335%5D%2C%20%5B-82.167157%2C%2030.356734%5D%2C%20%5B-82.046664%2C%2030.362211%5D%2C%20%5B-82.002849%2C%2030.564858%5D%2C%20%5B-82.041187%2C%2030.751074%5D%2C%20%5B-81.948079%2C%2030.827751%5D%2C%20%5B-81.718048%2C%2030.745597%5D%2C%20%5B-81.444201%2C%2030.707258%5D%2C%20%5B-81.383954%2C%2030.27458%5D%2C%20%5B-81.257985%2C%2029.787132%5D%2C%20%5B-80.967707%2C%2029.14633%5D%2C%20%5B-80.524075%2C%2028.461713%5D%2C%20%5B-80.589798%2C%2028.41242%5D%2C%20%5B-80.56789%2C%2028.094758%5D%2C%20%5B-80.381674%2C%2027.738757%5D%2C%20%5B-80.091397%2C%2027.021277%5D%2C%20%5B-80.03115%2C%2026.796723%5D%2C%20%5B-80.036627%2C%2026.566691%5D%2C%20%5B-80.146166%2C%2025.739673%5D%2C%20%5B-80.239274%2C%2025.723243%5D%2C%20%5B-80.337859%2C%2025.465826%5D%2C%20%5B-80.304997%2C%2025.383672%5D%2C%20%5B-80.49669%2C%2025.197456%5D%2C%20%5B-80.573367%2C%2025.241272%5D%2C%20%5B-80.759583%2C%2025.164595%5D%2C%20%5B-81.077246%2C%2025.120779%5D%2C%20%5B-81.170354%2C%2025.224841%5D%2C%20%5B-81.126538%2C%2025.378195%5D%2C%20%5B-81.351093%2C%2025.821827%5D%2C%20%5B-81.526355%2C%2025.903982%5D%2C%20%5B-81.679709%2C%2025.843735%5D%2C%20%5B-81.800202%2C%2026.090198%5D%2C%20%5B-81.833064%2C%2026.292844%5D%2C%20%5B-82.041187%2C%2026.517399%5D%2C%20%5B-82.09048%2C%2026.665276%5D%2C%20%5B-82.057618%2C%2026.878877%5D%2C%20%5B-82.172634%2C%2026.917216%5D%2C%20%5B-82.145249%2C%2026.791246%5D%2C%20%5B-82.249311%2C%2026.758384%5D%2C%20%5B-82.566974%2C%2027.300601%5D%2C%20%5B-82.692943%2C%2027.437525%5D%2C%20%5B-82.391711%2C%2027.837342%5D%2C%20%5B-82.588881%2C%2027.815434%5D%2C%20%5B-82.720328%2C%2027.689464%5D%2C%20%5B-82.851774%2C%2027.886634%5D%2C%20%5B-82.676512%2C%2028.434328%5D%2C%20%5B-82.643651%2C%2028.888914%5D%2C%20%5B-82.764143%2C%2028.998453%5D%2C%20%5B-82.802482%2C%2029.14633%5D%2C%20%5B-82.994175%2C%2029.179192%5D%2C%20%5B-83.218729%2C%2029.420177%5D%2C%20%5B-83.399469%2C%2029.518762%5D%2C%20%5B-83.410422%2C%2029.66664%5D%2C%20%5B-83.536392%2C%2029.721409%5D%2C%20%5B-83.640454%2C%2029.885717%5D%2C%20%5B-84.02384%2C%2030.104795%5D%2C%20%5B-84.357933%2C%2030.055502%5D%2C%20%5B-84.341502%2C%2029.902148%5D%2C%20%5B-84.451041%2C%2029.929533%5D%2C%20%5B-84.867289%2C%2029.743317%5D%2C%20%5B-85.310921%2C%2029.699501%5D%2C%20%5B-85.299967%2C%2029.80904%5D%2C%20%5B-85.404029%2C%2029.940487%5D%2C%20%5B-85.924338%2C%2030.236241%5D%2C%20%5B-86.29677%2C%2030.362211%5D%2C%20%5B-86.630863%2C%2030.395073%5D%2C%20%5B-86.910187%2C%2030.373165%5D%2C%20%5B-87.518128%2C%2030.280057%5D%2C%20%5B-87.37025%2C%2030.427934%5D%2C%20%5B-87.446927%2C%2030.510088%5D%2C%20%5B-87.408589%2C%2030.674397%5D%2C%20%5B-87.633143%2C%2030.86609%5D%2C%20%5B-87.600282%2C%2030.997536%5D%2C%20%5B-85.497137%2C%2030.997536%5D%5D%5D%2C%20%22type%22%3A%20%22Polygon%22%7D%2C%20%22id%22%3A%20%22FL%22%2C%20%22properties%22%3A%20%7B%22name%22%3A%20%22Florida%22%7D%2C%20%22type%22%3A%20%22Feature%22%7D%2C%20%7B%22geometry%22%3A%20%7B%22coordinates%22%3A%20%5B%5B%5B-83.109191%2C%2035.00118%5D%2C%20%5B-83.322791%2C%2034.787579%5D%2C%20%5B-83.339222%2C%2034.683517%5D%2C%20%5B-83.005129%2C%2034.469916%5D%2C%20%5B-82.901067%2C%2034.486347%5D%2C%20%5B-82.747713%2C%2034.26727%5D%2C%20%5B-82.714851%2C%2034.152254%5D%2C%20%5B-82.55602%2C%2033.94413%5D%2C%20%5B-82.325988%2C%2033.81816%5D%2C%20%5B-82.194542%2C%2033.631944%5D%2C%20%5B-81.926172%2C%2033.462159%5D%2C%20%5B-81.937125%2C%2033.347144%5D%2C%20%5B-81.761863%2C%2033.160928%5D%2C%20%5B-81.493493%2C%2033.007573%5D%2C%20%5B-81.42777%2C%2032.843265%5D%2C%20%5B-81.416816%2C%2032.629664%5D%2C%20%5B-81.279893%2C%2032.558464%5D%2C%20%5B-81.121061%2C%2032.290094%5D%2C%20%5B-81.115584%2C%2032.120309%5D%2C%20%5B-80.885553%2C%2032.032678%5D%2C%20%5B-81.132015%2C%2031.693108%5D%2C%20%5B-81.175831%2C%2031.517845%5D%2C%20%5B-81.279893%2C%2031.364491%5D%2C%20%5B-81.290846%2C%2031.20566%5D%2C%20%5B-81.400385%2C%2031.13446%5D%2C%20%5B-81.444201%2C%2030.707258%5D%2C%20%5B-81.718048%2C%2030.745597%5D%2C%20%5B-81.948079%2C%2030.827751%5D%2C%20%5B-82.041187%2C%2030.751074%5D%2C%20%5B-82.002849%2C%2030.564858%5D%2C%20%5B-82.046664%2C%2030.362211%5D%2C%20%5B-82.167157%2C%2030.356734%5D%2C%20%5B-82.216449%2C%2030.570335%5D%2C%20%5B-83.498053%2C%2030.647012%5D%2C%20%5B-84.867289%2C%2030.712735%5D%2C%20%5B-85.004212%2C%2031.003013%5D%2C%20%5B-85.113751%2C%2031.27686%5D%2C%20%5B-85.042551%2C%2031.539753%5D%2C%20%5B-85.141136%2C%2031.840985%5D%2C%20%5B-85.053504%2C%2032.01077%5D%2C%20%5B-85.058981%2C%2032.13674%5D%2C%20%5B-84.889196%2C%2032.262709%5D%2C%20%5B-85.004212%2C%2032.322956%5D%2C%20%5B-84.960397%2C%2032.421541%5D%2C%20%5B-85.069935%2C%2032.580372%5D%2C%20%5B-85.184951%2C%2032.859696%5D%2C%20%5B-85.431413%2C%2034.124869%5D%2C%20%5B-85.606675%2C%2034.984749%5D%2C%20%5B-84.319594%2C%2034.990226%5D%2C%20%5B-83.618546%2C%2034.984749%5D%2C%20%5B-83.109191%2C%2035.00118%5D%5D%5D%2C%20%22type%22%3A%20%22Polygon%22%7D%2C%20%22id%22%3A%20%22GA%22%2C%20%22properties%22%3A%20%7B%22name%22%3A%20%22Georgia%22%7D%2C%20%22type%22%3A%20%22Feature%22%7D%2C%20%7B%22geometry%22%3A%20%7B%22coordinates%22%3A%20%5B%5B%5B%5B-155.634835%2C%2018.948267%5D%2C%20%5B-155.881297%2C%2019.035898%5D%2C%20%5B-155.919636%2C%2019.123529%5D%2C%20%5B-155.886774%2C%2019.348084%5D%2C%20%5B-156.062036%2C%2019.73147%5D%2C%20%5B-155.925113%2C%2019.857439%5D%2C%20%5B-155.826528%2C%2020.032702%5D%2C%20%5B-155.897728%2C%2020.147717%5D%2C%20%5B-155.87582%2C%2020.26821%5D%2C%20%5B-155.596496%2C%2020.12581%5D%2C%20%5B-155.284311%2C%2020.021748%5D%2C%20%5B-155.092618%2C%2019.868393%5D%2C%20%5B-155.092618%2C%2019.736947%5D%2C%20%5B-154.807817%2C%2019.523346%5D%2C%20%5B-154.983079%2C%2019.348084%5D%2C%20%5B-155.295265%2C%2019.26593%5D%2C%20%5B-155.514342%2C%2019.134483%5D%2C%20%5B-155.634835%2C%2018.948267%5D%5D%5D%2C%20%5B%5B%5B-156.587823%2C%2021.029505%5D%2C%20%5B-156.472807%2C%2020.892581%5D%2C%20%5B-156.324929%2C%2020.952827%5D%2C%20%5B-156.00179%2C%2020.793996%5D%2C%20%5B-156.051082%2C%2020.651596%5D%2C%20%5B-156.379699%2C%2020.580396%5D%2C%20%5B-156.445422%2C%2020.60778%5D%2C%20%5B-156.461853%2C%2020.783042%5D%2C%20%5B-156.631638%2C%2020.821381%5D%2C%20%5B-156.697361%2C%2020.919966%5D%2C%20%5B-156.587823%2C%2021.029505%5D%5D%5D%2C%20%5B%5B%5B-156.982162%2C%2021.210244%5D%2C%20%5B-157.080747%2C%2021.106182%5D%2C%20%5B-157.310779%2C%2021.106182%5D%2C%20%5B-157.239579%2C%2021.221198%5D%2C%20%5B-156.982162%2C%2021.210244%5D%5D%5D%2C%20%5B%5B%5B-157.951581%2C%2021.697691%5D%2C%20%5B-157.842042%2C%2021.462183%5D%2C%20%5B-157.896811%2C%2021.325259%5D%2C%20%5B-158.110412%2C%2021.303352%5D%2C%20%5B-158.252813%2C%2021.582676%5D%2C%20%5B-158.126843%2C%2021.588153%5D%2C%20%5B-157.951581%2C%2021.697691%5D%5D%5D%2C%20%5B%5B%5B-159.468693%2C%2022.228955%5D%2C%20%5B-159.353678%2C%2022.218001%5D%2C%20%5B-159.298908%2C%2022.113939%5D%2C%20%5B-159.33177%2C%2021.966061%5D%2C%20%5B-159.446786%2C%2021.872953%5D%2C%20%5B-159.764448%2C%2021.987969%5D%2C%20%5B-159.726109%2C%2022.152277%5D%2C%20%5B-159.468693%2C%2022.228955%5D%5D%5D%5D%2C%20%22type%22%3A%20%22MultiPolygon%22%7D%2C%20%22id%22%3A%20%22HI%22%2C%20%22properties%22%3A%20%7B%22name%22%3A%20%22Hawaii%22%7D%2C%20%22type%22%3A%20%22Feature%22%7D%2C%20%7B%22geometry%22%3A%20%7B%22coordinates%22%3A%20%5B%5B%5B-116.04751%2C%2049.000239%5D%2C%20%5B-116.04751%2C%2047.976051%5D%2C%20%5B-115.724371%2C%2047.696727%5D%2C%20%5B-115.718894%2C%2047.42288%5D%2C%20%5B-115.527201%2C%2047.302388%5D%2C%20%5B-115.324554%2C%2047.258572%5D%2C%20%5B-115.302646%2C%2047.187372%5D%2C%20%5B-114.930214%2C%2046.919002%5D%2C%20%5B-114.886399%2C%2046.809463%5D%2C%20%5B-114.623506%2C%2046.705401%5D%2C%20%5B-114.612552%2C%2046.639678%5D%2C%20%5B-114.322274%2C%2046.645155%5D%2C%20%5B-114.464674%2C%2046.272723%5D%2C%20%5B-114.492059%2C%2046.037214%5D%2C%20%5B-114.387997%2C%2045.88386%5D%2C%20%5B-114.568736%2C%2045.774321%5D%2C%20%5B-114.497536%2C%2045.670259%5D%2C%20%5B-114.546828%2C%2045.560721%5D%2C%20%5B-114.333228%2C%2045.456659%5D%2C%20%5B-114.086765%2C%2045.593582%5D%2C%20%5B-113.98818%2C%2045.703121%5D%2C%20%5B-113.807441%2C%2045.604536%5D%2C%20%5B-113.834826%2C%2045.522382%5D%2C%20%5B-113.736241%2C%2045.330689%5D%2C%20%5B-113.571933%2C%2045.128042%5D%2C%20%5B-113.45144%2C%2045.056842%5D%2C%20%5B-113.456917%2C%2044.865149%5D%2C%20%5B-113.341901%2C%2044.782995%5D%2C%20%5B-113.133778%2C%2044.772041%5D%2C%20%5B-113.002331%2C%2044.448902%5D%2C%20%5B-112.887315%2C%2044.394132%5D%2C%20%5B-112.783254%2C%2044.48724%5D%2C%20%5B-112.471068%2C%2044.481763%5D%2C%20%5B-112.241036%2C%2044.569394%5D%2C%20%5B-112.104113%2C%2044.520102%5D%2C%20%5B-111.868605%2C%2044.563917%5D%2C%20%5B-111.819312%2C%2044.509148%5D%2C%20%5B-111.616665%2C%2044.547487%5D%2C%20%5B-111.386634%2C%2044.75561%5D%2C%20%5B-111.227803%2C%2044.580348%5D%2C%20%5B-111.047063%2C%2044.476286%5D%2C%20%5B-111.047063%2C%2042.000709%5D%2C%20%5B-112.164359%2C%2041.995232%5D%2C%20%5B-114.04295%2C%2041.995232%5D%2C%20%5B-117.027882%2C%2042.000709%5D%2C%20%5B-117.027882%2C%2043.830007%5D%2C%20%5B-116.896436%2C%2044.158624%5D%2C%20%5B-116.97859%2C%2044.240778%5D%2C%20%5B-117.170283%2C%2044.257209%5D%2C%20%5B-117.241483%2C%2044.394132%5D%2C%20%5B-117.038836%2C%2044.750133%5D%2C%20%5B-116.934774%2C%2044.782995%5D%2C%20%5B-116.830713%2C%2044.930872%5D%2C%20%5B-116.847143%2C%2045.02398%5D%2C%20%5B-116.732128%2C%2045.144473%5D%2C%20%5B-116.671881%2C%2045.319735%5D%2C%20%5B-116.463758%2C%2045.61549%5D%2C%20%5B-116.545912%2C%2045.752413%5D%2C%20%5B-116.78142%2C%2045.823614%5D%2C%20%5B-116.918344%2C%2045.993399%5D%2C%20%5B-116.92382%2C%2046.168661%5D%2C%20%5B-117.055267%2C%2046.343923%5D%2C%20%5B-117.038836%2C%2046.426077%5D%2C%20%5B-117.044313%2C%2047.762451%5D%2C%20%5B-117.033359%2C%2049.000239%5D%2C%20%5B-116.04751%2C%2049.000239%5D%5D%5D%2C%20%22type%22%3A%20%22Polygon%22%7D%2C%20%22id%22%3A%20%22ID%22%2C%20%22properties%22%3A%20%7B%22name%22%3A%20%22Idaho%22%7D%2C%20%22type%22%3A%20%22Feature%22%7D%2C%20%7B%22geometry%22%3A%20%7B%22coordinates%22%3A%20%5B%5B%5B-90.639984%2C%2042.510065%5D%2C%20%5B-88.788778%2C%2042.493634%5D%2C%20%5B-87.802929%2C%2042.493634%5D%2C%20%5B-87.83579%2C%2042.301941%5D%2C%20%5B-87.682436%2C%2042.077386%5D%2C%20%5B-87.523605%2C%2041.710431%5D%2C%20%5B-87.529082%2C%2039.34987%5D%2C%20%5B-87.63862%2C%2039.169131%5D%2C%20%5B-87.512651%2C%2038.95553%5D%2C%20%5B-87.49622%2C%2038.780268%5D%2C%20%5B-87.62219%2C%2038.637868%5D%2C%20%5B-87.655051%2C%2038.506421%5D%2C%20%5B-87.83579%2C%2038.292821%5D%2C%20%5B-87.950806%2C%2038.27639%5D%2C%20%5B-87.923421%2C%2038.15042%5D%2C%20%5B-88.000098%2C%2038.101128%5D%2C%20%5B-88.060345%2C%2037.865619%5D%2C%20%5B-88.027483%2C%2037.799896%5D%2C%20%5B-88.15893%2C%2037.657496%5D%2C%20%5B-88.065822%2C%2037.482234%5D%2C%20%5B-88.476592%2C%2037.389126%5D%2C%20%5B-88.514931%2C%2037.285064%5D%2C%20%5B-88.421823%2C%2037.153617%5D%2C%20%5B-88.547792%2C%2037.071463%5D%2C%20%5B-88.914747%2C%2037.224817%5D%2C%20%5B-89.029763%2C%2037.213863%5D%2C%20%5B-89.183118%2C%2037.038601%5D%2C%20%5B-89.133825%2C%2036.983832%5D%2C%20%5B-89.292656%2C%2036.994786%5D%2C%20%5B-89.517211%2C%2037.279587%5D%2C%20%5B-89.435057%2C%2037.34531%5D%2C%20%5B-89.517211%2C%2037.537003%5D%2C%20%5B-89.517211%2C%2037.690357%5D%2C%20%5B-89.84035%2C%2037.903958%5D%2C%20%5B-89.949889%2C%2037.88205%5D%2C%20%5B-90.059428%2C%2038.013497%5D%2C%20%5B-90.355183%2C%2038.216144%5D%2C%20%5B-90.349706%2C%2038.374975%5D%2C%20%5B-90.179921%2C%2038.632391%5D%2C%20%5B-90.207305%2C%2038.725499%5D%2C%20%5B-90.10872%2C%2038.845992%5D%2C%20%5B-90.251121%2C%2038.917192%5D%2C%20%5B-90.470199%2C%2038.961007%5D%2C%20%5B-90.585214%2C%2038.867899%5D%2C%20%5B-90.661891%2C%2038.928146%5D%2C%20%5B-90.727615%2C%2039.256762%5D%2C%20%5B-91.061708%2C%2039.470363%5D%2C%20%5B-91.368417%2C%2039.727779%5D%2C%20%5B-91.494386%2C%2040.034488%5D%2C%20%5B-91.50534%2C%2040.237135%5D%2C%20%5B-91.417709%2C%2040.379535%5D%2C%20%5B-91.401278%2C%2040.560274%5D%2C%20%5B-91.121954%2C%2040.669813%5D%2C%20%5B-91.09457%2C%2040.823167%5D%2C%20%5B-90.963123%2C%2040.921752%5D%2C%20%5B-90.946692%2C%2041.097014%5D%2C%20%5B-91.111001%2C%2041.239415%5D%2C%20%5B-91.045277%2C%2041.414677%5D%2C%20%5B-90.656414%2C%2041.463969%5D%2C%20%5B-90.344229%2C%2041.589939%5D%2C%20%5B-90.311367%2C%2041.743293%5D%2C%20%5B-90.179921%2C%2041.809016%5D%2C%20%5B-90.141582%2C%2042.000709%5D%2C%20%5B-90.168967%2C%2042.126679%5D%2C%20%5B-90.393521%2C%2042.225264%5D%2C%20%5B-90.420906%2C%2042.329326%5D%2C%20%5B-90.639984%2C%2042.510065%5D%5D%5D%2C%20%22type%22%3A%20%22Polygon%22%7D%2C%20%22id%22%3A%20%22IL%22%2C%20%22properties%22%3A%20%7B%22name%22%3A%20%22Illinois%22%7D%2C%20%22type%22%3A%20%22Feature%22%7D%2C%20%7B%22geometry%22%3A%20%7B%22coordinates%22%3A%20%5B%5B%5B-85.990061%2C%2041.759724%5D%2C%20%5B-84.807042%2C%2041.759724%5D%2C%20%5B-84.807042%2C%2041.694001%5D%2C%20%5B-84.801565%2C%2040.500028%5D%2C%20%5B-84.817996%2C%2039.103408%5D%2C%20%5B-84.894673%2C%2039.059592%5D%2C%20%5B-84.812519%2C%2038.785745%5D%2C%20%5B-84.987781%2C%2038.780268%5D%2C%20%5B-85.173997%2C%2038.68716%5D%2C%20%5B-85.431413%2C%2038.730976%5D%2C%20%5B-85.42046%2C%2038.533806%5D%2C%20%5B-85.590245%2C%2038.451652%5D%2C%20%5B-85.655968%2C%2038.325682%5D%2C%20%5B-85.83123%2C%2038.27639%5D%2C%20%5B-85.924338%2C%2038.024451%5D%2C%20%5B-86.039354%2C%2037.958727%5D%2C%20%5B-86.263908%2C%2038.051835%5D%2C%20%5B-86.302247%2C%2038.166851%5D%2C%20%5B-86.521325%2C%2038.040881%5D%2C%20%5B-86.504894%2C%2037.931343%5D%2C%20%5B-86.729448%2C%2037.893004%5D%2C%20%5B-86.795172%2C%2037.991589%5D%2C%20%5B-87.047111%2C%2037.893004%5D%2C%20%5B-87.129265%2C%2037.788942%5D%2C%20%5B-87.381204%2C%2037.93682%5D%2C%20%5B-87.512651%2C%2037.903958%5D%2C%20%5B-87.600282%2C%2037.975158%5D%2C%20%5B-87.682436%2C%2037.903958%5D%2C%20%5B-87.934375%2C%2037.893004%5D%2C%20%5B-88.027483%2C%2037.799896%5D%2C%20%5B-88.060345%2C%2037.865619%5D%2C%20%5B-88.000098%2C%2038.101128%5D%2C%20%5B-87.923421%2C%2038.15042%5D%2C%20%5B-87.950806%2C%2038.27639%5D%2C%20%5B-87.83579%2C%2038.292821%5D%2C%20%5B-87.655051%2C%2038.506421%5D%2C%20%5B-87.62219%2C%2038.637868%5D%2C%20%5B-87.49622%2C%2038.780268%5D%2C%20%5B-87.512651%2C%2038.95553%5D%2C%20%5B-87.63862%2C%2039.169131%5D%2C%20%5B-87.529082%2C%2039.34987%5D%2C%20%5B-87.523605%2C%2041.710431%5D%2C%20%5B-87.42502%2C%2041.644708%5D%2C%20%5B-87.118311%2C%2041.644708%5D%2C%20%5B-86.822556%2C%2041.759724%5D%2C%20%5B-85.990061%2C%2041.759724%5D%5D%5D%2C%20%22type%22%3A%20%22Polygon%22%7D%2C%20%22id%22%3A%20%22IN%22%2C%20%22properties%22%3A%20%7B%22name%22%3A%20%22Indiana%22%7D%2C%20%22type%22%3A%20%22Feature%22%7D%2C%20%7B%22geometry%22%3A%20%7B%22coordinates%22%3A%20%5B%5B%5B-91.368417%2C%2043.501391%5D%2C%20%5B-91.215062%2C%2043.501391%5D%2C%20%5B-91.204109%2C%2043.353514%5D%2C%20%5B-91.056231%2C%2043.254929%5D%2C%20%5B-91.176724%2C%2043.134436%5D%2C%20%5B-91.143862%2C%2042.909881%5D%2C%20%5B-91.067185%2C%2042.75105%5D%2C%20%5B-90.711184%2C%2042.636034%5D%2C%20%5B-90.639984%2C%2042.510065%5D%2C%20%5B-90.420906%2C%2042.329326%5D%2C%20%5B-90.393521%2C%2042.225264%5D%2C%20%5B-90.168967%2C%2042.126679%5D%2C%20%5B-90.141582%2C%2042.000709%5D%2C%20%5B-90.179921%2C%2041.809016%5D%2C%20%5B-90.311367%2C%2041.743293%5D%2C%20%5B-90.344229%2C%2041.589939%5D%2C%20%5B-90.656414%2C%2041.463969%5D%2C%20%5B-91.045277%2C%2041.414677%5D%2C%20%5B-91.111001%2C%2041.239415%5D%2C%20%5B-90.946692%2C%2041.097014%5D%2C%20%5B-90.963123%2C%2040.921752%5D%2C%20%5B-91.09457%2C%2040.823167%5D%2C%20%5B-91.121954%2C%2040.669813%5D%2C%20%5B-91.401278%2C%2040.560274%5D%2C%20%5B-91.417709%2C%2040.379535%5D%2C%20%5B-91.527248%2C%2040.412397%5D%2C%20%5B-91.729895%2C%2040.615043%5D%2C%20%5B-91.833957%2C%2040.609566%5D%2C%20%5B-93.257961%2C%2040.582182%5D%2C%20%5B-94.632673%2C%2040.571228%5D%2C%20%5B-95.7664%2C%2040.587659%5D%2C%20%5B-95.881416%2C%2040.719105%5D%2C%20%5B-95.826646%2C%2040.976521%5D%2C%20%5B-95.925231%2C%2041.201076%5D%2C%20%5B-95.919754%2C%2041.453015%5D%2C%20%5B-96.095016%2C%2041.540646%5D%2C%20%5B-96.122401%2C%2041.67757%5D%2C%20%5B-96.062155%2C%2041.798063%5D%2C%20%5B-96.127878%2C%2041.973325%5D%2C%20%5B-96.264801%2C%2042.039048%5D%2C%20%5B-96.44554%2C%2042.488157%5D%2C%20%5B-96.631756%2C%2042.707235%5D%2C%20%5B-96.544125%2C%2042.855112%5D%2C%20%5B-96.511264%2C%2043.052282%5D%2C%20%5B-96.434587%2C%2043.123482%5D%2C%20%5B-96.560556%2C%2043.222067%5D%2C%20%5B-96.527695%2C%2043.397329%5D%2C%20%5B-96.582464%2C%2043.479483%5D%2C%20%5B-96.451017%2C%2043.501391%5D%2C%20%5B-91.368417%2C%2043.501391%5D%5D%5D%2C%20%22type%22%3A%20%22Polygon%22%7D%2C%20%22id%22%3A%20%22IA%22%2C%20%22properties%22%3A%20%7B%22name%22%3A%20%22Iowa%22%7D%2C%20%22type%22%3A%20%22Feature%22%7D%2C%20%7B%22geometry%22%3A%20%7B%22coordinates%22%3A%20%5B%5B%5B-101.90605%2C%2040.001626%5D%2C%20%5B-95.306337%2C%2040.001626%5D%2C%20%5B-95.207752%2C%2039.908518%5D%2C%20%5B-94.884612%2C%2039.831841%5D%2C%20%5B-95.109167%2C%2039.541563%5D%2C%20%5B-94.983197%2C%2039.442978%5D%2C%20%5B-94.824366%2C%2039.20747%5D%2C%20%5B-94.610765%2C%2039.158177%5D%2C%20%5B-94.616242%2C%2037.000263%5D%2C%20%5B-100.087706%2C%2037.000263%5D%2C%20%5B-102.042974%2C%2036.994786%5D%2C%20%5B-102.053927%2C%2040.001626%5D%2C%20%5B-101.90605%2C%2040.001626%5D%5D%5D%2C%20%22type%22%3A%20%22Polygon%22%7D%2C%20%22id%22%3A%20%22KS%22%2C%20%22properties%22%3A%20%7B%22name%22%3A%20%22Kansas%22%7D%2C%20%22type%22%3A%20%22Feature%22%7D%2C%20%7B%22geometry%22%3A%20%7B%22coordinates%22%3A%20%5B%5B%5B-83.903347%2C%2038.769315%5D%2C%20%5B-83.678792%2C%2038.632391%5D%2C%20%5B-83.519961%2C%2038.703591%5D%2C%20%5B-83.142052%2C%2038.626914%5D%2C%20%5B-83.032514%2C%2038.725499%5D%2C%20%5B-82.890113%2C%2038.758361%5D%2C%20%5B-82.846298%2C%2038.588575%5D%2C%20%5B-82.731282%2C%2038.561191%5D%2C%20%5B-82.594358%2C%2038.424267%5D%2C%20%5B-82.621743%2C%2038.123036%5D%2C%20%5B-82.50125%2C%2037.931343%5D%2C%20%5B-82.342419%2C%2037.783465%5D%2C%20%5B-82.293127%2C%2037.668449%5D%2C%20%5B-82.101434%2C%2037.553434%5D%2C%20%5B-81.969987%2C%2037.537003%5D%2C%20%5B-82.353373%2C%2037.268633%5D%2C%20%5B-82.720328%2C%2037.120755%5D%2C%20%5B-82.720328%2C%2037.044078%5D%2C%20%5B-82.868205%2C%2036.978355%5D%2C%20%5B-82.879159%2C%2036.890724%5D%2C%20%5B-83.070852%2C%2036.852385%5D%2C%20%5B-83.136575%2C%2036.742847%5D%2C%20%5B-83.673316%2C%2036.600446%5D%2C%20%5B-83.689746%2C%2036.584015%5D%2C%20%5B-84.544149%2C%2036.594969%5D%2C%20%5B-85.289013%2C%2036.627831%5D%2C%20%5B-85.486183%2C%2036.616877%5D%2C%20%5B-86.592525%2C%2036.655216%5D%2C%20%5B-87.852221%2C%2036.633308%5D%2C%20%5B-88.071299%2C%2036.677123%5D%2C%20%5B-88.054868%2C%2036.496384%5D%2C%20%5B-89.298133%2C%2036.507338%5D%2C%20%5B-89.418626%2C%2036.496384%5D%2C%20%5B-89.363857%2C%2036.622354%5D%2C%20%5B-89.215979%2C%2036.578538%5D%2C%20%5B-89.133825%2C%2036.983832%5D%2C%20%5B-89.183118%2C%2037.038601%5D%2C%20%5B-89.029763%2C%2037.213863%5D%2C%20%5B-88.914747%2C%2037.224817%5D%2C%20%5B-88.547792%2C%2037.071463%5D%2C%20%5B-88.421823%2C%2037.153617%5D%2C%20%5B-88.514931%2C%2037.285064%5D%2C%20%5B-88.476592%2C%2037.389126%5D%2C%20%5B-88.065822%2C%2037.482234%5D%2C%20%5B-88.15893%2C%2037.657496%5D%2C%20%5B-88.027483%2C%2037.799896%5D%2C%20%5B-87.934375%2C%2037.893004%5D%2C%20%5B-87.682436%2C%2037.903958%5D%2C%20%5B-87.600282%2C%2037.975158%5D%2C%20%5B-87.512651%2C%2037.903958%5D%2C%20%5B-87.381204%2C%2037.93682%5D%2C%20%5B-87.129265%2C%2037.788942%5D%2C%20%5B-87.047111%2C%2037.893004%5D%2C%20%5B-86.795172%2C%2037.991589%5D%2C%20%5B-86.729448%2C%2037.893004%5D%2C%20%5B-86.504894%2C%2037.931343%5D%2C%20%5B-86.521325%2C%2038.040881%5D%2C%20%5B-86.302247%2C%2038.166851%5D%2C%20%5B-86.263908%2C%2038.051835%5D%2C%20%5B-86.039354%2C%2037.958727%5D%2C%20%5B-85.924338%2C%2038.024451%5D%2C%20%5B-85.83123%2C%2038.27639%5D%2C%20%5B-85.655968%2C%2038.325682%5D%2C%20%5B-85.590245%2C%2038.451652%5D%2C%20%5B-85.42046%2C%2038.533806%5D%2C%20%5B-85.431413%2C%2038.730976%5D%2C%20%5B-85.173997%2C%2038.68716%5D%2C%20%5B-84.987781%2C%2038.780268%5D%2C%20%5B-84.812519%2C%2038.785745%5D%2C%20%5B-84.894673%2C%2039.059592%5D%2C%20%5B-84.817996%2C%2039.103408%5D%2C%20%5B-84.43461%2C%2039.103408%5D%2C%20%5B-84.231963%2C%2038.895284%5D%2C%20%5B-84.215533%2C%2038.807653%5D%2C%20%5B-83.903347%2C%2038.769315%5D%5D%5D%2C%20%22type%22%3A%20%22Polygon%22%7D%2C%20%22id%22%3A%20%22KY%22%2C%20%22properties%22%3A%20%7B%22name%22%3A%20%22Kentucky%22%7D%2C%20%22type%22%3A%20%22Feature%22%7D%2C%20%7B%22geometry%22%3A%20%7B%22coordinates%22%3A%20%5B%5B%5B-93.608485%2C%2033.018527%5D%2C%20%5B-91.16577%2C%2033.002096%5D%2C%20%5B-91.072662%2C%2032.887081%5D%2C%20%5B-91.143862%2C%2032.843265%5D%2C%20%5B-91.154816%2C%2032.640618%5D%2C%20%5B-91.006939%2C%2032.514649%5D%2C%20%5B-90.985031%2C%2032.218894%5D%2C%20%5B-91.105524%2C%2031.988862%5D%2C%20%5B-91.341032%2C%2031.846462%5D%2C%20%5B-91.401278%2C%2031.621907%5D%2C%20%5B-91.499863%2C%2031.643815%5D%2C%20%5B-91.516294%2C%2031.27686%5D%2C%20%5B-91.636787%2C%2031.265906%5D%2C%20%5B-91.565587%2C%2031.068736%5D%2C%20%5B-91.636787%2C%2030.997536%5D%2C%20%5B-89.747242%2C%2030.997536%5D%2C%20%5B-89.845827%2C%2030.66892%5D%2C%20%5B-89.681519%2C%2030.449842%5D%2C%20%5B-89.643181%2C%2030.285534%5D%2C%20%5B-89.522688%2C%2030.181472%5D%2C%20%5B-89.818443%2C%2030.044549%5D%2C%20%5B-89.84035%2C%2029.945964%5D%2C%20%5B-89.599365%2C%2029.88024%5D%2C%20%5B-89.495303%2C%2030.039072%5D%2C%20%5B-89.287179%2C%2029.88024%5D%2C%20%5B-89.30361%2C%2029.754271%5D%2C%20%5B-89.424103%2C%2029.699501%5D%2C%20%5B-89.648657%2C%2029.748794%5D%2C%20%5B-89.621273%2C%2029.655686%5D%2C%20%5B-89.69795%2C%2029.513285%5D%2C%20%5B-89.506257%2C%2029.387316%5D%2C%20%5B-89.199548%2C%2029.348977%5D%2C%20%5B-89.09001%2C%2029.2011%5D%2C%20%5B-89.002379%2C%2029.179192%5D%2C%20%5B-89.16121%2C%2029.009407%5D%2C%20%5B-89.336472%2C%2029.042268%5D%2C%20%5B-89.484349%2C%2029.217531%5D%2C%20%5B-89.851304%2C%2029.310638%5D%2C%20%5B-89.851304%2C%2029.480424%5D%2C%20%5B-90.032043%2C%2029.425654%5D%2C%20%5B-90.021089%2C%2029.283254%5D%2C%20%5B-90.103244%2C%2029.151807%5D%2C%20%5B-90.23469%2C%2029.129899%5D%2C%20%5B-90.333275%2C%2029.277777%5D%2C%20%5B-90.563307%2C%2029.283254%5D%2C%20%5B-90.645461%2C%2029.129899%5D%2C%20%5B-90.798815%2C%2029.086084%5D%2C%20%5B-90.963123%2C%2029.179192%5D%2C%20%5B-91.09457%2C%2029.190146%5D%2C%20%5B-91.220539%2C%2029.436608%5D%2C%20%5B-91.445094%2C%2029.546147%5D%2C%20%5B-91.532725%2C%2029.529716%5D%2C%20%5B-91.620356%2C%2029.73784%5D%2C%20%5B-91.883249%2C%2029.710455%5D%2C%20%5B-91.888726%2C%2029.836425%5D%2C%20%5B-92.146142%2C%2029.715932%5D%2C%20%5B-92.113281%2C%2029.622824%5D%2C%20%5B-92.31045%2C%2029.535193%5D%2C%20%5B-92.617159%2C%2029.579009%5D%2C%20%5B-92.97316%2C%2029.715932%5D%2C%20%5B-93.2251%2C%2029.776178%5D%2C%20%5B-93.767317%2C%2029.726886%5D%2C%20%5B-93.838517%2C%2029.688547%5D%2C%20%5B-93.926148%2C%2029.787132%5D%2C%20%5B-93.690639%2C%2030.143133%5D%2C%20%5B-93.767317%2C%2030.334826%5D%2C%20%5B-93.696116%2C%2030.438888%5D%2C%20%5B-93.728978%2C%2030.575812%5D%2C%20%5B-93.630393%2C%2030.679874%5D%2C%20%5B-93.526331%2C%2030.93729%5D%2C%20%5B-93.542762%2C%2031.15089%5D%2C%20%5B-93.816609%2C%2031.556184%5D%2C%20%5B-93.822086%2C%2031.775262%5D%2C%20%5B-94.041164%2C%2031.994339%5D%2C%20%5B-94.041164%2C%2033.018527%5D%2C%20%5B-93.608485%2C%2033.018527%5D%5D%5D%2C%20%22type%22%3A%20%22Polygon%22%7D%2C%20%22id%22%3A%20%22LA%22%2C%20%22properties%22%3A%20%7B%22name%22%3A%20%22Louisiana%22%7D%2C%20%22type%22%3A%20%22Feature%22%7D%2C%20%7B%22geometry%22%3A%20%7B%22coordinates%22%3A%20%5B%5B%5B-70.703921%2C%2043.057759%5D%2C%20%5B-70.824413%2C%2043.128959%5D%2C%20%5B-70.807983%2C%2043.227544%5D%2C%20%5B-70.966814%2C%2043.34256%5D%2C%20%5B-71.032537%2C%2044.657025%5D%2C%20%5B-71.08183%2C%2045.303304%5D%2C%20%5B-70.649151%2C%2045.440228%5D%2C%20%5B-70.720352%2C%2045.511428%5D%2C%20%5B-70.556043%2C%2045.664782%5D%2C%20%5B-70.386258%2C%2045.735983%5D%2C%20%5B-70.41912%2C%2045.796229%5D%2C%20%5B-70.260289%2C%2045.889337%5D%2C%20%5B-70.309581%2C%2046.064599%5D%2C%20%5B-70.210996%2C%2046.327492%5D%2C%20%5B-70.057642%2C%2046.415123%5D%2C%20%5B-69.997395%2C%2046.694447%5D%2C%20%5B-69.225147%2C%2047.461219%5D%2C%20%5B-69.044408%2C%2047.428357%5D%2C%20%5B-69.033454%2C%2047.242141%5D%2C%20%5B-68.902007%2C%2047.176418%5D%2C%20%5B-68.578868%2C%2047.285957%5D%2C%20%5B-68.376221%2C%2047.285957%5D%2C%20%5B-68.233821%2C%2047.357157%5D%2C%20%5B-67.954497%2C%2047.198326%5D%2C%20%5B-67.790188%2C%2047.066879%5D%2C%20%5B-67.779235%2C%2045.944106%5D%2C%20%5B-67.801142%2C%2045.675736%5D%2C%20%5B-67.456095%2C%2045.604536%5D%2C%20%5B-67.505388%2C%2045.48952%5D%2C%20%5B-67.417757%2C%2045.379982%5D%2C%20%5B-67.488957%2C%2045.281397%5D%2C%20%5B-67.346556%2C%2045.128042%5D%2C%20%5B-67.16034%2C%2045.160904%5D%2C%20%5B-66.979601%2C%2044.804903%5D%2C%20%5B-67.187725%2C%2044.646072%5D%2C%20%5B-67.308218%2C%2044.706318%5D%2C%20%5B-67.406803%2C%2044.596779%5D%2C%20%5B-67.549203%2C%2044.624164%5D%2C%20%5B-67.565634%2C%2044.531056%5D%2C%20%5B-67.75185%2C%2044.54201%5D%2C%20%5B-68.047605%2C%2044.328409%5D%2C%20%5B-68.118805%2C%2044.476286%5D%2C%20%5B-68.222867%2C%2044.48724%5D%2C%20%5B-68.173574%2C%2044.328409%5D%2C%20%5B-68.403606%2C%2044.251732%5D%2C%20%5B-68.458375%2C%2044.377701%5D%2C%20%5B-68.567914%2C%2044.311978%5D%2C%20%5B-68.82533%2C%2044.311978%5D%2C%20%5B-68.830807%2C%2044.459856%5D%2C%20%5B-68.984161%2C%2044.426994%5D%2C%20%5B-68.956777%2C%2044.322932%5D%2C%20%5B-69.099177%2C%2044.103854%5D%2C%20%5B-69.071793%2C%2044.043608%5D%2C%20%5B-69.258008%2C%2043.923115%5D%2C%20%5B-69.444224%2C%2043.966931%5D%2C%20%5B-69.553763%2C%2043.840961%5D%2C%20%5B-69.707118%2C%2043.82453%5D%2C%20%5B-69.833087%2C%2043.720469%5D%2C%20%5B-69.986442%2C%2043.742376%5D%2C%20%5B-70.030257%2C%2043.851915%5D%2C%20%5B-70.254812%2C%2043.676653%5D%2C%20%5B-70.194565%2C%2043.567114%5D%2C%20%5B-70.358873%2C%2043.528776%5D%2C%20%5B-70.369827%2C%2043.435668%5D%2C%20%5B-70.556043%2C%2043.320652%5D%2C%20%5B-70.703921%2C%2043.057759%5D%5D%5D%2C%20%22type%22%3A%20%22Polygon%22%7D%2C%20%22id%22%3A%20%22ME%22%2C%20%22properties%22%3A%20%7B%22name%22%3A%20%22Maine%22%7D%2C%20%22type%22%3A%20%22Feature%22%7D%2C%20%7B%22geometry%22%3A%20%7B%22coordinates%22%3A%20%5B%5B%5B%5B-75.994645%2C%2037.95325%5D%2C%20%5B-76.016553%2C%2037.95325%5D%2C%20%5B-76.043938%2C%2037.95325%5D%2C%20%5B-75.994645%2C%2037.95325%5D%5D%5D%2C%20%5B%5B%5B-79.477979%2C%2039.722302%5D%2C%20%5B-75.786521%2C%2039.722302%5D%2C%20%5B-75.693413%2C%2038.462606%5D%2C%20%5B-75.047134%2C%2038.451652%5D%2C%20%5B-75.244304%2C%2038.029928%5D%2C%20%5B-75.397659%2C%2038.013497%5D%2C%20%5B-75.671506%2C%2037.95325%5D%2C%20%5B-75.885106%2C%2037.909435%5D%2C%20%5B-75.879629%2C%2038.073743%5D%2C%20%5B-75.961783%2C%2038.139466%5D%2C%20%5B-75.846768%2C%2038.210667%5D%2C%20%5B-76.000122%2C%2038.374975%5D%2C%20%5B-76.049415%2C%2038.303775%5D%2C%20%5B-76.257538%2C%2038.320205%5D%2C%20%5B-76.328738%2C%2038.500944%5D%2C%20%5B-76.263015%2C%2038.500944%5D%2C%20%5B-76.257538%2C%2038.736453%5D%2C%20%5B-76.191815%2C%2038.829561%5D%2C%20%5B-76.279446%2C%2039.147223%5D%2C%20%5B-76.169907%2C%2039.333439%5D%2C%20%5B-76.000122%2C%2039.366301%5D%2C%20%5B-75.972737%2C%2039.557994%5D%2C%20%5B-76.098707%2C%2039.536086%5D%2C%20%5B-76.104184%2C%2039.437501%5D%2C%20%5B-76.367077%2C%2039.311532%5D%2C%20%5B-76.443754%2C%2039.196516%5D%2C%20%5B-76.460185%2C%2038.906238%5D%2C%20%5B-76.55877%2C%2038.769315%5D%2C%20%5B-76.514954%2C%2038.539283%5D%2C%20%5B-76.383508%2C%2038.380452%5D%2C%20%5B-76.399939%2C%2038.259959%5D%2C%20%5B-76.317785%2C%2038.139466%5D%2C%20%5B-76.3616%2C%2038.057312%5D%2C%20%5B-76.591632%2C%2038.216144%5D%2C%20%5B-76.920248%2C%2038.292821%5D%2C%20%5B-77.018833%2C%2038.446175%5D%2C%20%5B-77.205049%2C%2038.358544%5D%2C%20%5B-77.276249%2C%2038.479037%5D%2C%20%5B-77.128372%2C%2038.632391%5D%2C%20%5B-77.040741%2C%2038.791222%5D%2C%20%5B-76.909294%2C%2038.895284%5D%2C%20%5B-77.035264%2C%2038.993869%5D%2C%20%5B-77.117418%2C%2038.933623%5D%2C%20%5B-77.248864%2C%2039.026731%5D%2C%20%5B-77.456988%2C%2039.076023%5D%2C%20%5B-77.456988%2C%2039.223901%5D%2C%20%5B-77.566527%2C%2039.306055%5D%2C%20%5B-77.719881%2C%2039.322485%5D%2C%20%5B-77.834897%2C%2039.601809%5D%2C%20%5B-78.004682%2C%2039.601809%5D%2C%20%5B-78.174467%2C%2039.694917%5D%2C%20%5B-78.267575%2C%2039.61824%5D%2C%20%5B-78.431884%2C%2039.623717%5D%2C%20%5B-78.470222%2C%2039.514178%5D%2C%20%5B-78.765977%2C%2039.585379%5D%2C%20%5B-78.963147%2C%2039.437501%5D%2C%20%5B-79.094593%2C%2039.470363%5D%2C%20%5B-79.291763%2C%2039.300578%5D%2C%20%5B-79.488933%2C%2039.20747%5D%2C%20%5B-79.477979%2C%2039.722302%5D%5D%5D%5D%2C%20%22type%22%3A%20%22MultiPolygon%22%7D%2C%20%22id%22%3A%20%22MD%22%2C%20%22properties%22%3A%20%7B%22name%22%3A%20%22Maryland%22%7D%2C%20%22type%22%3A%20%22Feature%22%7D%2C%20%7B%22geometry%22%3A%20%7B%22coordinates%22%3A%20%5B%5B%5B-70.917521%2C%2042.887974%5D%2C%20%5B-70.818936%2C%2042.871543%5D%2C%20%5B-70.780598%2C%2042.696281%5D%2C%20%5B-70.824413%2C%2042.55388%5D%2C%20%5B-70.983245%2C%2042.422434%5D%2C%20%5B-70.988722%2C%2042.269079%5D%2C%20%5B-70.769644%2C%2042.247172%5D%2C%20%5B-70.638197%2C%2042.08834%5D%2C%20%5B-70.660105%2C%2041.962371%5D%2C%20%5B-70.550566%2C%2041.929509%5D%2C%20%5B-70.539613%2C%2041.814493%5D%2C%20%5B-70.260289%2C%2041.715908%5D%2C%20%5B-69.937149%2C%2041.809016%5D%2C%20%5B-70.008349%2C%2041.672093%5D%2C%20%5B-70.484843%2C%2041.5516%5D%2C%20%5B-70.660105%2C%2041.546123%5D%2C%20%5B-70.764167%2C%2041.639231%5D%2C%20%5B-70.928475%2C%2041.611847%5D%2C%20%5B-70.933952%2C%2041.540646%5D%2C%20%5B-71.120168%2C%2041.496831%5D%2C%20%5B-71.196845%2C%2041.67757%5D%2C%20%5B-71.22423%2C%2041.710431%5D%2C%20%5B-71.328292%2C%2041.781632%5D%2C%20%5B-71.383061%2C%2042.01714%5D%2C%20%5B-71.530939%2C%2042.01714%5D%2C%20%5B-71.799309%2C%2042.006186%5D%2C%20%5B-71.799309%2C%2042.022617%5D%2C%20%5B-73.053528%2C%2042.039048%5D%2C%20%5B-73.486206%2C%2042.050002%5D%2C%20%5B-73.508114%2C%2042.08834%5D%2C%20%5B-73.267129%2C%2042.745573%5D%2C%20%5B-72.456542%2C%2042.729142%5D%2C%20%5B-71.29543%2C%2042.696281%5D%2C%20%5B-71.185891%2C%2042.789389%5D%2C%20%5B-70.917521%2C%2042.887974%5D%5D%5D%2C%20%22type%22%3A%20%22Polygon%22%7D%2C%20%22id%22%3A%20%22MA%22%2C%20%22properties%22%3A%20%7B%22name%22%3A%20%22Massachusetts%22%7D%2C%20%22type%22%3A%20%22Feature%22%7D%2C%20%7B%22geometry%22%3A%20%7B%22coordinates%22%3A%20%5B%5B%5B%5B-83.454238%2C%2041.732339%5D%2C%20%5B-84.807042%2C%2041.694001%5D%2C%20%5B-84.807042%2C%2041.759724%5D%2C%20%5B-85.990061%2C%2041.759724%5D%2C%20%5B-86.822556%2C%2041.759724%5D%2C%20%5B-86.619909%2C%2041.891171%5D%2C%20%5B-86.482986%2C%2042.115725%5D%2C%20%5B-86.357016%2C%2042.252649%5D%2C%20%5B-86.263908%2C%2042.444341%5D%2C%20%5B-86.209139%2C%2042.718189%5D%2C%20%5B-86.231047%2C%2043.013943%5D%2C%20%5B-86.526801%2C%2043.594499%5D%2C%20%5B-86.433693%2C%2043.813577%5D%2C%20%5B-86.499417%2C%2044.07647%5D%2C%20%5B-86.269385%2C%2044.34484%5D%2C%20%5B-86.220093%2C%2044.569394%5D%2C%20%5B-86.252954%2C%2044.689887%5D%2C%20%5B-86.088646%2C%2044.73918%5D%2C%20%5B-86.066738%2C%2044.903488%5D%2C%20%5B-85.809322%2C%2044.947303%5D%2C%20%5B-85.612152%2C%2045.128042%5D%2C%20%5B-85.628583%2C%2044.766564%5D%2C%20%5B-85.524521%2C%2044.750133%5D%2C%20%5B-85.393075%2C%2044.930872%5D%2C%20%5B-85.387598%2C%2045.237581%5D%2C%20%5B-85.305444%2C%2045.314258%5D%2C%20%5B-85.031597%2C%2045.363551%5D%2C%20%5B-85.119228%2C%2045.577151%5D%2C%20%5B-84.938489%2C%2045.75789%5D%2C%20%5B-84.713934%2C%2045.768844%5D%2C%20%5B-84.461995%2C%2045.653829%5D%2C%20%5B-84.215533%2C%2045.637398%5D%2C%20%5B-84.09504%2C%2045.494997%5D%2C%20%5B-83.908824%2C%2045.484043%5D%2C%20%5B-83.596638%2C%2045.352597%5D%2C%20%5B-83.4871%2C%2045.358074%5D%2C%20%5B-83.317314%2C%2045.144473%5D%2C%20%5B-83.454238%2C%2045.029457%5D%2C%20%5B-83.322791%2C%2044.88158%5D%2C%20%5B-83.273499%2C%2044.711795%5D%2C%20%5B-83.333745%2C%2044.339363%5D%2C%20%5B-83.536392%2C%2044.246255%5D%2C%20%5B-83.585684%2C%2044.054562%5D%2C%20%5B-83.82667%2C%2043.988839%5D%2C%20%5B-83.958116%2C%2043.758807%5D%2C%20%5B-83.908824%2C%2043.671176%5D%2C%20%5B-83.667839%2C%2043.589022%5D%2C%20%5B-83.481623%2C%2043.714992%5D%2C%20%5B-83.262545%2C%2043.972408%5D%2C%20%5B-82.917498%2C%2044.070993%5D%2C%20%5B-82.747713%2C%2043.994316%5D%2C%20%5B-82.643651%2C%2043.851915%5D%2C%20%5B-82.539589%2C%2043.435668%5D%2C%20%5B-82.523158%2C%2043.227544%5D%2C%20%5B-82.413619%2C%2042.975605%5D%2C%20%5B-82.517681%2C%2042.614127%5D%2C%20%5B-82.681989%2C%2042.559357%5D%2C%20%5B-82.687466%2C%2042.690804%5D%2C%20%5B-82.797005%2C%2042.652465%5D%2C%20%5B-82.922975%2C%2042.351234%5D%2C%20%5B-83.125621%2C%2042.236218%5D%2C%20%5B-83.185868%2C%2042.006186%5D%2C%20%5B-83.437807%2C%2041.814493%5D%2C%20%5B-83.454238%2C%2041.732339%5D%5D%5D%2C%20%5B%5B%5B-85.508091%2C%2045.730506%5D%2C%20%5B-85.49166%2C%2045.610013%5D%2C%20%5B-85.623106%2C%2045.588105%5D%2C%20%5B-85.568337%2C%2045.75789%5D%2C%20%5B-85.508091%2C%2045.730506%5D%5D%5D%2C%20%5B%5B%5B-87.589328%2C%2045.095181%5D%2C%20%5B-87.742682%2C%2045.199243%5D%2C%20%5B-87.649574%2C%2045.341643%5D%2C%20%5B-87.885083%2C%2045.363551%5D%2C%20%5B-87.791975%2C%2045.500474%5D%2C%20%5B-87.781021%2C%2045.675736%5D%2C%20%5B-87.989145%2C%2045.796229%5D%2C%20%5B-88.10416%2C%2045.922199%5D%2C%20%5B-88.531362%2C%2046.020784%5D%2C%20%5B-88.662808%2C%2045.987922%5D%2C%20%5B-89.09001%2C%2046.135799%5D%2C%20%5B-90.119674%2C%2046.338446%5D%2C%20%5B-90.229213%2C%2046.508231%5D%2C%20%5B-90.415429%2C%2046.568478%5D%2C%20%5B-90.026566%2C%2046.672539%5D%2C%20%5B-89.851304%2C%2046.793032%5D%2C%20%5B-89.413149%2C%2046.842325%5D%2C%20%5B-89.128348%2C%2046.990202%5D%2C%20%5B-88.996902%2C%2046.995679%5D%2C%20%5B-88.887363%2C%2047.099741%5D%2C%20%5B-88.575177%2C%2047.247618%5D%2C%20%5B-88.416346%2C%2047.373588%5D%2C%20%5B-88.180837%2C%2047.455742%5D%2C%20%5B-87.956283%2C%2047.384542%5D%2C%20%5B-88.350623%2C%2047.077833%5D%2C%20%5B-88.443731%2C%2046.973771%5D%2C%20%5B-88.438254%2C%2046.787555%5D%2C%20%5B-88.246561%2C%2046.929956%5D%2C%20%5B-87.901513%2C%2046.908048%5D%2C%20%5B-87.633143%2C%2046.809463%5D%2C%20%5B-87.392158%2C%2046.535616%5D%2C%20%5B-87.260711%2C%2046.486323%5D%2C%20%5B-87.008772%2C%2046.530139%5D%2C%20%5B-86.948526%2C%2046.469893%5D%2C%20%5B-86.696587%2C%2046.437031%5D%2C%20%5B-86.159846%2C%2046.667063%5D%2C%20%5B-85.880522%2C%2046.68897%5D%2C%20%5B-85.508091%2C%2046.678016%5D%2C%20%5B-85.256151%2C%2046.754694%5D%2C%20%5B-85.064458%2C%2046.760171%5D%2C%20%5B-85.02612%2C%2046.480847%5D%2C%20%5B-84.82895%2C%2046.442508%5D%2C%20%5B-84.63178%2C%2046.486323%5D%2C%20%5B-84.549626%2C%2046.4206%5D%2C%20%5B-84.418179%2C%2046.502754%5D%2C%20%5B-84.127902%2C%2046.530139%5D%2C%20%5B-84.122425%2C%2046.179615%5D%2C%20%5B-83.990978%2C%2046.031737%5D%2C%20%5B-83.793808%2C%2045.993399%5D%2C%20%5B-83.7719%2C%2046.091984%5D%2C%20%5B-83.580208%2C%2046.091984%5D%2C%20%5B-83.476146%2C%2045.987922%5D%2C%20%5B-83.563777%2C%2045.911245%5D%2C%20%5B-84.111471%2C%2045.976968%5D%2C%20%5B-84.374364%2C%2045.933153%5D%2C%20%5B-84.659165%2C%2046.053645%5D%2C%20%5B-84.741319%2C%2045.944106%5D%2C%20%5B-84.70298%2C%2045.850998%5D%2C%20%5B-84.82895%2C%2045.872906%5D%2C%20%5B-85.015166%2C%2046.00983%5D%2C%20%5B-85.338305%2C%2046.091984%5D%2C%20%5B-85.502614%2C%2046.097461%5D%2C%20%5B-85.661445%2C%2045.966014%5D%2C%20%5B-85.924338%2C%2045.933153%5D%2C%20%5B-86.209139%2C%2045.960537%5D%2C%20%5B-86.324155%2C%2045.905768%5D%2C%20%5B-86.351539%2C%2045.796229%5D%2C%20%5B-86.663725%2C%2045.703121%5D%2C%20%5B-86.647294%2C%2045.834568%5D%2C%20%5B-86.784218%2C%2045.861952%5D%2C%20%5B-86.838987%2C%2045.725029%5D%2C%20%5B-87.069019%2C%2045.719552%5D%2C%20%5B-87.17308%2C%2045.659305%5D%2C%20%5B-87.326435%2C%2045.423797%5D%2C%20%5B-87.611236%2C%2045.122565%5D%2C%20%5B-87.589328%2C%2045.095181%5D%5D%5D%2C%20%5B%5B%5B-88.805209%2C%2047.976051%5D%2C%20%5B-89.057148%2C%2047.850082%5D%2C%20%5B-89.188594%2C%2047.833651%5D%2C%20%5B-89.177641%2C%2047.937713%5D%2C%20%5B-88.547792%2C%2048.173221%5D%2C%20%5B-88.668285%2C%2048.008913%5D%2C%20%5B-88.805209%2C%2047.976051%5D%5D%5D%5D%2C%20%22type%22%3A%20%22MultiPolygon%22%7D%2C%20%22id%22%3A%20%22MI%22%2C%20%22properties%22%3A%20%7B%22name%22%3A%20%22Michigan%22%7D%2C%20%22type%22%3A%20%22Feature%22%7D%2C%20%7B%22geometry%22%3A%20%7B%22coordinates%22%3A%20%5B%5B%5B-92.014696%2C%2046.705401%5D%2C%20%5B-92.091373%2C%2046.749217%5D%2C%20%5B-92.29402%2C%2046.667063%5D%2C%20%5B-92.29402%2C%2046.075553%5D%2C%20%5B-92.354266%2C%2046.015307%5D%2C%20%5B-92.639067%2C%2045.933153%5D%2C%20%5B-92.869098%2C%2045.719552%5D%2C%20%5B-92.885529%2C%2045.577151%5D%2C%20%5B-92.770513%2C%2045.566198%5D%2C%20%5B-92.644544%2C%2045.440228%5D%2C%20%5B-92.75956%2C%2045.286874%5D%2C%20%5B-92.737652%2C%2045.117088%5D%2C%20%5B-92.808852%2C%2044.750133%5D%2C%20%5B-92.545959%2C%2044.569394%5D%2C%20%5B-92.337835%2C%2044.552964%5D%2C%20%5B-92.233773%2C%2044.443425%5D%2C%20%5B-91.927065%2C%2044.333886%5D%2C%20%5B-91.877772%2C%2044.202439%5D%2C%20%5B-91.592971%2C%2044.032654%5D%2C%20%5B-91.43414%2C%2043.994316%5D%2C%20%5B-91.242447%2C%2043.775238%5D%2C%20%5B-91.269832%2C%2043.616407%5D%2C%20%5B-91.215062%2C%2043.501391%5D%2C%20%5B-91.368417%2C%2043.501391%5D%2C%20%5B-96.451017%2C%2043.501391%5D%2C%20%5B-96.451017%2C%2045.297827%5D%2C%20%5B-96.681049%2C%2045.412843%5D%2C%20%5B-96.856311%2C%2045.604536%5D%2C%20%5B-96.582464%2C%2045.818137%5D%2C%20%5B-96.560556%2C%2045.933153%5D%2C%20%5B-96.598895%2C%2046.332969%5D%2C%20%5B-96.719387%2C%2046.437031%5D%2C%20%5B-96.801542%2C%2046.656109%5D%2C%20%5B-96.785111%2C%2046.924479%5D%2C%20%5B-96.823449%2C%2046.968294%5D%2C%20%5B-96.856311%2C%2047.609096%5D%2C%20%5B-97.053481%2C%2047.948667%5D%2C%20%5B-97.130158%2C%2048.140359%5D%2C%20%5B-97.16302%2C%2048.545653%5D%2C%20%5B-97.097296%2C%2048.682577%5D%2C%20%5B-97.228743%2C%2049.000239%5D%2C%20%5B-95.152983%2C%2049.000239%5D%2C%20%5B-95.152983%2C%2049.383625%5D%2C%20%5B-94.955813%2C%2049.372671%5D%2C%20%5B-94.824366%2C%2049.295994%5D%2C%20%5B-94.69292%2C%2048.775685%5D%2C%20%5B-94.588858%2C%2048.715438%5D%2C%20%5B-94.260241%2C%2048.699007%5D%2C%20%5B-94.221903%2C%2048.649715%5D%2C%20%5B-93.838517%2C%2048.627807%5D%2C%20%5B-93.794701%2C%2048.518268%5D%2C%20%5B-93.466085%2C%2048.545653%5D%2C%20%5B-93.466085%2C%2048.589469%5D%2C%20%5B-93.208669%2C%2048.644238%5D%2C%20%5B-92.984114%2C%2048.62233%5D%2C%20%5B-92.726698%2C%2048.540176%5D%2C%20%5B-92.655498%2C%2048.436114%5D%2C%20%5B-92.50762%2C%2048.447068%5D%2C%20%5B-92.370697%2C%2048.222514%5D%2C%20%5B-92.304974%2C%2048.315622%5D%2C%20%5B-92.053034%2C%2048.359437%5D%2C%20%5B-92.009219%2C%2048.266329%5D%2C%20%5B-91.713464%2C%2048.200606%5D%2C%20%5B-91.713464%2C%2048.112975%5D%2C%20%5B-91.565587%2C%2048.041775%5D%2C%20%5B-91.264355%2C%2048.080113%5D%2C%20%5B-91.083616%2C%2048.178698%5D%2C%20%5B-90.837154%2C%2048.238944%5D%2C%20%5B-90.749522%2C%2048.091067%5D%2C%20%5B-90.579737%2C%2048.123929%5D%2C%20%5B-90.377091%2C%2048.091067%5D%2C%20%5B-90.141582%2C%2048.112975%5D%2C%20%5B-89.873212%2C%2047.987005%5D%2C%20%5B-89.615796%2C%2048.008913%5D%2C%20%5B-89.637704%2C%2047.954144%5D%2C%20%5B-89.971797%2C%2047.828174%5D%2C%20%5B-90.437337%2C%2047.729589%5D%2C%20%5B-90.738569%2C%2047.625527%5D%2C%20%5B-91.171247%2C%2047.368111%5D%2C%20%5B-91.357463%2C%2047.20928%5D%2C%20%5B-91.642264%2C%2047.028541%5D%2C%20%5B-92.091373%2C%2046.787555%5D%2C%20%5B-92.014696%2C%2046.705401%5D%5D%5D%2C%20%22type%22%3A%20%22Polygon%22%7D%2C%20%22id%22%3A%20%22MN%22%2C%20%22properties%22%3A%20%7B%22name%22%3A%20%22Minnesota%22%7D%2C%20%22type%22%3A%20%22Feature%22%7D%2C%20%7B%22geometry%22%3A%20%7B%22coordinates%22%3A%20%5B%5B%5B-88.471115%2C%2034.995703%5D%2C%20%5B-88.202745%2C%2034.995703%5D%2C%20%5B-88.098683%2C%2034.891641%5D%2C%20%5B-88.241084%2C%2033.796253%5D%2C%20%5B-88.471115%2C%2031.895754%5D%2C%20%5B-88.394438%2C%2030.367688%5D%2C%20%5B-88.503977%2C%2030.323872%5D%2C%20%5B-88.744962%2C%2030.34578%5D%2C%20%5B-88.843547%2C%2030.411504%5D%2C%20%5B-89.084533%2C%2030.367688%5D%2C%20%5B-89.418626%2C%2030.252672%5D%2C%20%5B-89.522688%2C%2030.181472%5D%2C%20%5B-89.643181%2C%2030.285534%5D%2C%20%5B-89.681519%2C%2030.449842%5D%2C%20%5B-89.845827%2C%2030.66892%5D%2C%20%5B-89.747242%2C%2030.997536%5D%2C%20%5B-91.636787%2C%2030.997536%5D%2C%20%5B-91.565587%2C%2031.068736%5D%2C%20%5B-91.636787%2C%2031.265906%5D%2C%20%5B-91.516294%2C%2031.27686%5D%2C%20%5B-91.499863%2C%2031.643815%5D%2C%20%5B-91.401278%2C%2031.621907%5D%2C%20%5B-91.341032%2C%2031.846462%5D%2C%20%5B-91.105524%2C%2031.988862%5D%2C%20%5B-90.985031%2C%2032.218894%5D%2C%20%5B-91.006939%2C%2032.514649%5D%2C%20%5B-91.154816%2C%2032.640618%5D%2C%20%5B-91.143862%2C%2032.843265%5D%2C%20%5B-91.072662%2C%2032.887081%5D%2C%20%5B-91.16577%2C%2033.002096%5D%2C%20%5B-91.089093%2C%2033.13902%5D%2C%20%5B-91.143862%2C%2033.347144%5D%2C%20%5B-91.056231%2C%2033.429298%5D%2C%20%5B-91.231493%2C%2033.560744%5D%2C%20%5B-91.072662%2C%2033.867453%5D%2C%20%5B-90.891923%2C%2034.026284%5D%2C%20%5B-90.952169%2C%2034.135823%5D%2C%20%5B-90.744046%2C%2034.300131%5D%2C%20%5B-90.749522%2C%2034.365854%5D%2C%20%5B-90.568783%2C%2034.420624%5D%2C%20%5B-90.585214%2C%2034.617794%5D%2C%20%5B-90.481152%2C%2034.661609%5D%2C%20%5B-90.409952%2C%2034.831394%5D%2C%20%5B-90.251121%2C%2034.908072%5D%2C%20%5B-90.311367%2C%2034.995703%5D%2C%20%5B-88.471115%2C%2034.995703%5D%5D%5D%2C%20%22type%22%3A%20%22Polygon%22%7D%2C%20%22id%22%3A%20%22MS%22%2C%20%22properties%22%3A%20%7B%22name%22%3A%20%22Mississippi%22%7D%2C%20%22type%22%3A%20%22Feature%22%7D%2C%20%7B%22geometry%22%3A%20%7B%22coordinates%22%3A%20%5B%5B%5B-91.833957%2C%2040.609566%5D%2C%20%5B-91.729895%2C%2040.615043%5D%2C%20%5B-91.527248%2C%2040.412397%5D%2C%20%5B-91.417709%2C%2040.379535%5D%2C%20%5B-91.50534%2C%2040.237135%5D%2C%20%5B-91.494386%2C%2040.034488%5D%2C%20%5B-91.368417%2C%2039.727779%5D%2C%20%5B-91.061708%2C%2039.470363%5D%2C%20%5B-90.727615%2C%2039.256762%5D%2C%20%5B-90.661891%2C%2038.928146%5D%2C%20%5B-90.585214%2C%2038.867899%5D%2C%20%5B-90.470199%2C%2038.961007%5D%2C%20%5B-90.251121%2C%2038.917192%5D%2C%20%5B-90.10872%2C%2038.845992%5D%2C%20%5B-90.207305%2C%2038.725499%5D%2C%20%5B-90.179921%2C%2038.632391%5D%2C%20%5B-90.349706%2C%2038.374975%5D%2C%20%5B-90.355183%2C%2038.216144%5D%2C%20%5B-90.059428%2C%2038.013497%5D%2C%20%5B-89.949889%2C%2037.88205%5D%2C%20%5B-89.84035%2C%2037.903958%5D%2C%20%5B-89.517211%2C%2037.690357%5D%2C%20%5B-89.517211%2C%2037.537003%5D%2C%20%5B-89.435057%2C%2037.34531%5D%2C%20%5B-89.517211%2C%2037.279587%5D%2C%20%5B-89.292656%2C%2036.994786%5D%2C%20%5B-89.133825%2C%2036.983832%5D%2C%20%5B-89.215979%2C%2036.578538%5D%2C%20%5B-89.363857%2C%2036.622354%5D%2C%20%5B-89.418626%2C%2036.496384%5D%2C%20%5B-89.484349%2C%2036.496384%5D%2C%20%5B-89.539119%2C%2036.496384%5D%2C%20%5B-89.533642%2C%2036.249922%5D%2C%20%5B-89.730812%2C%2035.997983%5D%2C%20%5B-90.377091%2C%2035.997983%5D%2C%20%5B-90.218259%2C%2036.184199%5D%2C%20%5B-90.064905%2C%2036.304691%5D%2C%20%5B-90.152536%2C%2036.496384%5D%2C%20%5B-94.473842%2C%2036.501861%5D%2C%20%5B-94.616242%2C%2036.501861%5D%2C%20%5B-94.616242%2C%2037.000263%5D%2C%20%5B-94.610765%2C%2039.158177%5D%2C%20%5B-94.824366%2C%2039.20747%5D%2C%20%5B-94.983197%2C%2039.442978%5D%2C%20%5B-95.109167%2C%2039.541563%5D%2C%20%5B-94.884612%2C%2039.831841%5D%2C%20%5B-95.207752%2C%2039.908518%5D%2C%20%5B-95.306337%2C%2040.001626%5D%2C%20%5B-95.552799%2C%2040.264519%5D%2C%20%5B-95.7664%2C%2040.587659%5D%2C%20%5B-94.632673%2C%2040.571228%5D%2C%20%5B-93.257961%2C%2040.582182%5D%2C%20%5B-91.833957%2C%2040.609566%5D%5D%5D%2C%20%22type%22%3A%20%22Polygon%22%7D%2C%20%22id%22%3A%20%22MO%22%2C%20%22properties%22%3A%20%7B%22name%22%3A%20%22Missouri%22%7D%2C%20%22type%22%3A%20%22Feature%22%7D%2C%20%7B%22geometry%22%3A%20%7B%22coordinates%22%3A%20%5B%5B%5B-104.047534%2C%2049.000239%5D%2C%20%5B-104.042057%2C%2047.861036%5D%2C%20%5B-104.047534%2C%2045.944106%5D%2C%20%5B-104.042057%2C%2044.996596%5D%2C%20%5B-104.058488%2C%2044.996596%5D%2C%20%5B-105.91517%2C%2045.002073%5D%2C%20%5B-109.080842%2C%2045.002073%5D%2C%20%5B-111.05254%2C%2045.002073%5D%2C%20%5B-111.047063%2C%2044.476286%5D%2C%20%5B-111.227803%2C%2044.580348%5D%2C%20%5B-111.386634%2C%2044.75561%5D%2C%20%5B-111.616665%2C%2044.547487%5D%2C%20%5B-111.819312%2C%2044.509148%5D%2C%20%5B-111.868605%2C%2044.563917%5D%2C%20%5B-112.104113%2C%2044.520102%5D%2C%20%5B-112.241036%2C%2044.569394%5D%2C%20%5B-112.471068%2C%2044.481763%5D%2C%20%5B-112.783254%2C%2044.48724%5D%2C%20%5B-112.887315%2C%2044.394132%5D%2C%20%5B-113.002331%2C%2044.448902%5D%2C%20%5B-113.133778%2C%2044.772041%5D%2C%20%5B-113.341901%2C%2044.782995%5D%2C%20%5B-113.456917%2C%2044.865149%5D%2C%20%5B-113.45144%2C%2045.056842%5D%2C%20%5B-113.571933%2C%2045.128042%5D%2C%20%5B-113.736241%2C%2045.330689%5D%2C%20%5B-113.834826%2C%2045.522382%5D%2C%20%5B-113.807441%2C%2045.604536%5D%2C%20%5B-113.98818%2C%2045.703121%5D%2C%20%5B-114.086765%2C%2045.593582%5D%2C%20%5B-114.333228%2C%2045.456659%5D%2C%20%5B-114.546828%2C%2045.560721%5D%2C%20%5B-114.497536%2C%2045.670259%5D%2C%20%5B-114.568736%2C%2045.774321%5D%2C%20%5B-114.387997%2C%2045.88386%5D%2C%20%5B-114.492059%2C%2046.037214%5D%2C%20%5B-114.464674%2C%2046.272723%5D%2C%20%5B-114.322274%2C%2046.645155%5D%2C%20%5B-114.612552%2C%2046.639678%5D%2C%20%5B-114.623506%2C%2046.705401%5D%2C%20%5B-114.886399%2C%2046.809463%5D%2C%20%5B-114.930214%2C%2046.919002%5D%2C%20%5B-115.302646%2C%2047.187372%5D%2C%20%5B-115.324554%2C%2047.258572%5D%2C%20%5B-115.527201%2C%2047.302388%5D%2C%20%5B-115.718894%2C%2047.42288%5D%2C%20%5B-115.724371%2C%2047.696727%5D%2C%20%5B-116.04751%2C%2047.976051%5D%2C%20%5B-116.04751%2C%2049.000239%5D%2C%20%5B-111.50165%2C%2048.994762%5D%2C%20%5B-109.453274%2C%2049.000239%5D%2C%20%5B-104.047534%2C%2049.000239%5D%5D%5D%2C%20%22type%22%3A%20%22Polygon%22%7D%2C%20%22id%22%3A%20%22MT%22%2C%20%22properties%22%3A%20%7B%22name%22%3A%20%22Montana%22%7D%2C%20%22type%22%3A%20%22Feature%22%7D%2C%20%7B%22geometry%22%3A%20%7B%22coordinates%22%3A%20%5B%5B%5B-103.324578%2C%2043.002989%5D%2C%20%5B-101.626726%2C%2042.997512%5D%2C%20%5B-98.499393%2C%2042.997512%5D%2C%20%5B-98.466531%2C%2042.94822%5D%2C%20%5B-97.951699%2C%2042.767481%5D%2C%20%5B-97.831206%2C%2042.866066%5D%2C%20%5B-97.688806%2C%2042.844158%5D%2C%20%5B-97.217789%2C%2042.844158%5D%2C%20%5B-96.692003%2C%2042.657942%5D%2C%20%5B-96.626279%2C%2042.515542%5D%2C%20%5B-96.44554%2C%2042.488157%5D%2C%20%5B-96.264801%2C%2042.039048%5D%2C%20%5B-96.127878%2C%2041.973325%5D%2C%20%5B-96.062155%2C%2041.798063%5D%2C%20%5B-96.122401%2C%2041.67757%5D%2C%20%5B-96.095016%2C%2041.540646%5D%2C%20%5B-95.919754%2C%2041.453015%5D%2C%20%5B-95.925231%2C%2041.201076%5D%2C%20%5B-95.826646%2C%2040.976521%5D%2C%20%5B-95.881416%2C%2040.719105%5D%2C%20%5B-95.7664%2C%2040.587659%5D%2C%20%5B-95.552799%2C%2040.264519%5D%2C%20%5B-95.306337%2C%2040.001626%5D%2C%20%5B-101.90605%2C%2040.001626%5D%2C%20%5B-102.053927%2C%2040.001626%5D%2C%20%5B-102.053927%2C%2041.003906%5D%2C%20%5B-104.053011%2C%2041.003906%5D%2C%20%5B-104.053011%2C%2043.002989%5D%2C%20%5B-103.324578%2C%2043.002989%5D%5D%5D%2C%20%22type%22%3A%20%22Polygon%22%7D%2C%20%22id%22%3A%20%22NE%22%2C%20%22properties%22%3A%20%7B%22name%22%3A%20%22Nebraska%22%7D%2C%20%22type%22%3A%20%22Feature%22%7D%2C%20%7B%22geometry%22%3A%20%7B%22coordinates%22%3A%20%5B%5B%5B-117.027882%2C%2042.000709%5D%2C%20%5B-114.04295%2C%2041.995232%5D%2C%20%5B-114.048427%2C%2037.000263%5D%2C%20%5B-114.048427%2C%2036.195153%5D%2C%20%5B-114.152489%2C%2036.025367%5D%2C%20%5B-114.251074%2C%2036.01989%5D%2C%20%5B-114.371566%2C%2036.140383%5D%2C%20%5B-114.738521%2C%2036.102045%5D%2C%20%5B-114.678275%2C%2035.516012%5D%2C%20%5B-114.596121%2C%2035.324319%5D%2C%20%5B-114.574213%2C%2035.138103%5D%2C%20%5B-114.634459%2C%2035.00118%5D%2C%20%5B-115.85034%2C%2035.970598%5D%2C%20%5B-116.540435%2C%2036.501861%5D%2C%20%5B-117.498899%2C%2037.21934%5D%2C%20%5B-118.71478%2C%2038.101128%5D%2C%20%5B-120.001861%2C%2038.999346%5D%2C%20%5B-119.996384%2C%2040.264519%5D%2C%20%5B-120.001861%2C%2041.995232%5D%2C%20%5B-118.698349%2C%2041.989755%5D%2C%20%5B-117.027882%2C%2042.000709%5D%5D%5D%2C%20%22type%22%3A%20%22Polygon%22%7D%2C%20%22id%22%3A%20%22NV%22%2C%20%22properties%22%3A%20%7B%22name%22%3A%20%22Nevada%22%7D%2C%20%22type%22%3A%20%22Feature%22%7D%2C%20%7B%22geometry%22%3A%20%7B%22coordinates%22%3A%20%5B%5B%5B-71.08183%2C%2045.303304%5D%2C%20%5B-71.032537%2C%2044.657025%5D%2C%20%5B-70.966814%2C%2043.34256%5D%2C%20%5B-70.807983%2C%2043.227544%5D%2C%20%5B-70.824413%2C%2043.128959%5D%2C%20%5B-70.703921%2C%2043.057759%5D%2C%20%5B-70.818936%2C%2042.871543%5D%2C%20%5B-70.917521%2C%2042.887974%5D%2C%20%5B-71.185891%2C%2042.789389%5D%2C%20%5B-71.29543%2C%2042.696281%5D%2C%20%5B-72.456542%2C%2042.729142%5D%2C%20%5B-72.544173%2C%2042.80582%5D%2C%20%5B-72.533219%2C%2042.953697%5D%2C%20%5B-72.445588%2C%2043.008466%5D%2C%20%5B-72.456542%2C%2043.150867%5D%2C%20%5B-72.379864%2C%2043.572591%5D%2C%20%5B-72.204602%2C%2043.769761%5D%2C%20%5B-72.116971%2C%2043.994316%5D%2C%20%5B-72.02934%2C%2044.07647%5D%2C%20%5B-72.034817%2C%2044.322932%5D%2C%20%5B-71.700724%2C%2044.41604%5D%2C%20%5B-71.536416%2C%2044.585825%5D%2C%20%5B-71.629524%2C%2044.750133%5D%2C%20%5B-71.4926%2C%2044.914442%5D%2C%20%5B-71.503554%2C%2045.013027%5D%2C%20%5B-71.361154%2C%2045.270443%5D%2C%20%5B-71.131122%2C%2045.243058%5D%2C%20%5B-71.08183%2C%2045.303304%5D%5D%5D%2C%20%22type%22%3A%20%22Polygon%22%7D%2C%20%22id%22%3A%20%22NH%22%2C%20%22properties%22%3A%20%7B%22name%22%3A%20%22New%20Hampshire%22%7D%2C%20%22type%22%3A%20%22Feature%22%7D%2C%20%7B%22geometry%22%3A%20%7B%22coordinates%22%3A%20%5B%5B%5B-74.236547%2C%2041.14083%5D%2C%20%5B-73.902454%2C%2040.998429%5D%2C%20%5B-74.022947%2C%2040.708151%5D%2C%20%5B-74.187255%2C%2040.642428%5D%2C%20%5B-74.274886%2C%2040.489074%5D%2C%20%5B-74.001039%2C%2040.412397%5D%2C%20%5B-73.979131%2C%2040.297381%5D%2C%20%5B-74.099624%2C%2039.760641%5D%2C%20%5B-74.411809%2C%2039.360824%5D%2C%20%5B-74.614456%2C%2039.245808%5D%2C%20%5B-74.795195%2C%2038.993869%5D%2C%20%5B-74.888303%2C%2039.158177%5D%2C%20%5B-75.178581%2C%2039.240331%5D%2C%20%5B-75.534582%2C%2039.459409%5D%2C%20%5B-75.55649%2C%2039.607286%5D%2C%20%5B-75.561967%2C%2039.629194%5D%2C%20%5B-75.507197%2C%2039.683964%5D%2C%20%5B-75.414089%2C%2039.804456%5D%2C%20%5B-75.145719%2C%2039.88661%5D%2C%20%5B-75.129289%2C%2039.963288%5D%2C%20%5B-74.82258%2C%2040.127596%5D%2C%20%5B-74.773287%2C%2040.215227%5D%2C%20%5B-75.058088%2C%2040.417874%5D%2C%20%5B-75.069042%2C%2040.543843%5D%2C%20%5B-75.195012%2C%2040.576705%5D%2C%20%5B-75.205966%2C%2040.691721%5D%2C%20%5B-75.052611%2C%2040.866983%5D%2C%20%5B-75.134765%2C%2040.971045%5D%2C%20%5B-74.882826%2C%2041.179168%5D%2C%20%5B-74.828057%2C%2041.288707%5D%2C%20%5B-74.69661%2C%2041.359907%5D%2C%20%5B-74.236547%2C%2041.14083%5D%5D%5D%2C%20%22type%22%3A%20%22Polygon%22%7D%2C%20%22id%22%3A%20%22NJ%22%2C%20%22properties%22%3A%20%7B%22name%22%3A%20%22New%20Jersey%22%7D%2C%20%22type%22%3A%20%22Feature%22%7D%2C%20%7B%22geometry%22%3A%20%7B%22coordinates%22%3A%20%5B%5B%5B-107.421329%2C%2037.000263%5D%2C%20%5B-106.868158%2C%2036.994786%5D%2C%20%5B-104.337812%2C%2036.994786%5D%2C%20%5B-103.001438%2C%2037.000263%5D%2C%20%5B-103.001438%2C%2036.501861%5D%2C%20%5B-103.039777%2C%2036.501861%5D%2C%20%5B-103.045254%2C%2034.01533%5D%2C%20%5B-103.067161%2C%2033.002096%5D%2C%20%5B-103.067161%2C%2031.999816%5D%2C%20%5B-106.616219%2C%2031.999816%5D%2C%20%5B-106.643603%2C%2031.901231%5D%2C%20%5B-106.528588%2C%2031.786216%5D%2C%20%5B-108.210008%2C%2031.786216%5D%2C%20%5B-108.210008%2C%2031.331629%5D%2C%20%5B-109.04798%2C%2031.331629%5D%2C%20%5B-109.042503%2C%2037.000263%5D%2C%20%5B-107.421329%2C%2037.000263%5D%5D%5D%2C%20%22type%22%3A%20%22Polygon%22%7D%2C%20%22id%22%3A%20%22NM%22%2C%20%22properties%22%3A%20%7B%22name%22%3A%20%22New%20Mexico%22%7D%2C%20%22type%22%3A%20%22Feature%22%7D%2C%20%7B%22geometry%22%3A%20%7B%22coordinates%22%3A%20%5B%5B%5B-73.343806%2C%2045.013027%5D%2C%20%5B-73.332852%2C%2044.804903%5D%2C%20%5B-73.387622%2C%2044.618687%5D%2C%20%5B-73.294514%2C%2044.437948%5D%2C%20%5B-73.321898%2C%2044.246255%5D%2C%20%5B-73.436914%2C%2044.043608%5D%2C%20%5B-73.349283%2C%2043.769761%5D%2C%20%5B-73.404052%2C%2043.687607%5D%2C%20%5B-73.245221%2C%2043.523299%5D%2C%20%5B-73.278083%2C%2042.833204%5D%2C%20%5B-73.267129%2C%2042.745573%5D%2C%20%5B-73.508114%2C%2042.08834%5D%2C%20%5B-73.486206%2C%2042.050002%5D%2C%20%5B-73.55193%2C%2041.294184%5D%2C%20%5B-73.48073%2C%2041.21203%5D%2C%20%5B-73.727192%2C%2041.102491%5D%2C%20%5B-73.655992%2C%2040.987475%5D%2C%20%5B-73.22879%2C%2040.905321%5D%2C%20%5B-73.141159%2C%2040.965568%5D%2C%20%5B-72.774204%2C%2040.965568%5D%2C%20%5B-72.587988%2C%2040.998429%5D%2C%20%5B-72.28128%2C%2041.157261%5D%2C%20%5B-72.259372%2C%2041.042245%5D%2C%20%5B-72.100541%2C%2040.992952%5D%2C%20%5B-72.467496%2C%2040.845075%5D%2C%20%5B-73.239744%2C%2040.625997%5D%2C%20%5B-73.562884%2C%2040.582182%5D%2C%20%5B-73.776484%2C%2040.593136%5D%2C%20%5B-73.935316%2C%2040.543843%5D%2C%20%5B-74.022947%2C%2040.708151%5D%2C%20%5B-73.902454%2C%2040.998429%5D%2C%20%5B-74.236547%2C%2041.14083%5D%2C%20%5B-74.69661%2C%2041.359907%5D%2C%20%5B-74.740426%2C%2041.431108%5D%2C%20%5B-74.89378%2C%2041.436584%5D%2C%20%5B-75.074519%2C%2041.60637%5D%2C%20%5B-75.052611%2C%2041.754247%5D%2C%20%5B-75.173104%2C%2041.869263%5D%2C%20%5B-75.249781%2C%2041.863786%5D%2C%20%5B-75.35932%2C%2042.000709%5D%2C%20%5B-79.76278%2C%2042.000709%5D%2C%20%5B-79.76278%2C%2042.252649%5D%2C%20%5B-79.76278%2C%2042.269079%5D%2C%20%5B-79.149363%2C%2042.55388%5D%2C%20%5B-79.050778%2C%2042.690804%5D%2C%20%5B-78.853608%2C%2042.783912%5D%2C%20%5B-78.930285%2C%2042.953697%5D%2C%20%5B-79.012439%2C%2042.986559%5D%2C%20%5B-79.072686%2C%2043.260406%5D%2C%20%5B-78.486653%2C%2043.375421%5D%2C%20%5B-77.966344%2C%2043.369944%5D%2C%20%5B-77.75822%2C%2043.34256%5D%2C%20%5B-77.533665%2C%2043.233021%5D%2C%20%5B-77.391265%2C%2043.276836%5D%2C%20%5B-76.958587%2C%2043.271359%5D%2C%20%5B-76.695693%2C%2043.34256%5D%2C%20%5B-76.41637%2C%2043.523299%5D%2C%20%5B-76.235631%2C%2043.528776%5D%2C%20%5B-76.230154%2C%2043.802623%5D%2C%20%5B-76.137046%2C%2043.961454%5D%2C%20%5B-76.3616%2C%2044.070993%5D%2C%20%5B-76.312308%2C%2044.196962%5D%2C%20%5B-75.912491%2C%2044.366748%5D%2C%20%5B-75.764614%2C%2044.514625%5D%2C%20%5B-75.282643%2C%2044.848718%5D%2C%20%5B-74.828057%2C%2045.018503%5D%2C%20%5B-74.148916%2C%2044.991119%5D%2C%20%5B-73.343806%2C%2045.013027%5D%5D%5D%2C%20%22type%22%3A%20%22Polygon%22%7D%2C%20%22id%22%3A%20%22NY%22%2C%20%22properties%22%3A%20%7B%22name%22%3A%20%22New%20York%22%7D%2C%20%22type%22%3A%20%22Feature%22%7D%2C%20%7B%22geometry%22%3A%20%7B%22coordinates%22%3A%20%5B%5B%5B-80.978661%2C%2036.562108%5D%2C%20%5B-80.294043%2C%2036.545677%5D%2C%20%5B-79.510841%2C%2036.5402%5D%2C%20%5B-75.868676%2C%2036.551154%5D%2C%20%5B-75.75366%2C%2036.151337%5D%2C%20%5B-76.032984%2C%2036.189676%5D%2C%20%5B-76.071322%2C%2036.140383%5D%2C%20%5B-76.410893%2C%2036.080137%5D%2C%20%5B-76.460185%2C%2036.025367%5D%2C%20%5B-76.68474%2C%2036.008937%5D%2C%20%5B-76.673786%2C%2035.937736%5D%2C%20%5B-76.399939%2C%2035.987029%5D%2C%20%5B-76.3616%2C%2035.943213%5D%2C%20%5B-76.060368%2C%2035.992506%5D%2C%20%5B-75.961783%2C%2035.899398%5D%2C%20%5B-75.781044%2C%2035.937736%5D%2C%20%5B-75.715321%2C%2035.696751%5D%2C%20%5B-75.775568%2C%2035.581735%5D%2C%20%5B-75.89606%2C%2035.570781%5D%2C%20%5B-76.147999%2C%2035.324319%5D%2C%20%5B-76.482093%2C%2035.313365%5D%2C%20%5B-76.536862%2C%2035.14358%5D%2C%20%5B-76.394462%2C%2034.973795%5D%2C%20%5B-76.279446%2C%2034.940933%5D%2C%20%5B-76.493047%2C%2034.661609%5D%2C%20%5B-76.673786%2C%2034.694471%5D%2C%20%5B-76.991448%2C%2034.667086%5D%2C%20%5B-77.210526%2C%2034.60684%5D%2C%20%5B-77.555573%2C%2034.415147%5D%2C%20%5B-77.82942%2C%2034.163208%5D%2C%20%5B-77.971821%2C%2033.845545%5D%2C%20%5B-78.179944%2C%2033.916745%5D%2C%20%5B-78.541422%2C%2033.851022%5D%2C%20%5B-79.675149%2C%2034.80401%5D%2C%20%5B-80.797922%2C%2034.820441%5D%2C%20%5B-80.781491%2C%2034.935456%5D%2C%20%5B-80.934845%2C%2035.105241%5D%2C%20%5B-81.038907%2C%2035.044995%5D%2C%20%5B-81.044384%2C%2035.149057%5D%2C%20%5B-82.276696%2C%2035.198349%5D%2C%20%5B-82.550543%2C%2035.160011%5D%2C%20%5B-82.764143%2C%2035.066903%5D%2C%20%5B-83.109191%2C%2035.00118%5D%2C%20%5B-83.618546%2C%2034.984749%5D%2C%20%5B-84.319594%2C%2034.990226%5D%2C%20%5B-84.29221%2C%2035.225734%5D%2C%20%5B-84.09504%2C%2035.247642%5D%2C%20%5B-84.018363%2C%2035.41195%5D%2C%20%5B-83.7719%2C%2035.559827%5D%2C%20%5B-83.498053%2C%2035.565304%5D%2C%20%5B-83.251591%2C%2035.718659%5D%2C%20%5B-82.994175%2C%2035.773428%5D%2C%20%5B-82.775097%2C%2035.997983%5D%2C%20%5B-82.638174%2C%2036.063706%5D%2C%20%5B-82.610789%2C%2035.965121%5D%2C%20%5B-82.216449%2C%2036.156814%5D%2C%20%5B-82.03571%2C%2036.118475%5D%2C%20%5B-81.909741%2C%2036.304691%5D%2C%20%5B-81.723525%2C%2036.353984%5D%2C%20%5B-81.679709%2C%2036.589492%5D%2C%20%5B-80.978661%2C%2036.562108%5D%5D%5D%2C%20%22type%22%3A%20%22Polygon%22%7D%2C%20%22id%22%3A%20%22NC%22%2C%20%22properties%22%3A%20%7B%22name%22%3A%20%22North%20Carolina%22%7D%2C%20%22type%22%3A%20%22Feature%22%7D%2C%20%7B%22geometry%22%3A%20%7B%22coordinates%22%3A%20%5B%5B%5B-97.228743%2C%2049.000239%5D%2C%20%5B-97.097296%2C%2048.682577%5D%2C%20%5B-97.16302%2C%2048.545653%5D%2C%20%5B-97.130158%2C%2048.140359%5D%2C%20%5B-97.053481%2C%2047.948667%5D%2C%20%5B-96.856311%2C%2047.609096%5D%2C%20%5B-96.823449%2C%2046.968294%5D%2C%20%5B-96.785111%2C%2046.924479%5D%2C%20%5B-96.801542%2C%2046.656109%5D%2C%20%5B-96.719387%2C%2046.437031%5D%2C%20%5B-96.598895%2C%2046.332969%5D%2C%20%5B-96.560556%2C%2045.933153%5D%2C%20%5B-104.047534%2C%2045.944106%5D%2C%20%5B-104.042057%2C%2047.861036%5D%2C%20%5B-104.047534%2C%2049.000239%5D%2C%20%5B-97.228743%2C%2049.000239%5D%5D%5D%2C%20%22type%22%3A%20%22Polygon%22%7D%2C%20%22id%22%3A%20%22ND%22%2C%20%22properties%22%3A%20%7B%22name%22%3A%20%22North%20Dakota%22%7D%2C%20%22type%22%3A%20%22Feature%22%7D%2C%20%7B%22geometry%22%3A%20%7B%22coordinates%22%3A%20%5B%5B%5B-80.518598%2C%2041.978802%5D%2C%20%5B-80.518598%2C%2040.636951%5D%2C%20%5B-80.666475%2C%2040.582182%5D%2C%20%5B-80.595275%2C%2040.472643%5D%2C%20%5B-80.600752%2C%2040.319289%5D%2C%20%5B-80.737675%2C%2040.078303%5D%2C%20%5B-80.830783%2C%2039.711348%5D%2C%20%5B-81.219646%2C%2039.388209%5D%2C%20%5B-81.345616%2C%2039.344393%5D%2C%20%5B-81.455155%2C%2039.410117%5D%2C%20%5B-81.57017%2C%2039.267716%5D%2C%20%5B-81.685186%2C%2039.273193%5D%2C%20%5B-81.811156%2C%2039.0815%5D%2C%20%5B-81.783771%2C%2038.966484%5D%2C%20%5B-81.887833%2C%2038.873376%5D%2C%20%5B-82.03571%2C%2039.026731%5D%2C%20%5B-82.221926%2C%2038.785745%5D%2C%20%5B-82.172634%2C%2038.632391%5D%2C%20%5B-82.293127%2C%2038.577622%5D%2C%20%5B-82.331465%2C%2038.446175%5D%2C%20%5B-82.594358%2C%2038.424267%5D%2C%20%5B-82.731282%2C%2038.561191%5D%2C%20%5B-82.846298%2C%2038.588575%5D%2C%20%5B-82.890113%2C%2038.758361%5D%2C%20%5B-83.032514%2C%2038.725499%5D%2C%20%5B-83.142052%2C%2038.626914%5D%2C%20%5B-83.519961%2C%2038.703591%5D%2C%20%5B-83.678792%2C%2038.632391%5D%2C%20%5B-83.903347%2C%2038.769315%5D%2C%20%5B-84.215533%2C%2038.807653%5D%2C%20%5B-84.231963%2C%2038.895284%5D%2C%20%5B-84.43461%2C%2039.103408%5D%2C%20%5B-84.817996%2C%2039.103408%5D%2C%20%5B-84.801565%2C%2040.500028%5D%2C%20%5B-84.807042%2C%2041.694001%5D%2C%20%5B-83.454238%2C%2041.732339%5D%2C%20%5B-83.065375%2C%2041.595416%5D%2C%20%5B-82.933929%2C%2041.513262%5D%2C%20%5B-82.835344%2C%2041.589939%5D%2C%20%5B-82.616266%2C%2041.431108%5D%2C%20%5B-82.479343%2C%2041.381815%5D%2C%20%5B-82.013803%2C%2041.513262%5D%2C%20%5B-81.739956%2C%2041.485877%5D%2C%20%5B-81.444201%2C%2041.672093%5D%2C%20%5B-81.011523%2C%2041.852832%5D%2C%20%5B-80.518598%2C%2041.978802%5D%2C%20%5B-80.518598%2C%2041.978802%5D%5D%5D%2C%20%22type%22%3A%20%22Polygon%22%7D%2C%20%22id%22%3A%20%22OH%22%2C%20%22properties%22%3A%20%7B%22name%22%3A%20%22Ohio%22%7D%2C%20%22type%22%3A%20%22Feature%22%7D%2C%20%7B%22geometry%22%3A%20%7B%22coordinates%22%3A%20%5B%5B%5B-100.087706%2C%2037.000263%5D%2C%20%5B-94.616242%2C%2037.000263%5D%2C%20%5B-94.616242%2C%2036.501861%5D%2C%20%5B-94.430026%2C%2035.395519%5D%2C%20%5B-94.484796%2C%2033.637421%5D%2C%20%5B-94.868182%2C%2033.74696%5D%2C%20%5B-94.966767%2C%2033.861976%5D%2C%20%5B-95.224183%2C%2033.960561%5D%2C%20%5B-95.289906%2C%2033.87293%5D%2C%20%5B-95.547322%2C%2033.878407%5D%2C%20%5B-95.602092%2C%2033.933176%5D%2C%20%5B-95.8376%2C%2033.834591%5D%2C%20%5B-95.936185%2C%2033.889361%5D%2C%20%5B-96.149786%2C%2033.840068%5D%2C%20%5B-96.346956%2C%2033.686714%5D%2C%20%5B-96.423633%2C%2033.774345%5D%2C%20%5B-96.631756%2C%2033.845545%5D%2C%20%5B-96.850834%2C%2033.845545%5D%2C%20%5B-96.922034%2C%2033.960561%5D%2C%20%5B-97.173974%2C%2033.736006%5D%2C%20%5B-97.256128%2C%2033.861976%5D%2C%20%5B-97.371143%2C%2033.823637%5D%2C%20%5B-97.458774%2C%2033.905791%5D%2C%20%5B-97.694283%2C%2033.982469%5D%2C%20%5B-97.869545%2C%2033.851022%5D%2C%20%5B-97.946222%2C%2033.987946%5D%2C%20%5B-98.088623%2C%2034.004376%5D%2C%20%5B-98.170777%2C%2034.113915%5D%2C%20%5B-98.36247%2C%2034.157731%5D%2C%20%5B-98.488439%2C%2034.064623%5D%2C%20%5B-98.570593%2C%2034.146777%5D%2C%20%5B-98.767763%2C%2034.135823%5D%2C%20%5B-98.986841%2C%2034.223454%5D%2C%20%5B-99.189488%2C%2034.2125%5D%2C%20%5B-99.260688%2C%2034.404193%5D%2C%20%5B-99.57835%2C%2034.415147%5D%2C%20%5B-99.698843%2C%2034.382285%5D%2C%20%5B-99.923398%2C%2034.573978%5D%2C%20%5B-100.000075%2C%2034.563024%5D%2C%20%5B-100.000075%2C%2036.501861%5D%2C%20%5B-101.812942%2C%2036.501861%5D%2C%20%5B-103.001438%2C%2036.501861%5D%2C%20%5B-103.001438%2C%2037.000263%5D%2C%20%5B-102.042974%2C%2036.994786%5D%2C%20%5B-100.087706%2C%2037.000263%5D%5D%5D%2C%20%22type%22%3A%20%22Polygon%22%7D%2C%20%22id%22%3A%20%22OK%22%2C%20%22properties%22%3A%20%7B%22name%22%3A%20%22Oklahoma%22%7D%2C%20%22type%22%3A%20%22Feature%22%7D%2C%20%7B%22geometry%22%3A%20%7B%22coordinates%22%3A%20%5B%5B%5B-123.211348%2C%2046.174138%5D%2C%20%5B-123.11824%2C%2046.185092%5D%2C%20%5B-122.904639%2C%2046.08103%5D%2C%20%5B-122.811531%2C%2045.960537%5D%2C%20%5B-122.762239%2C%2045.659305%5D%2C%20%5B-122.247407%2C%2045.549767%5D%2C%20%5B-121.809251%2C%2045.708598%5D%2C%20%5B-121.535404%2C%2045.725029%5D%2C%20%5B-121.217742%2C%2045.670259%5D%2C%20%5B-121.18488%2C%2045.604536%5D%2C%20%5B-120.637186%2C%2045.746937%5D%2C%20%5B-120.505739%2C%2045.697644%5D%2C%20%5B-120.209985%2C%2045.725029%5D%2C%20%5B-119.963522%2C%2045.823614%5D%2C%20%5B-119.525367%2C%2045.911245%5D%2C%20%5B-119.125551%2C%2045.933153%5D%2C%20%5B-118.988627%2C%2045.998876%5D%2C%20%5B-116.918344%2C%2045.993399%5D%2C%20%5B-116.78142%2C%2045.823614%5D%2C%20%5B-116.545912%2C%2045.752413%5D%2C%20%5B-116.463758%2C%2045.61549%5D%2C%20%5B-116.671881%2C%2045.319735%5D%2C%20%5B-116.732128%2C%2045.144473%5D%2C%20%5B-116.847143%2C%2045.02398%5D%2C%20%5B-116.830713%2C%2044.930872%5D%2C%20%5B-116.934774%2C%2044.782995%5D%2C%20%5B-117.038836%2C%2044.750133%5D%2C%20%5B-117.241483%2C%2044.394132%5D%2C%20%5B-117.170283%2C%2044.257209%5D%2C%20%5B-116.97859%2C%2044.240778%5D%2C%20%5B-116.896436%2C%2044.158624%5D%2C%20%5B-117.027882%2C%2043.830007%5D%2C%20%5B-117.027882%2C%2042.000709%5D%2C%20%5B-118.698349%2C%2041.989755%5D%2C%20%5B-120.001861%2C%2041.995232%5D%2C%20%5B-121.037003%2C%2041.995232%5D%2C%20%5B-122.378853%2C%2042.011663%5D%2C%20%5B-123.233256%2C%2042.006186%5D%2C%20%5B-124.213628%2C%2042.000709%5D%2C%20%5B-124.356029%2C%2042.115725%5D%2C%20%5B-124.432706%2C%2042.438865%5D%2C%20%5B-124.416275%2C%2042.663419%5D%2C%20%5B-124.553198%2C%2042.838681%5D%2C%20%5B-124.454613%2C%2043.002989%5D%2C%20%5B-124.383413%2C%2043.271359%5D%2C%20%5B-124.235536%2C%2043.55616%5D%2C%20%5B-124.169813%2C%2043.8081%5D%2C%20%5B-124.060274%2C%2044.657025%5D%2C%20%5B-124.076705%2C%2044.772041%5D%2C%20%5B-123.97812%2C%2045.144473%5D%2C%20%5B-123.939781%2C%2045.659305%5D%2C%20%5B-123.994551%2C%2045.944106%5D%2C%20%5B-123.945258%2C%2046.113892%5D%2C%20%5B-123.545441%2C%2046.261769%5D%2C%20%5B-123.370179%2C%2046.146753%5D%2C%20%5B-123.211348%2C%2046.174138%5D%5D%5D%2C%20%22type%22%3A%20%22Polygon%22%7D%2C%20%22id%22%3A%20%22OR%22%2C%20%22properties%22%3A%20%7B%22name%22%3A%20%22Oregon%22%7D%2C%20%22type%22%3A%20%22Feature%22%7D%2C%20%7B%22geometry%22%3A%20%7B%22coordinates%22%3A%20%5B%5B%5B-79.76278%2C%2042.252649%5D%2C%20%5B-79.76278%2C%2042.000709%5D%2C%20%5B-75.35932%2C%2042.000709%5D%2C%20%5B-75.249781%2C%2041.863786%5D%2C%20%5B-75.173104%2C%2041.869263%5D%2C%20%5B-75.052611%2C%2041.754247%5D%2C%20%5B-75.074519%2C%2041.60637%5D%2C%20%5B-74.89378%2C%2041.436584%5D%2C%20%5B-74.740426%2C%2041.431108%5D%2C%20%5B-74.69661%2C%2041.359907%5D%2C%20%5B-74.828057%2C%2041.288707%5D%2C%20%5B-74.882826%2C%2041.179168%5D%2C%20%5B-75.134765%2C%2040.971045%5D%2C%20%5B-75.052611%2C%2040.866983%5D%2C%20%5B-75.205966%2C%2040.691721%5D%2C%20%5B-75.195012%2C%2040.576705%5D%2C%20%5B-75.069042%2C%2040.543843%5D%2C%20%5B-75.058088%2C%2040.417874%5D%2C%20%5B-74.773287%2C%2040.215227%5D%2C%20%5B-74.82258%2C%2040.127596%5D%2C%20%5B-75.129289%2C%2039.963288%5D%2C%20%5B-75.145719%2C%2039.88661%5D%2C%20%5B-75.414089%2C%2039.804456%5D%2C%20%5B-75.616736%2C%2039.831841%5D%2C%20%5B-75.786521%2C%2039.722302%5D%2C%20%5B-79.477979%2C%2039.722302%5D%2C%20%5B-80.518598%2C%2039.722302%5D%2C%20%5B-80.518598%2C%2040.636951%5D%2C%20%5B-80.518598%2C%2041.978802%5D%2C%20%5B-80.518598%2C%2041.978802%5D%2C%20%5B-80.332382%2C%2042.033571%5D%2C%20%5B-79.76278%2C%2042.269079%5D%2C%20%5B-79.76278%2C%2042.252649%5D%5D%5D%2C%20%22type%22%3A%20%22Polygon%22%7D%2C%20%22id%22%3A%20%22PA%22%2C%20%22properties%22%3A%20%7B%22name%22%3A%20%22Pennsylvania%22%7D%2C%20%22type%22%3A%20%22Feature%22%7D%2C%20%7B%22geometry%22%3A%20%7B%22coordinates%22%3A%20%5B%5B%5B%5B-71.196845%2C%2041.67757%5D%2C%20%5B-71.120168%2C%2041.496831%5D%2C%20%5B-71.317338%2C%2041.474923%5D%2C%20%5B-71.196845%2C%2041.67757%5D%5D%5D%2C%20%5B%5B%5B-71.530939%2C%2042.01714%5D%2C%20%5B-71.383061%2C%2042.01714%5D%2C%20%5B-71.328292%2C%2041.781632%5D%2C%20%5B-71.22423%2C%2041.710431%5D%2C%20%5B-71.344723%2C%2041.726862%5D%2C%20%5B-71.448785%2C%2041.578985%5D%2C%20%5B-71.481646%2C%2041.370861%5D%2C%20%5B-71.859555%2C%2041.321569%5D%2C%20%5B-71.799309%2C%2041.414677%5D%2C%20%5B-71.799309%2C%2042.006186%5D%2C%20%5B-71.530939%2C%2042.01714%5D%5D%5D%5D%2C%20%22type%22%3A%20%22MultiPolygon%22%7D%2C%20%22id%22%3A%20%22RI%22%2C%20%22properties%22%3A%20%7B%22name%22%3A%20%22Rhode%20Island%22%7D%2C%20%22type%22%3A%20%22Feature%22%7D%2C%20%7B%22geometry%22%3A%20%7B%22coordinates%22%3A%20%5B%5B%5B-82.764143%2C%2035.066903%5D%2C%20%5B-82.550543%2C%2035.160011%5D%2C%20%5B-82.276696%2C%2035.198349%5D%2C%20%5B-81.044384%2C%2035.149057%5D%2C%20%5B-81.038907%2C%2035.044995%5D%2C%20%5B-80.934845%2C%2035.105241%5D%2C%20%5B-80.781491%2C%2034.935456%5D%2C%20%5B-80.797922%2C%2034.820441%5D%2C%20%5B-79.675149%2C%2034.80401%5D%2C%20%5B-78.541422%2C%2033.851022%5D%2C%20%5B-78.716684%2C%2033.80173%5D%2C%20%5B-78.935762%2C%2033.637421%5D%2C%20%5B-79.149363%2C%2033.380005%5D%2C%20%5B-79.187701%2C%2033.171881%5D%2C%20%5B-79.357487%2C%2033.007573%5D%2C%20%5B-79.582041%2C%2033.007573%5D%2C%20%5B-79.631334%2C%2032.887081%5D%2C%20%5B-79.866842%2C%2032.755634%5D%2C%20%5B-79.998289%2C%2032.613234%5D%2C%20%5B-80.206412%2C%2032.552987%5D%2C%20%5B-80.430967%2C%2032.399633%5D%2C%20%5B-80.452875%2C%2032.328433%5D%2C%20%5B-80.660998%2C%2032.246279%5D%2C%20%5B-80.885553%2C%2032.032678%5D%2C%20%5B-81.115584%2C%2032.120309%5D%2C%20%5B-81.121061%2C%2032.290094%5D%2C%20%5B-81.279893%2C%2032.558464%5D%2C%20%5B-81.416816%2C%2032.629664%5D%2C%20%5B-81.42777%2C%2032.843265%5D%2C%20%5B-81.493493%2C%2033.007573%5D%2C%20%5B-81.761863%2C%2033.160928%5D%2C%20%5B-81.937125%2C%2033.347144%5D%2C%20%5B-81.926172%2C%2033.462159%5D%2C%20%5B-82.194542%2C%2033.631944%5D%2C%20%5B-82.325988%2C%2033.81816%5D%2C%20%5B-82.55602%2C%2033.94413%5D%2C%20%5B-82.714851%2C%2034.152254%5D%2C%20%5B-82.747713%2C%2034.26727%5D%2C%20%5B-82.901067%2C%2034.486347%5D%2C%20%5B-83.005129%2C%2034.469916%5D%2C%20%5B-83.339222%2C%2034.683517%5D%2C%20%5B-83.322791%2C%2034.787579%5D%2C%20%5B-83.109191%2C%2035.00118%5D%2C%20%5B-82.764143%2C%2035.066903%5D%5D%5D%2C%20%22type%22%3A%20%22Polygon%22%7D%2C%20%22id%22%3A%20%22SC%22%2C%20%22properties%22%3A%20%7B%22name%22%3A%20%22South%20Carolina%22%7D%2C%20%22type%22%3A%20%22Feature%22%7D%2C%20%7B%22geometry%22%3A%20%7B%22coordinates%22%3A%20%5B%5B%5B-104.047534%2C%2045.944106%5D%2C%20%5B-96.560556%2C%2045.933153%5D%2C%20%5B-96.582464%2C%2045.818137%5D%2C%20%5B-96.856311%2C%2045.604536%5D%2C%20%5B-96.681049%2C%2045.412843%5D%2C%20%5B-96.451017%2C%2045.297827%5D%2C%20%5B-96.451017%2C%2043.501391%5D%2C%20%5B-96.582464%2C%2043.479483%5D%2C%20%5B-96.527695%2C%2043.397329%5D%2C%20%5B-96.560556%2C%2043.222067%5D%2C%20%5B-96.434587%2C%2043.123482%5D%2C%20%5B-96.511264%2C%2043.052282%5D%2C%20%5B-96.544125%2C%2042.855112%5D%2C%20%5B-96.631756%2C%2042.707235%5D%2C%20%5B-96.44554%2C%2042.488157%5D%2C%20%5B-96.626279%2C%2042.515542%5D%2C%20%5B-96.692003%2C%2042.657942%5D%2C%20%5B-97.217789%2C%2042.844158%5D%2C%20%5B-97.688806%2C%2042.844158%5D%2C%20%5B-97.831206%2C%2042.866066%5D%2C%20%5B-97.951699%2C%2042.767481%5D%2C%20%5B-98.466531%2C%2042.94822%5D%2C%20%5B-98.499393%2C%2042.997512%5D%2C%20%5B-101.626726%2C%2042.997512%5D%2C%20%5B-103.324578%2C%2043.002989%5D%2C%20%5B-104.053011%2C%2043.002989%5D%2C%20%5B-104.058488%2C%2044.996596%5D%2C%20%5B-104.042057%2C%2044.996596%5D%2C%20%5B-104.047534%2C%2045.944106%5D%5D%5D%2C%20%22type%22%3A%20%22Polygon%22%7D%2C%20%22id%22%3A%20%22SD%22%2C%20%22properties%22%3A%20%7B%22name%22%3A%20%22South%20Dakota%22%7D%2C%20%22type%22%3A%20%22Feature%22%7D%2C%20%7B%22geometry%22%3A%20%7B%22coordinates%22%3A%20%5B%5B%5B-88.054868%2C%2036.496384%5D%2C%20%5B-88.071299%2C%2036.677123%5D%2C%20%5B-87.852221%2C%2036.633308%5D%2C%20%5B-86.592525%2C%2036.655216%5D%2C%20%5B-85.486183%2C%2036.616877%5D%2C%20%5B-85.289013%2C%2036.627831%5D%2C%20%5B-84.544149%2C%2036.594969%5D%2C%20%5B-83.689746%2C%2036.584015%5D%2C%20%5B-83.673316%2C%2036.600446%5D%2C%20%5B-81.679709%2C%2036.589492%5D%2C%20%5B-81.723525%2C%2036.353984%5D%2C%20%5B-81.909741%2C%2036.304691%5D%2C%20%5B-82.03571%2C%2036.118475%5D%2C%20%5B-82.216449%2C%2036.156814%5D%2C%20%5B-82.610789%2C%2035.965121%5D%2C%20%5B-82.638174%2C%2036.063706%5D%2C%20%5B-82.775097%2C%2035.997983%5D%2C%20%5B-82.994175%2C%2035.773428%5D%2C%20%5B-83.251591%2C%2035.718659%5D%2C%20%5B-83.498053%2C%2035.565304%5D%2C%20%5B-83.7719%2C%2035.559827%5D%2C%20%5B-84.018363%2C%2035.41195%5D%2C%20%5B-84.09504%2C%2035.247642%5D%2C%20%5B-84.29221%2C%2035.225734%5D%2C%20%5B-84.319594%2C%2034.990226%5D%2C%20%5B-85.606675%2C%2034.984749%5D%2C%20%5B-87.359296%2C%2035.00118%5D%2C%20%5B-88.202745%2C%2034.995703%5D%2C%20%5B-88.471115%2C%2034.995703%5D%2C%20%5B-90.311367%2C%2034.995703%5D%2C%20%5B-90.212782%2C%2035.023087%5D%2C%20%5B-90.114197%2C%2035.198349%5D%2C%20%5B-90.130628%2C%2035.439335%5D%2C%20%5B-89.944412%2C%2035.603643%5D%2C%20%5B-89.911551%2C%2035.756997%5D%2C%20%5B-89.763673%2C%2035.811767%5D%2C%20%5B-89.730812%2C%2035.997983%5D%2C%20%5B-89.533642%2C%2036.249922%5D%2C%20%5B-89.539119%2C%2036.496384%5D%2C%20%5B-89.484349%2C%2036.496384%5D%2C%20%5B-89.418626%2C%2036.496384%5D%2C%20%5B-89.298133%2C%2036.507338%5D%2C%20%5B-88.054868%2C%2036.496384%5D%5D%5D%2C%20%22type%22%3A%20%22Polygon%22%7D%2C%20%22id%22%3A%20%22TN%22%2C%20%22properties%22%3A%20%7B%22name%22%3A%20%22Tennessee%22%7D%2C%20%22type%22%3A%20%22Feature%22%7D%2C%20%7B%22geometry%22%3A%20%7B%22coordinates%22%3A%20%5B%5B%5B-101.812942%2C%2036.501861%5D%2C%20%5B-100.000075%2C%2036.501861%5D%2C%20%5B-100.000075%2C%2034.563024%5D%2C%20%5B-99.923398%2C%2034.573978%5D%2C%20%5B-99.698843%2C%2034.382285%5D%2C%20%5B-99.57835%2C%2034.415147%5D%2C%20%5B-99.260688%2C%2034.404193%5D%2C%20%5B-99.189488%2C%2034.2125%5D%2C%20%5B-98.986841%2C%2034.223454%5D%2C%20%5B-98.767763%2C%2034.135823%5D%2C%20%5B-98.570593%2C%2034.146777%5D%2C%20%5B-98.488439%2C%2034.064623%5D%2C%20%5B-98.36247%2C%2034.157731%5D%2C%20%5B-98.170777%2C%2034.113915%5D%2C%20%5B-98.088623%2C%2034.004376%5D%2C%20%5B-97.946222%2C%2033.987946%5D%2C%20%5B-97.869545%2C%2033.851022%5D%2C%20%5B-97.694283%2C%2033.982469%5D%2C%20%5B-97.458774%2C%2033.905791%5D%2C%20%5B-97.371143%2C%2033.823637%5D%2C%20%5B-97.256128%2C%2033.861976%5D%2C%20%5B-97.173974%2C%2033.736006%5D%2C%20%5B-96.922034%2C%2033.960561%5D%2C%20%5B-96.850834%2C%2033.845545%5D%2C%20%5B-96.631756%2C%2033.845545%5D%2C%20%5B-96.423633%2C%2033.774345%5D%2C%20%5B-96.346956%2C%2033.686714%5D%2C%20%5B-96.149786%2C%2033.840068%5D%2C%20%5B-95.936185%2C%2033.889361%5D%2C%20%5B-95.8376%2C%2033.834591%5D%2C%20%5B-95.602092%2C%2033.933176%5D%2C%20%5B-95.547322%2C%2033.878407%5D%2C%20%5B-95.289906%2C%2033.87293%5D%2C%20%5B-95.224183%2C%2033.960561%5D%2C%20%5B-94.966767%2C%2033.861976%5D%2C%20%5B-94.868182%2C%2033.74696%5D%2C%20%5B-94.484796%2C%2033.637421%5D%2C%20%5B-94.380734%2C%2033.544313%5D%2C%20%5B-94.183564%2C%2033.593606%5D%2C%20%5B-94.041164%2C%2033.54979%5D%2C%20%5B-94.041164%2C%2033.018527%5D%2C%20%5B-94.041164%2C%2031.994339%5D%2C%20%5B-93.822086%2C%2031.775262%5D%2C%20%5B-93.816609%2C%2031.556184%5D%2C%20%5B-93.542762%2C%2031.15089%5D%2C%20%5B-93.526331%2C%2030.93729%5D%2C%20%5B-93.630393%2C%2030.679874%5D%2C%20%5B-93.728978%2C%2030.575812%5D%2C%20%5B-93.696116%2C%2030.438888%5D%2C%20%5B-93.767317%2C%2030.334826%5D%2C%20%5B-93.690639%2C%2030.143133%5D%2C%20%5B-93.926148%2C%2029.787132%5D%2C%20%5B-93.838517%2C%2029.688547%5D%2C%20%5B-94.002825%2C%2029.68307%5D%2C%20%5B-94.523134%2C%2029.546147%5D%2C%20%5B-94.70935%2C%2029.622824%5D%2C%20%5B-94.742212%2C%2029.787132%5D%2C%20%5B-94.873659%2C%2029.672117%5D%2C%20%5B-94.966767%2C%2029.699501%5D%2C%20%5B-95.016059%2C%2029.557101%5D%2C%20%5B-94.911997%2C%2029.496854%5D%2C%20%5B-94.895566%2C%2029.310638%5D%2C%20%5B-95.081782%2C%2029.113469%5D%2C%20%5B-95.383014%2C%2028.867006%5D%2C%20%5B-95.985477%2C%2028.604113%5D%2C%20%5B-96.045724%2C%2028.647929%5D%2C%20%5B-96.226463%2C%2028.582205%5D%2C%20%5B-96.23194%2C%2028.642452%5D%2C%20%5B-96.478402%2C%2028.598636%5D%2C%20%5B-96.593418%2C%2028.724606%5D%2C%20%5B-96.664618%2C%2028.697221%5D%2C%20%5B-96.401725%2C%2028.439805%5D%2C%20%5B-96.593418%2C%2028.357651%5D%2C%20%5B-96.774157%2C%2028.406943%5D%2C%20%5B-96.801542%2C%2028.226204%5D%2C%20%5B-97.026096%2C%2028.039988%5D%2C%20%5B-97.256128%2C%2027.694941%5D%2C%20%5B-97.404005%2C%2027.333463%5D%2C%20%5B-97.513544%2C%2027.360848%5D%2C%20%5B-97.540929%2C%2027.229401%5D%2C%20%5B-97.425913%2C%2027.262263%5D%2C%20%5B-97.480682%2C%2026.99937%5D%2C%20%5B-97.557359%2C%2026.988416%5D%2C%20%5B-97.562836%2C%2026.840538%5D%2C%20%5B-97.469728%2C%2026.758384%5D%2C%20%5B-97.442344%2C%2026.457153%5D%2C%20%5B-97.332805%2C%2026.353091%5D%2C%20%5B-97.30542%2C%2026.161398%5D%2C%20%5B-97.217789%2C%2025.991613%5D%2C%20%5B-97.524498%2C%2025.887551%5D%2C%20%5B-97.650467%2C%2026.018997%5D%2C%20%5B-97.885976%2C%2026.06829%5D%2C%20%5B-98.198161%2C%2026.057336%5D%2C%20%5B-98.466531%2C%2026.221644%5D%2C%20%5B-98.669178%2C%2026.238075%5D%2C%20%5B-98.822533%2C%2026.369522%5D%2C%20%5B-99.030656%2C%2026.413337%5D%2C%20%5B-99.173057%2C%2026.539307%5D%2C%20%5B-99.266165%2C%2026.840538%5D%2C%20%5B-99.446904%2C%2027.021277%5D%2C%20%5B-99.424996%2C%2027.174632%5D%2C%20%5B-99.50715%2C%2027.33894%5D%2C%20%5B-99.479765%2C%2027.48134%5D%2C%20%5B-99.605735%2C%2027.640172%5D%2C%20%5B-99.709797%2C%2027.656603%5D%2C%20%5B-99.879582%2C%2027.799003%5D%2C%20%5B-99.934351%2C%2027.979742%5D%2C%20%5B-100.082229%2C%2028.14405%5D%2C%20%5B-100.29583%2C%2028.280974%5D%2C%20%5B-100.399891%2C%2028.582205%5D%2C%20%5B-100.498476%2C%2028.66436%5D%2C%20%5B-100.629923%2C%2028.905345%5D%2C%20%5B-100.673738%2C%2029.102515%5D%2C%20%5B-100.799708%2C%2029.244915%5D%2C%20%5B-101.013309%2C%2029.370885%5D%2C%20%5B-101.062601%2C%2029.458516%5D%2C%20%5B-101.259771%2C%2029.535193%5D%2C%20%5B-101.413125%2C%2029.754271%5D%2C%20%5B-101.851281%2C%2029.803563%5D%2C%20%5B-102.114174%2C%2029.792609%5D%2C%20%5B-102.338728%2C%2029.869286%5D%2C%20%5B-102.388021%2C%2029.765225%5D%2C%20%5B-102.629006%2C%2029.732363%5D%2C%20%5B-102.809745%2C%2029.524239%5D%2C%20%5B-102.919284%2C%2029.190146%5D%2C%20%5B-102.97953%2C%2029.184669%5D%2C%20%5B-103.116454%2C%2028.987499%5D%2C%20%5B-103.280762%2C%2028.982022%5D%2C%20%5B-103.527224%2C%2029.135376%5D%2C%20%5B-104.146119%2C%2029.381839%5D%2C%20%5B-104.266611%2C%2029.513285%5D%2C%20%5B-104.507597%2C%2029.639255%5D%2C%20%5B-104.677382%2C%2029.924056%5D%2C%20%5B-104.688336%2C%2030.181472%5D%2C%20%5B-104.858121%2C%2030.389596%5D%2C%20%5B-104.896459%2C%2030.570335%5D%2C%20%5B-105.005998%2C%2030.685351%5D%2C%20%5B-105.394861%2C%2030.855136%5D%2C%20%5B-105.602985%2C%2031.085167%5D%2C%20%5B-105.77277%2C%2031.167321%5D%2C%20%5B-105.953509%2C%2031.364491%5D%2C%20%5B-106.205448%2C%2031.468553%5D%2C%20%5B-106.38071%2C%2031.731446%5D%2C%20%5B-106.528588%2C%2031.786216%5D%2C%20%5B-106.643603%2C%2031.901231%5D%2C%20%5B-106.616219%2C%2031.999816%5D%2C%20%5B-103.067161%2C%2031.999816%5D%2C%20%5B-103.067161%2C%2033.002096%5D%2C%20%5B-103.045254%2C%2034.01533%5D%2C%20%5B-103.039777%2C%2036.501861%5D%2C%20%5B-103.001438%2C%2036.501861%5D%2C%20%5B-101.812942%2C%2036.501861%5D%5D%5D%2C%20%22type%22%3A%20%22Polygon%22%7D%2C%20%22id%22%3A%20%22TX%22%2C%20%22properties%22%3A%20%7B%22name%22%3A%20%22Texas%22%7D%2C%20%22type%22%3A%20%22Feature%22%7D%2C%20%7B%22geometry%22%3A%20%7B%22coordinates%22%3A%20%5B%5B%5B-112.164359%2C%2041.995232%5D%2C%20%5B-111.047063%2C%2042.000709%5D%2C%20%5B-111.047063%2C%2040.998429%5D%2C%20%5B-109.04798%2C%2040.998429%5D%2C%20%5B-109.053457%2C%2039.125316%5D%2C%20%5B-109.058934%2C%2038.27639%5D%2C%20%5B-109.042503%2C%2038.166851%5D%2C%20%5B-109.042503%2C%2037.000263%5D%2C%20%5B-110.499369%2C%2037.00574%5D%2C%20%5B-114.048427%2C%2037.000263%5D%2C%20%5B-114.04295%2C%2041.995232%5D%2C%20%5B-112.164359%2C%2041.995232%5D%5D%5D%2C%20%22type%22%3A%20%22Polygon%22%7D%2C%20%22id%22%3A%20%22UT%22%2C%20%22properties%22%3A%20%7B%22name%22%3A%20%22Utah%22%7D%2C%20%22type%22%3A%20%22Feature%22%7D%2C%20%7B%22geometry%22%3A%20%7B%22coordinates%22%3A%20%5B%5B%5B-71.503554%2C%2045.013027%5D%2C%20%5B-71.4926%2C%2044.914442%5D%2C%20%5B-71.629524%2C%2044.750133%5D%2C%20%5B-71.536416%2C%2044.585825%5D%2C%20%5B-71.700724%2C%2044.41604%5D%2C%20%5B-72.034817%2C%2044.322932%5D%2C%20%5B-72.02934%2C%2044.07647%5D%2C%20%5B-72.116971%2C%2043.994316%5D%2C%20%5B-72.204602%2C%2043.769761%5D%2C%20%5B-72.379864%2C%2043.572591%5D%2C%20%5B-72.456542%2C%2043.150867%5D%2C%20%5B-72.445588%2C%2043.008466%5D%2C%20%5B-72.533219%2C%2042.953697%5D%2C%20%5B-72.544173%2C%2042.80582%5D%2C%20%5B-72.456542%2C%2042.729142%5D%2C%20%5B-73.267129%2C%2042.745573%5D%2C%20%5B-73.278083%2C%2042.833204%5D%2C%20%5B-73.245221%2C%2043.523299%5D%2C%20%5B-73.404052%2C%2043.687607%5D%2C%20%5B-73.349283%2C%2043.769761%5D%2C%20%5B-73.436914%2C%2044.043608%5D%2C%20%5B-73.321898%2C%2044.246255%5D%2C%20%5B-73.294514%2C%2044.437948%5D%2C%20%5B-73.387622%2C%2044.618687%5D%2C%20%5B-73.332852%2C%2044.804903%5D%2C%20%5B-73.343806%2C%2045.013027%5D%2C%20%5B-72.308664%2C%2045.002073%5D%2C%20%5B-71.503554%2C%2045.013027%5D%5D%5D%2C%20%22type%22%3A%20%22Polygon%22%7D%2C%20%22id%22%3A%20%22VT%22%2C%20%22properties%22%3A%20%7B%22name%22%3A%20%22Vermont%22%7D%2C%20%22type%22%3A%20%22Feature%22%7D%2C%20%7B%22geometry%22%3A%20%7B%22coordinates%22%3A%20%5B%5B%5B%5B-75.397659%2C%2038.013497%5D%2C%20%5B-75.244304%2C%2038.029928%5D%2C%20%5B-75.375751%2C%2037.860142%5D%2C%20%5B-75.512674%2C%2037.799896%5D%2C%20%5B-75.594828%2C%2037.569865%5D%2C%20%5B-75.802952%2C%2037.197433%5D%2C%20%5B-75.972737%2C%2037.120755%5D%2C%20%5B-76.027507%2C%2037.257679%5D%2C%20%5B-75.939876%2C%2037.564388%5D%2C%20%5B-75.671506%2C%2037.95325%5D%2C%20%5B-75.397659%2C%2038.013497%5D%5D%5D%2C%20%5B%5B%5B-76.016553%2C%2037.95325%5D%2C%20%5B-75.994645%2C%2037.95325%5D%2C%20%5B-76.043938%2C%2037.95325%5D%2C%20%5B-76.016553%2C%2037.95325%5D%5D%5D%2C%20%5B%5B%5B-78.349729%2C%2039.464886%5D%2C%20%5B-77.82942%2C%2039.130793%5D%2C%20%5B-77.719881%2C%2039.322485%5D%2C%20%5B-77.566527%2C%2039.306055%5D%2C%20%5B-77.456988%2C%2039.223901%5D%2C%20%5B-77.456988%2C%2039.076023%5D%2C%20%5B-77.248864%2C%2039.026731%5D%2C%20%5B-77.117418%2C%2038.933623%5D%2C%20%5B-77.040741%2C%2038.791222%5D%2C%20%5B-77.128372%2C%2038.632391%5D%2C%20%5B-77.248864%2C%2038.588575%5D%2C%20%5B-77.325542%2C%2038.446175%5D%2C%20%5B-77.281726%2C%2038.342113%5D%2C%20%5B-77.013356%2C%2038.374975%5D%2C%20%5B-76.964064%2C%2038.216144%5D%2C%20%5B-76.613539%2C%2038.15042%5D%2C%20%5B-76.514954%2C%2038.024451%5D%2C%20%5B-76.235631%2C%2037.887527%5D%2C%20%5B-76.3616%2C%2037.608203%5D%2C%20%5B-76.246584%2C%2037.389126%5D%2C%20%5B-76.383508%2C%2037.285064%5D%2C%20%5B-76.399939%2C%2037.159094%5D%2C%20%5B-76.273969%2C%2037.082417%5D%2C%20%5B-76.410893%2C%2036.961924%5D%2C%20%5B-76.619016%2C%2037.120755%5D%2C%20%5B-76.668309%2C%2037.065986%5D%2C%20%5B-76.48757%2C%2036.95097%5D%2C%20%5B-75.994645%2C%2036.923586%5D%2C%20%5B-75.868676%2C%2036.551154%5D%2C%20%5B-79.510841%2C%2036.5402%5D%2C%20%5B-80.294043%2C%2036.545677%5D%2C%20%5B-80.978661%2C%2036.562108%5D%2C%20%5B-81.679709%2C%2036.589492%5D%2C%20%5B-83.673316%2C%2036.600446%5D%2C%20%5B-83.136575%2C%2036.742847%5D%2C%20%5B-83.070852%2C%2036.852385%5D%2C%20%5B-82.879159%2C%2036.890724%5D%2C%20%5B-82.868205%2C%2036.978355%5D%2C%20%5B-82.720328%2C%2037.044078%5D%2C%20%5B-82.720328%2C%2037.120755%5D%2C%20%5B-82.353373%2C%2037.268633%5D%2C%20%5B-81.969987%2C%2037.537003%5D%2C%20%5B-81.986418%2C%2037.454849%5D%2C%20%5B-81.849494%2C%2037.285064%5D%2C%20%5B-81.679709%2C%2037.20291%5D%2C%20%5B-81.55374%2C%2037.208387%5D%2C%20%5B-81.362047%2C%2037.339833%5D%2C%20%5B-81.225123%2C%2037.235771%5D%2C%20%5B-80.967707%2C%2037.290541%5D%2C%20%5B-80.513121%2C%2037.482234%5D%2C%20%5B-80.474782%2C%2037.421987%5D%2C%20%5B-80.29952%2C%2037.509618%5D%2C%20%5B-80.294043%2C%2037.690357%5D%2C%20%5B-80.184505%2C%2037.849189%5D%2C%20%5B-79.998289%2C%2037.997066%5D%2C%20%5B-79.921611%2C%2038.177805%5D%2C%20%5B-79.724442%2C%2038.364021%5D%2C%20%5B-79.647764%2C%2038.594052%5D%2C%20%5B-79.477979%2C%2038.457129%5D%2C%20%5B-79.313671%2C%2038.413313%5D%2C%20%5B-79.209609%2C%2038.495467%5D%2C%20%5B-78.996008%2C%2038.851469%5D%2C%20%5B-78.870039%2C%2038.763838%5D%2C%20%5B-78.404499%2C%2039.169131%5D%2C%20%5B-78.349729%2C%2039.464886%5D%5D%5D%5D%2C%20%22type%22%3A%20%22MultiPolygon%22%7D%2C%20%22id%22%3A%20%22VA%22%2C%20%22properties%22%3A%20%7B%22name%22%3A%20%22Virginia%22%7D%2C%20%22type%22%3A%20%22Feature%22%7D%2C%20%7B%22geometry%22%3A%20%7B%22coordinates%22%3A%20%5B%5B%5B%5B-117.033359%2C%2049.000239%5D%2C%20%5B-117.044313%2C%2047.762451%5D%2C%20%5B-117.038836%2C%2046.426077%5D%2C%20%5B-117.055267%2C%2046.343923%5D%2C%20%5B-116.92382%2C%2046.168661%5D%2C%20%5B-116.918344%2C%2045.993399%5D%2C%20%5B-118.988627%2C%2045.998876%5D%2C%20%5B-119.125551%2C%2045.933153%5D%2C%20%5B-119.525367%2C%2045.911245%5D%2C%20%5B-119.963522%2C%2045.823614%5D%2C%20%5B-120.209985%2C%2045.725029%5D%2C%20%5B-120.505739%2C%2045.697644%5D%2C%20%5B-120.637186%2C%2045.746937%5D%2C%20%5B-121.18488%2C%2045.604536%5D%2C%20%5B-121.217742%2C%2045.670259%5D%2C%20%5B-121.535404%2C%2045.725029%5D%2C%20%5B-121.809251%2C%2045.708598%5D%2C%20%5B-122.247407%2C%2045.549767%5D%2C%20%5B-122.762239%2C%2045.659305%5D%2C%20%5B-122.811531%2C%2045.960537%5D%2C%20%5B-122.904639%2C%2046.08103%5D%2C%20%5B-123.11824%2C%2046.185092%5D%2C%20%5B-123.211348%2C%2046.174138%5D%2C%20%5B-123.370179%2C%2046.146753%5D%2C%20%5B-123.545441%2C%2046.261769%5D%2C%20%5B-123.72618%2C%2046.300108%5D%2C%20%5B-123.874058%2C%2046.239861%5D%2C%20%5B-124.065751%2C%2046.327492%5D%2C%20%5B-124.027412%2C%2046.464416%5D%2C%20%5B-123.895966%2C%2046.535616%5D%2C%20%5B-124.098612%2C%2046.74374%5D%2C%20%5B-124.235536%2C%2047.285957%5D%2C%20%5B-124.31769%2C%2047.357157%5D%2C%20%5B-124.427229%2C%2047.740543%5D%2C%20%5B-124.624399%2C%2047.88842%5D%2C%20%5B-124.706553%2C%2048.184175%5D%2C%20%5B-124.597014%2C%2048.381345%5D%2C%20%5B-124.394367%2C%2048.288237%5D%2C%20%5B-123.983597%2C%2048.162267%5D%2C%20%5B-123.704273%2C%2048.167744%5D%2C%20%5B-123.424949%2C%2048.118452%5D%2C%20%5B-123.162056%2C%2048.167744%5D%2C%20%5B-123.036086%2C%2048.080113%5D%2C%20%5B-122.800578%2C%2048.08559%5D%2C%20%5B-122.636269%2C%2047.866512%5D%2C%20%5B-122.515777%2C%2047.882943%5D%2C%20%5B-122.493869%2C%2047.587189%5D%2C%20%5B-122.422669%2C%2047.318818%5D%2C%20%5B-122.324084%2C%2047.346203%5D%2C%20%5B-122.422669%2C%2047.576235%5D%2C%20%5B-122.395284%2C%2047.800789%5D%2C%20%5B-122.230976%2C%2048.030821%5D%2C%20%5B-122.362422%2C%2048.123929%5D%2C%20%5B-122.373376%2C%2048.288237%5D%2C%20%5B-122.471961%2C%2048.468976%5D%2C%20%5B-122.422669%2C%2048.600422%5D%2C%20%5B-122.488392%2C%2048.753777%5D%2C%20%5B-122.647223%2C%2048.775685%5D%2C%20%5B-122.795101%2C%2048.8907%5D%2C%20%5B-122.756762%2C%2049.000239%5D%2C%20%5B-117.033359%2C%2049.000239%5D%5D%5D%2C%20%5B%5B%5B-122.718423%2C%2048.310145%5D%2C%20%5B-122.586977%2C%2048.35396%5D%2C%20%5B-122.608885%2C%2048.151313%5D%2C%20%5B-122.767716%2C%2048.227991%5D%2C%20%5B-122.718423%2C%2048.310145%5D%5D%5D%2C%20%5B%5B%5B-123.025132%2C%2048.583992%5D%2C%20%5B-122.915593%2C%2048.715438%5D%2C%20%5B-122.767716%2C%2048.556607%5D%2C%20%5B-122.811531%2C%2048.419683%5D%2C%20%5B-123.041563%2C%2048.458022%5D%2C%20%5B-123.025132%2C%2048.583992%5D%5D%5D%5D%2C%20%22type%22%3A%20%22MultiPolygon%22%7D%2C%20%22id%22%3A%20%22WA%22%2C%20%22properties%22%3A%20%7B%22name%22%3A%20%22Washington%22%7D%2C%20%22type%22%3A%20%22Feature%22%7D%2C%20%7B%22geometry%22%3A%20%7B%22coordinates%22%3A%20%5B%5B%5B-80.518598%2C%2040.636951%5D%2C%20%5B-80.518598%2C%2039.722302%5D%2C%20%5B-79.477979%2C%2039.722302%5D%2C%20%5B-79.488933%2C%2039.20747%5D%2C%20%5B-79.291763%2C%2039.300578%5D%2C%20%5B-79.094593%2C%2039.470363%5D%2C%20%5B-78.963147%2C%2039.437501%5D%2C%20%5B-78.765977%2C%2039.585379%5D%2C%20%5B-78.470222%2C%2039.514178%5D%2C%20%5B-78.431884%2C%2039.623717%5D%2C%20%5B-78.267575%2C%2039.61824%5D%2C%20%5B-78.174467%2C%2039.694917%5D%2C%20%5B-78.004682%2C%2039.601809%5D%2C%20%5B-77.834897%2C%2039.601809%5D%2C%20%5B-77.719881%2C%2039.322485%5D%2C%20%5B-77.82942%2C%2039.130793%5D%2C%20%5B-78.349729%2C%2039.464886%5D%2C%20%5B-78.404499%2C%2039.169131%5D%2C%20%5B-78.870039%2C%2038.763838%5D%2C%20%5B-78.996008%2C%2038.851469%5D%2C%20%5B-79.209609%2C%2038.495467%5D%2C%20%5B-79.313671%2C%2038.413313%5D%2C%20%5B-79.477979%2C%2038.457129%5D%2C%20%5B-79.647764%2C%2038.594052%5D%2C%20%5B-79.724442%2C%2038.364021%5D%2C%20%5B-79.921611%2C%2038.177805%5D%2C%20%5B-79.998289%2C%2037.997066%5D%2C%20%5B-80.184505%2C%2037.849189%5D%2C%20%5B-80.294043%2C%2037.690357%5D%2C%20%5B-80.29952%2C%2037.509618%5D%2C%20%5B-80.474782%2C%2037.421987%5D%2C%20%5B-80.513121%2C%2037.482234%5D%2C%20%5B-80.967707%2C%2037.290541%5D%2C%20%5B-81.225123%2C%2037.235771%5D%2C%20%5B-81.362047%2C%2037.339833%5D%2C%20%5B-81.55374%2C%2037.208387%5D%2C%20%5B-81.679709%2C%2037.20291%5D%2C%20%5B-81.849494%2C%2037.285064%5D%2C%20%5B-81.986418%2C%2037.454849%5D%2C%20%5B-81.969987%2C%2037.537003%5D%2C%20%5B-82.101434%2C%2037.553434%5D%2C%20%5B-82.293127%2C%2037.668449%5D%2C%20%5B-82.342419%2C%2037.783465%5D%2C%20%5B-82.50125%2C%2037.931343%5D%2C%20%5B-82.621743%2C%2038.123036%5D%2C%20%5B-82.594358%2C%2038.424267%5D%2C%20%5B-82.331465%2C%2038.446175%5D%2C%20%5B-82.293127%2C%2038.577622%5D%2C%20%5B-82.172634%2C%2038.632391%5D%2C%20%5B-82.221926%2C%2038.785745%5D%2C%20%5B-82.03571%2C%2039.026731%5D%2C%20%5B-81.887833%2C%2038.873376%5D%2C%20%5B-81.783771%2C%2038.966484%5D%2C%20%5B-81.811156%2C%2039.0815%5D%2C%20%5B-81.685186%2C%2039.273193%5D%2C%20%5B-81.57017%2C%2039.267716%5D%2C%20%5B-81.455155%2C%2039.410117%5D%2C%20%5B-81.345616%2C%2039.344393%5D%2C%20%5B-81.219646%2C%2039.388209%5D%2C%20%5B-80.830783%2C%2039.711348%5D%2C%20%5B-80.737675%2C%2040.078303%5D%2C%20%5B-80.600752%2C%2040.319289%5D%2C%20%5B-80.595275%2C%2040.472643%5D%2C%20%5B-80.666475%2C%2040.582182%5D%2C%20%5B-80.518598%2C%2040.636951%5D%5D%5D%2C%20%22type%22%3A%20%22Polygon%22%7D%2C%20%22id%22%3A%20%22WV%22%2C%20%22properties%22%3A%20%7B%22name%22%3A%20%22West%20Virginia%22%7D%2C%20%22type%22%3A%20%22Feature%22%7D%2C%20%7B%22geometry%22%3A%20%7B%22coordinates%22%3A%20%5B%5B%5B-90.415429%2C%2046.568478%5D%2C%20%5B-90.229213%2C%2046.508231%5D%2C%20%5B-90.119674%2C%2046.338446%5D%2C%20%5B-89.09001%2C%2046.135799%5D%2C%20%5B-88.662808%2C%2045.987922%5D%2C%20%5B-88.531362%2C%2046.020784%5D%2C%20%5B-88.10416%2C%2045.922199%5D%2C%20%5B-87.989145%2C%2045.796229%5D%2C%20%5B-87.781021%2C%2045.675736%5D%2C%20%5B-87.791975%2C%2045.500474%5D%2C%20%5B-87.885083%2C%2045.363551%5D%2C%20%5B-87.649574%2C%2045.341643%5D%2C%20%5B-87.742682%2C%2045.199243%5D%2C%20%5B-87.589328%2C%2045.095181%5D%2C%20%5B-87.627666%2C%2044.974688%5D%2C%20%5B-87.819359%2C%2044.95278%5D%2C%20%5B-87.983668%2C%2044.722749%5D%2C%20%5B-88.043914%2C%2044.563917%5D%2C%20%5B-87.928898%2C%2044.536533%5D%2C%20%5B-87.775544%2C%2044.640595%5D%2C%20%5B-87.611236%2C%2044.837764%5D%2C%20%5B-87.403112%2C%2044.914442%5D%2C%20%5B-87.238804%2C%2045.166381%5D%2C%20%5B-87.03068%2C%2045.22115%5D%2C%20%5B-87.047111%2C%2045.089704%5D%2C%20%5B-87.189511%2C%2044.969211%5D%2C%20%5B-87.468835%2C%2044.552964%5D%2C%20%5B-87.545512%2C%2044.322932%5D%2C%20%5B-87.540035%2C%2044.158624%5D%2C%20%5B-87.644097%2C%2044.103854%5D%2C%20%5B-87.737205%2C%2043.8793%5D%2C%20%5B-87.704344%2C%2043.687607%5D%2C%20%5B-87.791975%2C%2043.561637%5D%2C%20%5B-87.912467%2C%2043.249452%5D%2C%20%5B-87.885083%2C%2043.002989%5D%2C%20%5B-87.76459%2C%2042.783912%5D%2C%20%5B-87.802929%2C%2042.493634%5D%2C%20%5B-88.788778%2C%2042.493634%5D%2C%20%5B-90.639984%2C%2042.510065%5D%2C%20%5B-90.711184%2C%2042.636034%5D%2C%20%5B-91.067185%2C%2042.75105%5D%2C%20%5B-91.143862%2C%2042.909881%5D%2C%20%5B-91.176724%2C%2043.134436%5D%2C%20%5B-91.056231%2C%2043.254929%5D%2C%20%5B-91.204109%2C%2043.353514%5D%2C%20%5B-91.215062%2C%2043.501391%5D%2C%20%5B-91.269832%2C%2043.616407%5D%2C%20%5B-91.242447%2C%2043.775238%5D%2C%20%5B-91.43414%2C%2043.994316%5D%2C%20%5B-91.592971%2C%2044.032654%5D%2C%20%5B-91.877772%2C%2044.202439%5D%2C%20%5B-91.927065%2C%2044.333886%5D%2C%20%5B-92.233773%2C%2044.443425%5D%2C%20%5B-92.337835%2C%2044.552964%5D%2C%20%5B-92.545959%2C%2044.569394%5D%2C%20%5B-92.808852%2C%2044.750133%5D%2C%20%5B-92.737652%2C%2045.117088%5D%2C%20%5B-92.75956%2C%2045.286874%5D%2C%20%5B-92.644544%2C%2045.440228%5D%2C%20%5B-92.770513%2C%2045.566198%5D%2C%20%5B-92.885529%2C%2045.577151%5D%2C%20%5B-92.869098%2C%2045.719552%5D%2C%20%5B-92.639067%2C%2045.933153%5D%2C%20%5B-92.354266%2C%2046.015307%5D%2C%20%5B-92.29402%2C%2046.075553%5D%2C%20%5B-92.29402%2C%2046.667063%5D%2C%20%5B-92.091373%2C%2046.749217%5D%2C%20%5B-92.014696%2C%2046.705401%5D%2C%20%5B-91.790141%2C%2046.694447%5D%2C%20%5B-91.09457%2C%2046.864232%5D%2C%20%5B-90.837154%2C%2046.95734%5D%2C%20%5B-90.749522%2C%2046.88614%5D%2C%20%5B-90.886446%2C%2046.754694%5D%2C%20%5B-90.55783%2C%2046.584908%5D%2C%20%5B-90.415429%2C%2046.568478%5D%5D%5D%2C%20%22type%22%3A%20%22Polygon%22%7D%2C%20%22id%22%3A%20%22WI%22%2C%20%22properties%22%3A%20%7B%22name%22%3A%20%22Wisconsin%22%7D%2C%20%22type%22%3A%20%22Feature%22%7D%2C%20%7B%22geometry%22%3A%20%7B%22coordinates%22%3A%20%5B%5B%5B-109.080842%2C%2045.002073%5D%2C%20%5B-105.91517%2C%2045.002073%5D%2C%20%5B-104.058488%2C%2044.996596%5D%2C%20%5B-104.053011%2C%2043.002989%5D%2C%20%5B-104.053011%2C%2041.003906%5D%2C%20%5B-105.728954%2C%2040.998429%5D%2C%20%5B-107.919731%2C%2041.003906%5D%2C%20%5B-109.04798%2C%2040.998429%5D%2C%20%5B-111.047063%2C%2040.998429%5D%2C%20%5B-111.047063%2C%2042.000709%5D%2C%20%5B-111.047063%2C%2044.476286%5D%2C%20%5B-111.05254%2C%2045.002073%5D%2C%20%5B-109.080842%2C%2045.002073%5D%5D%5D%2C%20%22type%22%3A%20%22Polygon%22%7D%2C%20%22id%22%3A%20%22WY%22%2C%20%22properties%22%3A%20%7B%22name%22%3A%20%22Wyoming%22%7D%2C%20%22type%22%3A%20%22Feature%22%7D%5D%2C%20%22type%22%3A%20%22FeatureCollection%22%7D%29%3B%0A%0A%20%20%20%20%20%20%20%20%0A%20%20%20%20%0A%20%20%20%20var%20color_map_8fb95951b34a43adbbf080e740e8db83%20%3D%20%7B%7D%3B%0A%0A%20%20%20%20%0A%20%20%20%20color_map_8fb95951b34a43adbbf080e740e8db83.color%20%3D%20d3.scale.threshold%28%29%0A%20%20%20%20%20%20%20%20%20%20%20%20%20%20.domain%28%5B5.0%2C%207.997995991983968%2C%2010.995991983967937%2C%2013.993987975951903%2C%2016.991983967935873%2C%2019.98997995991984%2C%2022.987975951903806%2C%2025.985971943887776%2C%2028.983967935871743%2C%2031.981963927855713%2C%2034.97995991983968%2C%2037.97795591182365%2C%2040.97595190380761%2C%2043.97394789579158%2C%2046.97194388777555%2C%2049.96993987975952%2C%2052.967935871743485%2C%2055.965931863727455%2C%2058.963927855711425%2C%2061.96192384769539%2C%2064.95991983967936%2C%2067.95791583166333%2C%2070.9559118236473%2C%2073.95390781563127%2C%2076.95190380761522%2C%2079.9498997995992%2C%2082.94789579158316%2C%2085.94589178356713%2C%2088.9438877755511%2C%2091.94188376753507%2C%2094.93987975951904%2C%2097.937875751503%2C%20100.93587174348697%2C%20103.93386773547094%2C%20106.93186372745491%2C%20109.92985971943888%2C%20112.92785571142285%2C%20115.92585170340682%2C%20118.92384769539078%2C%20121.92184368737475%2C%20124.91983967935872%2C%20127.91783567134269%2C%20130.91583166332666%2C%20133.91382765531063%2C%20136.9118236472946%2C%20139.90981963927857%2C%20142.90781563126254%2C%20145.9058116232465%2C%20148.90380761523045%2C%20151.90180360721442%2C%20154.8997995991984%2C%20157.89779559118236%2C%20160.89579158316633%2C%20163.8937875751503%2C%20166.89178356713427%2C%20169.88977955911824%2C%20172.8877755511022%2C%20175.88577154308618%2C%20178.88376753507015%2C%20181.88176352705412%2C%20184.8797595190381%2C%20187.87775551102203%2C%20190.875751503006%2C%20193.87374749498997%2C%20196.87174348697394%2C%20199.8697394789579%2C%20202.86773547094188%2C%20205.86573146292585%2C%20208.86372745490982%2C%20211.8617234468938%2C%20214.85971943887776%2C%20217.85771543086173%2C%20220.8557114228457%2C%20223.85370741482967%2C%20226.85170340681364%2C%20229.84969939879758%2C%20232.84769539078155%2C%20235.84569138276552%2C%20238.8436873747495%2C%20241.84168336673346%2C%20244.83967935871743%2C%20247.8376753507014%2C%20250.83567134268537%2C%20253.83366733466934%2C%20256.8316633266533%2C%20259.82965931863725%2C%20262.82765531062125%2C%20265.8256513026052%2C%20268.8236472945892%2C%20271.82164328657313%2C%20274.81963927855713%2C%20277.8176352705411%2C%20280.8156312625251%2C%20283.813627254509%2C%20286.811623246493%2C%20289.80961923847696%2C%20292.8076152304609%2C%20295.8056112224449%2C%20298.80360721442884%2C%20301.80160320641284%2C%20304.7995991983968%2C%20307.7975951903808%2C%20310.7955911823647%2C%20313.7935871743487%2C%20316.79158316633266%2C%20319.78957915831666%2C%20322.7875751503006%2C%20325.7855711422846%2C%20328.78356713426854%2C%20331.7815631262525%2C%20334.7795591182365%2C%20337.7775551102204%2C%20340.7755511022044%2C%20343.77354709418836%2C%20346.77154308617236%2C%20349.7695390781563%2C%20352.7675350701403%2C%20355.76553106212424%2C%20358.76352705410824%2C%20361.7615230460922%2C%20364.7595190380762%2C%20367.7575150300601%2C%20370.75551102204406%2C%20373.75350701402806%2C%20376.751503006012%2C%20379.749498997996%2C%20382.74749498997994%2C%20385.74549098196394%2C%20388.7434869739479%2C%20391.7414829659319%2C%20394.7394789579158%2C%20397.7374749498998%2C%20400.73547094188376%2C%20403.73346693386776%2C%20406.7314629258517%2C%20409.72945891783564%2C%20412.72745490981964%2C%20415.7254509018036%2C%20418.7234468937876%2C%20421.7214428857715%2C%20424.7194388777555%2C%20427.71743486973946%2C%20430.71543086172346%2C%20433.7134268537074%2C%20436.7114228456914%2C%20439.70941883767534%2C%20442.70741482965934%2C%20445.7054108216433%2C%20448.7034068136273%2C%20451.7014028056112%2C%20454.69939879759517%2C%20457.69739478957916%2C%20460.6953907815631%2C%20463.6933867735471%2C%20466.69138276553105%2C%20469.68937875751504%2C%20472.687374749499%2C%20475.685370741483%2C%20478.6833667334669%2C%20481.6813627254509%2C%20484.67935871743487%2C%20487.67735470941886%2C%20490.6753507014028%2C%20493.67334669338675%2C%20496.67134268537075%2C%20499.6693386773547%2C%20502.6673346693387%2C%20505.6653306613226%2C%20508.6633266533066%2C%20511.66132264529057%2C%20514.6593186372745%2C%20517.6573146292585%2C%20520.6553106212425%2C%20523.6533066132265%2C%20526.6513026052104%2C%20529.6492985971944%2C%20532.6472945891784%2C%20535.6452905811623%2C%20538.6432865731463%2C%20541.6412825651303%2C%20544.6392785571143%2C%20547.6372745490982%2C%20550.6352705410821%2C%20553.6332665330661%2C%20556.6312625250501%2C%20559.629258517034%2C%20562.627254509018%2C%20565.625250501002%2C%20568.623246492986%2C%20571.6212424849699%2C%20574.6192384769539%2C%20577.6172344689379%2C%20580.6152304609218%2C%20583.6132264529058%2C%20586.6112224448898%2C%20589.6092184368738%2C%20592.6072144288577%2C%20595.6052104208417%2C%20598.6032064128257%2C%20601.6012024048097%2C%20604.5991983967936%2C%20607.5971943887776%2C%20610.5951903807616%2C%20613.5931863727454%2C%20616.5911823647294%2C%20619.5891783567134%2C%20622.5871743486974%2C%20625.5851703406813%2C%20628.5831663326653%2C%20631.5811623246493%2C%20634.5791583166333%2C%20637.5771543086172%2C%20640.5751503006012%2C%20643.5731462925852%2C%20646.5711422845692%2C%20649.5691382765531%2C%20652.5671342685371%2C%20655.5651302605211%2C%20658.563126252505%2C%20661.561122244489%2C%20664.559118236473%2C%20667.557114228457%2C%20670.5551102204408%2C%20673.5531062124248%2C%20676.5511022044088%2C%20679.5490981963928%2C%20682.5470941883767%2C%20685.5450901803607%2C%20688.5430861723447%2C%20691.5410821643287%2C%20694.5390781563126%2C%20697.5370741482966%2C%20700.5350701402806%2C%20703.5330661322645%2C%20706.5310621242485%2C%20709.5290581162325%2C%20712.5270541082165%2C%20715.5250501002004%2C%20718.5230460921844%2C%20721.5210420841684%2C%20724.5190380761524%2C%20727.5170340681362%2C%20730.5150300601202%2C%20733.5130260521042%2C%20736.5110220440881%2C%20739.5090180360721%2C%20742.5070140280561%2C%20745.5050100200401%2C%20748.503006012024%2C%20751.501002004008%2C%20754.498997995992%2C%20757.496993987976%2C%20760.4949899799599%2C%20763.4929859719439%2C%20766.4909819639279%2C%20769.4889779559119%2C%20772.4869739478958%2C%20775.4849699398798%2C%20778.4829659318638%2C%20781.4809619238476%2C%20784.4789579158316%2C%20787.4769539078156%2C%20790.4749498997996%2C%20793.4729458917835%2C%20796.4709418837675%2C%20799.4689378757515%2C%20802.4669338677355%2C%20805.4649298597194%2C%20808.4629258517034%2C%20811.4609218436874%2C%20814.4589178356713%2C%20817.4569138276553%2C%20820.4549098196393%2C%20823.4529058116233%2C%20826.4509018036072%2C%20829.4488977955912%2C%20832.4468937875752%2C%20835.4448897795592%2C%20838.442885771543%2C%20841.440881763527%2C%20844.438877755511%2C%20847.436873747495%2C%20850.4348697394789%2C%20853.4328657314629%2C%20856.4308617234469%2C%20859.4288577154308%2C%20862.4268537074148%2C%20865.4248496993988%2C%20868.4228456913828%2C%20871.4208416833667%2C%20874.4188376753507%2C%20877.4168336673347%2C%20880.4148296593187%2C%20883.4128256513026%2C%20886.4108216432866%2C%20889.4088176352706%2C%20892.4068136272546%2C%20895.4048096192384%2C%20898.4028056112224%2C%20901.4008016032064%2C%20904.3987975951903%2C%20907.3967935871743%2C%20910.3947895791583%2C%20913.3927855711423%2C%20916.3907815631262%2C%20919.3887775551102%2C%20922.3867735470942%2C%20925.3847695390782%2C%20928.3827655310621%2C%20931.3807615230461%2C%20934.3787575150301%2C%20937.376753507014%2C%20940.374749498998%2C%20943.372745490982%2C%20946.370741482966%2C%20949.3687374749499%2C%20952.3667334669339%2C%20955.3647294589179%2C%20958.3627254509018%2C%20961.3607214428857%2C%20964.3587174348697%2C%20967.3567134268537%2C%20970.3547094188377%2C%20973.3527054108216%2C%20976.3507014028056%2C%20979.3486973947896%2C%20982.3466933867735%2C%20985.3446893787575%2C%20988.3426853707415%2C%20991.3406813627255%2C%20994.3386773547094%2C%20997.3366733466934%2C%201000.3346693386774%2C%201003.3326653306614%2C%201006.3306613226453%2C%201009.3286573146293%2C%201012.3266533066133%2C%201015.3246492985973%2C%201018.3226452905811%2C%201021.3206412825651%2C%201024.318637274549%2C%201027.316633266533%2C%201030.314629258517%2C%201033.312625250501%2C%201036.310621242485%2C%201039.308617234469%2C%201042.306613226453%2C%201045.3046092184368%2C%201048.3026052104208%2C%201051.3006012024048%2C%201054.2985971943888%2C%201057.2965931863728%2C%201060.2945891783568%2C%201063.2925851703408%2C%201066.2905811623245%2C%201069.2885771543085%2C%201072.2865731462925%2C%201075.2845691382765%2C%201078.2825651302605%2C%201081.2805611222445%2C%201084.2785571142285%2C%201087.2765531062125%2C%201090.2745490981963%2C%201093.2725450901803%2C%201096.2705410821643%2C%201099.2685370741483%2C%201102.2665330661323%2C%201105.2645290581163%2C%201108.2625250501003%2C%201111.260521042084%2C%201114.258517034068%2C%201117.256513026052%2C%201120.254509018036%2C%201123.25250501002%2C%201126.250501002004%2C%201129.248496993988%2C%201132.246492985972%2C%201135.2444889779558%2C%201138.2424849699398%2C%201141.2404809619238%2C%201144.2384769539078%2C%201147.2364729458918%2C%201150.2344689378758%2C%201153.2324649298598%2C%201156.2304609218436%2C%201159.2284569138276%2C%201162.2264529058116%2C%201165.2244488977956%2C%201168.2224448897796%2C%201171.2204408817636%2C%201174.2184368737476%2C%201177.2164328657316%2C%201180.2144288577153%2C%201183.2124248496993%2C%201186.2104208416833%2C%201189.2084168336673%2C%201192.2064128256513%2C%201195.2044088176353%2C%201198.2024048096193%2C%201201.200400801603%2C%201204.198396793587%2C%201207.196392785571%2C%201210.194388777555%2C%201213.192384769539%2C%201216.190380761523%2C%201219.188376753507%2C%201222.1863727454909%2C%201225.1843687374749%2C%201228.1823647294589%2C%201231.1803607214429%2C%201234.1783567134269%2C%201237.1763527054109%2C%201240.1743486973949%2C%201243.1723446893789%2C%201246.1703406813626%2C%201249.1683366733466%2C%201252.1663326653306%2C%201255.1643286573146%2C%201258.1623246492986%2C%201261.1603206412826%2C%201264.1583166332666%2C%201267.1563126252504%2C%201270.1543086172344%2C%201273.1523046092184%2C%201276.1503006012024%2C%201279.1482965931864%2C%201282.1462925851704%2C%201285.1442885771544%2C%201288.1422845691384%2C%201291.1402805611222%2C%201294.1382765531062%2C%201297.1362725450902%2C%201300.1342685370741%2C%201303.1322645290581%2C%201306.1302605210421%2C%201309.1282565130261%2C%201312.12625250501%2C%201315.124248496994%2C%201318.122244488978%2C%201321.120240480962%2C%201324.118236472946%2C%201327.11623246493%2C%201330.114228456914%2C%201333.112224448898%2C%201336.1102204408817%2C%201339.1082164328657%2C%201342.1062124248497%2C%201345.1042084168337%2C%201348.1022044088177%2C%201351.1002004008017%2C%201354.0981963927857%2C%201357.0961923847694%2C%201360.0941883767534%2C%201363.0921843687374%2C%201366.0901803607214%2C%201369.0881763527054%2C%201372.0861723446894%2C%201375.0841683366734%2C%201378.0821643286574%2C%201381.0801603206412%2C%201384.0781563126252%2C%201387.0761523046092%2C%201390.0741482965932%2C%201393.0721442885772%2C%201396.0701402805612%2C%201399.0681362725452%2C%201402.066132264529%2C%201405.064128256513%2C%201408.062124248497%2C%201411.060120240481%2C%201414.058116232465%2C%201417.056112224449%2C%201420.054108216433%2C%201423.0521042084167%2C%201426.0501002004007%2C%201429.0480961923847%2C%201432.0460921843687%2C%201435.0440881763527%2C%201438.0420841683367%2C%201441.0400801603207%2C%201444.0380761523047%2C%201447.0360721442885%2C%201450.0340681362725%2C%201453.0320641282565%2C%201456.0300601202405%2C%201459.0280561122245%2C%201462.0260521042085%2C%201465.0240480961925%2C%201468.0220440881762%2C%201471.0200400801602%2C%201474.0180360721442%2C%201477.0160320641282%2C%201480.0140280561122%2C%201483.0120240480962%2C%201486.0100200400802%2C%201489.0080160320642%2C%201492.006012024048%2C%201495.004008016032%2C%201498.002004008016%2C%201501.0%5D%29%0A%20%20%20%20%20%20%20%20%20%20%20%20%20%20.range%28%5B%27%23ffffb2ff%27%2C%20%27%23ffffb2ff%27%2C%20%27%23ffffb2ff%27%2C%20%27%23ffffb2ff%27%2C%20%27%23ffffb2ff%27%2C%20%27%23ffffb2ff%27%2C%20%27%23ffffb2ff%27%2C%20%27%23ffffb2ff%27%2C%20%27%23ffffb2ff%27%2C%20%27%23ffffb2ff%27%2C%20%27%23ffffb2ff%27%2C%20%27%23ffffb2ff%27%2C%20%27%23ffffb2ff%27%2C%20%27%23ffffb2ff%27%2C%20%27%23ffffb2ff%27%2C%20%27%23ffffb2ff%27%2C%20%27%23ffffb2ff%27%2C%20%27%23ffffb2ff%27%2C%20%27%23ffffb2ff%27%2C%20%27%23ffffb2ff%27%2C%20%27%23ffffb2ff%27%2C%20%27%23ffffb2ff%27%2C%20%27%23ffffb2ff%27%2C%20%27%23ffffb2ff%27%2C%20%27%23ffffb2ff%27%2C%20%27%23ffffb2ff%27%2C%20%27%23ffffb2ff%27%2C%20%27%23ffffb2ff%27%2C%20%27%23ffffb2ff%27%2C%20%27%23ffffb2ff%27%2C%20%27%23ffffb2ff%27%2C%20%27%23ffffb2ff%27%2C%20%27%23ffffb2ff%27%2C%20%27%23ffffb2ff%27%2C%20%27%23ffffb2ff%27%2C%20%27%23ffffb2ff%27%2C%20%27%23ffffb2ff%27%2C%20%27%23ffffb2ff%27%2C%20%27%23ffffb2ff%27%2C%20%27%23ffffb2ff%27%2C%20%27%23ffffb2ff%27%2C%20%27%23ffffb2ff%27%2C%20%27%23ffffb2ff%27%2C%20%27%23ffffb2ff%27%2C%20%27%23ffffb2ff%27%2C%20%27%23ffffb2ff%27%2C%20%27%23ffffb2ff%27%2C%20%27%23ffffb2ff%27%2C%20%27%23ffffb2ff%27%2C%20%27%23ffffb2ff%27%2C%20%27%23ffffb2ff%27%2C%20%27%23ffffb2ff%27%2C%20%27%23ffffb2ff%27%2C%20%27%23ffffb2ff%27%2C%20%27%23ffffb2ff%27%2C%20%27%23ffffb2ff%27%2C%20%27%23ffffb2ff%27%2C%20%27%23ffffb2ff%27%2C%20%27%23ffffb2ff%27%2C%20%27%23ffffb2ff%27%2C%20%27%23ffffb2ff%27%2C%20%27%23ffffb2ff%27%2C%20%27%23ffffb2ff%27%2C%20%27%23ffffb2ff%27%2C%20%27%23ffffb2ff%27%2C%20%27%23ffffb2ff%27%2C%20%27%23ffffb2ff%27%2C%20%27%23ffffb2ff%27%2C%20%27%23ffffb2ff%27%2C%20%27%23ffffb2ff%27%2C%20%27%23ffffb2ff%27%2C%20%27%23ffffb2ff%27%2C%20%27%23ffffb2ff%27%2C%20%27%23ffffb2ff%27%2C%20%27%23ffffb2ff%27%2C%20%27%23ffffb2ff%27%2C%20%27%23ffffb2ff%27%2C%20%27%23ffffb2ff%27%2C%20%27%23ffffb2ff%27%2C%20%27%23ffffb2ff%27%2C%20%27%23ffffb2ff%27%2C%20%27%23ffffb2ff%27%2C%20%27%23ffffb2ff%27%2C%20%27%23ffffb2ff%27%2C%20%27%23fed976ff%27%2C%20%27%23fed976ff%27%2C%20%27%23fed976ff%27%2C%20%27%23fed976ff%27%2C%20%27%23fed976ff%27%2C%20%27%23fed976ff%27%2C%20%27%23fed976ff%27%2C%20%27%23fed976ff%27%2C%20%27%23fed976ff%27%2C%20%27%23fed976ff%27%2C%20%27%23fed976ff%27%2C%20%27%23fed976ff%27%2C%20%27%23fed976ff%27%2C%20%27%23fed976ff%27%2C%20%27%23fed976ff%27%2C%20%27%23fed976ff%27%2C%20%27%23fed976ff%27%2C%20%27%23fed976ff%27%2C%20%27%23fed976ff%27%2C%20%27%23fed976ff%27%2C%20%27%23fed976ff%27%2C%20%27%23fed976ff%27%2C%20%27%23fed976ff%27%2C%20%27%23fed976ff%27%2C%20%27%23fed976ff%27%2C%20%27%23fed976ff%27%2C%20%27%23fed976ff%27%2C%20%27%23fed976ff%27%2C%20%27%23fed976ff%27%2C%20%27%23fed976ff%27%2C%20%27%23fed976ff%27%2C%20%27%23fed976ff%27%2C%20%27%23fed976ff%27%2C%20%27%23fed976ff%27%2C%20%27%23fed976ff%27%2C%20%27%23fed976ff%27%2C%20%27%23fed976ff%27%2C%20%27%23fed976ff%27%2C%20%27%23fed976ff%27%2C%20%27%23fed976ff%27%2C%20%27%23fed976ff%27%2C%20%27%23fed976ff%27%2C%20%27%23fed976ff%27%2C%20%27%23fed976ff%27%2C%20%27%23fed976ff%27%2C%20%27%23fed976ff%27%2C%20%27%23fed976ff%27%2C%20%27%23fed976ff%27%2C%20%27%23fed976ff%27%2C%20%27%23fed976ff%27%2C%20%27%23fed976ff%27%2C%20%27%23fed976ff%27%2C%20%27%23fed976ff%27%2C%20%27%23fed976ff%27%2C%20%27%23fed976ff%27%2C%20%27%23fed976ff%27%2C%20%27%23fed976ff%27%2C%20%27%23fed976ff%27%2C%20%27%23fed976ff%27%2C%20%27%23fed976ff%27%2C%20%27%23fed976ff%27%2C%20%27%23fed976ff%27%2C%20%27%23fed976ff%27%2C%20%27%23fed976ff%27%2C%20%27%23fed976ff%27%2C%20%27%23fed976ff%27%2C%20%27%23fed976ff%27%2C%20%27%23fed976ff%27%2C%20%27%23fed976ff%27%2C%20%27%23fed976ff%27%2C%20%27%23fed976ff%27%2C%20%27%23fed976ff%27%2C%20%27%23fed976ff%27%2C%20%27%23fed976ff%27%2C%20%27%23fed976ff%27%2C%20%27%23fed976ff%27%2C%20%27%23fed976ff%27%2C%20%27%23fed976ff%27%2C%20%27%23fed976ff%27%2C%20%27%23fed976ff%27%2C%20%27%23fed976ff%27%2C%20%27%23fed976ff%27%2C%20%27%23fed976ff%27%2C%20%27%23feb24cff%27%2C%20%27%23feb24cff%27%2C%20%27%23feb24cff%27%2C%20%27%23feb24cff%27%2C%20%27%23feb24cff%27%2C%20%27%23feb24cff%27%2C%20%27%23feb24cff%27%2C%20%27%23feb24cff%27%2C%20%27%23feb24cff%27%2C%20%27%23feb24cff%27%2C%20%27%23feb24cff%27%2C%20%27%23feb24cff%27%2C%20%27%23feb24cff%27%2C%20%27%23feb24cff%27%2C%20%27%23feb24cff%27%2C%20%27%23feb24cff%27%2C%20%27%23feb24cff%27%2C%20%27%23feb24cff%27%2C%20%27%23feb24cff%27%2C%20%27%23feb24cff%27%2C%20%27%23feb24cff%27%2C%20%27%23feb24cff%27%2C%20%27%23feb24cff%27%2C%20%27%23feb24cff%27%2C%20%27%23feb24cff%27%2C%20%27%23feb24cff%27%2C%20%27%23feb24cff%27%2C%20%27%23feb24cff%27%2C%20%27%23feb24cff%27%2C%20%27%23feb24cff%27%2C%20%27%23feb24cff%27%2C%20%27%23feb24cff%27%2C%20%27%23feb24cff%27%2C%20%27%23feb24cff%27%2C%20%27%23feb24cff%27%2C%20%27%23feb24cff%27%2C%20%27%23feb24cff%27%2C%20%27%23feb24cff%27%2C%20%27%23feb24cff%27%2C%20%27%23feb24cff%27%2C%20%27%23feb24cff%27%2C%20%27%23feb24cff%27%2C%20%27%23feb24cff%27%2C%20%27%23feb24cff%27%2C%20%27%23feb24cff%27%2C%20%27%23feb24cff%27%2C%20%27%23feb24cff%27%2C%20%27%23feb24cff%27%2C%20%27%23feb24cff%27%2C%20%27%23feb24cff%27%2C%20%27%23feb24cff%27%2C%20%27%23feb24cff%27%2C%20%27%23feb24cff%27%2C%20%27%23feb24cff%27%2C%20%27%23feb24cff%27%2C%20%27%23feb24cff%27%2C%20%27%23feb24cff%27%2C%20%27%23feb24cff%27%2C%20%27%23feb24cff%27%2C%20%27%23feb24cff%27%2C%20%27%23feb24cff%27%2C%20%27%23feb24cff%27%2C%20%27%23feb24cff%27%2C%20%27%23feb24cff%27%2C%20%27%23feb24cff%27%2C%20%27%23feb24cff%27%2C%20%27%23feb24cff%27%2C%20%27%23feb24cff%27%2C%20%27%23feb24cff%27%2C%20%27%23feb24cff%27%2C%20%27%23feb24cff%27%2C%20%27%23feb24cff%27%2C%20%27%23feb24cff%27%2C%20%27%23feb24cff%27%2C%20%27%23feb24cff%27%2C%20%27%23feb24cff%27%2C%20%27%23feb24cff%27%2C%20%27%23feb24cff%27%2C%20%27%23feb24cff%27%2C%20%27%23feb24cff%27%2C%20%27%23feb24cff%27%2C%20%27%23feb24cff%27%2C%20%27%23feb24cff%27%2C%20%27%23fd8d3cff%27%2C%20%27%23fd8d3cff%27%2C%20%27%23fd8d3cff%27%2C%20%27%23fd8d3cff%27%2C%20%27%23fd8d3cff%27%2C%20%27%23fd8d3cff%27%2C%20%27%23fd8d3cff%27%2C%20%27%23fd8d3cff%27%2C%20%27%23fd8d3cff%27%2C%20%27%23fd8d3cff%27%2C%20%27%23fd8d3cff%27%2C%20%27%23fd8d3cff%27%2C%20%27%23fd8d3cff%27%2C%20%27%23fd8d3cff%27%2C%20%27%23fd8d3cff%27%2C%20%27%23fd8d3cff%27%2C%20%27%23fd8d3cff%27%2C%20%27%23fd8d3cff%27%2C%20%27%23fd8d3cff%27%2C%20%27%23fd8d3cff%27%2C%20%27%23fd8d3cff%27%2C%20%27%23fd8d3cff%27%2C%20%27%23fd8d3cff%27%2C%20%27%23fd8d3cff%27%2C%20%27%23fd8d3cff%27%2C%20%27%23fd8d3cff%27%2C%20%27%23fd8d3cff%27%2C%20%27%23fd8d3cff%27%2C%20%27%23fd8d3cff%27%2C%20%27%23fd8d3cff%27%2C%20%27%23fd8d3cff%27%2C%20%27%23fd8d3cff%27%2C%20%27%23fd8d3cff%27%2C%20%27%23fd8d3cff%27%2C%20%27%23fd8d3cff%27%2C%20%27%23fd8d3cff%27%2C%20%27%23fd8d3cff%27%2C%20%27%23fd8d3cff%27%2C%20%27%23fd8d3cff%27%2C%20%27%23fd8d3cff%27%2C%20%27%23fd8d3cff%27%2C%20%27%23fd8d3cff%27%2C%20%27%23fd8d3cff%27%2C%20%27%23fd8d3cff%27%2C%20%27%23fd8d3cff%27%2C%20%27%23fd8d3cff%27%2C%20%27%23fd8d3cff%27%2C%20%27%23fd8d3cff%27%2C%20%27%23fd8d3cff%27%2C%20%27%23fd8d3cff%27%2C%20%27%23fd8d3cff%27%2C%20%27%23fd8d3cff%27%2C%20%27%23fd8d3cff%27%2C%20%27%23fd8d3cff%27%2C%20%27%23fd8d3cff%27%2C%20%27%23fd8d3cff%27%2C%20%27%23fd8d3cff%27%2C%20%27%23fd8d3cff%27%2C%20%27%23fd8d3cff%27%2C%20%27%23fd8d3cff%27%2C%20%27%23fd8d3cff%27%2C%20%27%23fd8d3cff%27%2C%20%27%23fd8d3cff%27%2C%20%27%23fd8d3cff%27%2C%20%27%23fd8d3cff%27%2C%20%27%23fd8d3cff%27%2C%20%27%23fd8d3cff%27%2C%20%27%23fd8d3cff%27%2C%20%27%23fd8d3cff%27%2C%20%27%23fd8d3cff%27%2C%20%27%23fd8d3cff%27%2C%20%27%23fd8d3cff%27%2C%20%27%23fd8d3cff%27%2C%20%27%23fd8d3cff%27%2C%20%27%23fd8d3cff%27%2C%20%27%23fd8d3cff%27%2C%20%27%23fd8d3cff%27%2C%20%27%23fd8d3cff%27%2C%20%27%23fd8d3cff%27%2C%20%27%23fd8d3cff%27%2C%20%27%23fd8d3cff%27%2C%20%27%23fd8d3cff%27%2C%20%27%23fd8d3cff%27%2C%20%27%23f03b20ff%27%2C%20%27%23f03b20ff%27%2C%20%27%23f03b20ff%27%2C%20%27%23f03b20ff%27%2C%20%27%23f03b20ff%27%2C%20%27%23f03b20ff%27%2C%20%27%23f03b20ff%27%2C%20%27%23f03b20ff%27%2C%20%27%23f03b20ff%27%2C%20%27%23f03b20ff%27%2C%20%27%23f03b20ff%27%2C%20%27%23f03b20ff%27%2C%20%27%23f03b20ff%27%2C%20%27%23f03b20ff%27%2C%20%27%23f03b20ff%27%2C%20%27%23f03b20ff%27%2C%20%27%23f03b20ff%27%2C%20%27%23f03b20ff%27%2C%20%27%23f03b20ff%27%2C%20%27%23f03b20ff%27%2C%20%27%23f03b20ff%27%2C%20%27%23f03b20ff%27%2C%20%27%23f03b20ff%27%2C%20%27%23f03b20ff%27%2C%20%27%23f03b20ff%27%2C%20%27%23f03b20ff%27%2C%20%27%23f03b20ff%27%2C%20%27%23f03b20ff%27%2C%20%27%23f03b20ff%27%2C%20%27%23f03b20ff%27%2C%20%27%23f03b20ff%27%2C%20%27%23f03b20ff%27%2C%20%27%23f03b20ff%27%2C%20%27%23f03b20ff%27%2C%20%27%23f03b20ff%27%2C%20%27%23f03b20ff%27%2C%20%27%23f03b20ff%27%2C%20%27%23f03b20ff%27%2C%20%27%23f03b20ff%27%2C%20%27%23f03b20ff%27%2C%20%27%23f03b20ff%27%2C%20%27%23f03b20ff%27%2C%20%27%23f03b20ff%27%2C%20%27%23f03b20ff%27%2C%20%27%23f03b20ff%27%2C%20%27%23f03b20ff%27%2C%20%27%23f03b20ff%27%2C%20%27%23f03b20ff%27%2C%20%27%23f03b20ff%27%2C%20%27%23f03b20ff%27%2C%20%27%23f03b20ff%27%2C%20%27%23f03b20ff%27%2C%20%27%23f03b20ff%27%2C%20%27%23f03b20ff%27%2C%20%27%23f03b20ff%27%2C%20%27%23f03b20ff%27%2C%20%27%23f03b20ff%27%2C%20%27%23f03b20ff%27%2C%20%27%23f03b20ff%27%2C%20%27%23f03b20ff%27%2C%20%27%23f03b20ff%27%2C%20%27%23f03b20ff%27%2C%20%27%23f03b20ff%27%2C%20%27%23f03b20ff%27%2C%20%27%23f03b20ff%27%2C%20%27%23f03b20ff%27%2C%20%27%23f03b20ff%27%2C%20%27%23f03b20ff%27%2C%20%27%23f03b20ff%27%2C%20%27%23f03b20ff%27%2C%20%27%23f03b20ff%27%2C%20%27%23f03b20ff%27%2C%20%27%23f03b20ff%27%2C%20%27%23f03b20ff%27%2C%20%27%23f03b20ff%27%2C%20%27%23f03b20ff%27%2C%20%27%23f03b20ff%27%2C%20%27%23f03b20ff%27%2C%20%27%23f03b20ff%27%2C%20%27%23f03b20ff%27%2C%20%27%23f03b20ff%27%2C%20%27%23f03b20ff%27%2C%20%27%23f03b20ff%27%2C%20%27%23bd0026ff%27%2C%20%27%23bd0026ff%27%2C%20%27%23bd0026ff%27%2C%20%27%23bd0026ff%27%2C%20%27%23bd0026ff%27%2C%20%27%23bd0026ff%27%2C%20%27%23bd0026ff%27%2C%20%27%23bd0026ff%27%2C%20%27%23bd0026ff%27%2C%20%27%23bd0026ff%27%2C%20%27%23bd0026ff%27%2C%20%27%23bd0026ff%27%2C%20%27%23bd0026ff%27%2C%20%27%23bd0026ff%27%2C%20%27%23bd0026ff%27%2C%20%27%23bd0026ff%27%2C%20%27%23bd0026ff%27%2C%20%27%23bd0026ff%27%2C%20%27%23bd0026ff%27%2C%20%27%23bd0026ff%27%2C%20%27%23bd0026ff%27%2C%20%27%23bd0026ff%27%2C%20%27%23bd0026ff%27%2C%20%27%23bd0026ff%27%2C%20%27%23bd0026ff%27%2C%20%27%23bd0026ff%27%2C%20%27%23bd0026ff%27%2C%20%27%23bd0026ff%27%2C%20%27%23bd0026ff%27%2C%20%27%23bd0026ff%27%2C%20%27%23bd0026ff%27%2C%20%27%23bd0026ff%27%2C%20%27%23bd0026ff%27%2C%20%27%23bd0026ff%27%2C%20%27%23bd0026ff%27%2C%20%27%23bd0026ff%27%2C%20%27%23bd0026ff%27%2C%20%27%23bd0026ff%27%2C%20%27%23bd0026ff%27%2C%20%27%23bd0026ff%27%2C%20%27%23bd0026ff%27%2C%20%27%23bd0026ff%27%2C%20%27%23bd0026ff%27%2C%20%27%23bd0026ff%27%2C%20%27%23bd0026ff%27%2C%20%27%23bd0026ff%27%2C%20%27%23bd0026ff%27%2C%20%27%23bd0026ff%27%2C%20%27%23bd0026ff%27%2C%20%27%23bd0026ff%27%2C%20%27%23bd0026ff%27%2C%20%27%23bd0026ff%27%2C%20%27%23bd0026ff%27%2C%20%27%23bd0026ff%27%2C%20%27%23bd0026ff%27%2C%20%27%23bd0026ff%27%2C%20%27%23bd0026ff%27%2C%20%27%23bd0026ff%27%2C%20%27%23bd0026ff%27%2C%20%27%23bd0026ff%27%2C%20%27%23bd0026ff%27%2C%20%27%23bd0026ff%27%2C%20%27%23bd0026ff%27%2C%20%27%23bd0026ff%27%2C%20%27%23bd0026ff%27%2C%20%27%23bd0026ff%27%2C%20%27%23bd0026ff%27%2C%20%27%23bd0026ff%27%2C%20%27%23bd0026ff%27%2C%20%27%23bd0026ff%27%2C%20%27%23bd0026ff%27%2C%20%27%23bd0026ff%27%2C%20%27%23bd0026ff%27%2C%20%27%23bd0026ff%27%2C%20%27%23bd0026ff%27%2C%20%27%23bd0026ff%27%2C%20%27%23bd0026ff%27%2C%20%27%23bd0026ff%27%2C%20%27%23bd0026ff%27%2C%20%27%23bd0026ff%27%2C%20%27%23bd0026ff%27%2C%20%27%23bd0026ff%27%2C%20%27%23bd0026ff%27%2C%20%27%23bd0026ff%27%5D%29%3B%0A%20%20%20%20%0A%0A%20%20%20%20color_map_8fb95951b34a43adbbf080e740e8db83.x%20%3D%20d3.scale.linear%28%29%0A%20%20%20%20%20%20%20%20%20%20%20%20%20%20.domain%28%5B5.0%2C%201501.0%5D%29%0A%20%20%20%20%20%20%20%20%20%20%20%20%20%20.range%28%5B0%2C%20400%5D%29%3B%0A%0A%20%20%20%20color_map_8fb95951b34a43adbbf080e740e8db83.legend%20%3D%20L.control%28%7Bposition%3A%20%27topright%27%7D%29%3B%0A%20%20%20%20color_map_8fb95951b34a43adbbf080e740e8db83.legend.onAdd%20%3D%20function%20%28map%29%20%7Bvar%20div%20%3D%20L.DomUtil.create%28%27div%27%2C%20%27legend%27%29%3B%20return%20div%7D%3B%0A%20%20%20%20color_map_8fb95951b34a43adbbf080e740e8db83.legend.addTo%28map_a848eb17e0d748eebc43f350cf22d39f%29%3B%0A%0A%20%20%20%20color_map_8fb95951b34a43adbbf080e740e8db83.xAxis%20%3D%20d3.svg.axis%28%29%0A%20%20%20%20%20%20%20%20.scale%28color_map_8fb95951b34a43adbbf080e740e8db83.x%29%0A%20%20%20%20%20%20%20%20.orient%28%22top%22%29%0A%20%20%20%20%20%20%20%20.tickSize%281%29%0A%20%20%20%20%20%20%20%20.tickValues%28%5B5.0%2C%20254.33333333333334%2C%20503.6666666666667%2C%20753.0%2C%201002.3333333333334%2C%201251.6666666666667%2C%201501.0%5D%29%3B%0A%0A%20%20%20%20color_map_8fb95951b34a43adbbf080e740e8db83.svg%20%3D%20d3.select%28%22.legend.leaflet-control%22%29.append%28%22svg%22%29%0A%20%20%20%20%20%20%20%20.attr%28%22id%22%2C%20%27legend%27%29%0A%20%20%20%20%20%20%20%20.attr%28%22width%22%2C%20450%29%0A%20%20%20%20%20%20%20%20.attr%28%22height%22%2C%2040%29%3B%0A%0A%20%20%20%20color_map_8fb95951b34a43adbbf080e740e8db83.g%20%3D%20color_map_8fb95951b34a43adbbf080e740e8db83.svg.append%28%22g%22%29%0A%20%20%20%20%20%20%20%20.attr%28%22class%22%2C%20%22key%22%29%0A%20%20%20%20%20%20%20%20.attr%28%22transform%22%2C%20%22translate%2825%2C16%29%22%29%3B%0A%0A%20%20%20%20color_map_8fb95951b34a43adbbf080e740e8db83.g.selectAll%28%22rect%22%29%0A%20%20%20%20%20%20%20%20.data%28color_map_8fb95951b34a43adbbf080e740e8db83.color.range%28%29.map%28function%28d%2C%20i%29%20%7B%0A%20%20%20%20%20%20%20%20%20%20return%20%7B%0A%20%20%20%20%20%20%20%20%20%20%20%20x0%3A%20i%20%3F%20color_map_8fb95951b34a43adbbf080e740e8db83.x%28color_map_8fb95951b34a43adbbf080e740e8db83.color.domain%28%29%5Bi%20-%201%5D%29%20%3A%20color_map_8fb95951b34a43adbbf080e740e8db83.x.range%28%29%5B0%5D%2C%0A%20%20%20%20%20%20%20%20%20%20%20%20x1%3A%20i%20%3C%20color_map_8fb95951b34a43adbbf080e740e8db83.color.domain%28%29.length%20%3F%20color_map_8fb95951b34a43adbbf080e740e8db83.x%28color_map_8fb95951b34a43adbbf080e740e8db83.color.domain%28%29%5Bi%5D%29%20%3A%20color_map_8fb95951b34a43adbbf080e740e8db83.x.range%28%29%5B1%5D%2C%0A%20%20%20%20%20%20%20%20%20%20%20%20z%3A%20d%0A%20%20%20%20%20%20%20%20%20%20%7D%3B%0A%20%20%20%20%20%20%20%20%7D%29%29%0A%20%20%20%20%20%20.enter%28%29.append%28%22rect%22%29%0A%20%20%20%20%20%20%20%20.attr%28%22height%22%2C%2010%29%0A%20%20%20%20%20%20%20%20.attr%28%22x%22%2C%20function%28d%29%20%7B%20return%20d.x0%3B%20%7D%29%0A%20%20%20%20%20%20%20%20.attr%28%22width%22%2C%20function%28d%29%20%7B%20return%20d.x1%20-%20d.x0%3B%20%7D%29%0A%20%20%20%20%20%20%20%20.style%28%22fill%22%2C%20function%28d%29%20%7B%20return%20d.z%3B%20%7D%29%3B%0A%0A%20%20%20%20color_map_8fb95951b34a43adbbf080e740e8db83.g.call%28color_map_8fb95951b34a43adbbf080e740e8db83.xAxis%29.append%28%22text%22%29%0A%20%20%20%20%20%20%20%20.attr%28%22class%22%2C%20%22caption%22%29%0A%20%20%20%20%20%20%20%20.attr%28%22y%22%2C%2021%29%0A%20%20%20%20%20%20%20%20.text%28%27Tweets%20by%20State%27%29%3B%0A%20%20%20%20%0A%20%20%20%20%20%20%20%20%20%20%20%20var%20layer_control_2c4a4e0b0d5c4b8fa6326a0dcb34c683%20%3D%20%7B%0A%20%20%20%20%20%20%20%20%20%20%20%20%20%20%20%20base_layers%20%3A%20%7B%0A%20%20%20%20%20%20%20%20%20%20%20%20%20%20%20%20%20%20%20%20%22stamentoner%22%20%3A%20tile_layer_b46ed832938c4f5bbbed7ae1642b96ad%2C%0A%20%20%20%20%20%20%20%20%20%20%20%20%20%20%20%20%7D%2C%0A%20%20%20%20%20%20%20%20%20%20%20%20%20%20%20%20overlays%20%3A%20%20%7B%0A%20%20%20%20%20%20%20%20%20%20%20%20%20%20%20%20%20%20%20%20%22choropleth%22%20%3A%20choropleth_19fecc1203714cdb8ede26f6afc67ad9%2C%0A%20%20%20%20%20%20%20%20%20%20%20%20%20%20%20%20%7D%2C%0A%20%20%20%20%20%20%20%20%20%20%20%20%7D%3B%0A%20%20%20%20%20%20%20%20%20%20%20%20L.control.layers%28%0A%20%20%20%20%20%20%20%20%20%20%20%20%20%20%20%20layer_control_2c4a4e0b0d5c4b8fa6326a0dcb34c683.base_layers%2C%0A%20%20%20%20%20%20%20%20%20%20%20%20%20%20%20%20layer_control_2c4a4e0b0d5c4b8fa6326a0dcb34c683.overlays%2C%0A%20%20%20%20%20%20%20%20%20%20%20%20%20%20%20%20%7B%22autoZIndex%22%3A%20true%2C%20%22collapsed%22%3A%20true%2C%20%22position%22%3A%20%22topright%22%7D%0A%20%20%20%20%20%20%20%20%20%20%20%20%29.addTo%28map_a848eb17e0d748eebc43f350cf22d39f%29%3B%0A%20%20%20%20%20%20%20%20%0A%20%20%20%20%0A%20%20%20%20%20%20%20%20%20%20%20%20var%20marker_cf32e5b3ef9148929519da22a0f64ddd%20%3D%20L.marker%28%0A%20%20%20%20%20%20%20%20%20%20%20%20%20%20%20%20%5B64.4459613%2C%20-149.680909%5D%2C%0A%20%20%20%20%20%20%20%20%20%20%20%20%20%20%20%20%7B%7D%0A%20%20%20%20%20%20%20%20%20%20%20%20%29.addTo%28map_a848eb17e0d748eebc43f350cf22d39f%29%3B%0A%20%20%20%20%20%20%20%20%0A%20%20%20%20%0A%20%20%20%20%20%20%20%20var%20popup_18172cefaeed4cf5bf4fcfa3b8f619ae%20%3D%20L.popup%28%7B%22maxWidth%22%3A%20200%7D%29%3B%0A%0A%20%20%20%20%20%20%20%20%0A%20%20%20%20%20%20%20%20%20%20%20%20var%20html_6aca87b8f93a48c5a8d80a9c287e748c%20%3D%20%24%28%60%3Cdiv%20id%3D%22html_6aca87b8f93a48c5a8d80a9c287e748c%22%20style%3D%22width%3A%20100.0%25%3B%20height%3A%20100.0%25%3B%22%3EAlaska%3Cbr%3ELisa%20Murkowski%20%28R%29%3B%20Tweets%3A%20105%3Cbr%3EDan%20Sullivan%20%28R%29%3B%20Tweets%3A%208%3C/div%3E%60%29%5B0%5D%3B%0A%20%20%20%20%20%20%20%20%20%20%20%20popup_18172cefaeed4cf5bf4fcfa3b8f619ae.setContent%28html_6aca87b8f93a48c5a8d80a9c287e748c%29%3B%0A%20%20%20%20%20%20%20%20%0A%0A%20%20%20%20%20%20%20%20marker_cf32e5b3ef9148929519da22a0f64ddd.bindPopup%28popup_18172cefaeed4cf5bf4fcfa3b8f619ae%29%0A%20%20%20%20%20%20%20%20%3B%0A%0A%20%20%20%20%20%20%20%20%0A%20%20%20%20%0A%20%20%20%20%0A%20%20%20%20%20%20%20%20%20%20%20%20var%20marker_ac7fb044222a46318f0ecf6ff5ff8349%20%3D%20L.marker%28%0A%20%20%20%20%20%20%20%20%20%20%20%20%20%20%20%20%5B33.2588817%2C%20-86.8295337%5D%2C%0A%20%20%20%20%20%20%20%20%20%20%20%20%20%20%20%20%7B%7D%0A%20%20%20%20%20%20%20%20%20%20%20%20%29.addTo%28map_a848eb17e0d748eebc43f350cf22d39f%29%3B%0A%20%20%20%20%20%20%20%20%0A%20%20%20%20%0A%20%20%20%20%20%20%20%20var%20popup_2c2ee83823ea4437b699292df57bf2d4%20%3D%20L.popup%28%7B%22maxWidth%22%3A%20200%7D%29%3B%0A%0A%20%20%20%20%20%20%20%20%0A%20%20%20%20%20%20%20%20%20%20%20%20var%20html_ec5d92e3c6ae40739ead6fd580a71b4c%20%3D%20%24%28%60%3Cdiv%20id%3D%22html_ec5d92e3c6ae40739ead6fd580a71b4c%22%20style%3D%22width%3A%20100.0%25%3B%20height%3A%20100.0%25%3B%22%3EAlabama%3Cbr%3ERichard%20Shelby%20%28R%29%3B%20Tweets%3A%20252%3Cbr%3ETommy%20Tuberville%20%28R%29%3B%20Tweets%3A%2012%3C/div%3E%60%29%5B0%5D%3B%0A%20%20%20%20%20%20%20%20%20%20%20%20popup_2c2ee83823ea4437b699292df57bf2d4.setContent%28html_ec5d92e3c6ae40739ead6fd580a71b4c%29%3B%0A%20%20%20%20%20%20%20%20%0A%0A%20%20%20%20%20%20%20%20marker_ac7fb044222a46318f0ecf6ff5ff8349.bindPopup%28popup_2c2ee83823ea4437b699292df57bf2d4%29%0A%20%20%20%20%20%20%20%20%3B%0A%0A%20%20%20%20%20%20%20%20%0A%20%20%20%20%0A%20%20%20%20%0A%20%20%20%20%20%20%20%20%20%20%20%20var%20marker_d6b22b490d9948a38648d33b7d9b1450%20%3D%20L.marker%28%0A%20%20%20%20%20%20%20%20%20%20%20%20%20%20%20%20%5B35.2048883%2C%20-92.4479108%5D%2C%0A%20%20%20%20%20%20%20%20%20%20%20%20%20%20%20%20%7B%7D%0A%20%20%20%20%20%20%20%20%20%20%20%20%29.addTo%28map_a848eb17e0d748eebc43f350cf22d39f%29%3B%0A%20%20%20%20%20%20%20%20%0A%20%20%20%20%0A%20%20%20%20%20%20%20%20var%20popup_b78d101d0aaa46b2aad6490fae8187cb%20%3D%20L.popup%28%7B%22maxWidth%22%3A%20200%7D%29%3B%0A%0A%20%20%20%20%20%20%20%20%0A%20%20%20%20%20%20%20%20%20%20%20%20var%20html_7aa15ffaf46f4301ad1956839543cc7f%20%3D%20%24%28%60%3Cdiv%20id%3D%22html_7aa15ffaf46f4301ad1956839543cc7f%22%20style%3D%22width%3A%20100.0%25%3B%20height%3A%20100.0%25%3B%22%3EArkansas%3Cbr%3ETom%20Cotton%20%28R%29%3B%20Tweets%3A%20465%3Cbr%3EJohn%20Boozman%20%28R%29%3B%20Tweets%3A%20144%3C/div%3E%60%29%5B0%5D%3B%0A%20%20%20%20%20%20%20%20%20%20%20%20popup_b78d101d0aaa46b2aad6490fae8187cb.setContent%28html_7aa15ffaf46f4301ad1956839543cc7f%29%3B%0A%20%20%20%20%20%20%20%20%0A%0A%20%20%20%20%20%20%20%20marker_d6b22b490d9948a38648d33b7d9b1450.bindPopup%28popup_b78d101d0aaa46b2aad6490fae8187cb%29%0A%20%20%20%20%20%20%20%20%3B%0A%0A%20%20%20%20%20%20%20%20%0A%20%20%20%20%0A%20%20%20%20%0A%20%20%20%20%20%20%20%20%20%20%20%20var%20marker_61e3507e84e948f09f1f86f333457451%20%3D%20L.marker%28%0A%20%20%20%20%20%20%20%20%20%20%20%20%20%20%20%20%5B34.395342%2C%20-111.7632755%5D%2C%0A%20%20%20%20%20%20%20%20%20%20%20%20%20%20%20%20%7B%7D%0A%20%20%20%20%20%20%20%20%20%20%20%20%29.addTo%28map_a848eb17e0d748eebc43f350cf22d39f%29%3B%0A%20%20%20%20%20%20%20%20%0A%20%20%20%20%0A%20%20%20%20%20%20%20%20var%20popup_87ed6cade07545568728fc71481db164%20%3D%20L.popup%28%7B%22maxWidth%22%3A%20200%7D%29%3B%0A%0A%20%20%20%20%20%20%20%20%0A%20%20%20%20%20%20%20%20%20%20%20%20var%20html_cc27df80fd9e4e5a9c561e7262f5c81e%20%3D%20%24%28%60%3Cdiv%20id%3D%22html_cc27df80fd9e4e5a9c561e7262f5c81e%22%20style%3D%22width%3A%20100.0%25%3B%20height%3A%20100.0%25%3B%22%3EArizona%3Cbr%3EKyrsten%20Sinema%20%28D%29%3B%20Tweets%3A%2056%3Cbr%3EMark%20Kelly%20%28D%29%3B%20Tweets%3A%2026%3C/div%3E%60%29%5B0%5D%3B%0A%20%20%20%20%20%20%20%20%20%20%20%20popup_87ed6cade07545568728fc71481db164.setContent%28html_cc27df80fd9e4e5a9c561e7262f5c81e%29%3B%0A%20%20%20%20%20%20%20%20%0A%0A%20%20%20%20%20%20%20%20marker_61e3507e84e948f09f1f86f333457451.bindPopup%28popup_87ed6cade07545568728fc71481db164%29%0A%20%20%20%20%20%20%20%20%3B%0A%0A%20%20%20%20%20%20%20%20%0A%20%20%20%20%0A%20%20%20%20%0A%20%20%20%20%20%20%20%20%20%20%20%20var%20marker_10558e5001f145bfaab74ad63a002cfc%20%3D%20L.marker%28%0A%20%20%20%20%20%20%20%20%20%20%20%20%20%20%20%20%5B36.7014631%2C%20-118.7559974%5D%2C%0A%20%20%20%20%20%20%20%20%20%20%20%20%20%20%20%20%7B%7D%0A%20%20%20%20%20%20%20%20%20%20%20%20%29.addTo%28map_a848eb17e0d748eebc43f350cf22d39f%29%3B%0A%20%20%20%20%20%20%20%20%0A%20%20%20%20%0A%20%20%20%20%20%20%20%20var%20popup_700899084e3640589c71339deb477aa3%20%3D%20L.popup%28%7B%22maxWidth%22%3A%20200%7D%29%3B%0A%0A%20%20%20%20%20%20%20%20%0A%20%20%20%20%20%20%20%20%20%20%20%20var%20html_416d0c6a3f5a40f1a278fca8c299aa2a%20%3D%20%24%28%60%3Cdiv%20id%3D%22html_416d0c6a3f5a40f1a278fca8c299aa2a%22%20style%3D%22width%3A%20100.0%25%3B%20height%3A%20100.0%25%3B%22%3ECalifornia%3Cbr%3EDianne%20Feinstein%20%28D%29%3B%20Tweets%3A%2013%3Cbr%3EKamala%20Harris%20%28D%29%3B%20Tweets%3A%204%3C/div%3E%60%29%5B0%5D%3B%0A%20%20%20%20%20%20%20%20%20%20%20%20popup_700899084e3640589c71339deb477aa3.setContent%28html_416d0c6a3f5a40f1a278fca8c299aa2a%29%3B%0A%20%20%20%20%20%20%20%20%0A%0A%20%20%20%20%20%20%20%20marker_10558e5001f145bfaab74ad63a002cfc.bindPopup%28popup_700899084e3640589c71339deb477aa3%29%0A%20%20%20%20%20%20%20%20%3B%0A%0A%20%20%20%20%20%20%20%20%0A%20%20%20%20%0A%20%20%20%20%0A%20%20%20%20%20%20%20%20%20%20%20%20var%20marker_cfd52bf66d85490183168b366135e7c3%20%3D%20L.marker%28%0A%20%20%20%20%20%20%20%20%20%20%20%20%20%20%20%20%5B38.7251776%2C%20-105.6077167%5D%2C%0A%20%20%20%20%20%20%20%20%20%20%20%20%20%20%20%20%7B%7D%0A%20%20%20%20%20%20%20%20%20%20%20%20%29.addTo%28map_a848eb17e0d748eebc43f350cf22d39f%29%3B%0A%20%20%20%20%20%20%20%20%0A%20%20%20%20%0A%20%20%20%20%20%20%20%20var%20popup_aa98e834b50a48f0b124343aedf2b8b3%20%3D%20L.popup%28%7B%22maxWidth%22%3A%20200%7D%29%3B%0A%0A%20%20%20%20%20%20%20%20%0A%20%20%20%20%20%20%20%20%20%20%20%20var%20html_fae73ac4b7d84879877630526bf330d2%20%3D%20%24%28%60%3Cdiv%20id%3D%22html_fae73ac4b7d84879877630526bf330d2%22%20style%3D%22width%3A%20100.0%25%3B%20height%3A%20100.0%25%3B%22%3EColorado%3Cbr%3EMichael%20Bennet%20%28D%29%3B%20Tweets%3A%204%3Cbr%3EJohn%20Hickenlooper%20%28D%29%3B%20Tweets%3A%201%3C/div%3E%60%29%5B0%5D%3B%0A%20%20%20%20%20%20%20%20%20%20%20%20popup_aa98e834b50a48f0b124343aedf2b8b3.setContent%28html_fae73ac4b7d84879877630526bf330d2%29%3B%0A%20%20%20%20%20%20%20%20%0A%0A%20%20%20%20%20%20%20%20marker_cfd52bf66d85490183168b366135e7c3.bindPopup%28popup_aa98e834b50a48f0b124343aedf2b8b3%29%0A%20%20%20%20%20%20%20%20%3B%0A%0A%20%20%20%20%20%20%20%20%0A%20%20%20%20%0A%20%20%20%20%0A%20%20%20%20%20%20%20%20%20%20%20%20var%20marker_e1e001b250bb4363a9bff0e61306b179%20%3D%20L.marker%28%0A%20%20%20%20%20%20%20%20%20%20%20%20%20%20%20%20%5B41.6500201%2C%20-72.7342163%5D%2C%0A%20%20%20%20%20%20%20%20%20%20%20%20%20%20%20%20%7B%7D%0A%20%20%20%20%20%20%20%20%20%20%20%20%29.addTo%28map_a848eb17e0d748eebc43f350cf22d39f%29%3B%0A%20%20%20%20%20%20%20%20%0A%20%20%20%20%0A%20%20%20%20%20%20%20%20var%20popup_3706d4c5bf364bc8985fcc15390bbab8%20%3D%20L.popup%28%7B%22maxWidth%22%3A%20200%7D%29%3B%0A%0A%20%20%20%20%20%20%20%20%0A%20%20%20%20%20%20%20%20%20%20%20%20var%20html_66d6655afa664fdfb11233f7e47dde3c%20%3D%20%24%28%60%3Cdiv%20id%3D%22html_66d6655afa664fdfb11233f7e47dde3c%22%20style%3D%22width%3A%20100.0%25%3B%20height%3A%20100.0%25%3B%22%3EConnecticut%3Cbr%3EChristopher%20Murphy%20%28D%29%3B%20Tweets%3A%2082%3Cbr%3ERichard%20Blumenthal%20%28D%29%3B%20Tweets%3A%2022%3C/div%3E%60%29%5B0%5D%3B%0A%20%20%20%20%20%20%20%20%20%20%20%20popup_3706d4c5bf364bc8985fcc15390bbab8.setContent%28html_66d6655afa664fdfb11233f7e47dde3c%29%3B%0A%20%20%20%20%20%20%20%20%0A%0A%20%20%20%20%20%20%20%20marker_e1e001b250bb4363a9bff0e61306b179.bindPopup%28popup_3706d4c5bf364bc8985fcc15390bbab8%29%0A%20%20%20%20%20%20%20%20%3B%0A%0A%20%20%20%20%20%20%20%20%0A%20%20%20%20%0A%20%20%20%20%0A%20%20%20%20%20%20%20%20%20%20%20%20var%20marker_6e93082c509f44af9b47c3a481b169db%20%3D%20L.marker%28%0A%20%20%20%20%20%20%20%20%20%20%20%20%20%20%20%20%5B38.6920451%2C%20-75.4013315%5D%2C%0A%20%20%20%20%20%20%20%20%20%20%20%20%20%20%20%20%7B%7D%0A%20%20%20%20%20%20%20%20%20%20%20%20%29.addTo%28map_a848eb17e0d748eebc43f350cf22d39f%29%3B%0A%20%20%20%20%20%20%20%20%0A%20%20%20%20%0A%20%20%20%20%20%20%20%20var%20popup_09a4ac5fa6d1481083ad687c0541b82f%20%3D%20L.popup%28%7B%22maxWidth%22%3A%20200%7D%29%3B%0A%0A%20%20%20%20%20%20%20%20%0A%20%20%20%20%20%20%20%20%20%20%20%20var%20html_6c1df4928233416aa58a3eae9456027f%20%3D%20%24%28%60%3Cdiv%20id%3D%22html_6c1df4928233416aa58a3eae9456027f%22%20style%3D%22width%3A%20100.0%25%3B%20height%3A%20100.0%25%3B%22%3EDelaware%3Cbr%3EChris%20Coons%20%28D%29%3B%20Tweets%3A%20989%3Cbr%3ETom%20Carper%20%28D%29%3B%20Tweets%3A%207%3C/div%3E%60%29%5B0%5D%3B%0A%20%20%20%20%20%20%20%20%20%20%20%20popup_09a4ac5fa6d1481083ad687c0541b82f.setContent%28html_6c1df4928233416aa58a3eae9456027f%29%3B%0A%20%20%20%20%20%20%20%20%0A%0A%20%20%20%20%20%20%20%20marker_6e93082c509f44af9b47c3a481b169db.bindPopup%28popup_09a4ac5fa6d1481083ad687c0541b82f%29%0A%20%20%20%20%20%20%20%20%3B%0A%0A%20%20%20%20%20%20%20%20%0A%20%20%20%20%0A%20%20%20%20%0A%20%20%20%20%20%20%20%20%20%20%20%20var%20marker_6d4c92f0b2224771ba99721a21030505%20%3D%20L.marker%28%0A%20%20%20%20%20%20%20%20%20%20%20%20%20%20%20%20%5B27.7567667%2C%20-81.4639835%5D%2C%0A%20%20%20%20%20%20%20%20%20%20%20%20%20%20%20%20%7B%7D%0A%20%20%20%20%20%20%20%20%20%20%20%20%29.addTo%28map_a848eb17e0d748eebc43f350cf22d39f%29%3B%0A%20%20%20%20%20%20%20%20%0A%20%20%20%20%0A%20%20%20%20%20%20%20%20var%20popup_0d036f1cde5449a986b0d6be14707a4a%20%3D%20L.popup%28%7B%22maxWidth%22%3A%20200%7D%29%3B%0A%0A%20%20%20%20%20%20%20%20%0A%20%20%20%20%20%20%20%20%20%20%20%20var%20html_ee12ff3bf1ac4647a0d2e48d6f001a2c%20%3D%20%24%28%60%3Cdiv%20id%3D%22html_ee12ff3bf1ac4647a0d2e48d6f001a2c%22%20style%3D%22width%3A%20100.0%25%3B%20height%3A%20100.0%25%3B%22%3EFlorida%3Cbr%3EMarco%20Rubio%20%28R%29%3B%20Tweets%3A%20843%3Cbr%3ERick%20Scott%20%20%28R%29%3B%20Tweets%3A%20464%3C/div%3E%60%29%5B0%5D%3B%0A%20%20%20%20%20%20%20%20%20%20%20%20popup_0d036f1cde5449a986b0d6be14707a4a.setContent%28html_ee12ff3bf1ac4647a0d2e48d6f001a2c%29%3B%0A%20%20%20%20%20%20%20%20%0A%0A%20%20%20%20%20%20%20%20marker_6d4c92f0b2224771ba99721a21030505.bindPopup%28popup_0d036f1cde5449a986b0d6be14707a4a%29%0A%20%20%20%20%20%20%20%20%3B%0A%0A%20%20%20%20%20%20%20%20%0A%20%20%20%20%0A%20%20%20%20%0A%20%20%20%20%20%20%20%20%20%20%20%20var%20marker_ac67e6512b83476e9e287ad89a2388ce%20%3D%20L.marker%28%0A%20%20%20%20%20%20%20%20%20%20%20%20%20%20%20%20%5B32.3293809%2C%20-83.1137366%5D%2C%0A%20%20%20%20%20%20%20%20%20%20%20%20%20%20%20%20%7B%7D%0A%20%20%20%20%20%20%20%20%20%20%20%20%29.addTo%28map_a848eb17e0d748eebc43f350cf22d39f%29%3B%0A%20%20%20%20%20%20%20%20%0A%20%20%20%20%0A%20%20%20%20%20%20%20%20var%20popup_a197e096e39c43e3a6fd745ac0a9efe3%20%3D%20L.popup%28%7B%22maxWidth%22%3A%20200%7D%29%3B%0A%0A%20%20%20%20%20%20%20%20%0A%20%20%20%20%20%20%20%20%20%20%20%20var%20html_52ac5cc8548f4f489c0c3b237590c56e%20%3D%20%24%28%60%3Cdiv%20id%3D%22html_52ac5cc8548f4f489c0c3b237590c56e%22%20style%3D%22width%3A%20100.0%25%3B%20height%3A%20100.0%25%3B%22%3EGeorgia%3Cbr%3EJon%20Ossoff%20%28D%29%3B%20Tweets%3A%2011%3Cbr%3ERaphael%20Warnock%20%28D%29%3B%20Tweets%3A%208%3C/div%3E%60%29%5B0%5D%3B%0A%20%20%20%20%20%20%20%20%20%20%20%20popup_a197e096e39c43e3a6fd745ac0a9efe3.setContent%28html_52ac5cc8548f4f489c0c3b237590c56e%29%3B%0A%20%20%20%20%20%20%20%20%0A%0A%20%20%20%20%20%20%20%20marker_ac67e6512b83476e9e287ad89a2388ce.bindPopup%28popup_a197e096e39c43e3a6fd745ac0a9efe3%29%0A%20%20%20%20%20%20%20%20%3B%0A%0A%20%20%20%20%20%20%20%20%0A%20%20%20%20%0A%20%20%20%20%0A%20%20%20%20%20%20%20%20%20%20%20%20var%20marker_c74d4567ebee4e78b92ed2ee799840d9%20%3D%20L.marker%28%0A%20%20%20%20%20%20%20%20%20%20%20%20%20%20%20%20%5B21.2160437%2C%20-157.975203%5D%2C%0A%20%20%20%20%20%20%20%20%20%20%20%20%20%20%20%20%7B%7D%0A%20%20%20%20%20%20%20%20%20%20%20%20%29.addTo%28map_a848eb17e0d748eebc43f350cf22d39f%29%3B%0A%20%20%20%20%20%20%20%20%0A%20%20%20%20%0A%20%20%20%20%20%20%20%20var%20popup_72164daa770242c58bf8c5016a823658%20%3D%20L.popup%28%7B%22maxWidth%22%3A%20200%7D%29%3B%0A%0A%20%20%20%20%20%20%20%20%0A%20%20%20%20%20%20%20%20%20%20%20%20var%20html_40bbb1f08d8e4041922f7e746d6d427c%20%3D%20%24%28%60%3Cdiv%20id%3D%22html_40bbb1f08d8e4041922f7e746d6d427c%22%20style%3D%22width%3A%20100.0%25%3B%20height%3A%20100.0%25%3B%22%3EHawaii%3Cbr%3EBrian%20Schatz%20%28D%29%3B%20Tweets%3A%20736%3Cbr%3EMazie%20Hirono%20%28D%29%3B%20Tweets%3A%201%3C/div%3E%60%29%5B0%5D%3B%0A%20%20%20%20%20%20%20%20%20%20%20%20popup_72164daa770242c58bf8c5016a823658.setContent%28html_40bbb1f08d8e4041922f7e746d6d427c%29%3B%0A%20%20%20%20%20%20%20%20%0A%0A%20%20%20%20%20%20%20%20marker_c74d4567ebee4e78b92ed2ee799840d9.bindPopup%28popup_72164daa770242c58bf8c5016a823658%29%0A%20%20%20%20%20%20%20%20%3B%0A%0A%20%20%20%20%20%20%20%20%0A%20%20%20%20%0A%20%20%20%20%0A%20%20%20%20%20%20%20%20%20%20%20%20var%20marker_eea41a4e2fbd4fefb9735d170838d2be%20%3D%20L.marker%28%0A%20%20%20%20%20%20%20%20%20%20%20%20%20%20%20%20%5B41.9216734%2C%20-93.3122705%5D%2C%0A%20%20%20%20%20%20%20%20%20%20%20%20%20%20%20%20%7B%7D%0A%20%20%20%20%20%20%20%20%20%20%20%20%29.addTo%28map_a848eb17e0d748eebc43f350cf22d39f%29%3B%0A%20%20%20%20%20%20%20%20%0A%20%20%20%20%0A%20%20%20%20%20%20%20%20var%20popup_2102cac8959443e795909914761ae447%20%3D%20L.popup%28%7B%22maxWidth%22%3A%20200%7D%29%3B%0A%0A%20%20%20%20%20%20%20%20%0A%20%20%20%20%20%20%20%20%20%20%20%20var%20html_5c0453ffc9bf442d91349976d16c0dc5%20%3D%20%24%28%60%3Cdiv%20id%3D%22html_5c0453ffc9bf442d91349976d16c0dc5%22%20style%3D%22width%3A%20100.0%25%3B%20height%3A%20100.0%25%3B%22%3EIowa%3Cbr%3EChuck%20Grassley%20%28R%29%3B%20Tweets%3A%20124%3Cbr%3EJoni%20Ernst%20%28R%29%3B%20Tweets%3A%201%3C/div%3E%60%29%5B0%5D%3B%0A%20%20%20%20%20%20%20%20%20%20%20%20popup_2102cac8959443e795909914761ae447.setContent%28html_5c0453ffc9bf442d91349976d16c0dc5%29%3B%0A%20%20%20%20%20%20%20%20%0A%0A%20%20%20%20%20%20%20%20marker_eea41a4e2fbd4fefb9735d170838d2be.bindPopup%28popup_2102cac8959443e795909914761ae447%29%0A%20%20%20%20%20%20%20%20%3B%0A%0A%20%20%20%20%20%20%20%20%0A%20%20%20%20%0A%20%20%20%20%0A%20%20%20%20%20%20%20%20%20%20%20%20var%20marker_2b89349adbb6494f99a4e9d7661d5da2%20%3D%20L.marker%28%0A%20%20%20%20%20%20%20%20%20%20%20%20%20%20%20%20%5B43.6447642%2C%20-114.0154071%5D%2C%0A%20%20%20%20%20%20%20%20%20%20%20%20%20%20%20%20%7B%7D%0A%20%20%20%20%20%20%20%20%20%20%20%20%29.addTo%28map_a848eb17e0d748eebc43f350cf22d39f%29%3B%0A%20%20%20%20%20%20%20%20%0A%20%20%20%20%0A%20%20%20%20%20%20%20%20var%20popup_94ed7bfab0794eb992215f8d81212ba1%20%3D%20L.popup%28%7B%22maxWidth%22%3A%20200%7D%29%3B%0A%0A%20%20%20%20%20%20%20%20%0A%20%20%20%20%20%20%20%20%20%20%20%20var%20html_5edc3d6a8c57428895429cedfeaba4cb%20%3D%20%24%28%60%3Cdiv%20id%3D%22html_5edc3d6a8c57428895429cedfeaba4cb%22%20style%3D%22width%3A%20100.0%25%3B%20height%3A%20100.0%25%3B%22%3EIdaho%3Cbr%3EJim%20Risch%20%28R%29%3B%20Tweets%3A%201056%3Cbr%3EMike%20Crapo%20%28R%29%3B%20Tweets%3A%20102%3C/div%3E%60%29%5B0%5D%3B%0A%20%20%20%20%20%20%20%20%20%20%20%20popup_94ed7bfab0794eb992215f8d81212ba1.setContent%28html_5edc3d6a8c57428895429cedfeaba4cb%29%3B%0A%20%20%20%20%20%20%20%20%0A%0A%20%20%20%20%20%20%20%20marker_2b89349adbb6494f99a4e9d7661d5da2.bindPopup%28popup_94ed7bfab0794eb992215f8d81212ba1%29%0A%20%20%20%20%20%20%20%20%3B%0A%0A%20%20%20%20%20%20%20%20%0A%20%20%20%20%0A%20%20%20%20%0A%20%20%20%20%20%20%20%20%20%20%20%20var%20marker_191b7072b85f44aa98ce631f22837e47%20%3D%20L.marker%28%0A%20%20%20%20%20%20%20%20%20%20%20%20%20%20%20%20%5B40.0796606%2C%20-89.4337288%5D%2C%0A%20%20%20%20%20%20%20%20%20%20%20%20%20%20%20%20%7B%7D%0A%20%20%20%20%20%20%20%20%20%20%20%20%29.addTo%28map_a848eb17e0d748eebc43f350cf22d39f%29%3B%0A%20%20%20%20%20%20%20%20%0A%20%20%20%20%0A%20%20%20%20%20%20%20%20var%20popup_244f7a4885904dc08cd67bc6a49f9e1f%20%3D%20L.popup%28%7B%22maxWidth%22%3A%20200%7D%29%3B%0A%0A%20%20%20%20%20%20%20%20%0A%20%20%20%20%20%20%20%20%20%20%20%20var%20html_a8606694ca454d01b7c0036a205581bb%20%3D%20%24%28%60%3Cdiv%20id%3D%22html_a8606694ca454d01b7c0036a205581bb%22%20style%3D%22width%3A%20100.0%25%3B%20height%3A%20100.0%25%3B%22%3EIllinois%3Cbr%3EDick%20Durbin%20%28D%29%3B%20Tweets%3A%2040%3Cbr%3ETammy%20Duckworth%20%28D%29%3B%20Tweets%3A%2015%3C/div%3E%60%29%5B0%5D%3B%0A%20%20%20%20%20%20%20%20%20%20%20%20popup_244f7a4885904dc08cd67bc6a49f9e1f.setContent%28html_a8606694ca454d01b7c0036a205581bb%29%3B%0A%20%20%20%20%20%20%20%20%0A%0A%20%20%20%20%20%20%20%20marker_191b7072b85f44aa98ce631f22837e47.bindPopup%28popup_244f7a4885904dc08cd67bc6a49f9e1f%29%0A%20%20%20%20%20%20%20%20%3B%0A%0A%20%20%20%20%20%20%20%20%0A%20%20%20%20%0A%20%20%20%20%0A%20%20%20%20%20%20%20%20%20%20%20%20var%20marker_936f763245a74ff0b6057e06bc38c58b%20%3D%20L.marker%28%0A%20%20%20%20%20%20%20%20%20%20%20%20%20%20%20%20%5B40.3270127%2C%20-86.1746933%5D%2C%0A%20%20%20%20%20%20%20%20%20%20%20%20%20%20%20%20%7B%7D%0A%20%20%20%20%20%20%20%20%20%20%20%20%29.addTo%28map_a848eb17e0d748eebc43f350cf22d39f%29%3B%0A%20%20%20%20%20%20%20%20%0A%20%20%20%20%0A%20%20%20%20%20%20%20%20var%20popup_e016f9913d694655b3144b3f251a2de2%20%3D%20L.popup%28%7B%22maxWidth%22%3A%20200%7D%29%3B%0A%0A%20%20%20%20%20%20%20%20%0A%20%20%20%20%20%20%20%20%20%20%20%20var%20html_530a80c4de854a1d9f9d94e54b3d492e%20%3D%20%24%28%60%3Cdiv%20id%3D%22html_530a80c4de854a1d9f9d94e54b3d492e%22%20style%3D%22width%3A%20100.0%25%3B%20height%3A%20100.0%25%3B%22%3EIndiana%3Cbr%3ETodd%20Young%20%28R%29%3B%20Tweets%3A%20477%3Cbr%3EMike%20Braun%20%20%28R%29%3B%20Tweets%3A%2014%3C/div%3E%60%29%5B0%5D%3B%0A%20%20%20%20%20%20%20%20%20%20%20%20popup_e016f9913d694655b3144b3f251a2de2.setContent%28html_530a80c4de854a1d9f9d94e54b3d492e%29%3B%0A%20%20%20%20%20%20%20%20%0A%0A%20%20%20%20%20%20%20%20marker_936f763245a74ff0b6057e06bc38c58b.bindPopup%28popup_e016f9913d694655b3144b3f251a2de2%29%0A%20%20%20%20%20%20%20%20%3B%0A%0A%20%20%20%20%20%20%20%20%0A%20%20%20%20%0A%20%20%20%20%0A%20%20%20%20%20%20%20%20%20%20%20%20var%20marker_05543f8e7e114008b6290e02d113632a%20%3D%20L.marker%28%0A%20%20%20%20%20%20%20%20%20%20%20%20%20%20%20%20%5B38.27312%2C%20-98.5821872%5D%2C%0A%20%20%20%20%20%20%20%20%20%20%20%20%20%20%20%20%7B%7D%0A%20%20%20%20%20%20%20%20%20%20%20%20%29.addTo%28map_a848eb17e0d748eebc43f350cf22d39f%29%3B%0A%20%20%20%20%20%20%20%20%0A%20%20%20%20%0A%20%20%20%20%20%20%20%20var%20popup_cb9ca46e8032495e84ce7ffd71c5b5bb%20%3D%20L.popup%28%7B%22maxWidth%22%3A%20200%7D%29%3B%0A%0A%20%20%20%20%20%20%20%20%0A%20%20%20%20%20%20%20%20%20%20%20%20var%20html_0dfe3e72ffae4524adc5654250e136cc%20%3D%20%24%28%60%3Cdiv%20id%3D%22html_0dfe3e72ffae4524adc5654250e136cc%22%20style%3D%22width%3A%20100.0%25%3B%20height%3A%20100.0%25%3B%22%3EKansas%3Cbr%3EJerry%20Moran%20%28R%29%3B%20Tweets%3A%20131%3Cbr%3ERoger%20Marshall%20%28R%29%3B%20Tweets%3A%2014%3C/div%3E%60%29%5B0%5D%3B%0A%20%20%20%20%20%20%20%20%20%20%20%20popup_cb9ca46e8032495e84ce7ffd71c5b5bb.setContent%28html_0dfe3e72ffae4524adc5654250e136cc%29%3B%0A%20%20%20%20%20%20%20%20%0A%0A%20%20%20%20%20%20%20%20marker_05543f8e7e114008b6290e02d113632a.bindPopup%28popup_cb9ca46e8032495e84ce7ffd71c5b5bb%29%0A%20%20%20%20%20%20%20%20%3B%0A%0A%20%20%20%20%20%20%20%20%0A%20%20%20%20%0A%20%20%20%20%0A%20%20%20%20%20%20%20%20%20%20%20%20var%20marker_aa7a2692f9a34165b968e078974dc3cb%20%3D%20L.marker%28%0A%20%20%20%20%20%20%20%20%20%20%20%20%20%20%20%20%5B37.5726028%2C%20-85.1551411%5D%2C%0A%20%20%20%20%20%20%20%20%20%20%20%20%20%20%20%20%7B%7D%0A%20%20%20%20%20%20%20%20%20%20%20%20%29.addTo%28map_a848eb17e0d748eebc43f350cf22d39f%29%3B%0A%20%20%20%20%20%20%20%20%0A%20%20%20%20%0A%20%20%20%20%20%20%20%20var%20popup_869379cc0e6f42139990d19a8cf088e1%20%3D%20L.popup%28%7B%22maxWidth%22%3A%20200%7D%29%3B%0A%0A%20%20%20%20%20%20%20%20%0A%20%20%20%20%20%20%20%20%20%20%20%20var%20html_14447988f1c34bcbb9f36198ebb77cf3%20%3D%20%24%28%60%3Cdiv%20id%3D%22html_14447988f1c34bcbb9f36198ebb77cf3%22%20style%3D%22width%3A%20100.0%25%3B%20height%3A%20100.0%25%3B%22%3EKentucky%3Cbr%3ERand%20Paul%20%28R%29%3B%20Tweets%3A%20274%3Cbr%3EMitch%20McConnell%20%28R%29%3B%20Tweets%3A%204%3C/div%3E%60%29%5B0%5D%3B%0A%20%20%20%20%20%20%20%20%20%20%20%20popup_869379cc0e6f42139990d19a8cf088e1.setContent%28html_14447988f1c34bcbb9f36198ebb77cf3%29%3B%0A%20%20%20%20%20%20%20%20%0A%0A%20%20%20%20%20%20%20%20marker_aa7a2692f9a34165b968e078974dc3cb.bindPopup%28popup_869379cc0e6f42139990d19a8cf088e1%29%0A%20%20%20%20%20%20%20%20%3B%0A%0A%20%20%20%20%20%20%20%20%0A%20%20%20%20%0A%20%20%20%20%0A%20%20%20%20%20%20%20%20%20%20%20%20var%20marker_d229ea810a6a4aff809cedece0c94ff5%20%3D%20L.marker%28%0A%20%20%20%20%20%20%20%20%20%20%20%20%20%20%20%20%5B30.8703881%2C%20-92.007126%5D%2C%0A%20%20%20%20%20%20%20%20%20%20%20%20%20%20%20%20%7B%7D%0A%20%20%20%20%20%20%20%20%20%20%20%20%29.addTo%28map_a848eb17e0d748eebc43f350cf22d39f%29%3B%0A%20%20%20%20%20%20%20%20%0A%20%20%20%20%0A%20%20%20%20%20%20%20%20var%20popup_b65a3cf7f01c44fe8e81ef91b09e6919%20%3D%20L.popup%28%7B%22maxWidth%22%3A%20200%7D%29%3B%0A%0A%20%20%20%20%20%20%20%20%0A%20%20%20%20%20%20%20%20%20%20%20%20var%20html_92500e3655384fa1b11e450d5788ec8a%20%3D%20%24%28%60%3Cdiv%20id%3D%22html_92500e3655384fa1b11e450d5788ec8a%22%20style%3D%22width%3A%20100.0%25%3B%20height%3A%20100.0%25%3B%22%3ELouisiana%3Cbr%3EJohn%20Kennedy%20%28R%29%3B%20Tweets%3A%20310%3Cbr%3EBill%20Cassidy%20%28R%29%3B%20Tweets%3A%20146%3C/div%3E%60%29%5B0%5D%3B%0A%20%20%20%20%20%20%20%20%20%20%20%20popup_b65a3cf7f01c44fe8e81ef91b09e6919.setContent%28html_92500e3655384fa1b11e450d5788ec8a%29%3B%0A%20%20%20%20%20%20%20%20%0A%0A%20%20%20%20%20%20%20%20marker_d229ea810a6a4aff809cedece0c94ff5.bindPopup%28popup_b65a3cf7f01c44fe8e81ef91b09e6919%29%0A%20%20%20%20%20%20%20%20%3B%0A%0A%20%20%20%20%20%20%20%20%0A%20%20%20%20%0A%20%20%20%20%0A%20%20%20%20%20%20%20%20%20%20%20%20var%20marker_50f055cfa4e14c7bbf9049d7bdfa78b1%20%3D%20L.marker%28%0A%20%20%20%20%20%20%20%20%20%20%20%20%20%20%20%20%5B42.3788774%2C%20-72.032366%5D%2C%0A%20%20%20%20%20%20%20%20%20%20%20%20%20%20%20%20%7B%7D%0A%20%20%20%20%20%20%20%20%20%20%20%20%29.addTo%28map_a848eb17e0d748eebc43f350cf22d39f%29%3B%0A%20%20%20%20%20%20%20%20%0A%20%20%20%20%0A%20%20%20%20%20%20%20%20var%20popup_9d8b3c3383fb43978aac20210ad5eafd%20%3D%20L.popup%28%7B%22maxWidth%22%3A%20200%7D%29%3B%0A%0A%20%20%20%20%20%20%20%20%0A%20%20%20%20%20%20%20%20%20%20%20%20var%20html_3d64c83e657c42fbb6dc0be0e343290f%20%3D%20%24%28%60%3Cdiv%20id%3D%22html_3d64c83e657c42fbb6dc0be0e343290f%22%20style%3D%22width%3A%20100.0%25%3B%20height%3A%20100.0%25%3B%22%3EMassachusetts%3Cbr%3EEd%20Markey%20%28D%29%3B%20Tweets%3A%20337%3Cbr%3EElizabeth%20Warren%20%28D%29%3B%20Tweets%3A%2093%3C/div%3E%60%29%5B0%5D%3B%0A%20%20%20%20%20%20%20%20%20%20%20%20popup_9d8b3c3383fb43978aac20210ad5eafd.setContent%28html_3d64c83e657c42fbb6dc0be0e343290f%29%3B%0A%20%20%20%20%20%20%20%20%0A%0A%20%20%20%20%20%20%20%20marker_50f055cfa4e14c7bbf9049d7bdfa78b1.bindPopup%28popup_9d8b3c3383fb43978aac20210ad5eafd%29%0A%20%20%20%20%20%20%20%20%3B%0A%0A%20%20%20%20%20%20%20%20%0A%20%20%20%20%0A%20%20%20%20%0A%20%20%20%20%20%20%20%20%20%20%20%20var%20marker_d37cf15da2c44235a38b6a2dfdc098b0%20%3D%20L.marker%28%0A%20%20%20%20%20%20%20%20%20%20%20%20%20%20%20%20%5B39.5162234%2C%20-76.9382069%5D%2C%0A%20%20%20%20%20%20%20%20%20%20%20%20%20%20%20%20%7B%7D%0A%20%20%20%20%20%20%20%20%20%20%20%20%29.addTo%28map_a848eb17e0d748eebc43f350cf22d39f%29%3B%0A%20%20%20%20%20%20%20%20%0A%20%20%20%20%0A%20%20%20%20%20%20%20%20var%20popup_bee57bf5cfb14547a2d28594245c2663%20%3D%20L.popup%28%7B%22maxWidth%22%3A%20200%7D%29%3B%0A%0A%20%20%20%20%20%20%20%20%0A%20%20%20%20%20%20%20%20%20%20%20%20var%20html_04bf7410a3284d3f9646bda89ed17e29%20%3D%20%24%28%60%3Cdiv%20id%3D%22html_04bf7410a3284d3f9646bda89ed17e29%22%20style%3D%22width%3A%20100.0%25%3B%20height%3A%20100.0%25%3B%22%3EMaryland%3Cbr%3EBen%20Cardin%20%28D%29%3B%20Tweets%3A%20739%3Cbr%3EChris%20Van%20Hollen%20%28D%29%3B%20Tweets%3A%20193%3C/div%3E%60%29%5B0%5D%3B%0A%20%20%20%20%20%20%20%20%20%20%20%20popup_bee57bf5cfb14547a2d28594245c2663.setContent%28html_04bf7410a3284d3f9646bda89ed17e29%29%3B%0A%20%20%20%20%20%20%20%20%0A%0A%20%20%20%20%20%20%20%20marker_d37cf15da2c44235a38b6a2dfdc098b0.bindPopup%28popup_bee57bf5cfb14547a2d28594245c2663%29%0A%20%20%20%20%20%20%20%20%3B%0A%0A%20%20%20%20%20%20%20%20%0A%20%20%20%20%0A%20%20%20%20%0A%20%20%20%20%20%20%20%20%20%20%20%20var%20marker_418399e98cd8426c940a3133b7bbe426%20%3D%20L.marker%28%0A%20%20%20%20%20%20%20%20%20%20%20%20%20%20%20%20%5B45.709097%2C%20-68.8590201%5D%2C%0A%20%20%20%20%20%20%20%20%20%20%20%20%20%20%20%20%7B%7D%0A%20%20%20%20%20%20%20%20%20%20%20%20%29.addTo%28map_a848eb17e0d748eebc43f350cf22d39f%29%3B%0A%20%20%20%20%20%20%20%20%0A%20%20%20%20%0A%20%20%20%20%20%20%20%20var%20popup_bcb9f70287604186be82734a849be31f%20%3D%20L.popup%28%7B%22maxWidth%22%3A%20200%7D%29%3B%0A%0A%20%20%20%20%20%20%20%20%0A%20%20%20%20%20%20%20%20%20%20%20%20var%20html_b06ccafa260d4b7692fee96e90384dd3%20%3D%20%24%28%60%3Cdiv%20id%3D%22html_b06ccafa260d4b7692fee96e90384dd3%22%20style%3D%22width%3A%20100.0%25%3B%20height%3A%20100.0%25%3B%22%3EMaine%3Cbr%3ESusan%20Collins%20%28R%29%3B%20Tweets%3A%20136%3Cbr%3EAngus%20King%20%28I%29%3B%20Tweets%3A%204%3C/div%3E%60%29%5B0%5D%3B%0A%20%20%20%20%20%20%20%20%20%20%20%20popup_bcb9f70287604186be82734a849be31f.setContent%28html_b06ccafa260d4b7692fee96e90384dd3%29%3B%0A%20%20%20%20%20%20%20%20%0A%0A%20%20%20%20%20%20%20%20marker_418399e98cd8426c940a3133b7bbe426.bindPopup%28popup_bcb9f70287604186be82734a849be31f%29%0A%20%20%20%20%20%20%20%20%3B%0A%0A%20%20%20%20%20%20%20%20%0A%20%20%20%20%0A%20%20%20%20%0A%20%20%20%20%20%20%20%20%20%20%20%20var%20marker_c534d3d68c4f4cf294721dbc9e785845%20%3D%20L.marker%28%0A%20%20%20%20%20%20%20%20%20%20%20%20%20%20%20%20%5B43.6211955%2C%20-84.6824346%5D%2C%0A%20%20%20%20%20%20%20%20%20%20%20%20%20%20%20%20%7B%7D%0A%20%20%20%20%20%20%20%20%20%20%20%20%29.addTo%28map_a848eb17e0d748eebc43f350cf22d39f%29%3B%0A%20%20%20%20%20%20%20%20%0A%20%20%20%20%0A%20%20%20%20%20%20%20%20var%20popup_047cffa69a3548b6bc0a9da829917fa5%20%3D%20L.popup%28%7B%22maxWidth%22%3A%20200%7D%29%3B%0A%0A%20%20%20%20%20%20%20%20%0A%20%20%20%20%20%20%20%20%20%20%20%20var%20html_9ed622a401a6414685d780af5586bd43%20%3D%20%24%28%60%3Cdiv%20id%3D%22html_9ed622a401a6414685d780af5586bd43%22%20style%3D%22width%3A%20100.0%25%3B%20height%3A%20100.0%25%3B%22%3EMichigan%3Cbr%3EDebbie%20Stabenow%20%28D%29%3B%20Tweets%3A%207%3Cbr%3EGary%20Peters%20%28D%29%3B%20Tweets%3A%205%3C/div%3E%60%29%5B0%5D%3B%0A%20%20%20%20%20%20%20%20%20%20%20%20popup_047cffa69a3548b6bc0a9da829917fa5.setContent%28html_9ed622a401a6414685d780af5586bd43%29%3B%0A%20%20%20%20%20%20%20%20%0A%0A%20%20%20%20%20%20%20%20marker_c534d3d68c4f4cf294721dbc9e785845.bindPopup%28popup_047cffa69a3548b6bc0a9da829917fa5%29%0A%20%20%20%20%20%20%20%20%3B%0A%0A%20%20%20%20%20%20%20%20%0A%20%20%20%20%0A%20%20%20%20%0A%20%20%20%20%20%20%20%20%20%20%20%20var%20marker_f2cdafad351046deb3358c08e14f2803%20%3D%20L.marker%28%0A%20%20%20%20%20%20%20%20%20%20%20%20%20%20%20%20%5B45.9896587%2C%20-94.6113288%5D%2C%0A%20%20%20%20%20%20%20%20%20%20%20%20%20%20%20%20%7B%7D%0A%20%20%20%20%20%20%20%20%20%20%20%20%29.addTo%28map_a848eb17e0d748eebc43f350cf22d39f%29%3B%0A%20%20%20%20%20%20%20%20%0A%20%20%20%20%0A%20%20%20%20%20%20%20%20var%20popup_08bbb9688ec24cd08d8a97699c9773ca%20%3D%20L.popup%28%7B%22maxWidth%22%3A%20200%7D%29%3B%0A%0A%20%20%20%20%20%20%20%20%0A%20%20%20%20%20%20%20%20%20%20%20%20var%20html_c35f6ef0a0f3471e80e8f48451893425%20%3D%20%24%28%60%3Cdiv%20id%3D%22html_c35f6ef0a0f3471e80e8f48451893425%22%20style%3D%22width%3A%20100.0%25%3B%20height%3A%20100.0%25%3B%22%3EMinnesota%3Cbr%3EAmy%20Klobuchar%20%28D%29%3B%20Tweets%3A%20105%3Cbr%3ETina%20Smith%20%28D%29%3B%20Tweets%3A%205%3C/div%3E%60%29%5B0%5D%3B%0A%20%20%20%20%20%20%20%20%20%20%20%20popup_08bbb9688ec24cd08d8a97699c9773ca.setContent%28html_c35f6ef0a0f3471e80e8f48451893425%29%3B%0A%20%20%20%20%20%20%20%20%0A%0A%20%20%20%20%20%20%20%20marker_f2cdafad351046deb3358c08e14f2803.bindPopup%28popup_08bbb9688ec24cd08d8a97699c9773ca%29%0A%20%20%20%20%20%20%20%20%3B%0A%0A%20%20%20%20%20%20%20%20%0A%20%20%20%20%0A%20%20%20%20%0A%20%20%20%20%20%20%20%20%20%20%20%20var%20marker_af5fa5200dd94b17a33a7f10303323ee%20%3D%20L.marker%28%0A%20%20%20%20%20%20%20%20%20%20%20%20%20%20%20%20%5B38.7604815%2C%20-92.5617875%5D%2C%0A%20%20%20%20%20%20%20%20%20%20%20%20%20%20%20%20%7B%7D%0A%20%20%20%20%20%20%20%20%20%20%20%20%29.addTo%28map_a848eb17e0d748eebc43f350cf22d39f%29%3B%0A%20%20%20%20%20%20%20%20%0A%20%20%20%20%0A%20%20%20%20%20%20%20%20var%20popup_7d827d7781724d8886c2bb62cfebefbc%20%3D%20L.popup%28%7B%22maxWidth%22%3A%20200%7D%29%3B%0A%0A%20%20%20%20%20%20%20%20%0A%20%20%20%20%20%20%20%20%20%20%20%20var%20html_64bf49fb42054619b945dab193e798be%20%3D%20%24%28%60%3Cdiv%20id%3D%22html_64bf49fb42054619b945dab193e798be%22%20style%3D%22width%3A%20100.0%25%3B%20height%3A%20100.0%25%3B%22%3EMissouri%3Cbr%3ERoy%20Blunt%20%28R%29%3B%20Tweets%3A%2017%3Cbr%3EJosh%20Hawley%20%28R%29%3B%20Tweets%3A%203%3C/div%3E%60%29%5B0%5D%3B%0A%20%20%20%20%20%20%20%20%20%20%20%20popup_7d827d7781724d8886c2bb62cfebefbc.setContent%28html_64bf49fb42054619b945dab193e798be%29%3B%0A%20%20%20%20%20%20%20%20%0A%0A%20%20%20%20%20%20%20%20marker_af5fa5200dd94b17a33a7f10303323ee.bindPopup%28popup_7d827d7781724d8886c2bb62cfebefbc%29%0A%20%20%20%20%20%20%20%20%3B%0A%0A%20%20%20%20%20%20%20%20%0A%20%20%20%20%0A%20%20%20%20%0A%20%20%20%20%20%20%20%20%20%20%20%20var%20marker_fa6a1c46dd31410abd14b834d6cafeea%20%3D%20L.marker%28%0A%20%20%20%20%20%20%20%20%20%20%20%20%20%20%20%20%5B32.9715645%2C%20-89.7348497%5D%2C%0A%20%20%20%20%20%20%20%20%20%20%20%20%20%20%20%20%7B%7D%0A%20%20%20%20%20%20%20%20%20%20%20%20%29.addTo%28map_a848eb17e0d748eebc43f350cf22d39f%29%3B%0A%20%20%20%20%20%20%20%20%0A%20%20%20%20%0A%20%20%20%20%20%20%20%20var%20popup_c1e59e01a7b14553ac3db2d95c11d8ee%20%3D%20L.popup%28%7B%22maxWidth%22%3A%20200%7D%29%3B%0A%0A%20%20%20%20%20%20%20%20%0A%20%20%20%20%20%20%20%20%20%20%20%20var%20html_c7b4f52f963d4ab88e33f6edbb0e2bb0%20%3D%20%24%28%60%3Cdiv%20id%3D%22html_c7b4f52f963d4ab88e33f6edbb0e2bb0%22%20style%3D%22width%3A%20100.0%25%3B%20height%3A%20100.0%25%3B%22%3EMississippi%3Cbr%3ERoger%20Wicker%20%28R%29%3B%20Tweets%3A%2094%3Cbr%3ECindy%20Hyde-Smith%20%28R%29%3B%20Tweets%3A%2022%3C/div%3E%60%29%5B0%5D%3B%0A%20%20%20%20%20%20%20%20%20%20%20%20popup_c1e59e01a7b14553ac3db2d95c11d8ee.setContent%28html_c7b4f52f963d4ab88e33f6edbb0e2bb0%29%3B%0A%20%20%20%20%20%20%20%20%0A%0A%20%20%20%20%20%20%20%20marker_fa6a1c46dd31410abd14b834d6cafeea.bindPopup%28popup_c1e59e01a7b14553ac3db2d95c11d8ee%29%0A%20%20%20%20%20%20%20%20%3B%0A%0A%20%20%20%20%20%20%20%20%0A%20%20%20%20%0A%20%20%20%20%0A%20%20%20%20%20%20%20%20%20%20%20%20var%20marker_28fd28f301624fc389c57a2a7f1ba7b7%20%3D%20L.marker%28%0A%20%20%20%20%20%20%20%20%20%20%20%20%20%20%20%20%5B47.3752671%2C%20-109.6387579%5D%2C%0A%20%20%20%20%20%20%20%20%20%20%20%20%20%20%20%20%7B%7D%0A%20%20%20%20%20%20%20%20%20%20%20%20%29.addTo%28map_a848eb17e0d748eebc43f350cf22d39f%29%3B%0A%20%20%20%20%20%20%20%20%0A%20%20%20%20%0A%20%20%20%20%20%20%20%20var%20popup_538782c9d6924fb9966ea4d84989d5fd%20%3D%20L.popup%28%7B%22maxWidth%22%3A%20200%7D%29%3B%0A%0A%20%20%20%20%20%20%20%20%0A%20%20%20%20%20%20%20%20%20%20%20%20var%20html_b569eb2b4e0749fd8aadb219500c6d69%20%3D%20%24%28%60%3Cdiv%20id%3D%22html_b569eb2b4e0749fd8aadb219500c6d69%22%20style%3D%22width%3A%20100.0%25%3B%20height%3A%20100.0%25%3B%22%3EMontana%3Cbr%3ESteve%20Daines%20%28R%29%3B%20Tweets%3A%20157%3Cbr%3EJon%20Tester%20%28D%29%3B%20Tweets%3A%2070%3C/div%3E%60%29%5B0%5D%3B%0A%20%20%20%20%20%20%20%20%20%20%20%20popup_538782c9d6924fb9966ea4d84989d5fd.setContent%28html_b569eb2b4e0749fd8aadb219500c6d69%29%3B%0A%20%20%20%20%20%20%20%20%0A%0A%20%20%20%20%20%20%20%20marker_28fd28f301624fc389c57a2a7f1ba7b7.bindPopup%28popup_538782c9d6924fb9966ea4d84989d5fd%29%0A%20%20%20%20%20%20%20%20%3B%0A%0A%20%20%20%20%20%20%20%20%0A%20%20%20%20%0A%20%20%20%20%0A%20%20%20%20%20%20%20%20%20%20%20%20var%20marker_f91c1fcb8e124f59ad302c344d847e3f%20%3D%20L.marker%28%0A%20%20%20%20%20%20%20%20%20%20%20%20%20%20%20%20%5B35.6729639%2C%20-79.0392919%5D%2C%0A%20%20%20%20%20%20%20%20%20%20%20%20%20%20%20%20%7B%7D%0A%20%20%20%20%20%20%20%20%20%20%20%20%29.addTo%28map_a848eb17e0d748eebc43f350cf22d39f%29%3B%0A%20%20%20%20%20%20%20%20%0A%20%20%20%20%0A%20%20%20%20%20%20%20%20var%20popup_896198ac38e24c6fac1af1d9c49066c4%20%3D%20L.popup%28%7B%22maxWidth%22%3A%20200%7D%29%3B%0A%0A%20%20%20%20%20%20%20%20%0A%20%20%20%20%20%20%20%20%20%20%20%20var%20html_9f6c9c8ec5f745e98c8b134c800eb4d2%20%3D%20%24%28%60%3Cdiv%20id%3D%22html_9f6c9c8ec5f745e98c8b134c800eb4d2%22%20style%3D%22width%3A%20100.0%25%3B%20height%3A%20100.0%25%3B%22%3ENorth%20Carolina%3Cbr%3EThom%20Tillis%20%28R%29%3B%20Tweets%3A%20133%3Cbr%3ERichard%20Burr%20%28R%29%3B%20Tweets%3A%2014%3C/div%3E%60%29%5B0%5D%3B%0A%20%20%20%20%20%20%20%20%20%20%20%20popup_896198ac38e24c6fac1af1d9c49066c4.setContent%28html_9f6c9c8ec5f745e98c8b134c800eb4d2%29%3B%0A%20%20%20%20%20%20%20%20%0A%0A%20%20%20%20%20%20%20%20marker_f91c1fcb8e124f59ad302c344d847e3f.bindPopup%28popup_896198ac38e24c6fac1af1d9c49066c4%29%0A%20%20%20%20%20%20%20%20%3B%0A%0A%20%20%20%20%20%20%20%20%0A%20%20%20%20%0A%20%20%20%20%0A%20%20%20%20%20%20%20%20%20%20%20%20var%20marker_d3bf3e41f0e347caa4c011034dd5e3c3%20%3D%20L.marker%28%0A%20%20%20%20%20%20%20%20%20%20%20%20%20%20%20%20%5B47.6201461%2C%20-100.540737%5D%2C%0A%20%20%20%20%20%20%20%20%20%20%20%20%20%20%20%20%7B%7D%0A%20%20%20%20%20%20%20%20%20%20%20%20%29.addTo%28map_a848eb17e0d748eebc43f350cf22d39f%29%3B%0A%20%20%20%20%20%20%20%20%0A%20%20%20%20%0A%20%20%20%20%20%20%20%20var%20popup_94457d6eb33a423fa0ddf75879e99923%20%3D%20L.popup%28%7B%22maxWidth%22%3A%20200%7D%29%3B%0A%0A%20%20%20%20%20%20%20%20%0A%20%20%20%20%20%20%20%20%20%20%20%20var%20html_a8ec82373faf4ab48a2c1391ce6b8af1%20%3D%20%24%28%60%3Cdiv%20id%3D%22html_a8ec82373faf4ab48a2c1391ce6b8af1%22%20style%3D%22width%3A%20100.0%25%3B%20height%3A%20100.0%25%3B%22%3ENorth%20Dakota%3Cbr%3EJohn%20Hoeven%20%28R%29%3B%20Tweets%3A%20117%3Cbr%3EKevin%20Cramer%20%20%28R%29%3B%20Tweets%3A%205%3C/div%3E%60%29%5B0%5D%3B%0A%20%20%20%20%20%20%20%20%20%20%20%20popup_94457d6eb33a423fa0ddf75879e99923.setContent%28html_a8ec82373faf4ab48a2c1391ce6b8af1%29%3B%0A%20%20%20%20%20%20%20%20%0A%0A%20%20%20%20%20%20%20%20marker_d3bf3e41f0e347caa4c011034dd5e3c3.bindPopup%28popup_94457d6eb33a423fa0ddf75879e99923%29%0A%20%20%20%20%20%20%20%20%3B%0A%0A%20%20%20%20%20%20%20%20%0A%20%20%20%20%0A%20%20%20%20%0A%20%20%20%20%20%20%20%20%20%20%20%20var%20marker_d3e1a5c0978a4aceb009a0ea0fbb58ae%20%3D%20L.marker%28%0A%20%20%20%20%20%20%20%20%20%20%20%20%20%20%20%20%5B41.7370229%2C%20-99.5873816%5D%2C%0A%20%20%20%20%20%20%20%20%20%20%20%20%20%20%20%20%7B%7D%0A%20%20%20%20%20%20%20%20%20%20%20%20%29.addTo%28map_a848eb17e0d748eebc43f350cf22d39f%29%3B%0A%20%20%20%20%20%20%20%20%0A%20%20%20%20%0A%20%20%20%20%20%20%20%20var%20popup_bc894e2c2567456dba9810b01b475203%20%3D%20L.popup%28%7B%22maxWidth%22%3A%20200%7D%29%3B%0A%0A%20%20%20%20%20%20%20%20%0A%20%20%20%20%20%20%20%20%20%20%20%20var%20html_187d3e8083bf46fc97698284eef34312%20%3D%20%24%28%60%3Cdiv%20id%3D%22html_187d3e8083bf46fc97698284eef34312%22%20style%3D%22width%3A%20100.0%25%3B%20height%3A%20100.0%25%3B%22%3ENebraska%3Cbr%3EBen%20Sasse%20%28R%29%3B%20Tweets%3A%20152%3Cbr%3EDeb%20Fischer%20%28R%29%3B%20Tweets%3A%208%3C/div%3E%60%29%5B0%5D%3B%0A%20%20%20%20%20%20%20%20%20%20%20%20popup_bc894e2c2567456dba9810b01b475203.setContent%28html_187d3e8083bf46fc97698284eef34312%29%3B%0A%20%20%20%20%20%20%20%20%0A%0A%20%20%20%20%20%20%20%20marker_d3e1a5c0978a4aceb009a0ea0fbb58ae.bindPopup%28popup_bc894e2c2567456dba9810b01b475203%29%0A%20%20%20%20%20%20%20%20%3B%0A%0A%20%20%20%20%20%20%20%20%0A%20%20%20%20%0A%20%20%20%20%0A%20%20%20%20%20%20%20%20%20%20%20%20var%20marker_73a59196b52a48be9ff87eb448de3ba1%20%3D%20L.marker%28%0A%20%20%20%20%20%20%20%20%20%20%20%20%20%20%20%20%5B43.4849133%2C%20-71.6553992%5D%2C%0A%20%20%20%20%20%20%20%20%20%20%20%20%20%20%20%20%7B%7D%0A%20%20%20%20%20%20%20%20%20%20%20%20%29.addTo%28map_a848eb17e0d748eebc43f350cf22d39f%29%3B%0A%20%20%20%20%20%20%20%20%0A%20%20%20%20%0A%20%20%20%20%20%20%20%20var%20popup_8435251a3dc7451dbe4c5ebc88a03e8a%20%3D%20L.popup%28%7B%22maxWidth%22%3A%20200%7D%29%3B%0A%0A%20%20%20%20%20%20%20%20%0A%20%20%20%20%20%20%20%20%20%20%20%20var%20html_8a83165dcf8046fa87bd06027c707848%20%3D%20%24%28%60%3Cdiv%20id%3D%22html_8a83165dcf8046fa87bd06027c707848%22%20style%3D%22width%3A%20100.0%25%3B%20height%3A%20100.0%25%3B%22%3ENew%20Hampshire%3Cbr%3EJeanne%20Shaheen%20%28D%29%3B%20Tweets%3A%20102%3Cbr%3EMaggie%20Hassan%20%28D%29%3B%20Tweets%3A%2012%3C/div%3E%60%29%5B0%5D%3B%0A%20%20%20%20%20%20%20%20%20%20%20%20popup_8435251a3dc7451dbe4c5ebc88a03e8a.setContent%28html_8a83165dcf8046fa87bd06027c707848%29%3B%0A%20%20%20%20%20%20%20%20%0A%0A%20%20%20%20%20%20%20%20marker_73a59196b52a48be9ff87eb448de3ba1.bindPopup%28popup_8435251a3dc7451dbe4c5ebc88a03e8a%29%0A%20%20%20%20%20%20%20%20%3B%0A%0A%20%20%20%20%20%20%20%20%0A%20%20%20%20%0A%20%20%20%20%0A%20%20%20%20%20%20%20%20%20%20%20%20var%20marker_a640d389cd3641a582354761d96ff45f%20%3D%20L.marker%28%0A%20%20%20%20%20%20%20%20%20%20%20%20%20%20%20%20%5B40.0757384%2C%20-74.4041622%5D%2C%0A%20%20%20%20%20%20%20%20%20%20%20%20%20%20%20%20%7B%7D%0A%20%20%20%20%20%20%20%20%20%20%20%20%29.addTo%28map_a848eb17e0d748eebc43f350cf22d39f%29%3B%0A%20%20%20%20%20%20%20%20%0A%20%20%20%20%0A%20%20%20%20%20%20%20%20var%20popup_4d6733855ccb4fe1a77c9c201f622a81%20%3D%20L.popup%28%7B%22maxWidth%22%3A%20200%7D%29%3B%0A%0A%20%20%20%20%20%20%20%20%0A%20%20%20%20%20%20%20%20%20%20%20%20var%20html_a512faae462d468fa43398a17b580117%20%3D%20%24%28%60%3Cdiv%20id%3D%22html_a512faae462d468fa43398a17b580117%22%20style%3D%22width%3A%20100.0%25%3B%20height%3A%20100.0%25%3B%22%3ENew%20Jersey%3Cbr%3EBob%20Menendez%20%28D%29%3B%20Tweets%3A%20646%3Cbr%3ECory%20Booker%20%28D%29%3B%20Tweets%3A%2025%3C/div%3E%60%29%5B0%5D%3B%0A%20%20%20%20%20%20%20%20%20%20%20%20popup_4d6733855ccb4fe1a77c9c201f622a81.setContent%28html_a512faae462d468fa43398a17b580117%29%3B%0A%20%20%20%20%20%20%20%20%0A%0A%20%20%20%20%20%20%20%20marker_a640d389cd3641a582354761d96ff45f.bindPopup%28popup_4d6733855ccb4fe1a77c9c201f622a81%29%0A%20%20%20%20%20%20%20%20%3B%0A%0A%20%20%20%20%20%20%20%20%0A%20%20%20%20%0A%20%20%20%20%0A%20%20%20%20%20%20%20%20%20%20%20%20var%20marker_00b807c78bc24ef698dfbe0b2db0ebbe%20%3D%20L.marker%28%0A%20%20%20%20%20%20%20%20%20%20%20%20%20%20%20%20%5B34.5708167%2C%20-105.993007%5D%2C%0A%20%20%20%20%20%20%20%20%20%20%20%20%20%20%20%20%7B%7D%0A%20%20%20%20%20%20%20%20%20%20%20%20%29.addTo%28map_a848eb17e0d748eebc43f350cf22d39f%29%3B%0A%20%20%20%20%20%20%20%20%0A%20%20%20%20%0A%20%20%20%20%20%20%20%20var%20popup_74d874ac15694556948bca697a1d09eb%20%3D%20L.popup%28%7B%22maxWidth%22%3A%20200%7D%29%3B%0A%0A%20%20%20%20%20%20%20%20%0A%20%20%20%20%20%20%20%20%20%20%20%20var%20html_ef3037751cc747b7964ab27f6d4fb398%20%3D%20%24%28%60%3Cdiv%20id%3D%22html_ef3037751cc747b7964ab27f6d4fb398%22%20style%3D%22width%3A%20100.0%25%3B%20height%3A%20100.0%25%3B%22%3ENew%20Mexico%3Cbr%3EMartin%20Heinrich%20%28D%29%3B%20Tweets%3A%206%3Cbr%3EBen%20Ray%20Luj%C3%A1n%20%28D%29%3B%20Tweets%3A%200%3C/div%3E%60%29%5B0%5D%3B%0A%20%20%20%20%20%20%20%20%20%20%20%20popup_74d874ac15694556948bca697a1d09eb.setContent%28html_ef3037751cc747b7964ab27f6d4fb398%29%3B%0A%20%20%20%20%20%20%20%20%0A%0A%20%20%20%20%20%20%20%20marker_00b807c78bc24ef698dfbe0b2db0ebbe.bindPopup%28popup_74d874ac15694556948bca697a1d09eb%29%0A%20%20%20%20%20%20%20%20%3B%0A%0A%20%20%20%20%20%20%20%20%0A%20%20%20%20%0A%20%20%20%20%0A%20%20%20%20%20%20%20%20%20%20%20%20var%20marker_7bfde7e9945741c6b6e9004931ebd3f7%20%3D%20L.marker%28%0A%20%20%20%20%20%20%20%20%20%20%20%20%20%20%20%20%5B39.5158825%2C%20-116.8537227%5D%2C%0A%20%20%20%20%20%20%20%20%20%20%20%20%20%20%20%20%7B%7D%0A%20%20%20%20%20%20%20%20%20%20%20%20%29.addTo%28map_a848eb17e0d748eebc43f350cf22d39f%29%3B%0A%20%20%20%20%20%20%20%20%0A%20%20%20%20%0A%20%20%20%20%20%20%20%20var%20popup_96797afa3f3d4f93a768ae7071578da1%20%3D%20L.popup%28%7B%22maxWidth%22%3A%20200%7D%29%3B%0A%0A%20%20%20%20%20%20%20%20%0A%20%20%20%20%20%20%20%20%20%20%20%20var%20html_f0a51680634140f1ad29d501377156f5%20%3D%20%24%28%60%3Cdiv%20id%3D%22html_f0a51680634140f1ad29d501377156f5%22%20style%3D%22width%3A%20100.0%25%3B%20height%3A%20100.0%25%3B%22%3ENevada%3Cbr%3ECatherine%20Cortez%20Masto%20%28D%29%3B%20Tweets%3A%2012%3Cbr%3EJacky%20Rosen%20%28D%29%3B%20Tweets%3A%209%3C/div%3E%60%29%5B0%5D%3B%0A%20%20%20%20%20%20%20%20%20%20%20%20popup_96797afa3f3d4f93a768ae7071578da1.setContent%28html_f0a51680634140f1ad29d501377156f5%29%3B%0A%20%20%20%20%20%20%20%20%0A%0A%20%20%20%20%20%20%20%20marker_7bfde7e9945741c6b6e9004931ebd3f7.bindPopup%28popup_96797afa3f3d4f93a768ae7071578da1%29%0A%20%20%20%20%20%20%20%20%3B%0A%0A%20%20%20%20%20%20%20%20%0A%20%20%20%20%0A%20%20%20%20%0A%20%20%20%20%20%20%20%20%20%20%20%20var%20marker_aff0d9666a6b4221b34fe1b705eeb086%20%3D%20L.marker%28%0A%20%20%20%20%20%20%20%20%20%20%20%20%20%20%20%20%5B40.7306458%2C%20-73.9866136%5D%2C%0A%20%20%20%20%20%20%20%20%20%20%20%20%20%20%20%20%7B%7D%0A%20%20%20%20%20%20%20%20%20%20%20%20%29.addTo%28map_a848eb17e0d748eebc43f350cf22d39f%29%3B%0A%20%20%20%20%20%20%20%20%0A%20%20%20%20%0A%20%20%20%20%20%20%20%20var%20popup_3c88e8b7535441c591ef5924134ab018%20%3D%20L.popup%28%7B%22maxWidth%22%3A%20200%7D%29%3B%0A%0A%20%20%20%20%20%20%20%20%0A%20%20%20%20%20%20%20%20%20%20%20%20var%20html_630bade4a6af4ba49bb44c51997d7682%20%3D%20%24%28%60%3Cdiv%20id%3D%22html_630bade4a6af4ba49bb44c51997d7682%22%20style%3D%22width%3A%20100.0%25%3B%20height%3A%20100.0%25%3B%22%3ENew%20York%3Cbr%3EChuck%20Schumer%20%28D%29%3B%20Tweets%3A%20164%3Cbr%3EKirsten%20Gillibrand%20%28D%29%3B%20Tweets%3A%2011%3C/div%3E%60%29%5B0%5D%3B%0A%20%20%20%20%20%20%20%20%20%20%20%20popup_3c88e8b7535441c591ef5924134ab018.setContent%28html_630bade4a6af4ba49bb44c51997d7682%29%3B%0A%20%20%20%20%20%20%20%20%0A%0A%20%20%20%20%20%20%20%20marker_aff0d9666a6b4221b34fe1b705eeb086.bindPopup%28popup_3c88e8b7535441c591ef5924134ab018%29%0A%20%20%20%20%20%20%20%20%3B%0A%0A%20%20%20%20%20%20%20%20%0A%20%20%20%20%0A%20%20%20%20%0A%20%20%20%20%20%20%20%20%20%20%20%20var%20marker_adcece299e004c46b6fd94362fb1cf71%20%3D%20L.marker%28%0A%20%20%20%20%20%20%20%20%20%20%20%20%20%20%20%20%5B40.2253569%2C%20-82.6881395%5D%2C%0A%20%20%20%20%20%20%20%20%20%20%20%20%20%20%20%20%7B%7D%0A%20%20%20%20%20%20%20%20%20%20%20%20%29.addTo%28map_a848eb17e0d748eebc43f350cf22d39f%29%3B%0A%20%20%20%20%20%20%20%20%0A%20%20%20%20%0A%20%20%20%20%20%20%20%20var%20popup_9e7caf48877e48b3bdeed5b2cf5294e5%20%3D%20L.popup%28%7B%22maxWidth%22%3A%20200%7D%29%3B%0A%0A%20%20%20%20%20%20%20%20%0A%20%20%20%20%20%20%20%20%20%20%20%20var%20html_f201b991fede48b8b41dacb08dcba6c3%20%3D%20%24%28%60%3Cdiv%20id%3D%22html_f201b991fede48b8b41dacb08dcba6c3%22%20style%3D%22width%3A%20100.0%25%3B%20height%3A%20100.0%25%3B%22%3EOhio%3Cbr%3ERob%20Portman%20%28R%29%3B%20Tweets%3A%20223%3Cbr%3ESherrod%20Brown%20%28D%29%3B%20Tweets%3A%2010%3C/div%3E%60%29%5B0%5D%3B%0A%20%20%20%20%20%20%20%20%20%20%20%20popup_9e7caf48877e48b3bdeed5b2cf5294e5.setContent%28html_f201b991fede48b8b41dacb08dcba6c3%29%3B%0A%20%20%20%20%20%20%20%20%0A%0A%20%20%20%20%20%20%20%20marker_adcece299e004c46b6fd94362fb1cf71.bindPopup%28popup_9e7caf48877e48b3bdeed5b2cf5294e5%29%0A%20%20%20%20%20%20%20%20%3B%0A%0A%20%20%20%20%20%20%20%20%0A%20%20%20%20%0A%20%20%20%20%0A%20%20%20%20%20%20%20%20%20%20%20%20var%20marker_03327da46c604690bfee49692ebd6c12%20%3D%20L.marker%28%0A%20%20%20%20%20%20%20%20%20%20%20%20%20%20%20%20%5B34.9550817%2C%20-97.2684063%5D%2C%0A%20%20%20%20%20%20%20%20%20%20%20%20%20%20%20%20%7B%7D%0A%20%20%20%20%20%20%20%20%20%20%20%20%29.addTo%28map_a848eb17e0d748eebc43f350cf22d39f%29%3B%0A%20%20%20%20%20%20%20%20%0A%20%20%20%20%0A%20%20%20%20%20%20%20%20var%20popup_91f3f4398ea5458ca94da5738143b318%20%3D%20L.popup%28%7B%22maxWidth%22%3A%20200%7D%29%3B%0A%0A%20%20%20%20%20%20%20%20%0A%20%20%20%20%20%20%20%20%20%20%20%20var%20html_5af8f3c088de4c6a9d6c795e896c1f3b%20%3D%20%24%28%60%3Cdiv%20id%3D%22html_5af8f3c088de4c6a9d6c795e896c1f3b%22%20style%3D%22width%3A%20100.0%25%3B%20height%3A%20100.0%25%3B%22%3EOklahoma%3Cbr%3EJames%20Lankford%20%28R%29%3B%20Tweets%3A%20160%3Cbr%3EJim%20Inhofe%20%28R%29%3B%20Tweets%3A%20155%3C/div%3E%60%29%5B0%5D%3B%0A%20%20%20%20%20%20%20%20%20%20%20%20popup_91f3f4398ea5458ca94da5738143b318.setContent%28html_5af8f3c088de4c6a9d6c795e896c1f3b%29%3B%0A%20%20%20%20%20%20%20%20%0A%0A%20%20%20%20%20%20%20%20marker_03327da46c604690bfee49692ebd6c12.bindPopup%28popup_91f3f4398ea5458ca94da5738143b318%29%0A%20%20%20%20%20%20%20%20%3B%0A%0A%20%20%20%20%20%20%20%20%0A%20%20%20%20%0A%20%20%20%20%0A%20%20%20%20%20%20%20%20%20%20%20%20var%20marker_134ab8b73fce4d55bdd7a3a793251cf2%20%3D%20L.marker%28%0A%20%20%20%20%20%20%20%20%20%20%20%20%20%20%20%20%5B43.9792797%2C%20-120.737257%5D%2C%0A%20%20%20%20%20%20%20%20%20%20%20%20%20%20%20%20%7B%7D%0A%20%20%20%20%20%20%20%20%20%20%20%20%29.addTo%28map_a848eb17e0d748eebc43f350cf22d39f%29%3B%0A%20%20%20%20%20%20%20%20%0A%20%20%20%20%0A%20%20%20%20%20%20%20%20var%20popup_99835937e4864593861e466e66afd0ce%20%3D%20L.popup%28%7B%22maxWidth%22%3A%20200%7D%29%3B%0A%0A%20%20%20%20%20%20%20%20%0A%20%20%20%20%20%20%20%20%20%20%20%20var%20html_79a8e896e5dd4614b222d66313a5d98f%20%3D%20%24%28%60%3Cdiv%20id%3D%22html_79a8e896e5dd4614b222d66313a5d98f%22%20style%3D%22width%3A%20100.0%25%3B%20height%3A%20100.0%25%3B%22%3EOregon%3Cbr%3EJeff%20Merkley%20%28D%29%3B%20Tweets%3A%2099%3Cbr%3ERon%20Wyden%20%28D%29%3B%20Tweets%3A%207%3C/div%3E%60%29%5B0%5D%3B%0A%20%20%20%20%20%20%20%20%20%20%20%20popup_99835937e4864593861e466e66afd0ce.setContent%28html_79a8e896e5dd4614b222d66313a5d98f%29%3B%0A%20%20%20%20%20%20%20%20%0A%0A%20%20%20%20%20%20%20%20marker_134ab8b73fce4d55bdd7a3a793251cf2.bindPopup%28popup_99835937e4864593861e466e66afd0ce%29%0A%20%20%20%20%20%20%20%20%3B%0A%0A%20%20%20%20%20%20%20%20%0A%20%20%20%20%0A%20%20%20%20%0A%20%20%20%20%20%20%20%20%20%20%20%20var%20marker_baee535496f84ee89691642676e2b5bf%20%3D%20L.marker%28%0A%20%20%20%20%20%20%20%20%20%20%20%20%20%20%20%20%5B40.9699889%2C%20-77.7278831%5D%2C%0A%20%20%20%20%20%20%20%20%20%20%20%20%20%20%20%20%7B%7D%0A%20%20%20%20%20%20%20%20%20%20%20%20%29.addTo%28map_a848eb17e0d748eebc43f350cf22d39f%29%3B%0A%20%20%20%20%20%20%20%20%0A%20%20%20%20%0A%20%20%20%20%20%20%20%20var%20popup_e03e2fc1987942259b7f072d271aefc3%20%3D%20L.popup%28%7B%22maxWidth%22%3A%20200%7D%29%3B%0A%0A%20%20%20%20%20%20%20%20%0A%20%20%20%20%20%20%20%20%20%20%20%20var%20html_1678000cf03b4d16889dda1f767598ab%20%3D%20%24%28%60%3Cdiv%20id%3D%22html_1678000cf03b4d16889dda1f767598ab%22%20style%3D%22width%3A%20100.0%25%3B%20height%3A%20100.0%25%3B%22%3EPennsylvania%3Cbr%3EPat%20Toomey%20%28R%29%3B%20Tweets%3A%2038%3Cbr%3EBob%20Casey%20%28D%29%3B%20Tweets%3A%206%3C/div%3E%60%29%5B0%5D%3B%0A%20%20%20%20%20%20%20%20%20%20%20%20popup_e03e2fc1987942259b7f072d271aefc3.setContent%28html_1678000cf03b4d16889dda1f767598ab%29%3B%0A%20%20%20%20%20%20%20%20%0A%0A%20%20%20%20%20%20%20%20marker_baee535496f84ee89691642676e2b5bf.bindPopup%28popup_e03e2fc1987942259b7f072d271aefc3%29%0A%20%20%20%20%20%20%20%20%3B%0A%0A%20%20%20%20%20%20%20%20%0A%20%20%20%20%0A%20%20%20%20%0A%20%20%20%20%20%20%20%20%20%20%20%20var%20marker_2f2fa6d5b872499ebaafa8cf927b4e37%20%3D%20L.marker%28%0A%20%20%20%20%20%20%20%20%20%20%20%20%20%20%20%20%5B41.7962409%2C%20-71.5992372%5D%2C%0A%20%20%20%20%20%20%20%20%20%20%20%20%20%20%20%20%7B%7D%0A%20%20%20%20%20%20%20%20%20%20%20%20%29.addTo%28map_a848eb17e0d748eebc43f350cf22d39f%29%3B%0A%20%20%20%20%20%20%20%20%0A%20%20%20%20%0A%20%20%20%20%20%20%20%20var%20popup_56b60694f9194a068efb76bb75f7cef3%20%3D%20L.popup%28%7B%22maxWidth%22%3A%20200%7D%29%3B%0A%0A%20%20%20%20%20%20%20%20%0A%20%20%20%20%20%20%20%20%20%20%20%20var%20html_dd0295f5da6b4aaba0bd428265823b99%20%3D%20%24%28%60%3Cdiv%20id%3D%22html_dd0295f5da6b4aaba0bd428265823b99%22%20style%3D%22width%3A%20100.0%25%3B%20height%3A%20100.0%25%3B%22%3ERhode%20Island%3Cbr%3ESheldon%20Whitehouse%20%28D%29%3B%20Tweets%3A%2098%3Cbr%3EJack%20Reed%20%28D%29%3B%20Tweets%3A%204%3C/div%3E%60%29%5B0%5D%3B%0A%20%20%20%20%20%20%20%20%20%20%20%20popup_56b60694f9194a068efb76bb75f7cef3.setContent%28html_dd0295f5da6b4aaba0bd428265823b99%29%3B%0A%20%20%20%20%20%20%20%20%0A%0A%20%20%20%20%20%20%20%20marker_2f2fa6d5b872499ebaafa8cf927b4e37.bindPopup%28popup_56b60694f9194a068efb76bb75f7cef3%29%0A%20%20%20%20%20%20%20%20%3B%0A%0A%20%20%20%20%20%20%20%20%0A%20%20%20%20%0A%20%20%20%20%0A%20%20%20%20%20%20%20%20%20%20%20%20var%20marker_54b58ca2a7da4192a252ba4d709c084c%20%3D%20L.marker%28%0A%20%20%20%20%20%20%20%20%20%20%20%20%20%20%20%20%5B33.6874388%2C%20-80.4363743%5D%2C%0A%20%20%20%20%20%20%20%20%20%20%20%20%20%20%20%20%7B%7D%0A%20%20%20%20%20%20%20%20%20%20%20%20%29.addTo%28map_a848eb17e0d748eebc43f350cf22d39f%29%3B%0A%20%20%20%20%20%20%20%20%0A%20%20%20%20%0A%20%20%20%20%20%20%20%20var%20popup_cac34bb2fb6246e7871717b4c1dc6de7%20%3D%20L.popup%28%7B%22maxWidth%22%3A%20200%7D%29%3B%0A%0A%20%20%20%20%20%20%20%20%0A%20%20%20%20%20%20%20%20%20%20%20%20var%20html_88444a7098d7476ca7bbeb975108580e%20%3D%20%24%28%60%3Cdiv%20id%3D%22html_88444a7098d7476ca7bbeb975108580e%22%20style%3D%22width%3A%20100.0%25%3B%20height%3A%20100.0%25%3B%22%3ESouth%20Carolina%3Cbr%3ELindsey%20Graham%20%28R%29%3B%20Tweets%3A%20493%3Cbr%3ETim%20Scott%20%28R%29%3B%20Tweets%3A%2038%3C/div%3E%60%29%5B0%5D%3B%0A%20%20%20%20%20%20%20%20%20%20%20%20popup_cac34bb2fb6246e7871717b4c1dc6de7.setContent%28html_88444a7098d7476ca7bbeb975108580e%29%3B%0A%20%20%20%20%20%20%20%20%0A%0A%20%20%20%20%20%20%20%20marker_54b58ca2a7da4192a252ba4d709c084c.bindPopup%28popup_cac34bb2fb6246e7871717b4c1dc6de7%29%0A%20%20%20%20%20%20%20%20%3B%0A%0A%20%20%20%20%20%20%20%20%0A%20%20%20%20%0A%20%20%20%20%0A%20%20%20%20%20%20%20%20%20%20%20%20var%20marker_e7edf1f861ba4a99ba84d72be332d576%20%3D%20L.marker%28%0A%20%20%20%20%20%20%20%20%20%20%20%20%20%20%20%20%5B44.6471761%2C%20-100.348761%5D%2C%0A%20%20%20%20%20%20%20%20%20%20%20%20%20%20%20%20%7B%7D%0A%20%20%20%20%20%20%20%20%20%20%20%20%29.addTo%28map_a848eb17e0d748eebc43f350cf22d39f%29%3B%0A%20%20%20%20%20%20%20%20%0A%20%20%20%20%0A%20%20%20%20%20%20%20%20var%20popup_d948f3e62ac1442ab62180350f37ca60%20%3D%20L.popup%28%7B%22maxWidth%22%3A%20200%7D%29%3B%0A%0A%20%20%20%20%20%20%20%20%0A%20%20%20%20%20%20%20%20%20%20%20%20var%20html_6a9b6f24615942559c5ad63906738379%20%3D%20%24%28%60%3Cdiv%20id%3D%22html_6a9b6f24615942559c5ad63906738379%22%20style%3D%22width%3A%20100.0%25%3B%20height%3A%20100.0%25%3B%22%3ESouth%20Dakota%3Cbr%3EMike%20Rounds%20%28R%29%3B%20Tweets%3A%20327%3Cbr%3EJohn%20Thune%20%28R%29%3B%20Tweets%3A%20127%3C/div%3E%60%29%5B0%5D%3B%0A%20%20%20%20%20%20%20%20%20%20%20%20popup_d948f3e62ac1442ab62180350f37ca60.setContent%28html_6a9b6f24615942559c5ad63906738379%29%3B%0A%20%20%20%20%20%20%20%20%0A%0A%20%20%20%20%20%20%20%20marker_e7edf1f861ba4a99ba84d72be332d576.bindPopup%28popup_d948f3e62ac1442ab62180350f37ca60%29%0A%20%20%20%20%20%20%20%20%3B%0A%0A%20%20%20%20%20%20%20%20%0A%20%20%20%20%0A%20%20%20%20%0A%20%20%20%20%20%20%20%20%20%20%20%20var%20marker_c1b1e4a5c9e0453e9fb0b5ff700562e3%20%3D%20L.marker%28%0A%20%20%20%20%20%20%20%20%20%20%20%20%20%20%20%20%5B35.7730076%2C%20-86.2820081%5D%2C%0A%20%20%20%20%20%20%20%20%20%20%20%20%20%20%20%20%7B%7D%0A%20%20%20%20%20%20%20%20%20%20%20%20%29.addTo%28map_a848eb17e0d748eebc43f350cf22d39f%29%3B%0A%20%20%20%20%20%20%20%20%0A%20%20%20%20%0A%20%20%20%20%20%20%20%20var%20popup_2d43feac220f4757a7ee02afbbd2cfbb%20%3D%20L.popup%28%7B%22maxWidth%22%3A%20200%7D%29%3B%0A%0A%20%20%20%20%20%20%20%20%0A%20%20%20%20%20%20%20%20%20%20%20%20var%20html_6b42545b112c4f2ab12c1234b0458da9%20%3D%20%24%28%60%3Cdiv%20id%3D%22html_6b42545b112c4f2ab12c1234b0458da9%22%20style%3D%22width%3A%20100.0%25%3B%20height%3A%20100.0%25%3B%22%3ETennessee%3Cbr%3EMarsha%20Blackburn%20%20%28R%29%3B%20Tweets%3A%20569%3Cbr%3EBill%20Hagerty%20%28R%29%3B%20Tweets%3A%2011%3C/div%3E%60%29%5B0%5D%3B%0A%20%20%20%20%20%20%20%20%20%20%20%20popup_2d43feac220f4757a7ee02afbbd2cfbb.setContent%28html_6b42545b112c4f2ab12c1234b0458da9%29%3B%0A%20%20%20%20%20%20%20%20%0A%0A%20%20%20%20%20%20%20%20marker_c1b1e4a5c9e0453e9fb0b5ff700562e3.bindPopup%28popup_2d43feac220f4757a7ee02afbbd2cfbb%29%0A%20%20%20%20%20%20%20%20%3B%0A%0A%20%20%20%20%20%20%20%20%0A%20%20%20%20%0A%20%20%20%20%0A%20%20%20%20%20%20%20%20%20%20%20%20var%20marker_bab0c60e58e64c9ab92731a99e3964af%20%3D%20L.marker%28%0A%20%20%20%20%20%20%20%20%20%20%20%20%20%20%20%20%5B31.8160381%2C%20-99.5120986%5D%2C%0A%20%20%20%20%20%20%20%20%20%20%20%20%20%20%20%20%7B%7D%0A%20%20%20%20%20%20%20%20%20%20%20%20%29.addTo%28map_a848eb17e0d748eebc43f350cf22d39f%29%3B%0A%20%20%20%20%20%20%20%20%0A%20%20%20%20%0A%20%20%20%20%20%20%20%20var%20popup_eb3f1bfd448a4aa5a66eb6c5f0f5004f%20%3D%20L.popup%28%7B%22maxWidth%22%3A%20200%7D%29%3B%0A%0A%20%20%20%20%20%20%20%20%0A%20%20%20%20%20%20%20%20%20%20%20%20var%20html_3747a87ac8554bec891725f370d2bc38%20%3D%20%24%28%60%3Cdiv%20id%3D%22html_3747a87ac8554bec891725f370d2bc38%22%20style%3D%22width%3A%20100.0%25%3B%20height%3A%20100.0%25%3B%22%3ETexas%3Cbr%3ETed%20Cruz%20%28R%29%3B%20Tweets%3A%20854%3Cbr%3EJohn%20Cornyn%20%28R%29%3B%20Tweets%3A%20647%3C/div%3E%60%29%5B0%5D%3B%0A%20%20%20%20%20%20%20%20%20%20%20%20popup_eb3f1bfd448a4aa5a66eb6c5f0f5004f.setContent%28html_3747a87ac8554bec891725f370d2bc38%29%3B%0A%20%20%20%20%20%20%20%20%0A%0A%20%20%20%20%20%20%20%20marker_bab0c60e58e64c9ab92731a99e3964af.bindPopup%28popup_eb3f1bfd448a4aa5a66eb6c5f0f5004f%29%0A%20%20%20%20%20%20%20%20%3B%0A%0A%20%20%20%20%20%20%20%20%0A%20%20%20%20%0A%20%20%20%20%0A%20%20%20%20%20%20%20%20%20%20%20%20var%20marker_c6d7c4d40f484da186e95903d5409f88%20%3D%20L.marker%28%0A%20%20%20%20%20%20%20%20%20%20%20%20%20%20%20%20%5B39.4225192%2C%20-111.7143584%5D%2C%0A%20%20%20%20%20%20%20%20%20%20%20%20%20%20%20%20%7B%7D%0A%20%20%20%20%20%20%20%20%20%20%20%20%29.addTo%28map_a848eb17e0d748eebc43f350cf22d39f%29%3B%0A%20%20%20%20%20%20%20%20%0A%20%20%20%20%0A%20%20%20%20%20%20%20%20var%20popup_4187ba876d024640826b44608defccdf%20%3D%20L.popup%28%7B%22maxWidth%22%3A%20200%7D%29%3B%0A%0A%20%20%20%20%20%20%20%20%0A%20%20%20%20%20%20%20%20%20%20%20%20var%20html_527e731579e540fc88d0bedd6cd70863%20%3D%20%24%28%60%3Cdiv%20id%3D%22html_527e731579e540fc88d0bedd6cd70863%22%20style%3D%22width%3A%20100.0%25%3B%20height%3A%20100.0%25%3B%22%3EUtah%3Cbr%3EMitt%20Romney%20%20%28R%29%3B%20Tweets%3A%20380%3Cbr%3EMike%20Lee%20%28R%29%3B%20Tweets%3A%20105%3C/div%3E%60%29%5B0%5D%3B%0A%20%20%20%20%20%20%20%20%20%20%20%20popup_4187ba876d024640826b44608defccdf.setContent%28html_527e731579e540fc88d0bedd6cd70863%29%3B%0A%20%20%20%20%20%20%20%20%0A%0A%20%20%20%20%20%20%20%20marker_c6d7c4d40f484da186e95903d5409f88.bindPopup%28popup_4187ba876d024640826b44608defccdf%29%0A%20%20%20%20%20%20%20%20%3B%0A%0A%20%20%20%20%20%20%20%20%0A%20%20%20%20%0A%20%20%20%20%0A%20%20%20%20%20%20%20%20%20%20%20%20var%20marker_6b8f519006134ff49b5d4159b2ed1e5f%20%3D%20L.marker%28%0A%20%20%20%20%20%20%20%20%20%20%20%20%20%20%20%20%5B37.1232245%2C%20-78.4927721%5D%2C%0A%20%20%20%20%20%20%20%20%20%20%20%20%20%20%20%20%7B%7D%0A%20%20%20%20%20%20%20%20%20%20%20%20%29.addTo%28map_a848eb17e0d748eebc43f350cf22d39f%29%3B%0A%20%20%20%20%20%20%20%20%0A%20%20%20%20%0A%20%20%20%20%20%20%20%20var%20popup_6b267ebbb3e04fb4abbcec34040206a5%20%3D%20L.popup%28%7B%22maxWidth%22%3A%20200%7D%29%3B%0A%0A%20%20%20%20%20%20%20%20%0A%20%20%20%20%20%20%20%20%20%20%20%20var%20html_ba8cdd23e51a4721afaa2066a7b78d28%20%3D%20%24%28%60%3Cdiv%20id%3D%22html_ba8cdd23e51a4721afaa2066a7b78d28%22%20style%3D%22width%3A%20100.0%25%3B%20height%3A%20100.0%25%3B%22%3EVirginia%3Cbr%3EMark%20Warner%20%28D%29%3B%20Tweets%3A%2099%3Cbr%3ETim%20Kaine%20%28D%29%3B%20Tweets%3A%2052%3C/div%3E%60%29%5B0%5D%3B%0A%20%20%20%20%20%20%20%20%20%20%20%20popup_6b267ebbb3e04fb4abbcec34040206a5.setContent%28html_ba8cdd23e51a4721afaa2066a7b78d28%29%3B%0A%20%20%20%20%20%20%20%20%0A%0A%20%20%20%20%20%20%20%20marker_6b8f519006134ff49b5d4159b2ed1e5f.bindPopup%28popup_6b267ebbb3e04fb4abbcec34040206a5%29%0A%20%20%20%20%20%20%20%20%3B%0A%0A%20%20%20%20%20%20%20%20%0A%20%20%20%20%0A%20%20%20%20%0A%20%20%20%20%20%20%20%20%20%20%20%20var%20marker_c65fe7d40a1a4272a678446eef050f72%20%3D%20L.marker%28%0A%20%20%20%20%20%20%20%20%20%20%20%20%20%20%20%20%5B44.5990718%2C%20-72.5002608%5D%2C%0A%20%20%20%20%20%20%20%20%20%20%20%20%20%20%20%20%7B%7D%0A%20%20%20%20%20%20%20%20%20%20%20%20%29.addTo%28map_a848eb17e0d748eebc43f350cf22d39f%29%3B%0A%20%20%20%20%20%20%20%20%0A%20%20%20%20%0A%20%20%20%20%20%20%20%20var%20popup_059b640d63b94ea6a574cd01b91c006b%20%3D%20L.popup%28%7B%22maxWidth%22%3A%20200%7D%29%3B%0A%0A%20%20%20%20%20%20%20%20%0A%20%20%20%20%20%20%20%20%20%20%20%20var%20html_6708d54c0b2f4226aeb53a4b8f6aee57%20%3D%20%24%28%60%3Cdiv%20id%3D%22html_6708d54c0b2f4226aeb53a4b8f6aee57%22%20style%3D%22width%3A%20100.0%25%3B%20height%3A%20100.0%25%3B%22%3EVermont%3Cbr%3EPatrick%20Leahy%20%28D%29%3B%20Tweets%3A%2017%3Cbr%3EBernie%20Sanders%20%28I%29%3B%20Tweets%3A%202%3C/div%3E%60%29%5B0%5D%3B%0A%20%20%20%20%20%20%20%20%20%20%20%20popup_059b640d63b94ea6a574cd01b91c006b.setContent%28html_6708d54c0b2f4226aeb53a4b8f6aee57%29%3B%0A%20%20%20%20%20%20%20%20%0A%0A%20%20%20%20%20%20%20%20marker_c65fe7d40a1a4272a678446eef050f72.bindPopup%28popup_059b640d63b94ea6a574cd01b91c006b%29%0A%20%20%20%20%20%20%20%20%3B%0A%0A%20%20%20%20%20%20%20%20%0A%20%20%20%20%0A%20%20%20%20%0A%20%20%20%20%20%20%20%20%20%20%20%20var%20marker_fdd5890250cf4fb890c05b8b21dffdd6%20%3D%20L.marker%28%0A%20%20%20%20%20%20%20%20%20%20%20%20%20%20%20%20%5B47.2868352%2C%20-120.2126139%5D%2C%0A%20%20%20%20%20%20%20%20%20%20%20%20%20%20%20%20%7B%7D%0A%20%20%20%20%20%20%20%20%20%20%20%20%29.addTo%28map_a848eb17e0d748eebc43f350cf22d39f%29%3B%0A%20%20%20%20%20%20%20%20%0A%20%20%20%20%0A%20%20%20%20%20%20%20%20var%20popup_3e044b07af4740ec953ac1b004c3bdcc%20%3D%20L.popup%28%7B%22maxWidth%22%3A%20200%7D%29%3B%0A%0A%20%20%20%20%20%20%20%20%0A%20%20%20%20%20%20%20%20%20%20%20%20var%20html_747e79afffff4b3ea04eeaf996171b09%20%3D%20%24%28%60%3Cdiv%20id%3D%22html_747e79afffff4b3ea04eeaf996171b09%22%20style%3D%22width%3A%20100.0%25%3B%20height%3A%20100.0%25%3B%22%3EWashington%20State%3Cbr%3EPatty%20Murray%20%28D%29%3B%20Tweets%3A%2015%3Cbr%3EMaria%20Cantwell%20%28D%29%3B%20Tweets%3A%202%3C/div%3E%60%29%5B0%5D%3B%0A%20%20%20%20%20%20%20%20%20%20%20%20popup_3e044b07af4740ec953ac1b004c3bdcc.setContent%28html_747e79afffff4b3ea04eeaf996171b09%29%3B%0A%20%20%20%20%20%20%20%20%0A%0A%20%20%20%20%20%20%20%20marker_fdd5890250cf4fb890c05b8b21dffdd6.bindPopup%28popup_3e044b07af4740ec953ac1b004c3bdcc%29%0A%20%20%20%20%20%20%20%20%3B%0A%0A%20%20%20%20%20%20%20%20%0A%20%20%20%20%0A%20%20%20%20%0A%20%20%20%20%20%20%20%20%20%20%20%20var%20marker_17273dd948e74a198ff88bccbf051bca%20%3D%20L.marker%28%0A%20%20%20%20%20%20%20%20%20%20%20%20%20%20%20%20%5B44.4308975%2C%20-89.6884637%5D%2C%0A%20%20%20%20%20%20%20%20%20%20%20%20%20%20%20%20%7B%7D%0A%20%20%20%20%20%20%20%20%20%20%20%20%29.addTo%28map_a848eb17e0d748eebc43f350cf22d39f%29%3B%0A%20%20%20%20%20%20%20%20%0A%20%20%20%20%0A%20%20%20%20%20%20%20%20var%20popup_71278b2c135e4379a12f34dcbd118e72%20%3D%20L.popup%28%7B%22maxWidth%22%3A%20200%7D%29%3B%0A%0A%20%20%20%20%20%20%20%20%0A%20%20%20%20%20%20%20%20%20%20%20%20var%20html_c210b834dead4091a1de33440e1e2d38%20%3D%20%24%28%60%3Cdiv%20id%3D%22html_c210b834dead4091a1de33440e1e2d38%22%20style%3D%22width%3A%20100.0%25%3B%20height%3A%20100.0%25%3B%22%3EWisconsin%3Cbr%3ERon%20Johnson%20%28R%29%3B%20Tweets%3A%20783%3Cbr%3ETammy%20Baldwin%20%28D%29%3B%20Tweets%3A%204%3C/div%3E%60%29%5B0%5D%3B%0A%20%20%20%20%20%20%20%20%20%20%20%20popup_71278b2c135e4379a12f34dcbd118e72.setContent%28html_c210b834dead4091a1de33440e1e2d38%29%3B%0A%20%20%20%20%20%20%20%20%0A%0A%20%20%20%20%20%20%20%20marker_17273dd948e74a198ff88bccbf051bca.bindPopup%28popup_71278b2c135e4379a12f34dcbd118e72%29%0A%20%20%20%20%20%20%20%20%3B%0A%0A%20%20%20%20%20%20%20%20%0A%20%20%20%20%0A%20%20%20%20%0A%20%20%20%20%20%20%20%20%20%20%20%20var%20marker_fc55200e34f1418989820ddc893a3c7d%20%3D%20L.marker%28%0A%20%20%20%20%20%20%20%20%20%20%20%20%20%20%20%20%5B38.4758406%2C%20-80.8408415%5D%2C%0A%20%20%20%20%20%20%20%20%20%20%20%20%20%20%20%20%7B%7D%0A%20%20%20%20%20%20%20%20%20%20%20%20%29.addTo%28map_a848eb17e0d748eebc43f350cf22d39f%29%3B%0A%20%20%20%20%20%20%20%20%0A%20%20%20%20%0A%20%20%20%20%20%20%20%20var%20popup_fcfad6f8a81a49958f3c5fff24c94132%20%3D%20L.popup%28%7B%22maxWidth%22%3A%20200%7D%29%3B%0A%0A%20%20%20%20%20%20%20%20%0A%20%20%20%20%20%20%20%20%20%20%20%20var%20html_f7fb72ce1cf5463bb3e63e293474153f%20%3D%20%24%28%60%3Cdiv%20id%3D%22html_f7fb72ce1cf5463bb3e63e293474153f%22%20style%3D%22width%3A%20100.0%25%3B%20height%3A%20100.0%25%3B%22%3EWest%20Virginia%3Cbr%3EShelley%20Moore%20Capito%20%28R%29%3B%20Tweets%3A%20144%3Cbr%3EJoe%20Manchin%20%28D%29%3B%20Tweets%3A%2053%3C/div%3E%60%29%5B0%5D%3B%0A%20%20%20%20%20%20%20%20%20%20%20%20popup_fcfad6f8a81a49958f3c5fff24c94132.setContent%28html_f7fb72ce1cf5463bb3e63e293474153f%29%3B%0A%20%20%20%20%20%20%20%20%0A%0A%20%20%20%20%20%20%20%20marker_fc55200e34f1418989820ddc893a3c7d.bindPopup%28popup_fcfad6f8a81a49958f3c5fff24c94132%29%0A%20%20%20%20%20%20%20%20%3B%0A%0A%20%20%20%20%20%20%20%20%0A%20%20%20%20%0A%20%20%20%20%0A%20%20%20%20%20%20%20%20%20%20%20%20var%20marker_6d939d7fb1bb464491d5f6810d9ef5e2%20%3D%20L.marker%28%0A%20%20%20%20%20%20%20%20%20%20%20%20%20%20%20%20%5B43.1700264%2C%20-107.5685348%5D%2C%0A%20%20%20%20%20%20%20%20%20%20%20%20%20%20%20%20%7B%7D%0A%20%20%20%20%20%20%20%20%20%20%20%20%29.addTo%28map_a848eb17e0d748eebc43f350cf22d39f%29%3B%0A%20%20%20%20%20%20%20%20%0A%20%20%20%20%0A%20%20%20%20%20%20%20%20var%20popup_0fefafa90b534750a53f1856d1efc8b7%20%3D%20L.popup%28%7B%22maxWidth%22%3A%20200%7D%29%3B%0A%0A%20%20%20%20%20%20%20%20%0A%20%20%20%20%20%20%20%20%20%20%20%20var%20html_a9f74c9778e34ad99ab2c3d0937f771e%20%3D%20%24%28%60%3Cdiv%20id%3D%22html_a9f74c9778e34ad99ab2c3d0937f771e%22%20style%3D%22width%3A%20100.0%25%3B%20height%3A%20100.0%25%3B%22%3EWyoming%3Cbr%3EJohn%20Barrasso%20%28R%29%3B%20Tweets%3A%20157%3Cbr%3ECynthia%20Lummis%20%28R%29%3B%20Tweets%3A%2017%3C/div%3E%60%29%5B0%5D%3B%0A%20%20%20%20%20%20%20%20%20%20%20%20popup_0fefafa90b534750a53f1856d1efc8b7.setContent%28html_a9f74c9778e34ad99ab2c3d0937f771e%29%3B%0A%20%20%20%20%20%20%20%20%0A%0A%20%20%20%20%20%20%20%20marker_6d939d7fb1bb464491d5f6810d9ef5e2.bindPopup%28popup_0fefafa90b534750a53f1856d1efc8b7%29%0A%20%20%20%20%20%20%20%20%3B%0A%0A%20%20%20%20%20%20%20%20%0A%20%20%20%20%0A%3C/script%3E onload=\"this.contentDocument.open();this.contentDocument.write(    decodeURIComponent(this.getAttribute('data-html')));this.contentDocument.close();\" allowfullscreen webkitallowfullscreen mozallowfullscreen></iframe></div></div>"
      ],
      "text/plain": [
       "<folium.folium.Map at 0x1a1d8f910>"
      ]
     },
     "execution_count": 36,
     "metadata": {},
     "output_type": "execute_result"
    }
   ],
   "source": [
    "usmap \n",
    "#from IPython.display import IFrame\n",
    "#IFrame(src=\"./SenatorsTweets.html\", width=800, height=450)"
   ]
  },
  {
   "cell_type": "markdown",
   "metadata": {},
   "source": [
    "<hr style=\"height:2px; border:none; color:#000; background-color:#000;\">"
   ]
  },
  {
   "cell_type": "markdown",
   "metadata": {},
   "source": [
    "# 16.5 Hadoop\n",
    "\\[We'll cover this example if we have time. The complete presentation can be viewed in my **[Python Fundamentals](https://learning.oreilly.com/videos/python-fundamentals/9780135917411/9780135917411-PFLL_Lesson16_24) (10 videos)**\\]\n",
    "&nbsp;  \n",
    "&nbsp;  \n",
    "\n",
    "* **Apache Hadoop** and **Apache Spark** deal with **big-data storage and processing challenges** via \n",
    "    * huge **clusters** of computers \n",
    "    * **distributed data storage** \n",
    "    * **massively parallel processing**\n",
    "    * Hadoop **MapReduce** programming\n",
    "    * Spark **in-memory processing** techniques\n",
    "* **Hadoop** also serves as the **foundation** for many recent advancements in **big-data processing** and an entire **ecosystem of software tools**\n",
    "\n",
    "<!--\n",
    "\n",
    "* For a list of **Hadoop ecosystem components**, see my [**Python Fundamentals LiveLessons videos**](https://learning.oreilly.com/videos/python-fundamentals/9780135917411/) (big data lesson coming soon) or [**Python for Programmers, Section 16.5.1**](https://learning.oreilly.com/library/view/python-for-programmers/9780135231364/ch16.xhtml#ch16lev2sec16)\n",
    "\n",
    "-->"
   ]
  },
  {
   "cell_type": "markdown",
   "metadata": {},
   "source": [
    "<hr style=\"height:2px; border:none; color:#000; background-color:#000;\">"
   ]
  },
  {
   "cell_type": "markdown",
   "metadata": {},
   "source": [
    "## 16.5.1 Hadoop Overview (1 of 2)\n",
    "* Early on, Google knew they needed to **return search results quickly**\n",
    "* The only practical way &mdash; **store and index the entire web** \n",
    "* Late 90s computers couldn’t store and analyze such a **large volume of data economically and fast enough**\n",
    "* Google developed a **clustering** system with vast numbers of computers (**nodes**)\n",
    "    * **greater chance of hardware failures** so they built in high levels of **redundancy** \n",
    "    * Data distributed across all these **commodity computers**\n",
    "* For a **search request**, all computers searched their portion of the web **in parallel**\n",
    "    * Then results were **gathered and returned**"
   ]
  },
  {
   "cell_type": "markdown",
   "metadata": {},
   "source": [
    "<hr style=\"height:2px; border:none; color:#000; background-color:#000;\">"
   ]
  },
  {
   "cell_type": "markdown",
   "metadata": {},
   "source": [
    "## 16.5.1 Hadoop Overview (2 of 2)\n",
    "* Google developed **clustering hardware and software** and **distributed storage**\n",
    "* **Published its designs**\n",
    "* Programmers at Yahoo!, working from Google’s [**“Google File System” paper**](http://static.googleusercontent.com/media/research.google.com/en//archive/gfs-sosp2003.pdf), built their own system\n",
    "* They **open-sourced** their work and **Apache.org** implemented **Hadoop**\n",
    "* Named for an **elephant** stuffed animal that belonged to a child of one of Hadoop’s creators\n",
    "    * Inspiration for our textbook cover\n",
    "* Two **additional Google papers** contributed to evolution of Hadoop\n",
    "\t* [**“MapReduce: Simplified Data Processing on Large Clusters”**](http://static.googleusercontent.com/media/research.google.com/en//archive/mapreduce-osdi04.pdf) \n",
    "\t* [**“Bigtable: A Distributed Storage System for Structured Data”**](http://static.googleusercontent.com/media/research.google.com/en//archive/bigtable-osdi06.pdf) \n",
    "\t\t* Basis for Apache HBase (a NoSQL key–value and column-based database)."
   ]
  },
  {
   "cell_type": "markdown",
   "metadata": {},
   "source": [
    "<hr style=\"height:2px; border:none; color:#000; background-color:#000;\">"
   ]
  },
  {
   "cell_type": "markdown",
   "metadata": {},
   "source": [
    "### HDFS, `MapReduce` and YARN (1 of 2)\n",
    "* Hadoop’s key components are: \n",
    "\t* **HDFS** (Hadoop Distributed File System) for **storing massive amounts of data** throughout a **cluster** \n",
    "\t* **MapReduce** for implementing the **tasks that process the data**\n",
    "        * Like **filter/map/reduce** in functional-style programming, but **massively parallel**\n",
    "* **MapReduce** performs two steps—**mapping** and **reduction**\n",
    "    * **Mapping** (and **filtering**) &mdash; processes original data across **entire cluster** and **maps** it into tuples of **key–value pairs**\n",
    "    * **Reduction** &mdash; **combines** those tuples to **produce the results**"
   ]
  },
  {
   "cell_type": "markdown",
   "metadata": {},
   "source": [
    "<hr style=\"height:2px; border:none; color:#000; background-color:#000;\">"
   ]
  },
  {
   "cell_type": "markdown",
   "metadata": {},
   "source": [
    "### HDFS, `MapReduce` and YARN (2 of 2)\n",
    "* Hadoop divides data into **batches** and **distributes** across **cluster's nodes**\n",
    "* Also **distributes MapReduce code** to **execute in parallel on every node**\n",
    "    * Each **node** processes the **batch of data** stored **on that node**\n",
    "* **Reduction combines results** from **all nodes** to produce **final result**\n",
    "* **YARN** (“yet another resource negotiator”) **manages all resources** in the **cluster** and **schedules tasks** for execution"
   ]
  },
  {
   "cell_type": "markdown",
   "metadata": {},
   "source": [
    "<hr style=\"height:2px; border:none; color:#000; background-color:#000;\">"
   ]
  },
  {
   "cell_type": "markdown",
   "metadata": {},
   "source": [
    "### Hadoop Ecosystem \n",
    "* **Hadoop began** with **HDFS** and **MapReduce**, followed closely by **YARN**\n",
    "* Now it's a **large ecosystem**, including **Hadoop 3** (3.2 released in January), **Spark** and many other Apache projects[\\[1\\]](https://hortonworks.com/ecosystems/),[\\[2\\]](https://readwrite.com/2018/06/26/complete-guide-of-hadoop-ecosystem-components/),[\\[3\\]](https://www.janbasktraining.com/blog/introduction-architecture-components-hadoop-ecosystem/)\n",
    "* [See our table of Hadoop Ecosystem Components](https://learning.oreilly.com/library/view/Python+for+Programmers,+First+Edition/9780135231364/ch16.xhtml#ch16lev2sec16)"
   ]
  },
  {
   "cell_type": "markdown",
   "metadata": {},
   "source": [
    "<hr style=\"height:2px; border:none; color:#000; background-color:#000;\">"
   ]
  },
  {
   "cell_type": "markdown",
   "metadata": {},
   "source": [
    "## 16.5.2 Summarizing Word Lengths in _Romeo and Juliet_ via MapReduce\n",
    "* To execute this example\n",
    "    * We created a **cloud-based, multi-node cluster of computers** using **Microsoft Azure HDInsight**, which provides **Hadoop as a service**\n",
    "    * Ran our **Hadoop MapReduce** code on that **cluster**\n",
    "* **MapReduce task** \n",
    "    * Determines the **length of each word in `RomeoAndJuliet.txt`** (from the NLP presentation)\n",
    "    * Summarizes **number of words of each length** "
   ]
  },
  {
   "cell_type": "markdown",
   "metadata": {},
   "source": [
    "<hr style=\"height:2px; border:none; color:#000; background-color:#000;\">"
   ]
  },
  {
   "cell_type": "markdown",
   "metadata": {},
   "source": [
    "## 16.5.3 Creating an Apache Hadoop Cluster in Microsoft Azure HDInsight (1 of 2)\n",
    "* **Multi-node cloud-based clusters** typically are **paid** services\n",
    "* We used [**Microsoft Azure’s HDInsight service**](https://azure.microsoft.com/en-us/free) (for Hadoop and Spark) and **new account credit** to create **cloud-based clusters of computers** in which to test our examples\n",
    "    * The **new account credit** was more than enough to test our Hadoop and Spark examples\n",
    "* HDInsight service **requires a credit card** for **identity verification**\n",
    "    * When your **new account credit runs out** or **30 days pass**, cannot use paid services unless you authorize Microsoft to **charge your card**\n",
    "        * **Prevents accidental large bills** for people who are just experimenting"
   ]
  },
  {
   "cell_type": "markdown",
   "metadata": {},
   "source": [
    "<hr style=\"height:2px; border:none; color:#000; background-color:#000;\">"
   ]
  },
  {
   "cell_type": "markdown",
   "metadata": {},
   "source": [
    "## 16.5.3 Creating an Apache Hadoop Cluster in Microsoft Azure HDInsight (2 of 2)\n",
    "* Details on configuring a **low-cost cluster** to try **Hadoop** \n",
    "    * [**Python Fundamentals LiveLessons videos**](https://learning.oreilly.com/videos/python-fundamentals/9780135917411/9780135917411-PFLL_Lesson16_27_pt1) (two videos starting with this one) \n",
    "    * [**Python for Programmers, Section 16.5.3**](https://learning.oreilly.com/library/view/Python+for+Programmers,+First+Edition/9780135231364/ch16.xhtml#ch16lev2sec18) \n",
    "    * Also [see Microsoft’s **recommended cluster configurations**](https://docs.microsoft.com/en-us/azure/hdinsight/hdinsight-component-versioning#default-node-configuration-and-virtual-machine-sizes-for-clusters)\n",
    "* **Caution: Once you allocate a cluster, it incurs costs whether you’re using it or not. So, when you complete this case study, be sure to delete your cluster(s) and other resources, so you don’t incur additional charges.** "
   ]
  },
  {
   "cell_type": "markdown",
   "metadata": {},
   "source": [
    "<hr style=\"height:2px; border:none; color:#000; background-color:#000;\">"
   ]
  },
  {
   "cell_type": "markdown",
   "metadata": {},
   "source": [
    "## 16.5.4 Hadoop Streaming\n",
    "* Hadoop is **Java-based**\n",
    "* Languages like **Python** that are **not natively supported** must use **Hadoop streaming** \n",
    "* **Python MapReduce scripts** communicate with Hadoop via **redirected standard I/O streams**\n",
    "\t* Hadoop redirects **input** to **mapper** script, which reads input from **standard input stream**\n",
    "\t* **Mapper** writes results to **standard output stream**\n",
    "\t* Hadoop redirects **mapper’s output** as **input** to **reducer** script, which reads from the **standard input stream**\n",
    "\t* **Reducer** writes results to **standard output stream** \n",
    "\t* Hadoop writes **reducer’s output** to **HDFS**   "
   ]
  },
  {
   "cell_type": "markdown",
   "metadata": {},
   "source": [
    "<hr style=\"height:2px; border:none; color:#000; background-color:#000;\">"
   ]
  },
  {
   "cell_type": "markdown",
   "metadata": {},
   "source": [
    "## 16.5.5 Implementing the Mapper (1 of 2)\n",
    "* **Mapper** takes **lines of text** as input and **maps** them to **key–value pairs**, each containing a **word length** and **`1`**\n",
    "* **Reducer** will total these **key–value pairs** by key\n",
    "* **Hadoop streaming** expects **mapper’s output** and **reducer’s input/output** to have the form \n",
    "> **_key_`\\t`_value_**\n",
    "* In **`length_mapper.py`**, `#!` tells Hadoop to use Python 3\n",
    "    * Must be first line in the file\n",
    "    * **HDInsight** currently includes **Python 2.7.12** and **Python 3.5.2** \n",
    "    * **Cannot use f-strings** which are **Python 3.6+**"
   ]
  },
  {
   "cell_type": "markdown",
   "metadata": {},
   "source": [
    "<hr style=\"height:2px; border:none; color:#000; background-color:#000;\">"
   ]
  },
  {
   "cell_type": "markdown",
   "metadata": {},
   "source": [
    "## 16.5.5 Implementing the Mapper (2 of 2)\n",
    "\n",
    "```python\n",
    "#!/usr/bin/env python3\n",
    "# length_mapper.py\n",
    "\"\"\"Maps lines of text to key-value pairs of word lengths and 1.\"\"\"\n",
    "import sys\n",
    "\n",
    "def tokenize_input():  # generator function\n",
    "    \"\"\"Split each line of standard input into a list of strings.\"\"\"\n",
    "    for line in sys.stdin:\n",
    "        yield line.split()  \n",
    "\n",
    "# read each line in the the standard input and for every word \n",
    "# produce a key-value pair containing the word, a tab and 1\n",
    "for line in tokenize_input():\n",
    "    for word in line:\n",
    "        print(str(len(word)) + '\\t1')\n",
    "\n",
    "```"
   ]
  },
  {
   "cell_type": "markdown",
   "metadata": {},
   "source": [
    "<hr style=\"height:2px; border:none; color:#000; background-color:#000;\">"
   ]
  },
  {
   "cell_type": "markdown",
   "metadata": {},
   "source": [
    "## 16.5.6 Implementing the Reducer \n",
    "* In **`length_reducer.py`**, function **`tokenize_input`** is a **generator function** that reads and splits the **key–value pairs** produced by the mapper\n",
    "* **MapReduce streaming** supplies the **standard input**\n",
    "* **`groupby` function** (**`itertools` module**) groups inputs by their **keys** (the **word lengths**) \n",
    "* **Total** all the **counts** for a given **key**\n",
    "* Output a new **key–value pair** consisting of the **word length** and its **total**\n",
    "* **MapReduce** takes the **final word-count outputs** and **writes** them to a file in **HDFS**"
   ]
  },
  {
   "cell_type": "markdown",
   "metadata": {},
   "source": [
    "<hr style=\"height:2px; border:none; color:#000; background-color:#000;\">"
   ]
  },
  {
   "cell_type": "markdown",
   "metadata": {},
   "source": [
    "```python\n",
    "#!/usr/bin/env python3\n",
    "# length_reducer.py\n",
    "\"\"\"Counts the number of words with each length.\"\"\"\n",
    "import sys\n",
    "from itertools import groupby\n",
    "from operator import itemgetter\n",
    "\n",
    "def tokenize_input():\n",
    "    \"\"\"Split each line of standard input into a key and a value.\"\"\"\n",
    "    for line in sys.stdin:\n",
    "        yield line.strip().split('\\t')\n",
    "\n",
    "# produce key-value pairs of word lengths and counts separated by tabs\n",
    "for word_length, group in groupby(tokenize_input(), itemgetter(0)):\n",
    "    try:\n",
    "        total = sum(int(count) for word_length, count in group)\n",
    "        print(word_length + '\\t' + str(total))\n",
    "    except ValueError:\n",
    "        pass  # ignore word if its count was not an integer\n",
    "\n",
    "```"
   ]
  },
  {
   "cell_type": "markdown",
   "metadata": {},
   "source": [
    "<hr style=\"height:2px; border:none; color:#000; background-color:#000;\">"
   ]
  },
  {
   "cell_type": "markdown",
   "metadata": {},
   "source": [
    "## 16.5.7 Preparing to Run the MapReduce Example\n",
    "* Must upload scripts and `RomeoAndJuliet.txt` into **HDInsight cluster's file system**\n",
    "* For detailed instructions on doing this, see \n",
    "    * [**Python Fundamentals LiveLessons videos**](https://learning.oreilly.com/videos/python-fundamentals/9780135917411/9780135917411-PFLL_Lesson16_31) \n",
    "    * [**Python for Programmers, Section 16.5.7**](https://learning.oreilly.com/library/view/python-for-programmers/9780135231364/ch16.xhtml#ch16lev2sec22)"
   ]
  },
  {
   "cell_type": "markdown",
   "metadata": {},
   "source": [
    "<hr style=\"height:2px; border:none; color:#000; background-color:#000;\">"
   ]
  },
  {
   "cell_type": "markdown",
   "metadata": {},
   "source": [
    "## 16.5.8 Running the MapReduce Job (1 of 4)\n",
    "* Once files are in the cluster, **run MapReduce job** for **`RomeoAndJuliet.txt`** on your **cluster** by executing the following command in the cluster\n",
    "    * You can copy/paste the command from `yarn.txt` located with this example\n",
    "    * We reformatted the command here for readability: \n",
    "\n",
    "```\n",
    "yarn jar /usr/hdp/current/hadoop-mapreduce-client/hadoop-streaming.jar \n",
    "   -D mapred.output.key.comparator.class=\n",
    "      org.apache.hadoop.mapred.lib.KeyFieldBasedComparator    \n",
    "   -D mapred.text.key.comparator.options=-n   \n",
    "   -files length_mapper.py,length_reducer.py    \n",
    "   -mapper length_mapper.py \n",
    "   -reducer length_reducer.py    \n",
    "   -input /example/data/RomeoAndJuliet.txt    \n",
    "   -output /example/wordlengthsoutput    \n",
    "```"
   ]
  },
  {
   "cell_type": "markdown",
   "metadata": {},
   "source": [
    "<hr style=\"height:2px; border:none; color:#000; background-color:#000;\">"
   ]
  },
  {
   "cell_type": "markdown",
   "metadata": {},
   "source": [
    "## 16.5.8 Running the MapReduce Job (2 of 4)\n",
    "* The **`yarn` command** invokes **Hadoop’s YARN** (“yet another resource negotiator”) tool to manage and coordinate access to the Hadoop resources the **MapReduce task** uses\n",
    "* **`hadoop-streaming.jar`** contains the Java-based **Hadoop streaming utility** that allows you to use Python to implement the **mapper** and **reducer**\n",
    "* The two **`-D` options** set Hadoop properties that enable it to \n",
    "    * **sort the final key–value pairs by key** (**`KeyFieldBasedComparator`**) \n",
    "    * in **descending order (`-`) numerically (`n`)** rather than alphabetically"
   ]
  },
  {
   "cell_type": "markdown",
   "metadata": {},
   "source": [
    "<hr style=\"height:2px; border:none; color:#000; background-color:#000;\">"
   ]
  },
  {
   "cell_type": "markdown",
   "metadata": {},
   "source": [
    "## 16.5.8 Running the MapReduce Job (3 of 4)\n",
    "* Other command-line arguments:\n",
    "\t* **`-files`**—Comma-separated list of scripts that Hadoop copies to every node in the cluster so they can **execute locally on each node**\n",
    "\t* **`-mapper`**—mapper’s script file\n",
    "\t* **`-reducer`**—reducer’s script file\n",
    "\t* **`-input`**—**File** or **directory of files** to supply as **mapper input**\n",
    "\t* **`-output`**—**HDFS directory** where final results will be stored\n",
    "        * **Error** if this folder **already exists**"
   ]
  },
  {
   "cell_type": "markdown",
   "metadata": {},
   "source": [
    "<hr style=\"height:2px; border:none; color:#000; background-color:#000;\">"
   ]
  },
  {
   "cell_type": "markdown",
   "metadata": {},
   "source": [
    "## 16.5.8 Running the MapReduce Job (4 of 4)\n",
    "* Sample **output** shows some **Hadoop feedback** produced as the **MapReduce job executes**\n",
    "    * Used **`...`** to save space \n",
    "* Several lines of interest:\n",
    "\t* The total number of **“input paths to process”**—the **`1` source of input** in this example is **`RomeoAndJuliet.txt`**\n",
    "\t* The **“number of splits”**—`2` in this example, based on the **number of worker nodes** in our **HDInsight cluster**\n",
    "\t* The **percentage completion** dates and times&mdash;**big data jobs** could take minutes, hours, days, ...\n",
    "\t* **`File System Counters`** showing numbers of **bytes read and written**\n",
    "\t* **`Job Counters`** showing the **numbers of mapping and reduction tasks used** \n",
    "\t* **`Map-Reduce Framework`** showing stats about the **steps performed**"
   ]
  },
  {
   "cell_type": "markdown",
   "metadata": {},
   "source": [
    "<hr style=\"height:2px; border:none; color:#000; background-color:#000;\">"
   ]
  },
  {
   "cell_type": "markdown",
   "metadata": {},
   "source": [
    "## Output\n",
    "<pre>\n",
    "packageJobJar: [] [/usr/hdp/2.6.5.3004-13/hadoop-mapreduce/hadoop-streaming-2.7.3.2.6.5.3004-13.jar] /tmp/streamjob2764990629848702405.jar tmpDir=null\n",
    "...\n",
    "18/12/05 16:46:25 INFO mapred.FileInputFormat: <strong>Total input paths to process : 1</strong>\n",
    "18/12/05 16:46:26 INFO mapreduce.JobSubmitter: <strong>number of splits:2</strong>\n",
    "...\n",
    "18/12/05 16:46:26 INFO mapreduce.Job: The url to track the job: http://hn0-paulte.y3nghy5db2kehav5m0opqrjxcb.cx.internal.cloudapp.net:8088/proxy/application_1543953844228_0025/\n",
    "...\n",
    "18/12/05 16:46:35 INFO mapreduce.Job:  <strong>map 0% reduce 0%</strong>\n",
    "18/12/05 16:46:43 INFO mapreduce.Job:  <strong>map 50% reduce 0%</strong>\n",
    "18/12/05 16:46:44 INFO mapreduce.Job:  <strong>map 100% reduce 0%</strong>\n",
    "18/12/05 16:46:48 INFO mapreduce.Job:  <strong>map 100% reduce 100%</strong>\n",
    "18/12/05 16:46:50 INFO mapreduce.Job: Job job_1543953844228_0025 <strong>completed successfully</strong>\n",
    "</pre>"
   ]
  },
  {
   "cell_type": "markdown",
   "metadata": {},
   "source": [
    "<pre>\n",
    "18/12/05 16:46:50 INFO mapreduce.Job: Counters: 49\n",
    "\t<strong>File System Counters</strong>\n",
    "\t\tFILE: Number of bytes read=156411\n",
    "\t\tFILE: Number of bytes written=813764\n",
    "...\n",
    "\t<strong>Job Counters</strong> \n",
    "\t\tLaunched map tasks=2\n",
    "\t\tLaunched reduce tasks=1\n",
    "...\n",
    "\t<strong>Map-Reduce Framework</strong>\n",
    "\t\tMap input records=5260\n",
    "\t\tMap output records=25956\n",
    "\t\tMap output bytes=104493\n",
    "\t\tMap output materialized bytes=156417\n",
    "\t\tInput split bytes=346\n",
    "\t\tCombine input records=0\n",
    "\t\tCombine output records=0\n",
    "\t\tReduce input groups=19\n",
    "\t\tReduce shuffle bytes=156417\n",
    "\t\tReduce input records=25956\n",
    "\t\tReduce output records=19\n",
    "\t\tSpilled Records=51912\n",
    "\t\tShuffled Maps =2\n",
    "\t\tFailed Shuffles=0\n",
    "\t\tMerged Map outputs=2\n",
    "\t\tGC time elapsed (ms)=193\n",
    "\t\tCPU time spent (ms)=4440\n",
    "\t\tPhysical memory (bytes) snapshot=1942798336\n",
    "\t\tVirtual memory (bytes) snapshot=8463282176\n",
    "\t\tTotal committed heap usage (bytes)=3177185280\n",
    "...\n",
    "18/12/05 16:46:50 INFO streaming.StreamJob: Output directory: /example/wordlengthsoutput\n",
    "</pre>"
   ]
  },
  {
   "cell_type": "markdown",
   "metadata": {},
   "source": [
    "<hr style=\"height:2px; border:none; color:#000; background-color:#000;\">"
   ]
  },
  {
   "cell_type": "markdown",
   "metadata": {},
   "source": [
    "### Viewing the Word Counts\n",
    "* **Hadoop MapReduce** saves its output into **HDFS**\n",
    "* To **view final word counts** you must look at the **file in cluster's HDFS**\n",
    "> ```\n",
    "hdfs dfs -text /example/wordlengthsoutput/part-00000\n",
    "```\n",
    "\n",
    "```\n",
    "18/12/05 16:47:19 INFO lzo.GPLNativeCodeLoader: Loaded native gpl library\n",
    "18/12/05 16:47:19 INFO lzo.LzoCodec: Successfully loaded & initialized native-lzo library [hadoop-lzo rev b5efb3e531bc1558201462b8ab15bb412ffa6b89]\n",
    "1\t4699\n",
    "2\t3869\n",
    "3\t5651\n",
    "4\t3668\n",
    "5\t2719\n",
    "6\t1624\n",
    "7\t1140\n",
    "8\t1062\n",
    "9\t855\n",
    "10\t317\n",
    "11\t189\n",
    "12\t95\n",
    "13\t35\n",
    "14\t13\n",
    "15\t9\n",
    "16\t6\n",
    "17\t3\n",
    "18\t1\n",
    "23\t1\n",
    "```"
   ]
  },
  {
   "cell_type": "markdown",
   "metadata": {},
   "source": [
    "<hr style=\"height:2px; border:none; color:#000; background-color:#000;\">"
   ]
  },
  {
   "cell_type": "markdown",
   "metadata": {},
   "source": [
    "### IMPORTANT: Deleting Your Cluster So You Do Not Incur Charges\n",
    "* **Be sure to delete your cluster(s) and associated resources (like storage) so you don’t incur additional charges** \n",
    "    * For details on deleting the cluster, see my [**Python Fundamentals LiveLessons videos**](https://learning.oreilly.com/videos/python-fundamentals/9780135917411/9780135917411-PFLL_Lesson16_32) (deleting is discussed around the 9:00 minute mark) and in [**Python for Programmers, Section 16.5.8**](https://learning.oreilly.com/library/view/python-for-programmers/9780135231364/ch16.xhtml#ch16lev2sec23)\n",
    "* [More information](https://docs.microsoft.com/en-us/azure/azure-resource-manager/resource-group-portal)"
   ]
  },
  {
   "cell_type": "markdown",
   "metadata": {},
   "source": [
    "<hr style=\"height:2px; border:none; color:#000; background-color:#000;\">"
   ]
  },
  {
   "cell_type": "markdown",
   "metadata": {},
   "source": [
    "### Lecture Note: Switch to **jupyter/pyspark-notebook Docker stack** for Spark presentation"
   ]
  },
  {
   "cell_type": "markdown",
   "metadata": {},
   "source": [
    "<hr style=\"height:2px; border:none; color:#000; background-color:#000;\">"
   ]
  },
  {
   "cell_type": "markdown",
   "metadata": {},
   "source": [
    "# More Info \n",
    "* See Lesson 16 in [**Python Fundamentals LiveLessons** here on O'Reilly Online Learning](https://learning.oreilly.com/videos/python-fundamentals/9780135917411)\n",
    "* See Chapter 16 in [**Python for Programmers** on O'Reilly Online Learning](https://learning.oreilly.com/library/view/python-for-programmers/9780135231364/)\n",
    "* See Chapter 17 in [**Intro Python for Computer Science and Data Science** on O'Reilly Online Learning](https://learning.oreilly.com/library/view/intro-to-python/9780135404799/)\n",
    "* Interested in a print book? Check out:\n",
    "\n",
    "| Python for Programmers<br>(640-page professional book) | Intro to Python for Computer<br>Science and Data Science<br>(880-page college textbook)\n",
    "| :------ | :------\n",
    "| <a href=\"https://amzn.to/2VvdnxE\"><img alt=\"Python for Programmers cover\" src=\"../images/PyFPCover.png\" width=\"150\" border=\"1\"/></a> | <a href=\"https://amzn.to/2LiDCmt\"><img alt=\"Intro to Python for Computer Science and Data Science: Learning to Program with AI, Big Data and the Cloud\" src=\"../images/IntroToPythonCover.png\" width=\"159\" border=\"1\"></a>\n",
    "\n",
    ">Please **do not** purchase both books&mdash;_Python for Programmers_ is a subset of _Intro to Python for Computer Science and Data Science_"
   ]
  },
  {
   "cell_type": "markdown",
   "metadata": {},
   "source": [
    "<hr style=\"height:2px; border:none; color:#000; background-color:#000;\">"
   ]
  },
  {
   "cell_type": "markdown",
   "metadata": {},
   "source": [
    "&copy; 2019 by Pearson Education, Inc. All Rights Reserved. The content in this notebook is based on the book [**Python for Programmers**](https://amzn.to/2VvdnxE)."
   ]
  }
 ],
 "metadata": {
  "kernelspec": {
   "display_name": "Python 3 (ipykernel)",
   "language": "python",
   "name": "python3"
  },
  "language_info": {
   "codemirror_mode": {
    "name": "ipython",
    "version": 3
   },
   "file_extension": ".py",
   "mimetype": "text/x-python",
   "name": "python",
   "nbconvert_exporter": "python",
   "pygments_lexer": "ipython3",
   "version": "3.9.7"
  }
 },
 "nbformat": 4,
 "nbformat_minor": 4
}
