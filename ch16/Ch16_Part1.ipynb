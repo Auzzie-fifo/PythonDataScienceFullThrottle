{
 "cells": [
  {
   "cell_type": "markdown",
   "metadata": {},
   "source": [
    "&copy; 2019 by Pearson Education, Inc. All Rights Reserved. The content in this notebook is based on the book [**Python for Programmers**](https://amzn.to/2VvdnxE)."
   ]
  },
  {
   "cell_type": "markdown",
   "metadata": {},
   "source": [
    "# 16. Big Data: Hadoop, Spark, NoSQL and IoT "
   ]
  },
  {
   "cell_type": "code",
   "execution_count": 1,
   "metadata": {},
   "outputs": [],
   "source": [
    "# enable high-res images in notebook \n",
    "%config InlineBackend.figure_format = 'retina'\n",
    "%matplotlib inline"
   ]
  },
  {
   "cell_type": "markdown",
   "metadata": {},
   "source": [
    "# 16.1 Introduction\n",
    "### Big Data\n",
    "* Previous data-science case studies all focused on AI\n",
    "* Here, we focus on the **big-data infrastructure that supports AI solutions**\n",
    "* As **data grows exponentially**, we want to **learn** from that data&mdash;and at **blazing speed**\n",
    "* Done with **sophisticated algorithms**, hardware, software and networking designs\n",
    "* With **big data**, **machine learning** and **deep learning** can be even **more effective**"
   ]
  },
  {
   "cell_type": "markdown",
   "metadata": {},
   "source": [
    "<hr style=\"height:2px; border:none; color:#000; background-color:#000;\">"
   ]
  },
  {
   "cell_type": "markdown",
   "metadata": {},
   "source": [
    "# 16.3 NoSQL Big-Data Databases (1 of 2)\n",
    "* **Relational databases** store data in rectangular **tables**\n",
    "* **Not efficient** as **data volume** and the numbers of **tables** and **relationships between them** increases\n",
    "* Most data produced today is \n",
    "    * **Unstructured**&mdash;**photos**, **videos** and **natural language** (social-media posts, texts, ...), or\n",
    "    * **Semi-structured**&mdash;**JSON** and **XML** documents\n",
    "* **Metadata** adds structure to **unstructured data**, making it **semi-structured**\n",
    "    * **Tweets** (as you saw earlier)\n",
    "    * **YouTube videos**&mdash;**who posted** and **when**, **title**, **description**, ..."
   ]
  },
  {
   "cell_type": "markdown",
   "metadata": {},
   "source": [
    "<hr style=\"height:2px; border:none; color:#000; background-color:#000;\">"
   ]
  },
  {
   "cell_type": "markdown",
   "metadata": {},
   "source": [
    "# 16.3 NoSQL Big-Data Databases (2 of 2)\n",
    "* **NoSQL databases** are designed for \n",
    "    * **unstructured** and **semi-structured big-data** \n",
    "    * big data **storage and processing demands**\n",
    "* **Big data** requires **massive databases**, which can be spread across data centers worldwide in huge **clusters** of commodity computers\n",
    "* The name **NoSQL** originally meant what its name implies\n",
    "* With **growing use of SQL in big data**—such as **SQL on Hadoop** and **Spark SQL**—now it's said to stand for **“Not Only SQL”** "
   ]
  },
  {
   "cell_type": "markdown",
   "metadata": {},
   "source": [
    "<hr style=\"height:2px; border:none; color:#000; background-color:#000;\">"
   ]
  },
  {
   "cell_type": "markdown",
   "metadata": {},
   "source": [
    "### Four Major Types of **NoSQL Databases**\n",
    "* **key–value**\n",
    "* **document**\n",
    "* **columnar**\n",
    "* **graph**\n",
    "* Our NoSQL case study uses **MongoDB document database** &mdash; the most popular NoSQL database\n",
    "* **Overviews** of the **NoSQL database types** \n",
    "    * [**Python Fundamentals LiveLessons videos**](https://learning.oreilly.com/videos/python-fundamentals/9780135917411/9780135917411-PFLL_Lesson16_20) \n",
    "    * [**Python for Programmers, Section 16.3**](https://learning.oreilly.com/library/view/python-for-programmers/9780135231364/ch16.xhtml#ch16lev1sec3)"
   ]
  },
  {
   "cell_type": "markdown",
   "metadata": {},
   "source": [
    "<hr style=\"height:2px; border:none; color:#000; background-color:#000;\">"
   ]
  },
  {
   "cell_type": "markdown",
   "metadata": {},
   "source": [
    "# 16.4 Case Study: A MongoDB JSON Document Database \n",
    "* Store and search **JSON** for **streamed tweets** about **100 U.S. senators**\n",
    "* Summarize **top 10** by **tweet count**\n",
    "* Display **interactive map** containing **tweet count summaries**\n",
    "* I **pre-executed this example** because we stream 10,000 tweets, which can take substantial time \n",
    "* **Possible enhancement** &mdash; Use **sentiment analysis** to count **positive**, **negative** and **neutral tweets** mentioning each senator’s **handle**"
   ]
  },
  {
   "cell_type": "markdown",
   "metadata": {},
   "source": [
    "<hr style=\"height:2px; border:none; color:#000; background-color:#000;\">"
   ]
  },
  {
   "cell_type": "markdown",
   "metadata": {},
   "source": [
    "### Free Cloud-Based MongoDB Atlas Cluster \n",
    "* Requires **no installation** \n",
    "* Store up to **512MB of data**\n",
    "* Can store more with\n",
    "    * [**Free MongoDB Community Server**](https://www.mongodb.com/download-center/community), or \n",
    "    * **Paid MongoDB Atlas account**\n",
    "* **Creating your MongoDB Atlas cluster**\n",
    "    * I discuss the details of **signing up** for a MongoDB account, **creating the MongoDB Atlas Cluster**, **configuring** it and getting your **connection string** in my [**Python Fundamentals LiveLessons videos**](https://learning.oreilly.com/videos/python-fundamentals/9780135917411/9780135917411-PFLL_Lesson16_22https://learning.oreilly.com/videos/python-fundamentals/9780135917411) and in [**Python for Programmers, Section 16.4.1**](https://learning.oreilly.com/library/view/Python+for+Programmers,+First+Edition/9780135231364/ch16.xhtml#ch16lev2sec14)"
   ]
  },
  {
   "cell_type": "markdown",
   "metadata": {},
   "source": [
    "<hr style=\"height:2px; border:none; color:#000; background-color:#000;\">"
   ]
  },
  {
   "cell_type": "markdown",
   "metadata": {},
   "source": [
    "### Python Libraries Required for Interacting with MongoDB\n",
    "```\n",
    "conda install -c conda-forge pymongo\n",
    "conda install -c conda-forge dnspython\n",
    "```\n",
    "* **`pymongo` library** &mdash; interact with **MongoDB databases** from Python\n",
    "* **`dnspython` library** &mdash; used as part of connecting to a **MongoDB Atlas Cluster**"
   ]
  },
  {
   "cell_type": "markdown",
   "metadata": {},
   "source": [
    "<hr style=\"height:2px; border:none; color:#000; background-color:#000;\">"
   ]
  },
  {
   "cell_type": "markdown",
   "metadata": {},
   "source": [
    "### keys.py \n",
    "* **`keys.py`** must contain \n",
    "    * your **Twitter credentials** \n",
    "    * your **OpenMapQuest key** \n",
    "    * Your **MongoDB connection string** "
   ]
  },
  {
   "cell_type": "markdown",
   "metadata": {},
   "source": [
    "<hr style=\"height:2px; border:none; color:#000; background-color:#000;\">"
   ]
  },
  {
   "cell_type": "markdown",
   "metadata": {},
   "source": [
    "## 16.4.2 Streaming Tweets into MongoDB\n",
    "### Use Tweepy to Authenticate with Twitter and Get the API Object"
   ]
  },
  {
   "cell_type": "code",
   "execution_count": 2,
   "metadata": {},
   "outputs": [],
   "source": [
    "import tweepy, keys"
   ]
  },
  {
   "cell_type": "code",
   "execution_count": 3,
   "metadata": {},
   "outputs": [],
   "source": [
    "auth = tweepy.OAuthHandler(\n",
    "    keys.consumer_key, keys.consumer_secret)\n",
    "auth.set_access_token(keys.access_token, \n",
    "    keys.access_token_secret)"
   ]
  },
  {
   "cell_type": "code",
   "execution_count": 4,
   "metadata": {},
   "outputs": [],
   "source": [
    "api = tweepy.API(auth, wait_on_rate_limit=True, \n",
    "                 wait_on_rate_limit_notify=True)               "
   ]
  },
  {
   "cell_type": "markdown",
   "metadata": {},
   "source": [
    "<hr style=\"height:2px; border:none; color:#000; background-color:#000;\">"
   ]
  },
  {
   "cell_type": "markdown",
   "metadata": {},
   "source": [
    "### Loading the Senators’ Data (1 of 2)\n",
    "* **`senators.csv`** (provided in notebook's folder) contains each senator's \n",
    "    * two-letter state code\n",
    "    * name\n",
    "    * party \n",
    "    * Twitter handle\n",
    "    * Twitter ID\n",
    "* **Twitter handle and ID** used to track tweets **to**, **from** and **mentioning** each senator \n",
    "* When following users via **numeric Twitter IDs**, must submit IDs as **strings**"
   ]
  },
  {
   "cell_type": "markdown",
   "metadata": {},
   "source": [
    "<hr style=\"height:2px; border:none; color:#000; background-color:#000;\">"
   ]
  },
  {
   "cell_type": "markdown",
   "metadata": {},
   "source": [
    "### Loading the Senators’ Data (2 of 2)"
   ]
  },
  {
   "cell_type": "code",
   "execution_count": 5,
   "metadata": {},
   "outputs": [],
   "source": [
    "import pandas as pd"
   ]
  },
  {
   "cell_type": "code",
   "execution_count": 6,
   "metadata": {},
   "outputs": [],
   "source": [
    "senators_df = pd.read_csv('senators.csv')"
   ]
  },
  {
   "cell_type": "code",
   "execution_count": 7,
   "metadata": {},
   "outputs": [],
   "source": [
    "senators_df['TwitterID'] = senators_df['TwitterID'].astype(str)"
   ]
  },
  {
   "cell_type": "code",
   "execution_count": 8,
   "metadata": {},
   "outputs": [
    {
     "data": {
      "text/html": [
       "<div>\n",
       "<style scoped>\n",
       "    .dataframe tbody tr th:only-of-type {\n",
       "        vertical-align: middle;\n",
       "    }\n",
       "\n",
       "    .dataframe tbody tr th {\n",
       "        vertical-align: top;\n",
       "    }\n",
       "\n",
       "    .dataframe thead th {\n",
       "        text-align: right;\n",
       "    }\n",
       "</style>\n",
       "<table border=\"1\" class=\"dataframe\">\n",
       "  <thead>\n",
       "    <tr style=\"text-align: right;\">\n",
       "      <th></th>\n",
       "      <th>State</th>\n",
       "      <th>Name</th>\n",
       "      <th>Party</th>\n",
       "      <th>TwitterHandle</th>\n",
       "      <th>TwitterID</th>\n",
       "    </tr>\n",
       "  </thead>\n",
       "  <tbody>\n",
       "    <tr>\n",
       "      <th>0</th>\n",
       "      <td>AL</td>\n",
       "      <td>Richard Shelby</td>\n",
       "      <td>R</td>\n",
       "      <td>SenShelby</td>\n",
       "      <td>21111098</td>\n",
       "    </tr>\n",
       "    <tr>\n",
       "      <th>1</th>\n",
       "      <td>AL</td>\n",
       "      <td>Doug Jomes</td>\n",
       "      <td>D</td>\n",
       "      <td>SenDougJones</td>\n",
       "      <td>941080085121175552</td>\n",
       "    </tr>\n",
       "    <tr>\n",
       "      <th>2</th>\n",
       "      <td>AK</td>\n",
       "      <td>Lisa Murkowski</td>\n",
       "      <td>R</td>\n",
       "      <td>lisamurkowski</td>\n",
       "      <td>18061669</td>\n",
       "    </tr>\n",
       "    <tr>\n",
       "      <th>3</th>\n",
       "      <td>AK</td>\n",
       "      <td>Dan Sullivan</td>\n",
       "      <td>R</td>\n",
       "      <td>SenDanSullivan</td>\n",
       "      <td>2891210047</td>\n",
       "    </tr>\n",
       "    <tr>\n",
       "      <th>4</th>\n",
       "      <td>AZ</td>\n",
       "      <td>Martha McSally</td>\n",
       "      <td>R</td>\n",
       "      <td>SenMcSallyAZ</td>\n",
       "      <td>2964949642</td>\n",
       "    </tr>\n",
       "  </tbody>\n",
       "</table>\n",
       "</div>"
      ],
      "text/plain": [
       "  State            Name Party   TwitterHandle           TwitterID\n",
       "0    AL  Richard Shelby     R       SenShelby            21111098\n",
       "1    AL      Doug Jomes     D    SenDougJones  941080085121175552\n",
       "2    AK  Lisa Murkowski     R   lisamurkowski            18061669\n",
       "3    AK    Dan Sullivan     R  SenDanSullivan          2891210047\n",
       "4    AZ  Martha McSally     R    SenMcSallyAZ          2964949642"
      ]
     },
     "execution_count": 8,
     "metadata": {},
     "output_type": "execute_result"
    }
   ],
   "source": [
    "senators_df.head()"
   ]
  },
  {
   "cell_type": "markdown",
   "metadata": {},
   "source": [
    "<hr style=\"height:2px; border:none; color:#000; background-color:#000;\">"
   ]
  },
  {
   "cell_type": "markdown",
   "metadata": {},
   "source": [
    "### Configuring the `pymongo` `MongoClient` "
   ]
  },
  {
   "cell_type": "code",
   "execution_count": 9,
   "metadata": {},
   "outputs": [],
   "source": [
    "from pymongo import MongoClient"
   ]
  },
  {
   "cell_type": "code",
   "execution_count": 10,
   "metadata": {},
   "outputs": [],
   "source": [
    "atlas_client = MongoClient(keys.mongo_connection_string)"
   ]
  },
  {
   "cell_type": "markdown",
   "metadata": {},
   "source": [
    "<hr style=\"height:2px; border:none; color:#000; background-color:#000;\">"
   ]
  },
  {
   "cell_type": "markdown",
   "metadata": {},
   "source": [
    "### Get **`pymongo` `Database`** Object Representing the `senators` Database\n",
    "* **Creates the database** if it does not exist\n",
    "* Will be used to store the collection of **tweet JSON documents**"
   ]
  },
  {
   "cell_type": "code",
   "execution_count": 11,
   "metadata": {},
   "outputs": [],
   "source": [
    "db = atlas_client.senators "
   ]
  },
  {
   "cell_type": "markdown",
   "metadata": {},
   "source": [
    "### Setting up Tweet Stream\n",
    "* **`TweetListener`** uses the **`db` object** representing the **senators database** to store tweets \n",
    "    * Depending on the rate at which people are tweeting about the senators, it may take **minutes to hours** to get **10,000 tweets**"
   ]
  },
  {
   "cell_type": "code",
   "execution_count": 12,
   "metadata": {},
   "outputs": [],
   "source": [
    "from tweetlistener import TweetListener"
   ]
  },
  {
   "cell_type": "code",
   "execution_count": 13,
   "metadata": {},
   "outputs": [],
   "source": [
    "tweet_limit = 10000"
   ]
  },
  {
   "cell_type": "code",
   "execution_count": 14,
   "metadata": {},
   "outputs": [],
   "source": [
    "twitter_stream = tweepy.Stream(api.auth, \n",
    "    TweetListener(api, db, tweet_limit)) "
   ]
  },
  {
   "cell_type": "markdown",
   "metadata": {},
   "source": [
    "<hr style=\"height:2px; border:none; color:#000; background-color:#000;\">"
   ]
  },
  {
   "cell_type": "markdown",
   "metadata": {},
   "source": [
    "### Starting the Live Tweet Stream\n",
    "* Currently, can **track** up to **400 keywords** and **follow** up to **5,000 Twitter IDs** at a time\n",
    "    * **`track`** senators’ Twitter handles as keywords\n",
    "    * **`follow`** their **IDs**  \n",
    "* Together, this will get tweets **from**, **to** and **about** each senator"
   ]
  },
  {
   "cell_type": "code",
   "execution_count": 15,
   "metadata": {},
   "outputs": [
    {
     "name": "stdout",
     "output_type": "stream",
     "text": [
      "    Screen name: cintoja28\n",
      "     Created at: Mon Nov 16 21:43:51 +0000 2020\n",
      "Tweets received: 10000\n"
     ]
    }
   ],
   "source": [
    "twitter_stream.filter(track=senators_df.TwitterHandle.tolist(),\n",
    "    follow=senators_df.TwitterID.tolist())"
   ]
  },
  {
   "cell_type": "markdown",
   "metadata": {},
   "source": [
    "<hr style=\"height:2px; border:none; color:#000; background-color:#000;\">"
   ]
  },
  {
   "cell_type": "markdown",
   "metadata": {},
   "source": [
    "### Class `TweetListener` "
   ]
  },
  {
   "cell_type": "markdown",
   "metadata": {},
   "source": [
    "```python\n",
    "# tweetlistener.py\n",
    "\"\"\"TweetListener downloads tweets and stores them in MongoDB.\"\"\"\n",
    "import json\n",
    "import tweepy\n",
    "from IPython.display import clear_output\n",
    "\n",
    "class TweetListener(tweepy.StreamListener):\n",
    "    \"\"\"Handles incoming Tweet stream.\"\"\"\n",
    "\n",
    "```"
   ]
  },
  {
   "cell_type": "markdown",
   "metadata": {},
   "source": [
    "```python\n",
    "    def __init__(self, api, database, limit=10000):\n",
    "        \"\"\"Create instance variables for tracking number of tweets.\"\"\"\n",
    "        self.db = database\n",
    "        self.tweet_count = 0\n",
    "        self.TWEET_LIMIT = limit  # 10,000 by default\n",
    "        super().__init__(api)  # call superclass's init\n",
    "\n",
    "    def on_connect(self):\n",
    "        \"\"\"Called when your connection attempt is successful, enabling \n",
    "        you to perform appropriate application tasks at that point.\"\"\"\n",
    "        print('Successfully connected to Twitter\\n')\n",
    "\n",
    "```"
   ]
  },
  {
   "cell_type": "markdown",
   "metadata": {},
   "source": [
    "```python\n",
    "    def on_data(self, data):\n",
    "        \"\"\"Called when Twitter pushes a new tweet to you.\"\"\"\n",
    "        self.tweet_count += 1  # track number of tweets processed\n",
    "        json_data = json.loads(data)  # convert string to JSON\n",
    "        self.db.tweets.insert_one(json_data)  # store in tweets collection\n",
    "        clear_output()  # ADDED: show one tweet at a time in Jupyter Notebook\n",
    "        print(f'    Screen name: {json_data[\"user\"][\"name\"]}') \n",
    "        print(f'     Created at: {json_data[\"created_at\"]}')         \n",
    "        print(f'Tweets received: {self.tweet_count}')         \n",
    "\n",
    "        # if TWEET_LIMIT is reached, return False to terminate streaming\n",
    "        return self.tweet_count < self.TWEET_LIMIT\n",
    "    \n",
    "    def on_error(self, status):\n",
    "        print(status)\n",
    "        return True\n",
    "```"
   ]
  },
  {
   "cell_type": "markdown",
   "metadata": {},
   "source": [
    "<hr style=\"height:2px; border:none; color:#000; background-color:#000;\">"
   ]
  },
  {
   "cell_type": "markdown",
   "metadata": {},
   "source": [
    "### Counting Tweets for Each Senator (1 of 2)\n",
    "* MongoDB **text search** requires a **text index** specifying **document field(s) to search** \n",
    "\t* MongoDB [index types](https://docs.mongodb.com/manual/indexes), [text indexes](https://docs.mongodb.com/manual/core/index-text) and [operators](https://docs.mongodb.com/manual/reference/operator)\n",
    "* A **text index** is defined as a **tuple** containing **field name** to search and **index type** (`'text'`)\n",
    "* **Wildcard field name (\\$\\*\\*)** indexes **all** text fields for a **full-text search**"
   ]
  },
  {
   "cell_type": "code",
   "execution_count": 16,
   "metadata": {},
   "outputs": [
    {
     "data": {
      "text/plain": [
       "'$**_text'"
      ]
     },
     "execution_count": 16,
     "metadata": {},
     "output_type": "execute_result"
    }
   ],
   "source": [
    "db.tweets.create_index([('$**', 'text')])"
   ]
  },
  {
   "cell_type": "markdown",
   "metadata": {},
   "source": [
    "<hr style=\"height:2px; border:none; color:#000; background-color:#000;\">"
   ]
  },
  {
   "cell_type": "markdown",
   "metadata": {},
   "source": [
    "### Counting Tweets for Each Senator (2 of 2)\n",
    "* Use **`tweets` `Collection`’s `count_documents` method** and **full-text search** to count the total number of documents in the collection that contain the specified text\n",
    "    * Find every **twitter handle** in `senators_df.TwitterHandle` column\n",
    "    * `{\"$text\": {\"$search\": senator}}` indicates that we’re **using the `text` index** to **`search`** for the value of **`senator`**"
   ]
  },
  {
   "cell_type": "code",
   "execution_count": 17,
   "metadata": {},
   "outputs": [],
   "source": [
    "tweet_counts = []"
   ]
  },
  {
   "cell_type": "code",
   "execution_count": 18,
   "metadata": {},
   "outputs": [],
   "source": [
    "for senator in senators_df.TwitterHandle:\n",
    "    tweet_counts.append(db.tweets.count_documents(\n",
    "        {\"$text\": {\"$search\": senator}}))"
   ]
  },
  {
   "cell_type": "markdown",
   "metadata": {},
   "source": [
    "<hr style=\"height:2px; border:none; color:#000; background-color:#000;\">"
   ]
  },
  {
   "cell_type": "markdown",
   "metadata": {},
   "source": [
    "### Show Tweet Counts for Each Senator \n",
    "* Create copy of **`DataFrame` `senators_df`** adding a new column of **`tweet_counts`** \n",
    "* Display the **top-10 senators by tweet count**"
   ]
  },
  {
   "cell_type": "code",
   "execution_count": 19,
   "metadata": {},
   "outputs": [],
   "source": [
    "tweet_counts_df = senators_df.assign(Tweets=tweet_counts)  "
   ]
  },
  {
   "cell_type": "code",
   "execution_count": 20,
   "metadata": {},
   "outputs": [
    {
     "data": {
      "text/html": [
       "<div>\n",
       "<style scoped>\n",
       "    .dataframe tbody tr th:only-of-type {\n",
       "        vertical-align: middle;\n",
       "    }\n",
       "\n",
       "    .dataframe tbody tr th {\n",
       "        vertical-align: top;\n",
       "    }\n",
       "\n",
       "    .dataframe thead th {\n",
       "        text-align: right;\n",
       "    }\n",
       "</style>\n",
       "<table border=\"1\" class=\"dataframe\">\n",
       "  <thead>\n",
       "    <tr style=\"text-align: right;\">\n",
       "      <th></th>\n",
       "      <th>State</th>\n",
       "      <th>Name</th>\n",
       "      <th>Party</th>\n",
       "      <th>TwitterHandle</th>\n",
       "      <th>TwitterID</th>\n",
       "      <th>Tweets</th>\n",
       "    </tr>\n",
       "  </thead>\n",
       "  <tbody>\n",
       "    <tr>\n",
       "      <th>41</th>\n",
       "      <td>MA</td>\n",
       "      <td>Elizabeth Warren</td>\n",
       "      <td>D</td>\n",
       "      <td>SenWarren</td>\n",
       "      <td>970207298</td>\n",
       "      <td>2095</td>\n",
       "    </tr>\n",
       "    <tr>\n",
       "      <th>32</th>\n",
       "      <td>KY</td>\n",
       "      <td>Mitch McConnell</td>\n",
       "      <td>R</td>\n",
       "      <td>SenateMajLdr</td>\n",
       "      <td>1249982359</td>\n",
       "      <td>1814</td>\n",
       "    </tr>\n",
       "    <tr>\n",
       "      <th>44</th>\n",
       "      <td>MN</td>\n",
       "      <td>Amy Klobuchar</td>\n",
       "      <td>D</td>\n",
       "      <td>amyklobuchar</td>\n",
       "      <td>33537967</td>\n",
       "      <td>1066</td>\n",
       "    </tr>\n",
       "    <tr>\n",
       "      <th>9</th>\n",
       "      <td>CA</td>\n",
       "      <td>Kamala Harris</td>\n",
       "      <td>D</td>\n",
       "      <td>SenKamalaHarris</td>\n",
       "      <td>803694179079458816</td>\n",
       "      <td>838</td>\n",
       "    </tr>\n",
       "    <tr>\n",
       "      <th>17</th>\n",
       "      <td>FL</td>\n",
       "      <td>Marco Rubio</td>\n",
       "      <td>R</td>\n",
       "      <td>marcorubio</td>\n",
       "      <td>15745368</td>\n",
       "      <td>579</td>\n",
       "    </tr>\n",
       "    <tr>\n",
       "      <th>71</th>\n",
       "      <td>OK</td>\n",
       "      <td>James Lankford</td>\n",
       "      <td>R</td>\n",
       "      <td>SenatorLankford</td>\n",
       "      <td>225921757</td>\n",
       "      <td>567</td>\n",
       "    </tr>\n",
       "    <tr>\n",
       "      <th>62</th>\n",
       "      <td>NY</td>\n",
       "      <td>Chuck Schumer</td>\n",
       "      <td>D</td>\n",
       "      <td>SenSchumer</td>\n",
       "      <td>17494010</td>\n",
       "      <td>490</td>\n",
       "    </tr>\n",
       "    <tr>\n",
       "      <th>75</th>\n",
       "      <td>PA</td>\n",
       "      <td>Pat Toomey</td>\n",
       "      <td>R</td>\n",
       "      <td>SenToomey</td>\n",
       "      <td>221162525</td>\n",
       "      <td>306</td>\n",
       "    </tr>\n",
       "    <tr>\n",
       "      <th>18</th>\n",
       "      <td>GA</td>\n",
       "      <td>David Perdue</td>\n",
       "      <td>R</td>\n",
       "      <td>SenDavidPerdue</td>\n",
       "      <td>2863210809</td>\n",
       "      <td>240</td>\n",
       "    </tr>\n",
       "    <tr>\n",
       "      <th>85</th>\n",
       "      <td>TX</td>\n",
       "      <td>Ted Cruz</td>\n",
       "      <td>R</td>\n",
       "      <td>SenTedCruz</td>\n",
       "      <td>1074480192</td>\n",
       "      <td>237</td>\n",
       "    </tr>\n",
       "  </tbody>\n",
       "</table>\n",
       "</div>"
      ],
      "text/plain": [
       "   State              Name Party    TwitterHandle           TwitterID  Tweets\n",
       "41    MA  Elizabeth Warren     D        SenWarren           970207298    2095\n",
       "32    KY   Mitch McConnell     R     SenateMajLdr          1249982359    1814\n",
       "44    MN     Amy Klobuchar     D     amyklobuchar            33537967    1066\n",
       "9     CA     Kamala Harris     D  SenKamalaHarris  803694179079458816     838\n",
       "17    FL       Marco Rubio     R       marcorubio            15745368     579\n",
       "71    OK    James Lankford     R  SenatorLankford           225921757     567\n",
       "62    NY     Chuck Schumer     D       SenSchumer            17494010     490\n",
       "75    PA        Pat Toomey     R        SenToomey           221162525     306\n",
       "18    GA      David Perdue     R   SenDavidPerdue          2863210809     240\n",
       "85    TX          Ted Cruz     R       SenTedCruz          1074480192     237"
      ]
     },
     "execution_count": 20,
     "metadata": {},
     "output_type": "execute_result"
    }
   ],
   "source": [
    "tweet_counts_df.sort_values(by='Tweets', ascending=False).head(10)"
   ]
  },
  {
   "cell_type": "markdown",
   "metadata": {},
   "source": [
    "<hr style=\"height:2px; border:none; color:#000; background-color:#000;\">"
   ]
  },
  {
   "cell_type": "markdown",
   "metadata": {},
   "source": [
    "### Get the State Locations for Plotting Markers (1 of 3)\n",
    "* Get each **state’s latitude and longitude** coordinates for **plotting on a map**\n",
    "* **`state_codes.py`** contains a dictionary that maps **two-letter state codes** to **full state names**\n",
    "    * Used with **`geopy`** to look up the location of each state"
   ]
  },
  {
   "cell_type": "code",
   "execution_count": 21,
   "metadata": {},
   "outputs": [],
   "source": [
    "from geopy import OpenMapQuest"
   ]
  },
  {
   "cell_type": "code",
   "execution_count": 22,
   "metadata": {},
   "outputs": [],
   "source": [
    "import time"
   ]
  },
  {
   "cell_type": "code",
   "execution_count": 23,
   "metadata": {},
   "outputs": [],
   "source": [
    "from state_codes import state_codes"
   ]
  },
  {
   "cell_type": "markdown",
   "metadata": {},
   "source": [
    "* Get the **`geocoder` object** to **translate location names** into **`Location` objects**"
   ]
  },
  {
   "cell_type": "code",
   "execution_count": 24,
   "metadata": {},
   "outputs": [],
   "source": [
    "geo = OpenMapQuest(api_key=keys.mapquest_key) "
   ]
  },
  {
   "cell_type": "markdown",
   "metadata": {},
   "source": [
    "<hr style=\"height:2px; border:none; color:#000; background-\n",
    "color:#000;\">"
   ]
  },
  {
   "cell_type": "markdown",
   "metadata": {},
   "source": [
    "### Get the State Locations for Plotting Markers (2 of 3)\n",
    "* Get and sort the unique state names"
   ]
  },
  {
   "cell_type": "code",
   "execution_count": 25,
   "metadata": {},
   "outputs": [],
   "source": [
    "states = tweet_counts_df.State.unique()  # get unique state names"
   ]
  },
  {
   "cell_type": "code",
   "execution_count": 26,
   "metadata": {},
   "outputs": [],
   "source": [
    "states.sort() "
   ]
  },
  {
   "cell_type": "markdown",
   "metadata": {},
   "source": [
    "<hr style=\"height:2px; border:none; color:#000; background-color:#000;\">"
   ]
  },
  {
   "cell_type": "markdown",
   "metadata": {},
   "source": [
    "### Get the State Locations for Plotting Markers (3 of 3)\n",
    "* Look up **each state’s location**\n",
    "* Call `geocode` with state name followed by `', USA'` \n",
    "    * Ensures that we get United States locations"
   ]
  },
  {
   "cell_type": "code",
   "execution_count": 27,
   "metadata": {},
   "outputs": [],
   "source": [
    "locations = []"
   ]
  },
  {
   "cell_type": "code",
   "execution_count": 28,
   "metadata": {},
   "outputs": [
    {
     "name": "stdout",
     "output_type": "stream",
     "text": [
      "Wyoming, United States of America\n"
     ]
    }
   ],
   "source": [
    "from IPython.display import clear_output\n",
    "\n",
    "for state in states:\n",
    "    processed = False\n",
    "    delay = .1 \n",
    "    while not processed:\n",
    "        try: \n",
    "            locations.append(geo.geocode(state_codes[state] + ', USA'))\n",
    "            clear_output()  # clear cell's current output before showing next one\n",
    "            print(locations[-1])  \n",
    "            processed = True\n",
    "        except:  # timed out, so wait before trying again\n",
    "            print('OpenMapQuest service timed out. Waiting.')\n",
    "            time.sleep(delay)\n",
    "            delay += .1"
   ]
  },
  {
   "cell_type": "markdown",
   "metadata": {},
   "source": [
    "<hr style=\"height:2px; border:none; color:#000; background-color:#000;\">"
   ]
  },
  {
   "cell_type": "markdown",
   "metadata": {},
   "source": [
    "### Grouping the Tweet Counts by State \n",
    "* **Tweet total** for a states' two senators is used to **color the map**\n",
    "    * **Darker colors** represent **higher tweet counts**\n",
    "* **`DataFrame` method `groupby`** to group the senators by state \n",
    "    * **`as_index=False`**&mdash;state codes should be a column in returned **`GroupBy`** object, rather than indices for the object's rows\n",
    "* **`GroupBy`** object's **`sum`** method totals the numeric data by state"
   ]
  },
  {
   "cell_type": "code",
   "execution_count": 29,
   "metadata": {},
   "outputs": [],
   "source": [
    "tweets_counts_by_state = tweet_counts_df.groupby(\n",
    "    'State', as_index=False).sum()"
   ]
  },
  {
   "cell_type": "code",
   "execution_count": 30,
   "metadata": {},
   "outputs": [
    {
     "data": {
      "text/html": [
       "<div>\n",
       "<style scoped>\n",
       "    .dataframe tbody tr th:only-of-type {\n",
       "        vertical-align: middle;\n",
       "    }\n",
       "\n",
       "    .dataframe tbody tr th {\n",
       "        vertical-align: top;\n",
       "    }\n",
       "\n",
       "    .dataframe thead th {\n",
       "        text-align: right;\n",
       "    }\n",
       "</style>\n",
       "<table border=\"1\" class=\"dataframe\">\n",
       "  <thead>\n",
       "    <tr style=\"text-align: right;\">\n",
       "      <th></th>\n",
       "      <th>State</th>\n",
       "      <th>Tweets</th>\n",
       "    </tr>\n",
       "  </thead>\n",
       "  <tbody>\n",
       "    <tr>\n",
       "      <th>0</th>\n",
       "      <td>AK</td>\n",
       "      <td>53</td>\n",
       "    </tr>\n",
       "    <tr>\n",
       "      <th>1</th>\n",
       "      <td>AL</td>\n",
       "      <td>27</td>\n",
       "    </tr>\n",
       "    <tr>\n",
       "      <th>2</th>\n",
       "      <td>AR</td>\n",
       "      <td>127</td>\n",
       "    </tr>\n",
       "    <tr>\n",
       "      <th>3</th>\n",
       "      <td>AZ</td>\n",
       "      <td>25</td>\n",
       "    </tr>\n",
       "    <tr>\n",
       "      <th>4</th>\n",
       "      <td>CA</td>\n",
       "      <td>922</td>\n",
       "    </tr>\n",
       "  </tbody>\n",
       "</table>\n",
       "</div>"
      ],
      "text/plain": [
       "  State  Tweets\n",
       "0    AK      53\n",
       "1    AL      27\n",
       "2    AR     127\n",
       "3    AZ      25\n",
       "4    CA     922"
      ]
     },
     "execution_count": 30,
     "metadata": {},
     "output_type": "execute_result"
    }
   ],
   "source": [
    "tweets_counts_by_state.head()"
   ]
  },
  {
   "cell_type": "markdown",
   "metadata": {},
   "source": [
    "<hr style=\"height:2px; border:none; color:#000; background-color:#000;\">"
   ]
  },
  {
   "cell_type": "markdown",
   "metadata": {},
   "source": [
    "### Creating the Map "
   ]
  },
  {
   "cell_type": "code",
   "execution_count": 31,
   "metadata": {},
   "outputs": [],
   "source": [
    "import folium"
   ]
  },
  {
   "cell_type": "code",
   "execution_count": 32,
   "metadata": {},
   "outputs": [],
   "source": [
    "usmap = folium.Map(location=[39.8283, -98.5795], \n",
    "                   zoom_start=4, detect_retina=True,\n",
    "                   tiles='Stamen Toner')"
   ]
  },
  {
   "cell_type": "markdown",
   "metadata": {},
   "source": [
    "<hr style=\"height:2px; border:none; color:#000; background-color:#000;\">"
   ]
  },
  {
   "cell_type": "markdown",
   "metadata": {},
   "source": [
    "### Creating a Choropleth to Color the Map\n",
    "* A **choropleth** shades areas in a map using magnitudes of numerical values to determine color\n",
    "* For a **detailed description of the arguments** below, see \n",
    "    * [**Python Fundamentals LiveLessons videos**](https://learning.oreilly.com/videos/python-fundamentals/9780135917411/9780135917411-PFLL_Lesson16_23) \n",
    "    * [**Python for Programmers, Section 16.4.2** (under the heading \"Creating a Choropleth to Color the Map\"](https://learning.oreilly.com/library/view/python-for-programmers/9780135231364/ch16.xhtml#ch16lev2sec15)"
   ]
  },
  {
   "cell_type": "code",
   "execution_count": 33,
   "metadata": {},
   "outputs": [],
   "source": [
    "choropleth = folium.Choropleth(\n",
    "    geo_data='us-states.json',\n",
    "    name='choropleth',\n",
    "    data=tweets_counts_by_state,\n",
    "    columns=['State', 'Tweets'],\n",
    "    key_on='feature.id',\n",
    "    fill_color='YlOrRd',\n",
    "    fill_opacity=0.7,\n",
    "    line_opacity=0.2,\n",
    "    legend_name='Tweets by State'\n",
    ").add_to(usmap)\n",
    "\n",
    "layer = folium.LayerControl().add_to(usmap)"
   ]
  },
  {
   "cell_type": "markdown",
   "metadata": {},
   "source": [
    "<hr style=\"height:2px; border:none; color:#000; background-color:#000;\">"
   ]
  },
  {
   "cell_type": "markdown",
   "metadata": {},
   "source": [
    "### Creating the Map Markers for Each State (1 of 1)\n",
    "* Sort senators in **descending order** by **tweet count**\n",
    "* **`groupby`** maintains **original row order** in each group\n",
    "* **`index`** &mdash; used to look up each state’s location in **`locations` list**\n",
    "* **name** &mdash; two-letter **state code**\n",
    "* **`group`** &mdash; collection of a **state's two senators**"
   ]
  },
  {
   "cell_type": "code",
   "execution_count": 34,
   "metadata": {},
   "outputs": [],
   "source": [
    "sorted_df = tweet_counts_df.sort_values(by='Tweets', ascending=False)\n",
    "\n",
    "for index, (name, group) in enumerate(sorted_df.groupby('State')):\n",
    "    strings = [state_codes[name]]  # used to assemble popup text\n",
    "\n",
    "    for s in group.itertuples():\n",
    "        strings.append(f'{s.Name} ({s.Party}); Tweets: {s.Tweets}')\n",
    "        \n",
    "    text = '<br>'.join(strings)  \n",
    "    popup = folium.Popup(text, max_width=200)\n",
    "    marker = folium.Marker(\n",
    "        (locations[index].latitude, locations[index].longitude), \n",
    "        popup=popup)\n",
    "    marker.add_to(usmap) "
   ]
  },
  {
   "cell_type": "markdown",
   "metadata": {},
   "source": [
    "<hr style=\"height:2px; border:none; color:#000; background-color:#000;\">"
   ]
  },
  {
   "cell_type": "markdown",
   "metadata": {},
   "source": [
    "### Saving and Displaying the Map "
   ]
  },
  {
   "cell_type": "code",
   "execution_count": 35,
   "metadata": {},
   "outputs": [],
   "source": [
    "usmap.save('SenatorsTweets.html')"
   ]
  },
  {
   "cell_type": "code",
   "execution_count": 36,
   "metadata": {},
   "outputs": [
    {
     "data": {
      "text/html": [
       "<div style=\"width:100%;\"><div style=\"position:relative;width:100%;height:0;padding-bottom:60%;\"><span style=\"color:#565656\">Make this Notebook Trusted to load map: File -> Trust Notebook</span><iframe src=\"about:blank\" style=\"position:absolute;width:100%;height:100%;left:0;top:0;border:none !important;\" data-html=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 onload=\"this.contentDocument.open();this.contentDocument.write(atob(this.getAttribute('data-html')));this.contentDocument.close();\" allowfullscreen webkitallowfullscreen mozallowfullscreen></iframe></div></div>"
      ],
      "text/plain": [
       "<folium.folium.Map at 0x7ffea86eedc0>"
      ]
     },
     "execution_count": 36,
     "metadata": {},
     "output_type": "execute_result"
    }
   ],
   "source": [
    "usmap \n",
    "#from IPython.display import IFrame\n",
    "#IFrame(src=\"./SenatorsTweets.html\", width=800, height=450)"
   ]
  },
  {
   "cell_type": "markdown",
   "metadata": {},
   "source": [
    "<hr style=\"height:2px; border:none; color:#000; background-color:#000;\">"
   ]
  },
  {
   "cell_type": "markdown",
   "metadata": {},
   "source": [
    "# 16.5 Hadoop\n",
    "\\[We'll cover this example if we have time. The complete presentation can be viewed in my **[Python Fundamentals](https://learning.oreilly.com/videos/python-fundamentals/9780135917411/9780135917411-PFLL_Lesson16_24) (10 videos)**\\]\n",
    "&nbsp;  \n",
    "&nbsp;  \n",
    "\n",
    "* **Apache Hadoop** and **Apache Spark** deal with **big-data storage and processing challenges** via \n",
    "    * huge **clusters** of computers \n",
    "    * **distributed data storage** \n",
    "    * **massively parallel processing**\n",
    "    * Hadoop **MapReduce** programming\n",
    "    * Spark **in-memory processing** techniques\n",
    "* **Hadoop** also serves as the **foundation** for many recent advancements in **big-data processing** and an entire **ecosystem of software tools**\n",
    "\n",
    "<!--\n",
    "\n",
    "* For a list of **Hadoop ecosystem components**, see my [**Python Fundamentals LiveLessons videos**](https://learning.oreilly.com/videos/python-fundamentals/9780135917411/) (big data lesson coming soon) or [**Python for Programmers, Section 16.5.1**](https://learning.oreilly.com/library/view/python-for-programmers/9780135231364/ch16.xhtml#ch16lev2sec16)\n",
    "\n",
    "-->"
   ]
  },
  {
   "cell_type": "markdown",
   "metadata": {},
   "source": [
    "<hr style=\"height:2px; border:none; color:#000; background-color:#000;\">"
   ]
  },
  {
   "cell_type": "markdown",
   "metadata": {},
   "source": [
    "## 16.5.1 Hadoop Overview (1 of 2)\n",
    "* Early on, Google knew they needed to **return search results quickly**\n",
    "* The only practical way &mdash; **store and index the entire web** \n",
    "* Late 90s computers couldn’t store and analyze such a **large volume of data economically and fast enough**\n",
    "* Google developed a **clustering** system with vast numbers of computers (**nodes**)\n",
    "    * **greater chance of hardware failures** so they built in high levels of **redundancy** \n",
    "    * Data distributed across all these **commodity computers**\n",
    "* For a **search request**, all computers searched their portion of the web **in parallel**\n",
    "    * Then results were **gathered and returned**"
   ]
  },
  {
   "cell_type": "markdown",
   "metadata": {},
   "source": [
    "<hr style=\"height:2px; border:none; color:#000; background-color:#000;\">"
   ]
  },
  {
   "cell_type": "markdown",
   "metadata": {},
   "source": [
    "## 16.5.1 Hadoop Overview (2 of 2)\n",
    "* Google developed **clustering hardware and software** and **distributed storage**\n",
    "* **Published its designs**\n",
    "* Programmers at Yahoo!, working from Google’s [**“Google File System” paper**](http://static.googleusercontent.com/media/research.google.com/en//archive/gfs-sosp2003.pdf), built their own system\n",
    "* They **open-sourced** their work and **Apache.org** implemented **Hadoop**\n",
    "* Named for an **elephant** stuffed animal that belonged to a child of one of Hadoop’s creators\n",
    "    * Inspiration for our textbook cover\n",
    "* Two **additional Google papers** contributed to evolution of Hadoop\n",
    "\t* [**“MapReduce: Simplified Data Processing on Large Clusters”**](http://static.googleusercontent.com/media/research.google.com/en//archive/mapreduce-osdi04.pdf) \n",
    "\t* [**“Bigtable: A Distributed Storage System for Structured Data”**](http://static.googleusercontent.com/media/research.google.com/en//archive/bigtable-osdi06.pdf) \n",
    "\t\t* Basis for Apache HBase (a NoSQL key–value and column-based database)."
   ]
  },
  {
   "cell_type": "markdown",
   "metadata": {},
   "source": [
    "<hr style=\"height:2px; border:none; color:#000; background-color:#000;\">"
   ]
  },
  {
   "cell_type": "markdown",
   "metadata": {},
   "source": [
    "### HDFS, `MapReduce` and YARN (1 of 2)\n",
    "* Hadoop’s key components are: \n",
    "\t* **HDFS** (Hadoop Distributed File System) for **storing massive amounts of data** throughout a **cluster** \n",
    "\t* **MapReduce** for implementing the **tasks that process the data**\n",
    "        * Like **filter/map/reduce** in functional-style programming, but **massively parallel**\n",
    "* **MapReduce** performs two steps—**mapping** and **reduction**\n",
    "    * **Mapping** (and **filtering**) &mdash; processes original data across **entire cluster** and **maps** it into tuples of **key–value pairs**\n",
    "    * **Reduction** &mdash; **combines** those tuples to **produce the results**"
   ]
  },
  {
   "cell_type": "markdown",
   "metadata": {},
   "source": [
    "<hr style=\"height:2px; border:none; color:#000; background-color:#000;\">"
   ]
  },
  {
   "cell_type": "markdown",
   "metadata": {},
   "source": [
    "### HDFS, `MapReduce` and YARN (2 of 2)\n",
    "* Hadoop divides data into **batches** and **distributes** across **cluster's nodes**\n",
    "* Also **distributes MapReduce code** to **execute in parallel on every node**\n",
    "    * Each **node** processes the **batch of data** stored **on that node**\n",
    "* **Reduction combines results** from **all nodes** to produce **final result**\n",
    "* **YARN** (“yet another resource negotiator”) **manages all resources** in the **cluster** and **schedules tasks** for execution"
   ]
  },
  {
   "cell_type": "markdown",
   "metadata": {},
   "source": [
    "<hr style=\"height:2px; border:none; color:#000; background-color:#000;\">"
   ]
  },
  {
   "cell_type": "markdown",
   "metadata": {},
   "source": [
    "### Hadoop Ecosystem \n",
    "* **Hadoop began** with **HDFS** and **MapReduce**, followed closely by **YARN**\n",
    "* Now it's a **large ecosystem**, including **Hadoop 3** (3.2 released in January), **Spark** and many other Apache projects[\\[1\\]](https://hortonworks.com/ecosystems/),[\\[2\\]](https://readwrite.com/2018/06/26/complete-guide-of-hadoop-ecosystem-components/),[\\[3\\]](https://www.janbasktraining.com/blog/introduction-architecture-components-hadoop-ecosystem/)\n",
    "* [See our table of Hadoop Ecosystem Components](https://learning.oreilly.com/library/view/Python+for+Programmers,+First+Edition/9780135231364/ch16.xhtml#ch16lev2sec16)"
   ]
  },
  {
   "cell_type": "markdown",
   "metadata": {},
   "source": [
    "<hr style=\"height:2px; border:none; color:#000; background-color:#000;\">"
   ]
  },
  {
   "cell_type": "markdown",
   "metadata": {},
   "source": [
    "## 16.5.2 Summarizing Word Lengths in _Romeo and Juliet_ via MapReduce\n",
    "* To execute this example\n",
    "    * We created a **cloud-based, multi-node cluster of computers** using **Microsoft Azure HDInsight**, which provides **Hadoop as a service**\n",
    "    * Ran our **Hadoop MapReduce** code on that **cluster**\n",
    "* **MapReduce task** \n",
    "    * Determines the **length of each word in `RomeoAndJuliet.txt`** (from the NLP presentation)\n",
    "    * Summarizes **number of words of each length** "
   ]
  },
  {
   "cell_type": "markdown",
   "metadata": {},
   "source": [
    "<hr style=\"height:2px; border:none; color:#000; background-color:#000;\">"
   ]
  },
  {
   "cell_type": "markdown",
   "metadata": {},
   "source": [
    "## 16.5.3 Creating an Apache Hadoop Cluster in Microsoft Azure HDInsight (1 of 2)\n",
    "* **Multi-node cloud-based clusters** typically are **paid** services\n",
    "* We used [**Microsoft Azure’s HDInsight service**](https://azure.microsoft.com/en-us/free) (for Hadoop and Spark) and **new account credit** to create **cloud-based clusters of computers** in which to test our examples\n",
    "    * The **new account credit** was more than enough to test our Hadoop and Spark examples\n",
    "* HDInsight service **requires a credit card** for **identity verification**\n",
    "    * When your **new account credit runs out** or **30 days pass**, cannot use paid services unless you authorize Microsoft to **charge your card**\n",
    "        * **Prevents accidental large bills** for people who are just experimenting"
   ]
  },
  {
   "cell_type": "markdown",
   "metadata": {},
   "source": [
    "<hr style=\"height:2px; border:none; color:#000; background-color:#000;\">"
   ]
  },
  {
   "cell_type": "markdown",
   "metadata": {},
   "source": [
    "## 16.5.3 Creating an Apache Hadoop Cluster in Microsoft Azure HDInsight (2 of 2)\n",
    "* Details on configuring a **low-cost cluster** to try **Hadoop** \n",
    "    * [**Python Fundamentals LiveLessons videos**](https://learning.oreilly.com/videos/python-fundamentals/9780135917411/9780135917411-PFLL_Lesson16_27_pt1) (two videos starting with this one) \n",
    "    * [**Python for Programmers, Section 16.5.3**](https://learning.oreilly.com/library/view/Python+for+Programmers,+First+Edition/9780135231364/ch16.xhtml#ch16lev2sec18) \n",
    "    * Also [see Microsoft’s **recommended cluster configurations**](https://docs.microsoft.com/en-us/azure/hdinsight/hdinsight-component-versioning#default-node-configuration-and-virtual-machine-sizes-for-clusters)\n",
    "* **Caution: Once you allocate a cluster, it incurs costs whether you’re using it or not. So, when you complete this case study, be sure to delete your cluster(s) and other resources, so you don’t incur additional charges.** "
   ]
  },
  {
   "cell_type": "markdown",
   "metadata": {},
   "source": [
    "<hr style=\"height:2px; border:none; color:#000; background-color:#000;\">"
   ]
  },
  {
   "cell_type": "markdown",
   "metadata": {},
   "source": [
    "## 16.5.4 Hadoop Streaming\n",
    "* Hadoop is **Java-based**\n",
    "* Languages like **Python** that are **not natively supported** must use **Hadoop streaming** \n",
    "* **Python MapReduce scripts** communicate with Hadoop via **redirected standard I/O streams**\n",
    "\t* Hadoop redirects **input** to **mapper** script, which reads input from **standard input stream**\n",
    "\t* **Mapper** writes results to **standard output stream**\n",
    "\t* Hadoop redirects **mapper’s output** as **input** to **reducer** script, which reads from the **standard input stream**\n",
    "\t* **Reducer** writes results to **standard output stream** \n",
    "\t* Hadoop writes **reducer’s output** to **HDFS**   "
   ]
  },
  {
   "cell_type": "markdown",
   "metadata": {},
   "source": [
    "<hr style=\"height:2px; border:none; color:#000; background-color:#000;\">"
   ]
  },
  {
   "cell_type": "markdown",
   "metadata": {},
   "source": [
    "## 16.5.5 Implementing the Mapper (1 of 2)\n",
    "* **Mapper** takes **lines of text** as input and **maps** them to **key–value pairs**, each containing a **word length** and **`1`**\n",
    "* **Reducer** will total these **key–value pairs** by key\n",
    "* **Hadoop streaming** expects **mapper’s output** and **reducer’s input/output** to have the form \n",
    "> **_key_`\\t`_value_**\n",
    "* In **`length_mapper.py`**, `#!` tells Hadoop to use Python 3\n",
    "    * Must be first line in the file\n",
    "    * **HDInsight** currently includes **Python 2.7.12** and **Python 3.5.2** \n",
    "    * **Cannot use f-strings** which are **Python 3.6+**"
   ]
  },
  {
   "cell_type": "markdown",
   "metadata": {},
   "source": [
    "<hr style=\"height:2px; border:none; color:#000; background-color:#000;\">"
   ]
  },
  {
   "cell_type": "markdown",
   "metadata": {},
   "source": [
    "## 16.5.5 Implementing the Mapper (2 of 2)\n",
    "\n",
    "```python\n",
    "#!/usr/bin/env python3\n",
    "# length_mapper.py\n",
    "\"\"\"Maps lines of text to key-value pairs of word lengths and 1.\"\"\"\n",
    "import sys\n",
    "\n",
    "def tokenize_input():  # generator function\n",
    "    \"\"\"Split each line of standard input into a list of strings.\"\"\"\n",
    "    for line in sys.stdin:\n",
    "        yield line.split()  \n",
    "\n",
    "# read each line in the the standard input and for every word \n",
    "# produce a key-value pair containing the word, a tab and 1\n",
    "for line in tokenize_input():\n",
    "    for word in line:\n",
    "        print(str(len(word)) + '\\t1')\n",
    "\n",
    "```"
   ]
  },
  {
   "cell_type": "markdown",
   "metadata": {},
   "source": [
    "<hr style=\"height:2px; border:none; color:#000; background-color:#000;\">"
   ]
  },
  {
   "cell_type": "markdown",
   "metadata": {},
   "source": [
    "## 16.5.6 Implementing the Reducer \n",
    "* In **`length_reducer.py`**, function **`tokenize_input`** is a **generator function** that reads and splits the **key–value pairs** produced by the mapper\n",
    "* **MapReduce streaming** supplies the **standard input**\n",
    "* **`groupby` function** (**`itertools` module**) groups inputs by their **keys** (the **word lengths**) \n",
    "* **Total** all the **counts** for a given **key**\n",
    "* Output a new **key–value pair** consisting of the **word length** and its **total**\n",
    "* **MapReduce** takes the **final word-count outputs** and **writes** them to a file in **HDFS**"
   ]
  },
  {
   "cell_type": "markdown",
   "metadata": {},
   "source": [
    "<hr style=\"height:2px; border:none; color:#000; background-color:#000;\">"
   ]
  },
  {
   "cell_type": "markdown",
   "metadata": {},
   "source": [
    "```python\n",
    "#!/usr/bin/env python3\n",
    "# length_reducer.py\n",
    "\"\"\"Counts the number of words with each length.\"\"\"\n",
    "import sys\n",
    "from itertools import groupby\n",
    "from operator import itemgetter\n",
    "\n",
    "def tokenize_input():\n",
    "    \"\"\"Split each line of standard input into a key and a value.\"\"\"\n",
    "    for line in sys.stdin:\n",
    "        yield line.strip().split('\\t')\n",
    "\n",
    "# produce key-value pairs of word lengths and counts separated by tabs\n",
    "for word_length, group in groupby(tokenize_input(), itemgetter(0)):\n",
    "    try:\n",
    "        total = sum(int(count) for word_length, count in group)\n",
    "        print(word_length + '\\t' + str(total))\n",
    "    except ValueError:\n",
    "        pass  # ignore word if its count was not an integer\n",
    "\n",
    "```"
   ]
  },
  {
   "cell_type": "markdown",
   "metadata": {},
   "source": [
    "<hr style=\"height:2px; border:none; color:#000; background-color:#000;\">"
   ]
  },
  {
   "cell_type": "markdown",
   "metadata": {},
   "source": [
    "## 16.5.7 Preparing to Run the MapReduce Example\n",
    "* Must upload scripts and `RomeoAndJuliet.txt` into **HDInsight cluster's file system**\n",
    "* For detailed instructions on doing this, see \n",
    "    * [**Python Fundamentals LiveLessons videos**](https://learning.oreilly.com/videos/python-fundamentals/9780135917411/9780135917411-PFLL_Lesson16_31) \n",
    "    * [**Python for Programmers, Section 16.5.7**](https://learning.oreilly.com/library/view/python-for-programmers/9780135231364/ch16.xhtml#ch16lev2sec22)"
   ]
  },
  {
   "cell_type": "markdown",
   "metadata": {},
   "source": [
    "<hr style=\"height:2px; border:none; color:#000; background-color:#000;\">"
   ]
  },
  {
   "cell_type": "markdown",
   "metadata": {},
   "source": [
    "## 16.5.8 Running the MapReduce Job (1 of 4)\n",
    "* Once files are in the cluster, **run MapReduce job** for **`RomeoAndJuliet.txt`** on your **cluster** by executing the following command in the cluster\n",
    "    * You can copy/paste the command from `yarn.txt` located with this example\n",
    "    * We reformatted the command here for readability: \n",
    "\n",
    "```\n",
    "yarn jar /usr/hdp/current/hadoop-mapreduce-client/hadoop-streaming.jar \n",
    "   -D mapred.output.key.comparator.class=\n",
    "      org.apache.hadoop.mapred.lib.KeyFieldBasedComparator    \n",
    "   -D mapred.text.key.comparator.options=-n   \n",
    "   -files length_mapper.py,length_reducer.py    \n",
    "   -mapper length_mapper.py \n",
    "   -reducer length_reducer.py    \n",
    "   -input /example/data/RomeoAndJuliet.txt    \n",
    "   -output /example/wordlengthsoutput    \n",
    "```"
   ]
  },
  {
   "cell_type": "markdown",
   "metadata": {},
   "source": [
    "<hr style=\"height:2px; border:none; color:#000; background-color:#000;\">"
   ]
  },
  {
   "cell_type": "markdown",
   "metadata": {},
   "source": [
    "## 16.5.8 Running the MapReduce Job (2 of 4)\n",
    "* The **`yarn` command** invokes **Hadoop’s YARN** (“yet another resource negotiator”) tool to manage and coordinate access to the Hadoop resources the **MapReduce task** uses\n",
    "* **`hadoop-streaming.jar`** contains the Java-based **Hadoop streaming utility** that allows you to use Python to implement the **mapper** and **reducer**\n",
    "* The two **`-D` options** set Hadoop properties that enable it to \n",
    "    * **sort the final key–value pairs by key** (**`KeyFieldBasedComparator`**) \n",
    "    * in **descending order (`-`) numerically (`n`)** rather than alphabetically"
   ]
  },
  {
   "cell_type": "markdown",
   "metadata": {},
   "source": [
    "<hr style=\"height:2px; border:none; color:#000; background-color:#000;\">"
   ]
  },
  {
   "cell_type": "markdown",
   "metadata": {},
   "source": [
    "## 16.5.8 Running the MapReduce Job (3 of 4)\n",
    "* Other command-line arguments:\n",
    "\t* **`-files`**—Comma-separated list of scripts that Hadoop copies to every node in the cluster so they can **execute locally on each node**\n",
    "\t* **`-mapper`**—mapper’s script file\n",
    "\t* **`-reducer`**—reducer’s script file\n",
    "\t* **`-input`**—**File** or **directory of files** to supply as **mapper input**\n",
    "\t* **`-output`**—**HDFS directory** where final results will be stored\n",
    "        * **Error** if this folder **already exists**"
   ]
  },
  {
   "cell_type": "markdown",
   "metadata": {},
   "source": [
    "<hr style=\"height:2px; border:none; color:#000; background-color:#000;\">"
   ]
  },
  {
   "cell_type": "markdown",
   "metadata": {},
   "source": [
    "## 16.5.8 Running the MapReduce Job (4 of 4)\n",
    "* Sample **output** shows some **Hadoop feedback** produced as the **MapReduce job executes**\n",
    "    * Used **`...`** to save space \n",
    "* Several lines of interest:\n",
    "\t* The total number of **“input paths to process”**—the **`1` source of input** in this example is **`RomeoAndJuliet.txt`**\n",
    "\t* The **“number of splits”**—`2` in this example, based on the **number of worker nodes** in our **HDInsight cluster**\n",
    "\t* The **percentage completion** dates and times&mdash;**big data jobs** could take minutes, hours, days, ...\n",
    "\t* **`File System Counters`** showing numbers of **bytes read and written**\n",
    "\t* **`Job Counters`** showing the **numbers of mapping and reduction tasks used** \n",
    "\t* **`Map-Reduce Framework`** showing stats about the **steps performed**"
   ]
  },
  {
   "cell_type": "markdown",
   "metadata": {},
   "source": [
    "<hr style=\"height:2px; border:none; color:#000; background-color:#000;\">"
   ]
  },
  {
   "cell_type": "markdown",
   "metadata": {},
   "source": [
    "## Output\n",
    "<pre>\n",
    "packageJobJar: [] [/usr/hdp/2.6.5.3004-13/hadoop-mapreduce/hadoop-streaming-2.7.3.2.6.5.3004-13.jar] /tmp/streamjob2764990629848702405.jar tmpDir=null\n",
    "...\n",
    "18/12/05 16:46:25 INFO mapred.FileInputFormat: <strong>Total input paths to process : 1</strong>\n",
    "18/12/05 16:46:26 INFO mapreduce.JobSubmitter: <strong>number of splits:2</strong>\n",
    "...\n",
    "18/12/05 16:46:26 INFO mapreduce.Job: The url to track the job: http://hn0-paulte.y3nghy5db2kehav5m0opqrjxcb.cx.internal.cloudapp.net:8088/proxy/application_1543953844228_0025/\n",
    "...\n",
    "18/12/05 16:46:35 INFO mapreduce.Job:  <strong>map 0% reduce 0%</strong>\n",
    "18/12/05 16:46:43 INFO mapreduce.Job:  <strong>map 50% reduce 0%</strong>\n",
    "18/12/05 16:46:44 INFO mapreduce.Job:  <strong>map 100% reduce 0%</strong>\n",
    "18/12/05 16:46:48 INFO mapreduce.Job:  <strong>map 100% reduce 100%</strong>\n",
    "18/12/05 16:46:50 INFO mapreduce.Job: Job job_1543953844228_0025 <strong>completed successfully</strong>\n",
    "</pre>"
   ]
  },
  {
   "cell_type": "markdown",
   "metadata": {},
   "source": [
    "<pre>\n",
    "18/12/05 16:46:50 INFO mapreduce.Job: Counters: 49\n",
    "\t<strong>File System Counters</strong>\n",
    "\t\tFILE: Number of bytes read=156411\n",
    "\t\tFILE: Number of bytes written=813764\n",
    "...\n",
    "\t<strong>Job Counters</strong> \n",
    "\t\tLaunched map tasks=2\n",
    "\t\tLaunched reduce tasks=1\n",
    "...\n",
    "\t<strong>Map-Reduce Framework</strong>\n",
    "\t\tMap input records=5260\n",
    "\t\tMap output records=25956\n",
    "\t\tMap output bytes=104493\n",
    "\t\tMap output materialized bytes=156417\n",
    "\t\tInput split bytes=346\n",
    "\t\tCombine input records=0\n",
    "\t\tCombine output records=0\n",
    "\t\tReduce input groups=19\n",
    "\t\tReduce shuffle bytes=156417\n",
    "\t\tReduce input records=25956\n",
    "\t\tReduce output records=19\n",
    "\t\tSpilled Records=51912\n",
    "\t\tShuffled Maps =2\n",
    "\t\tFailed Shuffles=0\n",
    "\t\tMerged Map outputs=2\n",
    "\t\tGC time elapsed (ms)=193\n",
    "\t\tCPU time spent (ms)=4440\n",
    "\t\tPhysical memory (bytes) snapshot=1942798336\n",
    "\t\tVirtual memory (bytes) snapshot=8463282176\n",
    "\t\tTotal committed heap usage (bytes)=3177185280\n",
    "...\n",
    "18/12/05 16:46:50 INFO streaming.StreamJob: Output directory: /example/wordlengthsoutput\n",
    "</pre>"
   ]
  },
  {
   "cell_type": "markdown",
   "metadata": {},
   "source": [
    "<hr style=\"height:2px; border:none; color:#000; background-color:#000;\">"
   ]
  },
  {
   "cell_type": "markdown",
   "metadata": {},
   "source": [
    "### Viewing the Word Counts\n",
    "* **Hadoop MapReduce** saves its output into **HDFS**\n",
    "* To **view final word counts** you must look at the **file in cluster's HDFS**\n",
    "> ```\n",
    "hdfs dfs -text /example/wordlengthsoutput/part-00000\n",
    "```\n",
    "\n",
    "```\n",
    "18/12/05 16:47:19 INFO lzo.GPLNativeCodeLoader: Loaded native gpl library\n",
    "18/12/05 16:47:19 INFO lzo.LzoCodec: Successfully loaded & initialized native-lzo library [hadoop-lzo rev b5efb3e531bc1558201462b8ab15bb412ffa6b89]\n",
    "1\t4699\n",
    "2\t3869\n",
    "3\t5651\n",
    "4\t3668\n",
    "5\t2719\n",
    "6\t1624\n",
    "7\t1140\n",
    "8\t1062\n",
    "9\t855\n",
    "10\t317\n",
    "11\t189\n",
    "12\t95\n",
    "13\t35\n",
    "14\t13\n",
    "15\t9\n",
    "16\t6\n",
    "17\t3\n",
    "18\t1\n",
    "23\t1\n",
    "```"
   ]
  },
  {
   "cell_type": "markdown",
   "metadata": {},
   "source": [
    "<hr style=\"height:2px; border:none; color:#000; background-color:#000;\">"
   ]
  },
  {
   "cell_type": "markdown",
   "metadata": {},
   "source": [
    "### IMPORTANT: Deleting Your Cluster So You Do Not Incur Charges\n",
    "* **Be sure to delete your cluster(s) and associated resources (like storage) so you don’t incur additional charges** \n",
    "    * For details on deleting the cluster, see my [**Python Fundamentals LiveLessons videos**](https://learning.oreilly.com/videos/python-fundamentals/9780135917411/9780135917411-PFLL_Lesson16_32) (deleting is discussed around the 9:00 minute mark) and in [**Python for Programmers, Section 16.5.8**](https://learning.oreilly.com/library/view/python-for-programmers/9780135231364/ch16.xhtml#ch16lev2sec23)\n",
    "* [More information](https://docs.microsoft.com/en-us/azure/azure-resource-manager/resource-group-portal)"
   ]
  },
  {
   "cell_type": "markdown",
   "metadata": {},
   "source": [
    "<hr style=\"height:2px; border:none; color:#000; background-color:#000;\">"
   ]
  },
  {
   "cell_type": "markdown",
   "metadata": {},
   "source": [
    "### Lecture Note: Switch to **jupyter/pyspark-notebook Docker stack** for Spark presentation"
   ]
  },
  {
   "cell_type": "markdown",
   "metadata": {},
   "source": [
    "<hr style=\"height:2px; border:none; color:#000; background-color:#000;\">"
   ]
  },
  {
   "cell_type": "markdown",
   "metadata": {},
   "source": [
    "# More Info \n",
    "* See Lesson 16 in [**Python Fundamentals LiveLessons** here on O'Reilly Online Learning](https://learning.oreilly.com/videos/python-fundamentals/9780135917411)\n",
    "* See Chapter 16 in [**Python for Programmers** on O'Reilly Online Learning](https://learning.oreilly.com/library/view/python-for-programmers/9780135231364/)\n",
    "* See Chapter 17 in [**Intro Python for Computer Science and Data Science** on O'Reilly Online Learning](https://learning.oreilly.com/library/view/intro-to-python/9780135404799/)\n",
    "* Interested in a print book? Check out:\n",
    "\n",
    "| Python for Programmers<br>(640-page professional book) | Intro to Python for Computer<br>Science and Data Science<br>(880-page college textbook)\n",
    "| :------ | :------\n",
    "| <a href=\"https://amzn.to/2VvdnxE\"><img alt=\"Python for Programmers cover\" src=\"../images/PyFPCover.png\" width=\"150\" border=\"1\"/></a> | <a href=\"https://amzn.to/2LiDCmt\"><img alt=\"Intro to Python for Computer Science and Data Science: Learning to Program with AI, Big Data and the Cloud\" src=\"../images/IntroToPythonCover.png\" width=\"159\" border=\"1\"></a>\n",
    "\n",
    ">Please **do not** purchase both books&mdash;_Python for Programmers_ is a subset of _Intro to Python for Computer Science and Data Science_"
   ]
  },
  {
   "cell_type": "markdown",
   "metadata": {},
   "source": [
    "<hr style=\"height:2px; border:none; color:#000; background-color:#000;\">"
   ]
  },
  {
   "cell_type": "markdown",
   "metadata": {},
   "source": [
    "&copy; 2019 by Pearson Education, Inc. All Rights Reserved. The content in this notebook is based on the book [**Python for Programmers**](https://amzn.to/2VvdnxE)."
   ]
  }
 ],
 "metadata": {
  "kernelspec": {
   "display_name": "Python 3",
   "language": "python",
   "name": "python3"
  },
  "language_info": {
   "codemirror_mode": {
    "name": "ipython",
    "version": 3
   },
   "file_extension": ".py",
   "mimetype": "text/x-python",
   "name": "python",
   "nbconvert_exporter": "python",
   "pygments_lexer": "ipython3",
   "version": "3.8.5"
  }
 },
 "nbformat": 4,
 "nbformat_minor": 4
}
